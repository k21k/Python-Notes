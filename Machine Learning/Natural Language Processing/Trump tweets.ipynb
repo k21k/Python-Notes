{
 "cells": [
  {
   "cell_type": "markdown",
   "metadata": {},
   "source": [
    "# IMP\n",
    "*This article will clear many things including pipelines, optimization. Please do read it.[LINK TO ARTICLE](https://medium.com/vickdata/a-simple-guide-to-scikit-learn-pipelines-4ac0d974bdcf)*"
   ]
  },
  {
   "cell_type": "markdown",
   "metadata": {},
   "source": [
    "# Trump tweets sentiment Analysis"
   ]
  },
  {
   "cell_type": "markdown",
   "metadata": {},
   "source": [
    "# Data about Data \n",
    "\n",
    "You are provided with a large number trump tweets and you are supposed to perform sentiment analysis.\n",
    "\n",
    "Note: You have the preprocessed version of Trump's tweets dataset. Feel free to use that one."
   ]
  },
  {
   "cell_type": "markdown",
   "metadata": {},
   "source": [
    "___\n",
    "\n",
    "***Things to do***\n",
    "- Perform the data pre-processing.\n",
    "- Perform EDA\n",
    "- If there's an empty `Tweet`, drop it.\n",
    "- Remove punctuation\n",
    "- Create a word_cloud of Positive and Negative words using this [technique HERE](https://www.geeksforgeeks.org/generating-word-cloud-python/)\n",
    "\n",
    "- Convert each review to a numeric representation (Vectorization) - Use CountVectorizer \n",
    "- Build a LogisticRegression Classifier.\n",
    "- Train the model.\n",
    "\n",
    "### Now let's try to improve the model's performance\n",
    "- Remove stop words\n",
    "- Create a corpus\n",
    "- Normalize the words in your corpus by trying to convert all of the different forms of a given word into one. Two methods that exist for this are Stemming and Lemmatization.\n",
    "- (n-gram) We can potentially add more predictive power to our model by adding two or three word sequences (bigrams or trigrams) as well.\n",
    "- Train your model again and compare accuracies. \n",
    " \n",
    "***What will be new***\n",
    "- N-gram will be a new concept, but sklearn makes it very easier to implement, just use the ngram_range argument with any of the ‘Vectorizer’ classes.\n",
    "- How to create some cool word_clouds "
   ]
  },
  {
   "cell_type": "code",
   "execution_count": null,
   "metadata": {},
   "outputs": [],
   "source": []
  }
 ],
 "metadata": {
  "kernelspec": {
   "display_name": "Python 3",
   "language": "python",
   "name": "python3"
  },
  "language_info": {
   "codemirror_mode": {
    "name": "ipython",
    "version": 3
   },
   "file_extension": ".py",
   "mimetype": "text/x-python",
   "name": "python",
   "nbconvert_exporter": "python",
   "pygments_lexer": "ipython3",
   "version": "3.7.4"
  },
  "latex_envs": {
   "LaTeX_envs_menu_present": true,
   "autoclose": false,
   "autocomplete": true,
   "bibliofile": "biblio.bib",
   "cite_by": "apalike",
   "current_citInitial": 1,
   "eqLabelWithNumbers": true,
   "eqNumInitial": 1,
   "hotkeys": {
    "equation": "Ctrl-E",
    "itemize": "Ctrl-I"
   },
   "labels_anchors": false,
   "latex_user_defs": false,
   "report_style_numbering": false,
   "user_envs_cfg": false
  }
 },
 "nbformat": 4,
 "nbformat_minor": 2
}
