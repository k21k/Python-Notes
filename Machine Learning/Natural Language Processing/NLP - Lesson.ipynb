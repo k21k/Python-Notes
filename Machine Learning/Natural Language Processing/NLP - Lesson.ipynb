{
 "cells": [
  {
   "cell_type": "markdown",
   "metadata": {
    "Collapsed": "false"
   },
   "source": [
    "# NATURAL LANGUAGE PROCESSING"
   ]
  },
  {
   "cell_type": "markdown",
   "metadata": {
    "Collapsed": "false"
   },
   "source": [
    "## Data Preparation"
   ]
  },
  {
   "cell_type": "code",
   "execution_count": 58,
   "metadata": {
    "Collapsed": "false"
   },
   "outputs": [
    {
     "data": {
      "text/html": [
       "<div>\n",
       "<style scoped>\n",
       "    .dataframe tbody tr th:only-of-type {\n",
       "        vertical-align: middle;\n",
       "    }\n",
       "\n",
       "    .dataframe tbody tr th {\n",
       "        vertical-align: top;\n",
       "    }\n",
       "\n",
       "    .dataframe thead th {\n",
       "        text-align: right;\n",
       "    }\n",
       "</style>\n",
       "<table border=\"1\" class=\"dataframe\">\n",
       "  <thead>\n",
       "    <tr style=\"text-align: right;\">\n",
       "      <th></th>\n",
       "      <th>stars</th>\n",
       "      <th>text</th>\n",
       "      <th>cool</th>\n",
       "      <th>useful</th>\n",
       "      <th>funny</th>\n",
       "    </tr>\n",
       "  </thead>\n",
       "  <tbody>\n",
       "    <tr>\n",
       "      <th>0</th>\n",
       "      <td>5</td>\n",
       "      <td>My wife took me here on my birthday for breakf...</td>\n",
       "      <td>2</td>\n",
       "      <td>5</td>\n",
       "      <td>0</td>\n",
       "    </tr>\n",
       "    <tr>\n",
       "      <th>1</th>\n",
       "      <td>5</td>\n",
       "      <td>I have no idea why some people give bad review...</td>\n",
       "      <td>0</td>\n",
       "      <td>0</td>\n",
       "      <td>0</td>\n",
       "    </tr>\n",
       "    <tr>\n",
       "      <th>2</th>\n",
       "      <td>4</td>\n",
       "      <td>love the gyro plate. Rice is so good and I als...</td>\n",
       "      <td>0</td>\n",
       "      <td>1</td>\n",
       "      <td>0</td>\n",
       "    </tr>\n",
       "    <tr>\n",
       "      <th>3</th>\n",
       "      <td>5</td>\n",
       "      <td>Rosie, Dakota, and I LOVE Chaparral Dog Park!!...</td>\n",
       "      <td>1</td>\n",
       "      <td>2</td>\n",
       "      <td>0</td>\n",
       "    </tr>\n",
       "    <tr>\n",
       "      <th>4</th>\n",
       "      <td>5</td>\n",
       "      <td>General Manager Scott Petello is a good egg!!!...</td>\n",
       "      <td>0</td>\n",
       "      <td>0</td>\n",
       "      <td>0</td>\n",
       "    </tr>\n",
       "  </tbody>\n",
       "</table>\n",
       "</div>"
      ],
      "text/plain": [
       "   stars                                               text  cool  useful  \\\n",
       "0      5  My wife took me here on my birthday for breakf...     2       5   \n",
       "1      5  I have no idea why some people give bad review...     0       0   \n",
       "2      4  love the gyro plate. Rice is so good and I als...     0       1   \n",
       "3      5  Rosie, Dakota, and I LOVE Chaparral Dog Park!!...     1       2   \n",
       "4      5  General Manager Scott Petello is a good egg!!!...     0       0   \n",
       "\n",
       "   funny  \n",
       "0      0  \n",
       "1      0  \n",
       "2      0  \n",
       "3      0  \n",
       "4      0  "
      ]
     },
     "execution_count": 58,
     "metadata": {},
     "output_type": "execute_result"
    }
   ],
   "source": [
    "import numpy as np\n",
    "import pandas as pd\n",
    "import nltk \n",
    "\n",
    "df = pd.read_csv('yelp.csv')\n",
    "df = df[['stars','text', 'cool','useful','funny']]\n",
    "df.head()"
   ]
  },
  {
   "cell_type": "markdown",
   "metadata": {
    "Collapsed": "false"
   },
   "source": [
    "### Punctuation, Text Length, Tokenization"
   ]
  },
  {
   "cell_type": "code",
   "execution_count": 59,
   "metadata": {
    "Collapsed": "false"
   },
   "outputs": [
    {
     "data": {
      "text/html": [
       "<div>\n",
       "<style scoped>\n",
       "    .dataframe tbody tr th:only-of-type {\n",
       "        vertical-align: middle;\n",
       "    }\n",
       "\n",
       "    .dataframe tbody tr th {\n",
       "        vertical-align: top;\n",
       "    }\n",
       "\n",
       "    .dataframe thead th {\n",
       "        text-align: right;\n",
       "    }\n",
       "</style>\n",
       "<table border=\"1\" class=\"dataframe\">\n",
       "  <thead>\n",
       "    <tr style=\"text-align: right;\">\n",
       "      <th></th>\n",
       "      <th>stars</th>\n",
       "      <th>text</th>\n",
       "      <th>cool</th>\n",
       "      <th>useful</th>\n",
       "      <th>funny</th>\n",
       "      <th>text lenght</th>\n",
       "    </tr>\n",
       "  </thead>\n",
       "  <tbody>\n",
       "    <tr>\n",
       "      <th>0</th>\n",
       "      <td>5</td>\n",
       "      <td>my wife took me here on my birthday for breakf...</td>\n",
       "      <td>2</td>\n",
       "      <td>5</td>\n",
       "      <td>0</td>\n",
       "      <td>161</td>\n",
       "    </tr>\n",
       "    <tr>\n",
       "      <th>1</th>\n",
       "      <td>5</td>\n",
       "      <td>i have no idea why some people give bad review...</td>\n",
       "      <td>0</td>\n",
       "      <td>0</td>\n",
       "      <td>0</td>\n",
       "      <td>266</td>\n",
       "    </tr>\n",
       "    <tr>\n",
       "      <th>2</th>\n",
       "      <td>4</td>\n",
       "      <td>love the gyro plate. rice is so good and i als...</td>\n",
       "      <td>0</td>\n",
       "      <td>1</td>\n",
       "      <td>0</td>\n",
       "      <td>16</td>\n",
       "    </tr>\n",
       "    <tr>\n",
       "      <th>3</th>\n",
       "      <td>5</td>\n",
       "      <td>rosie, dakota, and i love chaparral dog park!!...</td>\n",
       "      <td>1</td>\n",
       "      <td>2</td>\n",
       "      <td>0</td>\n",
       "      <td>79</td>\n",
       "    </tr>\n",
       "    <tr>\n",
       "      <th>4</th>\n",
       "      <td>5</td>\n",
       "      <td>general manager scott petello is a good egg!!!...</td>\n",
       "      <td>0</td>\n",
       "      <td>0</td>\n",
       "      <td>0</td>\n",
       "      <td>89</td>\n",
       "    </tr>\n",
       "  </tbody>\n",
       "</table>\n",
       "</div>"
      ],
      "text/plain": [
       "   stars                                               text  cool  useful  \\\n",
       "0      5  my wife took me here on my birthday for breakf...     2       5   \n",
       "1      5  i have no idea why some people give bad review...     0       0   \n",
       "2      4  love the gyro plate. rice is so good and i als...     0       1   \n",
       "3      5  rosie, dakota, and i love chaparral dog park!!...     1       2   \n",
       "4      5  general manager scott petello is a good egg!!!...     0       0   \n",
       "\n",
       "   funny  text lenght  \n",
       "0      0          161  \n",
       "1      0          266  \n",
       "2      0           16  \n",
       "3      0           79  \n",
       "4      0           89  "
      ]
     },
     "execution_count": 59,
     "metadata": {},
     "output_type": "execute_result"
    }
   ],
   "source": [
    "# remove punctuation, add a clolumn with text length, , make lower cases\n",
    "\n",
    "df['text'] = df['text'].str.lower() \n",
    "df['text lenght'] = (df['text'].str.split('[\\W_]+'))\n",
    "df['text lenght'] = df['text lenght'].str.len()\n",
    "\n",
    "df.head()\n",
    "\n",
    "# NOTE TO MYSELF\n",
    "# '\\w' is a special character that will match any alphanumeric A-z, a-z, 0-9, along with underscores;\n",
    "# '+' means that the previous character in the regex can appear as many times as we want\n",
    "# This means that '\\w+'' will match arbitrary sequences of alphanumeric characters and underscores."
   ]
  },
  {
   "cell_type": "code",
   "execution_count": 60,
   "metadata": {
    "Collapsed": "false"
   },
   "outputs": [
    {
     "data": {
      "text/html": [
       "<div>\n",
       "<style scoped>\n",
       "    .dataframe tbody tr th:only-of-type {\n",
       "        vertical-align: middle;\n",
       "    }\n",
       "\n",
       "    .dataframe tbody tr th {\n",
       "        vertical-align: top;\n",
       "    }\n",
       "\n",
       "    .dataframe thead th {\n",
       "        text-align: right;\n",
       "    }\n",
       "</style>\n",
       "<table border=\"1\" class=\"dataframe\">\n",
       "  <thead>\n",
       "    <tr style=\"text-align: right;\">\n",
       "      <th></th>\n",
       "      <th>stars</th>\n",
       "      <th>text</th>\n",
       "      <th>cool</th>\n",
       "      <th>useful</th>\n",
       "      <th>funny</th>\n",
       "      <th>text lenght</th>\n",
       "      <th>text_split</th>\n",
       "    </tr>\n",
       "  </thead>\n",
       "  <tbody>\n",
       "    <tr>\n",
       "      <th>0</th>\n",
       "      <td>5</td>\n",
       "      <td>my wife took me here on my birthday for breakf...</td>\n",
       "      <td>2</td>\n",
       "      <td>5</td>\n",
       "      <td>0</td>\n",
       "      <td>161</td>\n",
       "      <td>['my', 'wife', 'took', 'me', 'here', 'on', 'my...</td>\n",
       "    </tr>\n",
       "    <tr>\n",
       "      <th>1</th>\n",
       "      <td>5</td>\n",
       "      <td>i have no idea why some people give bad review...</td>\n",
       "      <td>0</td>\n",
       "      <td>0</td>\n",
       "      <td>0</td>\n",
       "      <td>266</td>\n",
       "      <td>['i', 'have', 'no', 'idea', 'why', 'some', 'pe...</td>\n",
       "    </tr>\n",
       "    <tr>\n",
       "      <th>2</th>\n",
       "      <td>4</td>\n",
       "      <td>love the gyro plate. rice is so good and i als...</td>\n",
       "      <td>0</td>\n",
       "      <td>1</td>\n",
       "      <td>0</td>\n",
       "      <td>16</td>\n",
       "      <td>['love', 'the', 'gyro', 'plate', 'rice', 'is',...</td>\n",
       "    </tr>\n",
       "    <tr>\n",
       "      <th>3</th>\n",
       "      <td>5</td>\n",
       "      <td>rosie, dakota, and i love chaparral dog park!!...</td>\n",
       "      <td>1</td>\n",
       "      <td>2</td>\n",
       "      <td>0</td>\n",
       "      <td>79</td>\n",
       "      <td>['rosie', 'dakota', 'and', 'i', 'love', 'chapa...</td>\n",
       "    </tr>\n",
       "    <tr>\n",
       "      <th>4</th>\n",
       "      <td>5</td>\n",
       "      <td>general manager scott petello is a good egg!!!...</td>\n",
       "      <td>0</td>\n",
       "      <td>0</td>\n",
       "      <td>0</td>\n",
       "      <td>89</td>\n",
       "      <td>['general', 'manager', 'scott', 'petello', 'is...</td>\n",
       "    </tr>\n",
       "  </tbody>\n",
       "</table>\n",
       "</div>"
      ],
      "text/plain": [
       "   stars                                               text  cool  useful  \\\n",
       "0      5  my wife took me here on my birthday for breakf...     2       5   \n",
       "1      5  i have no idea why some people give bad review...     0       0   \n",
       "2      4  love the gyro plate. rice is so good and i als...     0       1   \n",
       "3      5  rosie, dakota, and i love chaparral dog park!!...     1       2   \n",
       "4      5  general manager scott petello is a good egg!!!...     0       0   \n",
       "\n",
       "   funny  text lenght                                         text_split  \n",
       "0      0          161  ['my', 'wife', 'took', 'me', 'here', 'on', 'my...  \n",
       "1      0          266  ['i', 'have', 'no', 'idea', 'why', 'some', 'pe...  \n",
       "2      0           16  ['love', 'the', 'gyro', 'plate', 'rice', 'is',...  \n",
       "3      0           79  ['rosie', 'dakota', 'and', 'i', 'love', 'chapa...  \n",
       "4      0           89  ['general', 'manager', 'scott', 'petello', 'is...  "
      ]
     },
     "execution_count": 60,
     "metadata": {},
     "output_type": "execute_result"
    }
   ],
   "source": [
    "# prepare a column with the text splited (without puntuation), \n",
    "df['text_split'] = (df['text'].str.split('[\\W_]+'))\n",
    "df['text_split'] = df['text_split'].astype(str)\n",
    "df.head()"
   ]
  },
  {
   "cell_type": "code",
   "execution_count": 61,
   "metadata": {
    "Collapsed": "false"
   },
   "outputs": [
    {
     "data": {
      "text/html": [
       "<div>\n",
       "<style scoped>\n",
       "    .dataframe tbody tr th:only-of-type {\n",
       "        vertical-align: middle;\n",
       "    }\n",
       "\n",
       "    .dataframe tbody tr th {\n",
       "        vertical-align: top;\n",
       "    }\n",
       "\n",
       "    .dataframe thead th {\n",
       "        text-align: right;\n",
       "    }\n",
       "</style>\n",
       "<table border=\"1\" class=\"dataframe\">\n",
       "  <thead>\n",
       "    <tr style=\"text-align: right;\">\n",
       "      <th></th>\n",
       "      <th>stars</th>\n",
       "      <th>text</th>\n",
       "      <th>cool</th>\n",
       "      <th>useful</th>\n",
       "      <th>funny</th>\n",
       "      <th>text lenght</th>\n",
       "      <th>text_split</th>\n",
       "      <th>tokenized</th>\n",
       "    </tr>\n",
       "  </thead>\n",
       "  <tbody>\n",
       "    <tr>\n",
       "      <th>0</th>\n",
       "      <td>5</td>\n",
       "      <td>my wife took me here on my birthday for breakf...</td>\n",
       "      <td>2</td>\n",
       "      <td>5</td>\n",
       "      <td>0</td>\n",
       "      <td>161</td>\n",
       "      <td>['my', 'wife', 'took', 'me', 'here', 'on', 'my...</td>\n",
       "      <td>[my, wife, took, me, here, on, my, birthday, f...</td>\n",
       "    </tr>\n",
       "    <tr>\n",
       "      <th>1</th>\n",
       "      <td>5</td>\n",
       "      <td>i have no idea why some people give bad review...</td>\n",
       "      <td>0</td>\n",
       "      <td>0</td>\n",
       "      <td>0</td>\n",
       "      <td>266</td>\n",
       "      <td>['i', 'have', 'no', 'idea', 'why', 'some', 'pe...</td>\n",
       "      <td>[i, have, no, idea, why, some, people, give, b...</td>\n",
       "    </tr>\n",
       "    <tr>\n",
       "      <th>2</th>\n",
       "      <td>4</td>\n",
       "      <td>love the gyro plate. rice is so good and i als...</td>\n",
       "      <td>0</td>\n",
       "      <td>1</td>\n",
       "      <td>0</td>\n",
       "      <td>16</td>\n",
       "      <td>['love', 'the', 'gyro', 'plate', 'rice', 'is',...</td>\n",
       "      <td>[love, the, gyro, plate, ., rice, is, so, good...</td>\n",
       "    </tr>\n",
       "    <tr>\n",
       "      <th>3</th>\n",
       "      <td>5</td>\n",
       "      <td>rosie, dakota, and i love chaparral dog park!!...</td>\n",
       "      <td>1</td>\n",
       "      <td>2</td>\n",
       "      <td>0</td>\n",
       "      <td>79</td>\n",
       "      <td>['rosie', 'dakota', 'and', 'i', 'love', 'chapa...</td>\n",
       "      <td>[rosie, ,, dakota, ,, and, i, love, chaparral,...</td>\n",
       "    </tr>\n",
       "    <tr>\n",
       "      <th>4</th>\n",
       "      <td>5</td>\n",
       "      <td>general manager scott petello is a good egg!!!...</td>\n",
       "      <td>0</td>\n",
       "      <td>0</td>\n",
       "      <td>0</td>\n",
       "      <td>89</td>\n",
       "      <td>['general', 'manager', 'scott', 'petello', 'is...</td>\n",
       "      <td>[general, manager, scott, petello, is, a, good...</td>\n",
       "    </tr>\n",
       "  </tbody>\n",
       "</table>\n",
       "</div>"
      ],
      "text/plain": [
       "   stars                                               text  cool  useful  \\\n",
       "0      5  my wife took me here on my birthday for breakf...     2       5   \n",
       "1      5  i have no idea why some people give bad review...     0       0   \n",
       "2      4  love the gyro plate. rice is so good and i als...     0       1   \n",
       "3      5  rosie, dakota, and i love chaparral dog park!!...     1       2   \n",
       "4      5  general manager scott petello is a good egg!!!...     0       0   \n",
       "\n",
       "   funny  text lenght                                         text_split  \\\n",
       "0      0          161  ['my', 'wife', 'took', 'me', 'here', 'on', 'my...   \n",
       "1      0          266  ['i', 'have', 'no', 'idea', 'why', 'some', 'pe...   \n",
       "2      0           16  ['love', 'the', 'gyro', 'plate', 'rice', 'is',...   \n",
       "3      0           79  ['rosie', 'dakota', 'and', 'i', 'love', 'chapa...   \n",
       "4      0           89  ['general', 'manager', 'scott', 'petello', 'is...   \n",
       "\n",
       "                                           tokenized  \n",
       "0  [my, wife, took, me, here, on, my, birthday, f...  \n",
       "1  [i, have, no, idea, why, some, people, give, b...  \n",
       "2  [love, the, gyro, plate, ., rice, is, so, good...  \n",
       "3  [rosie, ,, dakota, ,, and, i, love, chaparral,...  \n",
       "4  [general, manager, scott, petello, is, a, good...  "
      ]
     },
     "execution_count": 61,
     "metadata": {},
     "output_type": "execute_result"
    }
   ],
   "source": [
    "# this does exactly the same as above - but it keeps the punctuation and doe snot have the ''\n",
    "from nltk.tokenize import word_tokenize\n",
    "\n",
    "df['tokenized'] = df['text'].apply(nltk.word_tokenize)\n",
    "df.head()"
   ]
  },
  {
   "cell_type": "code",
   "execution_count": 62,
   "metadata": {
    "Collapsed": "false"
   },
   "outputs": [],
   "source": [
    "# QUESTION\n",
    "\n",
    "# Does the format difference means something?\n",
    "    # 'text_split ' ['my', 'wife', 'took', 'me', 'here']\n",
    "    # 'tokenized' [my, wife, took, me, here]\n",
    "\n",
    "# WHy 1/ works and not 2/ (TypeError: expected string or bytes-like object) ?\n",
    "    # 1/ df['tokenized'] = df['text'].apply(nltk.word_tokenize)\n",
    "    # 2/ tk = (nltk.word_tokenize(df['text']))   >> https://pythonhealthcare.org/2018/12/14/101-pre-processing-data-tokenization-stemming-and-removal-of-stop-words/"
   ]
  },
  {
   "cell_type": "markdown",
   "metadata": {
    "Collapsed": "false"
   },
   "source": [
    "## Remove Stop Words"
   ]
  },
  {
   "cell_type": "markdown",
   "metadata": {
    "Collapsed": "false"
   },
   "source": [
    "### Simple Example with: NLTK"
   ]
  },
  {
   "cell_type": "code",
   "execution_count": 63,
   "metadata": {
    "Collapsed": "false"
   },
   "outputs": [
    {
     "name": "stdout",
     "output_type": "stream",
     "text": [
      "['This', 'is', 'a', 'sample', 'sentence', ',', 'showing', 'off', 'the', 'stop', 'words', 'filtration', '.']\n",
      "['This', 'sample', 'sentence', ',', 'showing', 'stop', 'words', 'filtration', '.']\n"
     ]
    }
   ],
   "source": [
    "from nltk.corpus import stopwords\n",
    "from nltk.tokenize import word_tokenize\n",
    "\n",
    "example_sent = \"This is a sample sentence, showing off the stop words filtration.\"\n",
    "\n",
    "stop_words = set(stopwords.words('english'))\n",
    "\n",
    "word_tokens = word_tokenize(example_sent)\n",
    "\n",
    "filtered_sentence = [w for w in word_tokens if not w in stop_words]\n",
    "\n",
    "filtered_sentence = []\n",
    "\n",
    "for w in word_tokens:\n",
    "    if w not in stop_words:\n",
    "        filtered_sentence.append(w)\n",
    "\n",
    "print(word_tokens)\n",
    "print(filtered_sentence)"
   ]
  },
  {
   "cell_type": "markdown",
   "metadata": {
    "Collapsed": "false"
   },
   "source": [
    "### Remove Stop Words on df with NLTK"
   ]
  },
  {
   "cell_type": "code",
   "execution_count": 67,
   "metadata": {
    "Collapsed": "false"
   },
   "outputs": [
    {
     "data": {
      "text/html": [
       "<div>\n",
       "<style scoped>\n",
       "    .dataframe tbody tr th:only-of-type {\n",
       "        vertical-align: middle;\n",
       "    }\n",
       "\n",
       "    .dataframe tbody tr th {\n",
       "        vertical-align: top;\n",
       "    }\n",
       "\n",
       "    .dataframe thead th {\n",
       "        text-align: right;\n",
       "    }\n",
       "</style>\n",
       "<table border=\"1\" class=\"dataframe\">\n",
       "  <thead>\n",
       "    <tr style=\"text-align: right;\">\n",
       "      <th></th>\n",
       "      <th>stars</th>\n",
       "      <th>text</th>\n",
       "      <th>cool</th>\n",
       "      <th>useful</th>\n",
       "      <th>funny</th>\n",
       "      <th>text lenght</th>\n",
       "      <th>text_split</th>\n",
       "      <th>tokenized</th>\n",
       "      <th>cleantext</th>\n",
       "    </tr>\n",
       "  </thead>\n",
       "  <tbody>\n",
       "    <tr>\n",
       "      <th>0</th>\n",
       "      <td>5</td>\n",
       "      <td>my wife took me here on my birthday for breakf...</td>\n",
       "      <td>2</td>\n",
       "      <td>5</td>\n",
       "      <td>0</td>\n",
       "      <td>161</td>\n",
       "      <td>['my', 'wife', 'took', 'me', 'here', 'on', 'my...</td>\n",
       "      <td>[my, wife, took, me, here, on, my, birthday, f...</td>\n",
       "      <td>wife took birthday breakfast excellent weather...</td>\n",
       "    </tr>\n",
       "    <tr>\n",
       "      <th>1</th>\n",
       "      <td>5</td>\n",
       "      <td>i have no idea why some people give bad review...</td>\n",
       "      <td>0</td>\n",
       "      <td>0</td>\n",
       "      <td>0</td>\n",
       "      <td>266</td>\n",
       "      <td>['i', 'have', 'no', 'idea', 'why', 'some', 'pe...</td>\n",
       "      <td>[i, have, no, idea, why, some, people, give, b...</td>\n",
       "      <td>idea people give bad reviews place goes show p...</td>\n",
       "    </tr>\n",
       "    <tr>\n",
       "      <th>2</th>\n",
       "      <td>4</td>\n",
       "      <td>love the gyro plate. rice is so good and i als...</td>\n",
       "      <td>0</td>\n",
       "      <td>1</td>\n",
       "      <td>0</td>\n",
       "      <td>16</td>\n",
       "      <td>['love', 'the', 'gyro', 'plate', 'rice', 'is',...</td>\n",
       "      <td>[love, the, gyro, plate, ., rice, is, so, good...</td>\n",
       "      <td>love gyro plate rice good also dig candy selec...</td>\n",
       "    </tr>\n",
       "    <tr>\n",
       "      <th>3</th>\n",
       "      <td>5</td>\n",
       "      <td>rosie, dakota, and i love chaparral dog park!!...</td>\n",
       "      <td>1</td>\n",
       "      <td>2</td>\n",
       "      <td>0</td>\n",
       "      <td>79</td>\n",
       "      <td>['rosie', 'dakota', 'and', 'i', 'love', 'chapa...</td>\n",
       "      <td>[rosie, ,, dakota, ,, and, i, love, chaparral,...</td>\n",
       "      <td>rosie dakota love chaparral dog park convenien...</td>\n",
       "    </tr>\n",
       "    <tr>\n",
       "      <th>4</th>\n",
       "      <td>5</td>\n",
       "      <td>general manager scott petello is a good egg!!!...</td>\n",
       "      <td>0</td>\n",
       "      <td>0</td>\n",
       "      <td>0</td>\n",
       "      <td>89</td>\n",
       "      <td>['general', 'manager', 'scott', 'petello', 'is...</td>\n",
       "      <td>[general, manager, scott, petello, is, a, good...</td>\n",
       "      <td>general manager scott petello good egg go deta...</td>\n",
       "    </tr>\n",
       "  </tbody>\n",
       "</table>\n",
       "</div>"
      ],
      "text/plain": [
       "   stars                                               text  cool  useful  \\\n",
       "0      5  my wife took me here on my birthday for breakf...     2       5   \n",
       "1      5  i have no idea why some people give bad review...     0       0   \n",
       "2      4  love the gyro plate. rice is so good and i als...     0       1   \n",
       "3      5  rosie, dakota, and i love chaparral dog park!!...     1       2   \n",
       "4      5  general manager scott petello is a good egg!!!...     0       0   \n",
       "\n",
       "   funny  text lenght                                         text_split  \\\n",
       "0      0          161  ['my', 'wife', 'took', 'me', 'here', 'on', 'my...   \n",
       "1      0          266  ['i', 'have', 'no', 'idea', 'why', 'some', 'pe...   \n",
       "2      0           16  ['love', 'the', 'gyro', 'plate', 'rice', 'is',...   \n",
       "3      0           79  ['rosie', 'dakota', 'and', 'i', 'love', 'chapa...   \n",
       "4      0           89  ['general', 'manager', 'scott', 'petello', 'is...   \n",
       "\n",
       "                                           tokenized  \\\n",
       "0  [my, wife, took, me, here, on, my, birthday, f...   \n",
       "1  [i, have, no, idea, why, some, people, give, b...   \n",
       "2  [love, the, gyro, plate, ., rice, is, so, good...   \n",
       "3  [rosie, ,, dakota, ,, and, i, love, chaparral,...   \n",
       "4  [general, manager, scott, petello, is, a, good...   \n",
       "\n",
       "                                           cleantext  \n",
       "0  wife took birthday breakfast excellent weather...  \n",
       "1  idea people give bad reviews place goes show p...  \n",
       "2  love gyro plate rice good also dig candy selec...  \n",
       "3  rosie dakota love chaparral dog park convenien...  \n",
       "4  general manager scott petello good egg go deta...  "
      ]
     },
     "execution_count": 67,
     "metadata": {},
     "output_type": "execute_result"
    }
   ],
   "source": [
    "from nltk.corpus import stopwords\n",
    "stop_words = set(stopwords.words('english'))\n",
    "\n",
    "def remove_stop_words(corpus):\n",
    "    removed_stop_words = []\n",
    "    for review in corpus:\n",
    "        removed_stop_words.append(\n",
    "            ' '.join([word for word in review.split() \n",
    "                      if word not in stop_words]))\n",
    "    return removed_stop_words\n",
    "\n",
    "df['cleantext'] = df['text'].str.lower()\n",
    "df['cleantext'] = df['cleantext'].str.replace('[\\W_]+',' ')\n",
    "df['cleantext'] = remove_stop_words(df['cleantext'])\n",
    "df.head()"
   ]
  },
  {
   "cell_type": "code",
   "execution_count": 34,
   "metadata": {
    "Collapsed": "false"
   },
   "outputs": [
    {
     "data": {
      "text/plain": [
       "['[\\'my\\', \\'wife\\', \\'took\\', \\'me\\', \\'here\\', \\'on\\', \\'my\\', \\'birthday\\', \\'for\\', \\'breakfast\\', \\'and\\', \\'it\\', \\'was\\', \\'excellent\\', \\'.\\', \\'the\\', \\'weather\\', \\'was\\', \\'perfect\\', \\'which\\', \\'made\\', \\'sitting\\', \\'outside\\', \\'overlooking\\', \\'their\\', \\'grounds\\', \\'an\\', \\'absolute\\', \\'pleasure\\', \\'.\\', \\'our\\', \\'waitress\\', \\'was\\', \\'excellent\\', \\'and\\', \\'our\\', \\'food\\', \\'arrived\\', \\'quickly\\', \\'on\\', \\'the\\', \\'semi-busy\\', \\'saturday\\', \\'morning\\', \\'.\\', \\'it\\', \\'looked\\', \\'like\\', \\'the\\', \\'place\\', \\'fills\\', \\'up\\', \\'pretty\\', \\'quickly\\', \\'so\\', \\'the\\', \\'earlier\\', \\'you\\', \\'get\\', \\'here\\', \\'the\\', \\'better\\', \\'.\\', \\'do\\', \\'yourself\\', \\'a\\', \\'favor\\', \\'and\\', \\'get\\', \\'their\\', \\'bloody\\', \\'mary\\', \\'.\\', \\'it\\', \\'was\\', \\'phenomenal\\', \\'and\\', \\'simply\\', \\'the\\', \\'best\\', \\'i\\', \"\\'ve\", \\'ever\\', \\'had\\', \\'.\\', \\'i\\', \"\\'m\", \\'pretty\\', \\'sure\\', \\'they\\', \\'only\\', \\'use\\', \\'ingredients\\', \\'from\\', \\'their\\', \\'garden\\', \\'and\\', \\'blend\\', \\'them\\', \\'fresh\\', \\'when\\', \\'you\\', \\'order\\', \\'it\\', \\'.\\', \\'it\\', \\'was\\', \\'amazing\\', \\'.\\', \\'while\\', \\'everything\\', \\'on\\', \\'the\\', \\'menu\\', \\'looks\\', \\'excellent\\', \\',\\', \\'i\\', \\'had\\', \\'the\\', \\'white\\', \\'truffle\\', \\'scrambled\\', \\'eggs\\', \\'vegetable\\', \\'skillet\\', \\'and\\', \\'it\\', \\'was\\', \\'tasty\\', \\'and\\', \\'delicious\\', \\'.\\', \\'it\\', \\'came\\', \\'with\\', \\'2\\', \\'pieces\\', \\'of\\', \\'their\\', \\'griddled\\', \\'bread\\', \\'with\\', \\'was\\', \\'amazing\\', \\'and\\', \\'it\\', \\'absolutely\\', \\'made\\', \\'the\\', \\'meal\\', \\'complete\\', \\'.\\', \\'it\\', \\'was\\', \\'the\\', \\'best\\', \\'``\\', \\'toast\\', \"\\'\\'\", \\'i\\', \"\\'ve\", \\'ever\\', \\'had\\', \\'.\\', \\'anyway\\', \\',\\', \\'i\\', \\'ca\\', \"n\\'t\", \\'wait\\', \\'to\\', \\'go\\', \\'back\\', \\'!\\']']"
      ]
     },
     "execution_count": 34,
     "metadata": {},
     "output_type": "execute_result"
    }
   ],
   "source": [
    "from nltk.corpus import stopwords\n",
    "from nltk.tokenize import word_tokenize\n",
    "\n",
    "stop_words = set(stopwords.words('english'))\n",
    "\n",
    "word_tokens = df['tokenized'].astype(str).tolist()\n",
    "\n",
    "filtered_sentence = [w for w in word_tokens if not w in stop_words]\n",
    "\n",
    "filtered_sentence = []\n",
    "\n",
    "for w in word_tokens:\n",
    "    if w not in stop_words:\n",
    "        filtered_sentence.append(w)\n",
    "\n",
    "filtered_sentence[:1]\n",
    "\n",
    "# QUESTION\n",
    "# Why do I get with weird format? [\\'my\\', \\'wife\\', \\'took\\', \\'me\\', \\'here\\', \\'on\\', \\'my\\', \\'birthday\\']?\n",
    "# Why the stopwords have not been removed?"
   ]
  },
  {
   "cell_type": "code",
   "execution_count": 25,
   "metadata": {
    "Collapsed": "false"
   },
   "outputs": [
    {
     "data": {
      "text/plain": [
       "[\"['my', 'wife', 'took', 'me', 'here', 'on', 'my', 'birthday', 'for', 'breakfast', 'and', 'it', 'was', 'excellent', 'the', 'weather', 'was', 'perfect', 'which', 'made', 'sitting', 'outside', 'overlooking', 'their', 'grounds', 'an', 'absolute', 'pleasure', 'our', 'waitress', 'was', 'excellent', 'and', 'our', 'food', 'arrived', 'quickly', 'on', 'the', 'semi', 'busy', 'saturday', 'morning', 'it', 'looked', 'like', 'the', 'place', 'fills', 'up', 'pretty', 'quickly', 'so', 'the', 'earlier', 'you', 'get', 'here', 'the', 'better', 'do', 'yourself', 'a', 'favor', 'and', 'get', 'their', 'bloody', 'mary', 'it', 'was', 'phenomenal', 'and', 'simply', 'the', 'best', 'i', 've', 'ever', 'had', 'i', 'm', 'pretty', 'sure', 'they', 'only', 'use', 'ingredients', 'from', 'their', 'garden', 'and', 'blend', 'them', 'fresh', 'when', 'you', 'order', 'it', 'it', 'was', 'amazing', 'while', 'everything', 'on', 'the', 'menu', 'looks', 'excellent', 'i', 'had', 'the', 'white', 'truffle', 'scrambled', 'eggs', 'vegetable', 'skillet', 'and', 'it', 'was', 'tasty', 'and', 'delicious', 'it', 'came', 'with', '2', 'pieces', 'of', 'their', 'griddled', 'bread', 'with', 'was', 'amazing', 'and', 'it', 'absolutely', 'made', 'the', 'meal', 'complete', 'it', 'was', 'the', 'best', 'toast', 'i', 've', 'ever', 'had', 'anyway', 'i', 'can', 't', 'wait', 'to', 'go', 'back', '']\"]"
      ]
     },
     "execution_count": 25,
     "metadata": {},
     "output_type": "execute_result"
    }
   ],
   "source": [
    "from nltk.corpus import stopwords\n",
    "from nltk.tokenize import word_tokenize\n",
    "\n",
    "stop_words = set(stopwords.words('english'))\n",
    "\n",
    "word_tokens = df['text_split'].tolist()\n",
    "\n",
    "filtered_sentence = [w for w in word_tokens if not w in stop_words]\n",
    "\n",
    "filtered_sentence = []\n",
    "\n",
    "for w in word_tokens:\n",
    "    if w not in stop_words:\n",
    "        filtered_sentence.append(w)\n",
    "\n",
    "filtered_sentence[:1]\n",
    "\n",
    "# QUESTION\n",
    "# Why the stopwords have not been removed?"
   ]
  },
  {
   "cell_type": "markdown",
   "metadata": {
    "Collapsed": "false"
   },
   "source": [
    "## Stemming and Lemmanization"
   ]
  },
  {
   "cell_type": "markdown",
   "metadata": {
    "Collapsed": "false"
   },
   "source": [
    "Stemming reduces related words to a common stem.\\\n",
    "It is an optional process step, and it is useful to test accuracy with and without stemming. "
   ]
  },
  {
   "cell_type": "code",
   "execution_count": 43,
   "metadata": {
    "Collapsed": "false"
   },
   "outputs": [
    {
     "name": "stdout",
     "output_type": "stream",
     "text": [
      "['frighten', 'frighten', 'frighten']\n"
     ]
    }
   ],
   "source": [
    "from nltk.stem import PorterStemmer\n",
    "stemming = PorterStemmer()\n",
    "my_list = ['frightening', 'frightened', 'frightens']\n",
    "\n",
    "# Using a Python list comprehension method to apply to all words in my_list\n",
    "print ([stemming.stem(word) for word in my_list])\n"
   ]
  },
  {
   "cell_type": "code",
   "execution_count": 68,
   "metadata": {
    "Collapsed": "false"
   },
   "outputs": [
    {
     "name": "stdout",
     "output_type": "stream",
     "text": [
      "Actual: player  Stem: player\n",
      "Actual: learning  Stem: learn\n",
      "Actual: a  Stem: a\n",
      "Actual: play  Stem: play\n",
      "Actual: was  Stem: wa\n",
      "Actual: playing  Stem: play\n",
      "Actual: very  Stem: veri\n",
      "Actual: well  Stem: well\n"
     ]
    }
   ],
   "source": [
    "import nltk\n",
    "from nltk.stem.porter import PorterStemmer\n",
    "porter_stemmer = PorterStemmer()\n",
    "\n",
    "word_data = \"player learning a play was playing very well\"\n",
    "# First Word tokenization\n",
    "nltk_tokens = nltk.word_tokenize(word_data)\n",
    "#Next find the roots of the word\n",
    "for w in nltk_tokens:\n",
    "       print(\"Actual: %s  Stem: %s\"  % (w,porter_stemmer.stem(w)))"
   ]
  },
  {
   "cell_type": "code",
   "execution_count": 69,
   "metadata": {
    "Collapsed": "false"
   },
   "outputs": [
    {
     "name": "stdout",
     "output_type": "stream",
     "text": [
      "Actual: player  Lemma: player\n",
      "Actual: learning  Lemma: learning\n",
      "Actual: a  Lemma: a\n",
      "Actual: play  Lemma: play\n",
      "Actual: was  Lemma: wa\n",
      "Actual: playing  Lemma: playing\n",
      "Actual: very  Lemma: very\n",
      "Actual: well  Lemma: well\n"
     ]
    }
   ],
   "source": [
    "import nltk\n",
    "from nltk.stem import WordNetLemmatizer\n",
    "wordnet_lemmatizer = WordNetLemmatizer()\n",
    "\n",
    "word_data = \"player learning a play was playing very well\"\n",
    "nltk_tokens = nltk.word_tokenize(word_data)\n",
    "for w in nltk_tokens:\n",
    "       print(\"Actual: %s  Lemma: %s\"  % (w,wordnet_lemmatizer.lemmatize(w)))"
   ]
  },
  {
   "cell_type": "code",
   "execution_count": 70,
   "metadata": {
    "Collapsed": "false"
   },
   "outputs": [
    {
     "data": {
      "text/html": [
       "<div>\n",
       "<style scoped>\n",
       "    .dataframe tbody tr th:only-of-type {\n",
       "        vertical-align: middle;\n",
       "    }\n",
       "\n",
       "    .dataframe tbody tr th {\n",
       "        vertical-align: top;\n",
       "    }\n",
       "\n",
       "    .dataframe thead th {\n",
       "        text-align: right;\n",
       "    }\n",
       "</style>\n",
       "<table border=\"1\" class=\"dataframe\">\n",
       "  <thead>\n",
       "    <tr style=\"text-align: right;\">\n",
       "      <th></th>\n",
       "      <th>stars</th>\n",
       "      <th>text</th>\n",
       "      <th>cool</th>\n",
       "      <th>useful</th>\n",
       "      <th>funny</th>\n",
       "      <th>text lenght</th>\n",
       "      <th>text_split</th>\n",
       "      <th>tokenized</th>\n",
       "      <th>cleantext</th>\n",
       "      <th>stemmedtext</th>\n",
       "    </tr>\n",
       "  </thead>\n",
       "  <tbody>\n",
       "    <tr>\n",
       "      <th>0</th>\n",
       "      <td>5</td>\n",
       "      <td>my wife took me here on my birthday for breakf...</td>\n",
       "      <td>2</td>\n",
       "      <td>5</td>\n",
       "      <td>0</td>\n",
       "      <td>161</td>\n",
       "      <td>['my', 'wife', 'took', 'me', 'here', 'on', 'my...</td>\n",
       "      <td>[my, wife, took, me, here, on, my, birthday, f...</td>\n",
       "      <td>wife took birthday breakfast excellent weather...</td>\n",
       "      <td>wife took birthday breakfast excel weather per...</td>\n",
       "    </tr>\n",
       "    <tr>\n",
       "      <th>1</th>\n",
       "      <td>5</td>\n",
       "      <td>i have no idea why some people give bad review...</td>\n",
       "      <td>0</td>\n",
       "      <td>0</td>\n",
       "      <td>0</td>\n",
       "      <td>266</td>\n",
       "      <td>['i', 'have', 'no', 'idea', 'why', 'some', 'pe...</td>\n",
       "      <td>[i, have, no, idea, why, some, people, give, b...</td>\n",
       "      <td>idea people give bad reviews place goes show p...</td>\n",
       "      <td>idea peopl give bad review place goe show plea...</td>\n",
       "    </tr>\n",
       "    <tr>\n",
       "      <th>2</th>\n",
       "      <td>4</td>\n",
       "      <td>love the gyro plate. rice is so good and i als...</td>\n",
       "      <td>0</td>\n",
       "      <td>1</td>\n",
       "      <td>0</td>\n",
       "      <td>16</td>\n",
       "      <td>['love', 'the', 'gyro', 'plate', 'rice', 'is',...</td>\n",
       "      <td>[love, the, gyro, plate, ., rice, is, so, good...</td>\n",
       "      <td>love gyro plate rice good also dig candy selec...</td>\n",
       "      <td>love gyro plate rice good also dig candi select</td>\n",
       "    </tr>\n",
       "    <tr>\n",
       "      <th>3</th>\n",
       "      <td>5</td>\n",
       "      <td>rosie, dakota, and i love chaparral dog park!!...</td>\n",
       "      <td>1</td>\n",
       "      <td>2</td>\n",
       "      <td>0</td>\n",
       "      <td>79</td>\n",
       "      <td>['rosie', 'dakota', 'and', 'i', 'love', 'chapa...</td>\n",
       "      <td>[rosie, ,, dakota, ,, and, i, love, chaparral,...</td>\n",
       "      <td>rosie dakota love chaparral dog park convenien...</td>\n",
       "      <td>rosi dakota love chaparr dog park conveni surr...</td>\n",
       "    </tr>\n",
       "    <tr>\n",
       "      <th>4</th>\n",
       "      <td>5</td>\n",
       "      <td>general manager scott petello is a good egg!!!...</td>\n",
       "      <td>0</td>\n",
       "      <td>0</td>\n",
       "      <td>0</td>\n",
       "      <td>89</td>\n",
       "      <td>['general', 'manager', 'scott', 'petello', 'is...</td>\n",
       "      <td>[general, manager, scott, petello, is, a, good...</td>\n",
       "      <td>general manager scott petello good egg go deta...</td>\n",
       "      <td>gener manag scott petello good egg go detail l...</td>\n",
       "    </tr>\n",
       "  </tbody>\n",
       "</table>\n",
       "</div>"
      ],
      "text/plain": [
       "   stars                                               text  cool  useful  \\\n",
       "0      5  my wife took me here on my birthday for breakf...     2       5   \n",
       "1      5  i have no idea why some people give bad review...     0       0   \n",
       "2      4  love the gyro plate. rice is so good and i als...     0       1   \n",
       "3      5  rosie, dakota, and i love chaparral dog park!!...     1       2   \n",
       "4      5  general manager scott petello is a good egg!!!...     0       0   \n",
       "\n",
       "   funny  text lenght                                         text_split  \\\n",
       "0      0          161  ['my', 'wife', 'took', 'me', 'here', 'on', 'my...   \n",
       "1      0          266  ['i', 'have', 'no', 'idea', 'why', 'some', 'pe...   \n",
       "2      0           16  ['love', 'the', 'gyro', 'plate', 'rice', 'is',...   \n",
       "3      0           79  ['rosie', 'dakota', 'and', 'i', 'love', 'chapa...   \n",
       "4      0           89  ['general', 'manager', 'scott', 'petello', 'is...   \n",
       "\n",
       "                                           tokenized  \\\n",
       "0  [my, wife, took, me, here, on, my, birthday, f...   \n",
       "1  [i, have, no, idea, why, some, people, give, b...   \n",
       "2  [love, the, gyro, plate, ., rice, is, so, good...   \n",
       "3  [rosie, ,, dakota, ,, and, i, love, chaparral,...   \n",
       "4  [general, manager, scott, petello, is, a, good...   \n",
       "\n",
       "                                           cleantext  \\\n",
       "0  wife took birthday breakfast excellent weather...   \n",
       "1  idea people give bad reviews place goes show p...   \n",
       "2  love gyro plate rice good also dig candy selec...   \n",
       "3  rosie dakota love chaparral dog park convenien...   \n",
       "4  general manager scott petello good egg go deta...   \n",
       "\n",
       "                                         stemmedtext  \n",
       "0  wife took birthday breakfast excel weather per...  \n",
       "1  idea peopl give bad review place goe show plea...  \n",
       "2    love gyro plate rice good also dig candi select  \n",
       "3  rosi dakota love chaparr dog park conveni surr...  \n",
       "4  gener manag scott petello good egg go detail l...  "
      ]
     },
     "execution_count": 70,
     "metadata": {},
     "output_type": "execute_result"
    }
   ],
   "source": [
    "# Stemming\n",
    "from nltk.stem.porter import PorterStemmer\n",
    "\n",
    "def get_stemmed_text(corpus):\n",
    "    stemmer = PorterStemmer()\n",
    "    return [' '.join([stemmer.stem(word) for word in review.split()]) for review in corpus]\n",
    "\n",
    "df['stemmedtext'] = get_stemmed_text(df['cleantext'])\n",
    "df.head()"
   ]
  },
  {
   "cell_type": "code",
   "execution_count": 72,
   "metadata": {
    "Collapsed": "false"
   },
   "outputs": [
    {
     "data": {
      "text/html": [
       "<div>\n",
       "<style scoped>\n",
       "    .dataframe tbody tr th:only-of-type {\n",
       "        vertical-align: middle;\n",
       "    }\n",
       "\n",
       "    .dataframe tbody tr th {\n",
       "        vertical-align: top;\n",
       "    }\n",
       "\n",
       "    .dataframe thead th {\n",
       "        text-align: right;\n",
       "    }\n",
       "</style>\n",
       "<table border=\"1\" class=\"dataframe\">\n",
       "  <thead>\n",
       "    <tr style=\"text-align: right;\">\n",
       "      <th></th>\n",
       "      <th>stars</th>\n",
       "      <th>text</th>\n",
       "      <th>cool</th>\n",
       "      <th>useful</th>\n",
       "      <th>funny</th>\n",
       "      <th>text lenght</th>\n",
       "      <th>text_split</th>\n",
       "      <th>tokenized</th>\n",
       "      <th>cleantext</th>\n",
       "      <th>stemmedtext</th>\n",
       "      <th>lemmatext</th>\n",
       "    </tr>\n",
       "  </thead>\n",
       "  <tbody>\n",
       "    <tr>\n",
       "      <th>0</th>\n",
       "      <td>5</td>\n",
       "      <td>my wife took me here on my birthday for breakf...</td>\n",
       "      <td>2</td>\n",
       "      <td>5</td>\n",
       "      <td>0</td>\n",
       "      <td>161</td>\n",
       "      <td>['my', 'wife', 'took', 'me', 'here', 'on', 'my...</td>\n",
       "      <td>[my, wife, took, me, here, on, my, birthday, f...</td>\n",
       "      <td>wife took birthday breakfast excellent weather...</td>\n",
       "      <td>wife took birthday breakfast excel weather per...</td>\n",
       "      <td>wife took birthday breakfast excellent weather...</td>\n",
       "    </tr>\n",
       "    <tr>\n",
       "      <th>1</th>\n",
       "      <td>5</td>\n",
       "      <td>i have no idea why some people give bad review...</td>\n",
       "      <td>0</td>\n",
       "      <td>0</td>\n",
       "      <td>0</td>\n",
       "      <td>266</td>\n",
       "      <td>['i', 'have', 'no', 'idea', 'why', 'some', 'pe...</td>\n",
       "      <td>[i, have, no, idea, why, some, people, give, b...</td>\n",
       "      <td>idea people give bad reviews place goes show p...</td>\n",
       "      <td>idea peopl give bad review place goe show plea...</td>\n",
       "      <td>idea people give bad review place go show plea...</td>\n",
       "    </tr>\n",
       "    <tr>\n",
       "      <th>2</th>\n",
       "      <td>4</td>\n",
       "      <td>love the gyro plate. rice is so good and i als...</td>\n",
       "      <td>0</td>\n",
       "      <td>1</td>\n",
       "      <td>0</td>\n",
       "      <td>16</td>\n",
       "      <td>['love', 'the', 'gyro', 'plate', 'rice', 'is',...</td>\n",
       "      <td>[love, the, gyro, plate, ., rice, is, so, good...</td>\n",
       "      <td>love gyro plate rice good also dig candy selec...</td>\n",
       "      <td>love gyro plate rice good also dig candi select</td>\n",
       "      <td>love gyro plate rice good also dig candy selec...</td>\n",
       "    </tr>\n",
       "    <tr>\n",
       "      <th>3</th>\n",
       "      <td>5</td>\n",
       "      <td>rosie, dakota, and i love chaparral dog park!!...</td>\n",
       "      <td>1</td>\n",
       "      <td>2</td>\n",
       "      <td>0</td>\n",
       "      <td>79</td>\n",
       "      <td>['rosie', 'dakota', 'and', 'i', 'love', 'chapa...</td>\n",
       "      <td>[rosie, ,, dakota, ,, and, i, love, chaparral,...</td>\n",
       "      <td>rosie dakota love chaparral dog park convenien...</td>\n",
       "      <td>rosi dakota love chaparr dog park conveni surr...</td>\n",
       "      <td>rosie dakota love chaparral dog park convenien...</td>\n",
       "    </tr>\n",
       "    <tr>\n",
       "      <th>4</th>\n",
       "      <td>5</td>\n",
       "      <td>general manager scott petello is a good egg!!!...</td>\n",
       "      <td>0</td>\n",
       "      <td>0</td>\n",
       "      <td>0</td>\n",
       "      <td>89</td>\n",
       "      <td>['general', 'manager', 'scott', 'petello', 'is...</td>\n",
       "      <td>[general, manager, scott, petello, is, a, good...</td>\n",
       "      <td>general manager scott petello good egg go deta...</td>\n",
       "      <td>gener manag scott petello good egg go detail l...</td>\n",
       "      <td>general manager scott petello good egg go deta...</td>\n",
       "    </tr>\n",
       "  </tbody>\n",
       "</table>\n",
       "</div>"
      ],
      "text/plain": [
       "   stars                                               text  cool  useful  \\\n",
       "0      5  my wife took me here on my birthday for breakf...     2       5   \n",
       "1      5  i have no idea why some people give bad review...     0       0   \n",
       "2      4  love the gyro plate. rice is so good and i als...     0       1   \n",
       "3      5  rosie, dakota, and i love chaparral dog park!!...     1       2   \n",
       "4      5  general manager scott petello is a good egg!!!...     0       0   \n",
       "\n",
       "   funny  text lenght                                         text_split  \\\n",
       "0      0          161  ['my', 'wife', 'took', 'me', 'here', 'on', 'my...   \n",
       "1      0          266  ['i', 'have', 'no', 'idea', 'why', 'some', 'pe...   \n",
       "2      0           16  ['love', 'the', 'gyro', 'plate', 'rice', 'is',...   \n",
       "3      0           79  ['rosie', 'dakota', 'and', 'i', 'love', 'chapa...   \n",
       "4      0           89  ['general', 'manager', 'scott', 'petello', 'is...   \n",
       "\n",
       "                                           tokenized  \\\n",
       "0  [my, wife, took, me, here, on, my, birthday, f...   \n",
       "1  [i, have, no, idea, why, some, people, give, b...   \n",
       "2  [love, the, gyro, plate, ., rice, is, so, good...   \n",
       "3  [rosie, ,, dakota, ,, and, i, love, chaparral,...   \n",
       "4  [general, manager, scott, petello, is, a, good...   \n",
       "\n",
       "                                           cleantext  \\\n",
       "0  wife took birthday breakfast excellent weather...   \n",
       "1  idea people give bad reviews place goes show p...   \n",
       "2  love gyro plate rice good also dig candy selec...   \n",
       "3  rosie dakota love chaparral dog park convenien...   \n",
       "4  general manager scott petello good egg go deta...   \n",
       "\n",
       "                                         stemmedtext  \\\n",
       "0  wife took birthday breakfast excel weather per...   \n",
       "1  idea peopl give bad review place goe show plea...   \n",
       "2    love gyro plate rice good also dig candi select   \n",
       "3  rosi dakota love chaparr dog park conveni surr...   \n",
       "4  gener manag scott petello good egg go detail l...   \n",
       "\n",
       "                                           lemmatext  \n",
       "0  wife took birthday breakfast excellent weather...  \n",
       "1  idea people give bad review place go show plea...  \n",
       "2  love gyro plate rice good also dig candy selec...  \n",
       "3  rosie dakota love chaparral dog park convenien...  \n",
       "4  general manager scott petello good egg go deta...  "
      ]
     },
     "execution_count": 72,
     "metadata": {},
     "output_type": "execute_result"
    }
   ],
   "source": [
    "# Lemmatization\n",
    "from nltk.stem import WordNetLemmatizer\n",
    "def get_lemmatized_text(corpus):\n",
    "    lemmatizer = WordNetLemmatizer()\n",
    "    return [' '.join([lemmatizer.lemmatize(word) for word in review.split()]) for review in corpus]\n",
    "\n",
    "df['lemmatext'] = get_lemmatized_text(df['cleantext'])\n",
    "df.head()"
   ]
  },
  {
   "cell_type": "markdown",
   "metadata": {
    "Collapsed": "false"
   },
   "source": [
    "### Word Count: Python style"
   ]
  },
  {
   "cell_type": "code",
   "execution_count": 74,
   "metadata": {
    "Collapsed": "false"
   },
   "outputs": [
    {
     "data": {
      "text/html": [
       "<div>\n",
       "<style scoped>\n",
       "    .dataframe tbody tr th:only-of-type {\n",
       "        vertical-align: middle;\n",
       "    }\n",
       "\n",
       "    .dataframe tbody tr th {\n",
       "        vertical-align: top;\n",
       "    }\n",
       "\n",
       "    .dataframe thead th {\n",
       "        text-align: right;\n",
       "    }\n",
       "</style>\n",
       "<table border=\"1\" class=\"dataframe\">\n",
       "  <thead>\n",
       "    <tr style=\"text-align: right;\">\n",
       "      <th></th>\n",
       "      <th>index</th>\n",
       "      <th>freq</th>\n",
       "    </tr>\n",
       "  </thead>\n",
       "  <tbody>\n",
       "    <tr>\n",
       "      <th>0</th>\n",
       "      <td>place</td>\n",
       "      <td>7397</td>\n",
       "    </tr>\n",
       "    <tr>\n",
       "      <th>1</th>\n",
       "      <td>good</td>\n",
       "      <td>6857</td>\n",
       "    </tr>\n",
       "    <tr>\n",
       "      <th>2</th>\n",
       "      <td>food</td>\n",
       "      <td>6357</td>\n",
       "    </tr>\n",
       "    <tr>\n",
       "      <th>3</th>\n",
       "      <td>great</td>\n",
       "      <td>5128</td>\n",
       "    </tr>\n",
       "    <tr>\n",
       "      <th>4</th>\n",
       "      <td>like</td>\n",
       "      <td>5109</td>\n",
       "    </tr>\n",
       "  </tbody>\n",
       "</table>\n",
       "</div>"
      ],
      "text/plain": [
       "   index  freq\n",
       "0  place  7397\n",
       "1   good  6857\n",
       "2   food  6357\n",
       "3  great  5128\n",
       "4   like  5109"
      ]
     },
     "execution_count": 74,
     "metadata": {},
     "output_type": "execute_result"
    }
   ],
   "source": [
    "# word count, make lower cases at the same time\n",
    "word_count = pd.Series(' '.join(df['lemmatext']).lower().split()).value_counts()\n",
    "word_count = pd.DataFrame(word_count, columns =['freq'])\n",
    "wordcount = word_count.reset_index(inplace=True)\n",
    "word_count.head()"
   ]
  },
  {
   "cell_type": "code",
   "execution_count": null,
   "metadata": {
    "Collapsed": "false"
   },
   "outputs": [],
   "source": []
  },
  {
   "cell_type": "code",
   "execution_count": null,
   "metadata": {
    "Collapsed": "false"
   },
   "outputs": [],
   "source": [
    "\n"
   ]
  },
  {
   "cell_type": "code",
   "execution_count": null,
   "metadata": {
    "Collapsed": "false"
   },
   "outputs": [],
   "source": []
  }
 ],
 "metadata": {
  "kernelspec": {
   "display_name": "Python 3",
   "language": "python",
   "name": "python3"
  },
  "language_info": {
   "codemirror_mode": {
    "name": "ipython",
    "version": 3
   },
   "file_extension": ".py",
   "mimetype": "text/x-python",
   "name": "python",
   "nbconvert_exporter": "python",
   "pygments_lexer": "ipython3",
   "version": "3.7.6"
  }
 },
 "nbformat": 4,
 "nbformat_minor": 4
}
