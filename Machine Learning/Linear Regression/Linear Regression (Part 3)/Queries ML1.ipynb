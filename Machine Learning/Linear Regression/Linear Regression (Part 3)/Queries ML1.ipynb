{
 "cells": [
  {
   "cell_type": "markdown",
   "metadata": {
    "Collapsed": "false"
   },
   "source": [
    "# Queries ML 1"
   ]
  },
  {
   "cell_type": "markdown",
   "metadata": {
    "Collapsed": "false"
   },
   "source": [
    "## 1/ Data Format: arrays vs df"
   ]
  },
  {
   "cell_type": "markdown",
   "metadata": {
    "Collapsed": "false"
   },
   "source": [
    "It seems that scikit only deals with arrays, not dataframe.\n",
    "  - is there a need to convert the arrays in df for: manipulation, visualisation, etc?\n",
    "> It makes it easier to plot a dataframe than to plot an array\n",
    "  - what is the best recommended way to handle data format when using scikit?\n",
    "> Scikit-learn mostly returns a numpy array or a bunch object. You can either make a dataframe out of it or you can you sklearn DataFrameMapper to combine the benefits of pandas DataFrame objects with the power of the sklearn machine learning package.\n",
    "\n",
    "[DataFrameMapper](https://github.com/scikit-learn-contrib/sklearn-pandas)"
   ]
  },
  {
   "cell_type": "markdown",
   "metadata": {
    "Collapsed": "false"
   },
   "source": [
    "Regarding the iris data, i am now aware of 3 different ways to extract the iris data. \n",
    "  - pandas, seaborn, scikit\n",
    "> All three can be used\n",
    "  - which one would be recommended?\n",
    "> Pandas and Sklearn are mainly used"
   ]
  },
  {
   "cell_type": "markdown",
   "metadata": {
    "Collapsed": "false"
   },
   "source": [
    "## 2/ Final Project - Visualisation"
   ]
  },
  {
   "cell_type": "markdown",
   "metadata": {
    "Collapsed": "false"
   },
   "source": [
    "How would you display a visual interpretation of the OLS fit (3.1)?\n",
    "\n",
    "`resultProp1 = sm.OLS(y, X).fit()\n",
    "resultProp1.summary()`\n",
    "\n",
    "How can I check for the goodness of fit of the train/test output?\n",
    "\n",
    "[List](https://scikit-learn.org/stable/modules/classes.html#regression-metrics) of different methods used for different algorithm to check the accuracy score or model performance "
   ]
  },
  {
   "cell_type": "code",
   "execution_count": null,
   "metadata": {
    "Collapsed": "false"
   },
   "outputs": [],
   "source": []
  },
  {
   "cell_type": "markdown",
   "metadata": {
    "Collapsed": "false"
   },
   "source": [
    "##  3/ Standardisation"
   ]
  },
  {
   "cell_type": "markdown",
   "metadata": {
    "Collapsed": "false"
   },
   "source": [
    "Why don't we standardise the SalePrice as well ?\n",
    "\n",
    "Ans - Scaling or zeroing will will not change the regression or classification results. The only down side is lose of interpretability."
   ]
  },
  {
   "cell_type": "code",
   "execution_count": null,
   "metadata": {
    "Collapsed": "false"
   },
   "outputs": [],
   "source": []
  }
 ],
 "metadata": {
  "kernelspec": {
   "display_name": "Python 3",
   "language": "python",
   "name": "python3"
  },
  "language_info": {
   "codemirror_mode": {
    "name": "ipython",
    "version": 3
   },
   "file_extension": ".py",
   "mimetype": "text/x-python",
   "name": "python",
   "nbconvert_exporter": "python",
   "pygments_lexer": "ipython3",
   "version": "3.7.6"
  },
  "latex_envs": {
   "LaTeX_envs_menu_present": true,
   "autoclose": false,
   "autocomplete": true,
   "bibliofile": "biblio.bib",
   "cite_by": "apalike",
   "current_citInitial": 1,
   "eqLabelWithNumbers": true,
   "eqNumInitial": 1,
   "hotkeys": {
    "equation": "Ctrl-E",
    "itemize": "Ctrl-I"
   },
   "labels_anchors": false,
   "latex_user_defs": false,
   "report_style_numbering": false,
   "user_envs_cfg": false
  }
 },
 "nbformat": 4,
 "nbformat_minor": 4
}
