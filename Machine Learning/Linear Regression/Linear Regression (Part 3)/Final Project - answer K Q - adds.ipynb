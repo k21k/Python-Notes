{
 "cells": [
  {
   "cell_type": "markdown",
   "metadata": {
    "Collapsed": "false"
   },
   "source": [
    "# Technical Objective in short\n",
    "Training on the 'Prop_Data_Final' dataset and testing on the 'Score2'"
   ]
  },
  {
   "cell_type": "markdown",
   "metadata": {},
   "source": [
    "# Technical Objective in detail\n",
    "***\n",
    "Your objective is to predict the sales price of 100 real estate properties before they are actually sold. To build the best model with the highest predictive power, you need to train many models and select the best one which you will deploy into making the predictions.<br><br>\n",
    "There are several ways you can try to boost the generalization of the model without having to build super complex algorithms.<br><br>\n",
    "**One approach** you may want to consider is spend a good amount of time understanding the data in terms of the **informative attributes**. What are the correlations between the target variable and the input variables you have? What input variables are redundant?<br><br>\n",
    "An attribute (i.e., feature, variable) isn't necessarily informative in its original scale and shape. You can consider transforming it to make it more \"accessible\" for your algorithms to exploit. Besides the necessary techniques that you have to use in order to include the variables of certain types, e.g.,\n",
    "- categorizing, recoding, and/or re-weighting nominal/ordinal variables\n",
    "- standardizing interval variables for algorithms such as kNN<br>\n",
    "\n",
    "you may also find it benefitial to logarithm-transform certain interval input variables, and maybe even the target variable, if the true relationship between the target and the input variables are better captured after the log-transformation. This may be true if both the target and the input variables are interval and have similarly skewed distributions with outliers that similarly lie at the extreme end of the corresponding distribution. In this case, log-transforming both the target and the input will help you better deal with the outliers and decrease the _mean absolute percentage error_.<br><br>\n",
    "\n",
    "Though increasing model complexity can help improve accuracy, you want to avoid too much of overfitting. The art of balancing the bias-variance tradeoff is a topic of _regularization_. Regularization is beyond the scope of this course; however, I encourage you to self-learn the essence this concept and explore the regularization tools provided in `sklearn` or even beyond `sklearn` package. <u>_That said, this is not required, and is only recommended after you have fulfilled all necessary steps of this project._</u> Good luck!"
   ]
  },
  {
   "cell_type": "markdown",
   "metadata": {
    "Collapsed": "false"
   },
   "source": [
    "# Project Domain and Dataset\n",
    "***\n",
    "### Predicting the Sales Price of Real Estate Properties\n",
    "The entire training data consist of 4 data files (.csv format), that is, \"Property_Survey_1\", \"Property_Survey_2\", \"House_Features\", and \"Quality_Assessment\". After _reading_ each data file, eventually you might want to merge them into a single DataFrame; before merging, however, you need to understand the underlying _associations_ of the data contained in each of the data files."
   ]
  },
  {
   "cell_type": "markdown",
   "metadata": {
    "Collapsed": "false"
   },
   "source": [
    "# Hands-on Section\n",
    "***\n",
    "Use the space below to build the prerequisite of the project"
   ]
  },
  {
   "cell_type": "markdown",
   "metadata": {
    "Collapsed": "false"
   },
   "source": [
    "## Step 0. Import Necessary Packages, Define Utilities\n",
    "This space is for importing packages and, if needed, for defining any custom functions that may help enhance the efficiency of your project flow as well as the readability of your project codes"
   ]
  },
  {
   "cell_type": "code",
   "execution_count": 4,
   "metadata": {
    "Collapsed": "false"
   },
   "outputs": [],
   "source": [
    "# Importing required libraries\n",
    "import numpy as np\n",
    "import pandas as pd\n",
    "import matplotlib.pyplot as plt\n",
    "import seaborn as sns\n",
    "%matplotlib inline\n",
    "%matplotlib notebook\n",
    "\n",
    "# import sklearn\n",
    "from sklearn.model_selection import train_test_split\n",
    "from sklearn.linear_model import LinearRegression\n",
    "from sklearn import metrics\n"
   ]
  },
  {
   "cell_type": "code",
   "execution_count": 5,
   "metadata": {
    "Collapsed": "false"
   },
   "outputs": [],
   "source": [
    "df = pd.read_csv('House_Feature.csv')"
   ]
  },
  {
   "cell_type": "code",
   "execution_count": 3,
   "metadata": {
    "Collapsed": "false"
   },
   "outputs": [
    {
     "data": {
      "text/html": [
       "<div>\n",
       "<style scoped>\n",
       "    .dataframe tbody tr th:only-of-type {\n",
       "        vertical-align: middle;\n",
       "    }\n",
       "\n",
       "    .dataframe tbody tr th {\n",
       "        vertical-align: top;\n",
       "    }\n",
       "\n",
       "    .dataframe thead th {\n",
       "        text-align: right;\n",
       "    }\n",
       "</style>\n",
       "<table border=\"1\" class=\"dataframe\">\n",
       "  <thead>\n",
       "    <tr style=\"text-align: right;\">\n",
       "      <th></th>\n",
       "      <th>PID</th>\n",
       "      <th>YearBuilt</th>\n",
       "      <th>YearRemodel</th>\n",
       "      <th>VeneerExterior</th>\n",
       "      <th>BsmtFinTp</th>\n",
       "      <th>BsmtFinSqft</th>\n",
       "      <th>BsmtUnfinSqft</th>\n",
       "      <th>HeatingQC</th>\n",
       "      <th>FstFlrSqft</th>\n",
       "      <th>SecFlrSqft</th>\n",
       "      <th>...</th>\n",
       "      <th>FullBathHouse</th>\n",
       "      <th>BdrmAbvGrnd</th>\n",
       "      <th>RmAbvGrnd</th>\n",
       "      <th>Fireplaces</th>\n",
       "      <th>GarageTp</th>\n",
       "      <th>GarageCars</th>\n",
       "      <th>GarageArea</th>\n",
       "      <th>WdDckSqft</th>\n",
       "      <th>OpenPrchSqft</th>\n",
       "      <th>SalePrice</th>\n",
       "    </tr>\n",
       "  </thead>\n",
       "  <tbody>\n",
       "    <tr>\n",
       "      <th>0</th>\n",
       "      <td>526301100</td>\n",
       "      <td>1960</td>\n",
       "      <td>1960</td>\n",
       "      <td>112</td>\n",
       "      <td>1</td>\n",
       "      <td>639</td>\n",
       "      <td>441</td>\n",
       "      <td>0</td>\n",
       "      <td>1656</td>\n",
       "      <td>0</td>\n",
       "      <td>...</td>\n",
       "      <td>1</td>\n",
       "      <td>3</td>\n",
       "      <td>7</td>\n",
       "      <td>2</td>\n",
       "      <td>3</td>\n",
       "      <td>2</td>\n",
       "      <td>528</td>\n",
       "      <td>210</td>\n",
       "      <td>62</td>\n",
       "      <td>215000</td>\n",
       "    </tr>\n",
       "    <tr>\n",
       "      <th>1</th>\n",
       "      <td>526350040</td>\n",
       "      <td>1961</td>\n",
       "      <td>1961</td>\n",
       "      <td>0</td>\n",
       "      <td>1</td>\n",
       "      <td>468</td>\n",
       "      <td>270</td>\n",
       "      <td>1</td>\n",
       "      <td>896</td>\n",
       "      <td>0</td>\n",
       "      <td>...</td>\n",
       "      <td>1</td>\n",
       "      <td>2</td>\n",
       "      <td>5</td>\n",
       "      <td>0</td>\n",
       "      <td>3</td>\n",
       "      <td>1</td>\n",
       "      <td>730</td>\n",
       "      <td>140</td>\n",
       "      <td>0</td>\n",
       "      <td>105000</td>\n",
       "    </tr>\n",
       "    <tr>\n",
       "      <th>2</th>\n",
       "      <td>526351010</td>\n",
       "      <td>1958</td>\n",
       "      <td>1958</td>\n",
       "      <td>108</td>\n",
       "      <td>1</td>\n",
       "      <td>923</td>\n",
       "      <td>406</td>\n",
       "      <td>1</td>\n",
       "      <td>1329</td>\n",
       "      <td>0</td>\n",
       "      <td>...</td>\n",
       "      <td>1</td>\n",
       "      <td>3</td>\n",
       "      <td>6</td>\n",
       "      <td>0</td>\n",
       "      <td>3</td>\n",
       "      <td>1</td>\n",
       "      <td>312</td>\n",
       "      <td>393</td>\n",
       "      <td>36</td>\n",
       "      <td>172000</td>\n",
       "    </tr>\n",
       "  </tbody>\n",
       "</table>\n",
       "<p>3 rows × 23 columns</p>\n",
       "</div>"
      ],
      "text/plain": [
       "         PID  YearBuilt  YearRemodel  VeneerExterior  BsmtFinTp  BsmtFinSqft  \\\n",
       "0  526301100       1960         1960             112          1          639   \n",
       "1  526350040       1961         1961               0          1          468   \n",
       "2  526351010       1958         1958             108          1          923   \n",
       "\n",
       "   BsmtUnfinSqft  HeatingQC  FstFlrSqft  SecFlrSqft  ...  FullBathHouse  \\\n",
       "0            441          0        1656           0  ...              1   \n",
       "1            270          1         896           0  ...              1   \n",
       "2            406          1        1329           0  ...              1   \n",
       "\n",
       "   BdrmAbvGrnd  RmAbvGrnd  Fireplaces  GarageTp  GarageCars  GarageArea  \\\n",
       "0            3          7           2         3           2         528   \n",
       "1            2          5           0         3           1         730   \n",
       "2            3          6           0         3           1         312   \n",
       "\n",
       "   WdDckSqft  OpenPrchSqft  SalePrice  \n",
       "0        210            62     215000  \n",
       "1        140             0     105000  \n",
       "2        393            36     172000  \n",
       "\n",
       "[3 rows x 23 columns]"
      ]
     },
     "execution_count": 3,
     "metadata": {},
     "output_type": "execute_result"
    }
   ],
   "source": [
    "#return head 3\n",
    "df.head(3)"
   ]
  },
  {
   "cell_type": "code",
   "execution_count": 4,
   "metadata": {
    "Collapsed": "false"
   },
   "outputs": [
    {
     "data": {
      "text/plain": [
       "(2370, 23)"
      ]
     },
     "execution_count": 4,
     "metadata": {},
     "output_type": "execute_result"
    }
   ],
   "source": [
    "df.shape"
   ]
  },
  {
   "cell_type": "markdown",
   "metadata": {},
   "source": [
    "## Step 1. Import Dataset, Understand Basic Info About Properties in each DataFrame & (possibly) Merge DataFrames\n",
    "**The basic info you should check of each individual DataFrame include, but may not be limited to, the following:**\n",
    "- shape, columns and data types\n",
    "- interval variables: summary statistics\n",
    "- nominal/binary variables: distributions of unique levels\n",
    "- both interval and nominal variables: skewness of distributions and possible outliers\n",
    "- missing values\n",
    "\n",
    "**Should you do something to the two \"Property Survey\" data files first before conducting surface-level explorations of the variables in these data? It's your call!**<br><br>\n",
    ">_Data File Quality Assessment_: Don't forget to check if there is any duplicate property (in terms of the `\"PID\"` column values) between the two Property Survey datasets before doing anything about them; if there is, how should you deal with it?\n",
    "\n",
    "**Should you conduct deep EDAs (see below step) _before_ or _after_ you merge the separate DataFames into a single DataFrame?**<br><br>\n",
    "After you merge them into a single DataFrame, it will be wide! This means there will be many columns in this **big** DataFrame. Will you be able to manage the EDAs well by working with this big DataFrame, or will you be better off dealing with each DataFrame first before you have to merge them in order to get correlation matrix, etc.? Again, it's your call."
   ]
  },
  {
   "cell_type": "code",
   "execution_count": 5,
   "metadata": {
    "Collapsed": "false"
   },
   "outputs": [
    {
     "data": {
      "text/plain": [
       "PID               int64\n",
       "YearBuilt         int64\n",
       "YearRemodel       int64\n",
       "VeneerExterior    int64\n",
       "BsmtFinTp         int64\n",
       "BsmtFinSqft       int64\n",
       "BsmtUnfinSqft     int64\n",
       "HeatingQC         int64\n",
       "FstFlrSqft        int64\n",
       "SecFlrSqft        int64\n",
       "AbvGrndLiving     int64\n",
       "FullBathBsmt      int64\n",
       "HalfBathHouse     int64\n",
       "FullBathHouse     int64\n",
       "BdrmAbvGrnd       int64\n",
       "RmAbvGrnd         int64\n",
       "Fireplaces        int64\n",
       "GarageTp          int64\n",
       "GarageCars        int64\n",
       "GarageArea        int64\n",
       "WdDckSqft         int64\n",
       "OpenPrchSqft      int64\n",
       "SalePrice         int64\n",
       "dtype: object"
      ]
     },
     "execution_count": 5,
     "metadata": {},
     "output_type": "execute_result"
    }
   ],
   "source": [
    "# Returns Datatype of each column\n",
    "df.dtypes"
   ]
  },
  {
   "cell_type": "code",
   "execution_count": 6,
   "metadata": {
    "Collapsed": "false"
   },
   "outputs": [
    {
     "data": {
      "text/plain": [
       "Index(['PID', 'YearBuilt', 'YearRemodel', 'VeneerExterior', 'BsmtFinTp',\n",
       "       'BsmtFinSqft', 'BsmtUnfinSqft', 'HeatingQC', 'FstFlrSqft', 'SecFlrSqft',\n",
       "       'AbvGrndLiving', 'FullBathBsmt', 'HalfBathHouse', 'FullBathHouse',\n",
       "       'BdrmAbvGrnd', 'RmAbvGrnd', 'Fireplaces', 'GarageTp', 'GarageCars',\n",
       "       'GarageArea', 'WdDckSqft', 'OpenPrchSqft', 'SalePrice'],\n",
       "      dtype='object')"
      ]
     },
     "execution_count": 6,
     "metadata": {},
     "output_type": "execute_result"
    }
   ],
   "source": [
    "# Return Columns\n",
    "df.columns\n"
   ]
  },
  {
   "cell_type": "code",
   "execution_count": 7,
   "metadata": {
    "Collapsed": "false"
   },
   "outputs": [
    {
     "data": {
      "text/html": [
       "<div>\n",
       "<style scoped>\n",
       "    .dataframe tbody tr th:only-of-type {\n",
       "        vertical-align: middle;\n",
       "    }\n",
       "\n",
       "    .dataframe tbody tr th {\n",
       "        vertical-align: top;\n",
       "    }\n",
       "\n",
       "    .dataframe thead th {\n",
       "        text-align: right;\n",
       "    }\n",
       "</style>\n",
       "<table border=\"1\" class=\"dataframe\">\n",
       "  <thead>\n",
       "    <tr style=\"text-align: right;\">\n",
       "      <th></th>\n",
       "      <th>PID</th>\n",
       "      <th>YearBuilt</th>\n",
       "      <th>YearRemodel</th>\n",
       "      <th>VeneerExterior</th>\n",
       "      <th>BsmtFinTp</th>\n",
       "      <th>BsmtFinSqft</th>\n",
       "      <th>BsmtUnfinSqft</th>\n",
       "      <th>HeatingQC</th>\n",
       "      <th>FstFlrSqft</th>\n",
       "      <th>SecFlrSqft</th>\n",
       "      <th>...</th>\n",
       "      <th>FullBathHouse</th>\n",
       "      <th>BdrmAbvGrnd</th>\n",
       "      <th>RmAbvGrnd</th>\n",
       "      <th>Fireplaces</th>\n",
       "      <th>GarageTp</th>\n",
       "      <th>GarageCars</th>\n",
       "      <th>GarageArea</th>\n",
       "      <th>WdDckSqft</th>\n",
       "      <th>OpenPrchSqft</th>\n",
       "      <th>SalePrice</th>\n",
       "    </tr>\n",
       "  </thead>\n",
       "  <tbody>\n",
       "    <tr>\n",
       "      <th>count</th>\n",
       "      <td>2.370000e+03</td>\n",
       "      <td>2370.000000</td>\n",
       "      <td>2370.000000</td>\n",
       "      <td>2370.000000</td>\n",
       "      <td>2370.000000</td>\n",
       "      <td>2370.000000</td>\n",
       "      <td>2370.000000</td>\n",
       "      <td>2370.000000</td>\n",
       "      <td>2370.000000</td>\n",
       "      <td>2370.000000</td>\n",
       "      <td>...</td>\n",
       "      <td>2370.000000</td>\n",
       "      <td>2370.000000</td>\n",
       "      <td>2370.000000</td>\n",
       "      <td>2370.000000</td>\n",
       "      <td>2370.000000</td>\n",
       "      <td>2370.000000</td>\n",
       "      <td>2370.000000</td>\n",
       "      <td>2370.000000</td>\n",
       "      <td>2370.000000</td>\n",
       "      <td>2370.000000</td>\n",
       "    </tr>\n",
       "    <tr>\n",
       "      <th>mean</th>\n",
       "      <td>7.153307e+08</td>\n",
       "      <td>1970.570886</td>\n",
       "      <td>1984.086920</td>\n",
       "      <td>88.143882</td>\n",
       "      <td>0.704641</td>\n",
       "      <td>429.805907</td>\n",
       "      <td>557.101688</td>\n",
       "      <td>2.153586</td>\n",
       "      <td>1116.442616</td>\n",
       "      <td>325.198734</td>\n",
       "      <td>...</td>\n",
       "      <td>1.508017</td>\n",
       "      <td>2.816456</td>\n",
       "      <td>6.258650</td>\n",
       "      <td>0.589451</td>\n",
       "      <td>2.232911</td>\n",
       "      <td>1.718987</td>\n",
       "      <td>457.978903</td>\n",
       "      <td>91.650633</td>\n",
       "      <td>46.002532</td>\n",
       "      <td>173730.772574</td>\n",
       "    </tr>\n",
       "    <tr>\n",
       "      <th>std</th>\n",
       "      <td>1.886401e+08</td>\n",
       "      <td>30.109415</td>\n",
       "      <td>20.694221</td>\n",
       "      <td>158.718586</td>\n",
       "      <td>0.456300</td>\n",
       "      <td>408.779757</td>\n",
       "      <td>410.685375</td>\n",
       "      <td>0.944222</td>\n",
       "      <td>344.282409</td>\n",
       "      <td>406.198426</td>\n",
       "      <td>...</td>\n",
       "      <td>0.501727</td>\n",
       "      <td>0.742817</td>\n",
       "      <td>1.392625</td>\n",
       "      <td>0.630429</td>\n",
       "      <td>1.010171</td>\n",
       "      <td>0.708998</td>\n",
       "      <td>197.608559</td>\n",
       "      <td>120.616635</td>\n",
       "      <td>64.245617</td>\n",
       "      <td>64080.843305</td>\n",
       "    </tr>\n",
       "    <tr>\n",
       "      <th>min</th>\n",
       "      <td>5.263011e+08</td>\n",
       "      <td>1872.000000</td>\n",
       "      <td>1950.000000</td>\n",
       "      <td>0.000000</td>\n",
       "      <td>0.000000</td>\n",
       "      <td>0.000000</td>\n",
       "      <td>0.000000</td>\n",
       "      <td>0.000000</td>\n",
       "      <td>407.000000</td>\n",
       "      <td>0.000000</td>\n",
       "      <td>...</td>\n",
       "      <td>0.000000</td>\n",
       "      <td>0.000000</td>\n",
       "      <td>3.000000</td>\n",
       "      <td>0.000000</td>\n",
       "      <td>0.000000</td>\n",
       "      <td>0.000000</td>\n",
       "      <td>0.000000</td>\n",
       "      <td>0.000000</td>\n",
       "      <td>0.000000</td>\n",
       "      <td>12789.000000</td>\n",
       "    </tr>\n",
       "    <tr>\n",
       "      <th>25%</th>\n",
       "      <td>5.313690e+08</td>\n",
       "      <td>1953.000000</td>\n",
       "      <td>1965.000000</td>\n",
       "      <td>0.000000</td>\n",
       "      <td>0.000000</td>\n",
       "      <td>0.000000</td>\n",
       "      <td>239.250000</td>\n",
       "      <td>1.000000</td>\n",
       "      <td>864.000000</td>\n",
       "      <td>0.000000</td>\n",
       "      <td>...</td>\n",
       "      <td>1.000000</td>\n",
       "      <td>2.000000</td>\n",
       "      <td>5.000000</td>\n",
       "      <td>0.000000</td>\n",
       "      <td>1.000000</td>\n",
       "      <td>1.000000</td>\n",
       "      <td>312.000000</td>\n",
       "      <td>0.000000</td>\n",
       "      <td>0.000000</td>\n",
       "      <td>129900.000000</td>\n",
       "    </tr>\n",
       "    <tr>\n",
       "      <th>50%</th>\n",
       "      <td>5.354551e+08</td>\n",
       "      <td>1972.000000</td>\n",
       "      <td>1993.000000</td>\n",
       "      <td>0.000000</td>\n",
       "      <td>1.000000</td>\n",
       "      <td>378.000000</td>\n",
       "      <td>470.000000</td>\n",
       "      <td>3.000000</td>\n",
       "      <td>1056.000000</td>\n",
       "      <td>0.000000</td>\n",
       "      <td>...</td>\n",
       "      <td>2.000000</td>\n",
       "      <td>3.000000</td>\n",
       "      <td>6.000000</td>\n",
       "      <td>1.000000</td>\n",
       "      <td>3.000000</td>\n",
       "      <td>2.000000</td>\n",
       "      <td>463.000000</td>\n",
       "      <td>0.000000</td>\n",
       "      <td>25.000000</td>\n",
       "      <td>159000.000000</td>\n",
       "    </tr>\n",
       "    <tr>\n",
       "      <th>75%</th>\n",
       "      <td>9.071351e+08</td>\n",
       "      <td>1999.000000</td>\n",
       "      <td>2003.000000</td>\n",
       "      <td>144.000000</td>\n",
       "      <td>1.000000</td>\n",
       "      <td>715.500000</td>\n",
       "      <td>792.000000</td>\n",
       "      <td>3.000000</td>\n",
       "      <td>1331.500000</td>\n",
       "      <td>688.750000</td>\n",
       "      <td>...</td>\n",
       "      <td>2.000000</td>\n",
       "      <td>3.000000</td>\n",
       "      <td>7.000000</td>\n",
       "      <td>1.000000</td>\n",
       "      <td>3.000000</td>\n",
       "      <td>2.000000</td>\n",
       "      <td>572.000000</td>\n",
       "      <td>168.000000</td>\n",
       "      <td>68.000000</td>\n",
       "      <td>207000.000000</td>\n",
       "    </tr>\n",
       "    <tr>\n",
       "      <th>max</th>\n",
       "      <td>1.007100e+09</td>\n",
       "      <td>2010.000000</td>\n",
       "      <td>2010.000000</td>\n",
       "      <td>1600.000000</td>\n",
       "      <td>1.000000</td>\n",
       "      <td>2085.000000</td>\n",
       "      <td>2140.000000</td>\n",
       "      <td>3.000000</td>\n",
       "      <td>2898.000000</td>\n",
       "      <td>1721.000000</td>\n",
       "      <td>...</td>\n",
       "      <td>2.000000</td>\n",
       "      <td>6.000000</td>\n",
       "      <td>12.000000</td>\n",
       "      <td>4.000000</td>\n",
       "      <td>3.000000</td>\n",
       "      <td>5.000000</td>\n",
       "      <td>1488.000000</td>\n",
       "      <td>736.000000</td>\n",
       "      <td>547.000000</td>\n",
       "      <td>475000.000000</td>\n",
       "    </tr>\n",
       "  </tbody>\n",
       "</table>\n",
       "<p>8 rows × 23 columns</p>\n",
       "</div>"
      ],
      "text/plain": [
       "                PID    YearBuilt  YearRemodel  VeneerExterior    BsmtFinTp  \\\n",
       "count  2.370000e+03  2370.000000  2370.000000     2370.000000  2370.000000   \n",
       "mean   7.153307e+08  1970.570886  1984.086920       88.143882     0.704641   \n",
       "std    1.886401e+08    30.109415    20.694221      158.718586     0.456300   \n",
       "min    5.263011e+08  1872.000000  1950.000000        0.000000     0.000000   \n",
       "25%    5.313690e+08  1953.000000  1965.000000        0.000000     0.000000   \n",
       "50%    5.354551e+08  1972.000000  1993.000000        0.000000     1.000000   \n",
       "75%    9.071351e+08  1999.000000  2003.000000      144.000000     1.000000   \n",
       "max    1.007100e+09  2010.000000  2010.000000     1600.000000     1.000000   \n",
       "\n",
       "       BsmtFinSqft  BsmtUnfinSqft    HeatingQC   FstFlrSqft   SecFlrSqft  ...  \\\n",
       "count  2370.000000    2370.000000  2370.000000  2370.000000  2370.000000  ...   \n",
       "mean    429.805907     557.101688     2.153586  1116.442616   325.198734  ...   \n",
       "std     408.779757     410.685375     0.944222   344.282409   406.198426  ...   \n",
       "min       0.000000       0.000000     0.000000   407.000000     0.000000  ...   \n",
       "25%       0.000000     239.250000     1.000000   864.000000     0.000000  ...   \n",
       "50%     378.000000     470.000000     3.000000  1056.000000     0.000000  ...   \n",
       "75%     715.500000     792.000000     3.000000  1331.500000   688.750000  ...   \n",
       "max    2085.000000    2140.000000     3.000000  2898.000000  1721.000000  ...   \n",
       "\n",
       "       FullBathHouse  BdrmAbvGrnd    RmAbvGrnd   Fireplaces     GarageTp  \\\n",
       "count    2370.000000  2370.000000  2370.000000  2370.000000  2370.000000   \n",
       "mean        1.508017     2.816456     6.258650     0.589451     2.232911   \n",
       "std         0.501727     0.742817     1.392625     0.630429     1.010171   \n",
       "min         0.000000     0.000000     3.000000     0.000000     0.000000   \n",
       "25%         1.000000     2.000000     5.000000     0.000000     1.000000   \n",
       "50%         2.000000     3.000000     6.000000     1.000000     3.000000   \n",
       "75%         2.000000     3.000000     7.000000     1.000000     3.000000   \n",
       "max         2.000000     6.000000    12.000000     4.000000     3.000000   \n",
       "\n",
       "        GarageCars   GarageArea    WdDckSqft  OpenPrchSqft      SalePrice  \n",
       "count  2370.000000  2370.000000  2370.000000   2370.000000    2370.000000  \n",
       "mean      1.718987   457.978903    91.650633     46.002532  173730.772574  \n",
       "std       0.708998   197.608559   120.616635     64.245617   64080.843305  \n",
       "min       0.000000     0.000000     0.000000      0.000000   12789.000000  \n",
       "25%       1.000000   312.000000     0.000000      0.000000  129900.000000  \n",
       "50%       2.000000   463.000000     0.000000     25.000000  159000.000000  \n",
       "75%       2.000000   572.000000   168.000000     68.000000  207000.000000  \n",
       "max       5.000000  1488.000000   736.000000    547.000000  475000.000000  \n",
       "\n",
       "[8 rows x 23 columns]"
      ]
     },
     "execution_count": 7,
     "metadata": {},
     "output_type": "execute_result"
    }
   ],
   "source": [
    "# Returns the statistics of each column\n",
    "df.describe()"
   ]
  },
  {
   "cell_type": "code",
   "execution_count": 8,
   "metadata": {
    "Collapsed": "false"
   },
   "outputs": [
    {
     "data": {
      "text/plain": [
       "PID               0\n",
       "YearBuilt         0\n",
       "YearRemodel       0\n",
       "VeneerExterior    0\n",
       "BsmtFinTp         0\n",
       "BsmtFinSqft       0\n",
       "BsmtUnfinSqft     0\n",
       "HeatingQC         0\n",
       "FstFlrSqft        0\n",
       "SecFlrSqft        0\n",
       "AbvGrndLiving     0\n",
       "FullBathBsmt      0\n",
       "HalfBathHouse     0\n",
       "FullBathHouse     0\n",
       "BdrmAbvGrnd       0\n",
       "RmAbvGrnd         0\n",
       "Fireplaces        0\n",
       "GarageTp          0\n",
       "GarageCars        0\n",
       "GarageArea        0\n",
       "WdDckSqft         0\n",
       "OpenPrchSqft      0\n",
       "SalePrice         0\n",
       "dtype: int64"
      ]
     },
     "execution_count": 8,
     "metadata": {},
     "output_type": "execute_result"
    }
   ],
   "source": [
    "# Returns the number of missing values in the data set.\n",
    "df.isnull().sum()"
   ]
  },
  {
   "cell_type": "code",
   "execution_count": 9,
   "metadata": {
    "Collapsed": "false"
   },
   "outputs": [
    {
     "data": {
      "text/plain": [
       "(2370, 3)"
      ]
     },
     "execution_count": 9,
     "metadata": {},
     "output_type": "execute_result"
    }
   ],
   "source": [
    "dfa = pd.read_csv('Quality_Assessment.csv')\n",
    "dfa.shape"
   ]
  },
  {
   "cell_type": "code",
   "execution_count": 10,
   "metadata": {
    "Collapsed": "false"
   },
   "outputs": [
    {
     "data": {
      "text/plain": [
       "Index(['PID', 'OverallQuality', 'OverallCondition'], dtype='object')"
      ]
     },
     "execution_count": 10,
     "metadata": {},
     "output_type": "execute_result"
    }
   ],
   "source": [
    "# Returns Columns\n",
    "dfa.columns"
   ]
  },
  {
   "cell_type": "code",
   "execution_count": 11,
   "metadata": {
    "Collapsed": "false"
   },
   "outputs": [
    {
     "data": {
      "text/plain": [
       "PID                 int64\n",
       "OverallQuality      int64\n",
       "OverallCondition    int64\n",
       "dtype: object"
      ]
     },
     "execution_count": 11,
     "metadata": {},
     "output_type": "execute_result"
    }
   ],
   "source": [
    "# Returns Datatypes\n",
    "dfa.dtypes"
   ]
  },
  {
   "cell_type": "code",
   "execution_count": 12,
   "metadata": {
    "Collapsed": "false"
   },
   "outputs": [
    {
     "data": {
      "text/html": [
       "<div>\n",
       "<style scoped>\n",
       "    .dataframe tbody tr th:only-of-type {\n",
       "        vertical-align: middle;\n",
       "    }\n",
       "\n",
       "    .dataframe tbody tr th {\n",
       "        vertical-align: top;\n",
       "    }\n",
       "\n",
       "    .dataframe thead th {\n",
       "        text-align: right;\n",
       "    }\n",
       "</style>\n",
       "<table border=\"1\" class=\"dataframe\">\n",
       "  <thead>\n",
       "    <tr style=\"text-align: right;\">\n",
       "      <th></th>\n",
       "      <th>PID</th>\n",
       "      <th>OverallQuality</th>\n",
       "      <th>OverallCondition</th>\n",
       "    </tr>\n",
       "  </thead>\n",
       "  <tbody>\n",
       "    <tr>\n",
       "      <th>0</th>\n",
       "      <td>526301100</td>\n",
       "      <td>6</td>\n",
       "      <td>5</td>\n",
       "    </tr>\n",
       "    <tr>\n",
       "      <th>1</th>\n",
       "      <td>526350040</td>\n",
       "      <td>5</td>\n",
       "      <td>6</td>\n",
       "    </tr>\n",
       "    <tr>\n",
       "      <th>2</th>\n",
       "      <td>526351010</td>\n",
       "      <td>6</td>\n",
       "      <td>6</td>\n",
       "    </tr>\n",
       "  </tbody>\n",
       "</table>\n",
       "</div>"
      ],
      "text/plain": [
       "         PID  OverallQuality  OverallCondition\n",
       "0  526301100               6                 5\n",
       "1  526350040               5                 6\n",
       "2  526351010               6                 6"
      ]
     },
     "execution_count": 12,
     "metadata": {},
     "output_type": "execute_result"
    }
   ],
   "source": [
    "dfa.head(3)"
   ]
  },
  {
   "cell_type": "code",
   "execution_count": 13,
   "metadata": {
    "Collapsed": "false"
   },
   "outputs": [
    {
     "data": {
      "text/html": [
       "<div>\n",
       "<style scoped>\n",
       "    .dataframe tbody tr th:only-of-type {\n",
       "        vertical-align: middle;\n",
       "    }\n",
       "\n",
       "    .dataframe tbody tr th {\n",
       "        vertical-align: top;\n",
       "    }\n",
       "\n",
       "    .dataframe thead th {\n",
       "        text-align: right;\n",
       "    }\n",
       "</style>\n",
       "<table border=\"1\" class=\"dataframe\">\n",
       "  <thead>\n",
       "    <tr style=\"text-align: right;\">\n",
       "      <th></th>\n",
       "      <th>PID</th>\n",
       "      <th>YearBuilt</th>\n",
       "      <th>YearRemodel</th>\n",
       "      <th>VeneerExterior</th>\n",
       "      <th>BsmtFinTp</th>\n",
       "      <th>BsmtFinSqft</th>\n",
       "      <th>BsmtUnfinSqft</th>\n",
       "      <th>HeatingQC</th>\n",
       "      <th>FstFlrSqft</th>\n",
       "      <th>SecFlrSqft</th>\n",
       "      <th>...</th>\n",
       "      <th>RmAbvGrnd</th>\n",
       "      <th>Fireplaces</th>\n",
       "      <th>GarageTp</th>\n",
       "      <th>GarageCars</th>\n",
       "      <th>GarageArea</th>\n",
       "      <th>WdDckSqft</th>\n",
       "      <th>OpenPrchSqft</th>\n",
       "      <th>SalePrice</th>\n",
       "      <th>OverallQuality</th>\n",
       "      <th>OverallCondition</th>\n",
       "    </tr>\n",
       "  </thead>\n",
       "  <tbody>\n",
       "    <tr>\n",
       "      <th>0</th>\n",
       "      <td>526301100</td>\n",
       "      <td>1960</td>\n",
       "      <td>1960</td>\n",
       "      <td>112</td>\n",
       "      <td>1</td>\n",
       "      <td>639</td>\n",
       "      <td>441</td>\n",
       "      <td>0</td>\n",
       "      <td>1656</td>\n",
       "      <td>0</td>\n",
       "      <td>...</td>\n",
       "      <td>7</td>\n",
       "      <td>2</td>\n",
       "      <td>3</td>\n",
       "      <td>2</td>\n",
       "      <td>528</td>\n",
       "      <td>210</td>\n",
       "      <td>62</td>\n",
       "      <td>215000</td>\n",
       "      <td>6</td>\n",
       "      <td>5</td>\n",
       "    </tr>\n",
       "    <tr>\n",
       "      <th>1</th>\n",
       "      <td>526350040</td>\n",
       "      <td>1961</td>\n",
       "      <td>1961</td>\n",
       "      <td>0</td>\n",
       "      <td>1</td>\n",
       "      <td>468</td>\n",
       "      <td>270</td>\n",
       "      <td>1</td>\n",
       "      <td>896</td>\n",
       "      <td>0</td>\n",
       "      <td>...</td>\n",
       "      <td>5</td>\n",
       "      <td>0</td>\n",
       "      <td>3</td>\n",
       "      <td>1</td>\n",
       "      <td>730</td>\n",
       "      <td>140</td>\n",
       "      <td>0</td>\n",
       "      <td>105000</td>\n",
       "      <td>5</td>\n",
       "      <td>6</td>\n",
       "    </tr>\n",
       "    <tr>\n",
       "      <th>2</th>\n",
       "      <td>526351010</td>\n",
       "      <td>1958</td>\n",
       "      <td>1958</td>\n",
       "      <td>108</td>\n",
       "      <td>1</td>\n",
       "      <td>923</td>\n",
       "      <td>406</td>\n",
       "      <td>1</td>\n",
       "      <td>1329</td>\n",
       "      <td>0</td>\n",
       "      <td>...</td>\n",
       "      <td>6</td>\n",
       "      <td>0</td>\n",
       "      <td>3</td>\n",
       "      <td>1</td>\n",
       "      <td>312</td>\n",
       "      <td>393</td>\n",
       "      <td>36</td>\n",
       "      <td>172000</td>\n",
       "      <td>6</td>\n",
       "      <td>6</td>\n",
       "    </tr>\n",
       "  </tbody>\n",
       "</table>\n",
       "<p>3 rows × 25 columns</p>\n",
       "</div>"
      ],
      "text/plain": [
       "         PID  YearBuilt  YearRemodel  VeneerExterior  BsmtFinTp  BsmtFinSqft  \\\n",
       "0  526301100       1960         1960             112          1          639   \n",
       "1  526350040       1961         1961               0          1          468   \n",
       "2  526351010       1958         1958             108          1          923   \n",
       "\n",
       "   BsmtUnfinSqft  HeatingQC  FstFlrSqft  SecFlrSqft  ...  RmAbvGrnd  \\\n",
       "0            441          0        1656           0  ...          7   \n",
       "1            270          1         896           0  ...          5   \n",
       "2            406          1        1329           0  ...          6   \n",
       "\n",
       "   Fireplaces  GarageTp  GarageCars  GarageArea  WdDckSqft  OpenPrchSqft  \\\n",
       "0           2         3           2         528        210            62   \n",
       "1           0         3           1         730        140             0   \n",
       "2           0         3           1         312        393            36   \n",
       "\n",
       "   SalePrice  OverallQuality  OverallCondition  \n",
       "0     215000               6                 5  \n",
       "1     105000               5                 6  \n",
       "2     172000               6                 6  \n",
       "\n",
       "[3 rows x 25 columns]"
      ]
     },
     "execution_count": 13,
     "metadata": {},
     "output_type": "execute_result"
    }
   ],
   "source": [
    "df = pd.merge(df,dfa, how='outer', on=['PID'])\n",
    "df.head(3)"
   ]
  },
  {
   "cell_type": "code",
   "execution_count": 14,
   "metadata": {
    "Collapsed": "false"
   },
   "outputs": [
    {
     "data": {
      "text/html": [
       "<div>\n",
       "<style scoped>\n",
       "    .dataframe tbody tr th:only-of-type {\n",
       "        vertical-align: middle;\n",
       "    }\n",
       "\n",
       "    .dataframe tbody tr th {\n",
       "        vertical-align: top;\n",
       "    }\n",
       "\n",
       "    .dataframe thead th {\n",
       "        text-align: right;\n",
       "    }\n",
       "</style>\n",
       "<table border=\"1\" class=\"dataframe\">\n",
       "  <thead>\n",
       "    <tr style=\"text-align: right;\">\n",
       "      <th></th>\n",
       "      <th>PID</th>\n",
       "      <th>OverallQuality</th>\n",
       "      <th>OverallCondition</th>\n",
       "    </tr>\n",
       "  </thead>\n",
       "  <tbody>\n",
       "    <tr>\n",
       "      <th>count</th>\n",
       "      <td>2.370000e+03</td>\n",
       "      <td>2370.000000</td>\n",
       "      <td>2370.000000</td>\n",
       "    </tr>\n",
       "    <tr>\n",
       "      <th>mean</th>\n",
       "      <td>7.153307e+08</td>\n",
       "      <td>6.050633</td>\n",
       "      <td>5.630380</td>\n",
       "    </tr>\n",
       "    <tr>\n",
       "      <th>std</th>\n",
       "      <td>1.886401e+08</td>\n",
       "      <td>1.252423</td>\n",
       "      <td>1.095717</td>\n",
       "    </tr>\n",
       "    <tr>\n",
       "      <th>min</th>\n",
       "      <td>5.263011e+08</td>\n",
       "      <td>2.000000</td>\n",
       "      <td>1.000000</td>\n",
       "    </tr>\n",
       "    <tr>\n",
       "      <th>25%</th>\n",
       "      <td>5.313690e+08</td>\n",
       "      <td>5.000000</td>\n",
       "      <td>5.000000</td>\n",
       "    </tr>\n",
       "    <tr>\n",
       "      <th>50%</th>\n",
       "      <td>5.354551e+08</td>\n",
       "      <td>6.000000</td>\n",
       "      <td>5.000000</td>\n",
       "    </tr>\n",
       "    <tr>\n",
       "      <th>75%</th>\n",
       "      <td>9.071351e+08</td>\n",
       "      <td>7.000000</td>\n",
       "      <td>6.000000</td>\n",
       "    </tr>\n",
       "    <tr>\n",
       "      <th>max</th>\n",
       "      <td>1.007100e+09</td>\n",
       "      <td>10.000000</td>\n",
       "      <td>9.000000</td>\n",
       "    </tr>\n",
       "  </tbody>\n",
       "</table>\n",
       "</div>"
      ],
      "text/plain": [
       "                PID  OverallQuality  OverallCondition\n",
       "count  2.370000e+03     2370.000000       2370.000000\n",
       "mean   7.153307e+08        6.050633          5.630380\n",
       "std    1.886401e+08        1.252423          1.095717\n",
       "min    5.263011e+08        2.000000          1.000000\n",
       "25%    5.313690e+08        5.000000          5.000000\n",
       "50%    5.354551e+08        6.000000          5.000000\n",
       "75%    9.071351e+08        7.000000          6.000000\n",
       "max    1.007100e+09       10.000000          9.000000"
      ]
     },
     "execution_count": 14,
     "metadata": {},
     "output_type": "execute_result"
    }
   ],
   "source": [
    "dfa.describe()"
   ]
  },
  {
   "cell_type": "code",
   "execution_count": 15,
   "metadata": {
    "Collapsed": "false"
   },
   "outputs": [
    {
     "data": {
      "text/plain": [
       "PID                 0\n",
       "OverallQuality      0\n",
       "OverallCondition    0\n",
       "dtype: int64"
      ]
     },
     "execution_count": 15,
     "metadata": {},
     "output_type": "execute_result"
    }
   ],
   "source": [
    "# Returns the number of missing values in the data set.\n",
    "dfa.isnull().sum()"
   ]
  },
  {
   "cell_type": "code",
   "execution_count": 16,
   "metadata": {
    "Collapsed": "false"
   },
   "outputs": [
    {
     "data": {
      "text/plain": [
       "(600, 4)"
      ]
     },
     "execution_count": 16,
     "metadata": {},
     "output_type": "execute_result"
    }
   ],
   "source": [
    "Property_Survey_1 = pd.read_csv('Property_Survey_1.csv')\n",
    "Property_Survey_1.shape"
   ]
  },
  {
   "cell_type": "code",
   "execution_count": 17,
   "metadata": {
    "Collapsed": "false"
   },
   "outputs": [
    {
     "data": {
      "text/plain": [
       "PID         int64\n",
       "LotArea     int64\n",
       "LotShape    int64\n",
       "BldgTp      int64\n",
       "dtype: object"
      ]
     },
     "execution_count": 17,
     "metadata": {},
     "output_type": "execute_result"
    }
   ],
   "source": [
    "# Returns Datatypes\n",
    "Property_Survey_1.dtypes"
   ]
  },
  {
   "cell_type": "code",
   "execution_count": 18,
   "metadata": {
    "Collapsed": "false"
   },
   "outputs": [
    {
     "data": {
      "text/plain": [
       "Index(['PID', 'LotArea', 'LotShape', 'BldgTp'], dtype='object')"
      ]
     },
     "execution_count": 18,
     "metadata": {},
     "output_type": "execute_result"
    }
   ],
   "source": [
    "# Returns columns\n",
    "Property_Survey_1.columns"
   ]
  },
  {
   "cell_type": "code",
   "execution_count": 19,
   "metadata": {
    "Collapsed": "false"
   },
   "outputs": [
    {
     "data": {
      "text/plain": [
       "PID         int64\n",
       "LotArea     int64\n",
       "LotShape    int64\n",
       "BldgTp      int64\n",
       "dtype: object"
      ]
     },
     "execution_count": 19,
     "metadata": {},
     "output_type": "execute_result"
    }
   ],
   "source": [
    "Property_Survey_1.dtypes"
   ]
  },
  {
   "cell_type": "code",
   "execution_count": 20,
   "metadata": {
    "Collapsed": "false"
   },
   "outputs": [
    {
     "data": {
      "text/html": [
       "<div>\n",
       "<style scoped>\n",
       "    .dataframe tbody tr th:only-of-type {\n",
       "        vertical-align: middle;\n",
       "    }\n",
       "\n",
       "    .dataframe tbody tr th {\n",
       "        vertical-align: top;\n",
       "    }\n",
       "\n",
       "    .dataframe thead th {\n",
       "        text-align: right;\n",
       "    }\n",
       "</style>\n",
       "<table border=\"1\" class=\"dataframe\">\n",
       "  <thead>\n",
       "    <tr style=\"text-align: right;\">\n",
       "      <th></th>\n",
       "      <th>PID</th>\n",
       "      <th>LotArea</th>\n",
       "      <th>LotShape</th>\n",
       "      <th>BldgTp</th>\n",
       "    </tr>\n",
       "  </thead>\n",
       "  <tbody>\n",
       "    <tr>\n",
       "      <th>0</th>\n",
       "      <td>526301100</td>\n",
       "      <td>31770</td>\n",
       "      <td>0</td>\n",
       "      <td>1</td>\n",
       "    </tr>\n",
       "    <tr>\n",
       "      <th>1</th>\n",
       "      <td>526350040</td>\n",
       "      <td>11622</td>\n",
       "      <td>1</td>\n",
       "      <td>1</td>\n",
       "    </tr>\n",
       "    <tr>\n",
       "      <th>2</th>\n",
       "      <td>526351010</td>\n",
       "      <td>14267</td>\n",
       "      <td>0</td>\n",
       "      <td>1</td>\n",
       "    </tr>\n",
       "  </tbody>\n",
       "</table>\n",
       "</div>"
      ],
      "text/plain": [
       "         PID  LotArea  LotShape  BldgTp\n",
       "0  526301100    31770         0       1\n",
       "1  526350040    11622         1       1\n",
       "2  526351010    14267         0       1"
      ]
     },
     "execution_count": 20,
     "metadata": {},
     "output_type": "execute_result"
    }
   ],
   "source": [
    "# Returns top 3 values\n",
    "Property_Survey_1.head(3)"
   ]
  },
  {
   "cell_type": "code",
   "execution_count": null,
   "metadata": {
    "Collapsed": "false"
   },
   "outputs": [],
   "source": []
  },
  {
   "cell_type": "code",
   "execution_count": 21,
   "metadata": {
    "Collapsed": "false"
   },
   "outputs": [
    {
     "data": {
      "text/plain": [
       "PID         0\n",
       "LotArea     0\n",
       "LotShape    0\n",
       "BldgTp      0\n",
       "dtype: int64"
      ]
     },
     "execution_count": 21,
     "metadata": {},
     "output_type": "execute_result"
    }
   ],
   "source": [
    "# Returns number of null values\n",
    "Property_Survey_1.isnull().sum()"
   ]
  },
  {
   "cell_type": "code",
   "execution_count": 6,
   "metadata": {
    "Collapsed": "false"
   },
   "outputs": [
    {
     "data": {
      "text/plain": [
       "(1770, 4)"
      ]
     },
     "execution_count": 6,
     "metadata": {},
     "output_type": "execute_result"
    }
   ],
   "source": [
    "# Reading the dataset from a csv file 'Property_Survey_2.csv'\n",
    "Property_Survey_2 = pd.read_csv('Property_Survey_2.csv')\n",
    "Property_Survey_2.shape"
   ]
  },
  {
   "cell_type": "code",
   "execution_count": 7,
   "metadata": {
    "Collapsed": "false"
   },
   "outputs": [
    {
     "data": {
      "text/plain": [
       "PID         int64\n",
       "LotArea     int64\n",
       "LotShape    int64\n",
       "BldgTp      int64\n",
       "dtype: object"
      ]
     },
     "execution_count": 7,
     "metadata": {},
     "output_type": "execute_result"
    }
   ],
   "source": [
    "# Returns datatypes\n",
    "Property_Survey_2.dtypes"
   ]
  },
  {
   "cell_type": "code",
   "execution_count": 8,
   "metadata": {
    "Collapsed": "false"
   },
   "outputs": [
    {
     "data": {
      "text/plain": [
       "Index(['PID', 'LotArea', 'LotShape', 'BldgTp'], dtype='object')"
      ]
     },
     "execution_count": 8,
     "metadata": {},
     "output_type": "execute_result"
    }
   ],
   "source": [
    "# Returns columns\n",
    "Property_Survey_2.columns"
   ]
  },
  {
   "cell_type": "code",
   "execution_count": 9,
   "metadata": {
    "Collapsed": "false"
   },
   "outputs": [
    {
     "data": {
      "text/html": [
       "<div>\n",
       "<style scoped>\n",
       "    .dataframe tbody tr th:only-of-type {\n",
       "        vertical-align: middle;\n",
       "    }\n",
       "\n",
       "    .dataframe tbody tr th {\n",
       "        vertical-align: top;\n",
       "    }\n",
       "\n",
       "    .dataframe thead th {\n",
       "        text-align: right;\n",
       "    }\n",
       "</style>\n",
       "<table border=\"1\" class=\"dataframe\">\n",
       "  <thead>\n",
       "    <tr style=\"text-align: right;\">\n",
       "      <th></th>\n",
       "      <th>PID</th>\n",
       "      <th>LotArea</th>\n",
       "      <th>LotShape</th>\n",
       "      <th>BldgTp</th>\n",
       "    </tr>\n",
       "  </thead>\n",
       "  <tbody>\n",
       "    <tr>\n",
       "      <th>count</th>\n",
       "      <td>1.770000e+03</td>\n",
       "      <td>1770.000000</td>\n",
       "      <td>1770.000000</td>\n",
       "      <td>1770.000000</td>\n",
       "    </tr>\n",
       "    <tr>\n",
       "      <th>mean</th>\n",
       "      <td>7.369920e+08</td>\n",
       "      <td>9801.694915</td>\n",
       "      <td>0.636723</td>\n",
       "      <td>0.883616</td>\n",
       "    </tr>\n",
       "    <tr>\n",
       "      <th>std</th>\n",
       "      <td>1.880492e+08</td>\n",
       "      <td>6587.298945</td>\n",
       "      <td>0.481080</td>\n",
       "      <td>0.320776</td>\n",
       "    </tr>\n",
       "    <tr>\n",
       "      <th>min</th>\n",
       "      <td>5.263020e+08</td>\n",
       "      <td>1300.000000</td>\n",
       "      <td>0.000000</td>\n",
       "      <td>0.000000</td>\n",
       "    </tr>\n",
       "    <tr>\n",
       "      <th>25%</th>\n",
       "      <td>5.323596e+08</td>\n",
       "      <td>7200.000000</td>\n",
       "      <td>0.000000</td>\n",
       "      <td>1.000000</td>\n",
       "    </tr>\n",
       "    <tr>\n",
       "      <th>50%</th>\n",
       "      <td>9.023296e+08</td>\n",
       "      <td>9305.500000</td>\n",
       "      <td>1.000000</td>\n",
       "      <td>1.000000</td>\n",
       "    </tr>\n",
       "    <tr>\n",
       "      <th>75%</th>\n",
       "      <td>9.072550e+08</td>\n",
       "      <td>11268.750000</td>\n",
       "      <td>1.000000</td>\n",
       "      <td>1.000000</td>\n",
       "    </tr>\n",
       "    <tr>\n",
       "      <th>max</th>\n",
       "      <td>1.007100e+09</td>\n",
       "      <td>159000.000000</td>\n",
       "      <td>1.000000</td>\n",
       "      <td>1.000000</td>\n",
       "    </tr>\n",
       "  </tbody>\n",
       "</table>\n",
       "</div>"
      ],
      "text/plain": [
       "                PID        LotArea     LotShape       BldgTp\n",
       "count  1.770000e+03    1770.000000  1770.000000  1770.000000\n",
       "mean   7.369920e+08    9801.694915     0.636723     0.883616\n",
       "std    1.880492e+08    6587.298945     0.481080     0.320776\n",
       "min    5.263020e+08    1300.000000     0.000000     0.000000\n",
       "25%    5.323596e+08    7200.000000     0.000000     1.000000\n",
       "50%    9.023296e+08    9305.500000     1.000000     1.000000\n",
       "75%    9.072550e+08   11268.750000     1.000000     1.000000\n",
       "max    1.007100e+09  159000.000000     1.000000     1.000000"
      ]
     },
     "execution_count": 9,
     "metadata": {},
     "output_type": "execute_result"
    }
   ],
   "source": [
    "# Returns statistics of each column of the dataset\n",
    "Property_Survey_2.describe()"
   ]
  },
  {
   "cell_type": "code",
   "execution_count": 10,
   "metadata": {
    "Collapsed": "false"
   },
   "outputs": [
    {
     "data": {
      "text/html": [
       "<div>\n",
       "<style scoped>\n",
       "    .dataframe tbody tr th:only-of-type {\n",
       "        vertical-align: middle;\n",
       "    }\n",
       "\n",
       "    .dataframe tbody tr th {\n",
       "        vertical-align: top;\n",
       "    }\n",
       "\n",
       "    .dataframe thead th {\n",
       "        text-align: right;\n",
       "    }\n",
       "</style>\n",
       "<table border=\"1\" class=\"dataframe\">\n",
       "  <thead>\n",
       "    <tr style=\"text-align: right;\">\n",
       "      <th></th>\n",
       "      <th>PID</th>\n",
       "      <th>LotArea</th>\n",
       "      <th>LotShape</th>\n",
       "      <th>BldgTp</th>\n",
       "    </tr>\n",
       "  </thead>\n",
       "  <tbody>\n",
       "    <tr>\n",
       "      <th>0</th>\n",
       "      <td>903430060</td>\n",
       "      <td>5520</td>\n",
       "      <td>1</td>\n",
       "      <td>1</td>\n",
       "    </tr>\n",
       "    <tr>\n",
       "      <th>1</th>\n",
       "      <td>903451090</td>\n",
       "      <td>6876</td>\n",
       "      <td>1</td>\n",
       "      <td>1</td>\n",
       "    </tr>\n",
       "    <tr>\n",
       "      <th>2</th>\n",
       "      <td>903458170</td>\n",
       "      <td>6240</td>\n",
       "      <td>1</td>\n",
       "      <td>1</td>\n",
       "    </tr>\n",
       "  </tbody>\n",
       "</table>\n",
       "</div>"
      ],
      "text/plain": [
       "         PID  LotArea  LotShape  BldgTp\n",
       "0  903430060     5520         1       1\n",
       "1  903451090     6876         1       1\n",
       "2  903458170     6240         1       1"
      ]
     },
     "execution_count": 10,
     "metadata": {},
     "output_type": "execute_result"
    }
   ],
   "source": [
    "# Retruns top 3 entries\n",
    "Property_Survey_2.head(3)"
   ]
  },
  {
   "cell_type": "code",
   "execution_count": 11,
   "metadata": {
    "Collapsed": "false"
   },
   "outputs": [
    {
     "data": {
      "text/plain": [
       "PID         0\n",
       "LotArea     0\n",
       "LotShape    0\n",
       "BldgTp      0\n",
       "dtype: int64"
      ]
     },
     "execution_count": 11,
     "metadata": {},
     "output_type": "execute_result"
    }
   ],
   "source": [
    "# Returns number of null values\n",
    "Property_Survey_2.isnull().sum()"
   ]
  },
  {
   "cell_type": "code",
   "execution_count": 12,
   "metadata": {
    "Collapsed": "false"
   },
   "outputs": [
    {
     "ename": "NameError",
     "evalue": "name 'Property_Survey_1' is not defined",
     "output_type": "error",
     "traceback": [
      "\u001b[1;31m---------------------------------------------------------------------------\u001b[0m",
      "\u001b[1;31mNameError\u001b[0m                                 Traceback (most recent call last)",
      "\u001b[1;32m<ipython-input-12-2d6739855e12>\u001b[0m in \u001b[0;36m<module>\u001b[1;34m\u001b[0m\n\u001b[0;32m      1\u001b[0m \u001b[1;31m# Merging Property_Survey_1 and Property_Survey_2 dataframes into Property_Survey\u001b[0m\u001b[1;33m\u001b[0m\u001b[1;33m\u001b[0m\u001b[1;33m\u001b[0m\u001b[0m\n\u001b[1;32m----> 2\u001b[1;33m \u001b[0mProperty_Survey\u001b[0m \u001b[1;33m=\u001b[0m \u001b[0mProperty_Survey_1\u001b[0m\u001b[1;33m.\u001b[0m\u001b[0mappend\u001b[0m\u001b[1;33m(\u001b[0m\u001b[0mProperty_Survey_2\u001b[0m\u001b[1;33m)\u001b[0m\u001b[1;33m\u001b[0m\u001b[1;33m\u001b[0m\u001b[0m\n\u001b[0m\u001b[0;32m      3\u001b[0m \u001b[0mProperty_Survey\u001b[0m\u001b[1;33m.\u001b[0m\u001b[0mshape\u001b[0m\u001b[1;33m\u001b[0m\u001b[1;33m\u001b[0m\u001b[0m\n",
      "\u001b[1;31mNameError\u001b[0m: name 'Property_Survey_1' is not defined"
     ]
    }
   ],
   "source": [
    "# Merging Property_Survey_1 and Property_Survey_2 dataframes into Property_Survey\n",
    "Property_Survey = Property_Survey_1.append(Property_Survey_2)\n",
    "Property_Survey.shape"
   ]
  },
  {
   "cell_type": "code",
   "execution_count": null,
   "metadata": {
    "Collapsed": "false"
   },
   "outputs": [],
   "source": []
  },
  {
   "cell_type": "code",
   "execution_count": 13,
   "metadata": {
    "Collapsed": "false"
   },
   "outputs": [],
   "source": [
    "#### Correlations"
   ]
  },
  {
   "cell_type": "code",
   "execution_count": 14,
   "metadata": {
    "Collapsed": "false",
    "code_folding": []
   },
   "outputs": [
    {
     "ename": "KeyError",
     "evalue": "\"['LotShape', 'OverallQuality', 'BldgTp', 'LotArea', 'OverallCondition'] not in index\"",
     "output_type": "error",
     "traceback": [
      "\u001b[1;31m---------------------------------------------------------------------------\u001b[0m",
      "\u001b[1;31mKeyError\u001b[0m                                  Traceback (most recent call last)",
      "\u001b[1;32m<ipython-input-14-13409d036b96>\u001b[0m in \u001b[0;36m<module>\u001b[1;34m\u001b[0m\n\u001b[0;32m      5\u001b[0m \u001b[1;31m# Prop_data2 = Prop_Data[[columns]]\u001b[0m\u001b[1;33m\u001b[0m\u001b[1;33m\u001b[0m\u001b[1;33m\u001b[0m\u001b[0m\n\u001b[0;32m      6\u001b[0m Prop_Data2 = df[['PID','SalePrice', 'BdrmAbvGrnd', 'RmAbvGrnd', 'Fireplaces', 'GarageTp', 'GarageCars','GarageArea','WdDckSqft','OpenPrchSqft','SalePrice','OverallQuality',\n\u001b[1;32m----> 7\u001b[1;33m                 'OverallCondition', 'LotArea', 'LotShape', 'BldgTp']]\n\u001b[0m",
      "\u001b[1;32m~\\anaconda3\\lib\\site-packages\\pandas\\core\\frame.py\u001b[0m in \u001b[0;36m__getitem__\u001b[1;34m(self, key)\u001b[0m\n\u001b[0;32m   2804\u001b[0m             \u001b[1;32mif\u001b[0m \u001b[0mis_iterator\u001b[0m\u001b[1;33m(\u001b[0m\u001b[0mkey\u001b[0m\u001b[1;33m)\u001b[0m\u001b[1;33m:\u001b[0m\u001b[1;33m\u001b[0m\u001b[1;33m\u001b[0m\u001b[0m\n\u001b[0;32m   2805\u001b[0m                 \u001b[0mkey\u001b[0m \u001b[1;33m=\u001b[0m \u001b[0mlist\u001b[0m\u001b[1;33m(\u001b[0m\u001b[0mkey\u001b[0m\u001b[1;33m)\u001b[0m\u001b[1;33m\u001b[0m\u001b[1;33m\u001b[0m\u001b[0m\n\u001b[1;32m-> 2806\u001b[1;33m             \u001b[0mindexer\u001b[0m \u001b[1;33m=\u001b[0m \u001b[0mself\u001b[0m\u001b[1;33m.\u001b[0m\u001b[0mloc\u001b[0m\u001b[1;33m.\u001b[0m\u001b[0m_get_listlike_indexer\u001b[0m\u001b[1;33m(\u001b[0m\u001b[0mkey\u001b[0m\u001b[1;33m,\u001b[0m \u001b[0maxis\u001b[0m\u001b[1;33m=\u001b[0m\u001b[1;36m1\u001b[0m\u001b[1;33m,\u001b[0m \u001b[0mraise_missing\u001b[0m\u001b[1;33m=\u001b[0m\u001b[1;32mTrue\u001b[0m\u001b[1;33m)\u001b[0m\u001b[1;33m[\u001b[0m\u001b[1;36m1\u001b[0m\u001b[1;33m]\u001b[0m\u001b[1;33m\u001b[0m\u001b[1;33m\u001b[0m\u001b[0m\n\u001b[0m\u001b[0;32m   2807\u001b[0m \u001b[1;33m\u001b[0m\u001b[0m\n\u001b[0;32m   2808\u001b[0m         \u001b[1;31m# take() does not accept boolean indexers\u001b[0m\u001b[1;33m\u001b[0m\u001b[1;33m\u001b[0m\u001b[1;33m\u001b[0m\u001b[0m\n",
      "\u001b[1;32m~\\anaconda3\\lib\\site-packages\\pandas\\core\\indexing.py\u001b[0m in \u001b[0;36m_get_listlike_indexer\u001b[1;34m(self, key, axis, raise_missing)\u001b[0m\n\u001b[0;32m   1550\u001b[0m \u001b[1;33m\u001b[0m\u001b[0m\n\u001b[0;32m   1551\u001b[0m         self._validate_read_indexer(\n\u001b[1;32m-> 1552\u001b[1;33m             \u001b[0mkeyarr\u001b[0m\u001b[1;33m,\u001b[0m \u001b[0mindexer\u001b[0m\u001b[1;33m,\u001b[0m \u001b[0mo\u001b[0m\u001b[1;33m.\u001b[0m\u001b[0m_get_axis_number\u001b[0m\u001b[1;33m(\u001b[0m\u001b[0maxis\u001b[0m\u001b[1;33m)\u001b[0m\u001b[1;33m,\u001b[0m \u001b[0mraise_missing\u001b[0m\u001b[1;33m=\u001b[0m\u001b[0mraise_missing\u001b[0m\u001b[1;33m\u001b[0m\u001b[1;33m\u001b[0m\u001b[0m\n\u001b[0m\u001b[0;32m   1553\u001b[0m         )\n\u001b[0;32m   1554\u001b[0m         \u001b[1;32mreturn\u001b[0m \u001b[0mkeyarr\u001b[0m\u001b[1;33m,\u001b[0m \u001b[0mindexer\u001b[0m\u001b[1;33m\u001b[0m\u001b[1;33m\u001b[0m\u001b[0m\n",
      "\u001b[1;32m~\\anaconda3\\lib\\site-packages\\pandas\\core\\indexing.py\u001b[0m in \u001b[0;36m_validate_read_indexer\u001b[1;34m(self, key, indexer, axis, raise_missing)\u001b[0m\n\u001b[0;32m   1643\u001b[0m             \u001b[1;32mif\u001b[0m \u001b[1;32mnot\u001b[0m \u001b[1;33m(\u001b[0m\u001b[0mself\u001b[0m\u001b[1;33m.\u001b[0m\u001b[0mname\u001b[0m \u001b[1;33m==\u001b[0m \u001b[1;34m\"loc\"\u001b[0m \u001b[1;32mand\u001b[0m \u001b[1;32mnot\u001b[0m \u001b[0mraise_missing\u001b[0m\u001b[1;33m)\u001b[0m\u001b[1;33m:\u001b[0m\u001b[1;33m\u001b[0m\u001b[1;33m\u001b[0m\u001b[0m\n\u001b[0;32m   1644\u001b[0m                 \u001b[0mnot_found\u001b[0m \u001b[1;33m=\u001b[0m \u001b[0mlist\u001b[0m\u001b[1;33m(\u001b[0m\u001b[0mset\u001b[0m\u001b[1;33m(\u001b[0m\u001b[0mkey\u001b[0m\u001b[1;33m)\u001b[0m \u001b[1;33m-\u001b[0m \u001b[0mset\u001b[0m\u001b[1;33m(\u001b[0m\u001b[0max\u001b[0m\u001b[1;33m)\u001b[0m\u001b[1;33m)\u001b[0m\u001b[1;33m\u001b[0m\u001b[1;33m\u001b[0m\u001b[0m\n\u001b[1;32m-> 1645\u001b[1;33m                 \u001b[1;32mraise\u001b[0m \u001b[0mKeyError\u001b[0m\u001b[1;33m(\u001b[0m\u001b[1;34mf\"{not_found} not in index\"\u001b[0m\u001b[1;33m)\u001b[0m\u001b[1;33m\u001b[0m\u001b[1;33m\u001b[0m\u001b[0m\n\u001b[0m\u001b[0;32m   1646\u001b[0m \u001b[1;33m\u001b[0m\u001b[0m\n\u001b[0;32m   1647\u001b[0m             \u001b[1;31m# we skip the warning on Categorical/Interval\u001b[0m\u001b[1;33m\u001b[0m\u001b[1;33m\u001b[0m\u001b[1;33m\u001b[0m\u001b[0m\n",
      "\u001b[1;31mKeyError\u001b[0m: \"['LotShape', 'OverallQuality', 'BldgTp', 'LotArea', 'OverallCondition'] not in index\""
     ]
    }
   ],
   "source": [
    "# Prop_data1 = Prop_Data[[columns]]\n",
    "Prop_Data1 = df[['PID','SalePrice','YearBuilt','YearRemodel','VeneerExterior','BsmtFinTp','BsmtFinSqft','BsmtUnfinSqft','HeatingQC','FstFlrSqft','SecFlrSqft',\n",
    "                    'AbvGrndLiving','FullBathBsmt','HalfBathHouse','FullBathHouse']]\n",
    "\n",
    "# Prop_data2 = Prop_Data[[columns]]\n",
    "Prop_Data2 = df[['PID','SalePrice', 'BdrmAbvGrnd', 'RmAbvGrnd', 'Fireplaces', 'GarageTp', 'GarageCars','GarageArea','WdDckSqft','OpenPrchSqft','SalePrice','OverallQuality',\n",
    "                'OverallCondition', 'LotArea', 'LotShape', 'BldgTp']]\n"
   ]
  },
  {
   "cell_type": "code",
   "execution_count": 15,
   "metadata": {
    "Collapsed": "false"
   },
   "outputs": [
    {
     "data": {
      "text/html": [
       "<div>\n",
       "<style scoped>\n",
       "    .dataframe tbody tr th:only-of-type {\n",
       "        vertical-align: middle;\n",
       "    }\n",
       "\n",
       "    .dataframe tbody tr th {\n",
       "        vertical-align: top;\n",
       "    }\n",
       "\n",
       "    .dataframe thead th {\n",
       "        text-align: right;\n",
       "    }\n",
       "</style>\n",
       "<table border=\"1\" class=\"dataframe\">\n",
       "  <thead>\n",
       "    <tr style=\"text-align: right;\">\n",
       "      <th></th>\n",
       "      <th>PID</th>\n",
       "      <th>SalePrice</th>\n",
       "      <th>YearBuilt</th>\n",
       "      <th>YearRemodel</th>\n",
       "      <th>VeneerExterior</th>\n",
       "      <th>BsmtFinTp</th>\n",
       "      <th>BsmtFinSqft</th>\n",
       "      <th>BsmtUnfinSqft</th>\n",
       "      <th>HeatingQC</th>\n",
       "      <th>FstFlrSqft</th>\n",
       "      <th>SecFlrSqft</th>\n",
       "      <th>AbvGrndLiving</th>\n",
       "      <th>FullBathBsmt</th>\n",
       "      <th>HalfBathHouse</th>\n",
       "      <th>FullBathHouse</th>\n",
       "    </tr>\n",
       "  </thead>\n",
       "  <tbody>\n",
       "    <tr>\n",
       "      <th>0</th>\n",
       "      <td>526301100</td>\n",
       "      <td>215000</td>\n",
       "      <td>1960</td>\n",
       "      <td>1960</td>\n",
       "      <td>112</td>\n",
       "      <td>1</td>\n",
       "      <td>639</td>\n",
       "      <td>441</td>\n",
       "      <td>0</td>\n",
       "      <td>1656</td>\n",
       "      <td>0</td>\n",
       "      <td>1656</td>\n",
       "      <td>1</td>\n",
       "      <td>0</td>\n",
       "      <td>1</td>\n",
       "    </tr>\n",
       "    <tr>\n",
       "      <th>1</th>\n",
       "      <td>526350040</td>\n",
       "      <td>105000</td>\n",
       "      <td>1961</td>\n",
       "      <td>1961</td>\n",
       "      <td>0</td>\n",
       "      <td>1</td>\n",
       "      <td>468</td>\n",
       "      <td>270</td>\n",
       "      <td>1</td>\n",
       "      <td>896</td>\n",
       "      <td>0</td>\n",
       "      <td>896</td>\n",
       "      <td>0</td>\n",
       "      <td>0</td>\n",
       "      <td>1</td>\n",
       "    </tr>\n",
       "    <tr>\n",
       "      <th>2</th>\n",
       "      <td>526351010</td>\n",
       "      <td>172000</td>\n",
       "      <td>1958</td>\n",
       "      <td>1958</td>\n",
       "      <td>108</td>\n",
       "      <td>1</td>\n",
       "      <td>923</td>\n",
       "      <td>406</td>\n",
       "      <td>1</td>\n",
       "      <td>1329</td>\n",
       "      <td>0</td>\n",
       "      <td>1329</td>\n",
       "      <td>0</td>\n",
       "      <td>1</td>\n",
       "      <td>1</td>\n",
       "    </tr>\n",
       "  </tbody>\n",
       "</table>\n",
       "</div>"
      ],
      "text/plain": [
       "         PID  SalePrice  YearBuilt  YearRemodel  VeneerExterior  BsmtFinTp  \\\n",
       "0  526301100     215000       1960         1960             112          1   \n",
       "1  526350040     105000       1961         1961               0          1   \n",
       "2  526351010     172000       1958         1958             108          1   \n",
       "\n",
       "   BsmtFinSqft  BsmtUnfinSqft  HeatingQC  FstFlrSqft  SecFlrSqft  \\\n",
       "0          639            441          0        1656           0   \n",
       "1          468            270          1         896           0   \n",
       "2          923            406          1        1329           0   \n",
       "\n",
       "   AbvGrndLiving  FullBathBsmt  HalfBathHouse  FullBathHouse  \n",
       "0           1656             1              0              1  \n",
       "1            896             0              0              1  \n",
       "2           1329             0              1              1  "
      ]
     },
     "execution_count": 15,
     "metadata": {},
     "output_type": "execute_result"
    }
   ],
   "source": [
    "Prop_Data1.head(3)"
   ]
  },
  {
   "cell_type": "code",
   "execution_count": 16,
   "metadata": {
    "Collapsed": "false"
   },
   "outputs": [
    {
     "ename": "NameError",
     "evalue": "name 'Prop_Data2' is not defined",
     "output_type": "error",
     "traceback": [
      "\u001b[1;31m---------------------------------------------------------------------------\u001b[0m",
      "\u001b[1;31mNameError\u001b[0m                                 Traceback (most recent call last)",
      "\u001b[1;32m<ipython-input-16-b5e8f93412af>\u001b[0m in \u001b[0;36m<module>\u001b[1;34m\u001b[0m\n\u001b[1;32m----> 1\u001b[1;33m \u001b[0mProp_Data2\u001b[0m\u001b[1;33m.\u001b[0m\u001b[0mhead\u001b[0m\u001b[1;33m(\u001b[0m\u001b[1;36m3\u001b[0m\u001b[1;33m)\u001b[0m\u001b[1;33m\u001b[0m\u001b[1;33m\u001b[0m\u001b[0m\n\u001b[0m",
      "\u001b[1;31mNameError\u001b[0m: name 'Prop_Data2' is not defined"
     ]
    }
   ],
   "source": [
    "Prop_Data2.head(3)"
   ]
  },
  {
   "cell_type": "markdown",
   "metadata": {
    "Collapsed": "false"
   },
   "source": [
    "#### Final df"
   ]
  },
  {
   "cell_type": "code",
   "execution_count": 17,
   "metadata": {
    "Collapsed": "false"
   },
   "outputs": [
    {
     "data": {
      "text/html": [
       "<div>\n",
       "<style scoped>\n",
       "    .dataframe tbody tr th:only-of-type {\n",
       "        vertical-align: middle;\n",
       "    }\n",
       "\n",
       "    .dataframe tbody tr th {\n",
       "        vertical-align: top;\n",
       "    }\n",
       "\n",
       "    .dataframe thead th {\n",
       "        text-align: right;\n",
       "    }\n",
       "</style>\n",
       "<table border=\"1\" class=\"dataframe\">\n",
       "  <thead>\n",
       "    <tr style=\"text-align: right;\">\n",
       "      <th></th>\n",
       "      <th>PID</th>\n",
       "      <th>SalePrice</th>\n",
       "      <th>YearBuilt</th>\n",
       "      <th>YearRemodel</th>\n",
       "      <th>VeneerExterior</th>\n",
       "      <th>BsmtFinTp</th>\n",
       "      <th>BsmtFinSqft</th>\n",
       "      <th>BsmtUnfinSqft</th>\n",
       "      <th>HeatingQC</th>\n",
       "      <th>FstFlrSqft</th>\n",
       "      <th>SecFlrSqft</th>\n",
       "      <th>AbvGrndLiving</th>\n",
       "      <th>FullBathBsmt</th>\n",
       "      <th>HalfBathHouse</th>\n",
       "      <th>FullBathHouse</th>\n",
       "    </tr>\n",
       "  </thead>\n",
       "  <tbody>\n",
       "    <tr>\n",
       "      <th>PID</th>\n",
       "      <td>1.000000</td>\n",
       "      <td>-0.220939</td>\n",
       "      <td>-0.334114</td>\n",
       "      <td>-0.132115</td>\n",
       "      <td>-0.209688</td>\n",
       "      <td>-0.086958</td>\n",
       "      <td>-0.112254</td>\n",
       "      <td>-0.047409</td>\n",
       "      <td>-0.068412</td>\n",
       "      <td>-0.153736</td>\n",
       "      <td>0.007854</td>\n",
       "      <td>-0.107110</td>\n",
       "      <td>-0.058387</td>\n",
       "      <td>-0.167080</td>\n",
       "      <td>-0.185578</td>\n",
       "    </tr>\n",
       "    <tr>\n",
       "      <th>SalePrice</th>\n",
       "      <td>-0.220939</td>\n",
       "      <td>1.000000</td>\n",
       "      <td>0.585731</td>\n",
       "      <td>0.525906</td>\n",
       "      <td>0.415283</td>\n",
       "      <td>0.116483</td>\n",
       "      <td>0.384289</td>\n",
       "      <td>0.158441</td>\n",
       "      <td>0.438989</td>\n",
       "      <td>0.629534</td>\n",
       "      <td>0.284066</td>\n",
       "      <td>0.741919</td>\n",
       "      <td>0.247587</td>\n",
       "      <td>0.303561</td>\n",
       "      <td>0.590486</td>\n",
       "    </tr>\n",
       "    <tr>\n",
       "      <th>YearBuilt</th>\n",
       "      <td>-0.334114</td>\n",
       "      <td>0.585731</td>\n",
       "      <td>1.000000</td>\n",
       "      <td>0.592891</td>\n",
       "      <td>0.277729</td>\n",
       "      <td>0.133977</td>\n",
       "      <td>0.246858</td>\n",
       "      <td>0.121896</td>\n",
       "      <td>0.435485</td>\n",
       "      <td>0.305742</td>\n",
       "      <td>0.028533</td>\n",
       "      <td>0.248082</td>\n",
       "      <td>0.188796</td>\n",
       "      <td>0.281720</td>\n",
       "      <td>0.525114</td>\n",
       "    </tr>\n",
       "    <tr>\n",
       "      <th>YearRemodel</th>\n",
       "      <td>-0.132115</td>\n",
       "      <td>0.525906</td>\n",
       "      <td>0.592891</td>\n",
       "      <td>1.000000</td>\n",
       "      <td>0.138039</td>\n",
       "      <td>-0.061026</td>\n",
       "      <td>0.076375</td>\n",
       "      <td>0.163324</td>\n",
       "      <td>0.517051</td>\n",
       "      <td>0.220909</td>\n",
       "      <td>0.155815</td>\n",
       "      <td>0.306065</td>\n",
       "      <td>0.090458</td>\n",
       "      <td>0.208347</td>\n",
       "      <td>0.495482</td>\n",
       "    </tr>\n",
       "    <tr>\n",
       "      <th>VeneerExterior</th>\n",
       "      <td>-0.209688</td>\n",
       "      <td>0.415283</td>\n",
       "      <td>0.277729</td>\n",
       "      <td>0.138039</td>\n",
       "      <td>1.000000</td>\n",
       "      <td>0.114318</td>\n",
       "      <td>0.220944</td>\n",
       "      <td>0.044521</td>\n",
       "      <td>0.133432</td>\n",
       "      <td>0.303536</td>\n",
       "      <td>0.113385</td>\n",
       "      <td>0.332229</td>\n",
       "      <td>0.102816</td>\n",
       "      <td>0.185576</td>\n",
       "      <td>0.237590</td>\n",
       "    </tr>\n",
       "    <tr>\n",
       "      <th>BsmtFinTp</th>\n",
       "      <td>-0.086958</td>\n",
       "      <td>0.116483</td>\n",
       "      <td>0.133977</td>\n",
       "      <td>-0.061026</td>\n",
       "      <td>0.114318</td>\n",
       "      <td>1.000000</td>\n",
       "      <td>0.680872</td>\n",
       "      <td>-0.596296</td>\n",
       "      <td>-0.086697</td>\n",
       "      <td>0.153707</td>\n",
       "      <td>-0.194873</td>\n",
       "      <td>-0.065909</td>\n",
       "      <td>0.510811</td>\n",
       "      <td>-0.067914</td>\n",
       "      <td>-0.080000</td>\n",
       "    </tr>\n",
       "    <tr>\n",
       "      <th>BsmtFinSqft</th>\n",
       "      <td>-0.112254</td>\n",
       "      <td>0.384289</td>\n",
       "      <td>0.246858</td>\n",
       "      <td>0.076375</td>\n",
       "      <td>0.220944</td>\n",
       "      <td>0.680872</td>\n",
       "      <td>1.000000</td>\n",
       "      <td>-0.581040</td>\n",
       "      <td>0.027391</td>\n",
       "      <td>0.402694</td>\n",
       "      <td>-0.203622</td>\n",
       "      <td>0.118312</td>\n",
       "      <td>0.615401</td>\n",
       "      <td>-0.054916</td>\n",
       "      <td>0.068709</td>\n",
       "    </tr>\n",
       "    <tr>\n",
       "      <th>BsmtUnfinSqft</th>\n",
       "      <td>-0.047409</td>\n",
       "      <td>0.158441</td>\n",
       "      <td>0.121896</td>\n",
       "      <td>0.163324</td>\n",
       "      <td>0.044521</td>\n",
       "      <td>-0.596296</td>\n",
       "      <td>-0.581040</td>\n",
       "      <td>1.000000</td>\n",
       "      <td>0.195086</td>\n",
       "      <td>0.289950</td>\n",
       "      <td>-0.019750</td>\n",
       "      <td>0.211021</td>\n",
       "      <td>-0.442824</td>\n",
       "      <td>-0.049871</td>\n",
       "      <td>0.254172</td>\n",
       "    </tr>\n",
       "    <tr>\n",
       "      <th>HeatingQC</th>\n",
       "      <td>-0.068412</td>\n",
       "      <td>0.438989</td>\n",
       "      <td>0.435485</td>\n",
       "      <td>0.517051</td>\n",
       "      <td>0.133432</td>\n",
       "      <td>-0.086697</td>\n",
       "      <td>0.027391</td>\n",
       "      <td>0.195086</td>\n",
       "      <td>1.000000</td>\n",
       "      <td>0.173391</td>\n",
       "      <td>0.173745</td>\n",
       "      <td>0.288213</td>\n",
       "      <td>0.053106</td>\n",
       "      <td>0.173408</td>\n",
       "      <td>0.379653</td>\n",
       "    </tr>\n",
       "    <tr>\n",
       "      <th>FstFlrSqft</th>\n",
       "      <td>-0.153736</td>\n",
       "      <td>0.629534</td>\n",
       "      <td>0.305742</td>\n",
       "      <td>0.220909</td>\n",
       "      <td>0.303536</td>\n",
       "      <td>0.153707</td>\n",
       "      <td>0.402694</td>\n",
       "      <td>0.289950</td>\n",
       "      <td>0.173391</td>\n",
       "      <td>1.000000</td>\n",
       "      <td>-0.310932</td>\n",
       "      <td>0.487889</td>\n",
       "      <td>0.240300</td>\n",
       "      <td>-0.153809</td>\n",
       "      <td>0.350441</td>\n",
       "    </tr>\n",
       "    <tr>\n",
       "      <th>SecFlrSqft</th>\n",
       "      <td>0.007854</td>\n",
       "      <td>0.284066</td>\n",
       "      <td>0.028533</td>\n",
       "      <td>0.155815</td>\n",
       "      <td>0.113385</td>\n",
       "      <td>-0.194873</td>\n",
       "      <td>-0.203622</td>\n",
       "      <td>-0.019750</td>\n",
       "      <td>0.173745</td>\n",
       "      <td>-0.310932</td>\n",
       "      <td>1.000000</td>\n",
       "      <td>0.672012</td>\n",
       "      <td>-0.182507</td>\n",
       "      <td>0.639567</td>\n",
       "      <td>0.367335</td>\n",
       "    </tr>\n",
       "    <tr>\n",
       "      <th>AbvGrndLiving</th>\n",
       "      <td>-0.107110</td>\n",
       "      <td>0.741919</td>\n",
       "      <td>0.248082</td>\n",
       "      <td>0.306065</td>\n",
       "      <td>0.332229</td>\n",
       "      <td>-0.065909</td>\n",
       "      <td>0.118312</td>\n",
       "      <td>0.211021</td>\n",
       "      <td>0.288213</td>\n",
       "      <td>0.487889</td>\n",
       "      <td>0.672012</td>\n",
       "      <td>1.000000</td>\n",
       "      <td>0.014565</td>\n",
       "      <td>0.460233</td>\n",
       "      <td>0.605287</td>\n",
       "    </tr>\n",
       "    <tr>\n",
       "      <th>FullBathBsmt</th>\n",
       "      <td>-0.058387</td>\n",
       "      <td>0.247587</td>\n",
       "      <td>0.188796</td>\n",
       "      <td>0.090458</td>\n",
       "      <td>0.102816</td>\n",
       "      <td>0.510811</td>\n",
       "      <td>0.615401</td>\n",
       "      <td>-0.442824</td>\n",
       "      <td>0.053106</td>\n",
       "      <td>0.240300</td>\n",
       "      <td>-0.182507</td>\n",
       "      <td>0.014565</td>\n",
       "      <td>1.000000</td>\n",
       "      <td>-0.088444</td>\n",
       "      <td>-0.042501</td>\n",
       "    </tr>\n",
       "    <tr>\n",
       "      <th>HalfBathHouse</th>\n",
       "      <td>-0.167080</td>\n",
       "      <td>0.303561</td>\n",
       "      <td>0.281720</td>\n",
       "      <td>0.208347</td>\n",
       "      <td>0.185576</td>\n",
       "      <td>-0.067914</td>\n",
       "      <td>-0.054916</td>\n",
       "      <td>-0.049871</td>\n",
       "      <td>0.173408</td>\n",
       "      <td>-0.153809</td>\n",
       "      <td>0.639567</td>\n",
       "      <td>0.460233</td>\n",
       "      <td>-0.088444</td>\n",
       "      <td>1.000000</td>\n",
       "      <td>0.182593</td>\n",
       "    </tr>\n",
       "    <tr>\n",
       "      <th>FullBathHouse</th>\n",
       "      <td>-0.185578</td>\n",
       "      <td>0.590486</td>\n",
       "      <td>0.525114</td>\n",
       "      <td>0.495482</td>\n",
       "      <td>0.237590</td>\n",
       "      <td>-0.080000</td>\n",
       "      <td>0.068709</td>\n",
       "      <td>0.254172</td>\n",
       "      <td>0.379653</td>\n",
       "      <td>0.350441</td>\n",
       "      <td>0.367335</td>\n",
       "      <td>0.605287</td>\n",
       "      <td>-0.042501</td>\n",
       "      <td>0.182593</td>\n",
       "      <td>1.000000</td>\n",
       "    </tr>\n",
       "  </tbody>\n",
       "</table>\n",
       "</div>"
      ],
      "text/plain": [
       "                     PID  SalePrice  YearBuilt  YearRemodel  VeneerExterior  \\\n",
       "PID             1.000000  -0.220939  -0.334114    -0.132115       -0.209688   \n",
       "SalePrice      -0.220939   1.000000   0.585731     0.525906        0.415283   \n",
       "YearBuilt      -0.334114   0.585731   1.000000     0.592891        0.277729   \n",
       "YearRemodel    -0.132115   0.525906   0.592891     1.000000        0.138039   \n",
       "VeneerExterior -0.209688   0.415283   0.277729     0.138039        1.000000   \n",
       "BsmtFinTp      -0.086958   0.116483   0.133977    -0.061026        0.114318   \n",
       "BsmtFinSqft    -0.112254   0.384289   0.246858     0.076375        0.220944   \n",
       "BsmtUnfinSqft  -0.047409   0.158441   0.121896     0.163324        0.044521   \n",
       "HeatingQC      -0.068412   0.438989   0.435485     0.517051        0.133432   \n",
       "FstFlrSqft     -0.153736   0.629534   0.305742     0.220909        0.303536   \n",
       "SecFlrSqft      0.007854   0.284066   0.028533     0.155815        0.113385   \n",
       "AbvGrndLiving  -0.107110   0.741919   0.248082     0.306065        0.332229   \n",
       "FullBathBsmt   -0.058387   0.247587   0.188796     0.090458        0.102816   \n",
       "HalfBathHouse  -0.167080   0.303561   0.281720     0.208347        0.185576   \n",
       "FullBathHouse  -0.185578   0.590486   0.525114     0.495482        0.237590   \n",
       "\n",
       "                BsmtFinTp  BsmtFinSqft  BsmtUnfinSqft  HeatingQC  FstFlrSqft  \\\n",
       "PID             -0.086958    -0.112254      -0.047409  -0.068412   -0.153736   \n",
       "SalePrice        0.116483     0.384289       0.158441   0.438989    0.629534   \n",
       "YearBuilt        0.133977     0.246858       0.121896   0.435485    0.305742   \n",
       "YearRemodel     -0.061026     0.076375       0.163324   0.517051    0.220909   \n",
       "VeneerExterior   0.114318     0.220944       0.044521   0.133432    0.303536   \n",
       "BsmtFinTp        1.000000     0.680872      -0.596296  -0.086697    0.153707   \n",
       "BsmtFinSqft      0.680872     1.000000      -0.581040   0.027391    0.402694   \n",
       "BsmtUnfinSqft   -0.596296    -0.581040       1.000000   0.195086    0.289950   \n",
       "HeatingQC       -0.086697     0.027391       0.195086   1.000000    0.173391   \n",
       "FstFlrSqft       0.153707     0.402694       0.289950   0.173391    1.000000   \n",
       "SecFlrSqft      -0.194873    -0.203622      -0.019750   0.173745   -0.310932   \n",
       "AbvGrndLiving   -0.065909     0.118312       0.211021   0.288213    0.487889   \n",
       "FullBathBsmt     0.510811     0.615401      -0.442824   0.053106    0.240300   \n",
       "HalfBathHouse   -0.067914    -0.054916      -0.049871   0.173408   -0.153809   \n",
       "FullBathHouse   -0.080000     0.068709       0.254172   0.379653    0.350441   \n",
       "\n",
       "                SecFlrSqft  AbvGrndLiving  FullBathBsmt  HalfBathHouse  \\\n",
       "PID               0.007854      -0.107110     -0.058387      -0.167080   \n",
       "SalePrice         0.284066       0.741919      0.247587       0.303561   \n",
       "YearBuilt         0.028533       0.248082      0.188796       0.281720   \n",
       "YearRemodel       0.155815       0.306065      0.090458       0.208347   \n",
       "VeneerExterior    0.113385       0.332229      0.102816       0.185576   \n",
       "BsmtFinTp        -0.194873      -0.065909      0.510811      -0.067914   \n",
       "BsmtFinSqft      -0.203622       0.118312      0.615401      -0.054916   \n",
       "BsmtUnfinSqft    -0.019750       0.211021     -0.442824      -0.049871   \n",
       "HeatingQC         0.173745       0.288213      0.053106       0.173408   \n",
       "FstFlrSqft       -0.310932       0.487889      0.240300      -0.153809   \n",
       "SecFlrSqft        1.000000       0.672012     -0.182507       0.639567   \n",
       "AbvGrndLiving     0.672012       1.000000      0.014565       0.460233   \n",
       "FullBathBsmt     -0.182507       0.014565      1.000000      -0.088444   \n",
       "HalfBathHouse     0.639567       0.460233     -0.088444       1.000000   \n",
       "FullBathHouse     0.367335       0.605287     -0.042501       0.182593   \n",
       "\n",
       "                FullBathHouse  \n",
       "PID                 -0.185578  \n",
       "SalePrice            0.590486  \n",
       "YearBuilt            0.525114  \n",
       "YearRemodel          0.495482  \n",
       "VeneerExterior       0.237590  \n",
       "BsmtFinTp           -0.080000  \n",
       "BsmtFinSqft          0.068709  \n",
       "BsmtUnfinSqft        0.254172  \n",
       "HeatingQC            0.379653  \n",
       "FstFlrSqft           0.350441  \n",
       "SecFlrSqft           0.367335  \n",
       "AbvGrndLiving        0.605287  \n",
       "FullBathBsmt        -0.042501  \n",
       "HalfBathHouse        0.182593  \n",
       "FullBathHouse        1.000000  "
      ]
     },
     "execution_count": 17,
     "metadata": {},
     "output_type": "execute_result"
    }
   ],
   "source": [
    "# Returns the correlation of Prop_Data1\n",
    "Prop_Data1.corr()"
   ]
  },
  {
   "cell_type": "code",
   "execution_count": 18,
   "metadata": {
    "Collapsed": "false"
   },
   "outputs": [
    {
     "ename": "NameError",
     "evalue": "name 'Prop_Data2' is not defined",
     "output_type": "error",
     "traceback": [
      "\u001b[1;31m---------------------------------------------------------------------------\u001b[0m",
      "\u001b[1;31mNameError\u001b[0m                                 Traceback (most recent call last)",
      "\u001b[1;32m<ipython-input-18-465deb06fc1f>\u001b[0m in \u001b[0;36m<module>\u001b[1;34m\u001b[0m\n\u001b[0;32m      1\u001b[0m \u001b[1;31m# Returns the correlation Prop_Data2\u001b[0m\u001b[1;33m\u001b[0m\u001b[1;33m\u001b[0m\u001b[1;33m\u001b[0m\u001b[0m\n\u001b[1;32m----> 2\u001b[1;33m \u001b[0mProp_Data2\u001b[0m\u001b[1;33m.\u001b[0m\u001b[0mcorr\u001b[0m\u001b[1;33m(\u001b[0m\u001b[1;33m)\u001b[0m\u001b[1;33m\u001b[0m\u001b[1;33m\u001b[0m\u001b[0m\n\u001b[0m",
      "\u001b[1;31mNameError\u001b[0m: name 'Prop_Data2' is not defined"
     ]
    }
   ],
   "source": [
    "# Returns the correlation Prop_Data2\n",
    "Prop_Data2.corr()"
   ]
  },
  {
   "cell_type": "code",
   "execution_count": 19,
   "metadata": {
    "Collapsed": "false"
   },
   "outputs": [
    {
     "ename": "NameError",
     "evalue": "name 'Property_Survey' is not defined",
     "output_type": "error",
     "traceback": [
      "\u001b[1;31m---------------------------------------------------------------------------\u001b[0m",
      "\u001b[1;31mNameError\u001b[0m                                 Traceback (most recent call last)",
      "\u001b[1;32m<ipython-input-19-15604e427e08>\u001b[0m in \u001b[0;36m<module>\u001b[1;34m\u001b[0m\n\u001b[0;32m      3\u001b[0m \u001b[0mdfa\u001b[0m \u001b[1;33m=\u001b[0m \u001b[0mpd\u001b[0m\u001b[1;33m.\u001b[0m\u001b[0mread_csv\u001b[0m\u001b[1;33m(\u001b[0m\u001b[1;34m'Quality_Assessment.csv'\u001b[0m\u001b[1;33m)\u001b[0m\u001b[1;33m\u001b[0m\u001b[1;33m\u001b[0m\u001b[0m\n\u001b[0;32m      4\u001b[0m \u001b[0mdf\u001b[0m \u001b[1;33m=\u001b[0m \u001b[0mpd\u001b[0m\u001b[1;33m.\u001b[0m\u001b[0mmerge\u001b[0m\u001b[1;33m(\u001b[0m\u001b[0mdf\u001b[0m\u001b[1;33m,\u001b[0m\u001b[0mdfa\u001b[0m\u001b[1;33m,\u001b[0m \u001b[0mhow\u001b[0m\u001b[1;33m=\u001b[0m\u001b[1;34m'outer'\u001b[0m\u001b[1;33m,\u001b[0m \u001b[0mon\u001b[0m\u001b[1;33m=\u001b[0m\u001b[1;33m[\u001b[0m\u001b[1;34m'PID'\u001b[0m\u001b[1;33m]\u001b[0m\u001b[1;33m)\u001b[0m\u001b[1;33m\u001b[0m\u001b[1;33m\u001b[0m\u001b[0m\n\u001b[1;32m----> 5\u001b[1;33m \u001b[0mdf\u001b[0m \u001b[1;33m=\u001b[0m \u001b[0mpd\u001b[0m\u001b[1;33m.\u001b[0m\u001b[0mmerge\u001b[0m\u001b[1;33m(\u001b[0m\u001b[0mdf\u001b[0m\u001b[1;33m,\u001b[0m \u001b[0mProperty_Survey\u001b[0m\u001b[1;33m,\u001b[0m \u001b[0mhow\u001b[0m \u001b[1;33m=\u001b[0m \u001b[1;34m'outer'\u001b[0m\u001b[1;33m,\u001b[0m \u001b[0mon\u001b[0m\u001b[1;33m=\u001b[0m\u001b[1;33m[\u001b[0m\u001b[1;34m'PID'\u001b[0m\u001b[1;33m]\u001b[0m \u001b[1;33m)\u001b[0m\u001b[1;33m\u001b[0m\u001b[1;33m\u001b[0m\u001b[0m\n\u001b[0m\u001b[0;32m      6\u001b[0m \u001b[1;33m\u001b[0m\u001b[0m\n\u001b[0;32m      7\u001b[0m \u001b[0mProp_Data_Final\u001b[0m \u001b[1;33m=\u001b[0m  \u001b[0mdf\u001b[0m\u001b[1;33m[\u001b[0m\u001b[1;33m[\u001b[0m\u001b[1;34m'YearBuilt'\u001b[0m\u001b[1;33m,\u001b[0m \u001b[1;34m'YearRemodel'\u001b[0m\u001b[1;33m,\u001b[0m \u001b[1;34m'VeneerExterior'\u001b[0m\u001b[1;33m,\u001b[0m \u001b[1;34m'HeatingQC'\u001b[0m\u001b[1;33m,\u001b[0m \u001b[1;34m'FstFlrSqft'\u001b[0m\u001b[1;33m,\u001b[0m \u001b[1;34m'AbvGrndLiving'\u001b[0m\u001b[1;33m,\u001b[0m \u001b[1;34m'FullBathHouse'\u001b[0m\u001b[1;33m,\u001b[0m\u001b[1;34m'Fireplaces'\u001b[0m\u001b[1;33m,\u001b[0m\u001b[1;34m'GarageArea'\u001b[0m\u001b[1;33m,\u001b[0m \u001b[1;34m'OverallQuality'\u001b[0m\u001b[1;33m,\u001b[0m\u001b[1;34m'LotShape'\u001b[0m\u001b[1;33m,\u001b[0m \u001b[1;34m'LotArea'\u001b[0m\u001b[1;33m,\u001b[0m\u001b[1;34m'OverallQuality'\u001b[0m\u001b[1;33m]\u001b[0m\u001b[1;33m]\u001b[0m\u001b[1;33m\u001b[0m\u001b[1;33m\u001b[0m\u001b[0m\n",
      "\u001b[1;31mNameError\u001b[0m: name 'Property_Survey' is not defined"
     ]
    }
   ],
   "source": [
    "# Restart over and keep data we need\n",
    "df = pd.read_csv('House_Feature.csv')\n",
    "dfa = pd.read_csv('Quality_Assessment.csv')\n",
    "df = pd.merge(df,dfa, how='outer', on=['PID'])\n",
    "df = pd.merge(df, Property_Survey, how = 'outer', on=['PID'] )\n",
    "\n",
    "Prop_Data_Final =  df[['YearBuilt', 'YearRemodel', 'VeneerExterior', 'HeatingQC', 'FstFlrSqft', 'AbvGrndLiving', 'FullBathHouse','Fireplaces','GarageArea', 'OverallQuality','LotShape', 'LotArea','OverallQuality']]\n"
   ]
  },
  {
   "cell_type": "code",
   "execution_count": 20,
   "metadata": {
    "Collapsed": "false"
   },
   "outputs": [],
   "source": [
    "# Prop_Data_Final = Prop_Data[[columns]]\n",
    "\n",
    "Prop_Data_Final =  df[['YearBuilt', 'YearRemodel', 'VeneerExterior', 'HeatingQC', 'FstFlrSqft', 'AbvGrndLiving', 'FullBathHouse','Fireplaces',  'GarageCars','GarageArea', 'OverallQuality']]"
   ]
  },
  {
   "cell_type": "markdown",
   "metadata": {
    "Collapsed": "false"
   },
   "source": [
    "## Step 3: Build Models -- Type 1"
   ]
  },
  {
   "cell_type": "code",
   "execution_count": 21,
   "metadata": {
    "Collapsed": "false"
   },
   "outputs": [],
   "source": [
    "# Separating X and y\n",
    "import statsmodels.api as sm\n",
    "\n",
    "X = Prop_Data_Final\n",
    "y = df['SalePrice']\n",
    "X = sm.add_constant(X) "
   ]
  },
  {
   "cell_type": "code",
   "execution_count": 22,
   "metadata": {
    "Collapsed": "false"
   },
   "outputs": [
    {
     "data": {
      "text/html": [
       "<table class=\"simpletable\">\n",
       "<caption>OLS Regression Results</caption>\n",
       "<tr>\n",
       "  <th>Dep. Variable:</th>        <td>SalePrice</td>    <th>  R-squared:         </th> <td>   0.848</td> \n",
       "</tr>\n",
       "<tr>\n",
       "  <th>Model:</th>                   <td>OLS</td>       <th>  Adj. R-squared:    </th> <td>   0.847</td> \n",
       "</tr>\n",
       "<tr>\n",
       "  <th>Method:</th>             <td>Least Squares</td>  <th>  F-statistic:       </th> <td>   1192.</td> \n",
       "</tr>\n",
       "<tr>\n",
       "  <th>Date:</th>             <td>Fri, 12 Jun 2020</td> <th>  Prob (F-statistic):</th>  <td>  0.00</td>  \n",
       "</tr>\n",
       "<tr>\n",
       "  <th>Time:</th>                 <td>17:37:56</td>     <th>  Log-Likelihood:    </th> <td> -27364.</td> \n",
       "</tr>\n",
       "<tr>\n",
       "  <th>No. Observations:</th>      <td>  2370</td>      <th>  AIC:               </th> <td>5.475e+04</td>\n",
       "</tr>\n",
       "<tr>\n",
       "  <th>Df Residuals:</th>          <td>  2358</td>      <th>  BIC:               </th> <td>5.482e+04</td>\n",
       "</tr>\n",
       "<tr>\n",
       "  <th>Df Model:</th>              <td>    11</td>      <th>                     </th>     <td> </td>    \n",
       "</tr>\n",
       "<tr>\n",
       "  <th>Covariance Type:</th>      <td>nonrobust</td>    <th>                     </th>     <td> </td>    \n",
       "</tr>\n",
       "</table>\n",
       "<table class=\"simpletable\">\n",
       "<tr>\n",
       "         <td></td>           <th>coef</th>     <th>std err</th>      <th>t</th>      <th>P>|t|</th>  <th>[0.025</th>    <th>0.975]</th>  \n",
       "</tr>\n",
       "<tr>\n",
       "  <th>const</th>          <td> -1.32e+06</td> <td>    7e+04</td> <td>  -18.861</td> <td> 0.000</td> <td>-1.46e+06</td> <td>-1.18e+06</td>\n",
       "</tr>\n",
       "<tr>\n",
       "  <th>YearBuilt</th>      <td>  346.1145</td> <td>   25.959</td> <td>   13.333</td> <td> 0.000</td> <td>  295.210</td> <td>  397.019</td>\n",
       "</tr>\n",
       "<tr>\n",
       "  <th>YearRemodel</th>    <td>  303.0095</td> <td>   34.592</td> <td>    8.759</td> <td> 0.000</td> <td>  235.175</td> <td>  370.844</td>\n",
       "</tr>\n",
       "<tr>\n",
       "  <th>VeneerExterior</th> <td>   19.8615</td> <td>    3.601</td> <td>    5.516</td> <td> 0.000</td> <td>   12.801</td> <td>   26.922</td>\n",
       "</tr>\n",
       "<tr>\n",
       "  <th>HeatingQC</th>      <td> 3600.7283</td> <td>  660.704</td> <td>    5.450</td> <td> 0.000</td> <td> 2305.107</td> <td> 4896.349</td>\n",
       "</tr>\n",
       "<tr>\n",
       "  <th>FstFlrSqft</th>     <td>   33.4509</td> <td>    1.874</td> <td>   17.851</td> <td> 0.000</td> <td>   29.776</td> <td>   37.126</td>\n",
       "</tr>\n",
       "<tr>\n",
       "  <th>AbvGrndLiving</th>  <td>   50.9155</td> <td>    1.797</td> <td>   28.339</td> <td> 0.000</td> <td>   47.392</td> <td>   54.439</td>\n",
       "</tr>\n",
       "<tr>\n",
       "  <th>FullBathHouse</th>  <td>-1.069e+04</td> <td> 1533.861</td> <td>   -6.970</td> <td> 0.000</td> <td>-1.37e+04</td> <td>-7683.719</td>\n",
       "</tr>\n",
       "<tr>\n",
       "  <th>Fireplaces</th>     <td> 8259.3016</td> <td>  954.936</td> <td>    8.649</td> <td> 0.000</td> <td> 6386.700</td> <td> 1.01e+04</td>\n",
       "</tr>\n",
       "<tr>\n",
       "  <th>GarageCars</th>     <td>  158.4637</td> <td> 1696.304</td> <td>    0.093</td> <td> 0.926</td> <td>-3167.938</td> <td> 3484.865</td>\n",
       "</tr>\n",
       "<tr>\n",
       "  <th>GarageArea</th>     <td>   44.8692</td> <td>    5.723</td> <td>    7.840</td> <td> 0.000</td> <td>   33.646</td> <td>   56.093</td>\n",
       "</tr>\n",
       "<tr>\n",
       "  <th>OverallQuality</th> <td> 1.323e+04</td> <td>  642.694</td> <td>   20.586</td> <td> 0.000</td> <td>  1.2e+04</td> <td> 1.45e+04</td>\n",
       "</tr>\n",
       "</table>\n",
       "<table class=\"simpletable\">\n",
       "<tr>\n",
       "  <th>Omnibus:</th>       <td>247.384</td> <th>  Durbin-Watson:     </th> <td>   1.619</td> \n",
       "</tr>\n",
       "<tr>\n",
       "  <th>Prob(Omnibus):</th> <td> 0.000</td>  <th>  Jarque-Bera (JB):  </th> <td> 979.487</td> \n",
       "</tr>\n",
       "<tr>\n",
       "  <th>Skew:</th>          <td> 0.453</td>  <th>  Prob(JB):          </th> <td>2.03e-213</td>\n",
       "</tr>\n",
       "<tr>\n",
       "  <th>Kurtosis:</th>      <td> 6.016</td>  <th>  Cond. No.          </th> <td>4.60e+05</td> \n",
       "</tr>\n",
       "</table><br/><br/>Warnings:<br/>[1] Standard Errors assume that the covariance matrix of the errors is correctly specified.<br/>[2] The condition number is large, 4.6e+05. This might indicate that there are<br/>strong multicollinearity or other numerical problems."
      ],
      "text/plain": [
       "<class 'statsmodels.iolib.summary.Summary'>\n",
       "\"\"\"\n",
       "                            OLS Regression Results                            \n",
       "==============================================================================\n",
       "Dep. Variable:              SalePrice   R-squared:                       0.848\n",
       "Model:                            OLS   Adj. R-squared:                  0.847\n",
       "Method:                 Least Squares   F-statistic:                     1192.\n",
       "Date:                Fri, 12 Jun 2020   Prob (F-statistic):               0.00\n",
       "Time:                        17:37:56   Log-Likelihood:                -27364.\n",
       "No. Observations:                2370   AIC:                         5.475e+04\n",
       "Df Residuals:                    2358   BIC:                         5.482e+04\n",
       "Df Model:                          11                                         \n",
       "Covariance Type:            nonrobust                                         \n",
       "==================================================================================\n",
       "                     coef    std err          t      P>|t|      [0.025      0.975]\n",
       "----------------------------------------------------------------------------------\n",
       "const           -1.32e+06      7e+04    -18.861      0.000   -1.46e+06   -1.18e+06\n",
       "YearBuilt        346.1145     25.959     13.333      0.000     295.210     397.019\n",
       "YearRemodel      303.0095     34.592      8.759      0.000     235.175     370.844\n",
       "VeneerExterior    19.8615      3.601      5.516      0.000      12.801      26.922\n",
       "HeatingQC       3600.7283    660.704      5.450      0.000    2305.107    4896.349\n",
       "FstFlrSqft        33.4509      1.874     17.851      0.000      29.776      37.126\n",
       "AbvGrndLiving     50.9155      1.797     28.339      0.000      47.392      54.439\n",
       "FullBathHouse  -1.069e+04   1533.861     -6.970      0.000   -1.37e+04   -7683.719\n",
       "Fireplaces      8259.3016    954.936      8.649      0.000    6386.700    1.01e+04\n",
       "GarageCars       158.4637   1696.304      0.093      0.926   -3167.938    3484.865\n",
       "GarageArea        44.8692      5.723      7.840      0.000      33.646      56.093\n",
       "OverallQuality  1.323e+04    642.694     20.586      0.000     1.2e+04    1.45e+04\n",
       "==============================================================================\n",
       "Omnibus:                      247.384   Durbin-Watson:                   1.619\n",
       "Prob(Omnibus):                  0.000   Jarque-Bera (JB):              979.487\n",
       "Skew:                           0.453   Prob(JB):                    2.03e-213\n",
       "Kurtosis:                       6.016   Cond. No.                     4.60e+05\n",
       "==============================================================================\n",
       "\n",
       "Warnings:\n",
       "[1] Standard Errors assume that the covariance matrix of the errors is correctly specified.\n",
       "[2] The condition number is large, 4.6e+05. This might indicate that there are\n",
       "strong multicollinearity or other numerical problems.\n",
       "\"\"\""
      ]
     },
     "execution_count": 22,
     "metadata": {},
     "output_type": "execute_result"
    }
   ],
   "source": [
    "resultProp1 = sm.OLS(y, X).fit()\n",
    "resultProp1.summary()"
   ]
  },
  {
   "cell_type": "code",
   "execution_count": null,
   "metadata": {
    "Collapsed": "false"
   },
   "outputs": [],
   "source": []
  },
  {
   "cell_type": "code",
   "execution_count": 23,
   "metadata": {
    "Collapsed": "false"
   },
   "outputs": [
    {
     "ename": "NameError",
     "evalue": "name 'est' is not defined",
     "output_type": "error",
     "traceback": [
      "\u001b[1;31m---------------------------------------------------------------------------\u001b[0m",
      "\u001b[1;31mNameError\u001b[0m                                 Traceback (most recent call last)",
      "\u001b[1;32m<ipython-input-23-900be0f718fb>\u001b[0m in \u001b[0;36m<module>\u001b[1;34m\u001b[0m\n\u001b[1;32m----> 1\u001b[1;33m \u001b[0mest\u001b[0m\u001b[1;33m.\u001b[0m\u001b[0mpvalues\u001b[0m\u001b[1;33m\u001b[0m\u001b[1;33m\u001b[0m\u001b[0m\n\u001b[0m",
      "\u001b[1;31mNameError\u001b[0m: name 'est' is not defined"
     ]
    }
   ],
   "source": [
    "est.pvalues"
   ]
  },
  {
   "cell_type": "markdown",
   "metadata": {
    "Collapsed": "false"
   },
   "source": [
    "### Step 3.2: Model Building, Assessment & Tuning -- Type 1"
   ]
  },
  {
   "cell_type": "code",
   "execution_count": null,
   "metadata": {
    "Collapsed": "false"
   },
   "outputs": [],
   "source": [
    "# OLS Regression Fitting \n",
    "resultProp1 = "
   ]
  },
  {
   "cell_type": "code",
   "execution_count": 24,
   "metadata": {
    "Collapsed": "false"
   },
   "outputs": [],
   "source": [
    "# Get pvalues of resultProp1"
   ]
  },
  {
   "cell_type": "code",
   "execution_count": null,
   "metadata": {
    "Collapsed": "false"
   },
   "outputs": [],
   "source": []
  },
  {
   "cell_type": "code",
   "execution_count": null,
   "metadata": {
    "Collapsed": "false"
   },
   "outputs": [],
   "source": []
  },
  {
   "cell_type": "code",
   "execution_count": 25,
   "metadata": {
    "Collapsed": "false"
   },
   "outputs": [],
   "source": [
    "from sklearn import preprocessing\n",
    "\n",
    "stand_dfX = preprocessing.scale(Prop_Data_Final)\n",
    "stand_dfy = preprocessing.scale(df['SalePrice'])"
   ]
  },
  {
   "cell_type": "code",
   "execution_count": 26,
   "metadata": {
    "Collapsed": "false"
   },
   "outputs": [
    {
     "data": {
      "text/html": [
       "<div>\n",
       "<style scoped>\n",
       "    .dataframe tbody tr th:only-of-type {\n",
       "        vertical-align: middle;\n",
       "    }\n",
       "\n",
       "    .dataframe tbody tr th {\n",
       "        vertical-align: top;\n",
       "    }\n",
       "\n",
       "    .dataframe thead th {\n",
       "        text-align: right;\n",
       "    }\n",
       "</style>\n",
       "<table border=\"1\" class=\"dataframe\">\n",
       "  <thead>\n",
       "    <tr style=\"text-align: right;\">\n",
       "      <th></th>\n",
       "      <th>YearBuilt</th>\n",
       "      <th>YearRemodel</th>\n",
       "      <th>VeneerExterior</th>\n",
       "      <th>HeatingQC</th>\n",
       "      <th>FstFlrSqft</th>\n",
       "      <th>AbvGrndLiving</th>\n",
       "      <th>FullBathHouse</th>\n",
       "      <th>Fireplaces</th>\n",
       "      <th>GarageCars</th>\n",
       "      <th>GarageArea</th>\n",
       "      <th>OverallQuality</th>\n",
       "    </tr>\n",
       "  </thead>\n",
       "  <tbody>\n",
       "    <tr>\n",
       "      <th>count</th>\n",
       "      <td>2.370000e+03</td>\n",
       "      <td>2.370000e+03</td>\n",
       "      <td>2.370000e+03</td>\n",
       "      <td>2.370000e+03</td>\n",
       "      <td>2.370000e+03</td>\n",
       "      <td>2.370000e+03</td>\n",
       "      <td>2370.000000</td>\n",
       "      <td>2.370000e+03</td>\n",
       "      <td>2.370000e+03</td>\n",
       "      <td>2.370000e+03</td>\n",
       "      <td>2.370000e+03</td>\n",
       "    </tr>\n",
       "    <tr>\n",
       "      <th>mean</th>\n",
       "      <td>-3.371717e-16</td>\n",
       "      <td>-2.006646e-15</td>\n",
       "      <td>4.182309e-16</td>\n",
       "      <td>-4.917187e-16</td>\n",
       "      <td>6.581702e-17</td>\n",
       "      <td>7.605262e-17</td>\n",
       "      <td>0.000000</td>\n",
       "      <td>-1.637696e-16</td>\n",
       "      <td>-6.323118e-16</td>\n",
       "      <td>-3.074194e-17</td>\n",
       "      <td>-2.959658e-16</td>\n",
       "    </tr>\n",
       "    <tr>\n",
       "      <th>std</th>\n",
       "      <td>1.000211e+00</td>\n",
       "      <td>1.000211e+00</td>\n",
       "      <td>1.000211e+00</td>\n",
       "      <td>1.000211e+00</td>\n",
       "      <td>1.000211e+00</td>\n",
       "      <td>1.000211e+00</td>\n",
       "      <td>1.000211</td>\n",
       "      <td>1.000211e+00</td>\n",
       "      <td>1.000211e+00</td>\n",
       "      <td>1.000211e+00</td>\n",
       "      <td>1.000211e+00</td>\n",
       "    </tr>\n",
       "    <tr>\n",
       "      <th>min</th>\n",
       "      <td>-3.274447e+00</td>\n",
       "      <td>-1.647519e+00</td>\n",
       "      <td>-5.554641e-01</td>\n",
       "      <td>-2.281286e+00</td>\n",
       "      <td>-2.061076e+00</td>\n",
       "      <td>-2.332584e+00</td>\n",
       "      <td>-3.006288</td>\n",
       "      <td>-9.351983e-01</td>\n",
       "      <td>-2.425041e+00</td>\n",
       "      <td>-2.318096e+00</td>\n",
       "      <td>-3.234921e+00</td>\n",
       "    </tr>\n",
       "    <tr>\n",
       "      <th>25%</th>\n",
       "      <td>-5.836910e-01</td>\n",
       "      <td>-9.225256e-01</td>\n",
       "      <td>-5.554641e-01</td>\n",
       "      <td>-1.221990e+00</td>\n",
       "      <td>-7.333976e-01</td>\n",
       "      <td>-7.646949e-01</td>\n",
       "      <td>-1.012751</td>\n",
       "      <td>-9.351983e-01</td>\n",
       "      <td>-1.014303e+00</td>\n",
       "      <td>-7.388835e-01</td>\n",
       "      <td>-8.390576e-01</td>\n",
       "    </tr>\n",
       "    <tr>\n",
       "      <th>50%</th>\n",
       "      <td>4.747404e-02</td>\n",
       "      <td>4.307947e-01</td>\n",
       "      <td>-5.554641e-01</td>\n",
       "      <td>8.966028e-01</td>\n",
       "      <td>-1.755982e-01</td>\n",
       "      <td>-1.103791e-01</td>\n",
       "      <td>0.980787</td>\n",
       "      <td>6.513586e-01</td>\n",
       "      <td>3.964353e-01</td>\n",
       "      <td>2.541467e-02</td>\n",
       "      <td>-4.043651e-02</td>\n",
       "    </tr>\n",
       "    <tr>\n",
       "      <th>75%</th>\n",
       "      <td>9.443928e-01</td>\n",
       "      <td>9.141234e-01</td>\n",
       "      <td>3.519935e-01</td>\n",
       "      <td>8.966028e-01</td>\n",
       "      <td>6.247858e-01</td>\n",
       "      <td>5.444979e-01</td>\n",
       "      <td>0.980787</td>\n",
       "      <td>6.513586e-01</td>\n",
       "      <td>3.964353e-01</td>\n",
       "      <td>5.771266e-01</td>\n",
       "      <td>7.581846e-01</td>\n",
       "    </tr>\n",
       "    <tr>\n",
       "      <th>max</th>\n",
       "      <td>1.309804e+00</td>\n",
       "      <td>1.252453e+00</td>\n",
       "      <td>9.527398e+00</td>\n",
       "      <td>8.966028e-01</td>\n",
       "      <td>5.175790e+00</td>\n",
       "      <td>4.852545e+00</td>\n",
       "      <td>0.980787</td>\n",
       "      <td>5.411029e+00</td>\n",
       "      <td>4.628650e+00</td>\n",
       "      <td>5.213532e+00</td>\n",
       "      <td>3.154048e+00</td>\n",
       "    </tr>\n",
       "  </tbody>\n",
       "</table>\n",
       "</div>"
      ],
      "text/plain": [
       "          YearBuilt   YearRemodel  VeneerExterior     HeatingQC    FstFlrSqft  \\\n",
       "count  2.370000e+03  2.370000e+03    2.370000e+03  2.370000e+03  2.370000e+03   \n",
       "mean  -3.371717e-16 -2.006646e-15    4.182309e-16 -4.917187e-16  6.581702e-17   \n",
       "std    1.000211e+00  1.000211e+00    1.000211e+00  1.000211e+00  1.000211e+00   \n",
       "min   -3.274447e+00 -1.647519e+00   -5.554641e-01 -2.281286e+00 -2.061076e+00   \n",
       "25%   -5.836910e-01 -9.225256e-01   -5.554641e-01 -1.221990e+00 -7.333976e-01   \n",
       "50%    4.747404e-02  4.307947e-01   -5.554641e-01  8.966028e-01 -1.755982e-01   \n",
       "75%    9.443928e-01  9.141234e-01    3.519935e-01  8.966028e-01  6.247858e-01   \n",
       "max    1.309804e+00  1.252453e+00    9.527398e+00  8.966028e-01  5.175790e+00   \n",
       "\n",
       "       AbvGrndLiving  FullBathHouse    Fireplaces    GarageCars    GarageArea  \\\n",
       "count   2.370000e+03    2370.000000  2.370000e+03  2.370000e+03  2.370000e+03   \n",
       "mean    7.605262e-17       0.000000 -1.637696e-16 -6.323118e-16 -3.074194e-17   \n",
       "std     1.000211e+00       1.000211  1.000211e+00  1.000211e+00  1.000211e+00   \n",
       "min    -2.332584e+00      -3.006288 -9.351983e-01 -2.425041e+00 -2.318096e+00   \n",
       "25%    -7.646949e-01      -1.012751 -9.351983e-01 -1.014303e+00 -7.388835e-01   \n",
       "50%    -1.103791e-01       0.980787  6.513586e-01  3.964353e-01  2.541467e-02   \n",
       "75%     5.444979e-01       0.980787  6.513586e-01  3.964353e-01  5.771266e-01   \n",
       "max     4.852545e+00       0.980787  5.411029e+00  4.628650e+00  5.213532e+00   \n",
       "\n",
       "       OverallQuality  \n",
       "count    2.370000e+03  \n",
       "mean    -2.959658e-16  \n",
       "std      1.000211e+00  \n",
       "min     -3.234921e+00  \n",
       "25%     -8.390576e-01  \n",
       "50%     -4.043651e-02  \n",
       "75%      7.581846e-01  \n",
       "max      3.154048e+00  "
      ]
     },
     "execution_count": 26,
     "metadata": {},
     "output_type": "execute_result"
    }
   ],
   "source": [
    "# Transforming Array X into DF\n",
    "col_names = Prop_Data_Final.columns\n",
    "stand_dfX = pd.DataFrame(stand_dfX, columns=col_names)\n",
    "stand_dfX.describe()\n"
   ]
  },
  {
   "cell_type": "code",
   "execution_count": 42,
   "metadata": {
    "Collapsed": "false"
   },
   "outputs": [],
   "source": [
    "# Transforming Array y into DF\n",
    "stand_dfy = pd.DataFrame(stand_dfy, columns=['SalePrice'])"
   ]
  },
  {
   "cell_type": "code",
   "execution_count": 56,
   "metadata": {
    "Collapsed": "false"
   },
   "outputs": [],
   "source": [
    "y = stand_dfy\n",
    "X = stand_dfX"
   ]
  },
  {
   "cell_type": "code",
   "execution_count": 60,
   "metadata": {
    "Collapsed": "false"
   },
   "outputs": [
    {
     "name": "stdout",
     "output_type": "stream",
     "text": [
      "[-0.00398356]\n",
      "[[ 0.16445508  0.10218732  0.04049584  0.04875592  0.17682746  0.36238209\n",
      "  -0.09034932  0.0845861   0.01540793  0.12762882  0.25441591]]\n"
     ]
    },
    {
     "data": {
      "text/html": [
       "<div>\n",
       "<style scoped>\n",
       "    .dataframe tbody tr th:only-of-type {\n",
       "        vertical-align: middle;\n",
       "    }\n",
       "\n",
       "    .dataframe tbody tr th {\n",
       "        vertical-align: top;\n",
       "    }\n",
       "\n",
       "    .dataframe thead th {\n",
       "        text-align: right;\n",
       "    }\n",
       "</style>\n",
       "<table border=\"1\" class=\"dataframe\">\n",
       "  <thead>\n",
       "    <tr style=\"text-align: right;\">\n",
       "      <th></th>\n",
       "      <th>0</th>\n",
       "    </tr>\n",
       "  </thead>\n",
       "  <tbody>\n",
       "    <tr>\n",
       "      <th>YearBuilt</th>\n",
       "      <td>0.164455</td>\n",
       "    </tr>\n",
       "    <tr>\n",
       "      <th>YearRemodel</th>\n",
       "      <td>0.102187</td>\n",
       "    </tr>\n",
       "    <tr>\n",
       "      <th>VeneerExterior</th>\n",
       "      <td>0.040496</td>\n",
       "    </tr>\n",
       "    <tr>\n",
       "      <th>HeatingQC</th>\n",
       "      <td>0.048756</td>\n",
       "    </tr>\n",
       "    <tr>\n",
       "      <th>FstFlrSqft</th>\n",
       "      <td>0.176827</td>\n",
       "    </tr>\n",
       "    <tr>\n",
       "      <th>AbvGrndLiving</th>\n",
       "      <td>0.362382</td>\n",
       "    </tr>\n",
       "    <tr>\n",
       "      <th>FullBathHouse</th>\n",
       "      <td>-0.090349</td>\n",
       "    </tr>\n",
       "    <tr>\n",
       "      <th>Fireplaces</th>\n",
       "      <td>0.084586</td>\n",
       "    </tr>\n",
       "    <tr>\n",
       "      <th>GarageCars</th>\n",
       "      <td>0.015408</td>\n",
       "    </tr>\n",
       "    <tr>\n",
       "      <th>GarageArea</th>\n",
       "      <td>0.127629</td>\n",
       "    </tr>\n",
       "    <tr>\n",
       "      <th>OverallQuality</th>\n",
       "      <td>0.254416</td>\n",
       "    </tr>\n",
       "  </tbody>\n",
       "</table>\n",
       "</div>"
      ],
      "text/plain": [
       "                       0\n",
       "YearBuilt       0.164455\n",
       "YearRemodel     0.102187\n",
       "VeneerExterior  0.040496\n",
       "HeatingQC       0.048756\n",
       "FstFlrSqft      0.176827\n",
       "AbvGrndLiving   0.362382\n",
       "FullBathHouse  -0.090349\n",
       "Fireplaces      0.084586\n",
       "GarageCars      0.015408\n",
       "GarageArea      0.127629\n",
       "OverallQuality  0.254416"
      ]
     },
     "execution_count": 60,
     "metadata": {},
     "output_type": "execute_result"
    }
   ],
   "source": [
    "# Prepare the test / train sets\n",
    "X_train, X_test, y_train, y_test = train_test_split(X, y, test_size=0.2, random_state=1)\n",
    "\n",
    "# instantiate\n",
    "linreg = LinearRegression()\n",
    "\n",
    "# fit the model to the training data (learn the coefficients)\n",
    "linreg.fit(X_train, y_train)\n",
    "\n",
    "# print the intercept and coefficients\n",
    "print(linreg.intercept_)\n",
    "print(linreg.coef_)\n",
    "\n",
    "#printing the output and coefficients\n",
    "coeff_df = pd.DataFrame(linreg.coef_, columns=col_names) \n",
    "coeff_df.transpose()"
   ]
  },
  {
   "cell_type": "code",
   "execution_count": 58,
   "metadata": {
    "Collapsed": "false"
   },
   "outputs": [
    {
     "name": "stdout",
     "output_type": "stream",
     "text": [
      "0.8620671519604952\n"
     ]
    }
   ],
   "source": [
    "y_pred = linreg.predict(X_test) \n",
    "\n",
    "import sklearn.metrics\n",
    "\n",
    "# MSE = mean_squared_error(y_test, y_pred)\n",
    "# RSq = r2_score(y_test, y_pred)\n",
    "# print(MSE)\n",
    "# print(RSq)\n",
    "\n",
    "print(linreg.score(X_test, y_test))"
   ]
  },
  {
   "cell_type": "code",
   "execution_count": 46,
   "metadata": {
    "Collapsed": "false"
   },
   "outputs": [],
   "source": [
    "# QUERY\n",
    "  # Why are the coeff displyed like this and not vertically? (i added 'col_names')\n",
    "  # looking at the errors below, it seems that htere is autocorrelation of errors - do you agree?"
   ]
  },
  {
   "cell_type": "code",
   "execution_count": 32,
   "metadata": {
    "Collapsed": "false"
   },
   "outputs": [
    {
     "data": {
      "text/plain": [
       "<matplotlib.collections.PathCollection at 0x22c6ea56848>"
      ]
     },
     "execution_count": 32,
     "metadata": {},
     "output_type": "execute_result"
    },
    {
     "data": {
      "image/png": "[encoded data removed]",
      "text/plain": [
       "<Figure size 432x288 with 1 Axes>"
      ]
     },
     "metadata": {
      "needs_background": "light"
     },
     "output_type": "display_data"
    }
   ],
   "source": [
    "%matplotlib inline\n",
    "\n",
    "# Plotting the predictions vs the test set\n",
    " \n",
    "plt.scatter(y_test,y_pred)\n"
   ]
  },
  {
   "cell_type": "code",
   "execution_count": 33,
   "metadata": {
    "Collapsed": "false"
   },
   "outputs": [
    {
     "data": {
      "text/plain": [
       "<matplotlib.axes._subplots.AxesSubplot at 0x22c6e9f0088>"
      ]
     },
     "execution_count": 33,
     "metadata": {},
     "output_type": "execute_result"
    },
    {
     "data": {
      "image/png": "[encoded data removed]",
      "text/plain": [
       "<Figure size 432x288 with 1 Axes>"
      ]
     },
     "metadata": {
      "needs_background": "light"
     },
     "output_type": "display_data"
    }
   ],
   "source": [
    "# Plotting the errors\n",
    "sns.distplot((y_test-y_pred),bins=50)"
   ]
  },
  {
   "cell_type": "code",
   "execution_count": 59,
   "metadata": {
    "Collapsed": "false"
   },
   "outputs": [
    {
     "name": "stdout",
     "output_type": "stream",
     "text": [
      "scores from each iteration [-0.7525042279039211, -0.8689197825652168, -0.7083497778694412, -0.7410488234631123, -0.7855623013499751]\n",
      "average k-fold score -0.7712769826303333\n"
     ]
    }
   ],
   "source": [
    "# Implementing K-Fold Cross Validation\n",
    "\n",
    "from sklearn import metrics\n",
    "from sklearn.model_selection import KFold \n",
    "kf = KFold(n_splits=5, shuffle = True) \n",
    "\n",
    "linreg = LinearRegression()\n",
    "\n",
    "scores = []\n",
    "mse = []\n",
    "\n",
    "for i in range(5):\n",
    "    result = next(kf.split(X), None)\n",
    "    X_train = X.iloc[result[0]]\n",
    "    X_test = X.iloc[result[1]]\n",
    "    y_train = y.iloc[result[0]]\n",
    "    t_test = y.iloc[result[1]]\n",
    "    model = linreg.fit(X_train,y_train)\n",
    "    y_pred = linreg.predict(X_test)\n",
    "    scores.append(model.score(X_test, y_test))\n",
    "#     mse.append(mean_squared_error(y_test, y_pred))\n",
    "\n",
    "print('scores from each iteration', scores)\n",
    "# print('mse for each iteration', mse)\n",
    "print('average k-fold score', np.mean(scores))\n",
    "# print('average mse', np.mean(mse))\n",
    "\n"
   ]
  },
  {
   "cell_type": "code",
   "execution_count": 35,
   "metadata": {
    "Collapsed": "false"
   },
   "outputs": [],
   "source": [
    "# QUERY \n",
    "  # i can not do 10 fold split - is it becaaus emy underlying data is not an array but a DF?"
   ]
  },
  {
   "cell_type": "code",
   "execution_count": null,
   "metadata": {
    "Collapsed": "false"
   },
   "outputs": [],
   "source": []
  },
  {
   "cell_type": "code",
   "execution_count": 40,
   "metadata": {
    "Collapsed": "false"
   },
   "outputs": [
    {
     "ename": "ValueError",
     "evalue": "x and y must have same first dimension, but have shapes (5,) and (0,)",
     "output_type": "error",
     "traceback": [
      "\u001b[1;31m---------------------------------------------------------------------------\u001b[0m",
      "\u001b[1;31mValueError\u001b[0m                                Traceback (most recent call last)",
      "\u001b[1;32m<ipython-input-40-27c6e1e9d0bd>\u001b[0m in \u001b[0;36m<module>\u001b[1;34m\u001b[0m\n\u001b[0;32m      5\u001b[0m \u001b[0mx\u001b[0m \u001b[1;33m=\u001b[0m \u001b[0mnp\u001b[0m\u001b[1;33m.\u001b[0m\u001b[0marange\u001b[0m\u001b[1;33m(\u001b[0m\u001b[1;36m1\u001b[0m\u001b[1;33m,\u001b[0m\u001b[1;36m6\u001b[0m\u001b[1;33m)\u001b[0m\u001b[1;33m\u001b[0m\u001b[1;33m\u001b[0m\u001b[0m\n\u001b[0;32m      6\u001b[0m \u001b[0my\u001b[0m \u001b[1;33m=\u001b[0m \u001b[0mmse\u001b[0m\u001b[1;33m\u001b[0m\u001b[1;33m\u001b[0m\u001b[0m\n\u001b[1;32m----> 7\u001b[1;33m \u001b[0mplt\u001b[0m\u001b[1;33m.\u001b[0m\u001b[0mplot\u001b[0m\u001b[1;33m(\u001b[0m\u001b[0mx\u001b[0m\u001b[1;33m,\u001b[0m \u001b[0my\u001b[0m\u001b[1;33m)\u001b[0m\u001b[1;33m;\u001b[0m\u001b[1;33m\u001b[0m\u001b[1;33m\u001b[0m\u001b[0m\n\u001b[0m",
      "\u001b[1;32m~\\anaconda3\\lib\\site-packages\\matplotlib\\pyplot.py\u001b[0m in \u001b[0;36mplot\u001b[1;34m(scalex, scaley, data, *args, **kwargs)\u001b[0m\n\u001b[0;32m   2794\u001b[0m     return gca().plot(\n\u001b[0;32m   2795\u001b[0m         *args, scalex=scalex, scaley=scaley, **({\"data\": data} if data\n\u001b[1;32m-> 2796\u001b[1;33m         is not None else {}), **kwargs)\n\u001b[0m\u001b[0;32m   2797\u001b[0m \u001b[1;33m\u001b[0m\u001b[0m\n\u001b[0;32m   2798\u001b[0m \u001b[1;33m\u001b[0m\u001b[0m\n",
      "\u001b[1;32m~\\anaconda3\\lib\\site-packages\\matplotlib\\axes\\_axes.py\u001b[0m in \u001b[0;36mplot\u001b[1;34m(self, scalex, scaley, data, *args, **kwargs)\u001b[0m\n\u001b[0;32m   1663\u001b[0m         \"\"\"\n\u001b[0;32m   1664\u001b[0m         \u001b[0mkwargs\u001b[0m \u001b[1;33m=\u001b[0m \u001b[0mcbook\u001b[0m\u001b[1;33m.\u001b[0m\u001b[0mnormalize_kwargs\u001b[0m\u001b[1;33m(\u001b[0m\u001b[0mkwargs\u001b[0m\u001b[1;33m,\u001b[0m \u001b[0mmlines\u001b[0m\u001b[1;33m.\u001b[0m\u001b[0mLine2D\u001b[0m\u001b[1;33m.\u001b[0m\u001b[0m_alias_map\u001b[0m\u001b[1;33m)\u001b[0m\u001b[1;33m\u001b[0m\u001b[1;33m\u001b[0m\u001b[0m\n\u001b[1;32m-> 1665\u001b[1;33m         \u001b[0mlines\u001b[0m \u001b[1;33m=\u001b[0m \u001b[1;33m[\u001b[0m\u001b[1;33m*\u001b[0m\u001b[0mself\u001b[0m\u001b[1;33m.\u001b[0m\u001b[0m_get_lines\u001b[0m\u001b[1;33m(\u001b[0m\u001b[1;33m*\u001b[0m\u001b[0margs\u001b[0m\u001b[1;33m,\u001b[0m \u001b[0mdata\u001b[0m\u001b[1;33m=\u001b[0m\u001b[0mdata\u001b[0m\u001b[1;33m,\u001b[0m \u001b[1;33m**\u001b[0m\u001b[0mkwargs\u001b[0m\u001b[1;33m)\u001b[0m\u001b[1;33m]\u001b[0m\u001b[1;33m\u001b[0m\u001b[1;33m\u001b[0m\u001b[0m\n\u001b[0m\u001b[0;32m   1666\u001b[0m         \u001b[1;32mfor\u001b[0m \u001b[0mline\u001b[0m \u001b[1;32min\u001b[0m \u001b[0mlines\u001b[0m\u001b[1;33m:\u001b[0m\u001b[1;33m\u001b[0m\u001b[1;33m\u001b[0m\u001b[0m\n\u001b[0;32m   1667\u001b[0m             \u001b[0mself\u001b[0m\u001b[1;33m.\u001b[0m\u001b[0madd_line\u001b[0m\u001b[1;33m(\u001b[0m\u001b[0mline\u001b[0m\u001b[1;33m)\u001b[0m\u001b[1;33m\u001b[0m\u001b[1;33m\u001b[0m\u001b[0m\n",
      "\u001b[1;32m~\\anaconda3\\lib\\site-packages\\matplotlib\\axes\\_base.py\u001b[0m in \u001b[0;36m__call__\u001b[1;34m(self, *args, **kwargs)\u001b[0m\n\u001b[0;32m    223\u001b[0m                 \u001b[0mthis\u001b[0m \u001b[1;33m+=\u001b[0m \u001b[0margs\u001b[0m\u001b[1;33m[\u001b[0m\u001b[1;36m0\u001b[0m\u001b[1;33m]\u001b[0m\u001b[1;33m,\u001b[0m\u001b[1;33m\u001b[0m\u001b[1;33m\u001b[0m\u001b[0m\n\u001b[0;32m    224\u001b[0m                 \u001b[0margs\u001b[0m \u001b[1;33m=\u001b[0m \u001b[0margs\u001b[0m\u001b[1;33m[\u001b[0m\u001b[1;36m1\u001b[0m\u001b[1;33m:\u001b[0m\u001b[1;33m]\u001b[0m\u001b[1;33m\u001b[0m\u001b[1;33m\u001b[0m\u001b[0m\n\u001b[1;32m--> 225\u001b[1;33m             \u001b[1;32myield\u001b[0m \u001b[1;32mfrom\u001b[0m \u001b[0mself\u001b[0m\u001b[1;33m.\u001b[0m\u001b[0m_plot_args\u001b[0m\u001b[1;33m(\u001b[0m\u001b[0mthis\u001b[0m\u001b[1;33m,\u001b[0m \u001b[0mkwargs\u001b[0m\u001b[1;33m)\u001b[0m\u001b[1;33m\u001b[0m\u001b[1;33m\u001b[0m\u001b[0m\n\u001b[0m\u001b[0;32m    226\u001b[0m \u001b[1;33m\u001b[0m\u001b[0m\n\u001b[0;32m    227\u001b[0m     \u001b[1;32mdef\u001b[0m \u001b[0mget_next_color\u001b[0m\u001b[1;33m(\u001b[0m\u001b[0mself\u001b[0m\u001b[1;33m)\u001b[0m\u001b[1;33m:\u001b[0m\u001b[1;33m\u001b[0m\u001b[1;33m\u001b[0m\u001b[0m\n",
      "\u001b[1;32m~\\anaconda3\\lib\\site-packages\\matplotlib\\axes\\_base.py\u001b[0m in \u001b[0;36m_plot_args\u001b[1;34m(self, tup, kwargs)\u001b[0m\n\u001b[0;32m    389\u001b[0m             \u001b[0mx\u001b[0m\u001b[1;33m,\u001b[0m \u001b[0my\u001b[0m \u001b[1;33m=\u001b[0m \u001b[0mindex_of\u001b[0m\u001b[1;33m(\u001b[0m\u001b[0mtup\u001b[0m\u001b[1;33m[\u001b[0m\u001b[1;33m-\u001b[0m\u001b[1;36m1\u001b[0m\u001b[1;33m]\u001b[0m\u001b[1;33m)\u001b[0m\u001b[1;33m\u001b[0m\u001b[1;33m\u001b[0m\u001b[0m\n\u001b[0;32m    390\u001b[0m \u001b[1;33m\u001b[0m\u001b[0m\n\u001b[1;32m--> 391\u001b[1;33m         \u001b[0mx\u001b[0m\u001b[1;33m,\u001b[0m \u001b[0my\u001b[0m \u001b[1;33m=\u001b[0m \u001b[0mself\u001b[0m\u001b[1;33m.\u001b[0m\u001b[0m_xy_from_xy\u001b[0m\u001b[1;33m(\u001b[0m\u001b[0mx\u001b[0m\u001b[1;33m,\u001b[0m \u001b[0my\u001b[0m\u001b[1;33m)\u001b[0m\u001b[1;33m\u001b[0m\u001b[1;33m\u001b[0m\u001b[0m\n\u001b[0m\u001b[0;32m    392\u001b[0m \u001b[1;33m\u001b[0m\u001b[0m\n\u001b[0;32m    393\u001b[0m         \u001b[1;32mif\u001b[0m \u001b[0mself\u001b[0m\u001b[1;33m.\u001b[0m\u001b[0mcommand\u001b[0m \u001b[1;33m==\u001b[0m \u001b[1;34m'plot'\u001b[0m\u001b[1;33m:\u001b[0m\u001b[1;33m\u001b[0m\u001b[1;33m\u001b[0m\u001b[0m\n",
      "\u001b[1;32m~\\anaconda3\\lib\\site-packages\\matplotlib\\axes\\_base.py\u001b[0m in \u001b[0;36m_xy_from_xy\u001b[1;34m(self, x, y)\u001b[0m\n\u001b[0;32m    268\u001b[0m         \u001b[1;32mif\u001b[0m \u001b[0mx\u001b[0m\u001b[1;33m.\u001b[0m\u001b[0mshape\u001b[0m\u001b[1;33m[\u001b[0m\u001b[1;36m0\u001b[0m\u001b[1;33m]\u001b[0m \u001b[1;33m!=\u001b[0m \u001b[0my\u001b[0m\u001b[1;33m.\u001b[0m\u001b[0mshape\u001b[0m\u001b[1;33m[\u001b[0m\u001b[1;36m0\u001b[0m\u001b[1;33m]\u001b[0m\u001b[1;33m:\u001b[0m\u001b[1;33m\u001b[0m\u001b[1;33m\u001b[0m\u001b[0m\n\u001b[0;32m    269\u001b[0m             raise ValueError(\"x and y must have same first dimension, but \"\n\u001b[1;32m--> 270\u001b[1;33m                              \"have shapes {} and {}\".format(x.shape, y.shape))\n\u001b[0m\u001b[0;32m    271\u001b[0m         \u001b[1;32mif\u001b[0m \u001b[0mx\u001b[0m\u001b[1;33m.\u001b[0m\u001b[0mndim\u001b[0m \u001b[1;33m>\u001b[0m \u001b[1;36m2\u001b[0m \u001b[1;32mor\u001b[0m \u001b[0my\u001b[0m\u001b[1;33m.\u001b[0m\u001b[0mndim\u001b[0m \u001b[1;33m>\u001b[0m \u001b[1;36m2\u001b[0m\u001b[1;33m:\u001b[0m\u001b[1;33m\u001b[0m\u001b[1;33m\u001b[0m\u001b[0m\n\u001b[0;32m    272\u001b[0m             raise ValueError(\"x and y can be no greater than 2-D, but have \"\n",
      "\u001b[1;31mValueError\u001b[0m: x and y must have same first dimension, but have shapes (5,) and (0,)"
     ]
    },
    {
     "data": {
      "image/png": "[encoded data removed]",
      "text/plain": [
       "<Figure size 432x288 with 1 Axes>"
      ]
     },
     "metadata": {
      "needs_background": "light"
     },
     "output_type": "display_data"
    }
   ],
   "source": [
    "%matplotlib inline\n",
    "import numpy as np\n",
    "import matplotlib.pyplot as plt\n",
    "\n",
    "x = np.arange(1,6)\n",
    "y = mse\n",
    "plt.plot(x, y);\n"
   ]
  },
  {
   "cell_type": "code",
   "execution_count": null,
   "metadata": {
    "Collapsed": "false"
   },
   "outputs": [],
   "source": []
  },
  {
   "cell_type": "code",
   "execution_count": null,
   "metadata": {
    "Collapsed": "false"
   },
   "outputs": [],
   "source": []
  },
  {
   "cell_type": "code",
   "execution_count": null,
   "metadata": {
    "Collapsed": "false"
   },
   "outputs": [],
   "source": []
  },
  {
   "cell_type": "code",
   "execution_count": null,
   "metadata": {
    "Collapsed": "false"
   },
   "outputs": [],
   "source": [
    "\n"
   ]
  },
  {
   "cell_type": "code",
   "execution_count": 37,
   "metadata": {
    "Collapsed": "false",
    "code_folding": []
   },
   "outputs": [],
   "source": [
    "# Linear Regression model fitting\n",
    "\n",
    "# Create a variable myScore_regression containing the cross validation score\n"
   ]
  },
  {
   "cell_type": "code",
   "execution_count": 38,
   "metadata": {
    "Collapsed": "false"
   },
   "outputs": [
    {
     "ename": "NameError",
     "evalue": "name 'myScore' is not defined",
     "output_type": "error",
     "traceback": [
      "\u001b[1;31m---------------------------------------------------------------------------\u001b[0m",
      "\u001b[1;31mNameError\u001b[0m                                 Traceback (most recent call last)",
      "\u001b[1;32m<ipython-input-38-33118946532e>\u001b[0m in \u001b[0;36m<module>\u001b[1;34m\u001b[0m\n\u001b[1;32m----> 1\u001b[1;33m \u001b[0mmyScore\u001b[0m\u001b[1;33m\u001b[0m\u001b[1;33m\u001b[0m\u001b[0m\n\u001b[0m",
      "\u001b[1;31mNameError\u001b[0m: name 'myScore' is not defined"
     ]
    }
   ],
   "source": [
    "myScore"
   ]
  },
  {
   "cell_type": "code",
   "execution_count": 39,
   "metadata": {
    "Collapsed": "false"
   },
   "outputs": [],
   "source": [
    "# Plotting the accuracy\n",
    "\n",
    "# Plot the Accuracy using the Cross validation score"
   ]
  },
  {
   "cell_type": "markdown",
   "metadata": {
    "Collapsed": "false"
   },
   "source": [
    "## Step 6: Deployment - Import, Understand & Prepare Score Data Set"
   ]
  },
  {
   "cell_type": "code",
   "execution_count": 136,
   "metadata": {
    "Collapsed": "false"
   },
   "outputs": [
    {
     "data": {
      "text/plain": [
       "(100, 27)"
      ]
     },
     "execution_count": 136,
     "metadata": {},
     "output_type": "execute_result"
    }
   ],
   "source": [
    "# Reading dataset in Score\n",
    "\n",
    "Score = pd.read_csv('Score_Data-No_Sale_Price.csv')\n",
    "Score.shape\n"
   ]
  },
  {
   "cell_type": "code",
   "execution_count": 51,
   "metadata": {
    "Collapsed": "false"
   },
   "outputs": [
    {
     "data": {
      "text/plain": [
       "(100, 27)"
      ]
     },
     "execution_count": 51,
     "metadata": {},
     "output_type": "execute_result"
    }
   ],
   "source": [
    "# Retruns shape"
   ]
  },
  {
   "cell_type": "code",
   "execution_count": 52,
   "metadata": {
    "Collapsed": "false"
   },
   "outputs": [
    {
     "data": {
      "text/html": [
       "<div>\n",
       "<style scoped>\n",
       "    .dataframe tbody tr th:only-of-type {\n",
       "        vertical-align: middle;\n",
       "    }\n",
       "\n",
       "    .dataframe tbody tr th {\n",
       "        vertical-align: top;\n",
       "    }\n",
       "\n",
       "    .dataframe thead th {\n",
       "        text-align: right;\n",
       "    }\n",
       "</style>\n",
       "<table border=\"1\" class=\"dataframe\">\n",
       "  <thead>\n",
       "    <tr style=\"text-align: right;\">\n",
       "      <th></th>\n",
       "      <th>PID</th>\n",
       "      <th>LotArea</th>\n",
       "      <th>LotShape</th>\n",
       "      <th>BldgTp</th>\n",
       "      <th>OverallQuality</th>\n",
       "      <th>OverallCondition</th>\n",
       "      <th>YearBuilt</th>\n",
       "      <th>YearRemodel</th>\n",
       "      <th>VeneerExterior</th>\n",
       "      <th>BsmtFinTp</th>\n",
       "      <th>...</th>\n",
       "      <th>HalfBathHouse</th>\n",
       "      <th>FullBathHouse</th>\n",
       "      <th>BdrmAbvGrnd</th>\n",
       "      <th>RmAbvGrnd</th>\n",
       "      <th>Fireplaces</th>\n",
       "      <th>GarageTp</th>\n",
       "      <th>GarageCars</th>\n",
       "      <th>GarageArea</th>\n",
       "      <th>WdDckSqft</th>\n",
       "      <th>OpenPrchSqft</th>\n",
       "    </tr>\n",
       "  </thead>\n",
       "  <tbody>\n",
       "    <tr>\n",
       "      <th>0</th>\n",
       "      <td>528445060</td>\n",
       "      <td>8987</td>\n",
       "      <td>1</td>\n",
       "      <td>1</td>\n",
       "      <td>8</td>\n",
       "      <td>5</td>\n",
       "      <td>2005</td>\n",
       "      <td>2006</td>\n",
       "      <td>226.0</td>\n",
       "      <td>0</td>\n",
       "      <td>...</td>\n",
       "      <td>0</td>\n",
       "      <td>2</td>\n",
       "      <td>2.0</td>\n",
       "      <td>6.0</td>\n",
       "      <td>1</td>\n",
       "      <td>3</td>\n",
       "      <td>3</td>\n",
       "      <td>880</td>\n",
       "      <td>144</td>\n",
       "      <td>0</td>\n",
       "    </tr>\n",
       "    <tr>\n",
       "      <th>1</th>\n",
       "      <td>528456160</td>\n",
       "      <td>9215</td>\n",
       "      <td>1</td>\n",
       "      <td>1</td>\n",
       "      <td>7</td>\n",
       "      <td>5</td>\n",
       "      <td>2009</td>\n",
       "      <td>2010</td>\n",
       "      <td>0.0</td>\n",
       "      <td>0</td>\n",
       "      <td>...</td>\n",
       "      <td>0</td>\n",
       "      <td>2</td>\n",
       "      <td>2.0</td>\n",
       "      <td>4.0</td>\n",
       "      <td>0</td>\n",
       "      <td>3</td>\n",
       "      <td>2</td>\n",
       "      <td>676</td>\n",
       "      <td>0</td>\n",
       "      <td>136</td>\n",
       "    </tr>\n",
       "    <tr>\n",
       "      <th>2</th>\n",
       "      <td>528458070</td>\n",
       "      <td>8640</td>\n",
       "      <td>1</td>\n",
       "      <td>1</td>\n",
       "      <td>7</td>\n",
       "      <td>5</td>\n",
       "      <td>2009</td>\n",
       "      <td>2009</td>\n",
       "      <td>0.0</td>\n",
       "      <td>1</td>\n",
       "      <td>...</td>\n",
       "      <td>1</td>\n",
       "      <td>2</td>\n",
       "      <td>3.0</td>\n",
       "      <td>7.0</td>\n",
       "      <td>0</td>\n",
       "      <td>3</td>\n",
       "      <td>2</td>\n",
       "      <td>614</td>\n",
       "      <td>169</td>\n",
       "      <td>45</td>\n",
       "    </tr>\n",
       "    <tr>\n",
       "      <th>3</th>\n",
       "      <td>906380190</td>\n",
       "      <td>6762</td>\n",
       "      <td>1</td>\n",
       "      <td>1</td>\n",
       "      <td>7</td>\n",
       "      <td>5</td>\n",
       "      <td>2006</td>\n",
       "      <td>2006</td>\n",
       "      <td>24.0</td>\n",
       "      <td>1</td>\n",
       "      <td>...</td>\n",
       "      <td>0</td>\n",
       "      <td>2</td>\n",
       "      <td>2.0</td>\n",
       "      <td>6.0</td>\n",
       "      <td>0</td>\n",
       "      <td>3</td>\n",
       "      <td>2</td>\n",
       "      <td>632</td>\n",
       "      <td>105</td>\n",
       "      <td>61</td>\n",
       "    </tr>\n",
       "    <tr>\n",
       "      <th>4</th>\n",
       "      <td>906385010</td>\n",
       "      <td>10402</td>\n",
       "      <td>0</td>\n",
       "      <td>1</td>\n",
       "      <td>7</td>\n",
       "      <td>5</td>\n",
       "      <td>2009</td>\n",
       "      <td>2009</td>\n",
       "      <td>0.0</td>\n",
       "      <td>0</td>\n",
       "      <td>...</td>\n",
       "      <td>0</td>\n",
       "      <td>2</td>\n",
       "      <td>3.0</td>\n",
       "      <td>6.0</td>\n",
       "      <td>0</td>\n",
       "      <td>3</td>\n",
       "      <td>3</td>\n",
       "      <td>740</td>\n",
       "      <td>0</td>\n",
       "      <td>36</td>\n",
       "    </tr>\n",
       "  </tbody>\n",
       "</table>\n",
       "<p>5 rows × 27 columns</p>\n",
       "</div>"
      ],
      "text/plain": [
       "         PID  LotArea  LotShape  BldgTp  OverallQuality  OverallCondition  \\\n",
       "0  528445060     8987         1       1               8                 5   \n",
       "1  528456160     9215         1       1               7                 5   \n",
       "2  528458070     8640         1       1               7                 5   \n",
       "3  906380190     6762         1       1               7                 5   \n",
       "4  906385010    10402         0       1               7                 5   \n",
       "\n",
       "   YearBuilt  YearRemodel  VeneerExterior  BsmtFinTp  ...  HalfBathHouse  \\\n",
       "0       2005         2006           226.0          0  ...              0   \n",
       "1       2009         2010             0.0          0  ...              0   \n",
       "2       2009         2009             0.0          1  ...              1   \n",
       "3       2006         2006            24.0          1  ...              0   \n",
       "4       2009         2009             0.0          0  ...              0   \n",
       "\n",
       "   FullBathHouse  BdrmAbvGrnd  RmAbvGrnd  Fireplaces  GarageTp  GarageCars  \\\n",
       "0              2          2.0        6.0           1         3           3   \n",
       "1              2          2.0        4.0           0         3           2   \n",
       "2              2          3.0        7.0           0         3           2   \n",
       "3              2          2.0        6.0           0         3           2   \n",
       "4              2          3.0        6.0           0         3           3   \n",
       "\n",
       "   GarageArea  WdDckSqft  OpenPrchSqft  \n",
       "0         880        144             0  \n",
       "1         676          0           136  \n",
       "2         614        169            45  \n",
       "3         632        105            61  \n",
       "4         740          0            36  \n",
       "\n",
       "[5 rows x 27 columns]"
      ]
     },
     "execution_count": 52,
     "metadata": {},
     "output_type": "execute_result"
    }
   ],
   "source": [
    "# Retruns top 5 entries"
   ]
  },
  {
   "cell_type": "code",
   "execution_count": 53,
   "metadata": {
    "Collapsed": "false"
   },
   "outputs": [
    {
     "data": {
      "text/plain": [
       "Index(['PID', 'LotArea', 'LotShape', 'BldgTp', 'OverallQuality',\n",
       "       'OverallCondition', 'YearBuilt', 'YearRemodel', 'VeneerExterior',\n",
       "       'BsmtFinTp', 'BsmtFinSqft', 'BsmtUnfinSqft', 'HeatingQC', 'FstFlrSqft',\n",
       "       'SecFlrSqft', 'AbvGrndLiving', 'FullBathBsmt', 'HalfBathHouse',\n",
       "       'FullBathHouse', 'BdrmAbvGrnd', 'RmAbvGrnd', 'Fireplaces', 'GarageTp',\n",
       "       'GarageCars', 'GarageArea', 'WdDckSqft', 'OpenPrchSqft'],\n",
       "      dtype='object')"
      ]
     },
     "execution_count": 53,
     "metadata": {},
     "output_type": "execute_result"
    }
   ],
   "source": [
    "# Retruns Columns"
   ]
  },
  {
   "cell_type": "code",
   "execution_count": 137,
   "metadata": {
    "Collapsed": "false"
   },
   "outputs": [],
   "source": [
    "# Score2 = Score[[columns]]\n",
    "\n",
    "Score2 = df[['PID','YearBuilt','YearRemodel','VeneerExterior','HeatingQC','FstFlrSqft','AbvGrndLiving','FullBathHouse','RmAbvGrnd','OverallQuality','LotArea','BldgTp']]\n",
    "Prop_Data_Final2 = df[['PID','YearBuilt','YearRemodel','VeneerExterior','HeatingQC','FstFlrSqft','AbvGrndLiving','FullBathHouse','RmAbvGrnd','OverallQuality','LotArea','BldgTp','SalePrice']]"
   ]
  },
  {
   "cell_type": "code",
   "execution_count": 106,
   "metadata": {
    "Collapsed": "false"
   },
   "outputs": [
    {
     "data": {
      "text/html": [
       "<div>\n",
       "<style scoped>\n",
       "    .dataframe tbody tr th:only-of-type {\n",
       "        vertical-align: middle;\n",
       "    }\n",
       "\n",
       "    .dataframe tbody tr th {\n",
       "        vertical-align: top;\n",
       "    }\n",
       "\n",
       "    .dataframe thead th {\n",
       "        text-align: right;\n",
       "    }\n",
       "</style>\n",
       "<table border=\"1\" class=\"dataframe\">\n",
       "  <thead>\n",
       "    <tr style=\"text-align: right;\">\n",
       "      <th></th>\n",
       "      <th>PID</th>\n",
       "      <th>YearBuilt</th>\n",
       "      <th>YearRemodel</th>\n",
       "      <th>VeneerExterior</th>\n",
       "      <th>HeatingQC</th>\n",
       "      <th>FstFlrSqft</th>\n",
       "      <th>AbvGrndLiving</th>\n",
       "      <th>FullBathHouse</th>\n",
       "      <th>RmAbvGrnd</th>\n",
       "      <th>OverallQuality</th>\n",
       "      <th>LotArea</th>\n",
       "      <th>BldgTp</th>\n",
       "    </tr>\n",
       "  </thead>\n",
       "  <tbody>\n",
       "    <tr>\n",
       "      <th>0</th>\n",
       "      <td>528445060</td>\n",
       "      <td>2005</td>\n",
       "      <td>2006</td>\n",
       "      <td>226.0</td>\n",
       "      <td>3</td>\n",
       "      <td>1595.0</td>\n",
       "      <td>1595</td>\n",
       "      <td>2</td>\n",
       "      <td>6.0</td>\n",
       "      <td>8</td>\n",
       "      <td>8987</td>\n",
       "      <td>1</td>\n",
       "    </tr>\n",
       "    <tr>\n",
       "      <th>1</th>\n",
       "      <td>528456160</td>\n",
       "      <td>2009</td>\n",
       "      <td>2010</td>\n",
       "      <td>0.0</td>\n",
       "      <td>3</td>\n",
       "      <td>1218.0</td>\n",
       "      <td>1218</td>\n",
       "      <td>2</td>\n",
       "      <td>4.0</td>\n",
       "      <td>7</td>\n",
       "      <td>9215</td>\n",
       "      <td>1</td>\n",
       "    </tr>\n",
       "    <tr>\n",
       "      <th>2</th>\n",
       "      <td>528458070</td>\n",
       "      <td>2009</td>\n",
       "      <td>2009</td>\n",
       "      <td>0.0</td>\n",
       "      <td>3</td>\n",
       "      <td>764.0</td>\n",
       "      <td>1547</td>\n",
       "      <td>2</td>\n",
       "      <td>7.0</td>\n",
       "      <td>7</td>\n",
       "      <td>8640</td>\n",
       "      <td>1</td>\n",
       "    </tr>\n",
       "    <tr>\n",
       "      <th>3</th>\n",
       "      <td>906380190</td>\n",
       "      <td>2006</td>\n",
       "      <td>2006</td>\n",
       "      <td>24.0</td>\n",
       "      <td>3</td>\n",
       "      <td>1208.0</td>\n",
       "      <td>1208</td>\n",
       "      <td>2</td>\n",
       "      <td>6.0</td>\n",
       "      <td>7</td>\n",
       "      <td>6762</td>\n",
       "      <td>1</td>\n",
       "    </tr>\n",
       "    <tr>\n",
       "      <th>4</th>\n",
       "      <td>906385010</td>\n",
       "      <td>2009</td>\n",
       "      <td>2009</td>\n",
       "      <td>0.0</td>\n",
       "      <td>3</td>\n",
       "      <td>1226.0</td>\n",
       "      <td>1226</td>\n",
       "      <td>2</td>\n",
       "      <td>6.0</td>\n",
       "      <td>7</td>\n",
       "      <td>10402</td>\n",
       "      <td>1</td>\n",
       "    </tr>\n",
       "  </tbody>\n",
       "</table>\n",
       "</div>"
      ],
      "text/plain": [
       "         PID  YearBuilt  YearRemodel  VeneerExterior  HeatingQC  FstFlrSqft  \\\n",
       "0  528445060       2005         2006           226.0          3      1595.0   \n",
       "1  528456160       2009         2010             0.0          3      1218.0   \n",
       "2  528458070       2009         2009             0.0          3       764.0   \n",
       "3  906380190       2006         2006            24.0          3      1208.0   \n",
       "4  906385010       2009         2009             0.0          3      1226.0   \n",
       "\n",
       "   AbvGrndLiving  FullBathHouse  RmAbvGrnd  OverallQuality  LotArea  BldgTp  \n",
       "0           1595              2        6.0               8     8987       1  \n",
       "1           1218              2        4.0               7     9215       1  \n",
       "2           1547              2        7.0               7     8640       1  \n",
       "3           1208              2        6.0               7     6762       1  \n",
       "4           1226              2        6.0               7    10402       1  "
      ]
     },
     "execution_count": 106,
     "metadata": {},
     "output_type": "execute_result"
    }
   ],
   "source": [
    "Score2.head()"
   ]
  },
  {
   "cell_type": "code",
   "execution_count": null,
   "metadata": {
    "Collapsed": "false"
   },
   "outputs": [],
   "source": []
  },
  {
   "cell_type": "code",
   "execution_count": 109,
   "metadata": {
    "Collapsed": "false"
   },
   "outputs": [
    {
     "data": {
      "text/html": [
       "<div>\n",
       "<style scoped>\n",
       "    .dataframe tbody tr th:only-of-type {\n",
       "        vertical-align: middle;\n",
       "    }\n",
       "\n",
       "    .dataframe tbody tr th {\n",
       "        vertical-align: top;\n",
       "    }\n",
       "\n",
       "    .dataframe thead th {\n",
       "        text-align: right;\n",
       "    }\n",
       "</style>\n",
       "<table border=\"1\" class=\"dataframe\">\n",
       "  <thead>\n",
       "    <tr style=\"text-align: right;\">\n",
       "      <th></th>\n",
       "      <th>PID</th>\n",
       "      <th>YearBuilt</th>\n",
       "      <th>YearRemodel</th>\n",
       "      <th>VeneerExterior</th>\n",
       "      <th>HeatingQC</th>\n",
       "      <th>FstFlrSqft</th>\n",
       "      <th>AbvGrndLiving</th>\n",
       "      <th>FullBathHouse</th>\n",
       "      <th>RmAbvGrnd</th>\n",
       "      <th>OverallQuality</th>\n",
       "      <th>LotArea</th>\n",
       "      <th>BldgTp</th>\n",
       "      <th>SalePrice</th>\n",
       "    </tr>\n",
       "  </thead>\n",
       "  <tbody>\n",
       "    <tr>\n",
       "      <th>0</th>\n",
       "      <td>526301100</td>\n",
       "      <td>1960</td>\n",
       "      <td>1960</td>\n",
       "      <td>112</td>\n",
       "      <td>0</td>\n",
       "      <td>1656</td>\n",
       "      <td>1656</td>\n",
       "      <td>1</td>\n",
       "      <td>7</td>\n",
       "      <td>6</td>\n",
       "      <td>31770</td>\n",
       "      <td>1</td>\n",
       "      <td>215000</td>\n",
       "    </tr>\n",
       "    <tr>\n",
       "      <th>1</th>\n",
       "      <td>526350040</td>\n",
       "      <td>1961</td>\n",
       "      <td>1961</td>\n",
       "      <td>0</td>\n",
       "      <td>1</td>\n",
       "      <td>896</td>\n",
       "      <td>896</td>\n",
       "      <td>1</td>\n",
       "      <td>5</td>\n",
       "      <td>5</td>\n",
       "      <td>11622</td>\n",
       "      <td>1</td>\n",
       "      <td>105000</td>\n",
       "    </tr>\n",
       "    <tr>\n",
       "      <th>2</th>\n",
       "      <td>526351010</td>\n",
       "      <td>1958</td>\n",
       "      <td>1958</td>\n",
       "      <td>108</td>\n",
       "      <td>1</td>\n",
       "      <td>1329</td>\n",
       "      <td>1329</td>\n",
       "      <td>1</td>\n",
       "      <td>6</td>\n",
       "      <td>6</td>\n",
       "      <td>14267</td>\n",
       "      <td>1</td>\n",
       "      <td>172000</td>\n",
       "    </tr>\n",
       "    <tr>\n",
       "      <th>3</th>\n",
       "      <td>526353030</td>\n",
       "      <td>1968</td>\n",
       "      <td>1968</td>\n",
       "      <td>0</td>\n",
       "      <td>3</td>\n",
       "      <td>2110</td>\n",
       "      <td>2110</td>\n",
       "      <td>2</td>\n",
       "      <td>8</td>\n",
       "      <td>7</td>\n",
       "      <td>11160</td>\n",
       "      <td>1</td>\n",
       "      <td>244000</td>\n",
       "    </tr>\n",
       "    <tr>\n",
       "      <th>4</th>\n",
       "      <td>527105010</td>\n",
       "      <td>1997</td>\n",
       "      <td>1998</td>\n",
       "      <td>0</td>\n",
       "      <td>2</td>\n",
       "      <td>928</td>\n",
       "      <td>1629</td>\n",
       "      <td>2</td>\n",
       "      <td>6</td>\n",
       "      <td>5</td>\n",
       "      <td>13830</td>\n",
       "      <td>1</td>\n",
       "      <td>189900</td>\n",
       "    </tr>\n",
       "  </tbody>\n",
       "</table>\n",
       "</div>"
      ],
      "text/plain": [
       "         PID  YearBuilt  YearRemodel  VeneerExterior  HeatingQC  FstFlrSqft  \\\n",
       "0  526301100       1960         1960             112          0        1656   \n",
       "1  526350040       1961         1961               0          1         896   \n",
       "2  526351010       1958         1958             108          1        1329   \n",
       "3  526353030       1968         1968               0          3        2110   \n",
       "4  527105010       1997         1998               0          2         928   \n",
       "\n",
       "   AbvGrndLiving  FullBathHouse  RmAbvGrnd  OverallQuality  LotArea  BldgTp  \\\n",
       "0           1656              1          7               6    31770       1   \n",
       "1            896              1          5               5    11622       1   \n",
       "2           1329              1          6               6    14267       1   \n",
       "3           2110              2          8               7    11160       1   \n",
       "4           1629              2          6               5    13830       1   \n",
       "\n",
       "   SalePrice  \n",
       "0     215000  \n",
       "1     105000  \n",
       "2     172000  \n",
       "3     244000  \n",
       "4     189900  "
      ]
     },
     "execution_count": 109,
     "metadata": {},
     "output_type": "execute_result"
    }
   ],
   "source": [
    "# Prop_Data_Final2 = Prop_Data[[columns]]\n",
    "\n",
    "########################################\n",
    "Prop_Data_Final2.head()"
   ]
  },
  {
   "cell_type": "markdown",
   "metadata": {
    "Collapsed": "false"
   },
   "source": [
    "## Step 7: Predict Target of Score Data Set"
   ]
  },
  {
   "cell_type": "code",
   "execution_count": 139,
   "metadata": {
    "Collapsed": "false"
   },
   "outputs": [
    {
     "name": "stdout",
     "output_type": "stream",
     "text": [
      "-1496856.1167287305\n",
      "[-2.96048559e-06  4.46577397e+02  2.88641669e+02  2.09360296e+01\n",
      "  3.39473911e+03  3.43182912e+01  6.11330946e+01 -1.01434189e+04\n",
      " -2.61073952e+03  1.59263399e+04  8.19203739e-01  1.27923493e+04]\n"
     ]
    },
    {
     "data": {
      "text/html": [
       "<div>\n",
       "<style scoped>\n",
       "    .dataframe tbody tr th:only-of-type {\n",
       "        vertical-align: middle;\n",
       "    }\n",
       "\n",
       "    .dataframe tbody tr th {\n",
       "        vertical-align: top;\n",
       "    }\n",
       "\n",
       "    .dataframe thead th {\n",
       "        text-align: right;\n",
       "    }\n",
       "</style>\n",
       "<table border=\"1\" class=\"dataframe\">\n",
       "  <thead>\n",
       "    <tr style=\"text-align: right;\">\n",
       "      <th></th>\n",
       "      <th>Coefficient</th>\n",
       "    </tr>\n",
       "  </thead>\n",
       "  <tbody>\n",
       "    <tr>\n",
       "      <th>PID</th>\n",
       "      <td>-0.000003</td>\n",
       "    </tr>\n",
       "    <tr>\n",
       "      <th>YearBuilt</th>\n",
       "      <td>446.577397</td>\n",
       "    </tr>\n",
       "    <tr>\n",
       "      <th>YearRemodel</th>\n",
       "      <td>288.641669</td>\n",
       "    </tr>\n",
       "    <tr>\n",
       "      <th>VeneerExterior</th>\n",
       "      <td>20.936030</td>\n",
       "    </tr>\n",
       "    <tr>\n",
       "      <th>HeatingQC</th>\n",
       "      <td>3394.739112</td>\n",
       "    </tr>\n",
       "    <tr>\n",
       "      <th>FstFlrSqft</th>\n",
       "      <td>34.318291</td>\n",
       "    </tr>\n",
       "    <tr>\n",
       "      <th>AbvGrndLiving</th>\n",
       "      <td>61.133095</td>\n",
       "    </tr>\n",
       "    <tr>\n",
       "      <th>FullBathHouse</th>\n",
       "      <td>-10143.418856</td>\n",
       "    </tr>\n",
       "    <tr>\n",
       "      <th>RmAbvGrnd</th>\n",
       "      <td>-2610.739517</td>\n",
       "    </tr>\n",
       "    <tr>\n",
       "      <th>OverallQuality</th>\n",
       "      <td>15926.339900</td>\n",
       "    </tr>\n",
       "    <tr>\n",
       "      <th>LotArea</th>\n",
       "      <td>0.819204</td>\n",
       "    </tr>\n",
       "    <tr>\n",
       "      <th>BldgTp</th>\n",
       "      <td>12792.349287</td>\n",
       "    </tr>\n",
       "  </tbody>\n",
       "</table>\n",
       "</div>"
      ],
      "text/plain": [
       "                 Coefficient\n",
       "PID                -0.000003\n",
       "YearBuilt         446.577397\n",
       "YearRemodel       288.641669\n",
       "VeneerExterior     20.936030\n",
       "HeatingQC        3394.739112\n",
       "FstFlrSqft         34.318291\n",
       "AbvGrndLiving      61.133095\n",
       "FullBathHouse  -10143.418856\n",
       "RmAbvGrnd       -2610.739517\n",
       "OverallQuality  15926.339900\n",
       "LotArea             0.819204\n",
       "BldgTp          12792.349287"
      ]
     },
     "execution_count": 139,
     "metadata": {},
     "output_type": "execute_result"
    }
   ],
   "source": [
    "# Creating a linear regressor\n",
    "\n",
    "# Declare the X and y\n",
    "X = Score2\n",
    "y = df['SalePrice']\n",
    "\n",
    "# Prepare the test / train sets\n",
    "X_train, X_test, y_train, y_test = train_test_split(X, y, test_size=0.2, random_state=1)\n",
    "\n",
    "# instantiate\n",
    "linreg = LinearRegression()\n",
    "\n",
    "# fit the model to the training data (learn the coefficients)\n",
    "linreg.fit(X_train, y_train)\n",
    "\n",
    "# print the intercept and coefficients\n",
    "print(linreg.intercept_)\n",
    "print(linreg.coef_)\n",
    "\n",
    "#printing the output and coefficients\n",
    "coeff_df = pd.DataFrame(linreg.coef_,X.columns,columns=['Coefficient']) \n",
    "coeff_df"
   ]
  },
  {
   "cell_type": "code",
   "execution_count": null,
   "metadata": {
    "Collapsed": "false"
   },
   "outputs": [],
   "source": [
    "# Split into X and y"
   ]
  },
  {
   "cell_type": "code",
   "execution_count": 111,
   "metadata": {
    "Collapsed": "false",
    "scrolled": true
   },
   "outputs": [
    {
     "data": {
      "text/plain": [
       "LinearRegression(copy_X=True, fit_intercept=True, n_jobs=None, normalize=False)"
      ]
     },
     "execution_count": 111,
     "metadata": {},
     "output_type": "execute_result"
    }
   ],
   "source": [
    "# Fitting linear Regression model"
   ]
  },
  {
   "cell_type": "code",
   "execution_count": 140,
   "metadata": {
    "Collapsed": "false"
   },
   "outputs": [
    {
     "name": "stdout",
     "output_type": "stream",
     "text": [
      "624024745.3468225\n",
      "0.8551364167822667\n"
     ]
    },
    {
     "ename": "ValueError",
     "evalue": "matmul: Input operand 1 has a mismatch in its core dimension 0, with gufunc signature (n?,k),(k,m?)->(n?,m?) (size 13 is different from 12)",
     "output_type": "error",
     "traceback": [
      "\u001b[1;31m---------------------------------------------------------------------------\u001b[0m",
      "\u001b[1;31mValueError\u001b[0m                                Traceback (most recent call last)",
      "\u001b[1;32m<ipython-input-140-4dd7b0366417>\u001b[0m in \u001b[0;36m<module>\u001b[1;34m\u001b[0m\n\u001b[0;32m     10\u001b[0m \u001b[0mprint\u001b[0m\u001b[1;33m(\u001b[0m\u001b[0mRSq\u001b[0m\u001b[1;33m)\u001b[0m\u001b[1;33m\u001b[0m\u001b[1;33m\u001b[0m\u001b[0m\n\u001b[0;32m     11\u001b[0m \u001b[1;33m\u001b[0m\u001b[0m\n\u001b[1;32m---> 12\u001b[1;33m \u001b[0mprint\u001b[0m\u001b[1;33m(\u001b[0m\u001b[0mmodel\u001b[0m\u001b[1;33m.\u001b[0m\u001b[0mscore\u001b[0m\u001b[1;33m(\u001b[0m\u001b[0mX_test\u001b[0m\u001b[1;33m,\u001b[0m \u001b[0my_test\u001b[0m\u001b[1;33m)\u001b[0m\u001b[1;33m)\u001b[0m\u001b[1;33m\u001b[0m\u001b[1;33m\u001b[0m\u001b[0m\n\u001b[0m",
      "\u001b[1;32m~\\anaconda3\\lib\\site-packages\\sklearn\\base.py\u001b[0m in \u001b[0;36mscore\u001b[1;34m(self, X, y, sample_weight)\u001b[0m\n\u001b[0;32m    420\u001b[0m         \u001b[1;32mfrom\u001b[0m \u001b[1;33m.\u001b[0m\u001b[0mmetrics\u001b[0m \u001b[1;32mimport\u001b[0m \u001b[0mr2_score\u001b[0m\u001b[1;33m\u001b[0m\u001b[1;33m\u001b[0m\u001b[0m\n\u001b[0;32m    421\u001b[0m         \u001b[1;32mfrom\u001b[0m \u001b[1;33m.\u001b[0m\u001b[0mmetrics\u001b[0m\u001b[1;33m.\u001b[0m\u001b[0m_regression\u001b[0m \u001b[1;32mimport\u001b[0m \u001b[0m_check_reg_targets\u001b[0m\u001b[1;33m\u001b[0m\u001b[1;33m\u001b[0m\u001b[0m\n\u001b[1;32m--> 422\u001b[1;33m         \u001b[0my_pred\u001b[0m \u001b[1;33m=\u001b[0m \u001b[0mself\u001b[0m\u001b[1;33m.\u001b[0m\u001b[0mpredict\u001b[0m\u001b[1;33m(\u001b[0m\u001b[0mX\u001b[0m\u001b[1;33m)\u001b[0m\u001b[1;33m\u001b[0m\u001b[1;33m\u001b[0m\u001b[0m\n\u001b[0m\u001b[0;32m    423\u001b[0m         \u001b[1;31m# XXX: Remove the check in 0.23\u001b[0m\u001b[1;33m\u001b[0m\u001b[1;33m\u001b[0m\u001b[1;33m\u001b[0m\u001b[0m\n\u001b[0;32m    424\u001b[0m         \u001b[0my_type\u001b[0m\u001b[1;33m,\u001b[0m \u001b[0m_\u001b[0m\u001b[1;33m,\u001b[0m \u001b[0m_\u001b[0m\u001b[1;33m,\u001b[0m \u001b[0m_\u001b[0m \u001b[1;33m=\u001b[0m \u001b[0m_check_reg_targets\u001b[0m\u001b[1;33m(\u001b[0m\u001b[0my\u001b[0m\u001b[1;33m,\u001b[0m \u001b[0my_pred\u001b[0m\u001b[1;33m,\u001b[0m \u001b[1;32mNone\u001b[0m\u001b[1;33m)\u001b[0m\u001b[1;33m\u001b[0m\u001b[1;33m\u001b[0m\u001b[0m\n",
      "\u001b[1;32m~\\anaconda3\\lib\\site-packages\\sklearn\\linear_model\\_base.py\u001b[0m in \u001b[0;36mpredict\u001b[1;34m(self, X)\u001b[0m\n\u001b[0;32m    223\u001b[0m             \u001b[0mReturns\u001b[0m \u001b[0mpredicted\u001b[0m \u001b[0mvalues\u001b[0m\u001b[1;33m.\u001b[0m\u001b[1;33m\u001b[0m\u001b[1;33m\u001b[0m\u001b[0m\n\u001b[0;32m    224\u001b[0m         \"\"\"\n\u001b[1;32m--> 225\u001b[1;33m         \u001b[1;32mreturn\u001b[0m \u001b[0mself\u001b[0m\u001b[1;33m.\u001b[0m\u001b[0m_decision_function\u001b[0m\u001b[1;33m(\u001b[0m\u001b[0mX\u001b[0m\u001b[1;33m)\u001b[0m\u001b[1;33m\u001b[0m\u001b[1;33m\u001b[0m\u001b[0m\n\u001b[0m\u001b[0;32m    226\u001b[0m \u001b[1;33m\u001b[0m\u001b[0m\n\u001b[0;32m    227\u001b[0m     \u001b[0m_preprocess_data\u001b[0m \u001b[1;33m=\u001b[0m \u001b[0mstaticmethod\u001b[0m\u001b[1;33m(\u001b[0m\u001b[0m_preprocess_data\u001b[0m\u001b[1;33m)\u001b[0m\u001b[1;33m\u001b[0m\u001b[1;33m\u001b[0m\u001b[0m\n",
      "\u001b[1;32m~\\anaconda3\\lib\\site-packages\\sklearn\\linear_model\\_base.py\u001b[0m in \u001b[0;36m_decision_function\u001b[1;34m(self, X)\u001b[0m\n\u001b[0;32m    207\u001b[0m         \u001b[0mX\u001b[0m \u001b[1;33m=\u001b[0m \u001b[0mcheck_array\u001b[0m\u001b[1;33m(\u001b[0m\u001b[0mX\u001b[0m\u001b[1;33m,\u001b[0m \u001b[0maccept_sparse\u001b[0m\u001b[1;33m=\u001b[0m\u001b[1;33m[\u001b[0m\u001b[1;34m'csr'\u001b[0m\u001b[1;33m,\u001b[0m \u001b[1;34m'csc'\u001b[0m\u001b[1;33m,\u001b[0m \u001b[1;34m'coo'\u001b[0m\u001b[1;33m]\u001b[0m\u001b[1;33m)\u001b[0m\u001b[1;33m\u001b[0m\u001b[1;33m\u001b[0m\u001b[0m\n\u001b[0;32m    208\u001b[0m         return safe_sparse_dot(X, self.coef_.T,\n\u001b[1;32m--> 209\u001b[1;33m                                dense_output=True) + self.intercept_\n\u001b[0m\u001b[0;32m    210\u001b[0m \u001b[1;33m\u001b[0m\u001b[0m\n\u001b[0;32m    211\u001b[0m     \u001b[1;32mdef\u001b[0m \u001b[0mpredict\u001b[0m\u001b[1;33m(\u001b[0m\u001b[0mself\u001b[0m\u001b[1;33m,\u001b[0m \u001b[0mX\u001b[0m\u001b[1;33m)\u001b[0m\u001b[1;33m:\u001b[0m\u001b[1;33m\u001b[0m\u001b[1;33m\u001b[0m\u001b[0m\n",
      "\u001b[1;32m~\\anaconda3\\lib\\site-packages\\sklearn\\utils\\extmath.py\u001b[0m in \u001b[0;36msafe_sparse_dot\u001b[1;34m(a, b, dense_output)\u001b[0m\n\u001b[0;32m    149\u001b[0m             \u001b[0mret\u001b[0m \u001b[1;33m=\u001b[0m \u001b[0mnp\u001b[0m\u001b[1;33m.\u001b[0m\u001b[0mdot\u001b[0m\u001b[1;33m(\u001b[0m\u001b[0ma\u001b[0m\u001b[1;33m,\u001b[0m \u001b[0mb\u001b[0m\u001b[1;33m)\u001b[0m\u001b[1;33m\u001b[0m\u001b[1;33m\u001b[0m\u001b[0m\n\u001b[0;32m    150\u001b[0m     \u001b[1;32melse\u001b[0m\u001b[1;33m:\u001b[0m\u001b[1;33m\u001b[0m\u001b[1;33m\u001b[0m\u001b[0m\n\u001b[1;32m--> 151\u001b[1;33m         \u001b[0mret\u001b[0m \u001b[1;33m=\u001b[0m \u001b[0ma\u001b[0m \u001b[1;33m@\u001b[0m \u001b[0mb\u001b[0m\u001b[1;33m\u001b[0m\u001b[1;33m\u001b[0m\u001b[0m\n\u001b[0m\u001b[0;32m    152\u001b[0m \u001b[1;33m\u001b[0m\u001b[0m\n\u001b[0;32m    153\u001b[0m     if (sparse.issparse(a) and sparse.issparse(b)\n",
      "\u001b[1;31mValueError\u001b[0m: matmul: Input operand 1 has a mismatch in its core dimension 0, with gufunc signature (n?,k),(k,m?)->(n?,m?) (size 13 is different from 12)"
     ]
    }
   ],
   "source": [
    "# Testing linear Regression model on Score2 dataset\n",
    "\n",
    "y_pred = linreg.predict(X_test) \n",
    "\n",
    "import sklearn.metrics\n",
    "\n",
    "MSE = mean_squared_error(y_test, y_pred)\n",
    "RSq = r2_score(y_test, y_pred)\n",
    "print(MSE)\n",
    "print(RSq)\n",
    "\n",
    "print(model.score(X_test, y_test))"
   ]
  },
  {
   "cell_type": "markdown",
   "metadata": {
    "Collapsed": "false"
   },
   "source": [
    "## Step 8: Prepare & Export (save) Required DataFrame"
   ]
  },
  {
   "cell_type": "code",
   "execution_count": 116,
   "metadata": {
    "Collapsed": "false"
   },
   "outputs": [],
   "source": [
    "# Dropping columns except PID in Score2"
   ]
  },
  {
   "cell_type": "code",
   "execution_count": 120,
   "metadata": {
    "Collapsed": "false"
   },
   "outputs": [
    {
     "data": {
      "text/html": [
       "<div>\n",
       "<style scoped>\n",
       "    .dataframe tbody tr th:only-of-type {\n",
       "        vertical-align: middle;\n",
       "    }\n",
       "\n",
       "    .dataframe tbody tr th {\n",
       "        vertical-align: top;\n",
       "    }\n",
       "\n",
       "    .dataframe thead th {\n",
       "        text-align: right;\n",
       "    }\n",
       "</style>\n",
       "<table border=\"1\" class=\"dataframe\">\n",
       "  <thead>\n",
       "    <tr style=\"text-align: right;\">\n",
       "      <th></th>\n",
       "      <th>PID</th>\n",
       "      <th>SalePrice</th>\n",
       "    </tr>\n",
       "  </thead>\n",
       "  <tbody>\n",
       "    <tr>\n",
       "      <th>0</th>\n",
       "      <td>528445060</td>\n",
       "      <td>255563.813486</td>\n",
       "    </tr>\n",
       "    <tr>\n",
       "      <th>1</th>\n",
       "      <td>528456160</td>\n",
       "      <td>205967.764228</td>\n",
       "    </tr>\n",
       "    <tr>\n",
       "      <th>2</th>\n",
       "      <td>528458070</td>\n",
       "      <td>201744.139225</td>\n",
       "    </tr>\n",
       "    <tr>\n",
       "      <th>3</th>\n",
       "      <td>906380190</td>\n",
       "      <td>196436.350297</td>\n",
       "    </tr>\n",
       "    <tr>\n",
       "      <th>4</th>\n",
       "      <td>906385010</td>\n",
       "      <td>202716.520035</td>\n",
       "    </tr>\n",
       "  </tbody>\n",
       "</table>\n",
       "</div>"
      ],
      "text/plain": [
       "         PID      SalePrice\n",
       "0  528445060  255563.813486\n",
       "1  528456160  205967.764228\n",
       "2  528458070  201744.139225\n",
       "3  906380190  196436.350297\n",
       "4  906385010  202716.520035"
      ]
     },
     "execution_count": 120,
     "metadata": {},
     "output_type": "execute_result"
    }
   ],
   "source": [
    "# Appending the precitions NumPy array 'Scored2' to the Pandas DataFrame 'Score2'\n",
    "Score2['SalePrice'] = Scored2[:]\n",
    "Score2.head()"
   ]
  },
  {
   "cell_type": "code",
   "execution_count": 118,
   "metadata": {
    "Collapsed": "false"
   },
   "outputs": [],
   "source": [
    "# Saving the dataset to a .csv file\n",
    "Score2.to_csv('scoreddata.csv')"
   ]
  },
  {
   "cell_type": "markdown",
   "metadata": {
    "Collapsed": "false"
   },
   "source": [
    "##### Congratulations! You nailed it!"
   ]
  }
 ],
 "metadata": {
  "kernelspec": {
   "display_name": "Python 3",
   "language": "python",
   "name": "python3"
  },
  "language_info": {
   "codemirror_mode": {
    "name": "ipython",
    "version": 3
   },
   "file_extension": ".py",
   "mimetype": "text/x-python",
   "name": "python",
   "nbconvert_exporter": "python",
   "pygments_lexer": "ipython3",
   "version": "3.7.6"
  },
  "latex_envs": {
   "LaTeX_envs_menu_present": true,
   "autoclose": false,
   "autocomplete": true,
   "bibliofile": "biblio.bib",
   "cite_by": "apalike",
   "current_citInitial": 1,
   "eqLabelWithNumbers": true,
   "eqNumInitial": 1,
   "hotkeys": {
    "equation": "Ctrl-E",
    "itemize": "Ctrl-I"
   },
   "labels_anchors": false,
   "latex_user_defs": false,
   "report_style_numbering": false,
   "user_envs_cfg": false
  }
 },
 "nbformat": 4,
 "nbformat_minor": 4
}
