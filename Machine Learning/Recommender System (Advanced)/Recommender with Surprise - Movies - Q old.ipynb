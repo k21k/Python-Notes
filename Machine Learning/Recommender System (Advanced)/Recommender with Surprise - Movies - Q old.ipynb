{
 "cells": [
  {
   "cell_type": "markdown",
   "metadata": {
    "Collapsed": "false"
   },
   "source": [
    "# Building and Testing Recommender Systems With Surprise"
   ]
  },
  {
   "cell_type": "markdown",
   "metadata": {
    "Collapsed": "false"
   },
   "source": [
    "Surprise is a Python scikit building and analyzing recommender systems that deal with explicit rating data.\n",
    "\n",
    "<http://surpriselib.com/>"
   ]
  },
  {
   "cell_type": "code",
   "execution_count": 1,
   "metadata": {
    "Collapsed": "false"
   },
   "outputs": [],
   "source": [
    "import pandas as pd\n",
    "import matplotlib as plt\n",
    "import seaborn as sns\n",
    "import numpy as np"
   ]
  },
  {
   "cell_type": "code",
   "execution_count": 2,
   "metadata": {
    "Collapsed": "false"
   },
   "outputs": [
    {
     "data": {
      "text/html": [
       "<div>\n",
       "<style scoped>\n",
       "    .dataframe tbody tr th:only-of-type {\n",
       "        vertical-align: middle;\n",
       "    }\n",
       "\n",
       "    .dataframe tbody tr th {\n",
       "        vertical-align: top;\n",
       "    }\n",
       "\n",
       "    .dataframe thead th {\n",
       "        text-align: right;\n",
       "    }\n",
       "</style>\n",
       "<table border=\"1\" class=\"dataframe\">\n",
       "  <thead>\n",
       "    <tr style=\"text-align: right;\">\n",
       "      <th></th>\n",
       "      <th>Unnamed: 0</th>\n",
       "      <th>user_id</th>\n",
       "      <th>item_id</th>\n",
       "      <th>rating</th>\n",
       "      <th>timestamp</th>\n",
       "      <th>title</th>\n",
       "    </tr>\n",
       "  </thead>\n",
       "  <tbody>\n",
       "    <tr>\n",
       "      <th>0</th>\n",
       "      <td>0</td>\n",
       "      <td>0</td>\n",
       "      <td>50</td>\n",
       "      <td>5</td>\n",
       "      <td>881250949</td>\n",
       "      <td>Star Wars (1977)</td>\n",
       "    </tr>\n",
       "    <tr>\n",
       "      <th>1</th>\n",
       "      <td>1</td>\n",
       "      <td>290</td>\n",
       "      <td>50</td>\n",
       "      <td>5</td>\n",
       "      <td>880473582</td>\n",
       "      <td>Star Wars (1977)</td>\n",
       "    </tr>\n",
       "    <tr>\n",
       "      <th>2</th>\n",
       "      <td>2</td>\n",
       "      <td>79</td>\n",
       "      <td>50</td>\n",
       "      <td>4</td>\n",
       "      <td>891271545</td>\n",
       "      <td>Star Wars (1977)</td>\n",
       "    </tr>\n",
       "    <tr>\n",
       "      <th>3</th>\n",
       "      <td>3</td>\n",
       "      <td>2</td>\n",
       "      <td>50</td>\n",
       "      <td>5</td>\n",
       "      <td>888552084</td>\n",
       "      <td>Star Wars (1977)</td>\n",
       "    </tr>\n",
       "    <tr>\n",
       "      <th>4</th>\n",
       "      <td>4</td>\n",
       "      <td>8</td>\n",
       "      <td>50</td>\n",
       "      <td>5</td>\n",
       "      <td>879362124</td>\n",
       "      <td>Star Wars (1977)</td>\n",
       "    </tr>\n",
       "    <tr>\n",
       "      <th>...</th>\n",
       "      <td>...</td>\n",
       "      <td>...</td>\n",
       "      <td>...</td>\n",
       "      <td>...</td>\n",
       "      <td>...</td>\n",
       "      <td>...</td>\n",
       "    </tr>\n",
       "    <tr>\n",
       "      <th>95</th>\n",
       "      <td>95</td>\n",
       "      <td>23</td>\n",
       "      <td>50</td>\n",
       "      <td>4</td>\n",
       "      <td>874784440</td>\n",
       "      <td>Star Wars (1977)</td>\n",
       "    </tr>\n",
       "    <tr>\n",
       "      <th>96</th>\n",
       "      <td>96</td>\n",
       "      <td>433</td>\n",
       "      <td>50</td>\n",
       "      <td>5</td>\n",
       "      <td>880585885</td>\n",
       "      <td>Star Wars (1977)</td>\n",
       "    </tr>\n",
       "    <tr>\n",
       "      <th>97</th>\n",
       "      <td>97</td>\n",
       "      <td>125</td>\n",
       "      <td>50</td>\n",
       "      <td>5</td>\n",
       "      <td>892836362</td>\n",
       "      <td>Star Wars (1977)</td>\n",
       "    </tr>\n",
       "    <tr>\n",
       "      <th>98</th>\n",
       "      <td>98</td>\n",
       "      <td>320</td>\n",
       "      <td>50</td>\n",
       "      <td>4</td>\n",
       "      <td>884749227</td>\n",
       "      <td>Star Wars (1977)</td>\n",
       "    </tr>\n",
       "    <tr>\n",
       "      <th>99</th>\n",
       "      <td>99</td>\n",
       "      <td>438</td>\n",
       "      <td>50</td>\n",
       "      <td>5</td>\n",
       "      <td>879868005</td>\n",
       "      <td>Star Wars (1977)</td>\n",
       "    </tr>\n",
       "  </tbody>\n",
       "</table>\n",
       "<p>100 rows × 6 columns</p>\n",
       "</div>"
      ],
      "text/plain": [
       "    Unnamed: 0  user_id  item_id  rating  timestamp             title\n",
       "0            0        0       50       5  881250949  Star Wars (1977)\n",
       "1            1      290       50       5  880473582  Star Wars (1977)\n",
       "2            2       79       50       4  891271545  Star Wars (1977)\n",
       "3            3        2       50       5  888552084  Star Wars (1977)\n",
       "4            4        8       50       5  879362124  Star Wars (1977)\n",
       "..         ...      ...      ...     ...        ...               ...\n",
       "95          95       23       50       4  874784440  Star Wars (1977)\n",
       "96          96      433       50       5  880585885  Star Wars (1977)\n",
       "97          97      125       50       5  892836362  Star Wars (1977)\n",
       "98          98      320       50       4  884749227  Star Wars (1977)\n",
       "99          99      438       50       5  879868005  Star Wars (1977)\n",
       "\n",
       "[100 rows x 6 columns]"
      ]
     },
     "execution_count": 2,
     "metadata": {},
     "output_type": "execute_result"
    }
   ],
   "source": [
    "movies = pd.read_csv(r'Movie_data.csv')\n",
    "\n",
    "movies.head(100)"
   ]
  },
  {
   "cell_type": "code",
   "execution_count": 3,
   "metadata": {
    "Collapsed": "false"
   },
   "outputs": [
    {
     "data": {
      "text/html": [
       "<div>\n",
       "<style scoped>\n",
       "    .dataframe tbody tr th:only-of-type {\n",
       "        vertical-align: middle;\n",
       "    }\n",
       "\n",
       "    .dataframe tbody tr th {\n",
       "        vertical-align: top;\n",
       "    }\n",
       "\n",
       "    .dataframe thead th {\n",
       "        text-align: right;\n",
       "    }\n",
       "</style>\n",
       "<table border=\"1\" class=\"dataframe\">\n",
       "  <thead>\n",
       "    <tr style=\"text-align: right;\">\n",
       "      <th></th>\n",
       "      <th>user_id</th>\n",
       "      <th>rating</th>\n",
       "    </tr>\n",
       "  </thead>\n",
       "  <tbody>\n",
       "    <tr>\n",
       "      <th>405</th>\n",
       "      <td>405</td>\n",
       "      <td>737</td>\n",
       "    </tr>\n",
       "    <tr>\n",
       "      <th>655</th>\n",
       "      <td>655</td>\n",
       "      <td>685</td>\n",
       "    </tr>\n",
       "    <tr>\n",
       "      <th>13</th>\n",
       "      <td>13</td>\n",
       "      <td>636</td>\n",
       "    </tr>\n",
       "    <tr>\n",
       "      <th>450</th>\n",
       "      <td>450</td>\n",
       "      <td>540</td>\n",
       "    </tr>\n",
       "    <tr>\n",
       "      <th>276</th>\n",
       "      <td>276</td>\n",
       "      <td>518</td>\n",
       "    </tr>\n",
       "    <tr>\n",
       "      <th>...</th>\n",
       "      <td>...</td>\n",
       "      <td>...</td>\n",
       "    </tr>\n",
       "    <tr>\n",
       "      <th>571</th>\n",
       "      <td>571</td>\n",
       "      <td>20</td>\n",
       "    </tr>\n",
       "    <tr>\n",
       "      <th>19</th>\n",
       "      <td>19</td>\n",
       "      <td>20</td>\n",
       "    </tr>\n",
       "    <tr>\n",
       "      <th>888</th>\n",
       "      <td>888</td>\n",
       "      <td>20</td>\n",
       "    </tr>\n",
       "    <tr>\n",
       "      <th>895</th>\n",
       "      <td>895</td>\n",
       "      <td>20</td>\n",
       "    </tr>\n",
       "    <tr>\n",
       "      <th>0</th>\n",
       "      <td>0</td>\n",
       "      <td>3</td>\n",
       "    </tr>\n",
       "  </tbody>\n",
       "</table>\n",
       "<p>944 rows × 2 columns</p>\n",
       "</div>"
      ],
      "text/plain": [
       "     user_id  rating\n",
       "405      405     737\n",
       "655      655     685\n",
       "13        13     636\n",
       "450      450     540\n",
       "276      276     518\n",
       "..       ...     ...\n",
       "571      571      20\n",
       "19        19      20\n",
       "888      888      20\n",
       "895      895      20\n",
       "0          0       3\n",
       "\n",
       "[944 rows x 2 columns]"
      ]
     },
     "execution_count": 3,
     "metadata": {},
     "output_type": "execute_result"
    }
   ],
   "source": [
    "users = movies.groupby('user_id')['rating'].count().reset_index().sort_values('rating', ascending=False)\n",
    "users"
   ]
  },
  {
   "cell_type": "markdown",
   "metadata": {
    "Collapsed": "false"
   },
   "source": [
    "Most of the users gave less than 5 ratings, and very few users gave many ratings, although the most productive user have given 13,602 ratings.\n",
    "\n",
    "I'm sure you have noticed that the above two charts share the same distribution. The number of ratings per movie and the bnumber of ratings per user decay exponentially.\n",
    "\n",
    "To reduce the dimensionality of the dataset, we will filter out rarely rated movies and rarely rating users."
   ]
  },
  {
   "cell_type": "code",
   "execution_count": 4,
   "metadata": {
    "Collapsed": "false"
   },
   "outputs": [
    {
     "name": "stdout",
     "output_type": "stream",
     "text": [
      "The original data frame shape:\t(100003, 6)\n",
      "The new data frame shape:\t(73134, 6)\n"
     ]
    }
   ],
   "source": [
    "min_movie_ratings = 50\n",
    "filter_movies = movies['title'].value_counts() > min_movie_ratings\n",
    "filter_movies = filter_movies[filter_movies].index.tolist()\n",
    "\n",
    "min_user_ratings = 50\n",
    "filter_users = movies['user_id'].value_counts() > min_user_ratings\n",
    "filter_users = filter_users[filter_users].index.tolist()\n",
    "\n",
    "df = movies[(movies['title'].isin(filter_movies)) & (movies['user_id'].isin(filter_users))]\n",
    "print('The original data frame shape:\\t{}'.format(movies.shape))\n",
    "print('The new data frame shape:\\t{}'.format(df.shape))"
   ]
  },
  {
   "cell_type": "code",
   "execution_count": 5,
   "metadata": {
    "Collapsed": "false"
   },
   "outputs": [
    {
     "data": {
      "text/plain": [
       "596"
      ]
     },
     "execution_count": 5,
     "metadata": {},
     "output_type": "execute_result"
    }
   ],
   "source": [
    "df['title'].nunique()"
   ]
  },
  {
   "cell_type": "code",
   "execution_count": 6,
   "metadata": {
    "Collapsed": "false"
   },
   "outputs": [
    {
     "data": {
      "text/html": [
       "<div>\n",
       "<style scoped>\n",
       "    .dataframe tbody tr th:only-of-type {\n",
       "        vertical-align: middle;\n",
       "    }\n",
       "\n",
       "    .dataframe tbody tr th {\n",
       "        vertical-align: top;\n",
       "    }\n",
       "\n",
       "    .dataframe thead th {\n",
       "        text-align: right;\n",
       "    }\n",
       "</style>\n",
       "<table border=\"1\" class=\"dataframe\">\n",
       "  <thead>\n",
       "    <tr style=\"text-align: right;\">\n",
       "      <th></th>\n",
       "      <th>Unnamed: 0</th>\n",
       "      <th>user_id</th>\n",
       "      <th>item_id</th>\n",
       "      <th>rating</th>\n",
       "      <th>timestamp</th>\n",
       "      <th>title</th>\n",
       "    </tr>\n",
       "  </thead>\n",
       "  <tbody>\n",
       "    <tr>\n",
       "      <th>1</th>\n",
       "      <td>1</td>\n",
       "      <td>290</td>\n",
       "      <td>50</td>\n",
       "      <td>5</td>\n",
       "      <td>880473582</td>\n",
       "      <td>Star Wars (1977)</td>\n",
       "    </tr>\n",
       "    <tr>\n",
       "      <th>2</th>\n",
       "      <td>2</td>\n",
       "      <td>79</td>\n",
       "      <td>50</td>\n",
       "      <td>4</td>\n",
       "      <td>891271545</td>\n",
       "      <td>Star Wars (1977)</td>\n",
       "    </tr>\n",
       "    <tr>\n",
       "      <th>3</th>\n",
       "      <td>3</td>\n",
       "      <td>2</td>\n",
       "      <td>50</td>\n",
       "      <td>5</td>\n",
       "      <td>888552084</td>\n",
       "      <td>Star Wars (1977)</td>\n",
       "    </tr>\n",
       "    <tr>\n",
       "      <th>4</th>\n",
       "      <td>4</td>\n",
       "      <td>8</td>\n",
       "      <td>50</td>\n",
       "      <td>5</td>\n",
       "      <td>879362124</td>\n",
       "      <td>Star Wars (1977)</td>\n",
       "    </tr>\n",
       "    <tr>\n",
       "      <th>5</th>\n",
       "      <td>5</td>\n",
       "      <td>274</td>\n",
       "      <td>50</td>\n",
       "      <td>5</td>\n",
       "      <td>878944679</td>\n",
       "      <td>Star Wars (1977)</td>\n",
       "    </tr>\n",
       "    <tr>\n",
       "      <th>...</th>\n",
       "      <td>...</td>\n",
       "      <td>...</td>\n",
       "      <td>...</td>\n",
       "      <td>...</td>\n",
       "      <td>...</td>\n",
       "      <td>...</td>\n",
       "    </tr>\n",
       "    <tr>\n",
       "      <th>97645</th>\n",
       "      <td>97645</td>\n",
       "      <td>493</td>\n",
       "      <td>881</td>\n",
       "      <td>1</td>\n",
       "      <td>884130009</td>\n",
       "      <td>Money Talks (1997)</td>\n",
       "    </tr>\n",
       "    <tr>\n",
       "      <th>97647</th>\n",
       "      <td>97647</td>\n",
       "      <td>697</td>\n",
       "      <td>881</td>\n",
       "      <td>2</td>\n",
       "      <td>882621523</td>\n",
       "      <td>Money Talks (1997)</td>\n",
       "    </tr>\n",
       "    <tr>\n",
       "      <th>97649</th>\n",
       "      <td>97649</td>\n",
       "      <td>629</td>\n",
       "      <td>881</td>\n",
       "      <td>3</td>\n",
       "      <td>880116023</td>\n",
       "      <td>Money Talks (1997)</td>\n",
       "    </tr>\n",
       "    <tr>\n",
       "      <th>97652</th>\n",
       "      <td>97652</td>\n",
       "      <td>889</td>\n",
       "      <td>881</td>\n",
       "      <td>3</td>\n",
       "      <td>880176717</td>\n",
       "      <td>Money Talks (1997)</td>\n",
       "    </tr>\n",
       "    <tr>\n",
       "      <th>97653</th>\n",
       "      <td>97653</td>\n",
       "      <td>880</td>\n",
       "      <td>881</td>\n",
       "      <td>4</td>\n",
       "      <td>892958401</td>\n",
       "      <td>Money Talks (1997)</td>\n",
       "    </tr>\n",
       "  </tbody>\n",
       "</table>\n",
       "<p>73134 rows × 6 columns</p>\n",
       "</div>"
      ],
      "text/plain": [
       "       Unnamed: 0  user_id  item_id  rating  timestamp               title\n",
       "1               1      290       50       5  880473582    Star Wars (1977)\n",
       "2               2       79       50       4  891271545    Star Wars (1977)\n",
       "3               3        2       50       5  888552084    Star Wars (1977)\n",
       "4               4        8       50       5  879362124    Star Wars (1977)\n",
       "5               5      274       50       5  878944679    Star Wars (1977)\n",
       "...           ...      ...      ...     ...        ...                 ...\n",
       "97645       97645      493      881       1  884130009  Money Talks (1997)\n",
       "97647       97647      697      881       2  882621523  Money Talks (1997)\n",
       "97649       97649      629      881       3  880116023  Money Talks (1997)\n",
       "97652       97652      889      881       3  880176717  Money Talks (1997)\n",
       "97653       97653      880      881       4  892958401  Money Talks (1997)\n",
       "\n",
       "[73134 rows x 6 columns]"
      ]
     },
     "execution_count": 6,
     "metadata": {},
     "output_type": "execute_result"
    }
   ],
   "source": [
    "df"
   ]
  },
  {
   "cell_type": "markdown",
   "metadata": {
    "Collapsed": "false"
   },
   "source": [
    "## Surprise"
   ]
  },
  {
   "cell_type": "markdown",
   "metadata": {
    "Collapsed": "false"
   },
   "source": [
    "To load a data set from the above pandas data frame, we will use the load_from_df() method, we will also need a Reader object, and the rating_scale parameter must be specified. The data frame must have three columns, corresponding to the user ids, the item ids, and the ratings in this order. Each row thus corresponds to a given rating."
   ]
  },
  {
   "cell_type": "markdown",
   "metadata": {
    "Collapsed": "false"
   },
   "source": []
  },
  {
   "cell_type": "code",
   "execution_count": 7,
   "metadata": {
    "Collapsed": "false"
   },
   "outputs": [],
   "source": [
    "from surprise import Reader\n",
    "from surprise import Dataset\n",
    "\n",
    "from surprise.model_selection import cross_validate\n",
    "from surprise import NormalPredictor\n",
    "from surprise import KNNBasic\n",
    "from surprise import KNNWithMeans\n",
    "from surprise import KNNWithZScore\n",
    "from surprise import KNNBaseline\n",
    "from surprise import SVD\n",
    "from surprise import BaselineOnly\n",
    "from surprise import SVDpp\n",
    "from surprise import NMF\n",
    "from surprise import SlopeOne\n",
    "from surprise import CoClustering\n",
    "\n",
    "from surprise.accuracy import rmse\n",
    "from surprise import accuracy\n",
    "from surprise.model_selection import train_test_split"
   ]
  },
  {
   "cell_type": "code",
   "execution_count": 8,
   "metadata": {
    "Collapsed": "false"
   },
   "outputs": [],
   "source": [
    "reader = Reader(rating_scale=(1, 5))\n",
    "data = Dataset.load_from_df(df[['user_id', 'title', 'rating']], reader)"
   ]
  },
  {
   "cell_type": "markdown",
   "metadata": {
    "Collapsed": "false"
   },
   "source": [
    "The Reader class is used to parse a file containing ratings.\n",
    "\n",
    "Such a file is assumed to specify only one rating per line, and each line needs to respect the following structure:"
   ]
  },
  {
   "cell_type": "code",
   "execution_count": 11,
   "metadata": {
    "Collapsed": "false"
   },
   "outputs": [
    {
     "name": "stdout",
     "output_type": "stream",
     "text": [
      "<surprise.prediction_algorithms.matrix_factorization.SVD object at 0x7f4a86712710>\n",
      "<surprise.prediction_algorithms.slope_one.SlopeOne object at 0x7f4a855c6bd0>\n",
      "<surprise.prediction_algorithms.random_pred.NormalPredictor object at 0x7f4a82c9ee90>\n",
      "Estimating biases using als...\n",
      "Computing the msd similarity matrix...\n",
      "Done computing similarity matrix.\n",
      "Estimating biases using als...\n",
      "Computing the msd similarity matrix...\n",
      "Done computing similarity matrix.\n",
      "Estimating biases using als...\n",
      "Computing the msd similarity matrix...\n",
      "Done computing similarity matrix.\n",
      "<surprise.prediction_algorithms.knns.KNNBaseline object at 0x7f4a82c9eb10>\n",
      "Computing the msd similarity matrix...\n",
      "Done computing similarity matrix.\n",
      "Computing the msd similarity matrix...\n",
      "Done computing similarity matrix.\n",
      "Computing the msd similarity matrix...\n",
      "Done computing similarity matrix.\n",
      "<surprise.prediction_algorithms.knns.KNNBasic object at 0x7f4a82ca5510>\n",
      "Computing the msd similarity matrix...\n",
      "Done computing similarity matrix.\n",
      "Computing the msd similarity matrix...\n",
      "Done computing similarity matrix.\n",
      "Computing the msd similarity matrix...\n",
      "Done computing similarity matrix.\n",
      "<surprise.prediction_algorithms.knns.KNNWithMeans object at 0x7f4a828fb350>\n",
      "Computing the msd similarity matrix...\n",
      "Done computing similarity matrix.\n",
      "Computing the msd similarity matrix...\n",
      "Done computing similarity matrix.\n",
      "Computing the msd similarity matrix...\n",
      "Done computing similarity matrix.\n",
      "<surprise.prediction_algorithms.knns.KNNWithZScore object at 0x7f4a86a32f10>\n",
      "Estimating biases using als...\n",
      "Estimating biases using als...\n",
      "Estimating biases using als...\n",
      "<surprise.prediction_algorithms.baseline_only.BaselineOnly object at 0x7f4a82bbf890>\n",
      "<surprise.prediction_algorithms.co_clustering.CoClustering object at 0x7f4a82c38c10>\n"
     ]
    }
   ],
   "source": [
    "benchmark = []\n",
    "\n",
    "# Iterate over all algorithms\n",
    "for algorithm in [SVD(),SlopeOne(), NormalPredictor(), KNNBaseline(), KNNBasic(), KNNWithMeans(), KNNWithZScore(), BaselineOnly(), CoClustering()]:   # NMF()\n",
    "    # Perform cross validation\n",
    "    results = cross_validate(algorithm, data, measures=['RMSE'], cv=3, verbose=False)\n",
    "    print(algorithm)\n",
    "    \n",
    "    # Get results & append algorithm name\n",
    "    tmp = pd.DataFrame.from_dict(results).mean(axis=0)\n",
    "    tmp = tmp.append(pd.Series([str(algorithm).split(' ')[0].split('.')[-1]], index=['Algorithm']))\n",
    "    benchmark.append(tmp)\n",
    "       "
   ]
  },
  {
   "cell_type": "code",
   "execution_count": null,
   "metadata": {
    "Collapsed": "false"
   },
   "outputs": [],
   "source": [
    "surprise_results = pd.DataFrame(benchmark).set_index('Algorithm').sort_values('test_rmse')\n",
    "surprise_results"
   ]
  },
  {
   "cell_type": "markdown",
   "metadata": {
    "Collapsed": "false"
   },
   "source": [
    "## Train and Predict"
   ]
  },
  {
   "cell_type": "markdown",
   "metadata": {
    "Collapsed": "false"
   },
   "source": [
    "SVDpp produces the best results, however it it very time consuming. lets train and predict using KNNBaseline"
   ]
  },
  {
   "cell_type": "code",
   "execution_count": 9,
   "metadata": {
    "Collapsed": "false",
    "scrolled": true
   },
   "outputs": [
    {
     "name": "stdout",
     "output_type": "stream",
     "text": [
      "Using KNNBaseline\n",
      "Estimating biases using als...\n",
      "Computing the msd similarity matrix...\n",
      "Done computing similarity matrix.\n",
      "Estimating biases using als...\n",
      "Computing the msd similarity matrix...\n",
      "Done computing similarity matrix.\n",
      "Estimating biases using als...\n",
      "Computing the msd similarity matrix...\n",
      "Done computing similarity matrix.\n"
     ]
    },
    {
     "data": {
      "text/plain": [
       "{'test_rmse': array([0.90848826, 0.90715171, 0.90899853]),\n",
       " 'fit_time': (0.26741909980773926, 0.2830533981323242, 0.27222609519958496),\n",
       " 'test_time': (3.933581829071045, 3.7203969955444336, 3.658027410507202)}"
      ]
     },
     "execution_count": 9,
     "metadata": {},
     "output_type": "execute_result"
    }
   ],
   "source": [
    "print('Using KNNBaseline')\n",
    "bsl_options = {'method': 'als',\n",
    "               'n_epochs': 5,\n",
    "               'reg_u': 12,\n",
    "               'reg_i': 5\n",
    "               }\n",
    "algo = KNNBaseline()\n",
    "cross_validate(algo, data, measures=['RMSE'], cv=3, verbose=False)"
   ]
  },
  {
   "cell_type": "code",
   "execution_count": 10,
   "metadata": {
    "Collapsed": "false"
   },
   "outputs": [
    {
     "name": "stdout",
     "output_type": "stream",
     "text": [
      "Estimating biases using als...\n",
      "Computing the msd similarity matrix...\n",
      "Done computing similarity matrix.\n",
      "RMSE: 0.9022\n"
     ]
    },
    {
     "data": {
      "text/plain": [
       "0.9021662302921266"
      ]
     },
     "execution_count": 10,
     "metadata": {},
     "output_type": "execute_result"
    }
   ],
   "source": [
    "trainset, testset = train_test_split(data, test_size=0.25, random_state=101)\n",
    "algo = KNNBaseline()\n",
    "\n",
    "predictions = algo.fit(trainset).test(testset)\n",
    "accuracy.rmse(predictions)"
   ]
  },
  {
   "cell_type": "markdown",
   "metadata": {
    "Collapsed": "false"
   },
   "source": [
    "To inspect our predictions in details, we are going to build a pandas data frame with all the predictions. The following code were largely taken from this notebook."
   ]
  },
  {
   "cell_type": "code",
   "execution_count": 11,
   "metadata": {
    "Collapsed": "false"
   },
   "outputs": [
    {
     "name": "stdout",
     "output_type": "stream",
     "text": [
      "KNNBaseline\n"
     ]
    }
   ],
   "source": [
    "trainset = algo.trainset\n",
    "print(algo.__class__.__name__)"
   ]
  },
  {
   "cell_type": "markdown",
   "metadata": {
    "Collapsed": "false"
   },
   "source": [
    "To inspect our predictions in details, we are going to build a pandas data frame with all the predictions."
   ]
  },
  {
   "cell_type": "code",
   "execution_count": 12,
   "metadata": {
    "Collapsed": "false"
   },
   "outputs": [],
   "source": [
    "# def get_Iu(user_id):\n",
    "# #     \"\"\" return the number of items rated by given user args: \n",
    "# #       user_id: the id of the user \n",
    "# #       Item_User : the number of items rated by the user\n",
    "# #     \"\"\"\n",
    "#     try:\n",
    "#         return len(trainset.ur[trainset.to_inner_uid(user_id)])\n",
    "#     except ValueError: # user was not part of the trainset\n",
    "#         return 0\n",
    "    \n",
    "# def get_Ui(item_id):\n",
    "# #     \"\"\" return number of users that have rated given item :\n",
    "# #       item_id: the title of the movie\n",
    "# #       User_Item: the number of users that have rated the item.\n",
    "# #     \"\"\"\n",
    "#     try: \n",
    "#         return len(trainset.ir[trainset.to_inner_iid(item_id)])\n",
    "#     except ValueError:\n",
    "#         return 0\n",
    "    \n",
    "# df1 = pd.DataFrame(predictions, columns=['user_id', 'item_id', 'real', 'est', 'details'])\n",
    "# df1['Item_USer'] = df1.user_id.apply(get_Iu)\n",
    "# df1['User_Item'] = df1.item_id.apply(get_Ui)\n",
    "# df1['err'] = abs(df1.est - df1.real)"
   ]
  },
  {
   "cell_type": "code",
   "execution_count": 13,
   "metadata": {
    "Collapsed": "false"
   },
   "outputs": [],
   "source": [
    "# best_predictions = df1.sort_values(by='err')[:20]\n",
    "# worst_predictions = df1.sort_values(by='err')[-20:]"
   ]
  },
  {
   "cell_type": "code",
   "execution_count": 69,
   "metadata": {
    "Collapsed": "false"
   },
   "outputs": [],
   "source": [
    "# # https://surprise.readthedocs.io/en/stable/FAQ.html\n",
    "# from collections import defaultdict\n",
    "# def get_top_n(predictions, n=10):\n",
    "    \n",
    "#     # First map the predictions to each user.\n",
    "#     top_n = defaultdict(list)\n",
    "#     for uid, iid, true_r, est, _ in predictions:\n",
    "#         top_n[uid].append((iid, est))\n",
    "\n",
    "#     # Then sort the predictions for each user and retrieve the k highest ones.\n",
    "#     for uid, user_ratings in top_n.items():\n",
    "#         user_ratings.sort(key=lambda x: x[1], reverse=True)\n",
    "#         top_n[uid] = user_ratings[:n]\n",
    "\n",
    "#     return top_n\n",
    "\n",
    "# top_n = get_top_n(predictions, n=5)\n",
    "# rec = pd.DataFrame(top_n.items(),columns=['User_id','Top 5 movies and ratings'])\n",
    "# list1 = list(rec[rec['User_id']==290]['Top 5 movies and ratings'])\n",
    "# pd.DataFrame(list1[0], columns=['Movie name','Rating'])"
   ]
  },
  {
   "cell_type": "code",
   "execution_count": 138,
   "metadata": {
    "Collapsed": "false"
   },
   "outputs": [
    {
     "name": "stdout",
     "output_type": "stream",
     "text": [
      "Enter the user id to get recommendations : 100\n",
      "Enter N, while N is the number of recommendations you want : 20\n"
     ]
    }
   ],
   "source": [
    "# Input the user_id for which you need recommendations\n",
    "userId = input(\"Enter the user id to get recommendations : \")\n",
    "\n",
    "# Input N, while N = number of recommendations you want\n",
    "n = input(\"Enter N, while N is the number of recommendations you want : \")"
   ]
  },
  {
   "cell_type": "code",
   "execution_count": 140,
   "metadata": {
    "Collapsed": "false"
   },
   "outputs": [],
   "source": [
    "# get a list of all movie ids\n",
    "iids = df['item_id'].unique()\n",
    "\n",
    "# get a list of iids that user_id has rated\n",
    "iids_userId = df.loc[df['user_id'] == userId, 'item_id']\n",
    "\n",
    "# Remove the iids that user_id has rated from the list of all movie data \n",
    "iids_to_pred = np.setdiff1d(iids,iids_userId)\n",
    "\n",
    "\n",
    "testset = [[userId,item_id,5.] for item_id in iids_to_pred]\n",
    "predictions = algo.test(testset)"
   ]
  },
  {
   "cell_type": "code",
   "execution_count": 141,
   "metadata": {
    "Collapsed": "false"
   },
   "outputs": [],
   "source": [
    "pred_ratings = np.array([pred.est for pred in predictions])\n",
    "\n",
    "# For top 'n' recommendations\n",
    "i_max = np.argpartition(pred_ratings, -int(n))[-int(n):]\n",
    "\n",
    "# For top recommendation\n",
    "# i_max = pred_ratings.argmax()\n",
    "\n",
    "iid = iids_to_pred[i_max]\n",
    "\n",
    "\n",
    "# item = list(df[df['item_id']==iid]['title'])[0]\n",
    "# item\n",
    "# print('Top movie suggested for user_id : {} is {}'.format(100, item))"
   ]
  },
  {
   "cell_type": "code",
   "execution_count": 143,
   "metadata": {
    "Collapsed": "false"
   },
   "outputs": [],
   "source": [
    "g = pd.DataFrame()\n",
    "for i in range(0, int(n)):\n",
    "    l = df[df['item_id']==iid[i]]['title'].head(1)\n",
    "    x = pd.DataFrame(l)\n",
    "    g = g.append(x)"
   ]
  },
  {
   "cell_type": "code",
   "execution_count": 144,
   "metadata": {
    "Collapsed": "false"
   },
   "outputs": [
    {
     "data": {
      "text/html": [
       "<div>\n",
       "<style scoped>\n",
       "    .dataframe tbody tr th:only-of-type {\n",
       "        vertical-align: middle;\n",
       "    }\n",
       "\n",
       "    .dataframe tbody tr th {\n",
       "        vertical-align: top;\n",
       "    }\n",
       "\n",
       "    .dataframe thead th {\n",
       "        text-align: right;\n",
       "    }\n",
       "</style>\n",
       "<table border=\"1\" class=\"dataframe\">\n",
       "  <thead>\n",
       "    <tr style=\"text-align: right;\">\n",
       "      <th></th>\n",
       "      <th>title</th>\n",
       "    </tr>\n",
       "  </thead>\n",
       "  <tbody>\n",
       "    <tr>\n",
       "      <th>1125</th>\n",
       "      <td>Kolya (1996)</td>\n",
       "    </tr>\n",
       "    <tr>\n",
       "      <th>20541</th>\n",
       "      <td>Mimic (1997)</td>\n",
       "    </tr>\n",
       "    <tr>\n",
       "      <th>57210</th>\n",
       "      <td>Beavis and Butt-head Do America (1996)</td>\n",
       "    </tr>\n",
       "    <tr>\n",
       "      <th>72659</th>\n",
       "      <td>Breaking the Waves (1996)</td>\n",
       "    </tr>\n",
       "    <tr>\n",
       "      <th>47986</th>\n",
       "      <td>Raising Arizona (1987)</td>\n",
       "    </tr>\n",
       "  </tbody>\n",
       "</table>\n",
       "</div>"
      ],
      "text/plain": [
       "                                        title\n",
       "1125                             Kolya (1996)\n",
       "20541                            Mimic (1997)\n",
       "57210  Beavis and Butt-head Do America (1996)\n",
       "72659               Breaking the Waves (1996)\n",
       "47986                  Raising Arizona (1987)"
      ]
     },
     "execution_count": 144,
     "metadata": {},
     "output_type": "execute_result"
    }
   ],
   "source": [
    "g.head()"
   ]
  },
  {
   "cell_type": "code",
   "execution_count": 104,
   "metadata": {
    "Collapsed": "false"
   },
   "outputs": [
    {
     "data": {
      "text/plain": [
       "array([0, 4, 1, 3, 2, 5, 6, 7, 8, 9])"
      ]
     },
     "execution_count": 104,
     "metadata": {},
     "output_type": "execute_result"
    }
   ],
   "source": [
    "x.argpartition(2)"
   ]
  },
  {
   "cell_type": "code",
   "execution_count": 122,
   "metadata": {
    "Collapsed": "false"
   },
   "outputs": [],
   "source": [
    "x = np.array([0, 4, 1, 3, 2, 5, 6, 7, 8, 9])"
   ]
  },
  {
   "cell_type": "code",
   "execution_count": 125,
   "metadata": {
    "Collapsed": "false"
   },
   "outputs": [],
   "source": [
    "ind = np.argpartition(x, -6)[-6:]"
   ]
  },
  {
   "cell_type": "code",
   "execution_count": 126,
   "metadata": {
    "Collapsed": "false"
   },
   "outputs": [
    {
     "data": {
      "text/plain": [
       "array([1, 5, 6, 7, 8, 9])"
      ]
     },
     "execution_count": 126,
     "metadata": {},
     "output_type": "execute_result"
    }
   ],
   "source": [
    "ind"
   ]
  },
  {
   "cell_type": "code",
   "execution_count": null,
   "metadata": {
    "Collapsed": "false"
   },
   "outputs": [],
   "source": []
  }
 ],
 "metadata": {
  "kernelspec": {
   "display_name": "Python 3",
   "language": "python",
   "name": "python3"
  },
  "language_info": {
   "codemirror_mode": {
    "name": "ipython",
    "version": 3
   },
   "file_extension": ".py",
   "mimetype": "text/x-python",
   "name": "python",
   "nbconvert_exporter": "python",
   "pygments_lexer": "ipython3",
   "version": "3.7.6"
  },
  "latex_envs": {
   "LaTeX_envs_menu_present": true,
   "autoclose": false,
   "autocomplete": true,
   "bibliofile": "biblio.bib",
   "cite_by": "apalike",
   "current_citInitial": 1,
   "eqLabelWithNumbers": true,
   "eqNumInitial": 1,
   "hotkeys": {
    "equation": "Ctrl-E",
    "itemize": "Ctrl-I"
   },
   "labels_anchors": false,
   "latex_user_defs": false,
   "report_style_numbering": false,
   "user_envs_cfg": false
  }
 },
 "nbformat": 4,
 "nbformat_minor": 4
}
