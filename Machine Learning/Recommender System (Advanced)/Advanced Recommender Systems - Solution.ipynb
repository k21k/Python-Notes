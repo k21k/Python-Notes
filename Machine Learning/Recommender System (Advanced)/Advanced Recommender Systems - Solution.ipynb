{
 "cells": [
  {
   "cell_type": "code",
   "execution_count": 2,
   "metadata": {
    "Collapsed": "false"
   },
   "outputs": [],
   "source": [
    "import numpy as np\n",
    "import pandas as pd"
   ]
  },
  {
   "cell_type": "code",
   "execution_count": 8,
   "metadata": {
    "Collapsed": "false"
   },
   "outputs": [
    {
     "data": {
      "text/html": [
       "<div>\n",
       "<style scoped>\n",
       "    .dataframe tbody tr th:only-of-type {\n",
       "        vertical-align: middle;\n",
       "    }\n",
       "\n",
       "    .dataframe tbody tr th {\n",
       "        vertical-align: top;\n",
       "    }\n",
       "\n",
       "    .dataframe thead th {\n",
       "        text-align: right;\n",
       "    }\n",
       "</style>\n",
       "<table border=\"1\" class=\"dataframe\">\n",
       "  <thead>\n",
       "    <tr style=\"text-align: right;\">\n",
       "      <th></th>\n",
       "      <th>user_id</th>\n",
       "      <th>item_id</th>\n",
       "      <th>rating</th>\n",
       "      <th>timestamp</th>\n",
       "      <th>title</th>\n",
       "    </tr>\n",
       "  </thead>\n",
       "  <tbody>\n",
       "    <tr>\n",
       "      <th>0</th>\n",
       "      <td>0</td>\n",
       "      <td>50</td>\n",
       "      <td>5</td>\n",
       "      <td>881250949</td>\n",
       "      <td>Star Wars (1977)</td>\n",
       "    </tr>\n",
       "    <tr>\n",
       "      <th>1</th>\n",
       "      <td>290</td>\n",
       "      <td>50</td>\n",
       "      <td>5</td>\n",
       "      <td>880473582</td>\n",
       "      <td>Star Wars (1977)</td>\n",
       "    </tr>\n",
       "    <tr>\n",
       "      <th>2</th>\n",
       "      <td>79</td>\n",
       "      <td>50</td>\n",
       "      <td>4</td>\n",
       "      <td>891271545</td>\n",
       "      <td>Star Wars (1977)</td>\n",
       "    </tr>\n",
       "    <tr>\n",
       "      <th>3</th>\n",
       "      <td>2</td>\n",
       "      <td>50</td>\n",
       "      <td>5</td>\n",
       "      <td>888552084</td>\n",
       "      <td>Star Wars (1977)</td>\n",
       "    </tr>\n",
       "    <tr>\n",
       "      <th>4</th>\n",
       "      <td>8</td>\n",
       "      <td>50</td>\n",
       "      <td>5</td>\n",
       "      <td>879362124</td>\n",
       "      <td>Star Wars (1977)</td>\n",
       "    </tr>\n",
       "  </tbody>\n",
       "</table>\n",
       "</div>"
      ],
      "text/plain": [
       "   user_id  item_id  rating  timestamp             title\n",
       "0        0       50       5  881250949  Star Wars (1977)\n",
       "1      290       50       5  880473582  Star Wars (1977)\n",
       "2       79       50       4  891271545  Star Wars (1977)\n",
       "3        2       50       5  888552084  Star Wars (1977)\n",
       "4        8       50       5  879362124  Star Wars (1977)"
      ]
     },
     "execution_count": 8,
     "metadata": {},
     "output_type": "execute_result"
    }
   ],
   "source": [
    "df = pd.read_csv('Movie_data.csv')\n",
    "df = df.loc[:, ~df.columns.str.contains('^Unnamed')]\n",
    "df.head()"
   ]
  },
  {
   "cell_type": "code",
   "execution_count": 9,
   "metadata": {
    "Collapsed": "false"
   },
   "outputs": [
    {
     "name": "stdout",
     "output_type": "stream",
     "text": [
      "Num. of Users: 944\n",
      "Num of Movies: 1682\n"
     ]
    }
   ],
   "source": [
    "n_users = df.user_id.nunique()\n",
    "n_items = df.item_id.nunique()\n",
    "\n",
    "print('Num. of Users: '+ str(n_users))\n",
    "print('Num of Movies: '+str(n_items))"
   ]
  },
  {
   "cell_type": "markdown",
   "metadata": {
    "Collapsed": "false"
   },
   "source": [
    "## Train Test Split\n",
    "\n",
    "Recommendation Systems by their very nature are very difficult to evaluate, but we will still show you how to evaluate them in this tutorial. In order to do this, we'll split our data into two sets. However, we won't do our classic X_train,X_test,y_train,y_test split. Instead we can actually just segement the data into two sets of data:"
   ]
  },
  {
   "cell_type": "code",
   "execution_count": 10,
   "metadata": {
    "Collapsed": "false"
   },
   "outputs": [],
   "source": [
    "from sklearn.model_selection import train_test_split\n",
    "train_data, test_data = train_test_split(df, test_size=0.25)"
   ]
  },
  {
   "cell_type": "markdown",
   "metadata": {
    "Collapsed": "false"
   },
   "source": [
    "## Memory-Based Collaborative Filtering\n",
    "\n",
    "Memory-Based Collaborative Filtering approaches can be divided into two main sections: **user-item filtering** and **item-item filtering**. \n",
    "\n",
    "A *user-item filtering* will take a particular user, find users that are similar to that user based on similarity of ratings, and recommend items that those similar users liked. \n",
    "\n",
    "In contrast, *item-item filtering* will take an item, find users who liked that item, and find other items that those users or similar users also liked. It takes items and outputs other items as recommendations. \n",
    "\n",
    "* *Item-Item Collaborative Filtering*: “Users who liked this item also liked …”\n",
    "* *User-Item Collaborative Filtering*: “Users who are similar to you also liked …”"
   ]
  },
  {
   "cell_type": "markdown",
   "metadata": {
    "Collapsed": "false"
   },
   "source": [
    "In both cases, you create a user-item matrix which built from the entire dataset.\n",
    "\n",
    "Since we have split the data into testing and training we will need to create two ``[943 x 1682]`` matrices (all users by all movies). \n",
    "\n",
    "The training matrix contains 75% of the ratings and the testing matrix contains 25% of the ratings.  "
   ]
  },
  {
   "cell_type": "markdown",
   "metadata": {},
   "source": [
    "A distance metric commonly used in recommender systems is *cosine similarity*, where the ratings are seen as vectors in ``n``-dimensional space and the similarity is calculated based on the angle between these vectors. \n",
    "Cosine similiarity for users *a* and *m* can be calculated using the formula below, where you take dot product of  the user vector *$u_k$* and the user vector *$u_a$* and divide it by multiplication of the Euclidean lengths of the vectors.\n",
    "<img class=\"aligncenter size-thumbnail img-responsive\" src=\"https://latex.codecogs.com/gif.latex?s_u^{cos}(u_k,u_a)=\\frac{u_k&space;\\cdot&space;u_a&space;}{&space;\\left&space;\\|&space;u_k&space;\\right&space;\\|&space;\\left&space;\\|&space;u_a&space;\\right&space;\\|&space;}&space;=\\frac{\\sum&space;x_{k,m}x_{a,m}}{\\sqrt{\\sum&space;x_{k,m}^2\\sum&space;x_{a,m}^2}}\"/>\n",
    "\n",
    "To calculate similarity between items *m* and *b* you use the formula:\n",
    "\n",
    "<img class=\"aligncenter size-thumbnail img-responsive\" src=\"https://latex.codecogs.com/gif.latex?s_u^{cos}(i_m,i_b)=\\frac{i_m&space;\\cdot&space;i_b&space;}{&space;\\left&space;\\|&space;i_m&space;\\right&space;\\|&space;\\left&space;\\|&space;i_b&space;\\right&space;\\|&space;}&space;=\\frac{\\sum&space;x_{a,m}x_{a,b}}{\\sqrt{\\sum&space;x_{a,m}^2\\sum&space;x_{a,b}^2}}\n",
    "\"/>\n",
    "\n",
    "Your first step will be to create the user-item matrix. Since you have both testing and training data you need to create two matrices.  "
   ]
  },
  {
   "cell_type": "code",
   "execution_count": 11,
   "metadata": {
    "Collapsed": "false"
   },
   "outputs": [],
   "source": [
    "#Create two user-item matrices, one for training and another for testing\n",
    "train_data_matrix = np.zeros((n_users, n_items))\n",
    "for line in train_data.itertuples():\n",
    "    train_data_matrix[line[1]-1, line[2]-1] = line[3]  \n",
    "\n",
    "test_data_matrix = np.zeros((n_users, n_items))\n",
    "for line in test_data.itertuples():\n",
    "    test_data_matrix[line[1]-1, line[2]-1] = line[3]"
   ]
  },
  {
   "cell_type": "code",
   "execution_count": 12,
   "metadata": {
    "Collapsed": "false"
   },
   "outputs": [],
   "source": [
    "from sklearn.metrics.pairwise import pairwise_distances\n",
    "user_similarity = pairwise_distances(train_data_matrix, metric='cosine')\n",
    "item_similarity = pairwise_distances(train_data_matrix.T, metric='cosine')"
   ]
  },
  {
   "cell_type": "markdown",
   "metadata": {},
   "source": [
    "Next step is to make predictions. You have already created similarity matrices: `user_similarity` and `item_similarity` and therefore you can make a prediction by applying following formula for user-based CF:\n",
    "\n",
    "<img class=\"aligncenter size-thumbnail img-responsive\" src=\"https://latex.codecogs.com/gif.latex?\\hat{x}_{k,m}&space;=&space;\\bar{x}_{k}&space;&plus;&space;\\frac{\\sum\\limits_{u_a}&space;sim_u(u_k,&space;u_a)&space;(x_{a,m}&space;-&space;\\bar{x_{u_a}})}{\\sum\\limits_{u_a}|sim_u(u_k,&space;u_a)|}\"/>\n",
    "\n",
    "You can look at the similarity between users *k* and *a* as weights that are multiplied by the ratings of a similar user *a* (corrected for the average rating of that user). You will need to normalize it so that the ratings stay between 1 and 5 and, as a final step, sum the average ratings for the user that you are trying to predict. \n",
    "\n",
    "The idea here is that some users may tend always to give high or low ratings to all movies. The relative difference in the ratings that these users give is more important than the absolute values. To give an example: suppose, user *k* gives 4 stars to his favourite movies and 3 stars to all other good movies. Suppose now that another user *t* rates movies that he/she likes with 5 stars, and the movies he/she fell asleep over with 3 stars. These two users could have a very similar taste but treat the rating system differently. \n",
    "\n",
    "When making a prediction for item-based CF you don't need to correct for users average rating since query user itself is used to do predictions.\n",
    "\n",
    "<img class=\"aligncenter size-thumbnail img-responsive\" src=\"https://latex.codecogs.com/gif.latex?\\hat{x}_{k,m}&space;=&space;\\frac{\\sum\\limits_{i_b}&space;sim_i(i_m,&space;i_b)&space;(x_{k,b})&space;}{\\sum\\limits_{i_b}|sim_i(i_m,&space;i_b)|}\"/>"
   ]
  },
  {
   "cell_type": "code",
   "execution_count": 13,
   "metadata": {
    "Collapsed": "false"
   },
   "outputs": [],
   "source": [
    "def predict(ratings, similarity, type='user'):\n",
    "    if type == 'user':\n",
    "        mean_user_rating = ratings.mean(axis=1)\n",
    "        #You use np.newaxis so that mean_user_rating has same format as ratings\n",
    "        ratings_diff = (ratings - mean_user_rating[:, np.newaxis]) \n",
    "        pred = mean_user_rating[:, np.newaxis] + similarity.dot(ratings_diff) / np.array([np.abs(similarity).sum(axis=1)]).T\n",
    "    elif type == 'item':\n",
    "        pred = ratings.dot(similarity) / np.array([np.abs(similarity).sum(axis=1)])     \n",
    "    return pred"
   ]
  },
  {
   "cell_type": "code",
   "execution_count": 14,
   "metadata": {
    "Collapsed": "false"
   },
   "outputs": [],
   "source": [
    "item_prediction = predict(train_data_matrix, item_similarity, type='item')\n",
    "user_prediction = predict(train_data_matrix, user_similarity, type='user')"
   ]
  },
  {
   "cell_type": "markdown",
   "metadata": {},
   "source": [
    "### Evaluation\n",
    "There are many evaluation metrics but one of the most popular metric used to evaluate accuracy of predicted ratings is *Root Mean Squared Error (RMSE)*. \n",
    "<img src=\"https://latex.codecogs.com/gif.latex?RMSE&space;=\\sqrt{\\frac{1}{N}&space;\\sum&space;(x_i&space;-\\hat{x_i})^2}\" title=\"RMSE =\\sqrt{\\frac{1}{N} \\sum (x_i -\\hat{x_i})^2}\" />\n",
    "\n",
    "You can use the [mean_square_error](http://scikit-learn.org/stable/modules/generated/sklearn.metrics.mean_squared_error.html) (MSE) function from `sklearn`, where the RMSE is just the square root of MSE. To read more about different evaluation metrics you can take a look at [this article](http://research.microsoft.com/pubs/115396/EvaluationMetrics.TR.pdf). "
   ]
  },
  {
   "cell_type": "markdown",
   "metadata": {
    "Collapsed": "false"
   },
   "source": [
    "Since you only want to consider predicted ratings that are in the test dataset, you filter out all other elements in the prediction matrix with `prediction[ground_truth.nonzero()]`. "
   ]
  },
  {
   "cell_type": "code",
   "execution_count": 15,
   "metadata": {
    "Collapsed": "false"
   },
   "outputs": [],
   "source": [
    "from sklearn.metrics import mean_squared_error\n",
    "from math import sqrt\n",
    "def rmse(prediction, ground_truth):\n",
    "    prediction = prediction[ground_truth.nonzero()].flatten() \n",
    "    ground_truth = ground_truth[ground_truth.nonzero()].flatten()\n",
    "    return sqrt(mean_squared_error(prediction, ground_truth))"
   ]
  },
  {
   "cell_type": "code",
   "execution_count": 16,
   "metadata": {
    "Collapsed": "false"
   },
   "outputs": [
    {
     "name": "stdout",
     "output_type": "stream",
     "text": [
      "User-based CF RMSE: 3.1242470520719205\n",
      "Item-based CF RMSE: 3.452606159164463\n"
     ]
    }
   ],
   "source": [
    "print('User-based CF RMSE: ' + str(rmse(user_prediction, test_data_matrix)))\n",
    "print('Item-based CF RMSE: ' + str(rmse(item_prediction, test_data_matrix)))"
   ]
  },
  {
   "cell_type": "code",
   "execution_count": 25,
   "metadata": {
    "Collapsed": "false"
   },
   "outputs": [
    {
     "data": {
      "text/plain": [
       "<bound method Series.unique of 0                                          Star Wars (1977)\n",
       "1                                          Star Wars (1977)\n",
       "2                                          Star Wars (1977)\n",
       "3                                          Star Wars (1977)\n",
       "4                                          Star Wars (1977)\n",
       "                                ...                        \n",
       "99998                                     Mamma Roma (1962)\n",
       "99999                                Eighth Day, The (1996)\n",
       "100000                                    Girls Town (1996)\n",
       "100001    Silence of the Palace, The (Saimt el Qusur) (1...\n",
       "100002                                      Dadetown (1995)\n",
       "Name: title, Length: 100003, dtype: object>"
      ]
     },
     "execution_count": 25,
     "metadata": {},
     "output_type": "execute_result"
    }
   ],
   "source": [
    "df['title'].unique"
   ]
  },
  {
   "cell_type": "markdown",
   "metadata": {
    "Collapsed": "false"
   },
   "source": [
    "Memory-based algorithms are easy to implement and produce reasonable prediction quality. \n",
    "The drawback of memory-based CF is that it doesn't scale to real-world scenarios and doesn't address the well-known cold-start problem, that is when new user or new item enters the system. Model-based CF methods are scalable and can deal with higher sparsity level than memory-based models, but also suffer when new users or items that don't have any ratings enter the system. I would like to thank Ethan Rosenthal for his [post](http://blog.ethanrosenthal.com/2015/11/02/intro-to-collaborative-filtering/) about Memory-Based Collaborative Filtering. "
   ]
  },
  {
   "cell_type": "markdown",
   "metadata": {
    "Collapsed": "false"
   },
   "source": [
    "# Model-based Collaborative Filtering\n",
    "\n",
    "Model-based Collaborative Filtering is based on **matrix factorization (MF)** which has received greater exposure, mainly as an unsupervised learning method for latent variable decomposition and dimensionality reduction. Matrix factorization is widely used for recommender systems where it can deal better with scalability and sparsity than Memory-based CF. The goal of MF is to learn the latent preferences of users and the latent attributes of items from known ratings (learn features that describe the characteristics of ratings) to then predict the unknown ratings through the dot product of the latent features of users and items. \n",
    "When you have a very sparse matrix, with a lot of dimensions, by doing matrix factorization you can restructure the  user-item matrix into low-rank structure, and you can represent the matrix by the multiplication of two low-rank matrices, where the rows contain the latent vector. You fit this matrix to approximate your original matrix, as closely as possible, by multiplying the low-rank matrices together, which fills in the entries missing in the original matrix.\n",
    "\n",
    "Let's calculate the sparsity level of MovieLens dataset:"
   ]
  },
  {
   "cell_type": "code",
   "execution_count": 17,
   "metadata": {
    "Collapsed": "false"
   },
   "outputs": [
    {
     "name": "stdout",
     "output_type": "stream",
     "text": [
      "The sparsity level of MovieLens100K is 93.7%\n"
     ]
    }
   ],
   "source": [
    "sparsity=round(1.0-len(df)/float(n_users*n_items),3)\n",
    "print('The sparsity level of MovieLens100K is ' +  str(sparsity*100) + '%')"
   ]
  },
  {
   "cell_type": "markdown",
   "metadata": {
    "Collapsed": "false"
   },
   "source": [
    "To give an example of the learned latent preferences of the users and items: let's say for the MovieLens dataset you have the following information: _(user id, age, location, gender, movie id, director, actor, language, year, rating)_. By applying matrix factorization the model learns that important user features are _age group (under 10, 10-18, 18-30, 30-90)_, _location_ and _gender_, and for movie features it learns that _decade_, _director_ and _actor_ are most important. Now if you look into the information you have stored, there is no such feature as the _decade_, but the model can learn on its own. The important aspect is that the CF model only uses data (user_id, movie_id, rating) to learn the latent features. If there is little data available model-based CF model will predict poorly, since it will be more difficult to learn the latent features. \n",
    "\n",
    "Models that use both ratings and content features are called **Hybrid Recommender Systems** where both Collaborative Filtering and Content-based Models are combined. Hybrid recommender systems usually show higher accuracy than Collaborative Filtering or Content-based Models on their own: they are capable to address the cold-start problem better since if you don't have any ratings for a user or an item you could use the metadata from the user or item to make a prediction. "
   ]
  },
  {
   "cell_type": "markdown",
   "metadata": {},
   "source": [
    "### SVD\n",
    "A well-known matrix factorization method is **Singular value decomposition (SVD)**. Collaborative Filtering can be formulated by approximating a matrix `X` by using singular value decomposition. The winning team at the Netflix Prize competition used SVD matrix factorization models to produce product recommendations, for more information I recommend to read articles: [Netflix Recommendations: Beyond the 5 stars](http://techblog.netflix.com/2012/04/netflix-recommendations-beyond-5-stars.html) and [Netflix Prize and SVD](http://buzzard.ups.edu/courses/2014spring/420projects/math420-UPS-spring-2014-gower-netflix-SVD.pdf).\n",
    "The general equation can be expressed as follows:\n",
    "<img src=\"https://latex.codecogs.com/gif.latex?X=USV^T\" title=\"X=USV^T\" />\n",
    "\n",
    "\n",
    "Given `m x n` matrix `X`:\n",
    "* *`U`* is an *`(m x r)`* orthogonal matrix\n",
    "* *`S`* is an *`(r x r)`* diagonal matrix with non-negative real numbers on the diagonal\n",
    "* *V^T* is an *`(r x n)`* orthogonal matrix\n",
    "\n",
    "Elements on the diagnoal in `S` are known as *singular values of `X`*. \n",
    "\n",
    "\n",
    "Matrix *`X`* can be factorized to *`U`*, *`S`* and *`V`*. The *`U`* matrix represents the feature vectors corresponding to the users in the hidden feature space and the *`V`* matrix represents the feature vectors corresponding to the items in the hidden feature space.\n",
    "Now you can make a prediction by taking dot product of *`U`*, *`S`* and *`V^T`*."
   ]
  },
  {
   "cell_type": "code",
   "execution_count": 18,
   "metadata": {
    "Collapsed": "false"
   },
   "outputs": [
    {
     "name": "stdout",
     "output_type": "stream",
     "text": [
      "User-based CF MSE: 2.714377158545856\n"
     ]
    }
   ],
   "source": [
    "import scipy.sparse as sp\n",
    "from scipy.sparse.linalg import svds\n",
    "\n",
    "#get SVD components from train matrix. Choose k.\n",
    "u, s, vt = svds(train_data_matrix, k = 20)\n",
    "s_diag_matrix=np.diag(s)\n",
    "X_pred = np.dot(np.dot(u, s_diag_matrix), vt)\n",
    "print('User-based CF MSE: ' + str(rmse(X_pred, test_data_matrix)))"
   ]
  },
  {
   "cell_type": "markdown",
   "metadata": {
    "Collapsed": "false"
   },
   "source": [
    "Carelessly addressing only the relatively few known entries is highly prone to overfitting. SVD can be very slow and computationally expensive. More recent work minimizes the squared error by applying alternating least square or stochastic gradient descent and uses regularization terms to prevent overfitting. Alternating least square and stochastic gradient descent methods for CF will be covered in the next tutorials.\n"
   ]
  },
  {
   "cell_type": "markdown",
   "metadata": {
    "Collapsed": "false"
   },
   "source": [
    "Review:\n",
    "\n",
    "* We have covered how to implement simple **Collaborative Filtering** methods, both memory-based CF and model-based CF.\n",
    "* **Memory-based models** are based on similarity between items or users, where we use cosine-similarity.\n",
    "* **Model-based CF** is based on matrix factorization where we use SVD to factorize the matrix.\n",
    "* Building recommender systems that perform well in cold-start scenarios (where little data is available on new users and items) remains a challenge. The standard collaborative filtering method performs poorly is such settings. "
   ]
  },
  {
   "cell_type": "code",
   "execution_count": 21,
   "metadata": {
    "Collapsed": "false"
   },
   "outputs": [
    {
     "data": {
      "text/html": [
       "<div>\n",
       "<style scoped>\n",
       "    .dataframe tbody tr th:only-of-type {\n",
       "        vertical-align: middle;\n",
       "    }\n",
       "\n",
       "    .dataframe tbody tr th {\n",
       "        vertical-align: top;\n",
       "    }\n",
       "\n",
       "    .dataframe thead th {\n",
       "        text-align: right;\n",
       "    }\n",
       "</style>\n",
       "<table border=\"1\" class=\"dataframe\">\n",
       "  <thead>\n",
       "    <tr style=\"text-align: right;\">\n",
       "      <th></th>\n",
       "      <th>0</th>\n",
       "      <th>1</th>\n",
       "      <th>2</th>\n",
       "      <th>3</th>\n",
       "      <th>4</th>\n",
       "      <th>5</th>\n",
       "      <th>6</th>\n",
       "      <th>7</th>\n",
       "      <th>8</th>\n",
       "      <th>9</th>\n",
       "      <th>...</th>\n",
       "      <th>1672</th>\n",
       "      <th>1673</th>\n",
       "      <th>1674</th>\n",
       "      <th>1675</th>\n",
       "      <th>1676</th>\n",
       "      <th>1677</th>\n",
       "      <th>1678</th>\n",
       "      <th>1679</th>\n",
       "      <th>1680</th>\n",
       "      <th>1681</th>\n",
       "    </tr>\n",
       "  </thead>\n",
       "  <tbody>\n",
       "    <tr>\n",
       "      <th>0</th>\n",
       "      <td>4.376691</td>\n",
       "      <td>1.434275</td>\n",
       "      <td>1.052642</td>\n",
       "      <td>3.241994</td>\n",
       "      <td>1.248991</td>\n",
       "      <td>0.354248</td>\n",
       "      <td>5.431033</td>\n",
       "      <td>2.719615</td>\n",
       "      <td>2.823727</td>\n",
       "      <td>0.920356</td>\n",
       "      <td>...</td>\n",
       "      <td>-0.031587</td>\n",
       "      <td>0.009522</td>\n",
       "      <td>0.0</td>\n",
       "      <td>0.009812</td>\n",
       "      <td>0.047948</td>\n",
       "      <td>0.0</td>\n",
       "      <td>-0.005940</td>\n",
       "      <td>-0.003960</td>\n",
       "      <td>0.0</td>\n",
       "      <td>0.080075</td>\n",
       "    </tr>\n",
       "    <tr>\n",
       "      <th>1</th>\n",
       "      <td>2.426359</td>\n",
       "      <td>0.001856</td>\n",
       "      <td>-0.003160</td>\n",
       "      <td>0.377101</td>\n",
       "      <td>-0.118215</td>\n",
       "      <td>0.070774</td>\n",
       "      <td>1.726163</td>\n",
       "      <td>0.594228</td>\n",
       "      <td>2.267507</td>\n",
       "      <td>0.484898</td>\n",
       "      <td>...</td>\n",
       "      <td>0.011179</td>\n",
       "      <td>-0.005277</td>\n",
       "      <td>0.0</td>\n",
       "      <td>-0.009051</td>\n",
       "      <td>0.001462</td>\n",
       "      <td>0.0</td>\n",
       "      <td>0.006801</td>\n",
       "      <td>0.004534</td>\n",
       "      <td>0.0</td>\n",
       "      <td>-0.034695</td>\n",
       "    </tr>\n",
       "    <tr>\n",
       "      <th>2</th>\n",
       "      <td>-0.321324</td>\n",
       "      <td>0.065433</td>\n",
       "      <td>0.247272</td>\n",
       "      <td>0.028393</td>\n",
       "      <td>-0.101207</td>\n",
       "      <td>-0.020415</td>\n",
       "      <td>-0.195446</td>\n",
       "      <td>-0.114853</td>\n",
       "      <td>-0.182681</td>\n",
       "      <td>-0.072715</td>\n",
       "      <td>...</td>\n",
       "      <td>-0.002623</td>\n",
       "      <td>-0.014112</td>\n",
       "      <td>0.0</td>\n",
       "      <td>0.016987</td>\n",
       "      <td>-0.005000</td>\n",
       "      <td>0.0</td>\n",
       "      <td>0.034290</td>\n",
       "      <td>0.022860</td>\n",
       "      <td>0.0</td>\n",
       "      <td>0.007677</td>\n",
       "    </tr>\n",
       "    <tr>\n",
       "      <th>3</th>\n",
       "      <td>-0.100475</td>\n",
       "      <td>0.012514</td>\n",
       "      <td>0.079271</td>\n",
       "      <td>-0.087860</td>\n",
       "      <td>0.178363</td>\n",
       "      <td>0.015345</td>\n",
       "      <td>0.141409</td>\n",
       "      <td>0.045641</td>\n",
       "      <td>-0.142865</td>\n",
       "      <td>-0.116951</td>\n",
       "      <td>...</td>\n",
       "      <td>-0.010957</td>\n",
       "      <td>-0.005646</td>\n",
       "      <td>0.0</td>\n",
       "      <td>0.005178</td>\n",
       "      <td>0.000025</td>\n",
       "      <td>0.0</td>\n",
       "      <td>0.021199</td>\n",
       "      <td>0.014133</td>\n",
       "      <td>0.0</td>\n",
       "      <td>-0.007379</td>\n",
       "    </tr>\n",
       "    <tr>\n",
       "      <th>4</th>\n",
       "      <td>3.170094</td>\n",
       "      <td>0.859382</td>\n",
       "      <td>0.326119</td>\n",
       "      <td>1.981635</td>\n",
       "      <td>0.431203</td>\n",
       "      <td>-0.221577</td>\n",
       "      <td>2.481218</td>\n",
       "      <td>1.511793</td>\n",
       "      <td>0.032053</td>\n",
       "      <td>0.407450</td>\n",
       "      <td>...</td>\n",
       "      <td>-0.005202</td>\n",
       "      <td>0.008639</td>\n",
       "      <td>0.0</td>\n",
       "      <td>-0.014280</td>\n",
       "      <td>-0.008396</td>\n",
       "      <td>0.0</td>\n",
       "      <td>0.002333</td>\n",
       "      <td>0.001555</td>\n",
       "      <td>0.0</td>\n",
       "      <td>-0.013160</td>\n",
       "    </tr>\n",
       "    <tr>\n",
       "      <th>...</th>\n",
       "      <td>...</td>\n",
       "      <td>...</td>\n",
       "      <td>...</td>\n",
       "      <td>...</td>\n",
       "      <td>...</td>\n",
       "      <td>...</td>\n",
       "      <td>...</td>\n",
       "      <td>...</td>\n",
       "      <td>...</td>\n",
       "      <td>...</td>\n",
       "      <td>...</td>\n",
       "      <td>...</td>\n",
       "      <td>...</td>\n",
       "      <td>...</td>\n",
       "      <td>...</td>\n",
       "      <td>...</td>\n",
       "      <td>...</td>\n",
       "      <td>...</td>\n",
       "      <td>...</td>\n",
       "      <td>...</td>\n",
       "      <td>...</td>\n",
       "    </tr>\n",
       "    <tr>\n",
       "      <th>939</th>\n",
       "      <td>1.280779</td>\n",
       "      <td>-0.016465</td>\n",
       "      <td>-0.085343</td>\n",
       "      <td>1.161607</td>\n",
       "      <td>0.216479</td>\n",
       "      <td>0.100013</td>\n",
       "      <td>1.087155</td>\n",
       "      <td>0.856297</td>\n",
       "      <td>0.614549</td>\n",
       "      <td>0.040275</td>\n",
       "      <td>...</td>\n",
       "      <td>0.023682</td>\n",
       "      <td>0.033951</td>\n",
       "      <td>0.0</td>\n",
       "      <td>-0.010923</td>\n",
       "      <td>-0.010002</td>\n",
       "      <td>0.0</td>\n",
       "      <td>0.013834</td>\n",
       "      <td>0.009223</td>\n",
       "      <td>0.0</td>\n",
       "      <td>-0.044481</td>\n",
       "    </tr>\n",
       "    <tr>\n",
       "      <th>940</th>\n",
       "      <td>1.893490</td>\n",
       "      <td>0.043775</td>\n",
       "      <td>0.240309</td>\n",
       "      <td>-0.106073</td>\n",
       "      <td>0.123529</td>\n",
       "      <td>-0.004155</td>\n",
       "      <td>1.447252</td>\n",
       "      <td>0.515209</td>\n",
       "      <td>0.982552</td>\n",
       "      <td>0.110606</td>\n",
       "      <td>...</td>\n",
       "      <td>-0.011037</td>\n",
       "      <td>-0.005281</td>\n",
       "      <td>0.0</td>\n",
       "      <td>0.000255</td>\n",
       "      <td>0.008501</td>\n",
       "      <td>0.0</td>\n",
       "      <td>-0.000509</td>\n",
       "      <td>-0.000339</td>\n",
       "      <td>0.0</td>\n",
       "      <td>-0.008089</td>\n",
       "    </tr>\n",
       "    <tr>\n",
       "      <th>941</th>\n",
       "      <td>1.042322</td>\n",
       "      <td>0.430447</td>\n",
       "      <td>-0.132755</td>\n",
       "      <td>-0.142231</td>\n",
       "      <td>-0.490585</td>\n",
       "      <td>0.031521</td>\n",
       "      <td>-0.836569</td>\n",
       "      <td>1.166384</td>\n",
       "      <td>0.040682</td>\n",
       "      <td>-0.262619</td>\n",
       "      <td>...</td>\n",
       "      <td>0.028563</td>\n",
       "      <td>0.057562</td>\n",
       "      <td>0.0</td>\n",
       "      <td>0.015114</td>\n",
       "      <td>0.002594</td>\n",
       "      <td>0.0</td>\n",
       "      <td>0.013698</td>\n",
       "      <td>0.009132</td>\n",
       "      <td>0.0</td>\n",
       "      <td>-0.013765</td>\n",
       "    </tr>\n",
       "    <tr>\n",
       "      <th>942</th>\n",
       "      <td>1.151184</td>\n",
       "      <td>1.773824</td>\n",
       "      <td>0.603582</td>\n",
       "      <td>2.121552</td>\n",
       "      <td>0.961312</td>\n",
       "      <td>0.206994</td>\n",
       "      <td>1.876010</td>\n",
       "      <td>0.827244</td>\n",
       "      <td>0.937890</td>\n",
       "      <td>-0.217581</td>\n",
       "      <td>...</td>\n",
       "      <td>-0.004764</td>\n",
       "      <td>-0.009407</td>\n",
       "      <td>0.0</td>\n",
       "      <td>0.002287</td>\n",
       "      <td>-0.004912</td>\n",
       "      <td>0.0</td>\n",
       "      <td>-0.024047</td>\n",
       "      <td>-0.016032</td>\n",
       "      <td>0.0</td>\n",
       "      <td>0.004642</td>\n",
       "    </tr>\n",
       "    <tr>\n",
       "      <th>943</th>\n",
       "      <td>0.388952</td>\n",
       "      <td>-0.032429</td>\n",
       "      <td>0.022440</td>\n",
       "      <td>-0.026429</td>\n",
       "      <td>-0.014974</td>\n",
       "      <td>0.001495</td>\n",
       "      <td>0.240356</td>\n",
       "      <td>-0.176461</td>\n",
       "      <td>0.041002</td>\n",
       "      <td>-0.046126</td>\n",
       "      <td>...</td>\n",
       "      <td>-0.002459</td>\n",
       "      <td>0.003325</td>\n",
       "      <td>0.0</td>\n",
       "      <td>-0.002694</td>\n",
       "      <td>-0.005144</td>\n",
       "      <td>0.0</td>\n",
       "      <td>-0.001244</td>\n",
       "      <td>-0.000830</td>\n",
       "      <td>0.0</td>\n",
       "      <td>0.000691</td>\n",
       "    </tr>\n",
       "  </tbody>\n",
       "</table>\n",
       "<p>944 rows × 1682 columns</p>\n",
       "</div>"
      ],
      "text/plain": [
       "         0         1         2         3         4         5         6     \\\n",
       "0    4.376691  1.434275  1.052642  3.241994  1.248991  0.354248  5.431033   \n",
       "1    2.426359  0.001856 -0.003160  0.377101 -0.118215  0.070774  1.726163   \n",
       "2   -0.321324  0.065433  0.247272  0.028393 -0.101207 -0.020415 -0.195446   \n",
       "3   -0.100475  0.012514  0.079271 -0.087860  0.178363  0.015345  0.141409   \n",
       "4    3.170094  0.859382  0.326119  1.981635  0.431203 -0.221577  2.481218   \n",
       "..        ...       ...       ...       ...       ...       ...       ...   \n",
       "939  1.280779 -0.016465 -0.085343  1.161607  0.216479  0.100013  1.087155   \n",
       "940  1.893490  0.043775  0.240309 -0.106073  0.123529 -0.004155  1.447252   \n",
       "941  1.042322  0.430447 -0.132755 -0.142231 -0.490585  0.031521 -0.836569   \n",
       "942  1.151184  1.773824  0.603582  2.121552  0.961312  0.206994  1.876010   \n",
       "943  0.388952 -0.032429  0.022440 -0.026429 -0.014974  0.001495  0.240356   \n",
       "\n",
       "         7         8         9     ...      1672      1673  1674      1675  \\\n",
       "0    2.719615  2.823727  0.920356  ... -0.031587  0.009522   0.0  0.009812   \n",
       "1    0.594228  2.267507  0.484898  ...  0.011179 -0.005277   0.0 -0.009051   \n",
       "2   -0.114853 -0.182681 -0.072715  ... -0.002623 -0.014112   0.0  0.016987   \n",
       "3    0.045641 -0.142865 -0.116951  ... -0.010957 -0.005646   0.0  0.005178   \n",
       "4    1.511793  0.032053  0.407450  ... -0.005202  0.008639   0.0 -0.014280   \n",
       "..        ...       ...       ...  ...       ...       ...   ...       ...   \n",
       "939  0.856297  0.614549  0.040275  ...  0.023682  0.033951   0.0 -0.010923   \n",
       "940  0.515209  0.982552  0.110606  ... -0.011037 -0.005281   0.0  0.000255   \n",
       "941  1.166384  0.040682 -0.262619  ...  0.028563  0.057562   0.0  0.015114   \n",
       "942  0.827244  0.937890 -0.217581  ... -0.004764 -0.009407   0.0  0.002287   \n",
       "943 -0.176461  0.041002 -0.046126  ... -0.002459  0.003325   0.0 -0.002694   \n",
       "\n",
       "         1676  1677      1678      1679  1680      1681  \n",
       "0    0.047948   0.0 -0.005940 -0.003960   0.0  0.080075  \n",
       "1    0.001462   0.0  0.006801  0.004534   0.0 -0.034695  \n",
       "2   -0.005000   0.0  0.034290  0.022860   0.0  0.007677  \n",
       "3    0.000025   0.0  0.021199  0.014133   0.0 -0.007379  \n",
       "4   -0.008396   0.0  0.002333  0.001555   0.0 -0.013160  \n",
       "..        ...   ...       ...       ...   ...       ...  \n",
       "939 -0.010002   0.0  0.013834  0.009223   0.0 -0.044481  \n",
       "940  0.008501   0.0 -0.000509 -0.000339   0.0 -0.008089  \n",
       "941  0.002594   0.0  0.013698  0.009132   0.0 -0.013765  \n",
       "942 -0.004912   0.0 -0.024047 -0.016032   0.0  0.004642  \n",
       "943 -0.005144   0.0 -0.001244 -0.000830   0.0  0.000691  \n",
       "\n",
       "[944 rows x 1682 columns]"
      ]
     },
     "execution_count": 21,
     "metadata": {},
     "output_type": "execute_result"
    }
   ],
   "source": [
    "pd.DataFrame(X_pred)"
   ]
  },
  {
   "cell_type": "code",
   "execution_count": null,
   "metadata": {
    "Collapsed": "false"
   },
   "outputs": [],
   "source": []
  }
 ],
 "metadata": {
  "kernelspec": {
   "display_name": "Python 3",
   "language": "python",
   "name": "python3"
  },
  "language_info": {
   "codemirror_mode": {
    "name": "ipython",
    "version": 3
   },
   "file_extension": ".py",
   "mimetype": "text/x-python",
   "name": "python",
   "nbconvert_exporter": "python",
   "pygments_lexer": "ipython3",
   "version": "3.7.6"
  },
  "latex_envs": {
   "LaTeX_envs_menu_present": true,
   "autoclose": false,
   "autocomplete": true,
   "bibliofile": "biblio.bib",
   "cite_by": "apalike",
   "current_citInitial": 1,
   "eqLabelWithNumbers": true,
   "eqNumInitial": 1,
   "hotkeys": {
    "equation": "Ctrl-E",
    "itemize": "Ctrl-I"
   },
   "labels_anchors": false,
   "latex_user_defs": false,
   "report_style_numbering": false,
   "user_envs_cfg": false
  }
 },
 "nbformat": 4,
 "nbformat_minor": 4
}
