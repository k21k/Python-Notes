{
 "cells": [
  {
   "cell_type": "markdown",
   "metadata": {
    "Collapsed": "false"
   },
   "source": [
    "\n",
    "# Advanced Recommender Systems with Python\n",
    "\n",
    "* For this exercise, I've taken help from Kaggle. Because these are some advanced `Linear Algebra` concepts.\n"
   ]
  },
  {
   "cell_type": "markdown",
   "metadata": {
    "Collapsed": "false"
   },
   "source": [
    "## Methods Used\n",
    "\n",
    "Two most common types of recommender systems are **Content-Based** and **Collaborative Filtering (CF)**.\n",
    "\n",
    "* Collaborative filtering produces recommendations based on the knowledge of users’ attitude to items, that is it uses the \"wisdom of the crowd\" to recommend items.\n",
    "\n",
    "* Content-based recommender systems focus on the attributes of the items and give you recommendations based on the similarity between them.\n",
    "\n",
    "## Collaborative Filtering\n",
    "\n",
    "In general, Collaborative filtering (CF) is more commonly used than content-based systems because it usually gives better results and is relatively easy to understand (from an overall implementation perspective). The algorithm has the ability to do feature learning on its own, which means that it can start to learn for itself what features to use.\n",
    "\n",
    "CF can be divided into **Memory-Based Collaborative Filtering** and **Model-Based Collaborative filtering**.\n",
    "\n",
    "In this notebook, we will implement Model-Based CF by using singular value decomposition (SVD) and Memory-Based CF by computing cosine similarity.\n",
    "\n",
    "## The Data\n",
    "\n",
    "We will use famous MovieLens dataset, which is one of the most common datasets used when implementing and testing recommender engines. It contains 100k movie ratings from 943 users and a selection of 1682 movies.\n",
    "\n",
    "---"
   ]
  },
  {
   "cell_type": "code",
   "execution_count": 38,
   "metadata": {
    "Collapsed": "false"
   },
   "outputs": [],
   "source": [
    "import numpy as np\n",
    "import pandas as pd"
   ]
  },
  {
   "cell_type": "code",
   "execution_count": 39,
   "metadata": {
    "Collapsed": "false"
   },
   "outputs": [],
   "source": [
    "df = pd.read_csv('Movie_data.csv')"
   ]
  },
  {
   "cell_type": "markdown",
   "metadata": {
    "Collapsed": "false"
   },
   "source": [
    "Let's take a quick look at the data."
   ]
  },
  {
   "cell_type": "code",
   "execution_count": 40,
   "metadata": {
    "Collapsed": "false"
   },
   "outputs": [
    {
     "data": {
      "text/html": [
       "<div>\n",
       "<style scoped>\n",
       "    .dataframe tbody tr th:only-of-type {\n",
       "        vertical-align: middle;\n",
       "    }\n",
       "\n",
       "    .dataframe tbody tr th {\n",
       "        vertical-align: top;\n",
       "    }\n",
       "\n",
       "    .dataframe thead th {\n",
       "        text-align: right;\n",
       "    }\n",
       "</style>\n",
       "<table border=\"1\" class=\"dataframe\">\n",
       "  <thead>\n",
       "    <tr style=\"text-align: right;\">\n",
       "      <th></th>\n",
       "      <th>Unnamed: 0</th>\n",
       "      <th>user_id</th>\n",
       "      <th>item_id</th>\n",
       "      <th>rating</th>\n",
       "      <th>timestamp</th>\n",
       "      <th>title</th>\n",
       "    </tr>\n",
       "  </thead>\n",
       "  <tbody>\n",
       "    <tr>\n",
       "      <th>0</th>\n",
       "      <td>0</td>\n",
       "      <td>0</td>\n",
       "      <td>50</td>\n",
       "      <td>5</td>\n",
       "      <td>881250949</td>\n",
       "      <td>Star Wars (1977)</td>\n",
       "    </tr>\n",
       "    <tr>\n",
       "      <th>1</th>\n",
       "      <td>1</td>\n",
       "      <td>290</td>\n",
       "      <td>50</td>\n",
       "      <td>5</td>\n",
       "      <td>880473582</td>\n",
       "      <td>Star Wars (1977)</td>\n",
       "    </tr>\n",
       "    <tr>\n",
       "      <th>2</th>\n",
       "      <td>2</td>\n",
       "      <td>79</td>\n",
       "      <td>50</td>\n",
       "      <td>4</td>\n",
       "      <td>891271545</td>\n",
       "      <td>Star Wars (1977)</td>\n",
       "    </tr>\n",
       "    <tr>\n",
       "      <th>3</th>\n",
       "      <td>3</td>\n",
       "      <td>2</td>\n",
       "      <td>50</td>\n",
       "      <td>5</td>\n",
       "      <td>888552084</td>\n",
       "      <td>Star Wars (1977)</td>\n",
       "    </tr>\n",
       "    <tr>\n",
       "      <th>4</th>\n",
       "      <td>4</td>\n",
       "      <td>8</td>\n",
       "      <td>50</td>\n",
       "      <td>5</td>\n",
       "      <td>879362124</td>\n",
       "      <td>Star Wars (1977)</td>\n",
       "    </tr>\n",
       "  </tbody>\n",
       "</table>\n",
       "</div>"
      ],
      "text/plain": [
       "   Unnamed: 0  user_id  item_id  rating  timestamp             title\n",
       "0           0        0       50       5  881250949  Star Wars (1977)\n",
       "1           1      290       50       5  880473582  Star Wars (1977)\n",
       "2           2       79       50       4  891271545  Star Wars (1977)\n",
       "3           3        2       50       5  888552084  Star Wars (1977)\n",
       "4           4        8       50       5  879362124  Star Wars (1977)"
      ]
     },
     "execution_count": 40,
     "metadata": {},
     "output_type": "execute_result"
    }
   ],
   "source": [
    "df.head()"
   ]
  },
  {
   "cell_type": "code",
   "execution_count": 19,
   "metadata": {
    "Collapsed": "false"
   },
   "outputs": [],
   "source": [
    "df = df.loc[:, ~df.columns.str.contains('^Unnamed')]"
   ]
  },
  {
   "cell_type": "code",
   "execution_count": 20,
   "metadata": {
    "Collapsed": "false"
   },
   "outputs": [
    {
     "data": {
      "text/html": [
       "<div>\n",
       "<style scoped>\n",
       "    .dataframe tbody tr th:only-of-type {\n",
       "        vertical-align: middle;\n",
       "    }\n",
       "\n",
       "    .dataframe tbody tr th {\n",
       "        vertical-align: top;\n",
       "    }\n",
       "\n",
       "    .dataframe thead th {\n",
       "        text-align: right;\n",
       "    }\n",
       "</style>\n",
       "<table border=\"1\" class=\"dataframe\">\n",
       "  <thead>\n",
       "    <tr style=\"text-align: right;\">\n",
       "      <th></th>\n",
       "      <th>user_id</th>\n",
       "      <th>item_id</th>\n",
       "      <th>rating</th>\n",
       "      <th>timestamp</th>\n",
       "      <th>title</th>\n",
       "    </tr>\n",
       "  </thead>\n",
       "  <tbody>\n",
       "    <tr>\n",
       "      <th>0</th>\n",
       "      <td>0</td>\n",
       "      <td>50</td>\n",
       "      <td>5</td>\n",
       "      <td>881250949</td>\n",
       "      <td>Star Wars (1977)</td>\n",
       "    </tr>\n",
       "    <tr>\n",
       "      <th>1</th>\n",
       "      <td>290</td>\n",
       "      <td>50</td>\n",
       "      <td>5</td>\n",
       "      <td>880473582</td>\n",
       "      <td>Star Wars (1977)</td>\n",
       "    </tr>\n",
       "    <tr>\n",
       "      <th>2</th>\n",
       "      <td>79</td>\n",
       "      <td>50</td>\n",
       "      <td>4</td>\n",
       "      <td>891271545</td>\n",
       "      <td>Star Wars (1977)</td>\n",
       "    </tr>\n",
       "    <tr>\n",
       "      <th>3</th>\n",
       "      <td>2</td>\n",
       "      <td>50</td>\n",
       "      <td>5</td>\n",
       "      <td>888552084</td>\n",
       "      <td>Star Wars (1977)</td>\n",
       "    </tr>\n",
       "    <tr>\n",
       "      <th>4</th>\n",
       "      <td>8</td>\n",
       "      <td>50</td>\n",
       "      <td>5</td>\n",
       "      <td>879362124</td>\n",
       "      <td>Star Wars (1977)</td>\n",
       "    </tr>\n",
       "  </tbody>\n",
       "</table>\n",
       "</div>"
      ],
      "text/plain": [
       "   user_id  item_id  rating  timestamp             title\n",
       "0        0       50       5  881250949  Star Wars (1977)\n",
       "1      290       50       5  880473582  Star Wars (1977)\n",
       "2       79       50       4  891271545  Star Wars (1977)\n",
       "3        2       50       5  888552084  Star Wars (1977)\n",
       "4        8       50       5  879362124  Star Wars (1977)"
      ]
     },
     "execution_count": 20,
     "metadata": {},
     "output_type": "execute_result"
    }
   ],
   "source": [
    "df.head()"
   ]
  },
  {
   "cell_type": "code",
   "execution_count": 21,
   "metadata": {
    "Collapsed": "false"
   },
   "outputs": [
    {
     "name": "stdout",
     "output_type": "stream",
     "text": [
      "Num. of Users: 944\n",
      "Num of Movies: 1682\n"
     ]
    }
   ],
   "source": [
    "# Number of unique users and movies\n",
    "n_users = df.user_id.nunique()\n",
    "n_items = df.item_id.nunique()\n",
    "\n",
    "print('Num. of Users: '+ str(n_users))\n",
    "print('Num of Movies: '+str(n_items))"
   ]
  },
  {
   "cell_type": "markdown",
   "metadata": {
    "Collapsed": "false"
   },
   "source": [
    "## Train Test Split\n",
    "\n",
    "Recommendation Systems by their very nature are very difficult to evaluate, but we will still show you how to evaluate them in this tutorial. In order to do this, we'll split our data into two sets. However, we won't do our classic X_train,X_test,y_train,y_test split. Instead we can actually just segement the data into two sets of data:"
   ]
  },
  {
   "cell_type": "code",
   "execution_count": 22,
   "metadata": {
    "Collapsed": "false"
   },
   "outputs": [],
   "source": [
    "from sklearn.model_selection import train_test_split\n",
    "train_data, test_data = train_test_split(df, test_size=0.25)"
   ]
  },
  {
   "cell_type": "markdown",
   "metadata": {
    "Collapsed": "false"
   },
   "source": [
    "## Memory Based Collaborative Filtering"
   ]
  },
  {
   "cell_type": "markdown",
   "metadata": {
    "Collapsed": "false"
   },
   "source": [
    "**Memory-Based Collaborative Filtering**\n",
    "\n",
    "* Memory-Based Collaborative Filtering approaches can be divided into two main sections: user-item filtering and item-item filtering.\n",
    "\n",
    "* In both cases, you create a user-item matrix which built from the entire dataset.\n",
    "\n",
    "* Since we have split the data into testing and training we will need to create two \\[943 x 1682\\] matrices (all users by all movies). The training matrix contains 75% of the ratings and the testing matrix contains 25% of the ratings.\n",
    "\n",
    "* After you have built the user-item matrix you calculate the similarity and create a similarity matrix.\n",
    "\n",
    "**User-Item**\n",
    "\n",
    "* A user-item filtering will take a particular user, find users that are similar to that user based on similarity of ratings, and recommend items that those similar users liked.\n",
    "\n",
    "* User-Item Collaborative Filtering: “Users who are similar to you also liked …”\n",
    "\n",
    "* User-Item Collaborative Filtering the similarity values between users are measured by observing all the items that are rated by both users.\n",
    "\n",
    "**Item-Item**\n",
    "\n",
    "* Item-item filtering will take an item, find users who liked that item, and find other items that those users or similar users also liked.\n",
    "\n",
    "* It takes items and outputs other items as recommendations.\n",
    "\n",
    "* Item-Item Collaborative Filtering: “Users who liked this item also liked …” \n",
    "\n",
    "* Item-Item Collaborative Filtering similarity values between items are measured by observing all the users who have rated both items."
   ]
  },
  {
   "cell_type": "markdown",
   "metadata": {
    "Collapsed": "false"
   },
   "source": [
    "**Distance Metric**\n",
    "\n",
    "A distance metric commonly used in recommender systems is cosine similarity, where \n",
    "\n",
    "* the ratings are seen as vectors in n-dimensional space\n",
    "\n",
    "\n",
    "* the similarity is calculated based on the angle between these vectors. \n",
    "\n",
    "Cosine similiarity for users a and m can be calculated using the formula below, where you take\n",
    "\n",
    "* dot product of the user vector $u_k$ and the user vector $u_a$ \n",
    "\n",
    "* divide it by multiplication of the Euclidean lengths of the vectors."
   ]
  },
  {
   "cell_type": "markdown",
   "metadata": {
    "Collapsed": "false"
   },
   "source": [
    "![](data:image/gif;base64,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)"
   ]
  },
  {
   "cell_type": "markdown",
   "metadata": {},
   "source": [
    "A distance metric commonly used in recommender systems is *cosine similarity*, where the ratings are seen as vectors in ``n``-dimensional space and the similarity is calculated based on the angle between these vectors. \n",
    "Cosine similiarity for users *a* and *m* can be calculated using the formula below, where you take dot product of  the user vector *$u_k$* and the user vector *$u_a$* and divide it by multiplication of the Euclidean lengths of the vectors.\n",
    "<img class=\"aligncenter size-thumbnail img-responsive\" src=\"https://latex.codecogs.com/gif.latex?s_u^{cos}(u_k,u_a)=\\frac{u_k&space;\\cdot&space;u_a&space;}{&space;\\left&space;\\|&space;u_k&space;\\right&space;\\|&space;\\left&space;\\|&space;u_a&space;\\right&space;\\|&space;}&space;=\\frac{\\sum&space;x_{k,m}x_{a,m}}{\\sqrt{\\sum&space;x_{k,m}^2\\sum&space;x_{a,m}^2}}\"/>\n",
    "\n",
    "To calculate similarity between items *m* and *b* you use the formula:\n",
    "\n",
    "<img class=\"aligncenter size-thumbnail img-responsive\" src=\"https://latex.codecogs.com/gif.latex?s_u^{cos}(i_m,i_b)=\\frac{i_m&space;\\cdot&space;i_b&space;}{&space;\\left&space;\\|&space;i_m&space;\\right&space;\\|&space;\\left&space;\\|&space;i_b&space;\\right&space;\\|&space;}&space;=\\frac{\\sum&space;x_{a,m}x_{a,b}}{\\sqrt{\\sum&space;x_{a,m}^2\\sum&space;x_{a,b}^2}}\n",
    "\"/>\n",
    "\n",
    "Your first step will be to create the user-item matrix. Since you have both testing and training data you need to create two matrices.  "
   ]
  },
  {
   "cell_type": "code",
   "execution_count": 34,
   "metadata": {
    "Collapsed": "false"
   },
   "outputs": [
    {
     "data": {
      "text/plain": [
       "array([[5., 3., 4., ..., 0., 0., 0.],\n",
       "       [4., 0., 0., ..., 0., 0., 0.],\n",
       "       [0., 0., 0., ..., 0., 0., 0.],\n",
       "       ...,\n",
       "       [0., 0., 0., ..., 0., 0., 0.],\n",
       "       [0., 5., 0., ..., 0., 0., 0.],\n",
       "       [0., 0., 0., ..., 0., 0., 0.]])"
      ]
     },
     "execution_count": 34,
     "metadata": {},
     "output_type": "execute_result"
    }
   ],
   "source": [
    "train_data_matrix"
   ]
  },
  {
   "cell_type": "code",
   "execution_count": 23,
   "metadata": {
    "Collapsed": "false"
   },
   "outputs": [],
   "source": [
    "# First step is to treate two user-item matrices, one for training and another for testing\n",
    "\n",
    "train_data_matrix = np.zeros((n_users, n_items))\n",
    "for line in train_data.itertuples():\n",
    "    train_data_matrix[line[1]-1, line[2]-1] = line[3]  \n",
    "\n",
    "test_data_matrix = np.zeros((n_users, n_items))\n",
    "for line in test_data.itertuples():\n",
    "    test_data_matrix[line[1]-1, line[2]-1] = line[3]\n",
    "    \n",
    "# I do not understand how the user-item matrice is built from this loop\n",
    "# I would like to discuss the output\n"
   ]
  },
  {
   "cell_type": "code",
   "execution_count": 24,
   "metadata": {
    "Collapsed": "false"
   },
   "outputs": [],
   "source": [
    "\n",
    "from sklearn.metrics.pairwise import pairwise_distances\n",
    "user_similarity = pairwise_distances(train_data_matrix, metric='cosine')\n",
    "item_similarity = pairwise_distances(train_data_matrix.T, metric='cosine')\n",
    "\n",
    "# Does it create the item-item and user-item similarity tables?\n",
    "# I would like to discuss the output here"
   ]
  },
  {
   "cell_type": "code",
   "execution_count": 33,
   "metadata": {
    "Collapsed": "false"
   },
   "outputs": [
    {
     "data": {
      "text/plain": [
       "array([[0.        , 0.90072373, 0.94802899, ..., 0.88146474, 0.71444285,\n",
       "        0.92892188],\n",
       "       [0.90072373, 0.        , 0.95760323, ..., 0.92913176, 0.94731251,\n",
       "        1.        ],\n",
       "       [0.94802899, 0.95760323, 0.        , ..., 0.87741979, 0.98603324,\n",
       "        1.        ],\n",
       "       ...,\n",
       "       [0.88146474, 0.92913176, 0.87741979, ..., 0.        , 0.84377558,\n",
       "        1.        ],\n",
       "       [0.71444285, 0.94731251, 0.98603324, ..., 0.84377558, 0.        ,\n",
       "        1.        ],\n",
       "       [0.92892188, 1.        , 1.        , ..., 1.        , 1.        ,\n",
       "        0.        ]])"
      ]
     },
     "execution_count": 33,
     "metadata": {},
     "output_type": "execute_result"
    }
   ],
   "source": [
    "user_similarity"
   ]
  },
  {
   "cell_type": "markdown",
   "metadata": {
    "Collapsed": "false"
   },
   "source": [
    "You can use the `pairwise_distances` function from sklearn to calculate the cosine similarity. Note, the output will range from 0 to 1 since the ratings are all positive."
   ]
  },
  {
   "cell_type": "markdown",
   "metadata": {
    "Collapsed": "false"
   },
   "source": [
    "\n",
    "**Next step is to make predictions**\n",
    "\n",
    " You have already created similarity matrices: user_similarity and item_similarity and therefore you can make a prediction by applying following formula for user-based CF:"
   ]
  },
  {
   "cell_type": "markdown",
   "metadata": {
    "Collapsed": "false"
   },
   "source": [
    ".![](data:image/gif;base64,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)"
   ]
  },
  {
   "cell_type": "markdown",
   "metadata": {
    "Collapsed": "false"
   },
   "source": [
    "You can look at the similarity between users k and a as weights that are multiplied by the ratings of a similar user a (corrected for the average rating of that user).\n",
    "\n",
    "You will need to normalize it so that the ratings stay between 1 and 5 and, as a final step, sum the average ratings for the user that you are trying to predict.\n",
    "\n",
    "The idea here is that some users may tend always to give high or low ratings to all movies.  \n",
    "\n",
    "* The relative difference in the ratings that these users give is more important than the absolute values. \n",
    "\n",
    "* To give an example: suppose, user k gives 4 stars to his favourite movies and 3 stars to all other good movies. \n",
    "\n",
    "* Suppose now that another user t rates movies that he/she likes with 5 stars, and the movies he/she fell asleep over with 3 stars. \n",
    "\n",
    "* These two users could have a very similar taste but treat the rating system differently.\n",
    "\n",
    "When making a prediction for item-based CF you don't need to correct for users average rating since query user itself is used to do predictions.\n",
    "\n",
    "![](data:image/gif;base64,R0lGODlh0wBHALMAAP///wAAAO7u7kRERGZmZtzc3IiIiJiYmLq6uqqqqszMzCIiIlRUVDIyMnZ2dhAQECH5BAEAAAAALAAAAADTAEcAAAT+EMhJq7046/pCG2A4NF0QLFuqZoKxvpuLtbAq13iuJYHDJouAQkecMIo5AQFzRFqUzmiNEEDElisEKmqwUrROMCZxsHSlFTJ6vVk8BBvfquB1Nix0Zz5zr/TZEn+AgxIFHhtwhBlqihoOCRSMg4+NhDxylTADBZkYCE0Sm4qfnYAMVTUHqgecCglYAAcGBwKqDAoCCQm3Gg8VrrA6wCm+E8Vfr3QHBIk5x6Vobs0pjA60kA9DdAoPZQAJDZDfAxpbErkA2UTo6hoBFOYSrgAKA2ULdTjv0GsKAeQrHDQYAseKIQmQDphTOMEAqG/eABQQZHCfjooTGFp4U0gQABn+/uB4EzDghgWNFDjyQ+MAoIoCQR6IA+AgGAFMDG6UzKDAI81gOmpOUPBwwoJEPTE4tMAg36+iAI6ulDIRRwEHFttJeFCnnYAAnGbE2zoEidZZF44JGDsh3EYNaDlMlSJqhdutCFF4OVjI4oE7Xg4UffZNL4AWDhAkO5AA0xjDAAZYA/qMcMVEMtYCQHCgLAXJy1LOddIUBigEMhz48PY3o0sCLsrcm9ZgmupYuIV8BGiuAINpNFdvhcOrkEsAtTOiUCgy7CsEBQzMNEa8bIHjo3FY21BgGgLFkhQ8whyRkgQE5iV6lE5BfAKkAEtrltft13h6AAfUUUWBfaFHdDz+4hkBDTg1VH6BRZRdDa+kABUb21HgG1wySNVgJBocIIdKkU0zoQoL1DNdRhsmMgBwC76E3ROSVXKUgh1mwMt8TSk4YgWofYPJh5+h+AQKyVh3nguNFfJgihoIkNwFAqBnQliKEMBKBQUA9Zk8chhggGc3WiClSczgYaUF4h0G2wQ7AfDlBGEi+cIAJsQp55xsQaMYEV1u0JknearQ5Z5uBooGlJ0QiocOTV5gqKCMNspPn45GKumklE4gSaWYZqrpppx26umnmAoG6qik4iaVAyaVqiqlVcUC6aqwIhlhm7F+SpKPgr4YVQIGLForpgRUSamU3R1R5q+bZgZjpAr+uJAYstAGKt2y0VZr7bUXJcMZrdh2C8g89dxjBUmp6kAAA+imq65j3pYKUgAiGWEgNHPWa++9+Oar77789uvvvwDj2x9UhLVrcBF3TaAZZ54dZkBiixV58MSbSQSvBDI8F910ZehmAG8YnKvuyOxSzClDzMUSFoHz4ieBfHWW0sEHIoBAQpx1jtkIDfyUq6ZVAKKXgGchDtCllhJYqHMnl/wQRMOhrHTkzlauWIRmQUpkBEFb1JgdFS03VLUKYiBxxhcx11C2BZdG1o8PSsiQJkDHagn1StLEYYHVeIQNg097IBH4BR7xzcarKRriUwUoGg5I2/yk53YliVLatCb+0NQ1FyloZoK4m6f4vXcFq0w5jASy0GILLroUl9YvFxZxei9XmmxB3iscV8016WiDADfegCNOAobHw87dMBy/gUWT297eP29SIBBBFfOV0ELmLGWpN62eZzESGKFeJ4eOT9xS9BPAFIBMEwjFJk46+UyPT+4jUT9RF0gVtfMSLp7BilfJSsO4YoyyfMVXh2GLVopwFmo9o3wG05wKXJKwYgChYt/rS0YAg7qHEOaC43qYYoLFmJKxDTKgoUzt+AeA0mDuZRPIUXBwE4s/HOA1sTFVM5YkgdvIBgAeA1n6flMBHw6nhZ65zgqdF6EMdKcCLvmOLiLiHvK0byZCS5/CIPyDpffIIz7jigfw7OPFeoRiPwqCILZiJ6PREaKJEpnaRyoEBzYiJEMlQtM01GgtJSapRVBUhK70KCOuvYwzadBAjiQWx0DaTkm4ahJWwOLGQRBLQkujW5a2hKENrIlNwOFjtODErzqJUgp3whMOALVEFtYAeZVAoCJ8BUtX2vKWuMwlDiCny1768pfA9KWogonL2dBEfsQ8WKsYk0wWzgpXzWyXrhbAK1lG81rEEoCxTHjNdjWLJqLr5rWmJU4NRAAAOw==)"
   ]
  },
  {
   "cell_type": "code",
   "execution_count": 25,
   "metadata": {
    "Collapsed": "false"
   },
   "outputs": [],
   "source": [
    "def predict(ratings, similarity, type='user'):\n",
    "    if type == 'user':\n",
    "        mean_user_rating = ratings.mean(axis=1)\n",
    "        \n",
    "        #You use np.newaxis so that mean_user_rating has same format as ratings\n",
    "        ratings_diff = (ratings - mean_user_rating[:, np.newaxis]) \n",
    "        pred = mean_user_rating[:, np.newaxis] + similarity.dot(ratings_diff) / np.array([np.abs(similarity).sum(axis=1)]).T\n",
    "    \n",
    "    elif type == 'item':\n",
    "        pred = ratings.dot(similarity) / np.array([np.abs(similarity).sum(axis=1)])     \n",
    "    \n",
    "    return pred\n",
    "\n",
    "# I do not understand what the code is actually doing here, I would like to discuss this"
   ]
  },
  {
   "cell_type": "code",
   "execution_count": 26,
   "metadata": {
    "Collapsed": "false"
   },
   "outputs": [],
   "source": [
    "item_prediction = predict(train_data_matrix, item_similarity, type='item')\n",
    "user_prediction = predict(train_data_matrix, user_similarity, type='user')"
   ]
  },
  {
   "cell_type": "markdown",
   "metadata": {},
   "source": [
    "Next step is to make predictions. You have already created similarity matrices: `user_similarity` and `item_similarity` and therefore you can make a prediction by applying following formula for user-based CF:\n",
    "\n",
    "<img class=\"aligncenter size-thumbnail img-responsive\" src=\"https://latex.codecogs.com/gif.latex?\\hat{x}_{k,m}&space;=&space;\\bar{x}_{k}&space;&plus;&space;\\frac{\\sum\\limits_{u_a}&space;sim_u(u_k,&space;u_a)&space;(x_{a,m}&space;-&space;\\bar{x_{u_a}})}{\\sum\\limits_{u_a}|sim_u(u_k,&space;u_a)|}\"/>\n",
    "\n",
    "You can look at the similarity between users *k* and *a* as weights that are multiplied by the ratings of a similar user *a* (corrected for the average rating of that user). You will need to normalize it so that the ratings stay between 1 and 5 and, as a final step, sum the average ratings for the user that you are trying to predict. \n",
    "\n",
    "The idea here is that some users may tend always to give high or low ratings to all movies. The relative difference in the ratings that these users give is more important than the absolute values. To give an example: suppose, user *k* gives 4 stars to his favourite movies and 3 stars to all other good movies. Suppose now that another user *t* rates movies that he/she likes with 5 stars, and the movies he/she fell asleep over with 3 stars. These two users could have a very similar taste but treat the rating system differently. \n",
    "\n",
    "When making a prediction for item-based CF you don't need to correct for users average rating since query user itself is used to do predictions.\n",
    "\n",
    "<img class=\"aligncenter size-thumbnail img-responsive\" src=\"https://latex.codecogs.com/gif.latex?\\hat{x}_{k,m}&space;=&space;\\frac{\\sum\\limits_{i_b}&space;sim_i(i_m,&space;i_b)&space;(x_{k,b})&space;}{\\sum\\limits_{i_b}|sim_i(i_m,&space;i_b)|}\"/>"
   ]
  },
  {
   "cell_type": "code",
   "execution_count": 27,
   "metadata": {
    "Collapsed": "false"
   },
   "outputs": [],
   "source": [
    "from sklearn.metrics import mean_squared_error\n",
    "from math import sqrt\n",
    "def rmse(prediction, ground_truth):\n",
    "    prediction = prediction[ground_truth.nonzero()].flatten() \n",
    "    ground_truth = ground_truth[ground_truth.nonzero()].flatten()\n",
    "    return sqrt(mean_squared_error(prediction, ground_truth))"
   ]
  },
  {
   "cell_type": "code",
   "execution_count": 35,
   "metadata": {
    "Collapsed": "false"
   },
   "outputs": [
    {
     "data": {
      "text/plain": [
       "array([[3.81302345e-01, 3.94858242e-01, 4.14869656e-01, ...,\n",
       "        4.68788922e-01, 4.58742373e-01, 4.51989343e-01],\n",
       "       [7.64117373e-02, 8.98348412e-02, 8.75297608e-02, ...,\n",
       "        9.02172594e-02, 9.21380752e-02, 9.23465212e-02],\n",
       "       [7.15554159e-02, 7.57197141e-02, 7.36519764e-02, ...,\n",
       "        7.12172203e-02, 7.40170454e-02, 7.51960739e-02],\n",
       "       ...,\n",
       "       [1.31870883e-01, 1.42393515e-01, 1.49644620e-01, ...,\n",
       "        1.55843296e-01, 1.54267932e-01, 1.55288326e-01],\n",
       "       [2.06052053e-01, 1.98850454e-01, 2.24542410e-01, ...,\n",
       "        2.61094966e-01, 2.51735569e-01, 2.51286139e-01],\n",
       "       [4.65171222e-04, 5.85545039e-04, 5.75648749e-04, ...,\n",
       "        6.00218312e-04, 5.78979657e-04, 6.04749506e-04]])"
      ]
     },
     "execution_count": 35,
     "metadata": {},
     "output_type": "execute_result"
    }
   ],
   "source": [
    "item_prediction"
   ]
  },
  {
   "cell_type": "code",
   "execution_count": null,
   "metadata": {
    "Collapsed": "false"
   },
   "outputs": [],
   "source": [
    "# Is this RMSE good, or bad?\n",
    "# Why not using cross validation?\n",
    "# Is there a way to optimise? "
   ]
  },
  {
   "cell_type": "markdown",
   "metadata": {
    "Collapsed": "false"
   },
   "source": [
    "**Evaluation**\n",
    "There are many evaluation metrics but one of the most popular metric used to evaluate accuracy of predicted ratings is Root Mean Squared Error (RMSE).\n",
    "\n",
    "You can use the mean_square_error (MSE) function from sklearn, where the RMSE is just the square root of MSE. \n",
    "\n",
    "Since you only want to consider predicted ratings that are in the test dataset, you filter out all other elements in the prediction matrix with prediction\\[ground_truth.nonzero()\\]."
   ]
  },
  {
   "cell_type": "markdown",
   "metadata": {
    "Collapsed": "false"
   },
   "source": [
    "Memory-based algorithms are easy to implement and produce reasonable prediction quality. \n",
    "\n",
    "The drawback of memory-based CF is that it doesn't scale to real-world scenarios and doesn't address the well-known cold-start problem, that is when new user or new item enters the system. \n",
    "\n",
    "Model-based CF methods are scalable and can deal with higher sparsity level than memory-based models, but also suffer when new users or items that don't have any ratings enter the system. "
   ]
  },
  {
   "cell_type": "code",
   "execution_count": 29,
   "metadata": {
    "Collapsed": "false"
   },
   "outputs": [
    {
     "name": "stdout",
     "output_type": "stream",
     "text": [
      "User-based CF RMSE: 3.1236047341576834\n",
      "Item-based CF RMSE: 3.4484949312272977\n"
     ]
    }
   ],
   "source": [
    "print('User-based CF RMSE: ' + str(rmse(user_prediction, test_data_matrix)))\n",
    "print('Item-based CF RMSE: ' + str(rmse(item_prediction, test_data_matrix)))"
   ]
  },
  {
   "cell_type": "code",
   "execution_count": 32,
   "metadata": {
    "Collapsed": "false"
   },
   "outputs": [
    {
     "name": "stdout",
     "output_type": "stream",
     "text": [
      "The sparsity level of MovieLens100K is 93.7%\n"
     ]
    }
   ],
   "source": [
    "sparsity=round(1.0-len(df)/float(n_users*n_items),3)\n",
    "print('The sparsity level of MovieLens100K is ' +  str(sparsity*100) + '%')"
   ]
  },
  {
   "cell_type": "code",
   "execution_count": null,
   "metadata": {
    "Collapsed": "false"
   },
   "outputs": [],
   "source": [
    "# Waht does sparsity of 93.7% represents, in plain terms?"
   ]
  },
  {
   "cell_type": "markdown",
   "metadata": {
    "Collapsed": "false"
   },
   "source": [
    "To give an example of the learned latent preferences of the users and items:\n",
    "\n",
    "* let's say for the MovieLens dataset you have the following information: (user id, age, location, gender, movie id, director, actor, language, year, rating). \n",
    "\n",
    "* By applying matrix factorization the model learns that important user features are age group (under 10, 10-18, 18-30, 30-90), location and gender, and for movie features it learns that decade, director and actor are most important. \n",
    "\n",
    "* Now if you look into the information you have stored, there is no such feature as the decade, but the model can learn on its own. \n",
    "\n",
    "* The important aspect is that the CF model only uses data (user_id, movie_id, rating) to learn the latent features. \n",
    "\n",
    "* If there is little data available model-based CF model will predict poorly, since it will be more difficult to learn the latent features. \n",
    "\n",
    "Models that use both ratings and content features are called **Hybrid Recommender Systems** where both Collaborative Filtering and Content-based Models are combined. Hybrid recommender systems usually show higher accuracy than Collaborative Filtering or Content-based Models on their own: they are capable to address the cold-start problem better since if you don't have any ratings for a user or an item you could use the metadata from the user or item to make a prediction."
   ]
  },
  {
   "cell_type": "markdown",
   "metadata": {
    "Collapsed": "false"
   },
   "source": [
    "## Model-based Collaborative Filtering\n",
    "\n",
    "Model-based Collaborative Filtering is based on **matrix factorization (MF)** which has received greater exposure, mainly as an unsupervised learning method for latent variable decomposition and dimensionality reduction. \n",
    "\n",
    "Matrix factorization is widely used for recommender systems where it can deal better with scalability and sparsity than Memory-based CF. \n",
    "\n",
    "The goal of MF is to learn the latent preferences of users and the latent attributes of items from known ratings (learn features that describe the characteristics of ratings) to then predict the unknown ratings through the dot product of the latent features of users and items.\n",
    "When you have a very sparse matrix, with a lot of dimensions, by doing matrix factorization you can restructure the  user-item matrix into low-rank structure, and you can represent the matrix by the multiplication of two low-rank matrices, where the rows contain the latent vector. You fit this matrix to approximate your original matrix, as closely as possible, by multiplying the low-rank matrices together, which fills in the entries missing in the original matrix."
   ]
  },
  {
   "cell_type": "code",
   "execution_count": 36,
   "metadata": {
    "Collapsed": "false"
   },
   "outputs": [
    {
     "name": "stdout",
     "output_type": "stream",
     "text": [
      "User-based CF MSE: 2.7247411273175683\n"
     ]
    }
   ],
   "source": [
    "import scipy.sparse as sp\n",
    "from scipy.sparse.linalg import svds\n",
    "\n",
    "#get SVD components from train matrix. Choose k.\n",
    "u, s, vt = svds(train_data_matrix, k = 20)\n",
    "s_diag_matrix=np.diag(s)\n",
    "X_pred = np.dot(np.dot(u, s_diag_matrix), vt)\n",
    "print('User-based CF MSE: ' + str(rmse(X_pred, test_data_matrix)))"
   ]
  },
  {
   "cell_type": "code",
   "execution_count": null,
   "metadata": {
    "Collapsed": "false"
   },
   "outputs": [],
   "source": [
    "# Is this MSE good or bad?\n",
    "# # Why not using cross validation?\n",
    "# Is there a way to optimise? "
   ]
  },
  {
   "cell_type": "markdown",
   "metadata": {
    "Collapsed": "false"
   },
   "source": [
    "To give an example of the learned latent preferences of the users and items: \n",
    "\n",
    "* let's say for the MovieLens dataset you have the following information: *(user id, age, location, gender, movie id, director, actor, language, year, rating)*. \n",
    "\n",
    "* By applying matrix factorization the model learns that important user features are *age group (under 10, 10-18, 18-30, 30-90)*, *location* and *gender*, and for movie features it learns that *decade*, *director* and *actor* are most important. \n",
    "\n",
    "* Now if you look into the information you have stored, there is no such feature as the *decade*, but the model can learn on its own.\n",
    "\n",
    "*  The important aspect is that the CF model only uses data (user_id, movie_id, rating) to learn the latent features. If there is little data available model-based CF model will predict poorly, since it will be more difficult to learn the latent features.\n",
    "\n",
    "Models that use both ratings and content features are called **Hybrid Recommender Systems** where both Collaborative Filtering and Content-based Models are combined. Hybrid recommender systems usually show higher accuracy than Collaborative Filtering or Content-based Models on their own: they are capable to address the cold-start problem better since if you don't have any ratings for a user or an item you could use the metadata from the user or item to make a prediction."
   ]
  },
  {
   "cell_type": "code",
   "execution_count": 30,
   "metadata": {
    "Collapsed": "false"
   },
   "outputs": [
    {
     "data": {
      "text/html": [
       "<div>\n",
       "<style scoped>\n",
       "    .dataframe tbody tr th:only-of-type {\n",
       "        vertical-align: middle;\n",
       "    }\n",
       "\n",
       "    .dataframe tbody tr th {\n",
       "        vertical-align: top;\n",
       "    }\n",
       "\n",
       "    .dataframe thead th {\n",
       "        text-align: right;\n",
       "    }\n",
       "</style>\n",
       "<table border=\"1\" class=\"dataframe\">\n",
       "  <thead>\n",
       "    <tr style=\"text-align: right;\">\n",
       "      <th></th>\n",
       "      <th>0</th>\n",
       "      <th>1</th>\n",
       "      <th>2</th>\n",
       "      <th>3</th>\n",
       "      <th>4</th>\n",
       "      <th>5</th>\n",
       "      <th>6</th>\n",
       "      <th>7</th>\n",
       "      <th>8</th>\n",
       "      <th>9</th>\n",
       "      <th>...</th>\n",
       "      <th>1672</th>\n",
       "      <th>1673</th>\n",
       "      <th>1674</th>\n",
       "      <th>1675</th>\n",
       "      <th>1676</th>\n",
       "      <th>1677</th>\n",
       "      <th>1678</th>\n",
       "      <th>1679</th>\n",
       "      <th>1680</th>\n",
       "      <th>1681</th>\n",
       "    </tr>\n",
       "  </thead>\n",
       "  <tbody>\n",
       "    <tr>\n",
       "      <th>0</th>\n",
       "      <td>3.230712</td>\n",
       "      <td>2.375432</td>\n",
       "      <td>0.891315</td>\n",
       "      <td>2.375205</td>\n",
       "      <td>1.313561</td>\n",
       "      <td>0.438484</td>\n",
       "      <td>2.566083</td>\n",
       "      <td>1.744897</td>\n",
       "      <td>1.842289</td>\n",
       "      <td>1.398620</td>\n",
       "      <td>...</td>\n",
       "      <td>-0.011657</td>\n",
       "      <td>-0.040112</td>\n",
       "      <td>0.010024</td>\n",
       "      <td>0.0</td>\n",
       "      <td>0.008049</td>\n",
       "      <td>-0.001315</td>\n",
       "      <td>-0.003944</td>\n",
       "      <td>-0.002630</td>\n",
       "      <td>0.038494</td>\n",
       "      <td>0.063294</td>\n",
       "    </tr>\n",
       "    <tr>\n",
       "      <th>1</th>\n",
       "      <td>1.114967</td>\n",
       "      <td>0.036837</td>\n",
       "      <td>-0.086646</td>\n",
       "      <td>0.229728</td>\n",
       "      <td>0.122984</td>\n",
       "      <td>0.269162</td>\n",
       "      <td>0.902723</td>\n",
       "      <td>0.376317</td>\n",
       "      <td>2.081002</td>\n",
       "      <td>0.759860</td>\n",
       "      <td>...</td>\n",
       "      <td>-0.015728</td>\n",
       "      <td>-0.023565</td>\n",
       "      <td>0.002540</td>\n",
       "      <td>0.0</td>\n",
       "      <td>-0.000122</td>\n",
       "      <td>0.004081</td>\n",
       "      <td>0.012244</td>\n",
       "      <td>0.008163</td>\n",
       "      <td>0.000427</td>\n",
       "      <td>-0.012987</td>\n",
       "    </tr>\n",
       "    <tr>\n",
       "      <th>2</th>\n",
       "      <td>0.061387</td>\n",
       "      <td>0.032284</td>\n",
       "      <td>0.136390</td>\n",
       "      <td>-0.262878</td>\n",
       "      <td>0.039173</td>\n",
       "      <td>-0.004844</td>\n",
       "      <td>-0.111034</td>\n",
       "      <td>0.155961</td>\n",
       "      <td>0.072452</td>\n",
       "      <td>-0.099547</td>\n",
       "      <td>...</td>\n",
       "      <td>0.004306</td>\n",
       "      <td>-0.008752</td>\n",
       "      <td>0.024600</td>\n",
       "      <td>0.0</td>\n",
       "      <td>0.000857</td>\n",
       "      <td>0.010938</td>\n",
       "      <td>0.032814</td>\n",
       "      <td>0.021876</td>\n",
       "      <td>0.002344</td>\n",
       "      <td>-0.007188</td>\n",
       "    </tr>\n",
       "    <tr>\n",
       "      <th>3</th>\n",
       "      <td>0.003655</td>\n",
       "      <td>-0.023310</td>\n",
       "      <td>0.092387</td>\n",
       "      <td>-0.057291</td>\n",
       "      <td>0.208103</td>\n",
       "      <td>-0.023728</td>\n",
       "      <td>0.124681</td>\n",
       "      <td>0.105741</td>\n",
       "      <td>0.214916</td>\n",
       "      <td>-0.130348</td>\n",
       "      <td>...</td>\n",
       "      <td>0.003952</td>\n",
       "      <td>-0.002170</td>\n",
       "      <td>0.014350</td>\n",
       "      <td>0.0</td>\n",
       "      <td>0.006392</td>\n",
       "      <td>0.003682</td>\n",
       "      <td>0.011045</td>\n",
       "      <td>0.007364</td>\n",
       "      <td>0.003162</td>\n",
       "      <td>0.004604</td>\n",
       "    </tr>\n",
       "    <tr>\n",
       "      <th>4</th>\n",
       "      <td>2.715665</td>\n",
       "      <td>0.961968</td>\n",
       "      <td>0.412212</td>\n",
       "      <td>1.084314</td>\n",
       "      <td>-0.015904</td>\n",
       "      <td>-0.065819</td>\n",
       "      <td>2.781919</td>\n",
       "      <td>0.622504</td>\n",
       "      <td>-0.477134</td>\n",
       "      <td>0.415339</td>\n",
       "      <td>...</td>\n",
       "      <td>-0.008130</td>\n",
       "      <td>-0.002368</td>\n",
       "      <td>-0.036524</td>\n",
       "      <td>0.0</td>\n",
       "      <td>-0.016653</td>\n",
       "      <td>-0.002157</td>\n",
       "      <td>-0.006472</td>\n",
       "      <td>-0.004314</td>\n",
       "      <td>-0.016252</td>\n",
       "      <td>-0.024559</td>\n",
       "    </tr>\n",
       "    <tr>\n",
       "      <th>...</th>\n",
       "      <td>...</td>\n",
       "      <td>...</td>\n",
       "      <td>...</td>\n",
       "      <td>...</td>\n",
       "      <td>...</td>\n",
       "      <td>...</td>\n",
       "      <td>...</td>\n",
       "      <td>...</td>\n",
       "      <td>...</td>\n",
       "      <td>...</td>\n",
       "      <td>...</td>\n",
       "      <td>...</td>\n",
       "      <td>...</td>\n",
       "      <td>...</td>\n",
       "      <td>...</td>\n",
       "      <td>...</td>\n",
       "      <td>...</td>\n",
       "      <td>...</td>\n",
       "      <td>...</td>\n",
       "      <td>...</td>\n",
       "      <td>...</td>\n",
       "    </tr>\n",
       "    <tr>\n",
       "      <th>939</th>\n",
       "      <td>0.388624</td>\n",
       "      <td>-0.115691</td>\n",
       "      <td>-0.286166</td>\n",
       "      <td>1.105597</td>\n",
       "      <td>0.010944</td>\n",
       "      <td>-0.003725</td>\n",
       "      <td>2.041706</td>\n",
       "      <td>0.870204</td>\n",
       "      <td>0.639362</td>\n",
       "      <td>0.434283</td>\n",
       "      <td>...</td>\n",
       "      <td>-0.007296</td>\n",
       "      <td>0.037543</td>\n",
       "      <td>-0.008931</td>\n",
       "      <td>0.0</td>\n",
       "      <td>0.001369</td>\n",
       "      <td>0.004672</td>\n",
       "      <td>0.014017</td>\n",
       "      <td>0.009345</td>\n",
       "      <td>-0.017063</td>\n",
       "      <td>-0.033289</td>\n",
       "    </tr>\n",
       "    <tr>\n",
       "      <th>940</th>\n",
       "      <td>1.742362</td>\n",
       "      <td>-0.022806</td>\n",
       "      <td>0.342915</td>\n",
       "      <td>-0.307329</td>\n",
       "      <td>-0.105786</td>\n",
       "      <td>0.004157</td>\n",
       "      <td>1.372226</td>\n",
       "      <td>-0.151767</td>\n",
       "      <td>0.114192</td>\n",
       "      <td>0.109823</td>\n",
       "      <td>...</td>\n",
       "      <td>0.004255</td>\n",
       "      <td>-0.004464</td>\n",
       "      <td>-0.011387</td>\n",
       "      <td>0.0</td>\n",
       "      <td>0.007523</td>\n",
       "      <td>0.000772</td>\n",
       "      <td>0.002316</td>\n",
       "      <td>0.001544</td>\n",
       "      <td>0.000640</td>\n",
       "      <td>0.008973</td>\n",
       "    </tr>\n",
       "    <tr>\n",
       "      <th>941</th>\n",
       "      <td>0.767309</td>\n",
       "      <td>0.060450</td>\n",
       "      <td>-0.408717</td>\n",
       "      <td>-0.068995</td>\n",
       "      <td>-0.059803</td>\n",
       "      <td>-0.035725</td>\n",
       "      <td>-0.172226</td>\n",
       "      <td>0.817913</td>\n",
       "      <td>0.526065</td>\n",
       "      <td>0.108650</td>\n",
       "      <td>...</td>\n",
       "      <td>0.012919</td>\n",
       "      <td>0.007275</td>\n",
       "      <td>0.003782</td>\n",
       "      <td>0.0</td>\n",
       "      <td>-0.016946</td>\n",
       "      <td>0.004818</td>\n",
       "      <td>0.014455</td>\n",
       "      <td>0.009637</td>\n",
       "      <td>0.022056</td>\n",
       "      <td>-0.033208</td>\n",
       "    </tr>\n",
       "    <tr>\n",
       "      <th>942</th>\n",
       "      <td>1.805026</td>\n",
       "      <td>1.799274</td>\n",
       "      <td>0.703254</td>\n",
       "      <td>1.943325</td>\n",
       "      <td>1.055025</td>\n",
       "      <td>0.128118</td>\n",
       "      <td>1.168231</td>\n",
       "      <td>0.610914</td>\n",
       "      <td>1.865178</td>\n",
       "      <td>-0.460445</td>\n",
       "      <td>...</td>\n",
       "      <td>0.009059</td>\n",
       "      <td>-0.071924</td>\n",
       "      <td>-0.002916</td>\n",
       "      <td>0.0</td>\n",
       "      <td>-0.027094</td>\n",
       "      <td>-0.004629</td>\n",
       "      <td>-0.013888</td>\n",
       "      <td>-0.009259</td>\n",
       "      <td>0.040697</td>\n",
       "      <td>0.006687</td>\n",
       "    </tr>\n",
       "    <tr>\n",
       "      <th>943</th>\n",
       "      <td>0.571313</td>\n",
       "      <td>0.052877</td>\n",
       "      <td>0.098017</td>\n",
       "      <td>-0.193663</td>\n",
       "      <td>0.057332</td>\n",
       "      <td>0.008138</td>\n",
       "      <td>0.234887</td>\n",
       "      <td>0.041205</td>\n",
       "      <td>-0.089034</td>\n",
       "      <td>-0.037524</td>\n",
       "      <td>...</td>\n",
       "      <td>-0.005237</td>\n",
       "      <td>-0.003527</td>\n",
       "      <td>-0.005029</td>\n",
       "      <td>0.0</td>\n",
       "      <td>-0.005351</td>\n",
       "      <td>-0.000322</td>\n",
       "      <td>-0.000967</td>\n",
       "      <td>-0.000645</td>\n",
       "      <td>0.000478</td>\n",
       "      <td>0.006535</td>\n",
       "    </tr>\n",
       "  </tbody>\n",
       "</table>\n",
       "<p>944 rows × 1682 columns</p>\n",
       "</div>"
      ],
      "text/plain": [
       "         0         1         2         3         4         5         6     \\\n",
       "0    3.230712  2.375432  0.891315  2.375205  1.313561  0.438484  2.566083   \n",
       "1    1.114967  0.036837 -0.086646  0.229728  0.122984  0.269162  0.902723   \n",
       "2    0.061387  0.032284  0.136390 -0.262878  0.039173 -0.004844 -0.111034   \n",
       "3    0.003655 -0.023310  0.092387 -0.057291  0.208103 -0.023728  0.124681   \n",
       "4    2.715665  0.961968  0.412212  1.084314 -0.015904 -0.065819  2.781919   \n",
       "..        ...       ...       ...       ...       ...       ...       ...   \n",
       "939  0.388624 -0.115691 -0.286166  1.105597  0.010944 -0.003725  2.041706   \n",
       "940  1.742362 -0.022806  0.342915 -0.307329 -0.105786  0.004157  1.372226   \n",
       "941  0.767309  0.060450 -0.408717 -0.068995 -0.059803 -0.035725 -0.172226   \n",
       "942  1.805026  1.799274  0.703254  1.943325  1.055025  0.128118  1.168231   \n",
       "943  0.571313  0.052877  0.098017 -0.193663  0.057332  0.008138  0.234887   \n",
       "\n",
       "         7         8         9     ...      1672      1673      1674  1675  \\\n",
       "0    1.744897  1.842289  1.398620  ... -0.011657 -0.040112  0.010024   0.0   \n",
       "1    0.376317  2.081002  0.759860  ... -0.015728 -0.023565  0.002540   0.0   \n",
       "2    0.155961  0.072452 -0.099547  ...  0.004306 -0.008752  0.024600   0.0   \n",
       "3    0.105741  0.214916 -0.130348  ...  0.003952 -0.002170  0.014350   0.0   \n",
       "4    0.622504 -0.477134  0.415339  ... -0.008130 -0.002368 -0.036524   0.0   \n",
       "..        ...       ...       ...  ...       ...       ...       ...   ...   \n",
       "939  0.870204  0.639362  0.434283  ... -0.007296  0.037543 -0.008931   0.0   \n",
       "940 -0.151767  0.114192  0.109823  ...  0.004255 -0.004464 -0.011387   0.0   \n",
       "941  0.817913  0.526065  0.108650  ...  0.012919  0.007275  0.003782   0.0   \n",
       "942  0.610914  1.865178 -0.460445  ...  0.009059 -0.071924 -0.002916   0.0   \n",
       "943  0.041205 -0.089034 -0.037524  ... -0.005237 -0.003527 -0.005029   0.0   \n",
       "\n",
       "         1676      1677      1678      1679      1680      1681  \n",
       "0    0.008049 -0.001315 -0.003944 -0.002630  0.038494  0.063294  \n",
       "1   -0.000122  0.004081  0.012244  0.008163  0.000427 -0.012987  \n",
       "2    0.000857  0.010938  0.032814  0.021876  0.002344 -0.007188  \n",
       "3    0.006392  0.003682  0.011045  0.007364  0.003162  0.004604  \n",
       "4   -0.016653 -0.002157 -0.006472 -0.004314 -0.016252 -0.024559  \n",
       "..        ...       ...       ...       ...       ...       ...  \n",
       "939  0.001369  0.004672  0.014017  0.009345 -0.017063 -0.033289  \n",
       "940  0.007523  0.000772  0.002316  0.001544  0.000640  0.008973  \n",
       "941 -0.016946  0.004818  0.014455  0.009637  0.022056 -0.033208  \n",
       "942 -0.027094 -0.004629 -0.013888 -0.009259  0.040697  0.006687  \n",
       "943 -0.005351 -0.000322 -0.000967 -0.000645  0.000478  0.006535  \n",
       "\n",
       "[944 rows x 1682 columns]"
      ]
     },
     "execution_count": 30,
     "metadata": {},
     "output_type": "execute_result"
    }
   ],
   "source": []
  },
  {
   "cell_type": "markdown",
   "metadata": {},
   "source": [
    "### SVD\n",
    "A well-known matrix factorization method is **Singular value decomposition (SVD)**. Collaborative Filtering can be formulated by approximating a matrix `X` by using singular value decomposition. The winning team at the Netflix Prize competition used SVD matrix factorization models to produce product recommendations, for more information I recommend to read articles: [Netflix Recommendations: Beyond the 5 stars](http://techblog.netflix.com/2012/04/netflix-recommendations-beyond-5-stars.html) and [Netflix Prize and SVD](http://buzzard.ups.edu/courses/2014spring/420projects/math420-UPS-spring-2014-gower-netflix-SVD.pdf).\n",
    "The general equation can be expressed as follows:\n",
    "<img src=\"https://latex.codecogs.com/gif.latex?X=USV^T\" title=\"X=USV^T\" />\n",
    "\n",
    "\n",
    "Given `m x n` matrix `X`:\n",
    "* *`U`* is an *`(m x r)`* orthogonal matrix\n",
    "* *`S`* is an *`(r x r)`* diagonal matrix with non-negative real numbers on the diagonal\n",
    "* *V^T* is an *`(r x n)`* orthogonal matrix\n",
    "\n",
    "Elements on the diagnoal in `S` are known as *singular values of `X`*. \n",
    "\n",
    "\n",
    "Matrix *`X`* can be factorized to *`U`*, *`S`* and *`V`*. The *`U`* matrix represents the feature vectors corresponding to the users in the hidden feature space and the *`V`* matrix represents the feature vectors corresponding to the items in the hidden feature space.\n",
    "Now you can make a prediction by taking dot product of *`U`*, *`S`* and *`V^T`*."
   ]
  },
  {
   "cell_type": "code",
   "execution_count": 29,
   "metadata": {
    "Collapsed": "false"
   },
   "outputs": [
    {
     "name": "stdout",
     "output_type": "stream",
     "text": [
      "User-based CF MSE: 2.7190320916193045\n"
     ]
    }
   ],
   "source": []
  },
  {
   "cell_type": "markdown",
   "metadata": {
    "Collapsed": "false"
   },
   "source": [
    "Carelessly addressing only the relatively few known entries is highly prone to overfitting. SVD can be very slow and computationally expensive. More recent work minimizes the squared error by applying alternating least square or stochastic gradient descent and uses regularization terms to prevent overfitting. Alternating least square and stochastic gradient descent methods for CF will be covered in the next tutorials.\n"
   ]
  },
  {
   "cell_type": "markdown",
   "metadata": {
    "Collapsed": "false"
   },
   "source": [
    "Review:\n",
    "\n",
    "* We have covered how to implement simple **Collaborative Filtering** methods, both memory-based CF and model-based CF.\n",
    "* **Memory-based models** are based on similarity between items or users, where we use cosine-similarity.\n",
    "* **Model-based CF** is based on matrix factorization where we use SVD to factorize the matrix.\n",
    "* Building recommender systems that perform well in cold-start scenarios (where little data is available on new users and items) remains a challenge. The standard collaborative filtering method performs poorly is such settings. "
   ]
  },
  {
   "cell_type": "code",
   "execution_count": 37,
   "metadata": {
    "Collapsed": "false"
   },
   "outputs": [
    {
     "data": {
      "text/html": [
       "<div>\n",
       "<style scoped>\n",
       "    .dataframe tbody tr th:only-of-type {\n",
       "        vertical-align: middle;\n",
       "    }\n",
       "\n",
       "    .dataframe tbody tr th {\n",
       "        vertical-align: top;\n",
       "    }\n",
       "\n",
       "    .dataframe thead th {\n",
       "        text-align: right;\n",
       "    }\n",
       "</style>\n",
       "<table border=\"1\" class=\"dataframe\">\n",
       "  <thead>\n",
       "    <tr style=\"text-align: right;\">\n",
       "      <th></th>\n",
       "      <th>0</th>\n",
       "      <th>1</th>\n",
       "      <th>2</th>\n",
       "      <th>3</th>\n",
       "      <th>4</th>\n",
       "      <th>5</th>\n",
       "      <th>6</th>\n",
       "      <th>7</th>\n",
       "      <th>8</th>\n",
       "      <th>9</th>\n",
       "      <th>...</th>\n",
       "      <th>1672</th>\n",
       "      <th>1673</th>\n",
       "      <th>1674</th>\n",
       "      <th>1675</th>\n",
       "      <th>1676</th>\n",
       "      <th>1677</th>\n",
       "      <th>1678</th>\n",
       "      <th>1679</th>\n",
       "      <th>1680</th>\n",
       "      <th>1681</th>\n",
       "    </tr>\n",
       "  </thead>\n",
       "  <tbody>\n",
       "    <tr>\n",
       "      <th>0</th>\n",
       "      <td>4.496673</td>\n",
       "      <td>2.035891</td>\n",
       "      <td>0.752805</td>\n",
       "      <td>2.888759</td>\n",
       "      <td>0.479727</td>\n",
       "      <td>0.074668</td>\n",
       "      <td>5.239323</td>\n",
       "      <td>2.282538</td>\n",
       "      <td>2.110772</td>\n",
       "      <td>1.993925</td>\n",
       "      <td>...</td>\n",
       "      <td>0.0</td>\n",
       "      <td>0.0</td>\n",
       "      <td>0.0</td>\n",
       "      <td>0.0</td>\n",
       "      <td>-0.010559</td>\n",
       "      <td>-0.002540</td>\n",
       "      <td>0.0</td>\n",
       "      <td>-0.005079</td>\n",
       "      <td>0.001851</td>\n",
       "      <td>0.070730</td>\n",
       "    </tr>\n",
       "    <tr>\n",
       "      <th>1</th>\n",
       "      <td>1.789644</td>\n",
       "      <td>-0.169085</td>\n",
       "      <td>0.098499</td>\n",
       "      <td>0.091332</td>\n",
       "      <td>-0.051732</td>\n",
       "      <td>0.318476</td>\n",
       "      <td>0.964822</td>\n",
       "      <td>-0.107402</td>\n",
       "      <td>1.682967</td>\n",
       "      <td>0.468638</td>\n",
       "      <td>...</td>\n",
       "      <td>0.0</td>\n",
       "      <td>0.0</td>\n",
       "      <td>0.0</td>\n",
       "      <td>0.0</td>\n",
       "      <td>-0.010348</td>\n",
       "      <td>0.005619</td>\n",
       "      <td>0.0</td>\n",
       "      <td>0.011238</td>\n",
       "      <td>-0.001739</td>\n",
       "      <td>-0.006203</td>\n",
       "    </tr>\n",
       "    <tr>\n",
       "      <th>2</th>\n",
       "      <td>0.390876</td>\n",
       "      <td>-0.124548</td>\n",
       "      <td>0.053430</td>\n",
       "      <td>-0.008893</td>\n",
       "      <td>-0.035858</td>\n",
       "      <td>-0.055784</td>\n",
       "      <td>0.217289</td>\n",
       "      <td>0.057987</td>\n",
       "      <td>0.161226</td>\n",
       "      <td>0.021974</td>\n",
       "      <td>...</td>\n",
       "      <td>0.0</td>\n",
       "      <td>0.0</td>\n",
       "      <td>0.0</td>\n",
       "      <td>0.0</td>\n",
       "      <td>-0.001657</td>\n",
       "      <td>0.011393</td>\n",
       "      <td>0.0</td>\n",
       "      <td>0.022786</td>\n",
       "      <td>0.008460</td>\n",
       "      <td>-0.005682</td>\n",
       "    </tr>\n",
       "    <tr>\n",
       "      <th>3</th>\n",
       "      <td>0.155635</td>\n",
       "      <td>-0.204785</td>\n",
       "      <td>-0.042849</td>\n",
       "      <td>-0.062874</td>\n",
       "      <td>0.093889</td>\n",
       "      <td>-0.065116</td>\n",
       "      <td>0.049199</td>\n",
       "      <td>0.156679</td>\n",
       "      <td>0.008000</td>\n",
       "      <td>-0.226435</td>\n",
       "      <td>...</td>\n",
       "      <td>0.0</td>\n",
       "      <td>0.0</td>\n",
       "      <td>0.0</td>\n",
       "      <td>0.0</td>\n",
       "      <td>0.007740</td>\n",
       "      <td>0.008056</td>\n",
       "      <td>0.0</td>\n",
       "      <td>0.016111</td>\n",
       "      <td>0.002382</td>\n",
       "      <td>-0.022907</td>\n",
       "    </tr>\n",
       "    <tr>\n",
       "      <th>4</th>\n",
       "      <td>3.677435</td>\n",
       "      <td>1.071366</td>\n",
       "      <td>0.368936</td>\n",
       "      <td>1.341333</td>\n",
       "      <td>0.350329</td>\n",
       "      <td>-0.121066</td>\n",
       "      <td>2.536785</td>\n",
       "      <td>0.976942</td>\n",
       "      <td>-0.041194</td>\n",
       "      <td>0.291972</td>\n",
       "      <td>...</td>\n",
       "      <td>0.0</td>\n",
       "      <td>0.0</td>\n",
       "      <td>0.0</td>\n",
       "      <td>0.0</td>\n",
       "      <td>-0.008602</td>\n",
       "      <td>-0.000361</td>\n",
       "      <td>0.0</td>\n",
       "      <td>-0.000723</td>\n",
       "      <td>-0.004009</td>\n",
       "      <td>-0.002530</td>\n",
       "    </tr>\n",
       "    <tr>\n",
       "      <th>...</th>\n",
       "      <td>...</td>\n",
       "      <td>...</td>\n",
       "      <td>...</td>\n",
       "      <td>...</td>\n",
       "      <td>...</td>\n",
       "      <td>...</td>\n",
       "      <td>...</td>\n",
       "      <td>...</td>\n",
       "      <td>...</td>\n",
       "      <td>...</td>\n",
       "      <td>...</td>\n",
       "      <td>...</td>\n",
       "      <td>...</td>\n",
       "      <td>...</td>\n",
       "      <td>...</td>\n",
       "      <td>...</td>\n",
       "      <td>...</td>\n",
       "      <td>...</td>\n",
       "      <td>...</td>\n",
       "      <td>...</td>\n",
       "      <td>...</td>\n",
       "    </tr>\n",
       "    <tr>\n",
       "      <th>939</th>\n",
       "      <td>0.480546</td>\n",
       "      <td>0.116804</td>\n",
       "      <td>-0.304439</td>\n",
       "      <td>1.582907</td>\n",
       "      <td>0.315098</td>\n",
       "      <td>0.021012</td>\n",
       "      <td>0.844893</td>\n",
       "      <td>1.365756</td>\n",
       "      <td>0.761078</td>\n",
       "      <td>-0.005978</td>\n",
       "      <td>...</td>\n",
       "      <td>0.0</td>\n",
       "      <td>0.0</td>\n",
       "      <td>0.0</td>\n",
       "      <td>0.0</td>\n",
       "      <td>0.008475</td>\n",
       "      <td>0.008063</td>\n",
       "      <td>0.0</td>\n",
       "      <td>0.016125</td>\n",
       "      <td>-0.029008</td>\n",
       "      <td>-0.021973</td>\n",
       "    </tr>\n",
       "    <tr>\n",
       "      <th>940</th>\n",
       "      <td>1.862176</td>\n",
       "      <td>0.107897</td>\n",
       "      <td>0.198585</td>\n",
       "      <td>-0.091540</td>\n",
       "      <td>-0.077330</td>\n",
       "      <td>-0.018947</td>\n",
       "      <td>1.540795</td>\n",
       "      <td>0.467186</td>\n",
       "      <td>0.327047</td>\n",
       "      <td>0.242982</td>\n",
       "      <td>...</td>\n",
       "      <td>0.0</td>\n",
       "      <td>0.0</td>\n",
       "      <td>0.0</td>\n",
       "      <td>0.0</td>\n",
       "      <td>0.008094</td>\n",
       "      <td>-0.000637</td>\n",
       "      <td>0.0</td>\n",
       "      <td>-0.001273</td>\n",
       "      <td>0.009631</td>\n",
       "      <td>0.001348</td>\n",
       "    </tr>\n",
       "    <tr>\n",
       "      <th>941</th>\n",
       "      <td>0.842309</td>\n",
       "      <td>0.023114</td>\n",
       "      <td>-0.051779</td>\n",
       "      <td>0.051685</td>\n",
       "      <td>-0.579096</td>\n",
       "      <td>-0.068013</td>\n",
       "      <td>-0.285596</td>\n",
       "      <td>1.089465</td>\n",
       "      <td>-0.548040</td>\n",
       "      <td>0.016279</td>\n",
       "      <td>...</td>\n",
       "      <td>0.0</td>\n",
       "      <td>0.0</td>\n",
       "      <td>0.0</td>\n",
       "      <td>0.0</td>\n",
       "      <td>0.002202</td>\n",
       "      <td>0.007824</td>\n",
       "      <td>0.0</td>\n",
       "      <td>0.015649</td>\n",
       "      <td>0.004628</td>\n",
       "      <td>-0.014848</td>\n",
       "    </tr>\n",
       "    <tr>\n",
       "      <th>942</th>\n",
       "      <td>0.469529</td>\n",
       "      <td>2.090161</td>\n",
       "      <td>1.216311</td>\n",
       "      <td>1.990553</td>\n",
       "      <td>0.778062</td>\n",
       "      <td>0.090818</td>\n",
       "      <td>1.381125</td>\n",
       "      <td>0.233271</td>\n",
       "      <td>1.365151</td>\n",
       "      <td>-0.324135</td>\n",
       "      <td>...</td>\n",
       "      <td>0.0</td>\n",
       "      <td>0.0</td>\n",
       "      <td>0.0</td>\n",
       "      <td>0.0</td>\n",
       "      <td>0.010014</td>\n",
       "      <td>-0.007604</td>\n",
       "      <td>0.0</td>\n",
       "      <td>-0.015207</td>\n",
       "      <td>0.015130</td>\n",
       "      <td>0.036754</td>\n",
       "    </tr>\n",
       "    <tr>\n",
       "      <th>943</th>\n",
       "      <td>0.009519</td>\n",
       "      <td>-0.010488</td>\n",
       "      <td>-0.006519</td>\n",
       "      <td>-0.013933</td>\n",
       "      <td>-0.003100</td>\n",
       "      <td>0.000527</td>\n",
       "      <td>-0.015965</td>\n",
       "      <td>0.014951</td>\n",
       "      <td>0.003821</td>\n",
       "      <td>-0.004544</td>\n",
       "      <td>...</td>\n",
       "      <td>0.0</td>\n",
       "      <td>0.0</td>\n",
       "      <td>0.0</td>\n",
       "      <td>0.0</td>\n",
       "      <td>-0.000137</td>\n",
       "      <td>-0.000023</td>\n",
       "      <td>0.0</td>\n",
       "      <td>-0.000046</td>\n",
       "      <td>0.000152</td>\n",
       "      <td>-0.000329</td>\n",
       "    </tr>\n",
       "  </tbody>\n",
       "</table>\n",
       "<p>944 rows × 1682 columns</p>\n",
       "</div>"
      ],
      "text/plain": [
       "         0         1         2         3         4         5         6     \\\n",
       "0    4.496673  2.035891  0.752805  2.888759  0.479727  0.074668  5.239323   \n",
       "1    1.789644 -0.169085  0.098499  0.091332 -0.051732  0.318476  0.964822   \n",
       "2    0.390876 -0.124548  0.053430 -0.008893 -0.035858 -0.055784  0.217289   \n",
       "3    0.155635 -0.204785 -0.042849 -0.062874  0.093889 -0.065116  0.049199   \n",
       "4    3.677435  1.071366  0.368936  1.341333  0.350329 -0.121066  2.536785   \n",
       "..        ...       ...       ...       ...       ...       ...       ...   \n",
       "939  0.480546  0.116804 -0.304439  1.582907  0.315098  0.021012  0.844893   \n",
       "940  1.862176  0.107897  0.198585 -0.091540 -0.077330 -0.018947  1.540795   \n",
       "941  0.842309  0.023114 -0.051779  0.051685 -0.579096 -0.068013 -0.285596   \n",
       "942  0.469529  2.090161  1.216311  1.990553  0.778062  0.090818  1.381125   \n",
       "943  0.009519 -0.010488 -0.006519 -0.013933 -0.003100  0.000527 -0.015965   \n",
       "\n",
       "         7         8         9     ...  1672  1673  1674  1675      1676  \\\n",
       "0    2.282538  2.110772  1.993925  ...   0.0   0.0   0.0   0.0 -0.010559   \n",
       "1   -0.107402  1.682967  0.468638  ...   0.0   0.0   0.0   0.0 -0.010348   \n",
       "2    0.057987  0.161226  0.021974  ...   0.0   0.0   0.0   0.0 -0.001657   \n",
       "3    0.156679  0.008000 -0.226435  ...   0.0   0.0   0.0   0.0  0.007740   \n",
       "4    0.976942 -0.041194  0.291972  ...   0.0   0.0   0.0   0.0 -0.008602   \n",
       "..        ...       ...       ...  ...   ...   ...   ...   ...       ...   \n",
       "939  1.365756  0.761078 -0.005978  ...   0.0   0.0   0.0   0.0  0.008475   \n",
       "940  0.467186  0.327047  0.242982  ...   0.0   0.0   0.0   0.0  0.008094   \n",
       "941  1.089465 -0.548040  0.016279  ...   0.0   0.0   0.0   0.0  0.002202   \n",
       "942  0.233271  1.365151 -0.324135  ...   0.0   0.0   0.0   0.0  0.010014   \n",
       "943  0.014951  0.003821 -0.004544  ...   0.0   0.0   0.0   0.0 -0.000137   \n",
       "\n",
       "         1677  1678      1679      1680      1681  \n",
       "0   -0.002540   0.0 -0.005079  0.001851  0.070730  \n",
       "1    0.005619   0.0  0.011238 -0.001739 -0.006203  \n",
       "2    0.011393   0.0  0.022786  0.008460 -0.005682  \n",
       "3    0.008056   0.0  0.016111  0.002382 -0.022907  \n",
       "4   -0.000361   0.0 -0.000723 -0.004009 -0.002530  \n",
       "..        ...   ...       ...       ...       ...  \n",
       "939  0.008063   0.0  0.016125 -0.029008 -0.021973  \n",
       "940 -0.000637   0.0 -0.001273  0.009631  0.001348  \n",
       "941  0.007824   0.0  0.015649  0.004628 -0.014848  \n",
       "942 -0.007604   0.0 -0.015207  0.015130  0.036754  \n",
       "943 -0.000023   0.0 -0.000046  0.000152 -0.000329  \n",
       "\n",
       "[944 rows x 1682 columns]"
      ]
     },
     "execution_count": 37,
     "metadata": {},
     "output_type": "execute_result"
    }
   ],
   "source": [
    "pd.DataFrame(X_pred)"
   ]
  },
  {
   "cell_type": "code",
   "execution_count": null,
   "metadata": {
    "Collapsed": "false"
   },
   "outputs": [],
   "source": []
  }
 ],
 "metadata": {
  "kernelspec": {
   "display_name": "Python 3",
   "language": "python",
   "name": "python3"
  },
  "language_info": {
   "codemirror_mode": {
    "name": "ipython",
    "version": 3
   },
   "file_extension": ".py",
   "mimetype": "text/x-python",
   "name": "python",
   "nbconvert_exporter": "python",
   "pygments_lexer": "ipython3",
   "version": "3.7.6"
  },
  "latex_envs": {
   "LaTeX_envs_menu_present": true,
   "autoclose": false,
   "autocomplete": true,
   "bibliofile": "biblio.bib",
   "cite_by": "apalike",
   "current_citInitial": 1,
   "eqLabelWithNumbers": true,
   "eqNumInitial": 1,
   "hotkeys": {
    "equation": "Ctrl-E",
    "itemize": "Ctrl-I"
   },
   "labels_anchors": false,
   "latex_user_defs": false,
   "report_style_numbering": false,
   "user_envs_cfg": false
  }
 },
 "nbformat": 4,
 "nbformat_minor": 4
}
