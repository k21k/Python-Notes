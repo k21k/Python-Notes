{
 "cells": [
  {
   "cell_type": "markdown",
   "metadata": {
    "Collapsed": "false",
    "heading_collapsed": true
   },
   "source": [
    "# Pandas Intro"
   ]
  },
  {
   "cell_type": "markdown",
   "metadata": {
    "Collapsed": "false",
    "hidden": true
   },
   "source": [
    "Pandas Series : https://pandas.pydata.org/pandas-docs/stable/reference/series.html\n",
    "\n",
    "Pandas DataFrame: https://pandas.pydata.org/pandas-docs/stable/reference/frame.html\n",
    "\n",
    "Pandas Arrays: https://pandas.pydata.org/pandas-docs/stable/reference/arrays.html\n",
    "\n"
   ]
  },
  {
   "cell_type": "markdown",
   "metadata": {
    "Collapsed": "false",
    "hidden": true
   },
   "source": [
    "Series\n",
    "- Pandas Series is a one-dimensional labeled array capable of holding data of any type \n",
    "- The axis labels are collectively called index. Pandas Series is nothing but a column in an excel sheet.\n",
    "\n",
    "\n",
    "DataFrame\n",
    "- A Data frame is a two-dimensional data structure, i.e., data is aligned in a tabular fashion in rows and columns. \n",
    "- Pandas DataFrame consists of three principal components, the data, rows, and columns. \n",
    "\n",
    "Arrays\n",
    "- For most data types, pandas uses NumPy arrays as the concrete objects contained with a Index, Series, or DataFrame.\n",
    "- For some data types, pandas extends NumPy’s type system. String aliases for these types can be found at dtypes."
   ]
  },
  {
   "cell_type": "markdown",
   "metadata": {
    "Collapsed": "false",
    "heading_collapsed": true
   },
   "source": [
    "# Pandas Functions List"
   ]
  },
  {
   "cell_type": "markdown",
   "metadata": {
    "Collapsed": "false",
    "heading_collapsed": true,
    "hidden": true
   },
   "source": [
    "## Input/Output Functions"
   ]
  },
  {
   "cell_type": "markdown",
   "metadata": {
    "Collapsed": "false",
    "hidden": true
   },
   "source": [
    "##### Read"
   ]
  },
  {
   "cell_type": "code",
   "execution_count": null,
   "metadata": {
    "Collapsed": "false",
    "hidden": true
   },
   "outputs": [],
   "source": [
    "read_csv(filepath_or_buffer, pathlib.Path, …)   Read a comma-separated values (csv) file into DataFrame.\n",
    "read_excel(io[, sheet_name, header, names, …])  Read an Excel file into a pandas DataFrame.\n",
    "ExcelFile.parse(self[, sheet_name, header, …])  Parse specified sheet(s) into a DataFrame.\n",
    "read_html(io[, match, flavor, header, …])       Read HTML tables into a list of DataFrame objects.\n",
    "read_gbq(query, project_id, …[, …])             Load data from Google BigQuery."
   ]
  },
  {
   "cell_type": "code",
   "execution_count": null,
   "metadata": {
    "Collapsed": "false",
    "hidden": true
   },
   "outputs": [],
   "source": [
    "import pandas as pd\n",
    "sal = pd.read_csv(\"Salaries.csv\")\n",
    "sal.head()"
   ]
  },
  {
   "cell_type": "code",
   "execution_count": null,
   "metadata": {
    "Collapsed": "false",
    "hidden": true
   },
   "outputs": [],
   "source": []
  },
  {
   "cell_type": "markdown",
   "metadata": {
    "Collapsed": "false",
    "hidden": true
   },
   "source": [
    "## General Functions"
   ]
  },
  {
   "cell_type": "markdown",
   "metadata": {
    "Collapsed": "false",
    "heading_collapsed": true,
    "hidden": true
   },
   "source": [
    "## Data Manipulation Functions"
   ]
  },
  {
   "cell_type": "code",
   "execution_count": null,
   "metadata": {
    "Collapsed": "false",
    "hidden": true
   },
   "outputs": [],
   "source": [
    "melt(frame[, id_vars, value_vars, var_name, …])  Unpivot a DataFrame from wide to long format, optionally leaving identifiers set.\n",
    "pivot(data[, index, columns, values])            Return reshaped DataFrame organized by given index / column values.\n",
    "pivot_table(data[, values, index, columns, …])   Create a spreadsheet-style pivot table as a DataFrame.\n",
    "crosstab(index, columns[, values, rownames, …])  Compute a simple cross tabulation of two (or more) factors.\n",
    "\n",
    "cut(x, bins, right[, labels])                    Bin values into discrete intervals.\n",
    "qcut(x, q[, labels])                             Quantile-based discretization function.\n",
    "merge(left, right, how[, on, left_on, …])        Merge DataFrame or named Series objects with a database-style join.\n",
    "merge_ordered(left, right[, on, left_on, …])     Perform merge with optional filling/interpolation.\n",
    "merge_asof(left, right[, on, left_on, …])        Perform an asof merge.\n",
    "\n",
    "concat(objs, ForwardRef]], …[, axis, …])         Concatenate pandas objects along a particular axis with optional set logic along the other axes.\n",
    "get_dummies(data[, prefix, prefix_sep, …])       Convert categorical variable into dummy/indicator variables.\n",
    "factorize(values, sort, na_sentinel, …)          Encode the object as an enumerated type or categorical variable.\n",
    "unique(values)                                   Hash table-based unique.\n",
    "wide_to_long(df, stubnames, i, j, sep, suffix)   Wide panel to long format."
   ]
  },
  {
   "cell_type": "markdown",
   "metadata": {
    "Collapsed": "false",
    "heading_collapsed": true,
    "hidden": true
   },
   "source": [
    "##### Top-level missing data\n"
   ]
  },
  {
   "cell_type": "code",
   "execution_count": null,
   "metadata": {
    "Collapsed": "false",
    "hidden": true
   },
   "outputs": [],
   "source": [
    "isna(obj)                                        Detect missing values for an array-like object.\n",
    "isnull(obj)                                      Detect missing values for an array-like object.\n",
    "notna(obj)                                       Detect non-missing values for an array-like object.\n",
    "notnull(obj)                                     Detect non-missing values for an array-like object."
   ]
  },
  {
   "cell_type": "markdown",
   "metadata": {
    "Collapsed": "false",
    "heading_collapsed": true,
    "hidden": true
   },
   "source": [
    "##### Top-level dealing with datetimelike\n",
    " "
   ]
  },
  {
   "cell_type": "code",
   "execution_count": null,
   "metadata": {
    "Collapsed": "false",
    "hidden": true
   },
   "outputs": [],
   "source": [
    "to_datetime(arg[, errors, dayfirst, …])         Convert argument to datetime.\n",
    "to_timedelta(arg[, unit, errors])               Convert argument to timedelta.\n",
    "date_range([start, end, periods, freq, tz, …])  Return a fixed frequency DatetimeIndex.\n",
    "bdate_range([start, end, periods, freq, tz, …]) Return a fixed frequency DatetimeIndex, with business day as the default frequency.\n",
    "period_range([start, end, periods, freq, name]) Return a fixed frequency PeriodIndex.\n",
    "timedelta_range([start, end, periods, freq, …]) Return a fixed frequency TimedeltaIndex, with day as the default frequency.\n",
    "infer_freq(index, warn)                         Infer the most likely frequency given the input index."
   ]
  },
  {
   "cell_type": "markdown",
   "metadata": {
    "Collapsed": "false",
    "heading_collapsed": true,
    "hidden": true
   },
   "source": [
    "## Series and DataFrame Functions"
   ]
  },
  {
   "cell_type": "markdown",
   "metadata": {
    "Collapsed": "false",
    "heading_collapsed": true,
    "hidden": true
   },
   "source": [
    "##### Attributes"
   ]
  },
  {
   "cell_type": "code",
   "execution_count": null,
   "metadata": {
    "Collapsed": "false",
    "hidden": true
   },
   "outputs": [],
   "source": [
    "- Series.index   - The index (axis labels) of the Series.\n",
    "- Series.array   - The ExtensionArray of the data backing this Series or Index.\n",
    "- Series.values  - Return Series as ndarray or ndarray-like depending on the dtype.\n",
    "- Series.dtype   - Return the dtype object of the underlying data.\n",
    "- Series.shape   - Return a tuple of the shape of the underlying data.\n",
    "- Series.nbytes  - Return the number of bytes in the underlying data.\n",
    "- Series.ndim    - Number of dimensions of the underlying data, by definition 1.\n",
    "- Series.size    - Return the number of elements in the underlying data.\n",
    "- Series.T       - Return the transpose, which is by definition self.\n",
    "- Series.hasnans - Return if I have any nans; enables various perf speedups.\n",
    "- Series.empty"
   ]
  },
  {
   "cell_type": "markdown",
   "metadata": {
    "Collapsed": "false",
    "heading_collapsed": true,
    "hidden": true
   },
   "source": [
    "##### Conversion"
   ]
  },
  {
   "cell_type": "code",
   "execution_count": null,
   "metadata": {
    "Collapsed": "false",
    "hidden": true
   },
   "outputs": [],
   "source": [
    "Series.astype(self, dtype, copy, errors)   - Cast a pandas object to a specified dtype dtype.\n",
    "Series.copy(self, deep)                    - Make a copy of this object’s indices and data.\n",
    "Series.bool(self)                          - Return the bool of a single element PandasObject.\n",
    "Series.to_list(self)                       - Return a list of the values.\n"
   ]
  },
  {
   "cell_type": "markdown",
   "metadata": {
    "Collapsed": "false",
    "heading_collapsed": true,
    "hidden": true
   },
   "source": [
    "##### Indexing, Iteration"
   ]
  },
  {
   "cell_type": "code",
   "execution_count": null,
   "metadata": {
    "Collapsed": "false",
    "hidden": true
   },
   "outputs": [],
   "source": [
    ".loc                            Access a group of rows and columns by label(s) or a boolean array.\n",
    ".iloc                           Purely integer-location based indexing for selection by position.\n",
    "\n",
    ".get(self, key[, default])      Get item from object for given key (ex: DataFrame column).\n",
    ".at                             Access a single value for a row/column label pair.\n",
    ".iat                            Access a single value for a row/column pair by integer position.\n",
    "\n",
    ".__iter__(self)                 Return an iterator of the values.\n",
    ".items(self)                    Lazily iterate over (index, value) tuples.\n",
    ".iteritems(self)                Lazily iterate over (index, value) tuples.\n",
    ".keys(self)                     Return alias for index.\n",
    ".pop(self, item)                Return item and drop from frame.\n",
    ".item(self)                     Return the first element of the underlying data as a python scalar.\n",
    ".xs(self, key[, axis, level])   Return cross-section from the Series/DataFrame."
   ]
  },
  {
   "cell_type": "markdown",
   "metadata": {
    "Collapsed": "false",
    "heading_collapsed": true,
    "hidden": true
   },
   "source": [
    "##### Binary Operator Functions"
   ]
  },
  {
   "cell_type": "code",
   "execution_count": null,
   "metadata": {
    "Collapsed": "false",
    "hidden": true
   },
   "outputs": [],
   "source": [
    ".add(self, other[, level, fill_value, …])     Return Addition of series \n",
    ".sub(self, other[, level, fill_value, …])     Return Subtraction \n",
    ".mul(self, other[, level, fill_value, …])     Return Multiplication \n",
    ".div(self, other[, level, fill_value, …])     Return Floating division \n",
    ".truediv(self, other[, level, …])             Return Floating division \n",
    ".floordiv(self, other[, level, …])            Return Integer division \n",
    ".mod(self, other[, level, fill_value, …])     Re turn Modulo\n",
    ".pow(self, other[, level, fill_value, …])     Return Exponential power \n",
    ".ewm(self[, com, span, halflife, …])         Provide exponential weighted functions.\n",
    "\n",
    ".combine(self, other, func[, fill_value])     Combine according to func.\n",
    ".round(self[, decimals])                      Round each value in a Series to the given number of decimals.\n",
    ".lt(self, other[, level, fill_value, axis])   Return Less than  \n",
    ".gt(self, other[, level, fill_value, axis])   Return Greater than  \n",
    ".le(self, other[, level, fill_value, axis])   Return Less than or equal to  \n",
    ".ge(self, other[, level, fill_value, axis])   Return Greater than or equal to\n",
    ".ne(self, other[, level, fill_value, axis])   Return Not equal to \n",
    ".eq(self, other[, level, fill_value, axis])   Return Equal to \n",
    ".product(self[, axis, skipna, level, …])      Return the product of the values for the requested axis.\n",
    ".dot(self, other)                             Compute the dot product "
   ]
  },
  {
   "cell_type": "markdown",
   "metadata": {
    "Collapsed": "false",
    "heading_collapsed": true,
    "hidden": true
   },
   "source": [
    "##### Function Application, Groupby & Window"
   ]
  },
  {
   "cell_type": "code",
   "execution_count": null,
   "metadata": {
    "Collapsed": "false",
    "hidden": true
   },
   "outputs": [],
   "source": [
    ".apply(self, func[, convert_dtype, args])    Invoke function on values of Series.\n",
    ".agg(self, func[, axis])                     Aggregate using operations over the specified axis.\n",
    ".aggregate(self, func[, axis])               Aggregate using operations over the specified axis.\n",
    ".transform(self, func[, axis])               Call func, produces transformed values.\n",
    ".map(self, arg[, na_action])                 Map values according to input correspondence.\n",
    ".groupby(self[, by, axis, level])            Group using a mapper \n",
    ".rolling(self, window[, min_periods, …])     Provide rolling window calculations.\n",
    ".expanding(self[, min_periods, …])           Provide expanding transformations.\n",
    ".ewm(self[, com, span, halflife, …])         Provide exponential weighted functions.\n",
    ".pipe(self, func, \\*args, \\*\\*kwargs)        Apply func(self, *args, **kwargs)"
   ]
  },
  {
   "cell_type": "markdown",
   "metadata": {
    "Collapsed": "false",
    "heading_collapsed": true,
    "hidden": true
   },
   "source": [
    "##### Computations / descriptive stats\n"
   ]
  },
  {
   "cell_type": "code",
   "execution_count": null,
   "metadata": {
    "Collapsed": "false",
    "hidden": true
   },
   "outputs": [],
   "source": [
    "\n",
    "# Data Manipulation\n",
    ".between(self, left, right[, inclusive])     boolean Series equivalent to left <= series <= right.\n",
    ".clip(self[, lower, upper, axis])            Trim values at input threshold(s).\n",
    ".value_counts(self[, normalize, sort, …])    Return a Series containing counts of unique value\n",
    ".prod(self[, axis, skipna, level, …])        Return the product of the values for the requested axis.\n",
    ".unique(self)                                unique values of Series object.\n",
    ".nunique(self[, dropna])                     Return number of unique elements in the object.\n",
    "\n",
    "# Simple Stats\n",
    ".describe(self[, percentiles, …])            Generate descriptive statistics.\n",
    ".abs(self)                                   absolute numeric value of each element.\n",
    ".count(self[, level])                        number of non-NA/null observations in the Series.\n",
    ".mean(self[, axis, skipna, level, …])        mean of the values for the requested axis.\n",
    ".median(self[, axis, skipna, level, …])      median of the values for the requested axis.\n",
    ".max(self[, axis, skipna, level, …])         maximum of the values for the requested axis.\n",
    ".min(self[, axis, skipna, level, …])         minimum of the values for the requested axis.\n",
    ".mode(self[, dropna])                        mode(s) of the dataset.\n",
    ".std(self[, axis, skipna, level, …])         Return sample standard deviation over requested axis.\n",
    ".sum(self[, axis, skipna, level, …])         Return the sum of the values for the requested axis.\n",
    ".quantile(self[, q, interpolation])          Return value at the given quantile.\n",
    ".rank(self[, axis])                          Compute numerical data ranks (1 through n) along axis.\n",
    ".pct_change(self[, periods, …])              Percentage change between the current and a prior element.\n",
    ".corr(self, other[, method, min_periods])    Compute correlation (excluding missing values)\n",
    ".cov(self, other[, min_periods])             Compute covariance, excluding missing values.\n",
    ".var(self[, axis, skipna, level, …])         Return unbiased variance over requested axis.\n",
    "\n",
    "# More advanced Stats\n",
    ".autocorr(self[, lag])                       Compute the lag-N autocorrelation.\n",
    ".kurt(self[, axis, skipna, level, …])        unbiased kurtosis over requested axis.\n",
    ".mad(self[, axis, skipna, level])            mean absolute deviation of the values for the requested axis.\n",
    ".skew(self[, axis, skipna, level, …])        Return unbiased skew over requested axis.\n",
    ".kurtosis(self[, axis, skipna, level, …])    Return unbiased kurtosis over requested axis.\n",
    ".sem(self[, axis, skipna, level, …])         Return unbiased standard error of the mean over requested axis.\n",
    "\n",
    "# Other\n",
    ".all(self[, axis, bool_only, skipna, …])     Return whether all elements are True, potentially over an axis.\n",
    ".any(self[, axis, bool_only, skipna, …])     Return whether any element is True, potentially over an axis.\n",
    "\n",
    ".nlargest(self[, n, keep])                   Return the largest n elements.\n",
    ".nsmallest(self[, n, keep])                  Return the smallest n elements.\n",
    "\n",
    ".cummax(self[, axis, skipna])               cumulative maximum over a DataFrame or Series axis.\n",
    ".cummin(self[, axis, skipna])               cumulative minimum over a DataFrame or Series axis.\n",
    ".cumprod(self[, axis, skipna])              cumulative product over a DataFrame or Series axis.\n",
    ".cumsum(self[, axis, skipna])               cumulative sum over a DataFrame or Series axis.\n",
    "\n",
    ".is_unique                                  Return boolean if values in the object are unique.\n",
    ".is_monotonic                               Return boolean if values in the object are monotonic_increasing.\n",
    ".is_monotonic_increasing                    Return boolean if values in the object are monotonic_increasing.\n",
    ".is_monotonic_decreasing                    Return boolean if values in the object are monotonic_decreasing.\n"
   ]
  },
  {
   "cell_type": "markdown",
   "metadata": {
    "Collapsed": "false",
    "heading_collapsed": true,
    "hidden": true
   },
   "source": [
    "##### Reindexing / selection / label manipulation\n"
   ]
  },
  {
   "cell_type": "code",
   "execution_count": null,
   "metadata": {
    "Collapsed": "false",
    "hidden": true
   },
   "outputs": [],
   "source": [
    "# View\n",
    ".head(self, n)                              Return the first n rows.\n",
    ".tail(self, n)                              Return the last n rows.\n",
    ".sample(self[, n, frac, replace, …])        Return a random sample of items from an axis of object.\n",
    ".take(self, indices[, axis, is_copy])       Return the elements in the given positional indices along an axis.\n",
    "\n",
    "# Alter\n",
    ".rename(self[, index, axis, copy, …])       Alter Series index labels or name.\n",
    ".rename_axis(self[, mapper, index, …])      Set the name of the axis for the index or columns.\n",
    ".set_axis(self, labels[, axis, inplace])    Assign desired index to given axis.\n",
    ".where(self, cond[, other, inplace, …])     Replace values where the condition is False.\n",
    ".mask(self, cond[, other, inplace, …])      Replace values where the condition is True.\n",
    ".add_prefix(self, prefix)                   Prefix labels with string prefix.\n",
    ".add_suffix(self, suffix)                   Suffix labels with string suffix.\n",
    "\n",
    "# Filter and Find\n",
    ".filter(self[, items, axis])                Subset, according to the specified index labels.\n",
    ".truncate(self[, before, after, axis])      Truncate a Series or DataFrame before and after some index value.\n",
    ".idxmax(self[, axis, skipna])               Return the row label of the maximum value.\n",
    ".idxmin(self[, axis, skipna])               Return the row label of the minimum value.\n",
    ".isin(self, values)                         Check whether values are contained in Series.\n",
    ".equals(self, other)                        Test whether two objects contain the same elements.\n",
    ".duplicated(self[, keep])                   Indicate duplicate values.\n",
    ".get(self, key[, default])      Get item from object for given key (ex: DataFrame column).\n",
    ".at                             Access a single value for a row/column label pair.\n",
    ".iat                            Access a single value for a row/column pair by integer position.\n",
    ".loc                            Access a group of rows and columns by label(s) or a boolean array.\n",
    ".iloc                           Purely integer-location based indexing for selection by position.\n",
    "\n",
    "# Remove\n",
    ".drop(self[, labels, axis, index, …])       New dataset with specified index labels removed.\n",
    ".droplevel(self, level[, axis])             DataFrame with requested index / column level(s) removed.\n",
    ".drop_duplicates(self[, keep, inplace])     New dataset with duplicate values removed."
   ]
  },
  {
   "cell_type": "markdown",
   "metadata": {
    "Collapsed": "false",
    "heading_collapsed": true,
    "hidden": true
   },
   "source": [
    "##### Missing Data Handling"
   ]
  },
  {
   "cell_type": "code",
   "execution_count": null,
   "metadata": {
    "Collapsed": "false",
    "hidden": true
   },
   "outputs": [],
   "source": [
    ".isna(self)                                 Detect missing values.\n",
    ".notna(self)                                Detect existing (non-missing) values.\n",
    ".dropna(self[, axis, inplace, how])         Return a new Series with missing values removed.\n",
    ".fillna(self[, value, method, axis, …])     Fill NA/NaN values using the specified method.\n",
    ".interpolate(self[, method, axis, …])       Interpolate values according to different methods"
   ]
  },
  {
   "cell_type": "markdown",
   "metadata": {
    "Collapsed": "false",
    "heading_collapsed": true,
    "hidden": true
   },
   "source": [
    "##### Reshaping, sorting\n"
   ]
  },
  {
   "cell_type": "code",
   "execution_count": null,
   "metadata": {
    "Collapsed": "false",
    "hidden": true
   },
   "outputs": [],
   "source": [
    ".argsort(self[, axis, kind, order])         Override ndarray.argsort.\n",
    ".sort_values(self[, axis, ascending, …])    Sort by the values.\n",
    ".sort_index(self[, axis, level, …])         Sort Series by index labels.\n",
    "\n",
    ".argmin(self[, axis, skipna])               Return a ndarray of the minimum argument indexer.\n",
    ".argmax(self[, axis, skipna])               Return an ndarray of the maximum argument indexer.\n",
    "\n",
    ".repeat(self, repeats[, axis])              Repeat elements of a Series.\n",
    ".reorder_levels(self, order)                Rearrange index levels using input order.\n",
    ".view(self[, dtype])                        Create a new view of the Series.\n"
   ]
  },
  {
   "cell_type": "markdown",
   "metadata": {
    "Collapsed": "false",
    "hidden": true
   },
   "source": [
    "##### Combining / joining / merging\n"
   ]
  },
  {
   "cell_type": "code",
   "execution_count": null,
   "metadata": {
    "Collapsed": "false",
    "hidden": true
   },
   "outputs": [],
   "source": [
    ".append(self, to_append[, …])              Concatenate two or more Series.\n",
    ".replace(self[, to_replace, value, …])     Replace values given in to_replace with value.\n",
    ".update(self, other)                       Modify using non-NA values from passed Series.\n"
   ]
  },
  {
   "cell_type": "markdown",
   "metadata": {
    "Collapsed": "false",
    "heading_collapsed": true,
    "hidden": true
   },
   "source": [
    "##### Time series-related\n"
   ]
  },
  {
   "cell_type": "code",
   "execution_count": null,
   "metadata": {
    "Collapsed": "false",
    "hidden": true
   },
   "outputs": [],
   "source": [
    ".asfreq(self, freq[, method, fill_value])  Convert TimeSeries to specified frequency.\n",
    ".asof(self, where[, subset])               Return the last row(s) without any NaNs before where.\n",
    ".shift(self[, periods, freq, axis, …])     Shift index by desired number of periods with an optional time freq.\n",
    ".first_valid_index(self)                   Return index for first non-NA/null value.\n",
    ".last_valid_index(self)                    Return index for last non-NA/null value.\n",
    ".resample(self, rule[, axis, loffset, …])  Resample time-series data.\n",
    ".tz_convert(self, tz[, axis, level])       Convert tz-aware axis to target time zone.\n",
    ".tz_localize(self, tz[, axis, level, …])   Localize tz-naive index of a Series or DataFrame to target time zone.\n",
    ".at_time(self, time, asof[, axis])         Select values at particular time of day (e.g.\n",
    ".between_time(self, start_time, …[, …])    Select values between particular times of the day (e.g., 9:00-9:30 AM).\n",
    ".tshift(self, periods[, freq, axis])       Shift the time index, using the index’s frequency if available.\n",
    ".slice_shift(self, periods[, axis])        Equivalent to shift without copying data."
   ]
  },
  {
   "cell_type": "markdown",
   "metadata": {
    "Collapsed": "false"
   },
   "source": [
    "# Pandas Simple Operations"
   ]
  },
  {
   "cell_type": "markdown",
   "metadata": {
    "Collapsed": "false"
   },
   "source": [
    "## Creating a Series and DataFrame"
   ]
  },
  {
   "cell_type": "markdown",
   "metadata": {
    "Collapsed": "false"
   },
   "source": [
    "Pandas Series is a 1 dimension labelled array\n",
    "\n",
    "Axis labels are called 'index' (similar to a column in excel)\n",
    "\n",
    "Labels don't need to be unique"
   ]
  },
  {
   "cell_type": "markdown",
   "metadata": {
    "Collapsed": "false"
   },
   "source": [
    "- In the real world, a Pandas Series will be created by loading the datasets from existing storage (csv, sql, etc)\n",
    "- Pandas Series can be created from the lists, dictionary, and from a scalar value etc. \n",
    "- Here is a python based example below"
   ]
  },
  {
   "cell_type": "code",
   "execution_count": 69,
   "metadata": {
    "Collapsed": "false"
   },
   "outputs": [
    {
     "data": {
      "text/plain": [
       "USA        1\n",
       "Germany    2\n",
       "USSR       3\n",
       "Japan      4\n",
       "dtype: int64"
      ]
     },
     "execution_count": 69,
     "metadata": {},
     "output_type": "execute_result"
    }
   ],
   "source": [
    "# The simplest way to create a Series\n",
    "Ser1 = pd.Series([1,2,3,4], index = ['USA','Germany','USSR','Japan'])\n",
    "Ser1\n",
    "\n"
   ]
  },
  {
   "cell_type": "code",
   "execution_count": 273,
   "metadata": {
    "Collapsed": "false"
   },
   "outputs": [
    {
     "data": {
      "text/html": [
       "<div>\n",
       "<style scoped>\n",
       "    .dataframe tbody tr th:only-of-type {\n",
       "        vertical-align: middle;\n",
       "    }\n",
       "\n",
       "    .dataframe tbody tr th {\n",
       "        vertical-align: top;\n",
       "    }\n",
       "\n",
       "    .dataframe thead th {\n",
       "        text-align: right;\n",
       "    }\n",
       "</style>\n",
       "<table border=\"1\" class=\"dataframe\">\n",
       "  <thead>\n",
       "    <tr style=\"text-align: right;\">\n",
       "      <th></th>\n",
       "      <th>A</th>\n",
       "      <th>B</th>\n",
       "    </tr>\n",
       "  </thead>\n",
       "  <tbody>\n",
       "    <tr>\n",
       "      <th>K0</th>\n",
       "      <td>A0</td>\n",
       "      <td>B0</td>\n",
       "    </tr>\n",
       "    <tr>\n",
       "      <th>K0</th>\n",
       "      <td>A1</td>\n",
       "      <td>B1</td>\n",
       "    </tr>\n",
       "    <tr>\n",
       "      <th>K1</th>\n",
       "      <td>A2</td>\n",
       "      <td>B2</td>\n",
       "    </tr>\n",
       "  </tbody>\n",
       "</table>\n",
       "</div>"
      ],
      "text/plain": [
       "     A   B\n",
       "K0  A0  B0\n",
       "K0  A1  B1\n",
       "K1  A2  B2"
      ]
     },
     "execution_count": 273,
     "metadata": {},
     "output_type": "execute_result"
    }
   ],
   "source": [
    "# Simplest way to create a DataFramce\n",
    "# to note, syntx here super important\n",
    "# and order as well (index has to be after the data)\n",
    "\n",
    "df1 = pd.DataFrame({'A' : ['A0','A1','A2'],'B' : ['B0','B1','B2']},\n",
    "                   index= ['K0','K0','K1'],)\n",
    "df1"
   ]
  },
  {
   "cell_type": "code",
   "execution_count": 12,
   "metadata": {
    "Collapsed": "false"
   },
   "outputs": [
    {
     "name": "stdout",
     "output_type": "stream",
     "text": [
      "0    g\n",
      "1    e\n",
      "2    e\n",
      "3    k\n",
      "4    s\n",
      "dtype: object\n",
      "    Name  Age\n",
      "0    Tom   20\n",
      "1   nick   21\n",
      "2  krish   19\n",
      "3   jack   18\n"
     ]
    }
   ],
   "source": [
    "# From an Array\n",
    "import pandas as pd \n",
    "import numpy as np\n",
    " \n",
    "data = np.array(['g','e','e','k','s'])\n",
    "ser = pd.Series(data)\n",
    "print(ser)\n",
    "\n",
    "data2 = {'Name':['Tom', 'nick', 'krish', 'jack'], 'Age':[20, 21, 19, 18]} \n",
    "df = pd.DataFrame(data2) \n",
    "print(df)"
   ]
  },
  {
   "cell_type": "code",
   "execution_count": 16,
   "metadata": {
    "Collapsed": "false"
   },
   "outputs": [
    {
     "name": "stdout",
     "output_type": "stream",
     "text": [
      "0    g\n",
      "1    e\n",
      "2    e\n",
      "3    k\n",
      "4    s\n",
      "dtype: object\n",
      "\n",
      "\n",
      "   Name  Age\n",
      "0   tom   10\n",
      "1  nick   15\n",
      "2  juli   14\n"
     ]
    }
   ],
   "source": [
    "# From a List\n",
    "import pandas as pd\n",
    " \n",
    "list1 = ['g', 'e', 'e', 'k', 's']\n",
    "ser = pd.Series(list1)\n",
    "print(ser)\n",
    "\n",
    "print('\\n')\n",
    "\n",
    "list2 = [['tom', 10], ['nick', 15], ['juli', 14]] \n",
    "df = pd.DataFrame(list2, columns = ['Name', 'Age']) \n",
    "print(df)"
   ]
  },
  {
   "cell_type": "code",
   "execution_count": 17,
   "metadata": {
    "Collapsed": "false"
   },
   "outputs": [
    {
     "data": {
      "text/html": [
       "<div>\n",
       "<style scoped>\n",
       "    .dataframe tbody tr th:only-of-type {\n",
       "        vertical-align: middle;\n",
       "    }\n",
       "\n",
       "    .dataframe tbody tr th {\n",
       "        vertical-align: top;\n",
       "    }\n",
       "\n",
       "    .dataframe thead th {\n",
       "        text-align: right;\n",
       "    }\n",
       "</style>\n",
       "<table border=\"1\" class=\"dataframe\">\n",
       "  <thead>\n",
       "    <tr style=\"text-align: right;\">\n",
       "      <th></th>\n",
       "      <th>a</th>\n",
       "      <th>b</th>\n",
       "      <th>c</th>\n",
       "    </tr>\n",
       "  </thead>\n",
       "  <tbody>\n",
       "    <tr>\n",
       "      <th>0</th>\n",
       "      <td>1</td>\n",
       "      <td>2</td>\n",
       "      <td>3</td>\n",
       "    </tr>\n",
       "    <tr>\n",
       "      <th>1</th>\n",
       "      <td>10</td>\n",
       "      <td>20</td>\n",
       "      <td>30</td>\n",
       "    </tr>\n",
       "  </tbody>\n",
       "</table>\n",
       "</div>"
      ],
      "text/plain": [
       "    a   b   c\n",
       "0   1   2   3\n",
       "1  10  20  30"
      ]
     },
     "execution_count": 17,
     "metadata": {},
     "output_type": "execute_result"
    }
   ],
   "source": [
    "# Creating Dataframe from list of dicts\n",
    "\n",
    "data = [{'a': 1, 'b': 2, 'c':3}, {'a':10, 'b': 20, 'c': 30}] \n",
    "df = pd.DataFrame(data) \n",
    "df "
   ]
  },
  {
   "cell_type": "code",
   "execution_count": 18,
   "metadata": {
    "Collapsed": "false"
   },
   "outputs": [
    {
     "data": {
      "text/html": [
       "<div>\n",
       "<style scoped>\n",
       "    .dataframe tbody tr th:only-of-type {\n",
       "        vertical-align: middle;\n",
       "    }\n",
       "\n",
       "    .dataframe tbody tr th {\n",
       "        vertical-align: top;\n",
       "    }\n",
       "\n",
       "    .dataframe thead th {\n",
       "        text-align: right;\n",
       "    }\n",
       "</style>\n",
       "<table border=\"1\" class=\"dataframe\">\n",
       "  <thead>\n",
       "    <tr style=\"text-align: right;\">\n",
       "      <th></th>\n",
       "      <th>Name</th>\n",
       "      <th>Age</th>\n",
       "    </tr>\n",
       "  </thead>\n",
       "  <tbody>\n",
       "    <tr>\n",
       "      <th>0</th>\n",
       "      <td>tom</td>\n",
       "      <td>25</td>\n",
       "    </tr>\n",
       "    <tr>\n",
       "      <th>1</th>\n",
       "      <td>krish</td>\n",
       "      <td>30</td>\n",
       "    </tr>\n",
       "    <tr>\n",
       "      <th>2</th>\n",
       "      <td>nick</td>\n",
       "      <td>26</td>\n",
       "    </tr>\n",
       "    <tr>\n",
       "      <th>3</th>\n",
       "      <td>juli</td>\n",
       "      <td>22</td>\n",
       "    </tr>\n",
       "  </tbody>\n",
       "</table>\n",
       "</div>"
      ],
      "text/plain": [
       "    Name  Age\n",
       "0    tom   25\n",
       "1  krish   30\n",
       "2   nick   26\n",
       "3   juli   22"
      ]
     },
     "execution_count": 18,
     "metadata": {},
     "output_type": "execute_result"
    }
   ],
   "source": [
    "# Creating DataFrame using zip() function.\n",
    "\n",
    "Name = ['tom', 'krish', 'nick', 'juli']  \n",
    "Age = [25, 30, 26, 22]  \n",
    "     \n",
    "list_of_tuples = list(zip(Name, Age))  \n",
    "df = pd.DataFrame(list_of_tuples, columns = ['Name', 'Age'])  \n",
    "df  "
   ]
  },
  {
   "cell_type": "markdown",
   "metadata": {
    "Collapsed": "false",
    "heading_collapsed": true
   },
   "source": [
    "## Exploring the DataFrame and Series"
   ]
  },
  {
   "cell_type": "code",
   "execution_count": null,
   "metadata": {
    "Collapsed": "false",
    "hidden": true
   },
   "outputs": [],
   "source": [
    "df.info                                       columns, data type, memory usage, etc\n",
    "df.shape                                      dataframe rows x col\n",
    "df.type                                       provides column names and data type\n",
    "df['Col1'].describe()                         provides info and stats on col\n",
    "df['Col1'].value_counts()                     provides count of diff values in the column\n",
    "df['Col1'].value_counts(normalize=True)       provides % for each value \n",
    "df['Col1'].value_counts().head               \n",
    "df['Col1'].unique()                           list of unique values\n",
    "df['Col1'].nunique()                          count of unique values\n",
    "\n",
    "df.describe()                                 provides basic stats (min/max/perc/stdev, etc)\n",
    "df.describe().loc['min':'max']                provides a description just from min to max\n",
    "df.describe().loc['min':'max'],['col1':'col2']  provides description from min to max for col1 to col2\n"
   ]
  },
  {
   "cell_type": "markdown",
   "metadata": {
    "Collapsed": "false",
    "heading_collapsed": true
   },
   "source": [
    "## Accessing Elements"
   ]
  },
  {
   "cell_type": "markdown",
   "metadata": {
    "Collapsed": "false",
    "hidden": true
   },
   "source": [
    "There are two ways through which we can access element of series, they are :\n",
    "- Accessing Element from Series with Position\n",
    "- Accessing Element Using Label (index) "
   ]
  },
  {
   "cell_type": "code",
   "execution_count": 4,
   "metadata": {
    "Collapsed": "false",
    "hidden": true
   },
   "outputs": [
    {
     "name": "stdout",
     "output_type": "stream",
     "text": [
      "0    g\n",
      "1    e\n",
      "2    e\n",
      "dtype: object\n"
     ]
    }
   ],
   "source": [
    "# From position\n",
    "data = np.array(['g','e','e','k','s','f', 'o','r','g','e','e','k','s'])\n",
    "ser = pd.Series(data)\n",
    "print(ser[:3])\n"
   ]
  },
  {
   "cell_type": "code",
   "execution_count": 8,
   "metadata": {
    "Collapsed": "false",
    "hidden": true
   },
   "outputs": [
    {
     "name": "stdout",
     "output_type": "stream",
     "text": [
      "o\n"
     ]
    }
   ],
   "source": [
    "# From Label\n",
    "# In order to access an element from series, we have to set values by index label. \n",
    "# A Series is like a fixed-size dictionary in that you can get and set values by index label.\n",
    "\n",
    "data = np.array(['g','e','e','k','s','f', 'o','r','g','e','e','k','s'])\n",
    "ser = pd.Series(data,index=[10,11,12,13,14,15,16,17,18,19,20,21,22])\n",
    "\n",
    "print(ser[16])"
   ]
  },
  {
   "cell_type": "markdown",
   "metadata": {
    "Collapsed": "false",
    "heading_collapsed": true
   },
   "source": [
    "## Changing Index Values or Label"
   ]
  },
  {
   "cell_type": "markdown",
   "metadata": {
    "Collapsed": "false",
    "heading_collapsed": true,
    "hidden": true
   },
   "source": [
    "##### Changing the index values with data"
   ]
  },
  {
   "cell_type": "code",
   "execution_count": 103,
   "metadata": {
    "Collapsed": "false",
    "hidden": true
   },
   "outputs": [
    {
     "data": {
      "text/html": [
       "<div>\n",
       "<style scoped>\n",
       "    .dataframe tbody tr th:only-of-type {\n",
       "        vertical-align: middle;\n",
       "    }\n",
       "\n",
       "    .dataframe tbody tr th {\n",
       "        vertical-align: top;\n",
       "    }\n",
       "\n",
       "    .dataframe thead th {\n",
       "        text-align: right;\n",
       "    }\n",
       "</style>\n",
       "<table border=\"1\" class=\"dataframe\">\n",
       "  <thead>\n",
       "    <tr style=\"text-align: right;\">\n",
       "      <th></th>\n",
       "      <th>Name</th>\n",
       "      <th>Age</th>\n",
       "    </tr>\n",
       "  </thead>\n",
       "  <tbody>\n",
       "    <tr>\n",
       "      <th>rank1</th>\n",
       "      <td>Tom</td>\n",
       "      <td>20</td>\n",
       "    </tr>\n",
       "    <tr>\n",
       "      <th>rank2</th>\n",
       "      <td>nick</td>\n",
       "      <td>21</td>\n",
       "    </tr>\n",
       "    <tr>\n",
       "      <th>rank3</th>\n",
       "      <td>krish</td>\n",
       "      <td>19</td>\n",
       "    </tr>\n",
       "    <tr>\n",
       "      <th>rank4</th>\n",
       "      <td>jack</td>\n",
       "      <td>18</td>\n",
       "    </tr>\n",
       "  </tbody>\n",
       "</table>\n",
       "</div>"
      ],
      "text/plain": [
       "        Name  Age\n",
       "rank1    Tom   20\n",
       "rank2   nick   21\n",
       "rank3  krish   19\n",
       "rank4   jack   18"
      ]
     },
     "execution_count": 103,
     "metadata": {},
     "output_type": "execute_result"
    }
   ],
   "source": [
    "# Method 1: changing with data\n",
    "data2 = {'Name':['Tom', 'nick', 'krish', 'jack'], 'Age':[20, 21, 19, 18]} \n",
    "data3 = ['rank1', 'rank2', 'rank3', 'rank4'] \n",
    "df = pd.DataFrame(data2) \n",
    "df.index = data3\n",
    "df"
   ]
  },
  {
   "cell_type": "code",
   "execution_count": null,
   "metadata": {
    "Collapsed": "false",
    "hidden": true
   },
   "outputs": [],
   "source": [
    "# Method2\n",
    "df = pd.DataFrame(data, index =['rank1', 'rank2', 'rank3', 'rank4']) "
   ]
  },
  {
   "cell_type": "markdown",
   "metadata": {
    "Collapsed": "false",
    "heading_collapsed": true,
    "hidden": true
   },
   "source": [
    "##### Changing the index Label"
   ]
  },
  {
   "cell_type": "code",
   "execution_count": null,
   "metadata": {
    "Collapsed": "false",
    "hidden": true
   },
   "outputs": [],
   "source": [
    "# Method 1: set_index\n",
    "df.set_index('States')"
   ]
  },
  {
   "cell_type": "code",
   "execution_count": null,
   "metadata": {
    "Collapsed": "false",
    "hidden": true
   },
   "outputs": [],
   "source": [
    "# Method 2: rename\n",
    "df_new = df.rename(columns={'A': 'a'}, index={'ONE': 'one'})"
   ]
  },
  {
   "cell_type": "markdown",
   "metadata": {
    "Collapsed": "false",
    "heading_collapsed": true
   },
   "source": [
    "## Selecting Data in Series"
   ]
  },
  {
   "cell_type": "markdown",
   "metadata": {
    "Collapsed": "false",
    "heading_collapsed": true,
    "hidden": true
   },
   "source": [
    "##### Selection from the data"
   ]
  },
  {
   "cell_type": "code",
   "execution_count": 104,
   "metadata": {
    "Collapsed": "false",
    "hidden": true
   },
   "outputs": [
    {
     "name": "stdout",
     "output_type": "stream",
     "text": [
      "1\n",
      "1\n"
     ]
    }
   ],
   "source": [
    "Ser1 = pd.Series([1,2,3,4], index = ['USA','Germany','USSR','Japan'])\n",
    "\n",
    "#this is the same output\n",
    "print(Ser1['USA'])\n",
    "print(Ser1[0])"
   ]
  },
  {
   "cell_type": "markdown",
   "metadata": {
    "Collapsed": "false",
    "heading_collapsed": true,
    "hidden": true
   },
   "source": [
    "##### Finding the row that contains a value : str.contains"
   ]
  },
  {
   "cell_type": "code",
   "execution_count": null,
   "metadata": {
    "Collapsed": "false",
    "hidden": true
   },
   "outputs": [],
   "source": [
    "df2 = df[df['col_name'].str.contains('stuff_we_search')]\n",
    "df2 = df[df['col1'].str.contains(\"stuff_1\") | df['col2'].str.contains('stuff_2')] \n"
   ]
  },
  {
   "cell_type": "markdown",
   "metadata": {
    "Collapsed": "false",
    "heading_collapsed": true,
    "hidden": true
   },
   "source": [
    "##### Finding the row that contains the max of a column"
   ]
  },
  {
   "cell_type": "code",
   "execution_count": null,
   "metadata": {
    "Collapsed": "false",
    "hidden": true
   },
   "outputs": [],
   "source": [
    "df2 = df[df['col_name'] == sal['col_name'].max()]\n"
   ]
  },
  {
   "cell_type": "markdown",
   "metadata": {
    "Collapsed": "false",
    "heading_collapsed": true,
    "hidden": true
   },
   "source": [
    "#####  Pandas standard: iloc and loc"
   ]
  },
  {
   "cell_type": "code",
   "execution_count": null,
   "metadata": {
    "Collapsed": "false",
    "hidden": true
   },
   "outputs": [],
   "source": [
    "iloc is for positions\n",
    "\n",
    "df.iloc[[3,2,3]]              will return rows 3,2,3\n",
    "df.iloc[1:3]                  will return rows 1 to 3\n",
    "df.iloc[[True,False]]         will return rows 1 "
   ]
  },
  {
   "cell_type": "code",
   "execution_count": null,
   "metadata": {
    "Collapsed": "false",
    "hidden": true
   },
   "outputs": [],
   "source": [
    "loc is for labels  - becareful because next version will not allow loc['a'] anymore\n",
    "\n",
    "FOR COLUMNS\n",
    "df.loc[:,'a']                      will return col 'a'\n",
    "df.loc[:,['b','d']]                will return col 'd' and 'd'\n",
    "df.loc[:, ['b':'d']]               will return col 'b' to 'd'\n",
    "df.loc[[True,False]]               will return rows 1 "
   ]
  },
  {
   "cell_type": "markdown",
   "metadata": {
    "Collapsed": "false",
    "heading_collapsed": true,
    "hidden": true
   },
   "source": [
    "###### Example 1 for loc and iloc (quite long, with changes of col names as well)"
   ]
  },
  {
   "cell_type": "code",
   "execution_count": 105,
   "metadata": {
    "Collapsed": "false",
    "hidden": true
   },
   "outputs": [
    {
     "data": {
      "text/plain": [
       "0    Avery Bradley\n",
       "1      Jae Crowder\n",
       "2     John Holland\n",
       "3      R.J. Hunter\n",
       "4    Jonas Jerebko\n",
       "5     Amir Johnson\n",
       "6    Jordan Mickey\n",
       "7     Kelly Olynyk\n",
       "8     Terry Rozier\n",
       "9     Marcus Smart\n",
       "Name: Name, dtype: object"
      ]
     },
     "execution_count": 105,
     "metadata": {},
     "output_type": "execute_result"
    }
   ],
   "source": [
    "# creating dataframe from a csv import\n",
    "import pandas as pd\n",
    "\n",
    "df = pd.read_csv(\"nba.csv\")  \n",
    "\n",
    "# creating Series \n",
    "Ser1 = pd.Series(df['Name']) \n",
    "data1 = Ser1.head(10)\n",
    "data1"
   ]
  },
  {
   "cell_type": "code",
   "execution_count": 99,
   "metadata": {
    "Collapsed": "false",
    "hidden": true
   },
   "outputs": [
    {
     "data": {
      "text/html": [
       "<div>\n",
       "<style scoped>\n",
       "    .dataframe tbody tr th:only-of-type {\n",
       "        vertical-align: middle;\n",
       "    }\n",
       "\n",
       "    .dataframe tbody tr th {\n",
       "        vertical-align: top;\n",
       "    }\n",
       "\n",
       "    .dataframe thead th {\n",
       "        text-align: right;\n",
       "    }\n",
       "</style>\n",
       "<table border=\"1\" class=\"dataframe\">\n",
       "  <thead>\n",
       "    <tr style=\"text-align: right;\">\n",
       "      <th></th>\n",
       "      <th>Name</th>\n",
       "      <th>Team</th>\n",
       "      <th>Salary</th>\n",
       "    </tr>\n",
       "    <tr>\n",
       "      <th>Name</th>\n",
       "      <th></th>\n",
       "      <th></th>\n",
       "      <th></th>\n",
       "    </tr>\n",
       "  </thead>\n",
       "  <tbody>\n",
       "    <tr>\n",
       "      <th>Avery Bradley</th>\n",
       "      <td>Avery Bradley</td>\n",
       "      <td>Boston Celtics</td>\n",
       "      <td>7730337.0</td>\n",
       "    </tr>\n",
       "    <tr>\n",
       "      <th>Jae Crowder</th>\n",
       "      <td>Jae Crowder</td>\n",
       "      <td>Boston Celtics</td>\n",
       "      <td>6796117.0</td>\n",
       "    </tr>\n",
       "    <tr>\n",
       "      <th>John Holland</th>\n",
       "      <td>John Holland</td>\n",
       "      <td>Boston Celtics</td>\n",
       "      <td>NaN</td>\n",
       "    </tr>\n",
       "    <tr>\n",
       "      <th>R.J. Hunter</th>\n",
       "      <td>R.J. Hunter</td>\n",
       "      <td>Boston Celtics</td>\n",
       "      <td>1148640.0</td>\n",
       "    </tr>\n",
       "    <tr>\n",
       "      <th>Jonas Jerebko</th>\n",
       "      <td>Jonas Jerebko</td>\n",
       "      <td>Boston Celtics</td>\n",
       "      <td>5000000.0</td>\n",
       "    </tr>\n",
       "    <tr>\n",
       "      <th>...</th>\n",
       "      <td>...</td>\n",
       "      <td>...</td>\n",
       "      <td>...</td>\n",
       "    </tr>\n",
       "    <tr>\n",
       "      <th>Trey Lyles</th>\n",
       "      <td>Trey Lyles</td>\n",
       "      <td>Utah Jazz</td>\n",
       "      <td>2239800.0</td>\n",
       "    </tr>\n",
       "    <tr>\n",
       "      <th>Shelvin Mack</th>\n",
       "      <td>Shelvin Mack</td>\n",
       "      <td>Utah Jazz</td>\n",
       "      <td>2433333.0</td>\n",
       "    </tr>\n",
       "    <tr>\n",
       "      <th>Raul Neto</th>\n",
       "      <td>Raul Neto</td>\n",
       "      <td>Utah Jazz</td>\n",
       "      <td>900000.0</td>\n",
       "    </tr>\n",
       "    <tr>\n",
       "      <th>Tibor Pleiss</th>\n",
       "      <td>Tibor Pleiss</td>\n",
       "      <td>Utah Jazz</td>\n",
       "      <td>2900000.0</td>\n",
       "    </tr>\n",
       "    <tr>\n",
       "      <th>Jeff Withey</th>\n",
       "      <td>Jeff Withey</td>\n",
       "      <td>Utah Jazz</td>\n",
       "      <td>947276.0</td>\n",
       "    </tr>\n",
       "  </tbody>\n",
       "</table>\n",
       "<p>457 rows × 3 columns</p>\n",
       "</div>"
      ],
      "text/plain": [
       "                        Name            Team     Salary\n",
       "Name                                                   \n",
       "Avery Bradley  Avery Bradley  Boston Celtics  7730337.0\n",
       "Jae Crowder      Jae Crowder  Boston Celtics  6796117.0\n",
       "John Holland    John Holland  Boston Celtics        NaN\n",
       "R.J. Hunter      R.J. Hunter  Boston Celtics  1148640.0\n",
       "Jonas Jerebko  Jonas Jerebko  Boston Celtics  5000000.0\n",
       "...                      ...             ...        ...\n",
       "Trey Lyles        Trey Lyles       Utah Jazz  2239800.0\n",
       "Shelvin Mack    Shelvin Mack       Utah Jazz  2433333.0\n",
       "Raul Neto          Raul Neto       Utah Jazz   900000.0\n",
       "Tibor Pleiss    Tibor Pleiss       Utah Jazz  2900000.0\n",
       "Jeff Withey      Jeff Withey       Utah Jazz   947276.0\n",
       "\n",
       "[457 rows x 3 columns]"
      ]
     },
     "execution_count": 99,
     "metadata": {},
     "output_type": "execute_result"
    }
   ],
   "source": [
    "# creating Dataframe with 3 columns \n",
    "import pandas as pd\n",
    "\n",
    "df = pd.read_csv(\"nba.csv\") \n",
    "Data3 = pd.DataFrame(df, columns = ['Name', 'Team', 'Salary'])\n",
    "\n",
    "#changing the index \n",
    "Data3.index = Name\n",
    "Data3"
   ]
  },
  {
   "cell_type": "code",
   "execution_count": 100,
   "metadata": {
    "Collapsed": "false",
    "hidden": true
   },
   "outputs": [
    {
     "data": {
      "text/html": [
       "<div>\n",
       "<style scoped>\n",
       "    .dataframe tbody tr th:only-of-type {\n",
       "        vertical-align: middle;\n",
       "    }\n",
       "\n",
       "    .dataframe tbody tr th {\n",
       "        vertical-align: top;\n",
       "    }\n",
       "\n",
       "    .dataframe thead th {\n",
       "        text-align: right;\n",
       "    }\n",
       "</style>\n",
       "<table border=\"1\" class=\"dataframe\">\n",
       "  <thead>\n",
       "    <tr style=\"text-align: right;\">\n",
       "      <th></th>\n",
       "      <th>FullName</th>\n",
       "      <th>Team</th>\n",
       "      <th>USDSalary</th>\n",
       "    </tr>\n",
       "    <tr>\n",
       "      <th>Name</th>\n",
       "      <th></th>\n",
       "      <th></th>\n",
       "      <th></th>\n",
       "    </tr>\n",
       "  </thead>\n",
       "  <tbody>\n",
       "    <tr>\n",
       "      <th>Avery Bradley</th>\n",
       "      <td>Avery Bradley</td>\n",
       "      <td>Boston Celtics</td>\n",
       "      <td>7730337.0</td>\n",
       "    </tr>\n",
       "    <tr>\n",
       "      <th>Jae Crowder</th>\n",
       "      <td>Jae Crowder</td>\n",
       "      <td>Boston Celtics</td>\n",
       "      <td>6796117.0</td>\n",
       "    </tr>\n",
       "    <tr>\n",
       "      <th>John Holland</th>\n",
       "      <td>John Holland</td>\n",
       "      <td>Boston Celtics</td>\n",
       "      <td>NaN</td>\n",
       "    </tr>\n",
       "    <tr>\n",
       "      <th>R.J. Hunter</th>\n",
       "      <td>R.J. Hunter</td>\n",
       "      <td>Boston Celtics</td>\n",
       "      <td>1148640.0</td>\n",
       "    </tr>\n",
       "    <tr>\n",
       "      <th>Jonas Jerebko</th>\n",
       "      <td>Jonas Jerebko</td>\n",
       "      <td>Boston Celtics</td>\n",
       "      <td>5000000.0</td>\n",
       "    </tr>\n",
       "    <tr>\n",
       "      <th>...</th>\n",
       "      <td>...</td>\n",
       "      <td>...</td>\n",
       "      <td>...</td>\n",
       "    </tr>\n",
       "    <tr>\n",
       "      <th>Trey Lyles</th>\n",
       "      <td>Trey Lyles</td>\n",
       "      <td>Utah Jazz</td>\n",
       "      <td>2239800.0</td>\n",
       "    </tr>\n",
       "    <tr>\n",
       "      <th>Shelvin Mack</th>\n",
       "      <td>Shelvin Mack</td>\n",
       "      <td>Utah Jazz</td>\n",
       "      <td>2433333.0</td>\n",
       "    </tr>\n",
       "    <tr>\n",
       "      <th>Raul Neto</th>\n",
       "      <td>Raul Neto</td>\n",
       "      <td>Utah Jazz</td>\n",
       "      <td>900000.0</td>\n",
       "    </tr>\n",
       "    <tr>\n",
       "      <th>Tibor Pleiss</th>\n",
       "      <td>Tibor Pleiss</td>\n",
       "      <td>Utah Jazz</td>\n",
       "      <td>2900000.0</td>\n",
       "    </tr>\n",
       "    <tr>\n",
       "      <th>Jeff Withey</th>\n",
       "      <td>Jeff Withey</td>\n",
       "      <td>Utah Jazz</td>\n",
       "      <td>947276.0</td>\n",
       "    </tr>\n",
       "  </tbody>\n",
       "</table>\n",
       "<p>457 rows × 3 columns</p>\n",
       "</div>"
      ],
      "text/plain": [
       "                    FullName            Team  USDSalary\n",
       "Name                                                   \n",
       "Avery Bradley  Avery Bradley  Boston Celtics  7730337.0\n",
       "Jae Crowder      Jae Crowder  Boston Celtics  6796117.0\n",
       "John Holland    John Holland  Boston Celtics        NaN\n",
       "R.J. Hunter      R.J. Hunter  Boston Celtics  1148640.0\n",
       "Jonas Jerebko  Jonas Jerebko  Boston Celtics  5000000.0\n",
       "...                      ...             ...        ...\n",
       "Trey Lyles        Trey Lyles       Utah Jazz  2239800.0\n",
       "Shelvin Mack    Shelvin Mack       Utah Jazz  2433333.0\n",
       "Raul Neto          Raul Neto       Utah Jazz   900000.0\n",
       "Tibor Pleiss    Tibor Pleiss       Utah Jazz  2900000.0\n",
       "Jeff Withey      Jeff Withey       Utah Jazz   947276.0\n",
       "\n",
       "[457 rows x 3 columns]"
      ]
     },
     "execution_count": 100,
     "metadata": {},
     "output_type": "execute_result"
    }
   ],
   "source": [
    "#Rename Columns labels (that is not really part of loc/iloc but just an exercise)\n",
    "Data3.rename(columns = {'Name':'FullName', 'Salary':'USDSalary'},inplace=True)\n",
    "Data3"
   ]
  },
  {
   "cell_type": "code",
   "execution_count": 106,
   "metadata": {
    "Collapsed": "false",
    "hidden": true
   },
   "outputs": [
    {
     "data": {
      "text/html": [
       "<div>\n",
       "<style scoped>\n",
       "    .dataframe tbody tr th:only-of-type {\n",
       "        vertical-align: middle;\n",
       "    }\n",
       "\n",
       "    .dataframe tbody tr th {\n",
       "        vertical-align: top;\n",
       "    }\n",
       "\n",
       "    .dataframe thead th {\n",
       "        text-align: right;\n",
       "    }\n",
       "</style>\n",
       "<table border=\"1\" class=\"dataframe\">\n",
       "  <thead>\n",
       "    <tr style=\"text-align: right;\">\n",
       "      <th></th>\n",
       "      <th>FullName</th>\n",
       "      <th>Team</th>\n",
       "      <th>USDSalary</th>\n",
       "    </tr>\n",
       "    <tr>\n",
       "      <th>Name</th>\n",
       "      <th></th>\n",
       "      <th></th>\n",
       "      <th></th>\n",
       "    </tr>\n",
       "  </thead>\n",
       "  <tbody>\n",
       "    <tr>\n",
       "      <th>Avery Bradley</th>\n",
       "      <td>Avery Bradley</td>\n",
       "      <td>Boston Celtics</td>\n",
       "      <td>7730337.0</td>\n",
       "    </tr>\n",
       "    <tr>\n",
       "      <th>Jae Crowder</th>\n",
       "      <td>Jae Crowder</td>\n",
       "      <td>Boston Celtics</td>\n",
       "      <td>6796117.0</td>\n",
       "    </tr>\n",
       "    <tr>\n",
       "      <th>Tibor Pleiss</th>\n",
       "      <td>Tibor Pleiss</td>\n",
       "      <td>Utah Jazz</td>\n",
       "      <td>2900000.0</td>\n",
       "    </tr>\n",
       "  </tbody>\n",
       "</table>\n",
       "</div>"
      ],
      "text/plain": [
       "                    FullName            Team  USDSalary\n",
       "Name                                                   \n",
       "Avery Bradley  Avery Bradley  Boston Celtics  7730337.0\n",
       "Jae Crowder      Jae Crowder  Boston Celtics  6796117.0\n",
       "Tibor Pleiss    Tibor Pleiss       Utah Jazz  2900000.0"
      ]
     },
     "execution_count": 106,
     "metadata": {},
     "output_type": "execute_result"
    }
   ],
   "source": [
    "#For ROWS- using .loc[] function \n",
    "Data3.loc[['Avery Bradley','Jae Crowder','Tibor Pleiss']]"
   ]
  },
  {
   "cell_type": "code",
   "execution_count": 109,
   "metadata": {
    "Collapsed": "false",
    "hidden": true
   },
   "outputs": [
    {
     "data": {
      "text/html": [
       "<div>\n",
       "<style scoped>\n",
       "    .dataframe tbody tr th:only-of-type {\n",
       "        vertical-align: middle;\n",
       "    }\n",
       "\n",
       "    .dataframe tbody tr th {\n",
       "        vertical-align: top;\n",
       "    }\n",
       "\n",
       "    .dataframe thead th {\n",
       "        text-align: right;\n",
       "    }\n",
       "</style>\n",
       "<table border=\"1\" class=\"dataframe\">\n",
       "  <thead>\n",
       "    <tr style=\"text-align: right;\">\n",
       "      <th></th>\n",
       "      <th>FullName</th>\n",
       "      <th>Team</th>\n",
       "    </tr>\n",
       "    <tr>\n",
       "      <th>Name</th>\n",
       "      <th></th>\n",
       "      <th></th>\n",
       "    </tr>\n",
       "  </thead>\n",
       "  <tbody>\n",
       "    <tr>\n",
       "      <th>Avery Bradley</th>\n",
       "      <td>Avery Bradley</td>\n",
       "      <td>Boston Celtics</td>\n",
       "    </tr>\n",
       "    <tr>\n",
       "      <th>Jae Crowder</th>\n",
       "      <td>Jae Crowder</td>\n",
       "      <td>Boston Celtics</td>\n",
       "    </tr>\n",
       "    <tr>\n",
       "      <th>John Holland</th>\n",
       "      <td>John Holland</td>\n",
       "      <td>Boston Celtics</td>\n",
       "    </tr>\n",
       "    <tr>\n",
       "      <th>R.J. Hunter</th>\n",
       "      <td>R.J. Hunter</td>\n",
       "      <td>Boston Celtics</td>\n",
       "    </tr>\n",
       "    <tr>\n",
       "      <th>Jonas Jerebko</th>\n",
       "      <td>Jonas Jerebko</td>\n",
       "      <td>Boston Celtics</td>\n",
       "    </tr>\n",
       "    <tr>\n",
       "      <th>...</th>\n",
       "      <td>...</td>\n",
       "      <td>...</td>\n",
       "    </tr>\n",
       "    <tr>\n",
       "      <th>Trey Lyles</th>\n",
       "      <td>Trey Lyles</td>\n",
       "      <td>Utah Jazz</td>\n",
       "    </tr>\n",
       "    <tr>\n",
       "      <th>Shelvin Mack</th>\n",
       "      <td>Shelvin Mack</td>\n",
       "      <td>Utah Jazz</td>\n",
       "    </tr>\n",
       "    <tr>\n",
       "      <th>Raul Neto</th>\n",
       "      <td>Raul Neto</td>\n",
       "      <td>Utah Jazz</td>\n",
       "    </tr>\n",
       "    <tr>\n",
       "      <th>Tibor Pleiss</th>\n",
       "      <td>Tibor Pleiss</td>\n",
       "      <td>Utah Jazz</td>\n",
       "    </tr>\n",
       "    <tr>\n",
       "      <th>Jeff Withey</th>\n",
       "      <td>Jeff Withey</td>\n",
       "      <td>Utah Jazz</td>\n",
       "    </tr>\n",
       "  </tbody>\n",
       "</table>\n",
       "<p>457 rows × 2 columns</p>\n",
       "</div>"
      ],
      "text/plain": [
       "                    FullName            Team\n",
       "Name                                        \n",
       "Avery Bradley  Avery Bradley  Boston Celtics\n",
       "Jae Crowder      Jae Crowder  Boston Celtics\n",
       "John Holland    John Holland  Boston Celtics\n",
       "R.J. Hunter      R.J. Hunter  Boston Celtics\n",
       "Jonas Jerebko  Jonas Jerebko  Boston Celtics\n",
       "...                      ...             ...\n",
       "Trey Lyles        Trey Lyles       Utah Jazz\n",
       "Shelvin Mack    Shelvin Mack       Utah Jazz\n",
       "Raul Neto          Raul Neto       Utah Jazz\n",
       "Tibor Pleiss    Tibor Pleiss       Utah Jazz\n",
       "Jeff Withey      Jeff Withey       Utah Jazz\n",
       "\n",
       "[457 rows x 2 columns]"
      ]
     },
     "execution_count": 109,
     "metadata": {},
     "output_type": "execute_result"
    }
   ],
   "source": [
    "#For COLUMNS- using .loc[] function \n",
    "Data3.loc[:,('FullName','Team')]"
   ]
  },
  {
   "cell_type": "code",
   "execution_count": 108,
   "metadata": {
    "Collapsed": "false",
    "hidden": true
   },
   "outputs": [
    {
     "data": {
      "text/html": [
       "<div>\n",
       "<style scoped>\n",
       "    .dataframe tbody tr th:only-of-type {\n",
       "        vertical-align: middle;\n",
       "    }\n",
       "\n",
       "    .dataframe tbody tr th {\n",
       "        vertical-align: top;\n",
       "    }\n",
       "\n",
       "    .dataframe thead th {\n",
       "        text-align: right;\n",
       "    }\n",
       "</style>\n",
       "<table border=\"1\" class=\"dataframe\">\n",
       "  <thead>\n",
       "    <tr style=\"text-align: right;\">\n",
       "      <th></th>\n",
       "      <th>FullName</th>\n",
       "      <th>Team</th>\n",
       "      <th>USDSalary</th>\n",
       "    </tr>\n",
       "    <tr>\n",
       "      <th>Name</th>\n",
       "      <th></th>\n",
       "      <th></th>\n",
       "      <th></th>\n",
       "    </tr>\n",
       "  </thead>\n",
       "  <tbody>\n",
       "    <tr>\n",
       "      <th>R.J. Hunter</th>\n",
       "      <td>R.J. Hunter</td>\n",
       "      <td>Boston Celtics</td>\n",
       "      <td>1148640.0</td>\n",
       "    </tr>\n",
       "    <tr>\n",
       "      <th>Jonas Jerebko</th>\n",
       "      <td>Jonas Jerebko</td>\n",
       "      <td>Boston Celtics</td>\n",
       "      <td>5000000.0</td>\n",
       "    </tr>\n",
       "    <tr>\n",
       "      <th>Amir Johnson</th>\n",
       "      <td>Amir Johnson</td>\n",
       "      <td>Boston Celtics</td>\n",
       "      <td>12000000.0</td>\n",
       "    </tr>\n",
       "  </tbody>\n",
       "</table>\n",
       "</div>"
      ],
      "text/plain": [
       "                    FullName            Team   USDSalary\n",
       "Name                                                    \n",
       "R.J. Hunter      R.J. Hunter  Boston Celtics   1148640.0\n",
       "Jonas Jerebko  Jonas Jerebko  Boston Celtics   5000000.0\n",
       "Amir Johnson    Amir Johnson  Boston Celtics  12000000.0"
      ]
     },
     "execution_count": 108,
     "metadata": {},
     "output_type": "execute_result"
    }
   ],
   "source": [
    "#using .iloc[] function\n",
    "Data3.iloc[3:6]"
   ]
  },
  {
   "cell_type": "code",
   "execution_count": 117,
   "metadata": {
    "Collapsed": "false",
    "hidden": true
   },
   "outputs": [
    {
     "data": {
      "text/html": [
       "<div>\n",
       "<style scoped>\n",
       "    .dataframe tbody tr th:only-of-type {\n",
       "        vertical-align: middle;\n",
       "    }\n",
       "\n",
       "    .dataframe tbody tr th {\n",
       "        vertical-align: top;\n",
       "    }\n",
       "\n",
       "    .dataframe thead th {\n",
       "        text-align: right;\n",
       "    }\n",
       "</style>\n",
       "<table border=\"1\" class=\"dataframe\">\n",
       "  <thead>\n",
       "    <tr style=\"text-align: right;\">\n",
       "      <th></th>\n",
       "      <th>Team</th>\n",
       "      <th>USDSalary</th>\n",
       "    </tr>\n",
       "    <tr>\n",
       "      <th>Name</th>\n",
       "      <th></th>\n",
       "      <th></th>\n",
       "    </tr>\n",
       "  </thead>\n",
       "  <tbody>\n",
       "    <tr>\n",
       "      <th>Avery Bradley</th>\n",
       "      <td>Boston Celtics</td>\n",
       "      <td>7730337.0</td>\n",
       "    </tr>\n",
       "    <tr>\n",
       "      <th>Jae Crowder</th>\n",
       "      <td>Boston Celtics</td>\n",
       "      <td>6796117.0</td>\n",
       "    </tr>\n",
       "    <tr>\n",
       "      <th>John Holland</th>\n",
       "      <td>Boston Celtics</td>\n",
       "      <td>NaN</td>\n",
       "    </tr>\n",
       "    <tr>\n",
       "      <th>R.J. Hunter</th>\n",
       "      <td>Boston Celtics</td>\n",
       "      <td>1148640.0</td>\n",
       "    </tr>\n",
       "    <tr>\n",
       "      <th>Jonas Jerebko</th>\n",
       "      <td>Boston Celtics</td>\n",
       "      <td>5000000.0</td>\n",
       "    </tr>\n",
       "    <tr>\n",
       "      <th>...</th>\n",
       "      <td>...</td>\n",
       "      <td>...</td>\n",
       "    </tr>\n",
       "    <tr>\n",
       "      <th>Trey Lyles</th>\n",
       "      <td>Utah Jazz</td>\n",
       "      <td>2239800.0</td>\n",
       "    </tr>\n",
       "    <tr>\n",
       "      <th>Shelvin Mack</th>\n",
       "      <td>Utah Jazz</td>\n",
       "      <td>2433333.0</td>\n",
       "    </tr>\n",
       "    <tr>\n",
       "      <th>Raul Neto</th>\n",
       "      <td>Utah Jazz</td>\n",
       "      <td>900000.0</td>\n",
       "    </tr>\n",
       "    <tr>\n",
       "      <th>Tibor Pleiss</th>\n",
       "      <td>Utah Jazz</td>\n",
       "      <td>2900000.0</td>\n",
       "    </tr>\n",
       "    <tr>\n",
       "      <th>Jeff Withey</th>\n",
       "      <td>Utah Jazz</td>\n",
       "      <td>947276.0</td>\n",
       "    </tr>\n",
       "  </tbody>\n",
       "</table>\n",
       "<p>457 rows × 2 columns</p>\n",
       "</div>"
      ],
      "text/plain": [
       "                         Team  USDSalary\n",
       "Name                                    \n",
       "Avery Bradley  Boston Celtics  7730337.0\n",
       "Jae Crowder    Boston Celtics  6796117.0\n",
       "John Holland   Boston Celtics        NaN\n",
       "R.J. Hunter    Boston Celtics  1148640.0\n",
       "Jonas Jerebko  Boston Celtics  5000000.0\n",
       "...                       ...        ...\n",
       "Trey Lyles          Utah Jazz  2239800.0\n",
       "Shelvin Mack        Utah Jazz  2433333.0\n",
       "Raul Neto           Utah Jazz   900000.0\n",
       "Tibor Pleiss        Utah Jazz  2900000.0\n",
       "Jeff Withey         Utah Jazz   947276.0\n",
       "\n",
       "[457 rows x 2 columns]"
      ]
     },
     "execution_count": 117,
     "metadata": {},
     "output_type": "execute_result"
    }
   ],
   "source": [
    "#For Columns - using .iloc[] function \n",
    "Data3.iloc[:,[1,2]]"
   ]
  },
  {
   "cell_type": "markdown",
   "metadata": {
    "Collapsed": "false",
    "heading_collapsed": true,
    "hidden": true
   },
   "source": [
    "##### Fast Scalar Access: at, iat"
   ]
  },
  {
   "cell_type": "markdown",
   "metadata": {
    "Collapsed": "false",
    "hidden": true
   },
   "source": [
    "Pandas recommends that for fast access of scalar values: at() and iat()\n",
    "- With at(): row, column labels\n",
    "- With iat(): row, columns positions (integer)"
   ]
  },
  {
   "cell_type": "code",
   "execution_count": null,
   "metadata": {
    "Collapsed": "false",
    "hidden": true
   },
   "outputs": [],
   "source": [
    "df.at['a','A']                  will return element at row 'a' col 'A'\n",
    "df.iat['a','A']                 will return element at row 'a' col 'A'"
   ]
  },
  {
   "cell_type": "markdown",
   "metadata": {
    "Collapsed": "false",
    "heading_collapsed": true,
    "hidden": true
   },
   "source": [
    "##### Different Ways To Select Columns"
   ]
  },
  {
   "cell_type": "code",
   "execution_count": 196,
   "metadata": {
    "Collapsed": "false",
    "hidden": true
   },
   "outputs": [
    {
     "data": {
      "text/html": [
       "<div>\n",
       "<style scoped>\n",
       "    .dataframe tbody tr th:only-of-type {\n",
       "        vertical-align: middle;\n",
       "    }\n",
       "\n",
       "    .dataframe tbody tr th {\n",
       "        vertical-align: top;\n",
       "    }\n",
       "\n",
       "    .dataframe thead th {\n",
       "        text-align: right;\n",
       "    }\n",
       "</style>\n",
       "<table border=\"1\" class=\"dataframe\">\n",
       "  <thead>\n",
       "    <tr style=\"text-align: right;\">\n",
       "      <th></th>\n",
       "      <th>W</th>\n",
       "      <th>X</th>\n",
       "      <th>Y</th>\n",
       "      <th>Z</th>\n",
       "    </tr>\n",
       "  </thead>\n",
       "  <tbody>\n",
       "    <tr>\n",
       "      <th>A</th>\n",
       "      <td>0.147027</td>\n",
       "      <td>-0.479448</td>\n",
       "      <td>0.558769</td>\n",
       "      <td>1.024810</td>\n",
       "    </tr>\n",
       "    <tr>\n",
       "      <th>B</th>\n",
       "      <td>-0.925874</td>\n",
       "      <td>1.862864</td>\n",
       "      <td>-1.133817</td>\n",
       "      <td>0.610478</td>\n",
       "    </tr>\n",
       "    <tr>\n",
       "      <th>C</th>\n",
       "      <td>0.386030</td>\n",
       "      <td>2.084019</td>\n",
       "      <td>-0.376519</td>\n",
       "      <td>0.230336</td>\n",
       "    </tr>\n",
       "    <tr>\n",
       "      <th>D</th>\n",
       "      <td>0.681209</td>\n",
       "      <td>1.035125</td>\n",
       "      <td>-0.031160</td>\n",
       "      <td>1.939932</td>\n",
       "    </tr>\n",
       "    <tr>\n",
       "      <th>E</th>\n",
       "      <td>-1.005187</td>\n",
       "      <td>-0.741790</td>\n",
       "      <td>0.187125</td>\n",
       "      <td>-0.732845</td>\n",
       "    </tr>\n",
       "  </tbody>\n",
       "</table>\n",
       "</div>"
      ],
      "text/plain": [
       "          W         X         Y         Z\n",
       "A  0.147027 -0.479448  0.558769  1.024810\n",
       "B -0.925874  1.862864 -1.133817  0.610478\n",
       "C  0.386030  2.084019 -0.376519  0.230336\n",
       "D  0.681209  1.035125 -0.031160  1.939932\n",
       "E -1.005187 -0.741790  0.187125 -0.732845"
      ]
     },
     "execution_count": 196,
     "metadata": {},
     "output_type": "execute_result"
    }
   ],
   "source": [
    "a = pd.DataFrame(np.random.randn(5,4),index=['A','B','C','D','E'],columns=['W','X','Y','Z'])\n",
    "a"
   ]
  },
  {
   "cell_type": "code",
   "execution_count": 187,
   "metadata": {
    "Collapsed": "false",
    "hidden": true
   },
   "outputs": [
    {
     "data": {
      "text/plain": [
       "A   -0.943406\n",
       "B    0.238127\n",
       "C   -1.136645\n",
       "D   -0.031579\n",
       "E   -0.755325\n",
       "Name: Y, dtype: float64"
      ]
     },
     "execution_count": 187,
     "metadata": {},
     "output_type": "execute_result"
    }
   ],
   "source": [
    "# just use the column name\n",
    "a['Y']"
   ]
  },
  {
   "cell_type": "code",
   "execution_count": 188,
   "metadata": {
    "Collapsed": "false",
    "hidden": true
   },
   "outputs": [
    {
     "data": {
      "text/html": [
       "<div>\n",
       "<style scoped>\n",
       "    .dataframe tbody tr th:only-of-type {\n",
       "        vertical-align: middle;\n",
       "    }\n",
       "\n",
       "    .dataframe tbody tr th {\n",
       "        vertical-align: top;\n",
       "    }\n",
       "\n",
       "    .dataframe thead th {\n",
       "        text-align: right;\n",
       "    }\n",
       "</style>\n",
       "<table border=\"1\" class=\"dataframe\">\n",
       "  <thead>\n",
       "    <tr style=\"text-align: right;\">\n",
       "      <th></th>\n",
       "      <th>Y</th>\n",
       "      <th>W</th>\n",
       "    </tr>\n",
       "  </thead>\n",
       "  <tbody>\n",
       "    <tr>\n",
       "      <th>A</th>\n",
       "      <td>-0.943406</td>\n",
       "      <td>-0.497104</td>\n",
       "    </tr>\n",
       "    <tr>\n",
       "      <th>B</th>\n",
       "      <td>0.238127</td>\n",
       "      <td>-0.116773</td>\n",
       "    </tr>\n",
       "    <tr>\n",
       "      <th>C</th>\n",
       "      <td>-1.136645</td>\n",
       "      <td>-0.993263</td>\n",
       "    </tr>\n",
       "    <tr>\n",
       "      <th>D</th>\n",
       "      <td>-0.031579</td>\n",
       "      <td>1.025984</td>\n",
       "    </tr>\n",
       "    <tr>\n",
       "      <th>E</th>\n",
       "      <td>-0.755325</td>\n",
       "      <td>2.154846</td>\n",
       "    </tr>\n",
       "  </tbody>\n",
       "</table>\n",
       "</div>"
      ],
      "text/plain": [
       "          Y         W\n",
       "A -0.943406 -0.497104\n",
       "B  0.238127 -0.116773\n",
       "C -1.136645 -0.993263\n",
       "D -0.031579  1.025984\n",
       "E -0.755325  2.154846"
      ]
     },
     "execution_count": 188,
     "metadata": {},
     "output_type": "execute_result"
    }
   ],
   "source": [
    "# for several columns\n",
    "a[['Y','W']]"
   ]
  },
  {
   "cell_type": "code",
   "execution_count": 197,
   "metadata": {
    "Collapsed": "false",
    "hidden": true
   },
   "outputs": [
    {
     "data": {
      "text/plain": [
       "A    0.147027\n",
       "B   -0.925874\n",
       "C    0.386030\n",
       "D    0.681209\n",
       "E   -1.005187\n",
       "Name: W, dtype: float64"
      ]
     },
     "execution_count": 197,
     "metadata": {},
     "output_type": "execute_result"
    }
   ],
   "source": [
    "# This works as well (not recommended, this is SQL)\n",
    "a.W  "
   ]
  },
  {
   "cell_type": "markdown",
   "metadata": {
    "Collapsed": "false",
    "hidden": true
   },
   "source": [
    "Pandas recommends that for fast access of scalar values: at() and iat()\n",
    "- With at(): row, column labels\n",
    "- With iat(): row, columns positions (integer)"
   ]
  },
  {
   "cell_type": "code",
   "execution_count": null,
   "metadata": {
    "Collapsed": "false",
    "hidden": true
   },
   "outputs": [],
   "source": [
    "df.at['a','A']                  will return element at row 'a' col 'A'\n",
    "df.iat['a','A']                 will return element at row 'a' col 'A'"
   ]
  },
  {
   "cell_type": "markdown",
   "metadata": {
    "Collapsed": "false",
    "heading_collapsed": true,
    "hidden": true
   },
   "source": [
    "##### Take a Few Rows: take"
   ]
  },
  {
   "cell_type": "markdown",
   "metadata": {
    "Collapsed": "false",
    "hidden": true
   },
   "source": [
    "Both Series and DataFrame support a method take() which accepts a list of indices and returns rows at those indices.\n",
    "\n",
    "Possible to take columns by using axis = 1"
   ]
  },
  {
   "cell_type": "code",
   "execution_count": null,
   "metadata": {
    "Collapsed": "false",
    "hidden": true
   },
   "outputs": [],
   "source": [
    "df.take([0, 3, 4])              will return rows 0, 3, 4\n",
    "df.take([0, 3], axis = 1)       will return cols 0, 3"
   ]
  },
  {
   "cell_type": "markdown",
   "metadata": {
    "Collapsed": "false",
    "heading_collapsed": true,
    "hidden": true
   },
   "source": [
    "##### Slicing across rows and columns"
   ]
  },
  {
   "cell_type": "markdown",
   "metadata": {
    "Collapsed": "false",
    "hidden": true
   },
   "source": [
    "The standard Python array slice syntax will work, even though pandas doc recommends more efficient row access methods, such as loc - iloc"
   ]
  },
  {
   "cell_type": "code",
   "execution_count": null,
   "metadata": {
    "Collapsed": "false",
    "hidden": true
   },
   "outputs": [],
   "source": [
    "df[:4]     for the 1st 4 rows\n",
    "df[-4:]    for the lat 4 rows\n",
    "df[2:4]    for a range of rows"
   ]
  },
  {
   "cell_type": "code",
   "execution_count": 218,
   "metadata": {
    "Collapsed": "false",
    "hidden": true
   },
   "outputs": [
    {
     "data": {
      "text/html": [
       "<div>\n",
       "<style scoped>\n",
       "    .dataframe tbody tr th:only-of-type {\n",
       "        vertical-align: middle;\n",
       "    }\n",
       "\n",
       "    .dataframe tbody tr th {\n",
       "        vertical-align: top;\n",
       "    }\n",
       "\n",
       "    .dataframe thead th {\n",
       "        text-align: right;\n",
       "    }\n",
       "</style>\n",
       "<table border=\"1\" class=\"dataframe\">\n",
       "  <thead>\n",
       "    <tr style=\"text-align: right;\">\n",
       "      <th></th>\n",
       "      <th>A</th>\n",
       "      <th>C</th>\n",
       "    </tr>\n",
       "  </thead>\n",
       "  <tbody>\n",
       "    <tr>\n",
       "      <th>0</th>\n",
       "      <td>1.0</td>\n",
       "      <td>1</td>\n",
       "    </tr>\n",
       "    <tr>\n",
       "      <th>1</th>\n",
       "      <td>2.0</td>\n",
       "      <td>2</td>\n",
       "    </tr>\n",
       "  </tbody>\n",
       "</table>\n",
       "</div>"
      ],
      "text/plain": [
       "     A  C\n",
       "0  1.0  1\n",
       "1  2.0  2"
      ]
     },
     "execution_count": 218,
     "metadata": {},
     "output_type": "execute_result"
    }
   ],
   "source": [
    "a = pd.DataFrame([[1.0,5.0,1],[2,np.NaN,2],[np.NaN,np.NaN,3]], columns = ['A','B','C'])\n",
    "b = a[['A','C']]\n",
    "b.iloc[[0,1]]"
   ]
  },
  {
   "cell_type": "code",
   "execution_count": 219,
   "metadata": {
    "Collapsed": "false",
    "hidden": true
   },
   "outputs": [
    {
     "data": {
      "text/html": [
       "<div>\n",
       "<style scoped>\n",
       "    .dataframe tbody tr th:only-of-type {\n",
       "        vertical-align: middle;\n",
       "    }\n",
       "\n",
       "    .dataframe tbody tr th {\n",
       "        vertical-align: top;\n",
       "    }\n",
       "\n",
       "    .dataframe thead th {\n",
       "        text-align: right;\n",
       "    }\n",
       "</style>\n",
       "<table border=\"1\" class=\"dataframe\">\n",
       "  <thead>\n",
       "    <tr style=\"text-align: right;\">\n",
       "      <th></th>\n",
       "      <th>W</th>\n",
       "      <th>Y</th>\n",
       "    </tr>\n",
       "  </thead>\n",
       "  <tbody>\n",
       "    <tr>\n",
       "      <th>A</th>\n",
       "      <td>0.302665</td>\n",
       "      <td>-1.706086</td>\n",
       "    </tr>\n",
       "    <tr>\n",
       "      <th>B</th>\n",
       "      <td>-0.134841</td>\n",
       "      <td>0.166905</td>\n",
       "    </tr>\n",
       "  </tbody>\n",
       "</table>\n",
       "</div>"
      ],
      "text/plain": [
       "          W         Y\n",
       "A  0.302665 -1.706086\n",
       "B -0.134841  0.166905"
      ]
     },
     "execution_count": 219,
     "metadata": {},
     "output_type": "execute_result"
    }
   ],
   "source": [
    "a = pd.DataFrame(np.random.randn(5,4),index=['A','B','C','D','E'],columns=['W','X','Y','Z'])\n",
    "a[:2][['W','Y']]    #select the rows, then select the columns"
   ]
  },
  {
   "cell_type": "markdown",
   "metadata": {
    "Collapsed": "false",
    "heading_collapsed": true
   },
   "source": [
    "## Adding / Removing / Renaming Columns"
   ]
  },
  {
   "cell_type": "markdown",
   "metadata": {
    "Collapsed": "true",
    "heading_collapsed": true,
    "hidden": true
   },
   "source": [
    "##### Adding a new column (at end) with a list, or array"
   ]
  },
  {
   "cell_type": "code",
   "execution_count": 132,
   "metadata": {
    "Collapsed": "false",
    "hidden": true
   },
   "outputs": [
    {
     "data": {
      "text/html": [
       "<div>\n",
       "<style scoped>\n",
       "    .dataframe tbody tr th:only-of-type {\n",
       "        vertical-align: middle;\n",
       "    }\n",
       "\n",
       "    .dataframe tbody tr th {\n",
       "        vertical-align: top;\n",
       "    }\n",
       "\n",
       "    .dataframe thead th {\n",
       "        text-align: right;\n",
       "    }\n",
       "</style>\n",
       "<table border=\"1\" class=\"dataframe\">\n",
       "  <thead>\n",
       "    <tr style=\"text-align: right;\">\n",
       "      <th></th>\n",
       "      <th>W</th>\n",
       "      <th>X</th>\n",
       "      <th>Y</th>\n",
       "      <th>Z</th>\n",
       "      <th>new</th>\n",
       "    </tr>\n",
       "  </thead>\n",
       "  <tbody>\n",
       "    <tr>\n",
       "      <th>A</th>\n",
       "      <td>-0.765488</td>\n",
       "      <td>1.106956</td>\n",
       "      <td>-1.322725</td>\n",
       "      <td>-0.032440</td>\n",
       "      <td>a</td>\n",
       "    </tr>\n",
       "    <tr>\n",
       "      <th>B</th>\n",
       "      <td>-2.075747</td>\n",
       "      <td>0.098703</td>\n",
       "      <td>-0.795067</td>\n",
       "      <td>1.109205</td>\n",
       "      <td>b</td>\n",
       "    </tr>\n",
       "    <tr>\n",
       "      <th>C</th>\n",
       "      <td>-0.559750</td>\n",
       "      <td>0.849862</td>\n",
       "      <td>-1.300241</td>\n",
       "      <td>0.427709</td>\n",
       "      <td>c</td>\n",
       "    </tr>\n",
       "    <tr>\n",
       "      <th>D</th>\n",
       "      <td>1.438867</td>\n",
       "      <td>-1.171476</td>\n",
       "      <td>-1.589255</td>\n",
       "      <td>0.025656</td>\n",
       "      <td>d</td>\n",
       "    </tr>\n",
       "    <tr>\n",
       "      <th>E</th>\n",
       "      <td>-0.344111</td>\n",
       "      <td>-0.371495</td>\n",
       "      <td>-0.055213</td>\n",
       "      <td>-0.852237</td>\n",
       "      <td>e</td>\n",
       "    </tr>\n",
       "  </tbody>\n",
       "</table>\n",
       "</div>"
      ],
      "text/plain": [
       "          W         X         Y         Z new\n",
       "A -0.765488  1.106956 -1.322725 -0.032440   a\n",
       "B -2.075747  0.098703 -0.795067  1.109205   b\n",
       "C -0.559750  0.849862 -1.300241  0.427709   c\n",
       "D  1.438867 -1.171476 -1.589255  0.025656   d\n",
       "E -0.344111 -0.371495 -0.055213 -0.852237   e"
      ]
     },
     "execution_count": 132,
     "metadata": {},
     "output_type": "execute_result"
    }
   ],
   "source": [
    "c = ['a','b','c','d','e']\n",
    "a['new'] = c\n",
    "a"
   ]
  },
  {
   "cell_type": "markdown",
   "metadata": {
    "Collapsed": "true",
    "heading_collapsed": true,
    "hidden": true
   },
   "source": [
    "##### Inserting a new column"
   ]
  },
  {
   "cell_type": "code",
   "execution_count": 133,
   "metadata": {
    "Collapsed": "false",
    "hidden": true
   },
   "outputs": [
    {
     "data": {
      "text/html": [
       "<div>\n",
       "<style scoped>\n",
       "    .dataframe tbody tr th:only-of-type {\n",
       "        vertical-align: middle;\n",
       "    }\n",
       "\n",
       "    .dataframe tbody tr th {\n",
       "        vertical-align: top;\n",
       "    }\n",
       "\n",
       "    .dataframe thead th {\n",
       "        text-align: right;\n",
       "    }\n",
       "</style>\n",
       "<table border=\"1\" class=\"dataframe\">\n",
       "  <thead>\n",
       "    <tr style=\"text-align: right;\">\n",
       "      <th></th>\n",
       "      <th>W</th>\n",
       "      <th>X</th>\n",
       "      <th>newest</th>\n",
       "      <th>Y</th>\n",
       "      <th>Z</th>\n",
       "      <th>new</th>\n",
       "    </tr>\n",
       "  </thead>\n",
       "  <tbody>\n",
       "    <tr>\n",
       "      <th>A</th>\n",
       "      <td>-0.765488</td>\n",
       "      <td>1.106956</td>\n",
       "      <td>a1</td>\n",
       "      <td>-1.322725</td>\n",
       "      <td>-0.032440</td>\n",
       "      <td>a</td>\n",
       "    </tr>\n",
       "    <tr>\n",
       "      <th>B</th>\n",
       "      <td>-2.075747</td>\n",
       "      <td>0.098703</td>\n",
       "      <td>b1</td>\n",
       "      <td>-0.795067</td>\n",
       "      <td>1.109205</td>\n",
       "      <td>b</td>\n",
       "    </tr>\n",
       "    <tr>\n",
       "      <th>C</th>\n",
       "      <td>-0.559750</td>\n",
       "      <td>0.849862</td>\n",
       "      <td>c1</td>\n",
       "      <td>-1.300241</td>\n",
       "      <td>0.427709</td>\n",
       "      <td>c</td>\n",
       "    </tr>\n",
       "    <tr>\n",
       "      <th>D</th>\n",
       "      <td>1.438867</td>\n",
       "      <td>-1.171476</td>\n",
       "      <td>d1</td>\n",
       "      <td>-1.589255</td>\n",
       "      <td>0.025656</td>\n",
       "      <td>d</td>\n",
       "    </tr>\n",
       "    <tr>\n",
       "      <th>E</th>\n",
       "      <td>-0.344111</td>\n",
       "      <td>-0.371495</td>\n",
       "      <td>e1</td>\n",
       "      <td>-0.055213</td>\n",
       "      <td>-0.852237</td>\n",
       "      <td>e</td>\n",
       "    </tr>\n",
       "  </tbody>\n",
       "</table>\n",
       "</div>"
      ],
      "text/plain": [
       "          W         X newest         Y         Z new\n",
       "A -0.765488  1.106956     a1 -1.322725 -0.032440   a\n",
       "B -2.075747  0.098703     b1 -0.795067  1.109205   b\n",
       "C -0.559750  0.849862     c1 -1.300241  0.427709   c\n",
       "D  1.438867 -1.171476     d1 -1.589255  0.025656   d\n",
       "E -0.344111 -0.371495     e1 -0.055213 -0.852237   e"
      ]
     },
     "execution_count": 133,
     "metadata": {},
     "output_type": "execute_result"
    }
   ],
   "source": [
    "d = ['a1','b1','c1','d1','e1']\n",
    "a.insert(2,\"newest\",d, True)\n",
    "a"
   ]
  },
  {
   "cell_type": "markdown",
   "metadata": {
    "Collapsed": "true",
    "heading_collapsed": true,
    "hidden": true
   },
   "source": [
    "##### Adding a new column using .assign"
   ]
  },
  {
   "cell_type": "code",
   "execution_count": 134,
   "metadata": {
    "Collapsed": "false",
    "hidden": true
   },
   "outputs": [
    {
     "data": {
      "text/html": [
       "<div>\n",
       "<style scoped>\n",
       "    .dataframe tbody tr th:only-of-type {\n",
       "        vertical-align: middle;\n",
       "    }\n",
       "\n",
       "    .dataframe tbody tr th {\n",
       "        vertical-align: top;\n",
       "    }\n",
       "\n",
       "    .dataframe thead th {\n",
       "        text-align: right;\n",
       "    }\n",
       "</style>\n",
       "<table border=\"1\" class=\"dataframe\">\n",
       "  <thead>\n",
       "    <tr style=\"text-align: right;\">\n",
       "      <th></th>\n",
       "      <th>W</th>\n",
       "      <th>X</th>\n",
       "      <th>newest</th>\n",
       "      <th>Y</th>\n",
       "      <th>Z</th>\n",
       "      <th>new</th>\n",
       "      <th>A</th>\n",
       "    </tr>\n",
       "  </thead>\n",
       "  <tbody>\n",
       "    <tr>\n",
       "      <th>A</th>\n",
       "      <td>-0.765488</td>\n",
       "      <td>1.106956</td>\n",
       "      <td>a1</td>\n",
       "      <td>-1.322725</td>\n",
       "      <td>-0.032440</td>\n",
       "      <td>a</td>\n",
       "      <td>45</td>\n",
       "    </tr>\n",
       "    <tr>\n",
       "      <th>B</th>\n",
       "      <td>-2.075747</td>\n",
       "      <td>0.098703</td>\n",
       "      <td>b1</td>\n",
       "      <td>-0.795067</td>\n",
       "      <td>1.109205</td>\n",
       "      <td>b</td>\n",
       "      <td>56</td>\n",
       "    </tr>\n",
       "    <tr>\n",
       "      <th>C</th>\n",
       "      <td>-0.559750</td>\n",
       "      <td>0.849862</td>\n",
       "      <td>c1</td>\n",
       "      <td>-1.300241</td>\n",
       "      <td>0.427709</td>\n",
       "      <td>c</td>\n",
       "      <td>78</td>\n",
       "    </tr>\n",
       "    <tr>\n",
       "      <th>D</th>\n",
       "      <td>1.438867</td>\n",
       "      <td>-1.171476</td>\n",
       "      <td>d1</td>\n",
       "      <td>-1.589255</td>\n",
       "      <td>0.025656</td>\n",
       "      <td>d</td>\n",
       "      <td>89</td>\n",
       "    </tr>\n",
       "    <tr>\n",
       "      <th>E</th>\n",
       "      <td>-0.344111</td>\n",
       "      <td>-0.371495</td>\n",
       "      <td>e1</td>\n",
       "      <td>-0.055213</td>\n",
       "      <td>-0.852237</td>\n",
       "      <td>e</td>\n",
       "      <td>12</td>\n",
       "    </tr>\n",
       "  </tbody>\n",
       "</table>\n",
       "</div>"
      ],
      "text/plain": [
       "          W         X newest         Y         Z new   A\n",
       "A -0.765488  1.106956     a1 -1.322725 -0.032440   a  45\n",
       "B -2.075747  0.098703     b1 -0.795067  1.109205   b  56\n",
       "C -0.559750  0.849862     c1 -1.300241  0.427709   c  78\n",
       "D  1.438867 -1.171476     d1 -1.589255  0.025656   d  89\n",
       "E -0.344111 -0.371495     e1 -0.055213 -0.852237   e  12"
      ]
     },
     "execution_count": 134,
     "metadata": {},
     "output_type": "execute_result"
    }
   ],
   "source": [
    "a2 = a.assign(A = [45,56,78,89,12])\n",
    "a2"
   ]
  },
  {
   "cell_type": "markdown",
   "metadata": {
    "Collapsed": "true",
    "heading_collapsed": true,
    "hidden": true
   },
   "source": [
    "##### Removing a column"
   ]
  },
  {
   "cell_type": "code",
   "execution_count": null,
   "metadata": {
    "Collapsed": "false",
    "hidden": true
   },
   "outputs": [],
   "source": [
    "del df['colname']\n",
    "df.drop('colname', axis=1)                    # removes the col, just for display\n",
    "df.drop('colname', axis=1, inplace=True)      # inplace removes the col permanently"
   ]
  },
  {
   "cell_type": "markdown",
   "metadata": {
    "Collapsed": "false",
    "hidden": true
   },
   "source": [
    "##### Renaming a column"
   ]
  },
  {
   "cell_type": "code",
   "execution_count": null,
   "metadata": {
    "Collapsed": "false",
    "hidden": true
   },
   "outputs": [],
   "source": [
    "# method 1 : rename\n",
    "df.rename(columns = {'old column name' : 'new column name', 'oldcol': newcol}, inplace=True)"
   ]
  },
  {
   "cell_type": "code",
   "execution_count": null,
   "metadata": {
    "Collapsed": "false",
    "hidden": true
   },
   "outputs": [],
   "source": [
    "# method 2 - just give the new column names\n",
    "def_col_name = ['new column name', 'newcol']\n",
    "df.columns = def_col_name"
   ]
  },
  {
   "cell_type": "code",
   "execution_count": null,
   "metadata": {
    "Collapsed": "false",
    "hidden": true
   },
   "outputs": [],
   "source": [
    "# just to modify some strings (here, replacing space by _)\n",
    "df.columns = df.columns.str.replace('','_')"
   ]
  },
  {
   "cell_type": "markdown",
   "metadata": {
    "Collapsed": "false",
    "hidden": true
   },
   "source": [
    "##### Reversing Order"
   ]
  },
  {
   "cell_type": "code",
   "execution_count": null,
   "metadata": {
    "Collapsed": "false",
    "hidden": true
   },
   "outputs": [],
   "source": [
    "df.loc[::-1]                           reverse row order\n",
    "df.loc[::-1].reset_index(drop=True)    reverse rows and index order\n",
    "df.loc[:,::-1]                         reverse columns order\n"
   ]
  },
  {
   "cell_type": "markdown",
   "metadata": {
    "Collapsed": "false",
    "heading_collapsed": true
   },
   "source": [
    "## Binary Operations "
   ]
  },
  {
   "cell_type": "markdown",
   "metadata": {
    "Collapsed": "false",
    "hidden": true
   },
   "source": [
    "We can perform binary operation on series like addition, subtraction and many other operation. \n",
    "\n",
    "In order to perform binary operation on series we have to use some function like .add(),.sub() etc.."
   ]
  },
  {
   "cell_type": "code",
   "execution_count": null,
   "metadata": {
    "Collapsed": "false",
    "hidden": true
   },
   "outputs": [],
   "source": [
    "to note:\n",
    "\n",
    "sum is different from sum()\n",
    "- sum will do sum of rows\n",
    "- sum() will do sum of columns\n",
    "\n",
    "#### COMMENT ####"
   ]
  },
  {
   "cell_type": "markdown",
   "metadata": {
    "Collapsed": "false",
    "hidden": true
   },
   "source": [
    "List of Operations:\n",
    "\n",
    "- add()\tadd series or list like objects with same length to the caller series\n",
    "- sub()\tsubtract series or list like objects with same length from the caller series\n",
    "- mul()\tmultiply series or list like objects with same length with the caller series\n",
    "- div()\tdivide series or list like objects with same length by the caller series\n",
    "- sum()\tsum of the values for the requested axis\n",
    "- prod() product of the values for the requested axis\n",
    "- mean() mean of the values for the requested axis\n",
    "- pow()\texponential power of caller series and returned the results\n",
    "- abs()\tabsolute numeric value of each element in Series/DataFrame\n",
    "- cov()\tcovariance of two series"
   ]
  },
  {
   "cell_type": "markdown",
   "metadata": {
    "Collapsed": "false",
    "hidden": true
   },
   "source": [
    "Example of syntax\n",
    "\n",
    "add(self, other, axis='columns', level=None, fill_value=None)\n",
    "\n",
    "Parameters\n",
    "   - other: scalar, sequence, Series, or DataFrame\n",
    "   - axis: {0 or ‘index’, 1 or ‘columns’}\n",
    "   - level: int or label - Broadcast across a level, matching Index values on the passed MultiIndex level.\n",
    "   - fill_value: float or None, default None\n",
    "     - Fill existing missing (NaN) values with this value before computation. \n",
    "     - If data in both corresponding DataFrame locations is missing the result will be missing.\n"
   ]
  },
  {
   "cell_type": "code",
   "execution_count": 1,
   "metadata": {
    "Collapsed": "false",
    "hidden": true
   },
   "outputs": [
    {
     "name": "stdout",
     "output_type": "stream",
     "text": [
      "a    5\n",
      "b    2\n",
      "c    3\n",
      "d    7\n",
      "dtype: int64 \n",
      "\n",
      " a    1\n",
      "b    6\n",
      "d    4\n",
      "e    9\n",
      "dtype: int64\n"
     ]
    }
   ],
   "source": [
    "import pandas as pd  \n",
    "data = pd.Series([5, 2, 3,7], index=['a', 'b', 'c', 'd'])\n",
    "data1 = pd.Series([1, 6, 4, 9], index=['a', 'b', 'd', 'e'])\n",
    "\n",
    "print(data, \"\\n\\n\", data1)"
   ]
  },
  {
   "cell_type": "code",
   "execution_count": 20,
   "metadata": {
    "Collapsed": "false",
    "hidden": true
   },
   "outputs": [
    {
     "data": {
      "text/plain": [
       "a     6.0\n",
       "b     8.0\n",
       "c     3.0\n",
       "d    11.0\n",
       "e     9.0\n",
       "dtype: float64"
      ]
     },
     "execution_count": 20,
     "metadata": {},
     "output_type": "execute_result"
    }
   ],
   "source": [
    "data.add(data1, fill_value=0)"
   ]
  },
  {
   "cell_type": "code",
   "execution_count": 22,
   "metadata": {
    "Collapsed": "false",
    "hidden": true
   },
   "outputs": [
    {
     "data": {
      "text/plain": [
       "a     6.0\n",
       "b     8.0\n",
       "c     NaN\n",
       "d    11.0\n",
       "e     NaN\n",
       "dtype: float64"
      ]
     },
     "execution_count": 22,
     "metadata": {},
     "output_type": "execute_result"
    }
   ],
   "source": [
    "data.add(data1)"
   ]
  },
  {
   "cell_type": "code",
   "execution_count": 216,
   "metadata": {
    "Collapsed": "false",
    "hidden": true
   },
   "outputs": [
    {
     "data": {
      "text/html": [
       "<div>\n",
       "<style scoped>\n",
       "    .dataframe tbody tr th:only-of-type {\n",
       "        vertical-align: middle;\n",
       "    }\n",
       "\n",
       "    .dataframe tbody tr th {\n",
       "        vertical-align: top;\n",
       "    }\n",
       "\n",
       "    .dataframe thead th {\n",
       "        text-align: right;\n",
       "    }\n",
       "</style>\n",
       "<table border=\"1\" class=\"dataframe\">\n",
       "  <thead>\n",
       "    <tr style=\"text-align: right;\">\n",
       "      <th></th>\n",
       "      <th>W</th>\n",
       "      <th>Y</th>\n",
       "      <th>Z</th>\n",
       "      <th>new</th>\n",
       "    </tr>\n",
       "  </thead>\n",
       "  <tbody>\n",
       "    <tr>\n",
       "      <th>0</th>\n",
       "      <td>1.0</td>\n",
       "      <td>5.0</td>\n",
       "      <td>1</td>\n",
       "      <td>6.0</td>\n",
       "    </tr>\n",
       "    <tr>\n",
       "      <th>1</th>\n",
       "      <td>2.0</td>\n",
       "      <td>NaN</td>\n",
       "      <td>2</td>\n",
       "      <td>NaN</td>\n",
       "    </tr>\n",
       "    <tr>\n",
       "      <th>2</th>\n",
       "      <td>NaN</td>\n",
       "      <td>NaN</td>\n",
       "      <td>3</td>\n",
       "      <td>NaN</td>\n",
       "    </tr>\n",
       "  </tbody>\n",
       "</table>\n",
       "</div>"
      ],
      "text/plain": [
       "     W    Y  Z  new\n",
       "0  1.0  5.0  1  6.0\n",
       "1  2.0  NaN  2  NaN\n",
       "2  NaN  NaN  3  NaN"
      ]
     },
     "execution_count": 216,
     "metadata": {},
     "output_type": "execute_result"
    }
   ],
   "source": [
    "# To note, when using loc, there is need sometimes to pass 2 arguments (row, column)\n",
    "\n",
    "a = pd.DataFrame([[1.0,5.0,1],[2,np.NaN,2],[np.NaN,np.NaN,3]], columns = ['W','Y','Z'])\n",
    "a['new'] = a.loc[:, 'W'] + a.loc[:, 'Y']\n",
    "a"
   ]
  },
  {
   "cell_type": "markdown",
   "metadata": {
    "Collapsed": "false",
    "heading_collapsed": true
   },
   "source": [
    "## Custom Functions"
   ]
  },
  {
   "cell_type": "markdown",
   "metadata": {
    "Collapsed": "false",
    "heading_collapsed": true,
    "hidden": true
   },
   "source": [
    "##### Using Lambda and apply"
   ]
  },
  {
   "cell_type": "code",
   "execution_count": null,
   "metadata": {
    "Collapsed": "false",
    "hidden": true
   },
   "outputs": [],
   "source": [
    "dfsq = df['col1'].apply(lambda x: x * x)\n",
    "dflen = df['col3'].apply(lambda x: len(x))"
   ]
  },
  {
   "cell_type": "code",
   "execution_count": null,
   "metadata": {
    "Collapsed": "false",
    "hidden": true
   },
   "outputs": [],
   "source": []
  },
  {
   "cell_type": "markdown",
   "metadata": {
    "Collapsed": "false",
    "heading_collapsed": true
   },
   "source": [
    "## Conversion Operations"
   ]
  },
  {
   "cell_type": "markdown",
   "metadata": {
    "Collapsed": "false",
    "hidden": true
   },
   "source": [
    "In conversion operation we perform various operation like changing datatype of series\n",
    "In order to perform conversion operation we have various function which help in conversion like .astype(), .tolist() .to_numeric\n",
    "\n"
   ]
  },
  {
   "cell_type": "markdown",
   "metadata": {
    "Collapsed": "false",
    "heading_collapsed": true,
    "hidden": true
   },
   "source": [
    "### To Numeric"
   ]
  },
  {
   "cell_type": "markdown",
   "metadata": {
    "Collapsed": "false",
    "heading_collapsed": true,
    "hidden": true
   },
   "source": [
    "##### Syntax to_numeric"
   ]
  },
  {
   "cell_type": "code",
   "execution_count": null,
   "metadata": {
    "Collapsed": "false",
    "hidden": true
   },
   "outputs": [],
   "source": [
    "pandas.to_numeric(arg, errors='raise', downcast=None)\n",
    "\n",
    "- arg       scalar, list, tuple, 1-d array, or Series\n",
    "- errors    {‘ignore’, ‘raise’, ‘coerce’}, default ‘raise’\n",
    "    - If ‘raise’, then invalid parsing will raise an exception.\n",
    "    - If ‘coerce’, then invalid parsing will be set as NaN.\n",
    "    - If ‘ignore’, then invalid parsing will return the input.\n",
    "    - downcast{‘integer’, ‘signed’, ‘unsigned’, ‘float’}, default None\n",
    "         - smallest numerical dtype possible according to the following rules:\n",
    "         - ‘integer’ or ‘signed’: smallest signed int dtype (min.: np.int8)\n",
    "         - ‘unsigned’: smallest unsigned int dtype (min.: np.uint8)\n",
    "         - ‘float’: smallest float dtype (min.: np.float32)\n"
   ]
  },
  {
   "cell_type": "markdown",
   "metadata": {
    "Collapsed": "false",
    "heading_collapsed": true,
    "hidden": true
   },
   "source": [
    "##### Examples"
   ]
  },
  {
   "cell_type": "code",
   "execution_count": 32,
   "metadata": {
    "Collapsed": "false",
    "hidden": true
   },
   "outputs": [
    {
     "data": {
      "text/html": [
       "<div>\n",
       "<style scoped>\n",
       "    .dataframe tbody tr th:only-of-type {\n",
       "        vertical-align: middle;\n",
       "    }\n",
       "\n",
       "    .dataframe tbody tr th {\n",
       "        vertical-align: top;\n",
       "    }\n",
       "\n",
       "    .dataframe thead th {\n",
       "        text-align: right;\n",
       "    }\n",
       "</style>\n",
       "<table border=\"1\" class=\"dataframe\">\n",
       "  <thead>\n",
       "    <tr style=\"text-align: right;\">\n",
       "      <th></th>\n",
       "      <th>A</th>\n",
       "      <th>B</th>\n",
       "    </tr>\n",
       "  </thead>\n",
       "  <tbody>\n",
       "    <tr>\n",
       "      <th>0</th>\n",
       "      <td>100</td>\n",
       "      <td>50</td>\n",
       "    </tr>\n",
       "    <tr>\n",
       "      <th>1</th>\n",
       "      <td>200</td>\n",
       "      <td>2000</td>\n",
       "    </tr>\n",
       "    <tr>\n",
       "      <th>2</th>\n",
       "      <td>python</td>\n",
       "      <td>banana</td>\n",
       "    </tr>\n",
       "    <tr>\n",
       "      <th>3</th>\n",
       "      <td>300.12</td>\n",
       "      <td>100.52</td>\n",
       "    </tr>\n",
       "    <tr>\n",
       "      <th>4</th>\n",
       "      <td>400</td>\n",
       "      <td>600</td>\n",
       "    </tr>\n",
       "  </tbody>\n",
       "</table>\n",
       "</div>"
      ],
      "text/plain": [
       "        A       B\n",
       "0     100      50\n",
       "1     200    2000\n",
       "2  python  banana\n",
       "3  300.12  100.52\n",
       "4     400     600"
      ]
     },
     "execution_count": 32,
     "metadata": {},
     "output_type": "execute_result"
    }
   ],
   "source": [
    "# Example\n",
    "df = pd.DataFrame({'A': ['100','200','python','300.12','400'],\n",
    "                   'B': ['50',2000,'banana',100.52,'600']   })\n",
    "df\n"
   ]
  },
  {
   "cell_type": "code",
   "execution_count": 33,
   "metadata": {
    "Collapsed": "false",
    "hidden": true
   },
   "outputs": [
    {
     "data": {
      "text/plain": [
       "0    100.00\n",
       "1    200.00\n",
       "2       NaN\n",
       "3    300.12\n",
       "4    400.00\n",
       "Name: A, dtype: float64"
      ]
     },
     "execution_count": 33,
     "metadata": {},
     "output_type": "execute_result"
    }
   ],
   "source": [
    "# Here, 'coerce' will make sure that any error will result in NaN\n",
    "a = pd.to_numeric(df['A'], errors='coerce')\n",
    "a"
   ]
  },
  {
   "cell_type": "code",
   "execution_count": 36,
   "metadata": {
    "Collapsed": "false",
    "hidden": true
   },
   "outputs": [
    {
     "data": {
      "text/plain": [
       "0"
      ]
     },
     "execution_count": 36,
     "metadata": {},
     "output_type": "execute_result"
    }
   ],
   "source": [
    "a = pd.to_numeric(df['A'], errors='coerce').fillna=0\n",
    "a"
   ]
  },
  {
   "cell_type": "code",
   "execution_count": 37,
   "metadata": {
    "Collapsed": "false",
    "hidden": true
   },
   "outputs": [
    {
     "ename": "AttributeError",
     "evalue": "'int' object has no attribute 'apply'",
     "output_type": "error",
     "traceback": [
      "\u001b[1;31m---------------------------------------------------------------------------\u001b[0m",
      "\u001b[1;31mAttributeError\u001b[0m                            Traceback (most recent call last)",
      "\u001b[1;32m<ipython-input-37-8223b160e86f>\u001b[0m in \u001b[0;36m<module>\u001b[1;34m\u001b[0m\n\u001b[1;32m----> 1\u001b[1;33m \u001b[0mdf\u001b[0m \u001b[1;33m=\u001b[0m \u001b[0mdf\u001b[0m\u001b[1;33m.\u001b[0m\u001b[0mapply\u001b[0m\u001b[1;33m(\u001b[0m\u001b[0mpd\u001b[0m\u001b[1;33m.\u001b[0m\u001b[0mto_numeric\u001b[0m\u001b[1;33m,\u001b[0m \u001b[0merrors\u001b[0m\u001b[1;33m=\u001b[0m\u001b[1;34m'coerce'\u001b[0m\u001b[1;33m)\u001b[0m\u001b[1;33m.\u001b[0m\u001b[0mfillna\u001b[0m\u001b[1;33m=\u001b[0m\u001b[1;36m0\u001b[0m\u001b[1;33m\u001b[0m\u001b[1;33m\u001b[0m\u001b[0m\n\u001b[0m\u001b[0;32m      2\u001b[0m \u001b[0mdf\u001b[0m\u001b[1;33m\u001b[0m\u001b[1;33m\u001b[0m\u001b[0m\n",
      "\u001b[1;31mAttributeError\u001b[0m: 'int' object has no attribute 'apply'"
     ]
    }
   ],
   "source": [
    "df = df.apply(pd.to_numeric, errors='coerce').fillna=0\n",
    "df"
   ]
  },
  {
   "cell_type": "markdown",
   "metadata": {
    "Collapsed": "false",
    "heading_collapsed": true,
    "hidden": true
   },
   "source": [
    "### Astype"
   ]
  },
  {
   "cell_type": "markdown",
   "metadata": {
    "Collapsed": "false",
    "heading_collapsed": true,
    "hidden": true
   },
   "source": [
    "##### Syntax astype"
   ]
  },
  {
   "cell_type": "code",
   "execution_count": null,
   "metadata": {
    "Collapsed": "false",
    "hidden": true
   },
   "outputs": [],
   "source": [
    "DataFrame.astype(self, dtype, copy: bool = True, errors: str = 'raise') \n",
    "\n",
    "- dtypedata type, or dict of column name\n",
    "   - float, int, str, etc\n",
    "   - Or {col: dtype, …}, where col is a column label / dtype is a numpy.dtype or Python type \n",
    "- copybool, default True\n",
    "   - Return a copy when copy=True\n",
    "- errors{‘raise’, ‘ignore’}, default ‘raise’\n",
    "   - Control raising of exceptions on invalid data for provided dtype.\n",
    "   - raise : allow exceptions to be raised\n",
    "   - ignore : suppress exceptions. On error return original object."
   ]
  },
  {
   "cell_type": "markdown",
   "metadata": {
    "Collapsed": "false",
    "hidden": true
   },
   "source": [
    "##### Example"
   ]
  },
  {
   "cell_type": "code",
   "execution_count": 39,
   "metadata": {
    "Collapsed": "false",
    "hidden": true
   },
   "outputs": [
    {
     "name": "stdout",
     "output_type": "stream",
     "text": [
      "A      int32\n",
      "B     object\n",
      "C    float64\n",
      "dtype: object\n"
     ]
    }
   ],
   "source": [
    "df = pd.DataFrame({ 'A': [1, 2, 3, 4, 5], \n",
    "                   'B': ['a', 'b', 'c', 'd', 'e'], \n",
    "                   'C': [1.1, '1.0', '1.3', 2, 5] }) \n",
    "  \n",
    "# using dictionary to convert specific columns \n",
    "convert_dict = {'A': int, 'B': str, 'C': float} \n",
    "  \n",
    "df = df.astype(convert_dict) \n",
    "print(df.dtypes) "
   ]
  },
  {
   "cell_type": "code",
   "execution_count": null,
   "metadata": {
    "Collapsed": "false",
    "hidden": true
   },
   "outputs": [],
   "source": []
  },
  {
   "cell_type": "markdown",
   "metadata": {
    "Collapsed": "false"
   },
   "source": [
    "## Sorting Values"
   ]
  },
  {
   "cell_type": "code",
   "execution_count": null,
   "metadata": {
    "Collapsed": "false"
   },
   "outputs": [],
   "source": [
    "df.sort_values(by=['col1'])                                           # basic\n",
    "df.sort_values(by=['col1', 'col2'])                                   # multiple columns\n",
    "df.sort_values(by='col1', ascending=False)                            # descending order\n",
    "df.sort_values(by='col1', ascending=False, na_position='first')       # puts NAs first"
   ]
  }
 ],
 "metadata": {
  "kernelspec": {
   "display_name": "Python 3",
   "language": "python",
   "name": "python3"
  },
  "language_info": {
   "codemirror_mode": {
    "name": "ipython",
    "version": 3
   },
   "file_extension": ".py",
   "mimetype": "text/x-python",
   "name": "python",
   "nbconvert_exporter": "python",
   "pygments_lexer": "ipython3",
   "version": "3.7.6"
  },
  "latex_envs": {
   "LaTeX_envs_menu_present": true,
   "autoclose": false,
   "autocomplete": true,
   "bibliofile": "biblio.bib",
   "cite_by": "apalike",
   "current_citInitial": 1,
   "eqLabelWithNumbers": true,
   "eqNumInitial": 1,
   "hotkeys": {
    "equation": "Ctrl-E",
    "itemize": "Ctrl-I"
   },
   "labels_anchors": false,
   "latex_user_defs": false,
   "report_style_numbering": false,
   "user_envs_cfg": false
  },
  "toc": {
   "base_numbering": 1,
   "nav_menu": {},
   "number_sections": true,
   "sideBar": true,
   "skip_h1_title": false,
   "title_cell": "Table of Contents",
   "title_sidebar": "Contents",
   "toc_cell": false,
   "toc_position": {},
   "toc_section_display": true,
   "toc_window_display": false
  }
 },
 "nbformat": 4,
 "nbformat_minor": 4
}
