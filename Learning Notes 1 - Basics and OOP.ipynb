{
 "cells": [
  {
   "cell_type": "markdown",
   "metadata": {},
   "source": [
    "# LESSON 0 - 01apr20"
   ]
  },
  {
   "cell_type": "markdown",
   "metadata": {},
   "source": [
    "### Basic Operators"
   ]
  },
  {
   "cell_type": "code",
   "execution_count": null,
   "metadata": {},
   "outputs": [],
   "source": [
    "# Arithmetic\n",
    "+, - , /, *        # operators\n",
    "**                 # power\n",
    "%                  # modulus: returns the remainder of a division\n",
    "//                 # floor division: returns a rounded (no decimals) quotient of a division\n",
    "\n",
    "# Comparison\n",
    "==                 # equal\n",
    "!= , <>            # different\n",
    ">,<, >=, <=        # comparison\n",
    "\n",
    "# Assignment\n",
    "+=                 # 'add and' (ex: c += a is eq to c = c + a)\n",
    "-=                 # 'substract and' (ex: c += a is eq to c = c - a)\n",
    "\n",
    "# Logical\n",
    "and\n",
    "or\n",
    "not\n",
    "\n",
    "# Membership\n",
    "in \n",
    "is not\n"
   ]
  },
  {
   "cell_type": "markdown",
   "metadata": {},
   "source": [
    "### Numbers"
   ]
  },
  {
   "cell_type": "code",
   "execution_count": null,
   "metadata": {},
   "outputs": [],
   "source": [
    "int(x)              # convert to plain integer\n",
    "long(x)             # convert to a long integer\n",
    "float(x)            # convert to a float\n",
    "complex(x)          # convert to a complex number with real part x and imaginary 0\n",
    "complex(x,y)        # convert to a complex number with real part x and imaginary y"
   ]
  },
  {
   "cell_type": "code",
   "execution_count": null,
   "metadata": {},
   "outputs": [],
   "source": [
    "# Mathematical functions available - need to import libraries 1st\n",
    "    \n",
    "https://docs.python.org/3/library/math.html\n",
    "   \n",
    "https://docs.python.org/3/library/random.html\n",
    "\n",
    "https://docs.python.org/3/library/statistics.html#module-statistics\n"
   ]
  },
  {
   "cell_type": "markdown",
   "metadata": {},
   "source": [
    "### Strings"
   ]
  },
  {
   "cell_type": "markdown",
   "metadata": {},
   "source": [
    "- We can create a string by just enclosing characters in quotes ('' or \"\")\n",
    "- Creating strings is as simple as assigning a value to a variable\n",
    "- to access sub-string, use [] for slicing along with the index"
   ]
  },
  {
   "cell_type": "code",
   "execution_count": 98,
   "metadata": {},
   "outputs": [
    {
     "name": "stdout",
     "output_type": "stream",
     "text": [
      "var1[0]:  H\n"
     ]
    }
   ],
   "source": [
    "var1 = 'Hello brother'\n",
    "\n",
    "print(\"var1[0]: \",var1[0])"
   ]
  },
  {
   "cell_type": "code",
   "execution_count": 103,
   "metadata": {},
   "outputs": [
    {
     "data": {
      "text/plain": [
       "'Hello sister'"
      ]
     },
     "execution_count": 103,
     "metadata": {},
     "output_type": "execute_result"
    }
   ],
   "source": [
    "# modifying a strying\n",
    "var1[:6] + 'sister'\n"
   ]
  },
  {
   "cell_type": "code",
   "execution_count": null,
   "metadata": {},
   "outputs": [],
   "source": [
    "# Escape characters\n",
    "\n",
    "\\n                 # new line\n",
    "\\s                 # space\n",
    "\\t                 # tab\n",
    "\n",
    "# String operators\n",
    "+                  # concatenation\n",
    "*                  # repetition\n"
   ]
  },
  {
   "cell_type": "markdown",
   "metadata": {},
   "source": [
    "### String Formatting: str.format replaces the former %-formatting"
   ]
  },
  {
   "cell_type": "code",
   "execution_count": null,
   "metadata": {},
   "outputs": [],
   "source": [
    "str.format(*args, **kwargs)      \n",
    "\n",
    "# The string on which this method is called can contain literal text or replacement fields delimited by braces {}. \n",
    "# Each replacement field contains either the numeric index of a positional argument, or the name of a keyword argument. \n",
    "# Returns a copy of the string where each replacement field is replaced with the string value of the corresponding argument"
   ]
  },
  {
   "cell_type": "code",
   "execution_count": 178,
   "metadata": {},
   "outputs": [
    {
     "data": {
      "text/plain": [
       "'my real name is ricky'"
      ]
     },
     "execution_count": 178,
     "metadata": {},
     "output_type": "execute_result"
    }
   ],
   "source": [
    "\"my real name is {1}\".format('joe','ricky','albert')   #to note, ('joe','ricky','albert') is neither a tuple or a list\n"
   ]
  },
  {
   "cell_type": "code",
   "execution_count": 172,
   "metadata": {},
   "outputs": [
    {
     "data": {
      "text/plain": [
       "'The sum of 1 + 2 is 3'"
      ]
     },
     "execution_count": 172,
     "metadata": {},
     "output_type": "execute_result"
    }
   ],
   "source": [
    "\"The sum of 1 + 2 is {0}\".format(1+2)"
   ]
  },
  {
   "cell_type": "code",
   "execution_count": 117,
   "metadata": {},
   "outputs": [
    {
     "data": {
      "text/plain": [
       "'abracadabra'"
      ]
     },
     "execution_count": 117,
     "metadata": {},
     "output_type": "execute_result"
    }
   ],
   "source": [
    "# Accessing argument by position (example 1)\n",
    "\n",
    "'{0}{1}{0}'.format('abra', 'cad')"
   ]
  },
  {
   "cell_type": "code",
   "execution_count": 116,
   "metadata": {},
   "outputs": [
    {
     "data": {
      "text/plain": [
       "'c, b, a'"
      ]
     },
     "execution_count": 116,
     "metadata": {},
     "output_type": "execute_result"
    }
   ],
   "source": [
    "# Accessing argument by position (example 2)\n",
    "\n",
    "'{2}, {1}, {0}'.format('a', 'b', 'c')"
   ]
  },
  {
   "cell_type": "code",
   "execution_count": 7,
   "metadata": {},
   "outputs": [
    {
     "data": {
      "text/plain": [
       "'X: 3;  Y: 5'"
      ]
     },
     "execution_count": 7,
     "metadata": {},
     "output_type": "execute_result"
    }
   ],
   "source": [
    "# Accessing argument items in a tuple or a list\n",
    "\n",
    "coord = (3, 5)\n",
    "'X: {0[0]};  Y: {0[1]}'.format(coord)  \n",
    "\n",
    "# to note, here, we are looking into a tuple. the zero here {0[]} allows us to look into the tuple"
   ]
  },
  {
   "cell_type": "code",
   "execution_count": 5,
   "metadata": {},
   "outputs": [
    {
     "data": {
      "text/plain": [
       "'X: [3, 5, 6]; Y: 5; Z: 6'"
      ]
     },
     "execution_count": 5,
     "metadata": {},
     "output_type": "execute_result"
    }
   ],
   "source": [
    "coord2 = [3, 5, 6]\n",
    "'X: {0}; Y: {0[1]}; Z: {0[2]}'.format(coord2) "
   ]
  },
  {
   "cell_type": "code",
   "execution_count": 8,
   "metadata": {},
   "outputs": [
    {
     "data": {
      "text/plain": [
       "8"
      ]
     },
     "execution_count": 8,
     "metadata": {},
     "output_type": "execute_result"
    }
   ],
   "source": [
    "#remember this - super important:\n",
    "\n",
    "coord = [3, 5, 6, [7,8,9]]\n",
    "coord[3][1]\n",
    "\n"
   ]
  },
  {
   "cell_type": "code",
   "execution_count": 131,
   "metadata": {},
   "outputs": [
    {
     "data": {
      "text/plain": [
       "\"My name is 'John' and I am coming from New York\""
      ]
     },
     "execution_count": 131,
     "metadata": {},
     "output_type": "execute_result"
    }
   ],
   "source": [
    "# Replacing %s (without quotes) and %r (with quotes) (% is from Python 2)\n",
    "\n",
    "\"My name is {!r} and I am coming from {!s}\".format('John', 'New York')\n"
   ]
  },
  {
   "cell_type": "code",
   "execution_count": 145,
   "metadata": {},
   "outputs": [
    {
     "data": {
      "text/plain": [
       "'left aligned                  '"
      ]
     },
     "execution_count": 145,
     "metadata": {},
     "output_type": "execute_result"
    }
   ],
   "source": [
    "# Aligning text, specifying a width\n",
    "\n",
    "'{:<30}'.format('left aligned')         # could be 'right aligned', 'centered'\n"
   ]
  },
  {
   "cell_type": "code",
   "execution_count": 146,
   "metadata": {},
   "outputs": [
    {
     "data": {
      "text/plain": [
       "'***********centered***********'"
      ]
     },
     "execution_count": 146,
     "metadata": {},
     "output_type": "execute_result"
    }
   ],
   "source": [
    "'{:*^30}'.format('centered')             # use '*' as a fill char"
   ]
  },
  {
   "cell_type": "code",
   "execution_count": 147,
   "metadata": {},
   "outputs": [
    {
     "data": {
      "text/plain": [
       "'1,234,567,891,011'"
      ]
     },
     "execution_count": 147,
     "metadata": {},
     "output_type": "execute_result"
    }
   ],
   "source": [
    "# using comma as a thousands separator\n",
    "'{:,}'.format(1234567891011)\n"
   ]
  },
  {
   "cell_type": "code",
   "execution_count": 148,
   "metadata": {},
   "outputs": [
    {
     "data": {
      "text/plain": [
       "'Correct Answers: 80.769231%'"
      ]
     },
     "execution_count": 148,
     "metadata": {},
     "output_type": "execute_result"
    }
   ],
   "source": [
    "# expressing a percentage\n",
    "points = 42\n",
    "total = 52\n",
    "'Correct Answers: {:02%}'.format(points/total)"
   ]
  },
  {
   "cell_type": "code",
   "execution_count": 150,
   "metadata": {},
   "outputs": [
    {
     "data": {
      "text/plain": [
       "'2020-07-04 12:15:58'"
      ]
     },
     "execution_count": 150,
     "metadata": {},
     "output_type": "execute_result"
    }
   ],
   "source": [
    "# User sepcific date formatting\n",
    "\n",
    "import datetime\n",
    "d = datetime.datetime(2020, 7, 4, 12, 15, 58)\n",
    "'{:%Y-%m-%d %H:%M:%S}'.format(d)\n"
   ]
  },
  {
   "cell_type": "markdown",
   "metadata": {},
   "source": [
    "### Text Sequence Type - Str"
   ]
  },
  {
   "cell_type": "markdown",
   "metadata": {},
   "source": [
    "- Textual data in Python is handled with str objects, or strings. \n",
    "- Strings are immutable sequences of Unicode code points.\n",
    "- Strings with only whitespace between them will be converted to a single string : (\"spam \" \"eggs\") == \"spam eggs\"\n",
    "- Strings may also be created from other objects using the str constructor.\n",
    "- a non-empty string s, s[0] == s[0:1]\n",
    "- str.join() can be used to construct strings from multiple fragments"
   ]
  },
  {
   "cell_type": "code",
   "execution_count": null,
   "metadata": {},
   "outputs": [],
   "source": [
    "# Examples of built in functions\n",
    "\n",
    "str.capitalize\n",
    "str.center\n",
    "str.count\n",
    "str.endswith\n",
    "str.find\n",
    "str.index(sub[, start[, end]])\n",
    "str.map\n",
    "str.isdigit\n",
    "str.join\n",
    "str.split\n"
   ]
  },
  {
   "cell_type": "markdown",
   "metadata": {},
   "source": [
    "### List"
   ]
  },
  {
   "cell_type": "markdown",
   "metadata": {},
   "source": [
    "- Operations on lists: indexing, slicing, adding, multiplying, and checking for membership. \n",
    "- And built-in functions for finding the length of a sequence and for finding its largest and smallest elements"
   ]
  },
  {
   "cell_type": "code",
   "execution_count": 33,
   "metadata": {},
   "outputs": [
    {
     "name": "stdout",
     "output_type": "stream",
     "text": [
      "3\n",
      "[1, 2, 999, 4, 5, 6]\n",
      "[1, 2, 4, 5, 6]\n"
     ]
    }
   ],
   "source": [
    "#indexing\n",
    "list = [1, 2, 3, 4, 5, 6]\n",
    "print(list[2])\n",
    "\n",
    "#replacing value\n",
    "list[2] = 999\n",
    "print(list)\n",
    "\n",
    "#deleting value\n",
    "del list[2]\n",
    "print(list)"
   ]
  },
  {
   "cell_type": "code",
   "execution_count": 32,
   "metadata": {},
   "outputs": [
    {
     "name": "stdout",
     "output_type": "stream",
     "text": [
      "3\n",
      "['aaa', 'bbb', 'ccc', 111, 222, 333]\n",
      "['aaa', 'bbb', 'ccc', 'aaa', 'bbb', 'ccc']\n",
      "True\n",
      "aaa\n",
      "bbb\n",
      "ccc\n"
     ]
    }
   ],
   "source": [
    "list1 = ['aaa', 'bbb', 'ccc']\n",
    "list2 = [111, 222, 333]\n",
    "\n",
    "#Lenght\n",
    "print(len(list1))\n",
    "\n",
    "#Concatenation\n",
    "list3 = list1 + list2\n",
    "print(list3)\n",
    "\n",
    "#Repetition\n",
    "print (list1 * 2)\n",
    "\n",
    "#Membership\n",
    "print(111 in list2)\n",
    "\n",
    "#iteration\n",
    "for x in list1:\n",
    "    print(x)\n",
    "\n"
   ]
  },
  {
   "cell_type": "code",
   "execution_count": 36,
   "metadata": {},
   "outputs": [
    {
     "name": "stdout",
     "output_type": "stream",
     "text": [
      "[111, 222, 333]\n",
      "['ccc', [111, 222, 333]]\n",
      "['bbb', 'ccc']\n"
     ]
    }
   ],
   "source": [
    "listA= ['aaa', 'bbb', 'ccc', [111, 222, 333]]\n",
    "\n",
    "#negative count\n",
    "print(listA[-1])\n",
    "\n",
    "#slicing fetch function\n",
    "print(listA[2:])\n",
    "print(listA[1:3])"
   ]
  },
  {
   "cell_type": "markdown",
   "metadata": {},
   "source": [
    "Other useful built-in functions"
   ]
  },
  {
   "cell_type": "code",
   "execution_count": null,
   "metadata": {},
   "outputs": [],
   "source": [
    "list(seq)               # converts a tuple into a list\n",
    "list.append(obj)        # appends obj to list\n",
    "list.count(obj)         # counts occurences of obj in list\n",
    "list.remove(obj)        # removes an object from list\n",
    "list.sort(func)         # sorts objects in list, use comapre func if given\n",
    "list.reverse()          # reverses objects in list\n",
    "list.insert(index,obj)  # inserts obj at index \n",
    "list.index(obj)         # returns the lowest index in list that obj appears "
   ]
  },
  {
   "cell_type": "markdown",
   "metadata": {},
   "source": [
    "### Tuples"
   ]
  },
  {
   "cell_type": "markdown",
   "metadata": {},
   "source": [
    "A tuple is an immutable sequence of Python objects. \n",
    "Tuples use parentheses, whereas lists use square brackets.\n",
    "\n",
    "Immutable means it is not possible to\n",
    "- change a value\n",
    "- delete a value\n",
    "- append a valeu\n",
    "\n",
    "Other built-in functions and list operations such as indexing, slicing, adding, multiplying, and checking for membership are OK\n"
   ]
  },
  {
   "cell_type": "markdown",
   "metadata": {},
   "source": [
    "### Dictionary"
   ]
  },
  {
   "cell_type": "markdown",
   "metadata": {},
   "source": [
    "- Each key is separated from its value by a colon (:), \n",
    "- Each items are separated by commas\n",
    "- the whole thing is enclosed in curly braces {}\n",
    "\n",
    "About Keys:\n",
    "- Keys are unique within a dictionary while values may not be. \n",
    "- Keys must be of an immutable data type such as strings, numbers, or tuple"
   ]
  },
  {
   "cell_type": "code",
   "execution_count": 44,
   "metadata": {},
   "outputs": [
    {
     "name": "stdout",
     "output_type": "stream",
     "text": [
      "dict['Name']:  Zara\n",
      "dict['Age']:  7\n"
     ]
    }
   ],
   "source": [
    "dict = {'Name': 'Zara', 'Age': 7, 'Class': 'First'}\n",
    "\n",
    "print(\"dict['Name']: \", dict['Name'])\n",
    "print(\"dict['Age']: \", dict['Age'])"
   ]
  },
  {
   "cell_type": "code",
   "execution_count": 50,
   "metadata": {},
   "outputs": [
    {
     "name": "stdout",
     "output_type": "stream",
     "text": [
      "dict['Age']:  8\n",
      "dict['School']:  DPS School\n"
     ]
    }
   ],
   "source": [
    "dict = {'Name': 'Zara', 'Age': 7, 'Class': 'First'}\n",
    "\n",
    "# Updating Dictionary\n",
    "dict['Age'] = 8;                   # update existing entry\n",
    "dict['School'] = \"DPS School\";     # Add new entry\n",
    "\n",
    "print(\"dict['Age']: \", dict['Age'])\n",
    "print(\"dict['School']: \", dict['School'])\n",
    "\n",
    "\n",
    "# Deleting dictionary elements\n",
    "del dict['Name'];                  # remove entry with key 'Name'\n",
    "dict.clear();                      # remove all entries in dict\n",
    "del dict ;                         # delete entire dictionary\n",
    "\n",
    "\n"
   ]
  },
  {
   "cell_type": "markdown",
   "metadata": {},
   "source": [
    "- Values have no restrictions: can be python object, standard or user defined\n",
    "- Keys have restrictions:\n",
    "    - more than 1 entry per key is not allowed (in case of duplicate, last value wins)\n",
    "    - keys are immutable"
   ]
  },
  {
   "cell_type": "code",
   "execution_count": null,
   "metadata": {},
   "outputs": [],
   "source": [
    "dict.clear()                 # removes all elements of dictionary dict.\n",
    "dict.copy()                  # returns a shallow copy of dictionary dict\n",
    "dict.fromkeys(seq,[value])   # create a new dictionary with keys from seq and values set to value (optional) (to all keys)\n",
    "dict.get(key, default=None)  # For key key, returns value or default if key not in dictionary \n",
    "dict.values()                # get values from a dict \n",
    "dict.keys()                  # get keys from a dict \n",
    "dict.items()                 # returns a list of dict's (key, value) tuple pairs\n"
   ]
  },
  {
   "cell_type": "markdown",
   "metadata": {},
   "source": [
    "### Date and Time"
   ]
  },
  {
   "cell_type": "markdown",
   "metadata": {},
   "source": [
    "Time is managed in tuple of 9 numbers\n",
    " - 0         - year\n",
    " - 1         - month\n",
    " - 2         - day\n",
    " - 3         - hour (0 to 23)\n",
    " - 4         - minute\n",
    " - 5         - second (0 to 61)\n",
    " - 6         - day of week (0 to 6, 0 is monday)\n",
    " - 7         - day of year (1 to 366)  \n",
    " - 8         - dayligh saving (-1,0,1 -1 menas that library determines dst)"
   ]
  },
  {
   "cell_type": "code",
   "execution_count": 162,
   "metadata": {},
   "outputs": [
    {
     "name": "stdout",
     "output_type": "stream",
     "text": [
      "Local current time : time.struct_time(tm_year=2020, tm_mon=4, tm_mday=9, tm_hour=15, tm_min=32, tm_sec=8, tm_wday=3, tm_yday=100, tm_isdst=0)\n"
     ]
    }
   ],
   "source": [
    "import time\n",
    "localtime = time.localtime(time.time())\n",
    "print(\"Local current time :\", localtime)"
   ]
  },
  {
   "cell_type": "code",
   "execution_count": 163,
   "metadata": {},
   "outputs": [
    {
     "name": "stdout",
     "output_type": "stream",
     "text": [
      "Local current time : Thu Apr  9 15:32:42 2020\n"
     ]
    }
   ],
   "source": [
    "#formating\n",
    "\n",
    "localtime = time.asctime( time.localtime(time.time()) )\n",
    "print(\"Local current time :\", localtime)\n",
    "\n"
   ]
  },
  {
   "cell_type": "code",
   "execution_count": 165,
   "metadata": {},
   "outputs": [
    {
     "name": "stdout",
     "output_type": "stream",
     "text": [
      "Here is the calendar:\n",
      "     April 2020\n",
      "Mo Tu We Th Fr Sa Su\n",
      "       1  2  3  4  5\n",
      " 6  7  8  9 10 11 12\n",
      "13 14 15 16 17 18 19\n",
      "20 21 22 23 24 25 26\n",
      "27 28 29 30\n",
      "\n"
     ]
    }
   ],
   "source": [
    "#getting calendar for a month\n",
    "\n",
    "import calendar\n",
    "\n",
    "cal = calendar.month(2020, 4)\n",
    "print(\"Here is the calendar:\")\n",
    "print(cal)"
   ]
  },
  {
   "cell_type": "markdown",
   "metadata": {},
   "source": [
    "# LESSON 1 - 06apr20\n"
   ]
  },
  {
   "cell_type": "markdown",
   "metadata": {},
   "source": [
    "### Map, Filter, Lambda Expression"
   ]
  },
  {
   "cell_type": "markdown",
   "metadata": {},
   "source": [
    "Using  'map' in order to apply a defined function to a list"
   ]
  },
  {
   "cell_type": "code",
   "execution_count": 2,
   "metadata": {},
   "outputs": [],
   "source": [
    "seq = [1,2,3,4,5,6,7]\n",
    "\n",
    "def times2(i):\n",
    "    return i**2     #here it is importnat to use 'return' in order to be able to exploit the output\n"
   ]
  },
  {
   "cell_type": "code",
   "execution_count": 3,
   "metadata": {},
   "outputs": [
    {
     "data": {
      "text/plain": [
       "<map at 0x221e9511208>"
      ]
     },
     "execution_count": 3,
     "metadata": {},
     "output_type": "execute_result"
    }
   ],
   "source": [
    "map(times2,seq)      #this creates the address of the map"
   ]
  },
  {
   "cell_type": "code",
   "execution_count": 5,
   "metadata": {},
   "outputs": [
    {
     "data": {
      "text/plain": [
       "[1, 4, 9, 16, 25, 36, 49]"
      ]
     },
     "execution_count": 5,
     "metadata": {},
     "output_type": "execute_result"
    }
   ],
   "source": [
    "list(map(times2,seq)) #this is a display of the saved map"
   ]
  },
  {
   "cell_type": "code",
   "execution_count": null,
   "metadata": {},
   "outputs": [],
   "source": [
    "#basically, map here is equivalent to \n",
    "\n",
    "[times2(i) of i in seq]\n"
   ]
  },
  {
   "cell_type": "markdown",
   "metadata": {},
   "source": [
    "Using 'Lambda function' in order to avoid defining an adhoc function\n"
   ]
  },
  {
   "cell_type": "code",
   "execution_count": 6,
   "metadata": {},
   "outputs": [],
   "source": [
    "l = map(lambda x: x**2, seq)     #here, we avoid defining 'times2' as it is not efficient"
   ]
  },
  {
   "cell_type": "code",
   "execution_count": 7,
   "metadata": {},
   "outputs": [
    {
     "data": {
      "text/plain": [
       "[1, 4, 9, 16, 25, 36, 49]"
      ]
     },
     "execution_count": 7,
     "metadata": {},
     "output_type": "execute_result"
    }
   ],
   "source": [
    "list(l)"
   ]
  },
  {
   "cell_type": "markdown",
   "metadata": {},
   "source": [
    "Using 'filter' to be applied to a list"
   ]
  },
  {
   "cell_type": "code",
   "execution_count": 8,
   "metadata": {},
   "outputs": [
    {
     "data": {
      "text/plain": [
       "[2, 4, 6]"
      ]
     },
     "execution_count": 8,
     "metadata": {},
     "output_type": "execute_result"
    }
   ],
   "source": [
    "list(filter(lambda num: num%2 ==0, seq))    #here, we apply a filter to 'seq' in order to get only even numbers"
   ]
  },
  {
   "cell_type": "markdown",
   "metadata": {},
   "source": [
    "### Recursion\n"
   ]
  },
  {
   "cell_type": "markdown",
   "metadata": {},
   "source": [
    "Process of defining something in terms of itself; a function to call itself\n",
    "This is useful for exmaple to loop without a loop.\n",
    "- the code is cleaner\n",
    "- complex tasks can be broken down into simpler sub-problems using recursion\n",
    "- sequence generation is easier\n",
    "\n",
    "however\n",
    "- sometimes the logic can be hard to follow\n",
    "- recursive calls can be memory inefficient\n",
    "- recursive functions are hard to debug\n"
   ]
  },
  {
   "cell_type": "code",
   "execution_count": 11,
   "metadata": {},
   "outputs": [
    {
     "name": "stdout",
     "output_type": "stream",
     "text": [
      "The factorial of 10 is 3628800\n"
     ]
    }
   ],
   "source": [
    "def calc_factorial(x):      # This is a recursive function to find the factorial of an integer\n",
    "\n",
    "    if x == 1:\n",
    "        return 1\n",
    "    else:\n",
    "        return (x * calc_factorial(x-1))\n",
    "\n",
    "num = 10\n",
    "print(\"The factorial of\", num, \"is\", calc_factorial(num))"
   ]
  },
  {
   "cell_type": "markdown",
   "metadata": {},
   "source": [
    "# LESSON 2 - 08apr20"
   ]
  },
  {
   "cell_type": "markdown",
   "metadata": {},
   "source": [
    "### Loops"
   ]
  },
  {
   "cell_type": "code",
   "execution_count": 152,
   "metadata": {},
   "outputs": [
    {
     "name": "stdout",
     "output_type": "stream",
     "text": [
      "the count is 0\n",
      "the count is 1\n",
      "the count is 2\n",
      "the count is 3\n",
      "the count is 4\n",
      "goodbye\n"
     ]
    }
   ],
   "source": [
    "# while\n",
    "\n",
    "count = 0\n",
    "while (count <5):\n",
    "    print('the count is', count)\n",
    "    count = count +1\n",
    "\n",
    "print('goodbye')"
   ]
  },
  {
   "cell_type": "code",
   "execution_count": 153,
   "metadata": {},
   "outputs": [
    {
     "name": "stdout",
     "output_type": "stream",
     "text": [
      "1 is a prime number\n",
      "2 is a prime number\n",
      "3 is a prime number\n",
      "5 is a prime number\n",
      "7 is a prime number\n",
      "11 is a prime number\n",
      "13 is a prime number\n"
     ]
    }
   ],
   "source": [
    "# for\n",
    "\n",
    "for num in range(1,15):                              #to iterate between 1 to 15\n",
    "   for i in range(2,num):                            #to iterate on the factors of the number\n",
    "      if num%i == 0:                                 #to determine the first factor\n",
    "         j=num/i                                     #to calculate the second factor\n",
    "         #print ('%d equals %d * %d' % (num,i,j))\n",
    "         break                                       #to move to the next number, the #first FOR\n",
    "   else:                                             # else part of the loop\n",
    "      print (num, 'is a prime number')"
   ]
  },
  {
   "cell_type": "code",
   "execution_count": 154,
   "metadata": {},
   "outputs": [
    {
     "name": "stdout",
     "output_type": "stream",
     "text": [
      "1  is a prime number\n",
      "2  is a prime number\n",
      "3  is a prime number\n",
      "5  is a prime number\n",
      "7  is a prime number\n",
      "11  is a prime number\n",
      "13  is a prime number\n",
      "Good bye!\n"
     ]
    }
   ],
   "source": [
    "#nested loop \n",
    "\n",
    "i = 1\n",
    "while(i < 15):\n",
    "   j = 2\n",
    "   while(j <= (i/j)):\n",
    "      if not(i%j): break\n",
    "      j = j + 1\n",
    "   if (j > i/j) : print(i, \" is a prime number\")\n",
    "   i = i + 1\n",
    "\n",
    "print(\"Good bye!\")"
   ]
  },
  {
   "cell_type": "code",
   "execution_count": null,
   "metadata": {},
   "outputs": [],
   "source": [
    "# Control statements\n",
    "\n",
    "break              # Terminates the loop statement and transfers execution to the statement immediately following the loop.\n",
    "continue           # Causes the loop to skip the remainder of its body and immediately retest its condition prior to reiterating.\n",
    "pass               # Used when a statement is required syntactically but you do not want any command or code to execute.\n"
   ]
  },
  {
   "cell_type": "code",
   "execution_count": 156,
   "metadata": {},
   "outputs": [
    {
     "name": "stdout",
     "output_type": "stream",
     "text": [
      "Current Letter : P\n",
      "Current Letter : y\n",
      "Current Letter : t\n"
     ]
    }
   ],
   "source": [
    "# Break example 1\n",
    "\n",
    "for letter in 'Python':     \n",
    "   if letter == 'h':\n",
    "      break\n",
    "   print('Current Letter :', letter)"
   ]
  },
  {
   "cell_type": "code",
   "execution_count": 157,
   "metadata": {},
   "outputs": [
    {
     "name": "stdout",
     "output_type": "stream",
     "text": [
      "Current variable value : 8\n",
      "Current variable value : 7\n",
      "Current variable value : 6\n",
      "Good bye!\n"
     ]
    }
   ],
   "source": [
    "# Break example 2\n",
    "\n",
    "var = 8                    \n",
    "while var > 3:              \n",
    "   print('Current variable value :', var)\n",
    "   var = var -1\n",
    "   if var == 5:\n",
    "      break\n",
    "print(\"Good bye!\")"
   ]
  },
  {
   "cell_type": "code",
   "execution_count": 158,
   "metadata": {},
   "outputs": [
    {
     "name": "stdout",
     "output_type": "stream",
     "text": [
      "Current Letter : P\n",
      "Current Letter : y\n",
      "Current Letter : t\n",
      "Current Letter : o\n",
      "Current Letter : n\n"
     ]
    }
   ],
   "source": [
    "# Continue Example 1\n",
    "\n",
    "for letter in 'Python':    \n",
    "   if letter == 'h':\n",
    "      continue\n",
    "   print('Current Letter :', letter)"
   ]
  },
  {
   "cell_type": "code",
   "execution_count": 159,
   "metadata": {},
   "outputs": [
    {
     "name": "stdout",
     "output_type": "stream",
     "text": [
      "Current Letter : P\n",
      "Current Letter : y\n",
      "Current Letter : t\n",
      "This is pass block\n",
      "Current Letter : h\n",
      "Current Letter : o\n",
      "Current Letter : n\n",
      "Good bye!\n"
     ]
    }
   ],
   "source": [
    "# Pass Example\n",
    "\n",
    "for letter in 'Python': \n",
    "   if letter == 'h':\n",
    "      pass\n",
    "      print('This is pass block')\n",
    "   print('Current Letter :', letter)\n",
    "\n",
    "print(\"Good bye!\")\n"
   ]
  },
  {
   "cell_type": "markdown",
   "metadata": {},
   "source": [
    "### If, Elif, Else"
   ]
  },
  {
   "cell_type": "markdown",
   "metadata": {},
   "source": [
    "Syntax of a if statement is\n",
    "\n",
    "if expression:\n",
    "   statement(s)\n",
    "else:\n",
    "   statement(s)"
   ]
  },
  {
   "cell_type": "markdown",
   "metadata": {},
   "source": [
    "The elif statement allows to check multiple expressions for TRUE and execute commands as soon as a conditions = TRUE\n",
    "\n",
    "Similar to the else, the elif statement is optional. \n",
    "There can be an arbitrary number of elif statements following an if."
   ]
  },
  {
   "cell_type": "markdown",
   "metadata": {},
   "source": [
    "### Ranges"
   ]
  },
  {
   "cell_type": "markdown",
   "metadata": {},
   "source": [
    "Range is an immutable sequence of numbers and is commonly used for looping a specific number of times in for loops"
   ]
  },
  {
   "cell_type": "code",
   "execution_count": null,
   "metadata": {},
   "outputs": [],
   "source": [
    "#Typical syntax\n",
    "range(start, stop, [step])"
   ]
  },
  {
   "cell_type": "code",
   "execution_count": 190,
   "metadata": {},
   "outputs": [
    {
     "ename": "TypeError",
     "evalue": "'range' object is not callable",
     "output_type": "error",
     "traceback": [
      "\u001b[1;31m---------------------------------------------------------------------------\u001b[0m",
      "\u001b[1;31mTypeError\u001b[0m                                 Traceback (most recent call last)",
      "\u001b[1;32m<ipython-input-190-bb2461155027>\u001b[0m in \u001b[0;36m<module>\u001b[1;34m\u001b[0m\n\u001b[0;32m      1\u001b[0m \u001b[1;31m#range examples\u001b[0m\u001b[1;33m\u001b[0m\u001b[1;33m\u001b[0m\u001b[1;33m\u001b[0m\u001b[0m\n\u001b[1;32m----> 2\u001b[1;33m \u001b[0mlist\u001b[0m\u001b[1;33m(\u001b[0m\u001b[0mrange\u001b[0m\u001b[1;33m(\u001b[0m\u001b[1;36m1\u001b[0m\u001b[1;33m,\u001b[0m\u001b[1;36m10\u001b[0m\u001b[1;33m)\u001b[0m\u001b[1;33m)\u001b[0m     \u001b[1;31m#this does not work, not sure why\u001b[0m\u001b[1;33m\u001b[0m\u001b[1;33m\u001b[0m\u001b[0m\n\u001b[0m",
      "\u001b[1;31mTypeError\u001b[0m: 'range' object is not callable"
     ]
    }
   ],
   "source": [
    "#range examples\n",
    "list(range(1,10))     #this does not work, not sure why\n"
   ]
  },
  {
   "cell_type": "code",
   "execution_count": 189,
   "metadata": {},
   "outputs": [
    {
     "ename": "TypeError",
     "evalue": "'range' object is not callable",
     "output_type": "error",
     "traceback": [
      "\u001b[1;31m---------------------------------------------------------------------------\u001b[0m",
      "\u001b[1;31mTypeError\u001b[0m                                 Traceback (most recent call last)",
      "\u001b[1;32m<ipython-input-189-18b27f327d22>\u001b[0m in \u001b[0;36m<module>\u001b[1;34m\u001b[0m\n\u001b[1;32m----> 1\u001b[1;33m \u001b[0mlist\u001b[0m\u001b[1;33m(\u001b[0m\u001b[0mrange\u001b[0m\u001b[1;33m(\u001b[0m\u001b[1;36m1\u001b[0m\u001b[1;33m,\u001b[0m\u001b[1;36m10\u001b[0m\u001b[1;33m)\u001b[0m\u001b[1;33m)\u001b[0m\u001b[1;33m\u001b[0m\u001b[1;33m\u001b[0m\u001b[0m\n\u001b[0m",
      "\u001b[1;31mTypeError\u001b[0m: 'range' object is not callable"
     ]
    }
   ],
   "source": [
    "list(range(1,10))"
   ]
  },
  {
   "cell_type": "markdown",
   "metadata": {},
   "source": [
    "### Return Statement"
   ]
  },
  {
   "cell_type": "markdown",
   "metadata": {},
   "source": [
    "- The statement return exits a function, optionally passing back an expression to the caller.\n",
    "- A return statement with no arguments is the same as return None"
   ]
  },
  {
   "cell_type": "markdown",
   "metadata": {},
   "source": [
    "### Global vs. Local variables"
   ]
  },
  {
   "cell_type": "markdown",
   "metadata": {},
   "source": [
    "Variables that are defined inside a function body have a local scope, and those defined outside have a global scope.\n",
    "\n",
    "This means that \n",
    "- local variables can be accessed only inside the function in which they are declared\n",
    "- global variables can be accessed throughout the program body by all functions.\n"
   ]
  },
  {
   "cell_type": "markdown",
   "metadata": {},
   "source": [
    "# LESSON 3 - 10apr20\n"
   ]
  },
  {
   "cell_type": "markdown",
   "metadata": {},
   "source": [
    "### Modules"
   ]
  },
  {
   "cell_type": "markdown",
   "metadata": {},
   "source": [
    "- A module allows you to logically organize your Python code. \n",
    "- Grouping related code into a module makes the code easier to understand and use.\n",
    "- A module is a Python object with arbitrarily named attributes that you can bind and reference.\n",
    "- Simply, a module is a file consisting of Python code. \n",
    "- A module can define functions, classes and variables. \n",
    "- A module can also include runnable code."
   ]
  },
  {
   "cell_type": "markdown",
   "metadata": {},
   "source": [
    "### Import Modules"
   ]
  },
  {
   "cell_type": "markdown",
   "metadata": {},
   "source": [
    "- You can use any Python source file as a module by executing an import statement in some other Python source file. \n",
    "- The import has the following syntax : import module1[, module2[,... moduleN]\n",
    "- When the interpreter encounters an import statement, it imports the module if the module is present in the search path. \n",
    "- A search path is a list of directories that the interpreter searches before importing a module"
   ]
  },
  {
   "cell_type": "code",
   "execution_count": null,
   "metadata": {},
   "outputs": [],
   "source": [
    "from name import name1, name2        # import specific attributes from a module into current namespace\n",
    "from name import*                    # import all names from a module into the current namespace"
   ]
  },
  {
   "cell_type": "markdown",
   "metadata": {},
   "source": [
    "### Locating Modules"
   ]
  },
  {
   "cell_type": "markdown",
   "metadata": {},
   "source": [
    "When a module is imported, the Python interpreter searches for the module in the following sequences −\n",
    "- The current directory.\n",
    "- Each directory in the shell variable PYTHONPATH.\n",
    "- If all else fails, Python checks the default path. On UNIX, this default path is normally /usr/local/lib/python/.\n",
    "\n",
    "Location\n",
    "- The module search path is stored in the system module sys as the sys.path variable. \n",
    "- The sys.path variable contains the current directory, PYTHONPATH, and the installation-dependent default."
   ]
  },
  {
   "cell_type": "markdown",
   "metadata": {},
   "source": [
    "Pythonpath \n",
    "\n",
    "- The PYTHONPATH is an environment variable, consisting of a list of directories.\n",
    "- The syntax of PYTHONPATH is the same as that of the shell variable PATH.\n",
    "- Typical pythonpath from windows is set PYTHONPATH = c:\\python20\\lib;"
   ]
  },
  {
   "cell_type": "markdown",
   "metadata": {},
   "source": [
    "### Reload Modules"
   ]
  },
  {
   "cell_type": "markdown",
   "metadata": {},
   "source": [
    "- When the module is imported into a script, the code in the top-level portion of a module is executed only once.\n",
    "- Therefore, if you want to reexecute the top-level code in a module, you can use the reload() function. \n",
    "- The reload() function imports a previously imported module again. \n",
    "- The syntax of the reload() function is reload(module_name)"
   ]
  },
  {
   "cell_type": "markdown",
   "metadata": {},
   "source": [
    "### Namespaces and scoping"
   ]
  },
  {
   "cell_type": "markdown",
   "metadata": {},
   "source": [
    "Intro\n",
    "- Variables are names (identifiers) that map to objects. \n",
    "- A namespace is a dictionary of variable names (keys) and their corresponding objects (values).\n",
    "\n",
    "Local vs Global\n",
    "- A Python statement can access variables in a local namespace and in the global namespace. \n",
    "- If a local and a global variable have the same name, the local variable shadows the global variable.\n",
    "- Each function has its own local namespace. \n",
    "- Python makes educated guesses on whether variables are local or global. \n",
    "- It assumes that any variable assigned a value in a function is local.\n",
    "\n",
    "For example, we define a variable Money in the global namespace. \n",
    "- Within the function Money, we assign Money a value, therefore Python assumes Money as a local variable. \n",
    "- However, we accessed the value of the local variable Money before setting it, so an UnboundLocalError is the result. \n",
    "- Uncommenting the global statement fixes the problem."
   ]
  },
  {
   "cell_type": "markdown",
   "metadata": {},
   "source": [
    "### The dir( ) Function"
   ]
  },
  {
   "cell_type": "markdown",
   "metadata": {},
   "source": [
    "- The dir() built-in function returns a sorted list of strings containing the names defined by a module.\n",
    "- The list contains the names of all the modules, variables and functions that are defined in a module. "
   ]
  },
  {
   "cell_type": "code",
   "execution_count": 183,
   "metadata": {},
   "outputs": [
    {
     "name": "stdout",
     "output_type": "stream",
     "text": [
      "['__doc__', '__loader__', '__name__', '__package__', '__spec__', 'acos', 'acosh', 'asin', 'asinh', 'atan', 'atan2', 'atanh', 'ceil', 'copysign', 'cos', 'cosh', 'degrees', 'e', 'erf', 'erfc', 'exp', 'expm1', 'fabs', 'factorial', 'floor', 'fmod', 'frexp', 'fsum', 'gamma', 'gcd', 'hypot', 'inf', 'isclose', 'isfinite', 'isinf', 'isnan', 'ldexp', 'lgamma', 'log', 'log10', 'log1p', 'log2', 'modf', 'nan', 'pi', 'pow', 'radians', 'remainder', 'sin', 'sinh', 'sqrt', 'tan', 'tanh', 'tau', 'trunc']\n"
     ]
    }
   ],
   "source": [
    "# Import built-in module math\n",
    "import math\n",
    "\n",
    "content = dir(math)\n",
    "print(content)"
   ]
  },
  {
   "cell_type": "markdown",
   "metadata": {},
   "source": [
    "### Packages"
   ]
  },
  {
   "cell_type": "markdown",
   "metadata": {},
   "source": [
    "- A package is a hierarchical file directory structure \n",
    "- It defines a single Python application environment that consists of modules and subpackages.\n"
   ]
  },
  {
   "cell_type": "markdown",
   "metadata": {},
   "source": [
    "### Opening and Closing Files"
   ]
  },
  {
   "cell_type": "markdown",
   "metadata": {},
   "source": [
    "- Before you can read or write a file, you have to open it using Python's built-in open() function. \n",
    "- This function creates a file object, which would be utilized to call other support methods associated with it."
   ]
  },
  {
   "cell_type": "code",
   "execution_count": null,
   "metadata": {},
   "outputs": [],
   "source": [
    "#syntax\n",
    "myfile = open(file_path_and_name [, access_mode][, buffering])\n",
    "myfile.close()"
   ]
  },
  {
   "cell_type": "code",
   "execution_count": null,
   "metadata": {},
   "outputs": [],
   "source": [
    "#using the file without using it\n",
    "\n",
    "with open (file_path_and_name, 'r') as f:\n",
    "    file_contents = f.read()"
   ]
  },
  {
   "cell_type": "markdown",
   "metadata": {},
   "source": [
    "Parameters\n",
    "- file_name \n",
    "   − The file_name argument is a string value that contains the name of the file that you want to access.\n",
    "   \n",
    "- access_mode − The access_mode determines the mode in which the file has to be opened\n",
    "   - read, write, append, etc\n",
    "   - default file access mode is read (r).\n",
    "\n",
    "- buffering \n",
    "   − 0: no buffering. \n",
    "   - 1: line buffering is performed while accessing a file. \n",
    "   - If > 1: buffering action is performed with the indicated buffer size. \n",
    "   - If negative, the buffer size is the system default(default behavior)."
   ]
  },
  {
   "cell_type": "code",
   "execution_count": null,
   "metadata": {},
   "outputs": [],
   "source": [
    "# Opening modes\n",
    "r                             # read only\n",
    "rb                            # reading in binary format\n",
    "r+                            # both reading and writing\n",
    "w                             # writing only - overwrites the file\n",
    "a                             # append an existing file\n",
    "x                             # create a new file\n",
    "\n",
    "# methods\n",
    "myfile.close()                                # close methods\n",
    "myfile.write(string)                          # write method\n",
    "myfile.read([count])                          # read method\n",
    "os.rename(current_file_name, new_file_name)   # rename method\n",
    "os.remove(file_name)                          # delete file method\n",
    "os.remove(file_name)                          # delete file method"
   ]
  },
  {
   "cell_type": "code",
   "execution_count": null,
   "metadata": {},
   "outputs": [],
   "source": [
    "# File attributes\n",
    "\n",
    "file.closed         # returns true if closed\n",
    "file.mode           # returns access mode\n",
    "file.name           # returns name of file\n",
    "file.softspace   \n"
   ]
  },
  {
   "cell_type": "code",
   "execution_count": null,
   "metadata": {},
   "outputs": [],
   "source": [
    "# Reading file\n",
    "\n",
    "print(myfile.read())            # read whole file\n",
    "print(myfile.read(1))           # read first character\n",
    "print(myfile.readline())        # read the 1st line (can be cumulated)\n",
    "print(myfile.readlines())       # readlines returns a list where each element in the list represents a line in the file"
   ]
  },
  {
   "cell_type": "code",
   "execution_count": null,
   "metadata": {},
   "outputs": [],
   "source": [
    "# Create a new file\n",
    "f = open(\"myfile.txt\", \"x\")\n"
   ]
  },
  {
   "cell_type": "code",
   "execution_count": null,
   "metadata": {},
   "outputs": [],
   "source": [
    "# Delete a file - if it exists\n",
    "\n",
    "import os\n",
    "\n",
    "if os.path.isfile(file_path_and_name):\n",
    "    os.remove(file_path_and_name)\n",
    "else: \n",
    "    print(\"Error: %s file not found\" % myfile)"
   ]
  },
  {
   "cell_type": "code",
   "execution_count": null,
   "metadata": {},
   "outputs": [],
   "source": []
  },
  {
   "cell_type": "markdown",
   "metadata": {},
   "source": [
    "### Directories"
   ]
  },
  {
   "cell_type": "code",
   "execution_count": null,
   "metadata": {},
   "outputs": [],
   "source": [
    "All files are contained within various directories, and Python has no problem handling these too. \n",
    "The os module has several methods that help you create, remove, and change directories."
   ]
  },
  {
   "cell_type": "code",
   "execution_count": null,
   "metadata": {},
   "outputs": [],
   "source": [
    "os.mkdir(\"newdir\")             # create directory in current directory\n",
    "os.chdir(\"newdir\")             # change directory\n",
    "os.getcwd()                    # get current directory\n",
    "os.rmdir('dirname')            # delete directory"
   ]
  },
  {
   "cell_type": "markdown",
   "metadata": {},
   "source": [
    "### Exception Handling"
   ]
  },
  {
   "cell_type": "markdown",
   "metadata": {},
   "source": [
    "- Exception     - Base class for all exceptions\n",
    "- StopIteration  - Raised when the next() method of an iterator does not point to any object.\n",
    "- SystemExit     - Raised by the sys.exit() function.\n",
    "- StandardError  - Base class for all built-in exceptions except StopIteration and SystemExit.\n",
    "- ArithmeticError - Base class for all errors that occur for numeric calculation.\n",
    "- OverflowError - Raised when a calculation exceeds maximum limit for a numeric type.\n",
    "- FloatingPointError -Raised when a floating point calculation fails.\n",
    "- ZeroDivisionError - Raised when division or modulo by zero takes place for all numeric types.\n",
    "- AssertionError - Raised in case of failure of the Assert statement.\n",
    "- AttributeError - Raised in case of failure of attribute reference or assignment.\n",
    "- EOFError - Raised when there is no input from either the raw_input() or input() function and the end of file is reached.\n",
    "- ImportError - Raised when an import statement fails.\n",
    "- KeyboardInterrupt - Raised when the user interrupts program execution, usually by pressing Ctrl+c.\n",
    "- LookupError - Base class for all lookup errors.\n",
    "- IndexError - Raised when an index is not found in a sequence.\n",
    "- KeyError  - Raised when the specified key is not found in the dictionary.\n",
    "- NameError - Raised when an identifier is not found in the local or global namespace.\n",
    "- UnboundLocalError - Raised when trying to access a local variable in a function or method but no value has been assigned to it.\n",
    "- EnvironmentError  - Base class for all exceptions that occur outside the Python environment.\n",
    "- IOError - Raised for operating system-related errors.\n",
    "- SyntaxError - Raised when there is an error in Python syntax.\n",
    "- IndentationError  - Raised when indentation is not specified properly.\n",
    "- SystemError  - Raised when the interpreter finds an internal problem, but when this error is encountered the Python interpreter does not exit.\n",
    "- SystemExit - Raised when Python interpreter is quit by using the sys.exit() function. If not handled in the code, causes the interpreter to exit.\n",
    "- TypeError - Raised when an operation or function is attempted that is invalid for the specified data type.\n",
    "- ValueError - Raised when the built-in function for a data type has the valid type of arguments, but the arguments have invalid values specified.\n",
    "- RuntimeError - Raised when a generated error does not fall into any category."
   ]
  },
  {
   "cell_type": "code",
   "execution_count": null,
   "metadata": {},
   "outputs": [],
   "source": [
    "assert Expression[, Arguments]      # assertion of a value"
   ]
  },
  {
   "cell_type": "markdown",
   "metadata": {},
   "source": [
    "If you have some suspicious code that may raise an exception, you can defend your program by placing the suspicious code in a try: block. "
   ]
  },
  {
   "cell_type": "markdown",
   "metadata": {},
   "source": [
    "try:\n",
    "   You do your operations here;\n",
    "   ......................\n",
    "except ExceptionI:\n",
    "   If there is ExceptionI, then execute this block.\n",
    "except ExceptionII:\n",
    "   If there is ExceptionII, then execute this block.\n",
    "   ......................\n",
    "else:\n",
    "   If there is no exception then execute this block. "
   ]
  },
  {
   "cell_type": "markdown",
   "metadata": {},
   "source": [
    "try:\n",
    "   You do your operations here;\n",
    "   ......................\n",
    "except(Exception1[, Exception2[,...ExceptionN]]]):\n",
    "   If there is any exception from the given exception list, \n",
    "   then execute this block.\n",
    "   ......................\n",
    "else:\n",
    "   If there is no exception then execute this block. "
   ]
  },
  {
   "cell_type": "code",
   "execution_count": null,
   "metadata": {},
   "outputs": [],
   "source": [
    "try:\n",
    "   You do your operations here;\n",
    "   ......................\n",
    "   Due to any exception, this may be skipped.\n",
    "finally:\n",
    "   This would always be executed.\n",
    "   ......................"
   ]
  },
  {
   "cell_type": "code",
   "execution_count": null,
   "metadata": {},
   "outputs": [],
   "source": [
    "# Example of good practice\n",
    "\n",
    "try:\n",
    "   fh = open(\"testfile\", \"w\")\n",
    "   try:\n",
    "      fh.write(\"This is my test file for exception handling!!\")\n",
    "   finally:\n",
    "      print \"Going to close the file\"\n",
    "      fh.close()\n",
    "except IOError:\n",
    "   print \"Error: can\\'t find file or read data\"\n"
   ]
  },
  {
   "cell_type": "code",
   "execution_count": null,
   "metadata": {},
   "outputs": [],
   "source": [
    "Raise can be used in order to create adhoc exceptions\n",
    "\n",
    "def functionName( level ):\n",
    "   if level < 1:\n",
    "      raise \"Invalid level!\", level\n",
    "      # The code below to this would not be executed\n",
    "      # if we raise the exception\n"
   ]
  },
  {
   "cell_type": "markdown",
   "metadata": {},
   "source": [
    "# LESSON 4 - 13apr20"
   ]
  },
  {
   "cell_type": "markdown",
   "metadata": {},
   "source": [
    "## Class and Objects"
   ]
  },
  {
   "cell_type": "markdown",
   "metadata": {},
   "source": [
    "Pretty much everything is an object. Class is like an object constructor.\n",
    "\n",
    "You start with the class keyword to indicate that you are creating a class, then you add the name of the class \n",
    "\n",
    "To note: \n",
    "- It is possible to specify MyClass(object), where (object) specifies the parent class that you are inheriting from \n",
    "- However, in Python 3 this is no longer necessary because it is the implicit default."
   ]
  },
  {
   "cell_type": "code",
   "execution_count": 31,
   "metadata": {},
   "outputs": [
    {
     "name": "stdout",
     "output_type": "stream",
     "text": [
      "5\n"
     ]
    }
   ],
   "source": [
    "#to create a class\n",
    "class MyClass:\n",
    "    x = 5\n",
    "\n",
    "#to create an object and print the value of x:\n",
    "p1 = MyClass\n",
    "\n",
    "print(p1.x)"
   ]
  },
  {
   "cell_type": "markdown",
   "metadata": {},
   "source": [
    "### Defining Class and Objects"
   ]
  },
  {
   "cell_type": "markdown",
   "metadata": {},
   "source": [
    "Class Attributes / Variables\n",
    "- While instance attributes are specific to each object, class attributes are the same for all instances \n",
    "\n",
    "https://python-textbok.readthedocs.io/en/1.0/Classes.html"
   ]
  },
  {
   "cell_type": "markdown",
   "metadata": {},
   "source": [
    "Instance Attributes / Variables\n",
    "- All classes have a built-in function _init_() which is executed when the class is being initiated \n",
    "- Use _init_() function to initialize (specify) initial attributes / state\n",
    "  - default values to object properties, \n",
    "  - other operations that are necessary to do when the object is being created\n",
    "- At least one instance attribute has to be stated "
   ]
  },
  {
   "cell_type": "markdown",
   "metadata": {},
   "source": [
    "Self:\n",
    "- Self parameter is a reference to the current instance of the class\n",
    "- Self parameter is used to access variables that belongs to the class. \n",
    "- Self variable is mandatory\n",
    "- Self is also an instance of a class\n",
    "\n",
    "  To note:\n",
    "  - It does not have to be named self, you can call it whatever you want, \n",
    "  - However, it has to be the first paramater of any function in the class.\n",
    "  - Through the self parameter, instance methods can freely access attributes and other methods \n",
    "  - This gives them a lot of power when it comes to modifying an object’s and also class state.\n"
   ]
  },
  {
   "cell_type": "code",
   "execution_count": 13,
   "metadata": {},
   "outputs": [
    {
     "name": "stdout",
     "output_type": "stream",
     "text": [
      "Happy\n",
      "5\n"
     ]
    }
   ],
   "source": [
    "#create a class named person, use the _init_() function to assign values for name and age\n",
    "\n",
    "class Dog:\n",
    "   \n",
    "    species = 'mammal'                   # Class Attribute\n",
    "\n",
    "    def __init__(self, name, age):       # Instance Attributes \n",
    "        self.name = name                 # self \n",
    "        self.age = age                   # self \n",
    "\n",
    "D1 = Dog(\"Happy\",5)\n",
    "\n",
    "print(D1.name)\n",
    "print(D1.age)"
   ]
  },
  {
   "cell_type": "code",
   "execution_count": 32,
   "metadata": {},
   "outputs": [
    {
     "name": "stdout",
     "output_type": "stream",
     "text": [
      "Philo is 5 and Mikey is 6.\n",
      "Philo is a mammal!\n"
     ]
    },
    {
     "data": {
      "text/plain": [
       "'mammal'"
      ]
     },
     "execution_count": 32,
     "metadata": {},
     "output_type": "execute_result"
    }
   ],
   "source": [
    "class Dog:\n",
    "    \n",
    "    # Class Attribute\n",
    "    species = 'mammal'\n",
    "\n",
    "    # Initializer / Instance Attributes\n",
    "    def __init__(self, name, age):\n",
    "        self.name = name\n",
    "        self.age = age\n",
    "\n",
    "\n",
    "# Instantiate the Dog object\n",
    "philo = Dog(\"Philo\", 5)\n",
    "mikey = Dog(\"Mikey\", 6)\n",
    "\n",
    "# Access the instance attributes\n",
    "print(\"{} is {} and {} is {}.\".format(\n",
    "    philo.name, philo.age, mikey.name, mikey.age))\n",
    "\n",
    "# Is Philo a mammal?\n",
    "if philo.species == \"mammal\":\n",
    "    print(\"{0} is a {1}!\".format(philo.name, philo.species))\n",
    "\n",
    "# retrieving a class attribute\n",
    "philo.species"
   ]
  },
  {
   "cell_type": "markdown",
   "metadata": {},
   "source": [
    "### Differences between Class and Instance Attributes"
   ]
  },
  {
   "cell_type": "code",
   "execution_count": 6,
   "metadata": {},
   "outputs": [],
   "source": [
    "class Employee:\n",
    "\n",
    "    raise_amount = 1.04\n",
    "    \n",
    "    def __init__(self,first, last, pay):\n",
    "        self.first = first\n",
    "        self.last = last\n",
    "        self.pay = pay\n",
    "        self.email = first + '.' + last + '@company.com'\n",
    "    \n",
    "    def fullname(self):\n",
    "        return '{} {}.format(self.first, self.last)'\n",
    "    \n",
    "    def apply_raise(self):\n",
    "        self.pay = int(self.pay * self.raise_amount)      \n",
    "        # this is an important one, we need self.raise_amount or Employee.raise_amount\n",
    "        # self.raise will look into individual raise_amount\n",
    "        # Employee.raise will look at the class raise_amount only \n",
    "    \n",
    "emp_1 = Employee('Johny', 'Cash', 50000)\n",
    "emp_2 = Employee('Bart', 'Simpson', 80000)"
   ]
  },
  {
   "cell_type": "code",
   "execution_count": 7,
   "metadata": {},
   "outputs": [
    {
     "name": "stdout",
     "output_type": "stream",
     "text": [
      "50000\n"
     ]
    }
   ],
   "source": [
    "print(emp_1.pay)"
   ]
  },
  {
   "cell_type": "code",
   "execution_count": 10,
   "metadata": {},
   "outputs": [
    {
     "name": "stdout",
     "output_type": "stream",
     "text": [
      "1.04\n",
      "1.04\n",
      "1.04\n"
     ]
    }
   ],
   "source": [
    "print(Employee.raise_amount)     #it is possible to access the class variable via the class or both instances\n",
    "print(emp_1.raise_amount)        # the logic is that there is a check on the class variable via the class or instance\n",
    "print(emp_2.raise_amount)"
   ]
  },
  {
   "cell_type": "code",
   "execution_count": 11,
   "metadata": {},
   "outputs": [
    {
     "name": "stdout",
     "output_type": "stream",
     "text": [
      "{'first': 'Johny', 'last': 'Cash', 'pay': 50000, 'email': 'Johny.Cash@company.com'}\n"
     ]
    }
   ],
   "source": [
    "print(emp_1.__dict__)           # I can explore what this contains - and it does not contain ' raise amount'"
   ]
  },
  {
   "cell_type": "code",
   "execution_count": 12,
   "metadata": {},
   "outputs": [
    {
     "name": "stdout",
     "output_type": "stream",
     "text": [
      "{'__module__': '__main__', 'raise_amount': 1.04, '__init__': <function Employee.__init__ at 0x0000019720B69EE8>, 'fullname': <function Employee.fullname at 0x0000019720B69F78>, 'apply_raise': <function Employee.apply_raise at 0x0000019720B70048>, '__dict__': <attribute '__dict__' of 'Employee' objects>, '__weakref__': <attribute '__weakref__' of 'Employee' objects>, '__doc__': None}\n"
     ]
    }
   ],
   "source": [
    "print(Employee.__dict__) "
   ]
  },
  {
   "cell_type": "code",
   "execution_count": 13,
   "metadata": {},
   "outputs": [
    {
     "name": "stdout",
     "output_type": "stream",
     "text": [
      "1.05\n",
      "1.05\n",
      "1.05\n"
     ]
    }
   ],
   "source": [
    "Employee.raise_amount = 1.05     # here i can change the whole value for the class\n",
    "\n",
    "print(Employee.raise_amount)    \n",
    "print(emp_1.raise_amount)       \n",
    "print(emp_2.raise_amount)"
   ]
  },
  {
   "cell_type": "code",
   "execution_count": 16,
   "metadata": {},
   "outputs": [
    {
     "name": "stdout",
     "output_type": "stream",
     "text": [
      "1.05\n",
      "1.15\n",
      "1.05\n"
     ]
    }
   ],
   "source": [
    "emp_1.raise_amount = 1.15       # here i can change the value for a single individual\n",
    "\n",
    "print(Employee.raise_amount)    \n",
    "print(emp_1.raise_amount)       \n",
    "print(emp_2.raise_amount)\n"
   ]
  },
  {
   "cell_type": "markdown",
   "metadata": {},
   "source": [
    "### Example of using 2 methods, creating a separate object to use those methods"
   ]
  },
  {
   "cell_type": "code",
   "execution_count": 41,
   "metadata": {},
   "outputs": [],
   "source": [
    "class MyClass:\n",
    "    \n",
    "    def __init__(self):                       # there is no need for _init__(self, s) becasue XXXXX\n",
    "        self.s = ''                           # there is no need for 'self.s = s' because XXXXX\n",
    "    \n",
    "    def getString(self):\n",
    "        self.s = input('Enter a string :')     \n",
    "        \n",
    "    def printString(self):\n",
    "        print(self.s.upper())"
   ]
  },
  {
   "cell_type": "code",
   "execution_count": 42,
   "metadata": {},
   "outputs": [],
   "source": [
    "obj = MyClass()"
   ]
  },
  {
   "cell_type": "code",
   "execution_count": 43,
   "metadata": {},
   "outputs": [
    {
     "name": "stdout",
     "output_type": "stream",
     "text": [
      "Enter a string :everything is a gift from the universe\n"
     ]
    }
   ],
   "source": [
    "obj.getString()"
   ]
  },
  {
   "cell_type": "code",
   "execution_count": 44,
   "metadata": {},
   "outputs": [
    {
     "name": "stdout",
     "output_type": "stream",
     "text": [
      "EVERYTHING IS A GIFT FROM THE UNIVERSE\n"
     ]
    }
   ],
   "source": [
    "obj.printString()"
   ]
  },
  {
   "cell_type": "markdown",
   "metadata": {},
   "source": [
    "### Example of a clean way use an object and proper output format"
   ]
  },
  {
   "cell_type": "code",
   "execution_count": 57,
   "metadata": {},
   "outputs": [
    {
     "name": "stdout",
     "output_type": "stream",
     "text": [
      "Enter the radius in cm: 16\n",
      "The area of the circle is 804.247719318987 cm2\n",
      "None\n"
     ]
    }
   ],
   "source": [
    "import math\n",
    "\n",
    "class Circle:\n",
    "    def __init__(self, r):\n",
    "        self.r = r\n",
    "\n",
    "    def circle_area(self):\n",
    "        area = float(self.r) * float(self.r) * math.pi           \n",
    "        print(\"The area of the circle is {} cm2\".format(area))\n",
    "\n",
    "Radius = float(input('Enter the radius in cm: '))\n",
    "NewCircle = Circle(Radius)\n",
    "\n",
    "print(NewCircle.circle_area())"
   ]
  },
  {
   "cell_type": "markdown",
   "metadata": {},
   "source": [
    "### Second Example"
   ]
  },
  {
   "cell_type": "code",
   "execution_count": 2,
   "metadata": {},
   "outputs": [
    {
     "name": "stdout",
     "output_type": "stream",
     "text": [
      "enter length in cm: 5\n",
      "enter width in cm: 4\n",
      "the area of the rectangle is: 20 cm2\n",
      "None\n"
     ]
    }
   ],
   "source": [
    "class Rectangle:\n",
    "    def __init__(self, l, w):\n",
    "        \n",
    "        self.l = int(l)\n",
    "        self.w = int(w)\n",
    "     \n",
    "    def Area(self):\n",
    "        surface = self.l * self.w\n",
    "        print(\"the area of the rectangle is: {} cm2\".format(surface))\n",
    "\n",
    "l = input('enter length in cm: ')\n",
    "w = input('enter width in cm: ')\n",
    "\n",
    "MyRectangle = Rectangle(l, w)\n",
    "print(MyRectangle.Area())\n"
   ]
  },
  {
   "cell_type": "markdown",
   "metadata": {},
   "source": [
    "## Methods"
   ]
  },
  {
   "cell_type": "markdown",
   "metadata": {},
   "source": [
    "### Regular 'Self ' Methods"
   ]
  },
  {
   "cell_type": "markdown",
   "metadata": {},
   "source": [
    "- Objects can also contain methods. \n",
    "- Methods in objects are functions that belong to the object.\n",
    "- Instance methods are defined inside a class and are used to get the contents of an instance. \n",
    "- They can also be used to perform operations with the attributes of our objects. \n",
    "- Like the __init__ method, the first argument is always self:\n",
    "\n",
    "https://www.youtube.com/watch?v=AsafkCAJpJ0"
   ]
  },
  {
   "cell_type": "code",
   "execution_count": 20,
   "metadata": {},
   "outputs": [
    {
     "name": "stdout",
     "output_type": "stream",
     "text": [
      "Mikey is 6 years old\n",
      "Mikey says Gruff Gruff\n"
     ]
    }
   ],
   "source": [
    "class Dog:\n",
    "\n",
    "    species = 'mammal'                   # Class Attribute\n",
    "\n",
    "    def __init__(self, name, age):       # Instance Attributes \n",
    "        self.name = name                 # self \n",
    "        self.age = age                   # self \n",
    "\n",
    "    def description(self):               # instance method\n",
    "        return \"{} is {} years old\".format(self.name, self.age)\n",
    "\n",
    "    def speak(self, sound):              # instance method\n",
    "        return \"{} says {}\".format(self.name, sound)\n",
    "\n",
    "mikey = Dog(\"Mikey\", 6)                  # Instantiate the Dog object\n",
    "\n",
    "print(mikey.description())               # call our instance methods\n",
    "print(mikey.speak(\"Gruff Gruff\"))        # call our instance methods\n"
   ]
  },
  {
   "cell_type": "code",
   "execution_count": 2,
   "metadata": {},
   "outputs": [
    {
     "name": "stdout",
     "output_type": "stream",
     "text": [
      "hello my name is John\n"
     ]
    }
   ],
   "source": [
    "class Person:\n",
    "    def __init__(self, name, age):\n",
    "        self.name = name\n",
    "        self.age = age\n",
    "        \n",
    "    def myfunc(self):\n",
    "        print(\"hello my name is \" + self.name)\n",
    "\n",
    "p1= Person(\"John\", 36)\n",
    "p1.myfunc()"
   ]
  },
  {
   "cell_type": "markdown",
   "metadata": {},
   "source": [
    "### @classmethod vs @staticmethod decorators"
   ]
  },
  {
   "cell_type": "markdown",
   "metadata": {},
   "source": [
    "https://www.youtube.com/watch?v=rq8cL2XMM5M\n",
    "\n",
    "\n",
    "CLASS METHOD\n",
    "\n",
    "\n",
    "Regular method thakes the instance as 1st argument; Class method will take class as a 1st argument\n",
    "- So we need a decorator: @classmethod\n",
    "- by convention, 'class' is written: cls\n",
    "\n",
    "\n",
    "- Instead of accepting a self parameter, class methods take a cls parameter \n",
    "- cls parameter points to the class—and not the object instance—when the method is called.\n",
    "- Because the class method only has access to this cls argument, it can’t modify object instance state. \n",
    "- However, class methods can still modify class state that applies across all instances of the class."
   ]
  },
  {
   "cell_type": "code",
   "execution_count": null,
   "metadata": {},
   "outputs": [],
   "source": [
    "#So, while a typical class method might look like this:\n",
    "    \n",
    "class Student(object):\n",
    "\n",
    "    def __init__(self, first_name, last_name):\n",
    "        self.first_name = first_name\n",
    "        self.last_name = last_name\n",
    "\n",
    "scott = Student('Scott',  'Robinson')\n",
    "\n",
    "\n",
    "# A @classmethod would be used like this\n",
    "\n",
    "class Student(object):\n",
    "\n",
    "    @classmethod\n",
    "    def from_string(cls, name_str):\n",
    "        first_name, last_name = map(str, name_str.split(' '))\n",
    "        student = cls(first_name, last_name)\n",
    "        return student\n",
    "\n",
    "scott = Student.from_string('Scott Robinson')"
   ]
  },
  {
   "cell_type": "markdown",
   "metadata": {},
   "source": [
    "STATIC METHOD\n",
    "\n",
    "- Static method don't pass anything automoatically (instance or class)\n",
    "- They behave as a function, with some logical conenctions with class\n",
    "- We also need a decorator: @staticmethod decorator\n",
    "\n",
    "\n",
    "- Takes neither a self nor a cls parameter (but of course it’s free to accept an arbitrary number of other parameters).\n",
    "- Therefore a static method can neither modify object state nor class state. \n",
    "- Static methods are restricted in what data they can access - and they’re primarily a way to namespace your methods.\n",
    "\n",
    "\n",
    "- These types of methods aren't typically meant to create/instantiate objects\n",
    "- They may contain some type of logic pertaining to the class itself, like a helper or utility method"
   ]
  },
  {
   "cell_type": "code",
   "execution_count": 53,
   "metadata": {},
   "outputs": [
    {
     "data": {
      "text/plain": [
       "False"
      ]
     },
     "execution_count": 53,
     "metadata": {},
     "output_type": "execute_result"
    }
   ],
   "source": [
    "class Student(object):\n",
    "\n",
    "    @staticmethod\n",
    "    def is_full_name(name_str):\n",
    "        names = name_str.split(' ')\n",
    "        return len(names) > 1\n",
    "\n",
    "Student.is_full_name('Scott Robinson')   # True\n",
    "Student.is_full_name('Scott')            # False"
   ]
  },
  {
   "cell_type": "markdown",
   "metadata": {},
   "source": [
    "@classmethod decorator vs  @staticmethod decorator\n",
    "\n",
    "- Difference: \n",
    "   - @classmethod methods have a cls parameter sent to their methods, \n",
    "   - @staticmethod methods do not require a cls parameter\n",
    "\n",
    "- Consequence\n",
    "   - it allows @classmethod methods to easily instantiate the class, regardless of any inheritance\n",
    "   - absence of cls parameter in @staticmethod methods make them true static methods \n"
   ]
  },
  {
   "cell_type": "markdown",
   "metadata": {},
   "source": [
    "### Example of class and static methods\n"
   ]
  },
  {
   "cell_type": "code",
   "execution_count": 24,
   "metadata": {},
   "outputs": [],
   "source": [
    "from datetime import date\n",
    "class Person:\n",
    "    # class attributes\n",
    "    t = 'mammals'\n",
    "    def __init__(self, name, age):\n",
    "        self.name = name\n",
    "        self.age = age\n",
    "    \n",
    "    # a class method to create a person Object by birthyear\n",
    "    @classmethod\n",
    "    def fromBirthYear(cls,name, year):\n",
    "        return cls(name, date.today().year - year)\n",
    "\n",
    "    @staticmethod\n",
    "    def isAdult(age):\n",
    "        return age > 18\n",
    "    \n",
    "\n",
    "person1 = Person('Josh', 21)\n",
    "person2 = Person.fromBirthYear('Joshua', 1996)          # here, we use classmethod applied to an object "
   ]
  },
  {
   "cell_type": "code",
   "execution_count": 25,
   "metadata": {},
   "outputs": [
    {
     "data": {
      "text/plain": [
       "21"
      ]
     },
     "execution_count": 25,
     "metadata": {},
     "output_type": "execute_result"
    }
   ],
   "source": [
    "person1.age"
   ]
  },
  {
   "cell_type": "code",
   "execution_count": 26,
   "metadata": {},
   "outputs": [
    {
     "data": {
      "text/plain": [
       "24"
      ]
     },
     "execution_count": 26,
     "metadata": {},
     "output_type": "execute_result"
    }
   ],
   "source": [
    "person2.age"
   ]
  },
  {
   "cell_type": "code",
   "execution_count": 29,
   "metadata": {},
   "outputs": [
    {
     "data": {
      "text/plain": [
       "True"
      ]
     },
     "execution_count": 29,
     "metadata": {},
     "output_type": "execute_result"
    }
   ],
   "source": [
    "Person.isAdult(22)"
   ]
  },
  {
   "cell_type": "code",
   "execution_count": null,
   "metadata": {},
   "outputs": [],
   "source": []
  },
  {
   "cell_type": "code",
   "execution_count": 18,
   "metadata": {},
   "outputs": [],
   "source": [
    "class Employee:\n",
    "\n",
    "    raise_amount = 1.04\n",
    "    \n",
    "    def __init__(self,first, last, pay):\n",
    "        self.first = first\n",
    "        self.last = last\n",
    "        self.pay = pay\n",
    "        self.email = first + '.' + last + '@company.com'\n",
    "    \n",
    "    def fullname(self):\n",
    "        return '{} {}.format(self.first, self.last)'\n",
    "    \n",
    "    def apply_raise(self):\n",
    "        self.pay = int(self.pay * self.raise_amount)      \n",
    "    \n",
    "    @classmethod\n",
    "    def set_raise_amt(cls, amount):\n",
    "       cls.raise_amount = amount\n",
    "    \n",
    "emp_1 = Employee('Johny', 'Cash', 50000)\n",
    "emp_2 = Employee('Bart', 'Simpson', 80000)"
   ]
  },
  {
   "cell_type": "code",
   "execution_count": 19,
   "metadata": {},
   "outputs": [
    {
     "name": "stdout",
     "output_type": "stream",
     "text": [
      "1.04\n",
      "1.04\n",
      "1.04\n"
     ]
    }
   ],
   "source": [
    "print(Employee.raise_amount)    \n",
    "print(emp_1.raise_amount)       \n",
    "print(emp_2.raise_amount)"
   ]
  },
  {
   "cell_type": "code",
   "execution_count": 21,
   "metadata": {},
   "outputs": [
    {
     "name": "stdout",
     "output_type": "stream",
     "text": [
      "1.06\n",
      "1.06\n",
      "1.06\n"
     ]
    }
   ],
   "source": [
    "Employee.set_raise_amt(1.06)        # used the class method 'set_raise_amt' to modify the class attribute.\n",
    "                                    # it is the same as Employee.raise_amount = 1.06\n",
    "print(Employee.raise_amount)    \n",
    "print(emp_1.raise_amount)       \n",
    "print(emp_2.raise_amount)\n"
   ]
  },
  {
   "cell_type": "code",
   "execution_count": 53,
   "metadata": {},
   "outputs": [],
   "source": [
    "class Employee:\n",
    "\n",
    "    raise_amount = 1.04\n",
    "    \n",
    "    def __init__(self,first, last, pay):\n",
    "        self.first = first\n",
    "        self.last = last\n",
    "        self.pay = pay\n",
    "        self.email = first + '.' + last + '@company.com'\n",
    "    \n",
    "    def fullname(self):\n",
    "        return '{} {}.format(self.first, self.last)'\n",
    "    \n",
    "    def apply_raise(self):\n",
    "        self.pay = int(self.pay * self.raise_amount)      \n",
    "    \n",
    "    @classmethod\n",
    "    def from_string(cls, emp_str):                 #this is differnt way to have a constructor from strings of data\n",
    "        first, last, pay  = emp_str.split('-')\n",
    "        return cls(first, last, pay)\n",
    "\n",
    "emp_str_1 = 'Johny-Cash-50000'\n",
    "emp_str_2 = 'Bart-Simpson-80000'\n",
    "    \n",
    "new_emp_1 = Employee.from_string(emp_str_1)\n"
   ]
  },
  {
   "cell_type": "code",
   "execution_count": 54,
   "metadata": {},
   "outputs": [
    {
     "name": "stdout",
     "output_type": "stream",
     "text": [
      "Johny.Cash@company.com\n",
      "50000\n"
     ]
    }
   ],
   "source": [
    "print(new_emp_1.email)\n",
    "print(new_emp_1.pay)"
   ]
  },
  {
   "cell_type": "code",
   "execution_count": 48,
   "metadata": {},
   "outputs": [],
   "source": [
    "# Using the class method on time as an additional constructor methodology\n",
    "\n",
    "@classmethod\n",
    "def fromttimestamp(cls, t):\n",
    "    # construct a date from the POSIX timestamp (like time.time())\n",
    "    y, m, d, hh, mm, ss, weekday, jday, dst = _time.localtime(t)\n",
    "    return cls(y,m,d)\n"
   ]
  },
  {
   "cell_type": "code",
   "execution_count": null,
   "metadata": {},
   "outputs": [],
   "source": [
    "import datetime\n",
    "\n",
    "@staticmethod\n",
    "def is_workday(day):\n",
    "    if day.weekday() == 5 or day.weekday() == 6:\n",
    "        return False\n",
    "    else:\n",
    "        return True\n"
   ]
  },
  {
   "cell_type": "code",
   "execution_count": 55,
   "metadata": {},
   "outputs": [
    {
     "ename": "AttributeError",
     "evalue": "type object 'Employee' has no attribute 'is_workday'",
     "output_type": "error",
     "traceback": [
      "\u001b[1;31m---------------------------------------------------------------------------\u001b[0m",
      "\u001b[1;31mAttributeError\u001b[0m                            Traceback (most recent call last)",
      "\u001b[1;32m<ipython-input-55-a4df79495ae1>\u001b[0m in \u001b[0;36m<module>\u001b[1;34m\u001b[0m\n\u001b[0;32m      1\u001b[0m \u001b[0mmy_date\u001b[0m \u001b[1;33m=\u001b[0m \u001b[0mdatetime\u001b[0m\u001b[1;33m.\u001b[0m\u001b[0mdate\u001b[0m\u001b[1;33m(\u001b[0m\u001b[1;36m2020\u001b[0m\u001b[1;33m,\u001b[0m\u001b[1;36m4\u001b[0m\u001b[1;33m,\u001b[0m\u001b[1;36m13\u001b[0m\u001b[1;33m)\u001b[0m\u001b[1;33m\u001b[0m\u001b[1;33m\u001b[0m\u001b[0m\n\u001b[1;32m----> 2\u001b[1;33m \u001b[0mprint\u001b[0m\u001b[1;33m(\u001b[0m\u001b[0mEmployee\u001b[0m\u001b[1;33m.\u001b[0m\u001b[0mis_workday\u001b[0m\u001b[1;33m(\u001b[0m\u001b[0mmy_date\u001b[0m\u001b[1;33m)\u001b[0m\u001b[1;33m)\u001b[0m\u001b[1;33m\u001b[0m\u001b[1;33m\u001b[0m\u001b[0m\n\u001b[0m",
      "\u001b[1;31mAttributeError\u001b[0m: type object 'Employee' has no attribute 'is_workday'"
     ]
    }
   ],
   "source": [
    "my_date = datetime.date(2020,4,13)\n",
    "print(Employee.is_workday(my_date))"
   ]
  },
  {
   "cell_type": "markdown",
   "metadata": {},
   "source": [
    "# LESSON 5 - 17apr20"
   ]
  },
  {
   "cell_type": "markdown",
   "metadata": {},
   "source": [
    "### Super() Function"
   ]
  },
  {
   "cell_type": "markdown",
   "metadata": {},
   "source": [
    "- Super() alone returns a temporary object of the superclass that then allows you to call that superclass’s methods.\n",
    "- A common use case is building classes that extend the functionality of previously built classes.\n",
    "- Calling the previously built methods with super() saves  from needing to rewrite previous methods in subclass\n",
    "\n",
    "\n",
    "https://realpython.com/python-super/"
   ]
  },
  {
   "cell_type": "code",
   "execution_count": 5,
   "metadata": {},
   "outputs": [
    {
     "data": {
      "text/plain": [
       "16"
      ]
     },
     "execution_count": 5,
     "metadata": {},
     "output_type": "execute_result"
    }
   ],
   "source": [
    "#A good example is rectangle and Squares\n",
    "\n",
    "class Rectangle:\n",
    "    def __init__(self, length, width):\n",
    "        self.length = length\n",
    "        self.width = width\n",
    "\n",
    "    def area(self):\n",
    "        return self.length * self.width\n",
    "\n",
    "class Square(Rectangle):                        \n",
    "    def __init__(self, length):\n",
    "        super().__init__(length, length)        \n",
    "        # Here, we use super() to call the __init__() of the Rectangle class\n",
    "        # This allows to use it in the Square class without repeating code. \n",
    "        # This line can be replaced by: super(Square, self).__init__(length, length)\n",
    "             # The first parameter refers to the subclass Square, \n",
    "             # The second parameter refers to a Square object which, in this case, is self. \n",
    "\n",
    "Mysquare = Square(4)\n",
    "Mysquare.area()"
   ]
  },
  {
   "cell_type": "markdown",
   "metadata": {},
   "source": [
    "In the example above, rectangle is the superclass and square s the subclass\n",
    "\n",
    "Because the Square and Rectangle .__init__() methods are so similar:\n",
    "- it is possible to call the superclass’s .__init__() method (Rectangle.__init__()) from that of Square by using super(). \n",
    "- This sets the .length and .width attributes even though you just had to supply a single length parameter to the Square.\n",
    "- The Square class inherited .area() from the Rectangle class\n"
   ]
  },
  {
   "cell_type": "code",
   "execution_count": 9,
   "metadata": {},
   "outputs": [
    {
     "data": {
      "text/plain": [
       "27"
      ]
     },
     "execution_count": 9,
     "metadata": {},
     "output_type": "execute_result"
    }
   ],
   "source": [
    "#Going further\n",
    "\n",
    "class Rectangle:\n",
    "    def __init__(self, length, width):\n",
    "        self.length = length\n",
    "        self.width = width\n",
    "\n",
    "    def area(self):\n",
    "        return self.length * self.width\n",
    "\n",
    "class Square(Rectangle):\n",
    "    def __init__(self, length):\n",
    "        super().__init__(length, length)\n",
    "\n",
    "class Cube(Square):\n",
    "    def surface_area(self):\n",
    "        face_area = super().area()\n",
    "        return face_area * 6\n",
    "\n",
    "    def volume(self):\n",
    "        face_area = super().area()          \n",
    "        return face_area * self.length\n",
    "        # The line could be replaced by face_area = super(Square, self).area()\n",
    "        # Here, we are setting Square as the subclass argument to super(), instead of Cube. \n",
    "        # This causes super() to start searching for a matching method (in this case, .area()) \n",
    "        # Meaning one level above Square in the instance hierarchy, in this case Rectangle.\n",
    "   \n",
    "Mycube = Cube(3)\n",
    "Mycube.volume()"
   ]
  },
  {
   "cell_type": "code",
   "execution_count": 20,
   "metadata": {},
   "outputs": [
    {
     "data": {
      "text/plain": [
       "'John'"
      ]
     },
     "execution_count": 20,
     "metadata": {},
     "output_type": "execute_result"
    }
   ],
   "source": [
    "# An another example of super()\n",
    "\n",
    "class Human:\n",
    "    def __init__(self, n, a):\n",
    "        self.name = n\n",
    "        self.addresss = a\n",
    "\n",
    "class Student(Human):\n",
    "    def __init__(self, n, a, g):    # we need to redeclare the attributes\n",
    "        super().__init__(n, a)      # this is how super can be used for inheritance\n",
    "        #Human.__init__(self,n,a)   # this is exactly the same as super()\n",
    "        self.gpa = g\n",
    "\n",
    "s = Student('John','USA',3.5)\n",
    "s.name\n",
    "    "
   ]
  },
  {
   "cell_type": "code",
   "execution_count": 1,
   "metadata": {},
   "outputs": [
    {
     "name": "stdout",
     "output_type": "stream",
     "text": [
      "Rock\n",
      "John\n"
     ]
    }
   ],
   "source": [
    "# An another example of super() in the context of multiple inheritance\n",
    "\n",
    "class Human:\n",
    "    def __init__(self, n, a):\n",
    "        self.name = n\n",
    "        self.addresss = a\n",
    "\n",
    "class Singer:\n",
    "    def __init__(self, s):\n",
    "        self.style = s\n",
    "\n",
    "class Student(Human):\n",
    "    def __init__(self, n, a, s, g):    # we need to redeclare the attributes\n",
    "        Human.__init__(self,n,a)       # we need to sepcify both attibutes from Human and Singer\n",
    "        Singer.__init__(self,s)        # we need to sepcify both attibutes from Human and Singer\n",
    "        self.gpa = g\n",
    "\n",
    "Q = Student('John','USA','Rock',3.5)\n",
    "print(Q.style)\n",
    "print(Q.name)"
   ]
  },
  {
   "cell_type": "code",
   "execution_count": null,
   "metadata": {},
   "outputs": [],
   "source": []
  },
  {
   "cell_type": "markdown",
   "metadata": {},
   "source": [
    "### Inheritance"
   ]
  },
  {
   "cell_type": "markdown",
   "metadata": {},
   "source": [
    "Definition\n",
    "- Inheritance is the process by which one class takes on the attributes and methods of another. \n",
    "- Newly formed classes are called child classes, and the classes that child classes are derived from are called parent classes.\n",
    "\n",
    "Child Classes\n",
    "- Child classes override or extend the functionality (e.g., attributes and behaviors) of parent classes. \n",
    "- Child classes inherit all of the parent’s attributes and behaviors but can also specify different behavior to follow. \n",
    "- The most basic type of class is an object, which generally all other classes inherit as their parent.\n",
    "\n",
    "In Python 3\n",
    "- When you define a new class, it implicitly uses object as the parent class. \n",
    "- So the following two definitions are equivalent:\n",
    "    \n",
    "    class Dog(object):\n",
    "        pass\n",
    "\n",
    "    class Dog:\n",
    "        pass"
   ]
  },
  {
   "cell_type": "code",
   "execution_count": 58,
   "metadata": {},
   "outputs": [
    {
     "name": "stdout",
     "output_type": "stream",
     "text": [
      "Jim is 12 years old\n",
      "Jim runs slowly\n"
     ]
    }
   ],
   "source": [
    "class Dog:                            # Parent class                 \n",
    "\n",
    "    species = 'mammal'                # Class attribute\n",
    "\n",
    "    def __init__(self, name, age):    # Initializer / Instance attributes\n",
    "        self.name = name\n",
    "        self.age = age\n",
    "\n",
    "    def description(self):            # instance method\n",
    "        return \"{} is {} years old\".format(self.name, self.age)\n",
    "\n",
    "    def speak(self, sound):           # instance method\n",
    "        return \"{} says {}\".format(self.name, sound)\n",
    "\n",
    "class RussellTerrier(Dog):            # Child class (inherits from Dog class)\n",
    "    def run(self, speed):\n",
    "        return \"{} runs {}\".format(self.name, speed)\n",
    "\n",
    "class Bulldog(Dog):                   # Child class (inherits from Dog class)\n",
    "    def run(self, speed):\n",
    "        return \"{} runs {}\".format(self.name, speed)\n",
    "\n",
    "\n",
    "# Child classes inherit attributes and behaviors from the parent class\n",
    "jim = Bulldog(\"Jim\", 12)\n",
    "print(jim.description())\n",
    "\n",
    "# Child classes have specific attributes and behaviors as well\n",
    "print(jim.run(\"slowly\"))"
   ]
  },
  {
   "cell_type": "code",
   "execution_count": 10,
   "metadata": {},
   "outputs": [
    {
     "name": "stdout",
     "output_type": "stream",
     "text": [
      "This is feature1\n",
      "This is feature2\n",
      "This is feature3\n"
     ]
    }
   ],
   "source": [
    "class A:\n",
    "    pass\n",
    "\n",
    "    def feature1(self):\n",
    "        return 'This is feature1'\n",
    "\n",
    "class B(A):\n",
    "    pass\n",
    "\n",
    "    def feature2(self):\n",
    "        return 'This is feature2'\n",
    "\n",
    "class C(B):\n",
    "    pass\n",
    "\n",
    "    def feature3(self):\n",
    "        return 'This is feature3'\n",
    "\n",
    "MyGrandSon = C()\n",
    "print(MyGrandSon.feature1())\n",
    "print(MyGrandSon.feature2())\n",
    "print(MyGrandSon.feature3())"
   ]
  },
  {
   "cell_type": "code",
   "execution_count": 2,
   "metadata": {},
   "outputs": [
    {
     "name": "stdout",
     "output_type": "stream",
     "text": [
      "My name is Floyd Snr and I am 75 years old\n",
      "My name is Floyd Jnr and I am 42 years old\n",
      "My name is Vasyl and I am 18 years old\n"
     ]
    }
   ],
   "source": [
    "class GrandFather:\n",
    "    def __init__(self, name, age):\n",
    "        self.name = name\n",
    "        self.age = age\n",
    "    \n",
    "    def Grand_info(self):\n",
    "        return (\"My name is {} and I am {} years old\".format(self.name, self.age))\n",
    "        \n",
    "    \n",
    "class Father(GrandFather):\n",
    "    def __init__(self, father_name, father_age):\n",
    "        self.father_name = father_name\n",
    "        self.father_age = father_age\n",
    "    \n",
    "    def Father_info(self):\n",
    "        return (\"My name is {} and I am {} years old\".format(self.father_name, self.father_age))\n",
    "    \n",
    "class Son(Father):\n",
    "    def __init__(self, name, age, father_name, father_age, son_name, son_age):\n",
    "        self.son_name = son_name\n",
    "        self.son_age = son_age\n",
    "    \n",
    "        GrandFather. __init__(self, name, age)\n",
    "        Father. __init__(self, father_name, father_age)\n",
    "    \n",
    "    def Son_info(self):\n",
    "        return (self.Grand_info() + '\\n' + self.Father_info() + '\\n' \n",
    "                +  \"My name is {} and I am {} years old\".format(self.son_name, self.son_age))\n",
    "                                                             \n",
    "S = Son('Floyd Snr', 75, 'Floyd Jnr', 42, 'Vasyl', 18)                                                          \n",
    "print(S.Son_info())     \n"
   ]
  },
  {
   "cell_type": "markdown",
   "metadata": {},
   "source": [
    "Overriding"
   ]
  },
  {
   "cell_type": "code",
   "execution_count": 35,
   "metadata": {},
   "outputs": [
    {
     "name": "stdout",
     "output_type": "stream",
     "text": [
      "Hi, I am Ricky\n",
      "------------------------------\n",
      "Everything will be okay! \n",
      "James takes care of you!\n",
      "------------------------------\n",
      "Everything will be okay! \n",
      "Doc takes care of you!\n",
      "... and now the 'traditional' robot way of saying hi :-)\n",
      "Hi, I am Doc\n"
     ]
    }
   ],
   "source": [
    "class Robot:\n",
    "    \n",
    "    def __init__(self, name):\n",
    "        self.name = name\n",
    "        \n",
    "    def say_hi(self):\n",
    "        print(\"Hi, I am \" + self.name)\n",
    "        \n",
    "class PhysicianRobot(Robot):\n",
    "\n",
    "    def say_hi(self):                                    # To redefine the method say_hi inside of the subclass PhysicianRobot\n",
    "        print(\"Everything will be okay! \")            \n",
    "        print(self.name + \" takes care of you!\")\n",
    "\n",
    "x = Robot(\"Ricky\")\n",
    "x.say_hi() \n",
    "\n",
    "print('-'*30)\n",
    "y = PhysicianRobot(\"James\")\n",
    "y.say_hi()\n",
    "\n",
    "print('-'*30)\n",
    "z = PhysicianRobot(\"Doc\")\n",
    "z.say_hi()\n",
    "print(\"... and now the 'traditional' robot way of saying hi :-)\")\n",
    "Robot.say_hi(z)                                         # Here we call the parent method\n",
    "\n",
    "\n"
   ]
  },
  {
   "cell_type": "markdown",
   "metadata": {},
   "source": [
    "Overwriting vs Overloading vs Overriding"
   ]
  },
  {
   "cell_type": "markdown",
   "metadata": {},
   "source": [
    "Overwriting: \n",
    "    - If we overwrite a function, the original function will be gone. \n",
    "    - The function will be redefined. \n",
    "    - This process has nothing to do with object orientation or inheritance.\n",
    "    \n",
    "\n",
    "Overloading \n",
    "    - Even though \"overloading\" is not directly connected to OOP.\n",
    "    - Overloading is the ability to define a function with the same name multiple times. T\n",
    "    - It's the ability of one function to perform different tasks (depending on the number of parameters / types of parameters)\n",
    "    - We cannot overload functions like this in Python, but it is not necessary neither.\n",
    "\n",
    "Overriding\n",
    "    - What we have done in the previous example is called overriding. \n",
    "    - A method of a parent class gets overridden by simply defining in the child class a method with the same name.\n",
    "    - The original method can still be accessed, by calling the method directly with the class name, i.e. Robot.say_hi(y). "
   ]
  },
  {
   "cell_type": "markdown",
   "metadata": {},
   "source": [
    "### Composition"
   ]
  },
  {
   "cell_type": "code",
   "execution_count": null,
   "metadata": {},
   "outputs": [],
   "source": [
    "Car has a Engine\n",
    "Driver has a Car"
   ]
  },
  {
   "cell_type": "code",
   "execution_count": 60,
   "metadata": {},
   "outputs": [],
   "source": [
    "class Car():\n",
    "    def __init__(self, Brand, Model, Year, Engine):\n",
    "        self.Brand = Brand\n",
    "        self.Model = Model\n",
    "        self.Year = Year\n",
    "        self.Engine = Engine\n",
    "        \n",
    "class Engine():\n",
    "    def __init__(self,Engine_type):\n",
    "        self.Engine_type = Engine_type\n",
    "        \n",
    "    def __str__(self):\n",
    "        return \"My Engine is a {}\".format(self.Engine_type)\n",
    "    \n",
    "class Owner():\n",
    "    \n",
    "    def __init__(self, Name, Car):\n",
    "        self.Name = Name\n",
    "        self.Car = Car\n",
    "        \n",
    "    def __str__(self):\n",
    "        return \"My Name is {}\".format(self.Name)\n",
    "    \n",
    "    def intro(self):\n",
    "        return \"I am the owner of a {} {}, with a {} Engine\".format(self.Car.Brand, self.Car.Year, self.Car.Engine.Engine_type)\n",
    "    \n",
    "    def intro2(self):\n",
    "        return \"I am the owner of a {} {}, with a {} Engine\".format(self.Car.Brand, self.Car.Year, self.Car.Engine)\n",
    "    \n",
    "    \n"
   ]
  },
  {
   "cell_type": "code",
   "execution_count": 62,
   "metadata": {},
   "outputs": [
    {
     "name": "stdout",
     "output_type": "stream",
     "text": [
      "My Engine is a Turbo Injection\n",
      "Ricky\n",
      "1984\n",
      "------------------------------\n",
      "My Engine is a Turbo Injection\n",
      "My Engine is a Turbo Injection\n",
      "------------------------------\n",
      "I am the owner of a Toyota 1984, with a Turbo Injection Engine\n",
      "I am the owner of a Toyota 1984, with a My Engine is a Turbo Injection Engine\n",
      "------------------------------\n",
      "My Name is Ricky\n",
      "My Engine is a Turbo Injection\n"
     ]
    }
   ],
   "source": [
    "#Driver code goes here\n",
    "\n",
    "My_Engine = Engine(\"Turbo Injection\")\n",
    "My_Car = Car(\"Toyota\", \"Corolla\", 1984, My_Engine)\n",
    "Driver = Owner(\"Ricky\",My_Car)\n",
    "\n",
    "#standard\n",
    "print(My_Engine)\n",
    "print(Driver.Name)\n",
    "print(My_Car.Year)\n",
    "\n",
    "#composition\n",
    "print ('-'*30)\n",
    "print(My_Car.Engine)       # this is ok\n",
    "print(Driver.Car.Engine)   # this is ok\n",
    "\n",
    "#composition\n",
    "print ('-'*30)\n",
    "print(Driver.intro())         # this is NOK\n",
    "print(Driver.intro2())         # this is NOK\n",
    "\n",
    "# failed\n",
    "# IMPORTANT: for str method , we just need to pass the label of the objet and not the class or method\n",
    "\n",
    "print ('-'*30)\n",
    "#print(Owner)              # this will not work as Owner is not instantiated since it is an str method\n",
    "print(Driver)\n",
    "#print(Owner.Car.Engine)   # this is NOK - reason is that it is a str method\n",
    "print(Driver.Car.Engine)\n",
    "\n",
    "# IMPORTANT: for str method , we just need to pass the label of the objet and not the class or method\n",
    "\n"
   ]
  },
  {
   "cell_type": "markdown",
   "metadata": {},
   "source": [
    "### Polymorphism"
   ]
  },
  {
   "cell_type": "markdown",
   "metadata": {},
   "source": [
    "Different behavious happen depending on which subclass is being used - without actually knowing what the subclass actually is.\n"
   ]
  },
  {
   "cell_type": "markdown",
   "metadata": {},
   "source": [
    "### Abstraction"
   ]
  },
  {
   "cell_type": "markdown",
   "metadata": {},
   "source": [
    "### Encapsulation"
   ]
  },
  {
   "cell_type": "code",
   "execution_count": null,
   "metadata": {},
   "outputs": [],
   "source": []
  },
  {
   "cell_type": "code",
   "execution_count": null,
   "metadata": {},
   "outputs": [],
   "source": []
  },
  {
   "cell_type": "code",
   "execution_count": null,
   "metadata": {},
   "outputs": [],
   "source": []
  },
  {
   "cell_type": "code",
   "execution_count": null,
   "metadata": {},
   "outputs": [],
   "source": []
  },
  {
   "cell_type": "code",
   "execution_count": null,
   "metadata": {},
   "outputs": [],
   "source": []
  }
 ],
 "metadata": {
  "kernelspec": {
   "display_name": "Python 3",
   "language": "python",
   "name": "python3"
  },
  "language_info": {
   "codemirror_mode": {
    "name": "ipython",
    "version": 3
   },
   "file_extension": ".py",
   "mimetype": "text/x-python",
   "name": "python",
   "nbconvert_exporter": "python",
   "pygments_lexer": "ipython3",
   "version": "3.7.6"
  }
 },
 "nbformat": 4,
 "nbformat_minor": 4
}
