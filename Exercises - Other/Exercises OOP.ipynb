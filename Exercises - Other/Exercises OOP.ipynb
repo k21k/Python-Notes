{
 "cells": [
  {
   "cell_type": "markdown",
   "metadata": {},
   "source": [
    "https://www.w3resource.com/python-exercises/class-exercises/"
   ]
  },
  {
   "cell_type": "markdown",
   "metadata": {},
   "source": [
    "Write a Python class to convert an integer to a roman numeral"
   ]
  },
  {
   "cell_type": "code",
   "execution_count": 31,
   "metadata": {},
   "outputs": [
    {
     "name": "stdout",
     "output_type": "stream",
     "text": [
      "I\n",
      "CCCXCVIII\n",
      "DC\n"
     ]
    }
   ],
   "source": [
    "class solution:\n",
    "    \n",
    "    def int_to_Roman(self, num):\n",
    "        val = [1000, 900, 500, 400, 100, 90, 50, 40,10, 9, 5, 4,1]\n",
    "        syb = [\"M\", \"CM\", \"D\", \"CD\",\"C\", \"XC\", \"L\", \"XL\",\"X\", \"IX\", \"V\", \"IV\",\"I\"]\n",
    "        \n",
    "        roman_num = ''\n",
    "        i = 0\n",
    "        \n",
    "        while  num > 0:\n",
    "            for x in range(num // val[i]):    # floor division 625 / 1 = 600\n",
    "                roman_num += syb[i]\n",
    "                num -= val[i]\n",
    "            i += 1\n",
    "        \n",
    "        return roman_num\n",
    "\n",
    "print(solution().int_to_Roman(1))\n",
    "print(solution().int_to_Roman(398))\n",
    "print(solution().int_to_Roman(600))"
   ]
  },
  {
   "cell_type": "markdown",
   "metadata": {},
   "source": [
    "Write a Python class to get all possible unique subsets from a set of distinct integers.\n",
    "   - Input : [4, 5, 6]\n",
    "   - Output : [[], [6], [5], [5, 6], [4], [4, 6], [4, 5], [4, 5, 6]]"
   ]
  },
  {
   "cell_type": "code",
   "execution_count": 50,
   "metadata": {},
   "outputs": [
    {
     "name": "stdout",
     "output_type": "stream",
     "text": [
      "[[], [6], [5], [5, 6], [4], [4, 6], [4, 5], [4, 5, 6]]\n"
     ]
    }
   ],
   "source": [
    "class py_solution:\n",
    "   \n",
    "    def sub_sets(self, sset):\n",
    "        return self.subsetsRecur([], sorted(sset))\n",
    "    \n",
    "    def subsetsRecur(self, current, sset):\n",
    "        if sset:\n",
    "            return self.subsetsRecur(current, sset[1:]) + self.subsetsRecur(current + [sset[0]], sset[1:])\n",
    "        return [current]\n",
    "\n",
    "print(py_solution().sub_sets([4,5,6]))"
   ]
  },
  {
   "cell_type": "code",
   "execution_count": 51,
   "metadata": {},
   "outputs": [
    {
     "name": "stdout",
     "output_type": "stream",
     "text": [
      "[(4,), (5,), (6,), (4, 5), (4, 6), (5, 6), (4, 5, 6)]\n"
     ]
    }
   ],
   "source": [
    "import itertools\n",
    "\n",
    "t = [4,5,6]\n",
    "l = (len(t))\n",
    "u = []\n",
    "\n",
    "for i in range (1,l+1):\n",
    "    u.extend(itertools.combinations(t,i))\n",
    "    \n",
    "print(u)"
   ]
  },
  {
   "cell_type": "markdown",
   "metadata": {},
   "source": [
    "Write a Python class to find a pair of elements (indices of the two numbers) from a given array whose sum equals a specific target number.\n",
    "   - Input: numbers= [10,20,10,40,50,60,70], target=50\n",
    "   - Output: 3, 4\n",
    "\n"
   ]
  },
  {
   "cell_type": "code",
   "execution_count": 68,
   "metadata": {},
   "outputs": [
    {
     "name": "stdout",
     "output_type": "stream",
     "text": [
      "0 10\n",
      "1 20\n",
      "2 10\n",
      "index1=2, index2=3\n"
     ]
    }
   ],
   "source": [
    "class solution:\n",
    "    \n",
    "    def sumoftwo(self, numbers, target):\n",
    "        aaa = {}                                 # this only works if it is a disctionary\n",
    "        for i, numbers in enumerate(numbers):    # this is to provide a count starting at i for each number\n",
    "            if target - numbers in aaa:\n",
    "                return (aaa[target-numbers],i)   \n",
    "            \n",
    "            aaa[numbers] = i                     # this is the loop increment in the enumerate function\n",
    "            print(i,numbers)                     # this is just to see the content of enumerate \n",
    "                        \n",
    "print(\"index1=%d, index2=%d\" % solution().sumoftwo((10,20,10,40,50,60,70),50))\n",
    "\n",
    "\n",
    "    "
   ]
  },
  {
   "cell_type": "markdown",
   "metadata": {},
   "source": [
    "Write a Python class to find the three elements that sum to zero from a set of n real numbers.\n",
    "    - Input array : [-25, -10, -7, -3, 2, 4, 8, 10]\n",
    "    - Output : [[-10, 2, 8], [-7, -3, 10]]"
   ]
  },
  {
   "cell_type": "code",
   "execution_count": null,
   "metadata": {},
   "outputs": [],
   "source": []
  },
  {
   "cell_type": "markdown",
   "metadata": {},
   "source": [
    "Write a Python class to implement pow(x, n)"
   ]
  },
  {
   "cell_type": "code",
   "execution_count": null,
   "metadata": {},
   "outputs": [],
   "source": [
    "class solution:\n",
    "    "
   ]
  },
  {
   "cell_type": "markdown",
   "metadata": {},
   "source": [
    "Write a Python class to reverse a string word by word. \n",
    "    - Input string : 'hello .py'\n",
    "    - Expected Output : '.py hello"
   ]
  },
  {
   "cell_type": "code",
   "execution_count": null,
   "metadata": {},
   "outputs": [],
   "source": []
  },
  {
   "cell_type": "markdown",
   "metadata": {},
   "source": [
    "Write a Python class which has two methods get_String and print_String. \n",
    "\n",
    "get_String accept a string from the user and print_String print the string in upper case."
   ]
  },
  {
   "cell_type": "code",
   "execution_count": 75,
   "metadata": {},
   "outputs": [
    {
     "name": "stdout",
     "output_type": "stream",
     "text": [
      "50\n"
     ]
    }
   ],
   "source": [
    "class rectangle:\n",
    "    \n",
    "    def __init__(self, length, width):\n",
    "        self.length = length\n",
    "        self.width = width\n",
    "        \n",
    "    def area(self):\n",
    "        area = self.length * self.width\n",
    "        return area\n",
    "        \n",
    "aaa = rectangle(5,10)\n",
    "print(aaa.area())\n",
    "    "
   ]
  },
  {
   "cell_type": "markdown",
   "metadata": {},
   "source": [
    "Write a Python class named Rectangle constructed by a length and width and a method which will compute the area of a rectangle"
   ]
  },
  {
   "cell_type": "code",
   "execution_count": 79,
   "metadata": {},
   "outputs": [
    {
     "name": "stdout",
     "output_type": "stream",
     "text": [
      "50\n"
     ]
    }
   ],
   "source": [
    "class rectangle:\n",
    "    \n",
    "    def __init__(self, length, width):\n",
    "        self.length = length\n",
    "        self.width = width\n",
    "        \n",
    "    def area(self):\n",
    "        area = self.length * self.width\n",
    "        return area\n",
    "        \n",
    "aaa = rectangle(5,10)\n",
    "print(aaa.area())"
   ]
  },
  {
   "cell_type": "markdown",
   "metadata": {},
   "source": [
    "Write a Python class named Circle constructed by a radius and two methods which will compute the area and the perimeter of a circle"
   ]
  },
  {
   "cell_type": "code",
   "execution_count": 80,
   "metadata": {},
   "outputs": [
    {
     "name": "stdout",
     "output_type": "stream",
     "text": [
      "78.5\n",
      "31.400000000000002\n"
     ]
    }
   ],
   "source": [
    "class circle:\n",
    "    \n",
    "    def __init__(self, radius):\n",
    "        self. radius = radius\n",
    "    \n",
    "    def area(self):\n",
    "        return self.radius * self.radius * 3.14\n",
    "    \n",
    "    def perimeter(self):\n",
    "        return 2 * self.radius * 3.14\n",
    "\n",
    "mycircle = circle(5)\n",
    "print(mycircle.area())\n",
    "print(mycircle.perimeter())"
   ]
  },
  {
   "cell_type": "markdown",
   "metadata": {},
   "source": [
    "Write a Python program to get the class name of an instance in Python"
   ]
  },
  {
   "cell_type": "code",
   "execution_count": null,
   "metadata": {},
   "outputs": [],
   "source": []
  }
 ],
 "metadata": {
  "kernelspec": {
   "display_name": "Python 3",
   "language": "python",
   "name": "python3"
  },
  "language_info": {
   "codemirror_mode": {
    "name": "ipython",
    "version": 3
   },
   "file_extension": ".py",
   "mimetype": "text/x-python",
   "name": "python",
   "nbconvert_exporter": "python",
   "pygments_lexer": "ipython3",
   "version": "3.7.6"
  }
 },
 "nbformat": 4,
 "nbformat_minor": 4
}
