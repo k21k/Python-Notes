{
 "cells": [
  {
   "cell_type": "markdown",
   "metadata": {},
   "source": [
    "## Chapter 1"
   ]
  },
  {
   "cell_type": "code",
   "execution_count": 32,
   "metadata": {},
   "outputs": [
    {
     "name": "stdout",
     "output_type": "stream",
     "text": [
      "5.0\n",
      "4.47213595499958\n",
      "aaa\n"
     ]
    }
   ],
   "source": [
    "import math\n",
    "\n",
    "class Point:\n",
    "    \n",
    "    def __str__(self):\n",
    "        return \"aaa\"\n",
    "    \n",
    "    def move(self,x,y):\n",
    "        self.x = x\n",
    "        self.y = y\n",
    "\n",
    "    def reset(self):\n",
    "        self.move(0,0)\n",
    "\n",
    "    def calculate_distance(self, other_point):\n",
    "        return math.sqrt((self.x - other_point.x)**2 + (self.y - other_point.y)**2)\n",
    "\n",
    "point1 = Point()\n",
    "point2 = Point()\n",
    "\n",
    "point1.reset()\n",
    "point2.move(5,0)\n",
    "\n",
    "print(point2.calculate_distance(point1))\n",
    "\n",
    "point1.move(3,4)\n",
    "print(point1.calculate_distance(point2))\n",
    "\n",
    "\n",
    "print(Point())"
   ]
  },
  {
   "cell_type": "markdown",
   "metadata": {},
   "source": [
    "## Chapter 3"
   ]
  },
  {
   "cell_type": "code",
   "execution_count": 44,
   "metadata": {},
   "outputs": [
    {
     "data": {
      "text/plain": [
       "['John A', 'John B']"
      ]
     },
     "execution_count": 44,
     "metadata": {},
     "output_type": "execute_result"
    }
   ],
   "source": [
    "class ContactList(list):\n",
    "    \n",
    "    def search(self,name):\n",
    "        matching_contacts = []\n",
    "        for contact in self:\n",
    "                if name in contact.name:\n",
    "                    matching_contacts.append(contact)\n",
    "        return matching_contacts\n",
    "\n",
    "class Contact:\n",
    "    all_contacts = ContactList()\n",
    "    \n",
    "    def __init__(self, name, email):\n",
    "        self.name = name\n",
    "        self.email = email\n",
    "        self.all_contacts.append(self)\n",
    "        \n",
    "c1 = Contact(\"John A\", \"Johna@gogol.com\")\n",
    "c2 = Contact(\"John B\", \"Johnb@gogol.com\")\n",
    "c3 = Contact(\"Jenna C\", \"Jennac@gogol.com\")\n",
    "             \n",
    "[c.name for c in Contact.all_contacts.search('John')]\n"
   ]
  },
  {
   "cell_type": "markdown",
   "metadata": {},
   "source": [
    "#### List Comprehension"
   ]
  },
  {
   "cell_type": "code",
   "execution_count": 47,
   "metadata": {},
   "outputs": [
    {
     "name": "stdout",
     "output_type": "stream",
     "text": [
      "John A\n",
      "John B\n"
     ]
    }
   ],
   "source": [
    "# list conprenhension = turn a for loop into 1 line\n",
    "\n",
    "for c in Contact.all_contacts.search('John'):\n",
    "    print(c.name)"
   ]
  },
  {
   "cell_type": "code",
   "execution_count": 49,
   "metadata": {},
   "outputs": [
    {
     "data": {
      "text/plain": [
       "['John A', 'John B']"
      ]
     },
     "execution_count": 49,
     "metadata": {},
     "output_type": "execute_result"
    }
   ],
   "source": [
    "[c.name for c in Contact.all_contacts.search('John')]"
   ]
  },
  {
   "cell_type": "code",
   "execution_count": 52,
   "metadata": {},
   "outputs": [
    {
     "name": "stdout",
     "output_type": "stream",
     "text": [
      "John A\n"
     ]
    }
   ],
   "source": [
    "name = [c.name for c in Contact.all_contacts.search('John')]\n",
    "print(name[0])\n"
   ]
  },
  {
   "cell_type": "code",
   "execution_count": 54,
   "metadata": {},
   "outputs": [
    {
     "name": "stdout",
     "output_type": "stream",
     "text": [
      "John A\n"
     ]
    }
   ],
   "source": [
    "name = [c.name for c in Contact.all_contacts.search('John')][0]    #the last bit is the new trick\n",
    "print(name)"
   ]
  },
  {
   "cell_type": "markdown",
   "metadata": {},
   "source": [
    "#### Overriding"
   ]
  },
  {
   "cell_type": "code",
   "execution_count": 60,
   "metadata": {},
   "outputs": [],
   "source": [
    "class Friend(Contact):\n",
    "    def __init__(self, name, email, phone):\n",
    "        super(). __init__(name,email)  #returns the object as an instance of the parent class / we can call the  parent method\n",
    "        self.phone = phone          # super() can be made inside any method, not just __init__"
   ]
  },
  {
   "cell_type": "markdown",
   "metadata": {},
   "source": [
    "#### Multiple Inheritance"
   ]
  },
  {
   "cell_type": "code",
   "execution_count": null,
   "metadata": {},
   "outputs": [],
   "source": [
    "\n"
   ]
  },
  {
   "cell_type": "markdown",
   "metadata": {},
   "source": [
    "#### Polymorphism"
   ]
  },
  {
   "cell_type": "code",
   "execution_count": null,
   "metadata": {},
   "outputs": [],
   "source": []
  },
  {
   "cell_type": "markdown",
   "metadata": {},
   "source": [
    "#### Duck Typing"
   ]
  },
  {
   "cell_type": "markdown",
   "metadata": {},
   "source": [
    "Duck typing is a concept related to dynamic typing, \n",
    "- where the type or the class of an object is less important than the methods it defines. \n",
    "- When you use duck typing, you do not check types at all. \n",
    "- Instead, you check for the presence of a given method or attribute.\n",
    "\n",
    "For example, you can call len() on any Python object that defines a .__len__() method:\n",
    "- in order to call len(obj), the only real constraint on obj is that it must define a .__len__() method. \n",
    "- Otherwise, the object can be of types as different as str, list, dict, or TheHobbit."
   ]
  },
  {
   "cell_type": "code",
   "execution_count": 67,
   "metadata": {},
   "outputs": [
    {
     "name": "stdout",
     "output_type": "stream",
     "text": [
      "11\n",
      "4\n",
      "3\n"
     ]
    },
    {
     "data": {
      "text/plain": [
       "95022"
      ]
     },
     "execution_count": 67,
     "metadata": {},
     "output_type": "execute_result"
    }
   ],
   "source": [
    "class TheHobbit:\n",
    "    def __len__(self):\n",
    "        return 95022\n",
    "\n",
    "my_str = \"Hello World\"\n",
    "my_list = [34, 54, 65, 78]\n",
    "my_dict = {\"one\": 123, \"two\": 456, \"three\": 789}\n",
    "\n",
    "print(len(my_str))\n",
    "print(len(my_list))\n",
    "print(len(my_dict))\n",
    "\n",
    "the_hobbit = TheHobbit()\n",
    "the_hobbit\n",
    "len(the_hobbit)\n"
   ]
  },
  {
   "cell_type": "code",
   "execution_count": 3,
   "metadata": {},
   "outputs": [
    {
     "name": "stdout",
     "output_type": "stream",
     "text": [
      "123\n",
      "\n",
      "\n",
      "123\n"
     ]
    }
   ],
   "source": [
    "print(\"123\")\n",
    "print(\"\\n\")\n",
    "print(\"123\")"
   ]
  },
  {
   "cell_type": "code",
   "execution_count": null,
   "metadata": {},
   "outputs": [],
   "source": []
  }
 ],
 "metadata": {
  "kernelspec": {
   "display_name": "Python 3",
   "language": "python",
   "name": "python3"
  },
  "language_info": {
   "codemirror_mode": {
    "name": "ipython",
    "version": 3
   },
   "file_extension": ".py",
   "mimetype": "text/x-python",
   "name": "python",
   "nbconvert_exporter": "python",
   "pygments_lexer": "ipython3",
   "version": "3.7.6"
  }
 },
 "nbformat": 4,
 "nbformat_minor": 4
}
