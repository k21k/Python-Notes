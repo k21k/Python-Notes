{
 "cells": [
  {
   "cell_type": "markdown",
   "metadata": {},
   "source": [
    "https://www.w3resource.com/python-exercises/python-basic-exercises.php"
   ]
  },
  {
   "cell_type": "markdown",
   "metadata": {},
   "source": [
    "\n",
    "Write a Python program to display the current date and time. Sample Output : Current date and time : 2014-07-05 14:34:14"
   ]
  },
  {
   "cell_type": "code",
   "execution_count": 14,
   "metadata": {},
   "outputs": [
    {
     "name": "stdout",
     "output_type": "stream",
     "text": [
      "Sat Apr 25 11:30:29 2020\n"
     ]
    }
   ],
   "source": [
    "import time\n",
    "\n",
    "localtime = time.asctime(time.localtime(time.time()))\n",
    "print(localtime)"
   ]
  },
  {
   "cell_type": "code",
   "execution_count": 15,
   "metadata": {},
   "outputs": [
    {
     "name": "stdout",
     "output_type": "stream",
     "text": [
      "time: 11:31:00\n",
      "s2: 25/04/2020, 11:31:00\n"
     ]
    }
   ],
   "source": [
    "from datetime import datetime\n",
    "\n",
    "# current date and time\n",
    "now = datetime.now()\n",
    "\n",
    "t = now.strftime(\"%H:%M:%S\")\n",
    "print(\"time:\", t)\n",
    "\n",
    "s2 = now.strftime(\"%d/%m/%Y, %H:%M:%S\")\n",
    "# dd/mm/YY H:M:S format\n",
    "print(\"s2:\", s2)"
   ]
  },
  {
   "cell_type": "markdown",
   "metadata": {},
   "source": [
    "\n",
    "Write a Python program which accepts the radius of a circle from the user and compute the area. Go to the editor Sample Output : r = 1.1 Area = 3.8013271108436504"
   ]
  },
  {
   "cell_type": "code",
   "execution_count": 16,
   "metadata": {},
   "outputs": [
    {
     "name": "stdout",
     "output_type": "stream",
     "text": [
      "what is the radius of the circle?11\n",
      "69.11503837897544\n",
      "the area of your circle wih radius 11.0 is 69.11503837897544\n"
     ]
    }
   ],
   "source": [
    "from math import pi\n",
    "\n",
    "radius = float(input(\"what is the radius of the circle?\"))\n",
    "perimeter = 2* radius * pi\n",
    "\n",
    "print(perimeter)\n",
    "print(\"the area of your circle wih radius \" + str(radius) + \" is \" + str( pi * 2 * radius))"
   ]
  },
  {
   "cell_type": "markdown",
   "metadata": {},
   "source": [
    "\n",
    "Write a Python program which accepts a sequence of comma-separated numbers from user and generate a list and a tuple with those numbers. Go to the editor Sample data : 3, 5, 7, 23 Output : List : ['3', ' 5', ' 7', ' 23'] Tuple : ('3', ' 5', ' 7', ' 23')"
   ]
  },
  {
   "cell_type": "code",
   "execution_count": 17,
   "metadata": {},
   "outputs": [
    {
     "name": "stdout",
     "output_type": "stream",
     "text": [
      "[3, 5, 7, 23]\n",
      "(3, 5, 7, 23)\n"
     ]
    }
   ],
   "source": [
    "ccc = 3, 5, 7, 23\n",
    "\n",
    "bbb = list(ccc)\n",
    "print(bbb)\n",
    "\n",
    "aaa = tuple(ccc)\n",
    "print(aaa)"
   ]
  },
  {
   "cell_type": "code",
   "execution_count": 18,
   "metadata": {},
   "outputs": [
    {
     "name": "stdout",
     "output_type": "stream",
     "text": [
      "write numbers3,5,7,23\n",
      "['3', '5', '7', '23']\n",
      "('3', '5', '7', '23')\n"
     ]
    }
   ],
   "source": [
    "ccc = input(\"write numbers\")\n",
    "\n",
    "bbb = ccc.split(\",\")\n",
    "print(bbb)\n",
    "\n",
    "aaa = tuple(bbb)\n",
    "print(aaa)"
   ]
  },
  {
   "cell_type": "markdown",
   "metadata": {},
   "source": [
    "Write a Python program that accepts an integer (n) and computes the value of n+nn+nnn. Sample value of n is 5 Expected Result : 615"
   ]
  },
  {
   "cell_type": "code",
   "execution_count": 20,
   "metadata": {},
   "outputs": [
    {
     "name": "stdout",
     "output_type": "stream",
     "text": [
      "enter an integer5\n",
      "615\n"
     ]
    }
   ],
   "source": [
    "number = input(\"enter an integer\")\n",
    "\n",
    "number2 = number+number\n",
    "number3 = number+number+number\n",
    "print(int(number)+int(number2)+int(number3))"
   ]
  },
  {
   "cell_type": "markdown",
   "metadata": {},
   "source": [
    "68 - Write a Python program to calculate the sum of the digits in an integer"
   ]
  },
  {
   "cell_type": "code",
   "execution_count": 42,
   "metadata": {},
   "outputs": [
    {
     "name": "stdout",
     "output_type": "stream",
     "text": [
      "enter an integer 111\n",
      "3\n"
     ]
    }
   ],
   "source": [
    "a = str(input(\"enter an integer \"))\n",
    "d = 0\n",
    "\n",
    "for i in range(0,len(a)):\n",
    "    d += int(a[i])\n",
    "\n",
    "print(d)\n"
   ]
  },
  {
   "cell_type": "markdown",
   "metadata": {},
   "source": [
    "### Basics -  Part 2  \n",
    "https://www.w3resource.com/python-exercises/basic/"
   ]
  },
  {
   "cell_type": "markdown",
   "metadata": {},
   "source": [
    "Write a Python program to create all possible strings by using 'a', 'e', 'i', 'o', 'u'. Use the characters exactly once."
   ]
  },
  {
   "cell_type": "code",
   "execution_count": 58,
   "metadata": {},
   "outputs": [
    {
     "name": "stdout",
     "output_type": "stream",
     "text": [
      "[('a', 'e', 'i', 'o', 'u'), ('a', 'e', 'i', 'u', 'o'), ('a', 'e', 'o', 'i', 'u'), ('a', 'e', 'o', 'u', 'i'), ('a', 'e', 'u', 'i', 'o'), ('a', 'e', 'u', 'o', 'i'), ('a', 'i', 'e', 'o', 'u'), ('a', 'i', 'e', 'u', 'o'), ('a', 'i', 'o', 'e', 'u'), ('a', 'i', 'o', 'u', 'e'), ('a', 'i', 'u', 'e', 'o'), ('a', 'i', 'u', 'o', 'e'), ('a', 'o', 'e', 'i', 'u'), ('a', 'o', 'e', 'u', 'i'), ('a', 'o', 'i', 'e', 'u'), ('a', 'o', 'i', 'u', 'e'), ('a', 'o', 'u', 'e', 'i'), ('a', 'o', 'u', 'i', 'e'), ('a', 'u', 'e', 'i', 'o'), ('a', 'u', 'e', 'o', 'i'), ('a', 'u', 'i', 'e', 'o'), ('a', 'u', 'i', 'o', 'e'), ('a', 'u', 'o', 'e', 'i'), ('a', 'u', 'o', 'i', 'e'), ('e', 'a', 'i', 'o', 'u'), ('e', 'a', 'i', 'u', 'o'), ('e', 'a', 'o', 'i', 'u'), ('e', 'a', 'o', 'u', 'i'), ('e', 'a', 'u', 'i', 'o'), ('e', 'a', 'u', 'o', 'i'), ('e', 'i', 'a', 'o', 'u'), ('e', 'i', 'a', 'u', 'o'), ('e', 'i', 'o', 'a', 'u'), ('e', 'i', 'o', 'u', 'a'), ('e', 'i', 'u', 'a', 'o'), ('e', 'i', 'u', 'o', 'a'), ('e', 'o', 'a', 'i', 'u'), ('e', 'o', 'a', 'u', 'i'), ('e', 'o', 'i', 'a', 'u'), ('e', 'o', 'i', 'u', 'a'), ('e', 'o', 'u', 'a', 'i'), ('e', 'o', 'u', 'i', 'a'), ('e', 'u', 'a', 'i', 'o'), ('e', 'u', 'a', 'o', 'i'), ('e', 'u', 'i', 'a', 'o'), ('e', 'u', 'i', 'o', 'a'), ('e', 'u', 'o', 'a', 'i'), ('e', 'u', 'o', 'i', 'a'), ('i', 'a', 'e', 'o', 'u'), ('i', 'a', 'e', 'u', 'o'), ('i', 'a', 'o', 'e', 'u'), ('i', 'a', 'o', 'u', 'e'), ('i', 'a', 'u', 'e', 'o'), ('i', 'a', 'u', 'o', 'e'), ('i', 'e', 'a', 'o', 'u'), ('i', 'e', 'a', 'u', 'o'), ('i', 'e', 'o', 'a', 'u'), ('i', 'e', 'o', 'u', 'a'), ('i', 'e', 'u', 'a', 'o'), ('i', 'e', 'u', 'o', 'a'), ('i', 'o', 'a', 'e', 'u'), ('i', 'o', 'a', 'u', 'e'), ('i', 'o', 'e', 'a', 'u'), ('i', 'o', 'e', 'u', 'a'), ('i', 'o', 'u', 'a', 'e'), ('i', 'o', 'u', 'e', 'a'), ('i', 'u', 'a', 'e', 'o'), ('i', 'u', 'a', 'o', 'e'), ('i', 'u', 'e', 'a', 'o'), ('i', 'u', 'e', 'o', 'a'), ('i', 'u', 'o', 'a', 'e'), ('i', 'u', 'o', 'e', 'a'), ('o', 'a', 'e', 'i', 'u'), ('o', 'a', 'e', 'u', 'i'), ('o', 'a', 'i', 'e', 'u'), ('o', 'a', 'i', 'u', 'e'), ('o', 'a', 'u', 'e', 'i'), ('o', 'a', 'u', 'i', 'e'), ('o', 'e', 'a', 'i', 'u'), ('o', 'e', 'a', 'u', 'i'), ('o', 'e', 'i', 'a', 'u'), ('o', 'e', 'i', 'u', 'a'), ('o', 'e', 'u', 'a', 'i'), ('o', 'e', 'u', 'i', 'a'), ('o', 'i', 'a', 'e', 'u'), ('o', 'i', 'a', 'u', 'e'), ('o', 'i', 'e', 'a', 'u'), ('o', 'i', 'e', 'u', 'a'), ('o', 'i', 'u', 'a', 'e'), ('o', 'i', 'u', 'e', 'a'), ('o', 'u', 'a', 'e', 'i'), ('o', 'u', 'a', 'i', 'e'), ('o', 'u', 'e', 'a', 'i'), ('o', 'u', 'e', 'i', 'a'), ('o', 'u', 'i', 'a', 'e'), ('o', 'u', 'i', 'e', 'a'), ('u', 'a', 'e', 'i', 'o'), ('u', 'a', 'e', 'o', 'i'), ('u', 'a', 'i', 'e', 'o'), ('u', 'a', 'i', 'o', 'e'), ('u', 'a', 'o', 'e', 'i'), ('u', 'a', 'o', 'i', 'e'), ('u', 'e', 'a', 'i', 'o'), ('u', 'e', 'a', 'o', 'i'), ('u', 'e', 'i', 'a', 'o'), ('u', 'e', 'i', 'o', 'a'), ('u', 'e', 'o', 'a', 'i'), ('u', 'e', 'o', 'i', 'a'), ('u', 'i', 'a', 'e', 'o'), ('u', 'i', 'a', 'o', 'e'), ('u', 'i', 'e', 'a', 'o'), ('u', 'i', 'e', 'o', 'a'), ('u', 'i', 'o', 'a', 'e'), ('u', 'i', 'o', 'e', 'a'), ('u', 'o', 'a', 'e', 'i'), ('u', 'o', 'a', 'i', 'e'), ('u', 'o', 'e', 'a', 'i'), ('u', 'o', 'e', 'i', 'a'), ('u', 'o', 'i', 'a', 'e'), ('u', 'o', 'i', 'e', 'a')]\n"
     ]
    }
   ],
   "source": [
    "import itertools\n",
    "\n",
    "a = ['a', 'e', 'i', 'o', 'u']\n",
    "b = list(itertools.permutations(a))\n",
    "\n",
    "\n",
    "print(b)\n"
   ]
  },
  {
   "cell_type": "markdown",
   "metadata": {},
   "source": [
    "Write a Python program print every third letter from a list of letter until the list becomes empty. (use b, above)"
   ]
  },
  {
   "cell_type": "code",
   "execution_count": 59,
   "metadata": {},
   "outputs": [
    {
     "name": "stdout",
     "output_type": "stream",
     "text": [
      "['i', 'i', 'o', 'o', 'u', 'u', 'e', 'e', 'o', 'o', 'u', 'u', 'e', 'e', 'i', 'i', 'u', 'u', 'e', 'e', 'i', 'i', 'o', 'o', 'i', 'i', 'o', 'o', 'u', 'u', 'a', 'a', 'o', 'o', 'u', 'u', 'a', 'a', 'i', 'i', 'u', 'u', 'a', 'a', 'i', 'i', 'o', 'o', 'e', 'e', 'o', 'o', 'u', 'u', 'a', 'a', 'o', 'o', 'u', 'u', 'a', 'a', 'e', 'e', 'u', 'u', 'a', 'a', 'e', 'e', 'o', 'o', 'e', 'e', 'i', 'i', 'u', 'u', 'a', 'a', 'i', 'i', 'u', 'u', 'a', 'a', 'e', 'e', 'u', 'u', 'a', 'a', 'e', 'e', 'i', 'i', 'e', 'e', 'i', 'i', 'o', 'o', 'a', 'a', 'i', 'i', 'o', 'o', 'a', 'a', 'e', 'e', 'o', 'o', 'a', 'a', 'e', 'e', 'i', 'i']\n"
     ]
    }
   ],
   "source": [
    "\n",
    "c = []\n",
    "\n",
    "for i in range (0, len(b)):\n",
    "    c.append(b[i][2])\n",
    "\n",
    "print(c)\n",
    "\n"
   ]
  },
  {
   "cell_type": "markdown",
   "metadata": {},
   "source": [
    "Write a Python program to create the combinations of 3 digit combo"
   ]
  },
  {
   "cell_type": "code",
   "execution_count": 62,
   "metadata": {},
   "outputs": [
    {
     "name": "stdout",
     "output_type": "stream",
     "text": [
      "867\n"
     ]
    }
   ],
   "source": [
    "import random\n",
    "number = str(random.randint(0,9))+str(random.randint(0,9))+str(random.randint(0,9))\n",
    "print(number)"
   ]
  },
  {
   "cell_type": "markdown",
   "metadata": {},
   "source": [
    "6. Write a Python program to print a long text, convert the string to a list and print all the words and their frequencies"
   ]
  },
  {
   "cell_type": "code",
   "execution_count": null,
   "metadata": {},
   "outputs": [],
   "source": []
  },
  {
   "cell_type": "markdown",
   "metadata": {},
   "source": [
    "7. Write a Python program to count the number of each character of a given text of a text file"
   ]
  },
  {
   "cell_type": "code",
   "execution_count": 77,
   "metadata": {},
   "outputs": [
    {
     "name": "stdout",
     "output_type": "stream",
     "text": [
      "a appears 14 times\n",
      "b appears 2 times\n",
      "c appears 10 times\n",
      "d appears 15 times\n",
      "e appears 31 times\n",
      "f appears 3 times\n",
      "i appears 28 times\n",
      "j appears 0 times\n",
      "k appears 0 times\n",
      ". appears 6 times\n",
      ", appears 0 times\n"
     ]
    }
   ],
   "source": [
    "sample = \"Sit iste voluptas delectus optio totam et. Adipisci eius quia eos incidunt minus dolor esse. Officia commodi esse repellat et deserunt qui commodi ut. At ratione commodi unde unde omnis sit quibusdam sed. Totam debitis facere sed expedita autem sapiente. Cum qui architecto omnis atque et.\"\n",
    "characters = ['a','b','c','d','e','f','i','j','k','.',',']\n",
    "\n",
    "for i in range (0, len(characters)):\n",
    "    b = sample.count(characters[i])\n",
    "    print(\"{} appears {} times\".format(characters[i], b))\n"
   ]
  },
  {
   "cell_type": "markdown",
   "metadata": {},
   "source": [
    "11. Write a Python program to check the sum of three elements (each from an array) from three arrays is equal to a target value. Print all those three-element combinations"
   ]
  },
  {
   "cell_type": "code",
   "execution_count": 84,
   "metadata": {},
   "outputs": [
    {
     "name": "stdout",
     "output_type": "stream",
     "text": [
      "{(10, 20, 40), (10, 40, 20), (20, 10, 40), (20, 40, 10), (10, 30, 30), (20, 20, 30), (20, 30, 20)}\n"
     ]
    }
   ],
   "source": [
    "\n",
    "X = array('i',[10, 20, 20, 20])\n",
    "Y = array('i',[10, 20, 30, 40])\n",
    "Z = array('i',[10, 30, 40, 20])\n",
    "target = 70\n",
    "list1=[]\n",
    "\n",
    "for x in X:\n",
    "    for y in Y:\n",
    "        for z in Z:\n",
    "            if x+y+z == target and (x,y,z) not in list1:\n",
    "                list1.append((x,y,z))\n",
    "                \n",
    "print(set(list1))"
   ]
  },
  {
   "cell_type": "markdown",
   "metadata": {},
   "source": [
    "29. Write a Python program to find common divisors between two numbers in a given pair"
   ]
  },
  {
   "cell_type": "code",
   "execution_count": null,
   "metadata": {},
   "outputs": [],
   "source": []
  },
  {
   "cell_type": "markdown",
   "metadata": {},
   "source": [
    "42. Write a Python program that accepts six numbers as input and sorts them in descending order"
   ]
  },
  {
   "cell_type": "code",
   "execution_count": 92,
   "metadata": {},
   "outputs": [
    {
     "name": "stdout",
     "output_type": "stream",
     "text": [
      "enter an number 54\n",
      "enter an number 54\n",
      "enter an number 987\n",
      "enter an number 5\n",
      "[5.0, 54.0, 54.0, 987.0]\n"
     ]
    }
   ],
   "source": [
    "a = float(input(\"enter an number \"))\n",
    "b = float(input(\"enter an number \"))\n",
    "c = float(input(\"enter an number \"))\n",
    "d = float(input(\"enter an number \"))\n",
    "\n",
    "e = []\n",
    "e.append(a)\n",
    "e.append(b)\n",
    "e.append(c)\n",
    "e.append(d)\n",
    "\n",
    "e.sort()\n",
    "print(e)\n"
   ]
  },
  {
   "cell_type": "code",
   "execution_count": 97,
   "metadata": {},
   "outputs": [
    {
     "name": "stdout",
     "output_type": "stream",
     "text": [
      "21 65 98 32 54 87 645 897\n",
      "[21, 32, 54, 65, 87, 98, 645, 897]\n"
     ]
    }
   ],
   "source": [
    "#that is a much better solution\n",
    "\n",
    "a = list(map(int, input().split()))\n",
    "a.sort()\n",
    "print(a)\n"
   ]
  },
  {
   "cell_type": "code",
   "execution_count": null,
   "metadata": {},
   "outputs": [],
   "source": []
  },
  {
   "cell_type": "code",
   "execution_count": null,
   "metadata": {},
   "outputs": [],
   "source": []
  },
  {
   "cell_type": "code",
   "execution_count": null,
   "metadata": {},
   "outputs": [],
   "source": []
  },
  {
   "cell_type": "markdown",
   "metadata": {},
   "source": [
    "8.  Write a Python program to get the top stories from Google news"
   ]
  },
  {
   "cell_type": "markdown",
   "metadata": {},
   "source": [
    "58. When character are consecutive in a string , it is possible to shorten the character string by replacing the character with a certain rule. For example, in the case of the character string YYYYY, if it is expressed as # 5 Y, it is compressed by one character.\n",
    "Write a Python program to restore the original string by entering the compressed string with this rule. However, the # character does not appear in the restored character string. Go to the editor\n",
    "Note: The original sentences are uppercase letters, lowercase letters, numbers, symbols, less than 100 letters, and consecutive letters are not more than 9 letters.\n",
    "Input:\n",
    "The restored character string for each character on one line.\n",
    "Original text: XY#6Z1#4023\n",
    "XYZZZZZZ1000023\n",
    "Original text: #39+1=1#30\n",
    "999+1=1000"
   ]
  },
  {
   "cell_type": "markdown",
   "metadata": {},
   "source": [
    "63. Write a Python program which adds up columns and rows of given table as shown in the specified figure. Go to the editor\n",
    "\n",
    "Input number of rows/columns (0 to exit)\n",
    "4\n",
    "\n",
    "Input cell value:\n",
    "- 25 69 51 26\n",
    "- 68 35 29 54\n",
    "- 54 57 45 63\n",
    "- 61 68 47 59\n",
    "\n",
    "Result:\n",
    "- 25 69 51 26 171\n",
    "- 68 35 29 54 186\n",
    "- 54 57 45 63 219\n",
    "- 61 68 47 59 235\n",
    "- 208 229 172 202 811\n",
    "\n",
    "Input number of rows/columns (0 to exit)"
   ]
  },
  {
   "cell_type": "markdown",
   "metadata": {},
   "source": [
    "115. Write a Python program to generate and prints a list of numbers from 1 to 10. Go to the editor\n",
    "\n",
    "Sample Output:\n",
    "- [1, 2, 3, 4, 5, 6, 7, 8, 9]\n",
    "- ['1', '2', '3', '4', '5', '6', '7', '8', '9']"
   ]
  },
  {
   "cell_type": "markdown",
   "metadata": {},
   "source": [
    "# STRING"
   ]
  },
  {
   "cell_type": "markdown",
   "metadata": {},
   "source": [
    "2 Write a Python program to count the number of characters (character frequency) in a string. Go to the editor\n",
    "- Sample String : google.com'\n",
    "- Expected Result : {'o': 3, 'g': 2, '.': 1, 'e': 1, 'l': 1, 'm': 1, 'c': 1}"
   ]
  },
  {
   "cell_type": "code",
   "execution_count": null,
   "metadata": {},
   "outputs": [],
   "source": []
  },
  {
   "cell_type": "markdown",
   "metadata": {},
   "source": [
    "6 Write a Python program to add 'ing' at the end of a given string (length should be at least 3). If the given string already ends with 'ing' then add 'ly' instead. If the string length of the given string is less than 3, leave it unchanged. Go to the editor\n",
    "- Sample String : 'abc'\n",
    "- Expected Result : 'abcing'\n",
    "- Sample String : 'string'\n",
    "- Expected Result : 'stringly'"
   ]
  },
  {
   "cell_type": "code",
   "execution_count": null,
   "metadata": {},
   "outputs": [],
   "source": []
  },
  {
   "cell_type": "markdown",
   "metadata": {},
   "source": [
    "7 Write a Python program to find the first appearance of the substring 'not' and 'poor' from a given string, if 'not' follows the 'poor', replace the whole 'not'...'poor' substring with 'good'. Return the resulting string. Go to the editor\n",
    "- Sample String : 'The lyrics is not that poor!' // 'The lyrics is poor!'\n",
    "- Expected Result : 'The lyrics is good!' // 'The lyrics is poor!'"
   ]
  },
  {
   "cell_type": "code",
   "execution_count": null,
   "metadata": {},
   "outputs": [],
   "source": []
  },
  {
   "cell_type": "markdown",
   "metadata": {},
   "source": [
    "8 Write a Python function that takes a list of words and returns the length of the longest one"
   ]
  },
  {
   "cell_type": "code",
   "execution_count": 144,
   "metadata": {},
   "outputs": [
    {
     "ename": "TypeError",
     "evalue": "'int' object is not callable",
     "output_type": "error",
     "traceback": [
      "\u001b[1;31m---------------------------------------------------------------------------\u001b[0m",
      "\u001b[1;31mTypeError\u001b[0m                                 Traceback (most recent call last)",
      "\u001b[1;32m<ipython-input-144-4776c40bbd8b>\u001b[0m in \u001b[0;36m<module>\u001b[1;34m\u001b[0m\n\u001b[0;32m      7\u001b[0m     \u001b[0mlen_of_strs\u001b[0m\u001b[1;33m.\u001b[0m\u001b[0mappend\u001b[0m\u001b[1;33m(\u001b[0m\u001b[0mlen\u001b[0m\u001b[1;33m(\u001b[0m\u001b[0mi\u001b[0m\u001b[1;33m)\u001b[0m\u001b[1;33m)\u001b[0m\u001b[1;33m\u001b[0m\u001b[1;33m\u001b[0m\u001b[0m\n\u001b[0;32m      8\u001b[0m \u001b[1;33m\u001b[0m\u001b[0m\n\u001b[1;32m----> 9\u001b[1;33m \u001b[0mlocation\u001b[0m \u001b[1;33m=\u001b[0m \u001b[0mlen_of_strs\u001b[0m\u001b[1;33m.\u001b[0m\u001b[0mindex\u001b[0m\u001b[1;33m(\u001b[0m\u001b[0mmax\u001b[0m\u001b[1;33m(\u001b[0m\u001b[0mlen_of_strs\u001b[0m\u001b[1;33m)\u001b[0m\u001b[1;33m)\u001b[0m\u001b[1;33m\u001b[0m\u001b[1;33m\u001b[0m\u001b[0m\n\u001b[0m\u001b[0;32m     10\u001b[0m \u001b[1;32mreturn\u001b[0m \u001b[0ma\u001b[0m\u001b[1;33m[\u001b[0m\u001b[0mlocation\u001b[0m\u001b[1;33m]\u001b[0m\u001b[1;33m\u001b[0m\u001b[1;33m\u001b[0m\u001b[0m\n\u001b[0;32m     11\u001b[0m \u001b[1;33m\u001b[0m\u001b[0m\n",
      "\u001b[1;31mTypeError\u001b[0m: 'int' object is not callable"
     ]
    }
   ],
   "source": [
    "sample = \"Sit iste voluptas delectus optio totam et. Adipisci eius quia eos incidunt minus dolor esse. Officia commodi esse repellat et deserunt qui commodi ut. At ratione commodi unde unde omnis sit quibusdam sed. Totam debitis facere sed expedita autem sapiente. Cum qui architecto omnis atque et.\"\n",
    "\n",
    "a = sample.split()\n",
    "len_of_strs = []\n",
    "\n",
    "for i in a:\n",
    "    len_of_strs.append(len(i))\n",
    "\n",
    "location = len_of_strs.index(max(len_of_strs))\n",
    "return a[location]\n",
    "\n",
    "\n",
    "\n",
    "\n"
   ]
  },
  {
   "cell_type": "code",
   "execution_count": null,
   "metadata": {},
   "outputs": [],
   "source": []
  },
  {
   "cell_type": "code",
   "execution_count": null,
   "metadata": {},
   "outputs": [],
   "source": []
  },
  {
   "cell_type": "code",
   "execution_count": null,
   "metadata": {},
   "outputs": [],
   "source": []
  }
 ],
 "metadata": {
  "kernelspec": {
   "display_name": "Python 3",
   "language": "python",
   "name": "python3"
  },
  "language_info": {
   "codemirror_mode": {
    "name": "ipython",
    "version": 3
   },
   "file_extension": ".py",
   "mimetype": "text/x-python",
   "name": "python",
   "nbconvert_exporter": "python",
   "pygments_lexer": "ipython3",
   "version": "3.7.6"
  }
 },
 "nbformat": 4,
 "nbformat_minor": 4
}
