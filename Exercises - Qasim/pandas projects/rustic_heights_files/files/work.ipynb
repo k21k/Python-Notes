{
 "cells": [
  {
   "cell_type": "markdown",
   "metadata": {
    "Collapsed": "false"
   },
   "source": [
    "Your job is to:\n",
    "1- Write a Python script, which will concatinate/combine all the .csv files into a single pandas data frame.\n",
    "2- Encode Male for 1, female for 2. \\[Gender column\\]\n",
    "3- Encode 1,2 for Location 1, Location 2, or Facility A, Facility B \\[Location column\\]\n",
    "4- Encode 1,2,3,4 for Antenna column as well.\n",
    "5- Look for missing values, deal with missing values if any.\n",
    "6- Look for duplicates and drop them\n",
    "7- Name the columns as -> \\['id', 'gender', 'location', 'person', 'time', 'g_frontal', 'g_vertical', 'g_lateral', 'antenna', 'rssi', 'phase', 'label'\\]\n",
    "\n",
    "Note: Keep in mind that you don't have to load every file in a dataframe and then concatinate, figure out a way to do it without loading every file in a dataframe"
   ]
  },
  {
   "cell_type": "code",
   "execution_count": 5,
   "metadata": {
    "Collapsed": "false"
   },
   "outputs": [],
   "source": [
    "import pandas as pd\n",
    "import numpy as np"
   ]
  },
  {
   "cell_type": "markdown",
   "metadata": {
    "Collapsed": "false"
   },
   "source": [
    "# 1 Concat all files into 1 df"
   ]
  },
  {
   "cell_type": "code",
   "execution_count": 1,
   "metadata": {
    "Collapsed": "false"
   },
   "outputs": [],
   "source": [
    "# import glob\n",
    "\n",
    "# path = r'C:\\Users\\delchain_default\\Documents\\GitHub\\Python-Notes\\Exercises - Qasim\\pandas projects\\rustic_heights_files\\files' \n",
    "# all_files = glob.glob(path + \"/*.csv\")\n",
    "\n",
    "# li = []\n",
    "\n",
    "# for file in all_files:\n",
    "#     df = pd.read_csv(file, index_col=None)\n",
    "#     li.append(df)\n",
    "\n",
    "# frame = pd.concat(li, ignore_index=True)\n",
    "\n",
    "# # 40539 rows × 248 columns"
   ]
  },
  {
   "cell_type": "code",
   "execution_count": 6,
   "metadata": {
    "Collapsed": "false",
    "collapsed": true,
    "jupyter": {
     "outputs_hidden": true
    }
   },
   "outputs": [
    {
     "name": "stdout",
     "output_type": "stream",
     "text": [
      "file_1.csv\n",
      "file_10.csv\n",
      "file_11.csv\n",
      "file_12.csv\n",
      "file_13.csv\n",
      "file_14.csv\n",
      "file_15.csv\n",
      "file_16.csv\n",
      "file_17.csv\n",
      "file_18.csv\n",
      "file_19.csv\n",
      "file_2.csv\n",
      "file_20.csv\n",
      "file_21.csv\n",
      "file_22.csv\n",
      "file_23.csv\n",
      "file_24.csv\n",
      "file_25.csv\n",
      "file_26.csv\n",
      "file_27.csv\n",
      "file_28.csv\n",
      "file_29.csv\n",
      "file_3.csv\n",
      "file_30.csv\n",
      "file_4.csv\n",
      "file_5.csv\n",
      "file_6.csv\n",
      "file_7.csv\n",
      "file_8.csv\n",
      "file_9.csv\n"
     ]
    }
   ],
   "source": [
    "for file in glob.glob(\"*.csv\"):\n",
    "    print(file)"
   ]
  },
  {
   "cell_type": "code",
   "execution_count": 7,
   "metadata": {
    "Collapsed": "false"
   },
   "outputs": [],
   "source": [
    "import glob\n",
    "\n",
    "\n",
    "df = pd.concat((pd.read_csv(file, header=None) for file in glob.glob(\"*.csv\")),axis=0, ignore_index=True)\n",
    "\n",
    "# header = None is very importnat here\n"
   ]
  },
  {
   "cell_type": "code",
   "execution_count": 2,
   "metadata": {
    "Collapsed": "false"
   },
   "outputs": [],
   "source": [
    "# ALTERNATIVE CODE (FROM QASIM)\n",
    "# import glob\n",
    "\n",
    "# # Using glob to concatinate all the csv files\n",
    "# files = glob.glob(\"*.csv\")\n",
    "# dfs = [pd.read_csv(f, header=None, sep=\",\") for f in files]\n",
    "# data = pd.concat(dfs,ignore_index=True)\n",
    "# data"
   ]
  },
  {
   "cell_type": "code",
   "execution_count": 8,
   "metadata": {
    "Collapsed": "false"
   },
   "outputs": [
    {
     "data": {
      "text/html": [
       "<div>\n",
       "<style scoped>\n",
       "    .dataframe tbody tr th:only-of-type {\n",
       "        vertical-align: middle;\n",
       "    }\n",
       "\n",
       "    .dataframe tbody tr th {\n",
       "        vertical-align: top;\n",
       "    }\n",
       "\n",
       "    .dataframe thead th {\n",
       "        text-align: right;\n",
       "    }\n",
       "</style>\n",
       "<table border=\"1\" class=\"dataframe\">\n",
       "  <thead>\n",
       "    <tr style=\"text-align: right;\">\n",
       "      <th></th>\n",
       "      <th>0</th>\n",
       "      <th>1</th>\n",
       "      <th>2</th>\n",
       "      <th>3</th>\n",
       "      <th>4</th>\n",
       "      <th>5</th>\n",
       "      <th>6</th>\n",
       "      <th>7</th>\n",
       "      <th>8</th>\n",
       "      <th>9</th>\n",
       "      <th>10</th>\n",
       "      <th>11</th>\n",
       "      <th>12</th>\n",
       "    </tr>\n",
       "  </thead>\n",
       "  <tbody>\n",
       "    <tr>\n",
       "      <th>0</th>\n",
       "      <td>20471</td>\n",
       "      <td>2</td>\n",
       "      <td>Location 1</td>\n",
       "      <td>44</td>\n",
       "      <td>372.50</td>\n",
       "      <td>1.02250</td>\n",
       "      <td>0.043636</td>\n",
       "      <td>-0.139120</td>\n",
       "      <td>Antenna A</td>\n",
       "      <td>-62.5</td>\n",
       "      <td>0.56604</td>\n",
       "      <td>freq_2</td>\n",
       "      <td>3</td>\n",
       "    </tr>\n",
       "    <tr>\n",
       "      <th>1</th>\n",
       "      <td>25269</td>\n",
       "      <td>Male</td>\n",
       "      <td>Location 1</td>\n",
       "      <td>46</td>\n",
       "      <td>195.13</td>\n",
       "      <td>0.71760</td>\n",
       "      <td>0.790040</td>\n",
       "      <td>0.134560</td>\n",
       "      <td>Antenna B</td>\n",
       "      <td>-56.5</td>\n",
       "      <td>5.40570</td>\n",
       "      <td>922.25</td>\n",
       "      <td>2</td>\n",
       "    </tr>\n",
       "    <tr>\n",
       "      <th>2</th>\n",
       "      <td>55864</td>\n",
       "      <td>F</td>\n",
       "      <td>Facility B</td>\n",
       "      <td>2</td>\n",
       "      <td>1520.30</td>\n",
       "      <td>0.35411</td>\n",
       "      <td>0.158470</td>\n",
       "      <td>-1.028600</td>\n",
       "      <td>Antenna C</td>\n",
       "      <td>-61.0</td>\n",
       "      <td>5.58680</td>\n",
       "      <td>920.75</td>\n",
       "      <td>lying</td>\n",
       "    </tr>\n",
       "    <tr>\n",
       "      <th>3</th>\n",
       "      <td>3045</td>\n",
       "      <td>F</td>\n",
       "      <td>Location 1</td>\n",
       "      <td>9</td>\n",
       "      <td>3.25</td>\n",
       "      <td>0.61207</td>\n",
       "      <td>0.858940</td>\n",
       "      <td>0.111750</td>\n",
       "      <td>Antenna C</td>\n",
       "      <td>-59.5</td>\n",
       "      <td>4.18160</td>\n",
       "      <td>freq_11</td>\n",
       "      <td>1</td>\n",
       "    </tr>\n",
       "    <tr>\n",
       "      <th>4</th>\n",
       "      <td>56544</td>\n",
       "      <td>Female</td>\n",
       "      <td>Facility B</td>\n",
       "      <td>2</td>\n",
       "      <td>1690.10</td>\n",
       "      <td>0.40101</td>\n",
       "      <td>0.078086</td>\n",
       "      <td>-0.994340</td>\n",
       "      <td>Antenna 3</td>\n",
       "      <td>-61.0</td>\n",
       "      <td>3.87790</td>\n",
       "      <td>922.75</td>\n",
       "      <td>label 3</td>\n",
       "    </tr>\n",
       "    <tr>\n",
       "      <th>...</th>\n",
       "      <td>...</td>\n",
       "      <td>...</td>\n",
       "      <td>...</td>\n",
       "      <td>...</td>\n",
       "      <td>...</td>\n",
       "      <td>...</td>\n",
       "      <td>...</td>\n",
       "      <td>...</td>\n",
       "      <td>...</td>\n",
       "      <td>...</td>\n",
       "      <td>...</td>\n",
       "      <td>...</td>\n",
       "      <td>...</td>\n",
       "    </tr>\n",
       "    <tr>\n",
       "      <th>40564</th>\n",
       "      <td>34523</td>\n",
       "      <td>1</td>\n",
       "      <td>Location 1</td>\n",
       "      <td>49</td>\n",
       "      <td>251.05</td>\n",
       "      <td>1.22180</td>\n",
       "      <td>0.089569</td>\n",
       "      <td>-0.082102</td>\n",
       "      <td>Antenna C</td>\n",
       "      <td>-55.5</td>\n",
       "      <td>5.80150</td>\n",
       "      <td>B1</td>\n",
       "      <td>3</td>\n",
       "    </tr>\n",
       "    <tr>\n",
       "      <th>40565</th>\n",
       "      <td>72217</td>\n",
       "      <td>2</td>\n",
       "      <td>2</td>\n",
       "      <td>21</td>\n",
       "      <td>164.25</td>\n",
       "      <td>1.17490</td>\n",
       "      <td>-0.105650</td>\n",
       "      <td>0.009122</td>\n",
       "      <td>Antenna 3</td>\n",
       "      <td>-61.0</td>\n",
       "      <td>0.30986</td>\n",
       "      <td>F1</td>\n",
       "      <td>label 3</td>\n",
       "    </tr>\n",
       "    <tr>\n",
       "      <th>40566</th>\n",
       "      <td>59634</td>\n",
       "      <td>Female</td>\n",
       "      <td>Facility B</td>\n",
       "      <td>5</td>\n",
       "      <td>381.75</td>\n",
       "      <td>0.30721</td>\n",
       "      <td>0.457030</td>\n",
       "      <td>-0.925930</td>\n",
       "      <td>Antenna 3</td>\n",
       "      <td>-62.5</td>\n",
       "      <td>1.41430</td>\n",
       "      <td>freq_1</td>\n",
       "      <td>3</td>\n",
       "    </tr>\n",
       "    <tr>\n",
       "      <th>40567</th>\n",
       "      <td>22106</td>\n",
       "      <td>2</td>\n",
       "      <td>Location 1</td>\n",
       "      <td>45</td>\n",
       "      <td>132.35</td>\n",
       "      <td>0.29548</td>\n",
       "      <td>1.008200</td>\n",
       "      <td>0.009122</td>\n",
       "      <td>antenna 1</td>\n",
       "      <td>-59.0</td>\n",
       "      <td>0.84983</td>\n",
       "      <td>C1</td>\n",
       "      <td>sit on bed</td>\n",
       "    </tr>\n",
       "    <tr>\n",
       "      <th>40568</th>\n",
       "      <td>56237</td>\n",
       "      <td>Female</td>\n",
       "      <td>Location 2</td>\n",
       "      <td>2</td>\n",
       "      <td>1605.10</td>\n",
       "      <td>0.29548</td>\n",
       "      <td>0.169950</td>\n",
       "      <td>-1.028600</td>\n",
       "      <td>Antenna 3</td>\n",
       "      <td>-60.0</td>\n",
       "      <td>3.35170</td>\n",
       "      <td>D2</td>\n",
       "      <td>lying</td>\n",
       "    </tr>\n",
       "  </tbody>\n",
       "</table>\n",
       "<p>40569 rows × 13 columns</p>\n",
       "</div>"
      ],
      "text/plain": [
       "          0       1           2   3        4        5         6         7   \\\n",
       "0      20471       2  Location 1  44   372.50  1.02250  0.043636 -0.139120   \n",
       "1      25269    Male  Location 1  46   195.13  0.71760  0.790040  0.134560   \n",
       "2      55864       F  Facility B   2  1520.30  0.35411  0.158470 -1.028600   \n",
       "3       3045       F  Location 1   9     3.25  0.61207  0.858940  0.111750   \n",
       "4      56544  Female  Facility B   2  1690.10  0.40101  0.078086 -0.994340   \n",
       "...      ...     ...         ...  ..      ...      ...       ...       ...   \n",
       "40564  34523       1  Location 1  49   251.05  1.22180  0.089569 -0.082102   \n",
       "40565  72217       2           2  21   164.25  1.17490 -0.105650  0.009122   \n",
       "40566  59634  Female  Facility B   5   381.75  0.30721  0.457030 -0.925930   \n",
       "40567  22106       2  Location 1  45   132.35  0.29548  1.008200  0.009122   \n",
       "40568  56237  Female  Location 2   2  1605.10  0.29548  0.169950 -1.028600   \n",
       "\n",
       "              8     9        10       11          12  \n",
       "0      Antenna A -62.5  0.56604   freq_2           3  \n",
       "1      Antenna B -56.5  5.40570   922.25           2  \n",
       "2      Antenna C -61.0  5.58680   920.75       lying  \n",
       "3      Antenna C -59.5  4.18160  freq_11           1  \n",
       "4      Antenna 3 -61.0  3.87790   922.75     label 3  \n",
       "...          ...   ...      ...      ...         ...  \n",
       "40564  Antenna C -55.5  5.80150       B1           3  \n",
       "40565  Antenna 3 -61.0  0.30986       F1     label 3  \n",
       "40566  Antenna 3 -62.5  1.41430   freq_1           3  \n",
       "40567  antenna 1 -59.0  0.84983       C1  sit on bed  \n",
       "40568  Antenna 3 -60.0  3.35170       D2       lying  \n",
       "\n",
       "[40569 rows x 13 columns]"
      ]
     },
     "execution_count": 8,
     "metadata": {},
     "output_type": "execute_result"
    }
   ],
   "source": [
    "df"
   ]
  },
  {
   "cell_type": "markdown",
   "metadata": {
    "Collapsed": "false"
   },
   "source": [
    "# 7- Name the columns as -> \\['id', 'gender', 'location', 'person', 'time', 'g_frontal', 'g_vertical',  'antenna', 'rssi', 'phase', 'label'\\]"
   ]
  },
  {
   "cell_type": "code",
   "execution_count": 12,
   "metadata": {
    "Collapsed": "false"
   },
   "outputs": [
    {
     "data": {
      "text/html": [
       "<div>\n",
       "<style scoped>\n",
       "    .dataframe tbody tr th:only-of-type {\n",
       "        vertical-align: middle;\n",
       "    }\n",
       "\n",
       "    .dataframe tbody tr th {\n",
       "        vertical-align: top;\n",
       "    }\n",
       "\n",
       "    .dataframe thead th {\n",
       "        text-align: right;\n",
       "    }\n",
       "</style>\n",
       "<table border=\"1\" class=\"dataframe\">\n",
       "  <thead>\n",
       "    <tr style=\"text-align: right;\">\n",
       "      <th></th>\n",
       "      <th>id</th>\n",
       "      <th>gender</th>\n",
       "      <th>location</th>\n",
       "      <th>person</th>\n",
       "      <th>time</th>\n",
       "      <th>g_frontal</th>\n",
       "      <th>g_vertical</th>\n",
       "      <th>g_lateral</th>\n",
       "      <th>antenna</th>\n",
       "      <th>rssi</th>\n",
       "      <th>phase</th>\n",
       "      <th>freq</th>\n",
       "      <th>label</th>\n",
       "    </tr>\n",
       "  </thead>\n",
       "  <tbody>\n",
       "    <tr>\n",
       "      <th>0</th>\n",
       "      <td>20471</td>\n",
       "      <td>2</td>\n",
       "      <td>Location 1</td>\n",
       "      <td>44</td>\n",
       "      <td>372.50</td>\n",
       "      <td>1.02250</td>\n",
       "      <td>0.043636</td>\n",
       "      <td>-0.139120</td>\n",
       "      <td>Antenna A</td>\n",
       "      <td>-62.5</td>\n",
       "      <td>0.56604</td>\n",
       "      <td>freq_2</td>\n",
       "      <td>3</td>\n",
       "    </tr>\n",
       "    <tr>\n",
       "      <th>1</th>\n",
       "      <td>25269</td>\n",
       "      <td>Male</td>\n",
       "      <td>Location 1</td>\n",
       "      <td>46</td>\n",
       "      <td>195.13</td>\n",
       "      <td>0.71760</td>\n",
       "      <td>0.790040</td>\n",
       "      <td>0.134560</td>\n",
       "      <td>Antenna B</td>\n",
       "      <td>-56.5</td>\n",
       "      <td>5.40570</td>\n",
       "      <td>922.25</td>\n",
       "      <td>2</td>\n",
       "    </tr>\n",
       "    <tr>\n",
       "      <th>2</th>\n",
       "      <td>55864</td>\n",
       "      <td>F</td>\n",
       "      <td>Facility B</td>\n",
       "      <td>2</td>\n",
       "      <td>1520.30</td>\n",
       "      <td>0.35411</td>\n",
       "      <td>0.158470</td>\n",
       "      <td>-1.028600</td>\n",
       "      <td>Antenna C</td>\n",
       "      <td>-61.0</td>\n",
       "      <td>5.58680</td>\n",
       "      <td>920.75</td>\n",
       "      <td>lying</td>\n",
       "    </tr>\n",
       "    <tr>\n",
       "      <th>3</th>\n",
       "      <td>3045</td>\n",
       "      <td>F</td>\n",
       "      <td>Location 1</td>\n",
       "      <td>9</td>\n",
       "      <td>3.25</td>\n",
       "      <td>0.61207</td>\n",
       "      <td>0.858940</td>\n",
       "      <td>0.111750</td>\n",
       "      <td>Antenna C</td>\n",
       "      <td>-59.5</td>\n",
       "      <td>4.18160</td>\n",
       "      <td>freq_11</td>\n",
       "      <td>1</td>\n",
       "    </tr>\n",
       "    <tr>\n",
       "      <th>4</th>\n",
       "      <td>56544</td>\n",
       "      <td>Female</td>\n",
       "      <td>Facility B</td>\n",
       "      <td>2</td>\n",
       "      <td>1690.10</td>\n",
       "      <td>0.40101</td>\n",
       "      <td>0.078086</td>\n",
       "      <td>-0.994340</td>\n",
       "      <td>Antenna 3</td>\n",
       "      <td>-61.0</td>\n",
       "      <td>3.87790</td>\n",
       "      <td>922.75</td>\n",
       "      <td>label 3</td>\n",
       "    </tr>\n",
       "    <tr>\n",
       "      <th>...</th>\n",
       "      <td>...</td>\n",
       "      <td>...</td>\n",
       "      <td>...</td>\n",
       "      <td>...</td>\n",
       "      <td>...</td>\n",
       "      <td>...</td>\n",
       "      <td>...</td>\n",
       "      <td>...</td>\n",
       "      <td>...</td>\n",
       "      <td>...</td>\n",
       "      <td>...</td>\n",
       "      <td>...</td>\n",
       "      <td>...</td>\n",
       "    </tr>\n",
       "    <tr>\n",
       "      <th>40564</th>\n",
       "      <td>34523</td>\n",
       "      <td>1</td>\n",
       "      <td>Location 1</td>\n",
       "      <td>49</td>\n",
       "      <td>251.05</td>\n",
       "      <td>1.22180</td>\n",
       "      <td>0.089569</td>\n",
       "      <td>-0.082102</td>\n",
       "      <td>Antenna C</td>\n",
       "      <td>-55.5</td>\n",
       "      <td>5.80150</td>\n",
       "      <td>B1</td>\n",
       "      <td>3</td>\n",
       "    </tr>\n",
       "    <tr>\n",
       "      <th>40565</th>\n",
       "      <td>72217</td>\n",
       "      <td>2</td>\n",
       "      <td>2</td>\n",
       "      <td>21</td>\n",
       "      <td>164.25</td>\n",
       "      <td>1.17490</td>\n",
       "      <td>-0.105650</td>\n",
       "      <td>0.009122</td>\n",
       "      <td>Antenna 3</td>\n",
       "      <td>-61.0</td>\n",
       "      <td>0.30986</td>\n",
       "      <td>F1</td>\n",
       "      <td>label 3</td>\n",
       "    </tr>\n",
       "    <tr>\n",
       "      <th>40566</th>\n",
       "      <td>59634</td>\n",
       "      <td>Female</td>\n",
       "      <td>Facility B</td>\n",
       "      <td>5</td>\n",
       "      <td>381.75</td>\n",
       "      <td>0.30721</td>\n",
       "      <td>0.457030</td>\n",
       "      <td>-0.925930</td>\n",
       "      <td>Antenna 3</td>\n",
       "      <td>-62.5</td>\n",
       "      <td>1.41430</td>\n",
       "      <td>freq_1</td>\n",
       "      <td>3</td>\n",
       "    </tr>\n",
       "    <tr>\n",
       "      <th>40567</th>\n",
       "      <td>22106</td>\n",
       "      <td>2</td>\n",
       "      <td>Location 1</td>\n",
       "      <td>45</td>\n",
       "      <td>132.35</td>\n",
       "      <td>0.29548</td>\n",
       "      <td>1.008200</td>\n",
       "      <td>0.009122</td>\n",
       "      <td>antenna 1</td>\n",
       "      <td>-59.0</td>\n",
       "      <td>0.84983</td>\n",
       "      <td>C1</td>\n",
       "      <td>sit on bed</td>\n",
       "    </tr>\n",
       "    <tr>\n",
       "      <th>40568</th>\n",
       "      <td>56237</td>\n",
       "      <td>Female</td>\n",
       "      <td>Location 2</td>\n",
       "      <td>2</td>\n",
       "      <td>1605.10</td>\n",
       "      <td>0.29548</td>\n",
       "      <td>0.169950</td>\n",
       "      <td>-1.028600</td>\n",
       "      <td>Antenna 3</td>\n",
       "      <td>-60.0</td>\n",
       "      <td>3.35170</td>\n",
       "      <td>D2</td>\n",
       "      <td>lying</td>\n",
       "    </tr>\n",
       "  </tbody>\n",
       "</table>\n",
       "<p>40569 rows × 13 columns</p>\n",
       "</div>"
      ],
      "text/plain": [
       "          id  gender    location  person     time  g_frontal  g_vertical  \\\n",
       "0      20471       2  Location 1      44   372.50    1.02250    0.043636   \n",
       "1      25269    Male  Location 1      46   195.13    0.71760    0.790040   \n",
       "2      55864       F  Facility B       2  1520.30    0.35411    0.158470   \n",
       "3       3045       F  Location 1       9     3.25    0.61207    0.858940   \n",
       "4      56544  Female  Facility B       2  1690.10    0.40101    0.078086   \n",
       "...      ...     ...         ...     ...      ...        ...         ...   \n",
       "40564  34523       1  Location 1      49   251.05    1.22180    0.089569   \n",
       "40565  72217       2           2      21   164.25    1.17490   -0.105650   \n",
       "40566  59634  Female  Facility B       5   381.75    0.30721    0.457030   \n",
       "40567  22106       2  Location 1      45   132.35    0.29548    1.008200   \n",
       "40568  56237  Female  Location 2       2  1605.10    0.29548    0.169950   \n",
       "\n",
       "       g_lateral    antenna  rssi    phase     freq       label  \n",
       "0      -0.139120  Antenna A -62.5  0.56604   freq_2           3  \n",
       "1       0.134560  Antenna B -56.5  5.40570   922.25           2  \n",
       "2      -1.028600  Antenna C -61.0  5.58680   920.75       lying  \n",
       "3       0.111750  Antenna C -59.5  4.18160  freq_11           1  \n",
       "4      -0.994340  Antenna 3 -61.0  3.87790   922.75     label 3  \n",
       "...          ...        ...   ...      ...      ...         ...  \n",
       "40564  -0.082102  Antenna C -55.5  5.80150       B1           3  \n",
       "40565   0.009122  Antenna 3 -61.0  0.30986       F1     label 3  \n",
       "40566  -0.925930  Antenna 3 -62.5  1.41430   freq_1           3  \n",
       "40567   0.009122  antenna 1 -59.0  0.84983       C1  sit on bed  \n",
       "40568  -1.028600  Antenna 3 -60.0  3.35170       D2       lying  \n",
       "\n",
       "[40569 rows x 13 columns]"
      ]
     },
     "execution_count": 12,
     "metadata": {},
     "output_type": "execute_result"
    }
   ],
   "source": [
    "df.columns = ['id', 'gender', 'location', 'person', 'time', 'g_frontal', 'g_vertical', 'g_lateral', 'antenna', 'rssi', 'phase', 'freq', 'label']\n",
    "df"
   ]
  },
  {
   "cell_type": "code",
   "execution_count": null,
   "metadata": {
    "Collapsed": "false"
   },
   "outputs": [],
   "source": []
  },
  {
   "cell_type": "markdown",
   "metadata": {
    "Collapsed": "false"
   },
   "source": [
    "# 2 - Encode Male for 1, female for 2. \\[Gender column\\]"
   ]
  },
  {
   "cell_type": "code",
   "execution_count": 16,
   "metadata": {
    "Collapsed": "false"
   },
   "outputs": [
    {
     "data": {
      "text/plain": [
       "F         7916\n",
       "1         7915\n",
       "Female    7856\n",
       "Male      5672\n",
       "M         5608\n",
       "2         5602\n",
       "Name: gender, dtype: int64"
      ]
     },
     "execution_count": 16,
     "metadata": {},
     "output_type": "execute_result"
    }
   ],
   "source": [
    "df['gender'].value_counts()"
   ]
  },
  {
   "cell_type": "code",
   "execution_count": 42,
   "metadata": {
    "Collapsed": "false"
   },
   "outputs": [
    {
     "data": {
      "text/plain": [
       "2    21374\n",
       "1    19195\n",
       "Name: gender, dtype: int64"
      ]
     },
     "execution_count": 42,
     "metadata": {},
     "output_type": "execute_result"
    }
   ],
   "source": [
    "df['gender'].replace(to_replace=['Male','M'], value=\"1\", inplace=True)\n",
    "df['gender'].replace(to_replace=['Female','F'], value=\"2\", inplace=True)\n",
    "df['gender'].value_counts()"
   ]
  },
  {
   "cell_type": "markdown",
   "metadata": {
    "Collapsed": "false"
   },
   "source": [
    "# 3 - Encode 1,2 for Location 1, Location 2, or Facility A, Facility B \\[Location column\\]"
   ]
  },
  {
   "cell_type": "code",
   "execution_count": 43,
   "metadata": {
    "Collapsed": "false"
   },
   "outputs": [
    {
     "data": {
      "text/plain": [
       "1    28375\n",
       "2    12194\n",
       "Name: location, dtype: int64"
      ]
     },
     "execution_count": 43,
     "metadata": {},
     "output_type": "execute_result"
    }
   ],
   "source": [
    "df['location'].value_counts()"
   ]
  },
  {
   "cell_type": "code",
   "execution_count": 44,
   "metadata": {
    "Collapsed": "false"
   },
   "outputs": [
    {
     "data": {
      "text/plain": [
       "1    28375\n",
       "2    12194\n",
       "Name: location, dtype: int64"
      ]
     },
     "execution_count": 44,
     "metadata": {},
     "output_type": "execute_result"
    }
   ],
   "source": [
    "df['location'].replace(to_replace=['Location 1','Facility A'], value=\"1\", inplace=True)\n",
    "df['location'].replace(to_replace=['Location 2','Facility B'], value=\"2\", inplace=True)\n",
    "df['location'].value_counts()"
   ]
  },
  {
   "cell_type": "markdown",
   "metadata": {
    "Collapsed": "false"
   },
   "source": [
    "# 4 - Encode 1,2,3,4 for Antenna column as well."
   ]
  },
  {
   "cell_type": "code",
   "execution_count": 45,
   "metadata": {
    "Collapsed": "false"
   },
   "outputs": [
    {
     "data": {
      "text/plain": [
       "Antenna 3    4506\n",
       "3            4496\n",
       "Antenna C    4436\n",
       "Antenna A    4012\n",
       "1            4007\n",
       "antenna 1    3989\n",
       "Antenna D    2578\n",
       "Antenna 4    2574\n",
       "4            2535\n",
       "2            2512\n",
       "Antenna 2    2481\n",
       "Antenna B    2443\n",
       "Name: antenna, dtype: int64"
      ]
     },
     "execution_count": 45,
     "metadata": {},
     "output_type": "execute_result"
    }
   ],
   "source": [
    "df['antenna'].value_counts()"
   ]
  },
  {
   "cell_type": "code",
   "execution_count": 47,
   "metadata": {
    "Collapsed": "false"
   },
   "outputs": [
    {
     "data": {
      "text/plain": [
       "3    13438\n",
       "1    12008\n",
       "4     7687\n",
       "2     7436\n",
       "Name: antenna, dtype: int64"
      ]
     },
     "execution_count": 47,
     "metadata": {},
     "output_type": "execute_result"
    }
   ],
   "source": [
    "df['antenna'].replace(to_replace=['Antenna A','Antenna 1', 'antenna 1'], value=\"1\", inplace=True)\n",
    "df['antenna'].replace(to_replace=['Antenna B','Antenna 2'], value=\"2\", inplace=True)\n",
    "df['antenna'].replace(to_replace=['Antenna C','Antenna 3'], value=\"3\", inplace=True)\n",
    "df['antenna'].replace(to_replace=['Antenna D','Antenna 4'], value=\"4\", inplace=True)\n",
    "df['antenna'].value_counts()"
   ]
  },
  {
   "cell_type": "markdown",
   "metadata": {
    "Collapsed": "false"
   },
   "source": [
    "# 5 - Look for missing values, deal with missing values if any."
   ]
  },
  {
   "cell_type": "code",
   "execution_count": 48,
   "metadata": {
    "Collapsed": "false"
   },
   "outputs": [
    {
     "data": {
      "text/plain": [
       "id            0\n",
       "gender        0\n",
       "location      0\n",
       "person        0\n",
       "time          0\n",
       "g_frontal     0\n",
       "g_vertical    0\n",
       "g_lateral     0\n",
       "antenna       0\n",
       "rssi          0\n",
       "phase         0\n",
       "freq          0\n",
       "label         0\n",
       "dtype: int64"
      ]
     },
     "execution_count": 48,
     "metadata": {},
     "output_type": "execute_result"
    }
   ],
   "source": [
    "df.isna().sum()       "
   ]
  },
  {
   "cell_type": "code",
   "execution_count": null,
   "metadata": {
    "Collapsed": "false"
   },
   "outputs": [],
   "source": [
    "# no NaN"
   ]
  },
  {
   "cell_type": "markdown",
   "metadata": {
    "Collapsed": "false"
   },
   "source": [
    "# 6 - Look for duplicates and drop them"
   ]
  },
  {
   "cell_type": "code",
   "execution_count": 51,
   "metadata": {
    "Collapsed": "false"
   },
   "outputs": [
    {
     "data": {
      "text/html": [
       "<div>\n",
       "<style scoped>\n",
       "    .dataframe tbody tr th:only-of-type {\n",
       "        vertical-align: middle;\n",
       "    }\n",
       "\n",
       "    .dataframe tbody tr th {\n",
       "        vertical-align: top;\n",
       "    }\n",
       "\n",
       "    .dataframe thead th {\n",
       "        text-align: right;\n",
       "    }\n",
       "</style>\n",
       "<table border=\"1\" class=\"dataframe\">\n",
       "  <thead>\n",
       "    <tr style=\"text-align: right;\">\n",
       "      <th></th>\n",
       "      <th>id</th>\n",
       "      <th>gender</th>\n",
       "      <th>location</th>\n",
       "      <th>person</th>\n",
       "      <th>time</th>\n",
       "      <th>g_frontal</th>\n",
       "      <th>g_vertical</th>\n",
       "      <th>g_lateral</th>\n",
       "      <th>antenna</th>\n",
       "      <th>rssi</th>\n",
       "      <th>phase</th>\n",
       "      <th>freq</th>\n",
       "      <th>label</th>\n",
       "    </tr>\n",
       "  </thead>\n",
       "  <tbody>\n",
       "  </tbody>\n",
       "</table>\n",
       "</div>"
      ],
      "text/plain": [
       "Empty DataFrame\n",
       "Columns: [id, gender, location, person, time, g_frontal, g_vertical, g_lateral, antenna, rssi, phase, freq, label]\n",
       "Index: []"
      ]
     },
     "execution_count": 51,
     "metadata": {},
     "output_type": "execute_result"
    }
   ],
   "source": [
    "df.loc[df.duplicated(keep=False),:]        "
   ]
  },
  {
   "cell_type": "code",
   "execution_count": 52,
   "metadata": {
    "Collapsed": "false"
   },
   "outputs": [],
   "source": [
    "#no duplicates"
   ]
  },
  {
   "cell_type": "markdown",
   "metadata": {
    "Collapsed": "false"
   },
   "source": [
    "# 7- Name the columns as -> \\['id', 'gender', 'location', 'person', 'time', 'g_frontal', 'g_vertical', 'g_lateral', 'antenna', 'rssi', 'phase', 'label'\\]"
   ]
  },
  {
   "cell_type": "code",
   "execution_count": null,
   "metadata": {
    "Collapsed": "false"
   },
   "outputs": [],
   "source": [
    "# done 1st"
   ]
  },
  {
   "cell_type": "code",
   "execution_count": null,
   "metadata": {
    "Collapsed": "false"
   },
   "outputs": [],
   "source": []
  },
  {
   "cell_type": "code",
   "execution_count": null,
   "metadata": {
    "Collapsed": "false"
   },
   "outputs": [],
   "source": []
  }
 ],
 "metadata": {
  "kernelspec": {
   "display_name": "Python 3",
   "language": "python",
   "name": "python3"
  },
  "language_info": {
   "codemirror_mode": {
    "name": "ipython",
    "version": 3
   },
   "file_extension": ".py",
   "mimetype": "text/x-python",
   "name": "python",
   "nbconvert_exporter": "python",
   "pygments_lexer": "ipython3",
   "version": "3.7.6"
  }
 },
 "nbformat": 4,
 "nbformat_minor": 4
}
