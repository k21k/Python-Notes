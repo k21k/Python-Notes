{
 "cells": [
  {
   "cell_type": "markdown",
   "metadata": {
    "Collapsed": "false"
   },
   "source": [
    "Plotly is a library that allows you to create interactive plots that you can use in dashboards or websites (you can save them as html files or static images).\n",
    "\n",
    "## Installation\n",
    "\n",
    "In order for this all to work, you'll need to install plotly and cufflinks to call plots directly off of a pandas dataframe. These libraries are not currently available through **conda** but are available through **pip**. Install the libraries at your command line/terminal using:\n",
    "\n",
    "    pip install plotly\n",
    "    pip install cufflinks\n",
    "\n",
    "\n",
    "## Importing and Setting-up"
   ]
  },
  {
   "cell_type": "code",
   "execution_count": 1,
   "metadata": {
    "Collapsed": "false"
   },
   "outputs": [],
   "source": [
    "import pandas as pd\n",
    "import numpy as np\n",
    "%matplotlib inline"
   ]
  },
  {
   "cell_type": "code",
   "execution_count": 2,
   "metadata": {
    "Collapsed": "false"
   },
   "outputs": [],
   "source": [
    "from plotly import __version__\n",
    "from plotly.offline import download_plotlyjs, init_notebook_mode, plot, iplot"
   ]
  },
  {
   "cell_type": "code",
   "execution_count": 3,
   "metadata": {
    "Collapsed": "false"
   },
   "outputs": [],
   "source": [
    "import cufflinks as cf"
   ]
  },
  {
   "cell_type": "code",
   "execution_count": 4,
   "metadata": {
    "Collapsed": "false"
   },
   "outputs": [
    {
     "data": {
      "text/html": [
       "        <script type=\"text/javascript\">\n",
       "        window.PlotlyConfig = {MathJaxConfig: 'local'};\n",
       "        if (window.MathJax) {MathJax.Hub.Config({SVG: {font: \"STIX-Web\"}});}\n",
       "        if (typeof require !== 'undefined') {\n",
       "        require.undef(\"plotly\");\n",
       "        requirejs.config({\n",
       "            paths: {\n",
       "                'plotly': ['https://cdn.plot.ly/plotly-latest.min']\n",
       "            }\n",
       "        });\n",
       "        require(['plotly'], function(Plotly) {\n",
       "            window._Plotly = Plotly;\n",
       "        });\n",
       "        }\n",
       "        </script>\n",
       "        "
      ]
     },
     "metadata": {},
     "output_type": "display_data"
    }
   ],
   "source": [
    "# For Notebooks\n",
    "init_notebook_mode(connected=True)"
   ]
  },
  {
   "cell_type": "code",
   "execution_count": 5,
   "metadata": {
    "Collapsed": "false"
   },
   "outputs": [
    {
     "data": {
      "text/html": [
       "        <script type=\"text/javascript\">\n",
       "        window.PlotlyConfig = {MathJaxConfig: 'local'};\n",
       "        if (window.MathJax) {MathJax.Hub.Config({SVG: {font: \"STIX-Web\"}});}\n",
       "        if (typeof require !== 'undefined') {\n",
       "        require.undef(\"plotly\");\n",
       "        requirejs.config({\n",
       "            paths: {\n",
       "                'plotly': ['https://cdn.plot.ly/plotly-latest.min']\n",
       "            }\n",
       "        });\n",
       "        require(['plotly'], function(Plotly) {\n",
       "            window._Plotly = Plotly;\n",
       "        });\n",
       "        }\n",
       "        </script>\n",
       "        "
      ]
     },
     "metadata": {},
     "output_type": "display_data"
    }
   ],
   "source": [
    "# For offline use\n",
    "cf.go_offline()"
   ]
  },
  {
   "cell_type": "code",
   "execution_count": 9,
   "metadata": {
    "Collapsed": "false"
   },
   "outputs": [
    {
     "data": {
      "text/html": [
       "<div>\n",
       "<style scoped>\n",
       "    .dataframe tbody tr th:only-of-type {\n",
       "        vertical-align: middle;\n",
       "    }\n",
       "\n",
       "    .dataframe tbody tr th {\n",
       "        vertical-align: top;\n",
       "    }\n",
       "\n",
       "    .dataframe thead th {\n",
       "        text-align: right;\n",
       "    }\n",
       "</style>\n",
       "<table border=\"1\" class=\"dataframe\">\n",
       "  <thead>\n",
       "    <tr style=\"text-align: right;\">\n",
       "      <th></th>\n",
       "      <th>A</th>\n",
       "      <th>B</th>\n",
       "      <th>C</th>\n",
       "      <th>D</th>\n",
       "    </tr>\n",
       "  </thead>\n",
       "  <tbody>\n",
       "    <tr>\n",
       "      <th>0</th>\n",
       "      <td>-1.129788</td>\n",
       "      <td>-0.124020</td>\n",
       "      <td>0.174217</td>\n",
       "      <td>-0.856938</td>\n",
       "    </tr>\n",
       "    <tr>\n",
       "      <th>1</th>\n",
       "      <td>0.890956</td>\n",
       "      <td>0.161056</td>\n",
       "      <td>-1.334787</td>\n",
       "      <td>0.353238</td>\n",
       "    </tr>\n",
       "    <tr>\n",
       "      <th>2</th>\n",
       "      <td>-2.467468</td>\n",
       "      <td>0.023189</td>\n",
       "      <td>0.195048</td>\n",
       "      <td>-1.473885</td>\n",
       "    </tr>\n",
       "    <tr>\n",
       "      <th>3</th>\n",
       "      <td>1.466887</td>\n",
       "      <td>1.336577</td>\n",
       "      <td>0.615815</td>\n",
       "      <td>-0.515417</td>\n",
       "    </tr>\n",
       "    <tr>\n",
       "      <th>4</th>\n",
       "      <td>0.052099</td>\n",
       "      <td>-1.524892</td>\n",
       "      <td>0.646480</td>\n",
       "      <td>1.384368</td>\n",
       "    </tr>\n",
       "  </tbody>\n",
       "</table>\n",
       "</div>"
      ],
      "text/plain": [
       "          A         B         C         D\n",
       "0 -1.129788 -0.124020  0.174217 -0.856938\n",
       "1  0.890956  0.161056 -1.334787  0.353238\n",
       "2 -2.467468  0.023189  0.195048 -1.473885\n",
       "3  1.466887  1.336577  0.615815 -0.515417\n",
       "4  0.052099 -1.524892  0.646480  1.384368"
      ]
     },
     "execution_count": 9,
     "metadata": {},
     "output_type": "execute_result"
    }
   ],
   "source": [
    "df = pd.DataFrame(np.random.randn(100,4),columns='A B C D'.split())\n",
    "df.head()"
   ]
  },
  {
   "cell_type": "code",
   "execution_count": 10,
   "metadata": {
    "Collapsed": "false"
   },
   "outputs": [
    {
     "data": {
      "text/html": [
       "<div>\n",
       "<style scoped>\n",
       "    .dataframe tbody tr th:only-of-type {\n",
       "        vertical-align: middle;\n",
       "    }\n",
       "\n",
       "    .dataframe tbody tr th {\n",
       "        vertical-align: top;\n",
       "    }\n",
       "\n",
       "    .dataframe thead th {\n",
       "        text-align: right;\n",
       "    }\n",
       "</style>\n",
       "<table border=\"1\" class=\"dataframe\">\n",
       "  <thead>\n",
       "    <tr style=\"text-align: right;\">\n",
       "      <th></th>\n",
       "      <th>Category</th>\n",
       "      <th>Values</th>\n",
       "    </tr>\n",
       "  </thead>\n",
       "  <tbody>\n",
       "    <tr>\n",
       "      <th>0</th>\n",
       "      <td>A</td>\n",
       "      <td>32</td>\n",
       "    </tr>\n",
       "    <tr>\n",
       "      <th>1</th>\n",
       "      <td>B</td>\n",
       "      <td>43</td>\n",
       "    </tr>\n",
       "    <tr>\n",
       "      <th>2</th>\n",
       "      <td>C</td>\n",
       "      <td>50</td>\n",
       "    </tr>\n",
       "  </tbody>\n",
       "</table>\n",
       "</div>"
      ],
      "text/plain": [
       "  Category  Values\n",
       "0        A      32\n",
       "1        B      43\n",
       "2        C      50"
      ]
     },
     "execution_count": 10,
     "metadata": {},
     "output_type": "execute_result"
    }
   ],
   "source": [
    "df2 = pd.DataFrame({'Category':['A','B','C'],'Values':[32,43,50]})\n",
    "df2.head()"
   ]
  },
  {
   "cell_type": "markdown",
   "metadata": {
    "Collapsed": "false"
   },
   "source": [
    "## Using Cufflinks and iplot()\n",
    "\n",
    "* scatter\n",
    "* bar\n",
    "* box\n",
    "* spread\n",
    "* ratio\n",
    "* heatmap\n",
    "* surface\n",
    "* histogram\n",
    "* bubble"
   ]
  },
  {
   "cell_type": "code",
   "execution_count": 14,
   "metadata": {
    "Collapsed": "false"
   },
   "outputs": [
    {
     "data": {
      "application/vnd.plotly.v1+json": {
       "config": {
        "linkText": "Export to plot.ly",
        "plotlyServerURL": "https://plot.ly",
        "showLink": true
       },
       "data": [
        {
         "line": {
          "color": "rgba(255, 153, 51, 1.0)",
          "dash": "solid",
          "shape": "linear",
          "width": 1.3
         },
         "marker": {
          "size": 10,
          "symbol": "circle"
         },
         "mode": "markers",
         "name": "B",
         "text": "",
         "type": "scatter",
         "x": [
          -1.1297880804810116,
          0.8909558868026678,
          -2.4674677078075615,
          1.4668865210388036,
          0.052099141553544316,
          -0.5841535222972922,
          -0.14407291051779864,
          -0.24146519801740043,
          1.4089883014072808,
          0.1698379991335825,
          1.6725669615460745,
          -1.1871638982625938,
          0.2500685582684525,
          -0.9075758091792991,
          1.5794840063606157,
          -0.7154693249447941,
          0.6710461976159192,
          -1.3138617132611679,
          -0.08715365767208498,
          0.6817437501923307,
          0.15963287076171498,
          -1.4284907475179551,
          0.7623270744081148,
          0.4827609399382711,
          1.143843875728672,
          0.732765341739219,
          0.4769246929115,
          0.5207809911732241,
          -0.6943426027267315,
          2.527205168129635,
          0.3110536263670157,
          -1.586564155923283,
          0.2325845898667768,
          0.14942062616814708,
          -0.7557765018970091,
          2.46078286011467,
          -1.5864772813918784,
          1.0868295448269554,
          0.29730223763112135,
          0.9330617358105876,
          1.3209758315752207,
          -0.7257746662786452,
          0.6223215905979733,
          0.9545355565512028,
          -0.5651734999398752,
          -0.8323343740748262,
          -1.529421653815974,
          -0.5637293068459186,
          1.3747593870565984,
          1.4629258937978542,
          -1.2437710994346372,
          1.1528387183185471,
          -0.7646733650685583,
          -0.12980482941361793,
          0.8460466553233116,
          -0.13679977098484716,
          1.3171725454303962,
          -0.8524969706000572,
          -0.7896774042673815,
          0.30161696428573564,
          -1.1882742305542269,
          -0.15889754303574397,
          0.8698986288529447,
          -0.9964530436083726,
          0.4100165481373722,
          -0.4128453281010694,
          1.4406077576302683,
          1.6011651067675756,
          -3.3597780905476684,
          -1.3769568088285187,
          1.2177632525884357,
          -0.14126371111306843,
          -0.3721476282966241,
          -1.96760916128469,
          0.5213989068129281,
          -1.453423528558044,
          0.3946037066457429,
          0.8585996691985393,
          0.9237916704788649,
          0.3137707208702481,
          0.9861633281572418,
          0.8940523501948491,
          1.300507308282935,
          0.769636332141642,
          0.599535573702335,
          -1.8921465187792665,
          0.7351759459424257,
          -0.5245244935897746,
          0.41125483420132225,
          -0.4747146631281052,
          0.5430255920252014,
          -0.8615301256799931,
          0.685280739134256,
          1.3824752940241554,
          0.4691203694022939,
          0.2969347029971788,
          0.17527373402249957,
          -0.2664598834122682,
          -1.0603267101266096,
          1.2585999049100745
         ],
         "y": [
          -0.12402007023132434,
          0.16105615677002622,
          0.023188958701885184,
          1.3365766040123495,
          -1.524892413949562,
          -1.2841507820438276,
          1.453386751286277,
          0.18175721164363973,
          0.319433640867433,
          -0.3839768199018055,
          -1.1032762054402279,
          -0.037550265782773054,
          0.6526531412240898,
          1.624937766501667,
          1.3347744992777684,
          -0.34618031920085374,
          1.789230219031507,
          2.0815389133971967,
          1.1552149582137499,
          2.601022664007055,
          0.7373289608257685,
          0.9653657279013573,
          -0.7141811226367676,
          -1.5857012600671005,
          -0.9698880744594625,
          1.0629314379178578,
          0.3665188577639023,
          1.8575226132892655,
          0.2810123749569547,
          1.0834506863250117,
          1.5852384708343445,
          -1.0821690461594273,
          0.45034497515428173,
          0.16595132541359575,
          -0.2837809115954148,
          -0.5321305547195403,
          0.42052444763312613,
          -0.8638272574567947,
          -0.1356330350490318,
          -0.2861953892593525,
          0.2987680728920157,
          -0.7901164099395227,
          -0.07239267449567097,
          0.14885628381591193,
          -0.15562696332212675,
          1.421970514039125,
          -0.10009080252734245,
          -2.6887592763650754,
          0.523307575152354,
          1.839188917214292,
          -0.31767820041569567,
          1.1392661859719995,
          1.1126897470779902,
          -1.4431765471300466,
          -1.3226216565575393,
          1.3061871872446182,
          -1.2695506775987795,
          -1.3531008486561023,
          -0.6190758570607968,
          -1.6607885320505178,
          1.0267781939675455,
          0.3332289719972668,
          0.4680130394047356,
          0.8889197448462989,
          -1.5825366658785764,
          -1.3291572534664713,
          1.0765003834875582,
          0.8441869284582593,
          -0.49514397185949505,
          0.03929643743827132,
          -0.12982509182576335,
          0.9563009984004562,
          1.9202450190710358,
          0.24483401982736028,
          0.10525084048866817,
          0.8816366460958016,
          1.3465250686822723,
          -0.21035831042571124,
          -0.6113086931308005,
          -1.19868474947971,
          0.15785117287865072,
          -1.031686073119976,
          0.1391364456318884,
          0.16690430657337105,
          -1.6588925821515055,
          0.5213841464387718,
          -0.915816274620897,
          1.1229320056801422,
          0.08918793278246169,
          -0.379028223962969,
          -1.591593730810941,
          0.5208149612876775,
          1.325421610769011,
          0.9083172720366367,
          0.06163858333894556,
          0.14276444823432247,
          -0.24183087477167728,
          2.1473916282420014,
          1.2534007307159707,
          -0.6942650652204457
         ]
        }
       ],
       "layout": {
        "legend": {
         "bgcolor": "#F5F6F9",
         "font": {
          "color": "#4D5663"
         }
        },
        "paper_bgcolor": "#F5F6F9",
        "plot_bgcolor": "#F5F6F9",
        "template": {
         "data": {
          "bar": [
           {
            "error_x": {
             "color": "#2a3f5f"
            },
            "error_y": {
             "color": "#2a3f5f"
            },
            "marker": {
             "line": {
              "color": "#E5ECF6",
              "width": 0.5
             }
            },
            "type": "bar"
           }
          ],
          "barpolar": [
           {
            "marker": {
             "line": {
              "color": "#E5ECF6",
              "width": 0.5
             }
            },
            "type": "barpolar"
           }
          ],
          "carpet": [
           {
            "aaxis": {
             "endlinecolor": "#2a3f5f",
             "gridcolor": "white",
             "linecolor": "white",
             "minorgridcolor": "white",
             "startlinecolor": "#2a3f5f"
            },
            "baxis": {
             "endlinecolor": "#2a3f5f",
             "gridcolor": "white",
             "linecolor": "white",
             "minorgridcolor": "white",
             "startlinecolor": "#2a3f5f"
            },
            "type": "carpet"
           }
          ],
          "choropleth": [
           {
            "colorbar": {
             "outlinewidth": 0,
             "ticks": ""
            },
            "type": "choropleth"
           }
          ],
          "contour": [
           {
            "colorbar": {
             "outlinewidth": 0,
             "ticks": ""
            },
            "colorscale": [
             [
              0,
              "#0d0887"
             ],
             [
              0.1111111111111111,
              "#46039f"
             ],
             [
              0.2222222222222222,
              "#7201a8"
             ],
             [
              0.3333333333333333,
              "#9c179e"
             ],
             [
              0.4444444444444444,
              "#bd3786"
             ],
             [
              0.5555555555555556,
              "#d8576b"
             ],
             [
              0.6666666666666666,
              "#ed7953"
             ],
             [
              0.7777777777777778,
              "#fb9f3a"
             ],
             [
              0.8888888888888888,
              "#fdca26"
             ],
             [
              1,
              "#f0f921"
             ]
            ],
            "type": "contour"
           }
          ],
          "contourcarpet": [
           {
            "colorbar": {
             "outlinewidth": 0,
             "ticks": ""
            },
            "type": "contourcarpet"
           }
          ],
          "heatmap": [
           {
            "colorbar": {
             "outlinewidth": 0,
             "ticks": ""
            },
            "colorscale": [
             [
              0,
              "#0d0887"
             ],
             [
              0.1111111111111111,
              "#46039f"
             ],
             [
              0.2222222222222222,
              "#7201a8"
             ],
             [
              0.3333333333333333,
              "#9c179e"
             ],
             [
              0.4444444444444444,
              "#bd3786"
             ],
             [
              0.5555555555555556,
              "#d8576b"
             ],
             [
              0.6666666666666666,
              "#ed7953"
             ],
             [
              0.7777777777777778,
              "#fb9f3a"
             ],
             [
              0.8888888888888888,
              "#fdca26"
             ],
             [
              1,
              "#f0f921"
             ]
            ],
            "type": "heatmap"
           }
          ],
          "heatmapgl": [
           {
            "colorbar": {
             "outlinewidth": 0,
             "ticks": ""
            },
            "colorscale": [
             [
              0,
              "#0d0887"
             ],
             [
              0.1111111111111111,
              "#46039f"
             ],
             [
              0.2222222222222222,
              "#7201a8"
             ],
             [
              0.3333333333333333,
              "#9c179e"
             ],
             [
              0.4444444444444444,
              "#bd3786"
             ],
             [
              0.5555555555555556,
              "#d8576b"
             ],
             [
              0.6666666666666666,
              "#ed7953"
             ],
             [
              0.7777777777777778,
              "#fb9f3a"
             ],
             [
              0.8888888888888888,
              "#fdca26"
             ],
             [
              1,
              "#f0f921"
             ]
            ],
            "type": "heatmapgl"
           }
          ],
          "histogram": [
           {
            "marker": {
             "colorbar": {
              "outlinewidth": 0,
              "ticks": ""
             }
            },
            "type": "histogram"
           }
          ],
          "histogram2d": [
           {
            "colorbar": {
             "outlinewidth": 0,
             "ticks": ""
            },
            "colorscale": [
             [
              0,
              "#0d0887"
             ],
             [
              0.1111111111111111,
              "#46039f"
             ],
             [
              0.2222222222222222,
              "#7201a8"
             ],
             [
              0.3333333333333333,
              "#9c179e"
             ],
             [
              0.4444444444444444,
              "#bd3786"
             ],
             [
              0.5555555555555556,
              "#d8576b"
             ],
             [
              0.6666666666666666,
              "#ed7953"
             ],
             [
              0.7777777777777778,
              "#fb9f3a"
             ],
             [
              0.8888888888888888,
              "#fdca26"
             ],
             [
              1,
              "#f0f921"
             ]
            ],
            "type": "histogram2d"
           }
          ],
          "histogram2dcontour": [
           {
            "colorbar": {
             "outlinewidth": 0,
             "ticks": ""
            },
            "colorscale": [
             [
              0,
              "#0d0887"
             ],
             [
              0.1111111111111111,
              "#46039f"
             ],
             [
              0.2222222222222222,
              "#7201a8"
             ],
             [
              0.3333333333333333,
              "#9c179e"
             ],
             [
              0.4444444444444444,
              "#bd3786"
             ],
             [
              0.5555555555555556,
              "#d8576b"
             ],
             [
              0.6666666666666666,
              "#ed7953"
             ],
             [
              0.7777777777777778,
              "#fb9f3a"
             ],
             [
              0.8888888888888888,
              "#fdca26"
             ],
             [
              1,
              "#f0f921"
             ]
            ],
            "type": "histogram2dcontour"
           }
          ],
          "mesh3d": [
           {
            "colorbar": {
             "outlinewidth": 0,
             "ticks": ""
            },
            "type": "mesh3d"
           }
          ],
          "parcoords": [
           {
            "line": {
             "colorbar": {
              "outlinewidth": 0,
              "ticks": ""
             }
            },
            "type": "parcoords"
           }
          ],
          "pie": [
           {
            "automargin": true,
            "type": "pie"
           }
          ],
          "scatter": [
           {
            "marker": {
             "colorbar": {
              "outlinewidth": 0,
              "ticks": ""
             }
            },
            "type": "scatter"
           }
          ],
          "scatter3d": [
           {
            "line": {
             "colorbar": {
              "outlinewidth": 0,
              "ticks": ""
             }
            },
            "marker": {
             "colorbar": {
              "outlinewidth": 0,
              "ticks": ""
             }
            },
            "type": "scatter3d"
           }
          ],
          "scattercarpet": [
           {
            "marker": {
             "colorbar": {
              "outlinewidth": 0,
              "ticks": ""
             }
            },
            "type": "scattercarpet"
           }
          ],
          "scattergeo": [
           {
            "marker": {
             "colorbar": {
              "outlinewidth": 0,
              "ticks": ""
             }
            },
            "type": "scattergeo"
           }
          ],
          "scattergl": [
           {
            "marker": {
             "colorbar": {
              "outlinewidth": 0,
              "ticks": ""
             }
            },
            "type": "scattergl"
           }
          ],
          "scattermapbox": [
           {
            "marker": {
             "colorbar": {
              "outlinewidth": 0,
              "ticks": ""
             }
            },
            "type": "scattermapbox"
           }
          ],
          "scatterpolar": [
           {
            "marker": {
             "colorbar": {
              "outlinewidth": 0,
              "ticks": ""
             }
            },
            "type": "scatterpolar"
           }
          ],
          "scatterpolargl": [
           {
            "marker": {
             "colorbar": {
              "outlinewidth": 0,
              "ticks": ""
             }
            },
            "type": "scatterpolargl"
           }
          ],
          "scatterternary": [
           {
            "marker": {
             "colorbar": {
              "outlinewidth": 0,
              "ticks": ""
             }
            },
            "type": "scatterternary"
           }
          ],
          "surface": [
           {
            "colorbar": {
             "outlinewidth": 0,
             "ticks": ""
            },
            "colorscale": [
             [
              0,
              "#0d0887"
             ],
             [
              0.1111111111111111,
              "#46039f"
             ],
             [
              0.2222222222222222,
              "#7201a8"
             ],
             [
              0.3333333333333333,
              "#9c179e"
             ],
             [
              0.4444444444444444,
              "#bd3786"
             ],
             [
              0.5555555555555556,
              "#d8576b"
             ],
             [
              0.6666666666666666,
              "#ed7953"
             ],
             [
              0.7777777777777778,
              "#fb9f3a"
             ],
             [
              0.8888888888888888,
              "#fdca26"
             ],
             [
              1,
              "#f0f921"
             ]
            ],
            "type": "surface"
           }
          ],
          "table": [
           {
            "cells": {
             "fill": {
              "color": "#EBF0F8"
             },
             "line": {
              "color": "white"
             }
            },
            "header": {
             "fill": {
              "color": "#C8D4E3"
             },
             "line": {
              "color": "white"
             }
            },
            "type": "table"
           }
          ]
         },
         "layout": {
          "annotationdefaults": {
           "arrowcolor": "#2a3f5f",
           "arrowhead": 0,
           "arrowwidth": 1
          },
          "coloraxis": {
           "colorbar": {
            "outlinewidth": 0,
            "ticks": ""
           }
          },
          "colorscale": {
           "diverging": [
            [
             0,
             "#8e0152"
            ],
            [
             0.1,
             "#c51b7d"
            ],
            [
             0.2,
             "#de77ae"
            ],
            [
             0.3,
             "#f1b6da"
            ],
            [
             0.4,
             "#fde0ef"
            ],
            [
             0.5,
             "#f7f7f7"
            ],
            [
             0.6,
             "#e6f5d0"
            ],
            [
             0.7,
             "#b8e186"
            ],
            [
             0.8,
             "#7fbc41"
            ],
            [
             0.9,
             "#4d9221"
            ],
            [
             1,
             "#276419"
            ]
           ],
           "sequential": [
            [
             0,
             "#0d0887"
            ],
            [
             0.1111111111111111,
             "#46039f"
            ],
            [
             0.2222222222222222,
             "#7201a8"
            ],
            [
             0.3333333333333333,
             "#9c179e"
            ],
            [
             0.4444444444444444,
             "#bd3786"
            ],
            [
             0.5555555555555556,
             "#d8576b"
            ],
            [
             0.6666666666666666,
             "#ed7953"
            ],
            [
             0.7777777777777778,
             "#fb9f3a"
            ],
            [
             0.8888888888888888,
             "#fdca26"
            ],
            [
             1,
             "#f0f921"
            ]
           ],
           "sequentialminus": [
            [
             0,
             "#0d0887"
            ],
            [
             0.1111111111111111,
             "#46039f"
            ],
            [
             0.2222222222222222,
             "#7201a8"
            ],
            [
             0.3333333333333333,
             "#9c179e"
            ],
            [
             0.4444444444444444,
             "#bd3786"
            ],
            [
             0.5555555555555556,
             "#d8576b"
            ],
            [
             0.6666666666666666,
             "#ed7953"
            ],
            [
             0.7777777777777778,
             "#fb9f3a"
            ],
            [
             0.8888888888888888,
             "#fdca26"
            ],
            [
             1,
             "#f0f921"
            ]
           ]
          },
          "colorway": [
           "#636efa",
           "#EF553B",
           "#00cc96",
           "#ab63fa",
           "#FFA15A",
           "#19d3f3",
           "#FF6692",
           "#B6E880",
           "#FF97FF",
           "#FECB52"
          ],
          "font": {
           "color": "#2a3f5f"
          },
          "geo": {
           "bgcolor": "white",
           "lakecolor": "white",
           "landcolor": "#E5ECF6",
           "showlakes": true,
           "showland": true,
           "subunitcolor": "white"
          },
          "hoverlabel": {
           "align": "left"
          },
          "hovermode": "closest",
          "mapbox": {
           "style": "light"
          },
          "paper_bgcolor": "white",
          "plot_bgcolor": "#E5ECF6",
          "polar": {
           "angularaxis": {
            "gridcolor": "white",
            "linecolor": "white",
            "ticks": ""
           },
           "bgcolor": "#E5ECF6",
           "radialaxis": {
            "gridcolor": "white",
            "linecolor": "white",
            "ticks": ""
           }
          },
          "scene": {
           "xaxis": {
            "backgroundcolor": "#E5ECF6",
            "gridcolor": "white",
            "gridwidth": 2,
            "linecolor": "white",
            "showbackground": true,
            "ticks": "",
            "zerolinecolor": "white"
           },
           "yaxis": {
            "backgroundcolor": "#E5ECF6",
            "gridcolor": "white",
            "gridwidth": 2,
            "linecolor": "white",
            "showbackground": true,
            "ticks": "",
            "zerolinecolor": "white"
           },
           "zaxis": {
            "backgroundcolor": "#E5ECF6",
            "gridcolor": "white",
            "gridwidth": 2,
            "linecolor": "white",
            "showbackground": true,
            "ticks": "",
            "zerolinecolor": "white"
           }
          },
          "shapedefaults": {
           "line": {
            "color": "#2a3f5f"
           }
          },
          "ternary": {
           "aaxis": {
            "gridcolor": "white",
            "linecolor": "white",
            "ticks": ""
           },
           "baxis": {
            "gridcolor": "white",
            "linecolor": "white",
            "ticks": ""
           },
           "bgcolor": "#E5ECF6",
           "caxis": {
            "gridcolor": "white",
            "linecolor": "white",
            "ticks": ""
           }
          },
          "title": {
           "x": 0.05
          },
          "xaxis": {
           "automargin": true,
           "gridcolor": "white",
           "linecolor": "white",
           "ticks": "",
           "title": {
            "standoff": 15
           },
           "zerolinecolor": "white",
           "zerolinewidth": 2
          },
          "yaxis": {
           "automargin": true,
           "gridcolor": "white",
           "linecolor": "white",
           "ticks": "",
           "title": {
            "standoff": 15
           },
           "zerolinecolor": "white",
           "zerolinewidth": 2
          }
         }
        },
        "title": {
         "font": {
          "color": "#4D5663"
         }
        },
        "xaxis": {
         "gridcolor": "#E1E5ED",
         "showgrid": true,
         "tickfont": {
          "color": "#4D5663"
         },
         "title": {
          "font": {
           "color": "#4D5663"
          },
          "text": ""
         },
         "zerolinecolor": "#E1E5ED"
        },
        "yaxis": {
         "gridcolor": "#E1E5ED",
         "showgrid": true,
         "tickfont": {
          "color": "#4D5663"
         },
         "title": {
          "font": {
           "color": "#4D5663"
          },
          "text": ""
         },
         "zerolinecolor": "#E1E5ED"
        }
       }
      },
      "text/html": [
       "<div>\n",
       "        \n",
       "        \n",
       "            <div id=\"e7f92e03-d73c-4b2e-bbf0-c78f4b72daf6\" class=\"plotly-graph-div\" style=\"height:525px; width:100%;\"></div>\n",
       "            <script type=\"text/javascript\">\n",
       "                require([\"plotly\"], function(Plotly) {\n",
       "                    window.PLOTLYENV=window.PLOTLYENV || {};\n",
       "                    window.PLOTLYENV.BASE_URL='https://plot.ly';\n",
       "                    \n",
       "                if (document.getElementById(\"e7f92e03-d73c-4b2e-bbf0-c78f4b72daf6\")) {\n",
       "                    Plotly.newPlot(\n",
       "                        'e7f92e03-d73c-4b2e-bbf0-c78f4b72daf6',\n",
       "                        [{\"line\": {\"color\": \"rgba(255, 153, 51, 1.0)\", \"dash\": \"solid\", \"shape\": \"linear\", \"width\": 1.3}, \"marker\": {\"size\": 10, \"symbol\": \"circle\"}, \"mode\": \"markers\", \"name\": \"B\", \"text\": \"\", \"type\": \"scatter\", \"x\": [-1.1297880804810116, 0.8909558868026678, -2.4674677078075615, 1.4668865210388036, 0.052099141553544316, -0.5841535222972922, -0.14407291051779864, -0.24146519801740043, 1.4089883014072808, 0.1698379991335825, 1.6725669615460745, -1.1871638982625938, 0.2500685582684525, -0.9075758091792991, 1.5794840063606157, -0.7154693249447941, 0.6710461976159192, -1.3138617132611679, -0.08715365767208498, 0.6817437501923307, 0.15963287076171498, -1.4284907475179551, 0.7623270744081148, 0.4827609399382711, 1.143843875728672, 0.732765341739219, 0.4769246929115, 0.5207809911732241, -0.6943426027267315, 2.527205168129635, 0.3110536263670157, -1.586564155923283, 0.2325845898667768, 0.14942062616814708, -0.7557765018970091, 2.46078286011467, -1.5864772813918784, 1.0868295448269554, 0.29730223763112135, 0.9330617358105876, 1.3209758315752207, -0.7257746662786452, 0.6223215905979733, 0.9545355565512028, -0.5651734999398752, -0.8323343740748262, -1.529421653815974, -0.5637293068459186, 1.3747593870565984, 1.4629258937978542, -1.2437710994346372, 1.1528387183185471, -0.7646733650685583, -0.12980482941361793, 0.8460466553233116, -0.13679977098484716, 1.3171725454303962, -0.8524969706000572, -0.7896774042673815, 0.30161696428573564, -1.1882742305542269, -0.15889754303574397, 0.8698986288529447, -0.9964530436083726, 0.4100165481373722, -0.4128453281010694, 1.4406077576302683, 1.6011651067675756, -3.3597780905476684, -1.3769568088285187, 1.2177632525884357, -0.14126371111306843, -0.3721476282966241, -1.96760916128469, 0.5213989068129281, -1.453423528558044, 0.3946037066457429, 0.8585996691985393, 0.9237916704788649, 0.3137707208702481, 0.9861633281572418, 0.8940523501948491, 1.300507308282935, 0.769636332141642, 0.599535573702335, -1.8921465187792665, 0.7351759459424257, -0.5245244935897746, 0.41125483420132225, -0.4747146631281052, 0.5430255920252014, -0.8615301256799931, 0.685280739134256, 1.3824752940241554, 0.4691203694022939, 0.2969347029971788, 0.17527373402249957, -0.2664598834122682, -1.0603267101266096, 1.2585999049100745], \"y\": [-0.12402007023132434, 0.16105615677002622, 0.023188958701885184, 1.3365766040123495, -1.524892413949562, -1.2841507820438276, 1.453386751286277, 0.18175721164363973, 0.319433640867433, -0.3839768199018055, -1.1032762054402279, -0.037550265782773054, 0.6526531412240898, 1.624937766501667, 1.3347744992777684, -0.34618031920085374, 1.789230219031507, 2.0815389133971967, 1.1552149582137499, 2.601022664007055, 0.7373289608257685, 0.9653657279013573, -0.7141811226367676, -1.5857012600671005, -0.9698880744594625, 1.0629314379178578, 0.3665188577639023, 1.8575226132892655, 0.2810123749569547, 1.0834506863250117, 1.5852384708343445, -1.0821690461594273, 0.45034497515428173, 0.16595132541359575, -0.2837809115954148, -0.5321305547195403, 0.42052444763312613, -0.8638272574567947, -0.1356330350490318, -0.2861953892593525, 0.2987680728920157, -0.7901164099395227, -0.07239267449567097, 0.14885628381591193, -0.15562696332212675, 1.421970514039125, -0.10009080252734245, -2.6887592763650754, 0.523307575152354, 1.839188917214292, -0.31767820041569567, 1.1392661859719995, 1.1126897470779902, -1.4431765471300466, -1.3226216565575393, 1.3061871872446182, -1.2695506775987795, -1.3531008486561023, -0.6190758570607968, -1.6607885320505178, 1.0267781939675455, 0.3332289719972668, 0.4680130394047356, 0.8889197448462989, -1.5825366658785764, -1.3291572534664713, 1.0765003834875582, 0.8441869284582593, -0.49514397185949505, 0.03929643743827132, -0.12982509182576335, 0.9563009984004562, 1.9202450190710358, 0.24483401982736028, 0.10525084048866817, 0.8816366460958016, 1.3465250686822723, -0.21035831042571124, -0.6113086931308005, -1.19868474947971, 0.15785117287865072, -1.031686073119976, 0.1391364456318884, 0.16690430657337105, -1.6588925821515055, 0.5213841464387718, -0.915816274620897, 1.1229320056801422, 0.08918793278246169, -0.379028223962969, -1.591593730810941, 0.5208149612876775, 1.325421610769011, 0.9083172720366367, 0.06163858333894556, 0.14276444823432247, -0.24183087477167728, 2.1473916282420014, 1.2534007307159707, -0.6942650652204457]}],\n",
       "                        {\"legend\": {\"bgcolor\": \"#F5F6F9\", \"font\": {\"color\": \"#4D5663\"}}, \"paper_bgcolor\": \"#F5F6F9\", \"plot_bgcolor\": \"#F5F6F9\", \"template\": {\"data\": {\"bar\": [{\"error_x\": {\"color\": \"#2a3f5f\"}, \"error_y\": {\"color\": \"#2a3f5f\"}, \"marker\": {\"line\": {\"color\": \"#E5ECF6\", \"width\": 0.5}}, \"type\": \"bar\"}], \"barpolar\": [{\"marker\": {\"line\": {\"color\": \"#E5ECF6\", \"width\": 0.5}}, \"type\": \"barpolar\"}], \"carpet\": [{\"aaxis\": {\"endlinecolor\": \"#2a3f5f\", \"gridcolor\": \"white\", \"linecolor\": \"white\", \"minorgridcolor\": \"white\", \"startlinecolor\": \"#2a3f5f\"}, \"baxis\": {\"endlinecolor\": \"#2a3f5f\", \"gridcolor\": \"white\", \"linecolor\": \"white\", \"minorgridcolor\": \"white\", \"startlinecolor\": \"#2a3f5f\"}, \"type\": \"carpet\"}], \"choropleth\": [{\"colorbar\": {\"outlinewidth\": 0, \"ticks\": \"\"}, \"type\": \"choropleth\"}], \"contour\": [{\"colorbar\": {\"outlinewidth\": 0, \"ticks\": \"\"}, \"colorscale\": [[0.0, \"#0d0887\"], [0.1111111111111111, \"#46039f\"], [0.2222222222222222, \"#7201a8\"], [0.3333333333333333, \"#9c179e\"], [0.4444444444444444, \"#bd3786\"], [0.5555555555555556, \"#d8576b\"], [0.6666666666666666, \"#ed7953\"], [0.7777777777777778, \"#fb9f3a\"], [0.8888888888888888, \"#fdca26\"], [1.0, \"#f0f921\"]], \"type\": \"contour\"}], \"contourcarpet\": [{\"colorbar\": {\"outlinewidth\": 0, \"ticks\": \"\"}, \"type\": \"contourcarpet\"}], \"heatmap\": [{\"colorbar\": {\"outlinewidth\": 0, \"ticks\": \"\"}, \"colorscale\": [[0.0, \"#0d0887\"], [0.1111111111111111, \"#46039f\"], [0.2222222222222222, \"#7201a8\"], [0.3333333333333333, \"#9c179e\"], [0.4444444444444444, \"#bd3786\"], [0.5555555555555556, \"#d8576b\"], [0.6666666666666666, \"#ed7953\"], [0.7777777777777778, \"#fb9f3a\"], [0.8888888888888888, \"#fdca26\"], [1.0, \"#f0f921\"]], \"type\": \"heatmap\"}], \"heatmapgl\": [{\"colorbar\": {\"outlinewidth\": 0, \"ticks\": \"\"}, \"colorscale\": [[0.0, \"#0d0887\"], [0.1111111111111111, \"#46039f\"], [0.2222222222222222, \"#7201a8\"], [0.3333333333333333, \"#9c179e\"], [0.4444444444444444, \"#bd3786\"], [0.5555555555555556, \"#d8576b\"], [0.6666666666666666, \"#ed7953\"], [0.7777777777777778, \"#fb9f3a\"], [0.8888888888888888, \"#fdca26\"], [1.0, \"#f0f921\"]], \"type\": \"heatmapgl\"}], \"histogram\": [{\"marker\": {\"colorbar\": {\"outlinewidth\": 0, \"ticks\": \"\"}}, \"type\": \"histogram\"}], \"histogram2d\": [{\"colorbar\": {\"outlinewidth\": 0, \"ticks\": \"\"}, \"colorscale\": [[0.0, \"#0d0887\"], [0.1111111111111111, \"#46039f\"], [0.2222222222222222, \"#7201a8\"], [0.3333333333333333, \"#9c179e\"], [0.4444444444444444, \"#bd3786\"], [0.5555555555555556, \"#d8576b\"], [0.6666666666666666, \"#ed7953\"], [0.7777777777777778, \"#fb9f3a\"], [0.8888888888888888, \"#fdca26\"], [1.0, \"#f0f921\"]], \"type\": \"histogram2d\"}], \"histogram2dcontour\": [{\"colorbar\": {\"outlinewidth\": 0, \"ticks\": \"\"}, \"colorscale\": [[0.0, \"#0d0887\"], [0.1111111111111111, \"#46039f\"], [0.2222222222222222, \"#7201a8\"], [0.3333333333333333, \"#9c179e\"], [0.4444444444444444, \"#bd3786\"], [0.5555555555555556, \"#d8576b\"], [0.6666666666666666, \"#ed7953\"], [0.7777777777777778, \"#fb9f3a\"], [0.8888888888888888, \"#fdca26\"], [1.0, \"#f0f921\"]], \"type\": \"histogram2dcontour\"}], \"mesh3d\": [{\"colorbar\": {\"outlinewidth\": 0, \"ticks\": \"\"}, \"type\": \"mesh3d\"}], \"parcoords\": [{\"line\": {\"colorbar\": {\"outlinewidth\": 0, \"ticks\": \"\"}}, \"type\": \"parcoords\"}], \"pie\": [{\"automargin\": true, \"type\": \"pie\"}], \"scatter\": [{\"marker\": {\"colorbar\": {\"outlinewidth\": 0, \"ticks\": \"\"}}, \"type\": \"scatter\"}], \"scatter3d\": [{\"line\": {\"colorbar\": {\"outlinewidth\": 0, \"ticks\": \"\"}}, \"marker\": {\"colorbar\": {\"outlinewidth\": 0, \"ticks\": \"\"}}, \"type\": \"scatter3d\"}], \"scattercarpet\": [{\"marker\": {\"colorbar\": {\"outlinewidth\": 0, \"ticks\": \"\"}}, \"type\": \"scattercarpet\"}], \"scattergeo\": [{\"marker\": {\"colorbar\": {\"outlinewidth\": 0, \"ticks\": \"\"}}, \"type\": \"scattergeo\"}], \"scattergl\": [{\"marker\": {\"colorbar\": {\"outlinewidth\": 0, \"ticks\": \"\"}}, \"type\": \"scattergl\"}], \"scattermapbox\": [{\"marker\": {\"colorbar\": {\"outlinewidth\": 0, \"ticks\": \"\"}}, \"type\": \"scattermapbox\"}], \"scatterpolar\": [{\"marker\": {\"colorbar\": {\"outlinewidth\": 0, \"ticks\": \"\"}}, \"type\": \"scatterpolar\"}], \"scatterpolargl\": [{\"marker\": {\"colorbar\": {\"outlinewidth\": 0, \"ticks\": \"\"}}, \"type\": \"scatterpolargl\"}], \"scatterternary\": [{\"marker\": {\"colorbar\": {\"outlinewidth\": 0, \"ticks\": \"\"}}, \"type\": \"scatterternary\"}], \"surface\": [{\"colorbar\": {\"outlinewidth\": 0, \"ticks\": \"\"}, \"colorscale\": [[0.0, \"#0d0887\"], [0.1111111111111111, \"#46039f\"], [0.2222222222222222, \"#7201a8\"], [0.3333333333333333, \"#9c179e\"], [0.4444444444444444, \"#bd3786\"], [0.5555555555555556, \"#d8576b\"], [0.6666666666666666, \"#ed7953\"], [0.7777777777777778, \"#fb9f3a\"], [0.8888888888888888, \"#fdca26\"], [1.0, \"#f0f921\"]], \"type\": \"surface\"}], \"table\": [{\"cells\": {\"fill\": {\"color\": \"#EBF0F8\"}, \"line\": {\"color\": \"white\"}}, \"header\": {\"fill\": {\"color\": \"#C8D4E3\"}, \"line\": {\"color\": \"white\"}}, \"type\": \"table\"}]}, \"layout\": {\"annotationdefaults\": {\"arrowcolor\": \"#2a3f5f\", \"arrowhead\": 0, \"arrowwidth\": 1}, \"coloraxis\": {\"colorbar\": {\"outlinewidth\": 0, \"ticks\": \"\"}}, \"colorscale\": {\"diverging\": [[0, \"#8e0152\"], [0.1, \"#c51b7d\"], [0.2, \"#de77ae\"], [0.3, \"#f1b6da\"], [0.4, \"#fde0ef\"], [0.5, \"#f7f7f7\"], [0.6, \"#e6f5d0\"], [0.7, \"#b8e186\"], [0.8, \"#7fbc41\"], [0.9, \"#4d9221\"], [1, \"#276419\"]], \"sequential\": [[0.0, \"#0d0887\"], [0.1111111111111111, \"#46039f\"], [0.2222222222222222, \"#7201a8\"], [0.3333333333333333, \"#9c179e\"], [0.4444444444444444, \"#bd3786\"], [0.5555555555555556, \"#d8576b\"], [0.6666666666666666, \"#ed7953\"], [0.7777777777777778, \"#fb9f3a\"], [0.8888888888888888, \"#fdca26\"], [1.0, \"#f0f921\"]], \"sequentialminus\": [[0.0, \"#0d0887\"], [0.1111111111111111, \"#46039f\"], [0.2222222222222222, \"#7201a8\"], [0.3333333333333333, \"#9c179e\"], [0.4444444444444444, \"#bd3786\"], [0.5555555555555556, \"#d8576b\"], [0.6666666666666666, \"#ed7953\"], [0.7777777777777778, \"#fb9f3a\"], [0.8888888888888888, \"#fdca26\"], [1.0, \"#f0f921\"]]}, \"colorway\": [\"#636efa\", \"#EF553B\", \"#00cc96\", \"#ab63fa\", \"#FFA15A\", \"#19d3f3\", \"#FF6692\", \"#B6E880\", \"#FF97FF\", \"#FECB52\"], \"font\": {\"color\": \"#2a3f5f\"}, \"geo\": {\"bgcolor\": \"white\", \"lakecolor\": \"white\", \"landcolor\": \"#E5ECF6\", \"showlakes\": true, \"showland\": true, \"subunitcolor\": \"white\"}, \"hoverlabel\": {\"align\": \"left\"}, \"hovermode\": \"closest\", \"mapbox\": {\"style\": \"light\"}, \"paper_bgcolor\": \"white\", \"plot_bgcolor\": \"#E5ECF6\", \"polar\": {\"angularaxis\": {\"gridcolor\": \"white\", \"linecolor\": \"white\", \"ticks\": \"\"}, \"bgcolor\": \"#E5ECF6\", \"radialaxis\": {\"gridcolor\": \"white\", \"linecolor\": \"white\", \"ticks\": \"\"}}, \"scene\": {\"xaxis\": {\"backgroundcolor\": \"#E5ECF6\", \"gridcolor\": \"white\", \"gridwidth\": 2, \"linecolor\": \"white\", \"showbackground\": true, \"ticks\": \"\", \"zerolinecolor\": \"white\"}, \"yaxis\": {\"backgroundcolor\": \"#E5ECF6\", \"gridcolor\": \"white\", \"gridwidth\": 2, \"linecolor\": \"white\", \"showbackground\": true, \"ticks\": \"\", \"zerolinecolor\": \"white\"}, \"zaxis\": {\"backgroundcolor\": \"#E5ECF6\", \"gridcolor\": \"white\", \"gridwidth\": 2, \"linecolor\": \"white\", \"showbackground\": true, \"ticks\": \"\", \"zerolinecolor\": \"white\"}}, \"shapedefaults\": {\"line\": {\"color\": \"#2a3f5f\"}}, \"ternary\": {\"aaxis\": {\"gridcolor\": \"white\", \"linecolor\": \"white\", \"ticks\": \"\"}, \"baxis\": {\"gridcolor\": \"white\", \"linecolor\": \"white\", \"ticks\": \"\"}, \"bgcolor\": \"#E5ECF6\", \"caxis\": {\"gridcolor\": \"white\", \"linecolor\": \"white\", \"ticks\": \"\"}}, \"title\": {\"x\": 0.05}, \"xaxis\": {\"automargin\": true, \"gridcolor\": \"white\", \"linecolor\": \"white\", \"ticks\": \"\", \"title\": {\"standoff\": 15}, \"zerolinecolor\": \"white\", \"zerolinewidth\": 2}, \"yaxis\": {\"automargin\": true, \"gridcolor\": \"white\", \"linecolor\": \"white\", \"ticks\": \"\", \"title\": {\"standoff\": 15}, \"zerolinecolor\": \"white\", \"zerolinewidth\": 2}}}, \"title\": {\"font\": {\"color\": \"#4D5663\"}}, \"xaxis\": {\"gridcolor\": \"#E1E5ED\", \"showgrid\": true, \"tickfont\": {\"color\": \"#4D5663\"}, \"title\": {\"font\": {\"color\": \"#4D5663\"}, \"text\": \"\"}, \"zerolinecolor\": \"#E1E5ED\"}, \"yaxis\": {\"gridcolor\": \"#E1E5ED\", \"showgrid\": true, \"tickfont\": {\"color\": \"#4D5663\"}, \"title\": {\"font\": {\"color\": \"#4D5663\"}, \"text\": \"\"}, \"zerolinecolor\": \"#E1E5ED\"}},\n",
       "                        {\"showLink\": true, \"linkText\": \"Export to plot.ly\", \"plotlyServerURL\": \"https://plot.ly\", \"responsive\": true}\n",
       "                    ).then(function(){\n",
       "                            \n",
       "var gd = document.getElementById('e7f92e03-d73c-4b2e-bbf0-c78f4b72daf6');\n",
       "var x = new MutationObserver(function (mutations, observer) {{\n",
       "        var display = window.getComputedStyle(gd).display;\n",
       "        if (!display || display === 'none') {{\n",
       "            console.log([gd, 'removed!']);\n",
       "            Plotly.purge(gd);\n",
       "            observer.disconnect();\n",
       "        }}\n",
       "}});\n",
       "\n",
       "// Listen for the removal of the full notebook cells\n",
       "var notebookContainer = gd.closest('#notebook-container');\n",
       "if (notebookContainer) {{\n",
       "    x.observe(notebookContainer, {childList: true});\n",
       "}}\n",
       "\n",
       "// Listen for the clearing of the current output cell\n",
       "var outputEl = gd.closest('.output');\n",
       "if (outputEl) {{\n",
       "    x.observe(outputEl, {childList: true});\n",
       "}}\n",
       "\n",
       "                        })\n",
       "                };\n",
       "                });\n",
       "            </script>\n",
       "        </div>"
      ]
     },
     "metadata": {},
     "output_type": "display_data"
    }
   ],
   "source": [
    "# plot x='A', y='B'"
   ]
  },
  {
   "cell_type": "code",
   "execution_count": 15,
   "metadata": {
    "Collapsed": "false"
   },
   "outputs": [
    {
     "data": {
      "application/vnd.plotly.v1+json": {
       "config": {
        "linkText": "Export to plot.ly",
        "plotlyServerURL": "https://plot.ly",
        "showLink": true
       },
       "data": [
        {
         "marker": {
          "color": "rgba(255, 153, 51, 0.6)",
          "line": {
           "color": "rgba(255, 153, 51, 1.0)",
           "width": 1
          }
         },
         "name": "Values",
         "orientation": "v",
         "text": "",
         "type": "bar",
         "x": [
          "A",
          "B",
          "C"
         ],
         "y": [
          32,
          43,
          50
         ]
        }
       ],
       "layout": {
        "legend": {
         "bgcolor": "#F5F6F9",
         "font": {
          "color": "#4D5663"
         }
        },
        "paper_bgcolor": "#F5F6F9",
        "plot_bgcolor": "#F5F6F9",
        "template": {
         "data": {
          "bar": [
           {
            "error_x": {
             "color": "#2a3f5f"
            },
            "error_y": {
             "color": "#2a3f5f"
            },
            "marker": {
             "line": {
              "color": "#E5ECF6",
              "width": 0.5
             }
            },
            "type": "bar"
           }
          ],
          "barpolar": [
           {
            "marker": {
             "line": {
              "color": "#E5ECF6",
              "width": 0.5
             }
            },
            "type": "barpolar"
           }
          ],
          "carpet": [
           {
            "aaxis": {
             "endlinecolor": "#2a3f5f",
             "gridcolor": "white",
             "linecolor": "white",
             "minorgridcolor": "white",
             "startlinecolor": "#2a3f5f"
            },
            "baxis": {
             "endlinecolor": "#2a3f5f",
             "gridcolor": "white",
             "linecolor": "white",
             "minorgridcolor": "white",
             "startlinecolor": "#2a3f5f"
            },
            "type": "carpet"
           }
          ],
          "choropleth": [
           {
            "colorbar": {
             "outlinewidth": 0,
             "ticks": ""
            },
            "type": "choropleth"
           }
          ],
          "contour": [
           {
            "colorbar": {
             "outlinewidth": 0,
             "ticks": ""
            },
            "colorscale": [
             [
              0,
              "#0d0887"
             ],
             [
              0.1111111111111111,
              "#46039f"
             ],
             [
              0.2222222222222222,
              "#7201a8"
             ],
             [
              0.3333333333333333,
              "#9c179e"
             ],
             [
              0.4444444444444444,
              "#bd3786"
             ],
             [
              0.5555555555555556,
              "#d8576b"
             ],
             [
              0.6666666666666666,
              "#ed7953"
             ],
             [
              0.7777777777777778,
              "#fb9f3a"
             ],
             [
              0.8888888888888888,
              "#fdca26"
             ],
             [
              1,
              "#f0f921"
             ]
            ],
            "type": "contour"
           }
          ],
          "contourcarpet": [
           {
            "colorbar": {
             "outlinewidth": 0,
             "ticks": ""
            },
            "type": "contourcarpet"
           }
          ],
          "heatmap": [
           {
            "colorbar": {
             "outlinewidth": 0,
             "ticks": ""
            },
            "colorscale": [
             [
              0,
              "#0d0887"
             ],
             [
              0.1111111111111111,
              "#46039f"
             ],
             [
              0.2222222222222222,
              "#7201a8"
             ],
             [
              0.3333333333333333,
              "#9c179e"
             ],
             [
              0.4444444444444444,
              "#bd3786"
             ],
             [
              0.5555555555555556,
              "#d8576b"
             ],
             [
              0.6666666666666666,
              "#ed7953"
             ],
             [
              0.7777777777777778,
              "#fb9f3a"
             ],
             [
              0.8888888888888888,
              "#fdca26"
             ],
             [
              1,
              "#f0f921"
             ]
            ],
            "type": "heatmap"
           }
          ],
          "heatmapgl": [
           {
            "colorbar": {
             "outlinewidth": 0,
             "ticks": ""
            },
            "colorscale": [
             [
              0,
              "#0d0887"
             ],
             [
              0.1111111111111111,
              "#46039f"
             ],
             [
              0.2222222222222222,
              "#7201a8"
             ],
             [
              0.3333333333333333,
              "#9c179e"
             ],
             [
              0.4444444444444444,
              "#bd3786"
             ],
             [
              0.5555555555555556,
              "#d8576b"
             ],
             [
              0.6666666666666666,
              "#ed7953"
             ],
             [
              0.7777777777777778,
              "#fb9f3a"
             ],
             [
              0.8888888888888888,
              "#fdca26"
             ],
             [
              1,
              "#f0f921"
             ]
            ],
            "type": "heatmapgl"
           }
          ],
          "histogram": [
           {
            "marker": {
             "colorbar": {
              "outlinewidth": 0,
              "ticks": ""
             }
            },
            "type": "histogram"
           }
          ],
          "histogram2d": [
           {
            "colorbar": {
             "outlinewidth": 0,
             "ticks": ""
            },
            "colorscale": [
             [
              0,
              "#0d0887"
             ],
             [
              0.1111111111111111,
              "#46039f"
             ],
             [
              0.2222222222222222,
              "#7201a8"
             ],
             [
              0.3333333333333333,
              "#9c179e"
             ],
             [
              0.4444444444444444,
              "#bd3786"
             ],
             [
              0.5555555555555556,
              "#d8576b"
             ],
             [
              0.6666666666666666,
              "#ed7953"
             ],
             [
              0.7777777777777778,
              "#fb9f3a"
             ],
             [
              0.8888888888888888,
              "#fdca26"
             ],
             [
              1,
              "#f0f921"
             ]
            ],
            "type": "histogram2d"
           }
          ],
          "histogram2dcontour": [
           {
            "colorbar": {
             "outlinewidth": 0,
             "ticks": ""
            },
            "colorscale": [
             [
              0,
              "#0d0887"
             ],
             [
              0.1111111111111111,
              "#46039f"
             ],
             [
              0.2222222222222222,
              "#7201a8"
             ],
             [
              0.3333333333333333,
              "#9c179e"
             ],
             [
              0.4444444444444444,
              "#bd3786"
             ],
             [
              0.5555555555555556,
              "#d8576b"
             ],
             [
              0.6666666666666666,
              "#ed7953"
             ],
             [
              0.7777777777777778,
              "#fb9f3a"
             ],
             [
              0.8888888888888888,
              "#fdca26"
             ],
             [
              1,
              "#f0f921"
             ]
            ],
            "type": "histogram2dcontour"
           }
          ],
          "mesh3d": [
           {
            "colorbar": {
             "outlinewidth": 0,
             "ticks": ""
            },
            "type": "mesh3d"
           }
          ],
          "parcoords": [
           {
            "line": {
             "colorbar": {
              "outlinewidth": 0,
              "ticks": ""
             }
            },
            "type": "parcoords"
           }
          ],
          "pie": [
           {
            "automargin": true,
            "type": "pie"
           }
          ],
          "scatter": [
           {
            "marker": {
             "colorbar": {
              "outlinewidth": 0,
              "ticks": ""
             }
            },
            "type": "scatter"
           }
          ],
          "scatter3d": [
           {
            "line": {
             "colorbar": {
              "outlinewidth": 0,
              "ticks": ""
             }
            },
            "marker": {
             "colorbar": {
              "outlinewidth": 0,
              "ticks": ""
             }
            },
            "type": "scatter3d"
           }
          ],
          "scattercarpet": [
           {
            "marker": {
             "colorbar": {
              "outlinewidth": 0,
              "ticks": ""
             }
            },
            "type": "scattercarpet"
           }
          ],
          "scattergeo": [
           {
            "marker": {
             "colorbar": {
              "outlinewidth": 0,
              "ticks": ""
             }
            },
            "type": "scattergeo"
           }
          ],
          "scattergl": [
           {
            "marker": {
             "colorbar": {
              "outlinewidth": 0,
              "ticks": ""
             }
            },
            "type": "scattergl"
           }
          ],
          "scattermapbox": [
           {
            "marker": {
             "colorbar": {
              "outlinewidth": 0,
              "ticks": ""
             }
            },
            "type": "scattermapbox"
           }
          ],
          "scatterpolar": [
           {
            "marker": {
             "colorbar": {
              "outlinewidth": 0,
              "ticks": ""
             }
            },
            "type": "scatterpolar"
           }
          ],
          "scatterpolargl": [
           {
            "marker": {
             "colorbar": {
              "outlinewidth": 0,
              "ticks": ""
             }
            },
            "type": "scatterpolargl"
           }
          ],
          "scatterternary": [
           {
            "marker": {
             "colorbar": {
              "outlinewidth": 0,
              "ticks": ""
             }
            },
            "type": "scatterternary"
           }
          ],
          "surface": [
           {
            "colorbar": {
             "outlinewidth": 0,
             "ticks": ""
            },
            "colorscale": [
             [
              0,
              "#0d0887"
             ],
             [
              0.1111111111111111,
              "#46039f"
             ],
             [
              0.2222222222222222,
              "#7201a8"
             ],
             [
              0.3333333333333333,
              "#9c179e"
             ],
             [
              0.4444444444444444,
              "#bd3786"
             ],
             [
              0.5555555555555556,
              "#d8576b"
             ],
             [
              0.6666666666666666,
              "#ed7953"
             ],
             [
              0.7777777777777778,
              "#fb9f3a"
             ],
             [
              0.8888888888888888,
              "#fdca26"
             ],
             [
              1,
              "#f0f921"
             ]
            ],
            "type": "surface"
           }
          ],
          "table": [
           {
            "cells": {
             "fill": {
              "color": "#EBF0F8"
             },
             "line": {
              "color": "white"
             }
            },
            "header": {
             "fill": {
              "color": "#C8D4E3"
             },
             "line": {
              "color": "white"
             }
            },
            "type": "table"
           }
          ]
         },
         "layout": {
          "annotationdefaults": {
           "arrowcolor": "#2a3f5f",
           "arrowhead": 0,
           "arrowwidth": 1
          },
          "coloraxis": {
           "colorbar": {
            "outlinewidth": 0,
            "ticks": ""
           }
          },
          "colorscale": {
           "diverging": [
            [
             0,
             "#8e0152"
            ],
            [
             0.1,
             "#c51b7d"
            ],
            [
             0.2,
             "#de77ae"
            ],
            [
             0.3,
             "#f1b6da"
            ],
            [
             0.4,
             "#fde0ef"
            ],
            [
             0.5,
             "#f7f7f7"
            ],
            [
             0.6,
             "#e6f5d0"
            ],
            [
             0.7,
             "#b8e186"
            ],
            [
             0.8,
             "#7fbc41"
            ],
            [
             0.9,
             "#4d9221"
            ],
            [
             1,
             "#276419"
            ]
           ],
           "sequential": [
            [
             0,
             "#0d0887"
            ],
            [
             0.1111111111111111,
             "#46039f"
            ],
            [
             0.2222222222222222,
             "#7201a8"
            ],
            [
             0.3333333333333333,
             "#9c179e"
            ],
            [
             0.4444444444444444,
             "#bd3786"
            ],
            [
             0.5555555555555556,
             "#d8576b"
            ],
            [
             0.6666666666666666,
             "#ed7953"
            ],
            [
             0.7777777777777778,
             "#fb9f3a"
            ],
            [
             0.8888888888888888,
             "#fdca26"
            ],
            [
             1,
             "#f0f921"
            ]
           ],
           "sequentialminus": [
            [
             0,
             "#0d0887"
            ],
            [
             0.1111111111111111,
             "#46039f"
            ],
            [
             0.2222222222222222,
             "#7201a8"
            ],
            [
             0.3333333333333333,
             "#9c179e"
            ],
            [
             0.4444444444444444,
             "#bd3786"
            ],
            [
             0.5555555555555556,
             "#d8576b"
            ],
            [
             0.6666666666666666,
             "#ed7953"
            ],
            [
             0.7777777777777778,
             "#fb9f3a"
            ],
            [
             0.8888888888888888,
             "#fdca26"
            ],
            [
             1,
             "#f0f921"
            ]
           ]
          },
          "colorway": [
           "#636efa",
           "#EF553B",
           "#00cc96",
           "#ab63fa",
           "#FFA15A",
           "#19d3f3",
           "#FF6692",
           "#B6E880",
           "#FF97FF",
           "#FECB52"
          ],
          "font": {
           "color": "#2a3f5f"
          },
          "geo": {
           "bgcolor": "white",
           "lakecolor": "white",
           "landcolor": "#E5ECF6",
           "showlakes": true,
           "showland": true,
           "subunitcolor": "white"
          },
          "hoverlabel": {
           "align": "left"
          },
          "hovermode": "closest",
          "mapbox": {
           "style": "light"
          },
          "paper_bgcolor": "white",
          "plot_bgcolor": "#E5ECF6",
          "polar": {
           "angularaxis": {
            "gridcolor": "white",
            "linecolor": "white",
            "ticks": ""
           },
           "bgcolor": "#E5ECF6",
           "radialaxis": {
            "gridcolor": "white",
            "linecolor": "white",
            "ticks": ""
           }
          },
          "scene": {
           "xaxis": {
            "backgroundcolor": "#E5ECF6",
            "gridcolor": "white",
            "gridwidth": 2,
            "linecolor": "white",
            "showbackground": true,
            "ticks": "",
            "zerolinecolor": "white"
           },
           "yaxis": {
            "backgroundcolor": "#E5ECF6",
            "gridcolor": "white",
            "gridwidth": 2,
            "linecolor": "white",
            "showbackground": true,
            "ticks": "",
            "zerolinecolor": "white"
           },
           "zaxis": {
            "backgroundcolor": "#E5ECF6",
            "gridcolor": "white",
            "gridwidth": 2,
            "linecolor": "white",
            "showbackground": true,
            "ticks": "",
            "zerolinecolor": "white"
           }
          },
          "shapedefaults": {
           "line": {
            "color": "#2a3f5f"
           }
          },
          "ternary": {
           "aaxis": {
            "gridcolor": "white",
            "linecolor": "white",
            "ticks": ""
           },
           "baxis": {
            "gridcolor": "white",
            "linecolor": "white",
            "ticks": ""
           },
           "bgcolor": "#E5ECF6",
           "caxis": {
            "gridcolor": "white",
            "linecolor": "white",
            "ticks": ""
           }
          },
          "title": {
           "x": 0.05
          },
          "xaxis": {
           "automargin": true,
           "gridcolor": "white",
           "linecolor": "white",
           "ticks": "",
           "title": {
            "standoff": 15
           },
           "zerolinecolor": "white",
           "zerolinewidth": 2
          },
          "yaxis": {
           "automargin": true,
           "gridcolor": "white",
           "linecolor": "white",
           "ticks": "",
           "title": {
            "standoff": 15
           },
           "zerolinecolor": "white",
           "zerolinewidth": 2
          }
         }
        },
        "title": {
         "font": {
          "color": "#4D5663"
         }
        },
        "xaxis": {
         "gridcolor": "#E1E5ED",
         "showgrid": true,
         "tickfont": {
          "color": "#4D5663"
         },
         "title": {
          "font": {
           "color": "#4D5663"
          },
          "text": ""
         },
         "zerolinecolor": "#E1E5ED"
        },
        "yaxis": {
         "gridcolor": "#E1E5ED",
         "showgrid": true,
         "tickfont": {
          "color": "#4D5663"
         },
         "title": {
          "font": {
           "color": "#4D5663"
          },
          "text": ""
         },
         "zerolinecolor": "#E1E5ED"
        }
       }
      },
      "text/html": [
       "<div>\n",
       "        \n",
       "        \n",
       "            <div id=\"a20e5184-67ed-40f6-a521-43d1e840b924\" class=\"plotly-graph-div\" style=\"height:525px; width:100%;\"></div>\n",
       "            <script type=\"text/javascript\">\n",
       "                require([\"plotly\"], function(Plotly) {\n",
       "                    window.PLOTLYENV=window.PLOTLYENV || {};\n",
       "                    window.PLOTLYENV.BASE_URL='https://plot.ly';\n",
       "                    \n",
       "                if (document.getElementById(\"a20e5184-67ed-40f6-a521-43d1e840b924\")) {\n",
       "                    Plotly.newPlot(\n",
       "                        'a20e5184-67ed-40f6-a521-43d1e840b924',\n",
       "                        [{\"marker\": {\"color\": \"rgba(255, 153, 51, 0.6)\", \"line\": {\"color\": \"rgba(255, 153, 51, 1.0)\", \"width\": 1}}, \"name\": \"Values\", \"orientation\": \"v\", \"text\": \"\", \"type\": \"bar\", \"x\": [\"A\", \"B\", \"C\"], \"y\": [32, 43, 50]}],\n",
       "                        {\"legend\": {\"bgcolor\": \"#F5F6F9\", \"font\": {\"color\": \"#4D5663\"}}, \"paper_bgcolor\": \"#F5F6F9\", \"plot_bgcolor\": \"#F5F6F9\", \"template\": {\"data\": {\"bar\": [{\"error_x\": {\"color\": \"#2a3f5f\"}, \"error_y\": {\"color\": \"#2a3f5f\"}, \"marker\": {\"line\": {\"color\": \"#E5ECF6\", \"width\": 0.5}}, \"type\": \"bar\"}], \"barpolar\": [{\"marker\": {\"line\": {\"color\": \"#E5ECF6\", \"width\": 0.5}}, \"type\": \"barpolar\"}], \"carpet\": [{\"aaxis\": {\"endlinecolor\": \"#2a3f5f\", \"gridcolor\": \"white\", \"linecolor\": \"white\", \"minorgridcolor\": \"white\", \"startlinecolor\": \"#2a3f5f\"}, \"baxis\": {\"endlinecolor\": \"#2a3f5f\", \"gridcolor\": \"white\", \"linecolor\": \"white\", \"minorgridcolor\": \"white\", \"startlinecolor\": \"#2a3f5f\"}, \"type\": \"carpet\"}], \"choropleth\": [{\"colorbar\": {\"outlinewidth\": 0, \"ticks\": \"\"}, \"type\": \"choropleth\"}], \"contour\": [{\"colorbar\": {\"outlinewidth\": 0, \"ticks\": \"\"}, \"colorscale\": [[0.0, \"#0d0887\"], [0.1111111111111111, \"#46039f\"], [0.2222222222222222, \"#7201a8\"], [0.3333333333333333, \"#9c179e\"], [0.4444444444444444, \"#bd3786\"], [0.5555555555555556, \"#d8576b\"], [0.6666666666666666, \"#ed7953\"], [0.7777777777777778, \"#fb9f3a\"], [0.8888888888888888, \"#fdca26\"], [1.0, \"#f0f921\"]], \"type\": \"contour\"}], \"contourcarpet\": [{\"colorbar\": {\"outlinewidth\": 0, \"ticks\": \"\"}, \"type\": \"contourcarpet\"}], \"heatmap\": [{\"colorbar\": {\"outlinewidth\": 0, \"ticks\": \"\"}, \"colorscale\": [[0.0, \"#0d0887\"], [0.1111111111111111, \"#46039f\"], [0.2222222222222222, \"#7201a8\"], [0.3333333333333333, \"#9c179e\"], [0.4444444444444444, \"#bd3786\"], [0.5555555555555556, \"#d8576b\"], [0.6666666666666666, \"#ed7953\"], [0.7777777777777778, \"#fb9f3a\"], [0.8888888888888888, \"#fdca26\"], [1.0, \"#f0f921\"]], \"type\": \"heatmap\"}], \"heatmapgl\": [{\"colorbar\": {\"outlinewidth\": 0, \"ticks\": \"\"}, \"colorscale\": [[0.0, \"#0d0887\"], [0.1111111111111111, \"#46039f\"], [0.2222222222222222, \"#7201a8\"], [0.3333333333333333, \"#9c179e\"], [0.4444444444444444, \"#bd3786\"], [0.5555555555555556, \"#d8576b\"], [0.6666666666666666, \"#ed7953\"], [0.7777777777777778, \"#fb9f3a\"], [0.8888888888888888, \"#fdca26\"], [1.0, \"#f0f921\"]], \"type\": \"heatmapgl\"}], \"histogram\": [{\"marker\": {\"colorbar\": {\"outlinewidth\": 0, \"ticks\": \"\"}}, \"type\": \"histogram\"}], \"histogram2d\": [{\"colorbar\": {\"outlinewidth\": 0, \"ticks\": \"\"}, \"colorscale\": [[0.0, \"#0d0887\"], [0.1111111111111111, \"#46039f\"], [0.2222222222222222, \"#7201a8\"], [0.3333333333333333, \"#9c179e\"], [0.4444444444444444, \"#bd3786\"], [0.5555555555555556, \"#d8576b\"], [0.6666666666666666, \"#ed7953\"], [0.7777777777777778, \"#fb9f3a\"], [0.8888888888888888, \"#fdca26\"], [1.0, \"#f0f921\"]], \"type\": \"histogram2d\"}], \"histogram2dcontour\": [{\"colorbar\": {\"outlinewidth\": 0, \"ticks\": \"\"}, \"colorscale\": [[0.0, \"#0d0887\"], [0.1111111111111111, \"#46039f\"], [0.2222222222222222, \"#7201a8\"], [0.3333333333333333, \"#9c179e\"], [0.4444444444444444, \"#bd3786\"], [0.5555555555555556, \"#d8576b\"], [0.6666666666666666, \"#ed7953\"], [0.7777777777777778, \"#fb9f3a\"], [0.8888888888888888, \"#fdca26\"], [1.0, \"#f0f921\"]], \"type\": \"histogram2dcontour\"}], \"mesh3d\": [{\"colorbar\": {\"outlinewidth\": 0, \"ticks\": \"\"}, \"type\": \"mesh3d\"}], \"parcoords\": [{\"line\": {\"colorbar\": {\"outlinewidth\": 0, \"ticks\": \"\"}}, \"type\": \"parcoords\"}], \"pie\": [{\"automargin\": true, \"type\": \"pie\"}], \"scatter\": [{\"marker\": {\"colorbar\": {\"outlinewidth\": 0, \"ticks\": \"\"}}, \"type\": \"scatter\"}], \"scatter3d\": [{\"line\": {\"colorbar\": {\"outlinewidth\": 0, \"ticks\": \"\"}}, \"marker\": {\"colorbar\": {\"outlinewidth\": 0, \"ticks\": \"\"}}, \"type\": \"scatter3d\"}], \"scattercarpet\": [{\"marker\": {\"colorbar\": {\"outlinewidth\": 0, \"ticks\": \"\"}}, \"type\": \"scattercarpet\"}], \"scattergeo\": [{\"marker\": {\"colorbar\": {\"outlinewidth\": 0, \"ticks\": \"\"}}, \"type\": \"scattergeo\"}], \"scattergl\": [{\"marker\": {\"colorbar\": {\"outlinewidth\": 0, \"ticks\": \"\"}}, \"type\": \"scattergl\"}], \"scattermapbox\": [{\"marker\": {\"colorbar\": {\"outlinewidth\": 0, \"ticks\": \"\"}}, \"type\": \"scattermapbox\"}], \"scatterpolar\": [{\"marker\": {\"colorbar\": {\"outlinewidth\": 0, \"ticks\": \"\"}}, \"type\": \"scatterpolar\"}], \"scatterpolargl\": [{\"marker\": {\"colorbar\": {\"outlinewidth\": 0, \"ticks\": \"\"}}, \"type\": \"scatterpolargl\"}], \"scatterternary\": [{\"marker\": {\"colorbar\": {\"outlinewidth\": 0, \"ticks\": \"\"}}, \"type\": \"scatterternary\"}], \"surface\": [{\"colorbar\": {\"outlinewidth\": 0, \"ticks\": \"\"}, \"colorscale\": [[0.0, \"#0d0887\"], [0.1111111111111111, \"#46039f\"], [0.2222222222222222, \"#7201a8\"], [0.3333333333333333, \"#9c179e\"], [0.4444444444444444, \"#bd3786\"], [0.5555555555555556, \"#d8576b\"], [0.6666666666666666, \"#ed7953\"], [0.7777777777777778, \"#fb9f3a\"], [0.8888888888888888, \"#fdca26\"], [1.0, \"#f0f921\"]], \"type\": \"surface\"}], \"table\": [{\"cells\": {\"fill\": {\"color\": \"#EBF0F8\"}, \"line\": {\"color\": \"white\"}}, \"header\": {\"fill\": {\"color\": \"#C8D4E3\"}, \"line\": {\"color\": \"white\"}}, \"type\": \"table\"}]}, \"layout\": {\"annotationdefaults\": {\"arrowcolor\": \"#2a3f5f\", \"arrowhead\": 0, \"arrowwidth\": 1}, \"coloraxis\": {\"colorbar\": {\"outlinewidth\": 0, \"ticks\": \"\"}}, \"colorscale\": {\"diverging\": [[0, \"#8e0152\"], [0.1, \"#c51b7d\"], [0.2, \"#de77ae\"], [0.3, \"#f1b6da\"], [0.4, \"#fde0ef\"], [0.5, \"#f7f7f7\"], [0.6, \"#e6f5d0\"], [0.7, \"#b8e186\"], [0.8, \"#7fbc41\"], [0.9, \"#4d9221\"], [1, \"#276419\"]], \"sequential\": [[0.0, \"#0d0887\"], [0.1111111111111111, \"#46039f\"], [0.2222222222222222, \"#7201a8\"], [0.3333333333333333, \"#9c179e\"], [0.4444444444444444, \"#bd3786\"], [0.5555555555555556, \"#d8576b\"], [0.6666666666666666, \"#ed7953\"], [0.7777777777777778, \"#fb9f3a\"], [0.8888888888888888, \"#fdca26\"], [1.0, \"#f0f921\"]], \"sequentialminus\": [[0.0, \"#0d0887\"], [0.1111111111111111, \"#46039f\"], [0.2222222222222222, \"#7201a8\"], [0.3333333333333333, \"#9c179e\"], [0.4444444444444444, \"#bd3786\"], [0.5555555555555556, \"#d8576b\"], [0.6666666666666666, \"#ed7953\"], [0.7777777777777778, \"#fb9f3a\"], [0.8888888888888888, \"#fdca26\"], [1.0, \"#f0f921\"]]}, \"colorway\": [\"#636efa\", \"#EF553B\", \"#00cc96\", \"#ab63fa\", \"#FFA15A\", \"#19d3f3\", \"#FF6692\", \"#B6E880\", \"#FF97FF\", \"#FECB52\"], \"font\": {\"color\": \"#2a3f5f\"}, \"geo\": {\"bgcolor\": \"white\", \"lakecolor\": \"white\", \"landcolor\": \"#E5ECF6\", \"showlakes\": true, \"showland\": true, \"subunitcolor\": \"white\"}, \"hoverlabel\": {\"align\": \"left\"}, \"hovermode\": \"closest\", \"mapbox\": {\"style\": \"light\"}, \"paper_bgcolor\": \"white\", \"plot_bgcolor\": \"#E5ECF6\", \"polar\": {\"angularaxis\": {\"gridcolor\": \"white\", \"linecolor\": \"white\", \"ticks\": \"\"}, \"bgcolor\": \"#E5ECF6\", \"radialaxis\": {\"gridcolor\": \"white\", \"linecolor\": \"white\", \"ticks\": \"\"}}, \"scene\": {\"xaxis\": {\"backgroundcolor\": \"#E5ECF6\", \"gridcolor\": \"white\", \"gridwidth\": 2, \"linecolor\": \"white\", \"showbackground\": true, \"ticks\": \"\", \"zerolinecolor\": \"white\"}, \"yaxis\": {\"backgroundcolor\": \"#E5ECF6\", \"gridcolor\": \"white\", \"gridwidth\": 2, \"linecolor\": \"white\", \"showbackground\": true, \"ticks\": \"\", \"zerolinecolor\": \"white\"}, \"zaxis\": {\"backgroundcolor\": \"#E5ECF6\", \"gridcolor\": \"white\", \"gridwidth\": 2, \"linecolor\": \"white\", \"showbackground\": true, \"ticks\": \"\", \"zerolinecolor\": \"white\"}}, \"shapedefaults\": {\"line\": {\"color\": \"#2a3f5f\"}}, \"ternary\": {\"aaxis\": {\"gridcolor\": \"white\", \"linecolor\": \"white\", \"ticks\": \"\"}, \"baxis\": {\"gridcolor\": \"white\", \"linecolor\": \"white\", \"ticks\": \"\"}, \"bgcolor\": \"#E5ECF6\", \"caxis\": {\"gridcolor\": \"white\", \"linecolor\": \"white\", \"ticks\": \"\"}}, \"title\": {\"x\": 0.05}, \"xaxis\": {\"automargin\": true, \"gridcolor\": \"white\", \"linecolor\": \"white\", \"ticks\": \"\", \"title\": {\"standoff\": 15}, \"zerolinecolor\": \"white\", \"zerolinewidth\": 2}, \"yaxis\": {\"automargin\": true, \"gridcolor\": \"white\", \"linecolor\": \"white\", \"ticks\": \"\", \"title\": {\"standoff\": 15}, \"zerolinecolor\": \"white\", \"zerolinewidth\": 2}}}, \"title\": {\"font\": {\"color\": \"#4D5663\"}}, \"xaxis\": {\"gridcolor\": \"#E1E5ED\", \"showgrid\": true, \"tickfont\": {\"color\": \"#4D5663\"}, \"title\": {\"font\": {\"color\": \"#4D5663\"}, \"text\": \"\"}, \"zerolinecolor\": \"#E1E5ED\"}, \"yaxis\": {\"gridcolor\": \"#E1E5ED\", \"showgrid\": true, \"tickfont\": {\"color\": \"#4D5663\"}, \"title\": {\"font\": {\"color\": \"#4D5663\"}, \"text\": \"\"}, \"zerolinecolor\": \"#E1E5ED\"}},\n",
       "                        {\"showLink\": true, \"linkText\": \"Export to plot.ly\", \"plotlyServerURL\": \"https://plot.ly\", \"responsive\": true}\n",
       "                    ).then(function(){\n",
       "                            \n",
       "var gd = document.getElementById('a20e5184-67ed-40f6-a521-43d1e840b924');\n",
       "var x = new MutationObserver(function (mutations, observer) {{\n",
       "        var display = window.getComputedStyle(gd).display;\n",
       "        if (!display || display === 'none') {{\n",
       "            console.log([gd, 'removed!']);\n",
       "            Plotly.purge(gd);\n",
       "            observer.disconnect();\n",
       "        }}\n",
       "}});\n",
       "\n",
       "// Listen for the removal of the full notebook cells\n",
       "var notebookContainer = gd.closest('#notebook-container');\n",
       "if (notebookContainer) {{\n",
       "    x.observe(notebookContainer, {childList: true});\n",
       "}}\n",
       "\n",
       "// Listen for the clearing of the current output cell\n",
       "var outputEl = gd.closest('.output');\n",
       "if (outputEl) {{\n",
       "    x.observe(outputEl, {childList: true});\n",
       "}}\n",
       "\n",
       "                        })\n",
       "                };\n",
       "                });\n",
       "            </script>\n",
       "        </div>"
      ]
     },
     "metadata": {},
     "output_type": "display_data"
    }
   ],
   "source": [
    "# plot df2 x='Category', y='Values'"
   ]
  },
  {
   "cell_type": "code",
   "execution_count": 16,
   "metadata": {
    "Collapsed": "false"
   },
   "outputs": [
    {
     "data": {
      "application/vnd.plotly.v1+json": {
       "config": {
        "linkText": "Export to plot.ly",
        "plotlyServerURL": "https://plot.ly",
        "showLink": true
       },
       "data": [
        {
         "marker": {
          "color": "rgba(255, 153, 51, 0.6)",
          "line": {
           "color": "rgba(255, 153, 51, 1.0)",
           "width": 1
          }
         },
         "name": "None",
         "orientation": "v",
         "text": "",
         "type": "bar",
         "x": [
          "A",
          "B",
          "C",
          "D"
         ],
         "y": [
          100,
          100,
          100,
          100
         ]
        }
       ],
       "layout": {
        "legend": {
         "bgcolor": "#F5F6F9",
         "font": {
          "color": "#4D5663"
         }
        },
        "paper_bgcolor": "#F5F6F9",
        "plot_bgcolor": "#F5F6F9",
        "template": {
         "data": {
          "bar": [
           {
            "error_x": {
             "color": "#2a3f5f"
            },
            "error_y": {
             "color": "#2a3f5f"
            },
            "marker": {
             "line": {
              "color": "#E5ECF6",
              "width": 0.5
             }
            },
            "type": "bar"
           }
          ],
          "barpolar": [
           {
            "marker": {
             "line": {
              "color": "#E5ECF6",
              "width": 0.5
             }
            },
            "type": "barpolar"
           }
          ],
          "carpet": [
           {
            "aaxis": {
             "endlinecolor": "#2a3f5f",
             "gridcolor": "white",
             "linecolor": "white",
             "minorgridcolor": "white",
             "startlinecolor": "#2a3f5f"
            },
            "baxis": {
             "endlinecolor": "#2a3f5f",
             "gridcolor": "white",
             "linecolor": "white",
             "minorgridcolor": "white",
             "startlinecolor": "#2a3f5f"
            },
            "type": "carpet"
           }
          ],
          "choropleth": [
           {
            "colorbar": {
             "outlinewidth": 0,
             "ticks": ""
            },
            "type": "choropleth"
           }
          ],
          "contour": [
           {
            "colorbar": {
             "outlinewidth": 0,
             "ticks": ""
            },
            "colorscale": [
             [
              0,
              "#0d0887"
             ],
             [
              0.1111111111111111,
              "#46039f"
             ],
             [
              0.2222222222222222,
              "#7201a8"
             ],
             [
              0.3333333333333333,
              "#9c179e"
             ],
             [
              0.4444444444444444,
              "#bd3786"
             ],
             [
              0.5555555555555556,
              "#d8576b"
             ],
             [
              0.6666666666666666,
              "#ed7953"
             ],
             [
              0.7777777777777778,
              "#fb9f3a"
             ],
             [
              0.8888888888888888,
              "#fdca26"
             ],
             [
              1,
              "#f0f921"
             ]
            ],
            "type": "contour"
           }
          ],
          "contourcarpet": [
           {
            "colorbar": {
             "outlinewidth": 0,
             "ticks": ""
            },
            "type": "contourcarpet"
           }
          ],
          "heatmap": [
           {
            "colorbar": {
             "outlinewidth": 0,
             "ticks": ""
            },
            "colorscale": [
             [
              0,
              "#0d0887"
             ],
             [
              0.1111111111111111,
              "#46039f"
             ],
             [
              0.2222222222222222,
              "#7201a8"
             ],
             [
              0.3333333333333333,
              "#9c179e"
             ],
             [
              0.4444444444444444,
              "#bd3786"
             ],
             [
              0.5555555555555556,
              "#d8576b"
             ],
             [
              0.6666666666666666,
              "#ed7953"
             ],
             [
              0.7777777777777778,
              "#fb9f3a"
             ],
             [
              0.8888888888888888,
              "#fdca26"
             ],
             [
              1,
              "#f0f921"
             ]
            ],
            "type": "heatmap"
           }
          ],
          "heatmapgl": [
           {
            "colorbar": {
             "outlinewidth": 0,
             "ticks": ""
            },
            "colorscale": [
             [
              0,
              "#0d0887"
             ],
             [
              0.1111111111111111,
              "#46039f"
             ],
             [
              0.2222222222222222,
              "#7201a8"
             ],
             [
              0.3333333333333333,
              "#9c179e"
             ],
             [
              0.4444444444444444,
              "#bd3786"
             ],
             [
              0.5555555555555556,
              "#d8576b"
             ],
             [
              0.6666666666666666,
              "#ed7953"
             ],
             [
              0.7777777777777778,
              "#fb9f3a"
             ],
             [
              0.8888888888888888,
              "#fdca26"
             ],
             [
              1,
              "#f0f921"
             ]
            ],
            "type": "heatmapgl"
           }
          ],
          "histogram": [
           {
            "marker": {
             "colorbar": {
              "outlinewidth": 0,
              "ticks": ""
             }
            },
            "type": "histogram"
           }
          ],
          "histogram2d": [
           {
            "colorbar": {
             "outlinewidth": 0,
             "ticks": ""
            },
            "colorscale": [
             [
              0,
              "#0d0887"
             ],
             [
              0.1111111111111111,
              "#46039f"
             ],
             [
              0.2222222222222222,
              "#7201a8"
             ],
             [
              0.3333333333333333,
              "#9c179e"
             ],
             [
              0.4444444444444444,
              "#bd3786"
             ],
             [
              0.5555555555555556,
              "#d8576b"
             ],
             [
              0.6666666666666666,
              "#ed7953"
             ],
             [
              0.7777777777777778,
              "#fb9f3a"
             ],
             [
              0.8888888888888888,
              "#fdca26"
             ],
             [
              1,
              "#f0f921"
             ]
            ],
            "type": "histogram2d"
           }
          ],
          "histogram2dcontour": [
           {
            "colorbar": {
             "outlinewidth": 0,
             "ticks": ""
            },
            "colorscale": [
             [
              0,
              "#0d0887"
             ],
             [
              0.1111111111111111,
              "#46039f"
             ],
             [
              0.2222222222222222,
              "#7201a8"
             ],
             [
              0.3333333333333333,
              "#9c179e"
             ],
             [
              0.4444444444444444,
              "#bd3786"
             ],
             [
              0.5555555555555556,
              "#d8576b"
             ],
             [
              0.6666666666666666,
              "#ed7953"
             ],
             [
              0.7777777777777778,
              "#fb9f3a"
             ],
             [
              0.8888888888888888,
              "#fdca26"
             ],
             [
              1,
              "#f0f921"
             ]
            ],
            "type": "histogram2dcontour"
           }
          ],
          "mesh3d": [
           {
            "colorbar": {
             "outlinewidth": 0,
             "ticks": ""
            },
            "type": "mesh3d"
           }
          ],
          "parcoords": [
           {
            "line": {
             "colorbar": {
              "outlinewidth": 0,
              "ticks": ""
             }
            },
            "type": "parcoords"
           }
          ],
          "pie": [
           {
            "automargin": true,
            "type": "pie"
           }
          ],
          "scatter": [
           {
            "marker": {
             "colorbar": {
              "outlinewidth": 0,
              "ticks": ""
             }
            },
            "type": "scatter"
           }
          ],
          "scatter3d": [
           {
            "line": {
             "colorbar": {
              "outlinewidth": 0,
              "ticks": ""
             }
            },
            "marker": {
             "colorbar": {
              "outlinewidth": 0,
              "ticks": ""
             }
            },
            "type": "scatter3d"
           }
          ],
          "scattercarpet": [
           {
            "marker": {
             "colorbar": {
              "outlinewidth": 0,
              "ticks": ""
             }
            },
            "type": "scattercarpet"
           }
          ],
          "scattergeo": [
           {
            "marker": {
             "colorbar": {
              "outlinewidth": 0,
              "ticks": ""
             }
            },
            "type": "scattergeo"
           }
          ],
          "scattergl": [
           {
            "marker": {
             "colorbar": {
              "outlinewidth": 0,
              "ticks": ""
             }
            },
            "type": "scattergl"
           }
          ],
          "scattermapbox": [
           {
            "marker": {
             "colorbar": {
              "outlinewidth": 0,
              "ticks": ""
             }
            },
            "type": "scattermapbox"
           }
          ],
          "scatterpolar": [
           {
            "marker": {
             "colorbar": {
              "outlinewidth": 0,
              "ticks": ""
             }
            },
            "type": "scatterpolar"
           }
          ],
          "scatterpolargl": [
           {
            "marker": {
             "colorbar": {
              "outlinewidth": 0,
              "ticks": ""
             }
            },
            "type": "scatterpolargl"
           }
          ],
          "scatterternary": [
           {
            "marker": {
             "colorbar": {
              "outlinewidth": 0,
              "ticks": ""
             }
            },
            "type": "scatterternary"
           }
          ],
          "surface": [
           {
            "colorbar": {
             "outlinewidth": 0,
             "ticks": ""
            },
            "colorscale": [
             [
              0,
              "#0d0887"
             ],
             [
              0.1111111111111111,
              "#46039f"
             ],
             [
              0.2222222222222222,
              "#7201a8"
             ],
             [
              0.3333333333333333,
              "#9c179e"
             ],
             [
              0.4444444444444444,
              "#bd3786"
             ],
             [
              0.5555555555555556,
              "#d8576b"
             ],
             [
              0.6666666666666666,
              "#ed7953"
             ],
             [
              0.7777777777777778,
              "#fb9f3a"
             ],
             [
              0.8888888888888888,
              "#fdca26"
             ],
             [
              1,
              "#f0f921"
             ]
            ],
            "type": "surface"
           }
          ],
          "table": [
           {
            "cells": {
             "fill": {
              "color": "#EBF0F8"
             },
             "line": {
              "color": "white"
             }
            },
            "header": {
             "fill": {
              "color": "#C8D4E3"
             },
             "line": {
              "color": "white"
             }
            },
            "type": "table"
           }
          ]
         },
         "layout": {
          "annotationdefaults": {
           "arrowcolor": "#2a3f5f",
           "arrowhead": 0,
           "arrowwidth": 1
          },
          "coloraxis": {
           "colorbar": {
            "outlinewidth": 0,
            "ticks": ""
           }
          },
          "colorscale": {
           "diverging": [
            [
             0,
             "#8e0152"
            ],
            [
             0.1,
             "#c51b7d"
            ],
            [
             0.2,
             "#de77ae"
            ],
            [
             0.3,
             "#f1b6da"
            ],
            [
             0.4,
             "#fde0ef"
            ],
            [
             0.5,
             "#f7f7f7"
            ],
            [
             0.6,
             "#e6f5d0"
            ],
            [
             0.7,
             "#b8e186"
            ],
            [
             0.8,
             "#7fbc41"
            ],
            [
             0.9,
             "#4d9221"
            ],
            [
             1,
             "#276419"
            ]
           ],
           "sequential": [
            [
             0,
             "#0d0887"
            ],
            [
             0.1111111111111111,
             "#46039f"
            ],
            [
             0.2222222222222222,
             "#7201a8"
            ],
            [
             0.3333333333333333,
             "#9c179e"
            ],
            [
             0.4444444444444444,
             "#bd3786"
            ],
            [
             0.5555555555555556,
             "#d8576b"
            ],
            [
             0.6666666666666666,
             "#ed7953"
            ],
            [
             0.7777777777777778,
             "#fb9f3a"
            ],
            [
             0.8888888888888888,
             "#fdca26"
            ],
            [
             1,
             "#f0f921"
            ]
           ],
           "sequentialminus": [
            [
             0,
             "#0d0887"
            ],
            [
             0.1111111111111111,
             "#46039f"
            ],
            [
             0.2222222222222222,
             "#7201a8"
            ],
            [
             0.3333333333333333,
             "#9c179e"
            ],
            [
             0.4444444444444444,
             "#bd3786"
            ],
            [
             0.5555555555555556,
             "#d8576b"
            ],
            [
             0.6666666666666666,
             "#ed7953"
            ],
            [
             0.7777777777777778,
             "#fb9f3a"
            ],
            [
             0.8888888888888888,
             "#fdca26"
            ],
            [
             1,
             "#f0f921"
            ]
           ]
          },
          "colorway": [
           "#636efa",
           "#EF553B",
           "#00cc96",
           "#ab63fa",
           "#FFA15A",
           "#19d3f3",
           "#FF6692",
           "#B6E880",
           "#FF97FF",
           "#FECB52"
          ],
          "font": {
           "color": "#2a3f5f"
          },
          "geo": {
           "bgcolor": "white",
           "lakecolor": "white",
           "landcolor": "#E5ECF6",
           "showlakes": true,
           "showland": true,
           "subunitcolor": "white"
          },
          "hoverlabel": {
           "align": "left"
          },
          "hovermode": "closest",
          "mapbox": {
           "style": "light"
          },
          "paper_bgcolor": "white",
          "plot_bgcolor": "#E5ECF6",
          "polar": {
           "angularaxis": {
            "gridcolor": "white",
            "linecolor": "white",
            "ticks": ""
           },
           "bgcolor": "#E5ECF6",
           "radialaxis": {
            "gridcolor": "white",
            "linecolor": "white",
            "ticks": ""
           }
          },
          "scene": {
           "xaxis": {
            "backgroundcolor": "#E5ECF6",
            "gridcolor": "white",
            "gridwidth": 2,
            "linecolor": "white",
            "showbackground": true,
            "ticks": "",
            "zerolinecolor": "white"
           },
           "yaxis": {
            "backgroundcolor": "#E5ECF6",
            "gridcolor": "white",
            "gridwidth": 2,
            "linecolor": "white",
            "showbackground": true,
            "ticks": "",
            "zerolinecolor": "white"
           },
           "zaxis": {
            "backgroundcolor": "#E5ECF6",
            "gridcolor": "white",
            "gridwidth": 2,
            "linecolor": "white",
            "showbackground": true,
            "ticks": "",
            "zerolinecolor": "white"
           }
          },
          "shapedefaults": {
           "line": {
            "color": "#2a3f5f"
           }
          },
          "ternary": {
           "aaxis": {
            "gridcolor": "white",
            "linecolor": "white",
            "ticks": ""
           },
           "baxis": {
            "gridcolor": "white",
            "linecolor": "white",
            "ticks": ""
           },
           "bgcolor": "#E5ECF6",
           "caxis": {
            "gridcolor": "white",
            "linecolor": "white",
            "ticks": ""
           }
          },
          "title": {
           "x": 0.05
          },
          "xaxis": {
           "automargin": true,
           "gridcolor": "white",
           "linecolor": "white",
           "ticks": "",
           "title": {
            "standoff": 15
           },
           "zerolinecolor": "white",
           "zerolinewidth": 2
          },
          "yaxis": {
           "automargin": true,
           "gridcolor": "white",
           "linecolor": "white",
           "ticks": "",
           "title": {
            "standoff": 15
           },
           "zerolinecolor": "white",
           "zerolinewidth": 2
          }
         }
        },
        "title": {
         "font": {
          "color": "#4D5663"
         }
        },
        "xaxis": {
         "gridcolor": "#E1E5ED",
         "showgrid": true,
         "tickfont": {
          "color": "#4D5663"
         },
         "title": {
          "font": {
           "color": "#4D5663"
          },
          "text": ""
         },
         "zerolinecolor": "#E1E5ED"
        },
        "yaxis": {
         "gridcolor": "#E1E5ED",
         "showgrid": true,
         "tickfont": {
          "color": "#4D5663"
         },
         "title": {
          "font": {
           "color": "#4D5663"
          },
          "text": ""
         },
         "zerolinecolor": "#E1E5ED"
        }
       }
      },
      "text/html": [
       "<div>\n",
       "        \n",
       "        \n",
       "            <div id=\"4a098ac2-5668-4544-b8d1-cd81a9c284b4\" class=\"plotly-graph-div\" style=\"height:525px; width:100%;\"></div>\n",
       "            <script type=\"text/javascript\">\n",
       "                require([\"plotly\"], function(Plotly) {\n",
       "                    window.PLOTLYENV=window.PLOTLYENV || {};\n",
       "                    window.PLOTLYENV.BASE_URL='https://plot.ly';\n",
       "                    \n",
       "                if (document.getElementById(\"4a098ac2-5668-4544-b8d1-cd81a9c284b4\")) {\n",
       "                    Plotly.newPlot(\n",
       "                        '4a098ac2-5668-4544-b8d1-cd81a9c284b4',\n",
       "                        [{\"marker\": {\"color\": \"rgba(255, 153, 51, 0.6)\", \"line\": {\"color\": \"rgba(255, 153, 51, 1.0)\", \"width\": 1}}, \"name\": \"None\", \"orientation\": \"v\", \"text\": \"\", \"type\": \"bar\", \"x\": [\"A\", \"B\", \"C\", \"D\"], \"y\": [100, 100, 100, 100]}],\n",
       "                        {\"legend\": {\"bgcolor\": \"#F5F6F9\", \"font\": {\"color\": \"#4D5663\"}}, \"paper_bgcolor\": \"#F5F6F9\", \"plot_bgcolor\": \"#F5F6F9\", \"template\": {\"data\": {\"bar\": [{\"error_x\": {\"color\": \"#2a3f5f\"}, \"error_y\": {\"color\": \"#2a3f5f\"}, \"marker\": {\"line\": {\"color\": \"#E5ECF6\", \"width\": 0.5}}, \"type\": \"bar\"}], \"barpolar\": [{\"marker\": {\"line\": {\"color\": \"#E5ECF6\", \"width\": 0.5}}, \"type\": \"barpolar\"}], \"carpet\": [{\"aaxis\": {\"endlinecolor\": \"#2a3f5f\", \"gridcolor\": \"white\", \"linecolor\": \"white\", \"minorgridcolor\": \"white\", \"startlinecolor\": \"#2a3f5f\"}, \"baxis\": {\"endlinecolor\": \"#2a3f5f\", \"gridcolor\": \"white\", \"linecolor\": \"white\", \"minorgridcolor\": \"white\", \"startlinecolor\": \"#2a3f5f\"}, \"type\": \"carpet\"}], \"choropleth\": [{\"colorbar\": {\"outlinewidth\": 0, \"ticks\": \"\"}, \"type\": \"choropleth\"}], \"contour\": [{\"colorbar\": {\"outlinewidth\": 0, \"ticks\": \"\"}, \"colorscale\": [[0.0, \"#0d0887\"], [0.1111111111111111, \"#46039f\"], [0.2222222222222222, \"#7201a8\"], [0.3333333333333333, \"#9c179e\"], [0.4444444444444444, \"#bd3786\"], [0.5555555555555556, \"#d8576b\"], [0.6666666666666666, \"#ed7953\"], [0.7777777777777778, \"#fb9f3a\"], [0.8888888888888888, \"#fdca26\"], [1.0, \"#f0f921\"]], \"type\": \"contour\"}], \"contourcarpet\": [{\"colorbar\": {\"outlinewidth\": 0, \"ticks\": \"\"}, \"type\": \"contourcarpet\"}], \"heatmap\": [{\"colorbar\": {\"outlinewidth\": 0, \"ticks\": \"\"}, \"colorscale\": [[0.0, \"#0d0887\"], [0.1111111111111111, \"#46039f\"], [0.2222222222222222, \"#7201a8\"], [0.3333333333333333, \"#9c179e\"], [0.4444444444444444, \"#bd3786\"], [0.5555555555555556, \"#d8576b\"], [0.6666666666666666, \"#ed7953\"], [0.7777777777777778, \"#fb9f3a\"], [0.8888888888888888, \"#fdca26\"], [1.0, \"#f0f921\"]], \"type\": \"heatmap\"}], \"heatmapgl\": [{\"colorbar\": {\"outlinewidth\": 0, \"ticks\": \"\"}, \"colorscale\": [[0.0, \"#0d0887\"], [0.1111111111111111, \"#46039f\"], [0.2222222222222222, \"#7201a8\"], [0.3333333333333333, \"#9c179e\"], [0.4444444444444444, \"#bd3786\"], [0.5555555555555556, \"#d8576b\"], [0.6666666666666666, \"#ed7953\"], [0.7777777777777778, \"#fb9f3a\"], [0.8888888888888888, \"#fdca26\"], [1.0, \"#f0f921\"]], \"type\": \"heatmapgl\"}], \"histogram\": [{\"marker\": {\"colorbar\": {\"outlinewidth\": 0, \"ticks\": \"\"}}, \"type\": \"histogram\"}], \"histogram2d\": [{\"colorbar\": {\"outlinewidth\": 0, \"ticks\": \"\"}, \"colorscale\": [[0.0, \"#0d0887\"], [0.1111111111111111, \"#46039f\"], [0.2222222222222222, \"#7201a8\"], [0.3333333333333333, \"#9c179e\"], [0.4444444444444444, \"#bd3786\"], [0.5555555555555556, \"#d8576b\"], [0.6666666666666666, \"#ed7953\"], [0.7777777777777778, \"#fb9f3a\"], [0.8888888888888888, \"#fdca26\"], [1.0, \"#f0f921\"]], \"type\": \"histogram2d\"}], \"histogram2dcontour\": [{\"colorbar\": {\"outlinewidth\": 0, \"ticks\": \"\"}, \"colorscale\": [[0.0, \"#0d0887\"], [0.1111111111111111, \"#46039f\"], [0.2222222222222222, \"#7201a8\"], [0.3333333333333333, \"#9c179e\"], [0.4444444444444444, \"#bd3786\"], [0.5555555555555556, \"#d8576b\"], [0.6666666666666666, \"#ed7953\"], [0.7777777777777778, \"#fb9f3a\"], [0.8888888888888888, \"#fdca26\"], [1.0, \"#f0f921\"]], \"type\": \"histogram2dcontour\"}], \"mesh3d\": [{\"colorbar\": {\"outlinewidth\": 0, \"ticks\": \"\"}, \"type\": \"mesh3d\"}], \"parcoords\": [{\"line\": {\"colorbar\": {\"outlinewidth\": 0, \"ticks\": \"\"}}, \"type\": \"parcoords\"}], \"pie\": [{\"automargin\": true, \"type\": \"pie\"}], \"scatter\": [{\"marker\": {\"colorbar\": {\"outlinewidth\": 0, \"ticks\": \"\"}}, \"type\": \"scatter\"}], \"scatter3d\": [{\"line\": {\"colorbar\": {\"outlinewidth\": 0, \"ticks\": \"\"}}, \"marker\": {\"colorbar\": {\"outlinewidth\": 0, \"ticks\": \"\"}}, \"type\": \"scatter3d\"}], \"scattercarpet\": [{\"marker\": {\"colorbar\": {\"outlinewidth\": 0, \"ticks\": \"\"}}, \"type\": \"scattercarpet\"}], \"scattergeo\": [{\"marker\": {\"colorbar\": {\"outlinewidth\": 0, \"ticks\": \"\"}}, \"type\": \"scattergeo\"}], \"scattergl\": [{\"marker\": {\"colorbar\": {\"outlinewidth\": 0, \"ticks\": \"\"}}, \"type\": \"scattergl\"}], \"scattermapbox\": [{\"marker\": {\"colorbar\": {\"outlinewidth\": 0, \"ticks\": \"\"}}, \"type\": \"scattermapbox\"}], \"scatterpolar\": [{\"marker\": {\"colorbar\": {\"outlinewidth\": 0, \"ticks\": \"\"}}, \"type\": \"scatterpolar\"}], \"scatterpolargl\": [{\"marker\": {\"colorbar\": {\"outlinewidth\": 0, \"ticks\": \"\"}}, \"type\": \"scatterpolargl\"}], \"scatterternary\": [{\"marker\": {\"colorbar\": {\"outlinewidth\": 0, \"ticks\": \"\"}}, \"type\": \"scatterternary\"}], \"surface\": [{\"colorbar\": {\"outlinewidth\": 0, \"ticks\": \"\"}, \"colorscale\": [[0.0, \"#0d0887\"], [0.1111111111111111, \"#46039f\"], [0.2222222222222222, \"#7201a8\"], [0.3333333333333333, \"#9c179e\"], [0.4444444444444444, \"#bd3786\"], [0.5555555555555556, \"#d8576b\"], [0.6666666666666666, \"#ed7953\"], [0.7777777777777778, \"#fb9f3a\"], [0.8888888888888888, \"#fdca26\"], [1.0, \"#f0f921\"]], \"type\": \"surface\"}], \"table\": [{\"cells\": {\"fill\": {\"color\": \"#EBF0F8\"}, \"line\": {\"color\": \"white\"}}, \"header\": {\"fill\": {\"color\": \"#C8D4E3\"}, \"line\": {\"color\": \"white\"}}, \"type\": \"table\"}]}, \"layout\": {\"annotationdefaults\": {\"arrowcolor\": \"#2a3f5f\", \"arrowhead\": 0, \"arrowwidth\": 1}, \"coloraxis\": {\"colorbar\": {\"outlinewidth\": 0, \"ticks\": \"\"}}, \"colorscale\": {\"diverging\": [[0, \"#8e0152\"], [0.1, \"#c51b7d\"], [0.2, \"#de77ae\"], [0.3, \"#f1b6da\"], [0.4, \"#fde0ef\"], [0.5, \"#f7f7f7\"], [0.6, \"#e6f5d0\"], [0.7, \"#b8e186\"], [0.8, \"#7fbc41\"], [0.9, \"#4d9221\"], [1, \"#276419\"]], \"sequential\": [[0.0, \"#0d0887\"], [0.1111111111111111, \"#46039f\"], [0.2222222222222222, \"#7201a8\"], [0.3333333333333333, \"#9c179e\"], [0.4444444444444444, \"#bd3786\"], [0.5555555555555556, \"#d8576b\"], [0.6666666666666666, \"#ed7953\"], [0.7777777777777778, \"#fb9f3a\"], [0.8888888888888888, \"#fdca26\"], [1.0, \"#f0f921\"]], \"sequentialminus\": [[0.0, \"#0d0887\"], [0.1111111111111111, \"#46039f\"], [0.2222222222222222, \"#7201a8\"], [0.3333333333333333, \"#9c179e\"], [0.4444444444444444, \"#bd3786\"], [0.5555555555555556, \"#d8576b\"], [0.6666666666666666, \"#ed7953\"], [0.7777777777777778, \"#fb9f3a\"], [0.8888888888888888, \"#fdca26\"], [1.0, \"#f0f921\"]]}, \"colorway\": [\"#636efa\", \"#EF553B\", \"#00cc96\", \"#ab63fa\", \"#FFA15A\", \"#19d3f3\", \"#FF6692\", \"#B6E880\", \"#FF97FF\", \"#FECB52\"], \"font\": {\"color\": \"#2a3f5f\"}, \"geo\": {\"bgcolor\": \"white\", \"lakecolor\": \"white\", \"landcolor\": \"#E5ECF6\", \"showlakes\": true, \"showland\": true, \"subunitcolor\": \"white\"}, \"hoverlabel\": {\"align\": \"left\"}, \"hovermode\": \"closest\", \"mapbox\": {\"style\": \"light\"}, \"paper_bgcolor\": \"white\", \"plot_bgcolor\": \"#E5ECF6\", \"polar\": {\"angularaxis\": {\"gridcolor\": \"white\", \"linecolor\": \"white\", \"ticks\": \"\"}, \"bgcolor\": \"#E5ECF6\", \"radialaxis\": {\"gridcolor\": \"white\", \"linecolor\": \"white\", \"ticks\": \"\"}}, \"scene\": {\"xaxis\": {\"backgroundcolor\": \"#E5ECF6\", \"gridcolor\": \"white\", \"gridwidth\": 2, \"linecolor\": \"white\", \"showbackground\": true, \"ticks\": \"\", \"zerolinecolor\": \"white\"}, \"yaxis\": {\"backgroundcolor\": \"#E5ECF6\", \"gridcolor\": \"white\", \"gridwidth\": 2, \"linecolor\": \"white\", \"showbackground\": true, \"ticks\": \"\", \"zerolinecolor\": \"white\"}, \"zaxis\": {\"backgroundcolor\": \"#E5ECF6\", \"gridcolor\": \"white\", \"gridwidth\": 2, \"linecolor\": \"white\", \"showbackground\": true, \"ticks\": \"\", \"zerolinecolor\": \"white\"}}, \"shapedefaults\": {\"line\": {\"color\": \"#2a3f5f\"}}, \"ternary\": {\"aaxis\": {\"gridcolor\": \"white\", \"linecolor\": \"white\", \"ticks\": \"\"}, \"baxis\": {\"gridcolor\": \"white\", \"linecolor\": \"white\", \"ticks\": \"\"}, \"bgcolor\": \"#E5ECF6\", \"caxis\": {\"gridcolor\": \"white\", \"linecolor\": \"white\", \"ticks\": \"\"}}, \"title\": {\"x\": 0.05}, \"xaxis\": {\"automargin\": true, \"gridcolor\": \"white\", \"linecolor\": \"white\", \"ticks\": \"\", \"title\": {\"standoff\": 15}, \"zerolinecolor\": \"white\", \"zerolinewidth\": 2}, \"yaxis\": {\"automargin\": true, \"gridcolor\": \"white\", \"linecolor\": \"white\", \"ticks\": \"\", \"title\": {\"standoff\": 15}, \"zerolinecolor\": \"white\", \"zerolinewidth\": 2}}}, \"title\": {\"font\": {\"color\": \"#4D5663\"}}, \"xaxis\": {\"gridcolor\": \"#E1E5ED\", \"showgrid\": true, \"tickfont\": {\"color\": \"#4D5663\"}, \"title\": {\"font\": {\"color\": \"#4D5663\"}, \"text\": \"\"}, \"zerolinecolor\": \"#E1E5ED\"}, \"yaxis\": {\"gridcolor\": \"#E1E5ED\", \"showgrid\": true, \"tickfont\": {\"color\": \"#4D5663\"}, \"title\": {\"font\": {\"color\": \"#4D5663\"}, \"text\": \"\"}, \"zerolinecolor\": \"#E1E5ED\"}},\n",
       "                        {\"showLink\": true, \"linkText\": \"Export to plot.ly\", \"plotlyServerURL\": \"https://plot.ly\", \"responsive\": true}\n",
       "                    ).then(function(){\n",
       "                            \n",
       "var gd = document.getElementById('4a098ac2-5668-4544-b8d1-cd81a9c284b4');\n",
       "var x = new MutationObserver(function (mutations, observer) {{\n",
       "        var display = window.getComputedStyle(gd).display;\n",
       "        if (!display || display === 'none') {{\n",
       "            console.log([gd, 'removed!']);\n",
       "            Plotly.purge(gd);\n",
       "            observer.disconnect();\n",
       "        }}\n",
       "}});\n",
       "\n",
       "// Listen for the removal of the full notebook cells\n",
       "var notebookContainer = gd.closest('#notebook-container');\n",
       "if (notebookContainer) {{\n",
       "    x.observe(notebookContainer, {childList: true});\n",
       "}}\n",
       "\n",
       "// Listen for the clearing of the current output cell\n",
       "var outputEl = gd.closest('.output');\n",
       "if (outputEl) {{\n",
       "    x.observe(outputEl, {childList: true});\n",
       "}}\n",
       "\n",
       "                        })\n",
       "                };\n",
       "                });\n",
       "            </script>\n",
       "        </div>"
      ]
     },
     "metadata": {},
     "output_type": "display_data"
    }
   ],
   "source": [
    "# df count plot"
   ]
  },
  {
   "cell_type": "code",
   "execution_count": 17,
   "metadata": {
    "Collapsed": "false"
   },
   "outputs": [
    {
     "data": {
      "application/vnd.plotly.v1+json": {
       "config": {
        "linkText": "Export to plot.ly",
        "plotlyServerURL": "https://plot.ly",
        "showLink": true
       },
       "data": [
        {
         "boxpoints": false,
         "line": {
          "width": 1.3
         },
         "marker": {
          "color": "rgba(255, 153, 51, 1.0)"
         },
         "name": "A",
         "orientation": "v",
         "type": "box",
         "y": [
          -1.1297880804810116,
          0.8909558868026678,
          -2.4674677078075615,
          1.4668865210388036,
          0.052099141553544316,
          -0.5841535222972922,
          -0.14407291051779864,
          -0.24146519801740043,
          1.4089883014072808,
          0.1698379991335825,
          1.6725669615460745,
          -1.1871638982625938,
          0.2500685582684525,
          -0.9075758091792991,
          1.5794840063606157,
          -0.7154693249447941,
          0.6710461976159192,
          -1.3138617132611679,
          -0.08715365767208498,
          0.6817437501923307,
          0.15963287076171498,
          -1.4284907475179551,
          0.7623270744081148,
          0.4827609399382711,
          1.143843875728672,
          0.732765341739219,
          0.4769246929115,
          0.5207809911732241,
          -0.6943426027267315,
          2.527205168129635,
          0.3110536263670157,
          -1.586564155923283,
          0.2325845898667768,
          0.14942062616814708,
          -0.7557765018970091,
          2.46078286011467,
          -1.5864772813918784,
          1.0868295448269554,
          0.29730223763112135,
          0.9330617358105876,
          1.3209758315752207,
          -0.7257746662786452,
          0.6223215905979733,
          0.9545355565512028,
          -0.5651734999398752,
          -0.8323343740748262,
          -1.529421653815974,
          -0.5637293068459186,
          1.3747593870565984,
          1.4629258937978542,
          -1.2437710994346372,
          1.1528387183185471,
          -0.7646733650685583,
          -0.12980482941361793,
          0.8460466553233116,
          -0.13679977098484716,
          1.3171725454303962,
          -0.8524969706000572,
          -0.7896774042673815,
          0.30161696428573564,
          -1.1882742305542269,
          -0.15889754303574397,
          0.8698986288529447,
          -0.9964530436083726,
          0.4100165481373722,
          -0.4128453281010694,
          1.4406077576302683,
          1.6011651067675756,
          -3.3597780905476684,
          -1.3769568088285187,
          1.2177632525884357,
          -0.14126371111306843,
          -0.3721476282966241,
          -1.96760916128469,
          0.5213989068129281,
          -1.453423528558044,
          0.3946037066457429,
          0.8585996691985393,
          0.9237916704788649,
          0.3137707208702481,
          0.9861633281572418,
          0.8940523501948491,
          1.300507308282935,
          0.769636332141642,
          0.599535573702335,
          -1.8921465187792665,
          0.7351759459424257,
          -0.5245244935897746,
          0.41125483420132225,
          -0.4747146631281052,
          0.5430255920252014,
          -0.8615301256799931,
          0.685280739134256,
          1.3824752940241554,
          0.4691203694022939,
          0.2969347029971788,
          0.17527373402249957,
          -0.2664598834122682,
          -1.0603267101266096,
          1.2585999049100745
         ]
        },
        {
         "boxpoints": false,
         "line": {
          "width": 1.3
         },
         "marker": {
          "color": "rgba(55, 128, 191, 1.0)"
         },
         "name": "B",
         "orientation": "v",
         "type": "box",
         "y": [
          -0.12402007023132434,
          0.16105615677002622,
          0.023188958701885184,
          1.3365766040123495,
          -1.524892413949562,
          -1.2841507820438276,
          1.453386751286277,
          0.18175721164363973,
          0.319433640867433,
          -0.3839768199018055,
          -1.1032762054402279,
          -0.037550265782773054,
          0.6526531412240898,
          1.624937766501667,
          1.3347744992777684,
          -0.34618031920085374,
          1.789230219031507,
          2.0815389133971967,
          1.1552149582137499,
          2.601022664007055,
          0.7373289608257685,
          0.9653657279013573,
          -0.7141811226367676,
          -1.5857012600671005,
          -0.9698880744594625,
          1.0629314379178578,
          0.3665188577639023,
          1.8575226132892655,
          0.2810123749569547,
          1.0834506863250117,
          1.5852384708343445,
          -1.0821690461594273,
          0.45034497515428173,
          0.16595132541359575,
          -0.2837809115954148,
          -0.5321305547195403,
          0.42052444763312613,
          -0.8638272574567947,
          -0.1356330350490318,
          -0.2861953892593525,
          0.2987680728920157,
          -0.7901164099395227,
          -0.07239267449567097,
          0.14885628381591193,
          -0.15562696332212675,
          1.421970514039125,
          -0.10009080252734245,
          -2.6887592763650754,
          0.523307575152354,
          1.839188917214292,
          -0.31767820041569567,
          1.1392661859719995,
          1.1126897470779902,
          -1.4431765471300466,
          -1.3226216565575393,
          1.3061871872446182,
          -1.2695506775987795,
          -1.3531008486561023,
          -0.6190758570607968,
          -1.6607885320505178,
          1.0267781939675455,
          0.3332289719972668,
          0.4680130394047356,
          0.8889197448462989,
          -1.5825366658785764,
          -1.3291572534664713,
          1.0765003834875582,
          0.8441869284582593,
          -0.49514397185949505,
          0.03929643743827132,
          -0.12982509182576335,
          0.9563009984004562,
          1.9202450190710358,
          0.24483401982736028,
          0.10525084048866817,
          0.8816366460958016,
          1.3465250686822723,
          -0.21035831042571124,
          -0.6113086931308005,
          -1.19868474947971,
          0.15785117287865072,
          -1.031686073119976,
          0.1391364456318884,
          0.16690430657337105,
          -1.6588925821515055,
          0.5213841464387718,
          -0.915816274620897,
          1.1229320056801422,
          0.08918793278246169,
          -0.379028223962969,
          -1.591593730810941,
          0.5208149612876775,
          1.325421610769011,
          0.9083172720366367,
          0.06163858333894556,
          0.14276444823432247,
          -0.24183087477167728,
          2.1473916282420014,
          1.2534007307159707,
          -0.6942650652204457
         ]
        },
        {
         "boxpoints": false,
         "line": {
          "width": 1.3
         },
         "marker": {
          "color": "rgba(50, 171, 96, 1.0)"
         },
         "name": "C",
         "orientation": "v",
         "type": "box",
         "y": [
          0.17421691582521348,
          -1.3347870970348765,
          0.19504801893508936,
          0.615815324125793,
          0.6464796590643166,
          -1.2068024562353317,
          0.38785425113995237,
          0.3867856556905653,
          -1.405610785135054,
          -0.1892805252738717,
          0.6760959263848506,
          -1.9456589651411498,
          0.38955785478560134,
          -0.6177996899408054,
          -1.8980841458045237,
          0.39284227622709483,
          -0.6028288304777356,
          0.15561011597974259,
          -0.9097505263185375,
          0.10959473983493624,
          -2.2131492836547944,
          0.2849727324935136,
          0.5144470224888781,
          1.7699054422752936,
          -1.2221741218912672,
          -1.1744078158919593,
          1.3533348672919525,
          0.3163792249771611,
          0.18174990785515674,
          0.054938310415938864,
          0.7421200543349438,
          -0.2346517886452845,
          -0.6736996536606434,
          0.05069725900535534,
          -1.1456321818505664,
          -0.5068022698369427,
          -0.6021573471021463,
          -0.4607878221675053,
          -0.0884854645124853,
          -0.04590785081159762,
          -1.04763600849066,
          0.4606902276536393,
          0.10954696224308451,
          0.4195693821222619,
          1.1535006039214961,
          -1.1069206380103314,
          2.536952794693768,
          1.3456678564790383,
          -0.6003378912958559,
          -0.9873118391793111,
          1.0482107314299267,
          1.0789338031902587,
          -1.188572907090659,
          0.5912059519542611,
          0.4886531320977451,
          2.610633032391518,
          -1.9065269745751732,
          0.8438657058711421,
          1.3468239960520911,
          -0.27865376477509574,
          1.198666439892076,
          -2.7027033096357016,
          -0.6040637753642535,
          -1.1381004808640252,
          2.0930970754102325,
          -0.45811192273251283,
          -0.3669911714827668,
          -1.8055184309290935,
          -0.7523499218822268,
          -0.5539626493287687,
          0.4391348881854048,
          0.8909540746565411,
          1.1375065192661309,
          1.3920337518067705,
          -0.5264114017543187,
          -0.4691501372827285,
          1.0319870837912726,
          1.0414077621890583,
          -0.4362361718080314,
          0.6274721877903016,
          0.7865082061275752,
          -0.09670930182764863,
          -0.9044446996214,
          -1.6422096544307065,
          -1.6191953641948122,
          -1.1499684045637386,
          0.0901055296246791,
          0.9323804971332048,
          -0.7382383878429699,
          -0.27683699976022613,
          1.1145056005973129,
          1.4770798899929896,
          0.7773463083238665,
          -0.23723646306488114,
          -0.8341073764054127,
          0.6154366027228294,
          -0.3293054058471099,
          0.29654843988100393,
          -0.6242824345433385,
          0.1525757905103892
         ]
        },
        {
         "boxpoints": false,
         "line": {
          "width": 1.3
         },
         "marker": {
          "color": "rgba(128, 0, 128, 1.0)"
         },
         "name": "D",
         "orientation": "v",
         "type": "box",
         "y": [
          -0.8569379998492204,
          0.3532381244547541,
          -1.473884890795063,
          -0.5154168667247857,
          1.384367533164876,
          -1.0078285020232705,
          1.3841984728026389,
          0.02451307765962415,
          -0.8191583201930199,
          -0.3527467184075583,
          -0.5479071878495365,
          -0.7061249197941388,
          -0.6429745384859913,
          2.1409246356568,
          1.580367537531254,
          1.28789146918967,
          0.8925704640905009,
          -1.375211578765735,
          0.34144433525589074,
          -0.33643482803724456,
          0.29131578426361,
          0.5015164804221907,
          -0.980371957635985,
          -1.1774548472628246,
          -0.704026124840796,
          -0.5122375525583044,
          1.0810890088158502,
          -0.9202248736663858,
          0.704686791702668,
          -0.43547712553175677,
          1.5067129918291322,
          -0.5089658042157246,
          0.4454282231709372,
          -0.1289198337265707,
          -1.627797981071354,
          0.8336237578443855,
          -0.4560444056597544,
          0.9030740144813988,
          1.5834770434491787,
          -0.9358339145730034,
          0.7969183032286896,
          -0.5781513686655708,
          0.7483921327775419,
          1.023538001015689,
          0.1262765942004014,
          -0.9501603438666566,
          -1.7679991209710049,
          1.0226092349541769,
          -1.802197151036096,
          -1.198230518565695,
          -0.7636118617700086,
          -1.5543218547764062,
          0.04544863175983621,
          -0.7805809502825641,
          -1.0353788900860592,
          -0.9117313916666553,
          -0.11175866922647903,
          -1.1595247269140836,
          -0.0012569538153414971,
          0.2467110928867088,
          -0.3946446207211395,
          1.9769602103480681,
          0.3269074981419036,
          0.1316046053135009,
          -0.6991559934795253,
          0.33254860539219205,
          -1.7367083956011016,
          -0.747728238046683,
          0.8456389595170039,
          -0.14768073421492472,
          -0.4444542150777699,
          -0.865389102851343,
          1.4519493642484027,
          1.220400266953391,
          0.7895995419799212,
          1.239485208665572,
          -0.4974637808296835,
          1.345917602782018,
          0.08359953601129336,
          -0.9115061899739435,
          -1.4037553998760366,
          1.2643586669710747,
          -0.4462216428031995,
          0.5412051608036181,
          0.6532594265282092,
          0.3028620321630151,
          -0.2802946889621197,
          1.8561149130878898,
          0.088919364678717,
          0.9336450024822341,
          -1.1374900867431545,
          1.665870940958986,
          0.46271435412855166,
          -2.3740179185676045,
          0.16077583669244555,
          1.4740402690069374,
          0.8935307387081979,
          -0.49889651737261603,
          -0.6568088731764845,
          0.9751976616519583
         ]
        }
       ],
       "layout": {
        "legend": {
         "bgcolor": "#F5F6F9",
         "font": {
          "color": "#4D5663"
         }
        },
        "paper_bgcolor": "#F5F6F9",
        "plot_bgcolor": "#F5F6F9",
        "template": {
         "data": {
          "bar": [
           {
            "error_x": {
             "color": "#2a3f5f"
            },
            "error_y": {
             "color": "#2a3f5f"
            },
            "marker": {
             "line": {
              "color": "#E5ECF6",
              "width": 0.5
             }
            },
            "type": "bar"
           }
          ],
          "barpolar": [
           {
            "marker": {
             "line": {
              "color": "#E5ECF6",
              "width": 0.5
             }
            },
            "type": "barpolar"
           }
          ],
          "carpet": [
           {
            "aaxis": {
             "endlinecolor": "#2a3f5f",
             "gridcolor": "white",
             "linecolor": "white",
             "minorgridcolor": "white",
             "startlinecolor": "#2a3f5f"
            },
            "baxis": {
             "endlinecolor": "#2a3f5f",
             "gridcolor": "white",
             "linecolor": "white",
             "minorgridcolor": "white",
             "startlinecolor": "#2a3f5f"
            },
            "type": "carpet"
           }
          ],
          "choropleth": [
           {
            "colorbar": {
             "outlinewidth": 0,
             "ticks": ""
            },
            "type": "choropleth"
           }
          ],
          "contour": [
           {
            "colorbar": {
             "outlinewidth": 0,
             "ticks": ""
            },
            "colorscale": [
             [
              0,
              "#0d0887"
             ],
             [
              0.1111111111111111,
              "#46039f"
             ],
             [
              0.2222222222222222,
              "#7201a8"
             ],
             [
              0.3333333333333333,
              "#9c179e"
             ],
             [
              0.4444444444444444,
              "#bd3786"
             ],
             [
              0.5555555555555556,
              "#d8576b"
             ],
             [
              0.6666666666666666,
              "#ed7953"
             ],
             [
              0.7777777777777778,
              "#fb9f3a"
             ],
             [
              0.8888888888888888,
              "#fdca26"
             ],
             [
              1,
              "#f0f921"
             ]
            ],
            "type": "contour"
           }
          ],
          "contourcarpet": [
           {
            "colorbar": {
             "outlinewidth": 0,
             "ticks": ""
            },
            "type": "contourcarpet"
           }
          ],
          "heatmap": [
           {
            "colorbar": {
             "outlinewidth": 0,
             "ticks": ""
            },
            "colorscale": [
             [
              0,
              "#0d0887"
             ],
             [
              0.1111111111111111,
              "#46039f"
             ],
             [
              0.2222222222222222,
              "#7201a8"
             ],
             [
              0.3333333333333333,
              "#9c179e"
             ],
             [
              0.4444444444444444,
              "#bd3786"
             ],
             [
              0.5555555555555556,
              "#d8576b"
             ],
             [
              0.6666666666666666,
              "#ed7953"
             ],
             [
              0.7777777777777778,
              "#fb9f3a"
             ],
             [
              0.8888888888888888,
              "#fdca26"
             ],
             [
              1,
              "#f0f921"
             ]
            ],
            "type": "heatmap"
           }
          ],
          "heatmapgl": [
           {
            "colorbar": {
             "outlinewidth": 0,
             "ticks": ""
            },
            "colorscale": [
             [
              0,
              "#0d0887"
             ],
             [
              0.1111111111111111,
              "#46039f"
             ],
             [
              0.2222222222222222,
              "#7201a8"
             ],
             [
              0.3333333333333333,
              "#9c179e"
             ],
             [
              0.4444444444444444,
              "#bd3786"
             ],
             [
              0.5555555555555556,
              "#d8576b"
             ],
             [
              0.6666666666666666,
              "#ed7953"
             ],
             [
              0.7777777777777778,
              "#fb9f3a"
             ],
             [
              0.8888888888888888,
              "#fdca26"
             ],
             [
              1,
              "#f0f921"
             ]
            ],
            "type": "heatmapgl"
           }
          ],
          "histogram": [
           {
            "marker": {
             "colorbar": {
              "outlinewidth": 0,
              "ticks": ""
             }
            },
            "type": "histogram"
           }
          ],
          "histogram2d": [
           {
            "colorbar": {
             "outlinewidth": 0,
             "ticks": ""
            },
            "colorscale": [
             [
              0,
              "#0d0887"
             ],
             [
              0.1111111111111111,
              "#46039f"
             ],
             [
              0.2222222222222222,
              "#7201a8"
             ],
             [
              0.3333333333333333,
              "#9c179e"
             ],
             [
              0.4444444444444444,
              "#bd3786"
             ],
             [
              0.5555555555555556,
              "#d8576b"
             ],
             [
              0.6666666666666666,
              "#ed7953"
             ],
             [
              0.7777777777777778,
              "#fb9f3a"
             ],
             [
              0.8888888888888888,
              "#fdca26"
             ],
             [
              1,
              "#f0f921"
             ]
            ],
            "type": "histogram2d"
           }
          ],
          "histogram2dcontour": [
           {
            "colorbar": {
             "outlinewidth": 0,
             "ticks": ""
            },
            "colorscale": [
             [
              0,
              "#0d0887"
             ],
             [
              0.1111111111111111,
              "#46039f"
             ],
             [
              0.2222222222222222,
              "#7201a8"
             ],
             [
              0.3333333333333333,
              "#9c179e"
             ],
             [
              0.4444444444444444,
              "#bd3786"
             ],
             [
              0.5555555555555556,
              "#d8576b"
             ],
             [
              0.6666666666666666,
              "#ed7953"
             ],
             [
              0.7777777777777778,
              "#fb9f3a"
             ],
             [
              0.8888888888888888,
              "#fdca26"
             ],
             [
              1,
              "#f0f921"
             ]
            ],
            "type": "histogram2dcontour"
           }
          ],
          "mesh3d": [
           {
            "colorbar": {
             "outlinewidth": 0,
             "ticks": ""
            },
            "type": "mesh3d"
           }
          ],
          "parcoords": [
           {
            "line": {
             "colorbar": {
              "outlinewidth": 0,
              "ticks": ""
             }
            },
            "type": "parcoords"
           }
          ],
          "pie": [
           {
            "automargin": true,
            "type": "pie"
           }
          ],
          "scatter": [
           {
            "marker": {
             "colorbar": {
              "outlinewidth": 0,
              "ticks": ""
             }
            },
            "type": "scatter"
           }
          ],
          "scatter3d": [
           {
            "line": {
             "colorbar": {
              "outlinewidth": 0,
              "ticks": ""
             }
            },
            "marker": {
             "colorbar": {
              "outlinewidth": 0,
              "ticks": ""
             }
            },
            "type": "scatter3d"
           }
          ],
          "scattercarpet": [
           {
            "marker": {
             "colorbar": {
              "outlinewidth": 0,
              "ticks": ""
             }
            },
            "type": "scattercarpet"
           }
          ],
          "scattergeo": [
           {
            "marker": {
             "colorbar": {
              "outlinewidth": 0,
              "ticks": ""
             }
            },
            "type": "scattergeo"
           }
          ],
          "scattergl": [
           {
            "marker": {
             "colorbar": {
              "outlinewidth": 0,
              "ticks": ""
             }
            },
            "type": "scattergl"
           }
          ],
          "scattermapbox": [
           {
            "marker": {
             "colorbar": {
              "outlinewidth": 0,
              "ticks": ""
             }
            },
            "type": "scattermapbox"
           }
          ],
          "scatterpolar": [
           {
            "marker": {
             "colorbar": {
              "outlinewidth": 0,
              "ticks": ""
             }
            },
            "type": "scatterpolar"
           }
          ],
          "scatterpolargl": [
           {
            "marker": {
             "colorbar": {
              "outlinewidth": 0,
              "ticks": ""
             }
            },
            "type": "scatterpolargl"
           }
          ],
          "scatterternary": [
           {
            "marker": {
             "colorbar": {
              "outlinewidth": 0,
              "ticks": ""
             }
            },
            "type": "scatterternary"
           }
          ],
          "surface": [
           {
            "colorbar": {
             "outlinewidth": 0,
             "ticks": ""
            },
            "colorscale": [
             [
              0,
              "#0d0887"
             ],
             [
              0.1111111111111111,
              "#46039f"
             ],
             [
              0.2222222222222222,
              "#7201a8"
             ],
             [
              0.3333333333333333,
              "#9c179e"
             ],
             [
              0.4444444444444444,
              "#bd3786"
             ],
             [
              0.5555555555555556,
              "#d8576b"
             ],
             [
              0.6666666666666666,
              "#ed7953"
             ],
             [
              0.7777777777777778,
              "#fb9f3a"
             ],
             [
              0.8888888888888888,
              "#fdca26"
             ],
             [
              1,
              "#f0f921"
             ]
            ],
            "type": "surface"
           }
          ],
          "table": [
           {
            "cells": {
             "fill": {
              "color": "#EBF0F8"
             },
             "line": {
              "color": "white"
             }
            },
            "header": {
             "fill": {
              "color": "#C8D4E3"
             },
             "line": {
              "color": "white"
             }
            },
            "type": "table"
           }
          ]
         },
         "layout": {
          "annotationdefaults": {
           "arrowcolor": "#2a3f5f",
           "arrowhead": 0,
           "arrowwidth": 1
          },
          "coloraxis": {
           "colorbar": {
            "outlinewidth": 0,
            "ticks": ""
           }
          },
          "colorscale": {
           "diverging": [
            [
             0,
             "#8e0152"
            ],
            [
             0.1,
             "#c51b7d"
            ],
            [
             0.2,
             "#de77ae"
            ],
            [
             0.3,
             "#f1b6da"
            ],
            [
             0.4,
             "#fde0ef"
            ],
            [
             0.5,
             "#f7f7f7"
            ],
            [
             0.6,
             "#e6f5d0"
            ],
            [
             0.7,
             "#b8e186"
            ],
            [
             0.8,
             "#7fbc41"
            ],
            [
             0.9,
             "#4d9221"
            ],
            [
             1,
             "#276419"
            ]
           ],
           "sequential": [
            [
             0,
             "#0d0887"
            ],
            [
             0.1111111111111111,
             "#46039f"
            ],
            [
             0.2222222222222222,
             "#7201a8"
            ],
            [
             0.3333333333333333,
             "#9c179e"
            ],
            [
             0.4444444444444444,
             "#bd3786"
            ],
            [
             0.5555555555555556,
             "#d8576b"
            ],
            [
             0.6666666666666666,
             "#ed7953"
            ],
            [
             0.7777777777777778,
             "#fb9f3a"
            ],
            [
             0.8888888888888888,
             "#fdca26"
            ],
            [
             1,
             "#f0f921"
            ]
           ],
           "sequentialminus": [
            [
             0,
             "#0d0887"
            ],
            [
             0.1111111111111111,
             "#46039f"
            ],
            [
             0.2222222222222222,
             "#7201a8"
            ],
            [
             0.3333333333333333,
             "#9c179e"
            ],
            [
             0.4444444444444444,
             "#bd3786"
            ],
            [
             0.5555555555555556,
             "#d8576b"
            ],
            [
             0.6666666666666666,
             "#ed7953"
            ],
            [
             0.7777777777777778,
             "#fb9f3a"
            ],
            [
             0.8888888888888888,
             "#fdca26"
            ],
            [
             1,
             "#f0f921"
            ]
           ]
          },
          "colorway": [
           "#636efa",
           "#EF553B",
           "#00cc96",
           "#ab63fa",
           "#FFA15A",
           "#19d3f3",
           "#FF6692",
           "#B6E880",
           "#FF97FF",
           "#FECB52"
          ],
          "font": {
           "color": "#2a3f5f"
          },
          "geo": {
           "bgcolor": "white",
           "lakecolor": "white",
           "landcolor": "#E5ECF6",
           "showlakes": true,
           "showland": true,
           "subunitcolor": "white"
          },
          "hoverlabel": {
           "align": "left"
          },
          "hovermode": "closest",
          "mapbox": {
           "style": "light"
          },
          "paper_bgcolor": "white",
          "plot_bgcolor": "#E5ECF6",
          "polar": {
           "angularaxis": {
            "gridcolor": "white",
            "linecolor": "white",
            "ticks": ""
           },
           "bgcolor": "#E5ECF6",
           "radialaxis": {
            "gridcolor": "white",
            "linecolor": "white",
            "ticks": ""
           }
          },
          "scene": {
           "xaxis": {
            "backgroundcolor": "#E5ECF6",
            "gridcolor": "white",
            "gridwidth": 2,
            "linecolor": "white",
            "showbackground": true,
            "ticks": "",
            "zerolinecolor": "white"
           },
           "yaxis": {
            "backgroundcolor": "#E5ECF6",
            "gridcolor": "white",
            "gridwidth": 2,
            "linecolor": "white",
            "showbackground": true,
            "ticks": "",
            "zerolinecolor": "white"
           },
           "zaxis": {
            "backgroundcolor": "#E5ECF6",
            "gridcolor": "white",
            "gridwidth": 2,
            "linecolor": "white",
            "showbackground": true,
            "ticks": "",
            "zerolinecolor": "white"
           }
          },
          "shapedefaults": {
           "line": {
            "color": "#2a3f5f"
           }
          },
          "ternary": {
           "aaxis": {
            "gridcolor": "white",
            "linecolor": "white",
            "ticks": ""
           },
           "baxis": {
            "gridcolor": "white",
            "linecolor": "white",
            "ticks": ""
           },
           "bgcolor": "#E5ECF6",
           "caxis": {
            "gridcolor": "white",
            "linecolor": "white",
            "ticks": ""
           }
          },
          "title": {
           "x": 0.05
          },
          "xaxis": {
           "automargin": true,
           "gridcolor": "white",
           "linecolor": "white",
           "ticks": "",
           "title": {
            "standoff": 15
           },
           "zerolinecolor": "white",
           "zerolinewidth": 2
          },
          "yaxis": {
           "automargin": true,
           "gridcolor": "white",
           "linecolor": "white",
           "ticks": "",
           "title": {
            "standoff": 15
           },
           "zerolinecolor": "white",
           "zerolinewidth": 2
          }
         }
        },
        "title": {
         "font": {
          "color": "#4D5663"
         }
        },
        "xaxis": {
         "gridcolor": "#E1E5ED",
         "showgrid": true,
         "tickfont": {
          "color": "#4D5663"
         },
         "title": {
          "font": {
           "color": "#4D5663"
          },
          "text": ""
         },
         "zerolinecolor": "#E1E5ED"
        },
        "yaxis": {
         "gridcolor": "#E1E5ED",
         "showgrid": true,
         "tickfont": {
          "color": "#4D5663"
         },
         "title": {
          "font": {
           "color": "#4D5663"
          },
          "text": ""
         },
         "zerolinecolor": "#E1E5ED"
        }
       }
      },
      "text/html": [
       "<div>\n",
       "        \n",
       "        \n",
       "            <div id=\"7b15f489-7130-42eb-b31b-48b3d413f5c3\" class=\"plotly-graph-div\" style=\"height:525px; width:100%;\"></div>\n",
       "            <script type=\"text/javascript\">\n",
       "                require([\"plotly\"], function(Plotly) {\n",
       "                    window.PLOTLYENV=window.PLOTLYENV || {};\n",
       "                    window.PLOTLYENV.BASE_URL='https://plot.ly';\n",
       "                    \n",
       "                if (document.getElementById(\"7b15f489-7130-42eb-b31b-48b3d413f5c3\")) {\n",
       "                    Plotly.newPlot(\n",
       "                        '7b15f489-7130-42eb-b31b-48b3d413f5c3',\n",
       "                        [{\"boxpoints\": false, \"line\": {\"width\": 1.3}, \"marker\": {\"color\": \"rgba(255, 153, 51, 1.0)\"}, \"name\": \"A\", \"orientation\": \"v\", \"type\": \"box\", \"y\": [-1.1297880804810116, 0.8909558868026678, -2.4674677078075615, 1.4668865210388036, 0.052099141553544316, -0.5841535222972922, -0.14407291051779864, -0.24146519801740043, 1.4089883014072808, 0.1698379991335825, 1.6725669615460745, -1.1871638982625938, 0.2500685582684525, -0.9075758091792991, 1.5794840063606157, -0.7154693249447941, 0.6710461976159192, -1.3138617132611679, -0.08715365767208498, 0.6817437501923307, 0.15963287076171498, -1.4284907475179551, 0.7623270744081148, 0.4827609399382711, 1.143843875728672, 0.732765341739219, 0.4769246929115, 0.5207809911732241, -0.6943426027267315, 2.527205168129635, 0.3110536263670157, -1.586564155923283, 0.2325845898667768, 0.14942062616814708, -0.7557765018970091, 2.46078286011467, -1.5864772813918784, 1.0868295448269554, 0.29730223763112135, 0.9330617358105876, 1.3209758315752207, -0.7257746662786452, 0.6223215905979733, 0.9545355565512028, -0.5651734999398752, -0.8323343740748262, -1.529421653815974, -0.5637293068459186, 1.3747593870565984, 1.4629258937978542, -1.2437710994346372, 1.1528387183185471, -0.7646733650685583, -0.12980482941361793, 0.8460466553233116, -0.13679977098484716, 1.3171725454303962, -0.8524969706000572, -0.7896774042673815, 0.30161696428573564, -1.1882742305542269, -0.15889754303574397, 0.8698986288529447, -0.9964530436083726, 0.4100165481373722, -0.4128453281010694, 1.4406077576302683, 1.6011651067675756, -3.3597780905476684, -1.3769568088285187, 1.2177632525884357, -0.14126371111306843, -0.3721476282966241, -1.96760916128469, 0.5213989068129281, -1.453423528558044, 0.3946037066457429, 0.8585996691985393, 0.9237916704788649, 0.3137707208702481, 0.9861633281572418, 0.8940523501948491, 1.300507308282935, 0.769636332141642, 0.599535573702335, -1.8921465187792665, 0.7351759459424257, -0.5245244935897746, 0.41125483420132225, -0.4747146631281052, 0.5430255920252014, -0.8615301256799931, 0.685280739134256, 1.3824752940241554, 0.4691203694022939, 0.2969347029971788, 0.17527373402249957, -0.2664598834122682, -1.0603267101266096, 1.2585999049100745]}, {\"boxpoints\": false, \"line\": {\"width\": 1.3}, \"marker\": {\"color\": \"rgba(55, 128, 191, 1.0)\"}, \"name\": \"B\", \"orientation\": \"v\", \"type\": \"box\", \"y\": [-0.12402007023132434, 0.16105615677002622, 0.023188958701885184, 1.3365766040123495, -1.524892413949562, -1.2841507820438276, 1.453386751286277, 0.18175721164363973, 0.319433640867433, -0.3839768199018055, -1.1032762054402279, -0.037550265782773054, 0.6526531412240898, 1.624937766501667, 1.3347744992777684, -0.34618031920085374, 1.789230219031507, 2.0815389133971967, 1.1552149582137499, 2.601022664007055, 0.7373289608257685, 0.9653657279013573, -0.7141811226367676, -1.5857012600671005, -0.9698880744594625, 1.0629314379178578, 0.3665188577639023, 1.8575226132892655, 0.2810123749569547, 1.0834506863250117, 1.5852384708343445, -1.0821690461594273, 0.45034497515428173, 0.16595132541359575, -0.2837809115954148, -0.5321305547195403, 0.42052444763312613, -0.8638272574567947, -0.1356330350490318, -0.2861953892593525, 0.2987680728920157, -0.7901164099395227, -0.07239267449567097, 0.14885628381591193, -0.15562696332212675, 1.421970514039125, -0.10009080252734245, -2.6887592763650754, 0.523307575152354, 1.839188917214292, -0.31767820041569567, 1.1392661859719995, 1.1126897470779902, -1.4431765471300466, -1.3226216565575393, 1.3061871872446182, -1.2695506775987795, -1.3531008486561023, -0.6190758570607968, -1.6607885320505178, 1.0267781939675455, 0.3332289719972668, 0.4680130394047356, 0.8889197448462989, -1.5825366658785764, -1.3291572534664713, 1.0765003834875582, 0.8441869284582593, -0.49514397185949505, 0.03929643743827132, -0.12982509182576335, 0.9563009984004562, 1.9202450190710358, 0.24483401982736028, 0.10525084048866817, 0.8816366460958016, 1.3465250686822723, -0.21035831042571124, -0.6113086931308005, -1.19868474947971, 0.15785117287865072, -1.031686073119976, 0.1391364456318884, 0.16690430657337105, -1.6588925821515055, 0.5213841464387718, -0.915816274620897, 1.1229320056801422, 0.08918793278246169, -0.379028223962969, -1.591593730810941, 0.5208149612876775, 1.325421610769011, 0.9083172720366367, 0.06163858333894556, 0.14276444823432247, -0.24183087477167728, 2.1473916282420014, 1.2534007307159707, -0.6942650652204457]}, {\"boxpoints\": false, \"line\": {\"width\": 1.3}, \"marker\": {\"color\": \"rgba(50, 171, 96, 1.0)\"}, \"name\": \"C\", \"orientation\": \"v\", \"type\": \"box\", \"y\": [0.17421691582521348, -1.3347870970348765, 0.19504801893508936, 0.615815324125793, 0.6464796590643166, -1.2068024562353317, 0.38785425113995237, 0.3867856556905653, -1.405610785135054, -0.1892805252738717, 0.6760959263848506, -1.9456589651411498, 0.38955785478560134, -0.6177996899408054, -1.8980841458045237, 0.39284227622709483, -0.6028288304777356, 0.15561011597974259, -0.9097505263185375, 0.10959473983493624, -2.2131492836547944, 0.2849727324935136, 0.5144470224888781, 1.7699054422752936, -1.2221741218912672, -1.1744078158919593, 1.3533348672919525, 0.3163792249771611, 0.18174990785515674, 0.054938310415938864, 0.7421200543349438, -0.2346517886452845, -0.6736996536606434, 0.05069725900535534, -1.1456321818505664, -0.5068022698369427, -0.6021573471021463, -0.4607878221675053, -0.0884854645124853, -0.04590785081159762, -1.04763600849066, 0.4606902276536393, 0.10954696224308451, 0.4195693821222619, 1.1535006039214961, -1.1069206380103314, 2.536952794693768, 1.3456678564790383, -0.6003378912958559, -0.9873118391793111, 1.0482107314299267, 1.0789338031902587, -1.188572907090659, 0.5912059519542611, 0.4886531320977451, 2.610633032391518, -1.9065269745751732, 0.8438657058711421, 1.3468239960520911, -0.27865376477509574, 1.198666439892076, -2.7027033096357016, -0.6040637753642535, -1.1381004808640252, 2.0930970754102325, -0.45811192273251283, -0.3669911714827668, -1.8055184309290935, -0.7523499218822268, -0.5539626493287687, 0.4391348881854048, 0.8909540746565411, 1.1375065192661309, 1.3920337518067705, -0.5264114017543187, -0.4691501372827285, 1.0319870837912726, 1.0414077621890583, -0.4362361718080314, 0.6274721877903016, 0.7865082061275752, -0.09670930182764863, -0.9044446996214, -1.6422096544307065, -1.6191953641948122, -1.1499684045637386, 0.0901055296246791, 0.9323804971332048, -0.7382383878429699, -0.27683699976022613, 1.1145056005973129, 1.4770798899929896, 0.7773463083238665, -0.23723646306488114, -0.8341073764054127, 0.6154366027228294, -0.3293054058471099, 0.29654843988100393, -0.6242824345433385, 0.1525757905103892]}, {\"boxpoints\": false, \"line\": {\"width\": 1.3}, \"marker\": {\"color\": \"rgba(128, 0, 128, 1.0)\"}, \"name\": \"D\", \"orientation\": \"v\", \"type\": \"box\", \"y\": [-0.8569379998492204, 0.3532381244547541, -1.473884890795063, -0.5154168667247857, 1.384367533164876, -1.0078285020232705, 1.3841984728026389, 0.02451307765962415, -0.8191583201930199, -0.3527467184075583, -0.5479071878495365, -0.7061249197941388, -0.6429745384859913, 2.1409246356568, 1.580367537531254, 1.28789146918967, 0.8925704640905009, -1.375211578765735, 0.34144433525589074, -0.33643482803724456, 0.29131578426361, 0.5015164804221907, -0.980371957635985, -1.1774548472628246, -0.704026124840796, -0.5122375525583044, 1.0810890088158502, -0.9202248736663858, 0.704686791702668, -0.43547712553175677, 1.5067129918291322, -0.5089658042157246, 0.4454282231709372, -0.1289198337265707, -1.627797981071354, 0.8336237578443855, -0.4560444056597544, 0.9030740144813988, 1.5834770434491787, -0.9358339145730034, 0.7969183032286896, -0.5781513686655708, 0.7483921327775419, 1.023538001015689, 0.1262765942004014, -0.9501603438666566, -1.7679991209710049, 1.0226092349541769, -1.802197151036096, -1.198230518565695, -0.7636118617700086, -1.5543218547764062, 0.04544863175983621, -0.7805809502825641, -1.0353788900860592, -0.9117313916666553, -0.11175866922647903, -1.1595247269140836, -0.0012569538153414971, 0.2467110928867088, -0.3946446207211395, 1.9769602103480681, 0.3269074981419036, 0.1316046053135009, -0.6991559934795253, 0.33254860539219205, -1.7367083956011016, -0.747728238046683, 0.8456389595170039, -0.14768073421492472, -0.4444542150777699, -0.865389102851343, 1.4519493642484027, 1.220400266953391, 0.7895995419799212, 1.239485208665572, -0.4974637808296835, 1.345917602782018, 0.08359953601129336, -0.9115061899739435, -1.4037553998760366, 1.2643586669710747, -0.4462216428031995, 0.5412051608036181, 0.6532594265282092, 0.3028620321630151, -0.2802946889621197, 1.8561149130878898, 0.088919364678717, 0.9336450024822341, -1.1374900867431545, 1.665870940958986, 0.46271435412855166, -2.3740179185676045, 0.16077583669244555, 1.4740402690069374, 0.8935307387081979, -0.49889651737261603, -0.6568088731764845, 0.9751976616519583]}],\n",
       "                        {\"legend\": {\"bgcolor\": \"#F5F6F9\", \"font\": {\"color\": \"#4D5663\"}}, \"paper_bgcolor\": \"#F5F6F9\", \"plot_bgcolor\": \"#F5F6F9\", \"template\": {\"data\": {\"bar\": [{\"error_x\": {\"color\": \"#2a3f5f\"}, \"error_y\": {\"color\": \"#2a3f5f\"}, \"marker\": {\"line\": {\"color\": \"#E5ECF6\", \"width\": 0.5}}, \"type\": \"bar\"}], \"barpolar\": [{\"marker\": {\"line\": {\"color\": \"#E5ECF6\", \"width\": 0.5}}, \"type\": \"barpolar\"}], \"carpet\": [{\"aaxis\": {\"endlinecolor\": \"#2a3f5f\", \"gridcolor\": \"white\", \"linecolor\": \"white\", \"minorgridcolor\": \"white\", \"startlinecolor\": \"#2a3f5f\"}, \"baxis\": {\"endlinecolor\": \"#2a3f5f\", \"gridcolor\": \"white\", \"linecolor\": \"white\", \"minorgridcolor\": \"white\", \"startlinecolor\": \"#2a3f5f\"}, \"type\": \"carpet\"}], \"choropleth\": [{\"colorbar\": {\"outlinewidth\": 0, \"ticks\": \"\"}, \"type\": \"choropleth\"}], \"contour\": [{\"colorbar\": {\"outlinewidth\": 0, \"ticks\": \"\"}, \"colorscale\": [[0.0, \"#0d0887\"], [0.1111111111111111, \"#46039f\"], [0.2222222222222222, \"#7201a8\"], [0.3333333333333333, \"#9c179e\"], [0.4444444444444444, \"#bd3786\"], [0.5555555555555556, \"#d8576b\"], [0.6666666666666666, \"#ed7953\"], [0.7777777777777778, \"#fb9f3a\"], [0.8888888888888888, \"#fdca26\"], [1.0, \"#f0f921\"]], \"type\": \"contour\"}], \"contourcarpet\": [{\"colorbar\": {\"outlinewidth\": 0, \"ticks\": \"\"}, \"type\": \"contourcarpet\"}], \"heatmap\": [{\"colorbar\": {\"outlinewidth\": 0, \"ticks\": \"\"}, \"colorscale\": [[0.0, \"#0d0887\"], [0.1111111111111111, \"#46039f\"], [0.2222222222222222, \"#7201a8\"], [0.3333333333333333, \"#9c179e\"], [0.4444444444444444, \"#bd3786\"], [0.5555555555555556, \"#d8576b\"], [0.6666666666666666, \"#ed7953\"], [0.7777777777777778, \"#fb9f3a\"], [0.8888888888888888, \"#fdca26\"], [1.0, \"#f0f921\"]], \"type\": \"heatmap\"}], \"heatmapgl\": [{\"colorbar\": {\"outlinewidth\": 0, \"ticks\": \"\"}, \"colorscale\": [[0.0, \"#0d0887\"], [0.1111111111111111, \"#46039f\"], [0.2222222222222222, \"#7201a8\"], [0.3333333333333333, \"#9c179e\"], [0.4444444444444444, \"#bd3786\"], [0.5555555555555556, \"#d8576b\"], [0.6666666666666666, \"#ed7953\"], [0.7777777777777778, \"#fb9f3a\"], [0.8888888888888888, \"#fdca26\"], [1.0, \"#f0f921\"]], \"type\": \"heatmapgl\"}], \"histogram\": [{\"marker\": {\"colorbar\": {\"outlinewidth\": 0, \"ticks\": \"\"}}, \"type\": \"histogram\"}], \"histogram2d\": [{\"colorbar\": {\"outlinewidth\": 0, \"ticks\": \"\"}, \"colorscale\": [[0.0, \"#0d0887\"], [0.1111111111111111, \"#46039f\"], [0.2222222222222222, \"#7201a8\"], [0.3333333333333333, \"#9c179e\"], [0.4444444444444444, \"#bd3786\"], [0.5555555555555556, \"#d8576b\"], [0.6666666666666666, \"#ed7953\"], [0.7777777777777778, \"#fb9f3a\"], [0.8888888888888888, \"#fdca26\"], [1.0, \"#f0f921\"]], \"type\": \"histogram2d\"}], \"histogram2dcontour\": [{\"colorbar\": {\"outlinewidth\": 0, \"ticks\": \"\"}, \"colorscale\": [[0.0, \"#0d0887\"], [0.1111111111111111, \"#46039f\"], [0.2222222222222222, \"#7201a8\"], [0.3333333333333333, \"#9c179e\"], [0.4444444444444444, \"#bd3786\"], [0.5555555555555556, \"#d8576b\"], [0.6666666666666666, \"#ed7953\"], [0.7777777777777778, \"#fb9f3a\"], [0.8888888888888888, \"#fdca26\"], [1.0, \"#f0f921\"]], \"type\": \"histogram2dcontour\"}], \"mesh3d\": [{\"colorbar\": {\"outlinewidth\": 0, \"ticks\": \"\"}, \"type\": \"mesh3d\"}], \"parcoords\": [{\"line\": {\"colorbar\": {\"outlinewidth\": 0, \"ticks\": \"\"}}, \"type\": \"parcoords\"}], \"pie\": [{\"automargin\": true, \"type\": \"pie\"}], \"scatter\": [{\"marker\": {\"colorbar\": {\"outlinewidth\": 0, \"ticks\": \"\"}}, \"type\": \"scatter\"}], \"scatter3d\": [{\"line\": {\"colorbar\": {\"outlinewidth\": 0, \"ticks\": \"\"}}, \"marker\": {\"colorbar\": {\"outlinewidth\": 0, \"ticks\": \"\"}}, \"type\": \"scatter3d\"}], \"scattercarpet\": [{\"marker\": {\"colorbar\": {\"outlinewidth\": 0, \"ticks\": \"\"}}, \"type\": \"scattercarpet\"}], \"scattergeo\": [{\"marker\": {\"colorbar\": {\"outlinewidth\": 0, \"ticks\": \"\"}}, \"type\": \"scattergeo\"}], \"scattergl\": [{\"marker\": {\"colorbar\": {\"outlinewidth\": 0, \"ticks\": \"\"}}, \"type\": \"scattergl\"}], \"scattermapbox\": [{\"marker\": {\"colorbar\": {\"outlinewidth\": 0, \"ticks\": \"\"}}, \"type\": \"scattermapbox\"}], \"scatterpolar\": [{\"marker\": {\"colorbar\": {\"outlinewidth\": 0, \"ticks\": \"\"}}, \"type\": \"scatterpolar\"}], \"scatterpolargl\": [{\"marker\": {\"colorbar\": {\"outlinewidth\": 0, \"ticks\": \"\"}}, \"type\": \"scatterpolargl\"}], \"scatterternary\": [{\"marker\": {\"colorbar\": {\"outlinewidth\": 0, \"ticks\": \"\"}}, \"type\": \"scatterternary\"}], \"surface\": [{\"colorbar\": {\"outlinewidth\": 0, \"ticks\": \"\"}, \"colorscale\": [[0.0, \"#0d0887\"], [0.1111111111111111, \"#46039f\"], [0.2222222222222222, \"#7201a8\"], [0.3333333333333333, \"#9c179e\"], [0.4444444444444444, \"#bd3786\"], [0.5555555555555556, \"#d8576b\"], [0.6666666666666666, \"#ed7953\"], [0.7777777777777778, \"#fb9f3a\"], [0.8888888888888888, \"#fdca26\"], [1.0, \"#f0f921\"]], \"type\": \"surface\"}], \"table\": [{\"cells\": {\"fill\": {\"color\": \"#EBF0F8\"}, \"line\": {\"color\": \"white\"}}, \"header\": {\"fill\": {\"color\": \"#C8D4E3\"}, \"line\": {\"color\": \"white\"}}, \"type\": \"table\"}]}, \"layout\": {\"annotationdefaults\": {\"arrowcolor\": \"#2a3f5f\", \"arrowhead\": 0, \"arrowwidth\": 1}, \"coloraxis\": {\"colorbar\": {\"outlinewidth\": 0, \"ticks\": \"\"}}, \"colorscale\": {\"diverging\": [[0, \"#8e0152\"], [0.1, \"#c51b7d\"], [0.2, \"#de77ae\"], [0.3, \"#f1b6da\"], [0.4, \"#fde0ef\"], [0.5, \"#f7f7f7\"], [0.6, \"#e6f5d0\"], [0.7, \"#b8e186\"], [0.8, \"#7fbc41\"], [0.9, \"#4d9221\"], [1, \"#276419\"]], \"sequential\": [[0.0, \"#0d0887\"], [0.1111111111111111, \"#46039f\"], [0.2222222222222222, \"#7201a8\"], [0.3333333333333333, \"#9c179e\"], [0.4444444444444444, \"#bd3786\"], [0.5555555555555556, \"#d8576b\"], [0.6666666666666666, \"#ed7953\"], [0.7777777777777778, \"#fb9f3a\"], [0.8888888888888888, \"#fdca26\"], [1.0, \"#f0f921\"]], \"sequentialminus\": [[0.0, \"#0d0887\"], [0.1111111111111111, \"#46039f\"], [0.2222222222222222, \"#7201a8\"], [0.3333333333333333, \"#9c179e\"], [0.4444444444444444, \"#bd3786\"], [0.5555555555555556, \"#d8576b\"], [0.6666666666666666, \"#ed7953\"], [0.7777777777777778, \"#fb9f3a\"], [0.8888888888888888, \"#fdca26\"], [1.0, \"#f0f921\"]]}, \"colorway\": [\"#636efa\", \"#EF553B\", \"#00cc96\", \"#ab63fa\", \"#FFA15A\", \"#19d3f3\", \"#FF6692\", \"#B6E880\", \"#FF97FF\", \"#FECB52\"], \"font\": {\"color\": \"#2a3f5f\"}, \"geo\": {\"bgcolor\": \"white\", \"lakecolor\": \"white\", \"landcolor\": \"#E5ECF6\", \"showlakes\": true, \"showland\": true, \"subunitcolor\": \"white\"}, \"hoverlabel\": {\"align\": \"left\"}, \"hovermode\": \"closest\", \"mapbox\": {\"style\": \"light\"}, \"paper_bgcolor\": \"white\", \"plot_bgcolor\": \"#E5ECF6\", \"polar\": {\"angularaxis\": {\"gridcolor\": \"white\", \"linecolor\": \"white\", \"ticks\": \"\"}, \"bgcolor\": \"#E5ECF6\", \"radialaxis\": {\"gridcolor\": \"white\", \"linecolor\": \"white\", \"ticks\": \"\"}}, \"scene\": {\"xaxis\": {\"backgroundcolor\": \"#E5ECF6\", \"gridcolor\": \"white\", \"gridwidth\": 2, \"linecolor\": \"white\", \"showbackground\": true, \"ticks\": \"\", \"zerolinecolor\": \"white\"}, \"yaxis\": {\"backgroundcolor\": \"#E5ECF6\", \"gridcolor\": \"white\", \"gridwidth\": 2, \"linecolor\": \"white\", \"showbackground\": true, \"ticks\": \"\", \"zerolinecolor\": \"white\"}, \"zaxis\": {\"backgroundcolor\": \"#E5ECF6\", \"gridcolor\": \"white\", \"gridwidth\": 2, \"linecolor\": \"white\", \"showbackground\": true, \"ticks\": \"\", \"zerolinecolor\": \"white\"}}, \"shapedefaults\": {\"line\": {\"color\": \"#2a3f5f\"}}, \"ternary\": {\"aaxis\": {\"gridcolor\": \"white\", \"linecolor\": \"white\", \"ticks\": \"\"}, \"baxis\": {\"gridcolor\": \"white\", \"linecolor\": \"white\", \"ticks\": \"\"}, \"bgcolor\": \"#E5ECF6\", \"caxis\": {\"gridcolor\": \"white\", \"linecolor\": \"white\", \"ticks\": \"\"}}, \"title\": {\"x\": 0.05}, \"xaxis\": {\"automargin\": true, \"gridcolor\": \"white\", \"linecolor\": \"white\", \"ticks\": \"\", \"title\": {\"standoff\": 15}, \"zerolinecolor\": \"white\", \"zerolinewidth\": 2}, \"yaxis\": {\"automargin\": true, \"gridcolor\": \"white\", \"linecolor\": \"white\", \"ticks\": \"\", \"title\": {\"standoff\": 15}, \"zerolinecolor\": \"white\", \"zerolinewidth\": 2}}}, \"title\": {\"font\": {\"color\": \"#4D5663\"}}, \"xaxis\": {\"gridcolor\": \"#E1E5ED\", \"showgrid\": true, \"tickfont\": {\"color\": \"#4D5663\"}, \"title\": {\"font\": {\"color\": \"#4D5663\"}, \"text\": \"\"}, \"zerolinecolor\": \"#E1E5ED\"}, \"yaxis\": {\"gridcolor\": \"#E1E5ED\", \"showgrid\": true, \"tickfont\": {\"color\": \"#4D5663\"}, \"title\": {\"font\": {\"color\": \"#4D5663\"}, \"text\": \"\"}, \"zerolinecolor\": \"#E1E5ED\"}},\n",
       "                        {\"showLink\": true, \"linkText\": \"Export to plot.ly\", \"plotlyServerURL\": \"https://plot.ly\", \"responsive\": true}\n",
       "                    ).then(function(){\n",
       "                            \n",
       "var gd = document.getElementById('7b15f489-7130-42eb-b31b-48b3d413f5c3');\n",
       "var x = new MutationObserver(function (mutations, observer) {{\n",
       "        var display = window.getComputedStyle(gd).display;\n",
       "        if (!display || display === 'none') {{\n",
       "            console.log([gd, 'removed!']);\n",
       "            Plotly.purge(gd);\n",
       "            observer.disconnect();\n",
       "        }}\n",
       "}});\n",
       "\n",
       "// Listen for the removal of the full notebook cells\n",
       "var notebookContainer = gd.closest('#notebook-container');\n",
       "if (notebookContainer) {{\n",
       "    x.observe(notebookContainer, {childList: true});\n",
       "}}\n",
       "\n",
       "// Listen for the clearing of the current output cell\n",
       "var outputEl = gd.closest('.output');\n",
       "if (outputEl) {{\n",
       "    x.observe(outputEl, {childList: true});\n",
       "}}\n",
       "\n",
       "                        })\n",
       "                };\n",
       "                });\n",
       "            </script>\n",
       "        </div>"
      ]
     },
     "metadata": {},
     "output_type": "display_data"
    }
   ],
   "source": [
    "# boxplot"
   ]
  },
  {
   "cell_type": "code",
   "execution_count": 18,
   "metadata": {
    "Collapsed": "false"
   },
   "outputs": [],
   "source": [
    "df3 = pd.DataFrame({'x':[1,2,3,4,5],'y':[10,20,30,20,10],'z':[5,4,3,2,1]})"
   ]
  },
  {
   "cell_type": "markdown",
   "metadata": {
    "Collapsed": "false"
   },
   "source": [
    "# 3d surface"
   ]
  },
  {
   "cell_type": "code",
   "execution_count": 19,
   "metadata": {
    "Collapsed": "false"
   },
   "outputs": [
    {
     "data": {
      "application/vnd.plotly.v1+json": {
       "config": {
        "linkText": "Export to plot.ly",
        "plotlyServerURL": "https://plot.ly",
        "showLink": true
       },
       "data": [
        {
         "colorscale": [
          [
           0,
           "rgb(165,0,38)"
          ],
          [
           0.1,
           "rgb(215,48,39)"
          ],
          [
           0.2,
           "rgb(244,109,67)"
          ],
          [
           0.3,
           "rgb(253,174,97)"
          ],
          [
           0.4,
           "rgb(254,224,144)"
          ],
          [
           0.5,
           "rgb(255,255,191)"
          ],
          [
           0.6,
           "rgb(224,243,248)"
          ],
          [
           0.7,
           "rgb(171,217,233)"
          ],
          [
           0.8,
           "rgb(116,173,209)"
          ],
          [
           0.9,
           "rgb(69,117,180)"
          ],
          [
           1,
           "rgb(49,54,149)"
          ]
         ],
         "type": "surface",
         "x": [
          0,
          1,
          2,
          3,
          4
         ],
         "y": [
          "x",
          "y",
          "z"
         ],
         "z": [
          [
           1,
           2,
           3,
           4,
           5
          ],
          [
           10,
           20,
           30,
           20,
           10
          ],
          [
           5,
           4,
           3,
           2,
           1
          ]
         ]
        }
       ],
       "layout": {
        "legend": {
         "bgcolor": "#F5F6F9",
         "font": {
          "color": "#4D5663"
         }
        },
        "paper_bgcolor": "#F5F6F9",
        "plot_bgcolor": "#F5F6F9",
        "template": {
         "data": {
          "bar": [
           {
            "error_x": {
             "color": "#2a3f5f"
            },
            "error_y": {
             "color": "#2a3f5f"
            },
            "marker": {
             "line": {
              "color": "#E5ECF6",
              "width": 0.5
             }
            },
            "type": "bar"
           }
          ],
          "barpolar": [
           {
            "marker": {
             "line": {
              "color": "#E5ECF6",
              "width": 0.5
             }
            },
            "type": "barpolar"
           }
          ],
          "carpet": [
           {
            "aaxis": {
             "endlinecolor": "#2a3f5f",
             "gridcolor": "white",
             "linecolor": "white",
             "minorgridcolor": "white",
             "startlinecolor": "#2a3f5f"
            },
            "baxis": {
             "endlinecolor": "#2a3f5f",
             "gridcolor": "white",
             "linecolor": "white",
             "minorgridcolor": "white",
             "startlinecolor": "#2a3f5f"
            },
            "type": "carpet"
           }
          ],
          "choropleth": [
           {
            "colorbar": {
             "outlinewidth": 0,
             "ticks": ""
            },
            "type": "choropleth"
           }
          ],
          "contour": [
           {
            "colorbar": {
             "outlinewidth": 0,
             "ticks": ""
            },
            "colorscale": [
             [
              0,
              "#0d0887"
             ],
             [
              0.1111111111111111,
              "#46039f"
             ],
             [
              0.2222222222222222,
              "#7201a8"
             ],
             [
              0.3333333333333333,
              "#9c179e"
             ],
             [
              0.4444444444444444,
              "#bd3786"
             ],
             [
              0.5555555555555556,
              "#d8576b"
             ],
             [
              0.6666666666666666,
              "#ed7953"
             ],
             [
              0.7777777777777778,
              "#fb9f3a"
             ],
             [
              0.8888888888888888,
              "#fdca26"
             ],
             [
              1,
              "#f0f921"
             ]
            ],
            "type": "contour"
           }
          ],
          "contourcarpet": [
           {
            "colorbar": {
             "outlinewidth": 0,
             "ticks": ""
            },
            "type": "contourcarpet"
           }
          ],
          "heatmap": [
           {
            "colorbar": {
             "outlinewidth": 0,
             "ticks": ""
            },
            "colorscale": [
             [
              0,
              "#0d0887"
             ],
             [
              0.1111111111111111,
              "#46039f"
             ],
             [
              0.2222222222222222,
              "#7201a8"
             ],
             [
              0.3333333333333333,
              "#9c179e"
             ],
             [
              0.4444444444444444,
              "#bd3786"
             ],
             [
              0.5555555555555556,
              "#d8576b"
             ],
             [
              0.6666666666666666,
              "#ed7953"
             ],
             [
              0.7777777777777778,
              "#fb9f3a"
             ],
             [
              0.8888888888888888,
              "#fdca26"
             ],
             [
              1,
              "#f0f921"
             ]
            ],
            "type": "heatmap"
           }
          ],
          "heatmapgl": [
           {
            "colorbar": {
             "outlinewidth": 0,
             "ticks": ""
            },
            "colorscale": [
             [
              0,
              "#0d0887"
             ],
             [
              0.1111111111111111,
              "#46039f"
             ],
             [
              0.2222222222222222,
              "#7201a8"
             ],
             [
              0.3333333333333333,
              "#9c179e"
             ],
             [
              0.4444444444444444,
              "#bd3786"
             ],
             [
              0.5555555555555556,
              "#d8576b"
             ],
             [
              0.6666666666666666,
              "#ed7953"
             ],
             [
              0.7777777777777778,
              "#fb9f3a"
             ],
             [
              0.8888888888888888,
              "#fdca26"
             ],
             [
              1,
              "#f0f921"
             ]
            ],
            "type": "heatmapgl"
           }
          ],
          "histogram": [
           {
            "marker": {
             "colorbar": {
              "outlinewidth": 0,
              "ticks": ""
             }
            },
            "type": "histogram"
           }
          ],
          "histogram2d": [
           {
            "colorbar": {
             "outlinewidth": 0,
             "ticks": ""
            },
            "colorscale": [
             [
              0,
              "#0d0887"
             ],
             [
              0.1111111111111111,
              "#46039f"
             ],
             [
              0.2222222222222222,
              "#7201a8"
             ],
             [
              0.3333333333333333,
              "#9c179e"
             ],
             [
              0.4444444444444444,
              "#bd3786"
             ],
             [
              0.5555555555555556,
              "#d8576b"
             ],
             [
              0.6666666666666666,
              "#ed7953"
             ],
             [
              0.7777777777777778,
              "#fb9f3a"
             ],
             [
              0.8888888888888888,
              "#fdca26"
             ],
             [
              1,
              "#f0f921"
             ]
            ],
            "type": "histogram2d"
           }
          ],
          "histogram2dcontour": [
           {
            "colorbar": {
             "outlinewidth": 0,
             "ticks": ""
            },
            "colorscale": [
             [
              0,
              "#0d0887"
             ],
             [
              0.1111111111111111,
              "#46039f"
             ],
             [
              0.2222222222222222,
              "#7201a8"
             ],
             [
              0.3333333333333333,
              "#9c179e"
             ],
             [
              0.4444444444444444,
              "#bd3786"
             ],
             [
              0.5555555555555556,
              "#d8576b"
             ],
             [
              0.6666666666666666,
              "#ed7953"
             ],
             [
              0.7777777777777778,
              "#fb9f3a"
             ],
             [
              0.8888888888888888,
              "#fdca26"
             ],
             [
              1,
              "#f0f921"
             ]
            ],
            "type": "histogram2dcontour"
           }
          ],
          "mesh3d": [
           {
            "colorbar": {
             "outlinewidth": 0,
             "ticks": ""
            },
            "type": "mesh3d"
           }
          ],
          "parcoords": [
           {
            "line": {
             "colorbar": {
              "outlinewidth": 0,
              "ticks": ""
             }
            },
            "type": "parcoords"
           }
          ],
          "pie": [
           {
            "automargin": true,
            "type": "pie"
           }
          ],
          "scatter": [
           {
            "marker": {
             "colorbar": {
              "outlinewidth": 0,
              "ticks": ""
             }
            },
            "type": "scatter"
           }
          ],
          "scatter3d": [
           {
            "line": {
             "colorbar": {
              "outlinewidth": 0,
              "ticks": ""
             }
            },
            "marker": {
             "colorbar": {
              "outlinewidth": 0,
              "ticks": ""
             }
            },
            "type": "scatter3d"
           }
          ],
          "scattercarpet": [
           {
            "marker": {
             "colorbar": {
              "outlinewidth": 0,
              "ticks": ""
             }
            },
            "type": "scattercarpet"
           }
          ],
          "scattergeo": [
           {
            "marker": {
             "colorbar": {
              "outlinewidth": 0,
              "ticks": ""
             }
            },
            "type": "scattergeo"
           }
          ],
          "scattergl": [
           {
            "marker": {
             "colorbar": {
              "outlinewidth": 0,
              "ticks": ""
             }
            },
            "type": "scattergl"
           }
          ],
          "scattermapbox": [
           {
            "marker": {
             "colorbar": {
              "outlinewidth": 0,
              "ticks": ""
             }
            },
            "type": "scattermapbox"
           }
          ],
          "scatterpolar": [
           {
            "marker": {
             "colorbar": {
              "outlinewidth": 0,
              "ticks": ""
             }
            },
            "type": "scatterpolar"
           }
          ],
          "scatterpolargl": [
           {
            "marker": {
             "colorbar": {
              "outlinewidth": 0,
              "ticks": ""
             }
            },
            "type": "scatterpolargl"
           }
          ],
          "scatterternary": [
           {
            "marker": {
             "colorbar": {
              "outlinewidth": 0,
              "ticks": ""
             }
            },
            "type": "scatterternary"
           }
          ],
          "surface": [
           {
            "colorbar": {
             "outlinewidth": 0,
             "ticks": ""
            },
            "colorscale": [
             [
              0,
              "#0d0887"
             ],
             [
              0.1111111111111111,
              "#46039f"
             ],
             [
              0.2222222222222222,
              "#7201a8"
             ],
             [
              0.3333333333333333,
              "#9c179e"
             ],
             [
              0.4444444444444444,
              "#bd3786"
             ],
             [
              0.5555555555555556,
              "#d8576b"
             ],
             [
              0.6666666666666666,
              "#ed7953"
             ],
             [
              0.7777777777777778,
              "#fb9f3a"
             ],
             [
              0.8888888888888888,
              "#fdca26"
             ],
             [
              1,
              "#f0f921"
             ]
            ],
            "type": "surface"
           }
          ],
          "table": [
           {
            "cells": {
             "fill": {
              "color": "#EBF0F8"
             },
             "line": {
              "color": "white"
             }
            },
            "header": {
             "fill": {
              "color": "#C8D4E3"
             },
             "line": {
              "color": "white"
             }
            },
            "type": "table"
           }
          ]
         },
         "layout": {
          "annotationdefaults": {
           "arrowcolor": "#2a3f5f",
           "arrowhead": 0,
           "arrowwidth": 1
          },
          "coloraxis": {
           "colorbar": {
            "outlinewidth": 0,
            "ticks": ""
           }
          },
          "colorscale": {
           "diverging": [
            [
             0,
             "#8e0152"
            ],
            [
             0.1,
             "#c51b7d"
            ],
            [
             0.2,
             "#de77ae"
            ],
            [
             0.3,
             "#f1b6da"
            ],
            [
             0.4,
             "#fde0ef"
            ],
            [
             0.5,
             "#f7f7f7"
            ],
            [
             0.6,
             "#e6f5d0"
            ],
            [
             0.7,
             "#b8e186"
            ],
            [
             0.8,
             "#7fbc41"
            ],
            [
             0.9,
             "#4d9221"
            ],
            [
             1,
             "#276419"
            ]
           ],
           "sequential": [
            [
             0,
             "#0d0887"
            ],
            [
             0.1111111111111111,
             "#46039f"
            ],
            [
             0.2222222222222222,
             "#7201a8"
            ],
            [
             0.3333333333333333,
             "#9c179e"
            ],
            [
             0.4444444444444444,
             "#bd3786"
            ],
            [
             0.5555555555555556,
             "#d8576b"
            ],
            [
             0.6666666666666666,
             "#ed7953"
            ],
            [
             0.7777777777777778,
             "#fb9f3a"
            ],
            [
             0.8888888888888888,
             "#fdca26"
            ],
            [
             1,
             "#f0f921"
            ]
           ],
           "sequentialminus": [
            [
             0,
             "#0d0887"
            ],
            [
             0.1111111111111111,
             "#46039f"
            ],
            [
             0.2222222222222222,
             "#7201a8"
            ],
            [
             0.3333333333333333,
             "#9c179e"
            ],
            [
             0.4444444444444444,
             "#bd3786"
            ],
            [
             0.5555555555555556,
             "#d8576b"
            ],
            [
             0.6666666666666666,
             "#ed7953"
            ],
            [
             0.7777777777777778,
             "#fb9f3a"
            ],
            [
             0.8888888888888888,
             "#fdca26"
            ],
            [
             1,
             "#f0f921"
            ]
           ]
          },
          "colorway": [
           "#636efa",
           "#EF553B",
           "#00cc96",
           "#ab63fa",
           "#FFA15A",
           "#19d3f3",
           "#FF6692",
           "#B6E880",
           "#FF97FF",
           "#FECB52"
          ],
          "font": {
           "color": "#2a3f5f"
          },
          "geo": {
           "bgcolor": "white",
           "lakecolor": "white",
           "landcolor": "#E5ECF6",
           "showlakes": true,
           "showland": true,
           "subunitcolor": "white"
          },
          "hoverlabel": {
           "align": "left"
          },
          "hovermode": "closest",
          "mapbox": {
           "style": "light"
          },
          "paper_bgcolor": "white",
          "plot_bgcolor": "#E5ECF6",
          "polar": {
           "angularaxis": {
            "gridcolor": "white",
            "linecolor": "white",
            "ticks": ""
           },
           "bgcolor": "#E5ECF6",
           "radialaxis": {
            "gridcolor": "white",
            "linecolor": "white",
            "ticks": ""
           }
          },
          "scene": {
           "xaxis": {
            "backgroundcolor": "#E5ECF6",
            "gridcolor": "white",
            "gridwidth": 2,
            "linecolor": "white",
            "showbackground": true,
            "ticks": "",
            "zerolinecolor": "white"
           },
           "yaxis": {
            "backgroundcolor": "#E5ECF6",
            "gridcolor": "white",
            "gridwidth": 2,
            "linecolor": "white",
            "showbackground": true,
            "ticks": "",
            "zerolinecolor": "white"
           },
           "zaxis": {
            "backgroundcolor": "#E5ECF6",
            "gridcolor": "white",
            "gridwidth": 2,
            "linecolor": "white",
            "showbackground": true,
            "ticks": "",
            "zerolinecolor": "white"
           }
          },
          "shapedefaults": {
           "line": {
            "color": "#2a3f5f"
           }
          },
          "ternary": {
           "aaxis": {
            "gridcolor": "white",
            "linecolor": "white",
            "ticks": ""
           },
           "baxis": {
            "gridcolor": "white",
            "linecolor": "white",
            "ticks": ""
           },
           "bgcolor": "#E5ECF6",
           "caxis": {
            "gridcolor": "white",
            "linecolor": "white",
            "ticks": ""
           }
          },
          "title": {
           "x": 0.05
          },
          "xaxis": {
           "automargin": true,
           "gridcolor": "white",
           "linecolor": "white",
           "ticks": "",
           "title": {
            "standoff": 15
           },
           "zerolinecolor": "white",
           "zerolinewidth": 2
          },
          "yaxis": {
           "automargin": true,
           "gridcolor": "white",
           "linecolor": "white",
           "ticks": "",
           "title": {
            "standoff": 15
           },
           "zerolinecolor": "white",
           "zerolinewidth": 2
          }
         }
        },
        "title": {
         "font": {
          "color": "#4D5663"
         }
        },
        "xaxis": {
         "gridcolor": "#E1E5ED",
         "showgrid": true,
         "tickfont": {
          "color": "#4D5663"
         },
         "title": {
          "font": {
           "color": "#4D5663"
          },
          "text": ""
         },
         "zerolinecolor": "#E1E5ED"
        },
        "yaxis": {
         "gridcolor": "#E1E5ED",
         "showgrid": true,
         "tickfont": {
          "color": "#4D5663"
         },
         "title": {
          "font": {
           "color": "#4D5663"
          },
          "text": ""
         },
         "zerolinecolor": "#E1E5ED"
        }
       }
      },
      "text/html": [
       "<div>\n",
       "        \n",
       "        \n",
       "            <div id=\"3c96b24f-33ce-4edc-b6aa-9f49fe02375d\" class=\"plotly-graph-div\" style=\"height:525px; width:100%;\"></div>\n",
       "            <script type=\"text/javascript\">\n",
       "                require([\"plotly\"], function(Plotly) {\n",
       "                    window.PLOTLYENV=window.PLOTLYENV || {};\n",
       "                    window.PLOTLYENV.BASE_URL='https://plot.ly';\n",
       "                    \n",
       "                if (document.getElementById(\"3c96b24f-33ce-4edc-b6aa-9f49fe02375d\")) {\n",
       "                    Plotly.newPlot(\n",
       "                        '3c96b24f-33ce-4edc-b6aa-9f49fe02375d',\n",
       "                        [{\"colorscale\": [[0.0, \"rgb(165,0,38)\"], [0.1, \"rgb(215,48,39)\"], [0.2, \"rgb(244,109,67)\"], [0.3, \"rgb(253,174,97)\"], [0.4, \"rgb(254,224,144)\"], [0.5, \"rgb(255,255,191)\"], [0.6, \"rgb(224,243,248)\"], [0.7, \"rgb(171,217,233)\"], [0.8, \"rgb(116,173,209)\"], [0.9, \"rgb(69,117,180)\"], [1.0, \"rgb(49,54,149)\"]], \"type\": \"surface\", \"x\": [0, 1, 2, 3, 4], \"y\": [\"x\", \"y\", \"z\"], \"z\": [[1, 2, 3, 4, 5], [10, 20, 30, 20, 10], [5, 4, 3, 2, 1]]}],\n",
       "                        {\"legend\": {\"bgcolor\": \"#F5F6F9\", \"font\": {\"color\": \"#4D5663\"}}, \"paper_bgcolor\": \"#F5F6F9\", \"plot_bgcolor\": \"#F5F6F9\", \"template\": {\"data\": {\"bar\": [{\"error_x\": {\"color\": \"#2a3f5f\"}, \"error_y\": {\"color\": \"#2a3f5f\"}, \"marker\": {\"line\": {\"color\": \"#E5ECF6\", \"width\": 0.5}}, \"type\": \"bar\"}], \"barpolar\": [{\"marker\": {\"line\": {\"color\": \"#E5ECF6\", \"width\": 0.5}}, \"type\": \"barpolar\"}], \"carpet\": [{\"aaxis\": {\"endlinecolor\": \"#2a3f5f\", \"gridcolor\": \"white\", \"linecolor\": \"white\", \"minorgridcolor\": \"white\", \"startlinecolor\": \"#2a3f5f\"}, \"baxis\": {\"endlinecolor\": \"#2a3f5f\", \"gridcolor\": \"white\", \"linecolor\": \"white\", \"minorgridcolor\": \"white\", \"startlinecolor\": \"#2a3f5f\"}, \"type\": \"carpet\"}], \"choropleth\": [{\"colorbar\": {\"outlinewidth\": 0, \"ticks\": \"\"}, \"type\": \"choropleth\"}], \"contour\": [{\"colorbar\": {\"outlinewidth\": 0, \"ticks\": \"\"}, \"colorscale\": [[0.0, \"#0d0887\"], [0.1111111111111111, \"#46039f\"], [0.2222222222222222, \"#7201a8\"], [0.3333333333333333, \"#9c179e\"], [0.4444444444444444, \"#bd3786\"], [0.5555555555555556, \"#d8576b\"], [0.6666666666666666, \"#ed7953\"], [0.7777777777777778, \"#fb9f3a\"], [0.8888888888888888, \"#fdca26\"], [1.0, \"#f0f921\"]], \"type\": \"contour\"}], \"contourcarpet\": [{\"colorbar\": {\"outlinewidth\": 0, \"ticks\": \"\"}, \"type\": \"contourcarpet\"}], \"heatmap\": [{\"colorbar\": {\"outlinewidth\": 0, \"ticks\": \"\"}, \"colorscale\": [[0.0, \"#0d0887\"], [0.1111111111111111, \"#46039f\"], [0.2222222222222222, \"#7201a8\"], [0.3333333333333333, \"#9c179e\"], [0.4444444444444444, \"#bd3786\"], [0.5555555555555556, \"#d8576b\"], [0.6666666666666666, \"#ed7953\"], [0.7777777777777778, \"#fb9f3a\"], [0.8888888888888888, \"#fdca26\"], [1.0, \"#f0f921\"]], \"type\": \"heatmap\"}], \"heatmapgl\": [{\"colorbar\": {\"outlinewidth\": 0, \"ticks\": \"\"}, \"colorscale\": [[0.0, \"#0d0887\"], [0.1111111111111111, \"#46039f\"], [0.2222222222222222, \"#7201a8\"], [0.3333333333333333, \"#9c179e\"], [0.4444444444444444, \"#bd3786\"], [0.5555555555555556, \"#d8576b\"], [0.6666666666666666, \"#ed7953\"], [0.7777777777777778, \"#fb9f3a\"], [0.8888888888888888, \"#fdca26\"], [1.0, \"#f0f921\"]], \"type\": \"heatmapgl\"}], \"histogram\": [{\"marker\": {\"colorbar\": {\"outlinewidth\": 0, \"ticks\": \"\"}}, \"type\": \"histogram\"}], \"histogram2d\": [{\"colorbar\": {\"outlinewidth\": 0, \"ticks\": \"\"}, \"colorscale\": [[0.0, \"#0d0887\"], [0.1111111111111111, \"#46039f\"], [0.2222222222222222, \"#7201a8\"], [0.3333333333333333, \"#9c179e\"], [0.4444444444444444, \"#bd3786\"], [0.5555555555555556, \"#d8576b\"], [0.6666666666666666, \"#ed7953\"], [0.7777777777777778, \"#fb9f3a\"], [0.8888888888888888, \"#fdca26\"], [1.0, \"#f0f921\"]], \"type\": \"histogram2d\"}], \"histogram2dcontour\": [{\"colorbar\": {\"outlinewidth\": 0, \"ticks\": \"\"}, \"colorscale\": [[0.0, \"#0d0887\"], [0.1111111111111111, \"#46039f\"], [0.2222222222222222, \"#7201a8\"], [0.3333333333333333, \"#9c179e\"], [0.4444444444444444, \"#bd3786\"], [0.5555555555555556, \"#d8576b\"], [0.6666666666666666, \"#ed7953\"], [0.7777777777777778, \"#fb9f3a\"], [0.8888888888888888, \"#fdca26\"], [1.0, \"#f0f921\"]], \"type\": \"histogram2dcontour\"}], \"mesh3d\": [{\"colorbar\": {\"outlinewidth\": 0, \"ticks\": \"\"}, \"type\": \"mesh3d\"}], \"parcoords\": [{\"line\": {\"colorbar\": {\"outlinewidth\": 0, \"ticks\": \"\"}}, \"type\": \"parcoords\"}], \"pie\": [{\"automargin\": true, \"type\": \"pie\"}], \"scatter\": [{\"marker\": {\"colorbar\": {\"outlinewidth\": 0, \"ticks\": \"\"}}, \"type\": \"scatter\"}], \"scatter3d\": [{\"line\": {\"colorbar\": {\"outlinewidth\": 0, \"ticks\": \"\"}}, \"marker\": {\"colorbar\": {\"outlinewidth\": 0, \"ticks\": \"\"}}, \"type\": \"scatter3d\"}], \"scattercarpet\": [{\"marker\": {\"colorbar\": {\"outlinewidth\": 0, \"ticks\": \"\"}}, \"type\": \"scattercarpet\"}], \"scattergeo\": [{\"marker\": {\"colorbar\": {\"outlinewidth\": 0, \"ticks\": \"\"}}, \"type\": \"scattergeo\"}], \"scattergl\": [{\"marker\": {\"colorbar\": {\"outlinewidth\": 0, \"ticks\": \"\"}}, \"type\": \"scattergl\"}], \"scattermapbox\": [{\"marker\": {\"colorbar\": {\"outlinewidth\": 0, \"ticks\": \"\"}}, \"type\": \"scattermapbox\"}], \"scatterpolar\": [{\"marker\": {\"colorbar\": {\"outlinewidth\": 0, \"ticks\": \"\"}}, \"type\": \"scatterpolar\"}], \"scatterpolargl\": [{\"marker\": {\"colorbar\": {\"outlinewidth\": 0, \"ticks\": \"\"}}, \"type\": \"scatterpolargl\"}], \"scatterternary\": [{\"marker\": {\"colorbar\": {\"outlinewidth\": 0, \"ticks\": \"\"}}, \"type\": \"scatterternary\"}], \"surface\": [{\"colorbar\": {\"outlinewidth\": 0, \"ticks\": \"\"}, \"colorscale\": [[0.0, \"#0d0887\"], [0.1111111111111111, \"#46039f\"], [0.2222222222222222, \"#7201a8\"], [0.3333333333333333, \"#9c179e\"], [0.4444444444444444, \"#bd3786\"], [0.5555555555555556, \"#d8576b\"], [0.6666666666666666, \"#ed7953\"], [0.7777777777777778, \"#fb9f3a\"], [0.8888888888888888, \"#fdca26\"], [1.0, \"#f0f921\"]], \"type\": \"surface\"}], \"table\": [{\"cells\": {\"fill\": {\"color\": \"#EBF0F8\"}, \"line\": {\"color\": \"white\"}}, \"header\": {\"fill\": {\"color\": \"#C8D4E3\"}, \"line\": {\"color\": \"white\"}}, \"type\": \"table\"}]}, \"layout\": {\"annotationdefaults\": {\"arrowcolor\": \"#2a3f5f\", \"arrowhead\": 0, \"arrowwidth\": 1}, \"coloraxis\": {\"colorbar\": {\"outlinewidth\": 0, \"ticks\": \"\"}}, \"colorscale\": {\"diverging\": [[0, \"#8e0152\"], [0.1, \"#c51b7d\"], [0.2, \"#de77ae\"], [0.3, \"#f1b6da\"], [0.4, \"#fde0ef\"], [0.5, \"#f7f7f7\"], [0.6, \"#e6f5d0\"], [0.7, \"#b8e186\"], [0.8, \"#7fbc41\"], [0.9, \"#4d9221\"], [1, \"#276419\"]], \"sequential\": [[0.0, \"#0d0887\"], [0.1111111111111111, \"#46039f\"], [0.2222222222222222, \"#7201a8\"], [0.3333333333333333, \"#9c179e\"], [0.4444444444444444, \"#bd3786\"], [0.5555555555555556, \"#d8576b\"], [0.6666666666666666, \"#ed7953\"], [0.7777777777777778, \"#fb9f3a\"], [0.8888888888888888, \"#fdca26\"], [1.0, \"#f0f921\"]], \"sequentialminus\": [[0.0, \"#0d0887\"], [0.1111111111111111, \"#46039f\"], [0.2222222222222222, \"#7201a8\"], [0.3333333333333333, \"#9c179e\"], [0.4444444444444444, \"#bd3786\"], [0.5555555555555556, \"#d8576b\"], [0.6666666666666666, \"#ed7953\"], [0.7777777777777778, \"#fb9f3a\"], [0.8888888888888888, \"#fdca26\"], [1.0, \"#f0f921\"]]}, \"colorway\": [\"#636efa\", \"#EF553B\", \"#00cc96\", \"#ab63fa\", \"#FFA15A\", \"#19d3f3\", \"#FF6692\", \"#B6E880\", \"#FF97FF\", \"#FECB52\"], \"font\": {\"color\": \"#2a3f5f\"}, \"geo\": {\"bgcolor\": \"white\", \"lakecolor\": \"white\", \"landcolor\": \"#E5ECF6\", \"showlakes\": true, \"showland\": true, \"subunitcolor\": \"white\"}, \"hoverlabel\": {\"align\": \"left\"}, \"hovermode\": \"closest\", \"mapbox\": {\"style\": \"light\"}, \"paper_bgcolor\": \"white\", \"plot_bgcolor\": \"#E5ECF6\", \"polar\": {\"angularaxis\": {\"gridcolor\": \"white\", \"linecolor\": \"white\", \"ticks\": \"\"}, \"bgcolor\": \"#E5ECF6\", \"radialaxis\": {\"gridcolor\": \"white\", \"linecolor\": \"white\", \"ticks\": \"\"}}, \"scene\": {\"xaxis\": {\"backgroundcolor\": \"#E5ECF6\", \"gridcolor\": \"white\", \"gridwidth\": 2, \"linecolor\": \"white\", \"showbackground\": true, \"ticks\": \"\", \"zerolinecolor\": \"white\"}, \"yaxis\": {\"backgroundcolor\": \"#E5ECF6\", \"gridcolor\": \"white\", \"gridwidth\": 2, \"linecolor\": \"white\", \"showbackground\": true, \"ticks\": \"\", \"zerolinecolor\": \"white\"}, \"zaxis\": {\"backgroundcolor\": \"#E5ECF6\", \"gridcolor\": \"white\", \"gridwidth\": 2, \"linecolor\": \"white\", \"showbackground\": true, \"ticks\": \"\", \"zerolinecolor\": \"white\"}}, \"shapedefaults\": {\"line\": {\"color\": \"#2a3f5f\"}}, \"ternary\": {\"aaxis\": {\"gridcolor\": \"white\", \"linecolor\": \"white\", \"ticks\": \"\"}, \"baxis\": {\"gridcolor\": \"white\", \"linecolor\": \"white\", \"ticks\": \"\"}, \"bgcolor\": \"#E5ECF6\", \"caxis\": {\"gridcolor\": \"white\", \"linecolor\": \"white\", \"ticks\": \"\"}}, \"title\": {\"x\": 0.05}, \"xaxis\": {\"automargin\": true, \"gridcolor\": \"white\", \"linecolor\": \"white\", \"ticks\": \"\", \"title\": {\"standoff\": 15}, \"zerolinecolor\": \"white\", \"zerolinewidth\": 2}, \"yaxis\": {\"automargin\": true, \"gridcolor\": \"white\", \"linecolor\": \"white\", \"ticks\": \"\", \"title\": {\"standoff\": 15}, \"zerolinecolor\": \"white\", \"zerolinewidth\": 2}}}, \"title\": {\"font\": {\"color\": \"#4D5663\"}}, \"xaxis\": {\"gridcolor\": \"#E1E5ED\", \"showgrid\": true, \"tickfont\": {\"color\": \"#4D5663\"}, \"title\": {\"font\": {\"color\": \"#4D5663\"}, \"text\": \"\"}, \"zerolinecolor\": \"#E1E5ED\"}, \"yaxis\": {\"gridcolor\": \"#E1E5ED\", \"showgrid\": true, \"tickfont\": {\"color\": \"#4D5663\"}, \"title\": {\"font\": {\"color\": \"#4D5663\"}, \"text\": \"\"}, \"zerolinecolor\": \"#E1E5ED\"}},\n",
       "                        {\"showLink\": true, \"linkText\": \"Export to plot.ly\", \"plotlyServerURL\": \"https://plot.ly\", \"responsive\": true}\n",
       "                    ).then(function(){\n",
       "                            \n",
       "var gd = document.getElementById('3c96b24f-33ce-4edc-b6aa-9f49fe02375d');\n",
       "var x = new MutationObserver(function (mutations, observer) {{\n",
       "        var display = window.getComputedStyle(gd).display;\n",
       "        if (!display || display === 'none') {{\n",
       "            console.log([gd, 'removed!']);\n",
       "            Plotly.purge(gd);\n",
       "            observer.disconnect();\n",
       "        }}\n",
       "}});\n",
       "\n",
       "// Listen for the removal of the full notebook cells\n",
       "var notebookContainer = gd.closest('#notebook-container');\n",
       "if (notebookContainer) {{\n",
       "    x.observe(notebookContainer, {childList: true});\n",
       "}}\n",
       "\n",
       "// Listen for the clearing of the current output cell\n",
       "var outputEl = gd.closest('.output');\n",
       "if (outputEl) {{\n",
       "    x.observe(outputEl, {childList: true});\n",
       "}}\n",
       "\n",
       "                        })\n",
       "                };\n",
       "                });\n",
       "            </script>\n",
       "        </div>"
      ]
     },
     "metadata": {},
     "output_type": "display_data"
    }
   ],
   "source": []
  },
  {
   "cell_type": "code",
   "execution_count": 20,
   "metadata": {
    "Collapsed": "false"
   },
   "outputs": [
    {
     "data": {
      "application/vnd.plotly.v1+json": {
       "config": {
        "linkText": "Export to plot.ly",
        "plotlyServerURL": "https://plot.ly",
        "showLink": true
       },
       "data": [
        {
         "line": {
          "color": "rgba(255, 153, 51, 1.0)",
          "dash": "solid",
          "shape": "linear",
          "width": 1.3
         },
         "mode": "lines",
         "name": "A",
         "text": "",
         "type": "scatter",
         "x": [
          0,
          1,
          2,
          3,
          4,
          5,
          6,
          7,
          8,
          9,
          10,
          11,
          12,
          13,
          14,
          15,
          16,
          17,
          18,
          19,
          20,
          21,
          22,
          23,
          24,
          25,
          26,
          27,
          28,
          29,
          30,
          31,
          32,
          33,
          34,
          35,
          36,
          37,
          38,
          39,
          40,
          41,
          42,
          43,
          44,
          45,
          46,
          47,
          48,
          49,
          50,
          51,
          52,
          53,
          54,
          55,
          56,
          57,
          58,
          59,
          60,
          61,
          62,
          63,
          64,
          65,
          66,
          67,
          68,
          69,
          70,
          71,
          72,
          73,
          74,
          75,
          76,
          77,
          78,
          79,
          80,
          81,
          82,
          83,
          84,
          85,
          86,
          87,
          88,
          89,
          90,
          91,
          92,
          93,
          94,
          95,
          96,
          97,
          98,
          99
         ],
         "y": [
          -1.1297880804810116,
          0.8909558868026678,
          -2.4674677078075615,
          1.4668865210388036,
          0.052099141553544316,
          -0.5841535222972922,
          -0.14407291051779864,
          -0.24146519801740043,
          1.4089883014072808,
          0.1698379991335825,
          1.6725669615460745,
          -1.1871638982625938,
          0.2500685582684525,
          -0.9075758091792991,
          1.5794840063606157,
          -0.7154693249447941,
          0.6710461976159192,
          -1.3138617132611679,
          -0.08715365767208498,
          0.6817437501923307,
          0.15963287076171498,
          -1.4284907475179551,
          0.7623270744081148,
          0.4827609399382711,
          1.143843875728672,
          0.732765341739219,
          0.4769246929115,
          0.5207809911732241,
          -0.6943426027267315,
          2.527205168129635,
          0.3110536263670157,
          -1.586564155923283,
          0.2325845898667768,
          0.14942062616814708,
          -0.7557765018970091,
          2.46078286011467,
          -1.5864772813918784,
          1.0868295448269554,
          0.29730223763112135,
          0.9330617358105876,
          1.3209758315752207,
          -0.7257746662786452,
          0.6223215905979733,
          0.9545355565512028,
          -0.5651734999398752,
          -0.8323343740748262,
          -1.529421653815974,
          -0.5637293068459186,
          1.3747593870565984,
          1.4629258937978542,
          -1.2437710994346372,
          1.1528387183185471,
          -0.7646733650685583,
          -0.12980482941361793,
          0.8460466553233116,
          -0.13679977098484716,
          1.3171725454303962,
          -0.8524969706000572,
          -0.7896774042673815,
          0.30161696428573564,
          -1.1882742305542269,
          -0.15889754303574397,
          0.8698986288529447,
          -0.9964530436083726,
          0.4100165481373722,
          -0.4128453281010694,
          1.4406077576302683,
          1.6011651067675756,
          -3.3597780905476684,
          -1.3769568088285187,
          1.2177632525884357,
          -0.14126371111306843,
          -0.3721476282966241,
          -1.96760916128469,
          0.5213989068129281,
          -1.453423528558044,
          0.3946037066457429,
          0.8585996691985393,
          0.9237916704788649,
          0.3137707208702481,
          0.9861633281572418,
          0.8940523501948491,
          1.300507308282935,
          0.769636332141642,
          0.599535573702335,
          -1.8921465187792665,
          0.7351759459424257,
          -0.5245244935897746,
          0.41125483420132225,
          -0.4747146631281052,
          0.5430255920252014,
          -0.8615301256799931,
          0.685280739134256,
          1.3824752940241554,
          0.4691203694022939,
          0.2969347029971788,
          0.17527373402249957,
          -0.2664598834122682,
          -1.0603267101266096,
          1.2585999049100745
         ]
        },
        {
         "line": {
          "color": "rgba(55, 128, 191, 1.0)",
          "dash": "solid",
          "shape": "linear",
          "width": 1.3
         },
         "mode": "lines",
         "name": "B",
         "text": "",
         "type": "scatter",
         "x": [
          0,
          1,
          2,
          3,
          4,
          5,
          6,
          7,
          8,
          9,
          10,
          11,
          12,
          13,
          14,
          15,
          16,
          17,
          18,
          19,
          20,
          21,
          22,
          23,
          24,
          25,
          26,
          27,
          28,
          29,
          30,
          31,
          32,
          33,
          34,
          35,
          36,
          37,
          38,
          39,
          40,
          41,
          42,
          43,
          44,
          45,
          46,
          47,
          48,
          49,
          50,
          51,
          52,
          53,
          54,
          55,
          56,
          57,
          58,
          59,
          60,
          61,
          62,
          63,
          64,
          65,
          66,
          67,
          68,
          69,
          70,
          71,
          72,
          73,
          74,
          75,
          76,
          77,
          78,
          79,
          80,
          81,
          82,
          83,
          84,
          85,
          86,
          87,
          88,
          89,
          90,
          91,
          92,
          93,
          94,
          95,
          96,
          97,
          98,
          99
         ],
         "y": [
          -0.12402007023132434,
          0.16105615677002622,
          0.023188958701885184,
          1.3365766040123495,
          -1.524892413949562,
          -1.2841507820438276,
          1.453386751286277,
          0.18175721164363973,
          0.319433640867433,
          -0.3839768199018055,
          -1.1032762054402279,
          -0.037550265782773054,
          0.6526531412240898,
          1.624937766501667,
          1.3347744992777684,
          -0.34618031920085374,
          1.789230219031507,
          2.0815389133971967,
          1.1552149582137499,
          2.601022664007055,
          0.7373289608257685,
          0.9653657279013573,
          -0.7141811226367676,
          -1.5857012600671005,
          -0.9698880744594625,
          1.0629314379178578,
          0.3665188577639023,
          1.8575226132892655,
          0.2810123749569547,
          1.0834506863250117,
          1.5852384708343445,
          -1.0821690461594273,
          0.45034497515428173,
          0.16595132541359575,
          -0.2837809115954148,
          -0.5321305547195403,
          0.42052444763312613,
          -0.8638272574567947,
          -0.1356330350490318,
          -0.2861953892593525,
          0.2987680728920157,
          -0.7901164099395227,
          -0.07239267449567097,
          0.14885628381591193,
          -0.15562696332212675,
          1.421970514039125,
          -0.10009080252734245,
          -2.6887592763650754,
          0.523307575152354,
          1.839188917214292,
          -0.31767820041569567,
          1.1392661859719995,
          1.1126897470779902,
          -1.4431765471300466,
          -1.3226216565575393,
          1.3061871872446182,
          -1.2695506775987795,
          -1.3531008486561023,
          -0.6190758570607968,
          -1.6607885320505178,
          1.0267781939675455,
          0.3332289719972668,
          0.4680130394047356,
          0.8889197448462989,
          -1.5825366658785764,
          -1.3291572534664713,
          1.0765003834875582,
          0.8441869284582593,
          -0.49514397185949505,
          0.03929643743827132,
          -0.12982509182576335,
          0.9563009984004562,
          1.9202450190710358,
          0.24483401982736028,
          0.10525084048866817,
          0.8816366460958016,
          1.3465250686822723,
          -0.21035831042571124,
          -0.6113086931308005,
          -1.19868474947971,
          0.15785117287865072,
          -1.031686073119976,
          0.1391364456318884,
          0.16690430657337105,
          -1.6588925821515055,
          0.5213841464387718,
          -0.915816274620897,
          1.1229320056801422,
          0.08918793278246169,
          -0.379028223962969,
          -1.591593730810941,
          0.5208149612876775,
          1.325421610769011,
          0.9083172720366367,
          0.06163858333894556,
          0.14276444823432247,
          -0.24183087477167728,
          2.1473916282420014,
          1.2534007307159707,
          -0.6942650652204457
         ]
        },
        {
         "connectgaps": false,
         "fill": "tozeroy",
         "line": {
          "color": "green",
          "dash": "solid",
          "shape": "linear",
          "width": 0.5
         },
         "mode": "lines",
         "name": "Spread",
         "showlegend": false,
         "type": "scatter",
         "x": [
          0,
          1,
          2,
          3,
          4,
          5,
          6,
          7,
          8,
          9,
          10,
          11,
          12,
          13,
          14,
          15,
          16,
          17,
          18,
          19,
          20,
          21,
          22,
          23,
          24,
          25,
          26,
          27,
          28,
          29,
          30,
          31,
          32,
          33,
          34,
          35,
          36,
          37,
          38,
          39,
          40,
          41,
          42,
          43,
          44,
          45,
          46,
          47,
          48,
          49,
          50,
          51,
          52,
          53,
          54,
          55,
          56,
          57,
          58,
          59,
          60,
          61,
          62,
          63,
          64,
          65,
          66,
          67,
          68,
          69,
          70,
          71,
          72,
          73,
          74,
          75,
          76,
          77,
          78,
          79,
          80,
          81,
          82,
          83,
          84,
          85,
          86,
          87,
          88,
          89,
          90,
          91,
          92,
          93,
          94,
          95,
          96,
          97,
          98,
          99
         ],
         "xaxis": "x2",
         "y": [
          "",
          0.7298997300326415,
          "",
          0.13030991702645411,
          1.5769915555031064,
          0.6999972597465354,
          "",
          "",
          1.0895546605398478,
          0.553814819035388,
          2.775843166986302,
          "",
          "",
          "",
          0.24470950708284733,
          "",
          "",
          "",
          "",
          "",
          "",
          "",
          1.4765081970448823,
          2.0684622000053716,
          2.1137319501881344,
          "",
          0.11040583514759772,
          "",
          "",
          1.4437544818046233,
          "",
          "",
          "",
          "",
          "",
          2.9929134148342103,
          "",
          1.95065680228375,
          0.43293527268015314,
          1.21925712506994,
          1.022207758683205,
          0.06434174366087753,
          0.6947142650936443,
          0.8056792727352908,
          "",
          "",
          "",
          2.125029969519157,
          0.8514518119042443,
          "",
          "",
          0.01357253234654765,
          "",
          1.3133717177164286,
          2.1686683118808507,
          "",
          2.5867232230291757,
          0.500603878056045,
          "",
          1.9624054963362534,
          "",
          "",
          0.40188558944820907,
          "",
          1.9925532140159485,
          0.916311925365402,
          0.3641073741427101,
          0.7569781783093164,
          "",
          "",
          1.347588344414199,
          "",
          "",
          "",
          0.41614806632425994,
          "",
          "",
          1.0689579796242505,
          1.5351003636096654,
          1.512455470349958,
          0.8283121552785911,
          1.925738423314825,
          1.1613708626510466,
          0.6027320255682709,
          2.2584281558538404,
          "",
          1.6509922205633227,
          "",
          0.3220669014188606,
          "",
          2.1346193228361425,
          "",
          "",
          0.47415802198751866,
          0.40748178606334834,
          0.1541702547628563,
          0.4171046087941769,
          "",
          "",
          1.9528649701305203
         ],
         "yaxis": "y2"
        },
        {
         "connectgaps": false,
         "fill": "tozeroy",
         "line": {
          "color": "red",
          "dash": "solid",
          "shape": "linear",
          "width": 0.5
         },
         "mode": "lines",
         "name": "Spread",
         "showlegend": false,
         "type": "scatter",
         "x": [
          0,
          1,
          2,
          3,
          4,
          5,
          6,
          7,
          8,
          9,
          10,
          11,
          12,
          13,
          14,
          15,
          16,
          17,
          18,
          19,
          20,
          21,
          22,
          23,
          24,
          25,
          26,
          27,
          28,
          29,
          30,
          31,
          32,
          33,
          34,
          35,
          36,
          37,
          38,
          39,
          40,
          41,
          42,
          43,
          44,
          45,
          46,
          47,
          48,
          49,
          50,
          51,
          52,
          53,
          54,
          55,
          56,
          57,
          58,
          59,
          60,
          61,
          62,
          63,
          64,
          65,
          66,
          67,
          68,
          69,
          70,
          71,
          72,
          73,
          74,
          75,
          76,
          77,
          78,
          79,
          80,
          81,
          82,
          83,
          84,
          85,
          86,
          87,
          88,
          89,
          90,
          91,
          92,
          93,
          94,
          95,
          96,
          97,
          98,
          99
         ],
         "xaxis": "x2",
         "y": [
          -1.0057680102496873,
          "",
          -2.4906566665094467,
          "",
          "",
          "",
          -1.5974596618040757,
          -0.4232224096610402,
          "",
          "",
          "",
          -1.1496136324798207,
          -0.4025845829556373,
          -2.5325135756809662,
          "",
          -0.36928900574394036,
          -1.1181840214155878,
          -3.3954006266583647,
          -1.242368615885835,
          -1.9192789138147244,
          -0.5776960900640535,
          -2.3938564754193123,
          "",
          "",
          "",
          -0.3301660961786388,
          "",
          -1.3367416221160413,
          -0.9753549776836863,
          "",
          -1.274184844467329,
          -0.5043951097638557,
          -0.21776038528750494,
          -0.01653069924544867,
          -0.47199559030159427,
          "",
          -2.0070017290250046,
          "",
          "",
          "",
          "",
          "",
          "",
          "",
          -0.4095465366177484,
          -2.254304888113951,
          -1.4293308512886316,
          "",
          "",
          -0.3762630234164377,
          -0.9260928990189414,
          "",
          -1.8773631121465484,
          "",
          "",
          -1.4429869582294654,
          "",
          "",
          -0.1706015472065847,
          "",
          -2.2150524245217724,
          -0.49212651503301075,
          "",
          -1.8853727884546716,
          "",
          "",
          "",
          "",
          -2.864634118688173,
          -1.41625324626679,
          "",
          -1.0975647095135246,
          -2.29239264736766,
          -2.21244318111205,
          "",
          -2.3350601746538455,
          -0.9519213620365294,
          "",
          "",
          "",
          "",
          "",
          "",
          "",
          "",
          -2.4135306652180386,
          "",
          -1.6474564992699168,
          "",
          -0.0956864391651362,
          "",
          -1.3823450869676706,
          -0.6401408716347551,
          "",
          "",
          "",
          "",
          -2.4138515116542694,
          -2.3137274408425803,
          ""
         ],
         "yaxis": "y2"
        }
       ],
       "layout": {
        "hovermode": "x",
        "legend": {
         "bgcolor": "#F5F6F9",
         "font": {
          "color": "#4D5663"
         }
        },
        "paper_bgcolor": "#F5F6F9",
        "plot_bgcolor": "#F5F6F9",
        "template": {
         "data": {
          "bar": [
           {
            "error_x": {
             "color": "#2a3f5f"
            },
            "error_y": {
             "color": "#2a3f5f"
            },
            "marker": {
             "line": {
              "color": "#E5ECF6",
              "width": 0.5
             }
            },
            "type": "bar"
           }
          ],
          "barpolar": [
           {
            "marker": {
             "line": {
              "color": "#E5ECF6",
              "width": 0.5
             }
            },
            "type": "barpolar"
           }
          ],
          "carpet": [
           {
            "aaxis": {
             "endlinecolor": "#2a3f5f",
             "gridcolor": "white",
             "linecolor": "white",
             "minorgridcolor": "white",
             "startlinecolor": "#2a3f5f"
            },
            "baxis": {
             "endlinecolor": "#2a3f5f",
             "gridcolor": "white",
             "linecolor": "white",
             "minorgridcolor": "white",
             "startlinecolor": "#2a3f5f"
            },
            "type": "carpet"
           }
          ],
          "choropleth": [
           {
            "colorbar": {
             "outlinewidth": 0,
             "ticks": ""
            },
            "type": "choropleth"
           }
          ],
          "contour": [
           {
            "colorbar": {
             "outlinewidth": 0,
             "ticks": ""
            },
            "colorscale": [
             [
              0,
              "#0d0887"
             ],
             [
              0.1111111111111111,
              "#46039f"
             ],
             [
              0.2222222222222222,
              "#7201a8"
             ],
             [
              0.3333333333333333,
              "#9c179e"
             ],
             [
              0.4444444444444444,
              "#bd3786"
             ],
             [
              0.5555555555555556,
              "#d8576b"
             ],
             [
              0.6666666666666666,
              "#ed7953"
             ],
             [
              0.7777777777777778,
              "#fb9f3a"
             ],
             [
              0.8888888888888888,
              "#fdca26"
             ],
             [
              1,
              "#f0f921"
             ]
            ],
            "type": "contour"
           }
          ],
          "contourcarpet": [
           {
            "colorbar": {
             "outlinewidth": 0,
             "ticks": ""
            },
            "type": "contourcarpet"
           }
          ],
          "heatmap": [
           {
            "colorbar": {
             "outlinewidth": 0,
             "ticks": ""
            },
            "colorscale": [
             [
              0,
              "#0d0887"
             ],
             [
              0.1111111111111111,
              "#46039f"
             ],
             [
              0.2222222222222222,
              "#7201a8"
             ],
             [
              0.3333333333333333,
              "#9c179e"
             ],
             [
              0.4444444444444444,
              "#bd3786"
             ],
             [
              0.5555555555555556,
              "#d8576b"
             ],
             [
              0.6666666666666666,
              "#ed7953"
             ],
             [
              0.7777777777777778,
              "#fb9f3a"
             ],
             [
              0.8888888888888888,
              "#fdca26"
             ],
             [
              1,
              "#f0f921"
             ]
            ],
            "type": "heatmap"
           }
          ],
          "heatmapgl": [
           {
            "colorbar": {
             "outlinewidth": 0,
             "ticks": ""
            },
            "colorscale": [
             [
              0,
              "#0d0887"
             ],
             [
              0.1111111111111111,
              "#46039f"
             ],
             [
              0.2222222222222222,
              "#7201a8"
             ],
             [
              0.3333333333333333,
              "#9c179e"
             ],
             [
              0.4444444444444444,
              "#bd3786"
             ],
             [
              0.5555555555555556,
              "#d8576b"
             ],
             [
              0.6666666666666666,
              "#ed7953"
             ],
             [
              0.7777777777777778,
              "#fb9f3a"
             ],
             [
              0.8888888888888888,
              "#fdca26"
             ],
             [
              1,
              "#f0f921"
             ]
            ],
            "type": "heatmapgl"
           }
          ],
          "histogram": [
           {
            "marker": {
             "colorbar": {
              "outlinewidth": 0,
              "ticks": ""
             }
            },
            "type": "histogram"
           }
          ],
          "histogram2d": [
           {
            "colorbar": {
             "outlinewidth": 0,
             "ticks": ""
            },
            "colorscale": [
             [
              0,
              "#0d0887"
             ],
             [
              0.1111111111111111,
              "#46039f"
             ],
             [
              0.2222222222222222,
              "#7201a8"
             ],
             [
              0.3333333333333333,
              "#9c179e"
             ],
             [
              0.4444444444444444,
              "#bd3786"
             ],
             [
              0.5555555555555556,
              "#d8576b"
             ],
             [
              0.6666666666666666,
              "#ed7953"
             ],
             [
              0.7777777777777778,
              "#fb9f3a"
             ],
             [
              0.8888888888888888,
              "#fdca26"
             ],
             [
              1,
              "#f0f921"
             ]
            ],
            "type": "histogram2d"
           }
          ],
          "histogram2dcontour": [
           {
            "colorbar": {
             "outlinewidth": 0,
             "ticks": ""
            },
            "colorscale": [
             [
              0,
              "#0d0887"
             ],
             [
              0.1111111111111111,
              "#46039f"
             ],
             [
              0.2222222222222222,
              "#7201a8"
             ],
             [
              0.3333333333333333,
              "#9c179e"
             ],
             [
              0.4444444444444444,
              "#bd3786"
             ],
             [
              0.5555555555555556,
              "#d8576b"
             ],
             [
              0.6666666666666666,
              "#ed7953"
             ],
             [
              0.7777777777777778,
              "#fb9f3a"
             ],
             [
              0.8888888888888888,
              "#fdca26"
             ],
             [
              1,
              "#f0f921"
             ]
            ],
            "type": "histogram2dcontour"
           }
          ],
          "mesh3d": [
           {
            "colorbar": {
             "outlinewidth": 0,
             "ticks": ""
            },
            "type": "mesh3d"
           }
          ],
          "parcoords": [
           {
            "line": {
             "colorbar": {
              "outlinewidth": 0,
              "ticks": ""
             }
            },
            "type": "parcoords"
           }
          ],
          "pie": [
           {
            "automargin": true,
            "type": "pie"
           }
          ],
          "scatter": [
           {
            "marker": {
             "colorbar": {
              "outlinewidth": 0,
              "ticks": ""
             }
            },
            "type": "scatter"
           }
          ],
          "scatter3d": [
           {
            "line": {
             "colorbar": {
              "outlinewidth": 0,
              "ticks": ""
             }
            },
            "marker": {
             "colorbar": {
              "outlinewidth": 0,
              "ticks": ""
             }
            },
            "type": "scatter3d"
           }
          ],
          "scattercarpet": [
           {
            "marker": {
             "colorbar": {
              "outlinewidth": 0,
              "ticks": ""
             }
            },
            "type": "scattercarpet"
           }
          ],
          "scattergeo": [
           {
            "marker": {
             "colorbar": {
              "outlinewidth": 0,
              "ticks": ""
             }
            },
            "type": "scattergeo"
           }
          ],
          "scattergl": [
           {
            "marker": {
             "colorbar": {
              "outlinewidth": 0,
              "ticks": ""
             }
            },
            "type": "scattergl"
           }
          ],
          "scattermapbox": [
           {
            "marker": {
             "colorbar": {
              "outlinewidth": 0,
              "ticks": ""
             }
            },
            "type": "scattermapbox"
           }
          ],
          "scatterpolar": [
           {
            "marker": {
             "colorbar": {
              "outlinewidth": 0,
              "ticks": ""
             }
            },
            "type": "scatterpolar"
           }
          ],
          "scatterpolargl": [
           {
            "marker": {
             "colorbar": {
              "outlinewidth": 0,
              "ticks": ""
             }
            },
            "type": "scatterpolargl"
           }
          ],
          "scatterternary": [
           {
            "marker": {
             "colorbar": {
              "outlinewidth": 0,
              "ticks": ""
             }
            },
            "type": "scatterternary"
           }
          ],
          "surface": [
           {
            "colorbar": {
             "outlinewidth": 0,
             "ticks": ""
            },
            "colorscale": [
             [
              0,
              "#0d0887"
             ],
             [
              0.1111111111111111,
              "#46039f"
             ],
             [
              0.2222222222222222,
              "#7201a8"
             ],
             [
              0.3333333333333333,
              "#9c179e"
             ],
             [
              0.4444444444444444,
              "#bd3786"
             ],
             [
              0.5555555555555556,
              "#d8576b"
             ],
             [
              0.6666666666666666,
              "#ed7953"
             ],
             [
              0.7777777777777778,
              "#fb9f3a"
             ],
             [
              0.8888888888888888,
              "#fdca26"
             ],
             [
              1,
              "#f0f921"
             ]
            ],
            "type": "surface"
           }
          ],
          "table": [
           {
            "cells": {
             "fill": {
              "color": "#EBF0F8"
             },
             "line": {
              "color": "white"
             }
            },
            "header": {
             "fill": {
              "color": "#C8D4E3"
             },
             "line": {
              "color": "white"
             }
            },
            "type": "table"
           }
          ]
         },
         "layout": {
          "annotationdefaults": {
           "arrowcolor": "#2a3f5f",
           "arrowhead": 0,
           "arrowwidth": 1
          },
          "coloraxis": {
           "colorbar": {
            "outlinewidth": 0,
            "ticks": ""
           }
          },
          "colorscale": {
           "diverging": [
            [
             0,
             "#8e0152"
            ],
            [
             0.1,
             "#c51b7d"
            ],
            [
             0.2,
             "#de77ae"
            ],
            [
             0.3,
             "#f1b6da"
            ],
            [
             0.4,
             "#fde0ef"
            ],
            [
             0.5,
             "#f7f7f7"
            ],
            [
             0.6,
             "#e6f5d0"
            ],
            [
             0.7,
             "#b8e186"
            ],
            [
             0.8,
             "#7fbc41"
            ],
            [
             0.9,
             "#4d9221"
            ],
            [
             1,
             "#276419"
            ]
           ],
           "sequential": [
            [
             0,
             "#0d0887"
            ],
            [
             0.1111111111111111,
             "#46039f"
            ],
            [
             0.2222222222222222,
             "#7201a8"
            ],
            [
             0.3333333333333333,
             "#9c179e"
            ],
            [
             0.4444444444444444,
             "#bd3786"
            ],
            [
             0.5555555555555556,
             "#d8576b"
            ],
            [
             0.6666666666666666,
             "#ed7953"
            ],
            [
             0.7777777777777778,
             "#fb9f3a"
            ],
            [
             0.8888888888888888,
             "#fdca26"
            ],
            [
             1,
             "#f0f921"
            ]
           ],
           "sequentialminus": [
            [
             0,
             "#0d0887"
            ],
            [
             0.1111111111111111,
             "#46039f"
            ],
            [
             0.2222222222222222,
             "#7201a8"
            ],
            [
             0.3333333333333333,
             "#9c179e"
            ],
            [
             0.4444444444444444,
             "#bd3786"
            ],
            [
             0.5555555555555556,
             "#d8576b"
            ],
            [
             0.6666666666666666,
             "#ed7953"
            ],
            [
             0.7777777777777778,
             "#fb9f3a"
            ],
            [
             0.8888888888888888,
             "#fdca26"
            ],
            [
             1,
             "#f0f921"
            ]
           ]
          },
          "colorway": [
           "#636efa",
           "#EF553B",
           "#00cc96",
           "#ab63fa",
           "#FFA15A",
           "#19d3f3",
           "#FF6692",
           "#B6E880",
           "#FF97FF",
           "#FECB52"
          ],
          "font": {
           "color": "#2a3f5f"
          },
          "geo": {
           "bgcolor": "white",
           "lakecolor": "white",
           "landcolor": "#E5ECF6",
           "showlakes": true,
           "showland": true,
           "subunitcolor": "white"
          },
          "hoverlabel": {
           "align": "left"
          },
          "hovermode": "closest",
          "mapbox": {
           "style": "light"
          },
          "paper_bgcolor": "white",
          "plot_bgcolor": "#E5ECF6",
          "polar": {
           "angularaxis": {
            "gridcolor": "white",
            "linecolor": "white",
            "ticks": ""
           },
           "bgcolor": "#E5ECF6",
           "radialaxis": {
            "gridcolor": "white",
            "linecolor": "white",
            "ticks": ""
           }
          },
          "scene": {
           "xaxis": {
            "backgroundcolor": "#E5ECF6",
            "gridcolor": "white",
            "gridwidth": 2,
            "linecolor": "white",
            "showbackground": true,
            "ticks": "",
            "zerolinecolor": "white"
           },
           "yaxis": {
            "backgroundcolor": "#E5ECF6",
            "gridcolor": "white",
            "gridwidth": 2,
            "linecolor": "white",
            "showbackground": true,
            "ticks": "",
            "zerolinecolor": "white"
           },
           "zaxis": {
            "backgroundcolor": "#E5ECF6",
            "gridcolor": "white",
            "gridwidth": 2,
            "linecolor": "white",
            "showbackground": true,
            "ticks": "",
            "zerolinecolor": "white"
           }
          },
          "shapedefaults": {
           "line": {
            "color": "#2a3f5f"
           }
          },
          "ternary": {
           "aaxis": {
            "gridcolor": "white",
            "linecolor": "white",
            "ticks": ""
           },
           "baxis": {
            "gridcolor": "white",
            "linecolor": "white",
            "ticks": ""
           },
           "bgcolor": "#E5ECF6",
           "caxis": {
            "gridcolor": "white",
            "linecolor": "white",
            "ticks": ""
           }
          },
          "title": {
           "x": 0.05
          },
          "xaxis": {
           "automargin": true,
           "gridcolor": "white",
           "linecolor": "white",
           "ticks": "",
           "title": {
            "standoff": 15
           },
           "zerolinecolor": "white",
           "zerolinewidth": 2
          },
          "yaxis": {
           "automargin": true,
           "gridcolor": "white",
           "linecolor": "white",
           "ticks": "",
           "title": {
            "standoff": 15
           },
           "zerolinecolor": "white",
           "zerolinewidth": 2
          }
         }
        },
        "title": {
         "font": {
          "color": "#4D5663"
         }
        },
        "xaxis": {
         "gridcolor": "#E1E5ED",
         "showgrid": true,
         "tickfont": {
          "color": "#4D5663"
         },
         "title": {
          "font": {
           "color": "#4D5663"
          },
          "text": ""
         },
         "zerolinecolor": "#E1E5ED"
        },
        "xaxis2": {
         "anchor": "y2",
         "gridcolor": "#E1E5ED",
         "showgrid": true,
         "showticklabels": false,
         "tickfont": {
          "color": "#4D5663"
         },
         "title": {
          "font": {
           "color": "#4D5663"
          },
          "text": ""
         },
         "zerolinecolor": "#E1E5ED"
        },
        "yaxis": {
         "domain": [
          0.3,
          1
         ],
         "gridcolor": "#E1E5ED",
         "showgrid": true,
         "tickfont": {
          "color": "#4D5663"
         },
         "title": {
          "font": {
           "color": "#4D5663"
          },
          "text": ""
         },
         "zerolinecolor": "#E1E5ED"
        },
        "yaxis2": {
         "domain": [
          0,
          0.25
         ],
         "gridcolor": "#E1E5ED",
         "showgrid": true,
         "tickfont": {
          "color": "#4D5663"
         },
         "title": {
          "font": {
           "color": "#4D5663"
          },
          "text": "Spread"
         },
         "zerolinecolor": "#E1E5ED"
        }
       }
      },
      "text/html": [
       "<div>\n",
       "        \n",
       "        \n",
       "            <div id=\"3e5c42e8-e277-4abe-bf06-8ce153b51754\" class=\"plotly-graph-div\" style=\"height:525px; width:100%;\"></div>\n",
       "            <script type=\"text/javascript\">\n",
       "                require([\"plotly\"], function(Plotly) {\n",
       "                    window.PLOTLYENV=window.PLOTLYENV || {};\n",
       "                    window.PLOTLYENV.BASE_URL='https://plot.ly';\n",
       "                    \n",
       "                if (document.getElementById(\"3e5c42e8-e277-4abe-bf06-8ce153b51754\")) {\n",
       "                    Plotly.newPlot(\n",
       "                        '3e5c42e8-e277-4abe-bf06-8ce153b51754',\n",
       "                        [{\"line\": {\"color\": \"rgba(255, 153, 51, 1.0)\", \"dash\": \"solid\", \"shape\": \"linear\", \"width\": 1.3}, \"mode\": \"lines\", \"name\": \"A\", \"text\": \"\", \"type\": \"scatter\", \"x\": [0, 1, 2, 3, 4, 5, 6, 7, 8, 9, 10, 11, 12, 13, 14, 15, 16, 17, 18, 19, 20, 21, 22, 23, 24, 25, 26, 27, 28, 29, 30, 31, 32, 33, 34, 35, 36, 37, 38, 39, 40, 41, 42, 43, 44, 45, 46, 47, 48, 49, 50, 51, 52, 53, 54, 55, 56, 57, 58, 59, 60, 61, 62, 63, 64, 65, 66, 67, 68, 69, 70, 71, 72, 73, 74, 75, 76, 77, 78, 79, 80, 81, 82, 83, 84, 85, 86, 87, 88, 89, 90, 91, 92, 93, 94, 95, 96, 97, 98, 99], \"y\": [-1.1297880804810116, 0.8909558868026678, -2.4674677078075615, 1.4668865210388036, 0.052099141553544316, -0.5841535222972922, -0.14407291051779864, -0.24146519801740043, 1.4089883014072808, 0.1698379991335825, 1.6725669615460745, -1.1871638982625938, 0.2500685582684525, -0.9075758091792991, 1.5794840063606157, -0.7154693249447941, 0.6710461976159192, -1.3138617132611679, -0.08715365767208498, 0.6817437501923307, 0.15963287076171498, -1.4284907475179551, 0.7623270744081148, 0.4827609399382711, 1.143843875728672, 0.732765341739219, 0.4769246929115, 0.5207809911732241, -0.6943426027267315, 2.527205168129635, 0.3110536263670157, -1.586564155923283, 0.2325845898667768, 0.14942062616814708, -0.7557765018970091, 2.46078286011467, -1.5864772813918784, 1.0868295448269554, 0.29730223763112135, 0.9330617358105876, 1.3209758315752207, -0.7257746662786452, 0.6223215905979733, 0.9545355565512028, -0.5651734999398752, -0.8323343740748262, -1.529421653815974, -0.5637293068459186, 1.3747593870565984, 1.4629258937978542, -1.2437710994346372, 1.1528387183185471, -0.7646733650685583, -0.12980482941361793, 0.8460466553233116, -0.13679977098484716, 1.3171725454303962, -0.8524969706000572, -0.7896774042673815, 0.30161696428573564, -1.1882742305542269, -0.15889754303574397, 0.8698986288529447, -0.9964530436083726, 0.4100165481373722, -0.4128453281010694, 1.4406077576302683, 1.6011651067675756, -3.3597780905476684, -1.3769568088285187, 1.2177632525884357, -0.14126371111306843, -0.3721476282966241, -1.96760916128469, 0.5213989068129281, -1.453423528558044, 0.3946037066457429, 0.8585996691985393, 0.9237916704788649, 0.3137707208702481, 0.9861633281572418, 0.8940523501948491, 1.300507308282935, 0.769636332141642, 0.599535573702335, -1.8921465187792665, 0.7351759459424257, -0.5245244935897746, 0.41125483420132225, -0.4747146631281052, 0.5430255920252014, -0.8615301256799931, 0.685280739134256, 1.3824752940241554, 0.4691203694022939, 0.2969347029971788, 0.17527373402249957, -0.2664598834122682, -1.0603267101266096, 1.2585999049100745]}, {\"line\": {\"color\": \"rgba(55, 128, 191, 1.0)\", \"dash\": \"solid\", \"shape\": \"linear\", \"width\": 1.3}, \"mode\": \"lines\", \"name\": \"B\", \"text\": \"\", \"type\": \"scatter\", \"x\": [0, 1, 2, 3, 4, 5, 6, 7, 8, 9, 10, 11, 12, 13, 14, 15, 16, 17, 18, 19, 20, 21, 22, 23, 24, 25, 26, 27, 28, 29, 30, 31, 32, 33, 34, 35, 36, 37, 38, 39, 40, 41, 42, 43, 44, 45, 46, 47, 48, 49, 50, 51, 52, 53, 54, 55, 56, 57, 58, 59, 60, 61, 62, 63, 64, 65, 66, 67, 68, 69, 70, 71, 72, 73, 74, 75, 76, 77, 78, 79, 80, 81, 82, 83, 84, 85, 86, 87, 88, 89, 90, 91, 92, 93, 94, 95, 96, 97, 98, 99], \"y\": [-0.12402007023132434, 0.16105615677002622, 0.023188958701885184, 1.3365766040123495, -1.524892413949562, -1.2841507820438276, 1.453386751286277, 0.18175721164363973, 0.319433640867433, -0.3839768199018055, -1.1032762054402279, -0.037550265782773054, 0.6526531412240898, 1.624937766501667, 1.3347744992777684, -0.34618031920085374, 1.789230219031507, 2.0815389133971967, 1.1552149582137499, 2.601022664007055, 0.7373289608257685, 0.9653657279013573, -0.7141811226367676, -1.5857012600671005, -0.9698880744594625, 1.0629314379178578, 0.3665188577639023, 1.8575226132892655, 0.2810123749569547, 1.0834506863250117, 1.5852384708343445, -1.0821690461594273, 0.45034497515428173, 0.16595132541359575, -0.2837809115954148, -0.5321305547195403, 0.42052444763312613, -0.8638272574567947, -0.1356330350490318, -0.2861953892593525, 0.2987680728920157, -0.7901164099395227, -0.07239267449567097, 0.14885628381591193, -0.15562696332212675, 1.421970514039125, -0.10009080252734245, -2.6887592763650754, 0.523307575152354, 1.839188917214292, -0.31767820041569567, 1.1392661859719995, 1.1126897470779902, -1.4431765471300466, -1.3226216565575393, 1.3061871872446182, -1.2695506775987795, -1.3531008486561023, -0.6190758570607968, -1.6607885320505178, 1.0267781939675455, 0.3332289719972668, 0.4680130394047356, 0.8889197448462989, -1.5825366658785764, -1.3291572534664713, 1.0765003834875582, 0.8441869284582593, -0.49514397185949505, 0.03929643743827132, -0.12982509182576335, 0.9563009984004562, 1.9202450190710358, 0.24483401982736028, 0.10525084048866817, 0.8816366460958016, 1.3465250686822723, -0.21035831042571124, -0.6113086931308005, -1.19868474947971, 0.15785117287865072, -1.031686073119976, 0.1391364456318884, 0.16690430657337105, -1.6588925821515055, 0.5213841464387718, -0.915816274620897, 1.1229320056801422, 0.08918793278246169, -0.379028223962969, -1.591593730810941, 0.5208149612876775, 1.325421610769011, 0.9083172720366367, 0.06163858333894556, 0.14276444823432247, -0.24183087477167728, 2.1473916282420014, 1.2534007307159707, -0.6942650652204457]}, {\"connectgaps\": false, \"fill\": \"tozeroy\", \"line\": {\"color\": \"green\", \"dash\": \"solid\", \"shape\": \"linear\", \"width\": 0.5}, \"mode\": \"lines\", \"name\": \"Spread\", \"showlegend\": false, \"type\": \"scatter\", \"x\": [0, 1, 2, 3, 4, 5, 6, 7, 8, 9, 10, 11, 12, 13, 14, 15, 16, 17, 18, 19, 20, 21, 22, 23, 24, 25, 26, 27, 28, 29, 30, 31, 32, 33, 34, 35, 36, 37, 38, 39, 40, 41, 42, 43, 44, 45, 46, 47, 48, 49, 50, 51, 52, 53, 54, 55, 56, 57, 58, 59, 60, 61, 62, 63, 64, 65, 66, 67, 68, 69, 70, 71, 72, 73, 74, 75, 76, 77, 78, 79, 80, 81, 82, 83, 84, 85, 86, 87, 88, 89, 90, 91, 92, 93, 94, 95, 96, 97, 98, 99], \"xaxis\": \"x2\", \"y\": [\"\", 0.7298997300326415, \"\", 0.13030991702645411, 1.5769915555031064, 0.6999972597465354, \"\", \"\", 1.0895546605398478, 0.553814819035388, 2.775843166986302, \"\", \"\", \"\", 0.24470950708284733, \"\", \"\", \"\", \"\", \"\", \"\", \"\", 1.4765081970448823, 2.0684622000053716, 2.1137319501881344, \"\", 0.11040583514759772, \"\", \"\", 1.4437544818046233, \"\", \"\", \"\", \"\", \"\", 2.9929134148342103, \"\", 1.95065680228375, 0.43293527268015314, 1.21925712506994, 1.022207758683205, 0.06434174366087753, 0.6947142650936443, 0.8056792727352908, \"\", \"\", \"\", 2.125029969519157, 0.8514518119042443, \"\", \"\", 0.01357253234654765, \"\", 1.3133717177164286, 2.1686683118808507, \"\", 2.5867232230291757, 0.500603878056045, \"\", 1.9624054963362534, \"\", \"\", 0.40188558944820907, \"\", 1.9925532140159485, 0.916311925365402, 0.3641073741427101, 0.7569781783093164, \"\", \"\", 1.347588344414199, \"\", \"\", \"\", 0.41614806632425994, \"\", \"\", 1.0689579796242505, 1.5351003636096654, 1.512455470349958, 0.8283121552785911, 1.925738423314825, 1.1613708626510466, 0.6027320255682709, 2.2584281558538404, \"\", 1.6509922205633227, \"\", 0.3220669014188606, \"\", 2.1346193228361425, \"\", \"\", 0.47415802198751866, 0.40748178606334834, 0.1541702547628563, 0.4171046087941769, \"\", \"\", 1.9528649701305203], \"yaxis\": \"y2\"}, {\"connectgaps\": false, \"fill\": \"tozeroy\", \"line\": {\"color\": \"red\", \"dash\": \"solid\", \"shape\": \"linear\", \"width\": 0.5}, \"mode\": \"lines\", \"name\": \"Spread\", \"showlegend\": false, \"type\": \"scatter\", \"x\": [0, 1, 2, 3, 4, 5, 6, 7, 8, 9, 10, 11, 12, 13, 14, 15, 16, 17, 18, 19, 20, 21, 22, 23, 24, 25, 26, 27, 28, 29, 30, 31, 32, 33, 34, 35, 36, 37, 38, 39, 40, 41, 42, 43, 44, 45, 46, 47, 48, 49, 50, 51, 52, 53, 54, 55, 56, 57, 58, 59, 60, 61, 62, 63, 64, 65, 66, 67, 68, 69, 70, 71, 72, 73, 74, 75, 76, 77, 78, 79, 80, 81, 82, 83, 84, 85, 86, 87, 88, 89, 90, 91, 92, 93, 94, 95, 96, 97, 98, 99], \"xaxis\": \"x2\", \"y\": [-1.0057680102496873, \"\", -2.4906566665094467, \"\", \"\", \"\", -1.5974596618040757, -0.4232224096610402, \"\", \"\", \"\", -1.1496136324798207, -0.4025845829556373, -2.5325135756809662, \"\", -0.36928900574394036, -1.1181840214155878, -3.3954006266583647, -1.242368615885835, -1.9192789138147244, -0.5776960900640535, -2.3938564754193123, \"\", \"\", \"\", -0.3301660961786388, \"\", -1.3367416221160413, -0.9753549776836863, \"\", -1.274184844467329, -0.5043951097638557, -0.21776038528750494, -0.01653069924544867, -0.47199559030159427, \"\", -2.0070017290250046, \"\", \"\", \"\", \"\", \"\", \"\", \"\", -0.4095465366177484, -2.254304888113951, -1.4293308512886316, \"\", \"\", -0.3762630234164377, -0.9260928990189414, \"\", -1.8773631121465484, \"\", \"\", -1.4429869582294654, \"\", \"\", -0.1706015472065847, \"\", -2.2150524245217724, -0.49212651503301075, \"\", -1.8853727884546716, \"\", \"\", \"\", \"\", -2.864634118688173, -1.41625324626679, \"\", -1.0975647095135246, -2.29239264736766, -2.21244318111205, \"\", -2.3350601746538455, -0.9519213620365294, \"\", \"\", \"\", \"\", \"\", \"\", \"\", \"\", -2.4135306652180386, \"\", -1.6474564992699168, \"\", -0.0956864391651362, \"\", -1.3823450869676706, -0.6401408716347551, \"\", \"\", \"\", \"\", -2.4138515116542694, -2.3137274408425803, \"\"], \"yaxis\": \"y2\"}],\n",
       "                        {\"hovermode\": \"x\", \"legend\": {\"bgcolor\": \"#F5F6F9\", \"font\": {\"color\": \"#4D5663\"}}, \"paper_bgcolor\": \"#F5F6F9\", \"plot_bgcolor\": \"#F5F6F9\", \"template\": {\"data\": {\"bar\": [{\"error_x\": {\"color\": \"#2a3f5f\"}, \"error_y\": {\"color\": \"#2a3f5f\"}, \"marker\": {\"line\": {\"color\": \"#E5ECF6\", \"width\": 0.5}}, \"type\": \"bar\"}], \"barpolar\": [{\"marker\": {\"line\": {\"color\": \"#E5ECF6\", \"width\": 0.5}}, \"type\": \"barpolar\"}], \"carpet\": [{\"aaxis\": {\"endlinecolor\": \"#2a3f5f\", \"gridcolor\": \"white\", \"linecolor\": \"white\", \"minorgridcolor\": \"white\", \"startlinecolor\": \"#2a3f5f\"}, \"baxis\": {\"endlinecolor\": \"#2a3f5f\", \"gridcolor\": \"white\", \"linecolor\": \"white\", \"minorgridcolor\": \"white\", \"startlinecolor\": \"#2a3f5f\"}, \"type\": \"carpet\"}], \"choropleth\": [{\"colorbar\": {\"outlinewidth\": 0, \"ticks\": \"\"}, \"type\": \"choropleth\"}], \"contour\": [{\"colorbar\": {\"outlinewidth\": 0, \"ticks\": \"\"}, \"colorscale\": [[0.0, \"#0d0887\"], [0.1111111111111111, \"#46039f\"], [0.2222222222222222, \"#7201a8\"], [0.3333333333333333, \"#9c179e\"], [0.4444444444444444, \"#bd3786\"], [0.5555555555555556, \"#d8576b\"], [0.6666666666666666, \"#ed7953\"], [0.7777777777777778, \"#fb9f3a\"], [0.8888888888888888, \"#fdca26\"], [1.0, \"#f0f921\"]], \"type\": \"contour\"}], \"contourcarpet\": [{\"colorbar\": {\"outlinewidth\": 0, \"ticks\": \"\"}, \"type\": \"contourcarpet\"}], \"heatmap\": [{\"colorbar\": {\"outlinewidth\": 0, \"ticks\": \"\"}, \"colorscale\": [[0.0, \"#0d0887\"], [0.1111111111111111, \"#46039f\"], [0.2222222222222222, \"#7201a8\"], [0.3333333333333333, \"#9c179e\"], [0.4444444444444444, \"#bd3786\"], [0.5555555555555556, \"#d8576b\"], [0.6666666666666666, \"#ed7953\"], [0.7777777777777778, \"#fb9f3a\"], [0.8888888888888888, \"#fdca26\"], [1.0, \"#f0f921\"]], \"type\": \"heatmap\"}], \"heatmapgl\": [{\"colorbar\": {\"outlinewidth\": 0, \"ticks\": \"\"}, \"colorscale\": [[0.0, \"#0d0887\"], [0.1111111111111111, \"#46039f\"], [0.2222222222222222, \"#7201a8\"], [0.3333333333333333, \"#9c179e\"], [0.4444444444444444, \"#bd3786\"], [0.5555555555555556, \"#d8576b\"], [0.6666666666666666, \"#ed7953\"], [0.7777777777777778, \"#fb9f3a\"], [0.8888888888888888, \"#fdca26\"], [1.0, \"#f0f921\"]], \"type\": \"heatmapgl\"}], \"histogram\": [{\"marker\": {\"colorbar\": {\"outlinewidth\": 0, \"ticks\": \"\"}}, \"type\": \"histogram\"}], \"histogram2d\": [{\"colorbar\": {\"outlinewidth\": 0, \"ticks\": \"\"}, \"colorscale\": [[0.0, \"#0d0887\"], [0.1111111111111111, \"#46039f\"], [0.2222222222222222, \"#7201a8\"], [0.3333333333333333, \"#9c179e\"], [0.4444444444444444, \"#bd3786\"], [0.5555555555555556, \"#d8576b\"], [0.6666666666666666, \"#ed7953\"], [0.7777777777777778, \"#fb9f3a\"], [0.8888888888888888, \"#fdca26\"], [1.0, \"#f0f921\"]], \"type\": \"histogram2d\"}], \"histogram2dcontour\": [{\"colorbar\": {\"outlinewidth\": 0, \"ticks\": \"\"}, \"colorscale\": [[0.0, \"#0d0887\"], [0.1111111111111111, \"#46039f\"], [0.2222222222222222, \"#7201a8\"], [0.3333333333333333, \"#9c179e\"], [0.4444444444444444, \"#bd3786\"], [0.5555555555555556, \"#d8576b\"], [0.6666666666666666, \"#ed7953\"], [0.7777777777777778, \"#fb9f3a\"], [0.8888888888888888, \"#fdca26\"], [1.0, \"#f0f921\"]], \"type\": \"histogram2dcontour\"}], \"mesh3d\": [{\"colorbar\": {\"outlinewidth\": 0, \"ticks\": \"\"}, \"type\": \"mesh3d\"}], \"parcoords\": [{\"line\": {\"colorbar\": {\"outlinewidth\": 0, \"ticks\": \"\"}}, \"type\": \"parcoords\"}], \"pie\": [{\"automargin\": true, \"type\": \"pie\"}], \"scatter\": [{\"marker\": {\"colorbar\": {\"outlinewidth\": 0, \"ticks\": \"\"}}, \"type\": \"scatter\"}], \"scatter3d\": [{\"line\": {\"colorbar\": {\"outlinewidth\": 0, \"ticks\": \"\"}}, \"marker\": {\"colorbar\": {\"outlinewidth\": 0, \"ticks\": \"\"}}, \"type\": \"scatter3d\"}], \"scattercarpet\": [{\"marker\": {\"colorbar\": {\"outlinewidth\": 0, \"ticks\": \"\"}}, \"type\": \"scattercarpet\"}], \"scattergeo\": [{\"marker\": {\"colorbar\": {\"outlinewidth\": 0, \"ticks\": \"\"}}, \"type\": \"scattergeo\"}], \"scattergl\": [{\"marker\": {\"colorbar\": {\"outlinewidth\": 0, \"ticks\": \"\"}}, \"type\": \"scattergl\"}], \"scattermapbox\": [{\"marker\": {\"colorbar\": {\"outlinewidth\": 0, \"ticks\": \"\"}}, \"type\": \"scattermapbox\"}], \"scatterpolar\": [{\"marker\": {\"colorbar\": {\"outlinewidth\": 0, \"ticks\": \"\"}}, \"type\": \"scatterpolar\"}], \"scatterpolargl\": [{\"marker\": {\"colorbar\": {\"outlinewidth\": 0, \"ticks\": \"\"}}, \"type\": \"scatterpolargl\"}], \"scatterternary\": [{\"marker\": {\"colorbar\": {\"outlinewidth\": 0, \"ticks\": \"\"}}, \"type\": \"scatterternary\"}], \"surface\": [{\"colorbar\": {\"outlinewidth\": 0, \"ticks\": \"\"}, \"colorscale\": [[0.0, \"#0d0887\"], [0.1111111111111111, \"#46039f\"], [0.2222222222222222, \"#7201a8\"], [0.3333333333333333, \"#9c179e\"], [0.4444444444444444, \"#bd3786\"], [0.5555555555555556, \"#d8576b\"], [0.6666666666666666, \"#ed7953\"], [0.7777777777777778, \"#fb9f3a\"], [0.8888888888888888, \"#fdca26\"], [1.0, \"#f0f921\"]], \"type\": \"surface\"}], \"table\": [{\"cells\": {\"fill\": {\"color\": \"#EBF0F8\"}, \"line\": {\"color\": \"white\"}}, \"header\": {\"fill\": {\"color\": \"#C8D4E3\"}, \"line\": {\"color\": \"white\"}}, \"type\": \"table\"}]}, \"layout\": {\"annotationdefaults\": {\"arrowcolor\": \"#2a3f5f\", \"arrowhead\": 0, \"arrowwidth\": 1}, \"coloraxis\": {\"colorbar\": {\"outlinewidth\": 0, \"ticks\": \"\"}}, \"colorscale\": {\"diverging\": [[0, \"#8e0152\"], [0.1, \"#c51b7d\"], [0.2, \"#de77ae\"], [0.3, \"#f1b6da\"], [0.4, \"#fde0ef\"], [0.5, \"#f7f7f7\"], [0.6, \"#e6f5d0\"], [0.7, \"#b8e186\"], [0.8, \"#7fbc41\"], [0.9, \"#4d9221\"], [1, \"#276419\"]], \"sequential\": [[0.0, \"#0d0887\"], [0.1111111111111111, \"#46039f\"], [0.2222222222222222, \"#7201a8\"], [0.3333333333333333, \"#9c179e\"], [0.4444444444444444, \"#bd3786\"], [0.5555555555555556, \"#d8576b\"], [0.6666666666666666, \"#ed7953\"], [0.7777777777777778, \"#fb9f3a\"], [0.8888888888888888, \"#fdca26\"], [1.0, \"#f0f921\"]], \"sequentialminus\": [[0.0, \"#0d0887\"], [0.1111111111111111, \"#46039f\"], [0.2222222222222222, \"#7201a8\"], [0.3333333333333333, \"#9c179e\"], [0.4444444444444444, \"#bd3786\"], [0.5555555555555556, \"#d8576b\"], [0.6666666666666666, \"#ed7953\"], [0.7777777777777778, \"#fb9f3a\"], [0.8888888888888888, \"#fdca26\"], [1.0, \"#f0f921\"]]}, \"colorway\": [\"#636efa\", \"#EF553B\", \"#00cc96\", \"#ab63fa\", \"#FFA15A\", \"#19d3f3\", \"#FF6692\", \"#B6E880\", \"#FF97FF\", \"#FECB52\"], \"font\": {\"color\": \"#2a3f5f\"}, \"geo\": {\"bgcolor\": \"white\", \"lakecolor\": \"white\", \"landcolor\": \"#E5ECF6\", \"showlakes\": true, \"showland\": true, \"subunitcolor\": \"white\"}, \"hoverlabel\": {\"align\": \"left\"}, \"hovermode\": \"closest\", \"mapbox\": {\"style\": \"light\"}, \"paper_bgcolor\": \"white\", \"plot_bgcolor\": \"#E5ECF6\", \"polar\": {\"angularaxis\": {\"gridcolor\": \"white\", \"linecolor\": \"white\", \"ticks\": \"\"}, \"bgcolor\": \"#E5ECF6\", \"radialaxis\": {\"gridcolor\": \"white\", \"linecolor\": \"white\", \"ticks\": \"\"}}, \"scene\": {\"xaxis\": {\"backgroundcolor\": \"#E5ECF6\", \"gridcolor\": \"white\", \"gridwidth\": 2, \"linecolor\": \"white\", \"showbackground\": true, \"ticks\": \"\", \"zerolinecolor\": \"white\"}, \"yaxis\": {\"backgroundcolor\": \"#E5ECF6\", \"gridcolor\": \"white\", \"gridwidth\": 2, \"linecolor\": \"white\", \"showbackground\": true, \"ticks\": \"\", \"zerolinecolor\": \"white\"}, \"zaxis\": {\"backgroundcolor\": \"#E5ECF6\", \"gridcolor\": \"white\", \"gridwidth\": 2, \"linecolor\": \"white\", \"showbackground\": true, \"ticks\": \"\", \"zerolinecolor\": \"white\"}}, \"shapedefaults\": {\"line\": {\"color\": \"#2a3f5f\"}}, \"ternary\": {\"aaxis\": {\"gridcolor\": \"white\", \"linecolor\": \"white\", \"ticks\": \"\"}, \"baxis\": {\"gridcolor\": \"white\", \"linecolor\": \"white\", \"ticks\": \"\"}, \"bgcolor\": \"#E5ECF6\", \"caxis\": {\"gridcolor\": \"white\", \"linecolor\": \"white\", \"ticks\": \"\"}}, \"title\": {\"x\": 0.05}, \"xaxis\": {\"automargin\": true, \"gridcolor\": \"white\", \"linecolor\": \"white\", \"ticks\": \"\", \"title\": {\"standoff\": 15}, \"zerolinecolor\": \"white\", \"zerolinewidth\": 2}, \"yaxis\": {\"automargin\": true, \"gridcolor\": \"white\", \"linecolor\": \"white\", \"ticks\": \"\", \"title\": {\"standoff\": 15}, \"zerolinecolor\": \"white\", \"zerolinewidth\": 2}}}, \"title\": {\"font\": {\"color\": \"#4D5663\"}}, \"xaxis\": {\"gridcolor\": \"#E1E5ED\", \"showgrid\": true, \"tickfont\": {\"color\": \"#4D5663\"}, \"title\": {\"font\": {\"color\": \"#4D5663\"}, \"text\": \"\"}, \"zerolinecolor\": \"#E1E5ED\"}, \"xaxis2\": {\"anchor\": \"y2\", \"gridcolor\": \"#E1E5ED\", \"showgrid\": true, \"showticklabels\": false, \"tickfont\": {\"color\": \"#4D5663\"}, \"title\": {\"font\": {\"color\": \"#4D5663\"}, \"text\": \"\"}, \"zerolinecolor\": \"#E1E5ED\"}, \"yaxis\": {\"domain\": [0.3, 1], \"gridcolor\": \"#E1E5ED\", \"showgrid\": true, \"tickfont\": {\"color\": \"#4D5663\"}, \"title\": {\"font\": {\"color\": \"#4D5663\"}, \"text\": \"\"}, \"zerolinecolor\": \"#E1E5ED\"}, \"yaxis2\": {\"domain\": [0, 0.25], \"gridcolor\": \"#E1E5ED\", \"showgrid\": true, \"tickfont\": {\"color\": \"#4D5663\"}, \"title\": {\"font\": {\"color\": \"#4D5663\"}, \"text\": \"Spread\"}, \"zerolinecolor\": \"#E1E5ED\"}},\n",
       "                        {\"showLink\": true, \"linkText\": \"Export to plot.ly\", \"plotlyServerURL\": \"https://plot.ly\", \"responsive\": true}\n",
       "                    ).then(function(){\n",
       "                            \n",
       "var gd = document.getElementById('3e5c42e8-e277-4abe-bf06-8ce153b51754');\n",
       "var x = new MutationObserver(function (mutations, observer) {{\n",
       "        var display = window.getComputedStyle(gd).display;\n",
       "        if (!display || display === 'none') {{\n",
       "            console.log([gd, 'removed!']);\n",
       "            Plotly.purge(gd);\n",
       "            observer.disconnect();\n",
       "        }}\n",
       "}});\n",
       "\n",
       "// Listen for the removal of the full notebook cells\n",
       "var notebookContainer = gd.closest('#notebook-container');\n",
       "if (notebookContainer) {{\n",
       "    x.observe(notebookContainer, {childList: true});\n",
       "}}\n",
       "\n",
       "// Listen for the clearing of the current output cell\n",
       "var outputEl = gd.closest('.output');\n",
       "if (outputEl) {{\n",
       "    x.observe(outputEl, {childList: true});\n",
       "}}\n",
       "\n",
       "                        })\n",
       "                };\n",
       "                });\n",
       "            </script>\n",
       "        </div>"
      ]
     },
     "metadata": {},
     "output_type": "display_data"
    }
   ],
   "source": [
    "# plot df['A'] and df['B']"
   ]
  },
  {
   "cell_type": "code",
   "execution_count": 21,
   "metadata": {
    "Collapsed": "false"
   },
   "outputs": [
    {
     "data": {
      "application/vnd.plotly.v1+json": {
       "config": {
        "linkText": "Export to plot.ly",
        "plotlyServerURL": "https://plot.ly",
        "showLink": true
       },
       "data": [
        {
         "histfunc": "count",
         "histnorm": "",
         "marker": {
          "color": "rgba(255, 153, 51, 1.0)",
          "line": {
           "color": "#4D5663",
           "width": 1.3
          }
         },
         "name": "A",
         "nbinsx": 25,
         "opacity": 0.8,
         "orientation": "v",
         "type": "histogram",
         "x": [
          -1.1297880804810116,
          0.8909558868026678,
          -2.4674677078075615,
          1.4668865210388036,
          0.052099141553544316,
          -0.5841535222972922,
          -0.14407291051779864,
          -0.24146519801740043,
          1.4089883014072808,
          0.1698379991335825,
          1.6725669615460745,
          -1.1871638982625938,
          0.2500685582684525,
          -0.9075758091792991,
          1.5794840063606157,
          -0.7154693249447941,
          0.6710461976159192,
          -1.3138617132611679,
          -0.08715365767208498,
          0.6817437501923307,
          0.15963287076171498,
          -1.4284907475179551,
          0.7623270744081148,
          0.4827609399382711,
          1.143843875728672,
          0.732765341739219,
          0.4769246929115,
          0.5207809911732241,
          -0.6943426027267315,
          2.527205168129635,
          0.3110536263670157,
          -1.586564155923283,
          0.2325845898667768,
          0.14942062616814708,
          -0.7557765018970091,
          2.46078286011467,
          -1.5864772813918784,
          1.0868295448269554,
          0.29730223763112135,
          0.9330617358105876,
          1.3209758315752207,
          -0.7257746662786452,
          0.6223215905979733,
          0.9545355565512028,
          -0.5651734999398752,
          -0.8323343740748262,
          -1.529421653815974,
          -0.5637293068459186,
          1.3747593870565984,
          1.4629258937978542,
          -1.2437710994346372,
          1.1528387183185471,
          -0.7646733650685583,
          -0.12980482941361793,
          0.8460466553233116,
          -0.13679977098484716,
          1.3171725454303962,
          -0.8524969706000572,
          -0.7896774042673815,
          0.30161696428573564,
          -1.1882742305542269,
          -0.15889754303574397,
          0.8698986288529447,
          -0.9964530436083726,
          0.4100165481373722,
          -0.4128453281010694,
          1.4406077576302683,
          1.6011651067675756,
          -3.3597780905476684,
          -1.3769568088285187,
          1.2177632525884357,
          -0.14126371111306843,
          -0.3721476282966241,
          -1.96760916128469,
          0.5213989068129281,
          -1.453423528558044,
          0.3946037066457429,
          0.8585996691985393,
          0.9237916704788649,
          0.3137707208702481,
          0.9861633281572418,
          0.8940523501948491,
          1.300507308282935,
          0.769636332141642,
          0.599535573702335,
          -1.8921465187792665,
          0.7351759459424257,
          -0.5245244935897746,
          0.41125483420132225,
          -0.4747146631281052,
          0.5430255920252014,
          -0.8615301256799931,
          0.685280739134256,
          1.3824752940241554,
          0.4691203694022939,
          0.2969347029971788,
          0.17527373402249957,
          -0.2664598834122682,
          -1.0603267101266096,
          1.2585999049100745
         ]
        }
       ],
       "layout": {
        "barmode": "overlay",
        "legend": {
         "bgcolor": "#F5F6F9",
         "font": {
          "color": "#4D5663"
         }
        },
        "paper_bgcolor": "#F5F6F9",
        "plot_bgcolor": "#F5F6F9",
        "template": {
         "data": {
          "bar": [
           {
            "error_x": {
             "color": "#2a3f5f"
            },
            "error_y": {
             "color": "#2a3f5f"
            },
            "marker": {
             "line": {
              "color": "#E5ECF6",
              "width": 0.5
             }
            },
            "type": "bar"
           }
          ],
          "barpolar": [
           {
            "marker": {
             "line": {
              "color": "#E5ECF6",
              "width": 0.5
             }
            },
            "type": "barpolar"
           }
          ],
          "carpet": [
           {
            "aaxis": {
             "endlinecolor": "#2a3f5f",
             "gridcolor": "white",
             "linecolor": "white",
             "minorgridcolor": "white",
             "startlinecolor": "#2a3f5f"
            },
            "baxis": {
             "endlinecolor": "#2a3f5f",
             "gridcolor": "white",
             "linecolor": "white",
             "minorgridcolor": "white",
             "startlinecolor": "#2a3f5f"
            },
            "type": "carpet"
           }
          ],
          "choropleth": [
           {
            "colorbar": {
             "outlinewidth": 0,
             "ticks": ""
            },
            "type": "choropleth"
           }
          ],
          "contour": [
           {
            "colorbar": {
             "outlinewidth": 0,
             "ticks": ""
            },
            "colorscale": [
             [
              0,
              "#0d0887"
             ],
             [
              0.1111111111111111,
              "#46039f"
             ],
             [
              0.2222222222222222,
              "#7201a8"
             ],
             [
              0.3333333333333333,
              "#9c179e"
             ],
             [
              0.4444444444444444,
              "#bd3786"
             ],
             [
              0.5555555555555556,
              "#d8576b"
             ],
             [
              0.6666666666666666,
              "#ed7953"
             ],
             [
              0.7777777777777778,
              "#fb9f3a"
             ],
             [
              0.8888888888888888,
              "#fdca26"
             ],
             [
              1,
              "#f0f921"
             ]
            ],
            "type": "contour"
           }
          ],
          "contourcarpet": [
           {
            "colorbar": {
             "outlinewidth": 0,
             "ticks": ""
            },
            "type": "contourcarpet"
           }
          ],
          "heatmap": [
           {
            "colorbar": {
             "outlinewidth": 0,
             "ticks": ""
            },
            "colorscale": [
             [
              0,
              "#0d0887"
             ],
             [
              0.1111111111111111,
              "#46039f"
             ],
             [
              0.2222222222222222,
              "#7201a8"
             ],
             [
              0.3333333333333333,
              "#9c179e"
             ],
             [
              0.4444444444444444,
              "#bd3786"
             ],
             [
              0.5555555555555556,
              "#d8576b"
             ],
             [
              0.6666666666666666,
              "#ed7953"
             ],
             [
              0.7777777777777778,
              "#fb9f3a"
             ],
             [
              0.8888888888888888,
              "#fdca26"
             ],
             [
              1,
              "#f0f921"
             ]
            ],
            "type": "heatmap"
           }
          ],
          "heatmapgl": [
           {
            "colorbar": {
             "outlinewidth": 0,
             "ticks": ""
            },
            "colorscale": [
             [
              0,
              "#0d0887"
             ],
             [
              0.1111111111111111,
              "#46039f"
             ],
             [
              0.2222222222222222,
              "#7201a8"
             ],
             [
              0.3333333333333333,
              "#9c179e"
             ],
             [
              0.4444444444444444,
              "#bd3786"
             ],
             [
              0.5555555555555556,
              "#d8576b"
             ],
             [
              0.6666666666666666,
              "#ed7953"
             ],
             [
              0.7777777777777778,
              "#fb9f3a"
             ],
             [
              0.8888888888888888,
              "#fdca26"
             ],
             [
              1,
              "#f0f921"
             ]
            ],
            "type": "heatmapgl"
           }
          ],
          "histogram": [
           {
            "marker": {
             "colorbar": {
              "outlinewidth": 0,
              "ticks": ""
             }
            },
            "type": "histogram"
           }
          ],
          "histogram2d": [
           {
            "colorbar": {
             "outlinewidth": 0,
             "ticks": ""
            },
            "colorscale": [
             [
              0,
              "#0d0887"
             ],
             [
              0.1111111111111111,
              "#46039f"
             ],
             [
              0.2222222222222222,
              "#7201a8"
             ],
             [
              0.3333333333333333,
              "#9c179e"
             ],
             [
              0.4444444444444444,
              "#bd3786"
             ],
             [
              0.5555555555555556,
              "#d8576b"
             ],
             [
              0.6666666666666666,
              "#ed7953"
             ],
             [
              0.7777777777777778,
              "#fb9f3a"
             ],
             [
              0.8888888888888888,
              "#fdca26"
             ],
             [
              1,
              "#f0f921"
             ]
            ],
            "type": "histogram2d"
           }
          ],
          "histogram2dcontour": [
           {
            "colorbar": {
             "outlinewidth": 0,
             "ticks": ""
            },
            "colorscale": [
             [
              0,
              "#0d0887"
             ],
             [
              0.1111111111111111,
              "#46039f"
             ],
             [
              0.2222222222222222,
              "#7201a8"
             ],
             [
              0.3333333333333333,
              "#9c179e"
             ],
             [
              0.4444444444444444,
              "#bd3786"
             ],
             [
              0.5555555555555556,
              "#d8576b"
             ],
             [
              0.6666666666666666,
              "#ed7953"
             ],
             [
              0.7777777777777778,
              "#fb9f3a"
             ],
             [
              0.8888888888888888,
              "#fdca26"
             ],
             [
              1,
              "#f0f921"
             ]
            ],
            "type": "histogram2dcontour"
           }
          ],
          "mesh3d": [
           {
            "colorbar": {
             "outlinewidth": 0,
             "ticks": ""
            },
            "type": "mesh3d"
           }
          ],
          "parcoords": [
           {
            "line": {
             "colorbar": {
              "outlinewidth": 0,
              "ticks": ""
             }
            },
            "type": "parcoords"
           }
          ],
          "pie": [
           {
            "automargin": true,
            "type": "pie"
           }
          ],
          "scatter": [
           {
            "marker": {
             "colorbar": {
              "outlinewidth": 0,
              "ticks": ""
             }
            },
            "type": "scatter"
           }
          ],
          "scatter3d": [
           {
            "line": {
             "colorbar": {
              "outlinewidth": 0,
              "ticks": ""
             }
            },
            "marker": {
             "colorbar": {
              "outlinewidth": 0,
              "ticks": ""
             }
            },
            "type": "scatter3d"
           }
          ],
          "scattercarpet": [
           {
            "marker": {
             "colorbar": {
              "outlinewidth": 0,
              "ticks": ""
             }
            },
            "type": "scattercarpet"
           }
          ],
          "scattergeo": [
           {
            "marker": {
             "colorbar": {
              "outlinewidth": 0,
              "ticks": ""
             }
            },
            "type": "scattergeo"
           }
          ],
          "scattergl": [
           {
            "marker": {
             "colorbar": {
              "outlinewidth": 0,
              "ticks": ""
             }
            },
            "type": "scattergl"
           }
          ],
          "scattermapbox": [
           {
            "marker": {
             "colorbar": {
              "outlinewidth": 0,
              "ticks": ""
             }
            },
            "type": "scattermapbox"
           }
          ],
          "scatterpolar": [
           {
            "marker": {
             "colorbar": {
              "outlinewidth": 0,
              "ticks": ""
             }
            },
            "type": "scatterpolar"
           }
          ],
          "scatterpolargl": [
           {
            "marker": {
             "colorbar": {
              "outlinewidth": 0,
              "ticks": ""
             }
            },
            "type": "scatterpolargl"
           }
          ],
          "scatterternary": [
           {
            "marker": {
             "colorbar": {
              "outlinewidth": 0,
              "ticks": ""
             }
            },
            "type": "scatterternary"
           }
          ],
          "surface": [
           {
            "colorbar": {
             "outlinewidth": 0,
             "ticks": ""
            },
            "colorscale": [
             [
              0,
              "#0d0887"
             ],
             [
              0.1111111111111111,
              "#46039f"
             ],
             [
              0.2222222222222222,
              "#7201a8"
             ],
             [
              0.3333333333333333,
              "#9c179e"
             ],
             [
              0.4444444444444444,
              "#bd3786"
             ],
             [
              0.5555555555555556,
              "#d8576b"
             ],
             [
              0.6666666666666666,
              "#ed7953"
             ],
             [
              0.7777777777777778,
              "#fb9f3a"
             ],
             [
              0.8888888888888888,
              "#fdca26"
             ],
             [
              1,
              "#f0f921"
             ]
            ],
            "type": "surface"
           }
          ],
          "table": [
           {
            "cells": {
             "fill": {
              "color": "#EBF0F8"
             },
             "line": {
              "color": "white"
             }
            },
            "header": {
             "fill": {
              "color": "#C8D4E3"
             },
             "line": {
              "color": "white"
             }
            },
            "type": "table"
           }
          ]
         },
         "layout": {
          "annotationdefaults": {
           "arrowcolor": "#2a3f5f",
           "arrowhead": 0,
           "arrowwidth": 1
          },
          "coloraxis": {
           "colorbar": {
            "outlinewidth": 0,
            "ticks": ""
           }
          },
          "colorscale": {
           "diverging": [
            [
             0,
             "#8e0152"
            ],
            [
             0.1,
             "#c51b7d"
            ],
            [
             0.2,
             "#de77ae"
            ],
            [
             0.3,
             "#f1b6da"
            ],
            [
             0.4,
             "#fde0ef"
            ],
            [
             0.5,
             "#f7f7f7"
            ],
            [
             0.6,
             "#e6f5d0"
            ],
            [
             0.7,
             "#b8e186"
            ],
            [
             0.8,
             "#7fbc41"
            ],
            [
             0.9,
             "#4d9221"
            ],
            [
             1,
             "#276419"
            ]
           ],
           "sequential": [
            [
             0,
             "#0d0887"
            ],
            [
             0.1111111111111111,
             "#46039f"
            ],
            [
             0.2222222222222222,
             "#7201a8"
            ],
            [
             0.3333333333333333,
             "#9c179e"
            ],
            [
             0.4444444444444444,
             "#bd3786"
            ],
            [
             0.5555555555555556,
             "#d8576b"
            ],
            [
             0.6666666666666666,
             "#ed7953"
            ],
            [
             0.7777777777777778,
             "#fb9f3a"
            ],
            [
             0.8888888888888888,
             "#fdca26"
            ],
            [
             1,
             "#f0f921"
            ]
           ],
           "sequentialminus": [
            [
             0,
             "#0d0887"
            ],
            [
             0.1111111111111111,
             "#46039f"
            ],
            [
             0.2222222222222222,
             "#7201a8"
            ],
            [
             0.3333333333333333,
             "#9c179e"
            ],
            [
             0.4444444444444444,
             "#bd3786"
            ],
            [
             0.5555555555555556,
             "#d8576b"
            ],
            [
             0.6666666666666666,
             "#ed7953"
            ],
            [
             0.7777777777777778,
             "#fb9f3a"
            ],
            [
             0.8888888888888888,
             "#fdca26"
            ],
            [
             1,
             "#f0f921"
            ]
           ]
          },
          "colorway": [
           "#636efa",
           "#EF553B",
           "#00cc96",
           "#ab63fa",
           "#FFA15A",
           "#19d3f3",
           "#FF6692",
           "#B6E880",
           "#FF97FF",
           "#FECB52"
          ],
          "font": {
           "color": "#2a3f5f"
          },
          "geo": {
           "bgcolor": "white",
           "lakecolor": "white",
           "landcolor": "#E5ECF6",
           "showlakes": true,
           "showland": true,
           "subunitcolor": "white"
          },
          "hoverlabel": {
           "align": "left"
          },
          "hovermode": "closest",
          "mapbox": {
           "style": "light"
          },
          "paper_bgcolor": "white",
          "plot_bgcolor": "#E5ECF6",
          "polar": {
           "angularaxis": {
            "gridcolor": "white",
            "linecolor": "white",
            "ticks": ""
           },
           "bgcolor": "#E5ECF6",
           "radialaxis": {
            "gridcolor": "white",
            "linecolor": "white",
            "ticks": ""
           }
          },
          "scene": {
           "xaxis": {
            "backgroundcolor": "#E5ECF6",
            "gridcolor": "white",
            "gridwidth": 2,
            "linecolor": "white",
            "showbackground": true,
            "ticks": "",
            "zerolinecolor": "white"
           },
           "yaxis": {
            "backgroundcolor": "#E5ECF6",
            "gridcolor": "white",
            "gridwidth": 2,
            "linecolor": "white",
            "showbackground": true,
            "ticks": "",
            "zerolinecolor": "white"
           },
           "zaxis": {
            "backgroundcolor": "#E5ECF6",
            "gridcolor": "white",
            "gridwidth": 2,
            "linecolor": "white",
            "showbackground": true,
            "ticks": "",
            "zerolinecolor": "white"
           }
          },
          "shapedefaults": {
           "line": {
            "color": "#2a3f5f"
           }
          },
          "ternary": {
           "aaxis": {
            "gridcolor": "white",
            "linecolor": "white",
            "ticks": ""
           },
           "baxis": {
            "gridcolor": "white",
            "linecolor": "white",
            "ticks": ""
           },
           "bgcolor": "#E5ECF6",
           "caxis": {
            "gridcolor": "white",
            "linecolor": "white",
            "ticks": ""
           }
          },
          "title": {
           "x": 0.05
          },
          "xaxis": {
           "automargin": true,
           "gridcolor": "white",
           "linecolor": "white",
           "ticks": "",
           "title": {
            "standoff": 15
           },
           "zerolinecolor": "white",
           "zerolinewidth": 2
          },
          "yaxis": {
           "automargin": true,
           "gridcolor": "white",
           "linecolor": "white",
           "ticks": "",
           "title": {
            "standoff": 15
           },
           "zerolinecolor": "white",
           "zerolinewidth": 2
          }
         }
        },
        "title": {
         "font": {
          "color": "#4D5663"
         }
        },
        "xaxis": {
         "gridcolor": "#E1E5ED",
         "showgrid": true,
         "tickfont": {
          "color": "#4D5663"
         },
         "title": {
          "font": {
           "color": "#4D5663"
          },
          "text": ""
         },
         "zerolinecolor": "#E1E5ED"
        },
        "yaxis": {
         "gridcolor": "#E1E5ED",
         "showgrid": true,
         "tickfont": {
          "color": "#4D5663"
         },
         "title": {
          "font": {
           "color": "#4D5663"
          },
          "text": ""
         },
         "zerolinecolor": "#E1E5ED"
        }
       }
      },
      "text/html": [
       "<div>\n",
       "        \n",
       "        \n",
       "            <div id=\"92ca279b-f0ae-4ba0-8b18-af5ffd6a115b\" class=\"plotly-graph-div\" style=\"height:525px; width:100%;\"></div>\n",
       "            <script type=\"text/javascript\">\n",
       "                require([\"plotly\"], function(Plotly) {\n",
       "                    window.PLOTLYENV=window.PLOTLYENV || {};\n",
       "                    window.PLOTLYENV.BASE_URL='https://plot.ly';\n",
       "                    \n",
       "                if (document.getElementById(\"92ca279b-f0ae-4ba0-8b18-af5ffd6a115b\")) {\n",
       "                    Plotly.newPlot(\n",
       "                        '92ca279b-f0ae-4ba0-8b18-af5ffd6a115b',\n",
       "                        [{\"histfunc\": \"count\", \"histnorm\": \"\", \"marker\": {\"color\": \"rgba(255, 153, 51, 1.0)\", \"line\": {\"color\": \"#4D5663\", \"width\": 1.3}}, \"name\": \"A\", \"nbinsx\": 25, \"opacity\": 0.8, \"orientation\": \"v\", \"type\": \"histogram\", \"x\": [-1.1297880804810116, 0.8909558868026678, -2.4674677078075615, 1.4668865210388036, 0.052099141553544316, -0.5841535222972922, -0.14407291051779864, -0.24146519801740043, 1.4089883014072808, 0.1698379991335825, 1.6725669615460745, -1.1871638982625938, 0.2500685582684525, -0.9075758091792991, 1.5794840063606157, -0.7154693249447941, 0.6710461976159192, -1.3138617132611679, -0.08715365767208498, 0.6817437501923307, 0.15963287076171498, -1.4284907475179551, 0.7623270744081148, 0.4827609399382711, 1.143843875728672, 0.732765341739219, 0.4769246929115, 0.5207809911732241, -0.6943426027267315, 2.527205168129635, 0.3110536263670157, -1.586564155923283, 0.2325845898667768, 0.14942062616814708, -0.7557765018970091, 2.46078286011467, -1.5864772813918784, 1.0868295448269554, 0.29730223763112135, 0.9330617358105876, 1.3209758315752207, -0.7257746662786452, 0.6223215905979733, 0.9545355565512028, -0.5651734999398752, -0.8323343740748262, -1.529421653815974, -0.5637293068459186, 1.3747593870565984, 1.4629258937978542, -1.2437710994346372, 1.1528387183185471, -0.7646733650685583, -0.12980482941361793, 0.8460466553233116, -0.13679977098484716, 1.3171725454303962, -0.8524969706000572, -0.7896774042673815, 0.30161696428573564, -1.1882742305542269, -0.15889754303574397, 0.8698986288529447, -0.9964530436083726, 0.4100165481373722, -0.4128453281010694, 1.4406077576302683, 1.6011651067675756, -3.3597780905476684, -1.3769568088285187, 1.2177632525884357, -0.14126371111306843, -0.3721476282966241, -1.96760916128469, 0.5213989068129281, -1.453423528558044, 0.3946037066457429, 0.8585996691985393, 0.9237916704788649, 0.3137707208702481, 0.9861633281572418, 0.8940523501948491, 1.300507308282935, 0.769636332141642, 0.599535573702335, -1.8921465187792665, 0.7351759459424257, -0.5245244935897746, 0.41125483420132225, -0.4747146631281052, 0.5430255920252014, -0.8615301256799931, 0.685280739134256, 1.3824752940241554, 0.4691203694022939, 0.2969347029971788, 0.17527373402249957, -0.2664598834122682, -1.0603267101266096, 1.2585999049100745]}],\n",
       "                        {\"barmode\": \"overlay\", \"legend\": {\"bgcolor\": \"#F5F6F9\", \"font\": {\"color\": \"#4D5663\"}}, \"paper_bgcolor\": \"#F5F6F9\", \"plot_bgcolor\": \"#F5F6F9\", \"template\": {\"data\": {\"bar\": [{\"error_x\": {\"color\": \"#2a3f5f\"}, \"error_y\": {\"color\": \"#2a3f5f\"}, \"marker\": {\"line\": {\"color\": \"#E5ECF6\", \"width\": 0.5}}, \"type\": \"bar\"}], \"barpolar\": [{\"marker\": {\"line\": {\"color\": \"#E5ECF6\", \"width\": 0.5}}, \"type\": \"barpolar\"}], \"carpet\": [{\"aaxis\": {\"endlinecolor\": \"#2a3f5f\", \"gridcolor\": \"white\", \"linecolor\": \"white\", \"minorgridcolor\": \"white\", \"startlinecolor\": \"#2a3f5f\"}, \"baxis\": {\"endlinecolor\": \"#2a3f5f\", \"gridcolor\": \"white\", \"linecolor\": \"white\", \"minorgridcolor\": \"white\", \"startlinecolor\": \"#2a3f5f\"}, \"type\": \"carpet\"}], \"choropleth\": [{\"colorbar\": {\"outlinewidth\": 0, \"ticks\": \"\"}, \"type\": \"choropleth\"}], \"contour\": [{\"colorbar\": {\"outlinewidth\": 0, \"ticks\": \"\"}, \"colorscale\": [[0.0, \"#0d0887\"], [0.1111111111111111, \"#46039f\"], [0.2222222222222222, \"#7201a8\"], [0.3333333333333333, \"#9c179e\"], [0.4444444444444444, \"#bd3786\"], [0.5555555555555556, \"#d8576b\"], [0.6666666666666666, \"#ed7953\"], [0.7777777777777778, \"#fb9f3a\"], [0.8888888888888888, \"#fdca26\"], [1.0, \"#f0f921\"]], \"type\": \"contour\"}], \"contourcarpet\": [{\"colorbar\": {\"outlinewidth\": 0, \"ticks\": \"\"}, \"type\": \"contourcarpet\"}], \"heatmap\": [{\"colorbar\": {\"outlinewidth\": 0, \"ticks\": \"\"}, \"colorscale\": [[0.0, \"#0d0887\"], [0.1111111111111111, \"#46039f\"], [0.2222222222222222, \"#7201a8\"], [0.3333333333333333, \"#9c179e\"], [0.4444444444444444, \"#bd3786\"], [0.5555555555555556, \"#d8576b\"], [0.6666666666666666, \"#ed7953\"], [0.7777777777777778, \"#fb9f3a\"], [0.8888888888888888, \"#fdca26\"], [1.0, \"#f0f921\"]], \"type\": \"heatmap\"}], \"heatmapgl\": [{\"colorbar\": {\"outlinewidth\": 0, \"ticks\": \"\"}, \"colorscale\": [[0.0, \"#0d0887\"], [0.1111111111111111, \"#46039f\"], [0.2222222222222222, \"#7201a8\"], [0.3333333333333333, \"#9c179e\"], [0.4444444444444444, \"#bd3786\"], [0.5555555555555556, \"#d8576b\"], [0.6666666666666666, \"#ed7953\"], [0.7777777777777778, \"#fb9f3a\"], [0.8888888888888888, \"#fdca26\"], [1.0, \"#f0f921\"]], \"type\": \"heatmapgl\"}], \"histogram\": [{\"marker\": {\"colorbar\": {\"outlinewidth\": 0, \"ticks\": \"\"}}, \"type\": \"histogram\"}], \"histogram2d\": [{\"colorbar\": {\"outlinewidth\": 0, \"ticks\": \"\"}, \"colorscale\": [[0.0, \"#0d0887\"], [0.1111111111111111, \"#46039f\"], [0.2222222222222222, \"#7201a8\"], [0.3333333333333333, \"#9c179e\"], [0.4444444444444444, \"#bd3786\"], [0.5555555555555556, \"#d8576b\"], [0.6666666666666666, \"#ed7953\"], [0.7777777777777778, \"#fb9f3a\"], [0.8888888888888888, \"#fdca26\"], [1.0, \"#f0f921\"]], \"type\": \"histogram2d\"}], \"histogram2dcontour\": [{\"colorbar\": {\"outlinewidth\": 0, \"ticks\": \"\"}, \"colorscale\": [[0.0, \"#0d0887\"], [0.1111111111111111, \"#46039f\"], [0.2222222222222222, \"#7201a8\"], [0.3333333333333333, \"#9c179e\"], [0.4444444444444444, \"#bd3786\"], [0.5555555555555556, \"#d8576b\"], [0.6666666666666666, \"#ed7953\"], [0.7777777777777778, \"#fb9f3a\"], [0.8888888888888888, \"#fdca26\"], [1.0, \"#f0f921\"]], \"type\": \"histogram2dcontour\"}], \"mesh3d\": [{\"colorbar\": {\"outlinewidth\": 0, \"ticks\": \"\"}, \"type\": \"mesh3d\"}], \"parcoords\": [{\"line\": {\"colorbar\": {\"outlinewidth\": 0, \"ticks\": \"\"}}, \"type\": \"parcoords\"}], \"pie\": [{\"automargin\": true, \"type\": \"pie\"}], \"scatter\": [{\"marker\": {\"colorbar\": {\"outlinewidth\": 0, \"ticks\": \"\"}}, \"type\": \"scatter\"}], \"scatter3d\": [{\"line\": {\"colorbar\": {\"outlinewidth\": 0, \"ticks\": \"\"}}, \"marker\": {\"colorbar\": {\"outlinewidth\": 0, \"ticks\": \"\"}}, \"type\": \"scatter3d\"}], \"scattercarpet\": [{\"marker\": {\"colorbar\": {\"outlinewidth\": 0, \"ticks\": \"\"}}, \"type\": \"scattercarpet\"}], \"scattergeo\": [{\"marker\": {\"colorbar\": {\"outlinewidth\": 0, \"ticks\": \"\"}}, \"type\": \"scattergeo\"}], \"scattergl\": [{\"marker\": {\"colorbar\": {\"outlinewidth\": 0, \"ticks\": \"\"}}, \"type\": \"scattergl\"}], \"scattermapbox\": [{\"marker\": {\"colorbar\": {\"outlinewidth\": 0, \"ticks\": \"\"}}, \"type\": \"scattermapbox\"}], \"scatterpolar\": [{\"marker\": {\"colorbar\": {\"outlinewidth\": 0, \"ticks\": \"\"}}, \"type\": \"scatterpolar\"}], \"scatterpolargl\": [{\"marker\": {\"colorbar\": {\"outlinewidth\": 0, \"ticks\": \"\"}}, \"type\": \"scatterpolargl\"}], \"scatterternary\": [{\"marker\": {\"colorbar\": {\"outlinewidth\": 0, \"ticks\": \"\"}}, \"type\": \"scatterternary\"}], \"surface\": [{\"colorbar\": {\"outlinewidth\": 0, \"ticks\": \"\"}, \"colorscale\": [[0.0, \"#0d0887\"], [0.1111111111111111, \"#46039f\"], [0.2222222222222222, \"#7201a8\"], [0.3333333333333333, \"#9c179e\"], [0.4444444444444444, \"#bd3786\"], [0.5555555555555556, \"#d8576b\"], [0.6666666666666666, \"#ed7953\"], [0.7777777777777778, \"#fb9f3a\"], [0.8888888888888888, \"#fdca26\"], [1.0, \"#f0f921\"]], \"type\": \"surface\"}], \"table\": [{\"cells\": {\"fill\": {\"color\": \"#EBF0F8\"}, \"line\": {\"color\": \"white\"}}, \"header\": {\"fill\": {\"color\": \"#C8D4E3\"}, \"line\": {\"color\": \"white\"}}, \"type\": \"table\"}]}, \"layout\": {\"annotationdefaults\": {\"arrowcolor\": \"#2a3f5f\", \"arrowhead\": 0, \"arrowwidth\": 1}, \"coloraxis\": {\"colorbar\": {\"outlinewidth\": 0, \"ticks\": \"\"}}, \"colorscale\": {\"diverging\": [[0, \"#8e0152\"], [0.1, \"#c51b7d\"], [0.2, \"#de77ae\"], [0.3, \"#f1b6da\"], [0.4, \"#fde0ef\"], [0.5, \"#f7f7f7\"], [0.6, \"#e6f5d0\"], [0.7, \"#b8e186\"], [0.8, \"#7fbc41\"], [0.9, \"#4d9221\"], [1, \"#276419\"]], \"sequential\": [[0.0, \"#0d0887\"], [0.1111111111111111, \"#46039f\"], [0.2222222222222222, \"#7201a8\"], [0.3333333333333333, \"#9c179e\"], [0.4444444444444444, \"#bd3786\"], [0.5555555555555556, \"#d8576b\"], [0.6666666666666666, \"#ed7953\"], [0.7777777777777778, \"#fb9f3a\"], [0.8888888888888888, \"#fdca26\"], [1.0, \"#f0f921\"]], \"sequentialminus\": [[0.0, \"#0d0887\"], [0.1111111111111111, \"#46039f\"], [0.2222222222222222, \"#7201a8\"], [0.3333333333333333, \"#9c179e\"], [0.4444444444444444, \"#bd3786\"], [0.5555555555555556, \"#d8576b\"], [0.6666666666666666, \"#ed7953\"], [0.7777777777777778, \"#fb9f3a\"], [0.8888888888888888, \"#fdca26\"], [1.0, \"#f0f921\"]]}, \"colorway\": [\"#636efa\", \"#EF553B\", \"#00cc96\", \"#ab63fa\", \"#FFA15A\", \"#19d3f3\", \"#FF6692\", \"#B6E880\", \"#FF97FF\", \"#FECB52\"], \"font\": {\"color\": \"#2a3f5f\"}, \"geo\": {\"bgcolor\": \"white\", \"lakecolor\": \"white\", \"landcolor\": \"#E5ECF6\", \"showlakes\": true, \"showland\": true, \"subunitcolor\": \"white\"}, \"hoverlabel\": {\"align\": \"left\"}, \"hovermode\": \"closest\", \"mapbox\": {\"style\": \"light\"}, \"paper_bgcolor\": \"white\", \"plot_bgcolor\": \"#E5ECF6\", \"polar\": {\"angularaxis\": {\"gridcolor\": \"white\", \"linecolor\": \"white\", \"ticks\": \"\"}, \"bgcolor\": \"#E5ECF6\", \"radialaxis\": {\"gridcolor\": \"white\", \"linecolor\": \"white\", \"ticks\": \"\"}}, \"scene\": {\"xaxis\": {\"backgroundcolor\": \"#E5ECF6\", \"gridcolor\": \"white\", \"gridwidth\": 2, \"linecolor\": \"white\", \"showbackground\": true, \"ticks\": \"\", \"zerolinecolor\": \"white\"}, \"yaxis\": {\"backgroundcolor\": \"#E5ECF6\", \"gridcolor\": \"white\", \"gridwidth\": 2, \"linecolor\": \"white\", \"showbackground\": true, \"ticks\": \"\", \"zerolinecolor\": \"white\"}, \"zaxis\": {\"backgroundcolor\": \"#E5ECF6\", \"gridcolor\": \"white\", \"gridwidth\": 2, \"linecolor\": \"white\", \"showbackground\": true, \"ticks\": \"\", \"zerolinecolor\": \"white\"}}, \"shapedefaults\": {\"line\": {\"color\": \"#2a3f5f\"}}, \"ternary\": {\"aaxis\": {\"gridcolor\": \"white\", \"linecolor\": \"white\", \"ticks\": \"\"}, \"baxis\": {\"gridcolor\": \"white\", \"linecolor\": \"white\", \"ticks\": \"\"}, \"bgcolor\": \"#E5ECF6\", \"caxis\": {\"gridcolor\": \"white\", \"linecolor\": \"white\", \"ticks\": \"\"}}, \"title\": {\"x\": 0.05}, \"xaxis\": {\"automargin\": true, \"gridcolor\": \"white\", \"linecolor\": \"white\", \"ticks\": \"\", \"title\": {\"standoff\": 15}, \"zerolinecolor\": \"white\", \"zerolinewidth\": 2}, \"yaxis\": {\"automargin\": true, \"gridcolor\": \"white\", \"linecolor\": \"white\", \"ticks\": \"\", \"title\": {\"standoff\": 15}, \"zerolinecolor\": \"white\", \"zerolinewidth\": 2}}}, \"title\": {\"font\": {\"color\": \"#4D5663\"}}, \"xaxis\": {\"gridcolor\": \"#E1E5ED\", \"showgrid\": true, \"tickfont\": {\"color\": \"#4D5663\"}, \"title\": {\"font\": {\"color\": \"#4D5663\"}, \"text\": \"\"}, \"zerolinecolor\": \"#E1E5ED\"}, \"yaxis\": {\"gridcolor\": \"#E1E5ED\", \"showgrid\": true, \"tickfont\": {\"color\": \"#4D5663\"}, \"title\": {\"font\": {\"color\": \"#4D5663\"}, \"text\": \"\"}, \"zerolinecolor\": \"#E1E5ED\"}},\n",
       "                        {\"showLink\": true, \"linkText\": \"Export to plot.ly\", \"plotlyServerURL\": \"https://plot.ly\", \"responsive\": true}\n",
       "                    ).then(function(){\n",
       "                            \n",
       "var gd = document.getElementById('92ca279b-f0ae-4ba0-8b18-af5ffd6a115b');\n",
       "var x = new MutationObserver(function (mutations, observer) {{\n",
       "        var display = window.getComputedStyle(gd).display;\n",
       "        if (!display || display === 'none') {{\n",
       "            console.log([gd, 'removed!']);\n",
       "            Plotly.purge(gd);\n",
       "            observer.disconnect();\n",
       "        }}\n",
       "}});\n",
       "\n",
       "// Listen for the removal of the full notebook cells\n",
       "var notebookContainer = gd.closest('#notebook-container');\n",
       "if (notebookContainer) {{\n",
       "    x.observe(notebookContainer, {childList: true});\n",
       "}}\n",
       "\n",
       "// Listen for the clearing of the current output cell\n",
       "var outputEl = gd.closest('.output');\n",
       "if (outputEl) {{\n",
       "    x.observe(outputEl, {childList: true});\n",
       "}}\n",
       "\n",
       "                        })\n",
       "                };\n",
       "                });\n",
       "            </script>\n",
       "        </div>"
      ]
     },
     "metadata": {},
     "output_type": "display_data"
    }
   ],
   "source": [
    "# plot df['A']"
   ]
  },
  {
   "cell_type": "code",
   "execution_count": 25,
   "metadata": {
    "Collapsed": "false"
   },
   "outputs": [
    {
     "data": {
      "application/vnd.plotly.v1+json": {
       "config": {
        "linkText": "Export to plot.ly",
        "plotlyServerURL": "https://plot.ly",
        "showLink": true
       },
       "data": [
        {
         "histfunc": "count",
         "histnorm": "",
         "marker": {
          "color": "rgba(255, 153, 51, 1.0)",
          "line": {
           "color": "#4D5663",
           "width": 1.3
          }
         },
         "name": "A",
         "nbinsx": 10,
         "opacity": 0.8,
         "orientation": "v",
         "type": "histogram",
         "x": [
          -1.1297880804810116,
          0.8909558868026678,
          -2.4674677078075615,
          1.4668865210388036,
          0.052099141553544316,
          -0.5841535222972922,
          -0.14407291051779864,
          -0.24146519801740043,
          1.4089883014072808,
          0.1698379991335825,
          1.6725669615460745,
          -1.1871638982625938,
          0.2500685582684525,
          -0.9075758091792991,
          1.5794840063606157,
          -0.7154693249447941,
          0.6710461976159192,
          -1.3138617132611679,
          -0.08715365767208498,
          0.6817437501923307,
          0.15963287076171498,
          -1.4284907475179551,
          0.7623270744081148,
          0.4827609399382711,
          1.143843875728672,
          0.732765341739219,
          0.4769246929115,
          0.5207809911732241,
          -0.6943426027267315,
          2.527205168129635,
          0.3110536263670157,
          -1.586564155923283,
          0.2325845898667768,
          0.14942062616814708,
          -0.7557765018970091,
          2.46078286011467,
          -1.5864772813918784,
          1.0868295448269554,
          0.29730223763112135,
          0.9330617358105876,
          1.3209758315752207,
          -0.7257746662786452,
          0.6223215905979733,
          0.9545355565512028,
          -0.5651734999398752,
          -0.8323343740748262,
          -1.529421653815974,
          -0.5637293068459186,
          1.3747593870565984,
          1.4629258937978542,
          -1.2437710994346372,
          1.1528387183185471,
          -0.7646733650685583,
          -0.12980482941361793,
          0.8460466553233116,
          -0.13679977098484716,
          1.3171725454303962,
          -0.8524969706000572,
          -0.7896774042673815,
          0.30161696428573564,
          -1.1882742305542269,
          -0.15889754303574397,
          0.8698986288529447,
          -0.9964530436083726,
          0.4100165481373722,
          -0.4128453281010694,
          1.4406077576302683,
          1.6011651067675756,
          -3.3597780905476684,
          -1.3769568088285187,
          1.2177632525884357,
          -0.14126371111306843,
          -0.3721476282966241,
          -1.96760916128469,
          0.5213989068129281,
          -1.453423528558044,
          0.3946037066457429,
          0.8585996691985393,
          0.9237916704788649,
          0.3137707208702481,
          0.9861633281572418,
          0.8940523501948491,
          1.300507308282935,
          0.769636332141642,
          0.599535573702335,
          -1.8921465187792665,
          0.7351759459424257,
          -0.5245244935897746,
          0.41125483420132225,
          -0.4747146631281052,
          0.5430255920252014,
          -0.8615301256799931,
          0.685280739134256,
          1.3824752940241554,
          0.4691203694022939,
          0.2969347029971788,
          0.17527373402249957,
          -0.2664598834122682,
          -1.0603267101266096,
          1.2585999049100745
         ],
         "xaxis": "x",
         "yaxis": "y"
        },
        {
         "line": {
          "color": "rgba(128, 128, 128, 1.0)",
          "dash": "solid",
          "shape": "linear",
          "width": 1.3
         },
         "marker": {
          "size": 2,
          "symbol": "circle"
         },
         "mode": "markers",
         "name": "A",
         "text": "",
         "type": "scatter",
         "x": [
          -0.12402007023132434,
          0.16105615677002622,
          0.023188958701885184,
          1.3365766040123495,
          -1.524892413949562,
          -1.2841507820438276,
          1.453386751286277,
          0.18175721164363973,
          0.319433640867433,
          -0.3839768199018055,
          -1.1032762054402279,
          -0.037550265782773054,
          0.6526531412240898,
          1.624937766501667,
          1.3347744992777684,
          -0.34618031920085374,
          1.789230219031507,
          2.0815389133971967,
          1.1552149582137499,
          2.601022664007055,
          0.7373289608257685,
          0.9653657279013573,
          -0.7141811226367676,
          -1.5857012600671005,
          -0.9698880744594625,
          1.0629314379178578,
          0.3665188577639023,
          1.8575226132892655,
          0.2810123749569547,
          1.0834506863250117,
          1.5852384708343445,
          -1.0821690461594273,
          0.45034497515428173,
          0.16595132541359575,
          -0.2837809115954148,
          -0.5321305547195403,
          0.42052444763312613,
          -0.8638272574567947,
          -0.1356330350490318,
          -0.2861953892593525,
          0.2987680728920157,
          -0.7901164099395227,
          -0.07239267449567097,
          0.14885628381591193,
          -0.15562696332212675,
          1.421970514039125,
          -0.10009080252734245,
          -2.6887592763650754,
          0.523307575152354,
          1.839188917214292,
          -0.31767820041569567,
          1.1392661859719995,
          1.1126897470779902,
          -1.4431765471300466,
          -1.3226216565575393,
          1.3061871872446182,
          -1.2695506775987795,
          -1.3531008486561023,
          -0.6190758570607968,
          -1.6607885320505178,
          1.0267781939675455,
          0.3332289719972668,
          0.4680130394047356,
          0.8889197448462989,
          -1.5825366658785764,
          -1.3291572534664713,
          1.0765003834875582,
          0.8441869284582593,
          -0.49514397185949505,
          0.03929643743827132,
          -0.12982509182576335,
          0.9563009984004562,
          1.9202450190710358,
          0.24483401982736028,
          0.10525084048866817,
          0.8816366460958016,
          1.3465250686822723,
          -0.21035831042571124,
          -0.6113086931308005,
          -1.19868474947971,
          0.15785117287865072,
          -1.031686073119976,
          0.1391364456318884,
          0.16690430657337105,
          -1.6588925821515055,
          0.5213841464387718,
          -0.915816274620897,
          1.1229320056801422,
          0.08918793278246169,
          -0.379028223962969,
          -1.591593730810941,
          0.5208149612876775,
          1.325421610769011,
          0.9083172720366367,
          0.06163858333894556,
          0.14276444823432247,
          -0.24183087477167728,
          2.1473916282420014,
          1.2534007307159707,
          -0.6942650652204457
         ],
         "xaxis": "x2",
         "y": [
          -1.1297880804810116,
          0.8909558868026678,
          -2.4674677078075615,
          1.4668865210388036,
          0.052099141553544316,
          -0.5841535222972922,
          -0.14407291051779864,
          -0.24146519801740043,
          1.4089883014072808,
          0.1698379991335825,
          1.6725669615460745,
          -1.1871638982625938,
          0.2500685582684525,
          -0.9075758091792991,
          1.5794840063606157,
          -0.7154693249447941,
          0.6710461976159192,
          -1.3138617132611679,
          -0.08715365767208498,
          0.6817437501923307,
          0.15963287076171498,
          -1.4284907475179551,
          0.7623270744081148,
          0.4827609399382711,
          1.143843875728672,
          0.732765341739219,
          0.4769246929115,
          0.5207809911732241,
          -0.6943426027267315,
          2.527205168129635,
          0.3110536263670157,
          -1.586564155923283,
          0.2325845898667768,
          0.14942062616814708,
          -0.7557765018970091,
          2.46078286011467,
          -1.5864772813918784,
          1.0868295448269554,
          0.29730223763112135,
          0.9330617358105876,
          1.3209758315752207,
          -0.7257746662786452,
          0.6223215905979733,
          0.9545355565512028,
          -0.5651734999398752,
          -0.8323343740748262,
          -1.529421653815974,
          -0.5637293068459186,
          1.3747593870565984,
          1.4629258937978542,
          -1.2437710994346372,
          1.1528387183185471,
          -0.7646733650685583,
          -0.12980482941361793,
          0.8460466553233116,
          -0.13679977098484716,
          1.3171725454303962,
          -0.8524969706000572,
          -0.7896774042673815,
          0.30161696428573564,
          -1.1882742305542269,
          -0.15889754303574397,
          0.8698986288529447,
          -0.9964530436083726,
          0.4100165481373722,
          -0.4128453281010694,
          1.4406077576302683,
          1.6011651067675756,
          -3.3597780905476684,
          -1.3769568088285187,
          1.2177632525884357,
          -0.14126371111306843,
          -0.3721476282966241,
          -1.96760916128469,
          0.5213989068129281,
          -1.453423528558044,
          0.3946037066457429,
          0.8585996691985393,
          0.9237916704788649,
          0.3137707208702481,
          0.9861633281572418,
          0.8940523501948491,
          1.300507308282935,
          0.769636332141642,
          0.599535573702335,
          -1.8921465187792665,
          0.7351759459424257,
          -0.5245244935897746,
          0.41125483420132225,
          -0.4747146631281052,
          0.5430255920252014,
          -0.8615301256799931,
          0.685280739134256,
          1.3824752940241554,
          0.4691203694022939,
          0.2969347029971788,
          0.17527373402249957,
          -0.2664598834122682,
          -1.0603267101266096,
          1.2585999049100745
         ],
         "yaxis": "y2"
        },
        {
         "line": {
          "color": "rgba(128, 128, 128, 1.0)",
          "dash": "solid",
          "shape": "linear",
          "width": 1.3
         },
         "marker": {
          "size": 2,
          "symbol": "circle"
         },
         "mode": "markers",
         "name": "A",
         "text": "",
         "type": "scatter",
         "x": [
          0.17421691582521348,
          -1.3347870970348765,
          0.19504801893508936,
          0.615815324125793,
          0.6464796590643166,
          -1.2068024562353317,
          0.38785425113995237,
          0.3867856556905653,
          -1.405610785135054,
          -0.1892805252738717,
          0.6760959263848506,
          -1.9456589651411498,
          0.38955785478560134,
          -0.6177996899408054,
          -1.8980841458045237,
          0.39284227622709483,
          -0.6028288304777356,
          0.15561011597974259,
          -0.9097505263185375,
          0.10959473983493624,
          -2.2131492836547944,
          0.2849727324935136,
          0.5144470224888781,
          1.7699054422752936,
          -1.2221741218912672,
          -1.1744078158919593,
          1.3533348672919525,
          0.3163792249771611,
          0.18174990785515674,
          0.054938310415938864,
          0.7421200543349438,
          -0.2346517886452845,
          -0.6736996536606434,
          0.05069725900535534,
          -1.1456321818505664,
          -0.5068022698369427,
          -0.6021573471021463,
          -0.4607878221675053,
          -0.0884854645124853,
          -0.04590785081159762,
          -1.04763600849066,
          0.4606902276536393,
          0.10954696224308451,
          0.4195693821222619,
          1.1535006039214961,
          -1.1069206380103314,
          2.536952794693768,
          1.3456678564790383,
          -0.6003378912958559,
          -0.9873118391793111,
          1.0482107314299267,
          1.0789338031902587,
          -1.188572907090659,
          0.5912059519542611,
          0.4886531320977451,
          2.610633032391518,
          -1.9065269745751732,
          0.8438657058711421,
          1.3468239960520911,
          -0.27865376477509574,
          1.198666439892076,
          -2.7027033096357016,
          -0.6040637753642535,
          -1.1381004808640252,
          2.0930970754102325,
          -0.45811192273251283,
          -0.3669911714827668,
          -1.8055184309290935,
          -0.7523499218822268,
          -0.5539626493287687,
          0.4391348881854048,
          0.8909540746565411,
          1.1375065192661309,
          1.3920337518067705,
          -0.5264114017543187,
          -0.4691501372827285,
          1.0319870837912726,
          1.0414077621890583,
          -0.4362361718080314,
          0.6274721877903016,
          0.7865082061275752,
          -0.09670930182764863,
          -0.9044446996214,
          -1.6422096544307065,
          -1.6191953641948122,
          -1.1499684045637386,
          0.0901055296246791,
          0.9323804971332048,
          -0.7382383878429699,
          -0.27683699976022613,
          1.1145056005973129,
          1.4770798899929896,
          0.7773463083238665,
          -0.23723646306488114,
          -0.8341073764054127,
          0.6154366027228294,
          -0.3293054058471099,
          0.29654843988100393,
          -0.6242824345433385,
          0.1525757905103892
         ],
         "xaxis": "x3",
         "y": [
          -1.1297880804810116,
          0.8909558868026678,
          -2.4674677078075615,
          1.4668865210388036,
          0.052099141553544316,
          -0.5841535222972922,
          -0.14407291051779864,
          -0.24146519801740043,
          1.4089883014072808,
          0.1698379991335825,
          1.6725669615460745,
          -1.1871638982625938,
          0.2500685582684525,
          -0.9075758091792991,
          1.5794840063606157,
          -0.7154693249447941,
          0.6710461976159192,
          -1.3138617132611679,
          -0.08715365767208498,
          0.6817437501923307,
          0.15963287076171498,
          -1.4284907475179551,
          0.7623270744081148,
          0.4827609399382711,
          1.143843875728672,
          0.732765341739219,
          0.4769246929115,
          0.5207809911732241,
          -0.6943426027267315,
          2.527205168129635,
          0.3110536263670157,
          -1.586564155923283,
          0.2325845898667768,
          0.14942062616814708,
          -0.7557765018970091,
          2.46078286011467,
          -1.5864772813918784,
          1.0868295448269554,
          0.29730223763112135,
          0.9330617358105876,
          1.3209758315752207,
          -0.7257746662786452,
          0.6223215905979733,
          0.9545355565512028,
          -0.5651734999398752,
          -0.8323343740748262,
          -1.529421653815974,
          -0.5637293068459186,
          1.3747593870565984,
          1.4629258937978542,
          -1.2437710994346372,
          1.1528387183185471,
          -0.7646733650685583,
          -0.12980482941361793,
          0.8460466553233116,
          -0.13679977098484716,
          1.3171725454303962,
          -0.8524969706000572,
          -0.7896774042673815,
          0.30161696428573564,
          -1.1882742305542269,
          -0.15889754303574397,
          0.8698986288529447,
          -0.9964530436083726,
          0.4100165481373722,
          -0.4128453281010694,
          1.4406077576302683,
          1.6011651067675756,
          -3.3597780905476684,
          -1.3769568088285187,
          1.2177632525884357,
          -0.14126371111306843,
          -0.3721476282966241,
          -1.96760916128469,
          0.5213989068129281,
          -1.453423528558044,
          0.3946037066457429,
          0.8585996691985393,
          0.9237916704788649,
          0.3137707208702481,
          0.9861633281572418,
          0.8940523501948491,
          1.300507308282935,
          0.769636332141642,
          0.599535573702335,
          -1.8921465187792665,
          0.7351759459424257,
          -0.5245244935897746,
          0.41125483420132225,
          -0.4747146631281052,
          0.5430255920252014,
          -0.8615301256799931,
          0.685280739134256,
          1.3824752940241554,
          0.4691203694022939,
          0.2969347029971788,
          0.17527373402249957,
          -0.2664598834122682,
          -1.0603267101266096,
          1.2585999049100745
         ],
         "yaxis": "y3"
        },
        {
         "line": {
          "color": "rgba(128, 128, 128, 1.0)",
          "dash": "solid",
          "shape": "linear",
          "width": 1.3
         },
         "marker": {
          "size": 2,
          "symbol": "circle"
         },
         "mode": "markers",
         "name": "A",
         "text": "",
         "type": "scatter",
         "x": [
          -0.8569379998492204,
          0.3532381244547541,
          -1.473884890795063,
          -0.5154168667247857,
          1.384367533164876,
          -1.0078285020232705,
          1.3841984728026389,
          0.02451307765962415,
          -0.8191583201930199,
          -0.3527467184075583,
          -0.5479071878495365,
          -0.7061249197941388,
          -0.6429745384859913,
          2.1409246356568,
          1.580367537531254,
          1.28789146918967,
          0.8925704640905009,
          -1.375211578765735,
          0.34144433525589074,
          -0.33643482803724456,
          0.29131578426361,
          0.5015164804221907,
          -0.980371957635985,
          -1.1774548472628246,
          -0.704026124840796,
          -0.5122375525583044,
          1.0810890088158502,
          -0.9202248736663858,
          0.704686791702668,
          -0.43547712553175677,
          1.5067129918291322,
          -0.5089658042157246,
          0.4454282231709372,
          -0.1289198337265707,
          -1.627797981071354,
          0.8336237578443855,
          -0.4560444056597544,
          0.9030740144813988,
          1.5834770434491787,
          -0.9358339145730034,
          0.7969183032286896,
          -0.5781513686655708,
          0.7483921327775419,
          1.023538001015689,
          0.1262765942004014,
          -0.9501603438666566,
          -1.7679991209710049,
          1.0226092349541769,
          -1.802197151036096,
          -1.198230518565695,
          -0.7636118617700086,
          -1.5543218547764062,
          0.04544863175983621,
          -0.7805809502825641,
          -1.0353788900860592,
          -0.9117313916666553,
          -0.11175866922647903,
          -1.1595247269140836,
          -0.0012569538153414971,
          0.2467110928867088,
          -0.3946446207211395,
          1.9769602103480681,
          0.3269074981419036,
          0.1316046053135009,
          -0.6991559934795253,
          0.33254860539219205,
          -1.7367083956011016,
          -0.747728238046683,
          0.8456389595170039,
          -0.14768073421492472,
          -0.4444542150777699,
          -0.865389102851343,
          1.4519493642484027,
          1.220400266953391,
          0.7895995419799212,
          1.239485208665572,
          -0.4974637808296835,
          1.345917602782018,
          0.08359953601129336,
          -0.9115061899739435,
          -1.4037553998760366,
          1.2643586669710747,
          -0.4462216428031995,
          0.5412051608036181,
          0.6532594265282092,
          0.3028620321630151,
          -0.2802946889621197,
          1.8561149130878898,
          0.088919364678717,
          0.9336450024822341,
          -1.1374900867431545,
          1.665870940958986,
          0.46271435412855166,
          -2.3740179185676045,
          0.16077583669244555,
          1.4740402690069374,
          0.8935307387081979,
          -0.49889651737261603,
          -0.6568088731764845,
          0.9751976616519583
         ],
         "xaxis": "x4",
         "y": [
          -1.1297880804810116,
          0.8909558868026678,
          -2.4674677078075615,
          1.4668865210388036,
          0.052099141553544316,
          -0.5841535222972922,
          -0.14407291051779864,
          -0.24146519801740043,
          1.4089883014072808,
          0.1698379991335825,
          1.6725669615460745,
          -1.1871638982625938,
          0.2500685582684525,
          -0.9075758091792991,
          1.5794840063606157,
          -0.7154693249447941,
          0.6710461976159192,
          -1.3138617132611679,
          -0.08715365767208498,
          0.6817437501923307,
          0.15963287076171498,
          -1.4284907475179551,
          0.7623270744081148,
          0.4827609399382711,
          1.143843875728672,
          0.732765341739219,
          0.4769246929115,
          0.5207809911732241,
          -0.6943426027267315,
          2.527205168129635,
          0.3110536263670157,
          -1.586564155923283,
          0.2325845898667768,
          0.14942062616814708,
          -0.7557765018970091,
          2.46078286011467,
          -1.5864772813918784,
          1.0868295448269554,
          0.29730223763112135,
          0.9330617358105876,
          1.3209758315752207,
          -0.7257746662786452,
          0.6223215905979733,
          0.9545355565512028,
          -0.5651734999398752,
          -0.8323343740748262,
          -1.529421653815974,
          -0.5637293068459186,
          1.3747593870565984,
          1.4629258937978542,
          -1.2437710994346372,
          1.1528387183185471,
          -0.7646733650685583,
          -0.12980482941361793,
          0.8460466553233116,
          -0.13679977098484716,
          1.3171725454303962,
          -0.8524969706000572,
          -0.7896774042673815,
          0.30161696428573564,
          -1.1882742305542269,
          -0.15889754303574397,
          0.8698986288529447,
          -0.9964530436083726,
          0.4100165481373722,
          -0.4128453281010694,
          1.4406077576302683,
          1.6011651067675756,
          -3.3597780905476684,
          -1.3769568088285187,
          1.2177632525884357,
          -0.14126371111306843,
          -0.3721476282966241,
          -1.96760916128469,
          0.5213989068129281,
          -1.453423528558044,
          0.3946037066457429,
          0.8585996691985393,
          0.9237916704788649,
          0.3137707208702481,
          0.9861633281572418,
          0.8940523501948491,
          1.300507308282935,
          0.769636332141642,
          0.599535573702335,
          -1.8921465187792665,
          0.7351759459424257,
          -0.5245244935897746,
          0.41125483420132225,
          -0.4747146631281052,
          0.5430255920252014,
          -0.8615301256799931,
          0.685280739134256,
          1.3824752940241554,
          0.4691203694022939,
          0.2969347029971788,
          0.17527373402249957,
          -0.2664598834122682,
          -1.0603267101266096,
          1.2585999049100745
         ],
         "yaxis": "y4"
        },
        {
         "line": {
          "color": "rgba(128, 128, 128, 1.0)",
          "dash": "solid",
          "shape": "linear",
          "width": 1.3
         },
         "marker": {
          "size": 2,
          "symbol": "circle"
         },
         "mode": "markers",
         "name": "B",
         "text": "",
         "type": "scatter",
         "x": [
          -1.1297880804810116,
          0.8909558868026678,
          -2.4674677078075615,
          1.4668865210388036,
          0.052099141553544316,
          -0.5841535222972922,
          -0.14407291051779864,
          -0.24146519801740043,
          1.4089883014072808,
          0.1698379991335825,
          1.6725669615460745,
          -1.1871638982625938,
          0.2500685582684525,
          -0.9075758091792991,
          1.5794840063606157,
          -0.7154693249447941,
          0.6710461976159192,
          -1.3138617132611679,
          -0.08715365767208498,
          0.6817437501923307,
          0.15963287076171498,
          -1.4284907475179551,
          0.7623270744081148,
          0.4827609399382711,
          1.143843875728672,
          0.732765341739219,
          0.4769246929115,
          0.5207809911732241,
          -0.6943426027267315,
          2.527205168129635,
          0.3110536263670157,
          -1.586564155923283,
          0.2325845898667768,
          0.14942062616814708,
          -0.7557765018970091,
          2.46078286011467,
          -1.5864772813918784,
          1.0868295448269554,
          0.29730223763112135,
          0.9330617358105876,
          1.3209758315752207,
          -0.7257746662786452,
          0.6223215905979733,
          0.9545355565512028,
          -0.5651734999398752,
          -0.8323343740748262,
          -1.529421653815974,
          -0.5637293068459186,
          1.3747593870565984,
          1.4629258937978542,
          -1.2437710994346372,
          1.1528387183185471,
          -0.7646733650685583,
          -0.12980482941361793,
          0.8460466553233116,
          -0.13679977098484716,
          1.3171725454303962,
          -0.8524969706000572,
          -0.7896774042673815,
          0.30161696428573564,
          -1.1882742305542269,
          -0.15889754303574397,
          0.8698986288529447,
          -0.9964530436083726,
          0.4100165481373722,
          -0.4128453281010694,
          1.4406077576302683,
          1.6011651067675756,
          -3.3597780905476684,
          -1.3769568088285187,
          1.2177632525884357,
          -0.14126371111306843,
          -0.3721476282966241,
          -1.96760916128469,
          0.5213989068129281,
          -1.453423528558044,
          0.3946037066457429,
          0.8585996691985393,
          0.9237916704788649,
          0.3137707208702481,
          0.9861633281572418,
          0.8940523501948491,
          1.300507308282935,
          0.769636332141642,
          0.599535573702335,
          -1.8921465187792665,
          0.7351759459424257,
          -0.5245244935897746,
          0.41125483420132225,
          -0.4747146631281052,
          0.5430255920252014,
          -0.8615301256799931,
          0.685280739134256,
          1.3824752940241554,
          0.4691203694022939,
          0.2969347029971788,
          0.17527373402249957,
          -0.2664598834122682,
          -1.0603267101266096,
          1.2585999049100745
         ],
         "xaxis": "x5",
         "y": [
          -0.12402007023132434,
          0.16105615677002622,
          0.023188958701885184,
          1.3365766040123495,
          -1.524892413949562,
          -1.2841507820438276,
          1.453386751286277,
          0.18175721164363973,
          0.319433640867433,
          -0.3839768199018055,
          -1.1032762054402279,
          -0.037550265782773054,
          0.6526531412240898,
          1.624937766501667,
          1.3347744992777684,
          -0.34618031920085374,
          1.789230219031507,
          2.0815389133971967,
          1.1552149582137499,
          2.601022664007055,
          0.7373289608257685,
          0.9653657279013573,
          -0.7141811226367676,
          -1.5857012600671005,
          -0.9698880744594625,
          1.0629314379178578,
          0.3665188577639023,
          1.8575226132892655,
          0.2810123749569547,
          1.0834506863250117,
          1.5852384708343445,
          -1.0821690461594273,
          0.45034497515428173,
          0.16595132541359575,
          -0.2837809115954148,
          -0.5321305547195403,
          0.42052444763312613,
          -0.8638272574567947,
          -0.1356330350490318,
          -0.2861953892593525,
          0.2987680728920157,
          -0.7901164099395227,
          -0.07239267449567097,
          0.14885628381591193,
          -0.15562696332212675,
          1.421970514039125,
          -0.10009080252734245,
          -2.6887592763650754,
          0.523307575152354,
          1.839188917214292,
          -0.31767820041569567,
          1.1392661859719995,
          1.1126897470779902,
          -1.4431765471300466,
          -1.3226216565575393,
          1.3061871872446182,
          -1.2695506775987795,
          -1.3531008486561023,
          -0.6190758570607968,
          -1.6607885320505178,
          1.0267781939675455,
          0.3332289719972668,
          0.4680130394047356,
          0.8889197448462989,
          -1.5825366658785764,
          -1.3291572534664713,
          1.0765003834875582,
          0.8441869284582593,
          -0.49514397185949505,
          0.03929643743827132,
          -0.12982509182576335,
          0.9563009984004562,
          1.9202450190710358,
          0.24483401982736028,
          0.10525084048866817,
          0.8816366460958016,
          1.3465250686822723,
          -0.21035831042571124,
          -0.6113086931308005,
          -1.19868474947971,
          0.15785117287865072,
          -1.031686073119976,
          0.1391364456318884,
          0.16690430657337105,
          -1.6588925821515055,
          0.5213841464387718,
          -0.915816274620897,
          1.1229320056801422,
          0.08918793278246169,
          -0.379028223962969,
          -1.591593730810941,
          0.5208149612876775,
          1.325421610769011,
          0.9083172720366367,
          0.06163858333894556,
          0.14276444823432247,
          -0.24183087477167728,
          2.1473916282420014,
          1.2534007307159707,
          -0.6942650652204457
         ],
         "yaxis": "y5"
        },
        {
         "histfunc": "count",
         "histnorm": "",
         "marker": {
          "color": "rgba(55, 128, 191, 1.0)",
          "line": {
           "color": "#4D5663",
           "width": 1.3
          }
         },
         "name": "B",
         "nbinsx": 10,
         "opacity": 0.8,
         "orientation": "v",
         "type": "histogram",
         "x": [
          -0.12402007023132434,
          0.16105615677002622,
          0.023188958701885184,
          1.3365766040123495,
          -1.524892413949562,
          -1.2841507820438276,
          1.453386751286277,
          0.18175721164363973,
          0.319433640867433,
          -0.3839768199018055,
          -1.1032762054402279,
          -0.037550265782773054,
          0.6526531412240898,
          1.624937766501667,
          1.3347744992777684,
          -0.34618031920085374,
          1.789230219031507,
          2.0815389133971967,
          1.1552149582137499,
          2.601022664007055,
          0.7373289608257685,
          0.9653657279013573,
          -0.7141811226367676,
          -1.5857012600671005,
          -0.9698880744594625,
          1.0629314379178578,
          0.3665188577639023,
          1.8575226132892655,
          0.2810123749569547,
          1.0834506863250117,
          1.5852384708343445,
          -1.0821690461594273,
          0.45034497515428173,
          0.16595132541359575,
          -0.2837809115954148,
          -0.5321305547195403,
          0.42052444763312613,
          -0.8638272574567947,
          -0.1356330350490318,
          -0.2861953892593525,
          0.2987680728920157,
          -0.7901164099395227,
          -0.07239267449567097,
          0.14885628381591193,
          -0.15562696332212675,
          1.421970514039125,
          -0.10009080252734245,
          -2.6887592763650754,
          0.523307575152354,
          1.839188917214292,
          -0.31767820041569567,
          1.1392661859719995,
          1.1126897470779902,
          -1.4431765471300466,
          -1.3226216565575393,
          1.3061871872446182,
          -1.2695506775987795,
          -1.3531008486561023,
          -0.6190758570607968,
          -1.6607885320505178,
          1.0267781939675455,
          0.3332289719972668,
          0.4680130394047356,
          0.8889197448462989,
          -1.5825366658785764,
          -1.3291572534664713,
          1.0765003834875582,
          0.8441869284582593,
          -0.49514397185949505,
          0.03929643743827132,
          -0.12982509182576335,
          0.9563009984004562,
          1.9202450190710358,
          0.24483401982736028,
          0.10525084048866817,
          0.8816366460958016,
          1.3465250686822723,
          -0.21035831042571124,
          -0.6113086931308005,
          -1.19868474947971,
          0.15785117287865072,
          -1.031686073119976,
          0.1391364456318884,
          0.16690430657337105,
          -1.6588925821515055,
          0.5213841464387718,
          -0.915816274620897,
          1.1229320056801422,
          0.08918793278246169,
          -0.379028223962969,
          -1.591593730810941,
          0.5208149612876775,
          1.325421610769011,
          0.9083172720366367,
          0.06163858333894556,
          0.14276444823432247,
          -0.24183087477167728,
          2.1473916282420014,
          1.2534007307159707,
          -0.6942650652204457
         ],
         "xaxis": "x6",
         "yaxis": "y6"
        },
        {
         "line": {
          "color": "rgba(128, 128, 128, 1.0)",
          "dash": "solid",
          "shape": "linear",
          "width": 1.3
         },
         "marker": {
          "size": 2,
          "symbol": "circle"
         },
         "mode": "markers",
         "name": "B",
         "text": "",
         "type": "scatter",
         "x": [
          0.17421691582521348,
          -1.3347870970348765,
          0.19504801893508936,
          0.615815324125793,
          0.6464796590643166,
          -1.2068024562353317,
          0.38785425113995237,
          0.3867856556905653,
          -1.405610785135054,
          -0.1892805252738717,
          0.6760959263848506,
          -1.9456589651411498,
          0.38955785478560134,
          -0.6177996899408054,
          -1.8980841458045237,
          0.39284227622709483,
          -0.6028288304777356,
          0.15561011597974259,
          -0.9097505263185375,
          0.10959473983493624,
          -2.2131492836547944,
          0.2849727324935136,
          0.5144470224888781,
          1.7699054422752936,
          -1.2221741218912672,
          -1.1744078158919593,
          1.3533348672919525,
          0.3163792249771611,
          0.18174990785515674,
          0.054938310415938864,
          0.7421200543349438,
          -0.2346517886452845,
          -0.6736996536606434,
          0.05069725900535534,
          -1.1456321818505664,
          -0.5068022698369427,
          -0.6021573471021463,
          -0.4607878221675053,
          -0.0884854645124853,
          -0.04590785081159762,
          -1.04763600849066,
          0.4606902276536393,
          0.10954696224308451,
          0.4195693821222619,
          1.1535006039214961,
          -1.1069206380103314,
          2.536952794693768,
          1.3456678564790383,
          -0.6003378912958559,
          -0.9873118391793111,
          1.0482107314299267,
          1.0789338031902587,
          -1.188572907090659,
          0.5912059519542611,
          0.4886531320977451,
          2.610633032391518,
          -1.9065269745751732,
          0.8438657058711421,
          1.3468239960520911,
          -0.27865376477509574,
          1.198666439892076,
          -2.7027033096357016,
          -0.6040637753642535,
          -1.1381004808640252,
          2.0930970754102325,
          -0.45811192273251283,
          -0.3669911714827668,
          -1.8055184309290935,
          -0.7523499218822268,
          -0.5539626493287687,
          0.4391348881854048,
          0.8909540746565411,
          1.1375065192661309,
          1.3920337518067705,
          -0.5264114017543187,
          -0.4691501372827285,
          1.0319870837912726,
          1.0414077621890583,
          -0.4362361718080314,
          0.6274721877903016,
          0.7865082061275752,
          -0.09670930182764863,
          -0.9044446996214,
          -1.6422096544307065,
          -1.6191953641948122,
          -1.1499684045637386,
          0.0901055296246791,
          0.9323804971332048,
          -0.7382383878429699,
          -0.27683699976022613,
          1.1145056005973129,
          1.4770798899929896,
          0.7773463083238665,
          -0.23723646306488114,
          -0.8341073764054127,
          0.6154366027228294,
          -0.3293054058471099,
          0.29654843988100393,
          -0.6242824345433385,
          0.1525757905103892
         ],
         "xaxis": "x7",
         "y": [
          -0.12402007023132434,
          0.16105615677002622,
          0.023188958701885184,
          1.3365766040123495,
          -1.524892413949562,
          -1.2841507820438276,
          1.453386751286277,
          0.18175721164363973,
          0.319433640867433,
          -0.3839768199018055,
          -1.1032762054402279,
          -0.037550265782773054,
          0.6526531412240898,
          1.624937766501667,
          1.3347744992777684,
          -0.34618031920085374,
          1.789230219031507,
          2.0815389133971967,
          1.1552149582137499,
          2.601022664007055,
          0.7373289608257685,
          0.9653657279013573,
          -0.7141811226367676,
          -1.5857012600671005,
          -0.9698880744594625,
          1.0629314379178578,
          0.3665188577639023,
          1.8575226132892655,
          0.2810123749569547,
          1.0834506863250117,
          1.5852384708343445,
          -1.0821690461594273,
          0.45034497515428173,
          0.16595132541359575,
          -0.2837809115954148,
          -0.5321305547195403,
          0.42052444763312613,
          -0.8638272574567947,
          -0.1356330350490318,
          -0.2861953892593525,
          0.2987680728920157,
          -0.7901164099395227,
          -0.07239267449567097,
          0.14885628381591193,
          -0.15562696332212675,
          1.421970514039125,
          -0.10009080252734245,
          -2.6887592763650754,
          0.523307575152354,
          1.839188917214292,
          -0.31767820041569567,
          1.1392661859719995,
          1.1126897470779902,
          -1.4431765471300466,
          -1.3226216565575393,
          1.3061871872446182,
          -1.2695506775987795,
          -1.3531008486561023,
          -0.6190758570607968,
          -1.6607885320505178,
          1.0267781939675455,
          0.3332289719972668,
          0.4680130394047356,
          0.8889197448462989,
          -1.5825366658785764,
          -1.3291572534664713,
          1.0765003834875582,
          0.8441869284582593,
          -0.49514397185949505,
          0.03929643743827132,
          -0.12982509182576335,
          0.9563009984004562,
          1.9202450190710358,
          0.24483401982736028,
          0.10525084048866817,
          0.8816366460958016,
          1.3465250686822723,
          -0.21035831042571124,
          -0.6113086931308005,
          -1.19868474947971,
          0.15785117287865072,
          -1.031686073119976,
          0.1391364456318884,
          0.16690430657337105,
          -1.6588925821515055,
          0.5213841464387718,
          -0.915816274620897,
          1.1229320056801422,
          0.08918793278246169,
          -0.379028223962969,
          -1.591593730810941,
          0.5208149612876775,
          1.325421610769011,
          0.9083172720366367,
          0.06163858333894556,
          0.14276444823432247,
          -0.24183087477167728,
          2.1473916282420014,
          1.2534007307159707,
          -0.6942650652204457
         ],
         "yaxis": "y7"
        },
        {
         "line": {
          "color": "rgba(128, 128, 128, 1.0)",
          "dash": "solid",
          "shape": "linear",
          "width": 1.3
         },
         "marker": {
          "size": 2,
          "symbol": "circle"
         },
         "mode": "markers",
         "name": "B",
         "text": "",
         "type": "scatter",
         "x": [
          -0.8569379998492204,
          0.3532381244547541,
          -1.473884890795063,
          -0.5154168667247857,
          1.384367533164876,
          -1.0078285020232705,
          1.3841984728026389,
          0.02451307765962415,
          -0.8191583201930199,
          -0.3527467184075583,
          -0.5479071878495365,
          -0.7061249197941388,
          -0.6429745384859913,
          2.1409246356568,
          1.580367537531254,
          1.28789146918967,
          0.8925704640905009,
          -1.375211578765735,
          0.34144433525589074,
          -0.33643482803724456,
          0.29131578426361,
          0.5015164804221907,
          -0.980371957635985,
          -1.1774548472628246,
          -0.704026124840796,
          -0.5122375525583044,
          1.0810890088158502,
          -0.9202248736663858,
          0.704686791702668,
          -0.43547712553175677,
          1.5067129918291322,
          -0.5089658042157246,
          0.4454282231709372,
          -0.1289198337265707,
          -1.627797981071354,
          0.8336237578443855,
          -0.4560444056597544,
          0.9030740144813988,
          1.5834770434491787,
          -0.9358339145730034,
          0.7969183032286896,
          -0.5781513686655708,
          0.7483921327775419,
          1.023538001015689,
          0.1262765942004014,
          -0.9501603438666566,
          -1.7679991209710049,
          1.0226092349541769,
          -1.802197151036096,
          -1.198230518565695,
          -0.7636118617700086,
          -1.5543218547764062,
          0.04544863175983621,
          -0.7805809502825641,
          -1.0353788900860592,
          -0.9117313916666553,
          -0.11175866922647903,
          -1.1595247269140836,
          -0.0012569538153414971,
          0.2467110928867088,
          -0.3946446207211395,
          1.9769602103480681,
          0.3269074981419036,
          0.1316046053135009,
          -0.6991559934795253,
          0.33254860539219205,
          -1.7367083956011016,
          -0.747728238046683,
          0.8456389595170039,
          -0.14768073421492472,
          -0.4444542150777699,
          -0.865389102851343,
          1.4519493642484027,
          1.220400266953391,
          0.7895995419799212,
          1.239485208665572,
          -0.4974637808296835,
          1.345917602782018,
          0.08359953601129336,
          -0.9115061899739435,
          -1.4037553998760366,
          1.2643586669710747,
          -0.4462216428031995,
          0.5412051608036181,
          0.6532594265282092,
          0.3028620321630151,
          -0.2802946889621197,
          1.8561149130878898,
          0.088919364678717,
          0.9336450024822341,
          -1.1374900867431545,
          1.665870940958986,
          0.46271435412855166,
          -2.3740179185676045,
          0.16077583669244555,
          1.4740402690069374,
          0.8935307387081979,
          -0.49889651737261603,
          -0.6568088731764845,
          0.9751976616519583
         ],
         "xaxis": "x8",
         "y": [
          -0.12402007023132434,
          0.16105615677002622,
          0.023188958701885184,
          1.3365766040123495,
          -1.524892413949562,
          -1.2841507820438276,
          1.453386751286277,
          0.18175721164363973,
          0.319433640867433,
          -0.3839768199018055,
          -1.1032762054402279,
          -0.037550265782773054,
          0.6526531412240898,
          1.624937766501667,
          1.3347744992777684,
          -0.34618031920085374,
          1.789230219031507,
          2.0815389133971967,
          1.1552149582137499,
          2.601022664007055,
          0.7373289608257685,
          0.9653657279013573,
          -0.7141811226367676,
          -1.5857012600671005,
          -0.9698880744594625,
          1.0629314379178578,
          0.3665188577639023,
          1.8575226132892655,
          0.2810123749569547,
          1.0834506863250117,
          1.5852384708343445,
          -1.0821690461594273,
          0.45034497515428173,
          0.16595132541359575,
          -0.2837809115954148,
          -0.5321305547195403,
          0.42052444763312613,
          -0.8638272574567947,
          -0.1356330350490318,
          -0.2861953892593525,
          0.2987680728920157,
          -0.7901164099395227,
          -0.07239267449567097,
          0.14885628381591193,
          -0.15562696332212675,
          1.421970514039125,
          -0.10009080252734245,
          -2.6887592763650754,
          0.523307575152354,
          1.839188917214292,
          -0.31767820041569567,
          1.1392661859719995,
          1.1126897470779902,
          -1.4431765471300466,
          -1.3226216565575393,
          1.3061871872446182,
          -1.2695506775987795,
          -1.3531008486561023,
          -0.6190758570607968,
          -1.6607885320505178,
          1.0267781939675455,
          0.3332289719972668,
          0.4680130394047356,
          0.8889197448462989,
          -1.5825366658785764,
          -1.3291572534664713,
          1.0765003834875582,
          0.8441869284582593,
          -0.49514397185949505,
          0.03929643743827132,
          -0.12982509182576335,
          0.9563009984004562,
          1.9202450190710358,
          0.24483401982736028,
          0.10525084048866817,
          0.8816366460958016,
          1.3465250686822723,
          -0.21035831042571124,
          -0.6113086931308005,
          -1.19868474947971,
          0.15785117287865072,
          -1.031686073119976,
          0.1391364456318884,
          0.16690430657337105,
          -1.6588925821515055,
          0.5213841464387718,
          -0.915816274620897,
          1.1229320056801422,
          0.08918793278246169,
          -0.379028223962969,
          -1.591593730810941,
          0.5208149612876775,
          1.325421610769011,
          0.9083172720366367,
          0.06163858333894556,
          0.14276444823432247,
          -0.24183087477167728,
          2.1473916282420014,
          1.2534007307159707,
          -0.6942650652204457
         ],
         "yaxis": "y8"
        },
        {
         "line": {
          "color": "rgba(128, 128, 128, 1.0)",
          "dash": "solid",
          "shape": "linear",
          "width": 1.3
         },
         "marker": {
          "size": 2,
          "symbol": "circle"
         },
         "mode": "markers",
         "name": "C",
         "text": "",
         "type": "scatter",
         "x": [
          -1.1297880804810116,
          0.8909558868026678,
          -2.4674677078075615,
          1.4668865210388036,
          0.052099141553544316,
          -0.5841535222972922,
          -0.14407291051779864,
          -0.24146519801740043,
          1.4089883014072808,
          0.1698379991335825,
          1.6725669615460745,
          -1.1871638982625938,
          0.2500685582684525,
          -0.9075758091792991,
          1.5794840063606157,
          -0.7154693249447941,
          0.6710461976159192,
          -1.3138617132611679,
          -0.08715365767208498,
          0.6817437501923307,
          0.15963287076171498,
          -1.4284907475179551,
          0.7623270744081148,
          0.4827609399382711,
          1.143843875728672,
          0.732765341739219,
          0.4769246929115,
          0.5207809911732241,
          -0.6943426027267315,
          2.527205168129635,
          0.3110536263670157,
          -1.586564155923283,
          0.2325845898667768,
          0.14942062616814708,
          -0.7557765018970091,
          2.46078286011467,
          -1.5864772813918784,
          1.0868295448269554,
          0.29730223763112135,
          0.9330617358105876,
          1.3209758315752207,
          -0.7257746662786452,
          0.6223215905979733,
          0.9545355565512028,
          -0.5651734999398752,
          -0.8323343740748262,
          -1.529421653815974,
          -0.5637293068459186,
          1.3747593870565984,
          1.4629258937978542,
          -1.2437710994346372,
          1.1528387183185471,
          -0.7646733650685583,
          -0.12980482941361793,
          0.8460466553233116,
          -0.13679977098484716,
          1.3171725454303962,
          -0.8524969706000572,
          -0.7896774042673815,
          0.30161696428573564,
          -1.1882742305542269,
          -0.15889754303574397,
          0.8698986288529447,
          -0.9964530436083726,
          0.4100165481373722,
          -0.4128453281010694,
          1.4406077576302683,
          1.6011651067675756,
          -3.3597780905476684,
          -1.3769568088285187,
          1.2177632525884357,
          -0.14126371111306843,
          -0.3721476282966241,
          -1.96760916128469,
          0.5213989068129281,
          -1.453423528558044,
          0.3946037066457429,
          0.8585996691985393,
          0.9237916704788649,
          0.3137707208702481,
          0.9861633281572418,
          0.8940523501948491,
          1.300507308282935,
          0.769636332141642,
          0.599535573702335,
          -1.8921465187792665,
          0.7351759459424257,
          -0.5245244935897746,
          0.41125483420132225,
          -0.4747146631281052,
          0.5430255920252014,
          -0.8615301256799931,
          0.685280739134256,
          1.3824752940241554,
          0.4691203694022939,
          0.2969347029971788,
          0.17527373402249957,
          -0.2664598834122682,
          -1.0603267101266096,
          1.2585999049100745
         ],
         "xaxis": "x9",
         "y": [
          0.17421691582521348,
          -1.3347870970348765,
          0.19504801893508936,
          0.615815324125793,
          0.6464796590643166,
          -1.2068024562353317,
          0.38785425113995237,
          0.3867856556905653,
          -1.405610785135054,
          -0.1892805252738717,
          0.6760959263848506,
          -1.9456589651411498,
          0.38955785478560134,
          -0.6177996899408054,
          -1.8980841458045237,
          0.39284227622709483,
          -0.6028288304777356,
          0.15561011597974259,
          -0.9097505263185375,
          0.10959473983493624,
          -2.2131492836547944,
          0.2849727324935136,
          0.5144470224888781,
          1.7699054422752936,
          -1.2221741218912672,
          -1.1744078158919593,
          1.3533348672919525,
          0.3163792249771611,
          0.18174990785515674,
          0.054938310415938864,
          0.7421200543349438,
          -0.2346517886452845,
          -0.6736996536606434,
          0.05069725900535534,
          -1.1456321818505664,
          -0.5068022698369427,
          -0.6021573471021463,
          -0.4607878221675053,
          -0.0884854645124853,
          -0.04590785081159762,
          -1.04763600849066,
          0.4606902276536393,
          0.10954696224308451,
          0.4195693821222619,
          1.1535006039214961,
          -1.1069206380103314,
          2.536952794693768,
          1.3456678564790383,
          -0.6003378912958559,
          -0.9873118391793111,
          1.0482107314299267,
          1.0789338031902587,
          -1.188572907090659,
          0.5912059519542611,
          0.4886531320977451,
          2.610633032391518,
          -1.9065269745751732,
          0.8438657058711421,
          1.3468239960520911,
          -0.27865376477509574,
          1.198666439892076,
          -2.7027033096357016,
          -0.6040637753642535,
          -1.1381004808640252,
          2.0930970754102325,
          -0.45811192273251283,
          -0.3669911714827668,
          -1.8055184309290935,
          -0.7523499218822268,
          -0.5539626493287687,
          0.4391348881854048,
          0.8909540746565411,
          1.1375065192661309,
          1.3920337518067705,
          -0.5264114017543187,
          -0.4691501372827285,
          1.0319870837912726,
          1.0414077621890583,
          -0.4362361718080314,
          0.6274721877903016,
          0.7865082061275752,
          -0.09670930182764863,
          -0.9044446996214,
          -1.6422096544307065,
          -1.6191953641948122,
          -1.1499684045637386,
          0.0901055296246791,
          0.9323804971332048,
          -0.7382383878429699,
          -0.27683699976022613,
          1.1145056005973129,
          1.4770798899929896,
          0.7773463083238665,
          -0.23723646306488114,
          -0.8341073764054127,
          0.6154366027228294,
          -0.3293054058471099,
          0.29654843988100393,
          -0.6242824345433385,
          0.1525757905103892
         ],
         "yaxis": "y9"
        },
        {
         "line": {
          "color": "rgba(128, 128, 128, 1.0)",
          "dash": "solid",
          "shape": "linear",
          "width": 1.3
         },
         "marker": {
          "size": 2,
          "symbol": "circle"
         },
         "mode": "markers",
         "name": "C",
         "text": "",
         "type": "scatter",
         "x": [
          -0.12402007023132434,
          0.16105615677002622,
          0.023188958701885184,
          1.3365766040123495,
          -1.524892413949562,
          -1.2841507820438276,
          1.453386751286277,
          0.18175721164363973,
          0.319433640867433,
          -0.3839768199018055,
          -1.1032762054402279,
          -0.037550265782773054,
          0.6526531412240898,
          1.624937766501667,
          1.3347744992777684,
          -0.34618031920085374,
          1.789230219031507,
          2.0815389133971967,
          1.1552149582137499,
          2.601022664007055,
          0.7373289608257685,
          0.9653657279013573,
          -0.7141811226367676,
          -1.5857012600671005,
          -0.9698880744594625,
          1.0629314379178578,
          0.3665188577639023,
          1.8575226132892655,
          0.2810123749569547,
          1.0834506863250117,
          1.5852384708343445,
          -1.0821690461594273,
          0.45034497515428173,
          0.16595132541359575,
          -0.2837809115954148,
          -0.5321305547195403,
          0.42052444763312613,
          -0.8638272574567947,
          -0.1356330350490318,
          -0.2861953892593525,
          0.2987680728920157,
          -0.7901164099395227,
          -0.07239267449567097,
          0.14885628381591193,
          -0.15562696332212675,
          1.421970514039125,
          -0.10009080252734245,
          -2.6887592763650754,
          0.523307575152354,
          1.839188917214292,
          -0.31767820041569567,
          1.1392661859719995,
          1.1126897470779902,
          -1.4431765471300466,
          -1.3226216565575393,
          1.3061871872446182,
          -1.2695506775987795,
          -1.3531008486561023,
          -0.6190758570607968,
          -1.6607885320505178,
          1.0267781939675455,
          0.3332289719972668,
          0.4680130394047356,
          0.8889197448462989,
          -1.5825366658785764,
          -1.3291572534664713,
          1.0765003834875582,
          0.8441869284582593,
          -0.49514397185949505,
          0.03929643743827132,
          -0.12982509182576335,
          0.9563009984004562,
          1.9202450190710358,
          0.24483401982736028,
          0.10525084048866817,
          0.8816366460958016,
          1.3465250686822723,
          -0.21035831042571124,
          -0.6113086931308005,
          -1.19868474947971,
          0.15785117287865072,
          -1.031686073119976,
          0.1391364456318884,
          0.16690430657337105,
          -1.6588925821515055,
          0.5213841464387718,
          -0.915816274620897,
          1.1229320056801422,
          0.08918793278246169,
          -0.379028223962969,
          -1.591593730810941,
          0.5208149612876775,
          1.325421610769011,
          0.9083172720366367,
          0.06163858333894556,
          0.14276444823432247,
          -0.24183087477167728,
          2.1473916282420014,
          1.2534007307159707,
          -0.6942650652204457
         ],
         "xaxis": "x10",
         "y": [
          0.17421691582521348,
          -1.3347870970348765,
          0.19504801893508936,
          0.615815324125793,
          0.6464796590643166,
          -1.2068024562353317,
          0.38785425113995237,
          0.3867856556905653,
          -1.405610785135054,
          -0.1892805252738717,
          0.6760959263848506,
          -1.9456589651411498,
          0.38955785478560134,
          -0.6177996899408054,
          -1.8980841458045237,
          0.39284227622709483,
          -0.6028288304777356,
          0.15561011597974259,
          -0.9097505263185375,
          0.10959473983493624,
          -2.2131492836547944,
          0.2849727324935136,
          0.5144470224888781,
          1.7699054422752936,
          -1.2221741218912672,
          -1.1744078158919593,
          1.3533348672919525,
          0.3163792249771611,
          0.18174990785515674,
          0.054938310415938864,
          0.7421200543349438,
          -0.2346517886452845,
          -0.6736996536606434,
          0.05069725900535534,
          -1.1456321818505664,
          -0.5068022698369427,
          -0.6021573471021463,
          -0.4607878221675053,
          -0.0884854645124853,
          -0.04590785081159762,
          -1.04763600849066,
          0.4606902276536393,
          0.10954696224308451,
          0.4195693821222619,
          1.1535006039214961,
          -1.1069206380103314,
          2.536952794693768,
          1.3456678564790383,
          -0.6003378912958559,
          -0.9873118391793111,
          1.0482107314299267,
          1.0789338031902587,
          -1.188572907090659,
          0.5912059519542611,
          0.4886531320977451,
          2.610633032391518,
          -1.9065269745751732,
          0.8438657058711421,
          1.3468239960520911,
          -0.27865376477509574,
          1.198666439892076,
          -2.7027033096357016,
          -0.6040637753642535,
          -1.1381004808640252,
          2.0930970754102325,
          -0.45811192273251283,
          -0.3669911714827668,
          -1.8055184309290935,
          -0.7523499218822268,
          -0.5539626493287687,
          0.4391348881854048,
          0.8909540746565411,
          1.1375065192661309,
          1.3920337518067705,
          -0.5264114017543187,
          -0.4691501372827285,
          1.0319870837912726,
          1.0414077621890583,
          -0.4362361718080314,
          0.6274721877903016,
          0.7865082061275752,
          -0.09670930182764863,
          -0.9044446996214,
          -1.6422096544307065,
          -1.6191953641948122,
          -1.1499684045637386,
          0.0901055296246791,
          0.9323804971332048,
          -0.7382383878429699,
          -0.27683699976022613,
          1.1145056005973129,
          1.4770798899929896,
          0.7773463083238665,
          -0.23723646306488114,
          -0.8341073764054127,
          0.6154366027228294,
          -0.3293054058471099,
          0.29654843988100393,
          -0.6242824345433385,
          0.1525757905103892
         ],
         "yaxis": "y10"
        },
        {
         "histfunc": "count",
         "histnorm": "",
         "marker": {
          "color": "rgba(50, 171, 96, 1.0)",
          "line": {
           "color": "#4D5663",
           "width": 1.3
          }
         },
         "name": "C",
         "nbinsx": 10,
         "opacity": 0.8,
         "orientation": "v",
         "type": "histogram",
         "x": [
          0.17421691582521348,
          -1.3347870970348765,
          0.19504801893508936,
          0.615815324125793,
          0.6464796590643166,
          -1.2068024562353317,
          0.38785425113995237,
          0.3867856556905653,
          -1.405610785135054,
          -0.1892805252738717,
          0.6760959263848506,
          -1.9456589651411498,
          0.38955785478560134,
          -0.6177996899408054,
          -1.8980841458045237,
          0.39284227622709483,
          -0.6028288304777356,
          0.15561011597974259,
          -0.9097505263185375,
          0.10959473983493624,
          -2.2131492836547944,
          0.2849727324935136,
          0.5144470224888781,
          1.7699054422752936,
          -1.2221741218912672,
          -1.1744078158919593,
          1.3533348672919525,
          0.3163792249771611,
          0.18174990785515674,
          0.054938310415938864,
          0.7421200543349438,
          -0.2346517886452845,
          -0.6736996536606434,
          0.05069725900535534,
          -1.1456321818505664,
          -0.5068022698369427,
          -0.6021573471021463,
          -0.4607878221675053,
          -0.0884854645124853,
          -0.04590785081159762,
          -1.04763600849066,
          0.4606902276536393,
          0.10954696224308451,
          0.4195693821222619,
          1.1535006039214961,
          -1.1069206380103314,
          2.536952794693768,
          1.3456678564790383,
          -0.6003378912958559,
          -0.9873118391793111,
          1.0482107314299267,
          1.0789338031902587,
          -1.188572907090659,
          0.5912059519542611,
          0.4886531320977451,
          2.610633032391518,
          -1.9065269745751732,
          0.8438657058711421,
          1.3468239960520911,
          -0.27865376477509574,
          1.198666439892076,
          -2.7027033096357016,
          -0.6040637753642535,
          -1.1381004808640252,
          2.0930970754102325,
          -0.45811192273251283,
          -0.3669911714827668,
          -1.8055184309290935,
          -0.7523499218822268,
          -0.5539626493287687,
          0.4391348881854048,
          0.8909540746565411,
          1.1375065192661309,
          1.3920337518067705,
          -0.5264114017543187,
          -0.4691501372827285,
          1.0319870837912726,
          1.0414077621890583,
          -0.4362361718080314,
          0.6274721877903016,
          0.7865082061275752,
          -0.09670930182764863,
          -0.9044446996214,
          -1.6422096544307065,
          -1.6191953641948122,
          -1.1499684045637386,
          0.0901055296246791,
          0.9323804971332048,
          -0.7382383878429699,
          -0.27683699976022613,
          1.1145056005973129,
          1.4770798899929896,
          0.7773463083238665,
          -0.23723646306488114,
          -0.8341073764054127,
          0.6154366027228294,
          -0.3293054058471099,
          0.29654843988100393,
          -0.6242824345433385,
          0.1525757905103892
         ],
         "xaxis": "x11",
         "yaxis": "y11"
        },
        {
         "line": {
          "color": "rgba(128, 128, 128, 1.0)",
          "dash": "solid",
          "shape": "linear",
          "width": 1.3
         },
         "marker": {
          "size": 2,
          "symbol": "circle"
         },
         "mode": "markers",
         "name": "C",
         "text": "",
         "type": "scatter",
         "x": [
          -0.8569379998492204,
          0.3532381244547541,
          -1.473884890795063,
          -0.5154168667247857,
          1.384367533164876,
          -1.0078285020232705,
          1.3841984728026389,
          0.02451307765962415,
          -0.8191583201930199,
          -0.3527467184075583,
          -0.5479071878495365,
          -0.7061249197941388,
          -0.6429745384859913,
          2.1409246356568,
          1.580367537531254,
          1.28789146918967,
          0.8925704640905009,
          -1.375211578765735,
          0.34144433525589074,
          -0.33643482803724456,
          0.29131578426361,
          0.5015164804221907,
          -0.980371957635985,
          -1.1774548472628246,
          -0.704026124840796,
          -0.5122375525583044,
          1.0810890088158502,
          -0.9202248736663858,
          0.704686791702668,
          -0.43547712553175677,
          1.5067129918291322,
          -0.5089658042157246,
          0.4454282231709372,
          -0.1289198337265707,
          -1.627797981071354,
          0.8336237578443855,
          -0.4560444056597544,
          0.9030740144813988,
          1.5834770434491787,
          -0.9358339145730034,
          0.7969183032286896,
          -0.5781513686655708,
          0.7483921327775419,
          1.023538001015689,
          0.1262765942004014,
          -0.9501603438666566,
          -1.7679991209710049,
          1.0226092349541769,
          -1.802197151036096,
          -1.198230518565695,
          -0.7636118617700086,
          -1.5543218547764062,
          0.04544863175983621,
          -0.7805809502825641,
          -1.0353788900860592,
          -0.9117313916666553,
          -0.11175866922647903,
          -1.1595247269140836,
          -0.0012569538153414971,
          0.2467110928867088,
          -0.3946446207211395,
          1.9769602103480681,
          0.3269074981419036,
          0.1316046053135009,
          -0.6991559934795253,
          0.33254860539219205,
          -1.7367083956011016,
          -0.747728238046683,
          0.8456389595170039,
          -0.14768073421492472,
          -0.4444542150777699,
          -0.865389102851343,
          1.4519493642484027,
          1.220400266953391,
          0.7895995419799212,
          1.239485208665572,
          -0.4974637808296835,
          1.345917602782018,
          0.08359953601129336,
          -0.9115061899739435,
          -1.4037553998760366,
          1.2643586669710747,
          -0.4462216428031995,
          0.5412051608036181,
          0.6532594265282092,
          0.3028620321630151,
          -0.2802946889621197,
          1.8561149130878898,
          0.088919364678717,
          0.9336450024822341,
          -1.1374900867431545,
          1.665870940958986,
          0.46271435412855166,
          -2.3740179185676045,
          0.16077583669244555,
          1.4740402690069374,
          0.8935307387081979,
          -0.49889651737261603,
          -0.6568088731764845,
          0.9751976616519583
         ],
         "xaxis": "x12",
         "y": [
          0.17421691582521348,
          -1.3347870970348765,
          0.19504801893508936,
          0.615815324125793,
          0.6464796590643166,
          -1.2068024562353317,
          0.38785425113995237,
          0.3867856556905653,
          -1.405610785135054,
          -0.1892805252738717,
          0.6760959263848506,
          -1.9456589651411498,
          0.38955785478560134,
          -0.6177996899408054,
          -1.8980841458045237,
          0.39284227622709483,
          -0.6028288304777356,
          0.15561011597974259,
          -0.9097505263185375,
          0.10959473983493624,
          -2.2131492836547944,
          0.2849727324935136,
          0.5144470224888781,
          1.7699054422752936,
          -1.2221741218912672,
          -1.1744078158919593,
          1.3533348672919525,
          0.3163792249771611,
          0.18174990785515674,
          0.054938310415938864,
          0.7421200543349438,
          -0.2346517886452845,
          -0.6736996536606434,
          0.05069725900535534,
          -1.1456321818505664,
          -0.5068022698369427,
          -0.6021573471021463,
          -0.4607878221675053,
          -0.0884854645124853,
          -0.04590785081159762,
          -1.04763600849066,
          0.4606902276536393,
          0.10954696224308451,
          0.4195693821222619,
          1.1535006039214961,
          -1.1069206380103314,
          2.536952794693768,
          1.3456678564790383,
          -0.6003378912958559,
          -0.9873118391793111,
          1.0482107314299267,
          1.0789338031902587,
          -1.188572907090659,
          0.5912059519542611,
          0.4886531320977451,
          2.610633032391518,
          -1.9065269745751732,
          0.8438657058711421,
          1.3468239960520911,
          -0.27865376477509574,
          1.198666439892076,
          -2.7027033096357016,
          -0.6040637753642535,
          -1.1381004808640252,
          2.0930970754102325,
          -0.45811192273251283,
          -0.3669911714827668,
          -1.8055184309290935,
          -0.7523499218822268,
          -0.5539626493287687,
          0.4391348881854048,
          0.8909540746565411,
          1.1375065192661309,
          1.3920337518067705,
          -0.5264114017543187,
          -0.4691501372827285,
          1.0319870837912726,
          1.0414077621890583,
          -0.4362361718080314,
          0.6274721877903016,
          0.7865082061275752,
          -0.09670930182764863,
          -0.9044446996214,
          -1.6422096544307065,
          -1.6191953641948122,
          -1.1499684045637386,
          0.0901055296246791,
          0.9323804971332048,
          -0.7382383878429699,
          -0.27683699976022613,
          1.1145056005973129,
          1.4770798899929896,
          0.7773463083238665,
          -0.23723646306488114,
          -0.8341073764054127,
          0.6154366027228294,
          -0.3293054058471099,
          0.29654843988100393,
          -0.6242824345433385,
          0.1525757905103892
         ],
         "yaxis": "y12"
        },
        {
         "line": {
          "color": "rgba(128, 128, 128, 1.0)",
          "dash": "solid",
          "shape": "linear",
          "width": 1.3
         },
         "marker": {
          "size": 2,
          "symbol": "circle"
         },
         "mode": "markers",
         "name": "D",
         "text": "",
         "type": "scatter",
         "x": [
          -1.1297880804810116,
          0.8909558868026678,
          -2.4674677078075615,
          1.4668865210388036,
          0.052099141553544316,
          -0.5841535222972922,
          -0.14407291051779864,
          -0.24146519801740043,
          1.4089883014072808,
          0.1698379991335825,
          1.6725669615460745,
          -1.1871638982625938,
          0.2500685582684525,
          -0.9075758091792991,
          1.5794840063606157,
          -0.7154693249447941,
          0.6710461976159192,
          -1.3138617132611679,
          -0.08715365767208498,
          0.6817437501923307,
          0.15963287076171498,
          -1.4284907475179551,
          0.7623270744081148,
          0.4827609399382711,
          1.143843875728672,
          0.732765341739219,
          0.4769246929115,
          0.5207809911732241,
          -0.6943426027267315,
          2.527205168129635,
          0.3110536263670157,
          -1.586564155923283,
          0.2325845898667768,
          0.14942062616814708,
          -0.7557765018970091,
          2.46078286011467,
          -1.5864772813918784,
          1.0868295448269554,
          0.29730223763112135,
          0.9330617358105876,
          1.3209758315752207,
          -0.7257746662786452,
          0.6223215905979733,
          0.9545355565512028,
          -0.5651734999398752,
          -0.8323343740748262,
          -1.529421653815974,
          -0.5637293068459186,
          1.3747593870565984,
          1.4629258937978542,
          -1.2437710994346372,
          1.1528387183185471,
          -0.7646733650685583,
          -0.12980482941361793,
          0.8460466553233116,
          -0.13679977098484716,
          1.3171725454303962,
          -0.8524969706000572,
          -0.7896774042673815,
          0.30161696428573564,
          -1.1882742305542269,
          -0.15889754303574397,
          0.8698986288529447,
          -0.9964530436083726,
          0.4100165481373722,
          -0.4128453281010694,
          1.4406077576302683,
          1.6011651067675756,
          -3.3597780905476684,
          -1.3769568088285187,
          1.2177632525884357,
          -0.14126371111306843,
          -0.3721476282966241,
          -1.96760916128469,
          0.5213989068129281,
          -1.453423528558044,
          0.3946037066457429,
          0.8585996691985393,
          0.9237916704788649,
          0.3137707208702481,
          0.9861633281572418,
          0.8940523501948491,
          1.300507308282935,
          0.769636332141642,
          0.599535573702335,
          -1.8921465187792665,
          0.7351759459424257,
          -0.5245244935897746,
          0.41125483420132225,
          -0.4747146631281052,
          0.5430255920252014,
          -0.8615301256799931,
          0.685280739134256,
          1.3824752940241554,
          0.4691203694022939,
          0.2969347029971788,
          0.17527373402249957,
          -0.2664598834122682,
          -1.0603267101266096,
          1.2585999049100745
         ],
         "xaxis": "x13",
         "y": [
          -0.8569379998492204,
          0.3532381244547541,
          -1.473884890795063,
          -0.5154168667247857,
          1.384367533164876,
          -1.0078285020232705,
          1.3841984728026389,
          0.02451307765962415,
          -0.8191583201930199,
          -0.3527467184075583,
          -0.5479071878495365,
          -0.7061249197941388,
          -0.6429745384859913,
          2.1409246356568,
          1.580367537531254,
          1.28789146918967,
          0.8925704640905009,
          -1.375211578765735,
          0.34144433525589074,
          -0.33643482803724456,
          0.29131578426361,
          0.5015164804221907,
          -0.980371957635985,
          -1.1774548472628246,
          -0.704026124840796,
          -0.5122375525583044,
          1.0810890088158502,
          -0.9202248736663858,
          0.704686791702668,
          -0.43547712553175677,
          1.5067129918291322,
          -0.5089658042157246,
          0.4454282231709372,
          -0.1289198337265707,
          -1.627797981071354,
          0.8336237578443855,
          -0.4560444056597544,
          0.9030740144813988,
          1.5834770434491787,
          -0.9358339145730034,
          0.7969183032286896,
          -0.5781513686655708,
          0.7483921327775419,
          1.023538001015689,
          0.1262765942004014,
          -0.9501603438666566,
          -1.7679991209710049,
          1.0226092349541769,
          -1.802197151036096,
          -1.198230518565695,
          -0.7636118617700086,
          -1.5543218547764062,
          0.04544863175983621,
          -0.7805809502825641,
          -1.0353788900860592,
          -0.9117313916666553,
          -0.11175866922647903,
          -1.1595247269140836,
          -0.0012569538153414971,
          0.2467110928867088,
          -0.3946446207211395,
          1.9769602103480681,
          0.3269074981419036,
          0.1316046053135009,
          -0.6991559934795253,
          0.33254860539219205,
          -1.7367083956011016,
          -0.747728238046683,
          0.8456389595170039,
          -0.14768073421492472,
          -0.4444542150777699,
          -0.865389102851343,
          1.4519493642484027,
          1.220400266953391,
          0.7895995419799212,
          1.239485208665572,
          -0.4974637808296835,
          1.345917602782018,
          0.08359953601129336,
          -0.9115061899739435,
          -1.4037553998760366,
          1.2643586669710747,
          -0.4462216428031995,
          0.5412051608036181,
          0.6532594265282092,
          0.3028620321630151,
          -0.2802946889621197,
          1.8561149130878898,
          0.088919364678717,
          0.9336450024822341,
          -1.1374900867431545,
          1.665870940958986,
          0.46271435412855166,
          -2.3740179185676045,
          0.16077583669244555,
          1.4740402690069374,
          0.8935307387081979,
          -0.49889651737261603,
          -0.6568088731764845,
          0.9751976616519583
         ],
         "yaxis": "y13"
        },
        {
         "line": {
          "color": "rgba(128, 128, 128, 1.0)",
          "dash": "solid",
          "shape": "linear",
          "width": 1.3
         },
         "marker": {
          "size": 2,
          "symbol": "circle"
         },
         "mode": "markers",
         "name": "D",
         "text": "",
         "type": "scatter",
         "x": [
          -0.12402007023132434,
          0.16105615677002622,
          0.023188958701885184,
          1.3365766040123495,
          -1.524892413949562,
          -1.2841507820438276,
          1.453386751286277,
          0.18175721164363973,
          0.319433640867433,
          -0.3839768199018055,
          -1.1032762054402279,
          -0.037550265782773054,
          0.6526531412240898,
          1.624937766501667,
          1.3347744992777684,
          -0.34618031920085374,
          1.789230219031507,
          2.0815389133971967,
          1.1552149582137499,
          2.601022664007055,
          0.7373289608257685,
          0.9653657279013573,
          -0.7141811226367676,
          -1.5857012600671005,
          -0.9698880744594625,
          1.0629314379178578,
          0.3665188577639023,
          1.8575226132892655,
          0.2810123749569547,
          1.0834506863250117,
          1.5852384708343445,
          -1.0821690461594273,
          0.45034497515428173,
          0.16595132541359575,
          -0.2837809115954148,
          -0.5321305547195403,
          0.42052444763312613,
          -0.8638272574567947,
          -0.1356330350490318,
          -0.2861953892593525,
          0.2987680728920157,
          -0.7901164099395227,
          -0.07239267449567097,
          0.14885628381591193,
          -0.15562696332212675,
          1.421970514039125,
          -0.10009080252734245,
          -2.6887592763650754,
          0.523307575152354,
          1.839188917214292,
          -0.31767820041569567,
          1.1392661859719995,
          1.1126897470779902,
          -1.4431765471300466,
          -1.3226216565575393,
          1.3061871872446182,
          -1.2695506775987795,
          -1.3531008486561023,
          -0.6190758570607968,
          -1.6607885320505178,
          1.0267781939675455,
          0.3332289719972668,
          0.4680130394047356,
          0.8889197448462989,
          -1.5825366658785764,
          -1.3291572534664713,
          1.0765003834875582,
          0.8441869284582593,
          -0.49514397185949505,
          0.03929643743827132,
          -0.12982509182576335,
          0.9563009984004562,
          1.9202450190710358,
          0.24483401982736028,
          0.10525084048866817,
          0.8816366460958016,
          1.3465250686822723,
          -0.21035831042571124,
          -0.6113086931308005,
          -1.19868474947971,
          0.15785117287865072,
          -1.031686073119976,
          0.1391364456318884,
          0.16690430657337105,
          -1.6588925821515055,
          0.5213841464387718,
          -0.915816274620897,
          1.1229320056801422,
          0.08918793278246169,
          -0.379028223962969,
          -1.591593730810941,
          0.5208149612876775,
          1.325421610769011,
          0.9083172720366367,
          0.06163858333894556,
          0.14276444823432247,
          -0.24183087477167728,
          2.1473916282420014,
          1.2534007307159707,
          -0.6942650652204457
         ],
         "xaxis": "x14",
         "y": [
          -0.8569379998492204,
          0.3532381244547541,
          -1.473884890795063,
          -0.5154168667247857,
          1.384367533164876,
          -1.0078285020232705,
          1.3841984728026389,
          0.02451307765962415,
          -0.8191583201930199,
          -0.3527467184075583,
          -0.5479071878495365,
          -0.7061249197941388,
          -0.6429745384859913,
          2.1409246356568,
          1.580367537531254,
          1.28789146918967,
          0.8925704640905009,
          -1.375211578765735,
          0.34144433525589074,
          -0.33643482803724456,
          0.29131578426361,
          0.5015164804221907,
          -0.980371957635985,
          -1.1774548472628246,
          -0.704026124840796,
          -0.5122375525583044,
          1.0810890088158502,
          -0.9202248736663858,
          0.704686791702668,
          -0.43547712553175677,
          1.5067129918291322,
          -0.5089658042157246,
          0.4454282231709372,
          -0.1289198337265707,
          -1.627797981071354,
          0.8336237578443855,
          -0.4560444056597544,
          0.9030740144813988,
          1.5834770434491787,
          -0.9358339145730034,
          0.7969183032286896,
          -0.5781513686655708,
          0.7483921327775419,
          1.023538001015689,
          0.1262765942004014,
          -0.9501603438666566,
          -1.7679991209710049,
          1.0226092349541769,
          -1.802197151036096,
          -1.198230518565695,
          -0.7636118617700086,
          -1.5543218547764062,
          0.04544863175983621,
          -0.7805809502825641,
          -1.0353788900860592,
          -0.9117313916666553,
          -0.11175866922647903,
          -1.1595247269140836,
          -0.0012569538153414971,
          0.2467110928867088,
          -0.3946446207211395,
          1.9769602103480681,
          0.3269074981419036,
          0.1316046053135009,
          -0.6991559934795253,
          0.33254860539219205,
          -1.7367083956011016,
          -0.747728238046683,
          0.8456389595170039,
          -0.14768073421492472,
          -0.4444542150777699,
          -0.865389102851343,
          1.4519493642484027,
          1.220400266953391,
          0.7895995419799212,
          1.239485208665572,
          -0.4974637808296835,
          1.345917602782018,
          0.08359953601129336,
          -0.9115061899739435,
          -1.4037553998760366,
          1.2643586669710747,
          -0.4462216428031995,
          0.5412051608036181,
          0.6532594265282092,
          0.3028620321630151,
          -0.2802946889621197,
          1.8561149130878898,
          0.088919364678717,
          0.9336450024822341,
          -1.1374900867431545,
          1.665870940958986,
          0.46271435412855166,
          -2.3740179185676045,
          0.16077583669244555,
          1.4740402690069374,
          0.8935307387081979,
          -0.49889651737261603,
          -0.6568088731764845,
          0.9751976616519583
         ],
         "yaxis": "y14"
        },
        {
         "line": {
          "color": "rgba(128, 128, 128, 1.0)",
          "dash": "solid",
          "shape": "linear",
          "width": 1.3
         },
         "marker": {
          "size": 2,
          "symbol": "circle"
         },
         "mode": "markers",
         "name": "D",
         "text": "",
         "type": "scatter",
         "x": [
          0.17421691582521348,
          -1.3347870970348765,
          0.19504801893508936,
          0.615815324125793,
          0.6464796590643166,
          -1.2068024562353317,
          0.38785425113995237,
          0.3867856556905653,
          -1.405610785135054,
          -0.1892805252738717,
          0.6760959263848506,
          -1.9456589651411498,
          0.38955785478560134,
          -0.6177996899408054,
          -1.8980841458045237,
          0.39284227622709483,
          -0.6028288304777356,
          0.15561011597974259,
          -0.9097505263185375,
          0.10959473983493624,
          -2.2131492836547944,
          0.2849727324935136,
          0.5144470224888781,
          1.7699054422752936,
          -1.2221741218912672,
          -1.1744078158919593,
          1.3533348672919525,
          0.3163792249771611,
          0.18174990785515674,
          0.054938310415938864,
          0.7421200543349438,
          -0.2346517886452845,
          -0.6736996536606434,
          0.05069725900535534,
          -1.1456321818505664,
          -0.5068022698369427,
          -0.6021573471021463,
          -0.4607878221675053,
          -0.0884854645124853,
          -0.04590785081159762,
          -1.04763600849066,
          0.4606902276536393,
          0.10954696224308451,
          0.4195693821222619,
          1.1535006039214961,
          -1.1069206380103314,
          2.536952794693768,
          1.3456678564790383,
          -0.6003378912958559,
          -0.9873118391793111,
          1.0482107314299267,
          1.0789338031902587,
          -1.188572907090659,
          0.5912059519542611,
          0.4886531320977451,
          2.610633032391518,
          -1.9065269745751732,
          0.8438657058711421,
          1.3468239960520911,
          -0.27865376477509574,
          1.198666439892076,
          -2.7027033096357016,
          -0.6040637753642535,
          -1.1381004808640252,
          2.0930970754102325,
          -0.45811192273251283,
          -0.3669911714827668,
          -1.8055184309290935,
          -0.7523499218822268,
          -0.5539626493287687,
          0.4391348881854048,
          0.8909540746565411,
          1.1375065192661309,
          1.3920337518067705,
          -0.5264114017543187,
          -0.4691501372827285,
          1.0319870837912726,
          1.0414077621890583,
          -0.4362361718080314,
          0.6274721877903016,
          0.7865082061275752,
          -0.09670930182764863,
          -0.9044446996214,
          -1.6422096544307065,
          -1.6191953641948122,
          -1.1499684045637386,
          0.0901055296246791,
          0.9323804971332048,
          -0.7382383878429699,
          -0.27683699976022613,
          1.1145056005973129,
          1.4770798899929896,
          0.7773463083238665,
          -0.23723646306488114,
          -0.8341073764054127,
          0.6154366027228294,
          -0.3293054058471099,
          0.29654843988100393,
          -0.6242824345433385,
          0.1525757905103892
         ],
         "xaxis": "x15",
         "y": [
          -0.8569379998492204,
          0.3532381244547541,
          -1.473884890795063,
          -0.5154168667247857,
          1.384367533164876,
          -1.0078285020232705,
          1.3841984728026389,
          0.02451307765962415,
          -0.8191583201930199,
          -0.3527467184075583,
          -0.5479071878495365,
          -0.7061249197941388,
          -0.6429745384859913,
          2.1409246356568,
          1.580367537531254,
          1.28789146918967,
          0.8925704640905009,
          -1.375211578765735,
          0.34144433525589074,
          -0.33643482803724456,
          0.29131578426361,
          0.5015164804221907,
          -0.980371957635985,
          -1.1774548472628246,
          -0.704026124840796,
          -0.5122375525583044,
          1.0810890088158502,
          -0.9202248736663858,
          0.704686791702668,
          -0.43547712553175677,
          1.5067129918291322,
          -0.5089658042157246,
          0.4454282231709372,
          -0.1289198337265707,
          -1.627797981071354,
          0.8336237578443855,
          -0.4560444056597544,
          0.9030740144813988,
          1.5834770434491787,
          -0.9358339145730034,
          0.7969183032286896,
          -0.5781513686655708,
          0.7483921327775419,
          1.023538001015689,
          0.1262765942004014,
          -0.9501603438666566,
          -1.7679991209710049,
          1.0226092349541769,
          -1.802197151036096,
          -1.198230518565695,
          -0.7636118617700086,
          -1.5543218547764062,
          0.04544863175983621,
          -0.7805809502825641,
          -1.0353788900860592,
          -0.9117313916666553,
          -0.11175866922647903,
          -1.1595247269140836,
          -0.0012569538153414971,
          0.2467110928867088,
          -0.3946446207211395,
          1.9769602103480681,
          0.3269074981419036,
          0.1316046053135009,
          -0.6991559934795253,
          0.33254860539219205,
          -1.7367083956011016,
          -0.747728238046683,
          0.8456389595170039,
          -0.14768073421492472,
          -0.4444542150777699,
          -0.865389102851343,
          1.4519493642484027,
          1.220400266953391,
          0.7895995419799212,
          1.239485208665572,
          -0.4974637808296835,
          1.345917602782018,
          0.08359953601129336,
          -0.9115061899739435,
          -1.4037553998760366,
          1.2643586669710747,
          -0.4462216428031995,
          0.5412051608036181,
          0.6532594265282092,
          0.3028620321630151,
          -0.2802946889621197,
          1.8561149130878898,
          0.088919364678717,
          0.9336450024822341,
          -1.1374900867431545,
          1.665870940958986,
          0.46271435412855166,
          -2.3740179185676045,
          0.16077583669244555,
          1.4740402690069374,
          0.8935307387081979,
          -0.49889651737261603,
          -0.6568088731764845,
          0.9751976616519583
         ],
         "yaxis": "y15"
        },
        {
         "histfunc": "count",
         "histnorm": "",
         "marker": {
          "color": "rgba(128, 0, 128, 1.0)",
          "line": {
           "color": "#4D5663",
           "width": 1.3
          }
         },
         "name": "D",
         "nbinsx": 10,
         "opacity": 0.8,
         "orientation": "v",
         "type": "histogram",
         "x": [
          -0.8569379998492204,
          0.3532381244547541,
          -1.473884890795063,
          -0.5154168667247857,
          1.384367533164876,
          -1.0078285020232705,
          1.3841984728026389,
          0.02451307765962415,
          -0.8191583201930199,
          -0.3527467184075583,
          -0.5479071878495365,
          -0.7061249197941388,
          -0.6429745384859913,
          2.1409246356568,
          1.580367537531254,
          1.28789146918967,
          0.8925704640905009,
          -1.375211578765735,
          0.34144433525589074,
          -0.33643482803724456,
          0.29131578426361,
          0.5015164804221907,
          -0.980371957635985,
          -1.1774548472628246,
          -0.704026124840796,
          -0.5122375525583044,
          1.0810890088158502,
          -0.9202248736663858,
          0.704686791702668,
          -0.43547712553175677,
          1.5067129918291322,
          -0.5089658042157246,
          0.4454282231709372,
          -0.1289198337265707,
          -1.627797981071354,
          0.8336237578443855,
          -0.4560444056597544,
          0.9030740144813988,
          1.5834770434491787,
          -0.9358339145730034,
          0.7969183032286896,
          -0.5781513686655708,
          0.7483921327775419,
          1.023538001015689,
          0.1262765942004014,
          -0.9501603438666566,
          -1.7679991209710049,
          1.0226092349541769,
          -1.802197151036096,
          -1.198230518565695,
          -0.7636118617700086,
          -1.5543218547764062,
          0.04544863175983621,
          -0.7805809502825641,
          -1.0353788900860592,
          -0.9117313916666553,
          -0.11175866922647903,
          -1.1595247269140836,
          -0.0012569538153414971,
          0.2467110928867088,
          -0.3946446207211395,
          1.9769602103480681,
          0.3269074981419036,
          0.1316046053135009,
          -0.6991559934795253,
          0.33254860539219205,
          -1.7367083956011016,
          -0.747728238046683,
          0.8456389595170039,
          -0.14768073421492472,
          -0.4444542150777699,
          -0.865389102851343,
          1.4519493642484027,
          1.220400266953391,
          0.7895995419799212,
          1.239485208665572,
          -0.4974637808296835,
          1.345917602782018,
          0.08359953601129336,
          -0.9115061899739435,
          -1.4037553998760366,
          1.2643586669710747,
          -0.4462216428031995,
          0.5412051608036181,
          0.6532594265282092,
          0.3028620321630151,
          -0.2802946889621197,
          1.8561149130878898,
          0.088919364678717,
          0.9336450024822341,
          -1.1374900867431545,
          1.665870940958986,
          0.46271435412855166,
          -2.3740179185676045,
          0.16077583669244555,
          1.4740402690069374,
          0.8935307387081979,
          -0.49889651737261603,
          -0.6568088731764845,
          0.9751976616519583
         ],
         "xaxis": "x16",
         "yaxis": "y16"
        }
       ],
       "layout": {
        "bargap": 0.02,
        "legend": {
         "bgcolor": "#F5F6F9",
         "font": {
          "color": "#4D5663"
         }
        },
        "paper_bgcolor": "#F5F6F9",
        "plot_bgcolor": "#F5F6F9",
        "showlegend": false,
        "template": {
         "data": {
          "bar": [
           {
            "error_x": {
             "color": "#2a3f5f"
            },
            "error_y": {
             "color": "#2a3f5f"
            },
            "marker": {
             "line": {
              "color": "#E5ECF6",
              "width": 0.5
             }
            },
            "type": "bar"
           }
          ],
          "barpolar": [
           {
            "marker": {
             "line": {
              "color": "#E5ECF6",
              "width": 0.5
             }
            },
            "type": "barpolar"
           }
          ],
          "carpet": [
           {
            "aaxis": {
             "endlinecolor": "#2a3f5f",
             "gridcolor": "white",
             "linecolor": "white",
             "minorgridcolor": "white",
             "startlinecolor": "#2a3f5f"
            },
            "baxis": {
             "endlinecolor": "#2a3f5f",
             "gridcolor": "white",
             "linecolor": "white",
             "minorgridcolor": "white",
             "startlinecolor": "#2a3f5f"
            },
            "type": "carpet"
           }
          ],
          "choropleth": [
           {
            "colorbar": {
             "outlinewidth": 0,
             "ticks": ""
            },
            "type": "choropleth"
           }
          ],
          "contour": [
           {
            "colorbar": {
             "outlinewidth": 0,
             "ticks": ""
            },
            "colorscale": [
             [
              0,
              "#0d0887"
             ],
             [
              0.1111111111111111,
              "#46039f"
             ],
             [
              0.2222222222222222,
              "#7201a8"
             ],
             [
              0.3333333333333333,
              "#9c179e"
             ],
             [
              0.4444444444444444,
              "#bd3786"
             ],
             [
              0.5555555555555556,
              "#d8576b"
             ],
             [
              0.6666666666666666,
              "#ed7953"
             ],
             [
              0.7777777777777778,
              "#fb9f3a"
             ],
             [
              0.8888888888888888,
              "#fdca26"
             ],
             [
              1,
              "#f0f921"
             ]
            ],
            "type": "contour"
           }
          ],
          "contourcarpet": [
           {
            "colorbar": {
             "outlinewidth": 0,
             "ticks": ""
            },
            "type": "contourcarpet"
           }
          ],
          "heatmap": [
           {
            "colorbar": {
             "outlinewidth": 0,
             "ticks": ""
            },
            "colorscale": [
             [
              0,
              "#0d0887"
             ],
             [
              0.1111111111111111,
              "#46039f"
             ],
             [
              0.2222222222222222,
              "#7201a8"
             ],
             [
              0.3333333333333333,
              "#9c179e"
             ],
             [
              0.4444444444444444,
              "#bd3786"
             ],
             [
              0.5555555555555556,
              "#d8576b"
             ],
             [
              0.6666666666666666,
              "#ed7953"
             ],
             [
              0.7777777777777778,
              "#fb9f3a"
             ],
             [
              0.8888888888888888,
              "#fdca26"
             ],
             [
              1,
              "#f0f921"
             ]
            ],
            "type": "heatmap"
           }
          ],
          "heatmapgl": [
           {
            "colorbar": {
             "outlinewidth": 0,
             "ticks": ""
            },
            "colorscale": [
             [
              0,
              "#0d0887"
             ],
             [
              0.1111111111111111,
              "#46039f"
             ],
             [
              0.2222222222222222,
              "#7201a8"
             ],
             [
              0.3333333333333333,
              "#9c179e"
             ],
             [
              0.4444444444444444,
              "#bd3786"
             ],
             [
              0.5555555555555556,
              "#d8576b"
             ],
             [
              0.6666666666666666,
              "#ed7953"
             ],
             [
              0.7777777777777778,
              "#fb9f3a"
             ],
             [
              0.8888888888888888,
              "#fdca26"
             ],
             [
              1,
              "#f0f921"
             ]
            ],
            "type": "heatmapgl"
           }
          ],
          "histogram": [
           {
            "marker": {
             "colorbar": {
              "outlinewidth": 0,
              "ticks": ""
             }
            },
            "type": "histogram"
           }
          ],
          "histogram2d": [
           {
            "colorbar": {
             "outlinewidth": 0,
             "ticks": ""
            },
            "colorscale": [
             [
              0,
              "#0d0887"
             ],
             [
              0.1111111111111111,
              "#46039f"
             ],
             [
              0.2222222222222222,
              "#7201a8"
             ],
             [
              0.3333333333333333,
              "#9c179e"
             ],
             [
              0.4444444444444444,
              "#bd3786"
             ],
             [
              0.5555555555555556,
              "#d8576b"
             ],
             [
              0.6666666666666666,
              "#ed7953"
             ],
             [
              0.7777777777777778,
              "#fb9f3a"
             ],
             [
              0.8888888888888888,
              "#fdca26"
             ],
             [
              1,
              "#f0f921"
             ]
            ],
            "type": "histogram2d"
           }
          ],
          "histogram2dcontour": [
           {
            "colorbar": {
             "outlinewidth": 0,
             "ticks": ""
            },
            "colorscale": [
             [
              0,
              "#0d0887"
             ],
             [
              0.1111111111111111,
              "#46039f"
             ],
             [
              0.2222222222222222,
              "#7201a8"
             ],
             [
              0.3333333333333333,
              "#9c179e"
             ],
             [
              0.4444444444444444,
              "#bd3786"
             ],
             [
              0.5555555555555556,
              "#d8576b"
             ],
             [
              0.6666666666666666,
              "#ed7953"
             ],
             [
              0.7777777777777778,
              "#fb9f3a"
             ],
             [
              0.8888888888888888,
              "#fdca26"
             ],
             [
              1,
              "#f0f921"
             ]
            ],
            "type": "histogram2dcontour"
           }
          ],
          "mesh3d": [
           {
            "colorbar": {
             "outlinewidth": 0,
             "ticks": ""
            },
            "type": "mesh3d"
           }
          ],
          "parcoords": [
           {
            "line": {
             "colorbar": {
              "outlinewidth": 0,
              "ticks": ""
             }
            },
            "type": "parcoords"
           }
          ],
          "pie": [
           {
            "automargin": true,
            "type": "pie"
           }
          ],
          "scatter": [
           {
            "marker": {
             "colorbar": {
              "outlinewidth": 0,
              "ticks": ""
             }
            },
            "type": "scatter"
           }
          ],
          "scatter3d": [
           {
            "line": {
             "colorbar": {
              "outlinewidth": 0,
              "ticks": ""
             }
            },
            "marker": {
             "colorbar": {
              "outlinewidth": 0,
              "ticks": ""
             }
            },
            "type": "scatter3d"
           }
          ],
          "scattercarpet": [
           {
            "marker": {
             "colorbar": {
              "outlinewidth": 0,
              "ticks": ""
             }
            },
            "type": "scattercarpet"
           }
          ],
          "scattergeo": [
           {
            "marker": {
             "colorbar": {
              "outlinewidth": 0,
              "ticks": ""
             }
            },
            "type": "scattergeo"
           }
          ],
          "scattergl": [
           {
            "marker": {
             "colorbar": {
              "outlinewidth": 0,
              "ticks": ""
             }
            },
            "type": "scattergl"
           }
          ],
          "scattermapbox": [
           {
            "marker": {
             "colorbar": {
              "outlinewidth": 0,
              "ticks": ""
             }
            },
            "type": "scattermapbox"
           }
          ],
          "scatterpolar": [
           {
            "marker": {
             "colorbar": {
              "outlinewidth": 0,
              "ticks": ""
             }
            },
            "type": "scatterpolar"
           }
          ],
          "scatterpolargl": [
           {
            "marker": {
             "colorbar": {
              "outlinewidth": 0,
              "ticks": ""
             }
            },
            "type": "scatterpolargl"
           }
          ],
          "scatterternary": [
           {
            "marker": {
             "colorbar": {
              "outlinewidth": 0,
              "ticks": ""
             }
            },
            "type": "scatterternary"
           }
          ],
          "surface": [
           {
            "colorbar": {
             "outlinewidth": 0,
             "ticks": ""
            },
            "colorscale": [
             [
              0,
              "#0d0887"
             ],
             [
              0.1111111111111111,
              "#46039f"
             ],
             [
              0.2222222222222222,
              "#7201a8"
             ],
             [
              0.3333333333333333,
              "#9c179e"
             ],
             [
              0.4444444444444444,
              "#bd3786"
             ],
             [
              0.5555555555555556,
              "#d8576b"
             ],
             [
              0.6666666666666666,
              "#ed7953"
             ],
             [
              0.7777777777777778,
              "#fb9f3a"
             ],
             [
              0.8888888888888888,
              "#fdca26"
             ],
             [
              1,
              "#f0f921"
             ]
            ],
            "type": "surface"
           }
          ],
          "table": [
           {
            "cells": {
             "fill": {
              "color": "#EBF0F8"
             },
             "line": {
              "color": "white"
             }
            },
            "header": {
             "fill": {
              "color": "#C8D4E3"
             },
             "line": {
              "color": "white"
             }
            },
            "type": "table"
           }
          ]
         },
         "layout": {
          "annotationdefaults": {
           "arrowcolor": "#2a3f5f",
           "arrowhead": 0,
           "arrowwidth": 1
          },
          "coloraxis": {
           "colorbar": {
            "outlinewidth": 0,
            "ticks": ""
           }
          },
          "colorscale": {
           "diverging": [
            [
             0,
             "#8e0152"
            ],
            [
             0.1,
             "#c51b7d"
            ],
            [
             0.2,
             "#de77ae"
            ],
            [
             0.3,
             "#f1b6da"
            ],
            [
             0.4,
             "#fde0ef"
            ],
            [
             0.5,
             "#f7f7f7"
            ],
            [
             0.6,
             "#e6f5d0"
            ],
            [
             0.7,
             "#b8e186"
            ],
            [
             0.8,
             "#7fbc41"
            ],
            [
             0.9,
             "#4d9221"
            ],
            [
             1,
             "#276419"
            ]
           ],
           "sequential": [
            [
             0,
             "#0d0887"
            ],
            [
             0.1111111111111111,
             "#46039f"
            ],
            [
             0.2222222222222222,
             "#7201a8"
            ],
            [
             0.3333333333333333,
             "#9c179e"
            ],
            [
             0.4444444444444444,
             "#bd3786"
            ],
            [
             0.5555555555555556,
             "#d8576b"
            ],
            [
             0.6666666666666666,
             "#ed7953"
            ],
            [
             0.7777777777777778,
             "#fb9f3a"
            ],
            [
             0.8888888888888888,
             "#fdca26"
            ],
            [
             1,
             "#f0f921"
            ]
           ],
           "sequentialminus": [
            [
             0,
             "#0d0887"
            ],
            [
             0.1111111111111111,
             "#46039f"
            ],
            [
             0.2222222222222222,
             "#7201a8"
            ],
            [
             0.3333333333333333,
             "#9c179e"
            ],
            [
             0.4444444444444444,
             "#bd3786"
            ],
            [
             0.5555555555555556,
             "#d8576b"
            ],
            [
             0.6666666666666666,
             "#ed7953"
            ],
            [
             0.7777777777777778,
             "#fb9f3a"
            ],
            [
             0.8888888888888888,
             "#fdca26"
            ],
            [
             1,
             "#f0f921"
            ]
           ]
          },
          "colorway": [
           "#636efa",
           "#EF553B",
           "#00cc96",
           "#ab63fa",
           "#FFA15A",
           "#19d3f3",
           "#FF6692",
           "#B6E880",
           "#FF97FF",
           "#FECB52"
          ],
          "font": {
           "color": "#2a3f5f"
          },
          "geo": {
           "bgcolor": "white",
           "lakecolor": "white",
           "landcolor": "#E5ECF6",
           "showlakes": true,
           "showland": true,
           "subunitcolor": "white"
          },
          "hoverlabel": {
           "align": "left"
          },
          "hovermode": "closest",
          "mapbox": {
           "style": "light"
          },
          "paper_bgcolor": "white",
          "plot_bgcolor": "#E5ECF6",
          "polar": {
           "angularaxis": {
            "gridcolor": "white",
            "linecolor": "white",
            "ticks": ""
           },
           "bgcolor": "#E5ECF6",
           "radialaxis": {
            "gridcolor": "white",
            "linecolor": "white",
            "ticks": ""
           }
          },
          "scene": {
           "xaxis": {
            "backgroundcolor": "#E5ECF6",
            "gridcolor": "white",
            "gridwidth": 2,
            "linecolor": "white",
            "showbackground": true,
            "ticks": "",
            "zerolinecolor": "white"
           },
           "yaxis": {
            "backgroundcolor": "#E5ECF6",
            "gridcolor": "white",
            "gridwidth": 2,
            "linecolor": "white",
            "showbackground": true,
            "ticks": "",
            "zerolinecolor": "white"
           },
           "zaxis": {
            "backgroundcolor": "#E5ECF6",
            "gridcolor": "white",
            "gridwidth": 2,
            "linecolor": "white",
            "showbackground": true,
            "ticks": "",
            "zerolinecolor": "white"
           }
          },
          "shapedefaults": {
           "line": {
            "color": "#2a3f5f"
           }
          },
          "ternary": {
           "aaxis": {
            "gridcolor": "white",
            "linecolor": "white",
            "ticks": ""
           },
           "baxis": {
            "gridcolor": "white",
            "linecolor": "white",
            "ticks": ""
           },
           "bgcolor": "#E5ECF6",
           "caxis": {
            "gridcolor": "white",
            "linecolor": "white",
            "ticks": ""
           }
          },
          "title": {
           "x": 0.05
          },
          "xaxis": {
           "automargin": true,
           "gridcolor": "white",
           "linecolor": "white",
           "ticks": "",
           "title": {
            "standoff": 15
           },
           "zerolinecolor": "white",
           "zerolinewidth": 2
          },
          "yaxis": {
           "automargin": true,
           "gridcolor": "white",
           "linecolor": "white",
           "ticks": "",
           "title": {
            "standoff": 15
           },
           "zerolinecolor": "white",
           "zerolinewidth": 2
          }
         }
        },
        "title": {
         "font": {
          "color": "#4D5663"
         }
        },
        "xaxis": {
         "anchor": "y",
         "domain": [
          0,
          0.2125
         ],
         "gridcolor": "#E1E5ED",
         "showgrid": false,
         "tickfont": {
          "color": "#4D5663"
         },
         "title": {
          "font": {
           "color": "#4D5663"
          },
          "text": ""
         },
         "zerolinecolor": "#E1E5ED"
        },
        "xaxis10": {
         "anchor": "y10",
         "domain": [
          0.2625,
          0.475
         ],
         "gridcolor": "#E1E5ED",
         "showgrid": false,
         "tickfont": {
          "color": "#4D5663"
         },
         "title": {
          "font": {
           "color": "#4D5663"
          },
          "text": ""
         },
         "zerolinecolor": "#E1E5ED"
        },
        "xaxis11": {
         "anchor": "y11",
         "domain": [
          0.525,
          0.7375
         ],
         "gridcolor": "#E1E5ED",
         "showgrid": false,
         "tickfont": {
          "color": "#4D5663"
         },
         "title": {
          "font": {
           "color": "#4D5663"
          },
          "text": ""
         },
         "zerolinecolor": "#E1E5ED"
        },
        "xaxis12": {
         "anchor": "y12",
         "domain": [
          0.7875,
          1
         ],
         "gridcolor": "#E1E5ED",
         "showgrid": false,
         "tickfont": {
          "color": "#4D5663"
         },
         "title": {
          "font": {
           "color": "#4D5663"
          },
          "text": ""
         },
         "zerolinecolor": "#E1E5ED"
        },
        "xaxis13": {
         "anchor": "y13",
         "domain": [
          0,
          0.2125
         ],
         "gridcolor": "#E1E5ED",
         "showgrid": false,
         "tickfont": {
          "color": "#4D5663"
         },
         "title": {
          "font": {
           "color": "#4D5663"
          },
          "text": ""
         },
         "zerolinecolor": "#E1E5ED"
        },
        "xaxis14": {
         "anchor": "y14",
         "domain": [
          0.2625,
          0.475
         ],
         "gridcolor": "#E1E5ED",
         "showgrid": false,
         "tickfont": {
          "color": "#4D5663"
         },
         "title": {
          "font": {
           "color": "#4D5663"
          },
          "text": ""
         },
         "zerolinecolor": "#E1E5ED"
        },
        "xaxis15": {
         "anchor": "y15",
         "domain": [
          0.525,
          0.7375
         ],
         "gridcolor": "#E1E5ED",
         "showgrid": false,
         "tickfont": {
          "color": "#4D5663"
         },
         "title": {
          "font": {
           "color": "#4D5663"
          },
          "text": ""
         },
         "zerolinecolor": "#E1E5ED"
        },
        "xaxis16": {
         "anchor": "y16",
         "domain": [
          0.7875,
          1
         ],
         "gridcolor": "#E1E5ED",
         "showgrid": false,
         "tickfont": {
          "color": "#4D5663"
         },
         "title": {
          "font": {
           "color": "#4D5663"
          },
          "text": ""
         },
         "zerolinecolor": "#E1E5ED"
        },
        "xaxis2": {
         "anchor": "y2",
         "domain": [
          0.2625,
          0.475
         ],
         "gridcolor": "#E1E5ED",
         "showgrid": false,
         "tickfont": {
          "color": "#4D5663"
         },
         "title": {
          "font": {
           "color": "#4D5663"
          },
          "text": ""
         },
         "zerolinecolor": "#E1E5ED"
        },
        "xaxis3": {
         "anchor": "y3",
         "domain": [
          0.525,
          0.7375
         ],
         "gridcolor": "#E1E5ED",
         "showgrid": false,
         "tickfont": {
          "color": "#4D5663"
         },
         "title": {
          "font": {
           "color": "#4D5663"
          },
          "text": ""
         },
         "zerolinecolor": "#E1E5ED"
        },
        "xaxis4": {
         "anchor": "y4",
         "domain": [
          0.7875,
          1
         ],
         "gridcolor": "#E1E5ED",
         "showgrid": false,
         "tickfont": {
          "color": "#4D5663"
         },
         "title": {
          "font": {
           "color": "#4D5663"
          },
          "text": ""
         },
         "zerolinecolor": "#E1E5ED"
        },
        "xaxis5": {
         "anchor": "y5",
         "domain": [
          0,
          0.2125
         ],
         "gridcolor": "#E1E5ED",
         "showgrid": false,
         "tickfont": {
          "color": "#4D5663"
         },
         "title": {
          "font": {
           "color": "#4D5663"
          },
          "text": ""
         },
         "zerolinecolor": "#E1E5ED"
        },
        "xaxis6": {
         "anchor": "y6",
         "domain": [
          0.2625,
          0.475
         ],
         "gridcolor": "#E1E5ED",
         "showgrid": false,
         "tickfont": {
          "color": "#4D5663"
         },
         "title": {
          "font": {
           "color": "#4D5663"
          },
          "text": ""
         },
         "zerolinecolor": "#E1E5ED"
        },
        "xaxis7": {
         "anchor": "y7",
         "domain": [
          0.525,
          0.7375
         ],
         "gridcolor": "#E1E5ED",
         "showgrid": false,
         "tickfont": {
          "color": "#4D5663"
         },
         "title": {
          "font": {
           "color": "#4D5663"
          },
          "text": ""
         },
         "zerolinecolor": "#E1E5ED"
        },
        "xaxis8": {
         "anchor": "y8",
         "domain": [
          0.7875,
          1
         ],
         "gridcolor": "#E1E5ED",
         "showgrid": false,
         "tickfont": {
          "color": "#4D5663"
         },
         "title": {
          "font": {
           "color": "#4D5663"
          },
          "text": ""
         },
         "zerolinecolor": "#E1E5ED"
        },
        "xaxis9": {
         "anchor": "y9",
         "domain": [
          0,
          0.2125
         ],
         "gridcolor": "#E1E5ED",
         "showgrid": false,
         "tickfont": {
          "color": "#4D5663"
         },
         "title": {
          "font": {
           "color": "#4D5663"
          },
          "text": ""
         },
         "zerolinecolor": "#E1E5ED"
        },
        "yaxis": {
         "anchor": "x",
         "domain": [
          0.8025,
          1
         ],
         "gridcolor": "#E1E5ED",
         "showgrid": false,
         "tickfont": {
          "color": "#4D5663"
         },
         "title": {
          "font": {
           "color": "#4D5663"
          },
          "text": ""
         },
         "zerolinecolor": "#E1E5ED"
        },
        "yaxis10": {
         "anchor": "x10",
         "domain": [
          0.2675,
          0.465
         ],
         "gridcolor": "#E1E5ED",
         "showgrid": false,
         "tickfont": {
          "color": "#4D5663"
         },
         "title": {
          "font": {
           "color": "#4D5663"
          },
          "text": ""
         },
         "zerolinecolor": "#E1E5ED"
        },
        "yaxis11": {
         "anchor": "x11",
         "domain": [
          0.2675,
          0.465
         ],
         "gridcolor": "#E1E5ED",
         "showgrid": false,
         "tickfont": {
          "color": "#4D5663"
         },
         "title": {
          "font": {
           "color": "#4D5663"
          },
          "text": ""
         },
         "zerolinecolor": "#E1E5ED"
        },
        "yaxis12": {
         "anchor": "x12",
         "domain": [
          0.2675,
          0.465
         ],
         "gridcolor": "#E1E5ED",
         "showgrid": false,
         "tickfont": {
          "color": "#4D5663"
         },
         "title": {
          "font": {
           "color": "#4D5663"
          },
          "text": ""
         },
         "zerolinecolor": "#E1E5ED"
        },
        "yaxis13": {
         "anchor": "x13",
         "domain": [
          0,
          0.1975
         ],
         "gridcolor": "#E1E5ED",
         "showgrid": false,
         "tickfont": {
          "color": "#4D5663"
         },
         "title": {
          "font": {
           "color": "#4D5663"
          },
          "text": ""
         },
         "zerolinecolor": "#E1E5ED"
        },
        "yaxis14": {
         "anchor": "x14",
         "domain": [
          0,
          0.1975
         ],
         "gridcolor": "#E1E5ED",
         "showgrid": false,
         "tickfont": {
          "color": "#4D5663"
         },
         "title": {
          "font": {
           "color": "#4D5663"
          },
          "text": ""
         },
         "zerolinecolor": "#E1E5ED"
        },
        "yaxis15": {
         "anchor": "x15",
         "domain": [
          0,
          0.1975
         ],
         "gridcolor": "#E1E5ED",
         "showgrid": false,
         "tickfont": {
          "color": "#4D5663"
         },
         "title": {
          "font": {
           "color": "#4D5663"
          },
          "text": ""
         },
         "zerolinecolor": "#E1E5ED"
        },
        "yaxis16": {
         "anchor": "x16",
         "domain": [
          0,
          0.1975
         ],
         "gridcolor": "#E1E5ED",
         "showgrid": false,
         "tickfont": {
          "color": "#4D5663"
         },
         "title": {
          "font": {
           "color": "#4D5663"
          },
          "text": ""
         },
         "zerolinecolor": "#E1E5ED"
        },
        "yaxis2": {
         "anchor": "x2",
         "domain": [
          0.8025,
          1
         ],
         "gridcolor": "#E1E5ED",
         "showgrid": false,
         "tickfont": {
          "color": "#4D5663"
         },
         "title": {
          "font": {
           "color": "#4D5663"
          },
          "text": ""
         },
         "zerolinecolor": "#E1E5ED"
        },
        "yaxis3": {
         "anchor": "x3",
         "domain": [
          0.8025,
          1
         ],
         "gridcolor": "#E1E5ED",
         "showgrid": false,
         "tickfont": {
          "color": "#4D5663"
         },
         "title": {
          "font": {
           "color": "#4D5663"
          },
          "text": ""
         },
         "zerolinecolor": "#E1E5ED"
        },
        "yaxis4": {
         "anchor": "x4",
         "domain": [
          0.8025,
          1
         ],
         "gridcolor": "#E1E5ED",
         "showgrid": false,
         "tickfont": {
          "color": "#4D5663"
         },
         "title": {
          "font": {
           "color": "#4D5663"
          },
          "text": ""
         },
         "zerolinecolor": "#E1E5ED"
        },
        "yaxis5": {
         "anchor": "x5",
         "domain": [
          0.535,
          0.7325
         ],
         "gridcolor": "#E1E5ED",
         "showgrid": false,
         "tickfont": {
          "color": "#4D5663"
         },
         "title": {
          "font": {
           "color": "#4D5663"
          },
          "text": ""
         },
         "zerolinecolor": "#E1E5ED"
        },
        "yaxis6": {
         "anchor": "x6",
         "domain": [
          0.535,
          0.7325
         ],
         "gridcolor": "#E1E5ED",
         "showgrid": false,
         "tickfont": {
          "color": "#4D5663"
         },
         "title": {
          "font": {
           "color": "#4D5663"
          },
          "text": ""
         },
         "zerolinecolor": "#E1E5ED"
        },
        "yaxis7": {
         "anchor": "x7",
         "domain": [
          0.535,
          0.7325
         ],
         "gridcolor": "#E1E5ED",
         "showgrid": false,
         "tickfont": {
          "color": "#4D5663"
         },
         "title": {
          "font": {
           "color": "#4D5663"
          },
          "text": ""
         },
         "zerolinecolor": "#E1E5ED"
        },
        "yaxis8": {
         "anchor": "x8",
         "domain": [
          0.535,
          0.7325
         ],
         "gridcolor": "#E1E5ED",
         "showgrid": false,
         "tickfont": {
          "color": "#4D5663"
         },
         "title": {
          "font": {
           "color": "#4D5663"
          },
          "text": ""
         },
         "zerolinecolor": "#E1E5ED"
        },
        "yaxis9": {
         "anchor": "x9",
         "domain": [
          0.2675,
          0.465
         ],
         "gridcolor": "#E1E5ED",
         "showgrid": false,
         "tickfont": {
          "color": "#4D5663"
         },
         "title": {
          "font": {
           "color": "#4D5663"
          },
          "text": ""
         },
         "zerolinecolor": "#E1E5ED"
        }
       }
      },
      "text/html": [
       "<div>\n",
       "        \n",
       "        \n",
       "            <div id=\"8ad4d2eb-67b4-4c92-ba93-792acd0d6912\" class=\"plotly-graph-div\" style=\"height:525px; width:100%;\"></div>\n",
       "            <script type=\"text/javascript\">\n",
       "                require([\"plotly\"], function(Plotly) {\n",
       "                    window.PLOTLYENV=window.PLOTLYENV || {};\n",
       "                    window.PLOTLYENV.BASE_URL='https://plot.ly';\n",
       "                    \n",
       "                if (document.getElementById(\"8ad4d2eb-67b4-4c92-ba93-792acd0d6912\")) {\n",
       "                    Plotly.newPlot(\n",
       "                        '8ad4d2eb-67b4-4c92-ba93-792acd0d6912',\n",
       "                        [{\"histfunc\": \"count\", \"histnorm\": \"\", \"marker\": {\"color\": \"rgba(255, 153, 51, 1.0)\", \"line\": {\"color\": \"#4D5663\", \"width\": 1.3}}, \"name\": \"A\", \"nbinsx\": 10, \"opacity\": 0.8, \"orientation\": \"v\", \"type\": \"histogram\", \"x\": [-1.1297880804810116, 0.8909558868026678, -2.4674677078075615, 1.4668865210388036, 0.052099141553544316, -0.5841535222972922, -0.14407291051779864, -0.24146519801740043, 1.4089883014072808, 0.1698379991335825, 1.6725669615460745, -1.1871638982625938, 0.2500685582684525, -0.9075758091792991, 1.5794840063606157, -0.7154693249447941, 0.6710461976159192, -1.3138617132611679, -0.08715365767208498, 0.6817437501923307, 0.15963287076171498, -1.4284907475179551, 0.7623270744081148, 0.4827609399382711, 1.143843875728672, 0.732765341739219, 0.4769246929115, 0.5207809911732241, -0.6943426027267315, 2.527205168129635, 0.3110536263670157, -1.586564155923283, 0.2325845898667768, 0.14942062616814708, -0.7557765018970091, 2.46078286011467, -1.5864772813918784, 1.0868295448269554, 0.29730223763112135, 0.9330617358105876, 1.3209758315752207, -0.7257746662786452, 0.6223215905979733, 0.9545355565512028, -0.5651734999398752, -0.8323343740748262, -1.529421653815974, -0.5637293068459186, 1.3747593870565984, 1.4629258937978542, -1.2437710994346372, 1.1528387183185471, -0.7646733650685583, -0.12980482941361793, 0.8460466553233116, -0.13679977098484716, 1.3171725454303962, -0.8524969706000572, -0.7896774042673815, 0.30161696428573564, -1.1882742305542269, -0.15889754303574397, 0.8698986288529447, -0.9964530436083726, 0.4100165481373722, -0.4128453281010694, 1.4406077576302683, 1.6011651067675756, -3.3597780905476684, -1.3769568088285187, 1.2177632525884357, -0.14126371111306843, -0.3721476282966241, -1.96760916128469, 0.5213989068129281, -1.453423528558044, 0.3946037066457429, 0.8585996691985393, 0.9237916704788649, 0.3137707208702481, 0.9861633281572418, 0.8940523501948491, 1.300507308282935, 0.769636332141642, 0.599535573702335, -1.8921465187792665, 0.7351759459424257, -0.5245244935897746, 0.41125483420132225, -0.4747146631281052, 0.5430255920252014, -0.8615301256799931, 0.685280739134256, 1.3824752940241554, 0.4691203694022939, 0.2969347029971788, 0.17527373402249957, -0.2664598834122682, -1.0603267101266096, 1.2585999049100745], \"xaxis\": \"x\", \"yaxis\": \"y\"}, {\"line\": {\"color\": \"rgba(128, 128, 128, 1.0)\", \"dash\": \"solid\", \"shape\": \"linear\", \"width\": 1.3}, \"marker\": {\"size\": 2, \"symbol\": \"circle\"}, \"mode\": \"markers\", \"name\": \"A\", \"text\": \"\", \"type\": \"scatter\", \"x\": [-0.12402007023132434, 0.16105615677002622, 0.023188958701885184, 1.3365766040123495, -1.524892413949562, -1.2841507820438276, 1.453386751286277, 0.18175721164363973, 0.319433640867433, -0.3839768199018055, -1.1032762054402279, -0.037550265782773054, 0.6526531412240898, 1.624937766501667, 1.3347744992777684, -0.34618031920085374, 1.789230219031507, 2.0815389133971967, 1.1552149582137499, 2.601022664007055, 0.7373289608257685, 0.9653657279013573, -0.7141811226367676, -1.5857012600671005, -0.9698880744594625, 1.0629314379178578, 0.3665188577639023, 1.8575226132892655, 0.2810123749569547, 1.0834506863250117, 1.5852384708343445, -1.0821690461594273, 0.45034497515428173, 0.16595132541359575, -0.2837809115954148, -0.5321305547195403, 0.42052444763312613, -0.8638272574567947, -0.1356330350490318, -0.2861953892593525, 0.2987680728920157, -0.7901164099395227, -0.07239267449567097, 0.14885628381591193, -0.15562696332212675, 1.421970514039125, -0.10009080252734245, -2.6887592763650754, 0.523307575152354, 1.839188917214292, -0.31767820041569567, 1.1392661859719995, 1.1126897470779902, -1.4431765471300466, -1.3226216565575393, 1.3061871872446182, -1.2695506775987795, -1.3531008486561023, -0.6190758570607968, -1.6607885320505178, 1.0267781939675455, 0.3332289719972668, 0.4680130394047356, 0.8889197448462989, -1.5825366658785764, -1.3291572534664713, 1.0765003834875582, 0.8441869284582593, -0.49514397185949505, 0.03929643743827132, -0.12982509182576335, 0.9563009984004562, 1.9202450190710358, 0.24483401982736028, 0.10525084048866817, 0.8816366460958016, 1.3465250686822723, -0.21035831042571124, -0.6113086931308005, -1.19868474947971, 0.15785117287865072, -1.031686073119976, 0.1391364456318884, 0.16690430657337105, -1.6588925821515055, 0.5213841464387718, -0.915816274620897, 1.1229320056801422, 0.08918793278246169, -0.379028223962969, -1.591593730810941, 0.5208149612876775, 1.325421610769011, 0.9083172720366367, 0.06163858333894556, 0.14276444823432247, -0.24183087477167728, 2.1473916282420014, 1.2534007307159707, -0.6942650652204457], \"xaxis\": \"x2\", \"y\": [-1.1297880804810116, 0.8909558868026678, -2.4674677078075615, 1.4668865210388036, 0.052099141553544316, -0.5841535222972922, -0.14407291051779864, -0.24146519801740043, 1.4089883014072808, 0.1698379991335825, 1.6725669615460745, -1.1871638982625938, 0.2500685582684525, -0.9075758091792991, 1.5794840063606157, -0.7154693249447941, 0.6710461976159192, -1.3138617132611679, -0.08715365767208498, 0.6817437501923307, 0.15963287076171498, -1.4284907475179551, 0.7623270744081148, 0.4827609399382711, 1.143843875728672, 0.732765341739219, 0.4769246929115, 0.5207809911732241, -0.6943426027267315, 2.527205168129635, 0.3110536263670157, -1.586564155923283, 0.2325845898667768, 0.14942062616814708, -0.7557765018970091, 2.46078286011467, -1.5864772813918784, 1.0868295448269554, 0.29730223763112135, 0.9330617358105876, 1.3209758315752207, -0.7257746662786452, 0.6223215905979733, 0.9545355565512028, -0.5651734999398752, -0.8323343740748262, -1.529421653815974, -0.5637293068459186, 1.3747593870565984, 1.4629258937978542, -1.2437710994346372, 1.1528387183185471, -0.7646733650685583, -0.12980482941361793, 0.8460466553233116, -0.13679977098484716, 1.3171725454303962, -0.8524969706000572, -0.7896774042673815, 0.30161696428573564, -1.1882742305542269, -0.15889754303574397, 0.8698986288529447, -0.9964530436083726, 0.4100165481373722, -0.4128453281010694, 1.4406077576302683, 1.6011651067675756, -3.3597780905476684, -1.3769568088285187, 1.2177632525884357, -0.14126371111306843, -0.3721476282966241, -1.96760916128469, 0.5213989068129281, -1.453423528558044, 0.3946037066457429, 0.8585996691985393, 0.9237916704788649, 0.3137707208702481, 0.9861633281572418, 0.8940523501948491, 1.300507308282935, 0.769636332141642, 0.599535573702335, -1.8921465187792665, 0.7351759459424257, -0.5245244935897746, 0.41125483420132225, -0.4747146631281052, 0.5430255920252014, -0.8615301256799931, 0.685280739134256, 1.3824752940241554, 0.4691203694022939, 0.2969347029971788, 0.17527373402249957, -0.2664598834122682, -1.0603267101266096, 1.2585999049100745], \"yaxis\": \"y2\"}, {\"line\": {\"color\": \"rgba(128, 128, 128, 1.0)\", \"dash\": \"solid\", \"shape\": \"linear\", \"width\": 1.3}, \"marker\": {\"size\": 2, \"symbol\": \"circle\"}, \"mode\": \"markers\", \"name\": \"A\", \"text\": \"\", \"type\": \"scatter\", \"x\": [0.17421691582521348, -1.3347870970348765, 0.19504801893508936, 0.615815324125793, 0.6464796590643166, -1.2068024562353317, 0.38785425113995237, 0.3867856556905653, -1.405610785135054, -0.1892805252738717, 0.6760959263848506, -1.9456589651411498, 0.38955785478560134, -0.6177996899408054, -1.8980841458045237, 0.39284227622709483, -0.6028288304777356, 0.15561011597974259, -0.9097505263185375, 0.10959473983493624, -2.2131492836547944, 0.2849727324935136, 0.5144470224888781, 1.7699054422752936, -1.2221741218912672, -1.1744078158919593, 1.3533348672919525, 0.3163792249771611, 0.18174990785515674, 0.054938310415938864, 0.7421200543349438, -0.2346517886452845, -0.6736996536606434, 0.05069725900535534, -1.1456321818505664, -0.5068022698369427, -0.6021573471021463, -0.4607878221675053, -0.0884854645124853, -0.04590785081159762, -1.04763600849066, 0.4606902276536393, 0.10954696224308451, 0.4195693821222619, 1.1535006039214961, -1.1069206380103314, 2.536952794693768, 1.3456678564790383, -0.6003378912958559, -0.9873118391793111, 1.0482107314299267, 1.0789338031902587, -1.188572907090659, 0.5912059519542611, 0.4886531320977451, 2.610633032391518, -1.9065269745751732, 0.8438657058711421, 1.3468239960520911, -0.27865376477509574, 1.198666439892076, -2.7027033096357016, -0.6040637753642535, -1.1381004808640252, 2.0930970754102325, -0.45811192273251283, -0.3669911714827668, -1.8055184309290935, -0.7523499218822268, -0.5539626493287687, 0.4391348881854048, 0.8909540746565411, 1.1375065192661309, 1.3920337518067705, -0.5264114017543187, -0.4691501372827285, 1.0319870837912726, 1.0414077621890583, -0.4362361718080314, 0.6274721877903016, 0.7865082061275752, -0.09670930182764863, -0.9044446996214, -1.6422096544307065, -1.6191953641948122, -1.1499684045637386, 0.0901055296246791, 0.9323804971332048, -0.7382383878429699, -0.27683699976022613, 1.1145056005973129, 1.4770798899929896, 0.7773463083238665, -0.23723646306488114, -0.8341073764054127, 0.6154366027228294, -0.3293054058471099, 0.29654843988100393, -0.6242824345433385, 0.1525757905103892], \"xaxis\": \"x3\", \"y\": [-1.1297880804810116, 0.8909558868026678, -2.4674677078075615, 1.4668865210388036, 0.052099141553544316, -0.5841535222972922, -0.14407291051779864, -0.24146519801740043, 1.4089883014072808, 0.1698379991335825, 1.6725669615460745, -1.1871638982625938, 0.2500685582684525, -0.9075758091792991, 1.5794840063606157, -0.7154693249447941, 0.6710461976159192, -1.3138617132611679, -0.08715365767208498, 0.6817437501923307, 0.15963287076171498, -1.4284907475179551, 0.7623270744081148, 0.4827609399382711, 1.143843875728672, 0.732765341739219, 0.4769246929115, 0.5207809911732241, -0.6943426027267315, 2.527205168129635, 0.3110536263670157, -1.586564155923283, 0.2325845898667768, 0.14942062616814708, -0.7557765018970091, 2.46078286011467, -1.5864772813918784, 1.0868295448269554, 0.29730223763112135, 0.9330617358105876, 1.3209758315752207, -0.7257746662786452, 0.6223215905979733, 0.9545355565512028, -0.5651734999398752, -0.8323343740748262, -1.529421653815974, -0.5637293068459186, 1.3747593870565984, 1.4629258937978542, -1.2437710994346372, 1.1528387183185471, -0.7646733650685583, -0.12980482941361793, 0.8460466553233116, -0.13679977098484716, 1.3171725454303962, -0.8524969706000572, -0.7896774042673815, 0.30161696428573564, -1.1882742305542269, -0.15889754303574397, 0.8698986288529447, -0.9964530436083726, 0.4100165481373722, -0.4128453281010694, 1.4406077576302683, 1.6011651067675756, -3.3597780905476684, -1.3769568088285187, 1.2177632525884357, -0.14126371111306843, -0.3721476282966241, -1.96760916128469, 0.5213989068129281, -1.453423528558044, 0.3946037066457429, 0.8585996691985393, 0.9237916704788649, 0.3137707208702481, 0.9861633281572418, 0.8940523501948491, 1.300507308282935, 0.769636332141642, 0.599535573702335, -1.8921465187792665, 0.7351759459424257, -0.5245244935897746, 0.41125483420132225, -0.4747146631281052, 0.5430255920252014, -0.8615301256799931, 0.685280739134256, 1.3824752940241554, 0.4691203694022939, 0.2969347029971788, 0.17527373402249957, -0.2664598834122682, -1.0603267101266096, 1.2585999049100745], \"yaxis\": \"y3\"}, {\"line\": {\"color\": \"rgba(128, 128, 128, 1.0)\", \"dash\": \"solid\", \"shape\": \"linear\", \"width\": 1.3}, \"marker\": {\"size\": 2, \"symbol\": \"circle\"}, \"mode\": \"markers\", \"name\": \"A\", \"text\": \"\", \"type\": \"scatter\", \"x\": [-0.8569379998492204, 0.3532381244547541, -1.473884890795063, -0.5154168667247857, 1.384367533164876, -1.0078285020232705, 1.3841984728026389, 0.02451307765962415, -0.8191583201930199, -0.3527467184075583, -0.5479071878495365, -0.7061249197941388, -0.6429745384859913, 2.1409246356568, 1.580367537531254, 1.28789146918967, 0.8925704640905009, -1.375211578765735, 0.34144433525589074, -0.33643482803724456, 0.29131578426361, 0.5015164804221907, -0.980371957635985, -1.1774548472628246, -0.704026124840796, -0.5122375525583044, 1.0810890088158502, -0.9202248736663858, 0.704686791702668, -0.43547712553175677, 1.5067129918291322, -0.5089658042157246, 0.4454282231709372, -0.1289198337265707, -1.627797981071354, 0.8336237578443855, -0.4560444056597544, 0.9030740144813988, 1.5834770434491787, -0.9358339145730034, 0.7969183032286896, -0.5781513686655708, 0.7483921327775419, 1.023538001015689, 0.1262765942004014, -0.9501603438666566, -1.7679991209710049, 1.0226092349541769, -1.802197151036096, -1.198230518565695, -0.7636118617700086, -1.5543218547764062, 0.04544863175983621, -0.7805809502825641, -1.0353788900860592, -0.9117313916666553, -0.11175866922647903, -1.1595247269140836, -0.0012569538153414971, 0.2467110928867088, -0.3946446207211395, 1.9769602103480681, 0.3269074981419036, 0.1316046053135009, -0.6991559934795253, 0.33254860539219205, -1.7367083956011016, -0.747728238046683, 0.8456389595170039, -0.14768073421492472, -0.4444542150777699, -0.865389102851343, 1.4519493642484027, 1.220400266953391, 0.7895995419799212, 1.239485208665572, -0.4974637808296835, 1.345917602782018, 0.08359953601129336, -0.9115061899739435, -1.4037553998760366, 1.2643586669710747, -0.4462216428031995, 0.5412051608036181, 0.6532594265282092, 0.3028620321630151, -0.2802946889621197, 1.8561149130878898, 0.088919364678717, 0.9336450024822341, -1.1374900867431545, 1.665870940958986, 0.46271435412855166, -2.3740179185676045, 0.16077583669244555, 1.4740402690069374, 0.8935307387081979, -0.49889651737261603, -0.6568088731764845, 0.9751976616519583], \"xaxis\": \"x4\", \"y\": [-1.1297880804810116, 0.8909558868026678, -2.4674677078075615, 1.4668865210388036, 0.052099141553544316, -0.5841535222972922, -0.14407291051779864, -0.24146519801740043, 1.4089883014072808, 0.1698379991335825, 1.6725669615460745, -1.1871638982625938, 0.2500685582684525, -0.9075758091792991, 1.5794840063606157, -0.7154693249447941, 0.6710461976159192, -1.3138617132611679, -0.08715365767208498, 0.6817437501923307, 0.15963287076171498, -1.4284907475179551, 0.7623270744081148, 0.4827609399382711, 1.143843875728672, 0.732765341739219, 0.4769246929115, 0.5207809911732241, -0.6943426027267315, 2.527205168129635, 0.3110536263670157, -1.586564155923283, 0.2325845898667768, 0.14942062616814708, -0.7557765018970091, 2.46078286011467, -1.5864772813918784, 1.0868295448269554, 0.29730223763112135, 0.9330617358105876, 1.3209758315752207, -0.7257746662786452, 0.6223215905979733, 0.9545355565512028, -0.5651734999398752, -0.8323343740748262, -1.529421653815974, -0.5637293068459186, 1.3747593870565984, 1.4629258937978542, -1.2437710994346372, 1.1528387183185471, -0.7646733650685583, -0.12980482941361793, 0.8460466553233116, -0.13679977098484716, 1.3171725454303962, -0.8524969706000572, -0.7896774042673815, 0.30161696428573564, -1.1882742305542269, -0.15889754303574397, 0.8698986288529447, -0.9964530436083726, 0.4100165481373722, -0.4128453281010694, 1.4406077576302683, 1.6011651067675756, -3.3597780905476684, -1.3769568088285187, 1.2177632525884357, -0.14126371111306843, -0.3721476282966241, -1.96760916128469, 0.5213989068129281, -1.453423528558044, 0.3946037066457429, 0.8585996691985393, 0.9237916704788649, 0.3137707208702481, 0.9861633281572418, 0.8940523501948491, 1.300507308282935, 0.769636332141642, 0.599535573702335, -1.8921465187792665, 0.7351759459424257, -0.5245244935897746, 0.41125483420132225, -0.4747146631281052, 0.5430255920252014, -0.8615301256799931, 0.685280739134256, 1.3824752940241554, 0.4691203694022939, 0.2969347029971788, 0.17527373402249957, -0.2664598834122682, -1.0603267101266096, 1.2585999049100745], \"yaxis\": \"y4\"}, {\"line\": {\"color\": \"rgba(128, 128, 128, 1.0)\", \"dash\": \"solid\", \"shape\": \"linear\", \"width\": 1.3}, \"marker\": {\"size\": 2, \"symbol\": \"circle\"}, \"mode\": \"markers\", \"name\": \"B\", \"text\": \"\", \"type\": \"scatter\", \"x\": [-1.1297880804810116, 0.8909558868026678, -2.4674677078075615, 1.4668865210388036, 0.052099141553544316, -0.5841535222972922, -0.14407291051779864, -0.24146519801740043, 1.4089883014072808, 0.1698379991335825, 1.6725669615460745, -1.1871638982625938, 0.2500685582684525, -0.9075758091792991, 1.5794840063606157, -0.7154693249447941, 0.6710461976159192, -1.3138617132611679, -0.08715365767208498, 0.6817437501923307, 0.15963287076171498, -1.4284907475179551, 0.7623270744081148, 0.4827609399382711, 1.143843875728672, 0.732765341739219, 0.4769246929115, 0.5207809911732241, -0.6943426027267315, 2.527205168129635, 0.3110536263670157, -1.586564155923283, 0.2325845898667768, 0.14942062616814708, -0.7557765018970091, 2.46078286011467, -1.5864772813918784, 1.0868295448269554, 0.29730223763112135, 0.9330617358105876, 1.3209758315752207, -0.7257746662786452, 0.6223215905979733, 0.9545355565512028, -0.5651734999398752, -0.8323343740748262, -1.529421653815974, -0.5637293068459186, 1.3747593870565984, 1.4629258937978542, -1.2437710994346372, 1.1528387183185471, -0.7646733650685583, -0.12980482941361793, 0.8460466553233116, -0.13679977098484716, 1.3171725454303962, -0.8524969706000572, -0.7896774042673815, 0.30161696428573564, -1.1882742305542269, -0.15889754303574397, 0.8698986288529447, -0.9964530436083726, 0.4100165481373722, -0.4128453281010694, 1.4406077576302683, 1.6011651067675756, -3.3597780905476684, -1.3769568088285187, 1.2177632525884357, -0.14126371111306843, -0.3721476282966241, -1.96760916128469, 0.5213989068129281, -1.453423528558044, 0.3946037066457429, 0.8585996691985393, 0.9237916704788649, 0.3137707208702481, 0.9861633281572418, 0.8940523501948491, 1.300507308282935, 0.769636332141642, 0.599535573702335, -1.8921465187792665, 0.7351759459424257, -0.5245244935897746, 0.41125483420132225, -0.4747146631281052, 0.5430255920252014, -0.8615301256799931, 0.685280739134256, 1.3824752940241554, 0.4691203694022939, 0.2969347029971788, 0.17527373402249957, -0.2664598834122682, -1.0603267101266096, 1.2585999049100745], \"xaxis\": \"x5\", \"y\": [-0.12402007023132434, 0.16105615677002622, 0.023188958701885184, 1.3365766040123495, -1.524892413949562, -1.2841507820438276, 1.453386751286277, 0.18175721164363973, 0.319433640867433, -0.3839768199018055, -1.1032762054402279, -0.037550265782773054, 0.6526531412240898, 1.624937766501667, 1.3347744992777684, -0.34618031920085374, 1.789230219031507, 2.0815389133971967, 1.1552149582137499, 2.601022664007055, 0.7373289608257685, 0.9653657279013573, -0.7141811226367676, -1.5857012600671005, -0.9698880744594625, 1.0629314379178578, 0.3665188577639023, 1.8575226132892655, 0.2810123749569547, 1.0834506863250117, 1.5852384708343445, -1.0821690461594273, 0.45034497515428173, 0.16595132541359575, -0.2837809115954148, -0.5321305547195403, 0.42052444763312613, -0.8638272574567947, -0.1356330350490318, -0.2861953892593525, 0.2987680728920157, -0.7901164099395227, -0.07239267449567097, 0.14885628381591193, -0.15562696332212675, 1.421970514039125, -0.10009080252734245, -2.6887592763650754, 0.523307575152354, 1.839188917214292, -0.31767820041569567, 1.1392661859719995, 1.1126897470779902, -1.4431765471300466, -1.3226216565575393, 1.3061871872446182, -1.2695506775987795, -1.3531008486561023, -0.6190758570607968, -1.6607885320505178, 1.0267781939675455, 0.3332289719972668, 0.4680130394047356, 0.8889197448462989, -1.5825366658785764, -1.3291572534664713, 1.0765003834875582, 0.8441869284582593, -0.49514397185949505, 0.03929643743827132, -0.12982509182576335, 0.9563009984004562, 1.9202450190710358, 0.24483401982736028, 0.10525084048866817, 0.8816366460958016, 1.3465250686822723, -0.21035831042571124, -0.6113086931308005, -1.19868474947971, 0.15785117287865072, -1.031686073119976, 0.1391364456318884, 0.16690430657337105, -1.6588925821515055, 0.5213841464387718, -0.915816274620897, 1.1229320056801422, 0.08918793278246169, -0.379028223962969, -1.591593730810941, 0.5208149612876775, 1.325421610769011, 0.9083172720366367, 0.06163858333894556, 0.14276444823432247, -0.24183087477167728, 2.1473916282420014, 1.2534007307159707, -0.6942650652204457], \"yaxis\": \"y5\"}, {\"histfunc\": \"count\", \"histnorm\": \"\", \"marker\": {\"color\": \"rgba(55, 128, 191, 1.0)\", \"line\": {\"color\": \"#4D5663\", \"width\": 1.3}}, \"name\": \"B\", \"nbinsx\": 10, \"opacity\": 0.8, \"orientation\": \"v\", \"type\": \"histogram\", \"x\": [-0.12402007023132434, 0.16105615677002622, 0.023188958701885184, 1.3365766040123495, -1.524892413949562, -1.2841507820438276, 1.453386751286277, 0.18175721164363973, 0.319433640867433, -0.3839768199018055, -1.1032762054402279, -0.037550265782773054, 0.6526531412240898, 1.624937766501667, 1.3347744992777684, -0.34618031920085374, 1.789230219031507, 2.0815389133971967, 1.1552149582137499, 2.601022664007055, 0.7373289608257685, 0.9653657279013573, -0.7141811226367676, -1.5857012600671005, -0.9698880744594625, 1.0629314379178578, 0.3665188577639023, 1.8575226132892655, 0.2810123749569547, 1.0834506863250117, 1.5852384708343445, -1.0821690461594273, 0.45034497515428173, 0.16595132541359575, -0.2837809115954148, -0.5321305547195403, 0.42052444763312613, -0.8638272574567947, -0.1356330350490318, -0.2861953892593525, 0.2987680728920157, -0.7901164099395227, -0.07239267449567097, 0.14885628381591193, -0.15562696332212675, 1.421970514039125, -0.10009080252734245, -2.6887592763650754, 0.523307575152354, 1.839188917214292, -0.31767820041569567, 1.1392661859719995, 1.1126897470779902, -1.4431765471300466, -1.3226216565575393, 1.3061871872446182, -1.2695506775987795, -1.3531008486561023, -0.6190758570607968, -1.6607885320505178, 1.0267781939675455, 0.3332289719972668, 0.4680130394047356, 0.8889197448462989, -1.5825366658785764, -1.3291572534664713, 1.0765003834875582, 0.8441869284582593, -0.49514397185949505, 0.03929643743827132, -0.12982509182576335, 0.9563009984004562, 1.9202450190710358, 0.24483401982736028, 0.10525084048866817, 0.8816366460958016, 1.3465250686822723, -0.21035831042571124, -0.6113086931308005, -1.19868474947971, 0.15785117287865072, -1.031686073119976, 0.1391364456318884, 0.16690430657337105, -1.6588925821515055, 0.5213841464387718, -0.915816274620897, 1.1229320056801422, 0.08918793278246169, -0.379028223962969, -1.591593730810941, 0.5208149612876775, 1.325421610769011, 0.9083172720366367, 0.06163858333894556, 0.14276444823432247, -0.24183087477167728, 2.1473916282420014, 1.2534007307159707, -0.6942650652204457], \"xaxis\": \"x6\", \"yaxis\": \"y6\"}, {\"line\": {\"color\": \"rgba(128, 128, 128, 1.0)\", \"dash\": \"solid\", \"shape\": \"linear\", \"width\": 1.3}, \"marker\": {\"size\": 2, \"symbol\": \"circle\"}, \"mode\": \"markers\", \"name\": \"B\", \"text\": \"\", \"type\": \"scatter\", \"x\": [0.17421691582521348, -1.3347870970348765, 0.19504801893508936, 0.615815324125793, 0.6464796590643166, -1.2068024562353317, 0.38785425113995237, 0.3867856556905653, -1.405610785135054, -0.1892805252738717, 0.6760959263848506, -1.9456589651411498, 0.38955785478560134, -0.6177996899408054, -1.8980841458045237, 0.39284227622709483, -0.6028288304777356, 0.15561011597974259, -0.9097505263185375, 0.10959473983493624, -2.2131492836547944, 0.2849727324935136, 0.5144470224888781, 1.7699054422752936, -1.2221741218912672, -1.1744078158919593, 1.3533348672919525, 0.3163792249771611, 0.18174990785515674, 0.054938310415938864, 0.7421200543349438, -0.2346517886452845, -0.6736996536606434, 0.05069725900535534, -1.1456321818505664, -0.5068022698369427, -0.6021573471021463, -0.4607878221675053, -0.0884854645124853, -0.04590785081159762, -1.04763600849066, 0.4606902276536393, 0.10954696224308451, 0.4195693821222619, 1.1535006039214961, -1.1069206380103314, 2.536952794693768, 1.3456678564790383, -0.6003378912958559, -0.9873118391793111, 1.0482107314299267, 1.0789338031902587, -1.188572907090659, 0.5912059519542611, 0.4886531320977451, 2.610633032391518, -1.9065269745751732, 0.8438657058711421, 1.3468239960520911, -0.27865376477509574, 1.198666439892076, -2.7027033096357016, -0.6040637753642535, -1.1381004808640252, 2.0930970754102325, -0.45811192273251283, -0.3669911714827668, -1.8055184309290935, -0.7523499218822268, -0.5539626493287687, 0.4391348881854048, 0.8909540746565411, 1.1375065192661309, 1.3920337518067705, -0.5264114017543187, -0.4691501372827285, 1.0319870837912726, 1.0414077621890583, -0.4362361718080314, 0.6274721877903016, 0.7865082061275752, -0.09670930182764863, -0.9044446996214, -1.6422096544307065, -1.6191953641948122, -1.1499684045637386, 0.0901055296246791, 0.9323804971332048, -0.7382383878429699, -0.27683699976022613, 1.1145056005973129, 1.4770798899929896, 0.7773463083238665, -0.23723646306488114, -0.8341073764054127, 0.6154366027228294, -0.3293054058471099, 0.29654843988100393, -0.6242824345433385, 0.1525757905103892], \"xaxis\": \"x7\", \"y\": [-0.12402007023132434, 0.16105615677002622, 0.023188958701885184, 1.3365766040123495, -1.524892413949562, -1.2841507820438276, 1.453386751286277, 0.18175721164363973, 0.319433640867433, -0.3839768199018055, -1.1032762054402279, -0.037550265782773054, 0.6526531412240898, 1.624937766501667, 1.3347744992777684, -0.34618031920085374, 1.789230219031507, 2.0815389133971967, 1.1552149582137499, 2.601022664007055, 0.7373289608257685, 0.9653657279013573, -0.7141811226367676, -1.5857012600671005, -0.9698880744594625, 1.0629314379178578, 0.3665188577639023, 1.8575226132892655, 0.2810123749569547, 1.0834506863250117, 1.5852384708343445, -1.0821690461594273, 0.45034497515428173, 0.16595132541359575, -0.2837809115954148, -0.5321305547195403, 0.42052444763312613, -0.8638272574567947, -0.1356330350490318, -0.2861953892593525, 0.2987680728920157, -0.7901164099395227, -0.07239267449567097, 0.14885628381591193, -0.15562696332212675, 1.421970514039125, -0.10009080252734245, -2.6887592763650754, 0.523307575152354, 1.839188917214292, -0.31767820041569567, 1.1392661859719995, 1.1126897470779902, -1.4431765471300466, -1.3226216565575393, 1.3061871872446182, -1.2695506775987795, -1.3531008486561023, -0.6190758570607968, -1.6607885320505178, 1.0267781939675455, 0.3332289719972668, 0.4680130394047356, 0.8889197448462989, -1.5825366658785764, -1.3291572534664713, 1.0765003834875582, 0.8441869284582593, -0.49514397185949505, 0.03929643743827132, -0.12982509182576335, 0.9563009984004562, 1.9202450190710358, 0.24483401982736028, 0.10525084048866817, 0.8816366460958016, 1.3465250686822723, -0.21035831042571124, -0.6113086931308005, -1.19868474947971, 0.15785117287865072, -1.031686073119976, 0.1391364456318884, 0.16690430657337105, -1.6588925821515055, 0.5213841464387718, -0.915816274620897, 1.1229320056801422, 0.08918793278246169, -0.379028223962969, -1.591593730810941, 0.5208149612876775, 1.325421610769011, 0.9083172720366367, 0.06163858333894556, 0.14276444823432247, -0.24183087477167728, 2.1473916282420014, 1.2534007307159707, -0.6942650652204457], \"yaxis\": \"y7\"}, {\"line\": {\"color\": \"rgba(128, 128, 128, 1.0)\", \"dash\": \"solid\", \"shape\": \"linear\", \"width\": 1.3}, \"marker\": {\"size\": 2, \"symbol\": \"circle\"}, \"mode\": \"markers\", \"name\": \"B\", \"text\": \"\", \"type\": \"scatter\", \"x\": [-0.8569379998492204, 0.3532381244547541, -1.473884890795063, -0.5154168667247857, 1.384367533164876, -1.0078285020232705, 1.3841984728026389, 0.02451307765962415, -0.8191583201930199, -0.3527467184075583, -0.5479071878495365, -0.7061249197941388, -0.6429745384859913, 2.1409246356568, 1.580367537531254, 1.28789146918967, 0.8925704640905009, -1.375211578765735, 0.34144433525589074, -0.33643482803724456, 0.29131578426361, 0.5015164804221907, -0.980371957635985, -1.1774548472628246, -0.704026124840796, -0.5122375525583044, 1.0810890088158502, -0.9202248736663858, 0.704686791702668, -0.43547712553175677, 1.5067129918291322, -0.5089658042157246, 0.4454282231709372, -0.1289198337265707, -1.627797981071354, 0.8336237578443855, -0.4560444056597544, 0.9030740144813988, 1.5834770434491787, -0.9358339145730034, 0.7969183032286896, -0.5781513686655708, 0.7483921327775419, 1.023538001015689, 0.1262765942004014, -0.9501603438666566, -1.7679991209710049, 1.0226092349541769, -1.802197151036096, -1.198230518565695, -0.7636118617700086, -1.5543218547764062, 0.04544863175983621, -0.7805809502825641, -1.0353788900860592, -0.9117313916666553, -0.11175866922647903, -1.1595247269140836, -0.0012569538153414971, 0.2467110928867088, -0.3946446207211395, 1.9769602103480681, 0.3269074981419036, 0.1316046053135009, -0.6991559934795253, 0.33254860539219205, -1.7367083956011016, -0.747728238046683, 0.8456389595170039, -0.14768073421492472, -0.4444542150777699, -0.865389102851343, 1.4519493642484027, 1.220400266953391, 0.7895995419799212, 1.239485208665572, -0.4974637808296835, 1.345917602782018, 0.08359953601129336, -0.9115061899739435, -1.4037553998760366, 1.2643586669710747, -0.4462216428031995, 0.5412051608036181, 0.6532594265282092, 0.3028620321630151, -0.2802946889621197, 1.8561149130878898, 0.088919364678717, 0.9336450024822341, -1.1374900867431545, 1.665870940958986, 0.46271435412855166, -2.3740179185676045, 0.16077583669244555, 1.4740402690069374, 0.8935307387081979, -0.49889651737261603, -0.6568088731764845, 0.9751976616519583], \"xaxis\": \"x8\", \"y\": [-0.12402007023132434, 0.16105615677002622, 0.023188958701885184, 1.3365766040123495, -1.524892413949562, -1.2841507820438276, 1.453386751286277, 0.18175721164363973, 0.319433640867433, -0.3839768199018055, -1.1032762054402279, -0.037550265782773054, 0.6526531412240898, 1.624937766501667, 1.3347744992777684, -0.34618031920085374, 1.789230219031507, 2.0815389133971967, 1.1552149582137499, 2.601022664007055, 0.7373289608257685, 0.9653657279013573, -0.7141811226367676, -1.5857012600671005, -0.9698880744594625, 1.0629314379178578, 0.3665188577639023, 1.8575226132892655, 0.2810123749569547, 1.0834506863250117, 1.5852384708343445, -1.0821690461594273, 0.45034497515428173, 0.16595132541359575, -0.2837809115954148, -0.5321305547195403, 0.42052444763312613, -0.8638272574567947, -0.1356330350490318, -0.2861953892593525, 0.2987680728920157, -0.7901164099395227, -0.07239267449567097, 0.14885628381591193, -0.15562696332212675, 1.421970514039125, -0.10009080252734245, -2.6887592763650754, 0.523307575152354, 1.839188917214292, -0.31767820041569567, 1.1392661859719995, 1.1126897470779902, -1.4431765471300466, -1.3226216565575393, 1.3061871872446182, -1.2695506775987795, -1.3531008486561023, -0.6190758570607968, -1.6607885320505178, 1.0267781939675455, 0.3332289719972668, 0.4680130394047356, 0.8889197448462989, -1.5825366658785764, -1.3291572534664713, 1.0765003834875582, 0.8441869284582593, -0.49514397185949505, 0.03929643743827132, -0.12982509182576335, 0.9563009984004562, 1.9202450190710358, 0.24483401982736028, 0.10525084048866817, 0.8816366460958016, 1.3465250686822723, -0.21035831042571124, -0.6113086931308005, -1.19868474947971, 0.15785117287865072, -1.031686073119976, 0.1391364456318884, 0.16690430657337105, -1.6588925821515055, 0.5213841464387718, -0.915816274620897, 1.1229320056801422, 0.08918793278246169, -0.379028223962969, -1.591593730810941, 0.5208149612876775, 1.325421610769011, 0.9083172720366367, 0.06163858333894556, 0.14276444823432247, -0.24183087477167728, 2.1473916282420014, 1.2534007307159707, -0.6942650652204457], \"yaxis\": \"y8\"}, {\"line\": {\"color\": \"rgba(128, 128, 128, 1.0)\", \"dash\": \"solid\", \"shape\": \"linear\", \"width\": 1.3}, \"marker\": {\"size\": 2, \"symbol\": \"circle\"}, \"mode\": \"markers\", \"name\": \"C\", \"text\": \"\", \"type\": \"scatter\", \"x\": [-1.1297880804810116, 0.8909558868026678, -2.4674677078075615, 1.4668865210388036, 0.052099141553544316, -0.5841535222972922, -0.14407291051779864, -0.24146519801740043, 1.4089883014072808, 0.1698379991335825, 1.6725669615460745, -1.1871638982625938, 0.2500685582684525, -0.9075758091792991, 1.5794840063606157, -0.7154693249447941, 0.6710461976159192, -1.3138617132611679, -0.08715365767208498, 0.6817437501923307, 0.15963287076171498, -1.4284907475179551, 0.7623270744081148, 0.4827609399382711, 1.143843875728672, 0.732765341739219, 0.4769246929115, 0.5207809911732241, -0.6943426027267315, 2.527205168129635, 0.3110536263670157, -1.586564155923283, 0.2325845898667768, 0.14942062616814708, -0.7557765018970091, 2.46078286011467, -1.5864772813918784, 1.0868295448269554, 0.29730223763112135, 0.9330617358105876, 1.3209758315752207, -0.7257746662786452, 0.6223215905979733, 0.9545355565512028, -0.5651734999398752, -0.8323343740748262, -1.529421653815974, -0.5637293068459186, 1.3747593870565984, 1.4629258937978542, -1.2437710994346372, 1.1528387183185471, -0.7646733650685583, -0.12980482941361793, 0.8460466553233116, -0.13679977098484716, 1.3171725454303962, -0.8524969706000572, -0.7896774042673815, 0.30161696428573564, -1.1882742305542269, -0.15889754303574397, 0.8698986288529447, -0.9964530436083726, 0.4100165481373722, -0.4128453281010694, 1.4406077576302683, 1.6011651067675756, -3.3597780905476684, -1.3769568088285187, 1.2177632525884357, -0.14126371111306843, -0.3721476282966241, -1.96760916128469, 0.5213989068129281, -1.453423528558044, 0.3946037066457429, 0.8585996691985393, 0.9237916704788649, 0.3137707208702481, 0.9861633281572418, 0.8940523501948491, 1.300507308282935, 0.769636332141642, 0.599535573702335, -1.8921465187792665, 0.7351759459424257, -0.5245244935897746, 0.41125483420132225, -0.4747146631281052, 0.5430255920252014, -0.8615301256799931, 0.685280739134256, 1.3824752940241554, 0.4691203694022939, 0.2969347029971788, 0.17527373402249957, -0.2664598834122682, -1.0603267101266096, 1.2585999049100745], \"xaxis\": \"x9\", \"y\": [0.17421691582521348, -1.3347870970348765, 0.19504801893508936, 0.615815324125793, 0.6464796590643166, -1.2068024562353317, 0.38785425113995237, 0.3867856556905653, -1.405610785135054, -0.1892805252738717, 0.6760959263848506, -1.9456589651411498, 0.38955785478560134, -0.6177996899408054, -1.8980841458045237, 0.39284227622709483, -0.6028288304777356, 0.15561011597974259, -0.9097505263185375, 0.10959473983493624, -2.2131492836547944, 0.2849727324935136, 0.5144470224888781, 1.7699054422752936, -1.2221741218912672, -1.1744078158919593, 1.3533348672919525, 0.3163792249771611, 0.18174990785515674, 0.054938310415938864, 0.7421200543349438, -0.2346517886452845, -0.6736996536606434, 0.05069725900535534, -1.1456321818505664, -0.5068022698369427, -0.6021573471021463, -0.4607878221675053, -0.0884854645124853, -0.04590785081159762, -1.04763600849066, 0.4606902276536393, 0.10954696224308451, 0.4195693821222619, 1.1535006039214961, -1.1069206380103314, 2.536952794693768, 1.3456678564790383, -0.6003378912958559, -0.9873118391793111, 1.0482107314299267, 1.0789338031902587, -1.188572907090659, 0.5912059519542611, 0.4886531320977451, 2.610633032391518, -1.9065269745751732, 0.8438657058711421, 1.3468239960520911, -0.27865376477509574, 1.198666439892076, -2.7027033096357016, -0.6040637753642535, -1.1381004808640252, 2.0930970754102325, -0.45811192273251283, -0.3669911714827668, -1.8055184309290935, -0.7523499218822268, -0.5539626493287687, 0.4391348881854048, 0.8909540746565411, 1.1375065192661309, 1.3920337518067705, -0.5264114017543187, -0.4691501372827285, 1.0319870837912726, 1.0414077621890583, -0.4362361718080314, 0.6274721877903016, 0.7865082061275752, -0.09670930182764863, -0.9044446996214, -1.6422096544307065, -1.6191953641948122, -1.1499684045637386, 0.0901055296246791, 0.9323804971332048, -0.7382383878429699, -0.27683699976022613, 1.1145056005973129, 1.4770798899929896, 0.7773463083238665, -0.23723646306488114, -0.8341073764054127, 0.6154366027228294, -0.3293054058471099, 0.29654843988100393, -0.6242824345433385, 0.1525757905103892], \"yaxis\": \"y9\"}, {\"line\": {\"color\": \"rgba(128, 128, 128, 1.0)\", \"dash\": \"solid\", \"shape\": \"linear\", \"width\": 1.3}, \"marker\": {\"size\": 2, \"symbol\": \"circle\"}, \"mode\": \"markers\", \"name\": \"C\", \"text\": \"\", \"type\": \"scatter\", \"x\": [-0.12402007023132434, 0.16105615677002622, 0.023188958701885184, 1.3365766040123495, -1.524892413949562, -1.2841507820438276, 1.453386751286277, 0.18175721164363973, 0.319433640867433, -0.3839768199018055, -1.1032762054402279, -0.037550265782773054, 0.6526531412240898, 1.624937766501667, 1.3347744992777684, -0.34618031920085374, 1.789230219031507, 2.0815389133971967, 1.1552149582137499, 2.601022664007055, 0.7373289608257685, 0.9653657279013573, -0.7141811226367676, -1.5857012600671005, -0.9698880744594625, 1.0629314379178578, 0.3665188577639023, 1.8575226132892655, 0.2810123749569547, 1.0834506863250117, 1.5852384708343445, -1.0821690461594273, 0.45034497515428173, 0.16595132541359575, -0.2837809115954148, -0.5321305547195403, 0.42052444763312613, -0.8638272574567947, -0.1356330350490318, -0.2861953892593525, 0.2987680728920157, -0.7901164099395227, -0.07239267449567097, 0.14885628381591193, -0.15562696332212675, 1.421970514039125, -0.10009080252734245, -2.6887592763650754, 0.523307575152354, 1.839188917214292, -0.31767820041569567, 1.1392661859719995, 1.1126897470779902, -1.4431765471300466, -1.3226216565575393, 1.3061871872446182, -1.2695506775987795, -1.3531008486561023, -0.6190758570607968, -1.6607885320505178, 1.0267781939675455, 0.3332289719972668, 0.4680130394047356, 0.8889197448462989, -1.5825366658785764, -1.3291572534664713, 1.0765003834875582, 0.8441869284582593, -0.49514397185949505, 0.03929643743827132, -0.12982509182576335, 0.9563009984004562, 1.9202450190710358, 0.24483401982736028, 0.10525084048866817, 0.8816366460958016, 1.3465250686822723, -0.21035831042571124, -0.6113086931308005, -1.19868474947971, 0.15785117287865072, -1.031686073119976, 0.1391364456318884, 0.16690430657337105, -1.6588925821515055, 0.5213841464387718, -0.915816274620897, 1.1229320056801422, 0.08918793278246169, -0.379028223962969, -1.591593730810941, 0.5208149612876775, 1.325421610769011, 0.9083172720366367, 0.06163858333894556, 0.14276444823432247, -0.24183087477167728, 2.1473916282420014, 1.2534007307159707, -0.6942650652204457], \"xaxis\": \"x10\", \"y\": [0.17421691582521348, -1.3347870970348765, 0.19504801893508936, 0.615815324125793, 0.6464796590643166, -1.2068024562353317, 0.38785425113995237, 0.3867856556905653, -1.405610785135054, -0.1892805252738717, 0.6760959263848506, -1.9456589651411498, 0.38955785478560134, -0.6177996899408054, -1.8980841458045237, 0.39284227622709483, -0.6028288304777356, 0.15561011597974259, -0.9097505263185375, 0.10959473983493624, -2.2131492836547944, 0.2849727324935136, 0.5144470224888781, 1.7699054422752936, -1.2221741218912672, -1.1744078158919593, 1.3533348672919525, 0.3163792249771611, 0.18174990785515674, 0.054938310415938864, 0.7421200543349438, -0.2346517886452845, -0.6736996536606434, 0.05069725900535534, -1.1456321818505664, -0.5068022698369427, -0.6021573471021463, -0.4607878221675053, -0.0884854645124853, -0.04590785081159762, -1.04763600849066, 0.4606902276536393, 0.10954696224308451, 0.4195693821222619, 1.1535006039214961, -1.1069206380103314, 2.536952794693768, 1.3456678564790383, -0.6003378912958559, -0.9873118391793111, 1.0482107314299267, 1.0789338031902587, -1.188572907090659, 0.5912059519542611, 0.4886531320977451, 2.610633032391518, -1.9065269745751732, 0.8438657058711421, 1.3468239960520911, -0.27865376477509574, 1.198666439892076, -2.7027033096357016, -0.6040637753642535, -1.1381004808640252, 2.0930970754102325, -0.45811192273251283, -0.3669911714827668, -1.8055184309290935, -0.7523499218822268, -0.5539626493287687, 0.4391348881854048, 0.8909540746565411, 1.1375065192661309, 1.3920337518067705, -0.5264114017543187, -0.4691501372827285, 1.0319870837912726, 1.0414077621890583, -0.4362361718080314, 0.6274721877903016, 0.7865082061275752, -0.09670930182764863, -0.9044446996214, -1.6422096544307065, -1.6191953641948122, -1.1499684045637386, 0.0901055296246791, 0.9323804971332048, -0.7382383878429699, -0.27683699976022613, 1.1145056005973129, 1.4770798899929896, 0.7773463083238665, -0.23723646306488114, -0.8341073764054127, 0.6154366027228294, -0.3293054058471099, 0.29654843988100393, -0.6242824345433385, 0.1525757905103892], \"yaxis\": \"y10\"}, {\"histfunc\": \"count\", \"histnorm\": \"\", \"marker\": {\"color\": \"rgba(50, 171, 96, 1.0)\", \"line\": {\"color\": \"#4D5663\", \"width\": 1.3}}, \"name\": \"C\", \"nbinsx\": 10, \"opacity\": 0.8, \"orientation\": \"v\", \"type\": \"histogram\", \"x\": [0.17421691582521348, -1.3347870970348765, 0.19504801893508936, 0.615815324125793, 0.6464796590643166, -1.2068024562353317, 0.38785425113995237, 0.3867856556905653, -1.405610785135054, -0.1892805252738717, 0.6760959263848506, -1.9456589651411498, 0.38955785478560134, -0.6177996899408054, -1.8980841458045237, 0.39284227622709483, -0.6028288304777356, 0.15561011597974259, -0.9097505263185375, 0.10959473983493624, -2.2131492836547944, 0.2849727324935136, 0.5144470224888781, 1.7699054422752936, -1.2221741218912672, -1.1744078158919593, 1.3533348672919525, 0.3163792249771611, 0.18174990785515674, 0.054938310415938864, 0.7421200543349438, -0.2346517886452845, -0.6736996536606434, 0.05069725900535534, -1.1456321818505664, -0.5068022698369427, -0.6021573471021463, -0.4607878221675053, -0.0884854645124853, -0.04590785081159762, -1.04763600849066, 0.4606902276536393, 0.10954696224308451, 0.4195693821222619, 1.1535006039214961, -1.1069206380103314, 2.536952794693768, 1.3456678564790383, -0.6003378912958559, -0.9873118391793111, 1.0482107314299267, 1.0789338031902587, -1.188572907090659, 0.5912059519542611, 0.4886531320977451, 2.610633032391518, -1.9065269745751732, 0.8438657058711421, 1.3468239960520911, -0.27865376477509574, 1.198666439892076, -2.7027033096357016, -0.6040637753642535, -1.1381004808640252, 2.0930970754102325, -0.45811192273251283, -0.3669911714827668, -1.8055184309290935, -0.7523499218822268, -0.5539626493287687, 0.4391348881854048, 0.8909540746565411, 1.1375065192661309, 1.3920337518067705, -0.5264114017543187, -0.4691501372827285, 1.0319870837912726, 1.0414077621890583, -0.4362361718080314, 0.6274721877903016, 0.7865082061275752, -0.09670930182764863, -0.9044446996214, -1.6422096544307065, -1.6191953641948122, -1.1499684045637386, 0.0901055296246791, 0.9323804971332048, -0.7382383878429699, -0.27683699976022613, 1.1145056005973129, 1.4770798899929896, 0.7773463083238665, -0.23723646306488114, -0.8341073764054127, 0.6154366027228294, -0.3293054058471099, 0.29654843988100393, -0.6242824345433385, 0.1525757905103892], \"xaxis\": \"x11\", \"yaxis\": \"y11\"}, {\"line\": {\"color\": \"rgba(128, 128, 128, 1.0)\", \"dash\": \"solid\", \"shape\": \"linear\", \"width\": 1.3}, \"marker\": {\"size\": 2, \"symbol\": \"circle\"}, \"mode\": \"markers\", \"name\": \"C\", \"text\": \"\", \"type\": \"scatter\", \"x\": [-0.8569379998492204, 0.3532381244547541, -1.473884890795063, -0.5154168667247857, 1.384367533164876, -1.0078285020232705, 1.3841984728026389, 0.02451307765962415, -0.8191583201930199, -0.3527467184075583, -0.5479071878495365, -0.7061249197941388, -0.6429745384859913, 2.1409246356568, 1.580367537531254, 1.28789146918967, 0.8925704640905009, -1.375211578765735, 0.34144433525589074, -0.33643482803724456, 0.29131578426361, 0.5015164804221907, -0.980371957635985, -1.1774548472628246, -0.704026124840796, -0.5122375525583044, 1.0810890088158502, -0.9202248736663858, 0.704686791702668, -0.43547712553175677, 1.5067129918291322, -0.5089658042157246, 0.4454282231709372, -0.1289198337265707, -1.627797981071354, 0.8336237578443855, -0.4560444056597544, 0.9030740144813988, 1.5834770434491787, -0.9358339145730034, 0.7969183032286896, -0.5781513686655708, 0.7483921327775419, 1.023538001015689, 0.1262765942004014, -0.9501603438666566, -1.7679991209710049, 1.0226092349541769, -1.802197151036096, -1.198230518565695, -0.7636118617700086, -1.5543218547764062, 0.04544863175983621, -0.7805809502825641, -1.0353788900860592, -0.9117313916666553, -0.11175866922647903, -1.1595247269140836, -0.0012569538153414971, 0.2467110928867088, -0.3946446207211395, 1.9769602103480681, 0.3269074981419036, 0.1316046053135009, -0.6991559934795253, 0.33254860539219205, -1.7367083956011016, -0.747728238046683, 0.8456389595170039, -0.14768073421492472, -0.4444542150777699, -0.865389102851343, 1.4519493642484027, 1.220400266953391, 0.7895995419799212, 1.239485208665572, -0.4974637808296835, 1.345917602782018, 0.08359953601129336, -0.9115061899739435, -1.4037553998760366, 1.2643586669710747, -0.4462216428031995, 0.5412051608036181, 0.6532594265282092, 0.3028620321630151, -0.2802946889621197, 1.8561149130878898, 0.088919364678717, 0.9336450024822341, -1.1374900867431545, 1.665870940958986, 0.46271435412855166, -2.3740179185676045, 0.16077583669244555, 1.4740402690069374, 0.8935307387081979, -0.49889651737261603, -0.6568088731764845, 0.9751976616519583], \"xaxis\": \"x12\", \"y\": [0.17421691582521348, -1.3347870970348765, 0.19504801893508936, 0.615815324125793, 0.6464796590643166, -1.2068024562353317, 0.38785425113995237, 0.3867856556905653, -1.405610785135054, -0.1892805252738717, 0.6760959263848506, -1.9456589651411498, 0.38955785478560134, -0.6177996899408054, -1.8980841458045237, 0.39284227622709483, -0.6028288304777356, 0.15561011597974259, -0.9097505263185375, 0.10959473983493624, -2.2131492836547944, 0.2849727324935136, 0.5144470224888781, 1.7699054422752936, -1.2221741218912672, -1.1744078158919593, 1.3533348672919525, 0.3163792249771611, 0.18174990785515674, 0.054938310415938864, 0.7421200543349438, -0.2346517886452845, -0.6736996536606434, 0.05069725900535534, -1.1456321818505664, -0.5068022698369427, -0.6021573471021463, -0.4607878221675053, -0.0884854645124853, -0.04590785081159762, -1.04763600849066, 0.4606902276536393, 0.10954696224308451, 0.4195693821222619, 1.1535006039214961, -1.1069206380103314, 2.536952794693768, 1.3456678564790383, -0.6003378912958559, -0.9873118391793111, 1.0482107314299267, 1.0789338031902587, -1.188572907090659, 0.5912059519542611, 0.4886531320977451, 2.610633032391518, -1.9065269745751732, 0.8438657058711421, 1.3468239960520911, -0.27865376477509574, 1.198666439892076, -2.7027033096357016, -0.6040637753642535, -1.1381004808640252, 2.0930970754102325, -0.45811192273251283, -0.3669911714827668, -1.8055184309290935, -0.7523499218822268, -0.5539626493287687, 0.4391348881854048, 0.8909540746565411, 1.1375065192661309, 1.3920337518067705, -0.5264114017543187, -0.4691501372827285, 1.0319870837912726, 1.0414077621890583, -0.4362361718080314, 0.6274721877903016, 0.7865082061275752, -0.09670930182764863, -0.9044446996214, -1.6422096544307065, -1.6191953641948122, -1.1499684045637386, 0.0901055296246791, 0.9323804971332048, -0.7382383878429699, -0.27683699976022613, 1.1145056005973129, 1.4770798899929896, 0.7773463083238665, -0.23723646306488114, -0.8341073764054127, 0.6154366027228294, -0.3293054058471099, 0.29654843988100393, -0.6242824345433385, 0.1525757905103892], \"yaxis\": \"y12\"}, {\"line\": {\"color\": \"rgba(128, 128, 128, 1.0)\", \"dash\": \"solid\", \"shape\": \"linear\", \"width\": 1.3}, \"marker\": {\"size\": 2, \"symbol\": \"circle\"}, \"mode\": \"markers\", \"name\": \"D\", \"text\": \"\", \"type\": \"scatter\", \"x\": [-1.1297880804810116, 0.8909558868026678, -2.4674677078075615, 1.4668865210388036, 0.052099141553544316, -0.5841535222972922, -0.14407291051779864, -0.24146519801740043, 1.4089883014072808, 0.1698379991335825, 1.6725669615460745, -1.1871638982625938, 0.2500685582684525, -0.9075758091792991, 1.5794840063606157, -0.7154693249447941, 0.6710461976159192, -1.3138617132611679, -0.08715365767208498, 0.6817437501923307, 0.15963287076171498, -1.4284907475179551, 0.7623270744081148, 0.4827609399382711, 1.143843875728672, 0.732765341739219, 0.4769246929115, 0.5207809911732241, -0.6943426027267315, 2.527205168129635, 0.3110536263670157, -1.586564155923283, 0.2325845898667768, 0.14942062616814708, -0.7557765018970091, 2.46078286011467, -1.5864772813918784, 1.0868295448269554, 0.29730223763112135, 0.9330617358105876, 1.3209758315752207, -0.7257746662786452, 0.6223215905979733, 0.9545355565512028, -0.5651734999398752, -0.8323343740748262, -1.529421653815974, -0.5637293068459186, 1.3747593870565984, 1.4629258937978542, -1.2437710994346372, 1.1528387183185471, -0.7646733650685583, -0.12980482941361793, 0.8460466553233116, -0.13679977098484716, 1.3171725454303962, -0.8524969706000572, -0.7896774042673815, 0.30161696428573564, -1.1882742305542269, -0.15889754303574397, 0.8698986288529447, -0.9964530436083726, 0.4100165481373722, -0.4128453281010694, 1.4406077576302683, 1.6011651067675756, -3.3597780905476684, -1.3769568088285187, 1.2177632525884357, -0.14126371111306843, -0.3721476282966241, -1.96760916128469, 0.5213989068129281, -1.453423528558044, 0.3946037066457429, 0.8585996691985393, 0.9237916704788649, 0.3137707208702481, 0.9861633281572418, 0.8940523501948491, 1.300507308282935, 0.769636332141642, 0.599535573702335, -1.8921465187792665, 0.7351759459424257, -0.5245244935897746, 0.41125483420132225, -0.4747146631281052, 0.5430255920252014, -0.8615301256799931, 0.685280739134256, 1.3824752940241554, 0.4691203694022939, 0.2969347029971788, 0.17527373402249957, -0.2664598834122682, -1.0603267101266096, 1.2585999049100745], \"xaxis\": \"x13\", \"y\": [-0.8569379998492204, 0.3532381244547541, -1.473884890795063, -0.5154168667247857, 1.384367533164876, -1.0078285020232705, 1.3841984728026389, 0.02451307765962415, -0.8191583201930199, -0.3527467184075583, -0.5479071878495365, -0.7061249197941388, -0.6429745384859913, 2.1409246356568, 1.580367537531254, 1.28789146918967, 0.8925704640905009, -1.375211578765735, 0.34144433525589074, -0.33643482803724456, 0.29131578426361, 0.5015164804221907, -0.980371957635985, -1.1774548472628246, -0.704026124840796, -0.5122375525583044, 1.0810890088158502, -0.9202248736663858, 0.704686791702668, -0.43547712553175677, 1.5067129918291322, -0.5089658042157246, 0.4454282231709372, -0.1289198337265707, -1.627797981071354, 0.8336237578443855, -0.4560444056597544, 0.9030740144813988, 1.5834770434491787, -0.9358339145730034, 0.7969183032286896, -0.5781513686655708, 0.7483921327775419, 1.023538001015689, 0.1262765942004014, -0.9501603438666566, -1.7679991209710049, 1.0226092349541769, -1.802197151036096, -1.198230518565695, -0.7636118617700086, -1.5543218547764062, 0.04544863175983621, -0.7805809502825641, -1.0353788900860592, -0.9117313916666553, -0.11175866922647903, -1.1595247269140836, -0.0012569538153414971, 0.2467110928867088, -0.3946446207211395, 1.9769602103480681, 0.3269074981419036, 0.1316046053135009, -0.6991559934795253, 0.33254860539219205, -1.7367083956011016, -0.747728238046683, 0.8456389595170039, -0.14768073421492472, -0.4444542150777699, -0.865389102851343, 1.4519493642484027, 1.220400266953391, 0.7895995419799212, 1.239485208665572, -0.4974637808296835, 1.345917602782018, 0.08359953601129336, -0.9115061899739435, -1.4037553998760366, 1.2643586669710747, -0.4462216428031995, 0.5412051608036181, 0.6532594265282092, 0.3028620321630151, -0.2802946889621197, 1.8561149130878898, 0.088919364678717, 0.9336450024822341, -1.1374900867431545, 1.665870940958986, 0.46271435412855166, -2.3740179185676045, 0.16077583669244555, 1.4740402690069374, 0.8935307387081979, -0.49889651737261603, -0.6568088731764845, 0.9751976616519583], \"yaxis\": \"y13\"}, {\"line\": {\"color\": \"rgba(128, 128, 128, 1.0)\", \"dash\": \"solid\", \"shape\": \"linear\", \"width\": 1.3}, \"marker\": {\"size\": 2, \"symbol\": \"circle\"}, \"mode\": \"markers\", \"name\": \"D\", \"text\": \"\", \"type\": \"scatter\", \"x\": [-0.12402007023132434, 0.16105615677002622, 0.023188958701885184, 1.3365766040123495, -1.524892413949562, -1.2841507820438276, 1.453386751286277, 0.18175721164363973, 0.319433640867433, -0.3839768199018055, -1.1032762054402279, -0.037550265782773054, 0.6526531412240898, 1.624937766501667, 1.3347744992777684, -0.34618031920085374, 1.789230219031507, 2.0815389133971967, 1.1552149582137499, 2.601022664007055, 0.7373289608257685, 0.9653657279013573, -0.7141811226367676, -1.5857012600671005, -0.9698880744594625, 1.0629314379178578, 0.3665188577639023, 1.8575226132892655, 0.2810123749569547, 1.0834506863250117, 1.5852384708343445, -1.0821690461594273, 0.45034497515428173, 0.16595132541359575, -0.2837809115954148, -0.5321305547195403, 0.42052444763312613, -0.8638272574567947, -0.1356330350490318, -0.2861953892593525, 0.2987680728920157, -0.7901164099395227, -0.07239267449567097, 0.14885628381591193, -0.15562696332212675, 1.421970514039125, -0.10009080252734245, -2.6887592763650754, 0.523307575152354, 1.839188917214292, -0.31767820041569567, 1.1392661859719995, 1.1126897470779902, -1.4431765471300466, -1.3226216565575393, 1.3061871872446182, -1.2695506775987795, -1.3531008486561023, -0.6190758570607968, -1.6607885320505178, 1.0267781939675455, 0.3332289719972668, 0.4680130394047356, 0.8889197448462989, -1.5825366658785764, -1.3291572534664713, 1.0765003834875582, 0.8441869284582593, -0.49514397185949505, 0.03929643743827132, -0.12982509182576335, 0.9563009984004562, 1.9202450190710358, 0.24483401982736028, 0.10525084048866817, 0.8816366460958016, 1.3465250686822723, -0.21035831042571124, -0.6113086931308005, -1.19868474947971, 0.15785117287865072, -1.031686073119976, 0.1391364456318884, 0.16690430657337105, -1.6588925821515055, 0.5213841464387718, -0.915816274620897, 1.1229320056801422, 0.08918793278246169, -0.379028223962969, -1.591593730810941, 0.5208149612876775, 1.325421610769011, 0.9083172720366367, 0.06163858333894556, 0.14276444823432247, -0.24183087477167728, 2.1473916282420014, 1.2534007307159707, -0.6942650652204457], \"xaxis\": \"x14\", \"y\": [-0.8569379998492204, 0.3532381244547541, -1.473884890795063, -0.5154168667247857, 1.384367533164876, -1.0078285020232705, 1.3841984728026389, 0.02451307765962415, -0.8191583201930199, -0.3527467184075583, -0.5479071878495365, -0.7061249197941388, -0.6429745384859913, 2.1409246356568, 1.580367537531254, 1.28789146918967, 0.8925704640905009, -1.375211578765735, 0.34144433525589074, -0.33643482803724456, 0.29131578426361, 0.5015164804221907, -0.980371957635985, -1.1774548472628246, -0.704026124840796, -0.5122375525583044, 1.0810890088158502, -0.9202248736663858, 0.704686791702668, -0.43547712553175677, 1.5067129918291322, -0.5089658042157246, 0.4454282231709372, -0.1289198337265707, -1.627797981071354, 0.8336237578443855, -0.4560444056597544, 0.9030740144813988, 1.5834770434491787, -0.9358339145730034, 0.7969183032286896, -0.5781513686655708, 0.7483921327775419, 1.023538001015689, 0.1262765942004014, -0.9501603438666566, -1.7679991209710049, 1.0226092349541769, -1.802197151036096, -1.198230518565695, -0.7636118617700086, -1.5543218547764062, 0.04544863175983621, -0.7805809502825641, -1.0353788900860592, -0.9117313916666553, -0.11175866922647903, -1.1595247269140836, -0.0012569538153414971, 0.2467110928867088, -0.3946446207211395, 1.9769602103480681, 0.3269074981419036, 0.1316046053135009, -0.6991559934795253, 0.33254860539219205, -1.7367083956011016, -0.747728238046683, 0.8456389595170039, -0.14768073421492472, -0.4444542150777699, -0.865389102851343, 1.4519493642484027, 1.220400266953391, 0.7895995419799212, 1.239485208665572, -0.4974637808296835, 1.345917602782018, 0.08359953601129336, -0.9115061899739435, -1.4037553998760366, 1.2643586669710747, -0.4462216428031995, 0.5412051608036181, 0.6532594265282092, 0.3028620321630151, -0.2802946889621197, 1.8561149130878898, 0.088919364678717, 0.9336450024822341, -1.1374900867431545, 1.665870940958986, 0.46271435412855166, -2.3740179185676045, 0.16077583669244555, 1.4740402690069374, 0.8935307387081979, -0.49889651737261603, -0.6568088731764845, 0.9751976616519583], \"yaxis\": \"y14\"}, {\"line\": {\"color\": \"rgba(128, 128, 128, 1.0)\", \"dash\": \"solid\", \"shape\": \"linear\", \"width\": 1.3}, \"marker\": {\"size\": 2, \"symbol\": \"circle\"}, \"mode\": \"markers\", \"name\": \"D\", \"text\": \"\", \"type\": \"scatter\", \"x\": [0.17421691582521348, -1.3347870970348765, 0.19504801893508936, 0.615815324125793, 0.6464796590643166, -1.2068024562353317, 0.38785425113995237, 0.3867856556905653, -1.405610785135054, -0.1892805252738717, 0.6760959263848506, -1.9456589651411498, 0.38955785478560134, -0.6177996899408054, -1.8980841458045237, 0.39284227622709483, -0.6028288304777356, 0.15561011597974259, -0.9097505263185375, 0.10959473983493624, -2.2131492836547944, 0.2849727324935136, 0.5144470224888781, 1.7699054422752936, -1.2221741218912672, -1.1744078158919593, 1.3533348672919525, 0.3163792249771611, 0.18174990785515674, 0.054938310415938864, 0.7421200543349438, -0.2346517886452845, -0.6736996536606434, 0.05069725900535534, -1.1456321818505664, -0.5068022698369427, -0.6021573471021463, -0.4607878221675053, -0.0884854645124853, -0.04590785081159762, -1.04763600849066, 0.4606902276536393, 0.10954696224308451, 0.4195693821222619, 1.1535006039214961, -1.1069206380103314, 2.536952794693768, 1.3456678564790383, -0.6003378912958559, -0.9873118391793111, 1.0482107314299267, 1.0789338031902587, -1.188572907090659, 0.5912059519542611, 0.4886531320977451, 2.610633032391518, -1.9065269745751732, 0.8438657058711421, 1.3468239960520911, -0.27865376477509574, 1.198666439892076, -2.7027033096357016, -0.6040637753642535, -1.1381004808640252, 2.0930970754102325, -0.45811192273251283, -0.3669911714827668, -1.8055184309290935, -0.7523499218822268, -0.5539626493287687, 0.4391348881854048, 0.8909540746565411, 1.1375065192661309, 1.3920337518067705, -0.5264114017543187, -0.4691501372827285, 1.0319870837912726, 1.0414077621890583, -0.4362361718080314, 0.6274721877903016, 0.7865082061275752, -0.09670930182764863, -0.9044446996214, -1.6422096544307065, -1.6191953641948122, -1.1499684045637386, 0.0901055296246791, 0.9323804971332048, -0.7382383878429699, -0.27683699976022613, 1.1145056005973129, 1.4770798899929896, 0.7773463083238665, -0.23723646306488114, -0.8341073764054127, 0.6154366027228294, -0.3293054058471099, 0.29654843988100393, -0.6242824345433385, 0.1525757905103892], \"xaxis\": \"x15\", \"y\": [-0.8569379998492204, 0.3532381244547541, -1.473884890795063, -0.5154168667247857, 1.384367533164876, -1.0078285020232705, 1.3841984728026389, 0.02451307765962415, -0.8191583201930199, -0.3527467184075583, -0.5479071878495365, -0.7061249197941388, -0.6429745384859913, 2.1409246356568, 1.580367537531254, 1.28789146918967, 0.8925704640905009, -1.375211578765735, 0.34144433525589074, -0.33643482803724456, 0.29131578426361, 0.5015164804221907, -0.980371957635985, -1.1774548472628246, -0.704026124840796, -0.5122375525583044, 1.0810890088158502, -0.9202248736663858, 0.704686791702668, -0.43547712553175677, 1.5067129918291322, -0.5089658042157246, 0.4454282231709372, -0.1289198337265707, -1.627797981071354, 0.8336237578443855, -0.4560444056597544, 0.9030740144813988, 1.5834770434491787, -0.9358339145730034, 0.7969183032286896, -0.5781513686655708, 0.7483921327775419, 1.023538001015689, 0.1262765942004014, -0.9501603438666566, -1.7679991209710049, 1.0226092349541769, -1.802197151036096, -1.198230518565695, -0.7636118617700086, -1.5543218547764062, 0.04544863175983621, -0.7805809502825641, -1.0353788900860592, -0.9117313916666553, -0.11175866922647903, -1.1595247269140836, -0.0012569538153414971, 0.2467110928867088, -0.3946446207211395, 1.9769602103480681, 0.3269074981419036, 0.1316046053135009, -0.6991559934795253, 0.33254860539219205, -1.7367083956011016, -0.747728238046683, 0.8456389595170039, -0.14768073421492472, -0.4444542150777699, -0.865389102851343, 1.4519493642484027, 1.220400266953391, 0.7895995419799212, 1.239485208665572, -0.4974637808296835, 1.345917602782018, 0.08359953601129336, -0.9115061899739435, -1.4037553998760366, 1.2643586669710747, -0.4462216428031995, 0.5412051608036181, 0.6532594265282092, 0.3028620321630151, -0.2802946889621197, 1.8561149130878898, 0.088919364678717, 0.9336450024822341, -1.1374900867431545, 1.665870940958986, 0.46271435412855166, -2.3740179185676045, 0.16077583669244555, 1.4740402690069374, 0.8935307387081979, -0.49889651737261603, -0.6568088731764845, 0.9751976616519583], \"yaxis\": \"y15\"}, {\"histfunc\": \"count\", \"histnorm\": \"\", \"marker\": {\"color\": \"rgba(128, 0, 128, 1.0)\", \"line\": {\"color\": \"#4D5663\", \"width\": 1.3}}, \"name\": \"D\", \"nbinsx\": 10, \"opacity\": 0.8, \"orientation\": \"v\", \"type\": \"histogram\", \"x\": [-0.8569379998492204, 0.3532381244547541, -1.473884890795063, -0.5154168667247857, 1.384367533164876, -1.0078285020232705, 1.3841984728026389, 0.02451307765962415, -0.8191583201930199, -0.3527467184075583, -0.5479071878495365, -0.7061249197941388, -0.6429745384859913, 2.1409246356568, 1.580367537531254, 1.28789146918967, 0.8925704640905009, -1.375211578765735, 0.34144433525589074, -0.33643482803724456, 0.29131578426361, 0.5015164804221907, -0.980371957635985, -1.1774548472628246, -0.704026124840796, -0.5122375525583044, 1.0810890088158502, -0.9202248736663858, 0.704686791702668, -0.43547712553175677, 1.5067129918291322, -0.5089658042157246, 0.4454282231709372, -0.1289198337265707, -1.627797981071354, 0.8336237578443855, -0.4560444056597544, 0.9030740144813988, 1.5834770434491787, -0.9358339145730034, 0.7969183032286896, -0.5781513686655708, 0.7483921327775419, 1.023538001015689, 0.1262765942004014, -0.9501603438666566, -1.7679991209710049, 1.0226092349541769, -1.802197151036096, -1.198230518565695, -0.7636118617700086, -1.5543218547764062, 0.04544863175983621, -0.7805809502825641, -1.0353788900860592, -0.9117313916666553, -0.11175866922647903, -1.1595247269140836, -0.0012569538153414971, 0.2467110928867088, -0.3946446207211395, 1.9769602103480681, 0.3269074981419036, 0.1316046053135009, -0.6991559934795253, 0.33254860539219205, -1.7367083956011016, -0.747728238046683, 0.8456389595170039, -0.14768073421492472, -0.4444542150777699, -0.865389102851343, 1.4519493642484027, 1.220400266953391, 0.7895995419799212, 1.239485208665572, -0.4974637808296835, 1.345917602782018, 0.08359953601129336, -0.9115061899739435, -1.4037553998760366, 1.2643586669710747, -0.4462216428031995, 0.5412051608036181, 0.6532594265282092, 0.3028620321630151, -0.2802946889621197, 1.8561149130878898, 0.088919364678717, 0.9336450024822341, -1.1374900867431545, 1.665870940958986, 0.46271435412855166, -2.3740179185676045, 0.16077583669244555, 1.4740402690069374, 0.8935307387081979, -0.49889651737261603, -0.6568088731764845, 0.9751976616519583], \"xaxis\": \"x16\", \"yaxis\": \"y16\"}],\n",
       "                        {\"bargap\": 0.02, \"legend\": {\"bgcolor\": \"#F5F6F9\", \"font\": {\"color\": \"#4D5663\"}}, \"paper_bgcolor\": \"#F5F6F9\", \"plot_bgcolor\": \"#F5F6F9\", \"showlegend\": false, \"template\": {\"data\": {\"bar\": [{\"error_x\": {\"color\": \"#2a3f5f\"}, \"error_y\": {\"color\": \"#2a3f5f\"}, \"marker\": {\"line\": {\"color\": \"#E5ECF6\", \"width\": 0.5}}, \"type\": \"bar\"}], \"barpolar\": [{\"marker\": {\"line\": {\"color\": \"#E5ECF6\", \"width\": 0.5}}, \"type\": \"barpolar\"}], \"carpet\": [{\"aaxis\": {\"endlinecolor\": \"#2a3f5f\", \"gridcolor\": \"white\", \"linecolor\": \"white\", \"minorgridcolor\": \"white\", \"startlinecolor\": \"#2a3f5f\"}, \"baxis\": {\"endlinecolor\": \"#2a3f5f\", \"gridcolor\": \"white\", \"linecolor\": \"white\", \"minorgridcolor\": \"white\", \"startlinecolor\": \"#2a3f5f\"}, \"type\": \"carpet\"}], \"choropleth\": [{\"colorbar\": {\"outlinewidth\": 0, \"ticks\": \"\"}, \"type\": \"choropleth\"}], \"contour\": [{\"colorbar\": {\"outlinewidth\": 0, \"ticks\": \"\"}, \"colorscale\": [[0.0, \"#0d0887\"], [0.1111111111111111, \"#46039f\"], [0.2222222222222222, \"#7201a8\"], [0.3333333333333333, \"#9c179e\"], [0.4444444444444444, \"#bd3786\"], [0.5555555555555556, \"#d8576b\"], [0.6666666666666666, \"#ed7953\"], [0.7777777777777778, \"#fb9f3a\"], [0.8888888888888888, \"#fdca26\"], [1.0, \"#f0f921\"]], \"type\": \"contour\"}], \"contourcarpet\": [{\"colorbar\": {\"outlinewidth\": 0, \"ticks\": \"\"}, \"type\": \"contourcarpet\"}], \"heatmap\": [{\"colorbar\": {\"outlinewidth\": 0, \"ticks\": \"\"}, \"colorscale\": [[0.0, \"#0d0887\"], [0.1111111111111111, \"#46039f\"], [0.2222222222222222, \"#7201a8\"], [0.3333333333333333, \"#9c179e\"], [0.4444444444444444, \"#bd3786\"], [0.5555555555555556, \"#d8576b\"], [0.6666666666666666, \"#ed7953\"], [0.7777777777777778, \"#fb9f3a\"], [0.8888888888888888, \"#fdca26\"], [1.0, \"#f0f921\"]], \"type\": \"heatmap\"}], \"heatmapgl\": [{\"colorbar\": {\"outlinewidth\": 0, \"ticks\": \"\"}, \"colorscale\": [[0.0, \"#0d0887\"], [0.1111111111111111, \"#46039f\"], [0.2222222222222222, \"#7201a8\"], [0.3333333333333333, \"#9c179e\"], [0.4444444444444444, \"#bd3786\"], [0.5555555555555556, \"#d8576b\"], [0.6666666666666666, \"#ed7953\"], [0.7777777777777778, \"#fb9f3a\"], [0.8888888888888888, \"#fdca26\"], [1.0, \"#f0f921\"]], \"type\": \"heatmapgl\"}], \"histogram\": [{\"marker\": {\"colorbar\": {\"outlinewidth\": 0, \"ticks\": \"\"}}, \"type\": \"histogram\"}], \"histogram2d\": [{\"colorbar\": {\"outlinewidth\": 0, \"ticks\": \"\"}, \"colorscale\": [[0.0, \"#0d0887\"], [0.1111111111111111, \"#46039f\"], [0.2222222222222222, \"#7201a8\"], [0.3333333333333333, \"#9c179e\"], [0.4444444444444444, \"#bd3786\"], [0.5555555555555556, \"#d8576b\"], [0.6666666666666666, \"#ed7953\"], [0.7777777777777778, \"#fb9f3a\"], [0.8888888888888888, \"#fdca26\"], [1.0, \"#f0f921\"]], \"type\": \"histogram2d\"}], \"histogram2dcontour\": [{\"colorbar\": {\"outlinewidth\": 0, \"ticks\": \"\"}, \"colorscale\": [[0.0, \"#0d0887\"], [0.1111111111111111, \"#46039f\"], [0.2222222222222222, \"#7201a8\"], [0.3333333333333333, \"#9c179e\"], [0.4444444444444444, \"#bd3786\"], [0.5555555555555556, \"#d8576b\"], [0.6666666666666666, \"#ed7953\"], [0.7777777777777778, \"#fb9f3a\"], [0.8888888888888888, \"#fdca26\"], [1.0, \"#f0f921\"]], \"type\": \"histogram2dcontour\"}], \"mesh3d\": [{\"colorbar\": {\"outlinewidth\": 0, \"ticks\": \"\"}, \"type\": \"mesh3d\"}], \"parcoords\": [{\"line\": {\"colorbar\": {\"outlinewidth\": 0, \"ticks\": \"\"}}, \"type\": \"parcoords\"}], \"pie\": [{\"automargin\": true, \"type\": \"pie\"}], \"scatter\": [{\"marker\": {\"colorbar\": {\"outlinewidth\": 0, \"ticks\": \"\"}}, \"type\": \"scatter\"}], \"scatter3d\": [{\"line\": {\"colorbar\": {\"outlinewidth\": 0, \"ticks\": \"\"}}, \"marker\": {\"colorbar\": {\"outlinewidth\": 0, \"ticks\": \"\"}}, \"type\": \"scatter3d\"}], \"scattercarpet\": [{\"marker\": {\"colorbar\": {\"outlinewidth\": 0, \"ticks\": \"\"}}, \"type\": \"scattercarpet\"}], \"scattergeo\": [{\"marker\": {\"colorbar\": {\"outlinewidth\": 0, \"ticks\": \"\"}}, \"type\": \"scattergeo\"}], \"scattergl\": [{\"marker\": {\"colorbar\": {\"outlinewidth\": 0, \"ticks\": \"\"}}, \"type\": \"scattergl\"}], \"scattermapbox\": [{\"marker\": {\"colorbar\": {\"outlinewidth\": 0, \"ticks\": \"\"}}, \"type\": \"scattermapbox\"}], \"scatterpolar\": [{\"marker\": {\"colorbar\": {\"outlinewidth\": 0, \"ticks\": \"\"}}, \"type\": \"scatterpolar\"}], \"scatterpolargl\": [{\"marker\": {\"colorbar\": {\"outlinewidth\": 0, \"ticks\": \"\"}}, \"type\": \"scatterpolargl\"}], \"scatterternary\": [{\"marker\": {\"colorbar\": {\"outlinewidth\": 0, \"ticks\": \"\"}}, \"type\": \"scatterternary\"}], \"surface\": [{\"colorbar\": {\"outlinewidth\": 0, \"ticks\": \"\"}, \"colorscale\": [[0.0, \"#0d0887\"], [0.1111111111111111, \"#46039f\"], [0.2222222222222222, \"#7201a8\"], [0.3333333333333333, \"#9c179e\"], [0.4444444444444444, \"#bd3786\"], [0.5555555555555556, \"#d8576b\"], [0.6666666666666666, \"#ed7953\"], [0.7777777777777778, \"#fb9f3a\"], [0.8888888888888888, \"#fdca26\"], [1.0, \"#f0f921\"]], \"type\": \"surface\"}], \"table\": [{\"cells\": {\"fill\": {\"color\": \"#EBF0F8\"}, \"line\": {\"color\": \"white\"}}, \"header\": {\"fill\": {\"color\": \"#C8D4E3\"}, \"line\": {\"color\": \"white\"}}, \"type\": \"table\"}]}, \"layout\": {\"annotationdefaults\": {\"arrowcolor\": \"#2a3f5f\", \"arrowhead\": 0, \"arrowwidth\": 1}, \"coloraxis\": {\"colorbar\": {\"outlinewidth\": 0, \"ticks\": \"\"}}, \"colorscale\": {\"diverging\": [[0, \"#8e0152\"], [0.1, \"#c51b7d\"], [0.2, \"#de77ae\"], [0.3, \"#f1b6da\"], [0.4, \"#fde0ef\"], [0.5, \"#f7f7f7\"], [0.6, \"#e6f5d0\"], [0.7, \"#b8e186\"], [0.8, \"#7fbc41\"], [0.9, \"#4d9221\"], [1, \"#276419\"]], \"sequential\": [[0.0, \"#0d0887\"], [0.1111111111111111, \"#46039f\"], [0.2222222222222222, \"#7201a8\"], [0.3333333333333333, \"#9c179e\"], [0.4444444444444444, \"#bd3786\"], [0.5555555555555556, \"#d8576b\"], [0.6666666666666666, \"#ed7953\"], [0.7777777777777778, \"#fb9f3a\"], [0.8888888888888888, \"#fdca26\"], [1.0, \"#f0f921\"]], \"sequentialminus\": [[0.0, \"#0d0887\"], [0.1111111111111111, \"#46039f\"], [0.2222222222222222, \"#7201a8\"], [0.3333333333333333, \"#9c179e\"], [0.4444444444444444, \"#bd3786\"], [0.5555555555555556, \"#d8576b\"], [0.6666666666666666, \"#ed7953\"], [0.7777777777777778, \"#fb9f3a\"], [0.8888888888888888, \"#fdca26\"], [1.0, \"#f0f921\"]]}, \"colorway\": [\"#636efa\", \"#EF553B\", \"#00cc96\", \"#ab63fa\", \"#FFA15A\", \"#19d3f3\", \"#FF6692\", \"#B6E880\", \"#FF97FF\", \"#FECB52\"], \"font\": {\"color\": \"#2a3f5f\"}, \"geo\": {\"bgcolor\": \"white\", \"lakecolor\": \"white\", \"landcolor\": \"#E5ECF6\", \"showlakes\": true, \"showland\": true, \"subunitcolor\": \"white\"}, \"hoverlabel\": {\"align\": \"left\"}, \"hovermode\": \"closest\", \"mapbox\": {\"style\": \"light\"}, \"paper_bgcolor\": \"white\", \"plot_bgcolor\": \"#E5ECF6\", \"polar\": {\"angularaxis\": {\"gridcolor\": \"white\", \"linecolor\": \"white\", \"ticks\": \"\"}, \"bgcolor\": \"#E5ECF6\", \"radialaxis\": {\"gridcolor\": \"white\", \"linecolor\": \"white\", \"ticks\": \"\"}}, \"scene\": {\"xaxis\": {\"backgroundcolor\": \"#E5ECF6\", \"gridcolor\": \"white\", \"gridwidth\": 2, \"linecolor\": \"white\", \"showbackground\": true, \"ticks\": \"\", \"zerolinecolor\": \"white\"}, \"yaxis\": {\"backgroundcolor\": \"#E5ECF6\", \"gridcolor\": \"white\", \"gridwidth\": 2, \"linecolor\": \"white\", \"showbackground\": true, \"ticks\": \"\", \"zerolinecolor\": \"white\"}, \"zaxis\": {\"backgroundcolor\": \"#E5ECF6\", \"gridcolor\": \"white\", \"gridwidth\": 2, \"linecolor\": \"white\", \"showbackground\": true, \"ticks\": \"\", \"zerolinecolor\": \"white\"}}, \"shapedefaults\": {\"line\": {\"color\": \"#2a3f5f\"}}, \"ternary\": {\"aaxis\": {\"gridcolor\": \"white\", \"linecolor\": \"white\", \"ticks\": \"\"}, \"baxis\": {\"gridcolor\": \"white\", \"linecolor\": \"white\", \"ticks\": \"\"}, \"bgcolor\": \"#E5ECF6\", \"caxis\": {\"gridcolor\": \"white\", \"linecolor\": \"white\", \"ticks\": \"\"}}, \"title\": {\"x\": 0.05}, \"xaxis\": {\"automargin\": true, \"gridcolor\": \"white\", \"linecolor\": \"white\", \"ticks\": \"\", \"title\": {\"standoff\": 15}, \"zerolinecolor\": \"white\", \"zerolinewidth\": 2}, \"yaxis\": {\"automargin\": true, \"gridcolor\": \"white\", \"linecolor\": \"white\", \"ticks\": \"\", \"title\": {\"standoff\": 15}, \"zerolinecolor\": \"white\", \"zerolinewidth\": 2}}}, \"title\": {\"font\": {\"color\": \"#4D5663\"}}, \"xaxis\": {\"anchor\": \"y\", \"domain\": [0.0, 0.2125], \"gridcolor\": \"#E1E5ED\", \"showgrid\": false, \"tickfont\": {\"color\": \"#4D5663\"}, \"title\": {\"font\": {\"color\": \"#4D5663\"}, \"text\": \"\"}, \"zerolinecolor\": \"#E1E5ED\"}, \"xaxis10\": {\"anchor\": \"y10\", \"domain\": [0.2625, 0.475], \"gridcolor\": \"#E1E5ED\", \"showgrid\": false, \"tickfont\": {\"color\": \"#4D5663\"}, \"title\": {\"font\": {\"color\": \"#4D5663\"}, \"text\": \"\"}, \"zerolinecolor\": \"#E1E5ED\"}, \"xaxis11\": {\"anchor\": \"y11\", \"domain\": [0.525, 0.7375], \"gridcolor\": \"#E1E5ED\", \"showgrid\": false, \"tickfont\": {\"color\": \"#4D5663\"}, \"title\": {\"font\": {\"color\": \"#4D5663\"}, \"text\": \"\"}, \"zerolinecolor\": \"#E1E5ED\"}, \"xaxis12\": {\"anchor\": \"y12\", \"domain\": [0.7875, 1.0], \"gridcolor\": \"#E1E5ED\", \"showgrid\": false, \"tickfont\": {\"color\": \"#4D5663\"}, \"title\": {\"font\": {\"color\": \"#4D5663\"}, \"text\": \"\"}, \"zerolinecolor\": \"#E1E5ED\"}, \"xaxis13\": {\"anchor\": \"y13\", \"domain\": [0.0, 0.2125], \"gridcolor\": \"#E1E5ED\", \"showgrid\": false, \"tickfont\": {\"color\": \"#4D5663\"}, \"title\": {\"font\": {\"color\": \"#4D5663\"}, \"text\": \"\"}, \"zerolinecolor\": \"#E1E5ED\"}, \"xaxis14\": {\"anchor\": \"y14\", \"domain\": [0.2625, 0.475], \"gridcolor\": \"#E1E5ED\", \"showgrid\": false, \"tickfont\": {\"color\": \"#4D5663\"}, \"title\": {\"font\": {\"color\": \"#4D5663\"}, \"text\": \"\"}, \"zerolinecolor\": \"#E1E5ED\"}, \"xaxis15\": {\"anchor\": \"y15\", \"domain\": [0.525, 0.7375], \"gridcolor\": \"#E1E5ED\", \"showgrid\": false, \"tickfont\": {\"color\": \"#4D5663\"}, \"title\": {\"font\": {\"color\": \"#4D5663\"}, \"text\": \"\"}, \"zerolinecolor\": \"#E1E5ED\"}, \"xaxis16\": {\"anchor\": \"y16\", \"domain\": [0.7875, 1.0], \"gridcolor\": \"#E1E5ED\", \"showgrid\": false, \"tickfont\": {\"color\": \"#4D5663\"}, \"title\": {\"font\": {\"color\": \"#4D5663\"}, \"text\": \"\"}, \"zerolinecolor\": \"#E1E5ED\"}, \"xaxis2\": {\"anchor\": \"y2\", \"domain\": [0.2625, 0.475], \"gridcolor\": \"#E1E5ED\", \"showgrid\": false, \"tickfont\": {\"color\": \"#4D5663\"}, \"title\": {\"font\": {\"color\": \"#4D5663\"}, \"text\": \"\"}, \"zerolinecolor\": \"#E1E5ED\"}, \"xaxis3\": {\"anchor\": \"y3\", \"domain\": [0.525, 0.7375], \"gridcolor\": \"#E1E5ED\", \"showgrid\": false, \"tickfont\": {\"color\": \"#4D5663\"}, \"title\": {\"font\": {\"color\": \"#4D5663\"}, \"text\": \"\"}, \"zerolinecolor\": \"#E1E5ED\"}, \"xaxis4\": {\"anchor\": \"y4\", \"domain\": [0.7875, 1.0], \"gridcolor\": \"#E1E5ED\", \"showgrid\": false, \"tickfont\": {\"color\": \"#4D5663\"}, \"title\": {\"font\": {\"color\": \"#4D5663\"}, \"text\": \"\"}, \"zerolinecolor\": \"#E1E5ED\"}, \"xaxis5\": {\"anchor\": \"y5\", \"domain\": [0.0, 0.2125], \"gridcolor\": \"#E1E5ED\", \"showgrid\": false, \"tickfont\": {\"color\": \"#4D5663\"}, \"title\": {\"font\": {\"color\": \"#4D5663\"}, \"text\": \"\"}, \"zerolinecolor\": \"#E1E5ED\"}, \"xaxis6\": {\"anchor\": \"y6\", \"domain\": [0.2625, 0.475], \"gridcolor\": \"#E1E5ED\", \"showgrid\": false, \"tickfont\": {\"color\": \"#4D5663\"}, \"title\": {\"font\": {\"color\": \"#4D5663\"}, \"text\": \"\"}, \"zerolinecolor\": \"#E1E5ED\"}, \"xaxis7\": {\"anchor\": \"y7\", \"domain\": [0.525, 0.7375], \"gridcolor\": \"#E1E5ED\", \"showgrid\": false, \"tickfont\": {\"color\": \"#4D5663\"}, \"title\": {\"font\": {\"color\": \"#4D5663\"}, \"text\": \"\"}, \"zerolinecolor\": \"#E1E5ED\"}, \"xaxis8\": {\"anchor\": \"y8\", \"domain\": [0.7875, 1.0], \"gridcolor\": \"#E1E5ED\", \"showgrid\": false, \"tickfont\": {\"color\": \"#4D5663\"}, \"title\": {\"font\": {\"color\": \"#4D5663\"}, \"text\": \"\"}, \"zerolinecolor\": \"#E1E5ED\"}, \"xaxis9\": {\"anchor\": \"y9\", \"domain\": [0.0, 0.2125], \"gridcolor\": \"#E1E5ED\", \"showgrid\": false, \"tickfont\": {\"color\": \"#4D5663\"}, \"title\": {\"font\": {\"color\": \"#4D5663\"}, \"text\": \"\"}, \"zerolinecolor\": \"#E1E5ED\"}, \"yaxis\": {\"anchor\": \"x\", \"domain\": [0.8025, 1.0], \"gridcolor\": \"#E1E5ED\", \"showgrid\": false, \"tickfont\": {\"color\": \"#4D5663\"}, \"title\": {\"font\": {\"color\": \"#4D5663\"}, \"text\": \"\"}, \"zerolinecolor\": \"#E1E5ED\"}, \"yaxis10\": {\"anchor\": \"x10\", \"domain\": [0.2675, 0.465], \"gridcolor\": \"#E1E5ED\", \"showgrid\": false, \"tickfont\": {\"color\": \"#4D5663\"}, \"title\": {\"font\": {\"color\": \"#4D5663\"}, \"text\": \"\"}, \"zerolinecolor\": \"#E1E5ED\"}, \"yaxis11\": {\"anchor\": \"x11\", \"domain\": [0.2675, 0.465], \"gridcolor\": \"#E1E5ED\", \"showgrid\": false, \"tickfont\": {\"color\": \"#4D5663\"}, \"title\": {\"font\": {\"color\": \"#4D5663\"}, \"text\": \"\"}, \"zerolinecolor\": \"#E1E5ED\"}, \"yaxis12\": {\"anchor\": \"x12\", \"domain\": [0.2675, 0.465], \"gridcolor\": \"#E1E5ED\", \"showgrid\": false, \"tickfont\": {\"color\": \"#4D5663\"}, \"title\": {\"font\": {\"color\": \"#4D5663\"}, \"text\": \"\"}, \"zerolinecolor\": \"#E1E5ED\"}, \"yaxis13\": {\"anchor\": \"x13\", \"domain\": [0.0, 0.1975], \"gridcolor\": \"#E1E5ED\", \"showgrid\": false, \"tickfont\": {\"color\": \"#4D5663\"}, \"title\": {\"font\": {\"color\": \"#4D5663\"}, \"text\": \"\"}, \"zerolinecolor\": \"#E1E5ED\"}, \"yaxis14\": {\"anchor\": \"x14\", \"domain\": [0.0, 0.1975], \"gridcolor\": \"#E1E5ED\", \"showgrid\": false, \"tickfont\": {\"color\": \"#4D5663\"}, \"title\": {\"font\": {\"color\": \"#4D5663\"}, \"text\": \"\"}, \"zerolinecolor\": \"#E1E5ED\"}, \"yaxis15\": {\"anchor\": \"x15\", \"domain\": [0.0, 0.1975], \"gridcolor\": \"#E1E5ED\", \"showgrid\": false, \"tickfont\": {\"color\": \"#4D5663\"}, \"title\": {\"font\": {\"color\": \"#4D5663\"}, \"text\": \"\"}, \"zerolinecolor\": \"#E1E5ED\"}, \"yaxis16\": {\"anchor\": \"x16\", \"domain\": [0.0, 0.1975], \"gridcolor\": \"#E1E5ED\", \"showgrid\": false, \"tickfont\": {\"color\": \"#4D5663\"}, \"title\": {\"font\": {\"color\": \"#4D5663\"}, \"text\": \"\"}, \"zerolinecolor\": \"#E1E5ED\"}, \"yaxis2\": {\"anchor\": \"x2\", \"domain\": [0.8025, 1.0], \"gridcolor\": \"#E1E5ED\", \"showgrid\": false, \"tickfont\": {\"color\": \"#4D5663\"}, \"title\": {\"font\": {\"color\": \"#4D5663\"}, \"text\": \"\"}, \"zerolinecolor\": \"#E1E5ED\"}, \"yaxis3\": {\"anchor\": \"x3\", \"domain\": [0.8025, 1.0], \"gridcolor\": \"#E1E5ED\", \"showgrid\": false, \"tickfont\": {\"color\": \"#4D5663\"}, \"title\": {\"font\": {\"color\": \"#4D5663\"}, \"text\": \"\"}, \"zerolinecolor\": \"#E1E5ED\"}, \"yaxis4\": {\"anchor\": \"x4\", \"domain\": [0.8025, 1.0], \"gridcolor\": \"#E1E5ED\", \"showgrid\": false, \"tickfont\": {\"color\": \"#4D5663\"}, \"title\": {\"font\": {\"color\": \"#4D5663\"}, \"text\": \"\"}, \"zerolinecolor\": \"#E1E5ED\"}, \"yaxis5\": {\"anchor\": \"x5\", \"domain\": [0.535, 0.7325], \"gridcolor\": \"#E1E5ED\", \"showgrid\": false, \"tickfont\": {\"color\": \"#4D5663\"}, \"title\": {\"font\": {\"color\": \"#4D5663\"}, \"text\": \"\"}, \"zerolinecolor\": \"#E1E5ED\"}, \"yaxis6\": {\"anchor\": \"x6\", \"domain\": [0.535, 0.7325], \"gridcolor\": \"#E1E5ED\", \"showgrid\": false, \"tickfont\": {\"color\": \"#4D5663\"}, \"title\": {\"font\": {\"color\": \"#4D5663\"}, \"text\": \"\"}, \"zerolinecolor\": \"#E1E5ED\"}, \"yaxis7\": {\"anchor\": \"x7\", \"domain\": [0.535, 0.7325], \"gridcolor\": \"#E1E5ED\", \"showgrid\": false, \"tickfont\": {\"color\": \"#4D5663\"}, \"title\": {\"font\": {\"color\": \"#4D5663\"}, \"text\": \"\"}, \"zerolinecolor\": \"#E1E5ED\"}, \"yaxis8\": {\"anchor\": \"x8\", \"domain\": [0.535, 0.7325], \"gridcolor\": \"#E1E5ED\", \"showgrid\": false, \"tickfont\": {\"color\": \"#4D5663\"}, \"title\": {\"font\": {\"color\": \"#4D5663\"}, \"text\": \"\"}, \"zerolinecolor\": \"#E1E5ED\"}, \"yaxis9\": {\"anchor\": \"x9\", \"domain\": [0.2675, 0.465], \"gridcolor\": \"#E1E5ED\", \"showgrid\": false, \"tickfont\": {\"color\": \"#4D5663\"}, \"title\": {\"font\": {\"color\": \"#4D5663\"}, \"text\": \"\"}, \"zerolinecolor\": \"#E1E5ED\"}},\n",
       "                        {\"showLink\": true, \"linkText\": \"Export to plot.ly\", \"plotlyServerURL\": \"https://plot.ly\", \"responsive\": true}\n",
       "                    ).then(function(){\n",
       "                            \n",
       "var gd = document.getElementById('8ad4d2eb-67b4-4c92-ba93-792acd0d6912');\n",
       "var x = new MutationObserver(function (mutations, observer) {{\n",
       "        var display = window.getComputedStyle(gd).display;\n",
       "        if (!display || display === 'none') {{\n",
       "            console.log([gd, 'removed!']);\n",
       "            Plotly.purge(gd);\n",
       "            observer.disconnect();\n",
       "        }}\n",
       "}});\n",
       "\n",
       "// Listen for the removal of the full notebook cells\n",
       "var notebookContainer = gd.closest('#notebook-container');\n",
       "if (notebookContainer) {{\n",
       "    x.observe(notebookContainer, {childList: true});\n",
       "}}\n",
       "\n",
       "// Listen for the clearing of the current output cell\n",
       "var outputEl = gd.closest('.output');\n",
       "if (outputEl) {{\n",
       "    x.observe(outputEl, {childList: true});\n",
       "}}\n",
       "\n",
       "                        })\n",
       "                };\n",
       "                });\n",
       "            </script>\n",
       "        </div>"
      ]
     },
     "metadata": {},
     "output_type": "display_data"
    }
   ],
   "source": [
    "# df"
   ]
  },
  {
   "cell_type": "markdown",
   "metadata": {
    "Collapsed": "false"
   },
   "source": [
    "# That's all to get you started.\n",
    "You'll be having many questions on Plotly and cufflinks in the projects."
   ]
  }
 ],
 "metadata": {
  "kernelspec": {
   "display_name": "Python 3",
   "language": "python",
   "name": "python3"
  },
  "language_info": {
   "codemirror_mode": {
    "name": "ipython",
    "version": 3
   },
   "file_extension": ".py",
   "mimetype": "text/x-python",
   "name": "python",
   "nbconvert_exporter": "python",
   "pygments_lexer": "ipython3",
   "version": "3.7.6"
  },
  "latex_envs": {
   "LaTeX_envs_menu_present": true,
   "autoclose": false,
   "autocomplete": true,
   "bibliofile": "biblio.bib",
   "cite_by": "apalike",
   "current_citInitial": 1,
   "eqLabelWithNumbers": true,
   "eqNumInitial": 1,
   "hotkeys": {
    "equation": "Ctrl-E",
    "itemize": "Ctrl-I"
   },
   "labels_anchors": false,
   "latex_user_defs": false,
   "report_style_numbering": false,
   "user_envs_cfg": false
  }
 },
 "nbformat": 4,
 "nbformat_minor": 4
}
