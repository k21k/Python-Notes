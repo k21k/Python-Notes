{
 "cells": [
  {
   "cell_type": "code",
   "execution_count": 4,
   "metadata": {},
   "outputs": [
    {
     "name": "stdout",
     "output_type": "stream",
     "text": [
      "[2, 3, 0]\n",
      "---------------------------------------------------\n",
      "What is your guess? (enter 3 digits) 231\n",
      "Match:  2  correct numbers in the correct positions \n",
      "Close:  0  correct numbers, but incorrect positions \n",
      "---------------------------------------------------\n",
      "What is your next guess? 230\n",
      "Perfect: You have guessed all numbers and positions in  2 attempts\n"
     ]
    }
   ],
   "source": [
    "import random\n",
    "\n",
    "# picks 3 digits from 0 to 10, shuffle the output\n",
    "digits = list(range(10))\n",
    "random.shuffle(digits)\n",
    "key = list(digits[:3])\n",
    "print(key)\n",
    "\n",
    "num_try = 1\n",
    "match = 0\n",
    "close = 0\n",
    "\n",
    "print ('-'*51)\n",
    "guess = list(input(\"What is your guess? (enter 3 digits) \"))\n",
    "\n",
    "\n",
    "while match != 3:\n",
    "    \n",
    "    match = 0\n",
    "    close = 0\n",
    "    \n",
    "    for i in range(0, 3):\n",
    "        if (int(guess[i]) == key[i]):\n",
    "            match += 1\n",
    "        \n",
    "        #if (int(key[i]) - int(guess[i]) == 0):\n",
    "            #match += 1\n",
    "\n",
    "    for k in range(0, 3):\n",
    "        if int(guess[k]) in key:\n",
    "            close += 1\n",
    "\n",
    "    if match == 3:\n",
    "        print(\"Perfect: You have guessed all numbers and positions in \",num_try, \"attempts\")\n",
    "    \n",
    "    else: \n",
    "        print(\"Match: \", match, \" correct numbers in the correct positions \")\n",
    "        print(\"Close: \", close - match, \" correct numbers, but incorrect positions \")\n",
    "\n",
    "        print ('-'*51)\n",
    "        guess = list(input(\"What is your next guess? \"))\n",
    "        num_try += 1\n",
    "    \n"
   ]
  },
  {
   "cell_type": "code",
   "execution_count": 2,
   "metadata": {},
   "outputs": [],
   "source": [
    "\n",
    "\n",
    "def game():\n",
    "    \n",
    "    import random\n",
    "    \n",
    "    # picks 3 digits from 0 to 10, shuffle the output\n",
    "    digits = list(range(10))\n",
    "    random.shuffle(digits)\n",
    "    key = list(digits[:3])\n",
    "    print(key)\n",
    "\n",
    "    num_try = 1\n",
    "    match = 0\n",
    "    close = 0\n",
    "\n",
    "    print ('-'*51)\n",
    "    guess = list(input(\"What is your guess? (enter 3 digits) \"))\n",
    "\n",
    "\n",
    "    while match != 3:\n",
    "\n",
    "        match = 0\n",
    "        close = 0\n",
    "\n",
    "        for i in range(0, 3):\n",
    "            if (int(key[i]) - int(guess[i]) == 0):\n",
    "                match += 1\n",
    "\n",
    "        for k in range(0, 3):\n",
    "            if int(guess[k]) in key:\n",
    "                close += 1\n",
    "\n",
    "        if match == 3:\n",
    "            print(\"Perfect: You have guessed all numbers and positions in \",num_try, \"attempts\")\n",
    "\n",
    "        else: \n",
    "            print(\"Match: \", match, \" correct numbers in the correct positions \")\n",
    "            print(\"Close: \", close - match, \" correct numbers, but incorrect positions \")\n",
    "\n",
    "            print ('-'*51)\n",
    "            guess = list(input(\"What is your next guess? \"))\n",
    "            num_try += 1"
   ]
  },
  {
   "cell_type": "code",
   "execution_count": null,
   "metadata": {},
   "outputs": [],
   "source": []
  },
  {
   "cell_type": "code",
   "execution_count": null,
   "metadata": {},
   "outputs": [],
   "source": []
  }
 ],
 "metadata": {
  "kernelspec": {
   "display_name": "Python 3",
   "language": "python",
   "name": "python3"
  },
  "language_info": {
   "codemirror_mode": {
    "name": "ipython",
    "version": 3
   },
   "file_extension": ".py",
   "mimetype": "text/x-python",
   "name": "python",
   "nbconvert_exporter": "python",
   "pygments_lexer": "ipython3",
   "version": "3.7.6"
  }
 },
 "nbformat": 4,
 "nbformat_minor": 4
}
