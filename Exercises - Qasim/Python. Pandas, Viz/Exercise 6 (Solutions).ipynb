{
 "cells": [
  {
   "cell_type": "markdown",
   "metadata": {},
   "source": [
    "# Question 1 - Explained     \n",
    "    Follow the steps:\n",
    "    1- Create a class, Triangle. Its __init__() method should take self, angle1, angle2, and angle3 as arguments. Make sure to set these appropriately in the body of the __init__() method.\n",
    "\n",
    "    2- Create a member variable named number_of_sides and set it equal to 3.\n",
    "\n",
    "    3- Create a method named check_angles. It should return True if the sum of self.angle1, self.angle2, and self.angle3 is equal 180, and False otherwise.\n",
    "\n",
    "    4- Create an object named my_triangle of your Triangle class. Pass it three angles that sum to 180 (e.g. 90, 30, 60).\n",
    "\n",
    "    5- Print out (my_triangle.number_of_sides) and print out (my_triangle.check_angles())."
   ]
  },
  {
   "cell_type": "code",
   "execution_count": 56,
   "metadata": {},
   "outputs": [
    {
     "data": {
      "text/plain": [
       "True"
      ]
     },
     "execution_count": 56,
     "metadata": {},
     "output_type": "execute_result"
    }
   ],
   "source": [
    "# Question 1 - Version 1\n",
    "\n",
    "class Triangle:\n",
    "    def __init__(self, angle1, angle2, angle3):\n",
    "        \"\"\"\n",
    "        This init method simply initialize the values at the time of object creation.\n",
    "        \"\"\"\n",
    "        self.angle1 = angle1\n",
    "        self.angle2 = angle2\n",
    "        self.angle3 = angle3\n",
    "    # Defining a member variable and setting it's value to 3\n",
    "    number_of_sides = 3\n",
    "    \n",
    "    # Defining a method which will return true if values == 180 and False if otherwise\n",
    "    def check_angles(self):\n",
    "        if int(self.angle1) + int(self.angle2) + int(self.angle3) == 180:\n",
    "            return True\n",
    "        else:\n",
    "            return False\n",
    "\n",
    "# instantiating an object \n",
    "my_triangle = Triangle(100,50,30)\n",
    "# calling the member function\n",
    "my_triangle.check_angles()"
   ]
  },
  {
   "cell_type": "code",
   "execution_count": 57,
   "metadata": {},
   "outputs": [
    {
     "data": {
      "text/plain": [
       "True"
      ]
     },
     "execution_count": 57,
     "metadata": {},
     "output_type": "execute_result"
    }
   ],
   "source": [
    "# Question 1 - Version 2\n",
    "\n",
    "\"\"\"\n",
    "    This version is the exact same copy of version 1, but there's only 1 difference.\n",
    "    Notice inside the __init__ method, the names of parameters and variables are not same.\n",
    "    Now you should understand why we put self there. We put self there, just to discriminate between the member\n",
    "    variables which belong to the class and the Non-member variables like method's parameters.\n",
    "    \n",
    "    Here, we are saying that a1 = angle1 but to specify that a1 belongs to this class, we say self.a1 = angle1.\n",
    "    So if I put it into words, 'a1 which belong to this class = angle1'    \n",
    "    \n",
    "\"\"\"\n",
    "\n",
    "class Triangle:\n",
    "    def __init__(self, angle1, angle2, angle3):\n",
    "        self.a1 = angle1\n",
    "        self.a2 = angle2\n",
    "        self.a3 = angle3\n",
    "    \n",
    "    number_of_sides = 3\n",
    "    \n",
    "    def check_angles(self):\n",
    "        if int(self.a1) + int(self.a2) + int(self.a3) == 180:\n",
    "            return True\n",
    "        else:\n",
    "            return False\n",
    "        \n",
    "# instantiating an object \n",
    "my_triangle = Triangle(100,50,30)\n",
    "# calling the member function\n",
    "my_triangle.check_angles()"
   ]
  },
  {
   "cell_type": "code",
   "execution_count": 59,
   "metadata": {},
   "outputs": [
    {
     "data": {
      "text/plain": [
       "False"
      ]
     },
     "execution_count": 59,
     "metadata": {},
     "output_type": "execute_result"
    }
   ],
   "source": [
    "# Q1 - Can't say it's a different version. But here I tried to explain where to use self and where not to \n",
    "# and this is solution is a bad one, just doing for the sake of explaining where is self used\n",
    "\n",
    "\"\"\"\n",
    "    Here, in the check_angles methods, I'm not using any member variables, it's just a simple function, which \n",
    "    returns true if the sum of the parameters a,b,c is 180 and False if otherwise. Notice that a,b,c don't belong\n",
    "    to class so we can't say self.a because 'a' doesn't belong to class.\n",
    "    \n",
    "    and you may question, then why are we passing self, it's because it's a function of a class. So, in Python\n",
    "    it's compulsory to put a self parameter in methods of CLASSES.\n",
    "\"\"\"\n",
    "\n",
    "class Triangle:\n",
    "    def __init__(self, angle1, angle2, angle3):\n",
    "        self.a1 = angle1\n",
    "        self.a2 = angle2\n",
    "        self.a3 = angle3\n",
    "    \n",
    "    number_of_sides = 3\n",
    "    \n",
    "    def check_angles(self, a, b, c):\n",
    "        if int(a) + int(b) + int(c) == 180:\n",
    "            return True\n",
    "        else:\n",
    "            return False\n",
    "        \n",
    "my_triangle = Triangle(100,50,30)\n",
    "my_triangle.check_angles(100,20,40)"
   ]
  },
  {
   "cell_type": "code",
   "execution_count": 61,
   "metadata": {},
   "outputs": [
    {
     "data": {
      "text/plain": [
       "False"
      ]
     },
     "execution_count": 61,
     "metadata": {},
     "output_type": "execute_result"
    }
   ],
   "source": [
    "# Q1 - Can't say it's a different version. But here I tried to explain where to use self and where not to \n",
    "# and this is solution is a bad one, just doing for the sake of explaining where is self used\n",
    "\n",
    "\"\"\"\n",
    "    Same as above, but this check_angles method becomes useful if I make it a static method.\n",
    "    You'll notice that there is no self parameter in the function, that's because static methods can't access the\n",
    "    attributes of class, we need self to access class attributes. That's why there's no need.\n",
    "    \n",
    "    You'll notice that this __init__ method is useless here, because we are not using anything from the class.\n",
    "    even if you un-comment it, this program will run pretty fine.\n",
    "\"\"\"\n",
    "\n",
    "class Triangle:\n",
    "    \"\"\"\n",
    "    def __init__(self, angle1, angle2, angle3):\n",
    "        self.a1 = angle1\n",
    "        self.a2 = angle2\n",
    "        self.a3 = angle3\n",
    "    \n",
    "    number_of_sides = 3\n",
    "    \"\"\"\n",
    "    @staticmethod\n",
    "    def check_angles(a, b, c):\n",
    "        if int(a) + int(b) + int(c) == 180:\n",
    "            return True\n",
    "        else:\n",
    "            return False\n",
    "        \n",
    "Triangle.check_angles(100,20,40)"
   ]
  },
  {
   "cell_type": "markdown",
   "metadata": {},
   "source": [
    "# Question 2\n",
    "    \n",
    "    1- Create a class Animal\n",
    "    2- Create a member varibale named 'isAlive' and set it's value to True.\n",
    "    3- Create a __init__ method which will take a self and a Boolean parameter, that Boolean parameter will initialize the value of isAlive\n",
    "    4- Create an object of the class and pass a Boolean paramete 'False'\n",
    "    5- Print isAlive attribute of the object of the class.\n",
    "    "
   ]
  },
  {
   "cell_type": "code",
   "execution_count": 3,
   "metadata": {},
   "outputs": [
    {
     "name": "stdout",
     "output_type": "stream",
     "text": [
      "True\n"
     ]
    }
   ],
   "source": [
    "\"\"\"\n",
    "    Here, if I want to initialize a member variable, we don't really need to define it like I've defined it \n",
    "    on the line tagged 'Here' . We can simply just pass it in __init__ method and python will make a member \n",
    "    variable for us. \n",
    "    \n",
    "\"\"\"\n",
    "class Animal:\n",
    "    #isAlive = True                  # HERE\n",
    "    \n",
    "    def __init__(self, alive):\n",
    "        self.isAlive = True\n",
    "        \n",
    "\n",
    "a = Animal(False)\n",
    "print(a.isAlive)"
   ]
  },
  {
   "cell_type": "code",
   "execution_count": 5,
   "metadata": {},
   "outputs": [
    {
     "name": "stdout",
     "output_type": "stream",
     "text": [
      "True\n",
      "False\n"
     ]
    }
   ],
   "source": [
    "# Quesiton 2 - In which cases should we define a member varable outside _init_\n",
    "\n",
    "\"\"\"\n",
    "    The property/characteristic which is common in all the Animals, will be defined outside init method, because\n",
    "    on every object creation, the value remains the same.\n",
    "    Couldn't think of a better example haha: So every animal has one thing in common, they are not humans.\n",
    "    \n",
    "    Hope you understand the idea behind this. If you feel confused, just ping me on upwork, I'll further explain.\n",
    "\"\"\"\n",
    "class Animal:\n",
    "    \n",
    "    isHuman = False\n",
    "    \n",
    "    def __init__(self, alive):\n",
    "        self.isAlive = True\n",
    "        \n",
    "\n",
    "a = Animal(False)\n",
    "print(a.isAlive)\n",
    "print(a.isHuman)"
   ]
  },
  {
   "cell_type": "markdown",
   "metadata": {},
   "source": [
    "# Question 3\n",
    "\n",
    "    Define a class called Lunch.Its __init__() method should have two arguments:selfanf menu.Where menu is a string. Add a method called menu_price.It will involve a ifstatement:\n",
    "\n",
    "    if \"menu 1\" print \"Your choice:\", menu, \"Price 12.00\", if \"menu 2\" print \"Your choice:\", menu, \"Price 13.40\", else print \"Error in menu\".\n",
    "\n",
    "    To check if it works define: Paul=Lunch(\"menu 1\") and call Paul.menu_price()."
   ]
  },
  {
   "cell_type": "code",
   "execution_count": 11,
   "metadata": {},
   "outputs": [
    {
     "name": "stdout",
     "output_type": "stream",
     "text": [
      "Your choice : menu 2  Price : 13.40\n"
     ]
    }
   ],
   "source": [
    "# Very easy question. \n",
    "\n",
    "class Lunch:\n",
    "    def __init__(self, menu):\n",
    "        self.menu = menu\n",
    "        \n",
    "    def menu_price(self):\n",
    "        if self.menu == 'menu 1':\n",
    "            print('Your choice : {}  Price : {:.2f}'.format(self.menu, 12))\n",
    "        elif self.menu == 'menu 2':\n",
    "            print('Your choice : {}  Price : {:.2f}'.format(self.menu, 13.4))\n",
    "            \n",
    "Paul = Lunch(\"menu 2\")\n",
    "Paul.menu_price()"
   ]
  },
  {
   "cell_type": "markdown",
   "metadata": {},
   "source": [
    "# Question 5\n",
    "    Write a class named Car that has the following member variables:\n",
    "    • yearModel . An integer that holds the car’s year model.\n",
    "    • make . A string that holds the make of the car.\n",
    "    • speed . An int that holds the car’s current speed.\n",
    "\n",
    "    In addition, the class should have the following _init_(constructor) and other member functions.\n",
    "\n",
    "    • Constructor. The constructor should accept the car’s year model and make as arguments. These values\n",
    "    should be assigned to the object’s yearModel and make member variables. The constructor should also\n",
    "    assign 0 to the speed member variables.\n",
    "    • Accessor. Function to get the values stored in an object’s yearModel, make, and\n",
    "    speed member variables.\n",
    "    • accelerate . The accelerate function should add 5 to the speed member variable each time it is called.\n",
    "    • brake . The brake function should subtract 5 from the speed member variable each time it is called.\n",
    "\n",
    "    Demonstrate the class in a program that creates a Car object, and then calls the accelerate function fivetimes. After each call to the accelerate function, get the current speed of the car and display it. Then, call the brake function five times. After each call to the brake function, get the current speed of the car and display it."
   ]
  },
  {
   "cell_type": "code",
   "execution_count": 17,
   "metadata": {},
   "outputs": [
    {
     "name": "stdout",
     "output_type": "stream",
     "text": [
      "Year Model : 2020\n",
      "Make : Honda\n",
      "Speed : 25\n",
      "\n",
      "Year Model : 2020\n",
      "Make : Honda\n",
      "Speed : 0\n",
      "\n"
     ]
    }
   ],
   "source": [
    "class Car:\n",
    "    \"\"\"\n",
    "        Notice I haven't passed speed as a parameter because it's mentioned that initially speed will be 0, so I'm\n",
    "        just assigning 0 to the variable speed.\n",
    "        \n",
    "        I would sugguest you to use different names like y for yearModel. By doing this, you'll be able to differentiate\n",
    "        between parameters and class variables.\n",
    "    \"\"\"\n",
    "    def __init__(self, y, m):\n",
    "        self.yearModel = y\n",
    "        self.make = m\n",
    "        self.speed = 0\n",
    "    \n",
    "    def accessor(self):\n",
    "        print('Year Model : {}\\nMake : {}\\nSpeed : {}\\n'.format(self.yearModel, self.make, self.speed))\n",
    "        \n",
    "    def accelarate(self):\n",
    "        self.speed += 5\n",
    "    \n",
    "    def brake(self):\n",
    "        self.speed -= 5\n",
    "\n",
    "# car created with year 2020 and make 'honda'\n",
    "car = Car(2020, 'Honda')\n",
    "\n",
    "# Looping 5 times - We can write car.accelarate() five times as well. But this is a more professional approach.\n",
    "for i in range (0,5):\n",
    "    car.accelarate()\n",
    "# Displaying the results\n",
    "car.accessor()\n",
    "\n",
    "for i in range (0,5):\n",
    "    car.brake()\n",
    "# Displaying the results\n",
    "car.accessor()"
   ]
  },
  {
   "cell_type": "markdown",
   "metadata": {},
   "source": [
    "# Question 6\n",
    "    Basic Inheritance: (Single level inheritance)\n",
    "    Perform the following tasks.\n",
    "       1 - Create a Parent class A\n",
    "       2 - Create two methods in class A, \n",
    "           i)  feature1\n",
    "           ii) feature2\n",
    "       3 - Create a Child class B inherit it from class A\n",
    "       4- Add the following methods in B\n",
    "           i)  feature3\n",
    "           ii) feature4\n",
    "\n",
    "       5 - Now make a child object and try to call the Parent's methods\n",
    "       6 - Now make a Parent object and try to call Child's methods\n",
    "\n",
    "\n",
    "       Note: feature1,2,3,4 methods just simply prints:\n",
    "           'This is feature 1'\n",
    "           'This is feature 2'\n",
    "           'This is feature 3'\n",
    "           'This is feature 4'\n",
    "       respectively.\n",
    "\n",
    "       Note: You'll notice that you can't call child's methods using Parent's object."
   ]
  },
  {
   "cell_type": "code",
   "execution_count": 32,
   "metadata": {},
   "outputs": [
    {
     "name": "stdout",
     "output_type": "stream",
     "text": [
      "Feature 1\n",
      "Feature 2\n",
      "Feature 3\n",
      "Feature 4\n",
      "Feature 1\n",
      "Feature 2\n"
     ]
    }
   ],
   "source": [
    "\"\"\"\n",
    "    This is a single level inheritance. There's a parent/super class and a child/sub class.\n",
    "    We can see that child have access to the attributes and methods of the parent class, but parent doesn't\n",
    "    have any access to the child's attributes and function.\n",
    "    \n",
    "    If a Parent and more then 1 child. It's still single level inheritance. For instance:\n",
    "    \n",
    "    A -> B\n",
    "    A -> C\n",
    "    A -> D\n",
    "    \n",
    "    Here, A is the parent of B,C,D. \n",
    "    \n",
    "    But if this was the case,\n",
    "    \n",
    "    A -> B\n",
    "    B -> C\n",
    "    \n",
    "    Now here, A is grand parent, B is Parent and C is child. This is multiple level inheritance.\n",
    "\"\"\"\n",
    "class A:\n",
    "    def feature1(self):\n",
    "        print('Feature 1')\n",
    "        \n",
    "    def feature2(self):\n",
    "        print('Feature 2')\n",
    "        \n",
    "# Creating B and passing A to make it a child of A\n",
    "class B(A):\n",
    "    def feature3(self):\n",
    "        print('Feature 3')\n",
    "        \n",
    "    def feature4(self):\n",
    "        print('Feature 4')\n",
    "        \n",
    "b = B()\n",
    "b.feature1()\n",
    "b.feature2()\n",
    "b.feature3()\n",
    "b.feature4()\n",
    "\n",
    "a = A()\n",
    "a.feature1()\n",
    "a.feature2()\n",
    "\n"
   ]
  },
  {
   "cell_type": "markdown",
   "metadata": {},
   "source": [
    "# Question 7\n",
    "    Basic Inheritance: (Multiple level inheritance)\n",
    "    Perform the following tasks.\n",
    "       1 - Create a Parent class A\n",
    "       2 - Create two methods in class A, \n",
    "           i)  feature1\n",
    "           ii) feature2\n",
    "       3 - Create a Child class B inherit it from class A\n",
    "       4- Add the following methods in B\n",
    "           i)  feature3\n",
    "           ii) feature4\n",
    "\n",
    "       5 - Now make a child object and try to call the Parent's methods\n",
    "       6 - Now make a Parent object and try to call Child's methods\n",
    "       (Multilevel inheritance)\n",
    "       7 - Create a child class C, whose parent is B\n",
    "       8 - Make a method, name is feature5\n",
    "       9 - Now make an object of C class and try to access all the feature methods.\n",
    "\n",
    "       A -> B -> C\n",
    "\n",
    "       A is grand parent, B is parent, and C is child\n",
    "\n",
    "       Note: feature1,2,3,4,5 methods just simply prints:\n",
    "           'This is feature 1'\n",
    "           'This is feature 2'\n",
    "           'This is feature 3'\n",
    "           'This is feature 4'\n",
    "           'This is feature 5'\n",
    "       respectively.\n",
    "\n",
    "       Note: You'll notice that you can't call child's methods using Parent's object."
   ]
  },
  {
   "cell_type": "code",
   "execution_count": 33,
   "metadata": {},
   "outputs": [
    {
     "name": "stdout",
     "output_type": "stream",
     "text": [
      "C can access :\n",
      "Feature 1\n",
      "Feature 2\n",
      "Feature 3\n",
      "Feature 4\n",
      "Feature 5\n",
      "B can access :\n",
      "Feature 1\n",
      "Feature 2\n",
      "Feature 3\n",
      "Feature 4\n",
      "A can access :\n",
      "Feature 1\n",
      "Feature 2\n"
     ]
    }
   ],
   "source": [
    "\"\"\"\n",
    "    This is a single level inheritance. There's a parent/super class and a child/sub class.\n",
    "    We can see that child have access to the attributes and methods of the parent class, but parent doesn't\n",
    "    have any access to the child's attributes and function.\n",
    "    \n",
    "    If a Parent and more then 1 child. It's still single level inheritance. For instance:\n",
    "    \n",
    "    A -> B\n",
    "    A -> C\n",
    "    A -> D\n",
    "    \n",
    "    Here, A is the parent of B,C,D. \n",
    "    \n",
    "    But if this was the case,\n",
    "    \n",
    "    A -> B\n",
    "    B -> C\n",
    "    \n",
    "    Now here, A is grand parent, B is Parent and C is child. This is multiple level inheritance.\n",
    "    \n",
    "    In this case, C can access both B and A methods and attributes,\n",
    "    B can only access B's and A's methods and attributes, because B is the parent of C but child of A.\n",
    "    A can only only A's methods and attributes, because parent's can't access child's data.\n",
    "\"\"\"\n",
    "class A:\n",
    "    def feature1(self):\n",
    "        print('Feature 1')\n",
    "        \n",
    "    def feature2(self):\n",
    "        print('Feature 2')\n",
    "        \n",
    "# Creating B and passing A to make it a child of A\n",
    "class B(A):\n",
    "    def feature3(self):\n",
    "        print('Feature 3')\n",
    "        \n",
    "    def feature4(self):\n",
    "        print('Feature 4')\n",
    "\n",
    "# Creating C and passing B to make it a child of B\n",
    "class C(B):\n",
    "    def feature5(self):\n",
    "        print('Feature 5')\n",
    "        \n",
    "print('C can access :')       \n",
    "c = C()\n",
    "c.feature1()\n",
    "c.feature2()\n",
    "c.feature3()\n",
    "c.feature4()\n",
    "c.feature5()\n",
    "\n",
    "print('B can access :')       \n",
    "b = B()\n",
    "b.feature1()\n",
    "b.feature2()\n",
    "b.feature3()\n",
    "b.feature4()\n",
    "\n",
    "print('A can access :')   \n",
    "a = A()\n",
    "a.feature1()\n",
    "a.feature2()\n",
    "\n"
   ]
  },
  {
   "cell_type": "markdown",
   "metadata": {},
   "source": [
    "# I really hope, this helped you."
   ]
  }
 ],
 "metadata": {
  "kernelspec": {
   "display_name": "Python 3",
   "language": "python",
   "name": "python3"
  },
  "language_info": {
   "codemirror_mode": {
    "name": "ipython",
    "version": 3
   },
   "file_extension": ".py",
   "mimetype": "text/x-python",
   "name": "python",
   "nbconvert_exporter": "python",
   "pygments_lexer": "ipython3",
   "version": "3.7.6"
  }
 },
 "nbformat": 4,
 "nbformat_minor": 2
}
