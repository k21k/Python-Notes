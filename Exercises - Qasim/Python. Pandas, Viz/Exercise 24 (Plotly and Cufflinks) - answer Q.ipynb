{
 "cells": [
  {
   "cell_type": "markdown",
   "metadata": {},
   "source": [
    "Plotly is a library that allows you to create interactive plots that you can use in dashboards or websites (you can save them as html files or static images).\n",
    "\n",
    "## Installation\n",
    "\n",
    "In order for this all to work, you'll need to install plotly and cufflinks to call plots directly off of a pandas dataframe. These libraries are not currently available through **conda** but are available through **pip**. Install the libraries at your command line/terminal using:\n",
    "\n",
    "    pip install plotly\n",
    "    pip install cufflinks\n",
    "\n",
    "\n",
    "## Importing and Setting-up"
   ]
  },
  {
   "cell_type": "code",
   "execution_count": 3,
   "metadata": {},
   "outputs": [],
   "source": [
    "import pandas as pd\n",
    "import numpy as np\n",
    "%matplotlib inline"
   ]
  },
  {
   "cell_type": "code",
   "execution_count": 4,
   "metadata": {},
   "outputs": [],
   "source": [
    "from plotly import __version__\n",
    "from plotly.offline import download_plotlyjs, init_notebook_mode, plot, iplot"
   ]
  },
  {
   "cell_type": "code",
   "execution_count": 5,
   "metadata": {},
   "outputs": [],
   "source": [
    "import cufflinks as cf"
   ]
  },
  {
   "cell_type": "code",
   "execution_count": 6,
   "metadata": {},
   "outputs": [
    {
     "data": {
      "text/html": [
       "        <script type=\"text/javascript\">\n",
       "        window.PlotlyConfig = {MathJaxConfig: 'local'};\n",
       "        if (window.MathJax) {MathJax.Hub.Config({SVG: {font: \"STIX-Web\"}});}\n",
       "        if (typeof require !== 'undefined') {\n",
       "        require.undef(\"plotly\");\n",
       "        requirejs.config({\n",
       "            paths: {\n",
       "                'plotly': ['https://cdn.plot.ly/plotly-latest.min']\n",
       "            }\n",
       "        });\n",
       "        require(['plotly'], function(Plotly) {\n",
       "            window._Plotly = Plotly;\n",
       "        });\n",
       "        }\n",
       "        </script>\n",
       "        "
      ]
     },
     "metadata": {},
     "output_type": "display_data"
    }
   ],
   "source": [
    "# For Notebooks\n",
    "init_notebook_mode(connected=True)"
   ]
  },
  {
   "cell_type": "code",
   "execution_count": 7,
   "metadata": {},
   "outputs": [
    {
     "data": {
      "text/html": [
       "        <script type=\"text/javascript\">\n",
       "        window.PlotlyConfig = {MathJaxConfig: 'local'};\n",
       "        if (window.MathJax) {MathJax.Hub.Config({SVG: {font: \"STIX-Web\"}});}\n",
       "        if (typeof require !== 'undefined') {\n",
       "        require.undef(\"plotly\");\n",
       "        requirejs.config({\n",
       "            paths: {\n",
       "                'plotly': ['https://cdn.plot.ly/plotly-latest.min']\n",
       "            }\n",
       "        });\n",
       "        require(['plotly'], function(Plotly) {\n",
       "            window._Plotly = Plotly;\n",
       "        });\n",
       "        }\n",
       "        </script>\n",
       "        "
      ]
     },
     "metadata": {},
     "output_type": "display_data"
    }
   ],
   "source": [
    "# For offline use\n",
    "cf.go_offline()"
   ]
  },
  {
   "cell_type": "code",
   "execution_count": 8,
   "metadata": {},
   "outputs": [
    {
     "data": {
      "text/html": [
       "<div>\n",
       "<style scoped>\n",
       "    .dataframe tbody tr th:only-of-type {\n",
       "        vertical-align: middle;\n",
       "    }\n",
       "\n",
       "    .dataframe tbody tr th {\n",
       "        vertical-align: top;\n",
       "    }\n",
       "\n",
       "    .dataframe thead th {\n",
       "        text-align: right;\n",
       "    }\n",
       "</style>\n",
       "<table border=\"1\" class=\"dataframe\">\n",
       "  <thead>\n",
       "    <tr style=\"text-align: right;\">\n",
       "      <th></th>\n",
       "      <th>A</th>\n",
       "      <th>B</th>\n",
       "      <th>C</th>\n",
       "      <th>D</th>\n",
       "    </tr>\n",
       "  </thead>\n",
       "  <tbody>\n",
       "    <tr>\n",
       "      <th>0</th>\n",
       "      <td>-1.218991</td>\n",
       "      <td>0.341976</td>\n",
       "      <td>-0.246860</td>\n",
       "      <td>-0.873338</td>\n",
       "    </tr>\n",
       "    <tr>\n",
       "      <th>1</th>\n",
       "      <td>-0.546577</td>\n",
       "      <td>-2.311655</td>\n",
       "      <td>-0.479515</td>\n",
       "      <td>0.224752</td>\n",
       "    </tr>\n",
       "    <tr>\n",
       "      <th>2</th>\n",
       "      <td>0.181324</td>\n",
       "      <td>1.334875</td>\n",
       "      <td>0.149444</td>\n",
       "      <td>0.600373</td>\n",
       "    </tr>\n",
       "    <tr>\n",
       "      <th>3</th>\n",
       "      <td>-0.014585</td>\n",
       "      <td>-0.107280</td>\n",
       "      <td>-0.685353</td>\n",
       "      <td>-0.747541</td>\n",
       "    </tr>\n",
       "    <tr>\n",
       "      <th>4</th>\n",
       "      <td>0.171518</td>\n",
       "      <td>2.483218</td>\n",
       "      <td>-1.702847</td>\n",
       "      <td>-0.873151</td>\n",
       "    </tr>\n",
       "  </tbody>\n",
       "</table>\n",
       "</div>"
      ],
      "text/plain": [
       "          A         B         C         D\n",
       "0 -1.218991  0.341976 -0.246860 -0.873338\n",
       "1 -0.546577 -2.311655 -0.479515  0.224752\n",
       "2  0.181324  1.334875  0.149444  0.600373\n",
       "3 -0.014585 -0.107280 -0.685353 -0.747541\n",
       "4  0.171518  2.483218 -1.702847 -0.873151"
      ]
     },
     "execution_count": 8,
     "metadata": {},
     "output_type": "execute_result"
    }
   ],
   "source": [
    "df = pd.DataFrame(np.random.randn(100,4),columns='A B C D'.split())\n",
    "df.head()"
   ]
  },
  {
   "cell_type": "code",
   "execution_count": 9,
   "metadata": {},
   "outputs": [
    {
     "data": {
      "text/html": [
       "<div>\n",
       "<style scoped>\n",
       "    .dataframe tbody tr th:only-of-type {\n",
       "        vertical-align: middle;\n",
       "    }\n",
       "\n",
       "    .dataframe tbody tr th {\n",
       "        vertical-align: top;\n",
       "    }\n",
       "\n",
       "    .dataframe thead th {\n",
       "        text-align: right;\n",
       "    }\n",
       "</style>\n",
       "<table border=\"1\" class=\"dataframe\">\n",
       "  <thead>\n",
       "    <tr style=\"text-align: right;\">\n",
       "      <th></th>\n",
       "      <th>Category</th>\n",
       "      <th>Values</th>\n",
       "    </tr>\n",
       "  </thead>\n",
       "  <tbody>\n",
       "    <tr>\n",
       "      <th>0</th>\n",
       "      <td>A</td>\n",
       "      <td>32</td>\n",
       "    </tr>\n",
       "    <tr>\n",
       "      <th>1</th>\n",
       "      <td>B</td>\n",
       "      <td>43</td>\n",
       "    </tr>\n",
       "    <tr>\n",
       "      <th>2</th>\n",
       "      <td>C</td>\n",
       "      <td>50</td>\n",
       "    </tr>\n",
       "  </tbody>\n",
       "</table>\n",
       "</div>"
      ],
      "text/plain": [
       "  Category  Values\n",
       "0        A      32\n",
       "1        B      43\n",
       "2        C      50"
      ]
     },
     "execution_count": 9,
     "metadata": {},
     "output_type": "execute_result"
    }
   ],
   "source": [
    "df2 = pd.DataFrame({'Category':['A','B','C'],'Values':[32,43,50]})\n",
    "df2.head()"
   ]
  },
  {
   "cell_type": "markdown",
   "metadata": {},
   "source": [
    "## Using Cufflinks and iplot()\n",
    "\n",
    "* scatter\n",
    "* bar\n",
    "* box\n",
    "* spread\n",
    "* ratio\n",
    "* heatmap\n",
    "* surface\n",
    "* histogram\n",
    "* bubble"
   ]
  },
  {
   "cell_type": "code",
   "execution_count": 10,
   "metadata": {},
   "outputs": [
    {
     "data": {
      "application/vnd.plotly.v1+json": {
       "config": {
        "linkText": "Export to plot.ly",
        "plotlyServerURL": "https://plot.ly",
        "showLink": true
       },
       "data": [
        {
         "line": {
          "color": "rgba(255, 153, 51, 1.0)",
          "dash": "solid",
          "shape": "linear",
          "width": 1.3
         },
         "marker": {
          "size": 10,
          "symbol": "circle"
         },
         "mode": "markers",
         "name": "B",
         "text": "",
         "type": "scatter",
         "x": [
          -1.218991033261646,
          -0.5465765623202922,
          0.18132417432275671,
          -0.014585404257609841,
          0.1715182335092267,
          -1.3779384183098575,
          2.2490010504007203,
          -1.2937347379867639,
          0.645795456082042,
          -0.36282297531233015,
          -0.8830302929744168,
          0.3978544585571979,
          1.4573313754948551,
          -0.42499485568865564,
          0.3706190593531806,
          0.37736470261438537,
          0.4277275289247419,
          -0.16226827355695023,
          -0.058022745855864394,
          -1.8487874313355865,
          0.8022710961429018,
          -1.9470864824594507,
          -2.1131990933422515,
          -0.5106491158132542,
          1.3796907827063247,
          -0.2829133544458733,
          -0.598005788070867,
          0.985421725043829,
          -0.053580649651472724,
          0.6804644985751658,
          0.9481857380941411,
          -1.1146991830746134,
          1.0275502417998543,
          -1.457489960262967,
          0.23837190745798345,
          0.5128251402478308,
          0.6552122213363701,
          -3.1086824537421966,
          0.4291926070041237,
          0.7311268050114921,
          0.7146906973183577,
          0.23765346133515933,
          0.5636683723477607,
          -0.19560647211511367,
          -1.4721539885794437,
          -0.1676593178014201,
          0.4152099938863828,
          -0.9064861230077402,
          -0.5055774366498862,
          0.5349192709445101,
          2.1231913714510715,
          2.2707276001335392,
          -1.709501621834544,
          1.5200345414171992,
          -0.6180853646699377,
          1.3204585944952765,
          0.7672795518407083,
          -0.6968332170252055,
          0.23875081210284058,
          1.0277536622636916,
          -0.7671534331370783,
          -0.7377371573056383,
          1.4735944964229581,
          -1.3514547300791788,
          -0.11340112276702033,
          1.91749282262013,
          1.2314518894288216,
          0.23902470415773386,
          0.7729293278824075,
          0.027302940383040052,
          0.7883419106958499,
          -0.007678428674991606,
          -0.4679306148027131,
          -0.3137113795539161,
          0.5799497855130166,
          -0.4422423998075986,
          0.013049264772897765,
          1.1433034523669872,
          1.2086040894753496,
          1.234131361555419,
          -1.8422285316637823,
          0.33371425688076634,
          -1.0086403689251748,
          0.25408076638641586,
          -1.1537517610944619,
          0.11546173547730847,
          -0.32788866726597193,
          2.0331689908154784,
          0.34797807275311415,
          -1.251412065531357,
          0.9308890122198833,
          -0.8142474569278847,
          0.7762675608414903,
          0.8468274953365662,
          1.3011474374604695,
          0.05918586303413559,
          2.1512380068791446,
          1.5409210295246003,
          -1.4431005934720968,
          -1.0527879815155303
         ],
         "y": [
          0.3419764734215199,
          -2.3116551242894983,
          1.3348751311612044,
          -0.1072796179888181,
          2.483217793824436,
          -0.0741119345885313,
          -1.6738723112564624,
          0.14713214486023077,
          0.640769561204283,
          0.4618918585952571,
          1.7079110887935436,
          -0.1707611901698053,
          0.6172860108755727,
          0.25794903136380476,
          -0.6988181776820083,
          -1.263302918452683,
          -0.045883990267492424,
          -0.8257294543546106,
          0.9600869708265687,
          0.5681263328757964,
          -0.3647234435365751,
          -2.2170174535344085,
          1.7049553191012643,
          -0.5537308376912038,
          -0.5893379099827436,
          -0.789750324269047,
          -0.5968772238779839,
          -0.2004912957144484,
          -0.6246266663795919,
          1.0541547531216344,
          1.1407786943515277,
          -0.3478718293512527,
          -0.4655854045314903,
          -1.0204625318491685,
          -0.17134797784339065,
          -2.004294224309604,
          -1.392027639421431,
          -1.8088906593188325,
          -1.7144334237148287,
          -0.828272087494066,
          0.11134914674790283,
          0.5563361994412729,
          0.11786737071859353,
          1.0283021269240364,
          -0.6844461103765496,
          0.6134588405344479,
          -1.6636278706256518,
          0.2354302397742566,
          0.4927510624220601,
          1.4458444853244878,
          -0.85488831932789,
          0.41631088070245303,
          0.8861235398691205,
          -0.7625248083567656,
          0.21295446005412047,
          1.202789392766879,
          -1.6552505758408658,
          0.671892072559935,
          -0.8744246595050262,
          1.899602505489602,
          -0.9895809299587186,
          -1.6374685722734121,
          -0.9557082919513292,
          0.33382359674876755,
          0.6439689050896489,
          1.1376245647727588,
          -1.3105163589059687,
          -0.6367229605275069,
          0.20988075534801515,
          0.5270543441369793,
          0.06317450408580289,
          0.4759314171495404,
          -0.3389952753783388,
          1.7627682347229436,
          -1.4433264556437697,
          -0.031462496251145354,
          0.633865880706928,
          1.3535256368079083,
          -0.4180120086025204,
          0.649673515838004,
          1.3975641015459965,
          0.1279457536374559,
          0.3990092190022796,
          0.44430579823054356,
          -0.8096813840515048,
          -0.11930671508494314,
          -1.7368783531904881,
          -0.7436696453065349,
          0.4937511254878508,
          -2.4396435356718817,
          1.2824265662085645,
          1.9556216542278397,
          -0.3268638798117112,
          -0.49065900845493565,
          0.9615252684456398,
          -1.4589162600753647,
          -0.6776441409243771,
          -0.8578568648111088,
          -0.7204412403943163,
          0.5339996751188443
         ]
        }
       ],
       "layout": {
        "legend": {
         "bgcolor": "#F5F6F9",
         "font": {
          "color": "#4D5663"
         }
        },
        "paper_bgcolor": "#F5F6F9",
        "plot_bgcolor": "#F5F6F9",
        "template": {
         "data": {
          "bar": [
           {
            "error_x": {
             "color": "#2a3f5f"
            },
            "error_y": {
             "color": "#2a3f5f"
            },
            "marker": {
             "line": {
              "color": "#E5ECF6",
              "width": 0.5
             }
            },
            "type": "bar"
           }
          ],
          "barpolar": [
           {
            "marker": {
             "line": {
              "color": "#E5ECF6",
              "width": 0.5
             }
            },
            "type": "barpolar"
           }
          ],
          "carpet": [
           {
            "aaxis": {
             "endlinecolor": "#2a3f5f",
             "gridcolor": "white",
             "linecolor": "white",
             "minorgridcolor": "white",
             "startlinecolor": "#2a3f5f"
            },
            "baxis": {
             "endlinecolor": "#2a3f5f",
             "gridcolor": "white",
             "linecolor": "white",
             "minorgridcolor": "white",
             "startlinecolor": "#2a3f5f"
            },
            "type": "carpet"
           }
          ],
          "choropleth": [
           {
            "colorbar": {
             "outlinewidth": 0,
             "ticks": ""
            },
            "type": "choropleth"
           }
          ],
          "contour": [
           {
            "colorbar": {
             "outlinewidth": 0,
             "ticks": ""
            },
            "colorscale": [
             [
              0,
              "#0d0887"
             ],
             [
              0.1111111111111111,
              "#46039f"
             ],
             [
              0.2222222222222222,
              "#7201a8"
             ],
             [
              0.3333333333333333,
              "#9c179e"
             ],
             [
              0.4444444444444444,
              "#bd3786"
             ],
             [
              0.5555555555555556,
              "#d8576b"
             ],
             [
              0.6666666666666666,
              "#ed7953"
             ],
             [
              0.7777777777777778,
              "#fb9f3a"
             ],
             [
              0.8888888888888888,
              "#fdca26"
             ],
             [
              1,
              "#f0f921"
             ]
            ],
            "type": "contour"
           }
          ],
          "contourcarpet": [
           {
            "colorbar": {
             "outlinewidth": 0,
             "ticks": ""
            },
            "type": "contourcarpet"
           }
          ],
          "heatmap": [
           {
            "colorbar": {
             "outlinewidth": 0,
             "ticks": ""
            },
            "colorscale": [
             [
              0,
              "#0d0887"
             ],
             [
              0.1111111111111111,
              "#46039f"
             ],
             [
              0.2222222222222222,
              "#7201a8"
             ],
             [
              0.3333333333333333,
              "#9c179e"
             ],
             [
              0.4444444444444444,
              "#bd3786"
             ],
             [
              0.5555555555555556,
              "#d8576b"
             ],
             [
              0.6666666666666666,
              "#ed7953"
             ],
             [
              0.7777777777777778,
              "#fb9f3a"
             ],
             [
              0.8888888888888888,
              "#fdca26"
             ],
             [
              1,
              "#f0f921"
             ]
            ],
            "type": "heatmap"
           }
          ],
          "heatmapgl": [
           {
            "colorbar": {
             "outlinewidth": 0,
             "ticks": ""
            },
            "colorscale": [
             [
              0,
              "#0d0887"
             ],
             [
              0.1111111111111111,
              "#46039f"
             ],
             [
              0.2222222222222222,
              "#7201a8"
             ],
             [
              0.3333333333333333,
              "#9c179e"
             ],
             [
              0.4444444444444444,
              "#bd3786"
             ],
             [
              0.5555555555555556,
              "#d8576b"
             ],
             [
              0.6666666666666666,
              "#ed7953"
             ],
             [
              0.7777777777777778,
              "#fb9f3a"
             ],
             [
              0.8888888888888888,
              "#fdca26"
             ],
             [
              1,
              "#f0f921"
             ]
            ],
            "type": "heatmapgl"
           }
          ],
          "histogram": [
           {
            "marker": {
             "colorbar": {
              "outlinewidth": 0,
              "ticks": ""
             }
            },
            "type": "histogram"
           }
          ],
          "histogram2d": [
           {
            "colorbar": {
             "outlinewidth": 0,
             "ticks": ""
            },
            "colorscale": [
             [
              0,
              "#0d0887"
             ],
             [
              0.1111111111111111,
              "#46039f"
             ],
             [
              0.2222222222222222,
              "#7201a8"
             ],
             [
              0.3333333333333333,
              "#9c179e"
             ],
             [
              0.4444444444444444,
              "#bd3786"
             ],
             [
              0.5555555555555556,
              "#d8576b"
             ],
             [
              0.6666666666666666,
              "#ed7953"
             ],
             [
              0.7777777777777778,
              "#fb9f3a"
             ],
             [
              0.8888888888888888,
              "#fdca26"
             ],
             [
              1,
              "#f0f921"
             ]
            ],
            "type": "histogram2d"
           }
          ],
          "histogram2dcontour": [
           {
            "colorbar": {
             "outlinewidth": 0,
             "ticks": ""
            },
            "colorscale": [
             [
              0,
              "#0d0887"
             ],
             [
              0.1111111111111111,
              "#46039f"
             ],
             [
              0.2222222222222222,
              "#7201a8"
             ],
             [
              0.3333333333333333,
              "#9c179e"
             ],
             [
              0.4444444444444444,
              "#bd3786"
             ],
             [
              0.5555555555555556,
              "#d8576b"
             ],
             [
              0.6666666666666666,
              "#ed7953"
             ],
             [
              0.7777777777777778,
              "#fb9f3a"
             ],
             [
              0.8888888888888888,
              "#fdca26"
             ],
             [
              1,
              "#f0f921"
             ]
            ],
            "type": "histogram2dcontour"
           }
          ],
          "mesh3d": [
           {
            "colorbar": {
             "outlinewidth": 0,
             "ticks": ""
            },
            "type": "mesh3d"
           }
          ],
          "parcoords": [
           {
            "line": {
             "colorbar": {
              "outlinewidth": 0,
              "ticks": ""
             }
            },
            "type": "parcoords"
           }
          ],
          "pie": [
           {
            "automargin": true,
            "type": "pie"
           }
          ],
          "scatter": [
           {
            "marker": {
             "colorbar": {
              "outlinewidth": 0,
              "ticks": ""
             }
            },
            "type": "scatter"
           }
          ],
          "scatter3d": [
           {
            "line": {
             "colorbar": {
              "outlinewidth": 0,
              "ticks": ""
             }
            },
            "marker": {
             "colorbar": {
              "outlinewidth": 0,
              "ticks": ""
             }
            },
            "type": "scatter3d"
           }
          ],
          "scattercarpet": [
           {
            "marker": {
             "colorbar": {
              "outlinewidth": 0,
              "ticks": ""
             }
            },
            "type": "scattercarpet"
           }
          ],
          "scattergeo": [
           {
            "marker": {
             "colorbar": {
              "outlinewidth": 0,
              "ticks": ""
             }
            },
            "type": "scattergeo"
           }
          ],
          "scattergl": [
           {
            "marker": {
             "colorbar": {
              "outlinewidth": 0,
              "ticks": ""
             }
            },
            "type": "scattergl"
           }
          ],
          "scattermapbox": [
           {
            "marker": {
             "colorbar": {
              "outlinewidth": 0,
              "ticks": ""
             }
            },
            "type": "scattermapbox"
           }
          ],
          "scatterpolar": [
           {
            "marker": {
             "colorbar": {
              "outlinewidth": 0,
              "ticks": ""
             }
            },
            "type": "scatterpolar"
           }
          ],
          "scatterpolargl": [
           {
            "marker": {
             "colorbar": {
              "outlinewidth": 0,
              "ticks": ""
             }
            },
            "type": "scatterpolargl"
           }
          ],
          "scatterternary": [
           {
            "marker": {
             "colorbar": {
              "outlinewidth": 0,
              "ticks": ""
             }
            },
            "type": "scatterternary"
           }
          ],
          "surface": [
           {
            "colorbar": {
             "outlinewidth": 0,
             "ticks": ""
            },
            "colorscale": [
             [
              0,
              "#0d0887"
             ],
             [
              0.1111111111111111,
              "#46039f"
             ],
             [
              0.2222222222222222,
              "#7201a8"
             ],
             [
              0.3333333333333333,
              "#9c179e"
             ],
             [
              0.4444444444444444,
              "#bd3786"
             ],
             [
              0.5555555555555556,
              "#d8576b"
             ],
             [
              0.6666666666666666,
              "#ed7953"
             ],
             [
              0.7777777777777778,
              "#fb9f3a"
             ],
             [
              0.8888888888888888,
              "#fdca26"
             ],
             [
              1,
              "#f0f921"
             ]
            ],
            "type": "surface"
           }
          ],
          "table": [
           {
            "cells": {
             "fill": {
              "color": "#EBF0F8"
             },
             "line": {
              "color": "white"
             }
            },
            "header": {
             "fill": {
              "color": "#C8D4E3"
             },
             "line": {
              "color": "white"
             }
            },
            "type": "table"
           }
          ]
         },
         "layout": {
          "annotationdefaults": {
           "arrowcolor": "#2a3f5f",
           "arrowhead": 0,
           "arrowwidth": 1
          },
          "coloraxis": {
           "colorbar": {
            "outlinewidth": 0,
            "ticks": ""
           }
          },
          "colorscale": {
           "diverging": [
            [
             0,
             "#8e0152"
            ],
            [
             0.1,
             "#c51b7d"
            ],
            [
             0.2,
             "#de77ae"
            ],
            [
             0.3,
             "#f1b6da"
            ],
            [
             0.4,
             "#fde0ef"
            ],
            [
             0.5,
             "#f7f7f7"
            ],
            [
             0.6,
             "#e6f5d0"
            ],
            [
             0.7,
             "#b8e186"
            ],
            [
             0.8,
             "#7fbc41"
            ],
            [
             0.9,
             "#4d9221"
            ],
            [
             1,
             "#276419"
            ]
           ],
           "sequential": [
            [
             0,
             "#0d0887"
            ],
            [
             0.1111111111111111,
             "#46039f"
            ],
            [
             0.2222222222222222,
             "#7201a8"
            ],
            [
             0.3333333333333333,
             "#9c179e"
            ],
            [
             0.4444444444444444,
             "#bd3786"
            ],
            [
             0.5555555555555556,
             "#d8576b"
            ],
            [
             0.6666666666666666,
             "#ed7953"
            ],
            [
             0.7777777777777778,
             "#fb9f3a"
            ],
            [
             0.8888888888888888,
             "#fdca26"
            ],
            [
             1,
             "#f0f921"
            ]
           ],
           "sequentialminus": [
            [
             0,
             "#0d0887"
            ],
            [
             0.1111111111111111,
             "#46039f"
            ],
            [
             0.2222222222222222,
             "#7201a8"
            ],
            [
             0.3333333333333333,
             "#9c179e"
            ],
            [
             0.4444444444444444,
             "#bd3786"
            ],
            [
             0.5555555555555556,
             "#d8576b"
            ],
            [
             0.6666666666666666,
             "#ed7953"
            ],
            [
             0.7777777777777778,
             "#fb9f3a"
            ],
            [
             0.8888888888888888,
             "#fdca26"
            ],
            [
             1,
             "#f0f921"
            ]
           ]
          },
          "colorway": [
           "#636efa",
           "#EF553B",
           "#00cc96",
           "#ab63fa",
           "#FFA15A",
           "#19d3f3",
           "#FF6692",
           "#B6E880",
           "#FF97FF",
           "#FECB52"
          ],
          "font": {
           "color": "#2a3f5f"
          },
          "geo": {
           "bgcolor": "white",
           "lakecolor": "white",
           "landcolor": "#E5ECF6",
           "showlakes": true,
           "showland": true,
           "subunitcolor": "white"
          },
          "hoverlabel": {
           "align": "left"
          },
          "hovermode": "closest",
          "mapbox": {
           "style": "light"
          },
          "paper_bgcolor": "white",
          "plot_bgcolor": "#E5ECF6",
          "polar": {
           "angularaxis": {
            "gridcolor": "white",
            "linecolor": "white",
            "ticks": ""
           },
           "bgcolor": "#E5ECF6",
           "radialaxis": {
            "gridcolor": "white",
            "linecolor": "white",
            "ticks": ""
           }
          },
          "scene": {
           "xaxis": {
            "backgroundcolor": "#E5ECF6",
            "gridcolor": "white",
            "gridwidth": 2,
            "linecolor": "white",
            "showbackground": true,
            "ticks": "",
            "zerolinecolor": "white"
           },
           "yaxis": {
            "backgroundcolor": "#E5ECF6",
            "gridcolor": "white",
            "gridwidth": 2,
            "linecolor": "white",
            "showbackground": true,
            "ticks": "",
            "zerolinecolor": "white"
           },
           "zaxis": {
            "backgroundcolor": "#E5ECF6",
            "gridcolor": "white",
            "gridwidth": 2,
            "linecolor": "white",
            "showbackground": true,
            "ticks": "",
            "zerolinecolor": "white"
           }
          },
          "shapedefaults": {
           "line": {
            "color": "#2a3f5f"
           }
          },
          "ternary": {
           "aaxis": {
            "gridcolor": "white",
            "linecolor": "white",
            "ticks": ""
           },
           "baxis": {
            "gridcolor": "white",
            "linecolor": "white",
            "ticks": ""
           },
           "bgcolor": "#E5ECF6",
           "caxis": {
            "gridcolor": "white",
            "linecolor": "white",
            "ticks": ""
           }
          },
          "title": {
           "x": 0.05
          },
          "xaxis": {
           "automargin": true,
           "gridcolor": "white",
           "linecolor": "white",
           "ticks": "",
           "title": {
            "standoff": 15
           },
           "zerolinecolor": "white",
           "zerolinewidth": 2
          },
          "yaxis": {
           "automargin": true,
           "gridcolor": "white",
           "linecolor": "white",
           "ticks": "",
           "title": {
            "standoff": 15
           },
           "zerolinecolor": "white",
           "zerolinewidth": 2
          }
         }
        },
        "title": {
         "font": {
          "color": "#4D5663"
         }
        },
        "xaxis": {
         "gridcolor": "#E1E5ED",
         "showgrid": true,
         "tickfont": {
          "color": "#4D5663"
         },
         "title": {
          "font": {
           "color": "#4D5663"
          },
          "text": ""
         },
         "zerolinecolor": "#E1E5ED"
        },
        "yaxis": {
         "gridcolor": "#E1E5ED",
         "showgrid": true,
         "tickfont": {
          "color": "#4D5663"
         },
         "title": {
          "font": {
           "color": "#4D5663"
          },
          "text": ""
         },
         "zerolinecolor": "#E1E5ED"
        }
       }
      },
      "text/html": [
       "<div>\n",
       "        \n",
       "        \n",
       "            <div id=\"e56bdea8-485f-48d1-bf8a-eecf20e6882c\" class=\"plotly-graph-div\" style=\"height:525px; width:100%;\"></div>\n",
       "            <script type=\"text/javascript\">\n",
       "                require([\"plotly\"], function(Plotly) {\n",
       "                    window.PLOTLYENV=window.PLOTLYENV || {};\n",
       "                    window.PLOTLYENV.BASE_URL='https://plot.ly';\n",
       "                    \n",
       "                if (document.getElementById(\"e56bdea8-485f-48d1-bf8a-eecf20e6882c\")) {\n",
       "                    Plotly.newPlot(\n",
       "                        'e56bdea8-485f-48d1-bf8a-eecf20e6882c',\n",
       "                        [{\"line\": {\"color\": \"rgba(255, 153, 51, 1.0)\", \"dash\": \"solid\", \"shape\": \"linear\", \"width\": 1.3}, \"marker\": {\"size\": 10, \"symbol\": \"circle\"}, \"mode\": \"markers\", \"name\": \"B\", \"text\": \"\", \"type\": \"scatter\", \"x\": [-1.218991033261646, -0.5465765623202922, 0.18132417432275671, -0.014585404257609841, 0.1715182335092267, -1.3779384183098575, 2.2490010504007203, -1.2937347379867639, 0.645795456082042, -0.36282297531233015, -0.8830302929744168, 0.3978544585571979, 1.4573313754948551, -0.42499485568865564, 0.3706190593531806, 0.37736470261438537, 0.4277275289247419, -0.16226827355695023, -0.058022745855864394, -1.8487874313355865, 0.8022710961429018, -1.9470864824594507, -2.1131990933422515, -0.5106491158132542, 1.3796907827063247, -0.2829133544458733, -0.598005788070867, 0.985421725043829, -0.053580649651472724, 0.6804644985751658, 0.9481857380941411, -1.1146991830746134, 1.0275502417998543, -1.457489960262967, 0.23837190745798345, 0.5128251402478308, 0.6552122213363701, -3.1086824537421966, 0.4291926070041237, 0.7311268050114921, 0.7146906973183577, 0.23765346133515933, 0.5636683723477607, -0.19560647211511367, -1.4721539885794437, -0.1676593178014201, 0.4152099938863828, -0.9064861230077402, -0.5055774366498862, 0.5349192709445101, 2.1231913714510715, 2.2707276001335392, -1.709501621834544, 1.5200345414171992, -0.6180853646699377, 1.3204585944952765, 0.7672795518407083, -0.6968332170252055, 0.23875081210284058, 1.0277536622636916, -0.7671534331370783, -0.7377371573056383, 1.4735944964229581, -1.3514547300791788, -0.11340112276702033, 1.91749282262013, 1.2314518894288216, 0.23902470415773386, 0.7729293278824075, 0.027302940383040052, 0.7883419106958499, -0.007678428674991606, -0.4679306148027131, -0.3137113795539161, 0.5799497855130166, -0.4422423998075986, 0.013049264772897765, 1.1433034523669872, 1.2086040894753496, 1.234131361555419, -1.8422285316637823, 0.33371425688076634, -1.0086403689251748, 0.25408076638641586, -1.1537517610944619, 0.11546173547730847, -0.32788866726597193, 2.0331689908154784, 0.34797807275311415, -1.251412065531357, 0.9308890122198833, -0.8142474569278847, 0.7762675608414903, 0.8468274953365662, 1.3011474374604695, 0.05918586303413559, 2.1512380068791446, 1.5409210295246003, -1.4431005934720968, -1.0527879815155303], \"y\": [0.3419764734215199, -2.3116551242894983, 1.3348751311612044, -0.1072796179888181, 2.483217793824436, -0.0741119345885313, -1.6738723112564624, 0.14713214486023077, 0.640769561204283, 0.4618918585952571, 1.7079110887935436, -0.1707611901698053, 0.6172860108755727, 0.25794903136380476, -0.6988181776820083, -1.263302918452683, -0.045883990267492424, -0.8257294543546106, 0.9600869708265687, 0.5681263328757964, -0.3647234435365751, -2.2170174535344085, 1.7049553191012643, -0.5537308376912038, -0.5893379099827436, -0.789750324269047, -0.5968772238779839, -0.2004912957144484, -0.6246266663795919, 1.0541547531216344, 1.1407786943515277, -0.3478718293512527, -0.4655854045314903, -1.0204625318491685, -0.17134797784339065, -2.004294224309604, -1.392027639421431, -1.8088906593188325, -1.7144334237148287, -0.828272087494066, 0.11134914674790283, 0.5563361994412729, 0.11786737071859353, 1.0283021269240364, -0.6844461103765496, 0.6134588405344479, -1.6636278706256518, 0.2354302397742566, 0.4927510624220601, 1.4458444853244878, -0.85488831932789, 0.41631088070245303, 0.8861235398691205, -0.7625248083567656, 0.21295446005412047, 1.202789392766879, -1.6552505758408658, 0.671892072559935, -0.8744246595050262, 1.899602505489602, -0.9895809299587186, -1.6374685722734121, -0.9557082919513292, 0.33382359674876755, 0.6439689050896489, 1.1376245647727588, -1.3105163589059687, -0.6367229605275069, 0.20988075534801515, 0.5270543441369793, 0.06317450408580289, 0.4759314171495404, -0.3389952753783388, 1.7627682347229436, -1.4433264556437697, -0.031462496251145354, 0.633865880706928, 1.3535256368079083, -0.4180120086025204, 0.649673515838004, 1.3975641015459965, 0.1279457536374559, 0.3990092190022796, 0.44430579823054356, -0.8096813840515048, -0.11930671508494314, -1.7368783531904881, -0.7436696453065349, 0.4937511254878508, -2.4396435356718817, 1.2824265662085645, 1.9556216542278397, -0.3268638798117112, -0.49065900845493565, 0.9615252684456398, -1.4589162600753647, -0.6776441409243771, -0.8578568648111088, -0.7204412403943163, 0.5339996751188443]}],\n",
       "                        {\"legend\": {\"bgcolor\": \"#F5F6F9\", \"font\": {\"color\": \"#4D5663\"}}, \"paper_bgcolor\": \"#F5F6F9\", \"plot_bgcolor\": \"#F5F6F9\", \"template\": {\"data\": {\"bar\": [{\"error_x\": {\"color\": \"#2a3f5f\"}, \"error_y\": {\"color\": \"#2a3f5f\"}, \"marker\": {\"line\": {\"color\": \"#E5ECF6\", \"width\": 0.5}}, \"type\": \"bar\"}], \"barpolar\": [{\"marker\": {\"line\": {\"color\": \"#E5ECF6\", \"width\": 0.5}}, \"type\": \"barpolar\"}], \"carpet\": [{\"aaxis\": {\"endlinecolor\": \"#2a3f5f\", \"gridcolor\": \"white\", \"linecolor\": \"white\", \"minorgridcolor\": \"white\", \"startlinecolor\": \"#2a3f5f\"}, \"baxis\": {\"endlinecolor\": \"#2a3f5f\", \"gridcolor\": \"white\", \"linecolor\": \"white\", \"minorgridcolor\": \"white\", \"startlinecolor\": \"#2a3f5f\"}, \"type\": \"carpet\"}], \"choropleth\": [{\"colorbar\": {\"outlinewidth\": 0, \"ticks\": \"\"}, \"type\": \"choropleth\"}], \"contour\": [{\"colorbar\": {\"outlinewidth\": 0, \"ticks\": \"\"}, \"colorscale\": [[0.0, \"#0d0887\"], [0.1111111111111111, \"#46039f\"], [0.2222222222222222, \"#7201a8\"], [0.3333333333333333, \"#9c179e\"], [0.4444444444444444, \"#bd3786\"], [0.5555555555555556, \"#d8576b\"], [0.6666666666666666, \"#ed7953\"], [0.7777777777777778, \"#fb9f3a\"], [0.8888888888888888, \"#fdca26\"], [1.0, \"#f0f921\"]], \"type\": \"contour\"}], \"contourcarpet\": [{\"colorbar\": {\"outlinewidth\": 0, \"ticks\": \"\"}, \"type\": \"contourcarpet\"}], \"heatmap\": [{\"colorbar\": {\"outlinewidth\": 0, \"ticks\": \"\"}, \"colorscale\": [[0.0, \"#0d0887\"], [0.1111111111111111, \"#46039f\"], [0.2222222222222222, \"#7201a8\"], [0.3333333333333333, \"#9c179e\"], [0.4444444444444444, \"#bd3786\"], [0.5555555555555556, \"#d8576b\"], [0.6666666666666666, \"#ed7953\"], [0.7777777777777778, \"#fb9f3a\"], [0.8888888888888888, \"#fdca26\"], [1.0, \"#f0f921\"]], \"type\": \"heatmap\"}], \"heatmapgl\": [{\"colorbar\": {\"outlinewidth\": 0, \"ticks\": \"\"}, \"colorscale\": [[0.0, \"#0d0887\"], [0.1111111111111111, \"#46039f\"], [0.2222222222222222, \"#7201a8\"], [0.3333333333333333, \"#9c179e\"], [0.4444444444444444, \"#bd3786\"], [0.5555555555555556, \"#d8576b\"], [0.6666666666666666, \"#ed7953\"], [0.7777777777777778, \"#fb9f3a\"], [0.8888888888888888, \"#fdca26\"], [1.0, \"#f0f921\"]], \"type\": \"heatmapgl\"}], \"histogram\": [{\"marker\": {\"colorbar\": {\"outlinewidth\": 0, \"ticks\": \"\"}}, \"type\": \"histogram\"}], \"histogram2d\": [{\"colorbar\": {\"outlinewidth\": 0, \"ticks\": \"\"}, \"colorscale\": [[0.0, \"#0d0887\"], [0.1111111111111111, \"#46039f\"], [0.2222222222222222, \"#7201a8\"], [0.3333333333333333, \"#9c179e\"], [0.4444444444444444, \"#bd3786\"], [0.5555555555555556, \"#d8576b\"], [0.6666666666666666, \"#ed7953\"], [0.7777777777777778, \"#fb9f3a\"], [0.8888888888888888, \"#fdca26\"], [1.0, \"#f0f921\"]], \"type\": \"histogram2d\"}], \"histogram2dcontour\": [{\"colorbar\": {\"outlinewidth\": 0, \"ticks\": \"\"}, \"colorscale\": [[0.0, \"#0d0887\"], [0.1111111111111111, \"#46039f\"], [0.2222222222222222, \"#7201a8\"], [0.3333333333333333, \"#9c179e\"], [0.4444444444444444, \"#bd3786\"], [0.5555555555555556, \"#d8576b\"], [0.6666666666666666, \"#ed7953\"], [0.7777777777777778, \"#fb9f3a\"], [0.8888888888888888, \"#fdca26\"], [1.0, \"#f0f921\"]], \"type\": \"histogram2dcontour\"}], \"mesh3d\": [{\"colorbar\": {\"outlinewidth\": 0, \"ticks\": \"\"}, \"type\": \"mesh3d\"}], \"parcoords\": [{\"line\": {\"colorbar\": {\"outlinewidth\": 0, \"ticks\": \"\"}}, \"type\": \"parcoords\"}], \"pie\": [{\"automargin\": true, \"type\": \"pie\"}], \"scatter\": [{\"marker\": {\"colorbar\": {\"outlinewidth\": 0, \"ticks\": \"\"}}, \"type\": \"scatter\"}], \"scatter3d\": [{\"line\": {\"colorbar\": {\"outlinewidth\": 0, \"ticks\": \"\"}}, \"marker\": {\"colorbar\": {\"outlinewidth\": 0, \"ticks\": \"\"}}, \"type\": \"scatter3d\"}], \"scattercarpet\": [{\"marker\": {\"colorbar\": {\"outlinewidth\": 0, \"ticks\": \"\"}}, \"type\": \"scattercarpet\"}], \"scattergeo\": [{\"marker\": {\"colorbar\": {\"outlinewidth\": 0, \"ticks\": \"\"}}, \"type\": \"scattergeo\"}], \"scattergl\": [{\"marker\": {\"colorbar\": {\"outlinewidth\": 0, \"ticks\": \"\"}}, \"type\": \"scattergl\"}], \"scattermapbox\": [{\"marker\": {\"colorbar\": {\"outlinewidth\": 0, \"ticks\": \"\"}}, \"type\": \"scattermapbox\"}], \"scatterpolar\": [{\"marker\": {\"colorbar\": {\"outlinewidth\": 0, \"ticks\": \"\"}}, \"type\": \"scatterpolar\"}], \"scatterpolargl\": [{\"marker\": {\"colorbar\": {\"outlinewidth\": 0, \"ticks\": \"\"}}, \"type\": \"scatterpolargl\"}], \"scatterternary\": [{\"marker\": {\"colorbar\": {\"outlinewidth\": 0, \"ticks\": \"\"}}, \"type\": \"scatterternary\"}], \"surface\": [{\"colorbar\": {\"outlinewidth\": 0, \"ticks\": \"\"}, \"colorscale\": [[0.0, \"#0d0887\"], [0.1111111111111111, \"#46039f\"], [0.2222222222222222, \"#7201a8\"], [0.3333333333333333, \"#9c179e\"], [0.4444444444444444, \"#bd3786\"], [0.5555555555555556, \"#d8576b\"], [0.6666666666666666, \"#ed7953\"], [0.7777777777777778, \"#fb9f3a\"], [0.8888888888888888, \"#fdca26\"], [1.0, \"#f0f921\"]], \"type\": \"surface\"}], \"table\": [{\"cells\": {\"fill\": {\"color\": \"#EBF0F8\"}, \"line\": {\"color\": \"white\"}}, \"header\": {\"fill\": {\"color\": \"#C8D4E3\"}, \"line\": {\"color\": \"white\"}}, \"type\": \"table\"}]}, \"layout\": {\"annotationdefaults\": {\"arrowcolor\": \"#2a3f5f\", \"arrowhead\": 0, \"arrowwidth\": 1}, \"coloraxis\": {\"colorbar\": {\"outlinewidth\": 0, \"ticks\": \"\"}}, \"colorscale\": {\"diverging\": [[0, \"#8e0152\"], [0.1, \"#c51b7d\"], [0.2, \"#de77ae\"], [0.3, \"#f1b6da\"], [0.4, \"#fde0ef\"], [0.5, \"#f7f7f7\"], [0.6, \"#e6f5d0\"], [0.7, \"#b8e186\"], [0.8, \"#7fbc41\"], [0.9, \"#4d9221\"], [1, \"#276419\"]], \"sequential\": [[0.0, \"#0d0887\"], [0.1111111111111111, \"#46039f\"], [0.2222222222222222, \"#7201a8\"], [0.3333333333333333, \"#9c179e\"], [0.4444444444444444, \"#bd3786\"], [0.5555555555555556, \"#d8576b\"], [0.6666666666666666, \"#ed7953\"], [0.7777777777777778, \"#fb9f3a\"], [0.8888888888888888, \"#fdca26\"], [1.0, \"#f0f921\"]], \"sequentialminus\": [[0.0, \"#0d0887\"], [0.1111111111111111, \"#46039f\"], [0.2222222222222222, \"#7201a8\"], [0.3333333333333333, \"#9c179e\"], [0.4444444444444444, \"#bd3786\"], [0.5555555555555556, \"#d8576b\"], [0.6666666666666666, \"#ed7953\"], [0.7777777777777778, \"#fb9f3a\"], [0.8888888888888888, \"#fdca26\"], [1.0, \"#f0f921\"]]}, \"colorway\": [\"#636efa\", \"#EF553B\", \"#00cc96\", \"#ab63fa\", \"#FFA15A\", \"#19d3f3\", \"#FF6692\", \"#B6E880\", \"#FF97FF\", \"#FECB52\"], \"font\": {\"color\": \"#2a3f5f\"}, \"geo\": {\"bgcolor\": \"white\", \"lakecolor\": \"white\", \"landcolor\": \"#E5ECF6\", \"showlakes\": true, \"showland\": true, \"subunitcolor\": \"white\"}, \"hoverlabel\": {\"align\": \"left\"}, \"hovermode\": \"closest\", \"mapbox\": {\"style\": \"light\"}, \"paper_bgcolor\": \"white\", \"plot_bgcolor\": \"#E5ECF6\", \"polar\": {\"angularaxis\": {\"gridcolor\": \"white\", \"linecolor\": \"white\", \"ticks\": \"\"}, \"bgcolor\": \"#E5ECF6\", \"radialaxis\": {\"gridcolor\": \"white\", \"linecolor\": \"white\", \"ticks\": \"\"}}, \"scene\": {\"xaxis\": {\"backgroundcolor\": \"#E5ECF6\", \"gridcolor\": \"white\", \"gridwidth\": 2, \"linecolor\": \"white\", \"showbackground\": true, \"ticks\": \"\", \"zerolinecolor\": \"white\"}, \"yaxis\": {\"backgroundcolor\": \"#E5ECF6\", \"gridcolor\": \"white\", \"gridwidth\": 2, \"linecolor\": \"white\", \"showbackground\": true, \"ticks\": \"\", \"zerolinecolor\": \"white\"}, \"zaxis\": {\"backgroundcolor\": \"#E5ECF6\", \"gridcolor\": \"white\", \"gridwidth\": 2, \"linecolor\": \"white\", \"showbackground\": true, \"ticks\": \"\", \"zerolinecolor\": \"white\"}}, \"shapedefaults\": {\"line\": {\"color\": \"#2a3f5f\"}}, \"ternary\": {\"aaxis\": {\"gridcolor\": \"white\", \"linecolor\": \"white\", \"ticks\": \"\"}, \"baxis\": {\"gridcolor\": \"white\", \"linecolor\": \"white\", \"ticks\": \"\"}, \"bgcolor\": \"#E5ECF6\", \"caxis\": {\"gridcolor\": \"white\", \"linecolor\": \"white\", \"ticks\": \"\"}}, \"title\": {\"x\": 0.05}, \"xaxis\": {\"automargin\": true, \"gridcolor\": \"white\", \"linecolor\": \"white\", \"ticks\": \"\", \"title\": {\"standoff\": 15}, \"zerolinecolor\": \"white\", \"zerolinewidth\": 2}, \"yaxis\": {\"automargin\": true, \"gridcolor\": \"white\", \"linecolor\": \"white\", \"ticks\": \"\", \"title\": {\"standoff\": 15}, \"zerolinecolor\": \"white\", \"zerolinewidth\": 2}}}, \"title\": {\"font\": {\"color\": \"#4D5663\"}}, \"xaxis\": {\"gridcolor\": \"#E1E5ED\", \"showgrid\": true, \"tickfont\": {\"color\": \"#4D5663\"}, \"title\": {\"font\": {\"color\": \"#4D5663\"}, \"text\": \"\"}, \"zerolinecolor\": \"#E1E5ED\"}, \"yaxis\": {\"gridcolor\": \"#E1E5ED\", \"showgrid\": true, \"tickfont\": {\"color\": \"#4D5663\"}, \"title\": {\"font\": {\"color\": \"#4D5663\"}, \"text\": \"\"}, \"zerolinecolor\": \"#E1E5ED\"}},\n",
       "                        {\"showLink\": true, \"linkText\": \"Export to plot.ly\", \"plotlyServerURL\": \"https://plot.ly\", \"responsive\": true}\n",
       "                    ).then(function(){\n",
       "                            \n",
       "var gd = document.getElementById('e56bdea8-485f-48d1-bf8a-eecf20e6882c');\n",
       "var x = new MutationObserver(function (mutations, observer) {{\n",
       "        var display = window.getComputedStyle(gd).display;\n",
       "        if (!display || display === 'none') {{\n",
       "            console.log([gd, 'removed!']);\n",
       "            Plotly.purge(gd);\n",
       "            observer.disconnect();\n",
       "        }}\n",
       "}});\n",
       "\n",
       "// Listen for the removal of the full notebook cells\n",
       "var notebookContainer = gd.closest('#notebook-container');\n",
       "if (notebookContainer) {{\n",
       "    x.observe(notebookContainer, {childList: true});\n",
       "}}\n",
       "\n",
       "// Listen for the clearing of the current output cell\n",
       "var outputEl = gd.closest('.output');\n",
       "if (outputEl) {{\n",
       "    x.observe(outputEl, {childList: true});\n",
       "}}\n",
       "\n",
       "                        })\n",
       "                };\n",
       "                });\n",
       "            </script>\n",
       "        </div>"
      ]
     },
     "metadata": {},
     "output_type": "display_data"
    }
   ],
   "source": [
    "# plot x='A', y='B'\n",
    "df.iplot(kind='scatter',x='A',y='B',mode='markers',size=10)"
   ]
  },
  {
   "cell_type": "code",
   "execution_count": 11,
   "metadata": {},
   "outputs": [
    {
     "data": {
      "application/vnd.plotly.v1+json": {
       "config": {
        "linkText": "Export to plot.ly",
        "plotlyServerURL": "https://plot.ly",
        "showLink": true
       },
       "data": [
        {
         "marker": {
          "color": "rgba(255, 153, 51, 0.6)",
          "line": {
           "color": "rgba(255, 153, 51, 1.0)",
           "width": 1
          }
         },
         "name": "Values",
         "orientation": "v",
         "text": "",
         "type": "bar",
         "x": [
          "A",
          "B",
          "C"
         ],
         "y": [
          32,
          43,
          50
         ]
        }
       ],
       "layout": {
        "legend": {
         "bgcolor": "#F5F6F9",
         "font": {
          "color": "#4D5663"
         }
        },
        "paper_bgcolor": "#F5F6F9",
        "plot_bgcolor": "#F5F6F9",
        "template": {
         "data": {
          "bar": [
           {
            "error_x": {
             "color": "#2a3f5f"
            },
            "error_y": {
             "color": "#2a3f5f"
            },
            "marker": {
             "line": {
              "color": "#E5ECF6",
              "width": 0.5
             }
            },
            "type": "bar"
           }
          ],
          "barpolar": [
           {
            "marker": {
             "line": {
              "color": "#E5ECF6",
              "width": 0.5
             }
            },
            "type": "barpolar"
           }
          ],
          "carpet": [
           {
            "aaxis": {
             "endlinecolor": "#2a3f5f",
             "gridcolor": "white",
             "linecolor": "white",
             "minorgridcolor": "white",
             "startlinecolor": "#2a3f5f"
            },
            "baxis": {
             "endlinecolor": "#2a3f5f",
             "gridcolor": "white",
             "linecolor": "white",
             "minorgridcolor": "white",
             "startlinecolor": "#2a3f5f"
            },
            "type": "carpet"
           }
          ],
          "choropleth": [
           {
            "colorbar": {
             "outlinewidth": 0,
             "ticks": ""
            },
            "type": "choropleth"
           }
          ],
          "contour": [
           {
            "colorbar": {
             "outlinewidth": 0,
             "ticks": ""
            },
            "colorscale": [
             [
              0,
              "#0d0887"
             ],
             [
              0.1111111111111111,
              "#46039f"
             ],
             [
              0.2222222222222222,
              "#7201a8"
             ],
             [
              0.3333333333333333,
              "#9c179e"
             ],
             [
              0.4444444444444444,
              "#bd3786"
             ],
             [
              0.5555555555555556,
              "#d8576b"
             ],
             [
              0.6666666666666666,
              "#ed7953"
             ],
             [
              0.7777777777777778,
              "#fb9f3a"
             ],
             [
              0.8888888888888888,
              "#fdca26"
             ],
             [
              1,
              "#f0f921"
             ]
            ],
            "type": "contour"
           }
          ],
          "contourcarpet": [
           {
            "colorbar": {
             "outlinewidth": 0,
             "ticks": ""
            },
            "type": "contourcarpet"
           }
          ],
          "heatmap": [
           {
            "colorbar": {
             "outlinewidth": 0,
             "ticks": ""
            },
            "colorscale": [
             [
              0,
              "#0d0887"
             ],
             [
              0.1111111111111111,
              "#46039f"
             ],
             [
              0.2222222222222222,
              "#7201a8"
             ],
             [
              0.3333333333333333,
              "#9c179e"
             ],
             [
              0.4444444444444444,
              "#bd3786"
             ],
             [
              0.5555555555555556,
              "#d8576b"
             ],
             [
              0.6666666666666666,
              "#ed7953"
             ],
             [
              0.7777777777777778,
              "#fb9f3a"
             ],
             [
              0.8888888888888888,
              "#fdca26"
             ],
             [
              1,
              "#f0f921"
             ]
            ],
            "type": "heatmap"
           }
          ],
          "heatmapgl": [
           {
            "colorbar": {
             "outlinewidth": 0,
             "ticks": ""
            },
            "colorscale": [
             [
              0,
              "#0d0887"
             ],
             [
              0.1111111111111111,
              "#46039f"
             ],
             [
              0.2222222222222222,
              "#7201a8"
             ],
             [
              0.3333333333333333,
              "#9c179e"
             ],
             [
              0.4444444444444444,
              "#bd3786"
             ],
             [
              0.5555555555555556,
              "#d8576b"
             ],
             [
              0.6666666666666666,
              "#ed7953"
             ],
             [
              0.7777777777777778,
              "#fb9f3a"
             ],
             [
              0.8888888888888888,
              "#fdca26"
             ],
             [
              1,
              "#f0f921"
             ]
            ],
            "type": "heatmapgl"
           }
          ],
          "histogram": [
           {
            "marker": {
             "colorbar": {
              "outlinewidth": 0,
              "ticks": ""
             }
            },
            "type": "histogram"
           }
          ],
          "histogram2d": [
           {
            "colorbar": {
             "outlinewidth": 0,
             "ticks": ""
            },
            "colorscale": [
             [
              0,
              "#0d0887"
             ],
             [
              0.1111111111111111,
              "#46039f"
             ],
             [
              0.2222222222222222,
              "#7201a8"
             ],
             [
              0.3333333333333333,
              "#9c179e"
             ],
             [
              0.4444444444444444,
              "#bd3786"
             ],
             [
              0.5555555555555556,
              "#d8576b"
             ],
             [
              0.6666666666666666,
              "#ed7953"
             ],
             [
              0.7777777777777778,
              "#fb9f3a"
             ],
             [
              0.8888888888888888,
              "#fdca26"
             ],
             [
              1,
              "#f0f921"
             ]
            ],
            "type": "histogram2d"
           }
          ],
          "histogram2dcontour": [
           {
            "colorbar": {
             "outlinewidth": 0,
             "ticks": ""
            },
            "colorscale": [
             [
              0,
              "#0d0887"
             ],
             [
              0.1111111111111111,
              "#46039f"
             ],
             [
              0.2222222222222222,
              "#7201a8"
             ],
             [
              0.3333333333333333,
              "#9c179e"
             ],
             [
              0.4444444444444444,
              "#bd3786"
             ],
             [
              0.5555555555555556,
              "#d8576b"
             ],
             [
              0.6666666666666666,
              "#ed7953"
             ],
             [
              0.7777777777777778,
              "#fb9f3a"
             ],
             [
              0.8888888888888888,
              "#fdca26"
             ],
             [
              1,
              "#f0f921"
             ]
            ],
            "type": "histogram2dcontour"
           }
          ],
          "mesh3d": [
           {
            "colorbar": {
             "outlinewidth": 0,
             "ticks": ""
            },
            "type": "mesh3d"
           }
          ],
          "parcoords": [
           {
            "line": {
             "colorbar": {
              "outlinewidth": 0,
              "ticks": ""
             }
            },
            "type": "parcoords"
           }
          ],
          "pie": [
           {
            "automargin": true,
            "type": "pie"
           }
          ],
          "scatter": [
           {
            "marker": {
             "colorbar": {
              "outlinewidth": 0,
              "ticks": ""
             }
            },
            "type": "scatter"
           }
          ],
          "scatter3d": [
           {
            "line": {
             "colorbar": {
              "outlinewidth": 0,
              "ticks": ""
             }
            },
            "marker": {
             "colorbar": {
              "outlinewidth": 0,
              "ticks": ""
             }
            },
            "type": "scatter3d"
           }
          ],
          "scattercarpet": [
           {
            "marker": {
             "colorbar": {
              "outlinewidth": 0,
              "ticks": ""
             }
            },
            "type": "scattercarpet"
           }
          ],
          "scattergeo": [
           {
            "marker": {
             "colorbar": {
              "outlinewidth": 0,
              "ticks": ""
             }
            },
            "type": "scattergeo"
           }
          ],
          "scattergl": [
           {
            "marker": {
             "colorbar": {
              "outlinewidth": 0,
              "ticks": ""
             }
            },
            "type": "scattergl"
           }
          ],
          "scattermapbox": [
           {
            "marker": {
             "colorbar": {
              "outlinewidth": 0,
              "ticks": ""
             }
            },
            "type": "scattermapbox"
           }
          ],
          "scatterpolar": [
           {
            "marker": {
             "colorbar": {
              "outlinewidth": 0,
              "ticks": ""
             }
            },
            "type": "scatterpolar"
           }
          ],
          "scatterpolargl": [
           {
            "marker": {
             "colorbar": {
              "outlinewidth": 0,
              "ticks": ""
             }
            },
            "type": "scatterpolargl"
           }
          ],
          "scatterternary": [
           {
            "marker": {
             "colorbar": {
              "outlinewidth": 0,
              "ticks": ""
             }
            },
            "type": "scatterternary"
           }
          ],
          "surface": [
           {
            "colorbar": {
             "outlinewidth": 0,
             "ticks": ""
            },
            "colorscale": [
             [
              0,
              "#0d0887"
             ],
             [
              0.1111111111111111,
              "#46039f"
             ],
             [
              0.2222222222222222,
              "#7201a8"
             ],
             [
              0.3333333333333333,
              "#9c179e"
             ],
             [
              0.4444444444444444,
              "#bd3786"
             ],
             [
              0.5555555555555556,
              "#d8576b"
             ],
             [
              0.6666666666666666,
              "#ed7953"
             ],
             [
              0.7777777777777778,
              "#fb9f3a"
             ],
             [
              0.8888888888888888,
              "#fdca26"
             ],
             [
              1,
              "#f0f921"
             ]
            ],
            "type": "surface"
           }
          ],
          "table": [
           {
            "cells": {
             "fill": {
              "color": "#EBF0F8"
             },
             "line": {
              "color": "white"
             }
            },
            "header": {
             "fill": {
              "color": "#C8D4E3"
             },
             "line": {
              "color": "white"
             }
            },
            "type": "table"
           }
          ]
         },
         "layout": {
          "annotationdefaults": {
           "arrowcolor": "#2a3f5f",
           "arrowhead": 0,
           "arrowwidth": 1
          },
          "coloraxis": {
           "colorbar": {
            "outlinewidth": 0,
            "ticks": ""
           }
          },
          "colorscale": {
           "diverging": [
            [
             0,
             "#8e0152"
            ],
            [
             0.1,
             "#c51b7d"
            ],
            [
             0.2,
             "#de77ae"
            ],
            [
             0.3,
             "#f1b6da"
            ],
            [
             0.4,
             "#fde0ef"
            ],
            [
             0.5,
             "#f7f7f7"
            ],
            [
             0.6,
             "#e6f5d0"
            ],
            [
             0.7,
             "#b8e186"
            ],
            [
             0.8,
             "#7fbc41"
            ],
            [
             0.9,
             "#4d9221"
            ],
            [
             1,
             "#276419"
            ]
           ],
           "sequential": [
            [
             0,
             "#0d0887"
            ],
            [
             0.1111111111111111,
             "#46039f"
            ],
            [
             0.2222222222222222,
             "#7201a8"
            ],
            [
             0.3333333333333333,
             "#9c179e"
            ],
            [
             0.4444444444444444,
             "#bd3786"
            ],
            [
             0.5555555555555556,
             "#d8576b"
            ],
            [
             0.6666666666666666,
             "#ed7953"
            ],
            [
             0.7777777777777778,
             "#fb9f3a"
            ],
            [
             0.8888888888888888,
             "#fdca26"
            ],
            [
             1,
             "#f0f921"
            ]
           ],
           "sequentialminus": [
            [
             0,
             "#0d0887"
            ],
            [
             0.1111111111111111,
             "#46039f"
            ],
            [
             0.2222222222222222,
             "#7201a8"
            ],
            [
             0.3333333333333333,
             "#9c179e"
            ],
            [
             0.4444444444444444,
             "#bd3786"
            ],
            [
             0.5555555555555556,
             "#d8576b"
            ],
            [
             0.6666666666666666,
             "#ed7953"
            ],
            [
             0.7777777777777778,
             "#fb9f3a"
            ],
            [
             0.8888888888888888,
             "#fdca26"
            ],
            [
             1,
             "#f0f921"
            ]
           ]
          },
          "colorway": [
           "#636efa",
           "#EF553B",
           "#00cc96",
           "#ab63fa",
           "#FFA15A",
           "#19d3f3",
           "#FF6692",
           "#B6E880",
           "#FF97FF",
           "#FECB52"
          ],
          "font": {
           "color": "#2a3f5f"
          },
          "geo": {
           "bgcolor": "white",
           "lakecolor": "white",
           "landcolor": "#E5ECF6",
           "showlakes": true,
           "showland": true,
           "subunitcolor": "white"
          },
          "hoverlabel": {
           "align": "left"
          },
          "hovermode": "closest",
          "mapbox": {
           "style": "light"
          },
          "paper_bgcolor": "white",
          "plot_bgcolor": "#E5ECF6",
          "polar": {
           "angularaxis": {
            "gridcolor": "white",
            "linecolor": "white",
            "ticks": ""
           },
           "bgcolor": "#E5ECF6",
           "radialaxis": {
            "gridcolor": "white",
            "linecolor": "white",
            "ticks": ""
           }
          },
          "scene": {
           "xaxis": {
            "backgroundcolor": "#E5ECF6",
            "gridcolor": "white",
            "gridwidth": 2,
            "linecolor": "white",
            "showbackground": true,
            "ticks": "",
            "zerolinecolor": "white"
           },
           "yaxis": {
            "backgroundcolor": "#E5ECF6",
            "gridcolor": "white",
            "gridwidth": 2,
            "linecolor": "white",
            "showbackground": true,
            "ticks": "",
            "zerolinecolor": "white"
           },
           "zaxis": {
            "backgroundcolor": "#E5ECF6",
            "gridcolor": "white",
            "gridwidth": 2,
            "linecolor": "white",
            "showbackground": true,
            "ticks": "",
            "zerolinecolor": "white"
           }
          },
          "shapedefaults": {
           "line": {
            "color": "#2a3f5f"
           }
          },
          "ternary": {
           "aaxis": {
            "gridcolor": "white",
            "linecolor": "white",
            "ticks": ""
           },
           "baxis": {
            "gridcolor": "white",
            "linecolor": "white",
            "ticks": ""
           },
           "bgcolor": "#E5ECF6",
           "caxis": {
            "gridcolor": "white",
            "linecolor": "white",
            "ticks": ""
           }
          },
          "title": {
           "x": 0.05
          },
          "xaxis": {
           "automargin": true,
           "gridcolor": "white",
           "linecolor": "white",
           "ticks": "",
           "title": {
            "standoff": 15
           },
           "zerolinecolor": "white",
           "zerolinewidth": 2
          },
          "yaxis": {
           "automargin": true,
           "gridcolor": "white",
           "linecolor": "white",
           "ticks": "",
           "title": {
            "standoff": 15
           },
           "zerolinecolor": "white",
           "zerolinewidth": 2
          }
         }
        },
        "title": {
         "font": {
          "color": "#4D5663"
         }
        },
        "xaxis": {
         "gridcolor": "#E1E5ED",
         "showgrid": true,
         "tickfont": {
          "color": "#4D5663"
         },
         "title": {
          "font": {
           "color": "#4D5663"
          },
          "text": ""
         },
         "zerolinecolor": "#E1E5ED"
        },
        "yaxis": {
         "gridcolor": "#E1E5ED",
         "showgrid": true,
         "tickfont": {
          "color": "#4D5663"
         },
         "title": {
          "font": {
           "color": "#4D5663"
          },
          "text": ""
         },
         "zerolinecolor": "#E1E5ED"
        }
       }
      },
      "text/html": [
       "<div>\n",
       "        \n",
       "        \n",
       "            <div id=\"ece6c6dc-0935-499c-aa58-0d518a0f6bbb\" class=\"plotly-graph-div\" style=\"height:525px; width:100%;\"></div>\n",
       "            <script type=\"text/javascript\">\n",
       "                require([\"plotly\"], function(Plotly) {\n",
       "                    window.PLOTLYENV=window.PLOTLYENV || {};\n",
       "                    window.PLOTLYENV.BASE_URL='https://plot.ly';\n",
       "                    \n",
       "                if (document.getElementById(\"ece6c6dc-0935-499c-aa58-0d518a0f6bbb\")) {\n",
       "                    Plotly.newPlot(\n",
       "                        'ece6c6dc-0935-499c-aa58-0d518a0f6bbb',\n",
       "                        [{\"marker\": {\"color\": \"rgba(255, 153, 51, 0.6)\", \"line\": {\"color\": \"rgba(255, 153, 51, 1.0)\", \"width\": 1}}, \"name\": \"Values\", \"orientation\": \"v\", \"text\": \"\", \"type\": \"bar\", \"x\": [\"A\", \"B\", \"C\"], \"y\": [32, 43, 50]}],\n",
       "                        {\"legend\": {\"bgcolor\": \"#F5F6F9\", \"font\": {\"color\": \"#4D5663\"}}, \"paper_bgcolor\": \"#F5F6F9\", \"plot_bgcolor\": \"#F5F6F9\", \"template\": {\"data\": {\"bar\": [{\"error_x\": {\"color\": \"#2a3f5f\"}, \"error_y\": {\"color\": \"#2a3f5f\"}, \"marker\": {\"line\": {\"color\": \"#E5ECF6\", \"width\": 0.5}}, \"type\": \"bar\"}], \"barpolar\": [{\"marker\": {\"line\": {\"color\": \"#E5ECF6\", \"width\": 0.5}}, \"type\": \"barpolar\"}], \"carpet\": [{\"aaxis\": {\"endlinecolor\": \"#2a3f5f\", \"gridcolor\": \"white\", \"linecolor\": \"white\", \"minorgridcolor\": \"white\", \"startlinecolor\": \"#2a3f5f\"}, \"baxis\": {\"endlinecolor\": \"#2a3f5f\", \"gridcolor\": \"white\", \"linecolor\": \"white\", \"minorgridcolor\": \"white\", \"startlinecolor\": \"#2a3f5f\"}, \"type\": \"carpet\"}], \"choropleth\": [{\"colorbar\": {\"outlinewidth\": 0, \"ticks\": \"\"}, \"type\": \"choropleth\"}], \"contour\": [{\"colorbar\": {\"outlinewidth\": 0, \"ticks\": \"\"}, \"colorscale\": [[0.0, \"#0d0887\"], [0.1111111111111111, \"#46039f\"], [0.2222222222222222, \"#7201a8\"], [0.3333333333333333, \"#9c179e\"], [0.4444444444444444, \"#bd3786\"], [0.5555555555555556, \"#d8576b\"], [0.6666666666666666, \"#ed7953\"], [0.7777777777777778, \"#fb9f3a\"], [0.8888888888888888, \"#fdca26\"], [1.0, \"#f0f921\"]], \"type\": \"contour\"}], \"contourcarpet\": [{\"colorbar\": {\"outlinewidth\": 0, \"ticks\": \"\"}, \"type\": \"contourcarpet\"}], \"heatmap\": [{\"colorbar\": {\"outlinewidth\": 0, \"ticks\": \"\"}, \"colorscale\": [[0.0, \"#0d0887\"], [0.1111111111111111, \"#46039f\"], [0.2222222222222222, \"#7201a8\"], [0.3333333333333333, \"#9c179e\"], [0.4444444444444444, \"#bd3786\"], [0.5555555555555556, \"#d8576b\"], [0.6666666666666666, \"#ed7953\"], [0.7777777777777778, \"#fb9f3a\"], [0.8888888888888888, \"#fdca26\"], [1.0, \"#f0f921\"]], \"type\": \"heatmap\"}], \"heatmapgl\": [{\"colorbar\": {\"outlinewidth\": 0, \"ticks\": \"\"}, \"colorscale\": [[0.0, \"#0d0887\"], [0.1111111111111111, \"#46039f\"], [0.2222222222222222, \"#7201a8\"], [0.3333333333333333, \"#9c179e\"], [0.4444444444444444, \"#bd3786\"], [0.5555555555555556, \"#d8576b\"], [0.6666666666666666, \"#ed7953\"], [0.7777777777777778, \"#fb9f3a\"], [0.8888888888888888, \"#fdca26\"], [1.0, \"#f0f921\"]], \"type\": \"heatmapgl\"}], \"histogram\": [{\"marker\": {\"colorbar\": {\"outlinewidth\": 0, \"ticks\": \"\"}}, \"type\": \"histogram\"}], \"histogram2d\": [{\"colorbar\": {\"outlinewidth\": 0, \"ticks\": \"\"}, \"colorscale\": [[0.0, \"#0d0887\"], [0.1111111111111111, \"#46039f\"], [0.2222222222222222, \"#7201a8\"], [0.3333333333333333, \"#9c179e\"], [0.4444444444444444, \"#bd3786\"], [0.5555555555555556, \"#d8576b\"], [0.6666666666666666, \"#ed7953\"], [0.7777777777777778, \"#fb9f3a\"], [0.8888888888888888, \"#fdca26\"], [1.0, \"#f0f921\"]], \"type\": \"histogram2d\"}], \"histogram2dcontour\": [{\"colorbar\": {\"outlinewidth\": 0, \"ticks\": \"\"}, \"colorscale\": [[0.0, \"#0d0887\"], [0.1111111111111111, \"#46039f\"], [0.2222222222222222, \"#7201a8\"], [0.3333333333333333, \"#9c179e\"], [0.4444444444444444, \"#bd3786\"], [0.5555555555555556, \"#d8576b\"], [0.6666666666666666, \"#ed7953\"], [0.7777777777777778, \"#fb9f3a\"], [0.8888888888888888, \"#fdca26\"], [1.0, \"#f0f921\"]], \"type\": \"histogram2dcontour\"}], \"mesh3d\": [{\"colorbar\": {\"outlinewidth\": 0, \"ticks\": \"\"}, \"type\": \"mesh3d\"}], \"parcoords\": [{\"line\": {\"colorbar\": {\"outlinewidth\": 0, \"ticks\": \"\"}}, \"type\": \"parcoords\"}], \"pie\": [{\"automargin\": true, \"type\": \"pie\"}], \"scatter\": [{\"marker\": {\"colorbar\": {\"outlinewidth\": 0, \"ticks\": \"\"}}, \"type\": \"scatter\"}], \"scatter3d\": [{\"line\": {\"colorbar\": {\"outlinewidth\": 0, \"ticks\": \"\"}}, \"marker\": {\"colorbar\": {\"outlinewidth\": 0, \"ticks\": \"\"}}, \"type\": \"scatter3d\"}], \"scattercarpet\": [{\"marker\": {\"colorbar\": {\"outlinewidth\": 0, \"ticks\": \"\"}}, \"type\": \"scattercarpet\"}], \"scattergeo\": [{\"marker\": {\"colorbar\": {\"outlinewidth\": 0, \"ticks\": \"\"}}, \"type\": \"scattergeo\"}], \"scattergl\": [{\"marker\": {\"colorbar\": {\"outlinewidth\": 0, \"ticks\": \"\"}}, \"type\": \"scattergl\"}], \"scattermapbox\": [{\"marker\": {\"colorbar\": {\"outlinewidth\": 0, \"ticks\": \"\"}}, \"type\": \"scattermapbox\"}], \"scatterpolar\": [{\"marker\": {\"colorbar\": {\"outlinewidth\": 0, \"ticks\": \"\"}}, \"type\": \"scatterpolar\"}], \"scatterpolargl\": [{\"marker\": {\"colorbar\": {\"outlinewidth\": 0, \"ticks\": \"\"}}, \"type\": \"scatterpolargl\"}], \"scatterternary\": [{\"marker\": {\"colorbar\": {\"outlinewidth\": 0, \"ticks\": \"\"}}, \"type\": \"scatterternary\"}], \"surface\": [{\"colorbar\": {\"outlinewidth\": 0, \"ticks\": \"\"}, \"colorscale\": [[0.0, \"#0d0887\"], [0.1111111111111111, \"#46039f\"], [0.2222222222222222, \"#7201a8\"], [0.3333333333333333, \"#9c179e\"], [0.4444444444444444, \"#bd3786\"], [0.5555555555555556, \"#d8576b\"], [0.6666666666666666, \"#ed7953\"], [0.7777777777777778, \"#fb9f3a\"], [0.8888888888888888, \"#fdca26\"], [1.0, \"#f0f921\"]], \"type\": \"surface\"}], \"table\": [{\"cells\": {\"fill\": {\"color\": \"#EBF0F8\"}, \"line\": {\"color\": \"white\"}}, \"header\": {\"fill\": {\"color\": \"#C8D4E3\"}, \"line\": {\"color\": \"white\"}}, \"type\": \"table\"}]}, \"layout\": {\"annotationdefaults\": {\"arrowcolor\": \"#2a3f5f\", \"arrowhead\": 0, \"arrowwidth\": 1}, \"coloraxis\": {\"colorbar\": {\"outlinewidth\": 0, \"ticks\": \"\"}}, \"colorscale\": {\"diverging\": [[0, \"#8e0152\"], [0.1, \"#c51b7d\"], [0.2, \"#de77ae\"], [0.3, \"#f1b6da\"], [0.4, \"#fde0ef\"], [0.5, \"#f7f7f7\"], [0.6, \"#e6f5d0\"], [0.7, \"#b8e186\"], [0.8, \"#7fbc41\"], [0.9, \"#4d9221\"], [1, \"#276419\"]], \"sequential\": [[0.0, \"#0d0887\"], [0.1111111111111111, \"#46039f\"], [0.2222222222222222, \"#7201a8\"], [0.3333333333333333, \"#9c179e\"], [0.4444444444444444, \"#bd3786\"], [0.5555555555555556, \"#d8576b\"], [0.6666666666666666, \"#ed7953\"], [0.7777777777777778, \"#fb9f3a\"], [0.8888888888888888, \"#fdca26\"], [1.0, \"#f0f921\"]], \"sequentialminus\": [[0.0, \"#0d0887\"], [0.1111111111111111, \"#46039f\"], [0.2222222222222222, \"#7201a8\"], [0.3333333333333333, \"#9c179e\"], [0.4444444444444444, \"#bd3786\"], [0.5555555555555556, \"#d8576b\"], [0.6666666666666666, \"#ed7953\"], [0.7777777777777778, \"#fb9f3a\"], [0.8888888888888888, \"#fdca26\"], [1.0, \"#f0f921\"]]}, \"colorway\": [\"#636efa\", \"#EF553B\", \"#00cc96\", \"#ab63fa\", \"#FFA15A\", \"#19d3f3\", \"#FF6692\", \"#B6E880\", \"#FF97FF\", \"#FECB52\"], \"font\": {\"color\": \"#2a3f5f\"}, \"geo\": {\"bgcolor\": \"white\", \"lakecolor\": \"white\", \"landcolor\": \"#E5ECF6\", \"showlakes\": true, \"showland\": true, \"subunitcolor\": \"white\"}, \"hoverlabel\": {\"align\": \"left\"}, \"hovermode\": \"closest\", \"mapbox\": {\"style\": \"light\"}, \"paper_bgcolor\": \"white\", \"plot_bgcolor\": \"#E5ECF6\", \"polar\": {\"angularaxis\": {\"gridcolor\": \"white\", \"linecolor\": \"white\", \"ticks\": \"\"}, \"bgcolor\": \"#E5ECF6\", \"radialaxis\": {\"gridcolor\": \"white\", \"linecolor\": \"white\", \"ticks\": \"\"}}, \"scene\": {\"xaxis\": {\"backgroundcolor\": \"#E5ECF6\", \"gridcolor\": \"white\", \"gridwidth\": 2, \"linecolor\": \"white\", \"showbackground\": true, \"ticks\": \"\", \"zerolinecolor\": \"white\"}, \"yaxis\": {\"backgroundcolor\": \"#E5ECF6\", \"gridcolor\": \"white\", \"gridwidth\": 2, \"linecolor\": \"white\", \"showbackground\": true, \"ticks\": \"\", \"zerolinecolor\": \"white\"}, \"zaxis\": {\"backgroundcolor\": \"#E5ECF6\", \"gridcolor\": \"white\", \"gridwidth\": 2, \"linecolor\": \"white\", \"showbackground\": true, \"ticks\": \"\", \"zerolinecolor\": \"white\"}}, \"shapedefaults\": {\"line\": {\"color\": \"#2a3f5f\"}}, \"ternary\": {\"aaxis\": {\"gridcolor\": \"white\", \"linecolor\": \"white\", \"ticks\": \"\"}, \"baxis\": {\"gridcolor\": \"white\", \"linecolor\": \"white\", \"ticks\": \"\"}, \"bgcolor\": \"#E5ECF6\", \"caxis\": {\"gridcolor\": \"white\", \"linecolor\": \"white\", \"ticks\": \"\"}}, \"title\": {\"x\": 0.05}, \"xaxis\": {\"automargin\": true, \"gridcolor\": \"white\", \"linecolor\": \"white\", \"ticks\": \"\", \"title\": {\"standoff\": 15}, \"zerolinecolor\": \"white\", \"zerolinewidth\": 2}, \"yaxis\": {\"automargin\": true, \"gridcolor\": \"white\", \"linecolor\": \"white\", \"ticks\": \"\", \"title\": {\"standoff\": 15}, \"zerolinecolor\": \"white\", \"zerolinewidth\": 2}}}, \"title\": {\"font\": {\"color\": \"#4D5663\"}}, \"xaxis\": {\"gridcolor\": \"#E1E5ED\", \"showgrid\": true, \"tickfont\": {\"color\": \"#4D5663\"}, \"title\": {\"font\": {\"color\": \"#4D5663\"}, \"text\": \"\"}, \"zerolinecolor\": \"#E1E5ED\"}, \"yaxis\": {\"gridcolor\": \"#E1E5ED\", \"showgrid\": true, \"tickfont\": {\"color\": \"#4D5663\"}, \"title\": {\"font\": {\"color\": \"#4D5663\"}, \"text\": \"\"}, \"zerolinecolor\": \"#E1E5ED\"}},\n",
       "                        {\"showLink\": true, \"linkText\": \"Export to plot.ly\", \"plotlyServerURL\": \"https://plot.ly\", \"responsive\": true}\n",
       "                    ).then(function(){\n",
       "                            \n",
       "var gd = document.getElementById('ece6c6dc-0935-499c-aa58-0d518a0f6bbb');\n",
       "var x = new MutationObserver(function (mutations, observer) {{\n",
       "        var display = window.getComputedStyle(gd).display;\n",
       "        if (!display || display === 'none') {{\n",
       "            console.log([gd, 'removed!']);\n",
       "            Plotly.purge(gd);\n",
       "            observer.disconnect();\n",
       "        }}\n",
       "}});\n",
       "\n",
       "// Listen for the removal of the full notebook cells\n",
       "var notebookContainer = gd.closest('#notebook-container');\n",
       "if (notebookContainer) {{\n",
       "    x.observe(notebookContainer, {childList: true});\n",
       "}}\n",
       "\n",
       "// Listen for the clearing of the current output cell\n",
       "var outputEl = gd.closest('.output');\n",
       "if (outputEl) {{\n",
       "    x.observe(outputEl, {childList: true});\n",
       "}}\n",
       "\n",
       "                        })\n",
       "                };\n",
       "                });\n",
       "            </script>\n",
       "        </div>"
      ]
     },
     "metadata": {},
     "output_type": "display_data"
    }
   ],
   "source": [
    "# plot df2 x='Category', y='Values'\n",
    "df2.iplot(kind='bar',x='Category',y='Values')"
   ]
  },
  {
   "cell_type": "code",
   "execution_count": 13,
   "metadata": {},
   "outputs": [
    {
     "data": {
      "application/vnd.plotly.v1+json": {
       "config": {
        "linkText": "Export to plot.ly",
        "plotlyServerURL": "https://plot.ly",
        "showLink": true
       },
       "data": [
        {
         "marker": {
          "color": "rgba(255, 153, 51, 0.6)",
          "line": {
           "color": "rgba(255, 153, 51, 1.0)",
           "width": 1
          }
         },
         "name": "None",
         "orientation": "v",
         "text": "",
         "type": "bar",
         "x": [
          "A",
          "B",
          "C",
          "D"
         ],
         "y": [
          100,
          100,
          100,
          100
         ]
        }
       ],
       "layout": {
        "legend": {
         "bgcolor": "#F5F6F9",
         "font": {
          "color": "#4D5663"
         }
        },
        "paper_bgcolor": "#F5F6F9",
        "plot_bgcolor": "#F5F6F9",
        "template": {
         "data": {
          "bar": [
           {
            "error_x": {
             "color": "#2a3f5f"
            },
            "error_y": {
             "color": "#2a3f5f"
            },
            "marker": {
             "line": {
              "color": "#E5ECF6",
              "width": 0.5
             }
            },
            "type": "bar"
           }
          ],
          "barpolar": [
           {
            "marker": {
             "line": {
              "color": "#E5ECF6",
              "width": 0.5
             }
            },
            "type": "barpolar"
           }
          ],
          "carpet": [
           {
            "aaxis": {
             "endlinecolor": "#2a3f5f",
             "gridcolor": "white",
             "linecolor": "white",
             "minorgridcolor": "white",
             "startlinecolor": "#2a3f5f"
            },
            "baxis": {
             "endlinecolor": "#2a3f5f",
             "gridcolor": "white",
             "linecolor": "white",
             "minorgridcolor": "white",
             "startlinecolor": "#2a3f5f"
            },
            "type": "carpet"
           }
          ],
          "choropleth": [
           {
            "colorbar": {
             "outlinewidth": 0,
             "ticks": ""
            },
            "type": "choropleth"
           }
          ],
          "contour": [
           {
            "colorbar": {
             "outlinewidth": 0,
             "ticks": ""
            },
            "colorscale": [
             [
              0,
              "#0d0887"
             ],
             [
              0.1111111111111111,
              "#46039f"
             ],
             [
              0.2222222222222222,
              "#7201a8"
             ],
             [
              0.3333333333333333,
              "#9c179e"
             ],
             [
              0.4444444444444444,
              "#bd3786"
             ],
             [
              0.5555555555555556,
              "#d8576b"
             ],
             [
              0.6666666666666666,
              "#ed7953"
             ],
             [
              0.7777777777777778,
              "#fb9f3a"
             ],
             [
              0.8888888888888888,
              "#fdca26"
             ],
             [
              1,
              "#f0f921"
             ]
            ],
            "type": "contour"
           }
          ],
          "contourcarpet": [
           {
            "colorbar": {
             "outlinewidth": 0,
             "ticks": ""
            },
            "type": "contourcarpet"
           }
          ],
          "heatmap": [
           {
            "colorbar": {
             "outlinewidth": 0,
             "ticks": ""
            },
            "colorscale": [
             [
              0,
              "#0d0887"
             ],
             [
              0.1111111111111111,
              "#46039f"
             ],
             [
              0.2222222222222222,
              "#7201a8"
             ],
             [
              0.3333333333333333,
              "#9c179e"
             ],
             [
              0.4444444444444444,
              "#bd3786"
             ],
             [
              0.5555555555555556,
              "#d8576b"
             ],
             [
              0.6666666666666666,
              "#ed7953"
             ],
             [
              0.7777777777777778,
              "#fb9f3a"
             ],
             [
              0.8888888888888888,
              "#fdca26"
             ],
             [
              1,
              "#f0f921"
             ]
            ],
            "type": "heatmap"
           }
          ],
          "heatmapgl": [
           {
            "colorbar": {
             "outlinewidth": 0,
             "ticks": ""
            },
            "colorscale": [
             [
              0,
              "#0d0887"
             ],
             [
              0.1111111111111111,
              "#46039f"
             ],
             [
              0.2222222222222222,
              "#7201a8"
             ],
             [
              0.3333333333333333,
              "#9c179e"
             ],
             [
              0.4444444444444444,
              "#bd3786"
             ],
             [
              0.5555555555555556,
              "#d8576b"
             ],
             [
              0.6666666666666666,
              "#ed7953"
             ],
             [
              0.7777777777777778,
              "#fb9f3a"
             ],
             [
              0.8888888888888888,
              "#fdca26"
             ],
             [
              1,
              "#f0f921"
             ]
            ],
            "type": "heatmapgl"
           }
          ],
          "histogram": [
           {
            "marker": {
             "colorbar": {
              "outlinewidth": 0,
              "ticks": ""
             }
            },
            "type": "histogram"
           }
          ],
          "histogram2d": [
           {
            "colorbar": {
             "outlinewidth": 0,
             "ticks": ""
            },
            "colorscale": [
             [
              0,
              "#0d0887"
             ],
             [
              0.1111111111111111,
              "#46039f"
             ],
             [
              0.2222222222222222,
              "#7201a8"
             ],
             [
              0.3333333333333333,
              "#9c179e"
             ],
             [
              0.4444444444444444,
              "#bd3786"
             ],
             [
              0.5555555555555556,
              "#d8576b"
             ],
             [
              0.6666666666666666,
              "#ed7953"
             ],
             [
              0.7777777777777778,
              "#fb9f3a"
             ],
             [
              0.8888888888888888,
              "#fdca26"
             ],
             [
              1,
              "#f0f921"
             ]
            ],
            "type": "histogram2d"
           }
          ],
          "histogram2dcontour": [
           {
            "colorbar": {
             "outlinewidth": 0,
             "ticks": ""
            },
            "colorscale": [
             [
              0,
              "#0d0887"
             ],
             [
              0.1111111111111111,
              "#46039f"
             ],
             [
              0.2222222222222222,
              "#7201a8"
             ],
             [
              0.3333333333333333,
              "#9c179e"
             ],
             [
              0.4444444444444444,
              "#bd3786"
             ],
             [
              0.5555555555555556,
              "#d8576b"
             ],
             [
              0.6666666666666666,
              "#ed7953"
             ],
             [
              0.7777777777777778,
              "#fb9f3a"
             ],
             [
              0.8888888888888888,
              "#fdca26"
             ],
             [
              1,
              "#f0f921"
             ]
            ],
            "type": "histogram2dcontour"
           }
          ],
          "mesh3d": [
           {
            "colorbar": {
             "outlinewidth": 0,
             "ticks": ""
            },
            "type": "mesh3d"
           }
          ],
          "parcoords": [
           {
            "line": {
             "colorbar": {
              "outlinewidth": 0,
              "ticks": ""
             }
            },
            "type": "parcoords"
           }
          ],
          "pie": [
           {
            "automargin": true,
            "type": "pie"
           }
          ],
          "scatter": [
           {
            "marker": {
             "colorbar": {
              "outlinewidth": 0,
              "ticks": ""
             }
            },
            "type": "scatter"
           }
          ],
          "scatter3d": [
           {
            "line": {
             "colorbar": {
              "outlinewidth": 0,
              "ticks": ""
             }
            },
            "marker": {
             "colorbar": {
              "outlinewidth": 0,
              "ticks": ""
             }
            },
            "type": "scatter3d"
           }
          ],
          "scattercarpet": [
           {
            "marker": {
             "colorbar": {
              "outlinewidth": 0,
              "ticks": ""
             }
            },
            "type": "scattercarpet"
           }
          ],
          "scattergeo": [
           {
            "marker": {
             "colorbar": {
              "outlinewidth": 0,
              "ticks": ""
             }
            },
            "type": "scattergeo"
           }
          ],
          "scattergl": [
           {
            "marker": {
             "colorbar": {
              "outlinewidth": 0,
              "ticks": ""
             }
            },
            "type": "scattergl"
           }
          ],
          "scattermapbox": [
           {
            "marker": {
             "colorbar": {
              "outlinewidth": 0,
              "ticks": ""
             }
            },
            "type": "scattermapbox"
           }
          ],
          "scatterpolar": [
           {
            "marker": {
             "colorbar": {
              "outlinewidth": 0,
              "ticks": ""
             }
            },
            "type": "scatterpolar"
           }
          ],
          "scatterpolargl": [
           {
            "marker": {
             "colorbar": {
              "outlinewidth": 0,
              "ticks": ""
             }
            },
            "type": "scatterpolargl"
           }
          ],
          "scatterternary": [
           {
            "marker": {
             "colorbar": {
              "outlinewidth": 0,
              "ticks": ""
             }
            },
            "type": "scatterternary"
           }
          ],
          "surface": [
           {
            "colorbar": {
             "outlinewidth": 0,
             "ticks": ""
            },
            "colorscale": [
             [
              0,
              "#0d0887"
             ],
             [
              0.1111111111111111,
              "#46039f"
             ],
             [
              0.2222222222222222,
              "#7201a8"
             ],
             [
              0.3333333333333333,
              "#9c179e"
             ],
             [
              0.4444444444444444,
              "#bd3786"
             ],
             [
              0.5555555555555556,
              "#d8576b"
             ],
             [
              0.6666666666666666,
              "#ed7953"
             ],
             [
              0.7777777777777778,
              "#fb9f3a"
             ],
             [
              0.8888888888888888,
              "#fdca26"
             ],
             [
              1,
              "#f0f921"
             ]
            ],
            "type": "surface"
           }
          ],
          "table": [
           {
            "cells": {
             "fill": {
              "color": "#EBF0F8"
             },
             "line": {
              "color": "white"
             }
            },
            "header": {
             "fill": {
              "color": "#C8D4E3"
             },
             "line": {
              "color": "white"
             }
            },
            "type": "table"
           }
          ]
         },
         "layout": {
          "annotationdefaults": {
           "arrowcolor": "#2a3f5f",
           "arrowhead": 0,
           "arrowwidth": 1
          },
          "coloraxis": {
           "colorbar": {
            "outlinewidth": 0,
            "ticks": ""
           }
          },
          "colorscale": {
           "diverging": [
            [
             0,
             "#8e0152"
            ],
            [
             0.1,
             "#c51b7d"
            ],
            [
             0.2,
             "#de77ae"
            ],
            [
             0.3,
             "#f1b6da"
            ],
            [
             0.4,
             "#fde0ef"
            ],
            [
             0.5,
             "#f7f7f7"
            ],
            [
             0.6,
             "#e6f5d0"
            ],
            [
             0.7,
             "#b8e186"
            ],
            [
             0.8,
             "#7fbc41"
            ],
            [
             0.9,
             "#4d9221"
            ],
            [
             1,
             "#276419"
            ]
           ],
           "sequential": [
            [
             0,
             "#0d0887"
            ],
            [
             0.1111111111111111,
             "#46039f"
            ],
            [
             0.2222222222222222,
             "#7201a8"
            ],
            [
             0.3333333333333333,
             "#9c179e"
            ],
            [
             0.4444444444444444,
             "#bd3786"
            ],
            [
             0.5555555555555556,
             "#d8576b"
            ],
            [
             0.6666666666666666,
             "#ed7953"
            ],
            [
             0.7777777777777778,
             "#fb9f3a"
            ],
            [
             0.8888888888888888,
             "#fdca26"
            ],
            [
             1,
             "#f0f921"
            ]
           ],
           "sequentialminus": [
            [
             0,
             "#0d0887"
            ],
            [
             0.1111111111111111,
             "#46039f"
            ],
            [
             0.2222222222222222,
             "#7201a8"
            ],
            [
             0.3333333333333333,
             "#9c179e"
            ],
            [
             0.4444444444444444,
             "#bd3786"
            ],
            [
             0.5555555555555556,
             "#d8576b"
            ],
            [
             0.6666666666666666,
             "#ed7953"
            ],
            [
             0.7777777777777778,
             "#fb9f3a"
            ],
            [
             0.8888888888888888,
             "#fdca26"
            ],
            [
             1,
             "#f0f921"
            ]
           ]
          },
          "colorway": [
           "#636efa",
           "#EF553B",
           "#00cc96",
           "#ab63fa",
           "#FFA15A",
           "#19d3f3",
           "#FF6692",
           "#B6E880",
           "#FF97FF",
           "#FECB52"
          ],
          "font": {
           "color": "#2a3f5f"
          },
          "geo": {
           "bgcolor": "white",
           "lakecolor": "white",
           "landcolor": "#E5ECF6",
           "showlakes": true,
           "showland": true,
           "subunitcolor": "white"
          },
          "hoverlabel": {
           "align": "left"
          },
          "hovermode": "closest",
          "mapbox": {
           "style": "light"
          },
          "paper_bgcolor": "white",
          "plot_bgcolor": "#E5ECF6",
          "polar": {
           "angularaxis": {
            "gridcolor": "white",
            "linecolor": "white",
            "ticks": ""
           },
           "bgcolor": "#E5ECF6",
           "radialaxis": {
            "gridcolor": "white",
            "linecolor": "white",
            "ticks": ""
           }
          },
          "scene": {
           "xaxis": {
            "backgroundcolor": "#E5ECF6",
            "gridcolor": "white",
            "gridwidth": 2,
            "linecolor": "white",
            "showbackground": true,
            "ticks": "",
            "zerolinecolor": "white"
           },
           "yaxis": {
            "backgroundcolor": "#E5ECF6",
            "gridcolor": "white",
            "gridwidth": 2,
            "linecolor": "white",
            "showbackground": true,
            "ticks": "",
            "zerolinecolor": "white"
           },
           "zaxis": {
            "backgroundcolor": "#E5ECF6",
            "gridcolor": "white",
            "gridwidth": 2,
            "linecolor": "white",
            "showbackground": true,
            "ticks": "",
            "zerolinecolor": "white"
           }
          },
          "shapedefaults": {
           "line": {
            "color": "#2a3f5f"
           }
          },
          "ternary": {
           "aaxis": {
            "gridcolor": "white",
            "linecolor": "white",
            "ticks": ""
           },
           "baxis": {
            "gridcolor": "white",
            "linecolor": "white",
            "ticks": ""
           },
           "bgcolor": "#E5ECF6",
           "caxis": {
            "gridcolor": "white",
            "linecolor": "white",
            "ticks": ""
           }
          },
          "title": {
           "x": 0.05
          },
          "xaxis": {
           "automargin": true,
           "gridcolor": "white",
           "linecolor": "white",
           "ticks": "",
           "title": {
            "standoff": 15
           },
           "zerolinecolor": "white",
           "zerolinewidth": 2
          },
          "yaxis": {
           "automargin": true,
           "gridcolor": "white",
           "linecolor": "white",
           "ticks": "",
           "title": {
            "standoff": 15
           },
           "zerolinecolor": "white",
           "zerolinewidth": 2
          }
         }
        },
        "title": {
         "font": {
          "color": "#4D5663"
         }
        },
        "xaxis": {
         "gridcolor": "#E1E5ED",
         "showgrid": true,
         "tickfont": {
          "color": "#4D5663"
         },
         "title": {
          "font": {
           "color": "#4D5663"
          },
          "text": ""
         },
         "zerolinecolor": "#E1E5ED"
        },
        "yaxis": {
         "gridcolor": "#E1E5ED",
         "showgrid": true,
         "tickfont": {
          "color": "#4D5663"
         },
         "title": {
          "font": {
           "color": "#4D5663"
          },
          "text": ""
         },
         "zerolinecolor": "#E1E5ED"
        }
       }
      },
      "text/html": [
       "<div>\n",
       "        \n",
       "        \n",
       "            <div id=\"4bcb3caa-f834-4ed6-b72b-6e34489d674f\" class=\"plotly-graph-div\" style=\"height:525px; width:100%;\"></div>\n",
       "            <script type=\"text/javascript\">\n",
       "                require([\"plotly\"], function(Plotly) {\n",
       "                    window.PLOTLYENV=window.PLOTLYENV || {};\n",
       "                    window.PLOTLYENV.BASE_URL='https://plot.ly';\n",
       "                    \n",
       "                if (document.getElementById(\"4bcb3caa-f834-4ed6-b72b-6e34489d674f\")) {\n",
       "                    Plotly.newPlot(\n",
       "                        '4bcb3caa-f834-4ed6-b72b-6e34489d674f',\n",
       "                        [{\"marker\": {\"color\": \"rgba(255, 153, 51, 0.6)\", \"line\": {\"color\": \"rgba(255, 153, 51, 1.0)\", \"width\": 1}}, \"name\": \"None\", \"orientation\": \"v\", \"text\": \"\", \"type\": \"bar\", \"x\": [\"A\", \"B\", \"C\", \"D\"], \"y\": [100, 100, 100, 100]}],\n",
       "                        {\"legend\": {\"bgcolor\": \"#F5F6F9\", \"font\": {\"color\": \"#4D5663\"}}, \"paper_bgcolor\": \"#F5F6F9\", \"plot_bgcolor\": \"#F5F6F9\", \"template\": {\"data\": {\"bar\": [{\"error_x\": {\"color\": \"#2a3f5f\"}, \"error_y\": {\"color\": \"#2a3f5f\"}, \"marker\": {\"line\": {\"color\": \"#E5ECF6\", \"width\": 0.5}}, \"type\": \"bar\"}], \"barpolar\": [{\"marker\": {\"line\": {\"color\": \"#E5ECF6\", \"width\": 0.5}}, \"type\": \"barpolar\"}], \"carpet\": [{\"aaxis\": {\"endlinecolor\": \"#2a3f5f\", \"gridcolor\": \"white\", \"linecolor\": \"white\", \"minorgridcolor\": \"white\", \"startlinecolor\": \"#2a3f5f\"}, \"baxis\": {\"endlinecolor\": \"#2a3f5f\", \"gridcolor\": \"white\", \"linecolor\": \"white\", \"minorgridcolor\": \"white\", \"startlinecolor\": \"#2a3f5f\"}, \"type\": \"carpet\"}], \"choropleth\": [{\"colorbar\": {\"outlinewidth\": 0, \"ticks\": \"\"}, \"type\": \"choropleth\"}], \"contour\": [{\"colorbar\": {\"outlinewidth\": 0, \"ticks\": \"\"}, \"colorscale\": [[0.0, \"#0d0887\"], [0.1111111111111111, \"#46039f\"], [0.2222222222222222, \"#7201a8\"], [0.3333333333333333, \"#9c179e\"], [0.4444444444444444, \"#bd3786\"], [0.5555555555555556, \"#d8576b\"], [0.6666666666666666, \"#ed7953\"], [0.7777777777777778, \"#fb9f3a\"], [0.8888888888888888, \"#fdca26\"], [1.0, \"#f0f921\"]], \"type\": \"contour\"}], \"contourcarpet\": [{\"colorbar\": {\"outlinewidth\": 0, \"ticks\": \"\"}, \"type\": \"contourcarpet\"}], \"heatmap\": [{\"colorbar\": {\"outlinewidth\": 0, \"ticks\": \"\"}, \"colorscale\": [[0.0, \"#0d0887\"], [0.1111111111111111, \"#46039f\"], [0.2222222222222222, \"#7201a8\"], [0.3333333333333333, \"#9c179e\"], [0.4444444444444444, \"#bd3786\"], [0.5555555555555556, \"#d8576b\"], [0.6666666666666666, \"#ed7953\"], [0.7777777777777778, \"#fb9f3a\"], [0.8888888888888888, \"#fdca26\"], [1.0, \"#f0f921\"]], \"type\": \"heatmap\"}], \"heatmapgl\": [{\"colorbar\": {\"outlinewidth\": 0, \"ticks\": \"\"}, \"colorscale\": [[0.0, \"#0d0887\"], [0.1111111111111111, \"#46039f\"], [0.2222222222222222, \"#7201a8\"], [0.3333333333333333, \"#9c179e\"], [0.4444444444444444, \"#bd3786\"], [0.5555555555555556, \"#d8576b\"], [0.6666666666666666, \"#ed7953\"], [0.7777777777777778, \"#fb9f3a\"], [0.8888888888888888, \"#fdca26\"], [1.0, \"#f0f921\"]], \"type\": \"heatmapgl\"}], \"histogram\": [{\"marker\": {\"colorbar\": {\"outlinewidth\": 0, \"ticks\": \"\"}}, \"type\": \"histogram\"}], \"histogram2d\": [{\"colorbar\": {\"outlinewidth\": 0, \"ticks\": \"\"}, \"colorscale\": [[0.0, \"#0d0887\"], [0.1111111111111111, \"#46039f\"], [0.2222222222222222, \"#7201a8\"], [0.3333333333333333, \"#9c179e\"], [0.4444444444444444, \"#bd3786\"], [0.5555555555555556, \"#d8576b\"], [0.6666666666666666, \"#ed7953\"], [0.7777777777777778, \"#fb9f3a\"], [0.8888888888888888, \"#fdca26\"], [1.0, \"#f0f921\"]], \"type\": \"histogram2d\"}], \"histogram2dcontour\": [{\"colorbar\": {\"outlinewidth\": 0, \"ticks\": \"\"}, \"colorscale\": [[0.0, \"#0d0887\"], [0.1111111111111111, \"#46039f\"], [0.2222222222222222, \"#7201a8\"], [0.3333333333333333, \"#9c179e\"], [0.4444444444444444, \"#bd3786\"], [0.5555555555555556, \"#d8576b\"], [0.6666666666666666, \"#ed7953\"], [0.7777777777777778, \"#fb9f3a\"], [0.8888888888888888, \"#fdca26\"], [1.0, \"#f0f921\"]], \"type\": \"histogram2dcontour\"}], \"mesh3d\": [{\"colorbar\": {\"outlinewidth\": 0, \"ticks\": \"\"}, \"type\": \"mesh3d\"}], \"parcoords\": [{\"line\": {\"colorbar\": {\"outlinewidth\": 0, \"ticks\": \"\"}}, \"type\": \"parcoords\"}], \"pie\": [{\"automargin\": true, \"type\": \"pie\"}], \"scatter\": [{\"marker\": {\"colorbar\": {\"outlinewidth\": 0, \"ticks\": \"\"}}, \"type\": \"scatter\"}], \"scatter3d\": [{\"line\": {\"colorbar\": {\"outlinewidth\": 0, \"ticks\": \"\"}}, \"marker\": {\"colorbar\": {\"outlinewidth\": 0, \"ticks\": \"\"}}, \"type\": \"scatter3d\"}], \"scattercarpet\": [{\"marker\": {\"colorbar\": {\"outlinewidth\": 0, \"ticks\": \"\"}}, \"type\": \"scattercarpet\"}], \"scattergeo\": [{\"marker\": {\"colorbar\": {\"outlinewidth\": 0, \"ticks\": \"\"}}, \"type\": \"scattergeo\"}], \"scattergl\": [{\"marker\": {\"colorbar\": {\"outlinewidth\": 0, \"ticks\": \"\"}}, \"type\": \"scattergl\"}], \"scattermapbox\": [{\"marker\": {\"colorbar\": {\"outlinewidth\": 0, \"ticks\": \"\"}}, \"type\": \"scattermapbox\"}], \"scatterpolar\": [{\"marker\": {\"colorbar\": {\"outlinewidth\": 0, \"ticks\": \"\"}}, \"type\": \"scatterpolar\"}], \"scatterpolargl\": [{\"marker\": {\"colorbar\": {\"outlinewidth\": 0, \"ticks\": \"\"}}, \"type\": \"scatterpolargl\"}], \"scatterternary\": [{\"marker\": {\"colorbar\": {\"outlinewidth\": 0, \"ticks\": \"\"}}, \"type\": \"scatterternary\"}], \"surface\": [{\"colorbar\": {\"outlinewidth\": 0, \"ticks\": \"\"}, \"colorscale\": [[0.0, \"#0d0887\"], [0.1111111111111111, \"#46039f\"], [0.2222222222222222, \"#7201a8\"], [0.3333333333333333, \"#9c179e\"], [0.4444444444444444, \"#bd3786\"], [0.5555555555555556, \"#d8576b\"], [0.6666666666666666, \"#ed7953\"], [0.7777777777777778, \"#fb9f3a\"], [0.8888888888888888, \"#fdca26\"], [1.0, \"#f0f921\"]], \"type\": \"surface\"}], \"table\": [{\"cells\": {\"fill\": {\"color\": \"#EBF0F8\"}, \"line\": {\"color\": \"white\"}}, \"header\": {\"fill\": {\"color\": \"#C8D4E3\"}, \"line\": {\"color\": \"white\"}}, \"type\": \"table\"}]}, \"layout\": {\"annotationdefaults\": {\"arrowcolor\": \"#2a3f5f\", \"arrowhead\": 0, \"arrowwidth\": 1}, \"coloraxis\": {\"colorbar\": {\"outlinewidth\": 0, \"ticks\": \"\"}}, \"colorscale\": {\"diverging\": [[0, \"#8e0152\"], [0.1, \"#c51b7d\"], [0.2, \"#de77ae\"], [0.3, \"#f1b6da\"], [0.4, \"#fde0ef\"], [0.5, \"#f7f7f7\"], [0.6, \"#e6f5d0\"], [0.7, \"#b8e186\"], [0.8, \"#7fbc41\"], [0.9, \"#4d9221\"], [1, \"#276419\"]], \"sequential\": [[0.0, \"#0d0887\"], [0.1111111111111111, \"#46039f\"], [0.2222222222222222, \"#7201a8\"], [0.3333333333333333, \"#9c179e\"], [0.4444444444444444, \"#bd3786\"], [0.5555555555555556, \"#d8576b\"], [0.6666666666666666, \"#ed7953\"], [0.7777777777777778, \"#fb9f3a\"], [0.8888888888888888, \"#fdca26\"], [1.0, \"#f0f921\"]], \"sequentialminus\": [[0.0, \"#0d0887\"], [0.1111111111111111, \"#46039f\"], [0.2222222222222222, \"#7201a8\"], [0.3333333333333333, \"#9c179e\"], [0.4444444444444444, \"#bd3786\"], [0.5555555555555556, \"#d8576b\"], [0.6666666666666666, \"#ed7953\"], [0.7777777777777778, \"#fb9f3a\"], [0.8888888888888888, \"#fdca26\"], [1.0, \"#f0f921\"]]}, \"colorway\": [\"#636efa\", \"#EF553B\", \"#00cc96\", \"#ab63fa\", \"#FFA15A\", \"#19d3f3\", \"#FF6692\", \"#B6E880\", \"#FF97FF\", \"#FECB52\"], \"font\": {\"color\": \"#2a3f5f\"}, \"geo\": {\"bgcolor\": \"white\", \"lakecolor\": \"white\", \"landcolor\": \"#E5ECF6\", \"showlakes\": true, \"showland\": true, \"subunitcolor\": \"white\"}, \"hoverlabel\": {\"align\": \"left\"}, \"hovermode\": \"closest\", \"mapbox\": {\"style\": \"light\"}, \"paper_bgcolor\": \"white\", \"plot_bgcolor\": \"#E5ECF6\", \"polar\": {\"angularaxis\": {\"gridcolor\": \"white\", \"linecolor\": \"white\", \"ticks\": \"\"}, \"bgcolor\": \"#E5ECF6\", \"radialaxis\": {\"gridcolor\": \"white\", \"linecolor\": \"white\", \"ticks\": \"\"}}, \"scene\": {\"xaxis\": {\"backgroundcolor\": \"#E5ECF6\", \"gridcolor\": \"white\", \"gridwidth\": 2, \"linecolor\": \"white\", \"showbackground\": true, \"ticks\": \"\", \"zerolinecolor\": \"white\"}, \"yaxis\": {\"backgroundcolor\": \"#E5ECF6\", \"gridcolor\": \"white\", \"gridwidth\": 2, \"linecolor\": \"white\", \"showbackground\": true, \"ticks\": \"\", \"zerolinecolor\": \"white\"}, \"zaxis\": {\"backgroundcolor\": \"#E5ECF6\", \"gridcolor\": \"white\", \"gridwidth\": 2, \"linecolor\": \"white\", \"showbackground\": true, \"ticks\": \"\", \"zerolinecolor\": \"white\"}}, \"shapedefaults\": {\"line\": {\"color\": \"#2a3f5f\"}}, \"ternary\": {\"aaxis\": {\"gridcolor\": \"white\", \"linecolor\": \"white\", \"ticks\": \"\"}, \"baxis\": {\"gridcolor\": \"white\", \"linecolor\": \"white\", \"ticks\": \"\"}, \"bgcolor\": \"#E5ECF6\", \"caxis\": {\"gridcolor\": \"white\", \"linecolor\": \"white\", \"ticks\": \"\"}}, \"title\": {\"x\": 0.05}, \"xaxis\": {\"automargin\": true, \"gridcolor\": \"white\", \"linecolor\": \"white\", \"ticks\": \"\", \"title\": {\"standoff\": 15}, \"zerolinecolor\": \"white\", \"zerolinewidth\": 2}, \"yaxis\": {\"automargin\": true, \"gridcolor\": \"white\", \"linecolor\": \"white\", \"ticks\": \"\", \"title\": {\"standoff\": 15}, \"zerolinecolor\": \"white\", \"zerolinewidth\": 2}}}, \"title\": {\"font\": {\"color\": \"#4D5663\"}}, \"xaxis\": {\"gridcolor\": \"#E1E5ED\", \"showgrid\": true, \"tickfont\": {\"color\": \"#4D5663\"}, \"title\": {\"font\": {\"color\": \"#4D5663\"}, \"text\": \"\"}, \"zerolinecolor\": \"#E1E5ED\"}, \"yaxis\": {\"gridcolor\": \"#E1E5ED\", \"showgrid\": true, \"tickfont\": {\"color\": \"#4D5663\"}, \"title\": {\"font\": {\"color\": \"#4D5663\"}, \"text\": \"\"}, \"zerolinecolor\": \"#E1E5ED\"}},\n",
       "                        {\"showLink\": true, \"linkText\": \"Export to plot.ly\", \"plotlyServerURL\": \"https://plot.ly\", \"responsive\": true}\n",
       "                    ).then(function(){\n",
       "                            \n",
       "var gd = document.getElementById('4bcb3caa-f834-4ed6-b72b-6e34489d674f');\n",
       "var x = new MutationObserver(function (mutations, observer) {{\n",
       "        var display = window.getComputedStyle(gd).display;\n",
       "        if (!display || display === 'none') {{\n",
       "            console.log([gd, 'removed!']);\n",
       "            Plotly.purge(gd);\n",
       "            observer.disconnect();\n",
       "        }}\n",
       "}});\n",
       "\n",
       "// Listen for the removal of the full notebook cells\n",
       "var notebookContainer = gd.closest('#notebook-container');\n",
       "if (notebookContainer) {{\n",
       "    x.observe(notebookContainer, {childList: true});\n",
       "}}\n",
       "\n",
       "// Listen for the clearing of the current output cell\n",
       "var outputEl = gd.closest('.output');\n",
       "if (outputEl) {{\n",
       "    x.observe(outputEl, {childList: true});\n",
       "}}\n",
       "\n",
       "                        })\n",
       "                };\n",
       "                });\n",
       "            </script>\n",
       "        </div>"
      ]
     },
     "metadata": {},
     "output_type": "display_data"
    }
   ],
   "source": [
    "df.count().iplot(kind='bar')"
   ]
  },
  {
   "cell_type": "code",
   "execution_count": 14,
   "metadata": {},
   "outputs": [
    {
     "data": {
      "application/vnd.plotly.v1+json": {
       "config": {
        "linkText": "Export to plot.ly",
        "plotlyServerURL": "https://plot.ly",
        "showLink": true
       },
       "data": [
        {
         "boxpoints": false,
         "line": {
          "width": 1.3
         },
         "marker": {
          "color": "rgba(255, 153, 51, 1.0)"
         },
         "name": "A",
         "orientation": "v",
         "type": "box",
         "y": [
          -1.218991033261646,
          -0.5465765623202922,
          0.18132417432275671,
          -0.014585404257609841,
          0.1715182335092267,
          -1.3779384183098575,
          2.2490010504007203,
          -1.2937347379867639,
          0.645795456082042,
          -0.36282297531233015,
          -0.8830302929744168,
          0.3978544585571979,
          1.4573313754948551,
          -0.42499485568865564,
          0.3706190593531806,
          0.37736470261438537,
          0.4277275289247419,
          -0.16226827355695023,
          -0.058022745855864394,
          -1.8487874313355865,
          0.8022710961429018,
          -1.9470864824594507,
          -2.1131990933422515,
          -0.5106491158132542,
          1.3796907827063247,
          -0.2829133544458733,
          -0.598005788070867,
          0.985421725043829,
          -0.053580649651472724,
          0.6804644985751658,
          0.9481857380941411,
          -1.1146991830746134,
          1.0275502417998543,
          -1.457489960262967,
          0.23837190745798345,
          0.5128251402478308,
          0.6552122213363701,
          -3.1086824537421966,
          0.4291926070041237,
          0.7311268050114921,
          0.7146906973183577,
          0.23765346133515933,
          0.5636683723477607,
          -0.19560647211511367,
          -1.4721539885794437,
          -0.1676593178014201,
          0.4152099938863828,
          -0.9064861230077402,
          -0.5055774366498862,
          0.5349192709445101,
          2.1231913714510715,
          2.2707276001335392,
          -1.709501621834544,
          1.5200345414171992,
          -0.6180853646699377,
          1.3204585944952765,
          0.7672795518407083,
          -0.6968332170252055,
          0.23875081210284058,
          1.0277536622636916,
          -0.7671534331370783,
          -0.7377371573056383,
          1.4735944964229581,
          -1.3514547300791788,
          -0.11340112276702033,
          1.91749282262013,
          1.2314518894288216,
          0.23902470415773386,
          0.7729293278824075,
          0.027302940383040052,
          0.7883419106958499,
          -0.007678428674991606,
          -0.4679306148027131,
          -0.3137113795539161,
          0.5799497855130166,
          -0.4422423998075986,
          0.013049264772897765,
          1.1433034523669872,
          1.2086040894753496,
          1.234131361555419,
          -1.8422285316637823,
          0.33371425688076634,
          -1.0086403689251748,
          0.25408076638641586,
          -1.1537517610944619,
          0.11546173547730847,
          -0.32788866726597193,
          2.0331689908154784,
          0.34797807275311415,
          -1.251412065531357,
          0.9308890122198833,
          -0.8142474569278847,
          0.7762675608414903,
          0.8468274953365662,
          1.3011474374604695,
          0.05918586303413559,
          2.1512380068791446,
          1.5409210295246003,
          -1.4431005934720968,
          -1.0527879815155303
         ]
        },
        {
         "boxpoints": false,
         "line": {
          "width": 1.3
         },
         "marker": {
          "color": "rgba(55, 128, 191, 1.0)"
         },
         "name": "B",
         "orientation": "v",
         "type": "box",
         "y": [
          0.3419764734215199,
          -2.3116551242894983,
          1.3348751311612044,
          -0.1072796179888181,
          2.483217793824436,
          -0.0741119345885313,
          -1.6738723112564624,
          0.14713214486023077,
          0.640769561204283,
          0.4618918585952571,
          1.7079110887935436,
          -0.1707611901698053,
          0.6172860108755727,
          0.25794903136380476,
          -0.6988181776820083,
          -1.263302918452683,
          -0.045883990267492424,
          -0.8257294543546106,
          0.9600869708265687,
          0.5681263328757964,
          -0.3647234435365751,
          -2.2170174535344085,
          1.7049553191012643,
          -0.5537308376912038,
          -0.5893379099827436,
          -0.789750324269047,
          -0.5968772238779839,
          -0.2004912957144484,
          -0.6246266663795919,
          1.0541547531216344,
          1.1407786943515277,
          -0.3478718293512527,
          -0.4655854045314903,
          -1.0204625318491685,
          -0.17134797784339065,
          -2.004294224309604,
          -1.392027639421431,
          -1.8088906593188325,
          -1.7144334237148287,
          -0.828272087494066,
          0.11134914674790283,
          0.5563361994412729,
          0.11786737071859353,
          1.0283021269240364,
          -0.6844461103765496,
          0.6134588405344479,
          -1.6636278706256518,
          0.2354302397742566,
          0.4927510624220601,
          1.4458444853244878,
          -0.85488831932789,
          0.41631088070245303,
          0.8861235398691205,
          -0.7625248083567656,
          0.21295446005412047,
          1.202789392766879,
          -1.6552505758408658,
          0.671892072559935,
          -0.8744246595050262,
          1.899602505489602,
          -0.9895809299587186,
          -1.6374685722734121,
          -0.9557082919513292,
          0.33382359674876755,
          0.6439689050896489,
          1.1376245647727588,
          -1.3105163589059687,
          -0.6367229605275069,
          0.20988075534801515,
          0.5270543441369793,
          0.06317450408580289,
          0.4759314171495404,
          -0.3389952753783388,
          1.7627682347229436,
          -1.4433264556437697,
          -0.031462496251145354,
          0.633865880706928,
          1.3535256368079083,
          -0.4180120086025204,
          0.649673515838004,
          1.3975641015459965,
          0.1279457536374559,
          0.3990092190022796,
          0.44430579823054356,
          -0.8096813840515048,
          -0.11930671508494314,
          -1.7368783531904881,
          -0.7436696453065349,
          0.4937511254878508,
          -2.4396435356718817,
          1.2824265662085645,
          1.9556216542278397,
          -0.3268638798117112,
          -0.49065900845493565,
          0.9615252684456398,
          -1.4589162600753647,
          -0.6776441409243771,
          -0.8578568648111088,
          -0.7204412403943163,
          0.5339996751188443
         ]
        },
        {
         "boxpoints": false,
         "line": {
          "width": 1.3
         },
         "marker": {
          "color": "rgba(50, 171, 96, 1.0)"
         },
         "name": "C",
         "orientation": "v",
         "type": "box",
         "y": [
          -0.24686037129796642,
          -0.4795152376078478,
          0.14944367353787624,
          -0.6853527509718431,
          -1.7028468412412232,
          -0.7798818649599734,
          -0.19234053531112388,
          1.7804995095213754,
          -0.04036287646092673,
          -0.723546250475408,
          1.2155456251649457,
          1.0232165078548712,
          -1.0911591939514995,
          -1.4002945185590945,
          -0.9844024695347182,
          -2.5047733815436293,
          0.5891949946312317,
          0.8313392608625283,
          -2.2746833841723615,
          1.6541512665364435,
          0.21784756601440292,
          0.17445575961753562,
          -1.836852104607844,
          0.16325692077638956,
          -0.7935380739116973,
          0.027907503343331128,
          0.8538002676217139,
          -0.6241359044203422,
          -0.23572394655403262,
          0.8594923322254395,
          -1.447564171823515,
          -0.7852302212592579,
          0.497907566479336,
          -0.7093121216228477,
          -0.19087085966957418,
          -0.9331632945694524,
          -0.4104664553598608,
          -0.7903672196642071,
          -1.3552161912919363,
          -0.7763144272697288,
          0.49976133703708603,
          1.1611012988017406,
          -1.735752908375946,
          1.6437986218317118,
          -0.3017809423983048,
          -1.0826105475980088,
          0.016447894583500777,
          0.6202116503828169,
          0.2106450284731047,
          0.6221618836777782,
          -1.2464583082253475,
          -1.966314968076596,
          0.24388177796065524,
          -1.0376743625885156,
          -1.5203900572276658,
          1.4884300136739879,
          0.4944193659097848,
          -0.23129290772190259,
          1.4419410558315484,
          -1.0292185001501921,
          -0.3751839069304503,
          0.09924120865871619,
          0.028048690524174302,
          0.8402965979079163,
          -0.4671039314424817,
          0.9047348889601571,
          -0.6907026203871445,
          0.6262362359171377,
          -0.6322554988488555,
          0.1978533428520716,
          -1.0530917743988188,
          0.16532577645258734,
          0.2518417349615779,
          -1.2022077742857284,
          -0.12399051256752064,
          -0.6447977621584156,
          -0.6698689412931773,
          -1.0581532991225995,
          0.6314371002384549,
          -1.7864811633511934,
          0.39332895131897516,
          -0.5331979122115895,
          -1.1559830542579275,
          1.5772819646789715,
          -0.25984296964278736,
          1.0390858679051702,
          -0.6520278543657485,
          1.0653763533133234,
          -0.4122669377041702,
          0.0013760273155446487,
          0.13381253402436236,
          -0.6447555619163449,
          0.37792047574193927,
          -2.0204643701988,
          0.11469767046781733,
          0.2804461252509056,
          0.2436637417779295,
          -0.4374641695700345,
          0.4466910722431926,
          2.1902908363556435
         ]
        },
        {
         "boxpoints": false,
         "line": {
          "width": 1.3
         },
         "marker": {
          "color": "rgba(128, 0, 128, 1.0)"
         },
         "name": "D",
         "orientation": "v",
         "type": "box",
         "y": [
          -0.8733379686732633,
          0.22475225260711695,
          0.6003728631702283,
          -0.7475414849079879,
          -0.8731505829973676,
          0.8794751908632622,
          1.296856464902928,
          -0.9506100017110891,
          0.752827343619869,
          -1.1691130187985874,
          -0.8712647315318274,
          0.5636707451512812,
          -0.1710308114854158,
          -1.7284270524020178,
          -0.3243556032739408,
          -0.16943133213397807,
          -1.0171772198234792,
          1.5304562840453813,
          1.056722380873873,
          3.2089934521101906,
          0.5729850310454369,
          0.028372268084173743,
          -0.2151406424218395,
          -2.322619057508341,
          0.2533427669895896,
          0.07603831793752841,
          0.26380781727939784,
          -0.5164559164420952,
          -2.72594572061758,
          0.406426122275474,
          -1.2627246222217865,
          -0.9132968666759071,
          0.2539262943902931,
          1.4326200424242648,
          -0.37767853047554395,
          -1.0656203927411103,
          -0.05973524592289964,
          -1.7529754743037604,
          0.6068891984383418,
          -0.3879168068123651,
          -1.035013461891617,
          -1.743126195948102,
          -0.2918481438691077,
          -0.01512351099964492,
          0.25101023259815236,
          0.4085577002000313,
          1.1100131818513306,
          0.3360818394416731,
          -0.9548494324521819,
          2.2283342953425396,
          -0.9067222987945611,
          -0.7321078118365565,
          0.5514428455787548,
          -1.3630870736162113,
          1.018136184934407,
          0.21751250949153464,
          -0.3767115947121578,
          -0.5546640063079199,
          -0.8871416712895261,
          0.18312008628051119,
          0.1758129638643444,
          -2.0698039327466375,
          -2.293021317161217,
          -0.807571995301875,
          0.3040450616345944,
          1.5092880425580266,
          -0.8950246832042933,
          -0.5762162690274315,
          0.6949419055709126,
          1.0640067317219322,
          -0.4519146300615394,
          -0.21886174030688288,
          -0.8095655902907344,
          0.4986230829694079,
          0.5666132607080857,
          0.6026061625795713,
          -0.004757499389226333,
          0.3514419991162287,
          -0.281905126041759,
          0.8872631290195736,
          -0.22962566128815565,
          -1.017646111435563,
          -0.5635721343076957,
          0.3011979834291313,
          -0.24042255174804705,
          0.713671166459918,
          0.08503230912733772,
          0.7243525345541257,
          0.6447885187854636,
          0.39057435386990397,
          0.6983754191501598,
          -0.6092719601781813,
          1.1731475780318703,
          0.28246898876269433,
          -0.2315336569167173,
          -0.13757611784336787,
          0.5521933098305067,
          0.4305914371706155,
          0.8385826217826156,
          0.5184135563823262
         ]
        }
       ],
       "layout": {
        "legend": {
         "bgcolor": "#F5F6F9",
         "font": {
          "color": "#4D5663"
         }
        },
        "paper_bgcolor": "#F5F6F9",
        "plot_bgcolor": "#F5F6F9",
        "template": {
         "data": {
          "bar": [
           {
            "error_x": {
             "color": "#2a3f5f"
            },
            "error_y": {
             "color": "#2a3f5f"
            },
            "marker": {
             "line": {
              "color": "#E5ECF6",
              "width": 0.5
             }
            },
            "type": "bar"
           }
          ],
          "barpolar": [
           {
            "marker": {
             "line": {
              "color": "#E5ECF6",
              "width": 0.5
             }
            },
            "type": "barpolar"
           }
          ],
          "carpet": [
           {
            "aaxis": {
             "endlinecolor": "#2a3f5f",
             "gridcolor": "white",
             "linecolor": "white",
             "minorgridcolor": "white",
             "startlinecolor": "#2a3f5f"
            },
            "baxis": {
             "endlinecolor": "#2a3f5f",
             "gridcolor": "white",
             "linecolor": "white",
             "minorgridcolor": "white",
             "startlinecolor": "#2a3f5f"
            },
            "type": "carpet"
           }
          ],
          "choropleth": [
           {
            "colorbar": {
             "outlinewidth": 0,
             "ticks": ""
            },
            "type": "choropleth"
           }
          ],
          "contour": [
           {
            "colorbar": {
             "outlinewidth": 0,
             "ticks": ""
            },
            "colorscale": [
             [
              0,
              "#0d0887"
             ],
             [
              0.1111111111111111,
              "#46039f"
             ],
             [
              0.2222222222222222,
              "#7201a8"
             ],
             [
              0.3333333333333333,
              "#9c179e"
             ],
             [
              0.4444444444444444,
              "#bd3786"
             ],
             [
              0.5555555555555556,
              "#d8576b"
             ],
             [
              0.6666666666666666,
              "#ed7953"
             ],
             [
              0.7777777777777778,
              "#fb9f3a"
             ],
             [
              0.8888888888888888,
              "#fdca26"
             ],
             [
              1,
              "#f0f921"
             ]
            ],
            "type": "contour"
           }
          ],
          "contourcarpet": [
           {
            "colorbar": {
             "outlinewidth": 0,
             "ticks": ""
            },
            "type": "contourcarpet"
           }
          ],
          "heatmap": [
           {
            "colorbar": {
             "outlinewidth": 0,
             "ticks": ""
            },
            "colorscale": [
             [
              0,
              "#0d0887"
             ],
             [
              0.1111111111111111,
              "#46039f"
             ],
             [
              0.2222222222222222,
              "#7201a8"
             ],
             [
              0.3333333333333333,
              "#9c179e"
             ],
             [
              0.4444444444444444,
              "#bd3786"
             ],
             [
              0.5555555555555556,
              "#d8576b"
             ],
             [
              0.6666666666666666,
              "#ed7953"
             ],
             [
              0.7777777777777778,
              "#fb9f3a"
             ],
             [
              0.8888888888888888,
              "#fdca26"
             ],
             [
              1,
              "#f0f921"
             ]
            ],
            "type": "heatmap"
           }
          ],
          "heatmapgl": [
           {
            "colorbar": {
             "outlinewidth": 0,
             "ticks": ""
            },
            "colorscale": [
             [
              0,
              "#0d0887"
             ],
             [
              0.1111111111111111,
              "#46039f"
             ],
             [
              0.2222222222222222,
              "#7201a8"
             ],
             [
              0.3333333333333333,
              "#9c179e"
             ],
             [
              0.4444444444444444,
              "#bd3786"
             ],
             [
              0.5555555555555556,
              "#d8576b"
             ],
             [
              0.6666666666666666,
              "#ed7953"
             ],
             [
              0.7777777777777778,
              "#fb9f3a"
             ],
             [
              0.8888888888888888,
              "#fdca26"
             ],
             [
              1,
              "#f0f921"
             ]
            ],
            "type": "heatmapgl"
           }
          ],
          "histogram": [
           {
            "marker": {
             "colorbar": {
              "outlinewidth": 0,
              "ticks": ""
             }
            },
            "type": "histogram"
           }
          ],
          "histogram2d": [
           {
            "colorbar": {
             "outlinewidth": 0,
             "ticks": ""
            },
            "colorscale": [
             [
              0,
              "#0d0887"
             ],
             [
              0.1111111111111111,
              "#46039f"
             ],
             [
              0.2222222222222222,
              "#7201a8"
             ],
             [
              0.3333333333333333,
              "#9c179e"
             ],
             [
              0.4444444444444444,
              "#bd3786"
             ],
             [
              0.5555555555555556,
              "#d8576b"
             ],
             [
              0.6666666666666666,
              "#ed7953"
             ],
             [
              0.7777777777777778,
              "#fb9f3a"
             ],
             [
              0.8888888888888888,
              "#fdca26"
             ],
             [
              1,
              "#f0f921"
             ]
            ],
            "type": "histogram2d"
           }
          ],
          "histogram2dcontour": [
           {
            "colorbar": {
             "outlinewidth": 0,
             "ticks": ""
            },
            "colorscale": [
             [
              0,
              "#0d0887"
             ],
             [
              0.1111111111111111,
              "#46039f"
             ],
             [
              0.2222222222222222,
              "#7201a8"
             ],
             [
              0.3333333333333333,
              "#9c179e"
             ],
             [
              0.4444444444444444,
              "#bd3786"
             ],
             [
              0.5555555555555556,
              "#d8576b"
             ],
             [
              0.6666666666666666,
              "#ed7953"
             ],
             [
              0.7777777777777778,
              "#fb9f3a"
             ],
             [
              0.8888888888888888,
              "#fdca26"
             ],
             [
              1,
              "#f0f921"
             ]
            ],
            "type": "histogram2dcontour"
           }
          ],
          "mesh3d": [
           {
            "colorbar": {
             "outlinewidth": 0,
             "ticks": ""
            },
            "type": "mesh3d"
           }
          ],
          "parcoords": [
           {
            "line": {
             "colorbar": {
              "outlinewidth": 0,
              "ticks": ""
             }
            },
            "type": "parcoords"
           }
          ],
          "pie": [
           {
            "automargin": true,
            "type": "pie"
           }
          ],
          "scatter": [
           {
            "marker": {
             "colorbar": {
              "outlinewidth": 0,
              "ticks": ""
             }
            },
            "type": "scatter"
           }
          ],
          "scatter3d": [
           {
            "line": {
             "colorbar": {
              "outlinewidth": 0,
              "ticks": ""
             }
            },
            "marker": {
             "colorbar": {
              "outlinewidth": 0,
              "ticks": ""
             }
            },
            "type": "scatter3d"
           }
          ],
          "scattercarpet": [
           {
            "marker": {
             "colorbar": {
              "outlinewidth": 0,
              "ticks": ""
             }
            },
            "type": "scattercarpet"
           }
          ],
          "scattergeo": [
           {
            "marker": {
             "colorbar": {
              "outlinewidth": 0,
              "ticks": ""
             }
            },
            "type": "scattergeo"
           }
          ],
          "scattergl": [
           {
            "marker": {
             "colorbar": {
              "outlinewidth": 0,
              "ticks": ""
             }
            },
            "type": "scattergl"
           }
          ],
          "scattermapbox": [
           {
            "marker": {
             "colorbar": {
              "outlinewidth": 0,
              "ticks": ""
             }
            },
            "type": "scattermapbox"
           }
          ],
          "scatterpolar": [
           {
            "marker": {
             "colorbar": {
              "outlinewidth": 0,
              "ticks": ""
             }
            },
            "type": "scatterpolar"
           }
          ],
          "scatterpolargl": [
           {
            "marker": {
             "colorbar": {
              "outlinewidth": 0,
              "ticks": ""
             }
            },
            "type": "scatterpolargl"
           }
          ],
          "scatterternary": [
           {
            "marker": {
             "colorbar": {
              "outlinewidth": 0,
              "ticks": ""
             }
            },
            "type": "scatterternary"
           }
          ],
          "surface": [
           {
            "colorbar": {
             "outlinewidth": 0,
             "ticks": ""
            },
            "colorscale": [
             [
              0,
              "#0d0887"
             ],
             [
              0.1111111111111111,
              "#46039f"
             ],
             [
              0.2222222222222222,
              "#7201a8"
             ],
             [
              0.3333333333333333,
              "#9c179e"
             ],
             [
              0.4444444444444444,
              "#bd3786"
             ],
             [
              0.5555555555555556,
              "#d8576b"
             ],
             [
              0.6666666666666666,
              "#ed7953"
             ],
             [
              0.7777777777777778,
              "#fb9f3a"
             ],
             [
              0.8888888888888888,
              "#fdca26"
             ],
             [
              1,
              "#f0f921"
             ]
            ],
            "type": "surface"
           }
          ],
          "table": [
           {
            "cells": {
             "fill": {
              "color": "#EBF0F8"
             },
             "line": {
              "color": "white"
             }
            },
            "header": {
             "fill": {
              "color": "#C8D4E3"
             },
             "line": {
              "color": "white"
             }
            },
            "type": "table"
           }
          ]
         },
         "layout": {
          "annotationdefaults": {
           "arrowcolor": "#2a3f5f",
           "arrowhead": 0,
           "arrowwidth": 1
          },
          "coloraxis": {
           "colorbar": {
            "outlinewidth": 0,
            "ticks": ""
           }
          },
          "colorscale": {
           "diverging": [
            [
             0,
             "#8e0152"
            ],
            [
             0.1,
             "#c51b7d"
            ],
            [
             0.2,
             "#de77ae"
            ],
            [
             0.3,
             "#f1b6da"
            ],
            [
             0.4,
             "#fde0ef"
            ],
            [
             0.5,
             "#f7f7f7"
            ],
            [
             0.6,
             "#e6f5d0"
            ],
            [
             0.7,
             "#b8e186"
            ],
            [
             0.8,
             "#7fbc41"
            ],
            [
             0.9,
             "#4d9221"
            ],
            [
             1,
             "#276419"
            ]
           ],
           "sequential": [
            [
             0,
             "#0d0887"
            ],
            [
             0.1111111111111111,
             "#46039f"
            ],
            [
             0.2222222222222222,
             "#7201a8"
            ],
            [
             0.3333333333333333,
             "#9c179e"
            ],
            [
             0.4444444444444444,
             "#bd3786"
            ],
            [
             0.5555555555555556,
             "#d8576b"
            ],
            [
             0.6666666666666666,
             "#ed7953"
            ],
            [
             0.7777777777777778,
             "#fb9f3a"
            ],
            [
             0.8888888888888888,
             "#fdca26"
            ],
            [
             1,
             "#f0f921"
            ]
           ],
           "sequentialminus": [
            [
             0,
             "#0d0887"
            ],
            [
             0.1111111111111111,
             "#46039f"
            ],
            [
             0.2222222222222222,
             "#7201a8"
            ],
            [
             0.3333333333333333,
             "#9c179e"
            ],
            [
             0.4444444444444444,
             "#bd3786"
            ],
            [
             0.5555555555555556,
             "#d8576b"
            ],
            [
             0.6666666666666666,
             "#ed7953"
            ],
            [
             0.7777777777777778,
             "#fb9f3a"
            ],
            [
             0.8888888888888888,
             "#fdca26"
            ],
            [
             1,
             "#f0f921"
            ]
           ]
          },
          "colorway": [
           "#636efa",
           "#EF553B",
           "#00cc96",
           "#ab63fa",
           "#FFA15A",
           "#19d3f3",
           "#FF6692",
           "#B6E880",
           "#FF97FF",
           "#FECB52"
          ],
          "font": {
           "color": "#2a3f5f"
          },
          "geo": {
           "bgcolor": "white",
           "lakecolor": "white",
           "landcolor": "#E5ECF6",
           "showlakes": true,
           "showland": true,
           "subunitcolor": "white"
          },
          "hoverlabel": {
           "align": "left"
          },
          "hovermode": "closest",
          "mapbox": {
           "style": "light"
          },
          "paper_bgcolor": "white",
          "plot_bgcolor": "#E5ECF6",
          "polar": {
           "angularaxis": {
            "gridcolor": "white",
            "linecolor": "white",
            "ticks": ""
           },
           "bgcolor": "#E5ECF6",
           "radialaxis": {
            "gridcolor": "white",
            "linecolor": "white",
            "ticks": ""
           }
          },
          "scene": {
           "xaxis": {
            "backgroundcolor": "#E5ECF6",
            "gridcolor": "white",
            "gridwidth": 2,
            "linecolor": "white",
            "showbackground": true,
            "ticks": "",
            "zerolinecolor": "white"
           },
           "yaxis": {
            "backgroundcolor": "#E5ECF6",
            "gridcolor": "white",
            "gridwidth": 2,
            "linecolor": "white",
            "showbackground": true,
            "ticks": "",
            "zerolinecolor": "white"
           },
           "zaxis": {
            "backgroundcolor": "#E5ECF6",
            "gridcolor": "white",
            "gridwidth": 2,
            "linecolor": "white",
            "showbackground": true,
            "ticks": "",
            "zerolinecolor": "white"
           }
          },
          "shapedefaults": {
           "line": {
            "color": "#2a3f5f"
           }
          },
          "ternary": {
           "aaxis": {
            "gridcolor": "white",
            "linecolor": "white",
            "ticks": ""
           },
           "baxis": {
            "gridcolor": "white",
            "linecolor": "white",
            "ticks": ""
           },
           "bgcolor": "#E5ECF6",
           "caxis": {
            "gridcolor": "white",
            "linecolor": "white",
            "ticks": ""
           }
          },
          "title": {
           "x": 0.05
          },
          "xaxis": {
           "automargin": true,
           "gridcolor": "white",
           "linecolor": "white",
           "ticks": "",
           "title": {
            "standoff": 15
           },
           "zerolinecolor": "white",
           "zerolinewidth": 2
          },
          "yaxis": {
           "automargin": true,
           "gridcolor": "white",
           "linecolor": "white",
           "ticks": "",
           "title": {
            "standoff": 15
           },
           "zerolinecolor": "white",
           "zerolinewidth": 2
          }
         }
        },
        "title": {
         "font": {
          "color": "#4D5663"
         }
        },
        "xaxis": {
         "gridcolor": "#E1E5ED",
         "showgrid": true,
         "tickfont": {
          "color": "#4D5663"
         },
         "title": {
          "font": {
           "color": "#4D5663"
          },
          "text": ""
         },
         "zerolinecolor": "#E1E5ED"
        },
        "yaxis": {
         "gridcolor": "#E1E5ED",
         "showgrid": true,
         "tickfont": {
          "color": "#4D5663"
         },
         "title": {
          "font": {
           "color": "#4D5663"
          },
          "text": ""
         },
         "zerolinecolor": "#E1E5ED"
        }
       }
      },
      "text/html": [
       "<div>\n",
       "        \n",
       "        \n",
       "            <div id=\"1fcde827-8227-4430-8cd8-a9ba783dd7d2\" class=\"plotly-graph-div\" style=\"height:525px; width:100%;\"></div>\n",
       "            <script type=\"text/javascript\">\n",
       "                require([\"plotly\"], function(Plotly) {\n",
       "                    window.PLOTLYENV=window.PLOTLYENV || {};\n",
       "                    window.PLOTLYENV.BASE_URL='https://plot.ly';\n",
       "                    \n",
       "                if (document.getElementById(\"1fcde827-8227-4430-8cd8-a9ba783dd7d2\")) {\n",
       "                    Plotly.newPlot(\n",
       "                        '1fcde827-8227-4430-8cd8-a9ba783dd7d2',\n",
       "                        [{\"boxpoints\": false, \"line\": {\"width\": 1.3}, \"marker\": {\"color\": \"rgba(255, 153, 51, 1.0)\"}, \"name\": \"A\", \"orientation\": \"v\", \"type\": \"box\", \"y\": [-1.218991033261646, -0.5465765623202922, 0.18132417432275671, -0.014585404257609841, 0.1715182335092267, -1.3779384183098575, 2.2490010504007203, -1.2937347379867639, 0.645795456082042, -0.36282297531233015, -0.8830302929744168, 0.3978544585571979, 1.4573313754948551, -0.42499485568865564, 0.3706190593531806, 0.37736470261438537, 0.4277275289247419, -0.16226827355695023, -0.058022745855864394, -1.8487874313355865, 0.8022710961429018, -1.9470864824594507, -2.1131990933422515, -0.5106491158132542, 1.3796907827063247, -0.2829133544458733, -0.598005788070867, 0.985421725043829, -0.053580649651472724, 0.6804644985751658, 0.9481857380941411, -1.1146991830746134, 1.0275502417998543, -1.457489960262967, 0.23837190745798345, 0.5128251402478308, 0.6552122213363701, -3.1086824537421966, 0.4291926070041237, 0.7311268050114921, 0.7146906973183577, 0.23765346133515933, 0.5636683723477607, -0.19560647211511367, -1.4721539885794437, -0.1676593178014201, 0.4152099938863828, -0.9064861230077402, -0.5055774366498862, 0.5349192709445101, 2.1231913714510715, 2.2707276001335392, -1.709501621834544, 1.5200345414171992, -0.6180853646699377, 1.3204585944952765, 0.7672795518407083, -0.6968332170252055, 0.23875081210284058, 1.0277536622636916, -0.7671534331370783, -0.7377371573056383, 1.4735944964229581, -1.3514547300791788, -0.11340112276702033, 1.91749282262013, 1.2314518894288216, 0.23902470415773386, 0.7729293278824075, 0.027302940383040052, 0.7883419106958499, -0.007678428674991606, -0.4679306148027131, -0.3137113795539161, 0.5799497855130166, -0.4422423998075986, 0.013049264772897765, 1.1433034523669872, 1.2086040894753496, 1.234131361555419, -1.8422285316637823, 0.33371425688076634, -1.0086403689251748, 0.25408076638641586, -1.1537517610944619, 0.11546173547730847, -0.32788866726597193, 2.0331689908154784, 0.34797807275311415, -1.251412065531357, 0.9308890122198833, -0.8142474569278847, 0.7762675608414903, 0.8468274953365662, 1.3011474374604695, 0.05918586303413559, 2.1512380068791446, 1.5409210295246003, -1.4431005934720968, -1.0527879815155303]}, {\"boxpoints\": false, \"line\": {\"width\": 1.3}, \"marker\": {\"color\": \"rgba(55, 128, 191, 1.0)\"}, \"name\": \"B\", \"orientation\": \"v\", \"type\": \"box\", \"y\": [0.3419764734215199, -2.3116551242894983, 1.3348751311612044, -0.1072796179888181, 2.483217793824436, -0.0741119345885313, -1.6738723112564624, 0.14713214486023077, 0.640769561204283, 0.4618918585952571, 1.7079110887935436, -0.1707611901698053, 0.6172860108755727, 0.25794903136380476, -0.6988181776820083, -1.263302918452683, -0.045883990267492424, -0.8257294543546106, 0.9600869708265687, 0.5681263328757964, -0.3647234435365751, -2.2170174535344085, 1.7049553191012643, -0.5537308376912038, -0.5893379099827436, -0.789750324269047, -0.5968772238779839, -0.2004912957144484, -0.6246266663795919, 1.0541547531216344, 1.1407786943515277, -0.3478718293512527, -0.4655854045314903, -1.0204625318491685, -0.17134797784339065, -2.004294224309604, -1.392027639421431, -1.8088906593188325, -1.7144334237148287, -0.828272087494066, 0.11134914674790283, 0.5563361994412729, 0.11786737071859353, 1.0283021269240364, -0.6844461103765496, 0.6134588405344479, -1.6636278706256518, 0.2354302397742566, 0.4927510624220601, 1.4458444853244878, -0.85488831932789, 0.41631088070245303, 0.8861235398691205, -0.7625248083567656, 0.21295446005412047, 1.202789392766879, -1.6552505758408658, 0.671892072559935, -0.8744246595050262, 1.899602505489602, -0.9895809299587186, -1.6374685722734121, -0.9557082919513292, 0.33382359674876755, 0.6439689050896489, 1.1376245647727588, -1.3105163589059687, -0.6367229605275069, 0.20988075534801515, 0.5270543441369793, 0.06317450408580289, 0.4759314171495404, -0.3389952753783388, 1.7627682347229436, -1.4433264556437697, -0.031462496251145354, 0.633865880706928, 1.3535256368079083, -0.4180120086025204, 0.649673515838004, 1.3975641015459965, 0.1279457536374559, 0.3990092190022796, 0.44430579823054356, -0.8096813840515048, -0.11930671508494314, -1.7368783531904881, -0.7436696453065349, 0.4937511254878508, -2.4396435356718817, 1.2824265662085645, 1.9556216542278397, -0.3268638798117112, -0.49065900845493565, 0.9615252684456398, -1.4589162600753647, -0.6776441409243771, -0.8578568648111088, -0.7204412403943163, 0.5339996751188443]}, {\"boxpoints\": false, \"line\": {\"width\": 1.3}, \"marker\": {\"color\": \"rgba(50, 171, 96, 1.0)\"}, \"name\": \"C\", \"orientation\": \"v\", \"type\": \"box\", \"y\": [-0.24686037129796642, -0.4795152376078478, 0.14944367353787624, -0.6853527509718431, -1.7028468412412232, -0.7798818649599734, -0.19234053531112388, 1.7804995095213754, -0.04036287646092673, -0.723546250475408, 1.2155456251649457, 1.0232165078548712, -1.0911591939514995, -1.4002945185590945, -0.9844024695347182, -2.5047733815436293, 0.5891949946312317, 0.8313392608625283, -2.2746833841723615, 1.6541512665364435, 0.21784756601440292, 0.17445575961753562, -1.836852104607844, 0.16325692077638956, -0.7935380739116973, 0.027907503343331128, 0.8538002676217139, -0.6241359044203422, -0.23572394655403262, 0.8594923322254395, -1.447564171823515, -0.7852302212592579, 0.497907566479336, -0.7093121216228477, -0.19087085966957418, -0.9331632945694524, -0.4104664553598608, -0.7903672196642071, -1.3552161912919363, -0.7763144272697288, 0.49976133703708603, 1.1611012988017406, -1.735752908375946, 1.6437986218317118, -0.3017809423983048, -1.0826105475980088, 0.016447894583500777, 0.6202116503828169, 0.2106450284731047, 0.6221618836777782, -1.2464583082253475, -1.966314968076596, 0.24388177796065524, -1.0376743625885156, -1.5203900572276658, 1.4884300136739879, 0.4944193659097848, -0.23129290772190259, 1.4419410558315484, -1.0292185001501921, -0.3751839069304503, 0.09924120865871619, 0.028048690524174302, 0.8402965979079163, -0.4671039314424817, 0.9047348889601571, -0.6907026203871445, 0.6262362359171377, -0.6322554988488555, 0.1978533428520716, -1.0530917743988188, 0.16532577645258734, 0.2518417349615779, -1.2022077742857284, -0.12399051256752064, -0.6447977621584156, -0.6698689412931773, -1.0581532991225995, 0.6314371002384549, -1.7864811633511934, 0.39332895131897516, -0.5331979122115895, -1.1559830542579275, 1.5772819646789715, -0.25984296964278736, 1.0390858679051702, -0.6520278543657485, 1.0653763533133234, -0.4122669377041702, 0.0013760273155446487, 0.13381253402436236, -0.6447555619163449, 0.37792047574193927, -2.0204643701988, 0.11469767046781733, 0.2804461252509056, 0.2436637417779295, -0.4374641695700345, 0.4466910722431926, 2.1902908363556435]}, {\"boxpoints\": false, \"line\": {\"width\": 1.3}, \"marker\": {\"color\": \"rgba(128, 0, 128, 1.0)\"}, \"name\": \"D\", \"orientation\": \"v\", \"type\": \"box\", \"y\": [-0.8733379686732633, 0.22475225260711695, 0.6003728631702283, -0.7475414849079879, -0.8731505829973676, 0.8794751908632622, 1.296856464902928, -0.9506100017110891, 0.752827343619869, -1.1691130187985874, -0.8712647315318274, 0.5636707451512812, -0.1710308114854158, -1.7284270524020178, -0.3243556032739408, -0.16943133213397807, -1.0171772198234792, 1.5304562840453813, 1.056722380873873, 3.2089934521101906, 0.5729850310454369, 0.028372268084173743, -0.2151406424218395, -2.322619057508341, 0.2533427669895896, 0.07603831793752841, 0.26380781727939784, -0.5164559164420952, -2.72594572061758, 0.406426122275474, -1.2627246222217865, -0.9132968666759071, 0.2539262943902931, 1.4326200424242648, -0.37767853047554395, -1.0656203927411103, -0.05973524592289964, -1.7529754743037604, 0.6068891984383418, -0.3879168068123651, -1.035013461891617, -1.743126195948102, -0.2918481438691077, -0.01512351099964492, 0.25101023259815236, 0.4085577002000313, 1.1100131818513306, 0.3360818394416731, -0.9548494324521819, 2.2283342953425396, -0.9067222987945611, -0.7321078118365565, 0.5514428455787548, -1.3630870736162113, 1.018136184934407, 0.21751250949153464, -0.3767115947121578, -0.5546640063079199, -0.8871416712895261, 0.18312008628051119, 0.1758129638643444, -2.0698039327466375, -2.293021317161217, -0.807571995301875, 0.3040450616345944, 1.5092880425580266, -0.8950246832042933, -0.5762162690274315, 0.6949419055709126, 1.0640067317219322, -0.4519146300615394, -0.21886174030688288, -0.8095655902907344, 0.4986230829694079, 0.5666132607080857, 0.6026061625795713, -0.004757499389226333, 0.3514419991162287, -0.281905126041759, 0.8872631290195736, -0.22962566128815565, -1.017646111435563, -0.5635721343076957, 0.3011979834291313, -0.24042255174804705, 0.713671166459918, 0.08503230912733772, 0.7243525345541257, 0.6447885187854636, 0.39057435386990397, 0.6983754191501598, -0.6092719601781813, 1.1731475780318703, 0.28246898876269433, -0.2315336569167173, -0.13757611784336787, 0.5521933098305067, 0.4305914371706155, 0.8385826217826156, 0.5184135563823262]}],\n",
       "                        {\"legend\": {\"bgcolor\": \"#F5F6F9\", \"font\": {\"color\": \"#4D5663\"}}, \"paper_bgcolor\": \"#F5F6F9\", \"plot_bgcolor\": \"#F5F6F9\", \"template\": {\"data\": {\"bar\": [{\"error_x\": {\"color\": \"#2a3f5f\"}, \"error_y\": {\"color\": \"#2a3f5f\"}, \"marker\": {\"line\": {\"color\": \"#E5ECF6\", \"width\": 0.5}}, \"type\": \"bar\"}], \"barpolar\": [{\"marker\": {\"line\": {\"color\": \"#E5ECF6\", \"width\": 0.5}}, \"type\": \"barpolar\"}], \"carpet\": [{\"aaxis\": {\"endlinecolor\": \"#2a3f5f\", \"gridcolor\": \"white\", \"linecolor\": \"white\", \"minorgridcolor\": \"white\", \"startlinecolor\": \"#2a3f5f\"}, \"baxis\": {\"endlinecolor\": \"#2a3f5f\", \"gridcolor\": \"white\", \"linecolor\": \"white\", \"minorgridcolor\": \"white\", \"startlinecolor\": \"#2a3f5f\"}, \"type\": \"carpet\"}], \"choropleth\": [{\"colorbar\": {\"outlinewidth\": 0, \"ticks\": \"\"}, \"type\": \"choropleth\"}], \"contour\": [{\"colorbar\": {\"outlinewidth\": 0, \"ticks\": \"\"}, \"colorscale\": [[0.0, \"#0d0887\"], [0.1111111111111111, \"#46039f\"], [0.2222222222222222, \"#7201a8\"], [0.3333333333333333, \"#9c179e\"], [0.4444444444444444, \"#bd3786\"], [0.5555555555555556, \"#d8576b\"], [0.6666666666666666, \"#ed7953\"], [0.7777777777777778, \"#fb9f3a\"], [0.8888888888888888, \"#fdca26\"], [1.0, \"#f0f921\"]], \"type\": \"contour\"}], \"contourcarpet\": [{\"colorbar\": {\"outlinewidth\": 0, \"ticks\": \"\"}, \"type\": \"contourcarpet\"}], \"heatmap\": [{\"colorbar\": {\"outlinewidth\": 0, \"ticks\": \"\"}, \"colorscale\": [[0.0, \"#0d0887\"], [0.1111111111111111, \"#46039f\"], [0.2222222222222222, \"#7201a8\"], [0.3333333333333333, \"#9c179e\"], [0.4444444444444444, \"#bd3786\"], [0.5555555555555556, \"#d8576b\"], [0.6666666666666666, \"#ed7953\"], [0.7777777777777778, \"#fb9f3a\"], [0.8888888888888888, \"#fdca26\"], [1.0, \"#f0f921\"]], \"type\": \"heatmap\"}], \"heatmapgl\": [{\"colorbar\": {\"outlinewidth\": 0, \"ticks\": \"\"}, \"colorscale\": [[0.0, \"#0d0887\"], [0.1111111111111111, \"#46039f\"], [0.2222222222222222, \"#7201a8\"], [0.3333333333333333, \"#9c179e\"], [0.4444444444444444, \"#bd3786\"], [0.5555555555555556, \"#d8576b\"], [0.6666666666666666, \"#ed7953\"], [0.7777777777777778, \"#fb9f3a\"], [0.8888888888888888, \"#fdca26\"], [1.0, \"#f0f921\"]], \"type\": \"heatmapgl\"}], \"histogram\": [{\"marker\": {\"colorbar\": {\"outlinewidth\": 0, \"ticks\": \"\"}}, \"type\": \"histogram\"}], \"histogram2d\": [{\"colorbar\": {\"outlinewidth\": 0, \"ticks\": \"\"}, \"colorscale\": [[0.0, \"#0d0887\"], [0.1111111111111111, \"#46039f\"], [0.2222222222222222, \"#7201a8\"], [0.3333333333333333, \"#9c179e\"], [0.4444444444444444, \"#bd3786\"], [0.5555555555555556, \"#d8576b\"], [0.6666666666666666, \"#ed7953\"], [0.7777777777777778, \"#fb9f3a\"], [0.8888888888888888, \"#fdca26\"], [1.0, \"#f0f921\"]], \"type\": \"histogram2d\"}], \"histogram2dcontour\": [{\"colorbar\": {\"outlinewidth\": 0, \"ticks\": \"\"}, \"colorscale\": [[0.0, \"#0d0887\"], [0.1111111111111111, \"#46039f\"], [0.2222222222222222, \"#7201a8\"], [0.3333333333333333, \"#9c179e\"], [0.4444444444444444, \"#bd3786\"], [0.5555555555555556, \"#d8576b\"], [0.6666666666666666, \"#ed7953\"], [0.7777777777777778, \"#fb9f3a\"], [0.8888888888888888, \"#fdca26\"], [1.0, \"#f0f921\"]], \"type\": \"histogram2dcontour\"}], \"mesh3d\": [{\"colorbar\": {\"outlinewidth\": 0, \"ticks\": \"\"}, \"type\": \"mesh3d\"}], \"parcoords\": [{\"line\": {\"colorbar\": {\"outlinewidth\": 0, \"ticks\": \"\"}}, \"type\": \"parcoords\"}], \"pie\": [{\"automargin\": true, \"type\": \"pie\"}], \"scatter\": [{\"marker\": {\"colorbar\": {\"outlinewidth\": 0, \"ticks\": \"\"}}, \"type\": \"scatter\"}], \"scatter3d\": [{\"line\": {\"colorbar\": {\"outlinewidth\": 0, \"ticks\": \"\"}}, \"marker\": {\"colorbar\": {\"outlinewidth\": 0, \"ticks\": \"\"}}, \"type\": \"scatter3d\"}], \"scattercarpet\": [{\"marker\": {\"colorbar\": {\"outlinewidth\": 0, \"ticks\": \"\"}}, \"type\": \"scattercarpet\"}], \"scattergeo\": [{\"marker\": {\"colorbar\": {\"outlinewidth\": 0, \"ticks\": \"\"}}, \"type\": \"scattergeo\"}], \"scattergl\": [{\"marker\": {\"colorbar\": {\"outlinewidth\": 0, \"ticks\": \"\"}}, \"type\": \"scattergl\"}], \"scattermapbox\": [{\"marker\": {\"colorbar\": {\"outlinewidth\": 0, \"ticks\": \"\"}}, \"type\": \"scattermapbox\"}], \"scatterpolar\": [{\"marker\": {\"colorbar\": {\"outlinewidth\": 0, \"ticks\": \"\"}}, \"type\": \"scatterpolar\"}], \"scatterpolargl\": [{\"marker\": {\"colorbar\": {\"outlinewidth\": 0, \"ticks\": \"\"}}, \"type\": \"scatterpolargl\"}], \"scatterternary\": [{\"marker\": {\"colorbar\": {\"outlinewidth\": 0, \"ticks\": \"\"}}, \"type\": \"scatterternary\"}], \"surface\": [{\"colorbar\": {\"outlinewidth\": 0, \"ticks\": \"\"}, \"colorscale\": [[0.0, \"#0d0887\"], [0.1111111111111111, \"#46039f\"], [0.2222222222222222, \"#7201a8\"], [0.3333333333333333, \"#9c179e\"], [0.4444444444444444, \"#bd3786\"], [0.5555555555555556, \"#d8576b\"], [0.6666666666666666, \"#ed7953\"], [0.7777777777777778, \"#fb9f3a\"], [0.8888888888888888, \"#fdca26\"], [1.0, \"#f0f921\"]], \"type\": \"surface\"}], \"table\": [{\"cells\": {\"fill\": {\"color\": \"#EBF0F8\"}, \"line\": {\"color\": \"white\"}}, \"header\": {\"fill\": {\"color\": \"#C8D4E3\"}, \"line\": {\"color\": \"white\"}}, \"type\": \"table\"}]}, \"layout\": {\"annotationdefaults\": {\"arrowcolor\": \"#2a3f5f\", \"arrowhead\": 0, \"arrowwidth\": 1}, \"coloraxis\": {\"colorbar\": {\"outlinewidth\": 0, \"ticks\": \"\"}}, \"colorscale\": {\"diverging\": [[0, \"#8e0152\"], [0.1, \"#c51b7d\"], [0.2, \"#de77ae\"], [0.3, \"#f1b6da\"], [0.4, \"#fde0ef\"], [0.5, \"#f7f7f7\"], [0.6, \"#e6f5d0\"], [0.7, \"#b8e186\"], [0.8, \"#7fbc41\"], [0.9, \"#4d9221\"], [1, \"#276419\"]], \"sequential\": [[0.0, \"#0d0887\"], [0.1111111111111111, \"#46039f\"], [0.2222222222222222, \"#7201a8\"], [0.3333333333333333, \"#9c179e\"], [0.4444444444444444, \"#bd3786\"], [0.5555555555555556, \"#d8576b\"], [0.6666666666666666, \"#ed7953\"], [0.7777777777777778, \"#fb9f3a\"], [0.8888888888888888, \"#fdca26\"], [1.0, \"#f0f921\"]], \"sequentialminus\": [[0.0, \"#0d0887\"], [0.1111111111111111, \"#46039f\"], [0.2222222222222222, \"#7201a8\"], [0.3333333333333333, \"#9c179e\"], [0.4444444444444444, \"#bd3786\"], [0.5555555555555556, \"#d8576b\"], [0.6666666666666666, \"#ed7953\"], [0.7777777777777778, \"#fb9f3a\"], [0.8888888888888888, \"#fdca26\"], [1.0, \"#f0f921\"]]}, \"colorway\": [\"#636efa\", \"#EF553B\", \"#00cc96\", \"#ab63fa\", \"#FFA15A\", \"#19d3f3\", \"#FF6692\", \"#B6E880\", \"#FF97FF\", \"#FECB52\"], \"font\": {\"color\": \"#2a3f5f\"}, \"geo\": {\"bgcolor\": \"white\", \"lakecolor\": \"white\", \"landcolor\": \"#E5ECF6\", \"showlakes\": true, \"showland\": true, \"subunitcolor\": \"white\"}, \"hoverlabel\": {\"align\": \"left\"}, \"hovermode\": \"closest\", \"mapbox\": {\"style\": \"light\"}, \"paper_bgcolor\": \"white\", \"plot_bgcolor\": \"#E5ECF6\", \"polar\": {\"angularaxis\": {\"gridcolor\": \"white\", \"linecolor\": \"white\", \"ticks\": \"\"}, \"bgcolor\": \"#E5ECF6\", \"radialaxis\": {\"gridcolor\": \"white\", \"linecolor\": \"white\", \"ticks\": \"\"}}, \"scene\": {\"xaxis\": {\"backgroundcolor\": \"#E5ECF6\", \"gridcolor\": \"white\", \"gridwidth\": 2, \"linecolor\": \"white\", \"showbackground\": true, \"ticks\": \"\", \"zerolinecolor\": \"white\"}, \"yaxis\": {\"backgroundcolor\": \"#E5ECF6\", \"gridcolor\": \"white\", \"gridwidth\": 2, \"linecolor\": \"white\", \"showbackground\": true, \"ticks\": \"\", \"zerolinecolor\": \"white\"}, \"zaxis\": {\"backgroundcolor\": \"#E5ECF6\", \"gridcolor\": \"white\", \"gridwidth\": 2, \"linecolor\": \"white\", \"showbackground\": true, \"ticks\": \"\", \"zerolinecolor\": \"white\"}}, \"shapedefaults\": {\"line\": {\"color\": \"#2a3f5f\"}}, \"ternary\": {\"aaxis\": {\"gridcolor\": \"white\", \"linecolor\": \"white\", \"ticks\": \"\"}, \"baxis\": {\"gridcolor\": \"white\", \"linecolor\": \"white\", \"ticks\": \"\"}, \"bgcolor\": \"#E5ECF6\", \"caxis\": {\"gridcolor\": \"white\", \"linecolor\": \"white\", \"ticks\": \"\"}}, \"title\": {\"x\": 0.05}, \"xaxis\": {\"automargin\": true, \"gridcolor\": \"white\", \"linecolor\": \"white\", \"ticks\": \"\", \"title\": {\"standoff\": 15}, \"zerolinecolor\": \"white\", \"zerolinewidth\": 2}, \"yaxis\": {\"automargin\": true, \"gridcolor\": \"white\", \"linecolor\": \"white\", \"ticks\": \"\", \"title\": {\"standoff\": 15}, \"zerolinecolor\": \"white\", \"zerolinewidth\": 2}}}, \"title\": {\"font\": {\"color\": \"#4D5663\"}}, \"xaxis\": {\"gridcolor\": \"#E1E5ED\", \"showgrid\": true, \"tickfont\": {\"color\": \"#4D5663\"}, \"title\": {\"font\": {\"color\": \"#4D5663\"}, \"text\": \"\"}, \"zerolinecolor\": \"#E1E5ED\"}, \"yaxis\": {\"gridcolor\": \"#E1E5ED\", \"showgrid\": true, \"tickfont\": {\"color\": \"#4D5663\"}, \"title\": {\"font\": {\"color\": \"#4D5663\"}, \"text\": \"\"}, \"zerolinecolor\": \"#E1E5ED\"}},\n",
       "                        {\"showLink\": true, \"linkText\": \"Export to plot.ly\", \"plotlyServerURL\": \"https://plot.ly\", \"responsive\": true}\n",
       "                    ).then(function(){\n",
       "                            \n",
       "var gd = document.getElementById('1fcde827-8227-4430-8cd8-a9ba783dd7d2');\n",
       "var x = new MutationObserver(function (mutations, observer) {{\n",
       "        var display = window.getComputedStyle(gd).display;\n",
       "        if (!display || display === 'none') {{\n",
       "            console.log([gd, 'removed!']);\n",
       "            Plotly.purge(gd);\n",
       "            observer.disconnect();\n",
       "        }}\n",
       "}});\n",
       "\n",
       "// Listen for the removal of the full notebook cells\n",
       "var notebookContainer = gd.closest('#notebook-container');\n",
       "if (notebookContainer) {{\n",
       "    x.observe(notebookContainer, {childList: true});\n",
       "}}\n",
       "\n",
       "// Listen for the clearing of the current output cell\n",
       "var outputEl = gd.closest('.output');\n",
       "if (outputEl) {{\n",
       "    x.observe(outputEl, {childList: true});\n",
       "}}\n",
       "\n",
       "                        })\n",
       "                };\n",
       "                });\n",
       "            </script>\n",
       "        </div>"
      ]
     },
     "metadata": {},
     "output_type": "display_data"
    }
   ],
   "source": [
    "df.iplot(kind='box')"
   ]
  },
  {
   "cell_type": "code",
   "execution_count": 18,
   "metadata": {},
   "outputs": [],
   "source": [
    "df3 = pd.DataFrame({'x':[1,2,3,4,5],'y':[10,20,30,20,10],'z':[5,4,3,2,1]})"
   ]
  },
  {
   "cell_type": "markdown",
   "metadata": {},
   "source": [
    "# 3d surface"
   ]
  },
  {
   "cell_type": "code",
   "execution_count": 15,
   "metadata": {},
   "outputs": [
    {
     "ename": "NameError",
     "evalue": "name 'df3' is not defined",
     "output_type": "error",
     "traceback": [
      "\u001b[0;31m---------------------------------------------------------------------------\u001b[0m",
      "\u001b[0;31mNameError\u001b[0m                                 Traceback (most recent call last)",
      "\u001b[0;32m<ipython-input-15-14870058c28e>\u001b[0m in \u001b[0;36m<module>\u001b[0;34m\u001b[0m\n\u001b[0;32m----> 1\u001b[0;31m \u001b[0mdf3\u001b[0m\u001b[0;34m.\u001b[0m\u001b[0miplot\u001b[0m\u001b[0;34m(\u001b[0m\u001b[0mkind\u001b[0m\u001b[0;34m=\u001b[0m\u001b[0;34m'surface'\u001b[0m\u001b[0;34m,\u001b[0m\u001b[0mcolorscale\u001b[0m\u001b[0;34m=\u001b[0m\u001b[0;34m'rdylbu'\u001b[0m\u001b[0;34m)\u001b[0m\u001b[0;34m\u001b[0m\u001b[0;34m\u001b[0m\u001b[0m\n\u001b[0m",
      "\u001b[0;31mNameError\u001b[0m: name 'df3' is not defined"
     ]
    }
   ],
   "source": [
    "df3.iplot(kind='surface',colorscale='rdylbu')"
   ]
  },
  {
   "cell_type": "code",
   "execution_count": 16,
   "metadata": {},
   "outputs": [
    {
     "data": {
      "application/vnd.plotly.v1+json": {
       "config": {
        "linkText": "Export to plot.ly",
        "plotlyServerURL": "https://plot.ly",
        "showLink": true
       },
       "data": [
        {
         "line": {
          "color": "rgba(255, 153, 51, 1.0)",
          "dash": "solid",
          "shape": "linear",
          "width": 1.3
         },
         "mode": "lines",
         "name": "A",
         "text": "",
         "type": "scatter",
         "x": [
          0,
          1,
          2,
          3,
          4,
          5,
          6,
          7,
          8,
          9,
          10,
          11,
          12,
          13,
          14,
          15,
          16,
          17,
          18,
          19,
          20,
          21,
          22,
          23,
          24,
          25,
          26,
          27,
          28,
          29,
          30,
          31,
          32,
          33,
          34,
          35,
          36,
          37,
          38,
          39,
          40,
          41,
          42,
          43,
          44,
          45,
          46,
          47,
          48,
          49,
          50,
          51,
          52,
          53,
          54,
          55,
          56,
          57,
          58,
          59,
          60,
          61,
          62,
          63,
          64,
          65,
          66,
          67,
          68,
          69,
          70,
          71,
          72,
          73,
          74,
          75,
          76,
          77,
          78,
          79,
          80,
          81,
          82,
          83,
          84,
          85,
          86,
          87,
          88,
          89,
          90,
          91,
          92,
          93,
          94,
          95,
          96,
          97,
          98,
          99
         ],
         "y": [
          -1.218991033261646,
          -0.5465765623202922,
          0.18132417432275671,
          -0.014585404257609841,
          0.1715182335092267,
          -1.3779384183098575,
          2.2490010504007203,
          -1.2937347379867639,
          0.645795456082042,
          -0.36282297531233015,
          -0.8830302929744168,
          0.3978544585571979,
          1.4573313754948551,
          -0.42499485568865564,
          0.3706190593531806,
          0.37736470261438537,
          0.4277275289247419,
          -0.16226827355695023,
          -0.058022745855864394,
          -1.8487874313355865,
          0.8022710961429018,
          -1.9470864824594507,
          -2.1131990933422515,
          -0.5106491158132542,
          1.3796907827063247,
          -0.2829133544458733,
          -0.598005788070867,
          0.985421725043829,
          -0.053580649651472724,
          0.6804644985751658,
          0.9481857380941411,
          -1.1146991830746134,
          1.0275502417998543,
          -1.457489960262967,
          0.23837190745798345,
          0.5128251402478308,
          0.6552122213363701,
          -3.1086824537421966,
          0.4291926070041237,
          0.7311268050114921,
          0.7146906973183577,
          0.23765346133515933,
          0.5636683723477607,
          -0.19560647211511367,
          -1.4721539885794437,
          -0.1676593178014201,
          0.4152099938863828,
          -0.9064861230077402,
          -0.5055774366498862,
          0.5349192709445101,
          2.1231913714510715,
          2.2707276001335392,
          -1.709501621834544,
          1.5200345414171992,
          -0.6180853646699377,
          1.3204585944952765,
          0.7672795518407083,
          -0.6968332170252055,
          0.23875081210284058,
          1.0277536622636916,
          -0.7671534331370783,
          -0.7377371573056383,
          1.4735944964229581,
          -1.3514547300791788,
          -0.11340112276702033,
          1.91749282262013,
          1.2314518894288216,
          0.23902470415773386,
          0.7729293278824075,
          0.027302940383040052,
          0.7883419106958499,
          -0.007678428674991606,
          -0.4679306148027131,
          -0.3137113795539161,
          0.5799497855130166,
          -0.4422423998075986,
          0.013049264772897765,
          1.1433034523669872,
          1.2086040894753496,
          1.234131361555419,
          -1.8422285316637823,
          0.33371425688076634,
          -1.0086403689251748,
          0.25408076638641586,
          -1.1537517610944619,
          0.11546173547730847,
          -0.32788866726597193,
          2.0331689908154784,
          0.34797807275311415,
          -1.251412065531357,
          0.9308890122198833,
          -0.8142474569278847,
          0.7762675608414903,
          0.8468274953365662,
          1.3011474374604695,
          0.05918586303413559,
          2.1512380068791446,
          1.5409210295246003,
          -1.4431005934720968,
          -1.0527879815155303
         ]
        },
        {
         "line": {
          "color": "rgba(55, 128, 191, 1.0)",
          "dash": "solid",
          "shape": "linear",
          "width": 1.3
         },
         "mode": "lines",
         "name": "B",
         "text": "",
         "type": "scatter",
         "x": [
          0,
          1,
          2,
          3,
          4,
          5,
          6,
          7,
          8,
          9,
          10,
          11,
          12,
          13,
          14,
          15,
          16,
          17,
          18,
          19,
          20,
          21,
          22,
          23,
          24,
          25,
          26,
          27,
          28,
          29,
          30,
          31,
          32,
          33,
          34,
          35,
          36,
          37,
          38,
          39,
          40,
          41,
          42,
          43,
          44,
          45,
          46,
          47,
          48,
          49,
          50,
          51,
          52,
          53,
          54,
          55,
          56,
          57,
          58,
          59,
          60,
          61,
          62,
          63,
          64,
          65,
          66,
          67,
          68,
          69,
          70,
          71,
          72,
          73,
          74,
          75,
          76,
          77,
          78,
          79,
          80,
          81,
          82,
          83,
          84,
          85,
          86,
          87,
          88,
          89,
          90,
          91,
          92,
          93,
          94,
          95,
          96,
          97,
          98,
          99
         ],
         "y": [
          0.3419764734215199,
          -2.3116551242894983,
          1.3348751311612044,
          -0.1072796179888181,
          2.483217793824436,
          -0.0741119345885313,
          -1.6738723112564624,
          0.14713214486023077,
          0.640769561204283,
          0.4618918585952571,
          1.7079110887935436,
          -0.1707611901698053,
          0.6172860108755727,
          0.25794903136380476,
          -0.6988181776820083,
          -1.263302918452683,
          -0.045883990267492424,
          -0.8257294543546106,
          0.9600869708265687,
          0.5681263328757964,
          -0.3647234435365751,
          -2.2170174535344085,
          1.7049553191012643,
          -0.5537308376912038,
          -0.5893379099827436,
          -0.789750324269047,
          -0.5968772238779839,
          -0.2004912957144484,
          -0.6246266663795919,
          1.0541547531216344,
          1.1407786943515277,
          -0.3478718293512527,
          -0.4655854045314903,
          -1.0204625318491685,
          -0.17134797784339065,
          -2.004294224309604,
          -1.392027639421431,
          -1.8088906593188325,
          -1.7144334237148287,
          -0.828272087494066,
          0.11134914674790283,
          0.5563361994412729,
          0.11786737071859353,
          1.0283021269240364,
          -0.6844461103765496,
          0.6134588405344479,
          -1.6636278706256518,
          0.2354302397742566,
          0.4927510624220601,
          1.4458444853244878,
          -0.85488831932789,
          0.41631088070245303,
          0.8861235398691205,
          -0.7625248083567656,
          0.21295446005412047,
          1.202789392766879,
          -1.6552505758408658,
          0.671892072559935,
          -0.8744246595050262,
          1.899602505489602,
          -0.9895809299587186,
          -1.6374685722734121,
          -0.9557082919513292,
          0.33382359674876755,
          0.6439689050896489,
          1.1376245647727588,
          -1.3105163589059687,
          -0.6367229605275069,
          0.20988075534801515,
          0.5270543441369793,
          0.06317450408580289,
          0.4759314171495404,
          -0.3389952753783388,
          1.7627682347229436,
          -1.4433264556437697,
          -0.031462496251145354,
          0.633865880706928,
          1.3535256368079083,
          -0.4180120086025204,
          0.649673515838004,
          1.3975641015459965,
          0.1279457536374559,
          0.3990092190022796,
          0.44430579823054356,
          -0.8096813840515048,
          -0.11930671508494314,
          -1.7368783531904881,
          -0.7436696453065349,
          0.4937511254878508,
          -2.4396435356718817,
          1.2824265662085645,
          1.9556216542278397,
          -0.3268638798117112,
          -0.49065900845493565,
          0.9615252684456398,
          -1.4589162600753647,
          -0.6776441409243771,
          -0.8578568648111088,
          -0.7204412403943163,
          0.5339996751188443
         ]
        },
        {
         "connectgaps": false,
         "fill": "tozeroy",
         "line": {
          "color": "green",
          "dash": "solid",
          "shape": "linear",
          "width": 0.5
         },
         "mode": "lines",
         "name": "Spread",
         "showlegend": false,
         "type": "scatter",
         "x": [
          0,
          1,
          2,
          3,
          4,
          5,
          6,
          7,
          8,
          9,
          10,
          11,
          12,
          13,
          14,
          15,
          16,
          17,
          18,
          19,
          20,
          21,
          22,
          23,
          24,
          25,
          26,
          27,
          28,
          29,
          30,
          31,
          32,
          33,
          34,
          35,
          36,
          37,
          38,
          39,
          40,
          41,
          42,
          43,
          44,
          45,
          46,
          47,
          48,
          49,
          50,
          51,
          52,
          53,
          54,
          55,
          56,
          57,
          58,
          59,
          60,
          61,
          62,
          63,
          64,
          65,
          66,
          67,
          68,
          69,
          70,
          71,
          72,
          73,
          74,
          75,
          76,
          77,
          78,
          79,
          80,
          81,
          82,
          83,
          84,
          85,
          86,
          87,
          88,
          89,
          90,
          91,
          92,
          93,
          94,
          95,
          96,
          97,
          98,
          99
         ],
         "xaxis": "x2",
         "y": [
          "",
          1.7650785619692062,
          "",
          0.09269421373120826,
          "",
          "",
          3.9228733616571825,
          "",
          0.005025894877759063,
          "",
          "",
          0.5686156487270032,
          0.8400453646192825,
          "",
          1.069437237035189,
          1.6406676210670683,
          0.4736115191922343,
          0.6634611807976605,
          "",
          "",
          1.166994539679477,
          0.2699309710749578,
          "",
          0.043081721877949564,
          1.9690286926890683,
          0.5068369698231737,
          "",
          1.1859130207582773,
          0.5710460167281192,
          "",
          "",
          "",
          1.4931356463313445,
          "",
          0.4097198853013741,
          2.517119364557435,
          2.0472398607578013,
          "",
          2.1436260307189525,
          1.5593988925055582,
          0.6033415505704548,
          "",
          0.44580100162916714,
          "",
          "",
          "",
          2.0788378645120345,
          "",
          "",
          "",
          2.9780796907789613,
          1.8544167194310863,
          "",
          2.282559349773965,
          "",
          0.11766920172839757,
          2.422530127681574,
          "",
          1.1131754716078668,
          "",
          0.2224274968216403,
          0.8997314149677739,
          2.4293027883742875,
          "",
          "",
          0.7798682578473712,
          2.5419682483347903,
          0.8757476646852407,
          0.5630485725343923,
          "",
          0.7251674066100471,
          "",
          "",
          "",
          2.023276241156786,
          "",
          "",
          "",
          1.62661609807787,
          0.584457845717415,
          "",
          0.20576850324331045,
          "",
          "",
          "",
          0.2347684505622516,
          1.4089896859245161,
          2.7768386361220134,
          "",
          1.1882314701405248,
          "",
          "",
          1.1031314406532016,
          1.3374865037915018,
          0.33962216901482967,
          1.5181021231095002,
          2.8288821478035215,
          2.398777894335709,
          "",
          ""
         ],
         "yaxis": "y2"
        },
        {
         "connectgaps": false,
         "fill": "tozeroy",
         "line": {
          "color": "red",
          "dash": "solid",
          "shape": "linear",
          "width": 0.5
         },
         "mode": "lines",
         "name": "Spread",
         "showlegend": false,
         "type": "scatter",
         "x": [
          0,
          1,
          2,
          3,
          4,
          5,
          6,
          7,
          8,
          9,
          10,
          11,
          12,
          13,
          14,
          15,
          16,
          17,
          18,
          19,
          20,
          21,
          22,
          23,
          24,
          25,
          26,
          27,
          28,
          29,
          30,
          31,
          32,
          33,
          34,
          35,
          36,
          37,
          38,
          39,
          40,
          41,
          42,
          43,
          44,
          45,
          46,
          47,
          48,
          49,
          50,
          51,
          52,
          53,
          54,
          55,
          56,
          57,
          58,
          59,
          60,
          61,
          62,
          63,
          64,
          65,
          66,
          67,
          68,
          69,
          70,
          71,
          72,
          73,
          74,
          75,
          76,
          77,
          78,
          79,
          80,
          81,
          82,
          83,
          84,
          85,
          86,
          87,
          88,
          89,
          90,
          91,
          92,
          93,
          94,
          95,
          96,
          97,
          98,
          99
         ],
         "xaxis": "x2",
         "y": [
          -1.5609675066831659,
          "",
          -1.1535509568384477,
          "",
          -2.3116995603152093,
          -1.3038264837213263,
          "",
          -1.4408668828469946,
          "",
          -0.8247148339075873,
          -2.5909413817679603,
          "",
          "",
          -0.6829438870524605,
          "",
          "",
          "",
          "",
          -1.018109716682433,
          -2.416913764211383,
          "",
          "",
          -3.8181544124435156,
          "",
          "",
          "",
          -0.001128564192883097,
          "",
          "",
          -0.37369025454646865,
          -0.1925929562573866,
          -0.7668273537233606,
          "",
          -0.4370274284137985,
          "",
          "",
          "",
          -1.2997917944233641,
          "",
          "",
          "",
          -0.3186827381061136,
          "",
          -1.22390859903915,
          -0.7877078782028941,
          -0.781118158335868,
          "",
          -1.1419163627819968,
          -0.9983284990719463,
          -0.9109252143799778,
          "",
          "",
          -2.5956251617036648,
          "",
          -0.8310398247240581,
          "",
          "",
          -1.3687252895851405,
          "",
          -0.8718488432259104,
          "",
          "",
          "",
          -1.6852783268279463,
          -0.7573700278566692,
          "",
          "",
          "",
          "",
          -0.4997514037539392,
          "",
          -0.48360984582453204,
          -0.1289353394243743,
          -2.0764796142768596,
          "",
          -0.4107799035564533,
          -0.6208166159340301,
          -0.2102221844409211,
          "",
          "",
          -3.239792633209779,
          "",
          -1.4076495879274544,
          -0.1902250318441277,
          -0.34407037704295707,
          "",
          "",
          "",
          -0.14577305273473662,
          "",
          -0.35153755398868125,
          -2.7698691111557245,
          "",
          "",
          "",
          "",
          "",
          "",
          -0.7226593530777805,
          -1.5867876566343746
         ],
         "yaxis": "y2"
        }
       ],
       "layout": {
        "hovermode": "x",
        "legend": {
         "bgcolor": "#F5F6F9",
         "font": {
          "color": "#4D5663"
         }
        },
        "paper_bgcolor": "#F5F6F9",
        "plot_bgcolor": "#F5F6F9",
        "template": {
         "data": {
          "bar": [
           {
            "error_x": {
             "color": "#2a3f5f"
            },
            "error_y": {
             "color": "#2a3f5f"
            },
            "marker": {
             "line": {
              "color": "#E5ECF6",
              "width": 0.5
             }
            },
            "type": "bar"
           }
          ],
          "barpolar": [
           {
            "marker": {
             "line": {
              "color": "#E5ECF6",
              "width": 0.5
             }
            },
            "type": "barpolar"
           }
          ],
          "carpet": [
           {
            "aaxis": {
             "endlinecolor": "#2a3f5f",
             "gridcolor": "white",
             "linecolor": "white",
             "minorgridcolor": "white",
             "startlinecolor": "#2a3f5f"
            },
            "baxis": {
             "endlinecolor": "#2a3f5f",
             "gridcolor": "white",
             "linecolor": "white",
             "minorgridcolor": "white",
             "startlinecolor": "#2a3f5f"
            },
            "type": "carpet"
           }
          ],
          "choropleth": [
           {
            "colorbar": {
             "outlinewidth": 0,
             "ticks": ""
            },
            "type": "choropleth"
           }
          ],
          "contour": [
           {
            "colorbar": {
             "outlinewidth": 0,
             "ticks": ""
            },
            "colorscale": [
             [
              0,
              "#0d0887"
             ],
             [
              0.1111111111111111,
              "#46039f"
             ],
             [
              0.2222222222222222,
              "#7201a8"
             ],
             [
              0.3333333333333333,
              "#9c179e"
             ],
             [
              0.4444444444444444,
              "#bd3786"
             ],
             [
              0.5555555555555556,
              "#d8576b"
             ],
             [
              0.6666666666666666,
              "#ed7953"
             ],
             [
              0.7777777777777778,
              "#fb9f3a"
             ],
             [
              0.8888888888888888,
              "#fdca26"
             ],
             [
              1,
              "#f0f921"
             ]
            ],
            "type": "contour"
           }
          ],
          "contourcarpet": [
           {
            "colorbar": {
             "outlinewidth": 0,
             "ticks": ""
            },
            "type": "contourcarpet"
           }
          ],
          "heatmap": [
           {
            "colorbar": {
             "outlinewidth": 0,
             "ticks": ""
            },
            "colorscale": [
             [
              0,
              "#0d0887"
             ],
             [
              0.1111111111111111,
              "#46039f"
             ],
             [
              0.2222222222222222,
              "#7201a8"
             ],
             [
              0.3333333333333333,
              "#9c179e"
             ],
             [
              0.4444444444444444,
              "#bd3786"
             ],
             [
              0.5555555555555556,
              "#d8576b"
             ],
             [
              0.6666666666666666,
              "#ed7953"
             ],
             [
              0.7777777777777778,
              "#fb9f3a"
             ],
             [
              0.8888888888888888,
              "#fdca26"
             ],
             [
              1,
              "#f0f921"
             ]
            ],
            "type": "heatmap"
           }
          ],
          "heatmapgl": [
           {
            "colorbar": {
             "outlinewidth": 0,
             "ticks": ""
            },
            "colorscale": [
             [
              0,
              "#0d0887"
             ],
             [
              0.1111111111111111,
              "#46039f"
             ],
             [
              0.2222222222222222,
              "#7201a8"
             ],
             [
              0.3333333333333333,
              "#9c179e"
             ],
             [
              0.4444444444444444,
              "#bd3786"
             ],
             [
              0.5555555555555556,
              "#d8576b"
             ],
             [
              0.6666666666666666,
              "#ed7953"
             ],
             [
              0.7777777777777778,
              "#fb9f3a"
             ],
             [
              0.8888888888888888,
              "#fdca26"
             ],
             [
              1,
              "#f0f921"
             ]
            ],
            "type": "heatmapgl"
           }
          ],
          "histogram": [
           {
            "marker": {
             "colorbar": {
              "outlinewidth": 0,
              "ticks": ""
             }
            },
            "type": "histogram"
           }
          ],
          "histogram2d": [
           {
            "colorbar": {
             "outlinewidth": 0,
             "ticks": ""
            },
            "colorscale": [
             [
              0,
              "#0d0887"
             ],
             [
              0.1111111111111111,
              "#46039f"
             ],
             [
              0.2222222222222222,
              "#7201a8"
             ],
             [
              0.3333333333333333,
              "#9c179e"
             ],
             [
              0.4444444444444444,
              "#bd3786"
             ],
             [
              0.5555555555555556,
              "#d8576b"
             ],
             [
              0.6666666666666666,
              "#ed7953"
             ],
             [
              0.7777777777777778,
              "#fb9f3a"
             ],
             [
              0.8888888888888888,
              "#fdca26"
             ],
             [
              1,
              "#f0f921"
             ]
            ],
            "type": "histogram2d"
           }
          ],
          "histogram2dcontour": [
           {
            "colorbar": {
             "outlinewidth": 0,
             "ticks": ""
            },
            "colorscale": [
             [
              0,
              "#0d0887"
             ],
             [
              0.1111111111111111,
              "#46039f"
             ],
             [
              0.2222222222222222,
              "#7201a8"
             ],
             [
              0.3333333333333333,
              "#9c179e"
             ],
             [
              0.4444444444444444,
              "#bd3786"
             ],
             [
              0.5555555555555556,
              "#d8576b"
             ],
             [
              0.6666666666666666,
              "#ed7953"
             ],
             [
              0.7777777777777778,
              "#fb9f3a"
             ],
             [
              0.8888888888888888,
              "#fdca26"
             ],
             [
              1,
              "#f0f921"
             ]
            ],
            "type": "histogram2dcontour"
           }
          ],
          "mesh3d": [
           {
            "colorbar": {
             "outlinewidth": 0,
             "ticks": ""
            },
            "type": "mesh3d"
           }
          ],
          "parcoords": [
           {
            "line": {
             "colorbar": {
              "outlinewidth": 0,
              "ticks": ""
             }
            },
            "type": "parcoords"
           }
          ],
          "pie": [
           {
            "automargin": true,
            "type": "pie"
           }
          ],
          "scatter": [
           {
            "marker": {
             "colorbar": {
              "outlinewidth": 0,
              "ticks": ""
             }
            },
            "type": "scatter"
           }
          ],
          "scatter3d": [
           {
            "line": {
             "colorbar": {
              "outlinewidth": 0,
              "ticks": ""
             }
            },
            "marker": {
             "colorbar": {
              "outlinewidth": 0,
              "ticks": ""
             }
            },
            "type": "scatter3d"
           }
          ],
          "scattercarpet": [
           {
            "marker": {
             "colorbar": {
              "outlinewidth": 0,
              "ticks": ""
             }
            },
            "type": "scattercarpet"
           }
          ],
          "scattergeo": [
           {
            "marker": {
             "colorbar": {
              "outlinewidth": 0,
              "ticks": ""
             }
            },
            "type": "scattergeo"
           }
          ],
          "scattergl": [
           {
            "marker": {
             "colorbar": {
              "outlinewidth": 0,
              "ticks": ""
             }
            },
            "type": "scattergl"
           }
          ],
          "scattermapbox": [
           {
            "marker": {
             "colorbar": {
              "outlinewidth": 0,
              "ticks": ""
             }
            },
            "type": "scattermapbox"
           }
          ],
          "scatterpolar": [
           {
            "marker": {
             "colorbar": {
              "outlinewidth": 0,
              "ticks": ""
             }
            },
            "type": "scatterpolar"
           }
          ],
          "scatterpolargl": [
           {
            "marker": {
             "colorbar": {
              "outlinewidth": 0,
              "ticks": ""
             }
            },
            "type": "scatterpolargl"
           }
          ],
          "scatterternary": [
           {
            "marker": {
             "colorbar": {
              "outlinewidth": 0,
              "ticks": ""
             }
            },
            "type": "scatterternary"
           }
          ],
          "surface": [
           {
            "colorbar": {
             "outlinewidth": 0,
             "ticks": ""
            },
            "colorscale": [
             [
              0,
              "#0d0887"
             ],
             [
              0.1111111111111111,
              "#46039f"
             ],
             [
              0.2222222222222222,
              "#7201a8"
             ],
             [
              0.3333333333333333,
              "#9c179e"
             ],
             [
              0.4444444444444444,
              "#bd3786"
             ],
             [
              0.5555555555555556,
              "#d8576b"
             ],
             [
              0.6666666666666666,
              "#ed7953"
             ],
             [
              0.7777777777777778,
              "#fb9f3a"
             ],
             [
              0.8888888888888888,
              "#fdca26"
             ],
             [
              1,
              "#f0f921"
             ]
            ],
            "type": "surface"
           }
          ],
          "table": [
           {
            "cells": {
             "fill": {
              "color": "#EBF0F8"
             },
             "line": {
              "color": "white"
             }
            },
            "header": {
             "fill": {
              "color": "#C8D4E3"
             },
             "line": {
              "color": "white"
             }
            },
            "type": "table"
           }
          ]
         },
         "layout": {
          "annotationdefaults": {
           "arrowcolor": "#2a3f5f",
           "arrowhead": 0,
           "arrowwidth": 1
          },
          "coloraxis": {
           "colorbar": {
            "outlinewidth": 0,
            "ticks": ""
           }
          },
          "colorscale": {
           "diverging": [
            [
             0,
             "#8e0152"
            ],
            [
             0.1,
             "#c51b7d"
            ],
            [
             0.2,
             "#de77ae"
            ],
            [
             0.3,
             "#f1b6da"
            ],
            [
             0.4,
             "#fde0ef"
            ],
            [
             0.5,
             "#f7f7f7"
            ],
            [
             0.6,
             "#e6f5d0"
            ],
            [
             0.7,
             "#b8e186"
            ],
            [
             0.8,
             "#7fbc41"
            ],
            [
             0.9,
             "#4d9221"
            ],
            [
             1,
             "#276419"
            ]
           ],
           "sequential": [
            [
             0,
             "#0d0887"
            ],
            [
             0.1111111111111111,
             "#46039f"
            ],
            [
             0.2222222222222222,
             "#7201a8"
            ],
            [
             0.3333333333333333,
             "#9c179e"
            ],
            [
             0.4444444444444444,
             "#bd3786"
            ],
            [
             0.5555555555555556,
             "#d8576b"
            ],
            [
             0.6666666666666666,
             "#ed7953"
            ],
            [
             0.7777777777777778,
             "#fb9f3a"
            ],
            [
             0.8888888888888888,
             "#fdca26"
            ],
            [
             1,
             "#f0f921"
            ]
           ],
           "sequentialminus": [
            [
             0,
             "#0d0887"
            ],
            [
             0.1111111111111111,
             "#46039f"
            ],
            [
             0.2222222222222222,
             "#7201a8"
            ],
            [
             0.3333333333333333,
             "#9c179e"
            ],
            [
             0.4444444444444444,
             "#bd3786"
            ],
            [
             0.5555555555555556,
             "#d8576b"
            ],
            [
             0.6666666666666666,
             "#ed7953"
            ],
            [
             0.7777777777777778,
             "#fb9f3a"
            ],
            [
             0.8888888888888888,
             "#fdca26"
            ],
            [
             1,
             "#f0f921"
            ]
           ]
          },
          "colorway": [
           "#636efa",
           "#EF553B",
           "#00cc96",
           "#ab63fa",
           "#FFA15A",
           "#19d3f3",
           "#FF6692",
           "#B6E880",
           "#FF97FF",
           "#FECB52"
          ],
          "font": {
           "color": "#2a3f5f"
          },
          "geo": {
           "bgcolor": "white",
           "lakecolor": "white",
           "landcolor": "#E5ECF6",
           "showlakes": true,
           "showland": true,
           "subunitcolor": "white"
          },
          "hoverlabel": {
           "align": "left"
          },
          "hovermode": "closest",
          "mapbox": {
           "style": "light"
          },
          "paper_bgcolor": "white",
          "plot_bgcolor": "#E5ECF6",
          "polar": {
           "angularaxis": {
            "gridcolor": "white",
            "linecolor": "white",
            "ticks": ""
           },
           "bgcolor": "#E5ECF6",
           "radialaxis": {
            "gridcolor": "white",
            "linecolor": "white",
            "ticks": ""
           }
          },
          "scene": {
           "xaxis": {
            "backgroundcolor": "#E5ECF6",
            "gridcolor": "white",
            "gridwidth": 2,
            "linecolor": "white",
            "showbackground": true,
            "ticks": "",
            "zerolinecolor": "white"
           },
           "yaxis": {
            "backgroundcolor": "#E5ECF6",
            "gridcolor": "white",
            "gridwidth": 2,
            "linecolor": "white",
            "showbackground": true,
            "ticks": "",
            "zerolinecolor": "white"
           },
           "zaxis": {
            "backgroundcolor": "#E5ECF6",
            "gridcolor": "white",
            "gridwidth": 2,
            "linecolor": "white",
            "showbackground": true,
            "ticks": "",
            "zerolinecolor": "white"
           }
          },
          "shapedefaults": {
           "line": {
            "color": "#2a3f5f"
           }
          },
          "ternary": {
           "aaxis": {
            "gridcolor": "white",
            "linecolor": "white",
            "ticks": ""
           },
           "baxis": {
            "gridcolor": "white",
            "linecolor": "white",
            "ticks": ""
           },
           "bgcolor": "#E5ECF6",
           "caxis": {
            "gridcolor": "white",
            "linecolor": "white",
            "ticks": ""
           }
          },
          "title": {
           "x": 0.05
          },
          "xaxis": {
           "automargin": true,
           "gridcolor": "white",
           "linecolor": "white",
           "ticks": "",
           "title": {
            "standoff": 15
           },
           "zerolinecolor": "white",
           "zerolinewidth": 2
          },
          "yaxis": {
           "automargin": true,
           "gridcolor": "white",
           "linecolor": "white",
           "ticks": "",
           "title": {
            "standoff": 15
           },
           "zerolinecolor": "white",
           "zerolinewidth": 2
          }
         }
        },
        "title": {
         "font": {
          "color": "#4D5663"
         }
        },
        "xaxis": {
         "gridcolor": "#E1E5ED",
         "showgrid": true,
         "tickfont": {
          "color": "#4D5663"
         },
         "title": {
          "font": {
           "color": "#4D5663"
          },
          "text": ""
         },
         "zerolinecolor": "#E1E5ED"
        },
        "xaxis2": {
         "anchor": "y2",
         "gridcolor": "#E1E5ED",
         "showgrid": true,
         "showticklabels": false,
         "tickfont": {
          "color": "#4D5663"
         },
         "title": {
          "font": {
           "color": "#4D5663"
          },
          "text": ""
         },
         "zerolinecolor": "#E1E5ED"
        },
        "yaxis": {
         "domain": [
          0.3,
          1
         ],
         "gridcolor": "#E1E5ED",
         "showgrid": true,
         "tickfont": {
          "color": "#4D5663"
         },
         "title": {
          "font": {
           "color": "#4D5663"
          },
          "text": ""
         },
         "zerolinecolor": "#E1E5ED"
        },
        "yaxis2": {
         "domain": [
          0,
          0.25
         ],
         "gridcolor": "#E1E5ED",
         "showgrid": true,
         "tickfont": {
          "color": "#4D5663"
         },
         "title": {
          "font": {
           "color": "#4D5663"
          },
          "text": "Spread"
         },
         "zerolinecolor": "#E1E5ED"
        }
       }
      },
      "text/html": [
       "<div>\n",
       "        \n",
       "        \n",
       "            <div id=\"a2a32044-cf8e-41a4-8874-272d7b1a8a78\" class=\"plotly-graph-div\" style=\"height:525px; width:100%;\"></div>\n",
       "            <script type=\"text/javascript\">\n",
       "                require([\"plotly\"], function(Plotly) {\n",
       "                    window.PLOTLYENV=window.PLOTLYENV || {};\n",
       "                    window.PLOTLYENV.BASE_URL='https://plot.ly';\n",
       "                    \n",
       "                if (document.getElementById(\"a2a32044-cf8e-41a4-8874-272d7b1a8a78\")) {\n",
       "                    Plotly.newPlot(\n",
       "                        'a2a32044-cf8e-41a4-8874-272d7b1a8a78',\n",
       "                        [{\"line\": {\"color\": \"rgba(255, 153, 51, 1.0)\", \"dash\": \"solid\", \"shape\": \"linear\", \"width\": 1.3}, \"mode\": \"lines\", \"name\": \"A\", \"text\": \"\", \"type\": \"scatter\", \"x\": [0, 1, 2, 3, 4, 5, 6, 7, 8, 9, 10, 11, 12, 13, 14, 15, 16, 17, 18, 19, 20, 21, 22, 23, 24, 25, 26, 27, 28, 29, 30, 31, 32, 33, 34, 35, 36, 37, 38, 39, 40, 41, 42, 43, 44, 45, 46, 47, 48, 49, 50, 51, 52, 53, 54, 55, 56, 57, 58, 59, 60, 61, 62, 63, 64, 65, 66, 67, 68, 69, 70, 71, 72, 73, 74, 75, 76, 77, 78, 79, 80, 81, 82, 83, 84, 85, 86, 87, 88, 89, 90, 91, 92, 93, 94, 95, 96, 97, 98, 99], \"y\": [-1.218991033261646, -0.5465765623202922, 0.18132417432275671, -0.014585404257609841, 0.1715182335092267, -1.3779384183098575, 2.2490010504007203, -1.2937347379867639, 0.645795456082042, -0.36282297531233015, -0.8830302929744168, 0.3978544585571979, 1.4573313754948551, -0.42499485568865564, 0.3706190593531806, 0.37736470261438537, 0.4277275289247419, -0.16226827355695023, -0.058022745855864394, -1.8487874313355865, 0.8022710961429018, -1.9470864824594507, -2.1131990933422515, -0.5106491158132542, 1.3796907827063247, -0.2829133544458733, -0.598005788070867, 0.985421725043829, -0.053580649651472724, 0.6804644985751658, 0.9481857380941411, -1.1146991830746134, 1.0275502417998543, -1.457489960262967, 0.23837190745798345, 0.5128251402478308, 0.6552122213363701, -3.1086824537421966, 0.4291926070041237, 0.7311268050114921, 0.7146906973183577, 0.23765346133515933, 0.5636683723477607, -0.19560647211511367, -1.4721539885794437, -0.1676593178014201, 0.4152099938863828, -0.9064861230077402, -0.5055774366498862, 0.5349192709445101, 2.1231913714510715, 2.2707276001335392, -1.709501621834544, 1.5200345414171992, -0.6180853646699377, 1.3204585944952765, 0.7672795518407083, -0.6968332170252055, 0.23875081210284058, 1.0277536622636916, -0.7671534331370783, -0.7377371573056383, 1.4735944964229581, -1.3514547300791788, -0.11340112276702033, 1.91749282262013, 1.2314518894288216, 0.23902470415773386, 0.7729293278824075, 0.027302940383040052, 0.7883419106958499, -0.007678428674991606, -0.4679306148027131, -0.3137113795539161, 0.5799497855130166, -0.4422423998075986, 0.013049264772897765, 1.1433034523669872, 1.2086040894753496, 1.234131361555419, -1.8422285316637823, 0.33371425688076634, -1.0086403689251748, 0.25408076638641586, -1.1537517610944619, 0.11546173547730847, -0.32788866726597193, 2.0331689908154784, 0.34797807275311415, -1.251412065531357, 0.9308890122198833, -0.8142474569278847, 0.7762675608414903, 0.8468274953365662, 1.3011474374604695, 0.05918586303413559, 2.1512380068791446, 1.5409210295246003, -1.4431005934720968, -1.0527879815155303]}, {\"line\": {\"color\": \"rgba(55, 128, 191, 1.0)\", \"dash\": \"solid\", \"shape\": \"linear\", \"width\": 1.3}, \"mode\": \"lines\", \"name\": \"B\", \"text\": \"\", \"type\": \"scatter\", \"x\": [0, 1, 2, 3, 4, 5, 6, 7, 8, 9, 10, 11, 12, 13, 14, 15, 16, 17, 18, 19, 20, 21, 22, 23, 24, 25, 26, 27, 28, 29, 30, 31, 32, 33, 34, 35, 36, 37, 38, 39, 40, 41, 42, 43, 44, 45, 46, 47, 48, 49, 50, 51, 52, 53, 54, 55, 56, 57, 58, 59, 60, 61, 62, 63, 64, 65, 66, 67, 68, 69, 70, 71, 72, 73, 74, 75, 76, 77, 78, 79, 80, 81, 82, 83, 84, 85, 86, 87, 88, 89, 90, 91, 92, 93, 94, 95, 96, 97, 98, 99], \"y\": [0.3419764734215199, -2.3116551242894983, 1.3348751311612044, -0.1072796179888181, 2.483217793824436, -0.0741119345885313, -1.6738723112564624, 0.14713214486023077, 0.640769561204283, 0.4618918585952571, 1.7079110887935436, -0.1707611901698053, 0.6172860108755727, 0.25794903136380476, -0.6988181776820083, -1.263302918452683, -0.045883990267492424, -0.8257294543546106, 0.9600869708265687, 0.5681263328757964, -0.3647234435365751, -2.2170174535344085, 1.7049553191012643, -0.5537308376912038, -0.5893379099827436, -0.789750324269047, -0.5968772238779839, -0.2004912957144484, -0.6246266663795919, 1.0541547531216344, 1.1407786943515277, -0.3478718293512527, -0.4655854045314903, -1.0204625318491685, -0.17134797784339065, -2.004294224309604, -1.392027639421431, -1.8088906593188325, -1.7144334237148287, -0.828272087494066, 0.11134914674790283, 0.5563361994412729, 0.11786737071859353, 1.0283021269240364, -0.6844461103765496, 0.6134588405344479, -1.6636278706256518, 0.2354302397742566, 0.4927510624220601, 1.4458444853244878, -0.85488831932789, 0.41631088070245303, 0.8861235398691205, -0.7625248083567656, 0.21295446005412047, 1.202789392766879, -1.6552505758408658, 0.671892072559935, -0.8744246595050262, 1.899602505489602, -0.9895809299587186, -1.6374685722734121, -0.9557082919513292, 0.33382359674876755, 0.6439689050896489, 1.1376245647727588, -1.3105163589059687, -0.6367229605275069, 0.20988075534801515, 0.5270543441369793, 0.06317450408580289, 0.4759314171495404, -0.3389952753783388, 1.7627682347229436, -1.4433264556437697, -0.031462496251145354, 0.633865880706928, 1.3535256368079083, -0.4180120086025204, 0.649673515838004, 1.3975641015459965, 0.1279457536374559, 0.3990092190022796, 0.44430579823054356, -0.8096813840515048, -0.11930671508494314, -1.7368783531904881, -0.7436696453065349, 0.4937511254878508, -2.4396435356718817, 1.2824265662085645, 1.9556216542278397, -0.3268638798117112, -0.49065900845493565, 0.9615252684456398, -1.4589162600753647, -0.6776441409243771, -0.8578568648111088, -0.7204412403943163, 0.5339996751188443]}, {\"connectgaps\": false, \"fill\": \"tozeroy\", \"line\": {\"color\": \"green\", \"dash\": \"solid\", \"shape\": \"linear\", \"width\": 0.5}, \"mode\": \"lines\", \"name\": \"Spread\", \"showlegend\": false, \"type\": \"scatter\", \"x\": [0, 1, 2, 3, 4, 5, 6, 7, 8, 9, 10, 11, 12, 13, 14, 15, 16, 17, 18, 19, 20, 21, 22, 23, 24, 25, 26, 27, 28, 29, 30, 31, 32, 33, 34, 35, 36, 37, 38, 39, 40, 41, 42, 43, 44, 45, 46, 47, 48, 49, 50, 51, 52, 53, 54, 55, 56, 57, 58, 59, 60, 61, 62, 63, 64, 65, 66, 67, 68, 69, 70, 71, 72, 73, 74, 75, 76, 77, 78, 79, 80, 81, 82, 83, 84, 85, 86, 87, 88, 89, 90, 91, 92, 93, 94, 95, 96, 97, 98, 99], \"xaxis\": \"x2\", \"y\": [\"\", 1.7650785619692062, \"\", 0.09269421373120826, \"\", \"\", 3.9228733616571825, \"\", 0.005025894877759063, \"\", \"\", 0.5686156487270032, 0.8400453646192825, \"\", 1.069437237035189, 1.6406676210670683, 0.4736115191922343, 0.6634611807976605, \"\", \"\", 1.166994539679477, 0.2699309710749578, \"\", 0.043081721877949564, 1.9690286926890683, 0.5068369698231737, \"\", 1.1859130207582773, 0.5710460167281192, \"\", \"\", \"\", 1.4931356463313445, \"\", 0.4097198853013741, 2.517119364557435, 2.0472398607578013, \"\", 2.1436260307189525, 1.5593988925055582, 0.6033415505704548, \"\", 0.44580100162916714, \"\", \"\", \"\", 2.0788378645120345, \"\", \"\", \"\", 2.9780796907789613, 1.8544167194310863, \"\", 2.282559349773965, \"\", 0.11766920172839757, 2.422530127681574, \"\", 1.1131754716078668, \"\", 0.2224274968216403, 0.8997314149677739, 2.4293027883742875, \"\", \"\", 0.7798682578473712, 2.5419682483347903, 0.8757476646852407, 0.5630485725343923, \"\", 0.7251674066100471, \"\", \"\", \"\", 2.023276241156786, \"\", \"\", \"\", 1.62661609807787, 0.584457845717415, \"\", 0.20576850324331045, \"\", \"\", \"\", 0.2347684505622516, 1.4089896859245161, 2.7768386361220134, \"\", 1.1882314701405248, \"\", \"\", 1.1031314406532016, 1.3374865037915018, 0.33962216901482967, 1.5181021231095002, 2.8288821478035215, 2.398777894335709, \"\", \"\"], \"yaxis\": \"y2\"}, {\"connectgaps\": false, \"fill\": \"tozeroy\", \"line\": {\"color\": \"red\", \"dash\": \"solid\", \"shape\": \"linear\", \"width\": 0.5}, \"mode\": \"lines\", \"name\": \"Spread\", \"showlegend\": false, \"type\": \"scatter\", \"x\": [0, 1, 2, 3, 4, 5, 6, 7, 8, 9, 10, 11, 12, 13, 14, 15, 16, 17, 18, 19, 20, 21, 22, 23, 24, 25, 26, 27, 28, 29, 30, 31, 32, 33, 34, 35, 36, 37, 38, 39, 40, 41, 42, 43, 44, 45, 46, 47, 48, 49, 50, 51, 52, 53, 54, 55, 56, 57, 58, 59, 60, 61, 62, 63, 64, 65, 66, 67, 68, 69, 70, 71, 72, 73, 74, 75, 76, 77, 78, 79, 80, 81, 82, 83, 84, 85, 86, 87, 88, 89, 90, 91, 92, 93, 94, 95, 96, 97, 98, 99], \"xaxis\": \"x2\", \"y\": [-1.5609675066831659, \"\", -1.1535509568384477, \"\", -2.3116995603152093, -1.3038264837213263, \"\", -1.4408668828469946, \"\", -0.8247148339075873, -2.5909413817679603, \"\", \"\", -0.6829438870524605, \"\", \"\", \"\", \"\", -1.018109716682433, -2.416913764211383, \"\", \"\", -3.8181544124435156, \"\", \"\", \"\", -0.001128564192883097, \"\", \"\", -0.37369025454646865, -0.1925929562573866, -0.7668273537233606, \"\", -0.4370274284137985, \"\", \"\", \"\", -1.2997917944233641, \"\", \"\", \"\", -0.3186827381061136, \"\", -1.22390859903915, -0.7877078782028941, -0.781118158335868, \"\", -1.1419163627819968, -0.9983284990719463, -0.9109252143799778, \"\", \"\", -2.5956251617036648, \"\", -0.8310398247240581, \"\", \"\", -1.3687252895851405, \"\", -0.8718488432259104, \"\", \"\", \"\", -1.6852783268279463, -0.7573700278566692, \"\", \"\", \"\", \"\", -0.4997514037539392, \"\", -0.48360984582453204, -0.1289353394243743, -2.0764796142768596, \"\", -0.4107799035564533, -0.6208166159340301, -0.2102221844409211, \"\", \"\", -3.239792633209779, \"\", -1.4076495879274544, -0.1902250318441277, -0.34407037704295707, \"\", \"\", \"\", -0.14577305273473662, \"\", -0.35153755398868125, -2.7698691111557245, \"\", \"\", \"\", \"\", \"\", \"\", -0.7226593530777805, -1.5867876566343746], \"yaxis\": \"y2\"}],\n",
       "                        {\"hovermode\": \"x\", \"legend\": {\"bgcolor\": \"#F5F6F9\", \"font\": {\"color\": \"#4D5663\"}}, \"paper_bgcolor\": \"#F5F6F9\", \"plot_bgcolor\": \"#F5F6F9\", \"template\": {\"data\": {\"bar\": [{\"error_x\": {\"color\": \"#2a3f5f\"}, \"error_y\": {\"color\": \"#2a3f5f\"}, \"marker\": {\"line\": {\"color\": \"#E5ECF6\", \"width\": 0.5}}, \"type\": \"bar\"}], \"barpolar\": [{\"marker\": {\"line\": {\"color\": \"#E5ECF6\", \"width\": 0.5}}, \"type\": \"barpolar\"}], \"carpet\": [{\"aaxis\": {\"endlinecolor\": \"#2a3f5f\", \"gridcolor\": \"white\", \"linecolor\": \"white\", \"minorgridcolor\": \"white\", \"startlinecolor\": \"#2a3f5f\"}, \"baxis\": {\"endlinecolor\": \"#2a3f5f\", \"gridcolor\": \"white\", \"linecolor\": \"white\", \"minorgridcolor\": \"white\", \"startlinecolor\": \"#2a3f5f\"}, \"type\": \"carpet\"}], \"choropleth\": [{\"colorbar\": {\"outlinewidth\": 0, \"ticks\": \"\"}, \"type\": \"choropleth\"}], \"contour\": [{\"colorbar\": {\"outlinewidth\": 0, \"ticks\": \"\"}, \"colorscale\": [[0.0, \"#0d0887\"], [0.1111111111111111, \"#46039f\"], [0.2222222222222222, \"#7201a8\"], [0.3333333333333333, \"#9c179e\"], [0.4444444444444444, \"#bd3786\"], [0.5555555555555556, \"#d8576b\"], [0.6666666666666666, \"#ed7953\"], [0.7777777777777778, \"#fb9f3a\"], [0.8888888888888888, \"#fdca26\"], [1.0, \"#f0f921\"]], \"type\": \"contour\"}], \"contourcarpet\": [{\"colorbar\": {\"outlinewidth\": 0, \"ticks\": \"\"}, \"type\": \"contourcarpet\"}], \"heatmap\": [{\"colorbar\": {\"outlinewidth\": 0, \"ticks\": \"\"}, \"colorscale\": [[0.0, \"#0d0887\"], [0.1111111111111111, \"#46039f\"], [0.2222222222222222, \"#7201a8\"], [0.3333333333333333, \"#9c179e\"], [0.4444444444444444, \"#bd3786\"], [0.5555555555555556, \"#d8576b\"], [0.6666666666666666, \"#ed7953\"], [0.7777777777777778, \"#fb9f3a\"], [0.8888888888888888, \"#fdca26\"], [1.0, \"#f0f921\"]], \"type\": \"heatmap\"}], \"heatmapgl\": [{\"colorbar\": {\"outlinewidth\": 0, \"ticks\": \"\"}, \"colorscale\": [[0.0, \"#0d0887\"], [0.1111111111111111, \"#46039f\"], [0.2222222222222222, \"#7201a8\"], [0.3333333333333333, \"#9c179e\"], [0.4444444444444444, \"#bd3786\"], [0.5555555555555556, \"#d8576b\"], [0.6666666666666666, \"#ed7953\"], [0.7777777777777778, \"#fb9f3a\"], [0.8888888888888888, \"#fdca26\"], [1.0, \"#f0f921\"]], \"type\": \"heatmapgl\"}], \"histogram\": [{\"marker\": {\"colorbar\": {\"outlinewidth\": 0, \"ticks\": \"\"}}, \"type\": \"histogram\"}], \"histogram2d\": [{\"colorbar\": {\"outlinewidth\": 0, \"ticks\": \"\"}, \"colorscale\": [[0.0, \"#0d0887\"], [0.1111111111111111, \"#46039f\"], [0.2222222222222222, \"#7201a8\"], [0.3333333333333333, \"#9c179e\"], [0.4444444444444444, \"#bd3786\"], [0.5555555555555556, \"#d8576b\"], [0.6666666666666666, \"#ed7953\"], [0.7777777777777778, \"#fb9f3a\"], [0.8888888888888888, \"#fdca26\"], [1.0, \"#f0f921\"]], \"type\": \"histogram2d\"}], \"histogram2dcontour\": [{\"colorbar\": {\"outlinewidth\": 0, \"ticks\": \"\"}, \"colorscale\": [[0.0, \"#0d0887\"], [0.1111111111111111, \"#46039f\"], [0.2222222222222222, \"#7201a8\"], [0.3333333333333333, \"#9c179e\"], [0.4444444444444444, \"#bd3786\"], [0.5555555555555556, \"#d8576b\"], [0.6666666666666666, \"#ed7953\"], [0.7777777777777778, \"#fb9f3a\"], [0.8888888888888888, \"#fdca26\"], [1.0, \"#f0f921\"]], \"type\": \"histogram2dcontour\"}], \"mesh3d\": [{\"colorbar\": {\"outlinewidth\": 0, \"ticks\": \"\"}, \"type\": \"mesh3d\"}], \"parcoords\": [{\"line\": {\"colorbar\": {\"outlinewidth\": 0, \"ticks\": \"\"}}, \"type\": \"parcoords\"}], \"pie\": [{\"automargin\": true, \"type\": \"pie\"}], \"scatter\": [{\"marker\": {\"colorbar\": {\"outlinewidth\": 0, \"ticks\": \"\"}}, \"type\": \"scatter\"}], \"scatter3d\": [{\"line\": {\"colorbar\": {\"outlinewidth\": 0, \"ticks\": \"\"}}, \"marker\": {\"colorbar\": {\"outlinewidth\": 0, \"ticks\": \"\"}}, \"type\": \"scatter3d\"}], \"scattercarpet\": [{\"marker\": {\"colorbar\": {\"outlinewidth\": 0, \"ticks\": \"\"}}, \"type\": \"scattercarpet\"}], \"scattergeo\": [{\"marker\": {\"colorbar\": {\"outlinewidth\": 0, \"ticks\": \"\"}}, \"type\": \"scattergeo\"}], \"scattergl\": [{\"marker\": {\"colorbar\": {\"outlinewidth\": 0, \"ticks\": \"\"}}, \"type\": \"scattergl\"}], \"scattermapbox\": [{\"marker\": {\"colorbar\": {\"outlinewidth\": 0, \"ticks\": \"\"}}, \"type\": \"scattermapbox\"}], \"scatterpolar\": [{\"marker\": {\"colorbar\": {\"outlinewidth\": 0, \"ticks\": \"\"}}, \"type\": \"scatterpolar\"}], \"scatterpolargl\": [{\"marker\": {\"colorbar\": {\"outlinewidth\": 0, \"ticks\": \"\"}}, \"type\": \"scatterpolargl\"}], \"scatterternary\": [{\"marker\": {\"colorbar\": {\"outlinewidth\": 0, \"ticks\": \"\"}}, \"type\": \"scatterternary\"}], \"surface\": [{\"colorbar\": {\"outlinewidth\": 0, \"ticks\": \"\"}, \"colorscale\": [[0.0, \"#0d0887\"], [0.1111111111111111, \"#46039f\"], [0.2222222222222222, \"#7201a8\"], [0.3333333333333333, \"#9c179e\"], [0.4444444444444444, \"#bd3786\"], [0.5555555555555556, \"#d8576b\"], [0.6666666666666666, \"#ed7953\"], [0.7777777777777778, \"#fb9f3a\"], [0.8888888888888888, \"#fdca26\"], [1.0, \"#f0f921\"]], \"type\": \"surface\"}], \"table\": [{\"cells\": {\"fill\": {\"color\": \"#EBF0F8\"}, \"line\": {\"color\": \"white\"}}, \"header\": {\"fill\": {\"color\": \"#C8D4E3\"}, \"line\": {\"color\": \"white\"}}, \"type\": \"table\"}]}, \"layout\": {\"annotationdefaults\": {\"arrowcolor\": \"#2a3f5f\", \"arrowhead\": 0, \"arrowwidth\": 1}, \"coloraxis\": {\"colorbar\": {\"outlinewidth\": 0, \"ticks\": \"\"}}, \"colorscale\": {\"diverging\": [[0, \"#8e0152\"], [0.1, \"#c51b7d\"], [0.2, \"#de77ae\"], [0.3, \"#f1b6da\"], [0.4, \"#fde0ef\"], [0.5, \"#f7f7f7\"], [0.6, \"#e6f5d0\"], [0.7, \"#b8e186\"], [0.8, \"#7fbc41\"], [0.9, \"#4d9221\"], [1, \"#276419\"]], \"sequential\": [[0.0, \"#0d0887\"], [0.1111111111111111, \"#46039f\"], [0.2222222222222222, \"#7201a8\"], [0.3333333333333333, \"#9c179e\"], [0.4444444444444444, \"#bd3786\"], [0.5555555555555556, \"#d8576b\"], [0.6666666666666666, \"#ed7953\"], [0.7777777777777778, \"#fb9f3a\"], [0.8888888888888888, \"#fdca26\"], [1.0, \"#f0f921\"]], \"sequentialminus\": [[0.0, \"#0d0887\"], [0.1111111111111111, \"#46039f\"], [0.2222222222222222, \"#7201a8\"], [0.3333333333333333, \"#9c179e\"], [0.4444444444444444, \"#bd3786\"], [0.5555555555555556, \"#d8576b\"], [0.6666666666666666, \"#ed7953\"], [0.7777777777777778, \"#fb9f3a\"], [0.8888888888888888, \"#fdca26\"], [1.0, \"#f0f921\"]]}, \"colorway\": [\"#636efa\", \"#EF553B\", \"#00cc96\", \"#ab63fa\", \"#FFA15A\", \"#19d3f3\", \"#FF6692\", \"#B6E880\", \"#FF97FF\", \"#FECB52\"], \"font\": {\"color\": \"#2a3f5f\"}, \"geo\": {\"bgcolor\": \"white\", \"lakecolor\": \"white\", \"landcolor\": \"#E5ECF6\", \"showlakes\": true, \"showland\": true, \"subunitcolor\": \"white\"}, \"hoverlabel\": {\"align\": \"left\"}, \"hovermode\": \"closest\", \"mapbox\": {\"style\": \"light\"}, \"paper_bgcolor\": \"white\", \"plot_bgcolor\": \"#E5ECF6\", \"polar\": {\"angularaxis\": {\"gridcolor\": \"white\", \"linecolor\": \"white\", \"ticks\": \"\"}, \"bgcolor\": \"#E5ECF6\", \"radialaxis\": {\"gridcolor\": \"white\", \"linecolor\": \"white\", \"ticks\": \"\"}}, \"scene\": {\"xaxis\": {\"backgroundcolor\": \"#E5ECF6\", \"gridcolor\": \"white\", \"gridwidth\": 2, \"linecolor\": \"white\", \"showbackground\": true, \"ticks\": \"\", \"zerolinecolor\": \"white\"}, \"yaxis\": {\"backgroundcolor\": \"#E5ECF6\", \"gridcolor\": \"white\", \"gridwidth\": 2, \"linecolor\": \"white\", \"showbackground\": true, \"ticks\": \"\", \"zerolinecolor\": \"white\"}, \"zaxis\": {\"backgroundcolor\": \"#E5ECF6\", \"gridcolor\": \"white\", \"gridwidth\": 2, \"linecolor\": \"white\", \"showbackground\": true, \"ticks\": \"\", \"zerolinecolor\": \"white\"}}, \"shapedefaults\": {\"line\": {\"color\": \"#2a3f5f\"}}, \"ternary\": {\"aaxis\": {\"gridcolor\": \"white\", \"linecolor\": \"white\", \"ticks\": \"\"}, \"baxis\": {\"gridcolor\": \"white\", \"linecolor\": \"white\", \"ticks\": \"\"}, \"bgcolor\": \"#E5ECF6\", \"caxis\": {\"gridcolor\": \"white\", \"linecolor\": \"white\", \"ticks\": \"\"}}, \"title\": {\"x\": 0.05}, \"xaxis\": {\"automargin\": true, \"gridcolor\": \"white\", \"linecolor\": \"white\", \"ticks\": \"\", \"title\": {\"standoff\": 15}, \"zerolinecolor\": \"white\", \"zerolinewidth\": 2}, \"yaxis\": {\"automargin\": true, \"gridcolor\": \"white\", \"linecolor\": \"white\", \"ticks\": \"\", \"title\": {\"standoff\": 15}, \"zerolinecolor\": \"white\", \"zerolinewidth\": 2}}}, \"title\": {\"font\": {\"color\": \"#4D5663\"}}, \"xaxis\": {\"gridcolor\": \"#E1E5ED\", \"showgrid\": true, \"tickfont\": {\"color\": \"#4D5663\"}, \"title\": {\"font\": {\"color\": \"#4D5663\"}, \"text\": \"\"}, \"zerolinecolor\": \"#E1E5ED\"}, \"xaxis2\": {\"anchor\": \"y2\", \"gridcolor\": \"#E1E5ED\", \"showgrid\": true, \"showticklabels\": false, \"tickfont\": {\"color\": \"#4D5663\"}, \"title\": {\"font\": {\"color\": \"#4D5663\"}, \"text\": \"\"}, \"zerolinecolor\": \"#E1E5ED\"}, \"yaxis\": {\"domain\": [0.3, 1], \"gridcolor\": \"#E1E5ED\", \"showgrid\": true, \"tickfont\": {\"color\": \"#4D5663\"}, \"title\": {\"font\": {\"color\": \"#4D5663\"}, \"text\": \"\"}, \"zerolinecolor\": \"#E1E5ED\"}, \"yaxis2\": {\"domain\": [0, 0.25], \"gridcolor\": \"#E1E5ED\", \"showgrid\": true, \"tickfont\": {\"color\": \"#4D5663\"}, \"title\": {\"font\": {\"color\": \"#4D5663\"}, \"text\": \"Spread\"}, \"zerolinecolor\": \"#E1E5ED\"}},\n",
       "                        {\"showLink\": true, \"linkText\": \"Export to plot.ly\", \"plotlyServerURL\": \"https://plot.ly\", \"responsive\": true}\n",
       "                    ).then(function(){\n",
       "                            \n",
       "var gd = document.getElementById('a2a32044-cf8e-41a4-8874-272d7b1a8a78');\n",
       "var x = new MutationObserver(function (mutations, observer) {{\n",
       "        var display = window.getComputedStyle(gd).display;\n",
       "        if (!display || display === 'none') {{\n",
       "            console.log([gd, 'removed!']);\n",
       "            Plotly.purge(gd);\n",
       "            observer.disconnect();\n",
       "        }}\n",
       "}});\n",
       "\n",
       "// Listen for the removal of the full notebook cells\n",
       "var notebookContainer = gd.closest('#notebook-container');\n",
       "if (notebookContainer) {{\n",
       "    x.observe(notebookContainer, {childList: true});\n",
       "}}\n",
       "\n",
       "// Listen for the clearing of the current output cell\n",
       "var outputEl = gd.closest('.output');\n",
       "if (outputEl) {{\n",
       "    x.observe(outputEl, {childList: true});\n",
       "}}\n",
       "\n",
       "                        })\n",
       "                };\n",
       "                });\n",
       "            </script>\n",
       "        </div>"
      ]
     },
     "metadata": {},
     "output_type": "display_data"
    }
   ],
   "source": [
    "# plot df['A'] and df['B']\n",
    "df[['A','B']].iplot(kind='spread')"
   ]
  },
  {
   "cell_type": "code",
   "execution_count": 17,
   "metadata": {},
   "outputs": [
    {
     "data": {
      "application/vnd.plotly.v1+json": {
       "config": {
        "linkText": "Export to plot.ly",
        "plotlyServerURL": "https://plot.ly",
        "showLink": true
       },
       "data": [
        {
         "histfunc": "count",
         "histnorm": "",
         "marker": {
          "color": "rgba(255, 153, 51, 1.0)",
          "line": {
           "color": "#4D5663",
           "width": 1.3
          }
         },
         "name": "A",
         "nbinsx": 25,
         "opacity": 0.8,
         "orientation": "v",
         "type": "histogram",
         "x": [
          -1.218991033261646,
          -0.5465765623202922,
          0.18132417432275671,
          -0.014585404257609841,
          0.1715182335092267,
          -1.3779384183098575,
          2.2490010504007203,
          -1.2937347379867639,
          0.645795456082042,
          -0.36282297531233015,
          -0.8830302929744168,
          0.3978544585571979,
          1.4573313754948551,
          -0.42499485568865564,
          0.3706190593531806,
          0.37736470261438537,
          0.4277275289247419,
          -0.16226827355695023,
          -0.058022745855864394,
          -1.8487874313355865,
          0.8022710961429018,
          -1.9470864824594507,
          -2.1131990933422515,
          -0.5106491158132542,
          1.3796907827063247,
          -0.2829133544458733,
          -0.598005788070867,
          0.985421725043829,
          -0.053580649651472724,
          0.6804644985751658,
          0.9481857380941411,
          -1.1146991830746134,
          1.0275502417998543,
          -1.457489960262967,
          0.23837190745798345,
          0.5128251402478308,
          0.6552122213363701,
          -3.1086824537421966,
          0.4291926070041237,
          0.7311268050114921,
          0.7146906973183577,
          0.23765346133515933,
          0.5636683723477607,
          -0.19560647211511367,
          -1.4721539885794437,
          -0.1676593178014201,
          0.4152099938863828,
          -0.9064861230077402,
          -0.5055774366498862,
          0.5349192709445101,
          2.1231913714510715,
          2.2707276001335392,
          -1.709501621834544,
          1.5200345414171992,
          -0.6180853646699377,
          1.3204585944952765,
          0.7672795518407083,
          -0.6968332170252055,
          0.23875081210284058,
          1.0277536622636916,
          -0.7671534331370783,
          -0.7377371573056383,
          1.4735944964229581,
          -1.3514547300791788,
          -0.11340112276702033,
          1.91749282262013,
          1.2314518894288216,
          0.23902470415773386,
          0.7729293278824075,
          0.027302940383040052,
          0.7883419106958499,
          -0.007678428674991606,
          -0.4679306148027131,
          -0.3137113795539161,
          0.5799497855130166,
          -0.4422423998075986,
          0.013049264772897765,
          1.1433034523669872,
          1.2086040894753496,
          1.234131361555419,
          -1.8422285316637823,
          0.33371425688076634,
          -1.0086403689251748,
          0.25408076638641586,
          -1.1537517610944619,
          0.11546173547730847,
          -0.32788866726597193,
          2.0331689908154784,
          0.34797807275311415,
          -1.251412065531357,
          0.9308890122198833,
          -0.8142474569278847,
          0.7762675608414903,
          0.8468274953365662,
          1.3011474374604695,
          0.05918586303413559,
          2.1512380068791446,
          1.5409210295246003,
          -1.4431005934720968,
          -1.0527879815155303
         ]
        }
       ],
       "layout": {
        "barmode": "overlay",
        "legend": {
         "bgcolor": "#F5F6F9",
         "font": {
          "color": "#4D5663"
         }
        },
        "paper_bgcolor": "#F5F6F9",
        "plot_bgcolor": "#F5F6F9",
        "template": {
         "data": {
          "bar": [
           {
            "error_x": {
             "color": "#2a3f5f"
            },
            "error_y": {
             "color": "#2a3f5f"
            },
            "marker": {
             "line": {
              "color": "#E5ECF6",
              "width": 0.5
             }
            },
            "type": "bar"
           }
          ],
          "barpolar": [
           {
            "marker": {
             "line": {
              "color": "#E5ECF6",
              "width": 0.5
             }
            },
            "type": "barpolar"
           }
          ],
          "carpet": [
           {
            "aaxis": {
             "endlinecolor": "#2a3f5f",
             "gridcolor": "white",
             "linecolor": "white",
             "minorgridcolor": "white",
             "startlinecolor": "#2a3f5f"
            },
            "baxis": {
             "endlinecolor": "#2a3f5f",
             "gridcolor": "white",
             "linecolor": "white",
             "minorgridcolor": "white",
             "startlinecolor": "#2a3f5f"
            },
            "type": "carpet"
           }
          ],
          "choropleth": [
           {
            "colorbar": {
             "outlinewidth": 0,
             "ticks": ""
            },
            "type": "choropleth"
           }
          ],
          "contour": [
           {
            "colorbar": {
             "outlinewidth": 0,
             "ticks": ""
            },
            "colorscale": [
             [
              0,
              "#0d0887"
             ],
             [
              0.1111111111111111,
              "#46039f"
             ],
             [
              0.2222222222222222,
              "#7201a8"
             ],
             [
              0.3333333333333333,
              "#9c179e"
             ],
             [
              0.4444444444444444,
              "#bd3786"
             ],
             [
              0.5555555555555556,
              "#d8576b"
             ],
             [
              0.6666666666666666,
              "#ed7953"
             ],
             [
              0.7777777777777778,
              "#fb9f3a"
             ],
             [
              0.8888888888888888,
              "#fdca26"
             ],
             [
              1,
              "#f0f921"
             ]
            ],
            "type": "contour"
           }
          ],
          "contourcarpet": [
           {
            "colorbar": {
             "outlinewidth": 0,
             "ticks": ""
            },
            "type": "contourcarpet"
           }
          ],
          "heatmap": [
           {
            "colorbar": {
             "outlinewidth": 0,
             "ticks": ""
            },
            "colorscale": [
             [
              0,
              "#0d0887"
             ],
             [
              0.1111111111111111,
              "#46039f"
             ],
             [
              0.2222222222222222,
              "#7201a8"
             ],
             [
              0.3333333333333333,
              "#9c179e"
             ],
             [
              0.4444444444444444,
              "#bd3786"
             ],
             [
              0.5555555555555556,
              "#d8576b"
             ],
             [
              0.6666666666666666,
              "#ed7953"
             ],
             [
              0.7777777777777778,
              "#fb9f3a"
             ],
             [
              0.8888888888888888,
              "#fdca26"
             ],
             [
              1,
              "#f0f921"
             ]
            ],
            "type": "heatmap"
           }
          ],
          "heatmapgl": [
           {
            "colorbar": {
             "outlinewidth": 0,
             "ticks": ""
            },
            "colorscale": [
             [
              0,
              "#0d0887"
             ],
             [
              0.1111111111111111,
              "#46039f"
             ],
             [
              0.2222222222222222,
              "#7201a8"
             ],
             [
              0.3333333333333333,
              "#9c179e"
             ],
             [
              0.4444444444444444,
              "#bd3786"
             ],
             [
              0.5555555555555556,
              "#d8576b"
             ],
             [
              0.6666666666666666,
              "#ed7953"
             ],
             [
              0.7777777777777778,
              "#fb9f3a"
             ],
             [
              0.8888888888888888,
              "#fdca26"
             ],
             [
              1,
              "#f0f921"
             ]
            ],
            "type": "heatmapgl"
           }
          ],
          "histogram": [
           {
            "marker": {
             "colorbar": {
              "outlinewidth": 0,
              "ticks": ""
             }
            },
            "type": "histogram"
           }
          ],
          "histogram2d": [
           {
            "colorbar": {
             "outlinewidth": 0,
             "ticks": ""
            },
            "colorscale": [
             [
              0,
              "#0d0887"
             ],
             [
              0.1111111111111111,
              "#46039f"
             ],
             [
              0.2222222222222222,
              "#7201a8"
             ],
             [
              0.3333333333333333,
              "#9c179e"
             ],
             [
              0.4444444444444444,
              "#bd3786"
             ],
             [
              0.5555555555555556,
              "#d8576b"
             ],
             [
              0.6666666666666666,
              "#ed7953"
             ],
             [
              0.7777777777777778,
              "#fb9f3a"
             ],
             [
              0.8888888888888888,
              "#fdca26"
             ],
             [
              1,
              "#f0f921"
             ]
            ],
            "type": "histogram2d"
           }
          ],
          "histogram2dcontour": [
           {
            "colorbar": {
             "outlinewidth": 0,
             "ticks": ""
            },
            "colorscale": [
             [
              0,
              "#0d0887"
             ],
             [
              0.1111111111111111,
              "#46039f"
             ],
             [
              0.2222222222222222,
              "#7201a8"
             ],
             [
              0.3333333333333333,
              "#9c179e"
             ],
             [
              0.4444444444444444,
              "#bd3786"
             ],
             [
              0.5555555555555556,
              "#d8576b"
             ],
             [
              0.6666666666666666,
              "#ed7953"
             ],
             [
              0.7777777777777778,
              "#fb9f3a"
             ],
             [
              0.8888888888888888,
              "#fdca26"
             ],
             [
              1,
              "#f0f921"
             ]
            ],
            "type": "histogram2dcontour"
           }
          ],
          "mesh3d": [
           {
            "colorbar": {
             "outlinewidth": 0,
             "ticks": ""
            },
            "type": "mesh3d"
           }
          ],
          "parcoords": [
           {
            "line": {
             "colorbar": {
              "outlinewidth": 0,
              "ticks": ""
             }
            },
            "type": "parcoords"
           }
          ],
          "pie": [
           {
            "automargin": true,
            "type": "pie"
           }
          ],
          "scatter": [
           {
            "marker": {
             "colorbar": {
              "outlinewidth": 0,
              "ticks": ""
             }
            },
            "type": "scatter"
           }
          ],
          "scatter3d": [
           {
            "line": {
             "colorbar": {
              "outlinewidth": 0,
              "ticks": ""
             }
            },
            "marker": {
             "colorbar": {
              "outlinewidth": 0,
              "ticks": ""
             }
            },
            "type": "scatter3d"
           }
          ],
          "scattercarpet": [
           {
            "marker": {
             "colorbar": {
              "outlinewidth": 0,
              "ticks": ""
             }
            },
            "type": "scattercarpet"
           }
          ],
          "scattergeo": [
           {
            "marker": {
             "colorbar": {
              "outlinewidth": 0,
              "ticks": ""
             }
            },
            "type": "scattergeo"
           }
          ],
          "scattergl": [
           {
            "marker": {
             "colorbar": {
              "outlinewidth": 0,
              "ticks": ""
             }
            },
            "type": "scattergl"
           }
          ],
          "scattermapbox": [
           {
            "marker": {
             "colorbar": {
              "outlinewidth": 0,
              "ticks": ""
             }
            },
            "type": "scattermapbox"
           }
          ],
          "scatterpolar": [
           {
            "marker": {
             "colorbar": {
              "outlinewidth": 0,
              "ticks": ""
             }
            },
            "type": "scatterpolar"
           }
          ],
          "scatterpolargl": [
           {
            "marker": {
             "colorbar": {
              "outlinewidth": 0,
              "ticks": ""
             }
            },
            "type": "scatterpolargl"
           }
          ],
          "scatterternary": [
           {
            "marker": {
             "colorbar": {
              "outlinewidth": 0,
              "ticks": ""
             }
            },
            "type": "scatterternary"
           }
          ],
          "surface": [
           {
            "colorbar": {
             "outlinewidth": 0,
             "ticks": ""
            },
            "colorscale": [
             [
              0,
              "#0d0887"
             ],
             [
              0.1111111111111111,
              "#46039f"
             ],
             [
              0.2222222222222222,
              "#7201a8"
             ],
             [
              0.3333333333333333,
              "#9c179e"
             ],
             [
              0.4444444444444444,
              "#bd3786"
             ],
             [
              0.5555555555555556,
              "#d8576b"
             ],
             [
              0.6666666666666666,
              "#ed7953"
             ],
             [
              0.7777777777777778,
              "#fb9f3a"
             ],
             [
              0.8888888888888888,
              "#fdca26"
             ],
             [
              1,
              "#f0f921"
             ]
            ],
            "type": "surface"
           }
          ],
          "table": [
           {
            "cells": {
             "fill": {
              "color": "#EBF0F8"
             },
             "line": {
              "color": "white"
             }
            },
            "header": {
             "fill": {
              "color": "#C8D4E3"
             },
             "line": {
              "color": "white"
             }
            },
            "type": "table"
           }
          ]
         },
         "layout": {
          "annotationdefaults": {
           "arrowcolor": "#2a3f5f",
           "arrowhead": 0,
           "arrowwidth": 1
          },
          "coloraxis": {
           "colorbar": {
            "outlinewidth": 0,
            "ticks": ""
           }
          },
          "colorscale": {
           "diverging": [
            [
             0,
             "#8e0152"
            ],
            [
             0.1,
             "#c51b7d"
            ],
            [
             0.2,
             "#de77ae"
            ],
            [
             0.3,
             "#f1b6da"
            ],
            [
             0.4,
             "#fde0ef"
            ],
            [
             0.5,
             "#f7f7f7"
            ],
            [
             0.6,
             "#e6f5d0"
            ],
            [
             0.7,
             "#b8e186"
            ],
            [
             0.8,
             "#7fbc41"
            ],
            [
             0.9,
             "#4d9221"
            ],
            [
             1,
             "#276419"
            ]
           ],
           "sequential": [
            [
             0,
             "#0d0887"
            ],
            [
             0.1111111111111111,
             "#46039f"
            ],
            [
             0.2222222222222222,
             "#7201a8"
            ],
            [
             0.3333333333333333,
             "#9c179e"
            ],
            [
             0.4444444444444444,
             "#bd3786"
            ],
            [
             0.5555555555555556,
             "#d8576b"
            ],
            [
             0.6666666666666666,
             "#ed7953"
            ],
            [
             0.7777777777777778,
             "#fb9f3a"
            ],
            [
             0.8888888888888888,
             "#fdca26"
            ],
            [
             1,
             "#f0f921"
            ]
           ],
           "sequentialminus": [
            [
             0,
             "#0d0887"
            ],
            [
             0.1111111111111111,
             "#46039f"
            ],
            [
             0.2222222222222222,
             "#7201a8"
            ],
            [
             0.3333333333333333,
             "#9c179e"
            ],
            [
             0.4444444444444444,
             "#bd3786"
            ],
            [
             0.5555555555555556,
             "#d8576b"
            ],
            [
             0.6666666666666666,
             "#ed7953"
            ],
            [
             0.7777777777777778,
             "#fb9f3a"
            ],
            [
             0.8888888888888888,
             "#fdca26"
            ],
            [
             1,
             "#f0f921"
            ]
           ]
          },
          "colorway": [
           "#636efa",
           "#EF553B",
           "#00cc96",
           "#ab63fa",
           "#FFA15A",
           "#19d3f3",
           "#FF6692",
           "#B6E880",
           "#FF97FF",
           "#FECB52"
          ],
          "font": {
           "color": "#2a3f5f"
          },
          "geo": {
           "bgcolor": "white",
           "lakecolor": "white",
           "landcolor": "#E5ECF6",
           "showlakes": true,
           "showland": true,
           "subunitcolor": "white"
          },
          "hoverlabel": {
           "align": "left"
          },
          "hovermode": "closest",
          "mapbox": {
           "style": "light"
          },
          "paper_bgcolor": "white",
          "plot_bgcolor": "#E5ECF6",
          "polar": {
           "angularaxis": {
            "gridcolor": "white",
            "linecolor": "white",
            "ticks": ""
           },
           "bgcolor": "#E5ECF6",
           "radialaxis": {
            "gridcolor": "white",
            "linecolor": "white",
            "ticks": ""
           }
          },
          "scene": {
           "xaxis": {
            "backgroundcolor": "#E5ECF6",
            "gridcolor": "white",
            "gridwidth": 2,
            "linecolor": "white",
            "showbackground": true,
            "ticks": "",
            "zerolinecolor": "white"
           },
           "yaxis": {
            "backgroundcolor": "#E5ECF6",
            "gridcolor": "white",
            "gridwidth": 2,
            "linecolor": "white",
            "showbackground": true,
            "ticks": "",
            "zerolinecolor": "white"
           },
           "zaxis": {
            "backgroundcolor": "#E5ECF6",
            "gridcolor": "white",
            "gridwidth": 2,
            "linecolor": "white",
            "showbackground": true,
            "ticks": "",
            "zerolinecolor": "white"
           }
          },
          "shapedefaults": {
           "line": {
            "color": "#2a3f5f"
           }
          },
          "ternary": {
           "aaxis": {
            "gridcolor": "white",
            "linecolor": "white",
            "ticks": ""
           },
           "baxis": {
            "gridcolor": "white",
            "linecolor": "white",
            "ticks": ""
           },
           "bgcolor": "#E5ECF6",
           "caxis": {
            "gridcolor": "white",
            "linecolor": "white",
            "ticks": ""
           }
          },
          "title": {
           "x": 0.05
          },
          "xaxis": {
           "automargin": true,
           "gridcolor": "white",
           "linecolor": "white",
           "ticks": "",
           "title": {
            "standoff": 15
           },
           "zerolinecolor": "white",
           "zerolinewidth": 2
          },
          "yaxis": {
           "automargin": true,
           "gridcolor": "white",
           "linecolor": "white",
           "ticks": "",
           "title": {
            "standoff": 15
           },
           "zerolinecolor": "white",
           "zerolinewidth": 2
          }
         }
        },
        "title": {
         "font": {
          "color": "#4D5663"
         }
        },
        "xaxis": {
         "gridcolor": "#E1E5ED",
         "showgrid": true,
         "tickfont": {
          "color": "#4D5663"
         },
         "title": {
          "font": {
           "color": "#4D5663"
          },
          "text": ""
         },
         "zerolinecolor": "#E1E5ED"
        },
        "yaxis": {
         "gridcolor": "#E1E5ED",
         "showgrid": true,
         "tickfont": {
          "color": "#4D5663"
         },
         "title": {
          "font": {
           "color": "#4D5663"
          },
          "text": ""
         },
         "zerolinecolor": "#E1E5ED"
        }
       }
      },
      "text/html": [
       "<div>\n",
       "        \n",
       "        \n",
       "            <div id=\"f4ed7213-40b2-4bbd-869b-67f1e17276e5\" class=\"plotly-graph-div\" style=\"height:525px; width:100%;\"></div>\n",
       "            <script type=\"text/javascript\">\n",
       "                require([\"plotly\"], function(Plotly) {\n",
       "                    window.PLOTLYENV=window.PLOTLYENV || {};\n",
       "                    window.PLOTLYENV.BASE_URL='https://plot.ly';\n",
       "                    \n",
       "                if (document.getElementById(\"f4ed7213-40b2-4bbd-869b-67f1e17276e5\")) {\n",
       "                    Plotly.newPlot(\n",
       "                        'f4ed7213-40b2-4bbd-869b-67f1e17276e5',\n",
       "                        [{\"histfunc\": \"count\", \"histnorm\": \"\", \"marker\": {\"color\": \"rgba(255, 153, 51, 1.0)\", \"line\": {\"color\": \"#4D5663\", \"width\": 1.3}}, \"name\": \"A\", \"nbinsx\": 25, \"opacity\": 0.8, \"orientation\": \"v\", \"type\": \"histogram\", \"x\": [-1.218991033261646, -0.5465765623202922, 0.18132417432275671, -0.014585404257609841, 0.1715182335092267, -1.3779384183098575, 2.2490010504007203, -1.2937347379867639, 0.645795456082042, -0.36282297531233015, -0.8830302929744168, 0.3978544585571979, 1.4573313754948551, -0.42499485568865564, 0.3706190593531806, 0.37736470261438537, 0.4277275289247419, -0.16226827355695023, -0.058022745855864394, -1.8487874313355865, 0.8022710961429018, -1.9470864824594507, -2.1131990933422515, -0.5106491158132542, 1.3796907827063247, -0.2829133544458733, -0.598005788070867, 0.985421725043829, -0.053580649651472724, 0.6804644985751658, 0.9481857380941411, -1.1146991830746134, 1.0275502417998543, -1.457489960262967, 0.23837190745798345, 0.5128251402478308, 0.6552122213363701, -3.1086824537421966, 0.4291926070041237, 0.7311268050114921, 0.7146906973183577, 0.23765346133515933, 0.5636683723477607, -0.19560647211511367, -1.4721539885794437, -0.1676593178014201, 0.4152099938863828, -0.9064861230077402, -0.5055774366498862, 0.5349192709445101, 2.1231913714510715, 2.2707276001335392, -1.709501621834544, 1.5200345414171992, -0.6180853646699377, 1.3204585944952765, 0.7672795518407083, -0.6968332170252055, 0.23875081210284058, 1.0277536622636916, -0.7671534331370783, -0.7377371573056383, 1.4735944964229581, -1.3514547300791788, -0.11340112276702033, 1.91749282262013, 1.2314518894288216, 0.23902470415773386, 0.7729293278824075, 0.027302940383040052, 0.7883419106958499, -0.007678428674991606, -0.4679306148027131, -0.3137113795539161, 0.5799497855130166, -0.4422423998075986, 0.013049264772897765, 1.1433034523669872, 1.2086040894753496, 1.234131361555419, -1.8422285316637823, 0.33371425688076634, -1.0086403689251748, 0.25408076638641586, -1.1537517610944619, 0.11546173547730847, -0.32788866726597193, 2.0331689908154784, 0.34797807275311415, -1.251412065531357, 0.9308890122198833, -0.8142474569278847, 0.7762675608414903, 0.8468274953365662, 1.3011474374604695, 0.05918586303413559, 2.1512380068791446, 1.5409210295246003, -1.4431005934720968, -1.0527879815155303]}],\n",
       "                        {\"barmode\": \"overlay\", \"legend\": {\"bgcolor\": \"#F5F6F9\", \"font\": {\"color\": \"#4D5663\"}}, \"paper_bgcolor\": \"#F5F6F9\", \"plot_bgcolor\": \"#F5F6F9\", \"template\": {\"data\": {\"bar\": [{\"error_x\": {\"color\": \"#2a3f5f\"}, \"error_y\": {\"color\": \"#2a3f5f\"}, \"marker\": {\"line\": {\"color\": \"#E5ECF6\", \"width\": 0.5}}, \"type\": \"bar\"}], \"barpolar\": [{\"marker\": {\"line\": {\"color\": \"#E5ECF6\", \"width\": 0.5}}, \"type\": \"barpolar\"}], \"carpet\": [{\"aaxis\": {\"endlinecolor\": \"#2a3f5f\", \"gridcolor\": \"white\", \"linecolor\": \"white\", \"minorgridcolor\": \"white\", \"startlinecolor\": \"#2a3f5f\"}, \"baxis\": {\"endlinecolor\": \"#2a3f5f\", \"gridcolor\": \"white\", \"linecolor\": \"white\", \"minorgridcolor\": \"white\", \"startlinecolor\": \"#2a3f5f\"}, \"type\": \"carpet\"}], \"choropleth\": [{\"colorbar\": {\"outlinewidth\": 0, \"ticks\": \"\"}, \"type\": \"choropleth\"}], \"contour\": [{\"colorbar\": {\"outlinewidth\": 0, \"ticks\": \"\"}, \"colorscale\": [[0.0, \"#0d0887\"], [0.1111111111111111, \"#46039f\"], [0.2222222222222222, \"#7201a8\"], [0.3333333333333333, \"#9c179e\"], [0.4444444444444444, \"#bd3786\"], [0.5555555555555556, \"#d8576b\"], [0.6666666666666666, \"#ed7953\"], [0.7777777777777778, \"#fb9f3a\"], [0.8888888888888888, \"#fdca26\"], [1.0, \"#f0f921\"]], \"type\": \"contour\"}], \"contourcarpet\": [{\"colorbar\": {\"outlinewidth\": 0, \"ticks\": \"\"}, \"type\": \"contourcarpet\"}], \"heatmap\": [{\"colorbar\": {\"outlinewidth\": 0, \"ticks\": \"\"}, \"colorscale\": [[0.0, \"#0d0887\"], [0.1111111111111111, \"#46039f\"], [0.2222222222222222, \"#7201a8\"], [0.3333333333333333, \"#9c179e\"], [0.4444444444444444, \"#bd3786\"], [0.5555555555555556, \"#d8576b\"], [0.6666666666666666, \"#ed7953\"], [0.7777777777777778, \"#fb9f3a\"], [0.8888888888888888, \"#fdca26\"], [1.0, \"#f0f921\"]], \"type\": \"heatmap\"}], \"heatmapgl\": [{\"colorbar\": {\"outlinewidth\": 0, \"ticks\": \"\"}, \"colorscale\": [[0.0, \"#0d0887\"], [0.1111111111111111, \"#46039f\"], [0.2222222222222222, \"#7201a8\"], [0.3333333333333333, \"#9c179e\"], [0.4444444444444444, \"#bd3786\"], [0.5555555555555556, \"#d8576b\"], [0.6666666666666666, \"#ed7953\"], [0.7777777777777778, \"#fb9f3a\"], [0.8888888888888888, \"#fdca26\"], [1.0, \"#f0f921\"]], \"type\": \"heatmapgl\"}], \"histogram\": [{\"marker\": {\"colorbar\": {\"outlinewidth\": 0, \"ticks\": \"\"}}, \"type\": \"histogram\"}], \"histogram2d\": [{\"colorbar\": {\"outlinewidth\": 0, \"ticks\": \"\"}, \"colorscale\": [[0.0, \"#0d0887\"], [0.1111111111111111, \"#46039f\"], [0.2222222222222222, \"#7201a8\"], [0.3333333333333333, \"#9c179e\"], [0.4444444444444444, \"#bd3786\"], [0.5555555555555556, \"#d8576b\"], [0.6666666666666666, \"#ed7953\"], [0.7777777777777778, \"#fb9f3a\"], [0.8888888888888888, \"#fdca26\"], [1.0, \"#f0f921\"]], \"type\": \"histogram2d\"}], \"histogram2dcontour\": [{\"colorbar\": {\"outlinewidth\": 0, \"ticks\": \"\"}, \"colorscale\": [[0.0, \"#0d0887\"], [0.1111111111111111, \"#46039f\"], [0.2222222222222222, \"#7201a8\"], [0.3333333333333333, \"#9c179e\"], [0.4444444444444444, \"#bd3786\"], [0.5555555555555556, \"#d8576b\"], [0.6666666666666666, \"#ed7953\"], [0.7777777777777778, \"#fb9f3a\"], [0.8888888888888888, \"#fdca26\"], [1.0, \"#f0f921\"]], \"type\": \"histogram2dcontour\"}], \"mesh3d\": [{\"colorbar\": {\"outlinewidth\": 0, \"ticks\": \"\"}, \"type\": \"mesh3d\"}], \"parcoords\": [{\"line\": {\"colorbar\": {\"outlinewidth\": 0, \"ticks\": \"\"}}, \"type\": \"parcoords\"}], \"pie\": [{\"automargin\": true, \"type\": \"pie\"}], \"scatter\": [{\"marker\": {\"colorbar\": {\"outlinewidth\": 0, \"ticks\": \"\"}}, \"type\": \"scatter\"}], \"scatter3d\": [{\"line\": {\"colorbar\": {\"outlinewidth\": 0, \"ticks\": \"\"}}, \"marker\": {\"colorbar\": {\"outlinewidth\": 0, \"ticks\": \"\"}}, \"type\": \"scatter3d\"}], \"scattercarpet\": [{\"marker\": {\"colorbar\": {\"outlinewidth\": 0, \"ticks\": \"\"}}, \"type\": \"scattercarpet\"}], \"scattergeo\": [{\"marker\": {\"colorbar\": {\"outlinewidth\": 0, \"ticks\": \"\"}}, \"type\": \"scattergeo\"}], \"scattergl\": [{\"marker\": {\"colorbar\": {\"outlinewidth\": 0, \"ticks\": \"\"}}, \"type\": \"scattergl\"}], \"scattermapbox\": [{\"marker\": {\"colorbar\": {\"outlinewidth\": 0, \"ticks\": \"\"}}, \"type\": \"scattermapbox\"}], \"scatterpolar\": [{\"marker\": {\"colorbar\": {\"outlinewidth\": 0, \"ticks\": \"\"}}, \"type\": \"scatterpolar\"}], \"scatterpolargl\": [{\"marker\": {\"colorbar\": {\"outlinewidth\": 0, \"ticks\": \"\"}}, \"type\": \"scatterpolargl\"}], \"scatterternary\": [{\"marker\": {\"colorbar\": {\"outlinewidth\": 0, \"ticks\": \"\"}}, \"type\": \"scatterternary\"}], \"surface\": [{\"colorbar\": {\"outlinewidth\": 0, \"ticks\": \"\"}, \"colorscale\": [[0.0, \"#0d0887\"], [0.1111111111111111, \"#46039f\"], [0.2222222222222222, \"#7201a8\"], [0.3333333333333333, \"#9c179e\"], [0.4444444444444444, \"#bd3786\"], [0.5555555555555556, \"#d8576b\"], [0.6666666666666666, \"#ed7953\"], [0.7777777777777778, \"#fb9f3a\"], [0.8888888888888888, \"#fdca26\"], [1.0, \"#f0f921\"]], \"type\": \"surface\"}], \"table\": [{\"cells\": {\"fill\": {\"color\": \"#EBF0F8\"}, \"line\": {\"color\": \"white\"}}, \"header\": {\"fill\": {\"color\": \"#C8D4E3\"}, \"line\": {\"color\": \"white\"}}, \"type\": \"table\"}]}, \"layout\": {\"annotationdefaults\": {\"arrowcolor\": \"#2a3f5f\", \"arrowhead\": 0, \"arrowwidth\": 1}, \"coloraxis\": {\"colorbar\": {\"outlinewidth\": 0, \"ticks\": \"\"}}, \"colorscale\": {\"diverging\": [[0, \"#8e0152\"], [0.1, \"#c51b7d\"], [0.2, \"#de77ae\"], [0.3, \"#f1b6da\"], [0.4, \"#fde0ef\"], [0.5, \"#f7f7f7\"], [0.6, \"#e6f5d0\"], [0.7, \"#b8e186\"], [0.8, \"#7fbc41\"], [0.9, \"#4d9221\"], [1, \"#276419\"]], \"sequential\": [[0.0, \"#0d0887\"], [0.1111111111111111, \"#46039f\"], [0.2222222222222222, \"#7201a8\"], [0.3333333333333333, \"#9c179e\"], [0.4444444444444444, \"#bd3786\"], [0.5555555555555556, \"#d8576b\"], [0.6666666666666666, \"#ed7953\"], [0.7777777777777778, \"#fb9f3a\"], [0.8888888888888888, \"#fdca26\"], [1.0, \"#f0f921\"]], \"sequentialminus\": [[0.0, \"#0d0887\"], [0.1111111111111111, \"#46039f\"], [0.2222222222222222, \"#7201a8\"], [0.3333333333333333, \"#9c179e\"], [0.4444444444444444, \"#bd3786\"], [0.5555555555555556, \"#d8576b\"], [0.6666666666666666, \"#ed7953\"], [0.7777777777777778, \"#fb9f3a\"], [0.8888888888888888, \"#fdca26\"], [1.0, \"#f0f921\"]]}, \"colorway\": [\"#636efa\", \"#EF553B\", \"#00cc96\", \"#ab63fa\", \"#FFA15A\", \"#19d3f3\", \"#FF6692\", \"#B6E880\", \"#FF97FF\", \"#FECB52\"], \"font\": {\"color\": \"#2a3f5f\"}, \"geo\": {\"bgcolor\": \"white\", \"lakecolor\": \"white\", \"landcolor\": \"#E5ECF6\", \"showlakes\": true, \"showland\": true, \"subunitcolor\": \"white\"}, \"hoverlabel\": {\"align\": \"left\"}, \"hovermode\": \"closest\", \"mapbox\": {\"style\": \"light\"}, \"paper_bgcolor\": \"white\", \"plot_bgcolor\": \"#E5ECF6\", \"polar\": {\"angularaxis\": {\"gridcolor\": \"white\", \"linecolor\": \"white\", \"ticks\": \"\"}, \"bgcolor\": \"#E5ECF6\", \"radialaxis\": {\"gridcolor\": \"white\", \"linecolor\": \"white\", \"ticks\": \"\"}}, \"scene\": {\"xaxis\": {\"backgroundcolor\": \"#E5ECF6\", \"gridcolor\": \"white\", \"gridwidth\": 2, \"linecolor\": \"white\", \"showbackground\": true, \"ticks\": \"\", \"zerolinecolor\": \"white\"}, \"yaxis\": {\"backgroundcolor\": \"#E5ECF6\", \"gridcolor\": \"white\", \"gridwidth\": 2, \"linecolor\": \"white\", \"showbackground\": true, \"ticks\": \"\", \"zerolinecolor\": \"white\"}, \"zaxis\": {\"backgroundcolor\": \"#E5ECF6\", \"gridcolor\": \"white\", \"gridwidth\": 2, \"linecolor\": \"white\", \"showbackground\": true, \"ticks\": \"\", \"zerolinecolor\": \"white\"}}, \"shapedefaults\": {\"line\": {\"color\": \"#2a3f5f\"}}, \"ternary\": {\"aaxis\": {\"gridcolor\": \"white\", \"linecolor\": \"white\", \"ticks\": \"\"}, \"baxis\": {\"gridcolor\": \"white\", \"linecolor\": \"white\", \"ticks\": \"\"}, \"bgcolor\": \"#E5ECF6\", \"caxis\": {\"gridcolor\": \"white\", \"linecolor\": \"white\", \"ticks\": \"\"}}, \"title\": {\"x\": 0.05}, \"xaxis\": {\"automargin\": true, \"gridcolor\": \"white\", \"linecolor\": \"white\", \"ticks\": \"\", \"title\": {\"standoff\": 15}, \"zerolinecolor\": \"white\", \"zerolinewidth\": 2}, \"yaxis\": {\"automargin\": true, \"gridcolor\": \"white\", \"linecolor\": \"white\", \"ticks\": \"\", \"title\": {\"standoff\": 15}, \"zerolinecolor\": \"white\", \"zerolinewidth\": 2}}}, \"title\": {\"font\": {\"color\": \"#4D5663\"}}, \"xaxis\": {\"gridcolor\": \"#E1E5ED\", \"showgrid\": true, \"tickfont\": {\"color\": \"#4D5663\"}, \"title\": {\"font\": {\"color\": \"#4D5663\"}, \"text\": \"\"}, \"zerolinecolor\": \"#E1E5ED\"}, \"yaxis\": {\"gridcolor\": \"#E1E5ED\", \"showgrid\": true, \"tickfont\": {\"color\": \"#4D5663\"}, \"title\": {\"font\": {\"color\": \"#4D5663\"}, \"text\": \"\"}, \"zerolinecolor\": \"#E1E5ED\"}},\n",
       "                        {\"showLink\": true, \"linkText\": \"Export to plot.ly\", \"plotlyServerURL\": \"https://plot.ly\", \"responsive\": true}\n",
       "                    ).then(function(){\n",
       "                            \n",
       "var gd = document.getElementById('f4ed7213-40b2-4bbd-869b-67f1e17276e5');\n",
       "var x = new MutationObserver(function (mutations, observer) {{\n",
       "        var display = window.getComputedStyle(gd).display;\n",
       "        if (!display || display === 'none') {{\n",
       "            console.log([gd, 'removed!']);\n",
       "            Plotly.purge(gd);\n",
       "            observer.disconnect();\n",
       "        }}\n",
       "}});\n",
       "\n",
       "// Listen for the removal of the full notebook cells\n",
       "var notebookContainer = gd.closest('#notebook-container');\n",
       "if (notebookContainer) {{\n",
       "    x.observe(notebookContainer, {childList: true});\n",
       "}}\n",
       "\n",
       "// Listen for the clearing of the current output cell\n",
       "var outputEl = gd.closest('.output');\n",
       "if (outputEl) {{\n",
       "    x.observe(outputEl, {childList: true});\n",
       "}}\n",
       "\n",
       "                        })\n",
       "                };\n",
       "                });\n",
       "            </script>\n",
       "        </div>"
      ]
     },
     "metadata": {},
     "output_type": "display_data"
    }
   ],
   "source": [
    "# plot df['A']\n",
    "df['A'].iplot(kind='hist',bins=25)"
   ]
  },
  {
   "cell_type": "code",
   "execution_count": 18,
   "metadata": {},
   "outputs": [
    {
     "data": {
      "application/vnd.plotly.v1+json": {
       "config": {
        "linkText": "Export to plot.ly",
        "plotlyServerURL": "https://plot.ly",
        "showLink": true
       },
       "data": [
        {
         "histfunc": "count",
         "histnorm": "",
         "marker": {
          "color": "rgba(255, 153, 51, 1.0)",
          "line": {
           "color": "#4D5663",
           "width": 1.3
          }
         },
         "name": "A",
         "nbinsx": 10,
         "opacity": 0.8,
         "orientation": "v",
         "type": "histogram",
         "x": [
          -1.218991033261646,
          -0.5465765623202922,
          0.18132417432275671,
          -0.014585404257609841,
          0.1715182335092267,
          -1.3779384183098575,
          2.2490010504007203,
          -1.2937347379867639,
          0.645795456082042,
          -0.36282297531233015,
          -0.8830302929744168,
          0.3978544585571979,
          1.4573313754948551,
          -0.42499485568865564,
          0.3706190593531806,
          0.37736470261438537,
          0.4277275289247419,
          -0.16226827355695023,
          -0.058022745855864394,
          -1.8487874313355865,
          0.8022710961429018,
          -1.9470864824594507,
          -2.1131990933422515,
          -0.5106491158132542,
          1.3796907827063247,
          -0.2829133544458733,
          -0.598005788070867,
          0.985421725043829,
          -0.053580649651472724,
          0.6804644985751658,
          0.9481857380941411,
          -1.1146991830746134,
          1.0275502417998543,
          -1.457489960262967,
          0.23837190745798345,
          0.5128251402478308,
          0.6552122213363701,
          -3.1086824537421966,
          0.4291926070041237,
          0.7311268050114921,
          0.7146906973183577,
          0.23765346133515933,
          0.5636683723477607,
          -0.19560647211511367,
          -1.4721539885794437,
          -0.1676593178014201,
          0.4152099938863828,
          -0.9064861230077402,
          -0.5055774366498862,
          0.5349192709445101,
          2.1231913714510715,
          2.2707276001335392,
          -1.709501621834544,
          1.5200345414171992,
          -0.6180853646699377,
          1.3204585944952765,
          0.7672795518407083,
          -0.6968332170252055,
          0.23875081210284058,
          1.0277536622636916,
          -0.7671534331370783,
          -0.7377371573056383,
          1.4735944964229581,
          -1.3514547300791788,
          -0.11340112276702033,
          1.91749282262013,
          1.2314518894288216,
          0.23902470415773386,
          0.7729293278824075,
          0.027302940383040052,
          0.7883419106958499,
          -0.007678428674991606,
          -0.4679306148027131,
          -0.3137113795539161,
          0.5799497855130166,
          -0.4422423998075986,
          0.013049264772897765,
          1.1433034523669872,
          1.2086040894753496,
          1.234131361555419,
          -1.8422285316637823,
          0.33371425688076634,
          -1.0086403689251748,
          0.25408076638641586,
          -1.1537517610944619,
          0.11546173547730847,
          -0.32788866726597193,
          2.0331689908154784,
          0.34797807275311415,
          -1.251412065531357,
          0.9308890122198833,
          -0.8142474569278847,
          0.7762675608414903,
          0.8468274953365662,
          1.3011474374604695,
          0.05918586303413559,
          2.1512380068791446,
          1.5409210295246003,
          -1.4431005934720968,
          -1.0527879815155303
         ],
         "xaxis": "x",
         "yaxis": "y"
        },
        {
         "line": {
          "color": "rgba(128, 128, 128, 1.0)",
          "dash": "solid",
          "shape": "linear",
          "width": 1.3
         },
         "marker": {
          "size": 2,
          "symbol": "circle"
         },
         "mode": "markers",
         "name": "A",
         "text": "",
         "type": "scatter",
         "x": [
          0.3419764734215199,
          -2.3116551242894983,
          1.3348751311612044,
          -0.1072796179888181,
          2.483217793824436,
          -0.0741119345885313,
          -1.6738723112564624,
          0.14713214486023077,
          0.640769561204283,
          0.4618918585952571,
          1.7079110887935436,
          -0.1707611901698053,
          0.6172860108755727,
          0.25794903136380476,
          -0.6988181776820083,
          -1.263302918452683,
          -0.045883990267492424,
          -0.8257294543546106,
          0.9600869708265687,
          0.5681263328757964,
          -0.3647234435365751,
          -2.2170174535344085,
          1.7049553191012643,
          -0.5537308376912038,
          -0.5893379099827436,
          -0.789750324269047,
          -0.5968772238779839,
          -0.2004912957144484,
          -0.6246266663795919,
          1.0541547531216344,
          1.1407786943515277,
          -0.3478718293512527,
          -0.4655854045314903,
          -1.0204625318491685,
          -0.17134797784339065,
          -2.004294224309604,
          -1.392027639421431,
          -1.8088906593188325,
          -1.7144334237148287,
          -0.828272087494066,
          0.11134914674790283,
          0.5563361994412729,
          0.11786737071859353,
          1.0283021269240364,
          -0.6844461103765496,
          0.6134588405344479,
          -1.6636278706256518,
          0.2354302397742566,
          0.4927510624220601,
          1.4458444853244878,
          -0.85488831932789,
          0.41631088070245303,
          0.8861235398691205,
          -0.7625248083567656,
          0.21295446005412047,
          1.202789392766879,
          -1.6552505758408658,
          0.671892072559935,
          -0.8744246595050262,
          1.899602505489602,
          -0.9895809299587186,
          -1.6374685722734121,
          -0.9557082919513292,
          0.33382359674876755,
          0.6439689050896489,
          1.1376245647727588,
          -1.3105163589059687,
          -0.6367229605275069,
          0.20988075534801515,
          0.5270543441369793,
          0.06317450408580289,
          0.4759314171495404,
          -0.3389952753783388,
          1.7627682347229436,
          -1.4433264556437697,
          -0.031462496251145354,
          0.633865880706928,
          1.3535256368079083,
          -0.4180120086025204,
          0.649673515838004,
          1.3975641015459965,
          0.1279457536374559,
          0.3990092190022796,
          0.44430579823054356,
          -0.8096813840515048,
          -0.11930671508494314,
          -1.7368783531904881,
          -0.7436696453065349,
          0.4937511254878508,
          -2.4396435356718817,
          1.2824265662085645,
          1.9556216542278397,
          -0.3268638798117112,
          -0.49065900845493565,
          0.9615252684456398,
          -1.4589162600753647,
          -0.6776441409243771,
          -0.8578568648111088,
          -0.7204412403943163,
          0.5339996751188443
         ],
         "xaxis": "x2",
         "y": [
          -1.218991033261646,
          -0.5465765623202922,
          0.18132417432275671,
          -0.014585404257609841,
          0.1715182335092267,
          -1.3779384183098575,
          2.2490010504007203,
          -1.2937347379867639,
          0.645795456082042,
          -0.36282297531233015,
          -0.8830302929744168,
          0.3978544585571979,
          1.4573313754948551,
          -0.42499485568865564,
          0.3706190593531806,
          0.37736470261438537,
          0.4277275289247419,
          -0.16226827355695023,
          -0.058022745855864394,
          -1.8487874313355865,
          0.8022710961429018,
          -1.9470864824594507,
          -2.1131990933422515,
          -0.5106491158132542,
          1.3796907827063247,
          -0.2829133544458733,
          -0.598005788070867,
          0.985421725043829,
          -0.053580649651472724,
          0.6804644985751658,
          0.9481857380941411,
          -1.1146991830746134,
          1.0275502417998543,
          -1.457489960262967,
          0.23837190745798345,
          0.5128251402478308,
          0.6552122213363701,
          -3.1086824537421966,
          0.4291926070041237,
          0.7311268050114921,
          0.7146906973183577,
          0.23765346133515933,
          0.5636683723477607,
          -0.19560647211511367,
          -1.4721539885794437,
          -0.1676593178014201,
          0.4152099938863828,
          -0.9064861230077402,
          -0.5055774366498862,
          0.5349192709445101,
          2.1231913714510715,
          2.2707276001335392,
          -1.709501621834544,
          1.5200345414171992,
          -0.6180853646699377,
          1.3204585944952765,
          0.7672795518407083,
          -0.6968332170252055,
          0.23875081210284058,
          1.0277536622636916,
          -0.7671534331370783,
          -0.7377371573056383,
          1.4735944964229581,
          -1.3514547300791788,
          -0.11340112276702033,
          1.91749282262013,
          1.2314518894288216,
          0.23902470415773386,
          0.7729293278824075,
          0.027302940383040052,
          0.7883419106958499,
          -0.007678428674991606,
          -0.4679306148027131,
          -0.3137113795539161,
          0.5799497855130166,
          -0.4422423998075986,
          0.013049264772897765,
          1.1433034523669872,
          1.2086040894753496,
          1.234131361555419,
          -1.8422285316637823,
          0.33371425688076634,
          -1.0086403689251748,
          0.25408076638641586,
          -1.1537517610944619,
          0.11546173547730847,
          -0.32788866726597193,
          2.0331689908154784,
          0.34797807275311415,
          -1.251412065531357,
          0.9308890122198833,
          -0.8142474569278847,
          0.7762675608414903,
          0.8468274953365662,
          1.3011474374604695,
          0.05918586303413559,
          2.1512380068791446,
          1.5409210295246003,
          -1.4431005934720968,
          -1.0527879815155303
         ],
         "yaxis": "y2"
        },
        {
         "line": {
          "color": "rgba(128, 128, 128, 1.0)",
          "dash": "solid",
          "shape": "linear",
          "width": 1.3
         },
         "marker": {
          "size": 2,
          "symbol": "circle"
         },
         "mode": "markers",
         "name": "A",
         "text": "",
         "type": "scatter",
         "x": [
          -0.24686037129796642,
          -0.4795152376078478,
          0.14944367353787624,
          -0.6853527509718431,
          -1.7028468412412232,
          -0.7798818649599734,
          -0.19234053531112388,
          1.7804995095213754,
          -0.04036287646092673,
          -0.723546250475408,
          1.2155456251649457,
          1.0232165078548712,
          -1.0911591939514995,
          -1.4002945185590945,
          -0.9844024695347182,
          -2.5047733815436293,
          0.5891949946312317,
          0.8313392608625283,
          -2.2746833841723615,
          1.6541512665364435,
          0.21784756601440292,
          0.17445575961753562,
          -1.836852104607844,
          0.16325692077638956,
          -0.7935380739116973,
          0.027907503343331128,
          0.8538002676217139,
          -0.6241359044203422,
          -0.23572394655403262,
          0.8594923322254395,
          -1.447564171823515,
          -0.7852302212592579,
          0.497907566479336,
          -0.7093121216228477,
          -0.19087085966957418,
          -0.9331632945694524,
          -0.4104664553598608,
          -0.7903672196642071,
          -1.3552161912919363,
          -0.7763144272697288,
          0.49976133703708603,
          1.1611012988017406,
          -1.735752908375946,
          1.6437986218317118,
          -0.3017809423983048,
          -1.0826105475980088,
          0.016447894583500777,
          0.6202116503828169,
          0.2106450284731047,
          0.6221618836777782,
          -1.2464583082253475,
          -1.966314968076596,
          0.24388177796065524,
          -1.0376743625885156,
          -1.5203900572276658,
          1.4884300136739879,
          0.4944193659097848,
          -0.23129290772190259,
          1.4419410558315484,
          -1.0292185001501921,
          -0.3751839069304503,
          0.09924120865871619,
          0.028048690524174302,
          0.8402965979079163,
          -0.4671039314424817,
          0.9047348889601571,
          -0.6907026203871445,
          0.6262362359171377,
          -0.6322554988488555,
          0.1978533428520716,
          -1.0530917743988188,
          0.16532577645258734,
          0.2518417349615779,
          -1.2022077742857284,
          -0.12399051256752064,
          -0.6447977621584156,
          -0.6698689412931773,
          -1.0581532991225995,
          0.6314371002384549,
          -1.7864811633511934,
          0.39332895131897516,
          -0.5331979122115895,
          -1.1559830542579275,
          1.5772819646789715,
          -0.25984296964278736,
          1.0390858679051702,
          -0.6520278543657485,
          1.0653763533133234,
          -0.4122669377041702,
          0.0013760273155446487,
          0.13381253402436236,
          -0.6447555619163449,
          0.37792047574193927,
          -2.0204643701988,
          0.11469767046781733,
          0.2804461252509056,
          0.2436637417779295,
          -0.4374641695700345,
          0.4466910722431926,
          2.1902908363556435
         ],
         "xaxis": "x3",
         "y": [
          -1.218991033261646,
          -0.5465765623202922,
          0.18132417432275671,
          -0.014585404257609841,
          0.1715182335092267,
          -1.3779384183098575,
          2.2490010504007203,
          -1.2937347379867639,
          0.645795456082042,
          -0.36282297531233015,
          -0.8830302929744168,
          0.3978544585571979,
          1.4573313754948551,
          -0.42499485568865564,
          0.3706190593531806,
          0.37736470261438537,
          0.4277275289247419,
          -0.16226827355695023,
          -0.058022745855864394,
          -1.8487874313355865,
          0.8022710961429018,
          -1.9470864824594507,
          -2.1131990933422515,
          -0.5106491158132542,
          1.3796907827063247,
          -0.2829133544458733,
          -0.598005788070867,
          0.985421725043829,
          -0.053580649651472724,
          0.6804644985751658,
          0.9481857380941411,
          -1.1146991830746134,
          1.0275502417998543,
          -1.457489960262967,
          0.23837190745798345,
          0.5128251402478308,
          0.6552122213363701,
          -3.1086824537421966,
          0.4291926070041237,
          0.7311268050114921,
          0.7146906973183577,
          0.23765346133515933,
          0.5636683723477607,
          -0.19560647211511367,
          -1.4721539885794437,
          -0.1676593178014201,
          0.4152099938863828,
          -0.9064861230077402,
          -0.5055774366498862,
          0.5349192709445101,
          2.1231913714510715,
          2.2707276001335392,
          -1.709501621834544,
          1.5200345414171992,
          -0.6180853646699377,
          1.3204585944952765,
          0.7672795518407083,
          -0.6968332170252055,
          0.23875081210284058,
          1.0277536622636916,
          -0.7671534331370783,
          -0.7377371573056383,
          1.4735944964229581,
          -1.3514547300791788,
          -0.11340112276702033,
          1.91749282262013,
          1.2314518894288216,
          0.23902470415773386,
          0.7729293278824075,
          0.027302940383040052,
          0.7883419106958499,
          -0.007678428674991606,
          -0.4679306148027131,
          -0.3137113795539161,
          0.5799497855130166,
          -0.4422423998075986,
          0.013049264772897765,
          1.1433034523669872,
          1.2086040894753496,
          1.234131361555419,
          -1.8422285316637823,
          0.33371425688076634,
          -1.0086403689251748,
          0.25408076638641586,
          -1.1537517610944619,
          0.11546173547730847,
          -0.32788866726597193,
          2.0331689908154784,
          0.34797807275311415,
          -1.251412065531357,
          0.9308890122198833,
          -0.8142474569278847,
          0.7762675608414903,
          0.8468274953365662,
          1.3011474374604695,
          0.05918586303413559,
          2.1512380068791446,
          1.5409210295246003,
          -1.4431005934720968,
          -1.0527879815155303
         ],
         "yaxis": "y3"
        },
        {
         "line": {
          "color": "rgba(128, 128, 128, 1.0)",
          "dash": "solid",
          "shape": "linear",
          "width": 1.3
         },
         "marker": {
          "size": 2,
          "symbol": "circle"
         },
         "mode": "markers",
         "name": "A",
         "text": "",
         "type": "scatter",
         "x": [
          -0.8733379686732633,
          0.22475225260711695,
          0.6003728631702283,
          -0.7475414849079879,
          -0.8731505829973676,
          0.8794751908632622,
          1.296856464902928,
          -0.9506100017110891,
          0.752827343619869,
          -1.1691130187985874,
          -0.8712647315318274,
          0.5636707451512812,
          -0.1710308114854158,
          -1.7284270524020178,
          -0.3243556032739408,
          -0.16943133213397807,
          -1.0171772198234792,
          1.5304562840453813,
          1.056722380873873,
          3.2089934521101906,
          0.5729850310454369,
          0.028372268084173743,
          -0.2151406424218395,
          -2.322619057508341,
          0.2533427669895896,
          0.07603831793752841,
          0.26380781727939784,
          -0.5164559164420952,
          -2.72594572061758,
          0.406426122275474,
          -1.2627246222217865,
          -0.9132968666759071,
          0.2539262943902931,
          1.4326200424242648,
          -0.37767853047554395,
          -1.0656203927411103,
          -0.05973524592289964,
          -1.7529754743037604,
          0.6068891984383418,
          -0.3879168068123651,
          -1.035013461891617,
          -1.743126195948102,
          -0.2918481438691077,
          -0.01512351099964492,
          0.25101023259815236,
          0.4085577002000313,
          1.1100131818513306,
          0.3360818394416731,
          -0.9548494324521819,
          2.2283342953425396,
          -0.9067222987945611,
          -0.7321078118365565,
          0.5514428455787548,
          -1.3630870736162113,
          1.018136184934407,
          0.21751250949153464,
          -0.3767115947121578,
          -0.5546640063079199,
          -0.8871416712895261,
          0.18312008628051119,
          0.1758129638643444,
          -2.0698039327466375,
          -2.293021317161217,
          -0.807571995301875,
          0.3040450616345944,
          1.5092880425580266,
          -0.8950246832042933,
          -0.5762162690274315,
          0.6949419055709126,
          1.0640067317219322,
          -0.4519146300615394,
          -0.21886174030688288,
          -0.8095655902907344,
          0.4986230829694079,
          0.5666132607080857,
          0.6026061625795713,
          -0.004757499389226333,
          0.3514419991162287,
          -0.281905126041759,
          0.8872631290195736,
          -0.22962566128815565,
          -1.017646111435563,
          -0.5635721343076957,
          0.3011979834291313,
          -0.24042255174804705,
          0.713671166459918,
          0.08503230912733772,
          0.7243525345541257,
          0.6447885187854636,
          0.39057435386990397,
          0.6983754191501598,
          -0.6092719601781813,
          1.1731475780318703,
          0.28246898876269433,
          -0.2315336569167173,
          -0.13757611784336787,
          0.5521933098305067,
          0.4305914371706155,
          0.8385826217826156,
          0.5184135563823262
         ],
         "xaxis": "x4",
         "y": [
          -1.218991033261646,
          -0.5465765623202922,
          0.18132417432275671,
          -0.014585404257609841,
          0.1715182335092267,
          -1.3779384183098575,
          2.2490010504007203,
          -1.2937347379867639,
          0.645795456082042,
          -0.36282297531233015,
          -0.8830302929744168,
          0.3978544585571979,
          1.4573313754948551,
          -0.42499485568865564,
          0.3706190593531806,
          0.37736470261438537,
          0.4277275289247419,
          -0.16226827355695023,
          -0.058022745855864394,
          -1.8487874313355865,
          0.8022710961429018,
          -1.9470864824594507,
          -2.1131990933422515,
          -0.5106491158132542,
          1.3796907827063247,
          -0.2829133544458733,
          -0.598005788070867,
          0.985421725043829,
          -0.053580649651472724,
          0.6804644985751658,
          0.9481857380941411,
          -1.1146991830746134,
          1.0275502417998543,
          -1.457489960262967,
          0.23837190745798345,
          0.5128251402478308,
          0.6552122213363701,
          -3.1086824537421966,
          0.4291926070041237,
          0.7311268050114921,
          0.7146906973183577,
          0.23765346133515933,
          0.5636683723477607,
          -0.19560647211511367,
          -1.4721539885794437,
          -0.1676593178014201,
          0.4152099938863828,
          -0.9064861230077402,
          -0.5055774366498862,
          0.5349192709445101,
          2.1231913714510715,
          2.2707276001335392,
          -1.709501621834544,
          1.5200345414171992,
          -0.6180853646699377,
          1.3204585944952765,
          0.7672795518407083,
          -0.6968332170252055,
          0.23875081210284058,
          1.0277536622636916,
          -0.7671534331370783,
          -0.7377371573056383,
          1.4735944964229581,
          -1.3514547300791788,
          -0.11340112276702033,
          1.91749282262013,
          1.2314518894288216,
          0.23902470415773386,
          0.7729293278824075,
          0.027302940383040052,
          0.7883419106958499,
          -0.007678428674991606,
          -0.4679306148027131,
          -0.3137113795539161,
          0.5799497855130166,
          -0.4422423998075986,
          0.013049264772897765,
          1.1433034523669872,
          1.2086040894753496,
          1.234131361555419,
          -1.8422285316637823,
          0.33371425688076634,
          -1.0086403689251748,
          0.25408076638641586,
          -1.1537517610944619,
          0.11546173547730847,
          -0.32788866726597193,
          2.0331689908154784,
          0.34797807275311415,
          -1.251412065531357,
          0.9308890122198833,
          -0.8142474569278847,
          0.7762675608414903,
          0.8468274953365662,
          1.3011474374604695,
          0.05918586303413559,
          2.1512380068791446,
          1.5409210295246003,
          -1.4431005934720968,
          -1.0527879815155303
         ],
         "yaxis": "y4"
        },
        {
         "line": {
          "color": "rgba(128, 128, 128, 1.0)",
          "dash": "solid",
          "shape": "linear",
          "width": 1.3
         },
         "marker": {
          "size": 2,
          "symbol": "circle"
         },
         "mode": "markers",
         "name": "B",
         "text": "",
         "type": "scatter",
         "x": [
          -1.218991033261646,
          -0.5465765623202922,
          0.18132417432275671,
          -0.014585404257609841,
          0.1715182335092267,
          -1.3779384183098575,
          2.2490010504007203,
          -1.2937347379867639,
          0.645795456082042,
          -0.36282297531233015,
          -0.8830302929744168,
          0.3978544585571979,
          1.4573313754948551,
          -0.42499485568865564,
          0.3706190593531806,
          0.37736470261438537,
          0.4277275289247419,
          -0.16226827355695023,
          -0.058022745855864394,
          -1.8487874313355865,
          0.8022710961429018,
          -1.9470864824594507,
          -2.1131990933422515,
          -0.5106491158132542,
          1.3796907827063247,
          -0.2829133544458733,
          -0.598005788070867,
          0.985421725043829,
          -0.053580649651472724,
          0.6804644985751658,
          0.9481857380941411,
          -1.1146991830746134,
          1.0275502417998543,
          -1.457489960262967,
          0.23837190745798345,
          0.5128251402478308,
          0.6552122213363701,
          -3.1086824537421966,
          0.4291926070041237,
          0.7311268050114921,
          0.7146906973183577,
          0.23765346133515933,
          0.5636683723477607,
          -0.19560647211511367,
          -1.4721539885794437,
          -0.1676593178014201,
          0.4152099938863828,
          -0.9064861230077402,
          -0.5055774366498862,
          0.5349192709445101,
          2.1231913714510715,
          2.2707276001335392,
          -1.709501621834544,
          1.5200345414171992,
          -0.6180853646699377,
          1.3204585944952765,
          0.7672795518407083,
          -0.6968332170252055,
          0.23875081210284058,
          1.0277536622636916,
          -0.7671534331370783,
          -0.7377371573056383,
          1.4735944964229581,
          -1.3514547300791788,
          -0.11340112276702033,
          1.91749282262013,
          1.2314518894288216,
          0.23902470415773386,
          0.7729293278824075,
          0.027302940383040052,
          0.7883419106958499,
          -0.007678428674991606,
          -0.4679306148027131,
          -0.3137113795539161,
          0.5799497855130166,
          -0.4422423998075986,
          0.013049264772897765,
          1.1433034523669872,
          1.2086040894753496,
          1.234131361555419,
          -1.8422285316637823,
          0.33371425688076634,
          -1.0086403689251748,
          0.25408076638641586,
          -1.1537517610944619,
          0.11546173547730847,
          -0.32788866726597193,
          2.0331689908154784,
          0.34797807275311415,
          -1.251412065531357,
          0.9308890122198833,
          -0.8142474569278847,
          0.7762675608414903,
          0.8468274953365662,
          1.3011474374604695,
          0.05918586303413559,
          2.1512380068791446,
          1.5409210295246003,
          -1.4431005934720968,
          -1.0527879815155303
         ],
         "xaxis": "x5",
         "y": [
          0.3419764734215199,
          -2.3116551242894983,
          1.3348751311612044,
          -0.1072796179888181,
          2.483217793824436,
          -0.0741119345885313,
          -1.6738723112564624,
          0.14713214486023077,
          0.640769561204283,
          0.4618918585952571,
          1.7079110887935436,
          -0.1707611901698053,
          0.6172860108755727,
          0.25794903136380476,
          -0.6988181776820083,
          -1.263302918452683,
          -0.045883990267492424,
          -0.8257294543546106,
          0.9600869708265687,
          0.5681263328757964,
          -0.3647234435365751,
          -2.2170174535344085,
          1.7049553191012643,
          -0.5537308376912038,
          -0.5893379099827436,
          -0.789750324269047,
          -0.5968772238779839,
          -0.2004912957144484,
          -0.6246266663795919,
          1.0541547531216344,
          1.1407786943515277,
          -0.3478718293512527,
          -0.4655854045314903,
          -1.0204625318491685,
          -0.17134797784339065,
          -2.004294224309604,
          -1.392027639421431,
          -1.8088906593188325,
          -1.7144334237148287,
          -0.828272087494066,
          0.11134914674790283,
          0.5563361994412729,
          0.11786737071859353,
          1.0283021269240364,
          -0.6844461103765496,
          0.6134588405344479,
          -1.6636278706256518,
          0.2354302397742566,
          0.4927510624220601,
          1.4458444853244878,
          -0.85488831932789,
          0.41631088070245303,
          0.8861235398691205,
          -0.7625248083567656,
          0.21295446005412047,
          1.202789392766879,
          -1.6552505758408658,
          0.671892072559935,
          -0.8744246595050262,
          1.899602505489602,
          -0.9895809299587186,
          -1.6374685722734121,
          -0.9557082919513292,
          0.33382359674876755,
          0.6439689050896489,
          1.1376245647727588,
          -1.3105163589059687,
          -0.6367229605275069,
          0.20988075534801515,
          0.5270543441369793,
          0.06317450408580289,
          0.4759314171495404,
          -0.3389952753783388,
          1.7627682347229436,
          -1.4433264556437697,
          -0.031462496251145354,
          0.633865880706928,
          1.3535256368079083,
          -0.4180120086025204,
          0.649673515838004,
          1.3975641015459965,
          0.1279457536374559,
          0.3990092190022796,
          0.44430579823054356,
          -0.8096813840515048,
          -0.11930671508494314,
          -1.7368783531904881,
          -0.7436696453065349,
          0.4937511254878508,
          -2.4396435356718817,
          1.2824265662085645,
          1.9556216542278397,
          -0.3268638798117112,
          -0.49065900845493565,
          0.9615252684456398,
          -1.4589162600753647,
          -0.6776441409243771,
          -0.8578568648111088,
          -0.7204412403943163,
          0.5339996751188443
         ],
         "yaxis": "y5"
        },
        {
         "histfunc": "count",
         "histnorm": "",
         "marker": {
          "color": "rgba(55, 128, 191, 1.0)",
          "line": {
           "color": "#4D5663",
           "width": 1.3
          }
         },
         "name": "B",
         "nbinsx": 10,
         "opacity": 0.8,
         "orientation": "v",
         "type": "histogram",
         "x": [
          0.3419764734215199,
          -2.3116551242894983,
          1.3348751311612044,
          -0.1072796179888181,
          2.483217793824436,
          -0.0741119345885313,
          -1.6738723112564624,
          0.14713214486023077,
          0.640769561204283,
          0.4618918585952571,
          1.7079110887935436,
          -0.1707611901698053,
          0.6172860108755727,
          0.25794903136380476,
          -0.6988181776820083,
          -1.263302918452683,
          -0.045883990267492424,
          -0.8257294543546106,
          0.9600869708265687,
          0.5681263328757964,
          -0.3647234435365751,
          -2.2170174535344085,
          1.7049553191012643,
          -0.5537308376912038,
          -0.5893379099827436,
          -0.789750324269047,
          -0.5968772238779839,
          -0.2004912957144484,
          -0.6246266663795919,
          1.0541547531216344,
          1.1407786943515277,
          -0.3478718293512527,
          -0.4655854045314903,
          -1.0204625318491685,
          -0.17134797784339065,
          -2.004294224309604,
          -1.392027639421431,
          -1.8088906593188325,
          -1.7144334237148287,
          -0.828272087494066,
          0.11134914674790283,
          0.5563361994412729,
          0.11786737071859353,
          1.0283021269240364,
          -0.6844461103765496,
          0.6134588405344479,
          -1.6636278706256518,
          0.2354302397742566,
          0.4927510624220601,
          1.4458444853244878,
          -0.85488831932789,
          0.41631088070245303,
          0.8861235398691205,
          -0.7625248083567656,
          0.21295446005412047,
          1.202789392766879,
          -1.6552505758408658,
          0.671892072559935,
          -0.8744246595050262,
          1.899602505489602,
          -0.9895809299587186,
          -1.6374685722734121,
          -0.9557082919513292,
          0.33382359674876755,
          0.6439689050896489,
          1.1376245647727588,
          -1.3105163589059687,
          -0.6367229605275069,
          0.20988075534801515,
          0.5270543441369793,
          0.06317450408580289,
          0.4759314171495404,
          -0.3389952753783388,
          1.7627682347229436,
          -1.4433264556437697,
          -0.031462496251145354,
          0.633865880706928,
          1.3535256368079083,
          -0.4180120086025204,
          0.649673515838004,
          1.3975641015459965,
          0.1279457536374559,
          0.3990092190022796,
          0.44430579823054356,
          -0.8096813840515048,
          -0.11930671508494314,
          -1.7368783531904881,
          -0.7436696453065349,
          0.4937511254878508,
          -2.4396435356718817,
          1.2824265662085645,
          1.9556216542278397,
          -0.3268638798117112,
          -0.49065900845493565,
          0.9615252684456398,
          -1.4589162600753647,
          -0.6776441409243771,
          -0.8578568648111088,
          -0.7204412403943163,
          0.5339996751188443
         ],
         "xaxis": "x6",
         "yaxis": "y6"
        },
        {
         "line": {
          "color": "rgba(128, 128, 128, 1.0)",
          "dash": "solid",
          "shape": "linear",
          "width": 1.3
         },
         "marker": {
          "size": 2,
          "symbol": "circle"
         },
         "mode": "markers",
         "name": "B",
         "text": "",
         "type": "scatter",
         "x": [
          -0.24686037129796642,
          -0.4795152376078478,
          0.14944367353787624,
          -0.6853527509718431,
          -1.7028468412412232,
          -0.7798818649599734,
          -0.19234053531112388,
          1.7804995095213754,
          -0.04036287646092673,
          -0.723546250475408,
          1.2155456251649457,
          1.0232165078548712,
          -1.0911591939514995,
          -1.4002945185590945,
          -0.9844024695347182,
          -2.5047733815436293,
          0.5891949946312317,
          0.8313392608625283,
          -2.2746833841723615,
          1.6541512665364435,
          0.21784756601440292,
          0.17445575961753562,
          -1.836852104607844,
          0.16325692077638956,
          -0.7935380739116973,
          0.027907503343331128,
          0.8538002676217139,
          -0.6241359044203422,
          -0.23572394655403262,
          0.8594923322254395,
          -1.447564171823515,
          -0.7852302212592579,
          0.497907566479336,
          -0.7093121216228477,
          -0.19087085966957418,
          -0.9331632945694524,
          -0.4104664553598608,
          -0.7903672196642071,
          -1.3552161912919363,
          -0.7763144272697288,
          0.49976133703708603,
          1.1611012988017406,
          -1.735752908375946,
          1.6437986218317118,
          -0.3017809423983048,
          -1.0826105475980088,
          0.016447894583500777,
          0.6202116503828169,
          0.2106450284731047,
          0.6221618836777782,
          -1.2464583082253475,
          -1.966314968076596,
          0.24388177796065524,
          -1.0376743625885156,
          -1.5203900572276658,
          1.4884300136739879,
          0.4944193659097848,
          -0.23129290772190259,
          1.4419410558315484,
          -1.0292185001501921,
          -0.3751839069304503,
          0.09924120865871619,
          0.028048690524174302,
          0.8402965979079163,
          -0.4671039314424817,
          0.9047348889601571,
          -0.6907026203871445,
          0.6262362359171377,
          -0.6322554988488555,
          0.1978533428520716,
          -1.0530917743988188,
          0.16532577645258734,
          0.2518417349615779,
          -1.2022077742857284,
          -0.12399051256752064,
          -0.6447977621584156,
          -0.6698689412931773,
          -1.0581532991225995,
          0.6314371002384549,
          -1.7864811633511934,
          0.39332895131897516,
          -0.5331979122115895,
          -1.1559830542579275,
          1.5772819646789715,
          -0.25984296964278736,
          1.0390858679051702,
          -0.6520278543657485,
          1.0653763533133234,
          -0.4122669377041702,
          0.0013760273155446487,
          0.13381253402436236,
          -0.6447555619163449,
          0.37792047574193927,
          -2.0204643701988,
          0.11469767046781733,
          0.2804461252509056,
          0.2436637417779295,
          -0.4374641695700345,
          0.4466910722431926,
          2.1902908363556435
         ],
         "xaxis": "x7",
         "y": [
          0.3419764734215199,
          -2.3116551242894983,
          1.3348751311612044,
          -0.1072796179888181,
          2.483217793824436,
          -0.0741119345885313,
          -1.6738723112564624,
          0.14713214486023077,
          0.640769561204283,
          0.4618918585952571,
          1.7079110887935436,
          -0.1707611901698053,
          0.6172860108755727,
          0.25794903136380476,
          -0.6988181776820083,
          -1.263302918452683,
          -0.045883990267492424,
          -0.8257294543546106,
          0.9600869708265687,
          0.5681263328757964,
          -0.3647234435365751,
          -2.2170174535344085,
          1.7049553191012643,
          -0.5537308376912038,
          -0.5893379099827436,
          -0.789750324269047,
          -0.5968772238779839,
          -0.2004912957144484,
          -0.6246266663795919,
          1.0541547531216344,
          1.1407786943515277,
          -0.3478718293512527,
          -0.4655854045314903,
          -1.0204625318491685,
          -0.17134797784339065,
          -2.004294224309604,
          -1.392027639421431,
          -1.8088906593188325,
          -1.7144334237148287,
          -0.828272087494066,
          0.11134914674790283,
          0.5563361994412729,
          0.11786737071859353,
          1.0283021269240364,
          -0.6844461103765496,
          0.6134588405344479,
          -1.6636278706256518,
          0.2354302397742566,
          0.4927510624220601,
          1.4458444853244878,
          -0.85488831932789,
          0.41631088070245303,
          0.8861235398691205,
          -0.7625248083567656,
          0.21295446005412047,
          1.202789392766879,
          -1.6552505758408658,
          0.671892072559935,
          -0.8744246595050262,
          1.899602505489602,
          -0.9895809299587186,
          -1.6374685722734121,
          -0.9557082919513292,
          0.33382359674876755,
          0.6439689050896489,
          1.1376245647727588,
          -1.3105163589059687,
          -0.6367229605275069,
          0.20988075534801515,
          0.5270543441369793,
          0.06317450408580289,
          0.4759314171495404,
          -0.3389952753783388,
          1.7627682347229436,
          -1.4433264556437697,
          -0.031462496251145354,
          0.633865880706928,
          1.3535256368079083,
          -0.4180120086025204,
          0.649673515838004,
          1.3975641015459965,
          0.1279457536374559,
          0.3990092190022796,
          0.44430579823054356,
          -0.8096813840515048,
          -0.11930671508494314,
          -1.7368783531904881,
          -0.7436696453065349,
          0.4937511254878508,
          -2.4396435356718817,
          1.2824265662085645,
          1.9556216542278397,
          -0.3268638798117112,
          -0.49065900845493565,
          0.9615252684456398,
          -1.4589162600753647,
          -0.6776441409243771,
          -0.8578568648111088,
          -0.7204412403943163,
          0.5339996751188443
         ],
         "yaxis": "y7"
        },
        {
         "line": {
          "color": "rgba(128, 128, 128, 1.0)",
          "dash": "solid",
          "shape": "linear",
          "width": 1.3
         },
         "marker": {
          "size": 2,
          "symbol": "circle"
         },
         "mode": "markers",
         "name": "B",
         "text": "",
         "type": "scatter",
         "x": [
          -0.8733379686732633,
          0.22475225260711695,
          0.6003728631702283,
          -0.7475414849079879,
          -0.8731505829973676,
          0.8794751908632622,
          1.296856464902928,
          -0.9506100017110891,
          0.752827343619869,
          -1.1691130187985874,
          -0.8712647315318274,
          0.5636707451512812,
          -0.1710308114854158,
          -1.7284270524020178,
          -0.3243556032739408,
          -0.16943133213397807,
          -1.0171772198234792,
          1.5304562840453813,
          1.056722380873873,
          3.2089934521101906,
          0.5729850310454369,
          0.028372268084173743,
          -0.2151406424218395,
          -2.322619057508341,
          0.2533427669895896,
          0.07603831793752841,
          0.26380781727939784,
          -0.5164559164420952,
          -2.72594572061758,
          0.406426122275474,
          -1.2627246222217865,
          -0.9132968666759071,
          0.2539262943902931,
          1.4326200424242648,
          -0.37767853047554395,
          -1.0656203927411103,
          -0.05973524592289964,
          -1.7529754743037604,
          0.6068891984383418,
          -0.3879168068123651,
          -1.035013461891617,
          -1.743126195948102,
          -0.2918481438691077,
          -0.01512351099964492,
          0.25101023259815236,
          0.4085577002000313,
          1.1100131818513306,
          0.3360818394416731,
          -0.9548494324521819,
          2.2283342953425396,
          -0.9067222987945611,
          -0.7321078118365565,
          0.5514428455787548,
          -1.3630870736162113,
          1.018136184934407,
          0.21751250949153464,
          -0.3767115947121578,
          -0.5546640063079199,
          -0.8871416712895261,
          0.18312008628051119,
          0.1758129638643444,
          -2.0698039327466375,
          -2.293021317161217,
          -0.807571995301875,
          0.3040450616345944,
          1.5092880425580266,
          -0.8950246832042933,
          -0.5762162690274315,
          0.6949419055709126,
          1.0640067317219322,
          -0.4519146300615394,
          -0.21886174030688288,
          -0.8095655902907344,
          0.4986230829694079,
          0.5666132607080857,
          0.6026061625795713,
          -0.004757499389226333,
          0.3514419991162287,
          -0.281905126041759,
          0.8872631290195736,
          -0.22962566128815565,
          -1.017646111435563,
          -0.5635721343076957,
          0.3011979834291313,
          -0.24042255174804705,
          0.713671166459918,
          0.08503230912733772,
          0.7243525345541257,
          0.6447885187854636,
          0.39057435386990397,
          0.6983754191501598,
          -0.6092719601781813,
          1.1731475780318703,
          0.28246898876269433,
          -0.2315336569167173,
          -0.13757611784336787,
          0.5521933098305067,
          0.4305914371706155,
          0.8385826217826156,
          0.5184135563823262
         ],
         "xaxis": "x8",
         "y": [
          0.3419764734215199,
          -2.3116551242894983,
          1.3348751311612044,
          -0.1072796179888181,
          2.483217793824436,
          -0.0741119345885313,
          -1.6738723112564624,
          0.14713214486023077,
          0.640769561204283,
          0.4618918585952571,
          1.7079110887935436,
          -0.1707611901698053,
          0.6172860108755727,
          0.25794903136380476,
          -0.6988181776820083,
          -1.263302918452683,
          -0.045883990267492424,
          -0.8257294543546106,
          0.9600869708265687,
          0.5681263328757964,
          -0.3647234435365751,
          -2.2170174535344085,
          1.7049553191012643,
          -0.5537308376912038,
          -0.5893379099827436,
          -0.789750324269047,
          -0.5968772238779839,
          -0.2004912957144484,
          -0.6246266663795919,
          1.0541547531216344,
          1.1407786943515277,
          -0.3478718293512527,
          -0.4655854045314903,
          -1.0204625318491685,
          -0.17134797784339065,
          -2.004294224309604,
          -1.392027639421431,
          -1.8088906593188325,
          -1.7144334237148287,
          -0.828272087494066,
          0.11134914674790283,
          0.5563361994412729,
          0.11786737071859353,
          1.0283021269240364,
          -0.6844461103765496,
          0.6134588405344479,
          -1.6636278706256518,
          0.2354302397742566,
          0.4927510624220601,
          1.4458444853244878,
          -0.85488831932789,
          0.41631088070245303,
          0.8861235398691205,
          -0.7625248083567656,
          0.21295446005412047,
          1.202789392766879,
          -1.6552505758408658,
          0.671892072559935,
          -0.8744246595050262,
          1.899602505489602,
          -0.9895809299587186,
          -1.6374685722734121,
          -0.9557082919513292,
          0.33382359674876755,
          0.6439689050896489,
          1.1376245647727588,
          -1.3105163589059687,
          -0.6367229605275069,
          0.20988075534801515,
          0.5270543441369793,
          0.06317450408580289,
          0.4759314171495404,
          -0.3389952753783388,
          1.7627682347229436,
          -1.4433264556437697,
          -0.031462496251145354,
          0.633865880706928,
          1.3535256368079083,
          -0.4180120086025204,
          0.649673515838004,
          1.3975641015459965,
          0.1279457536374559,
          0.3990092190022796,
          0.44430579823054356,
          -0.8096813840515048,
          -0.11930671508494314,
          -1.7368783531904881,
          -0.7436696453065349,
          0.4937511254878508,
          -2.4396435356718817,
          1.2824265662085645,
          1.9556216542278397,
          -0.3268638798117112,
          -0.49065900845493565,
          0.9615252684456398,
          -1.4589162600753647,
          -0.6776441409243771,
          -0.8578568648111088,
          -0.7204412403943163,
          0.5339996751188443
         ],
         "yaxis": "y8"
        },
        {
         "line": {
          "color": "rgba(128, 128, 128, 1.0)",
          "dash": "solid",
          "shape": "linear",
          "width": 1.3
         },
         "marker": {
          "size": 2,
          "symbol": "circle"
         },
         "mode": "markers",
         "name": "C",
         "text": "",
         "type": "scatter",
         "x": [
          -1.218991033261646,
          -0.5465765623202922,
          0.18132417432275671,
          -0.014585404257609841,
          0.1715182335092267,
          -1.3779384183098575,
          2.2490010504007203,
          -1.2937347379867639,
          0.645795456082042,
          -0.36282297531233015,
          -0.8830302929744168,
          0.3978544585571979,
          1.4573313754948551,
          -0.42499485568865564,
          0.3706190593531806,
          0.37736470261438537,
          0.4277275289247419,
          -0.16226827355695023,
          -0.058022745855864394,
          -1.8487874313355865,
          0.8022710961429018,
          -1.9470864824594507,
          -2.1131990933422515,
          -0.5106491158132542,
          1.3796907827063247,
          -0.2829133544458733,
          -0.598005788070867,
          0.985421725043829,
          -0.053580649651472724,
          0.6804644985751658,
          0.9481857380941411,
          -1.1146991830746134,
          1.0275502417998543,
          -1.457489960262967,
          0.23837190745798345,
          0.5128251402478308,
          0.6552122213363701,
          -3.1086824537421966,
          0.4291926070041237,
          0.7311268050114921,
          0.7146906973183577,
          0.23765346133515933,
          0.5636683723477607,
          -0.19560647211511367,
          -1.4721539885794437,
          -0.1676593178014201,
          0.4152099938863828,
          -0.9064861230077402,
          -0.5055774366498862,
          0.5349192709445101,
          2.1231913714510715,
          2.2707276001335392,
          -1.709501621834544,
          1.5200345414171992,
          -0.6180853646699377,
          1.3204585944952765,
          0.7672795518407083,
          -0.6968332170252055,
          0.23875081210284058,
          1.0277536622636916,
          -0.7671534331370783,
          -0.7377371573056383,
          1.4735944964229581,
          -1.3514547300791788,
          -0.11340112276702033,
          1.91749282262013,
          1.2314518894288216,
          0.23902470415773386,
          0.7729293278824075,
          0.027302940383040052,
          0.7883419106958499,
          -0.007678428674991606,
          -0.4679306148027131,
          -0.3137113795539161,
          0.5799497855130166,
          -0.4422423998075986,
          0.013049264772897765,
          1.1433034523669872,
          1.2086040894753496,
          1.234131361555419,
          -1.8422285316637823,
          0.33371425688076634,
          -1.0086403689251748,
          0.25408076638641586,
          -1.1537517610944619,
          0.11546173547730847,
          -0.32788866726597193,
          2.0331689908154784,
          0.34797807275311415,
          -1.251412065531357,
          0.9308890122198833,
          -0.8142474569278847,
          0.7762675608414903,
          0.8468274953365662,
          1.3011474374604695,
          0.05918586303413559,
          2.1512380068791446,
          1.5409210295246003,
          -1.4431005934720968,
          -1.0527879815155303
         ],
         "xaxis": "x9",
         "y": [
          -0.24686037129796642,
          -0.4795152376078478,
          0.14944367353787624,
          -0.6853527509718431,
          -1.7028468412412232,
          -0.7798818649599734,
          -0.19234053531112388,
          1.7804995095213754,
          -0.04036287646092673,
          -0.723546250475408,
          1.2155456251649457,
          1.0232165078548712,
          -1.0911591939514995,
          -1.4002945185590945,
          -0.9844024695347182,
          -2.5047733815436293,
          0.5891949946312317,
          0.8313392608625283,
          -2.2746833841723615,
          1.6541512665364435,
          0.21784756601440292,
          0.17445575961753562,
          -1.836852104607844,
          0.16325692077638956,
          -0.7935380739116973,
          0.027907503343331128,
          0.8538002676217139,
          -0.6241359044203422,
          -0.23572394655403262,
          0.8594923322254395,
          -1.447564171823515,
          -0.7852302212592579,
          0.497907566479336,
          -0.7093121216228477,
          -0.19087085966957418,
          -0.9331632945694524,
          -0.4104664553598608,
          -0.7903672196642071,
          -1.3552161912919363,
          -0.7763144272697288,
          0.49976133703708603,
          1.1611012988017406,
          -1.735752908375946,
          1.6437986218317118,
          -0.3017809423983048,
          -1.0826105475980088,
          0.016447894583500777,
          0.6202116503828169,
          0.2106450284731047,
          0.6221618836777782,
          -1.2464583082253475,
          -1.966314968076596,
          0.24388177796065524,
          -1.0376743625885156,
          -1.5203900572276658,
          1.4884300136739879,
          0.4944193659097848,
          -0.23129290772190259,
          1.4419410558315484,
          -1.0292185001501921,
          -0.3751839069304503,
          0.09924120865871619,
          0.028048690524174302,
          0.8402965979079163,
          -0.4671039314424817,
          0.9047348889601571,
          -0.6907026203871445,
          0.6262362359171377,
          -0.6322554988488555,
          0.1978533428520716,
          -1.0530917743988188,
          0.16532577645258734,
          0.2518417349615779,
          -1.2022077742857284,
          -0.12399051256752064,
          -0.6447977621584156,
          -0.6698689412931773,
          -1.0581532991225995,
          0.6314371002384549,
          -1.7864811633511934,
          0.39332895131897516,
          -0.5331979122115895,
          -1.1559830542579275,
          1.5772819646789715,
          -0.25984296964278736,
          1.0390858679051702,
          -0.6520278543657485,
          1.0653763533133234,
          -0.4122669377041702,
          0.0013760273155446487,
          0.13381253402436236,
          -0.6447555619163449,
          0.37792047574193927,
          -2.0204643701988,
          0.11469767046781733,
          0.2804461252509056,
          0.2436637417779295,
          -0.4374641695700345,
          0.4466910722431926,
          2.1902908363556435
         ],
         "yaxis": "y9"
        },
        {
         "line": {
          "color": "rgba(128, 128, 128, 1.0)",
          "dash": "solid",
          "shape": "linear",
          "width": 1.3
         },
         "marker": {
          "size": 2,
          "symbol": "circle"
         },
         "mode": "markers",
         "name": "C",
         "text": "",
         "type": "scatter",
         "x": [
          0.3419764734215199,
          -2.3116551242894983,
          1.3348751311612044,
          -0.1072796179888181,
          2.483217793824436,
          -0.0741119345885313,
          -1.6738723112564624,
          0.14713214486023077,
          0.640769561204283,
          0.4618918585952571,
          1.7079110887935436,
          -0.1707611901698053,
          0.6172860108755727,
          0.25794903136380476,
          -0.6988181776820083,
          -1.263302918452683,
          -0.045883990267492424,
          -0.8257294543546106,
          0.9600869708265687,
          0.5681263328757964,
          -0.3647234435365751,
          -2.2170174535344085,
          1.7049553191012643,
          -0.5537308376912038,
          -0.5893379099827436,
          -0.789750324269047,
          -0.5968772238779839,
          -0.2004912957144484,
          -0.6246266663795919,
          1.0541547531216344,
          1.1407786943515277,
          -0.3478718293512527,
          -0.4655854045314903,
          -1.0204625318491685,
          -0.17134797784339065,
          -2.004294224309604,
          -1.392027639421431,
          -1.8088906593188325,
          -1.7144334237148287,
          -0.828272087494066,
          0.11134914674790283,
          0.5563361994412729,
          0.11786737071859353,
          1.0283021269240364,
          -0.6844461103765496,
          0.6134588405344479,
          -1.6636278706256518,
          0.2354302397742566,
          0.4927510624220601,
          1.4458444853244878,
          -0.85488831932789,
          0.41631088070245303,
          0.8861235398691205,
          -0.7625248083567656,
          0.21295446005412047,
          1.202789392766879,
          -1.6552505758408658,
          0.671892072559935,
          -0.8744246595050262,
          1.899602505489602,
          -0.9895809299587186,
          -1.6374685722734121,
          -0.9557082919513292,
          0.33382359674876755,
          0.6439689050896489,
          1.1376245647727588,
          -1.3105163589059687,
          -0.6367229605275069,
          0.20988075534801515,
          0.5270543441369793,
          0.06317450408580289,
          0.4759314171495404,
          -0.3389952753783388,
          1.7627682347229436,
          -1.4433264556437697,
          -0.031462496251145354,
          0.633865880706928,
          1.3535256368079083,
          -0.4180120086025204,
          0.649673515838004,
          1.3975641015459965,
          0.1279457536374559,
          0.3990092190022796,
          0.44430579823054356,
          -0.8096813840515048,
          -0.11930671508494314,
          -1.7368783531904881,
          -0.7436696453065349,
          0.4937511254878508,
          -2.4396435356718817,
          1.2824265662085645,
          1.9556216542278397,
          -0.3268638798117112,
          -0.49065900845493565,
          0.9615252684456398,
          -1.4589162600753647,
          -0.6776441409243771,
          -0.8578568648111088,
          -0.7204412403943163,
          0.5339996751188443
         ],
         "xaxis": "x10",
         "y": [
          -0.24686037129796642,
          -0.4795152376078478,
          0.14944367353787624,
          -0.6853527509718431,
          -1.7028468412412232,
          -0.7798818649599734,
          -0.19234053531112388,
          1.7804995095213754,
          -0.04036287646092673,
          -0.723546250475408,
          1.2155456251649457,
          1.0232165078548712,
          -1.0911591939514995,
          -1.4002945185590945,
          -0.9844024695347182,
          -2.5047733815436293,
          0.5891949946312317,
          0.8313392608625283,
          -2.2746833841723615,
          1.6541512665364435,
          0.21784756601440292,
          0.17445575961753562,
          -1.836852104607844,
          0.16325692077638956,
          -0.7935380739116973,
          0.027907503343331128,
          0.8538002676217139,
          -0.6241359044203422,
          -0.23572394655403262,
          0.8594923322254395,
          -1.447564171823515,
          -0.7852302212592579,
          0.497907566479336,
          -0.7093121216228477,
          -0.19087085966957418,
          -0.9331632945694524,
          -0.4104664553598608,
          -0.7903672196642071,
          -1.3552161912919363,
          -0.7763144272697288,
          0.49976133703708603,
          1.1611012988017406,
          -1.735752908375946,
          1.6437986218317118,
          -0.3017809423983048,
          -1.0826105475980088,
          0.016447894583500777,
          0.6202116503828169,
          0.2106450284731047,
          0.6221618836777782,
          -1.2464583082253475,
          -1.966314968076596,
          0.24388177796065524,
          -1.0376743625885156,
          -1.5203900572276658,
          1.4884300136739879,
          0.4944193659097848,
          -0.23129290772190259,
          1.4419410558315484,
          -1.0292185001501921,
          -0.3751839069304503,
          0.09924120865871619,
          0.028048690524174302,
          0.8402965979079163,
          -0.4671039314424817,
          0.9047348889601571,
          -0.6907026203871445,
          0.6262362359171377,
          -0.6322554988488555,
          0.1978533428520716,
          -1.0530917743988188,
          0.16532577645258734,
          0.2518417349615779,
          -1.2022077742857284,
          -0.12399051256752064,
          -0.6447977621584156,
          -0.6698689412931773,
          -1.0581532991225995,
          0.6314371002384549,
          -1.7864811633511934,
          0.39332895131897516,
          -0.5331979122115895,
          -1.1559830542579275,
          1.5772819646789715,
          -0.25984296964278736,
          1.0390858679051702,
          -0.6520278543657485,
          1.0653763533133234,
          -0.4122669377041702,
          0.0013760273155446487,
          0.13381253402436236,
          -0.6447555619163449,
          0.37792047574193927,
          -2.0204643701988,
          0.11469767046781733,
          0.2804461252509056,
          0.2436637417779295,
          -0.4374641695700345,
          0.4466910722431926,
          2.1902908363556435
         ],
         "yaxis": "y10"
        },
        {
         "histfunc": "count",
         "histnorm": "",
         "marker": {
          "color": "rgba(50, 171, 96, 1.0)",
          "line": {
           "color": "#4D5663",
           "width": 1.3
          }
         },
         "name": "C",
         "nbinsx": 10,
         "opacity": 0.8,
         "orientation": "v",
         "type": "histogram",
         "x": [
          -0.24686037129796642,
          -0.4795152376078478,
          0.14944367353787624,
          -0.6853527509718431,
          -1.7028468412412232,
          -0.7798818649599734,
          -0.19234053531112388,
          1.7804995095213754,
          -0.04036287646092673,
          -0.723546250475408,
          1.2155456251649457,
          1.0232165078548712,
          -1.0911591939514995,
          -1.4002945185590945,
          -0.9844024695347182,
          -2.5047733815436293,
          0.5891949946312317,
          0.8313392608625283,
          -2.2746833841723615,
          1.6541512665364435,
          0.21784756601440292,
          0.17445575961753562,
          -1.836852104607844,
          0.16325692077638956,
          -0.7935380739116973,
          0.027907503343331128,
          0.8538002676217139,
          -0.6241359044203422,
          -0.23572394655403262,
          0.8594923322254395,
          -1.447564171823515,
          -0.7852302212592579,
          0.497907566479336,
          -0.7093121216228477,
          -0.19087085966957418,
          -0.9331632945694524,
          -0.4104664553598608,
          -0.7903672196642071,
          -1.3552161912919363,
          -0.7763144272697288,
          0.49976133703708603,
          1.1611012988017406,
          -1.735752908375946,
          1.6437986218317118,
          -0.3017809423983048,
          -1.0826105475980088,
          0.016447894583500777,
          0.6202116503828169,
          0.2106450284731047,
          0.6221618836777782,
          -1.2464583082253475,
          -1.966314968076596,
          0.24388177796065524,
          -1.0376743625885156,
          -1.5203900572276658,
          1.4884300136739879,
          0.4944193659097848,
          -0.23129290772190259,
          1.4419410558315484,
          -1.0292185001501921,
          -0.3751839069304503,
          0.09924120865871619,
          0.028048690524174302,
          0.8402965979079163,
          -0.4671039314424817,
          0.9047348889601571,
          -0.6907026203871445,
          0.6262362359171377,
          -0.6322554988488555,
          0.1978533428520716,
          -1.0530917743988188,
          0.16532577645258734,
          0.2518417349615779,
          -1.2022077742857284,
          -0.12399051256752064,
          -0.6447977621584156,
          -0.6698689412931773,
          -1.0581532991225995,
          0.6314371002384549,
          -1.7864811633511934,
          0.39332895131897516,
          -0.5331979122115895,
          -1.1559830542579275,
          1.5772819646789715,
          -0.25984296964278736,
          1.0390858679051702,
          -0.6520278543657485,
          1.0653763533133234,
          -0.4122669377041702,
          0.0013760273155446487,
          0.13381253402436236,
          -0.6447555619163449,
          0.37792047574193927,
          -2.0204643701988,
          0.11469767046781733,
          0.2804461252509056,
          0.2436637417779295,
          -0.4374641695700345,
          0.4466910722431926,
          2.1902908363556435
         ],
         "xaxis": "x11",
         "yaxis": "y11"
        },
        {
         "line": {
          "color": "rgba(128, 128, 128, 1.0)",
          "dash": "solid",
          "shape": "linear",
          "width": 1.3
         },
         "marker": {
          "size": 2,
          "symbol": "circle"
         },
         "mode": "markers",
         "name": "C",
         "text": "",
         "type": "scatter",
         "x": [
          -0.8733379686732633,
          0.22475225260711695,
          0.6003728631702283,
          -0.7475414849079879,
          -0.8731505829973676,
          0.8794751908632622,
          1.296856464902928,
          -0.9506100017110891,
          0.752827343619869,
          -1.1691130187985874,
          -0.8712647315318274,
          0.5636707451512812,
          -0.1710308114854158,
          -1.7284270524020178,
          -0.3243556032739408,
          -0.16943133213397807,
          -1.0171772198234792,
          1.5304562840453813,
          1.056722380873873,
          3.2089934521101906,
          0.5729850310454369,
          0.028372268084173743,
          -0.2151406424218395,
          -2.322619057508341,
          0.2533427669895896,
          0.07603831793752841,
          0.26380781727939784,
          -0.5164559164420952,
          -2.72594572061758,
          0.406426122275474,
          -1.2627246222217865,
          -0.9132968666759071,
          0.2539262943902931,
          1.4326200424242648,
          -0.37767853047554395,
          -1.0656203927411103,
          -0.05973524592289964,
          -1.7529754743037604,
          0.6068891984383418,
          -0.3879168068123651,
          -1.035013461891617,
          -1.743126195948102,
          -0.2918481438691077,
          -0.01512351099964492,
          0.25101023259815236,
          0.4085577002000313,
          1.1100131818513306,
          0.3360818394416731,
          -0.9548494324521819,
          2.2283342953425396,
          -0.9067222987945611,
          -0.7321078118365565,
          0.5514428455787548,
          -1.3630870736162113,
          1.018136184934407,
          0.21751250949153464,
          -0.3767115947121578,
          -0.5546640063079199,
          -0.8871416712895261,
          0.18312008628051119,
          0.1758129638643444,
          -2.0698039327466375,
          -2.293021317161217,
          -0.807571995301875,
          0.3040450616345944,
          1.5092880425580266,
          -0.8950246832042933,
          -0.5762162690274315,
          0.6949419055709126,
          1.0640067317219322,
          -0.4519146300615394,
          -0.21886174030688288,
          -0.8095655902907344,
          0.4986230829694079,
          0.5666132607080857,
          0.6026061625795713,
          -0.004757499389226333,
          0.3514419991162287,
          -0.281905126041759,
          0.8872631290195736,
          -0.22962566128815565,
          -1.017646111435563,
          -0.5635721343076957,
          0.3011979834291313,
          -0.24042255174804705,
          0.713671166459918,
          0.08503230912733772,
          0.7243525345541257,
          0.6447885187854636,
          0.39057435386990397,
          0.6983754191501598,
          -0.6092719601781813,
          1.1731475780318703,
          0.28246898876269433,
          -0.2315336569167173,
          -0.13757611784336787,
          0.5521933098305067,
          0.4305914371706155,
          0.8385826217826156,
          0.5184135563823262
         ],
         "xaxis": "x12",
         "y": [
          -0.24686037129796642,
          -0.4795152376078478,
          0.14944367353787624,
          -0.6853527509718431,
          -1.7028468412412232,
          -0.7798818649599734,
          -0.19234053531112388,
          1.7804995095213754,
          -0.04036287646092673,
          -0.723546250475408,
          1.2155456251649457,
          1.0232165078548712,
          -1.0911591939514995,
          -1.4002945185590945,
          -0.9844024695347182,
          -2.5047733815436293,
          0.5891949946312317,
          0.8313392608625283,
          -2.2746833841723615,
          1.6541512665364435,
          0.21784756601440292,
          0.17445575961753562,
          -1.836852104607844,
          0.16325692077638956,
          -0.7935380739116973,
          0.027907503343331128,
          0.8538002676217139,
          -0.6241359044203422,
          -0.23572394655403262,
          0.8594923322254395,
          -1.447564171823515,
          -0.7852302212592579,
          0.497907566479336,
          -0.7093121216228477,
          -0.19087085966957418,
          -0.9331632945694524,
          -0.4104664553598608,
          -0.7903672196642071,
          -1.3552161912919363,
          -0.7763144272697288,
          0.49976133703708603,
          1.1611012988017406,
          -1.735752908375946,
          1.6437986218317118,
          -0.3017809423983048,
          -1.0826105475980088,
          0.016447894583500777,
          0.6202116503828169,
          0.2106450284731047,
          0.6221618836777782,
          -1.2464583082253475,
          -1.966314968076596,
          0.24388177796065524,
          -1.0376743625885156,
          -1.5203900572276658,
          1.4884300136739879,
          0.4944193659097848,
          -0.23129290772190259,
          1.4419410558315484,
          -1.0292185001501921,
          -0.3751839069304503,
          0.09924120865871619,
          0.028048690524174302,
          0.8402965979079163,
          -0.4671039314424817,
          0.9047348889601571,
          -0.6907026203871445,
          0.6262362359171377,
          -0.6322554988488555,
          0.1978533428520716,
          -1.0530917743988188,
          0.16532577645258734,
          0.2518417349615779,
          -1.2022077742857284,
          -0.12399051256752064,
          -0.6447977621584156,
          -0.6698689412931773,
          -1.0581532991225995,
          0.6314371002384549,
          -1.7864811633511934,
          0.39332895131897516,
          -0.5331979122115895,
          -1.1559830542579275,
          1.5772819646789715,
          -0.25984296964278736,
          1.0390858679051702,
          -0.6520278543657485,
          1.0653763533133234,
          -0.4122669377041702,
          0.0013760273155446487,
          0.13381253402436236,
          -0.6447555619163449,
          0.37792047574193927,
          -2.0204643701988,
          0.11469767046781733,
          0.2804461252509056,
          0.2436637417779295,
          -0.4374641695700345,
          0.4466910722431926,
          2.1902908363556435
         ],
         "yaxis": "y12"
        },
        {
         "line": {
          "color": "rgba(128, 128, 128, 1.0)",
          "dash": "solid",
          "shape": "linear",
          "width": 1.3
         },
         "marker": {
          "size": 2,
          "symbol": "circle"
         },
         "mode": "markers",
         "name": "D",
         "text": "",
         "type": "scatter",
         "x": [
          -1.218991033261646,
          -0.5465765623202922,
          0.18132417432275671,
          -0.014585404257609841,
          0.1715182335092267,
          -1.3779384183098575,
          2.2490010504007203,
          -1.2937347379867639,
          0.645795456082042,
          -0.36282297531233015,
          -0.8830302929744168,
          0.3978544585571979,
          1.4573313754948551,
          -0.42499485568865564,
          0.3706190593531806,
          0.37736470261438537,
          0.4277275289247419,
          -0.16226827355695023,
          -0.058022745855864394,
          -1.8487874313355865,
          0.8022710961429018,
          -1.9470864824594507,
          -2.1131990933422515,
          -0.5106491158132542,
          1.3796907827063247,
          -0.2829133544458733,
          -0.598005788070867,
          0.985421725043829,
          -0.053580649651472724,
          0.6804644985751658,
          0.9481857380941411,
          -1.1146991830746134,
          1.0275502417998543,
          -1.457489960262967,
          0.23837190745798345,
          0.5128251402478308,
          0.6552122213363701,
          -3.1086824537421966,
          0.4291926070041237,
          0.7311268050114921,
          0.7146906973183577,
          0.23765346133515933,
          0.5636683723477607,
          -0.19560647211511367,
          -1.4721539885794437,
          -0.1676593178014201,
          0.4152099938863828,
          -0.9064861230077402,
          -0.5055774366498862,
          0.5349192709445101,
          2.1231913714510715,
          2.2707276001335392,
          -1.709501621834544,
          1.5200345414171992,
          -0.6180853646699377,
          1.3204585944952765,
          0.7672795518407083,
          -0.6968332170252055,
          0.23875081210284058,
          1.0277536622636916,
          -0.7671534331370783,
          -0.7377371573056383,
          1.4735944964229581,
          -1.3514547300791788,
          -0.11340112276702033,
          1.91749282262013,
          1.2314518894288216,
          0.23902470415773386,
          0.7729293278824075,
          0.027302940383040052,
          0.7883419106958499,
          -0.007678428674991606,
          -0.4679306148027131,
          -0.3137113795539161,
          0.5799497855130166,
          -0.4422423998075986,
          0.013049264772897765,
          1.1433034523669872,
          1.2086040894753496,
          1.234131361555419,
          -1.8422285316637823,
          0.33371425688076634,
          -1.0086403689251748,
          0.25408076638641586,
          -1.1537517610944619,
          0.11546173547730847,
          -0.32788866726597193,
          2.0331689908154784,
          0.34797807275311415,
          -1.251412065531357,
          0.9308890122198833,
          -0.8142474569278847,
          0.7762675608414903,
          0.8468274953365662,
          1.3011474374604695,
          0.05918586303413559,
          2.1512380068791446,
          1.5409210295246003,
          -1.4431005934720968,
          -1.0527879815155303
         ],
         "xaxis": "x13",
         "y": [
          -0.8733379686732633,
          0.22475225260711695,
          0.6003728631702283,
          -0.7475414849079879,
          -0.8731505829973676,
          0.8794751908632622,
          1.296856464902928,
          -0.9506100017110891,
          0.752827343619869,
          -1.1691130187985874,
          -0.8712647315318274,
          0.5636707451512812,
          -0.1710308114854158,
          -1.7284270524020178,
          -0.3243556032739408,
          -0.16943133213397807,
          -1.0171772198234792,
          1.5304562840453813,
          1.056722380873873,
          3.2089934521101906,
          0.5729850310454369,
          0.028372268084173743,
          -0.2151406424218395,
          -2.322619057508341,
          0.2533427669895896,
          0.07603831793752841,
          0.26380781727939784,
          -0.5164559164420952,
          -2.72594572061758,
          0.406426122275474,
          -1.2627246222217865,
          -0.9132968666759071,
          0.2539262943902931,
          1.4326200424242648,
          -0.37767853047554395,
          -1.0656203927411103,
          -0.05973524592289964,
          -1.7529754743037604,
          0.6068891984383418,
          -0.3879168068123651,
          -1.035013461891617,
          -1.743126195948102,
          -0.2918481438691077,
          -0.01512351099964492,
          0.25101023259815236,
          0.4085577002000313,
          1.1100131818513306,
          0.3360818394416731,
          -0.9548494324521819,
          2.2283342953425396,
          -0.9067222987945611,
          -0.7321078118365565,
          0.5514428455787548,
          -1.3630870736162113,
          1.018136184934407,
          0.21751250949153464,
          -0.3767115947121578,
          -0.5546640063079199,
          -0.8871416712895261,
          0.18312008628051119,
          0.1758129638643444,
          -2.0698039327466375,
          -2.293021317161217,
          -0.807571995301875,
          0.3040450616345944,
          1.5092880425580266,
          -0.8950246832042933,
          -0.5762162690274315,
          0.6949419055709126,
          1.0640067317219322,
          -0.4519146300615394,
          -0.21886174030688288,
          -0.8095655902907344,
          0.4986230829694079,
          0.5666132607080857,
          0.6026061625795713,
          -0.004757499389226333,
          0.3514419991162287,
          -0.281905126041759,
          0.8872631290195736,
          -0.22962566128815565,
          -1.017646111435563,
          -0.5635721343076957,
          0.3011979834291313,
          -0.24042255174804705,
          0.713671166459918,
          0.08503230912733772,
          0.7243525345541257,
          0.6447885187854636,
          0.39057435386990397,
          0.6983754191501598,
          -0.6092719601781813,
          1.1731475780318703,
          0.28246898876269433,
          -0.2315336569167173,
          -0.13757611784336787,
          0.5521933098305067,
          0.4305914371706155,
          0.8385826217826156,
          0.5184135563823262
         ],
         "yaxis": "y13"
        },
        {
         "line": {
          "color": "rgba(128, 128, 128, 1.0)",
          "dash": "solid",
          "shape": "linear",
          "width": 1.3
         },
         "marker": {
          "size": 2,
          "symbol": "circle"
         },
         "mode": "markers",
         "name": "D",
         "text": "",
         "type": "scatter",
         "x": [
          0.3419764734215199,
          -2.3116551242894983,
          1.3348751311612044,
          -0.1072796179888181,
          2.483217793824436,
          -0.0741119345885313,
          -1.6738723112564624,
          0.14713214486023077,
          0.640769561204283,
          0.4618918585952571,
          1.7079110887935436,
          -0.1707611901698053,
          0.6172860108755727,
          0.25794903136380476,
          -0.6988181776820083,
          -1.263302918452683,
          -0.045883990267492424,
          -0.8257294543546106,
          0.9600869708265687,
          0.5681263328757964,
          -0.3647234435365751,
          -2.2170174535344085,
          1.7049553191012643,
          -0.5537308376912038,
          -0.5893379099827436,
          -0.789750324269047,
          -0.5968772238779839,
          -0.2004912957144484,
          -0.6246266663795919,
          1.0541547531216344,
          1.1407786943515277,
          -0.3478718293512527,
          -0.4655854045314903,
          -1.0204625318491685,
          -0.17134797784339065,
          -2.004294224309604,
          -1.392027639421431,
          -1.8088906593188325,
          -1.7144334237148287,
          -0.828272087494066,
          0.11134914674790283,
          0.5563361994412729,
          0.11786737071859353,
          1.0283021269240364,
          -0.6844461103765496,
          0.6134588405344479,
          -1.6636278706256518,
          0.2354302397742566,
          0.4927510624220601,
          1.4458444853244878,
          -0.85488831932789,
          0.41631088070245303,
          0.8861235398691205,
          -0.7625248083567656,
          0.21295446005412047,
          1.202789392766879,
          -1.6552505758408658,
          0.671892072559935,
          -0.8744246595050262,
          1.899602505489602,
          -0.9895809299587186,
          -1.6374685722734121,
          -0.9557082919513292,
          0.33382359674876755,
          0.6439689050896489,
          1.1376245647727588,
          -1.3105163589059687,
          -0.6367229605275069,
          0.20988075534801515,
          0.5270543441369793,
          0.06317450408580289,
          0.4759314171495404,
          -0.3389952753783388,
          1.7627682347229436,
          -1.4433264556437697,
          -0.031462496251145354,
          0.633865880706928,
          1.3535256368079083,
          -0.4180120086025204,
          0.649673515838004,
          1.3975641015459965,
          0.1279457536374559,
          0.3990092190022796,
          0.44430579823054356,
          -0.8096813840515048,
          -0.11930671508494314,
          -1.7368783531904881,
          -0.7436696453065349,
          0.4937511254878508,
          -2.4396435356718817,
          1.2824265662085645,
          1.9556216542278397,
          -0.3268638798117112,
          -0.49065900845493565,
          0.9615252684456398,
          -1.4589162600753647,
          -0.6776441409243771,
          -0.8578568648111088,
          -0.7204412403943163,
          0.5339996751188443
         ],
         "xaxis": "x14",
         "y": [
          -0.8733379686732633,
          0.22475225260711695,
          0.6003728631702283,
          -0.7475414849079879,
          -0.8731505829973676,
          0.8794751908632622,
          1.296856464902928,
          -0.9506100017110891,
          0.752827343619869,
          -1.1691130187985874,
          -0.8712647315318274,
          0.5636707451512812,
          -0.1710308114854158,
          -1.7284270524020178,
          -0.3243556032739408,
          -0.16943133213397807,
          -1.0171772198234792,
          1.5304562840453813,
          1.056722380873873,
          3.2089934521101906,
          0.5729850310454369,
          0.028372268084173743,
          -0.2151406424218395,
          -2.322619057508341,
          0.2533427669895896,
          0.07603831793752841,
          0.26380781727939784,
          -0.5164559164420952,
          -2.72594572061758,
          0.406426122275474,
          -1.2627246222217865,
          -0.9132968666759071,
          0.2539262943902931,
          1.4326200424242648,
          -0.37767853047554395,
          -1.0656203927411103,
          -0.05973524592289964,
          -1.7529754743037604,
          0.6068891984383418,
          -0.3879168068123651,
          -1.035013461891617,
          -1.743126195948102,
          -0.2918481438691077,
          -0.01512351099964492,
          0.25101023259815236,
          0.4085577002000313,
          1.1100131818513306,
          0.3360818394416731,
          -0.9548494324521819,
          2.2283342953425396,
          -0.9067222987945611,
          -0.7321078118365565,
          0.5514428455787548,
          -1.3630870736162113,
          1.018136184934407,
          0.21751250949153464,
          -0.3767115947121578,
          -0.5546640063079199,
          -0.8871416712895261,
          0.18312008628051119,
          0.1758129638643444,
          -2.0698039327466375,
          -2.293021317161217,
          -0.807571995301875,
          0.3040450616345944,
          1.5092880425580266,
          -0.8950246832042933,
          -0.5762162690274315,
          0.6949419055709126,
          1.0640067317219322,
          -0.4519146300615394,
          -0.21886174030688288,
          -0.8095655902907344,
          0.4986230829694079,
          0.5666132607080857,
          0.6026061625795713,
          -0.004757499389226333,
          0.3514419991162287,
          -0.281905126041759,
          0.8872631290195736,
          -0.22962566128815565,
          -1.017646111435563,
          -0.5635721343076957,
          0.3011979834291313,
          -0.24042255174804705,
          0.713671166459918,
          0.08503230912733772,
          0.7243525345541257,
          0.6447885187854636,
          0.39057435386990397,
          0.6983754191501598,
          -0.6092719601781813,
          1.1731475780318703,
          0.28246898876269433,
          -0.2315336569167173,
          -0.13757611784336787,
          0.5521933098305067,
          0.4305914371706155,
          0.8385826217826156,
          0.5184135563823262
         ],
         "yaxis": "y14"
        },
        {
         "line": {
          "color": "rgba(128, 128, 128, 1.0)",
          "dash": "solid",
          "shape": "linear",
          "width": 1.3
         },
         "marker": {
          "size": 2,
          "symbol": "circle"
         },
         "mode": "markers",
         "name": "D",
         "text": "",
         "type": "scatter",
         "x": [
          -0.24686037129796642,
          -0.4795152376078478,
          0.14944367353787624,
          -0.6853527509718431,
          -1.7028468412412232,
          -0.7798818649599734,
          -0.19234053531112388,
          1.7804995095213754,
          -0.04036287646092673,
          -0.723546250475408,
          1.2155456251649457,
          1.0232165078548712,
          -1.0911591939514995,
          -1.4002945185590945,
          -0.9844024695347182,
          -2.5047733815436293,
          0.5891949946312317,
          0.8313392608625283,
          -2.2746833841723615,
          1.6541512665364435,
          0.21784756601440292,
          0.17445575961753562,
          -1.836852104607844,
          0.16325692077638956,
          -0.7935380739116973,
          0.027907503343331128,
          0.8538002676217139,
          -0.6241359044203422,
          -0.23572394655403262,
          0.8594923322254395,
          -1.447564171823515,
          -0.7852302212592579,
          0.497907566479336,
          -0.7093121216228477,
          -0.19087085966957418,
          -0.9331632945694524,
          -0.4104664553598608,
          -0.7903672196642071,
          -1.3552161912919363,
          -0.7763144272697288,
          0.49976133703708603,
          1.1611012988017406,
          -1.735752908375946,
          1.6437986218317118,
          -0.3017809423983048,
          -1.0826105475980088,
          0.016447894583500777,
          0.6202116503828169,
          0.2106450284731047,
          0.6221618836777782,
          -1.2464583082253475,
          -1.966314968076596,
          0.24388177796065524,
          -1.0376743625885156,
          -1.5203900572276658,
          1.4884300136739879,
          0.4944193659097848,
          -0.23129290772190259,
          1.4419410558315484,
          -1.0292185001501921,
          -0.3751839069304503,
          0.09924120865871619,
          0.028048690524174302,
          0.8402965979079163,
          -0.4671039314424817,
          0.9047348889601571,
          -0.6907026203871445,
          0.6262362359171377,
          -0.6322554988488555,
          0.1978533428520716,
          -1.0530917743988188,
          0.16532577645258734,
          0.2518417349615779,
          -1.2022077742857284,
          -0.12399051256752064,
          -0.6447977621584156,
          -0.6698689412931773,
          -1.0581532991225995,
          0.6314371002384549,
          -1.7864811633511934,
          0.39332895131897516,
          -0.5331979122115895,
          -1.1559830542579275,
          1.5772819646789715,
          -0.25984296964278736,
          1.0390858679051702,
          -0.6520278543657485,
          1.0653763533133234,
          -0.4122669377041702,
          0.0013760273155446487,
          0.13381253402436236,
          -0.6447555619163449,
          0.37792047574193927,
          -2.0204643701988,
          0.11469767046781733,
          0.2804461252509056,
          0.2436637417779295,
          -0.4374641695700345,
          0.4466910722431926,
          2.1902908363556435
         ],
         "xaxis": "x15",
         "y": [
          -0.8733379686732633,
          0.22475225260711695,
          0.6003728631702283,
          -0.7475414849079879,
          -0.8731505829973676,
          0.8794751908632622,
          1.296856464902928,
          -0.9506100017110891,
          0.752827343619869,
          -1.1691130187985874,
          -0.8712647315318274,
          0.5636707451512812,
          -0.1710308114854158,
          -1.7284270524020178,
          -0.3243556032739408,
          -0.16943133213397807,
          -1.0171772198234792,
          1.5304562840453813,
          1.056722380873873,
          3.2089934521101906,
          0.5729850310454369,
          0.028372268084173743,
          -0.2151406424218395,
          -2.322619057508341,
          0.2533427669895896,
          0.07603831793752841,
          0.26380781727939784,
          -0.5164559164420952,
          -2.72594572061758,
          0.406426122275474,
          -1.2627246222217865,
          -0.9132968666759071,
          0.2539262943902931,
          1.4326200424242648,
          -0.37767853047554395,
          -1.0656203927411103,
          -0.05973524592289964,
          -1.7529754743037604,
          0.6068891984383418,
          -0.3879168068123651,
          -1.035013461891617,
          -1.743126195948102,
          -0.2918481438691077,
          -0.01512351099964492,
          0.25101023259815236,
          0.4085577002000313,
          1.1100131818513306,
          0.3360818394416731,
          -0.9548494324521819,
          2.2283342953425396,
          -0.9067222987945611,
          -0.7321078118365565,
          0.5514428455787548,
          -1.3630870736162113,
          1.018136184934407,
          0.21751250949153464,
          -0.3767115947121578,
          -0.5546640063079199,
          -0.8871416712895261,
          0.18312008628051119,
          0.1758129638643444,
          -2.0698039327466375,
          -2.293021317161217,
          -0.807571995301875,
          0.3040450616345944,
          1.5092880425580266,
          -0.8950246832042933,
          -0.5762162690274315,
          0.6949419055709126,
          1.0640067317219322,
          -0.4519146300615394,
          -0.21886174030688288,
          -0.8095655902907344,
          0.4986230829694079,
          0.5666132607080857,
          0.6026061625795713,
          -0.004757499389226333,
          0.3514419991162287,
          -0.281905126041759,
          0.8872631290195736,
          -0.22962566128815565,
          -1.017646111435563,
          -0.5635721343076957,
          0.3011979834291313,
          -0.24042255174804705,
          0.713671166459918,
          0.08503230912733772,
          0.7243525345541257,
          0.6447885187854636,
          0.39057435386990397,
          0.6983754191501598,
          -0.6092719601781813,
          1.1731475780318703,
          0.28246898876269433,
          -0.2315336569167173,
          -0.13757611784336787,
          0.5521933098305067,
          0.4305914371706155,
          0.8385826217826156,
          0.5184135563823262
         ],
         "yaxis": "y15"
        },
        {
         "histfunc": "count",
         "histnorm": "",
         "marker": {
          "color": "rgba(128, 0, 128, 1.0)",
          "line": {
           "color": "#4D5663",
           "width": 1.3
          }
         },
         "name": "D",
         "nbinsx": 10,
         "opacity": 0.8,
         "orientation": "v",
         "type": "histogram",
         "x": [
          -0.8733379686732633,
          0.22475225260711695,
          0.6003728631702283,
          -0.7475414849079879,
          -0.8731505829973676,
          0.8794751908632622,
          1.296856464902928,
          -0.9506100017110891,
          0.752827343619869,
          -1.1691130187985874,
          -0.8712647315318274,
          0.5636707451512812,
          -0.1710308114854158,
          -1.7284270524020178,
          -0.3243556032739408,
          -0.16943133213397807,
          -1.0171772198234792,
          1.5304562840453813,
          1.056722380873873,
          3.2089934521101906,
          0.5729850310454369,
          0.028372268084173743,
          -0.2151406424218395,
          -2.322619057508341,
          0.2533427669895896,
          0.07603831793752841,
          0.26380781727939784,
          -0.5164559164420952,
          -2.72594572061758,
          0.406426122275474,
          -1.2627246222217865,
          -0.9132968666759071,
          0.2539262943902931,
          1.4326200424242648,
          -0.37767853047554395,
          -1.0656203927411103,
          -0.05973524592289964,
          -1.7529754743037604,
          0.6068891984383418,
          -0.3879168068123651,
          -1.035013461891617,
          -1.743126195948102,
          -0.2918481438691077,
          -0.01512351099964492,
          0.25101023259815236,
          0.4085577002000313,
          1.1100131818513306,
          0.3360818394416731,
          -0.9548494324521819,
          2.2283342953425396,
          -0.9067222987945611,
          -0.7321078118365565,
          0.5514428455787548,
          -1.3630870736162113,
          1.018136184934407,
          0.21751250949153464,
          -0.3767115947121578,
          -0.5546640063079199,
          -0.8871416712895261,
          0.18312008628051119,
          0.1758129638643444,
          -2.0698039327466375,
          -2.293021317161217,
          -0.807571995301875,
          0.3040450616345944,
          1.5092880425580266,
          -0.8950246832042933,
          -0.5762162690274315,
          0.6949419055709126,
          1.0640067317219322,
          -0.4519146300615394,
          -0.21886174030688288,
          -0.8095655902907344,
          0.4986230829694079,
          0.5666132607080857,
          0.6026061625795713,
          -0.004757499389226333,
          0.3514419991162287,
          -0.281905126041759,
          0.8872631290195736,
          -0.22962566128815565,
          -1.017646111435563,
          -0.5635721343076957,
          0.3011979834291313,
          -0.24042255174804705,
          0.713671166459918,
          0.08503230912733772,
          0.7243525345541257,
          0.6447885187854636,
          0.39057435386990397,
          0.6983754191501598,
          -0.6092719601781813,
          1.1731475780318703,
          0.28246898876269433,
          -0.2315336569167173,
          -0.13757611784336787,
          0.5521933098305067,
          0.4305914371706155,
          0.8385826217826156,
          0.5184135563823262
         ],
         "xaxis": "x16",
         "yaxis": "y16"
        }
       ],
       "layout": {
        "bargap": 0.02,
        "legend": {
         "bgcolor": "#F5F6F9",
         "font": {
          "color": "#4D5663"
         }
        },
        "paper_bgcolor": "#F5F6F9",
        "plot_bgcolor": "#F5F6F9",
        "showlegend": false,
        "template": {
         "data": {
          "bar": [
           {
            "error_x": {
             "color": "#2a3f5f"
            },
            "error_y": {
             "color": "#2a3f5f"
            },
            "marker": {
             "line": {
              "color": "#E5ECF6",
              "width": 0.5
             }
            },
            "type": "bar"
           }
          ],
          "barpolar": [
           {
            "marker": {
             "line": {
              "color": "#E5ECF6",
              "width": 0.5
             }
            },
            "type": "barpolar"
           }
          ],
          "carpet": [
           {
            "aaxis": {
             "endlinecolor": "#2a3f5f",
             "gridcolor": "white",
             "linecolor": "white",
             "minorgridcolor": "white",
             "startlinecolor": "#2a3f5f"
            },
            "baxis": {
             "endlinecolor": "#2a3f5f",
             "gridcolor": "white",
             "linecolor": "white",
             "minorgridcolor": "white",
             "startlinecolor": "#2a3f5f"
            },
            "type": "carpet"
           }
          ],
          "choropleth": [
           {
            "colorbar": {
             "outlinewidth": 0,
             "ticks": ""
            },
            "type": "choropleth"
           }
          ],
          "contour": [
           {
            "colorbar": {
             "outlinewidth": 0,
             "ticks": ""
            },
            "colorscale": [
             [
              0,
              "#0d0887"
             ],
             [
              0.1111111111111111,
              "#46039f"
             ],
             [
              0.2222222222222222,
              "#7201a8"
             ],
             [
              0.3333333333333333,
              "#9c179e"
             ],
             [
              0.4444444444444444,
              "#bd3786"
             ],
             [
              0.5555555555555556,
              "#d8576b"
             ],
             [
              0.6666666666666666,
              "#ed7953"
             ],
             [
              0.7777777777777778,
              "#fb9f3a"
             ],
             [
              0.8888888888888888,
              "#fdca26"
             ],
             [
              1,
              "#f0f921"
             ]
            ],
            "type": "contour"
           }
          ],
          "contourcarpet": [
           {
            "colorbar": {
             "outlinewidth": 0,
             "ticks": ""
            },
            "type": "contourcarpet"
           }
          ],
          "heatmap": [
           {
            "colorbar": {
             "outlinewidth": 0,
             "ticks": ""
            },
            "colorscale": [
             [
              0,
              "#0d0887"
             ],
             [
              0.1111111111111111,
              "#46039f"
             ],
             [
              0.2222222222222222,
              "#7201a8"
             ],
             [
              0.3333333333333333,
              "#9c179e"
             ],
             [
              0.4444444444444444,
              "#bd3786"
             ],
             [
              0.5555555555555556,
              "#d8576b"
             ],
             [
              0.6666666666666666,
              "#ed7953"
             ],
             [
              0.7777777777777778,
              "#fb9f3a"
             ],
             [
              0.8888888888888888,
              "#fdca26"
             ],
             [
              1,
              "#f0f921"
             ]
            ],
            "type": "heatmap"
           }
          ],
          "heatmapgl": [
           {
            "colorbar": {
             "outlinewidth": 0,
             "ticks": ""
            },
            "colorscale": [
             [
              0,
              "#0d0887"
             ],
             [
              0.1111111111111111,
              "#46039f"
             ],
             [
              0.2222222222222222,
              "#7201a8"
             ],
             [
              0.3333333333333333,
              "#9c179e"
             ],
             [
              0.4444444444444444,
              "#bd3786"
             ],
             [
              0.5555555555555556,
              "#d8576b"
             ],
             [
              0.6666666666666666,
              "#ed7953"
             ],
             [
              0.7777777777777778,
              "#fb9f3a"
             ],
             [
              0.8888888888888888,
              "#fdca26"
             ],
             [
              1,
              "#f0f921"
             ]
            ],
            "type": "heatmapgl"
           }
          ],
          "histogram": [
           {
            "marker": {
             "colorbar": {
              "outlinewidth": 0,
              "ticks": ""
             }
            },
            "type": "histogram"
           }
          ],
          "histogram2d": [
           {
            "colorbar": {
             "outlinewidth": 0,
             "ticks": ""
            },
            "colorscale": [
             [
              0,
              "#0d0887"
             ],
             [
              0.1111111111111111,
              "#46039f"
             ],
             [
              0.2222222222222222,
              "#7201a8"
             ],
             [
              0.3333333333333333,
              "#9c179e"
             ],
             [
              0.4444444444444444,
              "#bd3786"
             ],
             [
              0.5555555555555556,
              "#d8576b"
             ],
             [
              0.6666666666666666,
              "#ed7953"
             ],
             [
              0.7777777777777778,
              "#fb9f3a"
             ],
             [
              0.8888888888888888,
              "#fdca26"
             ],
             [
              1,
              "#f0f921"
             ]
            ],
            "type": "histogram2d"
           }
          ],
          "histogram2dcontour": [
           {
            "colorbar": {
             "outlinewidth": 0,
             "ticks": ""
            },
            "colorscale": [
             [
              0,
              "#0d0887"
             ],
             [
              0.1111111111111111,
              "#46039f"
             ],
             [
              0.2222222222222222,
              "#7201a8"
             ],
             [
              0.3333333333333333,
              "#9c179e"
             ],
             [
              0.4444444444444444,
              "#bd3786"
             ],
             [
              0.5555555555555556,
              "#d8576b"
             ],
             [
              0.6666666666666666,
              "#ed7953"
             ],
             [
              0.7777777777777778,
              "#fb9f3a"
             ],
             [
              0.8888888888888888,
              "#fdca26"
             ],
             [
              1,
              "#f0f921"
             ]
            ],
            "type": "histogram2dcontour"
           }
          ],
          "mesh3d": [
           {
            "colorbar": {
             "outlinewidth": 0,
             "ticks": ""
            },
            "type": "mesh3d"
           }
          ],
          "parcoords": [
           {
            "line": {
             "colorbar": {
              "outlinewidth": 0,
              "ticks": ""
             }
            },
            "type": "parcoords"
           }
          ],
          "pie": [
           {
            "automargin": true,
            "type": "pie"
           }
          ],
          "scatter": [
           {
            "marker": {
             "colorbar": {
              "outlinewidth": 0,
              "ticks": ""
             }
            },
            "type": "scatter"
           }
          ],
          "scatter3d": [
           {
            "line": {
             "colorbar": {
              "outlinewidth": 0,
              "ticks": ""
             }
            },
            "marker": {
             "colorbar": {
              "outlinewidth": 0,
              "ticks": ""
             }
            },
            "type": "scatter3d"
           }
          ],
          "scattercarpet": [
           {
            "marker": {
             "colorbar": {
              "outlinewidth": 0,
              "ticks": ""
             }
            },
            "type": "scattercarpet"
           }
          ],
          "scattergeo": [
           {
            "marker": {
             "colorbar": {
              "outlinewidth": 0,
              "ticks": ""
             }
            },
            "type": "scattergeo"
           }
          ],
          "scattergl": [
           {
            "marker": {
             "colorbar": {
              "outlinewidth": 0,
              "ticks": ""
             }
            },
            "type": "scattergl"
           }
          ],
          "scattermapbox": [
           {
            "marker": {
             "colorbar": {
              "outlinewidth": 0,
              "ticks": ""
             }
            },
            "type": "scattermapbox"
           }
          ],
          "scatterpolar": [
           {
            "marker": {
             "colorbar": {
              "outlinewidth": 0,
              "ticks": ""
             }
            },
            "type": "scatterpolar"
           }
          ],
          "scatterpolargl": [
           {
            "marker": {
             "colorbar": {
              "outlinewidth": 0,
              "ticks": ""
             }
            },
            "type": "scatterpolargl"
           }
          ],
          "scatterternary": [
           {
            "marker": {
             "colorbar": {
              "outlinewidth": 0,
              "ticks": ""
             }
            },
            "type": "scatterternary"
           }
          ],
          "surface": [
           {
            "colorbar": {
             "outlinewidth": 0,
             "ticks": ""
            },
            "colorscale": [
             [
              0,
              "#0d0887"
             ],
             [
              0.1111111111111111,
              "#46039f"
             ],
             [
              0.2222222222222222,
              "#7201a8"
             ],
             [
              0.3333333333333333,
              "#9c179e"
             ],
             [
              0.4444444444444444,
              "#bd3786"
             ],
             [
              0.5555555555555556,
              "#d8576b"
             ],
             [
              0.6666666666666666,
              "#ed7953"
             ],
             [
              0.7777777777777778,
              "#fb9f3a"
             ],
             [
              0.8888888888888888,
              "#fdca26"
             ],
             [
              1,
              "#f0f921"
             ]
            ],
            "type": "surface"
           }
          ],
          "table": [
           {
            "cells": {
             "fill": {
              "color": "#EBF0F8"
             },
             "line": {
              "color": "white"
             }
            },
            "header": {
             "fill": {
              "color": "#C8D4E3"
             },
             "line": {
              "color": "white"
             }
            },
            "type": "table"
           }
          ]
         },
         "layout": {
          "annotationdefaults": {
           "arrowcolor": "#2a3f5f",
           "arrowhead": 0,
           "arrowwidth": 1
          },
          "coloraxis": {
           "colorbar": {
            "outlinewidth": 0,
            "ticks": ""
           }
          },
          "colorscale": {
           "diverging": [
            [
             0,
             "#8e0152"
            ],
            [
             0.1,
             "#c51b7d"
            ],
            [
             0.2,
             "#de77ae"
            ],
            [
             0.3,
             "#f1b6da"
            ],
            [
             0.4,
             "#fde0ef"
            ],
            [
             0.5,
             "#f7f7f7"
            ],
            [
             0.6,
             "#e6f5d0"
            ],
            [
             0.7,
             "#b8e186"
            ],
            [
             0.8,
             "#7fbc41"
            ],
            [
             0.9,
             "#4d9221"
            ],
            [
             1,
             "#276419"
            ]
           ],
           "sequential": [
            [
             0,
             "#0d0887"
            ],
            [
             0.1111111111111111,
             "#46039f"
            ],
            [
             0.2222222222222222,
             "#7201a8"
            ],
            [
             0.3333333333333333,
             "#9c179e"
            ],
            [
             0.4444444444444444,
             "#bd3786"
            ],
            [
             0.5555555555555556,
             "#d8576b"
            ],
            [
             0.6666666666666666,
             "#ed7953"
            ],
            [
             0.7777777777777778,
             "#fb9f3a"
            ],
            [
             0.8888888888888888,
             "#fdca26"
            ],
            [
             1,
             "#f0f921"
            ]
           ],
           "sequentialminus": [
            [
             0,
             "#0d0887"
            ],
            [
             0.1111111111111111,
             "#46039f"
            ],
            [
             0.2222222222222222,
             "#7201a8"
            ],
            [
             0.3333333333333333,
             "#9c179e"
            ],
            [
             0.4444444444444444,
             "#bd3786"
            ],
            [
             0.5555555555555556,
             "#d8576b"
            ],
            [
             0.6666666666666666,
             "#ed7953"
            ],
            [
             0.7777777777777778,
             "#fb9f3a"
            ],
            [
             0.8888888888888888,
             "#fdca26"
            ],
            [
             1,
             "#f0f921"
            ]
           ]
          },
          "colorway": [
           "#636efa",
           "#EF553B",
           "#00cc96",
           "#ab63fa",
           "#FFA15A",
           "#19d3f3",
           "#FF6692",
           "#B6E880",
           "#FF97FF",
           "#FECB52"
          ],
          "font": {
           "color": "#2a3f5f"
          },
          "geo": {
           "bgcolor": "white",
           "lakecolor": "white",
           "landcolor": "#E5ECF6",
           "showlakes": true,
           "showland": true,
           "subunitcolor": "white"
          },
          "hoverlabel": {
           "align": "left"
          },
          "hovermode": "closest",
          "mapbox": {
           "style": "light"
          },
          "paper_bgcolor": "white",
          "plot_bgcolor": "#E5ECF6",
          "polar": {
           "angularaxis": {
            "gridcolor": "white",
            "linecolor": "white",
            "ticks": ""
           },
           "bgcolor": "#E5ECF6",
           "radialaxis": {
            "gridcolor": "white",
            "linecolor": "white",
            "ticks": ""
           }
          },
          "scene": {
           "xaxis": {
            "backgroundcolor": "#E5ECF6",
            "gridcolor": "white",
            "gridwidth": 2,
            "linecolor": "white",
            "showbackground": true,
            "ticks": "",
            "zerolinecolor": "white"
           },
           "yaxis": {
            "backgroundcolor": "#E5ECF6",
            "gridcolor": "white",
            "gridwidth": 2,
            "linecolor": "white",
            "showbackground": true,
            "ticks": "",
            "zerolinecolor": "white"
           },
           "zaxis": {
            "backgroundcolor": "#E5ECF6",
            "gridcolor": "white",
            "gridwidth": 2,
            "linecolor": "white",
            "showbackground": true,
            "ticks": "",
            "zerolinecolor": "white"
           }
          },
          "shapedefaults": {
           "line": {
            "color": "#2a3f5f"
           }
          },
          "ternary": {
           "aaxis": {
            "gridcolor": "white",
            "linecolor": "white",
            "ticks": ""
           },
           "baxis": {
            "gridcolor": "white",
            "linecolor": "white",
            "ticks": ""
           },
           "bgcolor": "#E5ECF6",
           "caxis": {
            "gridcolor": "white",
            "linecolor": "white",
            "ticks": ""
           }
          },
          "title": {
           "x": 0.05
          },
          "xaxis": {
           "automargin": true,
           "gridcolor": "white",
           "linecolor": "white",
           "ticks": "",
           "title": {
            "standoff": 15
           },
           "zerolinecolor": "white",
           "zerolinewidth": 2
          },
          "yaxis": {
           "automargin": true,
           "gridcolor": "white",
           "linecolor": "white",
           "ticks": "",
           "title": {
            "standoff": 15
           },
           "zerolinecolor": "white",
           "zerolinewidth": 2
          }
         }
        },
        "title": {
         "font": {
          "color": "#4D5663"
         }
        },
        "xaxis": {
         "anchor": "y",
         "domain": [
          0,
          0.2125
         ],
         "gridcolor": "#E1E5ED",
         "showgrid": false,
         "tickfont": {
          "color": "#4D5663"
         },
         "title": {
          "font": {
           "color": "#4D5663"
          },
          "text": ""
         },
         "zerolinecolor": "#E1E5ED"
        },
        "xaxis10": {
         "anchor": "y10",
         "domain": [
          0.2625,
          0.475
         ],
         "gridcolor": "#E1E5ED",
         "showgrid": false,
         "tickfont": {
          "color": "#4D5663"
         },
         "title": {
          "font": {
           "color": "#4D5663"
          },
          "text": ""
         },
         "zerolinecolor": "#E1E5ED"
        },
        "xaxis11": {
         "anchor": "y11",
         "domain": [
          0.525,
          0.7375
         ],
         "gridcolor": "#E1E5ED",
         "showgrid": false,
         "tickfont": {
          "color": "#4D5663"
         },
         "title": {
          "font": {
           "color": "#4D5663"
          },
          "text": ""
         },
         "zerolinecolor": "#E1E5ED"
        },
        "xaxis12": {
         "anchor": "y12",
         "domain": [
          0.7875,
          1
         ],
         "gridcolor": "#E1E5ED",
         "showgrid": false,
         "tickfont": {
          "color": "#4D5663"
         },
         "title": {
          "font": {
           "color": "#4D5663"
          },
          "text": ""
         },
         "zerolinecolor": "#E1E5ED"
        },
        "xaxis13": {
         "anchor": "y13",
         "domain": [
          0,
          0.2125
         ],
         "gridcolor": "#E1E5ED",
         "showgrid": false,
         "tickfont": {
          "color": "#4D5663"
         },
         "title": {
          "font": {
           "color": "#4D5663"
          },
          "text": ""
         },
         "zerolinecolor": "#E1E5ED"
        },
        "xaxis14": {
         "anchor": "y14",
         "domain": [
          0.2625,
          0.475
         ],
         "gridcolor": "#E1E5ED",
         "showgrid": false,
         "tickfont": {
          "color": "#4D5663"
         },
         "title": {
          "font": {
           "color": "#4D5663"
          },
          "text": ""
         },
         "zerolinecolor": "#E1E5ED"
        },
        "xaxis15": {
         "anchor": "y15",
         "domain": [
          0.525,
          0.7375
         ],
         "gridcolor": "#E1E5ED",
         "showgrid": false,
         "tickfont": {
          "color": "#4D5663"
         },
         "title": {
          "font": {
           "color": "#4D5663"
          },
          "text": ""
         },
         "zerolinecolor": "#E1E5ED"
        },
        "xaxis16": {
         "anchor": "y16",
         "domain": [
          0.7875,
          1
         ],
         "gridcolor": "#E1E5ED",
         "showgrid": false,
         "tickfont": {
          "color": "#4D5663"
         },
         "title": {
          "font": {
           "color": "#4D5663"
          },
          "text": ""
         },
         "zerolinecolor": "#E1E5ED"
        },
        "xaxis2": {
         "anchor": "y2",
         "domain": [
          0.2625,
          0.475
         ],
         "gridcolor": "#E1E5ED",
         "showgrid": false,
         "tickfont": {
          "color": "#4D5663"
         },
         "title": {
          "font": {
           "color": "#4D5663"
          },
          "text": ""
         },
         "zerolinecolor": "#E1E5ED"
        },
        "xaxis3": {
         "anchor": "y3",
         "domain": [
          0.525,
          0.7375
         ],
         "gridcolor": "#E1E5ED",
         "showgrid": false,
         "tickfont": {
          "color": "#4D5663"
         },
         "title": {
          "font": {
           "color": "#4D5663"
          },
          "text": ""
         },
         "zerolinecolor": "#E1E5ED"
        },
        "xaxis4": {
         "anchor": "y4",
         "domain": [
          0.7875,
          1
         ],
         "gridcolor": "#E1E5ED",
         "showgrid": false,
         "tickfont": {
          "color": "#4D5663"
         },
         "title": {
          "font": {
           "color": "#4D5663"
          },
          "text": ""
         },
         "zerolinecolor": "#E1E5ED"
        },
        "xaxis5": {
         "anchor": "y5",
         "domain": [
          0,
          0.2125
         ],
         "gridcolor": "#E1E5ED",
         "showgrid": false,
         "tickfont": {
          "color": "#4D5663"
         },
         "title": {
          "font": {
           "color": "#4D5663"
          },
          "text": ""
         },
         "zerolinecolor": "#E1E5ED"
        },
        "xaxis6": {
         "anchor": "y6",
         "domain": [
          0.2625,
          0.475
         ],
         "gridcolor": "#E1E5ED",
         "showgrid": false,
         "tickfont": {
          "color": "#4D5663"
         },
         "title": {
          "font": {
           "color": "#4D5663"
          },
          "text": ""
         },
         "zerolinecolor": "#E1E5ED"
        },
        "xaxis7": {
         "anchor": "y7",
         "domain": [
          0.525,
          0.7375
         ],
         "gridcolor": "#E1E5ED",
         "showgrid": false,
         "tickfont": {
          "color": "#4D5663"
         },
         "title": {
          "font": {
           "color": "#4D5663"
          },
          "text": ""
         },
         "zerolinecolor": "#E1E5ED"
        },
        "xaxis8": {
         "anchor": "y8",
         "domain": [
          0.7875,
          1
         ],
         "gridcolor": "#E1E5ED",
         "showgrid": false,
         "tickfont": {
          "color": "#4D5663"
         },
         "title": {
          "font": {
           "color": "#4D5663"
          },
          "text": ""
         },
         "zerolinecolor": "#E1E5ED"
        },
        "xaxis9": {
         "anchor": "y9",
         "domain": [
          0,
          0.2125
         ],
         "gridcolor": "#E1E5ED",
         "showgrid": false,
         "tickfont": {
          "color": "#4D5663"
         },
         "title": {
          "font": {
           "color": "#4D5663"
          },
          "text": ""
         },
         "zerolinecolor": "#E1E5ED"
        },
        "yaxis": {
         "anchor": "x",
         "domain": [
          0.8025,
          1
         ],
         "gridcolor": "#E1E5ED",
         "showgrid": false,
         "tickfont": {
          "color": "#4D5663"
         },
         "title": {
          "font": {
           "color": "#4D5663"
          },
          "text": ""
         },
         "zerolinecolor": "#E1E5ED"
        },
        "yaxis10": {
         "anchor": "x10",
         "domain": [
          0.2675,
          0.465
         ],
         "gridcolor": "#E1E5ED",
         "showgrid": false,
         "tickfont": {
          "color": "#4D5663"
         },
         "title": {
          "font": {
           "color": "#4D5663"
          },
          "text": ""
         },
         "zerolinecolor": "#E1E5ED"
        },
        "yaxis11": {
         "anchor": "x11",
         "domain": [
          0.2675,
          0.465
         ],
         "gridcolor": "#E1E5ED",
         "showgrid": false,
         "tickfont": {
          "color": "#4D5663"
         },
         "title": {
          "font": {
           "color": "#4D5663"
          },
          "text": ""
         },
         "zerolinecolor": "#E1E5ED"
        },
        "yaxis12": {
         "anchor": "x12",
         "domain": [
          0.2675,
          0.465
         ],
         "gridcolor": "#E1E5ED",
         "showgrid": false,
         "tickfont": {
          "color": "#4D5663"
         },
         "title": {
          "font": {
           "color": "#4D5663"
          },
          "text": ""
         },
         "zerolinecolor": "#E1E5ED"
        },
        "yaxis13": {
         "anchor": "x13",
         "domain": [
          0,
          0.1975
         ],
         "gridcolor": "#E1E5ED",
         "showgrid": false,
         "tickfont": {
          "color": "#4D5663"
         },
         "title": {
          "font": {
           "color": "#4D5663"
          },
          "text": ""
         },
         "zerolinecolor": "#E1E5ED"
        },
        "yaxis14": {
         "anchor": "x14",
         "domain": [
          0,
          0.1975
         ],
         "gridcolor": "#E1E5ED",
         "showgrid": false,
         "tickfont": {
          "color": "#4D5663"
         },
         "title": {
          "font": {
           "color": "#4D5663"
          },
          "text": ""
         },
         "zerolinecolor": "#E1E5ED"
        },
        "yaxis15": {
         "anchor": "x15",
         "domain": [
          0,
          0.1975
         ],
         "gridcolor": "#E1E5ED",
         "showgrid": false,
         "tickfont": {
          "color": "#4D5663"
         },
         "title": {
          "font": {
           "color": "#4D5663"
          },
          "text": ""
         },
         "zerolinecolor": "#E1E5ED"
        },
        "yaxis16": {
         "anchor": "x16",
         "domain": [
          0,
          0.1975
         ],
         "gridcolor": "#E1E5ED",
         "showgrid": false,
         "tickfont": {
          "color": "#4D5663"
         },
         "title": {
          "font": {
           "color": "#4D5663"
          },
          "text": ""
         },
         "zerolinecolor": "#E1E5ED"
        },
        "yaxis2": {
         "anchor": "x2",
         "domain": [
          0.8025,
          1
         ],
         "gridcolor": "#E1E5ED",
         "showgrid": false,
         "tickfont": {
          "color": "#4D5663"
         },
         "title": {
          "font": {
           "color": "#4D5663"
          },
          "text": ""
         },
         "zerolinecolor": "#E1E5ED"
        },
        "yaxis3": {
         "anchor": "x3",
         "domain": [
          0.8025,
          1
         ],
         "gridcolor": "#E1E5ED",
         "showgrid": false,
         "tickfont": {
          "color": "#4D5663"
         },
         "title": {
          "font": {
           "color": "#4D5663"
          },
          "text": ""
         },
         "zerolinecolor": "#E1E5ED"
        },
        "yaxis4": {
         "anchor": "x4",
         "domain": [
          0.8025,
          1
         ],
         "gridcolor": "#E1E5ED",
         "showgrid": false,
         "tickfont": {
          "color": "#4D5663"
         },
         "title": {
          "font": {
           "color": "#4D5663"
          },
          "text": ""
         },
         "zerolinecolor": "#E1E5ED"
        },
        "yaxis5": {
         "anchor": "x5",
         "domain": [
          0.535,
          0.7325
         ],
         "gridcolor": "#E1E5ED",
         "showgrid": false,
         "tickfont": {
          "color": "#4D5663"
         },
         "title": {
          "font": {
           "color": "#4D5663"
          },
          "text": ""
         },
         "zerolinecolor": "#E1E5ED"
        },
        "yaxis6": {
         "anchor": "x6",
         "domain": [
          0.535,
          0.7325
         ],
         "gridcolor": "#E1E5ED",
         "showgrid": false,
         "tickfont": {
          "color": "#4D5663"
         },
         "title": {
          "font": {
           "color": "#4D5663"
          },
          "text": ""
         },
         "zerolinecolor": "#E1E5ED"
        },
        "yaxis7": {
         "anchor": "x7",
         "domain": [
          0.535,
          0.7325
         ],
         "gridcolor": "#E1E5ED",
         "showgrid": false,
         "tickfont": {
          "color": "#4D5663"
         },
         "title": {
          "font": {
           "color": "#4D5663"
          },
          "text": ""
         },
         "zerolinecolor": "#E1E5ED"
        },
        "yaxis8": {
         "anchor": "x8",
         "domain": [
          0.535,
          0.7325
         ],
         "gridcolor": "#E1E5ED",
         "showgrid": false,
         "tickfont": {
          "color": "#4D5663"
         },
         "title": {
          "font": {
           "color": "#4D5663"
          },
          "text": ""
         },
         "zerolinecolor": "#E1E5ED"
        },
        "yaxis9": {
         "anchor": "x9",
         "domain": [
          0.2675,
          0.465
         ],
         "gridcolor": "#E1E5ED",
         "showgrid": false,
         "tickfont": {
          "color": "#4D5663"
         },
         "title": {
          "font": {
           "color": "#4D5663"
          },
          "text": ""
         },
         "zerolinecolor": "#E1E5ED"
        }
       }
      },
      "text/html": [
       "<div>\n",
       "        \n",
       "        \n",
       "            <div id=\"2576d73a-a6df-4d68-b3bc-8667707f9e08\" class=\"plotly-graph-div\" style=\"height:525px; width:100%;\"></div>\n",
       "            <script type=\"text/javascript\">\n",
       "                require([\"plotly\"], function(Plotly) {\n",
       "                    window.PLOTLYENV=window.PLOTLYENV || {};\n",
       "                    window.PLOTLYENV.BASE_URL='https://plot.ly';\n",
       "                    \n",
       "                if (document.getElementById(\"2576d73a-a6df-4d68-b3bc-8667707f9e08\")) {\n",
       "                    Plotly.newPlot(\n",
       "                        '2576d73a-a6df-4d68-b3bc-8667707f9e08',\n",
       "                        [{\"histfunc\": \"count\", \"histnorm\": \"\", \"marker\": {\"color\": \"rgba(255, 153, 51, 1.0)\", \"line\": {\"color\": \"#4D5663\", \"width\": 1.3}}, \"name\": \"A\", \"nbinsx\": 10, \"opacity\": 0.8, \"orientation\": \"v\", \"type\": \"histogram\", \"x\": [-1.218991033261646, -0.5465765623202922, 0.18132417432275671, -0.014585404257609841, 0.1715182335092267, -1.3779384183098575, 2.2490010504007203, -1.2937347379867639, 0.645795456082042, -0.36282297531233015, -0.8830302929744168, 0.3978544585571979, 1.4573313754948551, -0.42499485568865564, 0.3706190593531806, 0.37736470261438537, 0.4277275289247419, -0.16226827355695023, -0.058022745855864394, -1.8487874313355865, 0.8022710961429018, -1.9470864824594507, -2.1131990933422515, -0.5106491158132542, 1.3796907827063247, -0.2829133544458733, -0.598005788070867, 0.985421725043829, -0.053580649651472724, 0.6804644985751658, 0.9481857380941411, -1.1146991830746134, 1.0275502417998543, -1.457489960262967, 0.23837190745798345, 0.5128251402478308, 0.6552122213363701, -3.1086824537421966, 0.4291926070041237, 0.7311268050114921, 0.7146906973183577, 0.23765346133515933, 0.5636683723477607, -0.19560647211511367, -1.4721539885794437, -0.1676593178014201, 0.4152099938863828, -0.9064861230077402, -0.5055774366498862, 0.5349192709445101, 2.1231913714510715, 2.2707276001335392, -1.709501621834544, 1.5200345414171992, -0.6180853646699377, 1.3204585944952765, 0.7672795518407083, -0.6968332170252055, 0.23875081210284058, 1.0277536622636916, -0.7671534331370783, -0.7377371573056383, 1.4735944964229581, -1.3514547300791788, -0.11340112276702033, 1.91749282262013, 1.2314518894288216, 0.23902470415773386, 0.7729293278824075, 0.027302940383040052, 0.7883419106958499, -0.007678428674991606, -0.4679306148027131, -0.3137113795539161, 0.5799497855130166, -0.4422423998075986, 0.013049264772897765, 1.1433034523669872, 1.2086040894753496, 1.234131361555419, -1.8422285316637823, 0.33371425688076634, -1.0086403689251748, 0.25408076638641586, -1.1537517610944619, 0.11546173547730847, -0.32788866726597193, 2.0331689908154784, 0.34797807275311415, -1.251412065531357, 0.9308890122198833, -0.8142474569278847, 0.7762675608414903, 0.8468274953365662, 1.3011474374604695, 0.05918586303413559, 2.1512380068791446, 1.5409210295246003, -1.4431005934720968, -1.0527879815155303], \"xaxis\": \"x\", \"yaxis\": \"y\"}, {\"line\": {\"color\": \"rgba(128, 128, 128, 1.0)\", \"dash\": \"solid\", \"shape\": \"linear\", \"width\": 1.3}, \"marker\": {\"size\": 2, \"symbol\": \"circle\"}, \"mode\": \"markers\", \"name\": \"A\", \"text\": \"\", \"type\": \"scatter\", \"x\": [0.3419764734215199, -2.3116551242894983, 1.3348751311612044, -0.1072796179888181, 2.483217793824436, -0.0741119345885313, -1.6738723112564624, 0.14713214486023077, 0.640769561204283, 0.4618918585952571, 1.7079110887935436, -0.1707611901698053, 0.6172860108755727, 0.25794903136380476, -0.6988181776820083, -1.263302918452683, -0.045883990267492424, -0.8257294543546106, 0.9600869708265687, 0.5681263328757964, -0.3647234435365751, -2.2170174535344085, 1.7049553191012643, -0.5537308376912038, -0.5893379099827436, -0.789750324269047, -0.5968772238779839, -0.2004912957144484, -0.6246266663795919, 1.0541547531216344, 1.1407786943515277, -0.3478718293512527, -0.4655854045314903, -1.0204625318491685, -0.17134797784339065, -2.004294224309604, -1.392027639421431, -1.8088906593188325, -1.7144334237148287, -0.828272087494066, 0.11134914674790283, 0.5563361994412729, 0.11786737071859353, 1.0283021269240364, -0.6844461103765496, 0.6134588405344479, -1.6636278706256518, 0.2354302397742566, 0.4927510624220601, 1.4458444853244878, -0.85488831932789, 0.41631088070245303, 0.8861235398691205, -0.7625248083567656, 0.21295446005412047, 1.202789392766879, -1.6552505758408658, 0.671892072559935, -0.8744246595050262, 1.899602505489602, -0.9895809299587186, -1.6374685722734121, -0.9557082919513292, 0.33382359674876755, 0.6439689050896489, 1.1376245647727588, -1.3105163589059687, -0.6367229605275069, 0.20988075534801515, 0.5270543441369793, 0.06317450408580289, 0.4759314171495404, -0.3389952753783388, 1.7627682347229436, -1.4433264556437697, -0.031462496251145354, 0.633865880706928, 1.3535256368079083, -0.4180120086025204, 0.649673515838004, 1.3975641015459965, 0.1279457536374559, 0.3990092190022796, 0.44430579823054356, -0.8096813840515048, -0.11930671508494314, -1.7368783531904881, -0.7436696453065349, 0.4937511254878508, -2.4396435356718817, 1.2824265662085645, 1.9556216542278397, -0.3268638798117112, -0.49065900845493565, 0.9615252684456398, -1.4589162600753647, -0.6776441409243771, -0.8578568648111088, -0.7204412403943163, 0.5339996751188443], \"xaxis\": \"x2\", \"y\": [-1.218991033261646, -0.5465765623202922, 0.18132417432275671, -0.014585404257609841, 0.1715182335092267, -1.3779384183098575, 2.2490010504007203, -1.2937347379867639, 0.645795456082042, -0.36282297531233015, -0.8830302929744168, 0.3978544585571979, 1.4573313754948551, -0.42499485568865564, 0.3706190593531806, 0.37736470261438537, 0.4277275289247419, -0.16226827355695023, -0.058022745855864394, -1.8487874313355865, 0.8022710961429018, -1.9470864824594507, -2.1131990933422515, -0.5106491158132542, 1.3796907827063247, -0.2829133544458733, -0.598005788070867, 0.985421725043829, -0.053580649651472724, 0.6804644985751658, 0.9481857380941411, -1.1146991830746134, 1.0275502417998543, -1.457489960262967, 0.23837190745798345, 0.5128251402478308, 0.6552122213363701, -3.1086824537421966, 0.4291926070041237, 0.7311268050114921, 0.7146906973183577, 0.23765346133515933, 0.5636683723477607, -0.19560647211511367, -1.4721539885794437, -0.1676593178014201, 0.4152099938863828, -0.9064861230077402, -0.5055774366498862, 0.5349192709445101, 2.1231913714510715, 2.2707276001335392, -1.709501621834544, 1.5200345414171992, -0.6180853646699377, 1.3204585944952765, 0.7672795518407083, -0.6968332170252055, 0.23875081210284058, 1.0277536622636916, -0.7671534331370783, -0.7377371573056383, 1.4735944964229581, -1.3514547300791788, -0.11340112276702033, 1.91749282262013, 1.2314518894288216, 0.23902470415773386, 0.7729293278824075, 0.027302940383040052, 0.7883419106958499, -0.007678428674991606, -0.4679306148027131, -0.3137113795539161, 0.5799497855130166, -0.4422423998075986, 0.013049264772897765, 1.1433034523669872, 1.2086040894753496, 1.234131361555419, -1.8422285316637823, 0.33371425688076634, -1.0086403689251748, 0.25408076638641586, -1.1537517610944619, 0.11546173547730847, -0.32788866726597193, 2.0331689908154784, 0.34797807275311415, -1.251412065531357, 0.9308890122198833, -0.8142474569278847, 0.7762675608414903, 0.8468274953365662, 1.3011474374604695, 0.05918586303413559, 2.1512380068791446, 1.5409210295246003, -1.4431005934720968, -1.0527879815155303], \"yaxis\": \"y2\"}, {\"line\": {\"color\": \"rgba(128, 128, 128, 1.0)\", \"dash\": \"solid\", \"shape\": \"linear\", \"width\": 1.3}, \"marker\": {\"size\": 2, \"symbol\": \"circle\"}, \"mode\": \"markers\", \"name\": \"A\", \"text\": \"\", \"type\": \"scatter\", \"x\": [-0.24686037129796642, -0.4795152376078478, 0.14944367353787624, -0.6853527509718431, -1.7028468412412232, -0.7798818649599734, -0.19234053531112388, 1.7804995095213754, -0.04036287646092673, -0.723546250475408, 1.2155456251649457, 1.0232165078548712, -1.0911591939514995, -1.4002945185590945, -0.9844024695347182, -2.5047733815436293, 0.5891949946312317, 0.8313392608625283, -2.2746833841723615, 1.6541512665364435, 0.21784756601440292, 0.17445575961753562, -1.836852104607844, 0.16325692077638956, -0.7935380739116973, 0.027907503343331128, 0.8538002676217139, -0.6241359044203422, -0.23572394655403262, 0.8594923322254395, -1.447564171823515, -0.7852302212592579, 0.497907566479336, -0.7093121216228477, -0.19087085966957418, -0.9331632945694524, -0.4104664553598608, -0.7903672196642071, -1.3552161912919363, -0.7763144272697288, 0.49976133703708603, 1.1611012988017406, -1.735752908375946, 1.6437986218317118, -0.3017809423983048, -1.0826105475980088, 0.016447894583500777, 0.6202116503828169, 0.2106450284731047, 0.6221618836777782, -1.2464583082253475, -1.966314968076596, 0.24388177796065524, -1.0376743625885156, -1.5203900572276658, 1.4884300136739879, 0.4944193659097848, -0.23129290772190259, 1.4419410558315484, -1.0292185001501921, -0.3751839069304503, 0.09924120865871619, 0.028048690524174302, 0.8402965979079163, -0.4671039314424817, 0.9047348889601571, -0.6907026203871445, 0.6262362359171377, -0.6322554988488555, 0.1978533428520716, -1.0530917743988188, 0.16532577645258734, 0.2518417349615779, -1.2022077742857284, -0.12399051256752064, -0.6447977621584156, -0.6698689412931773, -1.0581532991225995, 0.6314371002384549, -1.7864811633511934, 0.39332895131897516, -0.5331979122115895, -1.1559830542579275, 1.5772819646789715, -0.25984296964278736, 1.0390858679051702, -0.6520278543657485, 1.0653763533133234, -0.4122669377041702, 0.0013760273155446487, 0.13381253402436236, -0.6447555619163449, 0.37792047574193927, -2.0204643701988, 0.11469767046781733, 0.2804461252509056, 0.2436637417779295, -0.4374641695700345, 0.4466910722431926, 2.1902908363556435], \"xaxis\": \"x3\", \"y\": [-1.218991033261646, -0.5465765623202922, 0.18132417432275671, -0.014585404257609841, 0.1715182335092267, -1.3779384183098575, 2.2490010504007203, -1.2937347379867639, 0.645795456082042, -0.36282297531233015, -0.8830302929744168, 0.3978544585571979, 1.4573313754948551, -0.42499485568865564, 0.3706190593531806, 0.37736470261438537, 0.4277275289247419, -0.16226827355695023, -0.058022745855864394, -1.8487874313355865, 0.8022710961429018, -1.9470864824594507, -2.1131990933422515, -0.5106491158132542, 1.3796907827063247, -0.2829133544458733, -0.598005788070867, 0.985421725043829, -0.053580649651472724, 0.6804644985751658, 0.9481857380941411, -1.1146991830746134, 1.0275502417998543, -1.457489960262967, 0.23837190745798345, 0.5128251402478308, 0.6552122213363701, -3.1086824537421966, 0.4291926070041237, 0.7311268050114921, 0.7146906973183577, 0.23765346133515933, 0.5636683723477607, -0.19560647211511367, -1.4721539885794437, -0.1676593178014201, 0.4152099938863828, -0.9064861230077402, -0.5055774366498862, 0.5349192709445101, 2.1231913714510715, 2.2707276001335392, -1.709501621834544, 1.5200345414171992, -0.6180853646699377, 1.3204585944952765, 0.7672795518407083, -0.6968332170252055, 0.23875081210284058, 1.0277536622636916, -0.7671534331370783, -0.7377371573056383, 1.4735944964229581, -1.3514547300791788, -0.11340112276702033, 1.91749282262013, 1.2314518894288216, 0.23902470415773386, 0.7729293278824075, 0.027302940383040052, 0.7883419106958499, -0.007678428674991606, -0.4679306148027131, -0.3137113795539161, 0.5799497855130166, -0.4422423998075986, 0.013049264772897765, 1.1433034523669872, 1.2086040894753496, 1.234131361555419, -1.8422285316637823, 0.33371425688076634, -1.0086403689251748, 0.25408076638641586, -1.1537517610944619, 0.11546173547730847, -0.32788866726597193, 2.0331689908154784, 0.34797807275311415, -1.251412065531357, 0.9308890122198833, -0.8142474569278847, 0.7762675608414903, 0.8468274953365662, 1.3011474374604695, 0.05918586303413559, 2.1512380068791446, 1.5409210295246003, -1.4431005934720968, -1.0527879815155303], \"yaxis\": \"y3\"}, {\"line\": {\"color\": \"rgba(128, 128, 128, 1.0)\", \"dash\": \"solid\", \"shape\": \"linear\", \"width\": 1.3}, \"marker\": {\"size\": 2, \"symbol\": \"circle\"}, \"mode\": \"markers\", \"name\": \"A\", \"text\": \"\", \"type\": \"scatter\", \"x\": [-0.8733379686732633, 0.22475225260711695, 0.6003728631702283, -0.7475414849079879, -0.8731505829973676, 0.8794751908632622, 1.296856464902928, -0.9506100017110891, 0.752827343619869, -1.1691130187985874, -0.8712647315318274, 0.5636707451512812, -0.1710308114854158, -1.7284270524020178, -0.3243556032739408, -0.16943133213397807, -1.0171772198234792, 1.5304562840453813, 1.056722380873873, 3.2089934521101906, 0.5729850310454369, 0.028372268084173743, -0.2151406424218395, -2.322619057508341, 0.2533427669895896, 0.07603831793752841, 0.26380781727939784, -0.5164559164420952, -2.72594572061758, 0.406426122275474, -1.2627246222217865, -0.9132968666759071, 0.2539262943902931, 1.4326200424242648, -0.37767853047554395, -1.0656203927411103, -0.05973524592289964, -1.7529754743037604, 0.6068891984383418, -0.3879168068123651, -1.035013461891617, -1.743126195948102, -0.2918481438691077, -0.01512351099964492, 0.25101023259815236, 0.4085577002000313, 1.1100131818513306, 0.3360818394416731, -0.9548494324521819, 2.2283342953425396, -0.9067222987945611, -0.7321078118365565, 0.5514428455787548, -1.3630870736162113, 1.018136184934407, 0.21751250949153464, -0.3767115947121578, -0.5546640063079199, -0.8871416712895261, 0.18312008628051119, 0.1758129638643444, -2.0698039327466375, -2.293021317161217, -0.807571995301875, 0.3040450616345944, 1.5092880425580266, -0.8950246832042933, -0.5762162690274315, 0.6949419055709126, 1.0640067317219322, -0.4519146300615394, -0.21886174030688288, -0.8095655902907344, 0.4986230829694079, 0.5666132607080857, 0.6026061625795713, -0.004757499389226333, 0.3514419991162287, -0.281905126041759, 0.8872631290195736, -0.22962566128815565, -1.017646111435563, -0.5635721343076957, 0.3011979834291313, -0.24042255174804705, 0.713671166459918, 0.08503230912733772, 0.7243525345541257, 0.6447885187854636, 0.39057435386990397, 0.6983754191501598, -0.6092719601781813, 1.1731475780318703, 0.28246898876269433, -0.2315336569167173, -0.13757611784336787, 0.5521933098305067, 0.4305914371706155, 0.8385826217826156, 0.5184135563823262], \"xaxis\": \"x4\", \"y\": [-1.218991033261646, -0.5465765623202922, 0.18132417432275671, -0.014585404257609841, 0.1715182335092267, -1.3779384183098575, 2.2490010504007203, -1.2937347379867639, 0.645795456082042, -0.36282297531233015, -0.8830302929744168, 0.3978544585571979, 1.4573313754948551, -0.42499485568865564, 0.3706190593531806, 0.37736470261438537, 0.4277275289247419, -0.16226827355695023, -0.058022745855864394, -1.8487874313355865, 0.8022710961429018, -1.9470864824594507, -2.1131990933422515, -0.5106491158132542, 1.3796907827063247, -0.2829133544458733, -0.598005788070867, 0.985421725043829, -0.053580649651472724, 0.6804644985751658, 0.9481857380941411, -1.1146991830746134, 1.0275502417998543, -1.457489960262967, 0.23837190745798345, 0.5128251402478308, 0.6552122213363701, -3.1086824537421966, 0.4291926070041237, 0.7311268050114921, 0.7146906973183577, 0.23765346133515933, 0.5636683723477607, -0.19560647211511367, -1.4721539885794437, -0.1676593178014201, 0.4152099938863828, -0.9064861230077402, -0.5055774366498862, 0.5349192709445101, 2.1231913714510715, 2.2707276001335392, -1.709501621834544, 1.5200345414171992, -0.6180853646699377, 1.3204585944952765, 0.7672795518407083, -0.6968332170252055, 0.23875081210284058, 1.0277536622636916, -0.7671534331370783, -0.7377371573056383, 1.4735944964229581, -1.3514547300791788, -0.11340112276702033, 1.91749282262013, 1.2314518894288216, 0.23902470415773386, 0.7729293278824075, 0.027302940383040052, 0.7883419106958499, -0.007678428674991606, -0.4679306148027131, -0.3137113795539161, 0.5799497855130166, -0.4422423998075986, 0.013049264772897765, 1.1433034523669872, 1.2086040894753496, 1.234131361555419, -1.8422285316637823, 0.33371425688076634, -1.0086403689251748, 0.25408076638641586, -1.1537517610944619, 0.11546173547730847, -0.32788866726597193, 2.0331689908154784, 0.34797807275311415, -1.251412065531357, 0.9308890122198833, -0.8142474569278847, 0.7762675608414903, 0.8468274953365662, 1.3011474374604695, 0.05918586303413559, 2.1512380068791446, 1.5409210295246003, -1.4431005934720968, -1.0527879815155303], \"yaxis\": \"y4\"}, {\"line\": {\"color\": \"rgba(128, 128, 128, 1.0)\", \"dash\": \"solid\", \"shape\": \"linear\", \"width\": 1.3}, \"marker\": {\"size\": 2, \"symbol\": \"circle\"}, \"mode\": \"markers\", \"name\": \"B\", \"text\": \"\", \"type\": \"scatter\", \"x\": [-1.218991033261646, -0.5465765623202922, 0.18132417432275671, -0.014585404257609841, 0.1715182335092267, -1.3779384183098575, 2.2490010504007203, -1.2937347379867639, 0.645795456082042, -0.36282297531233015, -0.8830302929744168, 0.3978544585571979, 1.4573313754948551, -0.42499485568865564, 0.3706190593531806, 0.37736470261438537, 0.4277275289247419, -0.16226827355695023, -0.058022745855864394, -1.8487874313355865, 0.8022710961429018, -1.9470864824594507, -2.1131990933422515, -0.5106491158132542, 1.3796907827063247, -0.2829133544458733, -0.598005788070867, 0.985421725043829, -0.053580649651472724, 0.6804644985751658, 0.9481857380941411, -1.1146991830746134, 1.0275502417998543, -1.457489960262967, 0.23837190745798345, 0.5128251402478308, 0.6552122213363701, -3.1086824537421966, 0.4291926070041237, 0.7311268050114921, 0.7146906973183577, 0.23765346133515933, 0.5636683723477607, -0.19560647211511367, -1.4721539885794437, -0.1676593178014201, 0.4152099938863828, -0.9064861230077402, -0.5055774366498862, 0.5349192709445101, 2.1231913714510715, 2.2707276001335392, -1.709501621834544, 1.5200345414171992, -0.6180853646699377, 1.3204585944952765, 0.7672795518407083, -0.6968332170252055, 0.23875081210284058, 1.0277536622636916, -0.7671534331370783, -0.7377371573056383, 1.4735944964229581, -1.3514547300791788, -0.11340112276702033, 1.91749282262013, 1.2314518894288216, 0.23902470415773386, 0.7729293278824075, 0.027302940383040052, 0.7883419106958499, -0.007678428674991606, -0.4679306148027131, -0.3137113795539161, 0.5799497855130166, -0.4422423998075986, 0.013049264772897765, 1.1433034523669872, 1.2086040894753496, 1.234131361555419, -1.8422285316637823, 0.33371425688076634, -1.0086403689251748, 0.25408076638641586, -1.1537517610944619, 0.11546173547730847, -0.32788866726597193, 2.0331689908154784, 0.34797807275311415, -1.251412065531357, 0.9308890122198833, -0.8142474569278847, 0.7762675608414903, 0.8468274953365662, 1.3011474374604695, 0.05918586303413559, 2.1512380068791446, 1.5409210295246003, -1.4431005934720968, -1.0527879815155303], \"xaxis\": \"x5\", \"y\": [0.3419764734215199, -2.3116551242894983, 1.3348751311612044, -0.1072796179888181, 2.483217793824436, -0.0741119345885313, -1.6738723112564624, 0.14713214486023077, 0.640769561204283, 0.4618918585952571, 1.7079110887935436, -0.1707611901698053, 0.6172860108755727, 0.25794903136380476, -0.6988181776820083, -1.263302918452683, -0.045883990267492424, -0.8257294543546106, 0.9600869708265687, 0.5681263328757964, -0.3647234435365751, -2.2170174535344085, 1.7049553191012643, -0.5537308376912038, -0.5893379099827436, -0.789750324269047, -0.5968772238779839, -0.2004912957144484, -0.6246266663795919, 1.0541547531216344, 1.1407786943515277, -0.3478718293512527, -0.4655854045314903, -1.0204625318491685, -0.17134797784339065, -2.004294224309604, -1.392027639421431, -1.8088906593188325, -1.7144334237148287, -0.828272087494066, 0.11134914674790283, 0.5563361994412729, 0.11786737071859353, 1.0283021269240364, -0.6844461103765496, 0.6134588405344479, -1.6636278706256518, 0.2354302397742566, 0.4927510624220601, 1.4458444853244878, -0.85488831932789, 0.41631088070245303, 0.8861235398691205, -0.7625248083567656, 0.21295446005412047, 1.202789392766879, -1.6552505758408658, 0.671892072559935, -0.8744246595050262, 1.899602505489602, -0.9895809299587186, -1.6374685722734121, -0.9557082919513292, 0.33382359674876755, 0.6439689050896489, 1.1376245647727588, -1.3105163589059687, -0.6367229605275069, 0.20988075534801515, 0.5270543441369793, 0.06317450408580289, 0.4759314171495404, -0.3389952753783388, 1.7627682347229436, -1.4433264556437697, -0.031462496251145354, 0.633865880706928, 1.3535256368079083, -0.4180120086025204, 0.649673515838004, 1.3975641015459965, 0.1279457536374559, 0.3990092190022796, 0.44430579823054356, -0.8096813840515048, -0.11930671508494314, -1.7368783531904881, -0.7436696453065349, 0.4937511254878508, -2.4396435356718817, 1.2824265662085645, 1.9556216542278397, -0.3268638798117112, -0.49065900845493565, 0.9615252684456398, -1.4589162600753647, -0.6776441409243771, -0.8578568648111088, -0.7204412403943163, 0.5339996751188443], \"yaxis\": \"y5\"}, {\"histfunc\": \"count\", \"histnorm\": \"\", \"marker\": {\"color\": \"rgba(55, 128, 191, 1.0)\", \"line\": {\"color\": \"#4D5663\", \"width\": 1.3}}, \"name\": \"B\", \"nbinsx\": 10, \"opacity\": 0.8, \"orientation\": \"v\", \"type\": \"histogram\", \"x\": [0.3419764734215199, -2.3116551242894983, 1.3348751311612044, -0.1072796179888181, 2.483217793824436, -0.0741119345885313, -1.6738723112564624, 0.14713214486023077, 0.640769561204283, 0.4618918585952571, 1.7079110887935436, -0.1707611901698053, 0.6172860108755727, 0.25794903136380476, -0.6988181776820083, -1.263302918452683, -0.045883990267492424, -0.8257294543546106, 0.9600869708265687, 0.5681263328757964, -0.3647234435365751, -2.2170174535344085, 1.7049553191012643, -0.5537308376912038, -0.5893379099827436, -0.789750324269047, -0.5968772238779839, -0.2004912957144484, -0.6246266663795919, 1.0541547531216344, 1.1407786943515277, -0.3478718293512527, -0.4655854045314903, -1.0204625318491685, -0.17134797784339065, -2.004294224309604, -1.392027639421431, -1.8088906593188325, -1.7144334237148287, -0.828272087494066, 0.11134914674790283, 0.5563361994412729, 0.11786737071859353, 1.0283021269240364, -0.6844461103765496, 0.6134588405344479, -1.6636278706256518, 0.2354302397742566, 0.4927510624220601, 1.4458444853244878, -0.85488831932789, 0.41631088070245303, 0.8861235398691205, -0.7625248083567656, 0.21295446005412047, 1.202789392766879, -1.6552505758408658, 0.671892072559935, -0.8744246595050262, 1.899602505489602, -0.9895809299587186, -1.6374685722734121, -0.9557082919513292, 0.33382359674876755, 0.6439689050896489, 1.1376245647727588, -1.3105163589059687, -0.6367229605275069, 0.20988075534801515, 0.5270543441369793, 0.06317450408580289, 0.4759314171495404, -0.3389952753783388, 1.7627682347229436, -1.4433264556437697, -0.031462496251145354, 0.633865880706928, 1.3535256368079083, -0.4180120086025204, 0.649673515838004, 1.3975641015459965, 0.1279457536374559, 0.3990092190022796, 0.44430579823054356, -0.8096813840515048, -0.11930671508494314, -1.7368783531904881, -0.7436696453065349, 0.4937511254878508, -2.4396435356718817, 1.2824265662085645, 1.9556216542278397, -0.3268638798117112, -0.49065900845493565, 0.9615252684456398, -1.4589162600753647, -0.6776441409243771, -0.8578568648111088, -0.7204412403943163, 0.5339996751188443], \"xaxis\": \"x6\", \"yaxis\": \"y6\"}, {\"line\": {\"color\": \"rgba(128, 128, 128, 1.0)\", \"dash\": \"solid\", \"shape\": \"linear\", \"width\": 1.3}, \"marker\": {\"size\": 2, \"symbol\": \"circle\"}, \"mode\": \"markers\", \"name\": \"B\", \"text\": \"\", \"type\": \"scatter\", \"x\": [-0.24686037129796642, -0.4795152376078478, 0.14944367353787624, -0.6853527509718431, -1.7028468412412232, -0.7798818649599734, -0.19234053531112388, 1.7804995095213754, -0.04036287646092673, -0.723546250475408, 1.2155456251649457, 1.0232165078548712, -1.0911591939514995, -1.4002945185590945, -0.9844024695347182, -2.5047733815436293, 0.5891949946312317, 0.8313392608625283, -2.2746833841723615, 1.6541512665364435, 0.21784756601440292, 0.17445575961753562, -1.836852104607844, 0.16325692077638956, -0.7935380739116973, 0.027907503343331128, 0.8538002676217139, -0.6241359044203422, -0.23572394655403262, 0.8594923322254395, -1.447564171823515, -0.7852302212592579, 0.497907566479336, -0.7093121216228477, -0.19087085966957418, -0.9331632945694524, -0.4104664553598608, -0.7903672196642071, -1.3552161912919363, -0.7763144272697288, 0.49976133703708603, 1.1611012988017406, -1.735752908375946, 1.6437986218317118, -0.3017809423983048, -1.0826105475980088, 0.016447894583500777, 0.6202116503828169, 0.2106450284731047, 0.6221618836777782, -1.2464583082253475, -1.966314968076596, 0.24388177796065524, -1.0376743625885156, -1.5203900572276658, 1.4884300136739879, 0.4944193659097848, -0.23129290772190259, 1.4419410558315484, -1.0292185001501921, -0.3751839069304503, 0.09924120865871619, 0.028048690524174302, 0.8402965979079163, -0.4671039314424817, 0.9047348889601571, -0.6907026203871445, 0.6262362359171377, -0.6322554988488555, 0.1978533428520716, -1.0530917743988188, 0.16532577645258734, 0.2518417349615779, -1.2022077742857284, -0.12399051256752064, -0.6447977621584156, -0.6698689412931773, -1.0581532991225995, 0.6314371002384549, -1.7864811633511934, 0.39332895131897516, -0.5331979122115895, -1.1559830542579275, 1.5772819646789715, -0.25984296964278736, 1.0390858679051702, -0.6520278543657485, 1.0653763533133234, -0.4122669377041702, 0.0013760273155446487, 0.13381253402436236, -0.6447555619163449, 0.37792047574193927, -2.0204643701988, 0.11469767046781733, 0.2804461252509056, 0.2436637417779295, -0.4374641695700345, 0.4466910722431926, 2.1902908363556435], \"xaxis\": \"x7\", \"y\": [0.3419764734215199, -2.3116551242894983, 1.3348751311612044, -0.1072796179888181, 2.483217793824436, -0.0741119345885313, -1.6738723112564624, 0.14713214486023077, 0.640769561204283, 0.4618918585952571, 1.7079110887935436, -0.1707611901698053, 0.6172860108755727, 0.25794903136380476, -0.6988181776820083, -1.263302918452683, -0.045883990267492424, -0.8257294543546106, 0.9600869708265687, 0.5681263328757964, -0.3647234435365751, -2.2170174535344085, 1.7049553191012643, -0.5537308376912038, -0.5893379099827436, -0.789750324269047, -0.5968772238779839, -0.2004912957144484, -0.6246266663795919, 1.0541547531216344, 1.1407786943515277, -0.3478718293512527, -0.4655854045314903, -1.0204625318491685, -0.17134797784339065, -2.004294224309604, -1.392027639421431, -1.8088906593188325, -1.7144334237148287, -0.828272087494066, 0.11134914674790283, 0.5563361994412729, 0.11786737071859353, 1.0283021269240364, -0.6844461103765496, 0.6134588405344479, -1.6636278706256518, 0.2354302397742566, 0.4927510624220601, 1.4458444853244878, -0.85488831932789, 0.41631088070245303, 0.8861235398691205, -0.7625248083567656, 0.21295446005412047, 1.202789392766879, -1.6552505758408658, 0.671892072559935, -0.8744246595050262, 1.899602505489602, -0.9895809299587186, -1.6374685722734121, -0.9557082919513292, 0.33382359674876755, 0.6439689050896489, 1.1376245647727588, -1.3105163589059687, -0.6367229605275069, 0.20988075534801515, 0.5270543441369793, 0.06317450408580289, 0.4759314171495404, -0.3389952753783388, 1.7627682347229436, -1.4433264556437697, -0.031462496251145354, 0.633865880706928, 1.3535256368079083, -0.4180120086025204, 0.649673515838004, 1.3975641015459965, 0.1279457536374559, 0.3990092190022796, 0.44430579823054356, -0.8096813840515048, -0.11930671508494314, -1.7368783531904881, -0.7436696453065349, 0.4937511254878508, -2.4396435356718817, 1.2824265662085645, 1.9556216542278397, -0.3268638798117112, -0.49065900845493565, 0.9615252684456398, -1.4589162600753647, -0.6776441409243771, -0.8578568648111088, -0.7204412403943163, 0.5339996751188443], \"yaxis\": \"y7\"}, {\"line\": {\"color\": \"rgba(128, 128, 128, 1.0)\", \"dash\": \"solid\", \"shape\": \"linear\", \"width\": 1.3}, \"marker\": {\"size\": 2, \"symbol\": \"circle\"}, \"mode\": \"markers\", \"name\": \"B\", \"text\": \"\", \"type\": \"scatter\", \"x\": [-0.8733379686732633, 0.22475225260711695, 0.6003728631702283, -0.7475414849079879, -0.8731505829973676, 0.8794751908632622, 1.296856464902928, -0.9506100017110891, 0.752827343619869, -1.1691130187985874, -0.8712647315318274, 0.5636707451512812, -0.1710308114854158, -1.7284270524020178, -0.3243556032739408, -0.16943133213397807, -1.0171772198234792, 1.5304562840453813, 1.056722380873873, 3.2089934521101906, 0.5729850310454369, 0.028372268084173743, -0.2151406424218395, -2.322619057508341, 0.2533427669895896, 0.07603831793752841, 0.26380781727939784, -0.5164559164420952, -2.72594572061758, 0.406426122275474, -1.2627246222217865, -0.9132968666759071, 0.2539262943902931, 1.4326200424242648, -0.37767853047554395, -1.0656203927411103, -0.05973524592289964, -1.7529754743037604, 0.6068891984383418, -0.3879168068123651, -1.035013461891617, -1.743126195948102, -0.2918481438691077, -0.01512351099964492, 0.25101023259815236, 0.4085577002000313, 1.1100131818513306, 0.3360818394416731, -0.9548494324521819, 2.2283342953425396, -0.9067222987945611, -0.7321078118365565, 0.5514428455787548, -1.3630870736162113, 1.018136184934407, 0.21751250949153464, -0.3767115947121578, -0.5546640063079199, -0.8871416712895261, 0.18312008628051119, 0.1758129638643444, -2.0698039327466375, -2.293021317161217, -0.807571995301875, 0.3040450616345944, 1.5092880425580266, -0.8950246832042933, -0.5762162690274315, 0.6949419055709126, 1.0640067317219322, -0.4519146300615394, -0.21886174030688288, -0.8095655902907344, 0.4986230829694079, 0.5666132607080857, 0.6026061625795713, -0.004757499389226333, 0.3514419991162287, -0.281905126041759, 0.8872631290195736, -0.22962566128815565, -1.017646111435563, -0.5635721343076957, 0.3011979834291313, -0.24042255174804705, 0.713671166459918, 0.08503230912733772, 0.7243525345541257, 0.6447885187854636, 0.39057435386990397, 0.6983754191501598, -0.6092719601781813, 1.1731475780318703, 0.28246898876269433, -0.2315336569167173, -0.13757611784336787, 0.5521933098305067, 0.4305914371706155, 0.8385826217826156, 0.5184135563823262], \"xaxis\": \"x8\", \"y\": [0.3419764734215199, -2.3116551242894983, 1.3348751311612044, -0.1072796179888181, 2.483217793824436, -0.0741119345885313, -1.6738723112564624, 0.14713214486023077, 0.640769561204283, 0.4618918585952571, 1.7079110887935436, -0.1707611901698053, 0.6172860108755727, 0.25794903136380476, -0.6988181776820083, -1.263302918452683, -0.045883990267492424, -0.8257294543546106, 0.9600869708265687, 0.5681263328757964, -0.3647234435365751, -2.2170174535344085, 1.7049553191012643, -0.5537308376912038, -0.5893379099827436, -0.789750324269047, -0.5968772238779839, -0.2004912957144484, -0.6246266663795919, 1.0541547531216344, 1.1407786943515277, -0.3478718293512527, -0.4655854045314903, -1.0204625318491685, -0.17134797784339065, -2.004294224309604, -1.392027639421431, -1.8088906593188325, -1.7144334237148287, -0.828272087494066, 0.11134914674790283, 0.5563361994412729, 0.11786737071859353, 1.0283021269240364, -0.6844461103765496, 0.6134588405344479, -1.6636278706256518, 0.2354302397742566, 0.4927510624220601, 1.4458444853244878, -0.85488831932789, 0.41631088070245303, 0.8861235398691205, -0.7625248083567656, 0.21295446005412047, 1.202789392766879, -1.6552505758408658, 0.671892072559935, -0.8744246595050262, 1.899602505489602, -0.9895809299587186, -1.6374685722734121, -0.9557082919513292, 0.33382359674876755, 0.6439689050896489, 1.1376245647727588, -1.3105163589059687, -0.6367229605275069, 0.20988075534801515, 0.5270543441369793, 0.06317450408580289, 0.4759314171495404, -0.3389952753783388, 1.7627682347229436, -1.4433264556437697, -0.031462496251145354, 0.633865880706928, 1.3535256368079083, -0.4180120086025204, 0.649673515838004, 1.3975641015459965, 0.1279457536374559, 0.3990092190022796, 0.44430579823054356, -0.8096813840515048, -0.11930671508494314, -1.7368783531904881, -0.7436696453065349, 0.4937511254878508, -2.4396435356718817, 1.2824265662085645, 1.9556216542278397, -0.3268638798117112, -0.49065900845493565, 0.9615252684456398, -1.4589162600753647, -0.6776441409243771, -0.8578568648111088, -0.7204412403943163, 0.5339996751188443], \"yaxis\": \"y8\"}, {\"line\": {\"color\": \"rgba(128, 128, 128, 1.0)\", \"dash\": \"solid\", \"shape\": \"linear\", \"width\": 1.3}, \"marker\": {\"size\": 2, \"symbol\": \"circle\"}, \"mode\": \"markers\", \"name\": \"C\", \"text\": \"\", \"type\": \"scatter\", \"x\": [-1.218991033261646, -0.5465765623202922, 0.18132417432275671, -0.014585404257609841, 0.1715182335092267, -1.3779384183098575, 2.2490010504007203, -1.2937347379867639, 0.645795456082042, -0.36282297531233015, -0.8830302929744168, 0.3978544585571979, 1.4573313754948551, -0.42499485568865564, 0.3706190593531806, 0.37736470261438537, 0.4277275289247419, -0.16226827355695023, -0.058022745855864394, -1.8487874313355865, 0.8022710961429018, -1.9470864824594507, -2.1131990933422515, -0.5106491158132542, 1.3796907827063247, -0.2829133544458733, -0.598005788070867, 0.985421725043829, -0.053580649651472724, 0.6804644985751658, 0.9481857380941411, -1.1146991830746134, 1.0275502417998543, -1.457489960262967, 0.23837190745798345, 0.5128251402478308, 0.6552122213363701, -3.1086824537421966, 0.4291926070041237, 0.7311268050114921, 0.7146906973183577, 0.23765346133515933, 0.5636683723477607, -0.19560647211511367, -1.4721539885794437, -0.1676593178014201, 0.4152099938863828, -0.9064861230077402, -0.5055774366498862, 0.5349192709445101, 2.1231913714510715, 2.2707276001335392, -1.709501621834544, 1.5200345414171992, -0.6180853646699377, 1.3204585944952765, 0.7672795518407083, -0.6968332170252055, 0.23875081210284058, 1.0277536622636916, -0.7671534331370783, -0.7377371573056383, 1.4735944964229581, -1.3514547300791788, -0.11340112276702033, 1.91749282262013, 1.2314518894288216, 0.23902470415773386, 0.7729293278824075, 0.027302940383040052, 0.7883419106958499, -0.007678428674991606, -0.4679306148027131, -0.3137113795539161, 0.5799497855130166, -0.4422423998075986, 0.013049264772897765, 1.1433034523669872, 1.2086040894753496, 1.234131361555419, -1.8422285316637823, 0.33371425688076634, -1.0086403689251748, 0.25408076638641586, -1.1537517610944619, 0.11546173547730847, -0.32788866726597193, 2.0331689908154784, 0.34797807275311415, -1.251412065531357, 0.9308890122198833, -0.8142474569278847, 0.7762675608414903, 0.8468274953365662, 1.3011474374604695, 0.05918586303413559, 2.1512380068791446, 1.5409210295246003, -1.4431005934720968, -1.0527879815155303], \"xaxis\": \"x9\", \"y\": [-0.24686037129796642, -0.4795152376078478, 0.14944367353787624, -0.6853527509718431, -1.7028468412412232, -0.7798818649599734, -0.19234053531112388, 1.7804995095213754, -0.04036287646092673, -0.723546250475408, 1.2155456251649457, 1.0232165078548712, -1.0911591939514995, -1.4002945185590945, -0.9844024695347182, -2.5047733815436293, 0.5891949946312317, 0.8313392608625283, -2.2746833841723615, 1.6541512665364435, 0.21784756601440292, 0.17445575961753562, -1.836852104607844, 0.16325692077638956, -0.7935380739116973, 0.027907503343331128, 0.8538002676217139, -0.6241359044203422, -0.23572394655403262, 0.8594923322254395, -1.447564171823515, -0.7852302212592579, 0.497907566479336, -0.7093121216228477, -0.19087085966957418, -0.9331632945694524, -0.4104664553598608, -0.7903672196642071, -1.3552161912919363, -0.7763144272697288, 0.49976133703708603, 1.1611012988017406, -1.735752908375946, 1.6437986218317118, -0.3017809423983048, -1.0826105475980088, 0.016447894583500777, 0.6202116503828169, 0.2106450284731047, 0.6221618836777782, -1.2464583082253475, -1.966314968076596, 0.24388177796065524, -1.0376743625885156, -1.5203900572276658, 1.4884300136739879, 0.4944193659097848, -0.23129290772190259, 1.4419410558315484, -1.0292185001501921, -0.3751839069304503, 0.09924120865871619, 0.028048690524174302, 0.8402965979079163, -0.4671039314424817, 0.9047348889601571, -0.6907026203871445, 0.6262362359171377, -0.6322554988488555, 0.1978533428520716, -1.0530917743988188, 0.16532577645258734, 0.2518417349615779, -1.2022077742857284, -0.12399051256752064, -0.6447977621584156, -0.6698689412931773, -1.0581532991225995, 0.6314371002384549, -1.7864811633511934, 0.39332895131897516, -0.5331979122115895, -1.1559830542579275, 1.5772819646789715, -0.25984296964278736, 1.0390858679051702, -0.6520278543657485, 1.0653763533133234, -0.4122669377041702, 0.0013760273155446487, 0.13381253402436236, -0.6447555619163449, 0.37792047574193927, -2.0204643701988, 0.11469767046781733, 0.2804461252509056, 0.2436637417779295, -0.4374641695700345, 0.4466910722431926, 2.1902908363556435], \"yaxis\": \"y9\"}, {\"line\": {\"color\": \"rgba(128, 128, 128, 1.0)\", \"dash\": \"solid\", \"shape\": \"linear\", \"width\": 1.3}, \"marker\": {\"size\": 2, \"symbol\": \"circle\"}, \"mode\": \"markers\", \"name\": \"C\", \"text\": \"\", \"type\": \"scatter\", \"x\": [0.3419764734215199, -2.3116551242894983, 1.3348751311612044, -0.1072796179888181, 2.483217793824436, -0.0741119345885313, -1.6738723112564624, 0.14713214486023077, 0.640769561204283, 0.4618918585952571, 1.7079110887935436, -0.1707611901698053, 0.6172860108755727, 0.25794903136380476, -0.6988181776820083, -1.263302918452683, -0.045883990267492424, -0.8257294543546106, 0.9600869708265687, 0.5681263328757964, -0.3647234435365751, -2.2170174535344085, 1.7049553191012643, -0.5537308376912038, -0.5893379099827436, -0.789750324269047, -0.5968772238779839, -0.2004912957144484, -0.6246266663795919, 1.0541547531216344, 1.1407786943515277, -0.3478718293512527, -0.4655854045314903, -1.0204625318491685, -0.17134797784339065, -2.004294224309604, -1.392027639421431, -1.8088906593188325, -1.7144334237148287, -0.828272087494066, 0.11134914674790283, 0.5563361994412729, 0.11786737071859353, 1.0283021269240364, -0.6844461103765496, 0.6134588405344479, -1.6636278706256518, 0.2354302397742566, 0.4927510624220601, 1.4458444853244878, -0.85488831932789, 0.41631088070245303, 0.8861235398691205, -0.7625248083567656, 0.21295446005412047, 1.202789392766879, -1.6552505758408658, 0.671892072559935, -0.8744246595050262, 1.899602505489602, -0.9895809299587186, -1.6374685722734121, -0.9557082919513292, 0.33382359674876755, 0.6439689050896489, 1.1376245647727588, -1.3105163589059687, -0.6367229605275069, 0.20988075534801515, 0.5270543441369793, 0.06317450408580289, 0.4759314171495404, -0.3389952753783388, 1.7627682347229436, -1.4433264556437697, -0.031462496251145354, 0.633865880706928, 1.3535256368079083, -0.4180120086025204, 0.649673515838004, 1.3975641015459965, 0.1279457536374559, 0.3990092190022796, 0.44430579823054356, -0.8096813840515048, -0.11930671508494314, -1.7368783531904881, -0.7436696453065349, 0.4937511254878508, -2.4396435356718817, 1.2824265662085645, 1.9556216542278397, -0.3268638798117112, -0.49065900845493565, 0.9615252684456398, -1.4589162600753647, -0.6776441409243771, -0.8578568648111088, -0.7204412403943163, 0.5339996751188443], \"xaxis\": \"x10\", \"y\": [-0.24686037129796642, -0.4795152376078478, 0.14944367353787624, -0.6853527509718431, -1.7028468412412232, -0.7798818649599734, -0.19234053531112388, 1.7804995095213754, -0.04036287646092673, -0.723546250475408, 1.2155456251649457, 1.0232165078548712, -1.0911591939514995, -1.4002945185590945, -0.9844024695347182, -2.5047733815436293, 0.5891949946312317, 0.8313392608625283, -2.2746833841723615, 1.6541512665364435, 0.21784756601440292, 0.17445575961753562, -1.836852104607844, 0.16325692077638956, -0.7935380739116973, 0.027907503343331128, 0.8538002676217139, -0.6241359044203422, -0.23572394655403262, 0.8594923322254395, -1.447564171823515, -0.7852302212592579, 0.497907566479336, -0.7093121216228477, -0.19087085966957418, -0.9331632945694524, -0.4104664553598608, -0.7903672196642071, -1.3552161912919363, -0.7763144272697288, 0.49976133703708603, 1.1611012988017406, -1.735752908375946, 1.6437986218317118, -0.3017809423983048, -1.0826105475980088, 0.016447894583500777, 0.6202116503828169, 0.2106450284731047, 0.6221618836777782, -1.2464583082253475, -1.966314968076596, 0.24388177796065524, -1.0376743625885156, -1.5203900572276658, 1.4884300136739879, 0.4944193659097848, -0.23129290772190259, 1.4419410558315484, -1.0292185001501921, -0.3751839069304503, 0.09924120865871619, 0.028048690524174302, 0.8402965979079163, -0.4671039314424817, 0.9047348889601571, -0.6907026203871445, 0.6262362359171377, -0.6322554988488555, 0.1978533428520716, -1.0530917743988188, 0.16532577645258734, 0.2518417349615779, -1.2022077742857284, -0.12399051256752064, -0.6447977621584156, -0.6698689412931773, -1.0581532991225995, 0.6314371002384549, -1.7864811633511934, 0.39332895131897516, -0.5331979122115895, -1.1559830542579275, 1.5772819646789715, -0.25984296964278736, 1.0390858679051702, -0.6520278543657485, 1.0653763533133234, -0.4122669377041702, 0.0013760273155446487, 0.13381253402436236, -0.6447555619163449, 0.37792047574193927, -2.0204643701988, 0.11469767046781733, 0.2804461252509056, 0.2436637417779295, -0.4374641695700345, 0.4466910722431926, 2.1902908363556435], \"yaxis\": \"y10\"}, {\"histfunc\": \"count\", \"histnorm\": \"\", \"marker\": {\"color\": \"rgba(50, 171, 96, 1.0)\", \"line\": {\"color\": \"#4D5663\", \"width\": 1.3}}, \"name\": \"C\", \"nbinsx\": 10, \"opacity\": 0.8, \"orientation\": \"v\", \"type\": \"histogram\", \"x\": [-0.24686037129796642, -0.4795152376078478, 0.14944367353787624, -0.6853527509718431, -1.7028468412412232, -0.7798818649599734, -0.19234053531112388, 1.7804995095213754, -0.04036287646092673, -0.723546250475408, 1.2155456251649457, 1.0232165078548712, -1.0911591939514995, -1.4002945185590945, -0.9844024695347182, -2.5047733815436293, 0.5891949946312317, 0.8313392608625283, -2.2746833841723615, 1.6541512665364435, 0.21784756601440292, 0.17445575961753562, -1.836852104607844, 0.16325692077638956, -0.7935380739116973, 0.027907503343331128, 0.8538002676217139, -0.6241359044203422, -0.23572394655403262, 0.8594923322254395, -1.447564171823515, -0.7852302212592579, 0.497907566479336, -0.7093121216228477, -0.19087085966957418, -0.9331632945694524, -0.4104664553598608, -0.7903672196642071, -1.3552161912919363, -0.7763144272697288, 0.49976133703708603, 1.1611012988017406, -1.735752908375946, 1.6437986218317118, -0.3017809423983048, -1.0826105475980088, 0.016447894583500777, 0.6202116503828169, 0.2106450284731047, 0.6221618836777782, -1.2464583082253475, -1.966314968076596, 0.24388177796065524, -1.0376743625885156, -1.5203900572276658, 1.4884300136739879, 0.4944193659097848, -0.23129290772190259, 1.4419410558315484, -1.0292185001501921, -0.3751839069304503, 0.09924120865871619, 0.028048690524174302, 0.8402965979079163, -0.4671039314424817, 0.9047348889601571, -0.6907026203871445, 0.6262362359171377, -0.6322554988488555, 0.1978533428520716, -1.0530917743988188, 0.16532577645258734, 0.2518417349615779, -1.2022077742857284, -0.12399051256752064, -0.6447977621584156, -0.6698689412931773, -1.0581532991225995, 0.6314371002384549, -1.7864811633511934, 0.39332895131897516, -0.5331979122115895, -1.1559830542579275, 1.5772819646789715, -0.25984296964278736, 1.0390858679051702, -0.6520278543657485, 1.0653763533133234, -0.4122669377041702, 0.0013760273155446487, 0.13381253402436236, -0.6447555619163449, 0.37792047574193927, -2.0204643701988, 0.11469767046781733, 0.2804461252509056, 0.2436637417779295, -0.4374641695700345, 0.4466910722431926, 2.1902908363556435], \"xaxis\": \"x11\", \"yaxis\": \"y11\"}, {\"line\": {\"color\": \"rgba(128, 128, 128, 1.0)\", \"dash\": \"solid\", \"shape\": \"linear\", \"width\": 1.3}, \"marker\": {\"size\": 2, \"symbol\": \"circle\"}, \"mode\": \"markers\", \"name\": \"C\", \"text\": \"\", \"type\": \"scatter\", \"x\": [-0.8733379686732633, 0.22475225260711695, 0.6003728631702283, -0.7475414849079879, -0.8731505829973676, 0.8794751908632622, 1.296856464902928, -0.9506100017110891, 0.752827343619869, -1.1691130187985874, -0.8712647315318274, 0.5636707451512812, -0.1710308114854158, -1.7284270524020178, -0.3243556032739408, -0.16943133213397807, -1.0171772198234792, 1.5304562840453813, 1.056722380873873, 3.2089934521101906, 0.5729850310454369, 0.028372268084173743, -0.2151406424218395, -2.322619057508341, 0.2533427669895896, 0.07603831793752841, 0.26380781727939784, -0.5164559164420952, -2.72594572061758, 0.406426122275474, -1.2627246222217865, -0.9132968666759071, 0.2539262943902931, 1.4326200424242648, -0.37767853047554395, -1.0656203927411103, -0.05973524592289964, -1.7529754743037604, 0.6068891984383418, -0.3879168068123651, -1.035013461891617, -1.743126195948102, -0.2918481438691077, -0.01512351099964492, 0.25101023259815236, 0.4085577002000313, 1.1100131818513306, 0.3360818394416731, -0.9548494324521819, 2.2283342953425396, -0.9067222987945611, -0.7321078118365565, 0.5514428455787548, -1.3630870736162113, 1.018136184934407, 0.21751250949153464, -0.3767115947121578, -0.5546640063079199, -0.8871416712895261, 0.18312008628051119, 0.1758129638643444, -2.0698039327466375, -2.293021317161217, -0.807571995301875, 0.3040450616345944, 1.5092880425580266, -0.8950246832042933, -0.5762162690274315, 0.6949419055709126, 1.0640067317219322, -0.4519146300615394, -0.21886174030688288, -0.8095655902907344, 0.4986230829694079, 0.5666132607080857, 0.6026061625795713, -0.004757499389226333, 0.3514419991162287, -0.281905126041759, 0.8872631290195736, -0.22962566128815565, -1.017646111435563, -0.5635721343076957, 0.3011979834291313, -0.24042255174804705, 0.713671166459918, 0.08503230912733772, 0.7243525345541257, 0.6447885187854636, 0.39057435386990397, 0.6983754191501598, -0.6092719601781813, 1.1731475780318703, 0.28246898876269433, -0.2315336569167173, -0.13757611784336787, 0.5521933098305067, 0.4305914371706155, 0.8385826217826156, 0.5184135563823262], \"xaxis\": \"x12\", \"y\": [-0.24686037129796642, -0.4795152376078478, 0.14944367353787624, -0.6853527509718431, -1.7028468412412232, -0.7798818649599734, -0.19234053531112388, 1.7804995095213754, -0.04036287646092673, -0.723546250475408, 1.2155456251649457, 1.0232165078548712, -1.0911591939514995, -1.4002945185590945, -0.9844024695347182, -2.5047733815436293, 0.5891949946312317, 0.8313392608625283, -2.2746833841723615, 1.6541512665364435, 0.21784756601440292, 0.17445575961753562, -1.836852104607844, 0.16325692077638956, -0.7935380739116973, 0.027907503343331128, 0.8538002676217139, -0.6241359044203422, -0.23572394655403262, 0.8594923322254395, -1.447564171823515, -0.7852302212592579, 0.497907566479336, -0.7093121216228477, -0.19087085966957418, -0.9331632945694524, -0.4104664553598608, -0.7903672196642071, -1.3552161912919363, -0.7763144272697288, 0.49976133703708603, 1.1611012988017406, -1.735752908375946, 1.6437986218317118, -0.3017809423983048, -1.0826105475980088, 0.016447894583500777, 0.6202116503828169, 0.2106450284731047, 0.6221618836777782, -1.2464583082253475, -1.966314968076596, 0.24388177796065524, -1.0376743625885156, -1.5203900572276658, 1.4884300136739879, 0.4944193659097848, -0.23129290772190259, 1.4419410558315484, -1.0292185001501921, -0.3751839069304503, 0.09924120865871619, 0.028048690524174302, 0.8402965979079163, -0.4671039314424817, 0.9047348889601571, -0.6907026203871445, 0.6262362359171377, -0.6322554988488555, 0.1978533428520716, -1.0530917743988188, 0.16532577645258734, 0.2518417349615779, -1.2022077742857284, -0.12399051256752064, -0.6447977621584156, -0.6698689412931773, -1.0581532991225995, 0.6314371002384549, -1.7864811633511934, 0.39332895131897516, -0.5331979122115895, -1.1559830542579275, 1.5772819646789715, -0.25984296964278736, 1.0390858679051702, -0.6520278543657485, 1.0653763533133234, -0.4122669377041702, 0.0013760273155446487, 0.13381253402436236, -0.6447555619163449, 0.37792047574193927, -2.0204643701988, 0.11469767046781733, 0.2804461252509056, 0.2436637417779295, -0.4374641695700345, 0.4466910722431926, 2.1902908363556435], \"yaxis\": \"y12\"}, {\"line\": {\"color\": \"rgba(128, 128, 128, 1.0)\", \"dash\": \"solid\", \"shape\": \"linear\", \"width\": 1.3}, \"marker\": {\"size\": 2, \"symbol\": \"circle\"}, \"mode\": \"markers\", \"name\": \"D\", \"text\": \"\", \"type\": \"scatter\", \"x\": [-1.218991033261646, -0.5465765623202922, 0.18132417432275671, -0.014585404257609841, 0.1715182335092267, -1.3779384183098575, 2.2490010504007203, -1.2937347379867639, 0.645795456082042, -0.36282297531233015, -0.8830302929744168, 0.3978544585571979, 1.4573313754948551, -0.42499485568865564, 0.3706190593531806, 0.37736470261438537, 0.4277275289247419, -0.16226827355695023, -0.058022745855864394, -1.8487874313355865, 0.8022710961429018, -1.9470864824594507, -2.1131990933422515, -0.5106491158132542, 1.3796907827063247, -0.2829133544458733, -0.598005788070867, 0.985421725043829, -0.053580649651472724, 0.6804644985751658, 0.9481857380941411, -1.1146991830746134, 1.0275502417998543, -1.457489960262967, 0.23837190745798345, 0.5128251402478308, 0.6552122213363701, -3.1086824537421966, 0.4291926070041237, 0.7311268050114921, 0.7146906973183577, 0.23765346133515933, 0.5636683723477607, -0.19560647211511367, -1.4721539885794437, -0.1676593178014201, 0.4152099938863828, -0.9064861230077402, -0.5055774366498862, 0.5349192709445101, 2.1231913714510715, 2.2707276001335392, -1.709501621834544, 1.5200345414171992, -0.6180853646699377, 1.3204585944952765, 0.7672795518407083, -0.6968332170252055, 0.23875081210284058, 1.0277536622636916, -0.7671534331370783, -0.7377371573056383, 1.4735944964229581, -1.3514547300791788, -0.11340112276702033, 1.91749282262013, 1.2314518894288216, 0.23902470415773386, 0.7729293278824075, 0.027302940383040052, 0.7883419106958499, -0.007678428674991606, -0.4679306148027131, -0.3137113795539161, 0.5799497855130166, -0.4422423998075986, 0.013049264772897765, 1.1433034523669872, 1.2086040894753496, 1.234131361555419, -1.8422285316637823, 0.33371425688076634, -1.0086403689251748, 0.25408076638641586, -1.1537517610944619, 0.11546173547730847, -0.32788866726597193, 2.0331689908154784, 0.34797807275311415, -1.251412065531357, 0.9308890122198833, -0.8142474569278847, 0.7762675608414903, 0.8468274953365662, 1.3011474374604695, 0.05918586303413559, 2.1512380068791446, 1.5409210295246003, -1.4431005934720968, -1.0527879815155303], \"xaxis\": \"x13\", \"y\": [-0.8733379686732633, 0.22475225260711695, 0.6003728631702283, -0.7475414849079879, -0.8731505829973676, 0.8794751908632622, 1.296856464902928, -0.9506100017110891, 0.752827343619869, -1.1691130187985874, -0.8712647315318274, 0.5636707451512812, -0.1710308114854158, -1.7284270524020178, -0.3243556032739408, -0.16943133213397807, -1.0171772198234792, 1.5304562840453813, 1.056722380873873, 3.2089934521101906, 0.5729850310454369, 0.028372268084173743, -0.2151406424218395, -2.322619057508341, 0.2533427669895896, 0.07603831793752841, 0.26380781727939784, -0.5164559164420952, -2.72594572061758, 0.406426122275474, -1.2627246222217865, -0.9132968666759071, 0.2539262943902931, 1.4326200424242648, -0.37767853047554395, -1.0656203927411103, -0.05973524592289964, -1.7529754743037604, 0.6068891984383418, -0.3879168068123651, -1.035013461891617, -1.743126195948102, -0.2918481438691077, -0.01512351099964492, 0.25101023259815236, 0.4085577002000313, 1.1100131818513306, 0.3360818394416731, -0.9548494324521819, 2.2283342953425396, -0.9067222987945611, -0.7321078118365565, 0.5514428455787548, -1.3630870736162113, 1.018136184934407, 0.21751250949153464, -0.3767115947121578, -0.5546640063079199, -0.8871416712895261, 0.18312008628051119, 0.1758129638643444, -2.0698039327466375, -2.293021317161217, -0.807571995301875, 0.3040450616345944, 1.5092880425580266, -0.8950246832042933, -0.5762162690274315, 0.6949419055709126, 1.0640067317219322, -0.4519146300615394, -0.21886174030688288, -0.8095655902907344, 0.4986230829694079, 0.5666132607080857, 0.6026061625795713, -0.004757499389226333, 0.3514419991162287, -0.281905126041759, 0.8872631290195736, -0.22962566128815565, -1.017646111435563, -0.5635721343076957, 0.3011979834291313, -0.24042255174804705, 0.713671166459918, 0.08503230912733772, 0.7243525345541257, 0.6447885187854636, 0.39057435386990397, 0.6983754191501598, -0.6092719601781813, 1.1731475780318703, 0.28246898876269433, -0.2315336569167173, -0.13757611784336787, 0.5521933098305067, 0.4305914371706155, 0.8385826217826156, 0.5184135563823262], \"yaxis\": \"y13\"}, {\"line\": {\"color\": \"rgba(128, 128, 128, 1.0)\", \"dash\": \"solid\", \"shape\": \"linear\", \"width\": 1.3}, \"marker\": {\"size\": 2, \"symbol\": \"circle\"}, \"mode\": \"markers\", \"name\": \"D\", \"text\": \"\", \"type\": \"scatter\", \"x\": [0.3419764734215199, -2.3116551242894983, 1.3348751311612044, -0.1072796179888181, 2.483217793824436, -0.0741119345885313, -1.6738723112564624, 0.14713214486023077, 0.640769561204283, 0.4618918585952571, 1.7079110887935436, -0.1707611901698053, 0.6172860108755727, 0.25794903136380476, -0.6988181776820083, -1.263302918452683, -0.045883990267492424, -0.8257294543546106, 0.9600869708265687, 0.5681263328757964, -0.3647234435365751, -2.2170174535344085, 1.7049553191012643, -0.5537308376912038, -0.5893379099827436, -0.789750324269047, -0.5968772238779839, -0.2004912957144484, -0.6246266663795919, 1.0541547531216344, 1.1407786943515277, -0.3478718293512527, -0.4655854045314903, -1.0204625318491685, -0.17134797784339065, -2.004294224309604, -1.392027639421431, -1.8088906593188325, -1.7144334237148287, -0.828272087494066, 0.11134914674790283, 0.5563361994412729, 0.11786737071859353, 1.0283021269240364, -0.6844461103765496, 0.6134588405344479, -1.6636278706256518, 0.2354302397742566, 0.4927510624220601, 1.4458444853244878, -0.85488831932789, 0.41631088070245303, 0.8861235398691205, -0.7625248083567656, 0.21295446005412047, 1.202789392766879, -1.6552505758408658, 0.671892072559935, -0.8744246595050262, 1.899602505489602, -0.9895809299587186, -1.6374685722734121, -0.9557082919513292, 0.33382359674876755, 0.6439689050896489, 1.1376245647727588, -1.3105163589059687, -0.6367229605275069, 0.20988075534801515, 0.5270543441369793, 0.06317450408580289, 0.4759314171495404, -0.3389952753783388, 1.7627682347229436, -1.4433264556437697, -0.031462496251145354, 0.633865880706928, 1.3535256368079083, -0.4180120086025204, 0.649673515838004, 1.3975641015459965, 0.1279457536374559, 0.3990092190022796, 0.44430579823054356, -0.8096813840515048, -0.11930671508494314, -1.7368783531904881, -0.7436696453065349, 0.4937511254878508, -2.4396435356718817, 1.2824265662085645, 1.9556216542278397, -0.3268638798117112, -0.49065900845493565, 0.9615252684456398, -1.4589162600753647, -0.6776441409243771, -0.8578568648111088, -0.7204412403943163, 0.5339996751188443], \"xaxis\": \"x14\", \"y\": [-0.8733379686732633, 0.22475225260711695, 0.6003728631702283, -0.7475414849079879, -0.8731505829973676, 0.8794751908632622, 1.296856464902928, -0.9506100017110891, 0.752827343619869, -1.1691130187985874, -0.8712647315318274, 0.5636707451512812, -0.1710308114854158, -1.7284270524020178, -0.3243556032739408, -0.16943133213397807, -1.0171772198234792, 1.5304562840453813, 1.056722380873873, 3.2089934521101906, 0.5729850310454369, 0.028372268084173743, -0.2151406424218395, -2.322619057508341, 0.2533427669895896, 0.07603831793752841, 0.26380781727939784, -0.5164559164420952, -2.72594572061758, 0.406426122275474, -1.2627246222217865, -0.9132968666759071, 0.2539262943902931, 1.4326200424242648, -0.37767853047554395, -1.0656203927411103, -0.05973524592289964, -1.7529754743037604, 0.6068891984383418, -0.3879168068123651, -1.035013461891617, -1.743126195948102, -0.2918481438691077, -0.01512351099964492, 0.25101023259815236, 0.4085577002000313, 1.1100131818513306, 0.3360818394416731, -0.9548494324521819, 2.2283342953425396, -0.9067222987945611, -0.7321078118365565, 0.5514428455787548, -1.3630870736162113, 1.018136184934407, 0.21751250949153464, -0.3767115947121578, -0.5546640063079199, -0.8871416712895261, 0.18312008628051119, 0.1758129638643444, -2.0698039327466375, -2.293021317161217, -0.807571995301875, 0.3040450616345944, 1.5092880425580266, -0.8950246832042933, -0.5762162690274315, 0.6949419055709126, 1.0640067317219322, -0.4519146300615394, -0.21886174030688288, -0.8095655902907344, 0.4986230829694079, 0.5666132607080857, 0.6026061625795713, -0.004757499389226333, 0.3514419991162287, -0.281905126041759, 0.8872631290195736, -0.22962566128815565, -1.017646111435563, -0.5635721343076957, 0.3011979834291313, -0.24042255174804705, 0.713671166459918, 0.08503230912733772, 0.7243525345541257, 0.6447885187854636, 0.39057435386990397, 0.6983754191501598, -0.6092719601781813, 1.1731475780318703, 0.28246898876269433, -0.2315336569167173, -0.13757611784336787, 0.5521933098305067, 0.4305914371706155, 0.8385826217826156, 0.5184135563823262], \"yaxis\": \"y14\"}, {\"line\": {\"color\": \"rgba(128, 128, 128, 1.0)\", \"dash\": \"solid\", \"shape\": \"linear\", \"width\": 1.3}, \"marker\": {\"size\": 2, \"symbol\": \"circle\"}, \"mode\": \"markers\", \"name\": \"D\", \"text\": \"\", \"type\": \"scatter\", \"x\": [-0.24686037129796642, -0.4795152376078478, 0.14944367353787624, -0.6853527509718431, -1.7028468412412232, -0.7798818649599734, -0.19234053531112388, 1.7804995095213754, -0.04036287646092673, -0.723546250475408, 1.2155456251649457, 1.0232165078548712, -1.0911591939514995, -1.4002945185590945, -0.9844024695347182, -2.5047733815436293, 0.5891949946312317, 0.8313392608625283, -2.2746833841723615, 1.6541512665364435, 0.21784756601440292, 0.17445575961753562, -1.836852104607844, 0.16325692077638956, -0.7935380739116973, 0.027907503343331128, 0.8538002676217139, -0.6241359044203422, -0.23572394655403262, 0.8594923322254395, -1.447564171823515, -0.7852302212592579, 0.497907566479336, -0.7093121216228477, -0.19087085966957418, -0.9331632945694524, -0.4104664553598608, -0.7903672196642071, -1.3552161912919363, -0.7763144272697288, 0.49976133703708603, 1.1611012988017406, -1.735752908375946, 1.6437986218317118, -0.3017809423983048, -1.0826105475980088, 0.016447894583500777, 0.6202116503828169, 0.2106450284731047, 0.6221618836777782, -1.2464583082253475, -1.966314968076596, 0.24388177796065524, -1.0376743625885156, -1.5203900572276658, 1.4884300136739879, 0.4944193659097848, -0.23129290772190259, 1.4419410558315484, -1.0292185001501921, -0.3751839069304503, 0.09924120865871619, 0.028048690524174302, 0.8402965979079163, -0.4671039314424817, 0.9047348889601571, -0.6907026203871445, 0.6262362359171377, -0.6322554988488555, 0.1978533428520716, -1.0530917743988188, 0.16532577645258734, 0.2518417349615779, -1.2022077742857284, -0.12399051256752064, -0.6447977621584156, -0.6698689412931773, -1.0581532991225995, 0.6314371002384549, -1.7864811633511934, 0.39332895131897516, -0.5331979122115895, -1.1559830542579275, 1.5772819646789715, -0.25984296964278736, 1.0390858679051702, -0.6520278543657485, 1.0653763533133234, -0.4122669377041702, 0.0013760273155446487, 0.13381253402436236, -0.6447555619163449, 0.37792047574193927, -2.0204643701988, 0.11469767046781733, 0.2804461252509056, 0.2436637417779295, -0.4374641695700345, 0.4466910722431926, 2.1902908363556435], \"xaxis\": \"x15\", \"y\": [-0.8733379686732633, 0.22475225260711695, 0.6003728631702283, -0.7475414849079879, -0.8731505829973676, 0.8794751908632622, 1.296856464902928, -0.9506100017110891, 0.752827343619869, -1.1691130187985874, -0.8712647315318274, 0.5636707451512812, -0.1710308114854158, -1.7284270524020178, -0.3243556032739408, -0.16943133213397807, -1.0171772198234792, 1.5304562840453813, 1.056722380873873, 3.2089934521101906, 0.5729850310454369, 0.028372268084173743, -0.2151406424218395, -2.322619057508341, 0.2533427669895896, 0.07603831793752841, 0.26380781727939784, -0.5164559164420952, -2.72594572061758, 0.406426122275474, -1.2627246222217865, -0.9132968666759071, 0.2539262943902931, 1.4326200424242648, -0.37767853047554395, -1.0656203927411103, -0.05973524592289964, -1.7529754743037604, 0.6068891984383418, -0.3879168068123651, -1.035013461891617, -1.743126195948102, -0.2918481438691077, -0.01512351099964492, 0.25101023259815236, 0.4085577002000313, 1.1100131818513306, 0.3360818394416731, -0.9548494324521819, 2.2283342953425396, -0.9067222987945611, -0.7321078118365565, 0.5514428455787548, -1.3630870736162113, 1.018136184934407, 0.21751250949153464, -0.3767115947121578, -0.5546640063079199, -0.8871416712895261, 0.18312008628051119, 0.1758129638643444, -2.0698039327466375, -2.293021317161217, -0.807571995301875, 0.3040450616345944, 1.5092880425580266, -0.8950246832042933, -0.5762162690274315, 0.6949419055709126, 1.0640067317219322, -0.4519146300615394, -0.21886174030688288, -0.8095655902907344, 0.4986230829694079, 0.5666132607080857, 0.6026061625795713, -0.004757499389226333, 0.3514419991162287, -0.281905126041759, 0.8872631290195736, -0.22962566128815565, -1.017646111435563, -0.5635721343076957, 0.3011979834291313, -0.24042255174804705, 0.713671166459918, 0.08503230912733772, 0.7243525345541257, 0.6447885187854636, 0.39057435386990397, 0.6983754191501598, -0.6092719601781813, 1.1731475780318703, 0.28246898876269433, -0.2315336569167173, -0.13757611784336787, 0.5521933098305067, 0.4305914371706155, 0.8385826217826156, 0.5184135563823262], \"yaxis\": \"y15\"}, {\"histfunc\": \"count\", \"histnorm\": \"\", \"marker\": {\"color\": \"rgba(128, 0, 128, 1.0)\", \"line\": {\"color\": \"#4D5663\", \"width\": 1.3}}, \"name\": \"D\", \"nbinsx\": 10, \"opacity\": 0.8, \"orientation\": \"v\", \"type\": \"histogram\", \"x\": [-0.8733379686732633, 0.22475225260711695, 0.6003728631702283, -0.7475414849079879, -0.8731505829973676, 0.8794751908632622, 1.296856464902928, -0.9506100017110891, 0.752827343619869, -1.1691130187985874, -0.8712647315318274, 0.5636707451512812, -0.1710308114854158, -1.7284270524020178, -0.3243556032739408, -0.16943133213397807, -1.0171772198234792, 1.5304562840453813, 1.056722380873873, 3.2089934521101906, 0.5729850310454369, 0.028372268084173743, -0.2151406424218395, -2.322619057508341, 0.2533427669895896, 0.07603831793752841, 0.26380781727939784, -0.5164559164420952, -2.72594572061758, 0.406426122275474, -1.2627246222217865, -0.9132968666759071, 0.2539262943902931, 1.4326200424242648, -0.37767853047554395, -1.0656203927411103, -0.05973524592289964, -1.7529754743037604, 0.6068891984383418, -0.3879168068123651, -1.035013461891617, -1.743126195948102, -0.2918481438691077, -0.01512351099964492, 0.25101023259815236, 0.4085577002000313, 1.1100131818513306, 0.3360818394416731, -0.9548494324521819, 2.2283342953425396, -0.9067222987945611, -0.7321078118365565, 0.5514428455787548, -1.3630870736162113, 1.018136184934407, 0.21751250949153464, -0.3767115947121578, -0.5546640063079199, -0.8871416712895261, 0.18312008628051119, 0.1758129638643444, -2.0698039327466375, -2.293021317161217, -0.807571995301875, 0.3040450616345944, 1.5092880425580266, -0.8950246832042933, -0.5762162690274315, 0.6949419055709126, 1.0640067317219322, -0.4519146300615394, -0.21886174030688288, -0.8095655902907344, 0.4986230829694079, 0.5666132607080857, 0.6026061625795713, -0.004757499389226333, 0.3514419991162287, -0.281905126041759, 0.8872631290195736, -0.22962566128815565, -1.017646111435563, -0.5635721343076957, 0.3011979834291313, -0.24042255174804705, 0.713671166459918, 0.08503230912733772, 0.7243525345541257, 0.6447885187854636, 0.39057435386990397, 0.6983754191501598, -0.6092719601781813, 1.1731475780318703, 0.28246898876269433, -0.2315336569167173, -0.13757611784336787, 0.5521933098305067, 0.4305914371706155, 0.8385826217826156, 0.5184135563823262], \"xaxis\": \"x16\", \"yaxis\": \"y16\"}],\n",
       "                        {\"bargap\": 0.02, \"legend\": {\"bgcolor\": \"#F5F6F9\", \"font\": {\"color\": \"#4D5663\"}}, \"paper_bgcolor\": \"#F5F6F9\", \"plot_bgcolor\": \"#F5F6F9\", \"showlegend\": false, \"template\": {\"data\": {\"bar\": [{\"error_x\": {\"color\": \"#2a3f5f\"}, \"error_y\": {\"color\": \"#2a3f5f\"}, \"marker\": {\"line\": {\"color\": \"#E5ECF6\", \"width\": 0.5}}, \"type\": \"bar\"}], \"barpolar\": [{\"marker\": {\"line\": {\"color\": \"#E5ECF6\", \"width\": 0.5}}, \"type\": \"barpolar\"}], \"carpet\": [{\"aaxis\": {\"endlinecolor\": \"#2a3f5f\", \"gridcolor\": \"white\", \"linecolor\": \"white\", \"minorgridcolor\": \"white\", \"startlinecolor\": \"#2a3f5f\"}, \"baxis\": {\"endlinecolor\": \"#2a3f5f\", \"gridcolor\": \"white\", \"linecolor\": \"white\", \"minorgridcolor\": \"white\", \"startlinecolor\": \"#2a3f5f\"}, \"type\": \"carpet\"}], \"choropleth\": [{\"colorbar\": {\"outlinewidth\": 0, \"ticks\": \"\"}, \"type\": \"choropleth\"}], \"contour\": [{\"colorbar\": {\"outlinewidth\": 0, \"ticks\": \"\"}, \"colorscale\": [[0.0, \"#0d0887\"], [0.1111111111111111, \"#46039f\"], [0.2222222222222222, \"#7201a8\"], [0.3333333333333333, \"#9c179e\"], [0.4444444444444444, \"#bd3786\"], [0.5555555555555556, \"#d8576b\"], [0.6666666666666666, \"#ed7953\"], [0.7777777777777778, \"#fb9f3a\"], [0.8888888888888888, \"#fdca26\"], [1.0, \"#f0f921\"]], \"type\": \"contour\"}], \"contourcarpet\": [{\"colorbar\": {\"outlinewidth\": 0, \"ticks\": \"\"}, \"type\": \"contourcarpet\"}], \"heatmap\": [{\"colorbar\": {\"outlinewidth\": 0, \"ticks\": \"\"}, \"colorscale\": [[0.0, \"#0d0887\"], [0.1111111111111111, \"#46039f\"], [0.2222222222222222, \"#7201a8\"], [0.3333333333333333, \"#9c179e\"], [0.4444444444444444, \"#bd3786\"], [0.5555555555555556, \"#d8576b\"], [0.6666666666666666, \"#ed7953\"], [0.7777777777777778, \"#fb9f3a\"], [0.8888888888888888, \"#fdca26\"], [1.0, \"#f0f921\"]], \"type\": \"heatmap\"}], \"heatmapgl\": [{\"colorbar\": {\"outlinewidth\": 0, \"ticks\": \"\"}, \"colorscale\": [[0.0, \"#0d0887\"], [0.1111111111111111, \"#46039f\"], [0.2222222222222222, \"#7201a8\"], [0.3333333333333333, \"#9c179e\"], [0.4444444444444444, \"#bd3786\"], [0.5555555555555556, \"#d8576b\"], [0.6666666666666666, \"#ed7953\"], [0.7777777777777778, \"#fb9f3a\"], [0.8888888888888888, \"#fdca26\"], [1.0, \"#f0f921\"]], \"type\": \"heatmapgl\"}], \"histogram\": [{\"marker\": {\"colorbar\": {\"outlinewidth\": 0, \"ticks\": \"\"}}, \"type\": \"histogram\"}], \"histogram2d\": [{\"colorbar\": {\"outlinewidth\": 0, \"ticks\": \"\"}, \"colorscale\": [[0.0, \"#0d0887\"], [0.1111111111111111, \"#46039f\"], [0.2222222222222222, \"#7201a8\"], [0.3333333333333333, \"#9c179e\"], [0.4444444444444444, \"#bd3786\"], [0.5555555555555556, \"#d8576b\"], [0.6666666666666666, \"#ed7953\"], [0.7777777777777778, \"#fb9f3a\"], [0.8888888888888888, \"#fdca26\"], [1.0, \"#f0f921\"]], \"type\": \"histogram2d\"}], \"histogram2dcontour\": [{\"colorbar\": {\"outlinewidth\": 0, \"ticks\": \"\"}, \"colorscale\": [[0.0, \"#0d0887\"], [0.1111111111111111, \"#46039f\"], [0.2222222222222222, \"#7201a8\"], [0.3333333333333333, \"#9c179e\"], [0.4444444444444444, \"#bd3786\"], [0.5555555555555556, \"#d8576b\"], [0.6666666666666666, \"#ed7953\"], [0.7777777777777778, \"#fb9f3a\"], [0.8888888888888888, \"#fdca26\"], [1.0, \"#f0f921\"]], \"type\": \"histogram2dcontour\"}], \"mesh3d\": [{\"colorbar\": {\"outlinewidth\": 0, \"ticks\": \"\"}, \"type\": \"mesh3d\"}], \"parcoords\": [{\"line\": {\"colorbar\": {\"outlinewidth\": 0, \"ticks\": \"\"}}, \"type\": \"parcoords\"}], \"pie\": [{\"automargin\": true, \"type\": \"pie\"}], \"scatter\": [{\"marker\": {\"colorbar\": {\"outlinewidth\": 0, \"ticks\": \"\"}}, \"type\": \"scatter\"}], \"scatter3d\": [{\"line\": {\"colorbar\": {\"outlinewidth\": 0, \"ticks\": \"\"}}, \"marker\": {\"colorbar\": {\"outlinewidth\": 0, \"ticks\": \"\"}}, \"type\": \"scatter3d\"}], \"scattercarpet\": [{\"marker\": {\"colorbar\": {\"outlinewidth\": 0, \"ticks\": \"\"}}, \"type\": \"scattercarpet\"}], \"scattergeo\": [{\"marker\": {\"colorbar\": {\"outlinewidth\": 0, \"ticks\": \"\"}}, \"type\": \"scattergeo\"}], \"scattergl\": [{\"marker\": {\"colorbar\": {\"outlinewidth\": 0, \"ticks\": \"\"}}, \"type\": \"scattergl\"}], \"scattermapbox\": [{\"marker\": {\"colorbar\": {\"outlinewidth\": 0, \"ticks\": \"\"}}, \"type\": \"scattermapbox\"}], \"scatterpolar\": [{\"marker\": {\"colorbar\": {\"outlinewidth\": 0, \"ticks\": \"\"}}, \"type\": \"scatterpolar\"}], \"scatterpolargl\": [{\"marker\": {\"colorbar\": {\"outlinewidth\": 0, \"ticks\": \"\"}}, \"type\": \"scatterpolargl\"}], \"scatterternary\": [{\"marker\": {\"colorbar\": {\"outlinewidth\": 0, \"ticks\": \"\"}}, \"type\": \"scatterternary\"}], \"surface\": [{\"colorbar\": {\"outlinewidth\": 0, \"ticks\": \"\"}, \"colorscale\": [[0.0, \"#0d0887\"], [0.1111111111111111, \"#46039f\"], [0.2222222222222222, \"#7201a8\"], [0.3333333333333333, \"#9c179e\"], [0.4444444444444444, \"#bd3786\"], [0.5555555555555556, \"#d8576b\"], [0.6666666666666666, \"#ed7953\"], [0.7777777777777778, \"#fb9f3a\"], [0.8888888888888888, \"#fdca26\"], [1.0, \"#f0f921\"]], \"type\": \"surface\"}], \"table\": [{\"cells\": {\"fill\": {\"color\": \"#EBF0F8\"}, \"line\": {\"color\": \"white\"}}, \"header\": {\"fill\": {\"color\": \"#C8D4E3\"}, \"line\": {\"color\": \"white\"}}, \"type\": \"table\"}]}, \"layout\": {\"annotationdefaults\": {\"arrowcolor\": \"#2a3f5f\", \"arrowhead\": 0, \"arrowwidth\": 1}, \"coloraxis\": {\"colorbar\": {\"outlinewidth\": 0, \"ticks\": \"\"}}, \"colorscale\": {\"diverging\": [[0, \"#8e0152\"], [0.1, \"#c51b7d\"], [0.2, \"#de77ae\"], [0.3, \"#f1b6da\"], [0.4, \"#fde0ef\"], [0.5, \"#f7f7f7\"], [0.6, \"#e6f5d0\"], [0.7, \"#b8e186\"], [0.8, \"#7fbc41\"], [0.9, \"#4d9221\"], [1, \"#276419\"]], \"sequential\": [[0.0, \"#0d0887\"], [0.1111111111111111, \"#46039f\"], [0.2222222222222222, \"#7201a8\"], [0.3333333333333333, \"#9c179e\"], [0.4444444444444444, \"#bd3786\"], [0.5555555555555556, \"#d8576b\"], [0.6666666666666666, \"#ed7953\"], [0.7777777777777778, \"#fb9f3a\"], [0.8888888888888888, \"#fdca26\"], [1.0, \"#f0f921\"]], \"sequentialminus\": [[0.0, \"#0d0887\"], [0.1111111111111111, \"#46039f\"], [0.2222222222222222, \"#7201a8\"], [0.3333333333333333, \"#9c179e\"], [0.4444444444444444, \"#bd3786\"], [0.5555555555555556, \"#d8576b\"], [0.6666666666666666, \"#ed7953\"], [0.7777777777777778, \"#fb9f3a\"], [0.8888888888888888, \"#fdca26\"], [1.0, \"#f0f921\"]]}, \"colorway\": [\"#636efa\", \"#EF553B\", \"#00cc96\", \"#ab63fa\", \"#FFA15A\", \"#19d3f3\", \"#FF6692\", \"#B6E880\", \"#FF97FF\", \"#FECB52\"], \"font\": {\"color\": \"#2a3f5f\"}, \"geo\": {\"bgcolor\": \"white\", \"lakecolor\": \"white\", \"landcolor\": \"#E5ECF6\", \"showlakes\": true, \"showland\": true, \"subunitcolor\": \"white\"}, \"hoverlabel\": {\"align\": \"left\"}, \"hovermode\": \"closest\", \"mapbox\": {\"style\": \"light\"}, \"paper_bgcolor\": \"white\", \"plot_bgcolor\": \"#E5ECF6\", \"polar\": {\"angularaxis\": {\"gridcolor\": \"white\", \"linecolor\": \"white\", \"ticks\": \"\"}, \"bgcolor\": \"#E5ECF6\", \"radialaxis\": {\"gridcolor\": \"white\", \"linecolor\": \"white\", \"ticks\": \"\"}}, \"scene\": {\"xaxis\": {\"backgroundcolor\": \"#E5ECF6\", \"gridcolor\": \"white\", \"gridwidth\": 2, \"linecolor\": \"white\", \"showbackground\": true, \"ticks\": \"\", \"zerolinecolor\": \"white\"}, \"yaxis\": {\"backgroundcolor\": \"#E5ECF6\", \"gridcolor\": \"white\", \"gridwidth\": 2, \"linecolor\": \"white\", \"showbackground\": true, \"ticks\": \"\", \"zerolinecolor\": \"white\"}, \"zaxis\": {\"backgroundcolor\": \"#E5ECF6\", \"gridcolor\": \"white\", \"gridwidth\": 2, \"linecolor\": \"white\", \"showbackground\": true, \"ticks\": \"\", \"zerolinecolor\": \"white\"}}, \"shapedefaults\": {\"line\": {\"color\": \"#2a3f5f\"}}, \"ternary\": {\"aaxis\": {\"gridcolor\": \"white\", \"linecolor\": \"white\", \"ticks\": \"\"}, \"baxis\": {\"gridcolor\": \"white\", \"linecolor\": \"white\", \"ticks\": \"\"}, \"bgcolor\": \"#E5ECF6\", \"caxis\": {\"gridcolor\": \"white\", \"linecolor\": \"white\", \"ticks\": \"\"}}, \"title\": {\"x\": 0.05}, \"xaxis\": {\"automargin\": true, \"gridcolor\": \"white\", \"linecolor\": \"white\", \"ticks\": \"\", \"title\": {\"standoff\": 15}, \"zerolinecolor\": \"white\", \"zerolinewidth\": 2}, \"yaxis\": {\"automargin\": true, \"gridcolor\": \"white\", \"linecolor\": \"white\", \"ticks\": \"\", \"title\": {\"standoff\": 15}, \"zerolinecolor\": \"white\", \"zerolinewidth\": 2}}}, \"title\": {\"font\": {\"color\": \"#4D5663\"}}, \"xaxis\": {\"anchor\": \"y\", \"domain\": [0.0, 0.2125], \"gridcolor\": \"#E1E5ED\", \"showgrid\": false, \"tickfont\": {\"color\": \"#4D5663\"}, \"title\": {\"font\": {\"color\": \"#4D5663\"}, \"text\": \"\"}, \"zerolinecolor\": \"#E1E5ED\"}, \"xaxis10\": {\"anchor\": \"y10\", \"domain\": [0.2625, 0.475], \"gridcolor\": \"#E1E5ED\", \"showgrid\": false, \"tickfont\": {\"color\": \"#4D5663\"}, \"title\": {\"font\": {\"color\": \"#4D5663\"}, \"text\": \"\"}, \"zerolinecolor\": \"#E1E5ED\"}, \"xaxis11\": {\"anchor\": \"y11\", \"domain\": [0.525, 0.7375], \"gridcolor\": \"#E1E5ED\", \"showgrid\": false, \"tickfont\": {\"color\": \"#4D5663\"}, \"title\": {\"font\": {\"color\": \"#4D5663\"}, \"text\": \"\"}, \"zerolinecolor\": \"#E1E5ED\"}, \"xaxis12\": {\"anchor\": \"y12\", \"domain\": [0.7875, 1.0], \"gridcolor\": \"#E1E5ED\", \"showgrid\": false, \"tickfont\": {\"color\": \"#4D5663\"}, \"title\": {\"font\": {\"color\": \"#4D5663\"}, \"text\": \"\"}, \"zerolinecolor\": \"#E1E5ED\"}, \"xaxis13\": {\"anchor\": \"y13\", \"domain\": [0.0, 0.2125], \"gridcolor\": \"#E1E5ED\", \"showgrid\": false, \"tickfont\": {\"color\": \"#4D5663\"}, \"title\": {\"font\": {\"color\": \"#4D5663\"}, \"text\": \"\"}, \"zerolinecolor\": \"#E1E5ED\"}, \"xaxis14\": {\"anchor\": \"y14\", \"domain\": [0.2625, 0.475], \"gridcolor\": \"#E1E5ED\", \"showgrid\": false, \"tickfont\": {\"color\": \"#4D5663\"}, \"title\": {\"font\": {\"color\": \"#4D5663\"}, \"text\": \"\"}, \"zerolinecolor\": \"#E1E5ED\"}, \"xaxis15\": {\"anchor\": \"y15\", \"domain\": [0.525, 0.7375], \"gridcolor\": \"#E1E5ED\", \"showgrid\": false, \"tickfont\": {\"color\": \"#4D5663\"}, \"title\": {\"font\": {\"color\": \"#4D5663\"}, \"text\": \"\"}, \"zerolinecolor\": \"#E1E5ED\"}, \"xaxis16\": {\"anchor\": \"y16\", \"domain\": [0.7875, 1.0], \"gridcolor\": \"#E1E5ED\", \"showgrid\": false, \"tickfont\": {\"color\": \"#4D5663\"}, \"title\": {\"font\": {\"color\": \"#4D5663\"}, \"text\": \"\"}, \"zerolinecolor\": \"#E1E5ED\"}, \"xaxis2\": {\"anchor\": \"y2\", \"domain\": [0.2625, 0.475], \"gridcolor\": \"#E1E5ED\", \"showgrid\": false, \"tickfont\": {\"color\": \"#4D5663\"}, \"title\": {\"font\": {\"color\": \"#4D5663\"}, \"text\": \"\"}, \"zerolinecolor\": \"#E1E5ED\"}, \"xaxis3\": {\"anchor\": \"y3\", \"domain\": [0.525, 0.7375], \"gridcolor\": \"#E1E5ED\", \"showgrid\": false, \"tickfont\": {\"color\": \"#4D5663\"}, \"title\": {\"font\": {\"color\": \"#4D5663\"}, \"text\": \"\"}, \"zerolinecolor\": \"#E1E5ED\"}, \"xaxis4\": {\"anchor\": \"y4\", \"domain\": [0.7875, 1.0], \"gridcolor\": \"#E1E5ED\", \"showgrid\": false, \"tickfont\": {\"color\": \"#4D5663\"}, \"title\": {\"font\": {\"color\": \"#4D5663\"}, \"text\": \"\"}, \"zerolinecolor\": \"#E1E5ED\"}, \"xaxis5\": {\"anchor\": \"y5\", \"domain\": [0.0, 0.2125], \"gridcolor\": \"#E1E5ED\", \"showgrid\": false, \"tickfont\": {\"color\": \"#4D5663\"}, \"title\": {\"font\": {\"color\": \"#4D5663\"}, \"text\": \"\"}, \"zerolinecolor\": \"#E1E5ED\"}, \"xaxis6\": {\"anchor\": \"y6\", \"domain\": [0.2625, 0.475], \"gridcolor\": \"#E1E5ED\", \"showgrid\": false, \"tickfont\": {\"color\": \"#4D5663\"}, \"title\": {\"font\": {\"color\": \"#4D5663\"}, \"text\": \"\"}, \"zerolinecolor\": \"#E1E5ED\"}, \"xaxis7\": {\"anchor\": \"y7\", \"domain\": [0.525, 0.7375], \"gridcolor\": \"#E1E5ED\", \"showgrid\": false, \"tickfont\": {\"color\": \"#4D5663\"}, \"title\": {\"font\": {\"color\": \"#4D5663\"}, \"text\": \"\"}, \"zerolinecolor\": \"#E1E5ED\"}, \"xaxis8\": {\"anchor\": \"y8\", \"domain\": [0.7875, 1.0], \"gridcolor\": \"#E1E5ED\", \"showgrid\": false, \"tickfont\": {\"color\": \"#4D5663\"}, \"title\": {\"font\": {\"color\": \"#4D5663\"}, \"text\": \"\"}, \"zerolinecolor\": \"#E1E5ED\"}, \"xaxis9\": {\"anchor\": \"y9\", \"domain\": [0.0, 0.2125], \"gridcolor\": \"#E1E5ED\", \"showgrid\": false, \"tickfont\": {\"color\": \"#4D5663\"}, \"title\": {\"font\": {\"color\": \"#4D5663\"}, \"text\": \"\"}, \"zerolinecolor\": \"#E1E5ED\"}, \"yaxis\": {\"anchor\": \"x\", \"domain\": [0.8025, 1.0], \"gridcolor\": \"#E1E5ED\", \"showgrid\": false, \"tickfont\": {\"color\": \"#4D5663\"}, \"title\": {\"font\": {\"color\": \"#4D5663\"}, \"text\": \"\"}, \"zerolinecolor\": \"#E1E5ED\"}, \"yaxis10\": {\"anchor\": \"x10\", \"domain\": [0.2675, 0.465], \"gridcolor\": \"#E1E5ED\", \"showgrid\": false, \"tickfont\": {\"color\": \"#4D5663\"}, \"title\": {\"font\": {\"color\": \"#4D5663\"}, \"text\": \"\"}, \"zerolinecolor\": \"#E1E5ED\"}, \"yaxis11\": {\"anchor\": \"x11\", \"domain\": [0.2675, 0.465], \"gridcolor\": \"#E1E5ED\", \"showgrid\": false, \"tickfont\": {\"color\": \"#4D5663\"}, \"title\": {\"font\": {\"color\": \"#4D5663\"}, \"text\": \"\"}, \"zerolinecolor\": \"#E1E5ED\"}, \"yaxis12\": {\"anchor\": \"x12\", \"domain\": [0.2675, 0.465], \"gridcolor\": \"#E1E5ED\", \"showgrid\": false, \"tickfont\": {\"color\": \"#4D5663\"}, \"title\": {\"font\": {\"color\": \"#4D5663\"}, \"text\": \"\"}, \"zerolinecolor\": \"#E1E5ED\"}, \"yaxis13\": {\"anchor\": \"x13\", \"domain\": [0.0, 0.1975], \"gridcolor\": \"#E1E5ED\", \"showgrid\": false, \"tickfont\": {\"color\": \"#4D5663\"}, \"title\": {\"font\": {\"color\": \"#4D5663\"}, \"text\": \"\"}, \"zerolinecolor\": \"#E1E5ED\"}, \"yaxis14\": {\"anchor\": \"x14\", \"domain\": [0.0, 0.1975], \"gridcolor\": \"#E1E5ED\", \"showgrid\": false, \"tickfont\": {\"color\": \"#4D5663\"}, \"title\": {\"font\": {\"color\": \"#4D5663\"}, \"text\": \"\"}, \"zerolinecolor\": \"#E1E5ED\"}, \"yaxis15\": {\"anchor\": \"x15\", \"domain\": [0.0, 0.1975], \"gridcolor\": \"#E1E5ED\", \"showgrid\": false, \"tickfont\": {\"color\": \"#4D5663\"}, \"title\": {\"font\": {\"color\": \"#4D5663\"}, \"text\": \"\"}, \"zerolinecolor\": \"#E1E5ED\"}, \"yaxis16\": {\"anchor\": \"x16\", \"domain\": [0.0, 0.1975], \"gridcolor\": \"#E1E5ED\", \"showgrid\": false, \"tickfont\": {\"color\": \"#4D5663\"}, \"title\": {\"font\": {\"color\": \"#4D5663\"}, \"text\": \"\"}, \"zerolinecolor\": \"#E1E5ED\"}, \"yaxis2\": {\"anchor\": \"x2\", \"domain\": [0.8025, 1.0], \"gridcolor\": \"#E1E5ED\", \"showgrid\": false, \"tickfont\": {\"color\": \"#4D5663\"}, \"title\": {\"font\": {\"color\": \"#4D5663\"}, \"text\": \"\"}, \"zerolinecolor\": \"#E1E5ED\"}, \"yaxis3\": {\"anchor\": \"x3\", \"domain\": [0.8025, 1.0], \"gridcolor\": \"#E1E5ED\", \"showgrid\": false, \"tickfont\": {\"color\": \"#4D5663\"}, \"title\": {\"font\": {\"color\": \"#4D5663\"}, \"text\": \"\"}, \"zerolinecolor\": \"#E1E5ED\"}, \"yaxis4\": {\"anchor\": \"x4\", \"domain\": [0.8025, 1.0], \"gridcolor\": \"#E1E5ED\", \"showgrid\": false, \"tickfont\": {\"color\": \"#4D5663\"}, \"title\": {\"font\": {\"color\": \"#4D5663\"}, \"text\": \"\"}, \"zerolinecolor\": \"#E1E5ED\"}, \"yaxis5\": {\"anchor\": \"x5\", \"domain\": [0.535, 0.7325], \"gridcolor\": \"#E1E5ED\", \"showgrid\": false, \"tickfont\": {\"color\": \"#4D5663\"}, \"title\": {\"font\": {\"color\": \"#4D5663\"}, \"text\": \"\"}, \"zerolinecolor\": \"#E1E5ED\"}, \"yaxis6\": {\"anchor\": \"x6\", \"domain\": [0.535, 0.7325], \"gridcolor\": \"#E1E5ED\", \"showgrid\": false, \"tickfont\": {\"color\": \"#4D5663\"}, \"title\": {\"font\": {\"color\": \"#4D5663\"}, \"text\": \"\"}, \"zerolinecolor\": \"#E1E5ED\"}, \"yaxis7\": {\"anchor\": \"x7\", \"domain\": [0.535, 0.7325], \"gridcolor\": \"#E1E5ED\", \"showgrid\": false, \"tickfont\": {\"color\": \"#4D5663\"}, \"title\": {\"font\": {\"color\": \"#4D5663\"}, \"text\": \"\"}, \"zerolinecolor\": \"#E1E5ED\"}, \"yaxis8\": {\"anchor\": \"x8\", \"domain\": [0.535, 0.7325], \"gridcolor\": \"#E1E5ED\", \"showgrid\": false, \"tickfont\": {\"color\": \"#4D5663\"}, \"title\": {\"font\": {\"color\": \"#4D5663\"}, \"text\": \"\"}, \"zerolinecolor\": \"#E1E5ED\"}, \"yaxis9\": {\"anchor\": \"x9\", \"domain\": [0.2675, 0.465], \"gridcolor\": \"#E1E5ED\", \"showgrid\": false, \"tickfont\": {\"color\": \"#4D5663\"}, \"title\": {\"font\": {\"color\": \"#4D5663\"}, \"text\": \"\"}, \"zerolinecolor\": \"#E1E5ED\"}},\n",
       "                        {\"showLink\": true, \"linkText\": \"Export to plot.ly\", \"plotlyServerURL\": \"https://plot.ly\", \"responsive\": true}\n",
       "                    ).then(function(){\n",
       "                            \n",
       "var gd = document.getElementById('2576d73a-a6df-4d68-b3bc-8667707f9e08');\n",
       "var x = new MutationObserver(function (mutations, observer) {{\n",
       "        var display = window.getComputedStyle(gd).display;\n",
       "        if (!display || display === 'none') {{\n",
       "            console.log([gd, 'removed!']);\n",
       "            Plotly.purge(gd);\n",
       "            observer.disconnect();\n",
       "        }}\n",
       "}});\n",
       "\n",
       "// Listen for the removal of the full notebook cells\n",
       "var notebookContainer = gd.closest('#notebook-container');\n",
       "if (notebookContainer) {{\n",
       "    x.observe(notebookContainer, {childList: true});\n",
       "}}\n",
       "\n",
       "// Listen for the clearing of the current output cell\n",
       "var outputEl = gd.closest('.output');\n",
       "if (outputEl) {{\n",
       "    x.observe(outputEl, {childList: true});\n",
       "}}\n",
       "\n",
       "                        })\n",
       "                };\n",
       "                });\n",
       "            </script>\n",
       "        </div>"
      ]
     },
     "metadata": {},
     "output_type": "display_data"
    }
   ],
   "source": [
    "# df\n",
    "df.scatter_matrix()"
   ]
  },
  {
   "cell_type": "markdown",
   "metadata": {},
   "source": [
    "# That's all to get you started.\n",
    "You'll be having many questions on Plotly and cufflinks in the projects."
   ]
  }
 ],
 "metadata": {
  "kernelspec": {
   "display_name": "Python 3",
   "language": "python",
   "name": "python3"
  },
  "language_info": {
   "codemirror_mode": {
    "name": "ipython",
    "version": 3
   },
   "file_extension": ".py",
   "mimetype": "text/x-python",
   "name": "python",
   "nbconvert_exporter": "python",
   "pygments_lexer": "ipython3",
   "version": "3.7.4"
  },
  "latex_envs": {
   "LaTeX_envs_menu_present": true,
   "autoclose": false,
   "autocomplete": true,
   "bibliofile": "biblio.bib",
   "cite_by": "apalike",
   "current_citInitial": 1,
   "eqLabelWithNumbers": true,
   "eqNumInitial": 1,
   "hotkeys": {
    "equation": "Ctrl-E",
    "itemize": "Ctrl-I"
   },
   "labels_anchors": false,
   "latex_user_defs": false,
   "report_style_numbering": false,
   "user_envs_cfg": false
  }
 },
 "nbformat": 4,
 "nbformat_minor": 2
}
