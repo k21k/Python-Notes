{
 "cells": [
  {
   "cell_type": "markdown",
   "metadata": {},
   "source": [
    "# Exercise (Map, Filter, Lambda expressions, Recursion)\n",
    "    Dated: April 6,2020"
   ]
  },
  {
   "cell_type": "markdown",
   "metadata": {},
   "source": [
    "# Question 1\n",
    "    \n",
    "    Capitalize a set of strings using map() and lambda expression:\n",
    "    Hint: Use built-in Upper() method\n",
    "    \n",
    "    Sample input:\n",
    "    ['josh', 'thea', 'sam', 'carlos']\n",
    "    \n",
    "    Sample Output:\n",
    "    ['JOSH', 'THEA', 'SAM', 'CARLOS']"
   ]
  },
  {
   "cell_type": "code",
   "execution_count": 1,
   "metadata": {},
   "outputs": [],
   "source": [
    "# Your code goes here"
   ]
  },
  {
   "cell_type": "code",
   "execution_count": 3,
   "metadata": {},
   "outputs": [
    {
     "name": "stdout",
     "output_type": "stream",
     "text": [
      "['JOSH', 'THEA', 'SAM', 'CARLOS']\n"
     ]
    },
    {
     "data": {
      "text/plain": [
       "['JOSH', 'THEA', 'SAM', 'CARLOS']"
      ]
     },
     "execution_count": 3,
     "metadata": {},
     "output_type": "execute_result"
    }
   ],
   "source": [
    "sample = ['josh', 'thea', 'sam', 'carlos']\n",
    "\n",
    "\n",
    "#sample.upper() - i have this error: 'list' object has no attribute 'upper'\n",
    "\n",
    "sample_upper = [i.upper() for i in sample]\n",
    "print(sample_upper)\n",
    "\n",
    "list(map(lambda x: x.upper(), sample)) \n",
    "\n"
   ]
  },
  {
   "cell_type": "markdown",
   "metadata": {},
   "source": [
    "# Question 2\n",
    "\n",
    "    Convert a set of strings to lower case using map() and lambda expression:    \n",
    "    Hint: Use built-in lower() method\n",
    "\n",
    "    Sample Input:\n",
    "    ['JOSH', 'THEA', 'SAM', 'CARLOS']\n",
    "    \n",
    "    Sample Output:\n",
    "    ['josh', 'thea', 'sam', 'carlos']"
   ]
  },
  {
   "cell_type": "code",
   "execution_count": 38,
   "metadata": {},
   "outputs": [
    {
     "data": {
      "text/plain": [
       "['josh', 'thea', 'sam', 'carlos']"
      ]
     },
     "execution_count": 38,
     "metadata": {},
     "output_type": "execute_result"
    }
   ],
   "source": [
    "# Your code goes here\n",
    "sample2 = ['JOSH', 'THEA', 'SAM', 'CARLOS']\n",
    "\n",
    "list(map(lambda y: y.lower(), sample2))\n"
   ]
  },
  {
   "cell_type": "markdown",
   "metadata": {},
   "source": [
    "# Question 3\n",
    "    \n",
    "    Filter out the odd values from a list using filter() and lambda expression:\n",
    "    \n",
    "    Sample input:\n",
    "    [3,4,5,6,7,9]\n",
    "    \n",
    "    Sample output:\n",
    "    [3,5,7,9]"
   ]
  },
  {
   "cell_type": "code",
   "execution_count": 41,
   "metadata": {},
   "outputs": [
    {
     "data": {
      "text/plain": [
       "[3, 5, 7, 9]"
      ]
     },
     "execution_count": 41,
     "metadata": {},
     "output_type": "execute_result"
    }
   ],
   "source": [
    "# Your code goes here\n",
    "\n",
    "sample3 = [3,4,5,6,7,9]\n",
    "\n",
    "list(filter(lambda x: x%2 !=0, sample3))"
   ]
  },
  {
   "cell_type": "markdown",
   "metadata": {},
   "source": [
    "# Question 4\n",
    "    \n",
    "    Filter out the even values from a list using filter() and lambda expression:\n",
    "\n",
    "    Sample input:\n",
    "    [3,4,5,6,7,9]\n",
    "\n",
    "    Sample output:\n",
    "    [4,6]"
   ]
  },
  {
   "cell_type": "code",
   "execution_count": 42,
   "metadata": {},
   "outputs": [
    {
     "data": {
      "text/plain": [
       "[4, 6]"
      ]
     },
     "execution_count": 42,
     "metadata": {},
     "output_type": "execute_result"
    }
   ],
   "source": [
    "# Your code goes here\n",
    "\n",
    "sample4 = [3,4,5,6,7,9]\n",
    "\n",
    "list(filter(lambda x: x%2 ==0, sample4))\n"
   ]
  },
  {
   "cell_type": "markdown",
   "metadata": {},
   "source": [
    "# Question 5\n",
    "    \n",
    "    Filter all the consonants (non-vowel alphabets) from a list of alphabets.\n",
    "    \n",
    "    Sample input:\n",
    "    ['a','b','c','d','e','f','g']\n",
    "    \n",
    "    Sample output:\n",
    "    ['b','c','d','f','g']"
   ]
  },
  {
   "cell_type": "code",
   "execution_count": 81,
   "metadata": {},
   "outputs": [
    {
     "data": {
      "text/plain": [
       "[]"
      ]
     },
     "execution_count": 81,
     "metadata": {},
     "output_type": "execute_result"
    }
   ],
   "source": [
    "# Your code goes here\n",
    "sample5 = ['a','b','c','d','e','f','g']\n",
    "vowel = ['a','e','i','o','u','y']\n",
    "\n",
    "list(filter(lambda letter: letter in vowel == False,sample5))\n",
    "\n",
    "\n"
   ]
  },
  {
   "cell_type": "code",
   "execution_count": 13,
   "metadata": {},
   "outputs": [
    {
     "data": {
      "text/plain": [
       "['b', 'c', 'd', 'f', 'g']"
      ]
     },
     "execution_count": 13,
     "metadata": {},
     "output_type": "execute_result"
    }
   ],
   "source": [
    "sample5 = ['a','b','c','d','e','f','g']\n",
    "\n",
    "def isconsonant(letters):\n",
    "    vowel = ['a','e','i','o','u','y']\n",
    "\n",
    "    if letters in vowel:\n",
    "        return False\n",
    "    else:\n",
    "        return True\n",
    "    \n",
    "list(filter(isconsonant, sample5))\n",
    "\n"
   ]
  },
  {
   "cell_type": "code",
   "execution_count": null,
   "metadata": {},
   "outputs": [],
   "source": []
  },
  {
   "cell_type": "markdown",
   "metadata": {},
   "source": [
    "# Question 6\n",
    "\n",
    "    Write a recursive function to calculate the Factorial of a given number.\n",
    "    \n",
    "    Sample input:\n",
    "    8\n",
    "    \n",
    "    Sample output:\n",
    "    40320\n",
    "    \n",
    "    Note: I have repeated this question purposly, try to understand the concept of recuursion, then solve this"
   ]
  },
  {
   "cell_type": "code",
   "execution_count": 79,
   "metadata": {},
   "outputs": [],
   "source": [
    "# your code goes here\n",
    "\n",
    "def factorial(x):\n",
    "    if x == 1:\n",
    "        return 1\n",
    "    else:\n",
    "        return (x * factorial(x-1))\n"
   ]
  },
  {
   "cell_type": "code",
   "execution_count": 80,
   "metadata": {},
   "outputs": [
    {
     "data": {
      "text/plain": [
       "40320"
      ]
     },
     "execution_count": 80,
     "metadata": {},
     "output_type": "execute_result"
    }
   ],
   "source": [
    "factorial(8)"
   ]
  },
  {
   "cell_type": "markdown",
   "metadata": {},
   "source": [
    "# Great Job!"
   ]
  }
 ],
 "metadata": {
  "kernelspec": {
   "display_name": "Python 3",
   "language": "python",
   "name": "python3"
  },
  "language_info": {
   "codemirror_mode": {
    "name": "ipython",
    "version": 3
   },
   "file_extension": ".py",
   "mimetype": "text/x-python",
   "name": "python",
   "nbconvert_exporter": "python",
   "pygments_lexer": "ipython3",
   "version": "3.7.6"
  }
 },
 "nbformat": 4,
 "nbformat_minor": 2
}
