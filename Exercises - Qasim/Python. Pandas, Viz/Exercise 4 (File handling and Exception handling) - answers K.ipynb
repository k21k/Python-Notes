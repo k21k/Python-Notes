{
 "cells": [
  {
   "cell_type": "markdown",
   "metadata": {},
   "source": [
    "# Exercise (File handling and exception handling)\n",
    "    \n",
    "    Dated: April 08,2020.\n",
    "    \n",
    "## Happy coding!"
   ]
  },
  {
   "cell_type": "markdown",
   "metadata": {},
   "source": [
    "# Question 1:\n",
    "    \n",
    "    Write a program which opens a file and print all the content that file contains."
   ]
  },
  {
   "cell_type": "code",
   "execution_count": 5,
   "metadata": {},
   "outputs": [
    {
     "ename": "SyntaxError",
     "evalue": "(unicode error) 'unicodeescape' codec can't decode bytes in position 2-3: truncated \\UXXXXXXXX escape (<ipython-input-5-fa1e0685bcbd>, line 3)",
     "output_type": "error",
     "traceback": [
      "\u001b[1;36m  File \u001b[1;32m\"<ipython-input-5-fa1e0685bcbd>\"\u001b[1;36m, line \u001b[1;32m3\u001b[0m\n\u001b[1;33m    myfile = open(\"C:\\Users\\delchain_default\\Documents\\Python Learning\\trumptweets.csv\",\"r\",encoding=\"utf8\")\u001b[0m\n\u001b[1;37m                 ^\u001b[0m\n\u001b[1;31mSyntaxError\u001b[0m\u001b[1;31m:\u001b[0m (unicode error) 'unicodeescape' codec can't decode bytes in position 2-3: truncated \\UXXXXXXXX escape\n"
     ]
    }
   ],
   "source": [
    "# Your code goes here\n",
    "\n",
    "# myfile = open(\"C:\\Users\\delchain_default\\Documents\\Python Learning\\trumptweets.csv\",\"r\",encoding=\"utf8\")  \n",
    "# >>> why this does not work?\n",
    "\n",
    "myfile = open(r'C:\\Users\\delchain_default\\Documents\\Python Learning\\trumptweets.txt', encoding=\"utf8\")\n",
    "\n",
    "print(myfile.read())\n",
    "\n",
    "myfile.close()\n"
   ]
  },
  {
   "cell_type": "code",
   "execution_count": 7,
   "metadata": {},
   "outputs": [],
   "source": [
    "f = open('sample.txt','r')\n"
   ]
  },
  {
   "cell_type": "markdown",
   "metadata": {},
   "source": [
    "# Question 2:\n",
    "    \n",
    "    Write a program to read and print the first line of the file.\n",
    "    "
   ]
  },
  {
   "cell_type": "code",
   "execution_count": 72,
   "metadata": {},
   "outputs": [
    {
     "name": "stdout",
     "output_type": "stream",
     "text": [
      "content here\n",
      "\n",
      "['content here\\n', '....BUT THE BEST IS YET TO COME!\\n', 'If you listened to the flawed advice of @ paulkrugman at the @ nytimes, a newspaper that was going broke until I came along, you would have entirely missed the RECORD BREAKING Stock Market (and other) numbers produced since Election Day, 2016. Sorry, those are the FACTS.....\\n', '\"Nancy Pelosi said, it\\'s not a question of proof, it\\'s a question of allegations! Oh really?\" \\x9d @ JudgeJeanine @ FoxNews What a disgrace this Impeachment Scam is for our great Country!\\n', 'I will be going to Austin, Texas. Leaving soon. Always like (love!) being in the Lone Star State. Speaking to our great Farmers. They hit \"paydirt\" \\x9d with our incredible new Trade Deals: CHINA, JAPAN, MEXICO, CANADA, SOUTH KOREA, and many others!\\n', 'I have never seen the Republican Party as Strong and as Unified as it is right now. Thank you!\\n', 'Now Mini Mike Bloomberg is critical of Jack Wilson, who saved perhaps hundreds of people in a Church because he was carrying a gun, and knew how to use it. Jack quickly killed the shooter, who was beginning a rampage. Mini is against the 2nd A. His ads are Fake, just like him!\\n', 'I was thrilled to be back in the Great State of Texas tonight, where the people are known for being tough, strong, hardworking, loyal and fiercely patriotic \" ” just like America\\'s incredible Farmers! \"\\n', '\"In the House, the President got less due process than the 9-11 terrorists got. This is a corrupt process?\" \\x9d Mark Levin @ marklevinshow \"Very much so!\" \\x9d @ RepDougCollins @ FoxNews\\n', 'A great show! Check it out tonight at 9pm. @ FoxNewshttps://twitter.com/nextrevfnc/status/1218941188704632832 \"\\n']\n"
     ]
    }
   ],
   "source": [
    "# Your code goes here\n",
    "\n",
    "myfile = open(r'C:\\Users\\delchain_default\\Documents\\Python Learning\\trumptweets.txt', encoding=\"utf8\")\n",
    "\n",
    "print(myfile.readline())\n",
    "\n",
    "myfile.close()\n",
    "\n",
    "\n",
    "myfile = open(r'C:\\Users\\delchain_default\\Documents\\Python Learning\\trumptweets.txt', encoding=\"utf8\")\n",
    "\n",
    "print(myfile.readlines())\n",
    "\n",
    "myfile.close()\n"
   ]
  },
  {
   "cell_type": "markdown",
   "metadata": {},
   "source": [
    "# Question 3:\n",
    "    \n",
    "    Write a program to create a text file named 'SAMPLE_TEXT'.\n",
    "    "
   ]
  },
  {
   "cell_type": "code",
   "execution_count": 60,
   "metadata": {},
   "outputs": [],
   "source": [
    "# Your code goes here\n",
    "\n",
    "mynewfile = open(r'C:\\Users\\delchain_default\\Documents\\Python Learning\\SAMPLE_TEXT.txt', \"x\")\n",
    "\n",
    "mynewfile.write(' Lorem ipsum dolor sit amet, consectetur adipiscing elit, \\n sed do eiusmod tempor incididunt ut labore et dolore magna aliqua. \\n Ut enim ad minim veniam, quis nostrud exercitation ullamco laboris nisi ut aliquip ex ea commodo consequat. \\n Duis aute irure dolor in reprehenderit in voluptate velit esse cillum dolore eu fugiat nulla pariatur. \\n Excepteur sint occaecat cupidatat non proident, sunt in culpa qui officia deserunt mollit anim id est laborum') \n",
    "\n",
    "mynewfile.close()\n"
   ]
  },
  {
   "cell_type": "markdown",
   "metadata": {},
   "source": [
    "# Question 4:\n",
    "    \n",
    "    Print first 10 characters of the file.\n",
    "    "
   ]
  },
  {
   "cell_type": "code",
   "execution_count": 63,
   "metadata": {},
   "outputs": [
    {
     "name": "stdout",
     "output_type": "stream",
     "text": [
      " Lorem ips\n"
     ]
    }
   ],
   "source": [
    "# Your code goes here\n",
    "\n",
    "with open (r'C:\\Users\\delchain_default\\Documents\\Python Learning\\SAMPLE_TEXT.txt') as f:\n",
    "    print(f.read(10))\n"
   ]
  },
  {
   "cell_type": "markdown",
   "metadata": {},
   "source": [
    "# Question 5:\n",
    "    \n",
    "    Write the difference between readline() and readlines() functions.\n",
    "    \n",
    "    Note: Write simple text. No code required"
   ]
  },
  {
   "cell_type": "code",
   "execution_count": 68,
   "metadata": {},
   "outputs": [],
   "source": [
    "# Your answer goes here\n",
    "\n",
    "there are 3 things\n",
    "- readlines() provide the output as a list, where each element is a string\n",
    "- readlines() provide the entire content while readline() will provide just 1 line\n",
    "- readlines(n) provide all strings up to n characters while readline(n) will provide just n characters of the 1st line"
   ]
  },
  {
   "cell_type": "markdown",
   "metadata": {},
   "source": [
    "# Question 6:\n",
    "    \n",
    "    Why do we need to close the file after completing the operation?\n",
    "    \n",
    "    Note: Surf web for answers and write it in your words. Be specific."
   ]
  },
  {
   "cell_type": "code",
   "execution_count": 74,
   "metadata": {},
   "outputs": [],
   "source": [
    "# Your answer goes here\n",
    "\n",
    "I think if we don't properly close the file, it remains open. I could not delete a file becasue it was still used by python."
   ]
  },
  {
   "cell_type": "markdown",
   "metadata": {},
   "source": [
    "# Question 7:\n",
    "    \n",
    "    1- Write a program to delete a file.\n",
    "    2- Write a program to delete a folder.\n",
    "    "
   ]
  },
  {
   "cell_type": "code",
   "execution_count": 7,
   "metadata": {},
   "outputs": [],
   "source": [
    "# File deletion code goes here\n",
    "\n",
    "import os\n",
    "\n",
    "if os.path.isfile(file_path_and_name):\n",
    "    os.remove(file_path_and_name)\n",
    "else: \n",
    "    print(\"Error: %s file not found\" % myfile)\n"
   ]
  },
  {
   "cell_type": "code",
   "execution_count": 8,
   "metadata": {},
   "outputs": [],
   "source": [
    "# Folder deletion code goes here\n",
    "\n",
    "import os\n",
    "import sys\n",
    "import shutil\n",
    "\n",
    "\n",
    "shutil.rmtree(folder_path_and_name, ignore_errors=True, onerror=None)\n",
    "\n",
    "# If ignore_errors is true, errors resulting from failed removals will be ignored;\n",
    "# If false, errors are handled by calling a handler specified by onerror \n",
    "# If that omitted, they raise an exception.\n",
    "\n"
   ]
  },
  {
   "cell_type": "markdown",
   "metadata": {},
   "source": [
    "# Exception Handling section\n",
    "\n",
    "# Quesion 8:\n",
    "    \n",
    "    Write a program in which if a number is divided by zero, print 'You can not divide a number by zero'\n",
    "    \n",
    "    Note: Please have a look at the solution to understand why we use try-expect, I've purposely included solution.\n",
    "    "
   ]
  },
  {
   "cell_type": "code",
   "execution_count": 76,
   "metadata": {},
   "outputs": [
    {
     "name": "stdout",
     "output_type": "stream",
     "text": [
      "enter the numerator: 5\n",
      "enter the denominator: 0\n",
      "ERROR: You can not divide a number by zero\n"
     ]
    }
   ],
   "source": [
    "num = float(input(\"enter the numerator: \"))\n",
    "denom = float(input(\"enter the denominator: \"))\n",
    "\n",
    "try:\n",
    "    calc = num/denom\n",
    "except:\n",
    "    print('ERROR: You can not divide a number by zero')\n",
    "\n",
    "else:\n",
    "    print(calc)"
   ]
  },
  {
   "cell_type": "code",
   "execution_count": 16,
   "metadata": {},
   "outputs": [
    {
     "name": "stdout",
     "output_type": "stream",
     "text": [
      "ERROR: You can not divide a number by zero\n",
      "This line works if we use try-except to handle this exception\n"
     ]
    }
   ],
   "source": [
    "try:\n",
    "    4/0\n",
    "except:\n",
    "    print('ERROR: You can not divide a number by zero')\n",
    "\n",
    "\n",
    "print('This line works if we use try-except to handle this exception')"
   ]
  },
  {
   "cell_type": "code",
   "execution_count": 17,
   "metadata": {},
   "outputs": [
    {
     "ename": "ZeroDivisionError",
     "evalue": "division by zero",
     "output_type": "error",
     "traceback": [
      "\u001b[0;31m---------------------------------------------------------------------------\u001b[0m",
      "\u001b[0;31mZeroDivisionError\u001b[0m                         Traceback (most recent call last)",
      "\u001b[0;32m<ipython-input-17-06f42b07b496>\u001b[0m in \u001b[0;36m<module>\u001b[0;34m\u001b[0m\n\u001b[1;32m      1\u001b[0m \u001b[0;31m# let's see what happens if we don't use try-except to catch exceptions\u001b[0m\u001b[0;34m\u001b[0m\u001b[0;34m\u001b[0m\u001b[0;34m\u001b[0m\u001b[0m\n\u001b[1;32m      2\u001b[0m \u001b[0;34m\u001b[0m\u001b[0m\n\u001b[0;32m----> 3\u001b[0;31m \u001b[0;36m4\u001b[0m\u001b[0;34m/\u001b[0m\u001b[0;36m0\u001b[0m\u001b[0;34m\u001b[0m\u001b[0;34m\u001b[0m\u001b[0m\n\u001b[0m\u001b[1;32m      4\u001b[0m \u001b[0mprint\u001b[0m\u001b[0;34m(\u001b[0m\u001b[0;34m'This line will not work if we don\\'t use try-except to handle this exception'\u001b[0m\u001b[0;34m)\u001b[0m\u001b[0;34m\u001b[0m\u001b[0;34m\u001b[0m\u001b[0m\n",
      "\u001b[0;31mZeroDivisionError\u001b[0m: division by zero"
     ]
    }
   ],
   "source": [
    "# let's see what happens if we don't use try-except to catch exceptions\n",
    "\n",
    "4/0\n",
    "print('This line will not work if we don\\'t use try-except to handle this exception')"
   ]
  },
  {
   "cell_type": "markdown",
   "metadata": {},
   "source": [
    "## Note: \n",
    "    So try-execpt actually ensures that a normal flow of program is not inturrupted if an exception occurs."
   ]
  },
  {
   "cell_type": "markdown",
   "metadata": {},
   "source": [
    "# Question 9:\n",
    "    \n",
    "    Throw an exception if user tries to access an index that is not present in an array.\n",
    "    \n",
    "    For example:\n",
    "    Sample Array:\n",
    "        s = [1,2,3]\n",
    "        \n",
    "        s[3]\n",
    "        \n",
    "    Sample Output:\n",
    "        \n",
    "        'Please provide a valid index'\n",
    "        "
   ]
  },
  {
   "cell_type": "code",
   "execution_count": 78,
   "metadata": {},
   "outputs": [
    {
     "name": "stdout",
     "output_type": "stream",
     "text": [
      "[1, 2, 3, 4, 5, 6, 7, 8, 9]\n",
      "please provide an index number12\n",
      "Please provide a valid index\n"
     ]
    }
   ],
   "source": [
    "# Your code goes here.\n",
    "\n",
    "s = [1,2,3,4,5,6,7,8,9]\n",
    "print(s)\n",
    "\n",
    "entry = int(input(\"please provide an index number: \"))\n",
    "if entry in s:\n",
    "    print(\"okay cool\")\n",
    "else:\n",
    "    print('Please provide a valid index')\n",
    "\n",
    "    \n",
    "#sorry, i think i did not understand the question well\n",
    "\n"
   ]
  },
  {
   "cell_type": "markdown",
   "metadata": {},
   "source": [
    "# Question 10:\n",
    "    \n",
    "    Write a brief note on 'try', 'except', 'finally' and 'raised' keywords.\n",
    "    "
   ]
  },
  {
   "cell_type": "code",
   "execution_count": 19,
   "metadata": {},
   "outputs": [],
   "source": [
    "# Your answer goes here.\n",
    "\n",
    "try\n",
    "this is the command that we want to perform\n",
    "\n",
    "except\n",
    "this is where we handle exception(s). multiple clause can be described \n",
    "exceptions need to be named, hence it is possible to have differentcommand executed on different exceptions\n",
    "\n",
    "else\n",
    "if there is no exception, then execute this command\n",
    "\n",
    "finally\n",
    "optional, if specified, it will execute this command regardless of existence of an exception\n",
    "\n",
    "raise\n",
    "this is optional as well, and used to specify an exception if a specific condition error occurs\n",
    "the exception type needs to be specified\n",
    "\n",
    "\n"
   ]
  },
  {
   "cell_type": "markdown",
   "metadata": {},
   "source": [
    "# Great job!\n"
   ]
  },
  {
   "cell_type": "code",
   "execution_count": 11,
   "metadata": {},
   "outputs": [
    {
     "data": {
      "text/plain": [
       "[1, 2, 3, 4, 5, 6, 7, 8, 9]"
      ]
     },
     "execution_count": 11,
     "metadata": {},
     "output_type": "execute_result"
    }
   ],
   "source": [
    "list(range(1,10))"
   ]
  },
  {
   "cell_type": "raw",
   "metadata": {},
   "source": [
    "str.format"
   ]
  },
  {
   "cell_type": "code",
   "execution_count": 12,
   "metadata": {},
   "outputs": [
    {
     "data": {
      "text/plain": [
       "[1, 2, 3, 4, 5, 6, 7, 8, 9]"
      ]
     },
     "execution_count": 12,
     "metadata": {},
     "output_type": "execute_result"
    }
   ],
   "source": [
    "list(range(1,10))"
   ]
  },
  {
   "cell_type": "code",
   "execution_count": null,
   "metadata": {},
   "outputs": [],
   "source": []
  }
 ],
 "metadata": {
  "kernelspec": {
   "display_name": "Python 3",
   "language": "python",
   "name": "python3"
  },
  "language_info": {
   "codemirror_mode": {
    "name": "ipython",
    "version": 3
   },
   "file_extension": ".py",
   "mimetype": "text/x-python",
   "name": "python",
   "nbconvert_exporter": "python",
   "pygments_lexer": "ipython3",
   "version": "3.7.6"
  }
 },
 "nbformat": 4,
 "nbformat_minor": 2
}
