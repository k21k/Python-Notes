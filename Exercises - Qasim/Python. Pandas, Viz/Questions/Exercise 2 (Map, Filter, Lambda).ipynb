{
 "cells": [
  {
   "cell_type": "markdown",
   "metadata": {},
   "source": [
    "# Exercise (Map, Filter, Lambda expressions, Recursion)\n",
    "    Dated: April 6,2020"
   ]
  },
  {
   "cell_type": "markdown",
   "metadata": {},
   "source": [
    "# Question 1\n",
    "    \n",
    "    Capitalize a set of strings using map() and lambda expression:\n",
    "    Hint: Use built-in Upper() method\n",
    "    \n",
    "    Sample input:\n",
    "    ['josh', 'thea', 'sam', 'carlos']\n",
    "    \n",
    "    Sample Output:\n",
    "    ['JOSH', 'THEA', 'SAM', 'CARLOS']"
   ]
  },
  {
   "cell_type": "code",
   "execution_count": 1,
   "metadata": {},
   "outputs": [],
   "source": [
    "# Your code goes here"
   ]
  },
  {
   "cell_type": "markdown",
   "metadata": {},
   "source": [
    "# Question 2\n",
    "\n",
    "    Convert a set of strings to lower case using map() and lambda expression:    \n",
    "    Hint: Use built-in lower() method\n",
    "\n",
    "    Sample Input:\n",
    "    ['JOSH', 'THEA', 'SAM', 'CARLOS']\n",
    "    \n",
    "    Sample Output:\n",
    "    ['josh', 'thea', 'sam', 'carlos']"
   ]
  },
  {
   "cell_type": "code",
   "execution_count": 2,
   "metadata": {},
   "outputs": [],
   "source": [
    "# Your code goes here"
   ]
  },
  {
   "cell_type": "markdown",
   "metadata": {},
   "source": [
    "# Question 3\n",
    "    \n",
    "    Filter out the odd values from a list using filter() and lambda expression:\n",
    "    \n",
    "    Sample input:\n",
    "    [3,4,5,6,7,9]\n",
    "    \n",
    "    Sample output:\n",
    "    [3,5,7,9]"
   ]
  },
  {
   "cell_type": "code",
   "execution_count": 3,
   "metadata": {},
   "outputs": [],
   "source": [
    "# Your code goes here"
   ]
  },
  {
   "cell_type": "markdown",
   "metadata": {},
   "source": [
    "# Question 4\n",
    "    \n",
    "    Filter out the even values from a list using filter() and lambda expression:\n",
    "\n",
    "    Sample input:\n",
    "    [3,4,5,6,7,9]\n",
    "\n",
    "    Sample output:\n",
    "    [4,6]"
   ]
  },
  {
   "cell_type": "code",
   "execution_count": 4,
   "metadata": {},
   "outputs": [],
   "source": [
    "# Your code goes here"
   ]
  },
  {
   "cell_type": "markdown",
   "metadata": {},
   "source": [
    "# Question 5\n",
    "    \n",
    "    Filter all the consonants (non-vowel alphabets) from a list of alphabets.\n",
    "    \n",
    "    Sample input:\n",
    "    ['a','b','c','d','e','f','g']\n",
    "    \n",
    "    Sample output:\n",
    "    ['b','c','d','f','g']"
   ]
  },
  {
   "cell_type": "code",
   "execution_count": 5,
   "metadata": {},
   "outputs": [],
   "source": [
    "# Your code goes here"
   ]
  },
  {
   "cell_type": "markdown",
   "metadata": {},
   "source": [
    "# Question 6\n",
    "\n",
    "    Write a recursive function to calculate the Factorial of a given number.\n",
    "    \n",
    "    Sample input:\n",
    "    8\n",
    "    \n",
    "    Sample output:\n",
    "    40320\n",
    "    \n",
    "    Note: I have repeated this question purposly, try to understand the concept of recuursion, then solve this"
   ]
  },
  {
   "cell_type": "code",
   "execution_count": 6,
   "metadata": {},
   "outputs": [],
   "source": [
    "# your code goes here"
   ]
  },
  {
   "cell_type": "markdown",
   "metadata": {},
   "source": [
    "# Great Job!"
   ]
  }
 ],
 "metadata": {
  "kernelspec": {
   "display_name": "Python 3",
   "language": "python",
   "name": "python3"
  },
  "language_info": {
   "codemirror_mode": {
    "name": "ipython",
    "version": 3
   },
   "file_extension": ".py",
   "mimetype": "text/x-python",
   "name": "python",
   "nbconvert_exporter": "python",
   "pygments_lexer": "ipython3",
   "version": "3.7.4"
  }
 },
 "nbformat": 4,
 "nbformat_minor": 2
}
