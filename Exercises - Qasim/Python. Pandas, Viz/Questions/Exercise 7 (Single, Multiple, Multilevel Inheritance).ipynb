{
 "cells": [
  {
   "cell_type": "markdown",
   "metadata": {},
   "source": [
    "### Exercise 7 : This covers three types of inheritance.\n",
    "    Dated : April 15, 2020."
   ]
  },
  {
   "cell_type": "markdown",
   "metadata": {},
   "source": [
    "# - Single inheritance - "
   ]
  },
  {
   "cell_type": "markdown",
   "metadata": {},
   "source": [
    "# Question 1\n",
    "    - Create a class Person, having attributes \n",
    "           - Name\n",
    "           - Age\n",
    "           - Height\n",
    "           - Weight\n",
    "          \n",
    "    - Create another class Worker, having attributes\n",
    "           - Company\n",
    "           - Position (Rank)\n",
    "           - working hours\n",
    "           - print_info()  # method\n",
    "      \n",
    "    - Create a child object and assign values to the class members by passing values in the contructor.\n",
    "    - Print all the informtion using print_info()\n",
    "    \n",
    "    Note: Worker class is child class and Person is the parent"
   ]
  },
  {
   "cell_type": "code",
   "execution_count": 17,
   "metadata": {
    "scrolled": true
   },
   "outputs": [
    {
     "name": "stdout",
     "output_type": "stream",
     "text": [
      "My name is Johnny, and I am 21 years old. I am 180 cm tall and weight 70 kg\n",
      "I work for Python Corp, as an Employee of the Month, and I work Every Day\n"
     ]
    }
   ],
   "source": [
    "# Your code goes here\n",
    "\n",
    "class Person:\n",
    "\n",
    "    def __init__(self, Name, Age, Height, Weight):\n",
    "        self.Name = Name\n",
    "        self.Age = Age\n",
    "        self.Height = Height\n",
    "        self.Weight = Weight\n",
    "    \n",
    "    def about_myself(self):\n",
    "        return \"My name is {}, and I am {} years old. I am {} cm tall and weight {} kg\".format(self.Name, self.Age, self.Height, self.Weight)\n",
    "        \n",
    "class Worker(Person):\n",
    "\n",
    "    def __init__(self, Name, Age, Height, Weight, Company, Position, Working_Hours):\n",
    "        super(). __init__(Name, Age, Height, Weight)\n",
    "        self.Company = Company\n",
    "        self.Position = Position\n",
    "        self.Working_Hours = Working_Hours\n",
    "   \n",
    "    def print_info(self):\n",
    "        return \"I work for {}, as an {}, and I work {}\".format(self.Company, self.Position, self.Working_Hours)\n",
    "        \n",
    "\n",
    "A = Worker('Johnny', 21, 180, 70, 'Python Corp', 'Employee of the Month', 'Every Day')\n",
    "print(A.about_myself())\n",
    "print(A.print_info())\n",
    "        \n",
    "        "
   ]
  },
  {
   "cell_type": "markdown",
   "metadata": {},
   "source": [
    "# - Multiple inheritance - "
   ]
  },
  {
   "cell_type": "markdown",
   "metadata": {},
   "source": [
    "# Question 2\n",
    "    \n",
    "    - Create a class Person, having attributes \n",
    "           - Name\n",
    "           - Age\n",
    "       \n",
    "    - Create a class Dancer, having attributes\n",
    "           - Style\n",
    "           \n",
    "    - Create another class Worker, having attributes\n",
    "           - Company\n",
    "           - Position (Rank)\n",
    "           - working hours\n",
    "           - print_info()   # method\n",
    "      \n",
    "    - Here we suppose that a Worker is a Dancer and obviously a Person\n",
    "    - Parent classes : Person and Dancer\n",
    "    - Child class : Worker\n",
    "    - Create a child object and assign values to the class members by passing values in the contructor.\n",
    "    - Print all the informtion\n"
   ]
  },
  {
   "cell_type": "code",
   "execution_count": 111,
   "metadata": {},
   "outputs": [
    {
     "name": "stdout",
     "output_type": "stream",
     "text": [
      "My name is Johnny, and I am 21 years old. I am 180 cm tall and weight 70 kg\n",
      "Company: Python Corp, Position: Employee of the Month, Working Hours:Every Day\n",
      "Dance Style: Disco\n"
     ]
    }
   ],
   "source": [
    "# Your code goes here\n",
    "\n",
    "class Person:\n",
    "\n",
    "    def __init__(self, Name, Age, Height, Weight):\n",
    "        self.Name = Name\n",
    "        self.Age = Age\n",
    "        self.Height = Height\n",
    "        self.Weight = Weight\n",
    "    \n",
    "    def about_myself(self):\n",
    "        return \"My name is {}, and I am {} years old. I am {} cm tall and weight {} kg\".format(self.Name, self.Age, self.Height, self.Weight)\n",
    "\n",
    "\n",
    "class Dancer:\n",
    "    def __init__(self, style):\n",
    "        self.style = style\n",
    "    \n",
    "class Worker(Person):\n",
    "\n",
    "    def __init__(self, Name, Age, Height, Weight, Company, Position, Working_Hours, style):\n",
    "        self.Company = Company\n",
    "        self.Position = Position\n",
    "        self.Working_Hours = Working_Hours\n",
    "        \n",
    "        Person. __init__(self, Name, Age, Height, Weight)\n",
    "        Dancer. __init__(self, style)\n",
    "\n",
    "   \n",
    "    def print_info(self):\n",
    "        return (self.about_myself() \n",
    "                + '\\n' +  \"Company: {}, Position: {}, Working Hours:{}\".format(self.Company, self.Position, self.Working_Hours)\n",
    "                + '\\n' +  \"Dance Style: {}\".format(self.style))\n",
    "        \n",
    "        \n",
    "A = Worker('Johnny', 21, 180, 70, 'Python Corp', 'Employee of the Month', 'Every Day', 'Disco')\n",
    "print(A.print_info())\n",
    "\n",
    "\n",
    "\n"
   ]
  },
  {
   "cell_type": "markdown",
   "metadata": {},
   "source": [
    "# - Multi-level inheritance -"
   ]
  },
  {
   "cell_type": "markdown",
   "metadata": {},
   "source": [
    "# Question 3\n",
    "    \n",
    "    - Create a class GrandFather, having attribute\n",
    "           - grand_father_name\n",
    "           - grand_father_age\n",
    "           - print_grand_info()   # method\n",
    "           \n",
    "    - Create a class Father(GrandFather), having attribute\n",
    "           - father_name\n",
    "           - father_age\n",
    "           - print_parent_info()  # method\n",
    "           \n",
    "    - Create a class Son(Father), having attribute\n",
    "           - son_name\n",
    "           - son_age\n",
    "           - print_child_info()   # method\n",
    "    \n",
    "    - Create an object of Son class, and initialize all the values of parent and grand parent classes.\n",
    "    - Print all the information using print_info() methods of all three classes"
   ]
  },
  {
   "cell_type": "code",
   "execution_count": 110,
   "metadata": {},
   "outputs": [
    {
     "name": "stdout",
     "output_type": "stream",
     "text": [
      "My name is Floyd Snr and I am 75 years old\n",
      "My name is Floyd Jnr and I am 42 years old\n",
      "My name is Vasyl and I am 18 years old\n"
     ]
    }
   ],
   "source": [
    "# your code goes here\n",
    "\n",
    "class GrandFather:\n",
    "    def __init__(self, name, age):\n",
    "        self.name = name\n",
    "        self.age = age\n",
    "    \n",
    "    def Grand_info(self):\n",
    "        return (\"My name is {} and I am {} years old\".format(self.name, self.age))\n",
    "        \n",
    "    \n",
    "class Father(GrandFather):\n",
    "    def __init__(self, father_name, father_age):\n",
    "        self.father_name = father_name\n",
    "        self.father_age = father_age\n",
    "    \n",
    "    def Father_info(self):\n",
    "        return (\"My name is {} and I am {} years old\".format(self.father_name, self.father_age))\n",
    "    \n",
    "class Son(Father):\n",
    "    def __init__(self, name, age, father_name, father_age, son_name, son_age):\n",
    "        self.son_name = son_name\n",
    "        self.son_age = son_age\n",
    "    \n",
    "        GrandFather. __init__(self, name, age)\n",
    "        Father. __init__(self, father_name, father_age)\n",
    "    \n",
    "    def Son_info(self):\n",
    "        return (self.Grand_info() + '\\n' + self.Father_info() + '\\n' \n",
    "                +  \"My name is {} and I am {} years old\".format(self.son_name, self.son_age))\n",
    "                                                             \n",
    "S = Son('Floyd Snr', 75, 'Floyd Jnr', 42, 'Vasyl', 18)                                                          \n",
    "print(S.Son_info())     \n",
    "\n",
    "\n"
   ]
  },
  {
   "cell_type": "code",
   "execution_count": null,
   "metadata": {},
   "outputs": [],
   "source": []
  },
  {
   "cell_type": "markdown",
   "metadata": {},
   "source": [
    "# Question 4\n",
    "    - What is a diamond problem?\n",
    "    - When does diamond problem occur?\n",
    "    - What is isinstance() method used for? Code an example. "
   ]
  },
  {
   "cell_type": "code",
   "execution_count": 4,
   "metadata": {},
   "outputs": [],
   "source": [
    "# Your answer goes here\n",
    "\n",
    "Dimaond problem\n",
    "- Diamond problem occurs in the context of multiple inheritance \n",
    "- Example: D inherits from B and C who both inherits from A\n",
    "- the issue is that python will not be sure which method prevail and which attributes/methods from A are inherited by D\n",
    "- Python deals with this ambiguity by enforcing order of priority in tuple of vase class\n",
    "- in the exmaple above, the method resolution order would be D,B,C,A\n",
    "\n",
    "isinstance()\n",
    "- syntax: isinstance(object, type)\n",
    "    - object: Required. An object.\n",
    "    - type: A type or a class, or a tuple of types and/or classes\n",
    "- purpose: rturns TRue if the specified object is of the specified type, otherwise false\n"
   ]
  },
  {
   "cell_type": "code",
   "execution_count": 101,
   "metadata": {},
   "outputs": [
    {
     "data": {
      "text/plain": [
       "False"
      ]
     },
     "execution_count": 101,
     "metadata": {},
     "output_type": "execute_result"
    }
   ],
   "source": [
    "isinstance(\"hello\",tuple)"
   ]
  },
  {
   "cell_type": "code",
   "execution_count": 102,
   "metadata": {},
   "outputs": [
    {
     "data": {
      "text/plain": [
       "True"
      ]
     },
     "execution_count": 102,
     "metadata": {},
     "output_type": "execute_result"
    }
   ],
   "source": [
    "isinstance(12,int)"
   ]
  },
  {
   "cell_type": "code",
   "execution_count": 103,
   "metadata": {},
   "outputs": [
    {
     "data": {
      "text/plain": [
       "True"
      ]
     },
     "execution_count": 103,
     "metadata": {},
     "output_type": "execute_result"
    }
   ],
   "source": [
    "isinstance(('shoe', 'shirt'), tuple)"
   ]
  },
  {
   "cell_type": "markdown",
   "metadata": {},
   "source": [
    "# Happy Coding!"
   ]
  }
 ],
 "metadata": {
  "kernelspec": {
   "display_name": "Python 3",
   "language": "python",
   "name": "python3"
  },
  "language_info": {
   "codemirror_mode": {
    "name": "ipython",
    "version": 3
   },
   "file_extension": ".py",
   "mimetype": "text/x-python",
   "name": "python",
   "nbconvert_exporter": "python",
   "pygments_lexer": "ipython3",
   "version": "3.7.6"
  }
 },
 "nbformat": 4,
 "nbformat_minor": 2
}
