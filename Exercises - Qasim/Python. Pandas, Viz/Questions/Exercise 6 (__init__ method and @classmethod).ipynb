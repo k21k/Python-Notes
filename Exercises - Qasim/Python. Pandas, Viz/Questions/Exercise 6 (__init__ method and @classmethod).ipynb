{
 "cells": [
  {
   "cell_type": "raw",
   "metadata": {},
   "source": [
    "https://python-textbok.readthedocs.io/en/1.0/Classes.html\n",
    "https://www.pythonprogramming.in/object-oriented-programming.html\n",
    "\n",
    "Please watch this video, very beautifully explained @classmethods and @staticmethods\n",
    "https://www.youtube.com/watch?v=rq8cL2XMM5M\n",
    "\n",
    "For self, __init__\n",
    "https://www.youtube.com/watch?v=AsafkCAJpJ0\n"
   ]
  },
  {
   "cell_type": "markdown",
   "metadata": {},
   "source": [
    "# Question 1\n",
    "    \n",
    "    Follow the steps:\n",
    "    1- Create a class, Triangle. Its __init__() method should take self, angle1, angle2, and angle3 as arguments. Make sure to set these appropriately in the body of the __init__() method.\n",
    "    \n",
    "    2- Create a member variable named number_of_sides and set it equal to 3.\n",
    "    \n",
    "    3- Create a method named check_angles. It should return True if the sum of self.angle1, self.angle2, and self.angle3 is equal 180, and False otherwise.\n",
    "    \n",
    "    4- Create an object named my_triangle of your Triangle class. Pass it three angles that sum to 180 (e.g. 90, 30, 60).\n",
    "    \n",
    "    5- Print out (my_triangle.number_of_sides) and print out (my_triangle.check_angles())."
   ]
  },
  {
   "cell_type": "code",
   "execution_count": 9,
   "metadata": {},
   "outputs": [
    {
     "name": "stdout",
     "output_type": "stream",
     "text": [
      "3\n",
      "True\n"
     ]
    }
   ],
   "source": [
    "# Your code goes here.\n",
    "\n",
    "class Triangle:\n",
    "    \n",
    "    number_of_sides = 3\n",
    "    \n",
    "    def __init__(self, angle1, angle2, angle3):\n",
    "        self.angle1 = angle1\n",
    "        self.angle2 = angle2\n",
    "        self.angle3 = angle3\n",
    "    \n",
    "    def check_angles(self):\n",
    "        if self.angle1 + self.angle2 + self.angle3 == 180:\n",
    "            return True\n",
    "        else:\n",
    "            return False\n",
    "            \n",
    "MyTriangle = Triangle(90,30,60)\n",
    "print(MyTriangle.number_of_sides)\n",
    "print(MyTriangle.check_angles())\n"
   ]
  },
  {
   "cell_type": "markdown",
   "metadata": {},
   "source": [
    "# Question 2\n",
    "    \n",
    "    1- Create a class Animal\n",
    "    2- Create a member varibale named 'isAlive' and set it's value to True.\n",
    "    3- Create a __init__ method which will take a self and a Boolean parameter, that Boolean parameter will initialize the value of isAlive\n",
    "    4- Create an object of the class and pass a Boolean paramete 'False'\n",
    "    5- Print isAlive attribute of the object of the class.\n",
    "    "
   ]
  },
  {
   "cell_type": "code",
   "execution_count": 14,
   "metadata": {},
   "outputs": [
    {
     "name": "stdout",
     "output_type": "stream",
     "text": [
      "False\n"
     ]
    }
   ],
   "source": [
    "# Your code goes here\n",
    "\n",
    "class Animal:\n",
    "    \n",
    "    isAlive = True\n",
    "    \n",
    "    def __init__(self, isAlive):\n",
    "        self.isAlive = isAlive\n",
    "    \n",
    "MyAnimal = Animal(False)\n",
    "print(MyAnimal.isAlive)\n",
    "    \n"
   ]
  },
  {
   "cell_type": "markdown",
   "metadata": {},
   "source": [
    "# Question 3\n",
    "\n",
    "    Define a class called Lunch.Its __init__() method should have two arguments:selfanf menu.Where menu is a string. Add a method called menu_price.It will involve a ifstatement:\n",
    "\n",
    "    if \"menu 1\" print \"Your choice:\", menu, \"Price 12.00\", if \"menu 2\" print \"Your choice:\", menu, \"Price 13.40\", else print \"Error in menu\".\n",
    "\n",
    "    To check if it works define: Paul=Lunch(\"menu 1\") and call Paul.menu_price()."
   ]
  },
  {
   "cell_type": "code",
   "execution_count": 21,
   "metadata": {},
   "outputs": [
    {
     "name": "stdout",
     "output_type": "stream",
     "text": [
      "Your choice: menu 1 Price 12.00\n"
     ]
    }
   ],
   "source": [
    "# Your code goes here\n",
    "\n",
    "class Lunch:\n",
    "    \n",
    "    def __init__(self, menu):\n",
    "        self.menu = menu\n",
    "    \n",
    "    def menu_price(self):\n",
    "        if self.menu == 'menu 1':\n",
    "            print(\"Your choice:\", self.menu, \"Price 12.00\")\n",
    "        elif self.menu == 'menu 2':\n",
    "            print(\"Your choice:\", self.menu, \"Price 13.40\")\n",
    "        else:\n",
    "            print(\"Error in menu\")\n",
    "\n",
    "Paul=Lunch(\"menu 1\")\n",
    "Paul.menu_price()\n",
    "\n"
   ]
  },
  {
   "cell_type": "markdown",
   "metadata": {},
   "source": [
    "    "
   ]
  },
  {
   "cell_type": "raw",
   "metadata": {},
   "source": [
    "Note : @classmethod is a new concept for me as well. So I'm having trouble making a question on @classmethod. What I will do is, I have attached some very useful youtube/websites links for you. I've searched web and I'm unable to find an exercise for @classmethod on web as well, because it's not commonly used. \n",
    "\n",
    "So, Instead, I'm including inheritence questions in the exercise. "
   ]
  },
  {
   "cell_type": "markdown",
   "metadata": {},
   "source": [
    "# Question 4\n",
    "    \n",
    "    What is super() method and why is it used for?"
   ]
  },
  {
   "cell_type": "code",
   "execution_count": 5,
   "metadata": {},
   "outputs": [],
   "source": [
    "# Your answer goes here\n",
    "\n",
    "- From what i understand, it is possible to create hierarchies of class between class using argument super\n",
    "- This creates a inheritance link btweeen the 'super' class and the 'sub' class\n",
    "- This built-in function allows to avoid having to re-write the code and having to re-establish inheritance links between classes\n"
   ]
  },
  {
   "cell_type": "markdown",
   "metadata": {},
   "source": [
    "# Quesion 5\n",
    "\n",
    "    Write a class named Car that has the following member variables:\n",
    "    • yearModel . An integer that holds the car’s year model.\n",
    "    • make . A string that holds the make of the car.\n",
    "    • speed . An int that holds the car’s current speed.\n",
    "    \n",
    "    In addition, the class should have the following _init_(constructor) and other member functions.\n",
    "    \n",
    "    • Constructor. The constructor should accept the car’s year model and make as arguments. These values\n",
    "    should be assigned to the object’s yearModel and make member variables. The constructor should also\n",
    "    assign 0 to the speed member variables.\n",
    "    • Accessor. Function to get the values stored in an object’s yearModel, make, and\n",
    "    speed member variables.\n",
    "    • accelerate . The accelerate function should add 5 to the speed member variable each time it is called.\n",
    "    • brake . The brake function should subtract 5 from the speed member variable each time it is called.\n",
    "    \n",
    "    Demonstrate the class in a program that creates a Car object, and then calls the accelerate function fivetimes. After each call to the accelerate function, get the current speed of the car and display it. Then, call the brake function five times. After each call to the brake function, get the current speed of the car and display it."
   ]
  },
  {
   "cell_type": "code",
   "execution_count": 42,
   "metadata": {},
   "outputs": [
    {
     "name": "stdout",
     "output_type": "stream",
     "text": [
      "Enter year of the car: 1985\n",
      "Enter the make of the car: audi a3\n",
      "This car is from 1985 by audi a3 and with current speed of 0\n",
      "after accelerating, current speed is 5\n",
      "after accelerating, current speed is 10\n",
      "after accelerating, current speed is 15\n",
      "after accelerating, current speed is 20\n",
      "after accelerating, current speed is 25\n",
      "after braking, current speed is 20\n",
      "after braking, current speed is 15\n",
      "after braking, current speed is 10\n",
      "after braking, current speed is 5\n",
      "after braking, current speed is 0\n"
     ]
    }
   ],
   "source": [
    "# Your code goes here\n",
    "\n",
    "class Car:\n",
    "    def __init__(self, yearModel, make, speed):\n",
    "        self.yearModel = yearModel\n",
    "        self.make = make\n",
    "        self.speed = speed\n",
    "    \n",
    "    def accelerate(self):\n",
    "        self.speed = self.speed + 5\n",
    "        return \"after accelerating, current speed is {}\".format(self.speed)\n",
    "        \n",
    "    def brake(self):\n",
    "        self.speed = self.speed - 5\n",
    "        return \"after braking, current speed is {}\".format(self.speed)\n",
    "    \n",
    "    def accessor(self):\n",
    "        return \"This car is from {}, the model is a {} and with current speed of {}\".format(self.yearModel,self.make, self.speed)\n",
    "              \n",
    "yearModel = input('Enter year of the car: ')\n",
    "make = input('Enter the make of the car: ')\n",
    "speed = 0\n",
    "\n",
    "MyCar = Car(yearModel, make, speed)\n",
    "\n",
    "print(MyCar.accessor())\n",
    "\n",
    "for i in range (1 , 6):\n",
    "    print(MyCar.accelerate()) \n",
    "\n",
    "for i in range (1 , 6):\n",
    "    print(MyCar.brake())\n",
    "    \n",
    "#i did not manage to create the 'constructor' and took the user input separately\n"
   ]
  },
  {
   "cell_type": "markdown",
   "metadata": {},
   "source": [
    "# Question 6\n",
    "\n",
    "### Basic Inheritance:  \n",
    "    Perform the following tasks.\n",
    "    a. Define a base class called Person, which has the following members:\n",
    "\n",
    "    Data Items: \n",
    "    \n",
    "\tName [30]\n",
    "\tStreetAddress [30]\n",
    "    City [20]\n",
    "    State [3]\n",
    "    Zip [6]\n",
    "    Phone [12]\n",
    "    \n",
    "    Functions:\n",
    "    \n",
    "    get_info()      # prompts the user for the above info\n",
    "    print_info()    # prints all the info for the class.\n",
    "    __init__()      \n",
    "\n",
    "    b. Now define a class called Student, which is derived from Person. It should have the following members:\n",
    "    \n",
    "    Data Items:\n",
    "    \n",
    "\tMajor   \t     #  engineering, business, history, etc.\n",
    "    credits  \t    #  how many credits student has earned\n",
    "    gpa  \t        #  Grade Point Average\n",
    "    \n",
    "    Functions:\n",
    "    \n",
    "    find_info()  \t#  a function that asks the user for these inputs\n",
    "    __init__()   \t#  constructor\n",
    "         \n",
    "         \n",
    "    c. Write a program which instantiates yourself as an object of the class Student.  \n",
    "    \n",
    "    d. use get_info and find_info method to store information in the object.\n",
    "    \n",
    "    e. Print all the information."
   ]
  },
  {
   "cell_type": "code",
   "execution_count": 7,
   "metadata": {},
   "outputs": [],
   "source": [
    "# Your code goes here\n",
    "\n",
    "class Person:\n",
    "    def __init__(self, Name, StreetAddress, )\n",
    "    \n",
    "\n",
    "\n",
    "\n",
    "\n",
    "\n",
    "\n"
   ]
  },
  {
   "cell_type": "markdown",
   "metadata": {},
   "source": [
    "## Good luck and Happy coding! "
   ]
  }
 ],
 "metadata": {
  "kernelspec": {
   "display_name": "Python 3",
   "language": "python",
   "name": "python3"
  },
  "language_info": {
   "codemirror_mode": {
    "name": "ipython",
    "version": 3
   },
   "file_extension": ".py",
   "mimetype": "text/x-python",
   "name": "python",
   "nbconvert_exporter": "python",
   "pygments_lexer": "ipython3",
   "version": "3.7.6"
  }
 },
 "nbformat": 4,
 "nbformat_minor": 2
}
