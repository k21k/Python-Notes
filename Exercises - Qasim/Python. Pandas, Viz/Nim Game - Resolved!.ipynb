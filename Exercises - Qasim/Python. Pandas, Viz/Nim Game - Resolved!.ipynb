{
 "cells": [
  {
   "cell_type": "code",
   "execution_count": 1,
   "metadata": {},
   "outputs": [],
   "source": [
    "class Stack():\n",
    "    def __init__(self,stones):        \n",
    "        self.stones = stones\n",
    "    \n",
    "    def __str__(self):\n",
    "        return \"There are {} stones left\".format(len(self.stones))    # only need 'self.stones' (only had self.Stack.stones)\n",
    "\n",
    "    def still_has_stones(self):\n",
    "        return len(self.stones) != 0\n",
    "    \n",
    "    #remove stone should be here, rather than in Player class\n",
    "    def remove_stone(self, drawn_stones):        # missed 'drawn_stones' in the arguments declaration. if it was in player class, do i still need it?\n",
    "        for i in range(drawn_stones+1):\n",
    "            self.stones.pop()                    # i dont need Slack.stones since i am in Stack already ? \n",
    "       "
   ]
  },
  {
   "cell_type": "code",
   "execution_count": 2,
   "metadata": {},
   "outputs": [],
   "source": [
    "class Player():\n",
    "\n",
    "    def __init__(self,name):\n",
    "        self.name = name\n",
    "    \n",
    "    def choice(self):\n",
    "        drawn_stones = int(input(\"{} Would you like to remove 1 or 2 stones?\".format(self.name)))\n",
    "        #assert drawn_stones < 3, \"invalid input, chose between 1 and 2\" \n",
    "        return drawn_stones\n"
   ]
  },
  {
   "cell_type": "code",
   "execution_count": 5,
   "metadata": {},
   "outputs": [
    {
     "name": "stdout",
     "output_type": "stream",
     "text": [
      "----------------------------------------------------------------------------------------------------\n",
      "Would you like to remove 1 or 2 stones?2\n",
      "There are 18 stones left\n",
      "Would you like to remove 1 or 2 stones?16\n",
      "There are 2 stones left\n",
      "----------------------------------------------------------------------------------------------------\n",
      "Would you like to remove 1 or 2 stones?2\n",
      "Game Over\n"
     ]
    }
   ],
   "source": [
    "import random\n",
    "Player1 = Player(\"Player1\")\n",
    "Player2 = Player(\"Player2\")\n",
    "list_of_stones = list(range(1,21))                 # i did this - whic is ok - list_of_stones = Stack(list(range(1,21)))\n",
    "stack = Stack(list_of_stones)                      # ok - missed that one - makes sense\n",
    "             \n",
    "while stack.still_has_stones():\n",
    "    print('-'*100)\n",
    "    \n",
    "    Player1_Choice = Player1.choice()\n",
    "    if len(stack.stones) > Player1_Choice: \n",
    "        stack.stones.append(stack.remove_stone(Player1_Choice))         # missed that one - this one is crucial\n",
    "                                                                        # I did  \" Stack.append(remove_stone())  \"\n",
    "                                                                        # ok we use choice = drawn stones\n",
    "        print(stack)                                                    # i would have thought print(Stack()) - ok then\n",
    "    else:\n",
    "        break\n",
    "    \n",
    "    Player2_Choice = Player2.choice()\n",
    "    if len(stack.stones) > Player2_Choice:\n",
    "        stack.stones.append(stack.remove_stone(Player2_Choice)) \n",
    "        print(stack)\n",
    "    else:\n",
    "        break\n",
    "              \n",
    "print(\"Game Over\")"
   ]
  },
  {
   "cell_type": "code",
   "execution_count": null,
   "metadata": {},
   "outputs": [],
   "source": []
  }
 ],
 "metadata": {
  "kernelspec": {
   "display_name": "Python 3",
   "language": "python",
   "name": "python3"
  },
  "language_info": {
   "codemirror_mode": {
    "name": "ipython",
    "version": 3
   },
   "file_extension": ".py",
   "mimetype": "text/x-python",
   "name": "python",
   "nbconvert_exporter": "python",
   "pygments_lexer": "ipython3",
   "version": "3.7.6"
  }
 },
 "nbformat": 4,
 "nbformat_minor": 2
}
