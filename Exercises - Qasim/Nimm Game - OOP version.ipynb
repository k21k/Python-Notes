{
 "cells": [
  {
   "cell_type": "code",
   "execution_count": null,
   "metadata": {},
   "outputs": [],
   "source": [
    "import random\n",
    "\n",
    "class Stack():\n",
    "    def __init__(self,stones):        \n",
    "        self.stones = stones\n",
    "    \n",
    "    def __str__(self):\n",
    "        return \"There are {} stones left\".format(len(self.stones))    \n",
    "\n",
    "    def still_has_stones(self):\n",
    "        return len(self.stones) != 0\n",
    "    \n",
    "    def remove_stone(self, drawn_stones):       \n",
    "        for i in range(drawn_stones+1):\n",
    "            self.stones.pop()                   \n",
    "\n",
    "\n",
    "class Player():\n",
    "\n",
    "    def __init__(self,name):\n",
    "        self.name = name\n",
    "    \n",
    "    def choice(self):\n",
    "        drawn_stones = int(input(\"{} Would you like to remove 1 or 2 stones?\".format(self.name)))\n",
    "        return drawn_stones\n",
    "\n",
    "    \n",
    "################\n",
    "\n",
    "\n",
    "Player1 = Player(\"Player1\")\n",
    "Player2 = Player(\"Player2\")\n",
    "list_of_stones = list(range(1,21))                 \n",
    "stack = Stack(list_of_stones)                      \n",
    "\n",
    "valid_choice == 1 or 2\n",
    "\n",
    "while stack.still_has_stones():\n",
    "    print('-'*100)\n",
    "    \n",
    "    Player1_Choice = Player1.choice()\n",
    "   \n",
    "    if len(stack.stones) > Player1_Choice: \n",
    "        stack.stones.append(stack.remove_stone(Player1_Choice))         \n",
    "        print(stack)                                                    \n",
    "    else:\n",
    "        break\n",
    "    \n",
    "    Player2_Choice = Player2.choice()\n",
    "    if len(stack.stones) > Player2_Choice:\n",
    "        stack.stones.append(stack.remove_stone(Player2_Choice)) \n",
    "        print(stack)\n",
    "    else:\n",
    "        break\n",
    "              \n",
    "print(\"Game Over\")\n",
    "\n"
   ]
  },
  {
   "cell_type": "code",
   "execution_count": 9,
   "metadata": {},
   "outputs": [
    {
     "name": "stdout",
     "output_type": "stream",
     "text": [
      "[1, 2, 3, 4, 5, 6, 7, 8, 9, 10, 11, 12, 13, 14, 15, 16, 17, 18, 19, 20]\n"
     ]
    }
   ],
   "source": [
    "Stack = list(range(1,21))\n",
    "print(Stack)"
   ]
  },
  {
   "cell_type": "code",
   "execution_count": null,
   "metadata": {},
   "outputs": [],
   "source": [
    "\n",
    "def main():\n",
    "    Stack = list(range(1, 21))\n",
    "\n",
    "    while len(Stack) != 0:\n",
    "\n",
    "        if len(Stack) == 0:\n",
    "            print(\"Game Over -Player 2: you lose\")\n",
    "\n",
    "        else:\n",
    "            draw_stones = int(input(\"Player 1, would you like to remove 1 or 2 stones? \"))\n",
    "\n",
    "            if draw_stones == 1 or draw_stones == 2:\n",
    "                for k in range(draw_stones):\n",
    "                    Stack.pop()\n",
    "                print(\"There are {} stones left\".format(len(Stack)))\n",
    "\n",
    "            else:\n",
    "                draw_stones = int(input(\"Please chose between 1 or 2: \"))\n",
    "                for k in range(draw_stones):\n",
    "                    Stack.pop()\n",
    "                print(\"There are {} stones left\".format(len(Stack)))\n",
    "\n",
    "        if len(Stack) == 0:\n",
    "            print(\"Game Over - Player 1: you lose\")\n",
    "\n",
    "        else:\n",
    "            draw_stones = int(input(\"Player 2, would you like to remove 1 or 2 stones? \"))\n",
    "\n",
    "            if draw_stones == 1 or draw_stones == 2:\n",
    "                for k in range(draw_stones):\n",
    "                    Stack.pop()\n",
    "                print(\"There are {} stones left\".format(len(Stack)))\n",
    "                print('-' * 100)\n",
    "\n",
    "            else:\n",
    "                draw_stones = int(input(\"Please chose between 1 or 2: \"))\n",
    "                for k in range(draw_stones):\n",
    "                    Stack.pop()\n",
    "                print(\"There are {} stones left\".format(len(Stack)))\n",
    "\n",
    "    print('Good Game')"
   ]
  },
  {
   "cell_type": "code",
   "execution_count": null,
   "metadata": {},
   "outputs": [],
   "source": []
  }
 ],
 "metadata": {
  "kernelspec": {
   "display_name": "Python 3",
   "language": "python",
   "name": "python3"
  },
  "language_info": {
   "codemirror_mode": {
    "name": "ipython",
    "version": 3
   },
   "file_extension": ".py",
   "mimetype": "text/x-python",
   "name": "python",
   "nbconvert_exporter": "python",
   "pygments_lexer": "ipython3",
   "version": "3.7.6"
  }
 },
 "nbformat": 4,
 "nbformat_minor": 4
}
