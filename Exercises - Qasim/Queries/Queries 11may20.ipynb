{
 "cells": [
  {
   "cell_type": "markdown",
   "metadata": {},
   "source": [
    "# Queries 11may20"
   ]
  },
  {
   "cell_type": "markdown",
   "metadata": {},
   "source": [
    "##### From  Q16"
   ]
  },
  {
   "cell_type": "code",
   "execution_count": null,
   "metadata": {},
   "outputs": [],
   "source": [
    "i have noticed that sum and sum() produce different results\n",
    " - sum() will provide the total (of a column)\n",
    " - sum will provide the sum of each element\n",
    "coudl you please comment on this, and whether this is tractable in other conditions?"
   ]
  },
  {
   "cell_type": "markdown",
   "metadata": {},
   "source": [
    "##### From the Project\n"
   ]
  },
  {
   "cell_type": "code",
   "execution_count": null,
   "metadata": {},
   "outputs": [],
   "source": [
    "How would you make this in 1 line?\n",
    "\n",
    "    df2 = sal[sal['EmployeeName'].str.contains(\"JOSEPH DRISCOLL\")]\n",
    "    df2['JobTitle']"
   ]
  },
  {
   "cell_type": "code",
   "execution_count": null,
   "metadata": {},
   "outputs": [],
   "source": [
    "Group + Filter\n",
    "\n",
    "    How would you use a group (year) and filter on the year 2013 ?"
   ]
  },
  {
   "cell_type": "code",
   "execution_count": null,
   "metadata": {},
   "outputs": [],
   "source": [
    "df4 = sal[sal['TotalPayBenefits'] == sal['TotalPayBenefits'].min()]\n",
    "print(df4)\n",
    "\n",
    "    The output from this is correct but not nicely formatted.\n",
    "    How can i cahnge the output? is it a different formula, or should i format it?\n",
    "    "
   ]
  },
  {
   "cell_type": "code",
   "execution_count": null,
   "metadata": {},
   "outputs": [],
   "source": [
    "I did not managed to use a lambda expression here:\n",
    "\n",
    "    ** How many people have the word Chief in their job title? (This is pretty tricky) ** Hint : Create a function and use lambda expression"
   ]
  },
  {
   "cell_type": "code",
   "execution_count": null,
   "metadata": {},
   "outputs": [],
   "source": [
    "To get the lenght of the string in a column:\n",
    "    \n",
    "    is '.apply(lambda x: len(x))' the only possible method?\n",
    "    when i tried to apply str.len() the result was not good\n",
    "    "
   ]
  },
  {
   "cell_type": "code",
   "execution_count": null,
   "metadata": {},
   "outputs": [],
   "source": [
    "clarification\n",
    "\n",
    "    df2 = df[df['col_name'] == sal['col_name'].max()]\n",
    "    \n",
    "    this formula works for retreiveing the row that contains the max calue for 'col name'\n",
    "    I would like to discuss the need for 2x  'df' in the 1st part of the argument as i\n",
    "    feel i understand 50% of it"
   ]
  },
  {
   "cell_type": "code",
   "execution_count": null,
   "metadata": {},
   "outputs": [],
   "source": []
  }
 ],
 "metadata": {
  "kernelspec": {
   "display_name": "Python 3",
   "language": "python",
   "name": "python3"
  },
  "language_info": {
   "codemirror_mode": {
    "name": "ipython",
    "version": 3
   },
   "file_extension": ".py",
   "mimetype": "text/x-python",
   "name": "python",
   "nbconvert_exporter": "python",
   "pygments_lexer": "ipython3",
   "version": "3.7.6"
  },
  "toc": {
   "base_numbering": 1,
   "nav_menu": {},
   "number_sections": true,
   "sideBar": true,
   "skip_h1_title": false,
   "title_cell": "Table of Contents",
   "title_sidebar": "Contents",
   "toc_cell": false,
   "toc_position": {},
   "toc_section_display": true,
   "toc_window_display": false
  }
 },
 "nbformat": 4,
 "nbformat_minor": 4
}
