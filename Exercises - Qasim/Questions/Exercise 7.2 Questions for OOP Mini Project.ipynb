{
 "cells": [
  {
   "cell_type": "markdown",
   "metadata": {},
   "source": [
    "## QUESTIONS"
   ]
  },
  {
   "cell_type": "code",
   "execution_count": 84,
   "metadata": {},
   "outputs": [
    {
     "name": "stdout",
     "output_type": "stream",
     "text": [
      "a red car\n"
     ]
    }
   ],
   "source": [
    "\n",
    "class Car:\n",
    "    def __init__(self, color, mileage):\n",
    "        self.color = color\n",
    "        self.mileage = mileage\n",
    "\n",
    "    def __str__(self):\n",
    "        return 'a {} car'.format(self.color)                     # i do not understand the self = self\n",
    "\n",
    "my_car = Car('red', 10000)\n",
    "print(my_car)"
   ]
  },
  {
   "cell_type": "code",
   "execution_count": null,
   "metadata": {},
   "outputs": [],
   "source": [
    "    def __init__(self, Suite, Ranks):\n",
    "        self.Suite = Suite\n",
    "        self.Ranks = Ranks\n",
    "        self.AllCards = list(itertools.product(Suite, Ranks))           \n",
    "\n",
    "        # i am a bit puzzled by the last line as  AllCards is not passed in the parameters of the constructor\n",
    "        # i would have expected def __init__(self, Suite, Ranks, AllCards) \n",
    "        # is it still conisdered as an instance variable?"
   ]
  },
  {
   "cell_type": "code",
   "execution_count": 82,
   "metadata": {},
   "outputs": [],
   "source": [
    "    def draw_card(self):\n",
    "            self.draw_card = self.cards.pop()\n",
    "            return self.draw_card\n",
    "    \n",
    "        # do i need to write down 'self.' ?"
   ]
  },
  {
   "cell_type": "code",
   "execution_count": 83,
   "metadata": {},
   "outputs": [],
   "source": [
    "    def cut_in_half(self, AllCards):\n",
    "        return (self.AllCards[:26], self.AllCards[-26:])\n",
    "    \n",
    "        Hand1, Hand2 = cut_in_half(AllCards)                            # i do not understand fully what is going on here\n",
    "        \n",
    "        print(Hand1)\n",
    "        print(Hand2)\n",
    "        \n",
    "        # Actually, is going through a hand1 and hand2 route a mistake?\n",
    "        # the issue is that despite it would be convenient to deal with just 1 generic name, the two hands are distinctive objects"
   ]
  },
  {
   "cell_type": "code",
   "execution_count": null,
   "metadata": {},
   "outputs": [],
   "source": [
    "    def cut_in_half(self, AllCards):\n",
    "        return (self.AllCards[:26], self.AllCards[-26:])\n",
    "        Hand  = cut_in_half(AllCards)       \n",
    "        \n",
    "        # i don't think this works in the end i want somethign like player1hand = Deck(cut_in_half.1stpartof deck)\n"
   ]
  },
  {
   "cell_type": "code",
   "execution_count": null,
   "metadata": {},
   "outputs": [],
   "source": [
    "class Hand:\n",
    "    '''\n",
    "    This is the Hand class. Each player has a Hand, and can add or remove\n",
    "    cards from that hand. There should be an add and remove card method here.\n",
    "    '''\n",
    "\n",
    "    def __init__(self, Hand):\n",
    "        self.Hand = Hand\n",
    "    \n",
    "    def DrawCard(self):\n",
    "        DrawCard = self.Player.Hand.pop()              # issue here - i want to express the link between player and his hand\n",
    "        return self.DrawCard\n",
    "   \n",
    "    def AddCard(self, AddedToHand):\n",
    "        AddCard = self.Hand.extend(AddedToHand)\n",
    "        return self.AddCard                            #is this the correct syntax for those methods?\n",
    "        "
   ]
  },
  {
   "cell_type": "code",
   "execution_count": 87,
   "metadata": {},
   "outputs": [
    {
     "ename": "ValueError",
     "evalue": "too many values to unpack (expected 2)",
     "output_type": "error",
     "traceback": [
      "\u001b[1;31m---------------------------------------------------------------------------\u001b[0m",
      "\u001b[1;31mValueError\u001b[0m                                Traceback (most recent call last)",
      "\u001b[1;32m<ipython-input-87-64cd9eeb27cd>\u001b[0m in \u001b[0;36m<module>\u001b[1;34m\u001b[0m\n\u001b[0;32m      1\u001b[0m \u001b[0mmylist\u001b[0m \u001b[1;33m=\u001b[0m \u001b[1;33m[\u001b[0m\u001b[1;34m'1'\u001b[0m\u001b[1;33m,\u001b[0m\u001b[1;34m'2'\u001b[0m\u001b[1;33m,\u001b[0m\u001b[1;34m'3'\u001b[0m\u001b[1;33m,\u001b[0m\u001b[1;34m'4'\u001b[0m\u001b[1;33m]\u001b[0m\u001b[1;33m\u001b[0m\u001b[1;33m\u001b[0m\u001b[0m\n\u001b[0;32m      2\u001b[0m \u001b[1;33m\u001b[0m\u001b[0m\n\u001b[1;32m----> 3\u001b[1;33m \u001b[0ml1\u001b[0m\u001b[1;33m,\u001b[0m \u001b[0ml2\u001b[0m \u001b[1;33m=\u001b[0m \u001b[0mmylist\u001b[0m\u001b[1;33m\u001b[0m\u001b[1;33m\u001b[0m\u001b[0m\n\u001b[0m\u001b[0;32m      4\u001b[0m \u001b[1;33m\u001b[0m\u001b[0m\n\u001b[0;32m      5\u001b[0m \u001b[0mprint\u001b[0m\u001b[1;33m(\u001b[0m\u001b[0ml1\u001b[0m\u001b[1;33m)\u001b[0m\u001b[1;33m\u001b[0m\u001b[1;33m\u001b[0m\u001b[0m\n",
      "\u001b[1;31mValueError\u001b[0m: too many values to unpack (expected 2)"
     ]
    }
   ],
   "source": [
    "mylist = [('1','2','3','4']\n",
    "\n",
    "l1, l2 = mylist\n",
    "\n",
    "print(l1)"
   ]
  },
  {
   "cell_type": "code",
   "execution_count": null,
   "metadata": {},
   "outputs": [],
   "source": []
  }
 ],
 "metadata": {
  "kernelspec": {
   "display_name": "Python 3",
   "language": "python",
   "name": "python3"
  },
  "language_info": {
   "codemirror_mode": {
    "name": "ipython",
    "version": 3
   },
   "file_extension": ".py",
   "mimetype": "text/x-python",
   "name": "python",
   "nbconvert_exporter": "python",
   "pygments_lexer": "ipython3",
   "version": "3.7.6"
  }
 },
 "nbformat": 4,
 "nbformat_minor": 4
}
