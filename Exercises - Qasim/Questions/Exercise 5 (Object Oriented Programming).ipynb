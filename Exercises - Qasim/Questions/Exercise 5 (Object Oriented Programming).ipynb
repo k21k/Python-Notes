{
 "cells": [
  {
   "cell_type": "markdown",
   "metadata": {},
   "source": [
    "## Very useful resource\n",
    "    \n",
    "    https://realpython.com/python3-object-oriented-programming/"
   ]
  },
  {
   "cell_type": "markdown",
   "metadata": {},
   "source": [
    "# Question 1\n",
    "    \n",
    "    Define a class which has at least two methods:\n",
    "    \n",
    "    getString: to get a string from console input\n",
    "    printString: to print the string in upper case.\n",
    "    \n",
    "\n",
    "    Hints:\n",
    "    Use __init__ method to construct some parameters"
   ]
  },
  {
   "cell_type": "code",
   "execution_count": 85,
   "metadata": {},
   "outputs": [
    {
     "name": "stdout",
     "output_type": "stream",
     "text": [
      "enter a string of letters in lower cases: ewfwef\n",
      "EWFWEF\n"
     ]
    }
   ],
   "source": [
    "# Your code goes here\n",
    "\n",
    "class MyClass:\n",
    "    def __init__(self, g):\n",
    "        self.g = g\n",
    "            \n",
    "    def p(self):\n",
    "        return g.upper()\n",
    "\n",
    "g = input(\"enter a string of letters in lower cases: \")\n",
    "f = MyClass(g)\n",
    "\n",
    "print(f.p())\n",
    "\n",
    "\n",
    "# I did not managed to have 2 methods - I am not sure what should be done. Output is fine but not following requirements\n"
   ]
  },
  {
   "cell_type": "markdown",
   "metadata": {},
   "source": [
    "# Question 2\n",
    "\n",
    "    Define a class named Canadian which has a static method called printNationality.\n",
    "\n",
    "    Hints:\n",
    "    Use @staticmethod decorator to define class static method.\n",
    "    \n",
    "    Output: (When the static method is called)\n",
    "    \n",
    "    Canadian"
   ]
  },
  {
   "cell_type": "code",
   "execution_count": 77,
   "metadata": {},
   "outputs": [],
   "source": [
    "# Your code goes here\n",
    "\n",
    "# Not enough knowledge of staticmethod decorator here.\n",
    "# Also, I do not undestand the question 'When the static method is called' - what does it mean?"
   ]
  },
  {
   "cell_type": "markdown",
   "metadata": {},
   "source": [
    "# Question 3\n",
    "    \n",
    "    What is a constructor and what is it's functionality?\n",
    "    How do we initialize class variables using a constuctor?"
   ]
  },
  {
   "cell_type": "code",
   "execution_count": null,
   "metadata": {},
   "outputs": [],
   "source": [
    "On Constructors\n",
    "- Constructors purpose is to initialize  a newly created object.\n",
    "- They are automatically invoked upon creation of a new object.\n",
    "- In python constructors are created using \"__init__\" method.\n",
    "- This method always take \"self\" as the first argument which is reference to the object being initialized.\n",
    "- Other agruments can also be passed after \"self\"\n",
    "\n",
    "Example:\n",
    "     def __init__(self, name, age):       # Instance Attributes \n",
    "        self.name = name                 # self \n",
    "        self.age = age                   # self \n",
    "\n",
    "On Self:\n",
    "- Self parameter is a reference to the current instance of the class\n",
    "- Self parameter is used to access variables that belongs to the class. \n",
    "- Self variable is mandatory\n",
    "- Self is also an instance of a class\n",
    "\n",
    "  To note:\n",
    "  - It does not have to be named self, you can call it whatever you want, \n",
    "  - However, it has to be the first paramater of any function in the class.\n",
    "  - Through the self parameter, instance methods can freely access attributes and other methods \n",
    "  - This gives them a lot of power when it comes to modifying an object’s and also class state."
   ]
  },
  {
   "cell_type": "markdown",
   "metadata": {},
   "source": [
    "# Question 4\n",
    "\n",
    "    Define a class named Circle which can be constructed by a radius. The Circle class has a method which can compute the area of the circle. \n",
    "\n",
    "    Hints:\n",
    "    Use def methodName(self) to define a method.\n",
    "    \n",
    "    Sample input :\n",
    "    \n",
    "    Enter the radius : 2\n",
    "    Area of circle :  12.56\n",
    "    \n",
    "    Formula: pi*r*r\n",
    "    \n",
    "    Note: Take inputs at the time of object creation and pass the input values into the constructor.\n"
   ]
  },
  {
   "cell_type": "code",
   "execution_count": 96,
   "metadata": {},
   "outputs": [
    {
     "name": "stdout",
     "output_type": "stream",
     "text": [
      "Enter the radius: 2\n",
      "Area of circle 12.566370614359172\n",
      "None\n"
     ]
    }
   ],
   "source": [
    "# Your code goes here\n",
    "\n",
    "import math\n",
    "\n",
    "class Circle:\n",
    "    def __init__(self, r):\n",
    "        self.r = r\n",
    "\n",
    "    def circle_area(self):\n",
    "        area = float(self.r * self.r * math.pi)\n",
    "        print(\"Area of circle {}\".format(area))\n",
    "\n",
    "Radius = int(input('Enter the radius: '))\n",
    "NewCircle = Circle(Radius)\n",
    "\n",
    "print( NewCircle.circle_area())\n",
    "\n"
   ]
  },
  {
   "cell_type": "code",
   "execution_count": null,
   "metadata": {},
   "outputs": [],
   "source": [
    "# I have not succeeded in having the \"area of circle\" writtne - and i am not sure why"
   ]
  },
  {
   "cell_type": "code",
   "execution_count": 75,
   "metadata": {},
   "outputs": [
    {
     "name": "stdout",
     "output_type": "stream",
     "text": [
      "enter new radius: 2\n",
      "12.566370614359172\n"
     ]
    }
   ],
   "source": [
    "import math\n",
    "\n",
    "class Circle:\n",
    "    def __init__(self, r):\n",
    "        self.r = int(r)\n",
    "        r = input('enter new radius: ')\n",
    "\n",
    "    def circle_area(self):\n",
    "        return self.r * self.r * math.pi\n",
    "      \n",
    "Circle = Circle(r)\n",
    "print(Circle.circle_area())\n"
   ]
  },
  {
   "cell_type": "code",
   "execution_count": null,
   "metadata": {},
   "outputs": [],
   "source": [
    "# I have not succeeded in having the \"area of circle\" writtne - and i am not sure why\n",
    "# I have put the input at time of object creation"
   ]
  },
  {
   "cell_type": "markdown",
   "metadata": {},
   "source": [
    "#  Question 5\n",
    "\n",
    "    Define a class named Rectangle which can be constructed by a length and width. \n",
    "    The Rectangle class has a method which can compute the area. \n",
    "    \n",
    "    Formula: length x width\n",
    "    \n",
    "    Sample input: \n",
    "    Enter length : 4\n",
    "    Enter width : 3\n",
    "    \n",
    "    Sample output:\n",
    "    Area of Rectangle is : 12\n",
    "    \n",
    "    Note: Take inputs at the time of object creation and pass the input values into the constructor.\n"
   ]
  },
  {
   "cell_type": "code",
   "execution_count": 98,
   "metadata": {},
   "outputs": [
    {
     "name": "stdout",
     "output_type": "stream",
     "text": [
      "enter length: 2\n",
      "enter width: 2\n",
      "4\n"
     ]
    }
   ],
   "source": [
    "# Your code goes here\n",
    "\n",
    "class Rectangle:\n",
    "    def __init__(self, l, w):\n",
    "        \n",
    "        self.l = int(l)\n",
    "        self.w = int(w)\n",
    "       \n",
    "    def Area(self):\n",
    "        return self.l * self.w\n",
    "\n",
    "l = input('enter length: ')\n",
    "w = input('enter width: ')\n",
    "    \n",
    "Rectangle = Rectangle(l, w)\n",
    "print(Rectangle.Area())\n",
    "\n",
    "\n",
    "# I have a \"name 'l' is not defined\" error. I have tried multiple turnaround but was not successful\n",
    "\n"
   ]
  },
  {
   "cell_type": "markdown",
   "metadata": {},
   "source": [
    "# Question 6\n",
    "    \n",
    "    Define a class named covert_weight, it contains two methods:\n",
    "    1- kg_to_pounds(kg)\n",
    "    2- pounds_to_kg(pounds)\n",
    "    \n",
    "    Hint: 1 kg = 2.2 pounds\n",
    "    \n",
    "    Ask the user to choose an option, call the corresponding function and compute the value.\n",
    "    \n",
    "    Sample Input: \n",
    "    Press 1 for kg-to-pound conversion, 2 for otherwise : 1\n",
    "    \n",
    "    Enter weight : 1 \n",
    "    \n",
    "    Sample output:\n",
    "    \n",
    "    The weight in pounds is : 2.2"
   ]
  },
  {
   "cell_type": "code",
   "execution_count": 89,
   "metadata": {},
   "outputs": [
    {
     "name": "stdout",
     "output_type": "stream",
     "text": [
      "enter weight: 2\n",
      "Press 1 for kg-to-pound conversion, 2 for otherwise1\n",
      "0.9090909090909091\n"
     ]
    }
   ],
   "source": [
    "# Your code goes here\n",
    "\n",
    "class Convert_Weight:\n",
    "    def __init__(self, w,c):\n",
    "        self.w = w\n",
    "        self.c = c\n",
    "        \n",
    "    def PtoK(self):\n",
    "        return float(w) / 2.2\n",
    "        \n",
    "    def KtoP(self):\n",
    "        return float(w) * 2.2\n",
    "\n",
    "w = input('enter weight: ')\n",
    "c = input('Press 1 for kg-to-pound conversion, 2 for otherwise')\n",
    "\n",
    "Convert_Weight = Convert_Weight(w,c)\n",
    "\n",
    "if c == 1:\n",
    "    print(Convert_Weight.KtoP())\n",
    "else:\n",
    "    print(Convert_Weight.PtoK())\n",
    "    \n",
    "\n",
    "\n"
   ]
  },
  {
   "cell_type": "code",
   "execution_count": null,
   "metadata": {},
   "outputs": [],
   "source": []
  }
 ],
 "metadata": {
  "kernelspec": {
   "display_name": "Python 3",
   "language": "python",
   "name": "python3"
  },
  "language_info": {
   "codemirror_mode": {
    "name": "ipython",
    "version": 3
   },
   "file_extension": ".py",
   "mimetype": "text/x-python",
   "name": "python",
   "nbconvert_exporter": "python",
   "pygments_lexer": "ipython3",
   "version": "3.7.6"
  }
 },
 "nbformat": 4,
 "nbformat_minor": 2
}
