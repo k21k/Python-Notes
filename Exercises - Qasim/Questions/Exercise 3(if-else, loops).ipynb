{
 "cells": [
  {
   "cell_type": "markdown",
   "metadata": {},
   "source": [
    "# Happy coding!\n",
    "\n",
    "    Dated : April 7,2020\n",
    "    \n",
    "    Note: Use functions where ever possible. Feel free to ping me if you get confused where to use functions."
   ]
  },
  {
   "cell_type": "markdown",
   "metadata": {},
   "source": [
    "# Question 1\n",
    "    \n",
    "    Input a number in a variable named 'age'. \n",
    "    If the number is between 0-17, return 1. \n",
    "    If the number is between 18-25, return 2.\n",
    "    If the number is between 26-50, return 3.\n",
    "    If the number is greater than 50, return 4.\n",
    "    If the number is less than 0, return 5.\n",
    "    \n",
    "    Now after getting a number from the function, print following message for the given number:\n",
    "    If 1 is returned, print 'Young'\n",
    "    If 2 is returned, print 'Adult'\n",
    "    If 3 is returned, print 'Middle-aged'\n",
    "    If 4 is returned, print 'Old'\n",
    "    If 5 is returned, print 'Invalid input. Age can not be less than zero.'\n",
    "    \n",
    "    \n",
    "    Sample input:\n",
    "    2\n",
    "    \n",
    "    Sample Output:\n",
    "    'Adult'\n",
    "    \n",
    "    Note: Create a get_age function."
   ]
  },
  {
   "cell_type": "code",
   "execution_count": 10,
   "metadata": {},
   "outputs": [
    {
     "name": "stdout",
     "output_type": "stream",
     "text": [
      "Enter age :51\n",
      "Old\n"
     ]
    }
   ],
   "source": [
    "def age(number):\n",
    "    if int(number) > 0 and int(number) < 17:\n",
    "        return 1\n",
    "    elif int(number) >= 18 and int(number) <=25:\n",
    "        return 2\n",
    "    elif int(number) > 25 and int(number) <=50:\n",
    "        return 3\n",
    "    elif int(number) > 50:\n",
    "        return 4\n",
    "    \n",
    "    else:\n",
    "        return 5\n",
    "\n",
    "\n",
    "number = input('Enter age :')\n",
    "\n",
    "n = age(number)           # 1 function call \n",
    "\n",
    "if n==1:\n",
    "    print('Young')\n",
    "elif n==2:\n",
    "    print('Adult')\n",
    "elif n==3:\n",
    "    print('Middle-aged')\n",
    "elif n==4:\n",
    "    print('Old')\n",
    "elif n==5:\n",
    "    print('Invalid input')"
   ]
  },
  {
   "cell_type": "code",
   "execution_count": 11,
   "metadata": {},
   "outputs": [
    {
     "data": {
      "text/plain": [
       "8"
      ]
     },
     "execution_count": 11,
     "metadata": {},
     "output_type": "execute_result"
    }
   ],
   "source": [
    "def times2(n):\n",
    "    return n**2\n",
    "\n",
    "2 * times2(2)"
   ]
  },
  {
   "cell_type": "markdown",
   "metadata": {},
   "source": [
    "# Question 2\n",
    "\n",
    "    A school has following rules for grading system:\n",
    "    a. Below 25 - F\n",
    "    b. 25 to 45 - E\n",
    "    c. 45 to 50 - D\n",
    "    d. 50 to 60 - C\n",
    "    e. 60 to 80 - B\n",
    "    f. Above 80 - A\n",
    "    Ask user to enter marks and print the corresponding grade.\n",
    "    \n",
    "    Sample Input: \n",
    "    90\n",
    "    \n",
    "    Sample Output:\n",
    "    A\n",
    "    \n",
    "    Note: Handle the invalid inputs as well."
   ]
  },
  {
   "cell_type": "code",
   "execution_count": 2,
   "metadata": {},
   "outputs": [],
   "source": [
    "# Your code goes here"
   ]
  },
  {
   "cell_type": "markdown",
   "metadata": {},
   "source": [
    "# Question 3\n",
    "    \n",
    "    Take input of age of 3 people by user and determine oldest and youngest among them.\n",
    "    Sample Input:\n",
    "    Enter age of first person:\n",
    "    12\n",
    "    Enter age of Second person:\n",
    "    25\n",
    "    Enter age of third person:\n",
    "    34\n",
    "    \n",
    "    Sample output:\n",
    "    Third person is the oldest."
   ]
  },
  {
   "cell_type": "code",
   "execution_count": 3,
   "metadata": {},
   "outputs": [],
   "source": [
    "# Your code goes here"
   ]
  },
  {
   "cell_type": "markdown",
   "metadata": {},
   "source": [
    "# Question 4\n",
    "\n",
    "    Write a program to print absolute vlaue of a number entered by user.\n",
    "    Sample cases:\n",
    "    INPUT: 1        OUTPUT: 1\n",
    "    INPUT: -1        OUTPUT: 1"
   ]
  },
  {
   "cell_type": "code",
   "execution_count": 4,
   "metadata": {},
   "outputs": [],
   "source": [
    "# Your code goes here"
   ]
  },
  {
   "cell_type": "markdown",
   "metadata": {},
   "source": [
    "# Question 5\n",
    "    \n",
    "    Print all elements of a list or a sequence using for loop.\n",
    "    \n",
    "    Sample Input:\n",
    "    1,2,3,4,5,6\n",
    "    \n",
    "    Sample output:\n",
    "    1\n",
    "    2\n",
    "    3\n",
    "    4\n",
    "    5\n",
    "    6"
   ]
  },
  {
   "cell_type": "code",
   "execution_count": 5,
   "metadata": {},
   "outputs": [],
   "source": [
    "# Your code goes here"
   ]
  },
  {
   "cell_type": "markdown",
   "metadata": {},
   "source": [
    "# Question 6\n",
    "\n",
    "    Using range(1,51), make two list, one containing all even numbers and other containing all odd numbers.\n",
    "    \n",
    "    Sample output:\n",
    "    Items of odd list : [1,3,5,7,..,49]\n",
    "    Items of even list : [2,4,6,..,50]"
   ]
  },
  {
   "cell_type": "code",
   "execution_count": 1,
   "metadata": {},
   "outputs": [],
   "source": [
    "# Your code goes here"
   ]
  },
  {
   "cell_type": "markdown",
   "metadata": {},
   "source": [
    "# Question 7 [Bonus]\n",
    "    \n",
    "    1- Swap two integers, using another temporary variable.\n",
    "    2- Swap two integers, using pythons swapping technique."
   ]
  },
  {
   "cell_type": "code",
   "execution_count": 2,
   "metadata": {},
   "outputs": [],
   "source": [
    "# Your code goes here"
   ]
  },
  {
   "cell_type": "code",
   "execution_count": null,
   "metadata": {},
   "outputs": [],
   "source": [
    "# 2"
   ]
  },
  {
   "cell_type": "markdown",
   "metadata": {},
   "source": [
    "# Great Job!"
   ]
  }
 ],
 "metadata": {
  "kernelspec": {
   "display_name": "Python 3",
   "language": "python",
   "name": "python3"
  },
  "language_info": {
   "codemirror_mode": {
    "name": "ipython",
    "version": 3
   },
   "file_extension": ".py",
   "mimetype": "text/x-python",
   "name": "python",
   "nbconvert_exporter": "python",
   "pygments_lexer": "ipython3",
   "version": "3.7.4"
  }
 },
 "nbformat": 4,
 "nbformat_minor": 2
}
