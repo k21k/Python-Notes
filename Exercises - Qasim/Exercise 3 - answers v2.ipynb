{
 "cells": [
  {
   "cell_type": "code",
   "execution_count": 5,
   "metadata": {},
   "outputs": [
    {
     "name": "stdout",
     "output_type": "stream",
     "text": [
      "What is your age? 21\n",
      "you are adult\n"
     ]
    }
   ],
   "source": [
    "def convertage(age = int(input(\"What is your age? \"))):\n",
    "    if age < 18:\n",
    "        return 1\n",
    "        #print(convertage)\n",
    "    elif age >= 18 and age <25:\n",
    "        return 2\n",
    "    elif age >= 25 and age <50:\n",
    "        return 3\n",
    "    elif age >= 50:\n",
    "        return 4\n",
    "    else:\n",
    "        return 5\n",
    "    \n",
    "convertage()\n",
    "                       # 5 funciton calls\n",
    "\n",
    "def agestatus():\n",
    "    if convertage() == 1:\n",
    "        print('you are young')\n",
    "    elif convertage() == 2:\n",
    "        print('you are adult')\n",
    "    elif convertage() == 3:\n",
    "        print('you are middle-aged')\n",
    "    elif convertage() == 4:\n",
    "        print('you are old')\n",
    "    else:\n",
    "        print('Invalid input. Age can not be less than zero.')\n",
    "\n",
    "agestatus()"
   ]
  },
  {
   "cell_type": "code",
   "execution_count": null,
   "metadata": {},
   "outputs": [],
   "source": []
  },
  {
   "cell_type": "code",
   "execution_count": 48,
   "metadata": {},
   "outputs": [
    {
     "name": "stdout",
     "output_type": "stream",
     "text": [
      "What is your score? 82\n"
     ]
    }
   ],
   "source": [
    "def grade(score = float(input(\"What is your score? \"))):\n",
    "    if score >= 80:\n",
    "        letter = 'A'\n",
    "    elif score >= 60:\n",
    "        letter = 'B'\n",
    "    elif score >= 50:\n",
    "        letter = 'C'\n",
    "    elif score >= 45:\n",
    "        letter = 'D'\n",
    "    elif score >= 25:\n",
    "        letter = 'E'\n",
    "    elif score < 25:\n",
    "        letter = 'F'\n",
    "    else:\n",
    "        letter = 'Invalid input'\n",
    "    return letter\n",
    "\n",
    "grade()"
   ]
  },
  {
   "cell_type": "code",
   "execution_count": 53,
   "metadata": {},
   "outputs": [
    {
     "name": "stdout",
     "output_type": "stream",
     "text": [
      "What is the first person age? 5\n",
      "What is the second person age? 2\n",
      "What is the third person age? 12\n",
      "third person is the oldest\n"
     ]
    }
   ],
   "source": [
    "def oldest():\n",
    "    if first > second and first > third:\n",
    "        print('first person is the oldest')\n",
    "    elif second > first and second > third:\n",
    "        print('second person is the oldest')\n",
    "    else:\n",
    "        print('third person is the oldest')\n",
    "\n",
    "\n",
    "first = int(input(\"What is the first person age? \"))\n",
    "second = int(input(\"What is the second person age? \"))   \n",
    "third = int(input(\"What is the third person age? \"))    \n",
    "\n",
    "oldest()\n",
    "        "
   ]
  },
  {
   "cell_type": "code",
   "execution_count": 6,
   "metadata": {},
   "outputs": [
    {
     "name": "stdout",
     "output_type": "stream",
     "text": [
      "enter your number here: -12\n"
     ]
    },
    {
     "data": {
      "text/plain": [
       "12"
      ]
     },
     "execution_count": 6,
     "metadata": {},
     "output_type": "execute_result"
    }
   ],
   "source": [
    "def absolute(num = int(input(\"enter your number here: \"))):\n",
    "    if num < 0:\n",
    "        num = num * -1\n",
    "        return num\n",
    "    else:    \n",
    "        return num\n",
    "\n",
    "    \n",
    "absolute()"
   ]
  },
  {
   "cell_type": "code",
   "execution_count": 9,
   "metadata": {},
   "outputs": [
    {
     "data": {
      "text/plain": [
       "'This is a float number : 4.00'"
      ]
     },
     "execution_count": 9,
     "metadata": {},
     "output_type": "execute_result"
    }
   ],
   "source": [
    "'This is a float number : {:.2f}'.format(4)"
   ]
  },
  {
   "cell_type": "code",
   "execution_count": 12,
   "metadata": {},
   "outputs": [
    {
     "name": "stdout",
     "output_type": "stream",
     "text": [
      "5\n",
      "6\n",
      "7\n",
      "8\n",
      "9\n"
     ]
    }
   ],
   "source": [
    "i = 5\n",
    "\n",
    "while i < 10:\n",
    "    print(i)\n",
    "    i = i + 1 # 10\n",
    "    \n",
    "# this line"
   ]
  },
  {
   "cell_type": "code",
   "execution_count": null,
   "metadata": {},
   "outputs": [],
   "source": []
  },
  {
   "cell_type": "code",
   "execution_count": 71,
   "metadata": {},
   "outputs": [
    {
     "name": "stdout",
     "output_type": "stream",
     "text": [
      "1\n",
      "2\n",
      "3\n",
      "4\n",
      "5\n",
      "6\n"
     ]
    }
   ],
   "source": [
    "sample = 1,2,3,4,5,6\n",
    "\n",
    "for x in sample:\n",
    "    print(x)\n",
    "\n",
    "\n",
    "\n"
   ]
  },
  {
   "cell_type": "code",
   "execution_count": 92,
   "metadata": {},
   "outputs": [
    {
     "name": "stdout",
     "output_type": "stream",
     "text": [
      "list of even items:\n",
      "[2, 4, 6, 8, 10, 12, 14, 16, 18, 20, 22, 24, 26, 28, 30, 32, 34, 36, 38, 40, 42, 44, 46, 48, 50]\n",
      "list of odd items:\n",
      "[1, 3, 5, 7, 9, 11, 13, 15, 17, 19, 21, 23, 25, 27, 29, 31, 33, 35, 37, 39, 41, 43, 45, 47, 49]\n"
     ]
    }
   ],
   "source": [
    "sample2 = range(1,51)\n",
    "\n",
    "print('list of even items:')\n",
    "print(list((filter(lambda x: x%2 ==0, sample2)))) \n",
    "\n",
    "print('list of odd items:') \n",
    "print(list((filter(lambda x: x%2 !=0, sample2))))\n"
   ]
  },
  {
   "cell_type": "code",
   "execution_count": null,
   "metadata": {},
   "outputs": [],
   "source": []
  }
 ],
 "metadata": {
  "kernelspec": {
   "display_name": "Python 3",
   "language": "python",
   "name": "python3"
  },
  "language_info": {
   "codemirror_mode": {
    "name": "ipython",
    "version": 3
   },
   "file_extension": ".py",
   "mimetype": "text/x-python",
   "name": "python",
   "nbconvert_exporter": "python",
   "pygments_lexer": "ipython3",
   "version": "3.7.6"
  }
 },
 "nbformat": 4,
 "nbformat_minor": 4
}
