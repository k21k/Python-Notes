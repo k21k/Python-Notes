{
 "cells": [
  {
   "cell_type": "code",
   "execution_count": 1,
   "metadata": {},
   "outputs": [],
   "source": [
    "def generate_random_key():\n",
    "    \"\"\"\n",
    "    This function generates a 3 digit random key and return it \n",
    "    \"\"\"\n",
    "    import random\n",
    "    # picks 3 digits from 0 to 10, shuffle the output\n",
    "    digits = list(range(10))\n",
    "    random.shuffle(digits)\n",
    "    key = list(digits[:3])\n",
    "    print(key)\n",
    "    return key\n",
    "\n",
    "def get_input():\n",
    "    \"\"\"\n",
    "    This function takes input from user and return it\n",
    "    \"\"\"\n",
    "    print ('-'*100)\n",
    "    guess = list(input(\"What is your guess? (enter 3 digits) \"))\n",
    "    return guess\n",
    "\n",
    "\n",
    "\n",
    "def check_key(key, guess):\n",
    "    \"\"\"\n",
    "    This function checks if the guess is right or wrong and perform action accordingly.\n",
    "    \"\"\"\n",
    "    num_try = 1\n",
    "    match = 0\n",
    "    close = 0\n",
    "    \n",
    "    while match != 3:    \n",
    "        match = 0\n",
    "        close = 0\n",
    "\n",
    "        for i in range(0, 3):\n",
    "            if (int(key[i]) - int(guess[i]) == 0):\n",
    "                match += 1\n",
    "\n",
    "        for k in range(0, 3):\n",
    "            if int(guess[k]) in key:\n",
    "                close += 1\n",
    "\n",
    "        if match == 3:\n",
    "            print ('-'*100)\n",
    "            print(\"Perfect: You have guessed all numbers and positions in \",num_try, \"attempts\")\n",
    "\n",
    "        else: \n",
    "            print(\"Match: \", match, \" correct numbers in the correct positions \")\n",
    "            print(\"Close: \", close - match, \" correct numbers, but incorrect positions \")\n",
    "\n",
    "            print ('-'*100)\n",
    "            guess = list(input(\"What is your next guess? \"))\n",
    "            num_try += 1\n",
    "        \n",
    "def play_game():\n",
    "    \"\"\"\n",
    "    This is like a driver function, in which I took returned values of generate_random_key() and \n",
    "    get_input() and passed it in the function check_key(key,guess)\n",
    "    \n",
    "    \"\"\"\n",
    "    key = generate_random_key()\n",
    "    guess = get_input()\n",
    "    \n",
    "    check_key(key, guess)"
   ]
  },
  {
   "cell_type": "code",
   "execution_count": null,
   "metadata": {},
   "outputs": [
    {
     "name": "stdout",
     "output_type": "stream",
     "text": [
      "[6, 9, 1]\n",
      "----------------------------------------------------------------------------------------------------\n"
     ]
    }
   ],
   "source": [
    "# Calling the driver function\n",
    "play_game()"
   ]
  },
  {
   "cell_type": "code",
   "execution_count": null,
   "metadata": {},
   "outputs": [],
   "source": []
  }
 ],
 "metadata": {
  "kernelspec": {
   "display_name": "Python 3",
   "language": "python",
   "name": "python3"
  },
  "language_info": {
   "codemirror_mode": {
    "name": "ipython",
    "version": 3
   },
   "file_extension": ".py",
   "mimetype": "text/x-python",
   "name": "python",
   "nbconvert_exporter": "python",
   "pygments_lexer": "ipython3",
   "version": "3.7.6"
  }
 },
 "nbformat": 4,
 "nbformat_minor": 2
}
